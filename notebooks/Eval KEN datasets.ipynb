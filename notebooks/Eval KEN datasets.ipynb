{
 "cells": [
  {
   "attachments": {},
   "cell_type": "markdown",
   "metadata": {},
   "source": [
    "# Preparing the KEN datasets"
   ]
  },
  {
   "attachments": {},
   "cell_type": "markdown",
   "metadata": {},
   "source": [
    "In this notebook I will be looking at the raw versions of the KEN datasets, then \n",
    "follow the pre-processing steps used for the KEN baseline. Note that I am using \n",
    "YAGO 2022, so that might introduce discrepancies between this and the original\n",
    "version. "
   ]
  },
  {
   "attachments": {},
   "cell_type": "markdown",
   "metadata": {},
   "source": [
    "Datasets:\n",
    "- [The Movies Dataset](https://www.kaggle.com/datasets/rounakbanik/the-movies-dataset)\n",
    "- [7+ Million Company Dataset](https://www.kaggle.com/datasets/peopledatalabssf/free-7-million-company-dataset)\n",
    "- [US Accidents (2016 - 2021)](https://www.kaggle.com/datasets/sobhanmoosavi/us-accidents)"
   ]
  },
  {
   "cell_type": "code",
   "execution_count": 3,
   "metadata": {},
   "outputs": [
    {
     "name": "stdout",
     "output_type": "stream",
     "text": [
      "/home/soda/rcappuzz/work/prepare-data-lakes\n"
     ]
    }
   ],
   "source": [
    "cd ~/work/prepare-data-lakes"
   ]
  },
  {
   "cell_type": "code",
   "execution_count": 1,
   "metadata": {},
   "outputs": [
    {
     "ename": "ModuleNotFoundError",
     "evalue": "No module named 'src'",
     "output_type": "error",
     "traceback": [
      "\u001b[0;31m---------------------------------------------------------------------------\u001b[0m",
      "\u001b[0;31mModuleNotFoundError\u001b[0m                       Traceback (most recent call last)",
      "Cell \u001b[0;32mIn[1], line 4\u001b[0m\n\u001b[1;32m      2\u001b[0m \u001b[39mimport\u001b[39;00m \u001b[39mpandas\u001b[39;00m \u001b[39mas\u001b[39;00m \u001b[39mpd\u001b[39;00m\n\u001b[1;32m      3\u001b[0m \u001b[39mfrom\u001b[39;00m \u001b[39mpathlib\u001b[39;00m \u001b[39mimport\u001b[39;00m Path\n\u001b[0;32m----> 4\u001b[0m \u001b[39mimport\u001b[39;00m \u001b[39msrc\u001b[39;00m\u001b[39m.\u001b[39;00m\u001b[39myago\u001b[39;00m\u001b[39m.\u001b[39;00m\u001b[39mutils\u001b[39;00m \u001b[39mas\u001b[39;00m \u001b[39mutils\u001b[39;00m\n",
      "\u001b[0;31mModuleNotFoundError\u001b[0m: No module named 'src'"
     ]
    }
   ],
   "source": [
    "import polars as pl\n",
    "import pandas as pd\n",
    "from pathlib import Path\n",
    "import src.yago.utils as utils\n"
   ]
  },
  {
   "cell_type": "code",
   "execution_count": 5,
   "metadata": {},
   "outputs": [],
   "source": [
    "data_dir = Path(\"data/kaggle\")"
   ]
  },
  {
   "attachments": {},
   "cell_type": "markdown",
   "metadata": {},
   "source": [
    "Loading YAGO fact triplets to drop entities not found in the KB."
   ]
  },
  {
   "cell_type": "code",
   "execution_count": 6,
   "metadata": {},
   "outputs": [],
   "source": [
    "yago_path = Path(\"/storage/store3/work/jstojano/yago3/\")\n",
    "facts_path = Path(yago_path, \"facts_parquet/yago_updated_2022_part2\")\n",
    "fname = \"yagoFacts\"\n",
    "yagofacts_path = Path(facts_path, f\"{fname}.tsv.parquet\")\n",
    "yagofacts_categorical = utils.import_from_yago(yagofacts_path, engine=\"polars\")\n",
    "fname = \"yagoLiteralFacts\"\n",
    "yagoliteralfacts_path = Path(facts_path, f\"{fname}.tsv.parquet\")\n",
    "yagofacts_numerical = utils.import_from_yago(yagoliteralfacts_path, engine=\"polars\")\n",
    "fname = \"yagoDateFacts\"\n",
    "yagodatefacts_path = Path(facts_path, f\"{fname}.tsv.parquet\")\n",
    "yagofacts_dates = utils.import_from_yago(yagodatefacts_path, engine=\"polars\")\n",
    "\n",
    "yagofacts = pl.concat(\n",
    "    [\n",
    "        yagofacts_categorical,\n",
    "        yagofacts_numerical,\n",
    "        yagofacts_dates\n",
    "    ]\n",
    ")"
   ]
  },
  {
   "attachments": {},
   "cell_type": "markdown",
   "metadata": {},
   "source": [
    "# US Accidents dataset"
   ]
  },
  {
   "attachments": {},
   "cell_type": "markdown",
   "metadata": {},
   "source": [
    "Archive `us-accidents.zip` contains the file `US_Accidents_Dec21_updated.csv`, \n",
    "which I renamed manually to `us-accidents.csv` for simplicity. \n",
    "\n",
    "I also had to copy the file `datasets/us_accidents/state_codes.csv` from the \n",
    "KEN repository for some of the steps. "
   ]
  },
  {
   "cell_type": "code",
   "execution_count": 7,
   "metadata": {},
   "outputs": [],
   "source": [
    "dataset_dir = Path(data_dir, \"us-accidents\")"
   ]
  },
  {
   "cell_type": "code",
   "execution_count": 8,
   "metadata": {},
   "outputs": [],
   "source": [
    "df = pl.read_csv(Path(dataset_dir, \"us-accidents.csv\"))\n",
    "df = df.rename({\"State\": \"Code\"})"
   ]
  },
  {
   "cell_type": "code",
   "execution_count": 9,
   "metadata": {},
   "outputs": [],
   "source": [
    "state_codes_path =  Path(dataset_dir,\"state_codes.csv\")\n",
    "state_codes = pl.read_csv(state_codes_path)\n",
    "df = df.join(\n",
    "    state_codes, on=\"Code\"\n",
    ")"
   ]
  },
  {
   "attachments": {},
   "cell_type": "markdown",
   "metadata": {},
   "source": [
    "Adding a new column, `col_to_embed`, that formats the city and state name to have\n",
    "the same format that is found in YAGO. "
   ]
  },
  {
   "cell_type": "code",
   "execution_count": 10,
   "metadata": {},
   "outputs": [],
   "source": [
    "df = df.with_columns(\n",
    "    (\"<\" + pl.col(\"City\") + \",_\"+ pl.col(\"State\") + \">\").alias(\"col_to_embed\")\n",
    ")"
   ]
  },
  {
   "attachments": {},
   "cell_type": "markdown",
   "metadata": {},
   "source": [
    "Filtering out the rows not found in `yagofacts[\"subject\"]`."
   ]
  },
  {
   "cell_type": "code",
   "execution_count": 11,
   "metadata": {},
   "outputs": [],
   "source": [
    "df_filtered=df.lazy().filter(\n",
    "    pl.col(\"col_to_embed\").is_in(\n",
    "        yagofacts[\"subject\"]\n",
    "    )\n",
    ").collect()"
   ]
  },
  {
   "attachments": {},
   "cell_type": "markdown",
   "metadata": {},
   "source": [
    "Completing the preparation by grouping the number of accidents by city, then applying the log10 to the count. This is \n",
    "the target used in KEN. \n"
   ]
  },
  {
   "cell_type": "code",
   "execution_count": 12,
   "metadata": {},
   "outputs": [],
   "source": [
    "df_counts = df_filtered.groupby(\n",
    "    [\n",
    "        \"col_to_embed\", \"City\", \"Code\"\n",
    "    ]\n",
    "    ).count()"
   ]
  },
  {
   "cell_type": "code",
   "execution_count": 13,
   "metadata": {},
   "outputs": [],
   "source": [
    "df_final = df_counts.with_columns(\n",
    "    (df_counts[\"City\"] + \", \" + df_counts[\"Code\"]).alias(\"raw_entities\") \n",
    ").select(\n",
    "    [\n",
    "        pl.col(\"raw_entities\"),\n",
    "        pl.col(\"col_to_embed\"),\n",
    "        pl.col(\"count\").alias(\"target\").log10()\n",
    "    ]\n",
    ").sort(\"raw_entities\")"
   ]
  },
  {
   "cell_type": "code",
   "execution_count": 14,
   "metadata": {},
   "outputs": [
    {
     "data": {
      "text/html": [
       "<div><style>\n",
       ".dataframe > thead > tr > th,\n",
       ".dataframe > tbody > tr > td {\n",
       "  text-align: right;\n",
       "}\n",
       "</style>\n",
       "<small>shape: (9850, 3)</small><table border=\"1\" class=\"dataframe\"><thead><tr><th>raw_entities</th><th>col_to_embed</th><th>target</th></tr><tr><td>str</td><td>str</td><td>f64</td></tr></thead><tbody><tr><td>&quot;Abbeville, AL&quot;</td><td>&quot;&lt;Abbeville,_Al…</td><td>0.778151</td></tr><tr><td>&quot;Abbeville, LA&quot;</td><td>&quot;&lt;Abbeville,_Lo…</td><td>0.0</td></tr><tr><td>&quot;Abbotsford, WI…</td><td>&quot;&lt;Abbotsford,_W…</td><td>0.954243</td></tr><tr><td>&quot;Abbottstown, P…</td><td>&quot;&lt;Abbottstown,_…</td><td>1.39794</td></tr><tr><td>&quot;Aberdeen, ID&quot;</td><td>&quot;&lt;Aberdeen,_Ida…</td><td>0.0</td></tr><tr><td>&quot;Aberdeen, MD&quot;</td><td>&quot;&lt;Aberdeen,_Mar…</td><td>2.71433</td></tr><tr><td>&quot;Aberdeen, MS&quot;</td><td>&quot;&lt;Aberdeen,_Mis…</td><td>0.477121</td></tr><tr><td>&quot;Aberdeen, OH&quot;</td><td>&quot;&lt;Aberdeen,_Ohi…</td><td>0.0</td></tr><tr><td>&quot;Aberdeen, WA&quot;</td><td>&quot;&lt;Aberdeen,_Was…</td><td>1.556303</td></tr><tr><td>&quot;Abernathy, TX&quot;</td><td>&quot;&lt;Abernathy,_Te…</td><td>0.0</td></tr><tr><td>&quot;Abilene, TX&quot;</td><td>&quot;&lt;Abilene,_Texa…</td><td>1.0</td></tr><tr><td>&quot;Abingdon, MD&quot;</td><td>&quot;&lt;Abingdon,_Mar…</td><td>2.390935</td></tr><tr><td>&hellip;</td><td>&hellip;</td><td>&hellip;</td></tr><tr><td>&quot;Zenia, CA&quot;</td><td>&quot;&lt;Zenia,_Califo…</td><td>1.20412</td></tr><tr><td>&quot;Zephyrhills, F…</td><td>&quot;&lt;Zephyrhills,_…</td><td>2.49276</td></tr><tr><td>&quot;Zieglerville, …</td><td>&quot;&lt;Zieglerville,…</td><td>1.041393</td></tr><tr><td>&quot;Zillah, WA&quot;</td><td>&quot;&lt;Zillah,_Washi…</td><td>0.60206</td></tr><tr><td>&quot;Zimmerman, MN&quot;</td><td>&quot;&lt;Zimmerman,_Mi…</td><td>2.10721</td></tr><tr><td>&quot;Zion, IL&quot;</td><td>&quot;&lt;Zion,_Illinoi…</td><td>2.605305</td></tr><tr><td>&quot;Zionsville, IN…</td><td>&quot;&lt;Zionsville,_I…</td><td>2.356026</td></tr><tr><td>&quot;Zionsville, PA…</td><td>&quot;&lt;Zionsville,_P…</td><td>0.69897</td></tr><tr><td>&quot;Zortman, MT&quot;</td><td>&quot;&lt;Zortman,_Mont…</td><td>1.113943</td></tr><tr><td>&quot;Zumbrota, MN&quot;</td><td>&quot;&lt;Zumbrota,_Min…</td><td>2.450249</td></tr><tr><td>&quot;Zuni, VA&quot;</td><td>&quot;&lt;Zuni,_Virgini…</td><td>1.255273</td></tr><tr><td>&quot;Zwingle, IA&quot;</td><td>&quot;&lt;Zwingle,_Iowa…</td><td>1.041393</td></tr></tbody></table></div>"
      ],
      "text/plain": [
       "shape: (9850, 3)\n",
       "┌─────────────────┬─────────────────────────────┬──────────┐\n",
       "│ raw_entities    ┆ col_to_embed                ┆ target   │\n",
       "│ ---             ┆ ---                         ┆ ---      │\n",
       "│ str             ┆ str                         ┆ f64      │\n",
       "╞═════════════════╪═════════════════════════════╪══════════╡\n",
       "│ Abbeville, AL   ┆ <Abbeville,_Alabama>        ┆ 0.778151 │\n",
       "│ Abbeville, LA   ┆ <Abbeville,_Louisiana>      ┆ 0.0      │\n",
       "│ Abbotsford, WI  ┆ <Abbotsford,_Wisconsin>     ┆ 0.954243 │\n",
       "│ Abbottstown, PA ┆ <Abbottstown,_Pennsylvania> ┆ 1.39794  │\n",
       "│ …               ┆ …                           ┆ …        │\n",
       "│ Zortman, MT     ┆ <Zortman,_Montana>          ┆ 1.113943 │\n",
       "│ Zumbrota, MN    ┆ <Zumbrota,_Minnesota>       ┆ 2.450249 │\n",
       "│ Zuni, VA        ┆ <Zuni,_Virginia>            ┆ 1.255273 │\n",
       "│ Zwingle, IA     ┆ <Zwingle,_Iowa>             ┆ 1.041393 │\n",
       "└─────────────────┴─────────────────────────────┴──────────┘"
      ]
     },
     "execution_count": 14,
     "metadata": {},
     "output_type": "execute_result"
    }
   ],
   "source": [
    "df_final"
   ]
  },
  {
   "cell_type": "code",
   "execution_count": 15,
   "metadata": {},
   "outputs": [],
   "source": [
    "df_final.write_parquet(Path(dataset_dir, \"us-accidents-target.parquet\"))"
   ]
  },
  {
   "attachments": {},
   "cell_type": "markdown",
   "metadata": {},
   "source": [
    "Reading original to see if the two versions look similar. "
   ]
  },
  {
   "cell_type": "code",
   "execution_count": 16,
   "metadata": {},
   "outputs": [
    {
     "data": {
      "text/html": [
       "<div><style>\n",
       ".dataframe > thead > tr > th,\n",
       ".dataframe > tbody > tr > td {\n",
       "  text-align: right;\n",
       "}\n",
       "</style>\n",
       "<small>shape: (8538, 3)</small><table border=\"1\" class=\"dataframe\"><thead><tr><th>raw_entities</th><th>col_to_embed</th><th>target</th></tr><tr><td>str</td><td>str</td><td>f64</td></tr></thead><tbody><tr><td>&quot;Aaronsburg, PA…</td><td>&quot;&lt;Aaronsburg,_P…</td><td>0.30103</td></tr><tr><td>&quot;Abbeville, LA&quot;</td><td>&quot;&lt;Abbeville,_Lo…</td><td>0.0</td></tr><tr><td>&quot;Abbotsford, WI…</td><td>&quot;&lt;Abbotsford,_W…</td><td>0.954243</td></tr><tr><td>&quot;Abbottstown, P…</td><td>&quot;&lt;Abbottstown,_…</td><td>1.041393</td></tr><tr><td>&quot;Aberdeen, MD&quot;</td><td>&quot;&lt;Aberdeen,_Mar…</td><td>2.396199</td></tr><tr><td>&quot;Aberdeen, MS&quot;</td><td>&quot;&lt;Aberdeen,_Mis…</td><td>0.477121</td></tr><tr><td>&quot;Aberdeen, OH&quot;</td><td>&quot;&lt;Aberdeen,_Ohi…</td><td>0.0</td></tr><tr><td>&quot;Aberdeen, WA&quot;</td><td>&quot;&lt;Aberdeen,_Was…</td><td>1.342423</td></tr><tr><td>&quot;Abernathy, TX&quot;</td><td>&quot;&lt;Abernathy,_Te…</td><td>0.0</td></tr><tr><td>&quot;Abilene, TX&quot;</td><td>&quot;&lt;Abilene,_Texa…</td><td>1.0</td></tr><tr><td>&quot;Abingdon, MD&quot;</td><td>&quot;&lt;Abingdon,_Mar…</td><td>2.136721</td></tr><tr><td>&quot;Abingdon, VA&quot;</td><td>&quot;&lt;Abingdon,_Vir…</td><td>2.064458</td></tr><tr><td>&hellip;</td><td>&hellip;</td><td>&hellip;</td></tr><tr><td>&quot;Zeeland, MI&quot;</td><td>&quot;&lt;Zeeland,_Mich…</td><td>1.662758</td></tr><tr><td>&quot;Zelienople, PA…</td><td>&quot;&lt;Zelienople,_P…</td><td>1.079181</td></tr><tr><td>&quot;Zellwood, FL&quot;</td><td>&quot;&lt;Zellwood,_Flo…</td><td>1.591065</td></tr><tr><td>&quot;Zephyrhills, F…</td><td>&quot;&lt;Zephyrhills,_…</td><td>2.08636</td></tr><tr><td>&quot;Zillah, WA&quot;</td><td>&quot;&lt;Zillah,_Washi…</td><td>0.60206</td></tr><tr><td>&quot;Zimmerman, MN&quot;</td><td>&quot;&lt;Zimmerman,_Mi…</td><td>1.812913</td></tr><tr><td>&quot;Zion, IL&quot;</td><td>&quot;&lt;Zion,_Illinoi…</td><td>2.50515</td></tr><tr><td>&quot;Zionsville, IN…</td><td>&quot;&lt;Zionsville,_I…</td><td>2.190332</td></tr><tr><td>&quot;Zionsville, PA…</td><td>&quot;&lt;Zionsville,_P…</td><td>0.0</td></tr><tr><td>&quot;Zumbrota, MN&quot;</td><td>&quot;&lt;Zumbrota,_Min…</td><td>2.193125</td></tr><tr><td>&quot;Zuni, VA&quot;</td><td>&quot;&lt;Zuni,_Virgini…</td><td>1.079181</td></tr><tr><td>&quot;Zwingle, IA&quot;</td><td>&quot;&lt;Zwingle,_Iowa…</td><td>0.60206</td></tr></tbody></table></div>"
      ],
      "text/plain": [
       "shape: (8538, 3)\n",
       "┌─────────────────┬─────────────────────────────┬──────────┐\n",
       "│ raw_entities    ┆ col_to_embed                ┆ target   │\n",
       "│ ---             ┆ ---                         ┆ ---      │\n",
       "│ str             ┆ str                         ┆ f64      │\n",
       "╞═════════════════╪═════════════════════════════╪══════════╡\n",
       "│ Aaronsburg, PA  ┆ <Aaronsburg,_Pennsylvania>  ┆ 0.30103  │\n",
       "│ Abbeville, LA   ┆ <Abbeville,_Louisiana>      ┆ 0.0      │\n",
       "│ Abbotsford, WI  ┆ <Abbotsford,_Wisconsin>     ┆ 0.954243 │\n",
       "│ Abbottstown, PA ┆ <Abbottstown,_Pennsylvania> ┆ 1.041393 │\n",
       "│ …               ┆ …                           ┆ …        │\n",
       "│ Zionsville, PA  ┆ <Zionsville,_Pennsylvania>  ┆ 0.0      │\n",
       "│ Zumbrota, MN    ┆ <Zumbrota,_Minnesota>       ┆ 2.193125 │\n",
       "│ Zuni, VA        ┆ <Zuni,_Virginia>            ┆ 1.079181 │\n",
       "│ Zwingle, IA     ┆ <Zwingle,_Iowa>             ┆ 0.60206  │\n",
       "└─────────────────┴─────────────────────────────┴──────────┘"
      ]
     },
     "execution_count": 16,
     "metadata": {},
     "output_type": "execute_result"
    }
   ],
   "source": [
    "path_original=Path(\"/storage/store3/work/acvetkov/gitlab/KEN/experiments/datasets/us_accidents/counts.parquet\")\n",
    "df_counts_og = pl.read_parquet(path_original)\n",
    "df_counts_og"
   ]
  },
  {
   "attachments": {},
   "cell_type": "markdown",
   "metadata": {},
   "source": [
    "As expected, the number of entities in the original file is smaller. "
   ]
  },
  {
   "attachments": {},
   "cell_type": "markdown",
   "metadata": {},
   "source": [
    "# Company Employees Dataset"
   ]
  },
  {
   "cell_type": "code",
   "execution_count": 17,
   "metadata": {},
   "outputs": [],
   "source": [
    "dataset_dir = Path(data_dir, \"company-employees\")"
   ]
  },
  {
   "cell_type": "code",
   "execution_count": 18,
   "metadata": {},
   "outputs": [],
   "source": [
    "df = pl.read_csv(Path(dataset_dir, \"companies_sorted.csv\"))\n",
    "df_selected = df.filter(\n",
    "    pl.col(\"current employee estimate\") >= 1000\n",
    ")"
   ]
  },
  {
   "attachments": {},
   "cell_type": "markdown",
   "metadata": {},
   "source": [
    "I am using a slightly different euristic compared to what Alexis was using. "
   ]
  },
  {
   "cell_type": "markdown",
   "metadata": {},
   "source": [
    "Adding a new column to `yagofacts` with lowercased subjects. "
   ]
  },
  {
   "cell_type": "code",
   "execution_count": 19,
   "metadata": {},
   "outputs": [],
   "source": [
    "yagofacts = yagofacts.with_columns(\n",
    "    pl.col(\"subject\").str.to_lowercase().alias(\"subject_formatted\")\n",
    ")"
   ]
  },
  {
   "cell_type": "code",
   "execution_count": 20,
   "metadata": {},
   "outputs": [],
   "source": [
    "df_filtered=df_selected.lazy().with_columns(\n",
    "    (\"<\" + pl.col(\"name\").str.to_lowercase().str.replace(\" \", \"_\") + \">\").alias(\"formatted_name\")\n",
    ").filter(\n",
    "    pl.col(\"formatted_name\").is_in(yagofacts[\"subject_formatted\"])\n",
    ").collect()"
   ]
  },
  {
   "attachments": {},
   "cell_type": "markdown",
   "metadata": {},
   "source": [
    "Here I am preparing a mapping between the name in the original dataset and the match found in YAGO.\n",
    "Note that there is a relatively low recall, though it is higher than what is used in the original. "
   ]
  },
  {
   "cell_type": "code",
   "execution_count": 21,
   "metadata": {},
   "outputs": [],
   "source": [
    "mapping_name_subject = df_filtered.lazy().join(\n",
    "    yagofacts.lazy(),\n",
    "    left_on=\"formatted_name\",\n",
    "    right_on=\"subject_formatted\"\n",
    ").select(\n",
    "    [\n",
    "        pl.col(\"name\"),\n",
    "        pl.col(\"formatted_name\"),\n",
    "        pl.col(\"subject\")\n",
    "    ]\n",
    ").unique().collect()\n"
   ]
  },
  {
   "attachments": {},
   "cell_type": "markdown",
   "metadata": {},
   "source": [
    "Joining on with the mapping on `formatted_name` to guarantee that col `col_to_embed` uses the same format (and \n",
    "capitalization) used in YAGO. "
   ]
  },
  {
   "cell_type": "code",
   "execution_count": 22,
   "metadata": {},
   "outputs": [],
   "source": [
    "df_final = df_filtered.join(\n",
    "    mapping_name_subject, on=\"formatted_name\"\n",
    ").select(\n",
    "    [\n",
    "        pl.col(\"name\").alias(\"raw_entities\"),\n",
    "        pl.col(\"subject\").alias(\"col_to_embed\"),\n",
    "        pl.col(\"current employee estimate\").alias(\"target\").log10()\n",
    "    ]\n",
    ")\n",
    "\n",
    "df_final.write_parquet(Path(dataset_dir, \"company-employees-target.parquet\"))"
   ]
  },
  {
   "cell_type": "code",
   "execution_count": 23,
   "metadata": {},
   "outputs": [
    {
     "data": {
      "text/html": [
       "<div><style>\n",
       ".dataframe > thead > tr > th,\n",
       ".dataframe > tbody > tr > td {\n",
       "  text-align: right;\n",
       "}\n",
       "</style>\n",
       "<small>shape: (3033, 3)</small><table border=\"1\" class=\"dataframe\"><thead><tr><th>raw_entities</th><th>col_to_embed</th><th>target</th></tr><tr><td>str</td><td>str</td><td>f64</td></tr></thead><tbody><tr><td>&quot;ibm&quot;</td><td>&quot;&lt;IBM&gt;&quot;</td><td>5.437825</td></tr><tr><td>&quot;accenture&quot;</td><td>&quot;&lt;Accenture&gt;&quot;</td><td>5.280326</td></tr><tr><td>&quot;hewlett-packar…</td><td>&quot;&lt;Hewlett-Packa…</td><td>5.107047</td></tr><tr><td>&quot;walmart&quot;</td><td>&quot;&lt;Walmart&gt;&quot;</td><td>5.081898</td></tr><tr><td>&quot;microsoft&quot;</td><td>&quot;&lt;Microsoft&gt;&quot;</td><td>5.065191</td></tr><tr><td>&quot;at&amp;t&quot;</td><td>&quot;&lt;AT&amp;T&gt;&quot;</td><td>5.061407</td></tr><tr><td>&quot;wells fargo&quot;</td><td>&quot;&lt;Wells_Fargo&gt;&quot;</td><td>5.039541</td></tr><tr><td>&quot;infosys&quot;</td><td>&quot;&lt;Infosys&gt;&quot;</td><td>5.020162</td></tr><tr><td>&quot;deloitte&quot;</td><td>&quot;&lt;Deloitte&gt;&quot;</td><td>5.017501</td></tr><tr><td>&quot;nokia&quot;</td><td>&quot;&lt;Nokia&gt;&quot;</td><td>4.925967</td></tr><tr><td>&quot;capgemini&quot;</td><td>&quot;&lt;Capgemini&gt;&quot;</td><td>4.925204</td></tr><tr><td>&quot;hsbc&quot;</td><td>&quot;&lt;HSBC&gt;&quot;</td><td>4.878752</td></tr><tr><td>&hellip;</td><td>&hellip;</td><td>&hellip;</td></tr><tr><td>&quot;vilnius univer…</td><td>&quot;&lt;Vilnius_Unive…</td><td>3.002598</td></tr><tr><td>&quot;moody&#x27;s corpor…</td><td>&quot;&lt;Moody&#x27;s_Corpo…</td><td>3.002598</td></tr><tr><td>&quot;air europa&quot;</td><td>&quot;&lt;Air_Europa&gt;&quot;</td><td>3.002166</td></tr><tr><td>&quot;providence col…</td><td>&quot;&lt;Providence_Co…</td><td>3.002166</td></tr><tr><td>&quot;appdynamics&quot;</td><td>&quot;&lt;AppDynamics&gt;&quot;</td><td>3.002166</td></tr><tr><td>&quot;qihoo 360&quot;</td><td>&quot;&lt;Qihoo_360&gt;&quot;</td><td>3.002166</td></tr><tr><td>&quot;hubbell incorp…</td><td>&quot;&lt;Hubbell_Incor…</td><td>3.001301</td></tr><tr><td>&quot;revenu québec&quot;</td><td>&quot;&lt;Revenu_Québec…</td><td>3.000868</td></tr><tr><td>&quot;jagiellonian u…</td><td>&quot;&lt;Jagiellonian_…</td><td>3.000434</td></tr><tr><td>&quot;becu&quot;</td><td>&quot;&lt;BECU&gt;&quot;</td><td>3.0</td></tr><tr><td>&quot;sta travel&quot;</td><td>&quot;&lt;STA_Travel&gt;&quot;</td><td>3.0</td></tr><tr><td>&quot;megacable&quot;</td><td>&quot;&lt;Megacable&gt;&quot;</td><td>3.0</td></tr></tbody></table></div>"
      ],
      "text/plain": [
       "shape: (3033, 3)\n",
       "┌─────────────────────────┬───────────────────────────┬──────────┐\n",
       "│ raw_entities            ┆ col_to_embed              ┆ target   │\n",
       "│ ---                     ┆ ---                       ┆ ---      │\n",
       "│ str                     ┆ str                       ┆ f64      │\n",
       "╞═════════════════════════╪═══════════════════════════╪══════════╡\n",
       "│ ibm                     ┆ <IBM>                     ┆ 5.437825 │\n",
       "│ accenture               ┆ <Accenture>               ┆ 5.280326 │\n",
       "│ hewlett-packard         ┆ <Hewlett-Packard>         ┆ 5.107047 │\n",
       "│ walmart                 ┆ <Walmart>                 ┆ 5.081898 │\n",
       "│ …                       ┆ …                         ┆ …        │\n",
       "│ jagiellonian university ┆ <Jagiellonian_University> ┆ 3.000434 │\n",
       "│ becu                    ┆ <BECU>                    ┆ 3.0      │\n",
       "│ sta travel              ┆ <STA_Travel>              ┆ 3.0      │\n",
       "│ megacable               ┆ <Megacable>               ┆ 3.0      │\n",
       "└─────────────────────────┴───────────────────────────┴──────────┘"
      ]
     },
     "execution_count": 23,
     "metadata": {},
     "output_type": "execute_result"
    }
   ],
   "source": [
    "df_final"
   ]
  },
  {
   "cell_type": "code",
   "execution_count": 24,
   "metadata": {},
   "outputs": [
    {
     "data": {
      "text/html": [
       "<div><style>\n",
       ".dataframe > thead > tr > th,\n",
       ".dataframe > tbody > tr > td {\n",
       "  text-align: right;\n",
       "}\n",
       "</style>\n",
       "<small>shape: (3042, 3)</small><table border=\"1\" class=\"dataframe\"><thead><tr><th>raw_entities</th><th>col_to_embed</th><th>target</th></tr><tr><td>str</td><td>str</td><td>f64</td></tr></thead><tbody><tr><td>&quot;accenture&quot;</td><td>&quot;&lt;Accenture&gt;&quot;</td><td>5.280326</td></tr><tr><td>&quot;walmart&quot;</td><td>&quot;&lt;Walmart&gt;&quot;</td><td>5.081898</td></tr><tr><td>&quot;microsoft&quot;</td><td>&quot;&lt;Microsoft&gt;&quot;</td><td>5.065191</td></tr><tr><td>&quot;infosys&quot;</td><td>&quot;&lt;Infosys&gt;&quot;</td><td>5.020162</td></tr><tr><td>&quot;deloitte&quot;</td><td>&quot;&lt;Deloitte&gt;&quot;</td><td>5.017501</td></tr><tr><td>&quot;nokia&quot;</td><td>&quot;&lt;Nokia&gt;&quot;</td><td>4.925967</td></tr><tr><td>&quot;capgemini&quot;</td><td>&quot;&lt;Capgemini&gt;&quot;</td><td>4.925204</td></tr><tr><td>&quot;google&quot;</td><td>&quot;&lt;Google&gt;&quot;</td><td>4.875692</td></tr><tr><td>&quot;ericsson&quot;</td><td>&quot;&lt;Ericsson&gt;&quot;</td><td>4.830537</td></tr><tr><td>&quot;boeing&quot;</td><td>&quot;&lt;Boeing&gt;&quot;</td><td>4.827763</td></tr><tr><td>&quot;vodafone&quot;</td><td>&quot;&lt;Vodafone&gt;&quot;</td><td>4.823683</td></tr><tr><td>&quot;pfizer&quot;</td><td>&quot;&lt;Pfizer&gt;&quot;</td><td>4.775159</td></tr><tr><td>&hellip;</td><td>&hellip;</td><td>&hellip;</td></tr><tr><td>&quot;kfc&quot;</td><td>&quot;&lt;KFC&gt;&quot;</td><td>3.081347</td></tr><tr><td>&quot;fifa&quot;</td><td>&quot;&lt;FIFA&gt;&quot;</td><td>3.075547</td></tr><tr><td>&quot;yit&quot;</td><td>&quot;&lt;YIT&gt;&quot;</td><td>3.068186</td></tr><tr><td>&quot;kplc&quot;</td><td>&quot;&lt;KPLC&gt;&quot;</td><td>3.064458</td></tr><tr><td>&quot;nbty&quot;</td><td>&quot;&lt;NBTY&gt;&quot;</td><td>3.061829</td></tr><tr><td>&quot;tdk&quot;</td><td>&quot;&lt;TDK&gt;&quot;</td><td>3.049993</td></tr><tr><td>&quot;vtb&quot;</td><td>&quot;&lt;VTB&gt;&quot;</td><td>3.043755</td></tr><tr><td>&quot;zdf&quot;</td><td>&quot;&lt;ZDF&gt;&quot;</td><td>3.0306</td></tr><tr><td>&quot;xml&quot;</td><td>&quot;&lt;XML&gt;&quot;</td><td>3.022841</td></tr><tr><td>&quot;posco&quot;</td><td>&quot;&lt;POSCO&gt;&quot;</td><td>3.006894</td></tr><tr><td>&quot;oncf&quot;</td><td>&quot;&lt;ONCF&gt;&quot;</td><td>3.006466</td></tr><tr><td>&quot;becu&quot;</td><td>&quot;&lt;BECU&gt;&quot;</td><td>3.0</td></tr></tbody></table></div>"
      ],
      "text/plain": [
       "shape: (3042, 3)\n",
       "┌──────────────┬──────────────┬──────────┐\n",
       "│ raw_entities ┆ col_to_embed ┆ target   │\n",
       "│ ---          ┆ ---          ┆ ---      │\n",
       "│ str          ┆ str          ┆ f64      │\n",
       "╞══════════════╪══════════════╪══════════╡\n",
       "│ accenture    ┆ <Accenture>  ┆ 5.280326 │\n",
       "│ walmart      ┆ <Walmart>    ┆ 5.081898 │\n",
       "│ microsoft    ┆ <Microsoft>  ┆ 5.065191 │\n",
       "│ infosys      ┆ <Infosys>    ┆ 5.020162 │\n",
       "│ …            ┆ …            ┆ …        │\n",
       "│ xml          ┆ <XML>        ┆ 3.022841 │\n",
       "│ posco        ┆ <POSCO>      ┆ 3.006894 │\n",
       "│ oncf         ┆ <ONCF>       ┆ 3.006466 │\n",
       "│ becu         ┆ <BECU>       ┆ 3.0      │\n",
       "└──────────────┴──────────────┴──────────┘"
      ]
     },
     "execution_count": 24,
     "metadata": {},
     "output_type": "execute_result"
    }
   ],
   "source": [
    "path_original=Path(\"/storage/store3/work/acvetkov/gitlab/KEN/experiments/datasets/company_employees/target.parquet\")\n",
    "df_target_og = pl.read_parquet(path_original)\n",
    "df_target_og"
   ]
  },
  {
   "attachments": {},
   "cell_type": "markdown",
   "metadata": {},
   "source": [
    "Here I am checking which values in `col_to_embed` are not found in `yagofacts[\"subject\"]`. These companies are missing \n",
    "because the name of the company is not the same in the original dataset and in YAGO. "
   ]
  },
  {
   "cell_type": "code",
   "execution_count": 25,
   "metadata": {},
   "outputs": [
    {
     "data": {
      "text/html": [
       "<div><style>\n",
       ".dataframe > thead > tr > th,\n",
       ".dataframe > tbody > tr > td {\n",
       "  text-align: right;\n",
       "}\n",
       "</style>\n",
       "<small>shape: (327, 3)</small><table border=\"1\" class=\"dataframe\"><thead><tr><th>raw_entities</th><th>col_to_embed</th><th>target</th></tr><tr><td>str</td><td>str</td><td>f64</td></tr></thead><tbody><tr><td>&quot;raytheon&quot;</td><td>&quot;&lt;Raytheon&gt;&quot;</td><td>4.375353</td></tr><tr><td>&quot;thales&quot;</td><td>&quot;&lt;Thales&gt;&quot;</td><td>4.321868</td></tr><tr><td>&quot;herbalife&quot;</td><td>&quot;&lt;Herbalife&gt;&quot;</td><td>4.289433</td></tr><tr><td>&quot;flextronics&quot;</td><td>&quot;&lt;Flextronics&gt;&quot;</td><td>4.279644</td></tr><tr><td>&quot;adecco&quot;</td><td>&quot;&lt;Adecco&gt;&quot;</td><td>4.160799</td></tr><tr><td>&quot;altran&quot;</td><td>&quot;&lt;Altran&gt;&quot;</td><td>4.090187</td></tr><tr><td>&quot;statoil&quot;</td><td>&quot;&lt;Statoil&gt;&quot;</td><td>4.081563</td></tr><tr><td>&quot;symantec&quot;</td><td>&quot;&lt;Symantec&gt;&quot;</td><td>4.034628</td></tr><tr><td>&quot;syntel&quot;</td><td>&quot;&lt;Syntel&gt;&quot;</td><td>3.994229</td></tr><tr><td>&quot;arup&quot;</td><td>&quot;&lt;Arup&gt;&quot;</td><td>3.98304</td></tr><tr><td>&quot;natura&quot;</td><td>&quot;&lt;Natura&gt;&quot;</td><td>3.972295</td></tr><tr><td>&quot;tieto&quot;</td><td>&quot;&lt;Tieto&gt;&quot;</td><td>3.93922</td></tr><tr><td>&hellip;</td><td>&hellip;</td><td>&hellip;</td></tr><tr><td>&quot;itv&quot;</td><td>&quot;&lt;ITV&gt;&quot;</td><td>3.562174</td></tr><tr><td>&quot;nasdaq&quot;</td><td>&quot;&lt;NASDAQ&gt;&quot;</td><td>3.482588</td></tr><tr><td>&quot;aselsan&quot;</td><td>&quot;&lt;ASELSAN&gt;&quot;</td><td>3.397071</td></tr><tr><td>&quot;meditech&quot;</td><td>&quot;&lt;MEDITECH&gt;&quot;</td><td>3.329194</td></tr><tr><td>&quot;jysk&quot;</td><td>&quot;&lt;JYSK&gt;&quot;</td><td>3.256477</td></tr><tr><td>&quot;sabb&quot;</td><td>&quot;&lt;SABB&gt;&quot;</td><td>3.190051</td></tr><tr><td>&quot;sagemcom&quot;</td><td>&quot;&lt;SAGEMCOM&gt;&quot;</td><td>3.155943</td></tr><tr><td>&quot;chesf&quot;</td><td>&quot;&lt;CHESF&gt;&quot;</td><td>3.150142</td></tr><tr><td>&quot;oneok&quot;</td><td>&quot;&lt;ONEOK&gt;&quot;</td><td>3.134177</td></tr><tr><td>&quot;trt&quot;</td><td>&quot;&lt;TRT&gt;&quot;</td><td>3.117271</td></tr><tr><td>&quot;nbty&quot;</td><td>&quot;&lt;NBTY&gt;&quot;</td><td>3.061829</td></tr><tr><td>&quot;vtb&quot;</td><td>&quot;&lt;VTB&gt;&quot;</td><td>3.043755</td></tr></tbody></table></div>"
      ],
      "text/plain": [
       "shape: (327, 3)\n",
       "┌──────────────┬───────────────┬──────────┐\n",
       "│ raw_entities ┆ col_to_embed  ┆ target   │\n",
       "│ ---          ┆ ---           ┆ ---      │\n",
       "│ str          ┆ str           ┆ f64      │\n",
       "╞══════════════╪═══════════════╪══════════╡\n",
       "│ raytheon     ┆ <Raytheon>    ┆ 4.375353 │\n",
       "│ thales       ┆ <Thales>      ┆ 4.321868 │\n",
       "│ herbalife    ┆ <Herbalife>   ┆ 4.289433 │\n",
       "│ flextronics  ┆ <Flextronics> ┆ 4.279644 │\n",
       "│ …            ┆ …             ┆ …        │\n",
       "│ oneok        ┆ <ONEOK>       ┆ 3.134177 │\n",
       "│ trt          ┆ <TRT>         ┆ 3.117271 │\n",
       "│ nbty         ┆ <NBTY>        ┆ 3.061829 │\n",
       "│ vtb          ┆ <VTB>         ┆ 3.043755 │\n",
       "└──────────────┴───────────────┴──────────┘"
      ]
     },
     "execution_count": 25,
     "metadata": {},
     "output_type": "execute_result"
    }
   ],
   "source": [
    "df_target_og.filter(\n",
    "    ~pl.col(\"col_to_embed\").is_in(yagofacts[\"subject\"])\n",
    ")"
   ]
  },
  {
   "cell_type": "markdown",
   "metadata": {},
   "source": [
    "# The Movies Dataset"
   ]
  },
  {
   "cell_type": "code",
   "execution_count": 26,
   "metadata": {},
   "outputs": [],
   "source": [
    "dataset_dir = Path(data_dir, \"the-movies-dataset\")\n",
    "df = pl.read_csv(Path(dataset_dir, \"movies_metadata.csv\"), infer_schema_length=0)\n"
   ]
  },
  {
   "attachments": {},
   "cell_type": "markdown",
   "metadata": {},
   "source": [
    "The target variable is the revenue, so movies with revenue 0 are dropped. I am also reformatting the release date for creating the title mappings."
   ]
  },
  {
   "cell_type": "code",
   "execution_count": 27,
   "metadata": {},
   "outputs": [],
   "source": [
    "# Filtering\n",
    "df_filtered = df.filter(\n",
    "    pl.col(\"revenue\").cast(int) > 0\n",
    ").with_columns(\n",
    "    (pl.col(\"release_date\").str.slice(0, 4)).alias(\"release_date\")\n",
    ")"
   ]
  },
  {
   "attachments": {},
   "cell_type": "markdown",
   "metadata": {},
   "source": [
    "`title` and `release_date` together should approximate a unique key quite well: I am looking to see whether this is the case or not. "
   ]
  },
  {
   "cell_type": "code",
   "execution_count": 68,
   "metadata": {},
   "outputs": [
    {
     "data": {
      "text/html": [
       "<div><style>\n",
       ".dataframe > thead > tr > th,\n",
       ".dataframe > tbody > tr > td {\n",
       "  text-align: right;\n",
       "}\n",
       "</style>\n",
       "<small>shape: (7398, 3)</small><table border=\"1\" class=\"dataframe\"><thead><tr><th>title</th><th>release_date</th><th>count</th></tr><tr><td>str</td><td>str</td><td>u32</td></tr></thead><tbody><tr><td>&quot;A Farewell to …</td><td>&quot;1932&quot;</td><td>2</td></tr><tr><td>&quot;Confessions of…</td><td>&quot;2002&quot;</td><td>2</td></tr><tr><td>&quot;Black Gold&quot;</td><td>&quot;2011&quot;</td><td>2</td></tr><tr><td>&quot;Force Majeure&quot;</td><td>&quot;2014&quot;</td><td>2</td></tr><tr><td>&quot;Camille Claude…</td><td>&quot;2013&quot;</td><td>2</td></tr><tr><td>&quot;Pokémon 4Ever:…</td><td>&quot;2001&quot;</td><td>2</td></tr><tr><td>&quot;Le Samouraï&quot;</td><td>&quot;1967&quot;</td><td>2</td></tr><tr><td>&quot;Clockstoppers&quot;</td><td>&quot;2002&quot;</td><td>2</td></tr><tr><td>&quot;Pokémon: Spell…</td><td>&quot;2000&quot;</td><td>2</td></tr><tr><td>&quot;The Congress&quot;</td><td>&quot;2013&quot;</td><td>2</td></tr><tr><td>&quot;The Piano&quot;</td><td>&quot;1993&quot;</td><td>1</td></tr><tr><td>&quot;Escape to Witc…</td><td>&quot;1975&quot;</td><td>1</td></tr><tr><td>&hellip;</td><td>&hellip;</td><td>&hellip;</td></tr><tr><td>&quot;Predators&quot;</td><td>&quot;2010&quot;</td><td>1</td></tr><tr><td>&quot;Invisible Agen…</td><td>&quot;1942&quot;</td><td>1</td></tr><tr><td>&quot;Bran Nue Dae&quot;</td><td>&quot;2009&quot;</td><td>1</td></tr><tr><td>&quot;Mao&#x27;s Last Dan…</td><td>&quot;2009&quot;</td><td>1</td></tr><tr><td>&quot;John Carter&quot;</td><td>&quot;2012&quot;</td><td>1</td></tr><tr><td>&quot;The Pirates! I…</td><td>&quot;2012&quot;</td><td>1</td></tr><tr><td>&quot;Upstream Color…</td><td>&quot;2013&quot;</td><td>1</td></tr><tr><td>&quot;Nursery Univer…</td><td>&quot;2009&quot;</td><td>1</td></tr><tr><td>&quot;Austenland&quot;</td><td>&quot;2013&quot;</td><td>1</td></tr><tr><td>&quot;The Legend of …</td><td>&quot;2014&quot;</td><td>1</td></tr><tr><td>&quot;CBGB&quot;</td><td>&quot;2013&quot;</td><td>1</td></tr><tr><td>&quot;The Perez Fami…</td><td>&quot;1995&quot;</td><td>1</td></tr></tbody></table></div>"
      ],
      "text/plain": [
       "shape: (7398, 3)\n",
       "┌─────────────────────────────────┬──────────────┬───────┐\n",
       "│ title                           ┆ release_date ┆ count │\n",
       "│ ---                             ┆ ---          ┆ ---   │\n",
       "│ str                             ┆ str          ┆ u32   │\n",
       "╞═════════════════════════════════╪══════════════╪═══════╡\n",
       "│ A Farewell to Arms              ┆ 1932         ┆ 2     │\n",
       "│ Confessions of a Dangerous Mind ┆ 2002         ┆ 2     │\n",
       "│ Black Gold                      ┆ 2011         ┆ 2     │\n",
       "│ Force Majeure                   ┆ 2014         ┆ 2     │\n",
       "│ …                               ┆ …            ┆ …     │\n",
       "│ Austenland                      ┆ 2013         ┆ 1     │\n",
       "│ The Legend of Hercules          ┆ 2014         ┆ 1     │\n",
       "│ CBGB                            ┆ 2013         ┆ 1     │\n",
       "│ The Perez Family                ┆ 1995         ┆ 1     │\n",
       "└─────────────────────────────────┴──────────────┴───────┘"
      ]
     },
     "execution_count": 68,
     "metadata": {},
     "output_type": "execute_result"
    }
   ],
   "source": [
    "df_filtered.groupby([\"title\", \"release_date\"]).count().sort(\"count\",descending=True)"
   ]
  },
  {
   "cell_type": "code",
   "execution_count": 69,
   "metadata": {},
   "outputs": [],
   "source": [
    "# Prepare 3 different mappings, to try and cover as many cases as possible\n",
    "mapping_to_yago = df_filtered.select([pl.col(\"title\"), pl.col(\"release_date\"), pl.col(\"revenue\")])\n",
    "\n",
    "mapping_to_yago=mapping_to_yago.with_columns(\n",
    "    [\n",
    "        (\"<\" + pl.col(\"title\").str.replace(\" \", \"_\") + \">\").alias(\"title_format_1\"),\n",
    "        (\"<\" + pl.col(\"title\").str.replace(\" \", \"_\") + \"_(film)>\").alias(\"title_format_2\"),\n",
    "        (\"<\" + pl.col(\"title\").str.replace(\" \", \"_\") +  \"_(\" + pl.col(\"release_date\") + \"_film)>\").alias(\"title_format_3\"),\n",
    "        pl.Series(list(range(len(mapping_to_yago)))).alias(\"index\")\n",
    "    ]\n",
    ")"
   ]
  },
  {
   "attachments": {},
   "cell_type": "markdown",
   "metadata": {},
   "source": [
    "Here I am looking for movies that are present in YAGO according to one of the three formats defined above. \n",
    "\n",
    "I also reformat the output to reflect the \"target dataset\" schema. "
   ]
  },
  {
   "cell_type": "code",
   "execution_count": 54,
   "metadata": {},
   "outputs": [],
   "source": [
    "tgt_indices = []\n",
    "selected = []\n",
    "for jj in [3,2,1]:\n",
    "    g1 = mapping_to_yago.filter(\n",
    "        (pl.col(f\"title_format_{jj}\").is_in(yagofacts[\"subject\"])) & \n",
    "        (~pl.col(f\"index\").is_in(tgt_indices))\n",
    "    ).select(pl.col(\"index\"))\n",
    "\n",
    "    tgt_indices=g1[\"index\"].to_list()\n",
    "    \n",
    "    newdf = mapping_to_yago.filter(\n",
    "        pl.col(\"index\").is_in(tgt_indices)\n",
    "    ).select(\n",
    "        [\n",
    "            pl.col(\"title\"),\n",
    "            pl.col(f\"title_format_{jj}\").alias(\"col_to_embed\"),\n",
    "            pl.col(\"revenue\").log10(),\n",
    "        ]\n",
    "    )\n",
    "    selected.append(newdf)\n",
    "\n",
    "df_final=pl.concat(selected)\n",
    "df_final.write_parquet(Path(dataset_dir, \"movie-revenues-target.parquet\"))"
   ]
  },
  {
   "attachments": {},
   "cell_type": "markdown",
   "metadata": {},
   "source": [
    "Now I am loading the target dataset that was prepared for KEN and compare it to what I have. "
   ]
  },
  {
   "cell_type": "code",
   "execution_count": 71,
   "metadata": {},
   "outputs": [
    {
     "data": {
      "text/html": [
       "<div><style>\n",
       ".dataframe > thead > tr > th,\n",
       ".dataframe > tbody > tr > td {\n",
       "  text-align: right;\n",
       "}\n",
       "</style>\n",
       "<small>shape: (4923, 3)</small><table border=\"1\" class=\"dataframe\"><thead><tr><th>raw_entities</th><th>col_to_embed</th><th>target</th></tr><tr><td>str</td><td>str</td><td>f64</td></tr></thead><tbody><tr><td>&quot;Heat&quot;</td><td>&quot;&lt;Heat_(1995_fi…</td><td>8.272855</td></tr><tr><td>&quot;Sudden Death&quot;</td><td>&quot;&lt;Sudden_Death_…</td><td>7.80855</td></tr><tr><td>&quot;Cry, the Belov…</td><td>&quot;&lt;Cry,_the_Belo…</td><td>5.830284</td></tr><tr><td>&quot;Pocahontas&quot;</td><td>&quot;&lt;Pocahontas_(1…</td><td>8.539176</td></tr><tr><td>&quot;Friday&quot;</td><td>&quot;&lt;Friday_(1995_…</td><td>7.450494</td></tr><tr><td>&quot;Fair Game&quot;</td><td>&quot;&lt;Fair_Game_(19…</td><td>7.061998</td></tr><tr><td>&quot;Bed of Roses&quot;</td><td>&quot;&lt;Bed_of_Roses_…</td><td>7.279455</td></tr><tr><td>&quot;Screamers&quot;</td><td>&quot;&lt;Screamers_(19…</td><td>6.762069</td></tr><tr><td>&quot;Black Sheep&quot;</td><td>&quot;&lt;Black_Sheep_(…</td><td>1.50515</td></tr><tr><td>&quot;Broken Arrow&quot;</td><td>&quot;&lt;Broken_Arrow_…</td><td>8.176873</td></tr><tr><td>&quot;Boomerang&quot;</td><td>&quot;&lt;Boomerang_(19…</td><td>7.845718</td></tr><tr><td>&quot;Man of the Yea…</td><td>&quot;&lt;Man_of_the_Ye…</td><td>5.322085</td></tr><tr><td>&hellip;</td><td>&hellip;</td><td>&hellip;</td></tr><tr><td>&quot;Kabhi Alvida N…</td><td>&quot;&lt;Kabhi_Alvida_…</td><td>7.230449</td></tr><tr><td>&quot;The Beguiled&quot;</td><td>&quot;&lt;The_Beguiled&gt;…</td><td>7.405567</td></tr><tr><td>&quot;Desmundo&quot;</td><td>&quot;&lt;Desmundo&gt;&quot;</td><td>0.477121</td></tr><tr><td>&quot;Ed Gein&quot;</td><td>&quot;&lt;Ed_Gein&gt;&quot;</td><td>3.756484</td></tr><tr><td>&quot;The Dawns Here…</td><td>&quot;&lt;The_Dawns_Her…</td><td>6.720095</td></tr><tr><td>&quot;God of Gambler…</td><td>&quot;&lt;God_of_Gamble…</td><td>6.67782</td></tr><tr><td>&quot;I Was a Teenag…</td><td>&quot;&lt;I_Was_a_Teena…</td><td>6.30103</td></tr><tr><td>&quot;Mudhalvan&quot;</td><td>&quot;&lt;Mudhalvan&gt;&quot;</td><td>7.342423</td></tr><tr><td>&quot;Gymkata&quot;</td><td>&quot;&lt;Gymkata&gt;&quot;</td><td>6.7582</td></tr><tr><td>&quot;Moka&quot;</td><td>&quot;&lt;Moka&gt;&quot;</td><td>5.101963</td></tr><tr><td>&quot;One Hundred St…</td><td>&quot;&lt;One_Hundred_S…</td><td>6.25669</td></tr><tr><td>&quot;Sahara&quot;</td><td>&quot;&lt;Sahara&gt;&quot;</td><td>6.892095</td></tr></tbody></table></div>"
      ],
      "text/plain": [
       "shape: (4923, 3)\n",
       "┌──────────────────────────┬───────────────────────────────────┬──────────┐\n",
       "│ raw_entities             ┆ col_to_embed                      ┆ target   │\n",
       "│ ---                      ┆ ---                               ┆ ---      │\n",
       "│ str                      ┆ str                               ┆ f64      │\n",
       "╞══════════════════════════╪═══════════════════════════════════╪══════════╡\n",
       "│ Heat                     ┆ <Heat_(1995_film)>                ┆ 8.272855 │\n",
       "│ Sudden Death             ┆ <Sudden_Death_(1995_film)>        ┆ 7.80855  │\n",
       "│ Cry, the Beloved Country ┆ <Cry,_the_Beloved_Country_(1995_… ┆ 5.830284 │\n",
       "│ Pocahontas               ┆ <Pocahontas_(1995_film)>          ┆ 8.539176 │\n",
       "│ …                        ┆ …                                 ┆ …        │\n",
       "│ Gymkata                  ┆ <Gymkata>                         ┆ 6.7582   │\n",
       "│ Moka                     ┆ <Moka>                            ┆ 5.101963 │\n",
       "│ One Hundred Steps        ┆ <One_Hundred_Steps>               ┆ 6.25669  │\n",
       "│ Sahara                   ┆ <Sahara>                          ┆ 6.892095 │\n",
       "└──────────────────────────┴───────────────────────────────────┴──────────┘"
      ]
     },
     "execution_count": 71,
     "metadata": {},
     "output_type": "execute_result"
    }
   ],
   "source": [
    "path_original=Path(\"/storage/store3/work/acvetkov/gitlab/KEN/experiments/datasets/movie_revenues/target.parquet\")\n",
    "df_target_og = pl.read_parquet(path_original)\n",
    "df_target_og"
   ]
  },
  {
   "attachments": {},
   "cell_type": "markdown",
   "metadata": {},
   "source": [
    "Looking for movies whose `col_to_embed` is not found in the `subject` column (for whatever reason)."
   ]
  },
  {
   "cell_type": "code",
   "execution_count": 70,
   "metadata": {},
   "outputs": [
    {
     "data": {
      "text/html": [
       "<div><style>\n",
       ".dataframe > thead > tr > th,\n",
       ".dataframe > tbody > tr > td {\n",
       "  text-align: right;\n",
       "}\n",
       "</style>\n",
       "<small>shape: (477, 3)</small><table border=\"1\" class=\"dataframe\"><thead><tr><th>raw_entities</th><th>col_to_embed</th><th>target</th></tr><tr><td>str</td><td>str</td><td>f64</td></tr></thead><tbody><tr><td>&quot;Dracula&quot;</td><td>&quot;&lt;Dracula_(1931…</td><td>6.005262</td></tr><tr><td>&quot;Runaway Bride&quot;</td><td>&quot;&lt;Runaway_Bride…</td><td>8.490601</td></tr><tr><td>&quot;Niagara&quot;</td><td>&quot;&lt;Niagara_(1953…</td><td>6.929419</td></tr><tr><td>&quot;Love&#x27;s Labour&#x27;…</td><td>&quot;&lt;Love&#x27;s_Labour…</td><td>5.47682</td></tr><tr><td>&quot;The Fury&quot;</td><td>&quot;&lt;The_Fury_(197…</td><td>7.380211</td></tr><tr><td>&quot;Salsa&quot;</td><td>&quot;&lt;Salsa_(1988_f…</td><td>6.949028</td></tr><tr><td>&quot;The Changeling…</td><td>&quot;&lt;The_Changelin…</td><td>7.079181</td></tr><tr><td>&quot;Ocean&#x27;s Eleven…</td><td>&quot;&lt;Ocean&#x27;s_Eleve…</td><td>8.653904</td></tr><tr><td>&quot;Asoka&quot;</td><td>&quot;&lt;Asoka_(2001_f…</td><td>7.278754</td></tr><tr><td>&quot;Party Monster&quot;</td><td>&quot;&lt;Party_Monster…</td><td>5.870929</td></tr><tr><td>&quot;Gotcha!&quot;</td><td>&quot;&lt;Gotcha!_(1985…</td><td>6.944483</td></tr><tr><td>&quot;The Notebook&quot;</td><td>&quot;&lt;The_Notebook_…</td><td>8.06297</td></tr><tr><td>&hellip;</td><td>&hellip;</td><td>&hellip;</td></tr><tr><td>&quot;The Infiltrato…</td><td>&quot;&lt;The_Infiltrat…</td><td>7.188558</td></tr><tr><td>&quot;The Cherry Orc…</td><td>&quot;&lt;The_Cherry_Or…</td><td>2.130334</td></tr><tr><td>&quot;The Girl on th…</td><td>&quot;&lt;The_Girl_on_t…</td><td>8.238512</td></tr><tr><td>&quot;High Strung&quot;</td><td>&quot;&lt;High_Strung&gt;&quot;</td><td>4.727923</td></tr><tr><td>&quot;Other People&quot;</td><td>&quot;&lt;Other_People&gt;…</td><td>4.968483</td></tr><tr><td>&quot;Closet Monster…</td><td>&quot;&lt;Closet_Monste…</td><td>4.530993</td></tr><tr><td>&quot;The Space Betw…</td><td>&quot;&lt;The_Space_Bet…</td><td>7.170068</td></tr><tr><td>&quot;Dangal&quot;</td><td>&quot;&lt;Dangal&gt;&quot;</td><td>8.491362</td></tr><tr><td>&quot;Eternal Summer…</td><td>&quot;&lt;Eternal_Summe…</td><td>5.404834</td></tr><tr><td>&quot;The Shack&quot;</td><td>&quot;&lt;The_Shack&gt;&quot;</td><td>7.758389</td></tr><tr><td>&quot;Ultimate Aveng…</td><td>&quot;&lt;Ultimate_Aven…</td><td>6.897627</td></tr><tr><td>&quot;The Beguiled&quot;</td><td>&quot;&lt;The_Beguiled&gt;…</td><td>7.405567</td></tr></tbody></table></div>"
      ],
      "text/plain": [
       "shape: (477, 3)\n",
       "┌──────────────────────┬───────────────────────────────────┬──────────┐\n",
       "│ raw_entities         ┆ col_to_embed                      ┆ target   │\n",
       "│ ---                  ┆ ---                               ┆ ---      │\n",
       "│ str                  ┆ str                               ┆ f64      │\n",
       "╞══════════════════════╪═══════════════════════════════════╪══════════╡\n",
       "│ Dracula              ┆ <Dracula_(1931_film)>             ┆ 6.005262 │\n",
       "│ Runaway Bride        ┆ <Runaway_Bride_(1999_film)>       ┆ 8.490601 │\n",
       "│ Niagara              ┆ <Niagara_(1953_film)>             ┆ 6.929419 │\n",
       "│ Love's Labour's Lost ┆ <Love's_Labour's_Lost_(2000_film… ┆ 5.47682  │\n",
       "│ …                    ┆ …                                 ┆ …        │\n",
       "│ Eternal Summer       ┆ <Eternal_Summer>                  ┆ 5.404834 │\n",
       "│ The Shack            ┆ <The_Shack>                       ┆ 7.758389 │\n",
       "│ Ultimate Avengers 2  ┆ <Ultimate_Avengers_2>             ┆ 6.897627 │\n",
       "│ The Beguiled         ┆ <The_Beguiled>                    ┆ 7.405567 │\n",
       "└──────────────────────┴───────────────────────────────────┴──────────┘"
      ]
     },
     "execution_count": 70,
     "metadata": {},
     "output_type": "execute_result"
    }
   ],
   "source": [
    "df_target_og.filter(\n",
    "    ~pl.col(\"col_to_embed\").is_in(yagofacts[\"subject\"])\n",
    ")"
   ]
  },
  {
   "cell_type": "code",
   "execution_count": 72,
   "metadata": {},
   "outputs": [
    {
     "data": {
      "text/html": [
       "<div><style>\n",
       ".dataframe > thead > tr > th,\n",
       ".dataframe > tbody > tr > td {\n",
       "  text-align: right;\n",
       "}\n",
       "</style>\n",
       "<small>shape: (1912, 3)</small><table border=\"1\" class=\"dataframe\"><thead><tr><th>raw_entities</th><th>col_to_embed</th><th>target</th></tr><tr><td>str</td><td>str</td><td>f64</td></tr></thead><tbody><tr><td>&quot;Cry, the Belov…</td><td>&quot;&lt;Cry,_the_Belo…</td><td>5.830284</td></tr><tr><td>&quot;Bed of Roses&quot;</td><td>&quot;&lt;Bed_of_Roses_…</td><td>7.279455</td></tr><tr><td>&quot;Man of the Yea…</td><td>&quot;&lt;Man_of_the_Ye…</td><td>5.322085</td></tr><tr><td>&quot;The Scarlet Le…</td><td>&quot;&lt;The_Scarlet_L…</td><td>7.016298</td></tr><tr><td>&quot;The Tie That B…</td><td>&quot;&lt;The_Tie_That_…</td><td>6.761928</td></tr><tr><td>&quot;Before the Rai…</td><td>&quot;&lt;Before_the_Ra…</td><td>5.883006</td></tr><tr><td>&quot;Miracle on 34t…</td><td>&quot;&lt;Miracle_on_34…</td><td>7.665247</td></tr><tr><td>&quot;I Love Trouble…</td><td>&quot;&lt;I_Love_Troubl…</td><td>7.792022</td></tr><tr><td>&quot;The Age of Inn…</td><td>&quot;&lt;The_Age_of_In…</td><td>7.508603</td></tr><tr><td>&quot;For Love or Mo…</td><td>&quot;&lt;For_Love_or_M…</td><td>7.04713</td></tr><tr><td>&quot;The Three Musk…</td><td>&quot;&lt;The_Three_Mus…</td><td>7.731579</td></tr><tr><td>&quot;The Last Suppe…</td><td>&quot;&lt;The_Last_Supp…</td><td>5.646369</td></tr><tr><td>&hellip;</td><td>&hellip;</td><td>&hellip;</td></tr><tr><td>&quot;Going in Style…</td><td>&quot;&lt;Going_in_Styl…</td><td>7.927466</td></tr><tr><td>&quot;The Amazing Tr…</td><td>&quot;&lt;The_Amazing_T…</td><td>3.720573</td></tr><tr><td>&quot;The Zookeeper&#x27;…</td><td>&quot;&lt;The_Zookeeper…</td><td>7.119338</td></tr><tr><td>&quot;The Secret Scr…</td><td>&quot;&lt;The_Secret_Sc…</td><td>5.184012</td></tr><tr><td>&quot;Baywatch&quot;</td><td>&quot;&lt;Baywatch&gt;&quot;</td><td>8.25007</td></tr><tr><td>&quot;Kidnapping, Ca…</td><td>&quot;&lt;Kidnapping,_C…</td><td>5.252853</td></tr><tr><td>&quot;Kabhi Alvida N…</td><td>&quot;&lt;Kabhi_Alvida_…</td><td>7.230449</td></tr><tr><td>&quot;The Dawns Here…</td><td>&quot;&lt;The_Dawns_Her…</td><td>6.720095</td></tr><tr><td>&quot;God of Gambler…</td><td>&quot;&lt;God_of_Gamble…</td><td>6.67782</td></tr><tr><td>&quot;I Was a Teenag…</td><td>&quot;&lt;I_Was_a_Teena…</td><td>6.30103</td></tr><tr><td>&quot;Moka&quot;</td><td>&quot;&lt;Moka&gt;&quot;</td><td>5.101963</td></tr><tr><td>&quot;One Hundred St…</td><td>&quot;&lt;One_Hundred_S…</td><td>6.25669</td></tr></tbody></table></div>"
      ],
      "text/plain": [
       "shape: (1912, 3)\n",
       "┌──────────────────────────┬───────────────────────────────────┬──────────┐\n",
       "│ raw_entities             ┆ col_to_embed                      ┆ target   │\n",
       "│ ---                      ┆ ---                               ┆ ---      │\n",
       "│ str                      ┆ str                               ┆ f64      │\n",
       "╞══════════════════════════╪═══════════════════════════════════╪══════════╡\n",
       "│ Cry, the Beloved Country ┆ <Cry,_the_Beloved_Country_(1995_… ┆ 5.830284 │\n",
       "│ Bed of Roses             ┆ <Bed_of_Roses_(1996_film)>        ┆ 7.279455 │\n",
       "│ Man of the Year          ┆ <Man_of_the_Year_(1995_film)>     ┆ 5.322085 │\n",
       "│ The Scarlet Letter       ┆ <The_Scarlet_Letter_(1995_film)>  ┆ 7.016298 │\n",
       "│ …                        ┆ …                                 ┆ …        │\n",
       "│ God of Gamblers          ┆ <God_of_Gamblers>                 ┆ 6.67782  │\n",
       "│ I Was a Teenage Werewolf ┆ <I_Was_a_Teenage_Werewolf>        ┆ 6.30103  │\n",
       "│ Moka                     ┆ <Moka>                            ┆ 5.101963 │\n",
       "│ One Hundred Steps        ┆ <One_Hundred_Steps>               ┆ 6.25669  │\n",
       "└──────────────────────────┴───────────────────────────────────┴──────────┘"
      ]
     },
     "execution_count": 72,
     "metadata": {},
     "output_type": "execute_result"
    }
   ],
   "source": [
    "# Movies that are in the KEN version and not in the new version. \n",
    "df_target_og.filter(\n",
    "    (pl.col(\"col_to_embed\").is_in(yagofacts[\"subject\"])) &\n",
    "    (~pl.col(\"col_to_embed\").is_in(df_final[\"col_to_embed\"]))\n",
    ")"
   ]
  },
  {
   "cell_type": "code",
   "execution_count": 74,
   "metadata": {},
   "outputs": [
    {
     "data": {
      "text/html": [
       "<div><style>\n",
       ".dataframe > thead > tr > th,\n",
       ".dataframe > tbody > tr > td {\n",
       "  text-align: right;\n",
       "}\n",
       "</style>\n",
       "<small>shape: (0, 3)</small><table border=\"1\" class=\"dataframe\"><thead><tr><th>title</th><th>col_to_embed</th><th>revenue</th></tr><tr><td>str</td><td>str</td><td>f64</td></tr></thead><tbody></tbody></table></div>"
      ],
      "text/plain": [
       "shape: (0, 3)\n",
       "┌───────┬──────────────┬─────────┐\n",
       "│ title ┆ col_to_embed ┆ revenue │\n",
       "│ ---   ┆ ---          ┆ ---     │\n",
       "│ str   ┆ str          ┆ f64     │\n",
       "╞═══════╪══════════════╪═════════╡\n",
       "└───────┴──────────────┴─────────┘"
      ]
     },
     "execution_count": 74,
     "metadata": {},
     "output_type": "execute_result"
    }
   ],
   "source": [
    "df_final.filter(\n",
    "    ~(pl.col(\"col_to_embed\").is_in(yagofacts[\"subject\"]))\n",
    ")"
   ]
  },
  {
   "cell_type": "code",
   "execution_count": null,
   "metadata": {},
   "outputs": [],
   "source": []
  }
 ],
 "metadata": {
  "kernelspec": {
   "display_name": "base",
   "language": "python",
   "name": "python3"
  },
  "language_info": {
   "codemirror_mode": {
    "name": "ipython",
    "version": 3
   },
   "file_extension": ".py",
   "mimetype": "text/x-python",
   "name": "python",
   "nbconvert_exporter": "python",
   "pygments_lexer": "ipython3",
   "version": "3.10.6"
  },
  "orig_nbformat": 4
 },
 "nbformat": 4,
 "nbformat_minor": 2
}
