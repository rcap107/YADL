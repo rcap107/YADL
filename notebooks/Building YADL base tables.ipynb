{
 "cells": [
  {
   "attachments": {},
   "cell_type": "markdown",
   "metadata": {},
   "source": [
    "# Building the base tables"
   ]
  },
  {
   "attachments": {},
   "cell_type": "markdown",
   "metadata": {},
   "source": [
    "This is the notebook that was used to prepare the base tables for the pipeline in the paper \"A Benchmarking Data Lake \n",
    "for Join Discovery and Learning with Relational Data\".\n",
    "\n",
    "All datasets are inspired from those used in the paper \"[Relational data embeddings for feature enrichment with background information](https://hal.science/hal-03848124/file/main.pdf)\", although some of the matching operations are slightly different.\n",
    "\n",
    "To have more manageable and meaningful tables, some pre-processing is applied to each dataset to reduce overly noisy and \n",
    "irrelevant attributes. \n",
    "\n",
    "All tables are saved as parquet files for later use in the benchmark pipeline. "
   ]
  },
  {
   "attachments": {},
   "cell_type": "markdown",
   "metadata": {},
   "source": [
    "Datasets:\n",
    "- [7+ Million Company Dataset](https://www.kaggle.com/datasets/peopledatalabssf/free-7-million-company-dataset)\n",
    "- [US Accidents (2016 - 2021)](https://www.kaggle.com/datasets/sobhanmoosavi/us-accidents)\n",
    "- [US Presidential elections](https://dataverse.harvard.edu/dataset.xhtml?persistentId=doi:10.7910/DVN/42MVDX)"
   ]
  },
  {
   "cell_type": "code",
   "execution_count": 1,
   "metadata": {},
   "outputs": [
    {
     "name": "stdout",
     "output_type": "stream",
     "text": [
      "/home/soda/rcappuzz/work/prepare-data-lakes\n"
     ]
    }
   ],
   "source": [
    "cd .."
   ]
  },
  {
   "cell_type": "code",
   "execution_count": 2,
   "metadata": {},
   "outputs": [],
   "source": [
    "import polars as pl\n",
    "import pandas as pd\n",
    "from pathlib import Path\n",
    "import src.yago.utils as utils\n",
    "import numpy as np\n",
    "import datetime"
   ]
  },
  {
   "attachments": {},
   "cell_type": "markdown",
   "metadata": {},
   "source": [
    "Loading YAGO fact triplets to drop entities not found in the KB.\n",
    "\n",
    "Note that this step requires the YAGO3 3.0.3 data (accessible \n",
    "[here](https://yago-knowledge.org/downloads/yago-3), under \"2022 Revival Data\") to have been downloaded. Replace the \n",
    "value in `yago_path` with the path to the YAGO facts on your machine. "
   ]
  },
  {
   "cell_type": "code",
   "execution_count": 5,
   "metadata": {},
   "outputs": [],
   "source": [
    "data_dir = Path(\"data/base_tables\")\n",
    "\n",
    "yago_path = Path(\"/storage/store3/work/jstojano/yago3/\")\n",
    "facts_path = Path(yago_path, \"facts_parquet/yago_updated_2022_part2\")\n",
    "fname = \"yagoFacts\"\n",
    "yagofacts_path = Path(facts_path, f\"{fname}.tsv.parquet\")\n",
    "yagofacts_categorical = utils.import_from_yago(yagofacts_path)\n",
    "fname = \"yagoLiteralFacts\"\n",
    "yagoliteralfacts_path = Path(facts_path, f\"{fname}.tsv.parquet\")\n",
    "yagofacts_numerical = utils.import_from_yago(yagoliteralfacts_path)\n",
    "fname = \"yagoDateFacts\"\n",
    "yagodatefacts_path = Path(facts_path, f\"{fname}.tsv.parquet\")\n",
    "yagofacts_dates = utils.import_from_yago(yagodatefacts_path)\n",
    "\n",
    "yagofacts = pl.concat(\n",
    "    [\n",
    "        yagofacts_categorical,\n",
    "        yagofacts_numerical,\n",
    "        yagofacts_dates\n",
    "    ]\n",
    ")"
   ]
  },
  {
   "attachments": {},
   "cell_type": "markdown",
   "metadata": {},
   "source": [
    "# US Accidents dataset"
   ]
  },
  {
   "attachments": {},
   "cell_type": "markdown",
   "metadata": {},
   "source": [
    "Archive `us-accidents.zip` contains the file `US_Accidents_Dec21_updated.csv`, \n",
    "which was renamed manually to `us-accidents.csv` for simplicity. \n",
    "\n",
    "Some of the steps require the State codes reported in `data/state_codes.csv`. "
   ]
  },
  {
   "cell_type": "code",
   "execution_count": 83,
   "metadata": {},
   "outputs": [],
   "source": [
    "dataset_dir = Path(data_dir, \"us-accidents\")\n",
    "df = pl.read_csv(Path(dataset_dir, \"us-accidents.csv\"))\n",
    "df = df.rename({\"State\": \"Code\"})\n",
    "state_codes_path =  Path(dataset_dir,\"state_codes.csv\")\n",
    "state_codes = pl.read_csv(state_codes_path)\n",
    "df = df.join(\n",
    "    state_codes, on=\"Code\"\n",
    ")"
   ]
  },
  {
   "cell_type": "markdown",
   "metadata": {},
   "source": [
    "The value in `City` does not necessarily match that in `County`, so I need to use `County` instead for proper matching. "
   ]
  },
  {
   "attachments": {},
   "cell_type": "markdown",
   "metadata": {},
   "source": [
    "Adding a new column, `col_to_embed`, that formats the city and state name to have\n",
    "the same format that is found in YAGO. "
   ]
  },
  {
   "cell_type": "code",
   "execution_count": 86,
   "metadata": {},
   "outputs": [],
   "source": [
    "df=df.with_columns(\n",
    "    (\"<\" + pl.col(\"City\") + \",_\" + pl.col(\"State\") + \">\").alias(\"col_to_embed\")\n",
    "    )\n"
   ]
  },
  {
   "cell_type": "code",
   "execution_count": 70,
   "metadata": {},
   "outputs": [],
   "source": [
    "# df = df.with_columns(pl.when(\n",
    "#     pl.col(\"Code\") == \"LA\"\n",
    "# ).then(\n",
    "#     (\"<\" + pl.col(\"County\").str.replace(\" County\", \"\") + \"_Parish\" +  \",_\"+ pl.col(\"State\") + \">\").alias(\"col_to_embed\")\n",
    "# ).otherwise(\n",
    "#     (\"<\" + pl.col(\"County\").str.replace(\" County\", \"\") + \"_County\" +  \",_\"+ pl.col(\"State\") + \">\").alias(\"col_to_embed\")\n",
    "# )\n",
    "# )"
   ]
  },
  {
   "attachments": {},
   "cell_type": "markdown",
   "metadata": {},
   "source": [
    "Filtering out the rows not found in `yagofacts[\"subject\"]`."
   ]
  },
  {
   "cell_type": "code",
   "execution_count": 87,
   "metadata": {},
   "outputs": [],
   "source": [
    "df_filtered=df.lazy().filter(\n",
    "    pl.col(\"col_to_embed\").is_in(\n",
    "        yagofacts[\"subject\"]\n",
    "    )\n",
    ").collect()"
   ]
  },
  {
   "cell_type": "code",
   "execution_count": 88,
   "metadata": {},
   "outputs": [
    {
     "data": {
      "text/html": [
       "<div><style>\n",
       ".dataframe > thead > tr > th,\n",
       ".dataframe > tbody > tr > td {\n",
       "  text-align: right;\n",
       "}\n",
       "</style>\n",
       "<small>shape: (1_396_368, 50)</small><table border=\"1\" class=\"dataframe\"><thead><tr><th>ID</th><th>Severity</th><th>Start_Time</th><th>End_Time</th><th>Start_Lat</th><th>Start_Lng</th><th>End_Lat</th><th>End_Lng</th><th>Distance(mi)</th><th>Description</th><th>Number</th><th>Street</th><th>Side</th><th>City</th><th>County</th><th>Code</th><th>Zipcode</th><th>Country</th><th>Timezone</th><th>Airport_Code</th><th>Weather_Timestamp</th><th>Temperature(F)</th><th>Wind_Chill(F)</th><th>Humidity(%)</th><th>Pressure(in)</th><th>Visibility(mi)</th><th>Wind_Direction</th><th>Wind_Speed(mph)</th><th>Precipitation(in)</th><th>Weather_Condition</th><th>Amenity</th><th>Bump</th><th>Crossing</th><th>Give_Way</th><th>Junction</th><th>No_Exit</th><th>Railway</th><th>Roundabout</th><th>Station</th><th>Stop</th><th>Traffic_Calming</th><th>Traffic_Signal</th><th>Turning_Loop</th><th>Sunrise_Sunset</th><th>Civil_Twilight</th><th>Nautical_Twilight</th><th>Astronomical_Twilight</th><th>State</th><th>Abbrev</th><th>col_to_embed</th></tr><tr><td>str</td><td>i64</td><td>str</td><td>str</td><td>f64</td><td>f64</td><td>f64</td><td>f64</td><td>f64</td><td>str</td><td>f64</td><td>str</td><td>str</td><td>str</td><td>str</td><td>str</td><td>str</td><td>str</td><td>str</td><td>str</td><td>str</td><td>f64</td><td>f64</td><td>f64</td><td>f64</td><td>f64</td><td>str</td><td>f64</td><td>f64</td><td>str</td><td>bool</td><td>bool</td><td>bool</td><td>bool</td><td>bool</td><td>bool</td><td>bool</td><td>bool</td><td>bool</td><td>bool</td><td>bool</td><td>bool</td><td>bool</td><td>str</td><td>str</td><td>str</td><td>str</td><td>str</td><td>str</td><td>str</td></tr></thead><tbody><tr><td>&quot;A-1&quot;</td><td>3</td><td>&quot;2016-02-08 00:…</td><td>&quot;2016-02-08 06:…</td><td>40.10891</td><td>-83.09286</td><td>40.11206</td><td>-83.03187</td><td>3.23</td><td>&quot;Between Sawmil…</td><td>null</td><td>&quot;Outerbelt E&quot;</td><td>&quot;R&quot;</td><td>&quot;Dublin&quot;</td><td>&quot;Franklin&quot;</td><td>&quot;OH&quot;</td><td>&quot;43017&quot;</td><td>&quot;US&quot;</td><td>&quot;US/Eastern&quot;</td><td>&quot;KOSU&quot;</td><td>&quot;2016-02-08 00:…</td><td>42.1</td><td>36.1</td><td>58.0</td><td>29.76</td><td>10.0</td><td>&quot;SW&quot;</td><td>10.4</td><td>0.0</td><td>&quot;Light Rain&quot;</td><td>false</td><td>false</td><td>false</td><td>false</td><td>false</td><td>false</td><td>false</td><td>false</td><td>false</td><td>false</td><td>false</td><td>false</td><td>false</td><td>&quot;Night&quot;</td><td>&quot;Night&quot;</td><td>&quot;Night&quot;</td><td>&quot;Night&quot;</td><td>&quot;Ohio&quot;</td><td>&quot;Ohio&quot;</td><td>&quot;&lt;Dublin,_Ohio&gt;…</td></tr><tr><td>&quot;A-2&quot;</td><td>2</td><td>&quot;2016-02-08 05:…</td><td>&quot;2016-02-08 11:…</td><td>39.86542</td><td>-84.0628</td><td>39.86501</td><td>-84.04873</td><td>0.747</td><td>&quot;At OH-4/OH-235…</td><td>null</td><td>&quot;I-70 E&quot;</td><td>&quot;R&quot;</td><td>&quot;Dayton&quot;</td><td>&quot;Montgomery&quot;</td><td>&quot;OH&quot;</td><td>&quot;45424&quot;</td><td>&quot;US&quot;</td><td>&quot;US/Eastern&quot;</td><td>&quot;KFFO&quot;</td><td>&quot;2016-02-08 05:…</td><td>36.9</td><td>null</td><td>91.0</td><td>29.68</td><td>10.0</td><td>&quot;Calm&quot;</td><td>null</td><td>0.02</td><td>&quot;Light Rain&quot;</td><td>false</td><td>false</td><td>false</td><td>false</td><td>false</td><td>false</td><td>false</td><td>false</td><td>false</td><td>false</td><td>false</td><td>false</td><td>false</td><td>&quot;Night&quot;</td><td>&quot;Night&quot;</td><td>&quot;Night&quot;</td><td>&quot;Night&quot;</td><td>&quot;Ohio&quot;</td><td>&quot;Ohio&quot;</td><td>&quot;&lt;Dayton,_Ohio&gt;…</td></tr><tr><td>&quot;A-4&quot;</td><td>2</td><td>&quot;2016-02-08 06:…</td><td>&quot;2016-02-08 12:…</td><td>41.06213</td><td>-81.53784</td><td>41.06217</td><td>-81.53547</td><td>0.123</td><td>&quot;At Dart Ave/Ex…</td><td>null</td><td>&quot;I-77 N&quot;</td><td>&quot;R&quot;</td><td>&quot;Akron&quot;</td><td>&quot;Summit&quot;</td><td>&quot;OH&quot;</td><td>&quot;44311&quot;</td><td>&quot;US&quot;</td><td>&quot;US/Eastern&quot;</td><td>&quot;KAKR&quot;</td><td>&quot;2016-02-08 06:…</td><td>39.0</td><td>null</td><td>55.0</td><td>29.65</td><td>10.0</td><td>&quot;Calm&quot;</td><td>null</td><td>null</td><td>&quot;Overcast&quot;</td><td>false</td><td>false</td><td>false</td><td>false</td><td>false</td><td>false</td><td>false</td><td>false</td><td>false</td><td>false</td><td>false</td><td>false</td><td>false</td><td>&quot;Night&quot;</td><td>&quot;Night&quot;</td><td>&quot;Day&quot;</td><td>&quot;Day&quot;</td><td>&quot;Ohio&quot;</td><td>&quot;Ohio&quot;</td><td>&quot;&lt;Akron,_Ohio&gt;&quot;</td></tr><tr><td>&quot;A-6&quot;</td><td>2</td><td>&quot;2016-02-08 08:…</td><td>&quot;2016-02-08 14:…</td><td>39.06324</td><td>-84.03243</td><td>39.06731</td><td>-84.05851</td><td>1.427</td><td>&quot;At Dela Palma …</td><td>null</td><td>&quot;State Route 32…</td><td>&quot;R&quot;</td><td>&quot;Williamsburg&quot;</td><td>&quot;Clermont&quot;</td><td>&quot;OH&quot;</td><td>&quot;45176&quot;</td><td>&quot;US&quot;</td><td>&quot;US/Eastern&quot;</td><td>&quot;KI69&quot;</td><td>&quot;2016-02-08 08:…</td><td>35.6</td><td>29.2</td><td>100.0</td><td>29.66</td><td>10.0</td><td>&quot;WSW&quot;</td><td>8.1</td><td>null</td><td>&quot;Overcast&quot;</td><td>false</td><td>false</td><td>false</td><td>false</td><td>false</td><td>false</td><td>false</td><td>false</td><td>false</td><td>false</td><td>false</td><td>true</td><td>false</td><td>&quot;Day&quot;</td><td>&quot;Day&quot;</td><td>&quot;Day&quot;</td><td>&quot;Day&quot;</td><td>&quot;Ohio&quot;</td><td>&quot;Ohio&quot;</td><td>&quot;&lt;Williamsburg,…</td></tr><tr><td>&quot;A-7&quot;</td><td>2</td><td>&quot;2016-02-08 08:…</td><td>&quot;2016-02-08 14:…</td><td>39.77565</td><td>-84.18603</td><td>39.77275</td><td>-84.18805</td><td>0.227</td><td>&quot;At OH-4/Exit 5…</td><td>null</td><td>&quot;I-75 S&quot;</td><td>&quot;R&quot;</td><td>&quot;Dayton&quot;</td><td>&quot;Montgomery&quot;</td><td>&quot;OH&quot;</td><td>&quot;45404&quot;</td><td>&quot;US&quot;</td><td>&quot;US/Eastern&quot;</td><td>&quot;KFFO&quot;</td><td>&quot;2016-02-08 08:…</td><td>33.8</td><td>null</td><td>100.0</td><td>29.63</td><td>3.0</td><td>&quot;SW&quot;</td><td>2.3</td><td>null</td><td>&quot;Mostly Cloudy&quot;</td><td>false</td><td>false</td><td>false</td><td>false</td><td>false</td><td>false</td><td>false</td><td>false</td><td>false</td><td>false</td><td>false</td><td>false</td><td>false</td><td>&quot;Day&quot;</td><td>&quot;Day&quot;</td><td>&quot;Day&quot;</td><td>&quot;Day&quot;</td><td>&quot;Ohio&quot;</td><td>&quot;Ohio&quot;</td><td>&quot;&lt;Dayton,_Ohio&gt;…</td></tr><tr><td>&quot;A-9&quot;</td><td>2</td><td>&quot;2016-02-08 14:…</td><td>&quot;2016-02-08 20:…</td><td>40.702247</td><td>-84.075887</td><td>40.69911</td><td>-84.084293</td><td>0.491</td><td>&quot;At OH-65/Exit …</td><td>null</td><td>&quot;E Hanthorn Rd&quot;</td><td>&quot;R&quot;</td><td>&quot;Lima&quot;</td><td>&quot;Allen&quot;</td><td>&quot;OH&quot;</td><td>&quot;45806&quot;</td><td>&quot;US&quot;</td><td>&quot;US/Eastern&quot;</td><td>&quot;KAOH&quot;</td><td>&quot;2016-02-08 13:…</td><td>39.0</td><td>31.8</td><td>70.0</td><td>29.59</td><td>10.0</td><td>&quot;WNW&quot;</td><td>11.5</td><td>null</td><td>&quot;Overcast&quot;</td><td>false</td><td>false</td><td>false</td><td>false</td><td>false</td><td>false</td><td>false</td><td>false</td><td>false</td><td>false</td><td>false</td><td>false</td><td>false</td><td>&quot;Day&quot;</td><td>&quot;Day&quot;</td><td>&quot;Day&quot;</td><td>&quot;Day&quot;</td><td>&quot;Ohio&quot;</td><td>&quot;Ohio&quot;</td><td>&quot;&lt;Lima,_Ohio&gt;&quot;</td></tr><tr><td>&quot;A-10&quot;</td><td>2</td><td>&quot;2016-02-08 15:…</td><td>&quot;2016-02-08 21:…</td><td>40.10931</td><td>-82.96849</td><td>40.11078</td><td>-82.984</td><td>0.826</td><td>&quot;At I-71/Exit 2…</td><td>null</td><td>&quot;Outerbelt W&quot;</td><td>&quot;R&quot;</td><td>&quot;Westerville&quot;</td><td>&quot;Franklin&quot;</td><td>&quot;OH&quot;</td><td>&quot;43081&quot;</td><td>&quot;US&quot;</td><td>&quot;US/Eastern&quot;</td><td>&quot;KCMH&quot;</td><td>&quot;2016-02-08 15:…</td><td>32.0</td><td>28.7</td><td>100.0</td><td>29.59</td><td>0.5</td><td>&quot;West&quot;</td><td>3.5</td><td>0.05</td><td>&quot;Snow&quot;</td><td>false</td><td>false</td><td>false</td><td>false</td><td>false</td><td>false</td><td>false</td><td>false</td><td>false</td><td>false</td><td>false</td><td>false</td><td>false</td><td>&quot;Day&quot;</td><td>&quot;Day&quot;</td><td>&quot;Day&quot;</td><td>&quot;Day&quot;</td><td>&quot;Ohio&quot;</td><td>&quot;Ohio&quot;</td><td>&quot;&lt;Westerville,_…</td></tr><tr><td>&quot;A-14&quot;</td><td>2</td><td>&quot;2016-02-08 17:…</td><td>&quot;2016-02-08 23:…</td><td>39.582242</td><td>-83.677814</td><td>39.603013</td><td>-83.637319</td><td>2.59</td><td>&quot;Between OH-72/…</td><td>null</td><td>&quot;I-71 N&quot;</td><td>&quot;R&quot;</td><td>&quot;Jamestown&quot;</td><td>&quot;Greene&quot;</td><td>&quot;OH&quot;</td><td>&quot;45335&quot;</td><td>&quot;US&quot;</td><td>&quot;US/Eastern&quot;</td><td>&quot;KSGH&quot;</td><td>&quot;2016-02-08 17:…</td><td>33.8</td><td>28.6</td><td>93.0</td><td>29.64</td><td>1.0</td><td>&quot;West&quot;</td><td>5.8</td><td>0.01</td><td>&quot;Light Snow&quot;</td><td>false</td><td>false</td><td>false</td><td>false</td><td>false</td><td>false</td><td>false</td><td>false</td><td>false</td><td>false</td><td>false</td><td>false</td><td>false</td><td>&quot;Day&quot;</td><td>&quot;Day&quot;</td><td>&quot;Day&quot;</td><td>&quot;Day&quot;</td><td>&quot;Ohio&quot;</td><td>&quot;Ohio&quot;</td><td>&quot;&lt;Jamestown,_Oh…</td></tr><tr><td>&quot;A-15&quot;</td><td>3</td><td>&quot;2016-02-08 18:…</td><td>&quot;2016-02-09 00:…</td><td>40.151785</td><td>-81.312635</td><td>40.151747</td><td>-81.312682</td><td>0.004</td><td>&quot;At Shipley Rd …</td><td>48999.0</td><td>&quot; Titus Rd&quot;</td><td>&quot;R&quot;</td><td>&quot;Freeport&quot;</td><td>&quot;Guernsey&quot;</td><td>&quot;OH&quot;</td><td>&quot;43973&quot;</td><td>&quot;US&quot;</td><td>&quot;US/Eastern&quot;</td><td>&quot;KPHD&quot;</td><td>&quot;2016-02-08 18:…</td><td>33.1</td><td>null</td><td>92.0</td><td>29.62</td><td>10.0</td><td>&quot;Calm&quot;</td><td>null</td><td>null</td><td>&quot;Mostly Cloudy&quot;</td><td>false</td><td>false</td><td>false</td><td>false</td><td>false</td><td>false</td><td>false</td><td>false</td><td>false</td><td>false</td><td>false</td><td>false</td><td>false</td><td>&quot;Night&quot;</td><td>&quot;Day&quot;</td><td>&quot;Day&quot;</td><td>&quot;Day&quot;</td><td>&quot;Ohio&quot;</td><td>&quot;Ohio&quot;</td><td>&quot;&lt;Freeport,_Ohi…</td></tr><tr><td>&quot;A-16&quot;</td><td>3</td><td>&quot;2016-02-08 18:…</td><td>&quot;2016-02-09 00:…</td><td>40.151747</td><td>-81.312682</td><td>40.151785</td><td>-81.312635</td><td>0.004</td><td>&quot;At Titus Rd - …</td><td>22549.0</td><td>&quot; Cadiz Rd&quot;</td><td>&quot;L&quot;</td><td>&quot;Freeport&quot;</td><td>&quot;Harrison&quot;</td><td>&quot;OH&quot;</td><td>&quot;43973-8626&quot;</td><td>&quot;US&quot;</td><td>&quot;US/Eastern&quot;</td><td>&quot;KPHD&quot;</td><td>&quot;2016-02-08 18:…</td><td>33.1</td><td>null</td><td>92.0</td><td>29.62</td><td>10.0</td><td>&quot;Calm&quot;</td><td>null</td><td>null</td><td>&quot;Mostly Cloudy&quot;</td><td>false</td><td>false</td><td>false</td><td>false</td><td>false</td><td>false</td><td>false</td><td>false</td><td>false</td><td>false</td><td>false</td><td>false</td><td>false</td><td>&quot;Night&quot;</td><td>&quot;Day&quot;</td><td>&quot;Day&quot;</td><td>&quot;Day&quot;</td><td>&quot;Ohio&quot;</td><td>&quot;Ohio&quot;</td><td>&quot;&lt;Freeport,_Ohi…</td></tr><tr><td>&quot;A-17&quot;</td><td>3</td><td>&quot;2016-02-08 19:…</td><td>&quot;2016-02-09 01:…</td><td>39.97241</td><td>-82.84695</td><td>39.98529</td><td>-82.85667</td><td>1.028</td><td>&quot;At OH-16/Broad…</td><td>null</td><td>&quot;Outerbelt N&quot;</td><td>&quot;R&quot;</td><td>&quot;Columbus&quot;</td><td>&quot;Franklin&quot;</td><td>&quot;OH&quot;</td><td>&quot;43213&quot;</td><td>&quot;US&quot;</td><td>&quot;US/Eastern&quot;</td><td>&quot;KCMH&quot;</td><td>&quot;2016-02-08 19:…</td><td>34.0</td><td>null</td><td>100.0</td><td>29.65</td><td>6.0</td><td>&quot;Calm&quot;</td><td>null</td><td>0.07</td><td>&quot;Overcast&quot;</td><td>false</td><td>false</td><td>false</td><td>false</td><td>false</td><td>false</td><td>false</td><td>false</td><td>false</td><td>false</td><td>false</td><td>false</td><td>false</td><td>&quot;Night&quot;</td><td>&quot;Night&quot;</td><td>&quot;Night&quot;</td><td>&quot;Night&quot;</td><td>&quot;Ohio&quot;</td><td>&quot;Ohio&quot;</td><td>&quot;&lt;Columbus,_Ohi…</td></tr><tr><td>&quot;A-18&quot;</td><td>2</td><td>&quot;2016-02-08 19:…</td><td>&quot;2016-02-09 01:…</td><td>39.9838</td><td>-82.85657</td><td>39.9725</td><td>-82.84746</td><td>0.918</td><td>&quot;At I-270 - Acc…</td><td>null</td><td>&quot;Outerbelt S&quot;</td><td>&quot;R&quot;</td><td>&quot;Columbus&quot;</td><td>&quot;Franklin&quot;</td><td>&quot;OH&quot;</td><td>&quot;43213&quot;</td><td>&quot;US&quot;</td><td>&quot;US/Eastern&quot;</td><td>&quot;KCMH&quot;</td><td>&quot;2016-02-08 19:…</td><td>34.0</td><td>null</td><td>100.0</td><td>29.65</td><td>6.0</td><td>&quot;Calm&quot;</td><td>null</td><td>0.07</td><td>&quot;Overcast&quot;</td><td>false</td><td>false</td><td>false</td><td>false</td><td>false</td><td>false</td><td>false</td><td>false</td><td>false</td><td>false</td><td>false</td><td>false</td><td>false</td><td>&quot;Night&quot;</td><td>&quot;Night&quot;</td><td>&quot;Night&quot;</td><td>&quot;Night&quot;</td><td>&quot;Ohio&quot;</td><td>&quot;Ohio&quot;</td><td>&quot;&lt;Columbus,_Ohi…</td></tr><tr><td>&hellip;</td><td>&hellip;</td><td>&hellip;</td><td>&hellip;</td><td>&hellip;</td><td>&hellip;</td><td>&hellip;</td><td>&hellip;</td><td>&hellip;</td><td>&hellip;</td><td>&hellip;</td><td>&hellip;</td><td>&hellip;</td><td>&hellip;</td><td>&hellip;</td><td>&hellip;</td><td>&hellip;</td><td>&hellip;</td><td>&hellip;</td><td>&hellip;</td><td>&hellip;</td><td>&hellip;</td><td>&hellip;</td><td>&hellip;</td><td>&hellip;</td><td>&hellip;</td><td>&hellip;</td><td>&hellip;</td><td>&hellip;</td><td>&hellip;</td><td>&hellip;</td><td>&hellip;</td><td>&hellip;</td><td>&hellip;</td><td>&hellip;</td><td>&hellip;</td><td>&hellip;</td><td>&hellip;</td><td>&hellip;</td><td>&hellip;</td><td>&hellip;</td><td>&hellip;</td><td>&hellip;</td><td>&hellip;</td><td>&hellip;</td><td>&hellip;</td><td>&hellip;</td><td>&hellip;</td><td>&hellip;</td><td>&hellip;</td></tr><tr><td>&quot;A-2845320&quot;</td><td>2</td><td>&quot;2019-08-23 14:…</td><td>&quot;2019-08-23 15:…</td><td>33.68662</td><td>-117.766</td><td>33.69365</td><td>-117.77061</td><td>0.553</td><td>&quot;At Jeffrey Rd/…</td><td>null</td><td>&quot;I-5 N&quot;</td><td>&quot;R&quot;</td><td>&quot;Irvine&quot;</td><td>&quot;Orange&quot;</td><td>&quot;CA&quot;</td><td>&quot;92618&quot;</td><td>&quot;US&quot;</td><td>&quot;US/Pacific&quot;</td><td>&quot;KSNA&quot;</td><td>&quot;2019-08-23 14:…</td><td>77.0</td><td>77.0</td><td>56.0</td><td>29.78</td><td>10.0</td><td>&quot;SSW&quot;</td><td>9.0</td><td>0.0</td><td>&quot;Fair&quot;</td><td>false</td><td>false</td><td>false</td><td>false</td><td>false</td><td>false</td><td>false</td><td>false</td><td>false</td><td>false</td><td>false</td><td>false</td><td>false</td><td>&quot;Day&quot;</td><td>&quot;Day&quot;</td><td>&quot;Day&quot;</td><td>&quot;Day&quot;</td><td>&quot;California&quot;</td><td>&quot;Calif.&quot;</td><td>&quot;&lt;Irvine,_Calif…</td></tr><tr><td>&quot;A-2845322&quot;</td><td>2</td><td>&quot;2019-08-23 15:…</td><td>&quot;2019-08-23 15:…</td><td>34.07233</td><td>-118.08066</td><td>34.07229</td><td>-118.08355</td><td>0.165</td><td>&quot;At Walnut Grov…</td><td>null</td><td>&quot;I-10 W&quot;</td><td>&quot;R&quot;</td><td>&quot;Rosemead&quot;</td><td>&quot;Los Angeles&quot;</td><td>&quot;CA&quot;</td><td>&quot;91770&quot;</td><td>&quot;US&quot;</td><td>&quot;US/Pacific&quot;</td><td>&quot;KEMT&quot;</td><td>&quot;2019-08-23 14:…</td><td>80.0</td><td>80.0</td><td>48.0</td><td>29.73</td><td>8.0</td><td>&quot;SW&quot;</td><td>9.0</td><td>0.0</td><td>&quot;Fair&quot;</td><td>false</td><td>false</td><td>false</td><td>false</td><td>true</td><td>false</td><td>false</td><td>false</td><td>false</td><td>false</td><td>false</td><td>false</td><td>false</td><td>&quot;Day&quot;</td><td>&quot;Day&quot;</td><td>&quot;Day&quot;</td><td>&quot;Day&quot;</td><td>&quot;California&quot;</td><td>&quot;Calif.&quot;</td><td>&quot;&lt;Rosemead,_Cal…</td></tr><tr><td>&quot;A-2845327&quot;</td><td>2</td><td>&quot;2019-08-23 16:…</td><td>&quot;2019-08-23 17:…</td><td>33.92925</td><td>-117.41667</td><td>33.92523</td><td>-117.42377</td><td>0.493</td><td>&quot;At Adams St - …</td><td>null</td><td>&quot;CA-91 W&quot;</td><td>&quot;R&quot;</td><td>&quot;Riverside&quot;</td><td>&quot;Riverside&quot;</td><td>&quot;CA&quot;</td><td>&quot;92504&quot;</td><td>&quot;US&quot;</td><td>&quot;US/Pacific&quot;</td><td>&quot;KRAL&quot;</td><td>&quot;2019-08-23 16:…</td><td>90.0</td><td>90.0</td><td>33.0</td><td>28.93</td><td>10.0</td><td>&quot;W&quot;</td><td>9.0</td><td>0.0</td><td>&quot;Fair&quot;</td><td>false</td><td>false</td><td>false</td><td>false</td><td>true</td><td>false</td><td>false</td><td>false</td><td>false</td><td>false</td><td>false</td><td>false</td><td>false</td><td>&quot;Day&quot;</td><td>&quot;Day&quot;</td><td>&quot;Day&quot;</td><td>&quot;Day&quot;</td><td>&quot;California&quot;</td><td>&quot;Calif.&quot;</td><td>&quot;&lt;Riverside,_Ca…</td></tr><tr><td>&quot;A-2845328&quot;</td><td>2</td><td>&quot;2019-08-23 16:…</td><td>&quot;2019-08-23 16:…</td><td>34.03047</td><td>-117.59817</td><td>34.0305</td><td>-117.5886</td><td>0.548</td><td>&quot;At Archibald A…</td><td>null</td><td>&quot;Pomona Fwy E&quot;</td><td>&quot;R&quot;</td><td>&quot;Ontario&quot;</td><td>&quot;San Bernardino…</td><td>&quot;CA&quot;</td><td>&quot;91761&quot;</td><td>&quot;US&quot;</td><td>&quot;US/Pacific&quot;</td><td>&quot;KONT&quot;</td><td>&quot;2019-08-23 16:…</td><td>89.0</td><td>89.0</td><td>34.0</td><td>28.78</td><td>10.0</td><td>&quot;WSW&quot;</td><td>13.0</td><td>0.0</td><td>&quot;Fair&quot;</td><td>false</td><td>false</td><td>false</td><td>false</td><td>true</td><td>false</td><td>false</td><td>false</td><td>false</td><td>false</td><td>false</td><td>false</td><td>false</td><td>&quot;Day&quot;</td><td>&quot;Day&quot;</td><td>&quot;Day&quot;</td><td>&quot;Day&quot;</td><td>&quot;California&quot;</td><td>&quot;Calif.&quot;</td><td>&quot;&lt;Ontario,_Cali…</td></tr><tr><td>&quot;A-2845329&quot;</td><td>4</td><td>&quot;2019-08-23 16:…</td><td>&quot;2019-08-23 17:…</td><td>33.77913</td><td>-117.88798</td><td>33.77991</td><td>-117.89086</td><td>0.174</td><td>&quot;Ramp closed to…</td><td>null</td><td>&quot;CA-22 W&quot;</td><td>&quot;R&quot;</td><td>&quot;Orange&quot;</td><td>&quot;Orange&quot;</td><td>&quot;CA&quot;</td><td>&quot;92868&quot;</td><td>&quot;US&quot;</td><td>&quot;US/Pacific&quot;</td><td>&quot;KSNA&quot;</td><td>&quot;2019-08-23 16:…</td><td>76.0</td><td>76.0</td><td>56.0</td><td>29.75</td><td>10.0</td><td>&quot;S&quot;</td><td>10.0</td><td>0.0</td><td>&quot;Fair&quot;</td><td>false</td><td>false</td><td>false</td><td>false</td><td>false</td><td>false</td><td>false</td><td>false</td><td>false</td><td>false</td><td>false</td><td>false</td><td>false</td><td>&quot;Day&quot;</td><td>&quot;Day&quot;</td><td>&quot;Day&quot;</td><td>&quot;Day&quot;</td><td>&quot;California&quot;</td><td>&quot;Calif.&quot;</td><td>&quot;&lt;Orange,_Calif…</td></tr><tr><td>&quot;A-2845331&quot;</td><td>2</td><td>&quot;2019-08-23 17:…</td><td>&quot;2019-08-23 17:…</td><td>33.8508</td><td>-117.84365</td><td>33.85075</td><td>-117.83745</td><td>0.356</td><td>&quot;At Tustin Ave …</td><td>null</td><td>&quot;Riverside Fwy …</td><td>&quot;R&quot;</td><td>&quot;Anaheim&quot;</td><td>&quot;Orange&quot;</td><td>&quot;CA&quot;</td><td>&quot;92806&quot;</td><td>&quot;US&quot;</td><td>&quot;US/Pacific&quot;</td><td>&quot;KFUL&quot;</td><td>&quot;2019-08-23 16:…</td><td>79.0</td><td>79.0</td><td>50.0</td><td>29.7</td><td>10.0</td><td>&quot;VAR&quot;</td><td>5.0</td><td>0.0</td><td>&quot;Fair&quot;</td><td>false</td><td>false</td><td>false</td><td>false</td><td>true</td><td>false</td><td>false</td><td>false</td><td>false</td><td>false</td><td>false</td><td>false</td><td>false</td><td>&quot;Day&quot;</td><td>&quot;Day&quot;</td><td>&quot;Day&quot;</td><td>&quot;Day&quot;</td><td>&quot;California&quot;</td><td>&quot;Calif.&quot;</td><td>&quot;&lt;Anaheim,_Cali…</td></tr><tr><td>&quot;A-2845332&quot;</td><td>2</td><td>&quot;2019-08-23 16:…</td><td>&quot;2019-08-23 17:…</td><td>34.120911</td><td>-117.833454</td><td>34.120911</td><td>-117.833454</td><td>0.0</td><td>&quot;At CA-210/CA-5…</td><td>null</td><td>&quot;CA-210 E&quot;</td><td>&quot;R&quot;</td><td>&quot;Glendora&quot;</td><td>&quot;Los Angeles&quot;</td><td>&quot;CA&quot;</td><td>&quot;91740&quot;</td><td>&quot;US&quot;</td><td>&quot;US/Pacific&quot;</td><td>&quot;KPOC&quot;</td><td>&quot;2019-08-23 16:…</td><td>86.0</td><td>86.0</td><td>40.0</td><td>28.76</td><td>10.0</td><td>&quot;WSW&quot;</td><td>12.0</td><td>null</td><td>&quot;Fair&quot;</td><td>false</td><td>false</td><td>false</td><td>false</td><td>false</td><td>false</td><td>false</td><td>false</td><td>false</td><td>false</td><td>false</td><td>false</td><td>false</td><td>&quot;Day&quot;</td><td>&quot;Day&quot;</td><td>&quot;Day&quot;</td><td>&quot;Day&quot;</td><td>&quot;California&quot;</td><td>&quot;Calif.&quot;</td><td>&quot;&lt;Glendora,_Cal…</td></tr><tr><td>&quot;A-2845335&quot;</td><td>2</td><td>&quot;2019-08-23 17:…</td><td>&quot;2019-08-23 18:…</td><td>34.26103</td><td>-119.228</td><td>34.26239</td><td>-119.23087</td><td>0.189</td><td>&quot;At Telephone R…</td><td>null</td><td>&quot;El Camino Real…</td><td>&quot;R&quot;</td><td>&quot;Ventura&quot;</td><td>&quot;Ventura&quot;</td><td>&quot;CA&quot;</td><td>&quot;93003&quot;</td><td>&quot;US&quot;</td><td>&quot;US/Pacific&quot;</td><td>&quot;KOXR&quot;</td><td>&quot;2019-08-23 17:…</td><td>73.0</td><td>73.0</td><td>68.0</td><td>29.76</td><td>10.0</td><td>&quot;W&quot;</td><td>9.0</td><td>0.0</td><td>&quot;Fair&quot;</td><td>false</td><td>false</td><td>false</td><td>false</td><td>true</td><td>false</td><td>false</td><td>false</td><td>false</td><td>false</td><td>false</td><td>false</td><td>false</td><td>&quot;Day&quot;</td><td>&quot;Day&quot;</td><td>&quot;Day&quot;</td><td>&quot;Day&quot;</td><td>&quot;California&quot;</td><td>&quot;Calif.&quot;</td><td>&quot;&lt;Ventura,_Cali…</td></tr><tr><td>&quot;A-2845336&quot;</td><td>2</td><td>&quot;2019-08-23 17:…</td><td>&quot;2019-08-23 18:…</td><td>33.7417</td><td>-117.83709</td><td>33.73917</td><td>-117.83001</td><td>0.443</td><td>&quot;At CA-55 - Acc…</td><td>null</td><td>&quot;Santa Ana Fwy …</td><td>&quot;R&quot;</td><td>&quot;Tustin&quot;</td><td>&quot;Orange&quot;</td><td>&quot;CA&quot;</td><td>&quot;92780&quot;</td><td>&quot;US&quot;</td><td>&quot;US/Pacific&quot;</td><td>&quot;KSNA&quot;</td><td>&quot;2019-08-23 17:…</td><td>75.0</td><td>75.0</td><td>60.0</td><td>29.74</td><td>10.0</td><td>&quot;SSW&quot;</td><td>9.0</td><td>0.0</td><td>&quot;Fair&quot;</td><td>false</td><td>false</td><td>false</td><td>false</td><td>false</td><td>false</td><td>false</td><td>false</td><td>false</td><td>false</td><td>false</td><td>false</td><td>false</td><td>&quot;Day&quot;</td><td>&quot;Day&quot;</td><td>&quot;Day&quot;</td><td>&quot;Day&quot;</td><td>&quot;California&quot;</td><td>&quot;Calif.&quot;</td><td>&quot;&lt;Tustin,_Calif…</td></tr><tr><td>&quot;A-2845338&quot;</td><td>2</td><td>&quot;2019-08-23 18:…</td><td>&quot;2019-08-23 18:…</td><td>34.00248</td><td>-117.37936</td><td>33.99888</td><td>-117.37094</td><td>0.543</td><td>&quot;At Market St -…</td><td>null</td><td>&quot;Pomona Fwy E&quot;</td><td>&quot;R&quot;</td><td>&quot;Riverside&quot;</td><td>&quot;Riverside&quot;</td><td>&quot;CA&quot;</td><td>&quot;92501&quot;</td><td>&quot;US&quot;</td><td>&quot;US/Pacific&quot;</td><td>&quot;KRAL&quot;</td><td>&quot;2019-08-23 17:…</td><td>86.0</td><td>86.0</td><td>40.0</td><td>28.92</td><td>10.0</td><td>&quot;W&quot;</td><td>13.0</td><td>0.0</td><td>&quot;Fair&quot;</td><td>false</td><td>false</td><td>false</td><td>false</td><td>false</td><td>false</td><td>false</td><td>false</td><td>false</td><td>false</td><td>false</td><td>false</td><td>false</td><td>&quot;Day&quot;</td><td>&quot;Day&quot;</td><td>&quot;Day&quot;</td><td>&quot;Day&quot;</td><td>&quot;California&quot;</td><td>&quot;Calif.&quot;</td><td>&quot;&lt;Riverside,_Ca…</td></tr><tr><td>&quot;A-2845340&quot;</td><td>2</td><td>&quot;2019-08-23 19:…</td><td>&quot;2019-08-23 19:…</td><td>33.77545</td><td>-117.84779</td><td>33.7774</td><td>-117.85727</td><td>0.561</td><td>&quot;At Glassell St…</td><td>null</td><td>&quot;Garden Grove F…</td><td>&quot;R&quot;</td><td>&quot;Orange&quot;</td><td>&quot;Orange&quot;</td><td>&quot;CA&quot;</td><td>&quot;92866&quot;</td><td>&quot;US&quot;</td><td>&quot;US/Pacific&quot;</td><td>&quot;KSNA&quot;</td><td>&quot;2019-08-23 18:…</td><td>73.0</td><td>73.0</td><td>64.0</td><td>29.74</td><td>10.0</td><td>&quot;SSW&quot;</td><td>10.0</td><td>0.0</td><td>&quot;Partly Cloudy&quot;</td><td>false</td><td>false</td><td>false</td><td>false</td><td>true</td><td>false</td><td>false</td><td>false</td><td>false</td><td>false</td><td>false</td><td>false</td><td>false</td><td>&quot;Day&quot;</td><td>&quot;Day&quot;</td><td>&quot;Day&quot;</td><td>&quot;Day&quot;</td><td>&quot;California&quot;</td><td>&quot;Calif.&quot;</td><td>&quot;&lt;Orange,_Calif…</td></tr><tr><td>&quot;A-2845342&quot;</td><td>2</td><td>&quot;2019-08-23 18:…</td><td>&quot;2019-08-23 19:…</td><td>34.13393</td><td>-117.23092</td><td>34.13736</td><td>-117.23934</td><td>0.537</td><td>&quot;At Highland Av…</td><td>null</td><td>&quot;CA-210 W&quot;</td><td>&quot;R&quot;</td><td>&quot;Highland&quot;</td><td>&quot;San Bernardino…</td><td>&quot;CA&quot;</td><td>&quot;92346&quot;</td><td>&quot;US&quot;</td><td>&quot;US/Pacific&quot;</td><td>&quot;KSBD&quot;</td><td>&quot;2019-08-23 20:…</td><td>79.0</td><td>79.0</td><td>47.0</td><td>28.63</td><td>7.0</td><td>&quot;SW&quot;</td><td>7.0</td><td>0.0</td><td>&quot;Fair&quot;</td><td>false</td><td>false</td><td>false</td><td>false</td><td>false</td><td>false</td><td>false</td><td>false</td><td>false</td><td>false</td><td>false</td><td>false</td><td>false</td><td>&quot;Day&quot;</td><td>&quot;Day&quot;</td><td>&quot;Day&quot;</td><td>&quot;Day&quot;</td><td>&quot;California&quot;</td><td>&quot;Calif.&quot;</td><td>&quot;&lt;Highland,_Cal…</td></tr></tbody></table></div>"
      ],
      "text/plain": [
       "shape: (1_396_368, 50)\n",
       "┌───────────┬──────────┬──────────┬────────────┬───┬────────────┬────────────┬────────┬────────────┐\n",
       "│ ID        ┆ Severity ┆ Start_Ti ┆ End_Time   ┆ … ┆ Astronomic ┆ State      ┆ Abbrev ┆ col_to_emb │\n",
       "│ ---       ┆ ---      ┆ me       ┆ ---        ┆   ┆ al_Twiligh ┆ ---        ┆ ---    ┆ ed         │\n",
       "│ str       ┆ i64      ┆ ---      ┆ str        ┆   ┆ t          ┆ str        ┆ str    ┆ ---        │\n",
       "│           ┆          ┆ str      ┆            ┆   ┆ ---        ┆            ┆        ┆ str        │\n",
       "│           ┆          ┆          ┆            ┆   ┆ str        ┆            ┆        ┆            │\n",
       "╞═══════════╪══════════╪══════════╪════════════╪═══╪════════════╪════════════╪════════╪════════════╡\n",
       "│ A-1       ┆ 3        ┆ 2016-02- ┆ 2016-02-08 ┆ … ┆ Night      ┆ Ohio       ┆ Ohio   ┆ <Dublin,_O │\n",
       "│           ┆          ┆ 08       ┆ 06:37:08   ┆   ┆            ┆            ┆        ┆ hio>       │\n",
       "│           ┆          ┆ 00:37:08 ┆            ┆   ┆            ┆            ┆        ┆            │\n",
       "│ A-2       ┆ 2        ┆ 2016-02- ┆ 2016-02-08 ┆ … ┆ Night      ┆ Ohio       ┆ Ohio   ┆ <Dayton,_O │\n",
       "│           ┆          ┆ 08       ┆ 11:56:20   ┆   ┆            ┆            ┆        ┆ hio>       │\n",
       "│           ┆          ┆ 05:56:20 ┆            ┆   ┆            ┆            ┆        ┆            │\n",
       "│ A-4       ┆ 2        ┆ 2016-02- ┆ 2016-02-08 ┆ … ┆ Day        ┆ Ohio       ┆ Ohio   ┆ <Akron,_Oh │\n",
       "│           ┆          ┆ 08       ┆ 12:51:45   ┆   ┆            ┆            ┆        ┆ io>        │\n",
       "│           ┆          ┆ 06:51:45 ┆            ┆   ┆            ┆            ┆        ┆            │\n",
       "│ A-6       ┆ 2        ┆ 2016-02- ┆ 2016-02-08 ┆ … ┆ Day        ┆ Ohio       ┆ Ohio   ┆ <Williamsb │\n",
       "│           ┆          ┆ 08       ┆ 14:16:57   ┆   ┆            ┆            ┆        ┆ urg,_Ohio> │\n",
       "│           ┆          ┆ 08:16:57 ┆            ┆   ┆            ┆            ┆        ┆            │\n",
       "│ …         ┆ …        ┆ …        ┆ …          ┆ … ┆ …          ┆ …          ┆ …      ┆ …          │\n",
       "│ A-2845336 ┆ 2        ┆ 2019-08- ┆ 2019-08-23 ┆ … ┆ Day        ┆ California ┆ Calif. ┆ <Tustin,_C │\n",
       "│           ┆          ┆ 23       ┆ 18:12:27   ┆   ┆            ┆            ┆        ┆ alifornia> │\n",
       "│           ┆          ┆ 17:43:56 ┆            ┆   ┆            ┆            ┆        ┆            │\n",
       "│ A-2845338 ┆ 2        ┆ 2019-08- ┆ 2019-08-23 ┆ … ┆ Day        ┆ California ┆ Calif. ┆ <Riverside │\n",
       "│           ┆          ┆ 23       ┆ 18:32:01   ┆   ┆            ┆            ┆        ┆ ,_Californ │\n",
       "│           ┆          ┆ 18:03:25 ┆            ┆   ┆            ┆            ┆        ┆ ia>        │\n",
       "│ A-2845340 ┆ 2        ┆ 2019-08- ┆ 2019-08-23 ┆ … ┆ Day        ┆ California ┆ Calif. ┆ <Orange,_C │\n",
       "│           ┆          ┆ 23       ┆ 19:28:49   ┆   ┆            ┆            ┆        ┆ alifornia> │\n",
       "│           ┆          ┆ 19:00:21 ┆            ┆   ┆            ┆            ┆        ┆            │\n",
       "│ A-2845342 ┆ 2        ┆ 2019-08- ┆ 2019-08-23 ┆ … ┆ Day        ┆ California ┆ Calif. ┆ <Highland, │\n",
       "│           ┆          ┆ 23       ┆ 19:21:31   ┆   ┆            ┆            ┆        ┆ _Californi │\n",
       "│           ┆          ┆ 18:52:06 ┆            ┆   ┆            ┆            ┆        ┆ a>         │\n",
       "└───────────┴──────────┴──────────┴────────────┴───┴────────────┴────────────┴────────┴────────────┘"
      ]
     },
     "execution_count": 88,
     "metadata": {},
     "output_type": "execute_result"
    }
   ],
   "source": [
    "df_filtered"
   ]
  },
  {
   "cell_type": "code",
   "execution_count": 82,
   "metadata": {},
   "outputs": [
    {
     "data": {
      "text/html": [
       "<div><style>\n",
       ".dataframe > thead > tr > th,\n",
       ".dataframe > tbody > tr > td {\n",
       "  text-align: right;\n",
       "}\n",
       "</style>\n",
       "<small>shape: (8_986, 1)</small><table border=\"1\" class=\"dataframe\"><thead><tr><th>City</th></tr><tr><td>str</td></tr></thead><tbody><tr><td>&quot;Lima&quot;</td></tr><tr><td>&quot;Wenham&quot;</td></tr><tr><td>&quot;Wautoma&quot;</td></tr><tr><td>&quot;Maryville&quot;</td></tr><tr><td>&quot;Baldwin&quot;</td></tr><tr><td>&quot;Fremont&quot;</td></tr><tr><td>&quot;Cologne&quot;</td></tr><tr><td>&quot;Inkom&quot;</td></tr><tr><td>&quot;Neola&quot;</td></tr><tr><td>&quot;Saint Thomas&quot;</td></tr><tr><td>&quot;Wellborn&quot;</td></tr><tr><td>&quot;Punxsutawney&quot;</td></tr><tr><td>&hellip;</td></tr><tr><td>&quot;Lucasville&quot;</td></tr><tr><td>&quot;Kenesaw&quot;</td></tr><tr><td>&quot;Sylacauga&quot;</td></tr><tr><td>&quot;Larimer&quot;</td></tr><tr><td>&quot;Oaktown&quot;</td></tr><tr><td>&quot;Webb&quot;</td></tr><tr><td>&quot;Swansea&quot;</td></tr><tr><td>&quot;Shoshoni&quot;</td></tr><tr><td>&quot;Creve Coeur&quot;</td></tr><tr><td>&quot;White&quot;</td></tr><tr><td>&quot;Dorris&quot;</td></tr><tr><td>&quot;Carmichaels&quot;</td></tr></tbody></table></div>"
      ],
      "text/plain": [
       "shape: (8_986, 1)\n",
       "┌─────────────┐\n",
       "│ City        │\n",
       "│ ---         │\n",
       "│ str         │\n",
       "╞═════════════╡\n",
       "│ Lima        │\n",
       "│ Wenham      │\n",
       "│ Wautoma     │\n",
       "│ Maryville   │\n",
       "│ …           │\n",
       "│ Creve Coeur │\n",
       "│ White       │\n",
       "│ Dorris      │\n",
       "│ Carmichaels │\n",
       "└─────────────┘"
      ]
     },
     "execution_count": 82,
     "metadata": {},
     "output_type": "execute_result"
    }
   ],
   "source": [
    "df_filtered.select(pl.col(\"City\").unique())"
   ]
  },
  {
   "attachments": {},
   "cell_type": "markdown",
   "metadata": {},
   "source": [
    "For the preparation, we select only the accidents whose `Start_Time` is between 2019-01-01 and 2019-12-31. "
   ]
  },
  {
   "cell_type": "code",
   "execution_count": 73,
   "metadata": {},
   "outputs": [],
   "source": [
    "start_date = datetime.date(2019, 1,1)\n",
    "end_date = datetime.date(2019, 12, 31)\n",
    "df_by_year = df_filtered.filter(\n",
    "    (pl.col(\"Start_Time\").str.to_datetime()>start_date) & (pl.col(\"Start_Time\").str.to_datetime()<end_date)\n",
    ")"
   ]
  },
  {
   "attachments": {},
   "cell_type": "markdown",
   "metadata": {},
   "source": [
    "Counting the number of accidents (log10) per county in the given year."
   ]
  },
  {
   "cell_type": "code",
   "execution_count": 74,
   "metadata": {},
   "outputs": [
    {
     "data": {
      "text/html": [
       "<div><style>\n",
       ".dataframe > thead > tr > th,\n",
       ".dataframe > tbody > tr > td {\n",
       "  text-align: right;\n",
       "}\n",
       "</style>\n",
       "<small>shape: (7_098, 2)</small><table border=\"1\" class=\"dataframe\"><thead><tr><th>col_to_embed</th><th>target</th></tr><tr><td>str</td><td>f64</td></tr></thead><tbody><tr><td>&quot;&lt;Westmoreland_…</td><td>0.845098</td></tr><tr><td>&quot;&lt;Fairfax_Count…</td><td>1.944483</td></tr><tr><td>&quot;&lt;Baltimore_Cou…</td><td>1.568202</td></tr><tr><td>&quot;&lt;Miami-Dade_Co…</td><td>1.612784</td></tr><tr><td>&quot;&lt;Beltrami_Coun…</td><td>0.90309</td></tr><tr><td>&quot;&lt;Portage_Count…</td><td>0.30103</td></tr><tr><td>&quot;&lt;Cook_County,_…</td><td>1.591065</td></tr><tr><td>&quot;&lt;Steele_County…</td><td>1.176091</td></tr><tr><td>&quot;&lt;Itasca_County…</td><td>1.462398</td></tr><tr><td>&quot;&lt;Jackson_Count…</td><td>2.348305</td></tr><tr><td>&quot;&lt;Klamath_Count…</td><td>1.579784</td></tr><tr><td>&quot;&lt;Sacramento_Co…</td><td>2.350248</td></tr><tr><td>&hellip;</td><td>&hellip;</td></tr><tr><td>&quot;&lt;Hancock_Count…</td><td>0.477121</td></tr><tr><td>&quot;&lt;Sevier_County…</td><td>0.0</td></tr><tr><td>&quot;&lt;Litchfield_Co…</td><td>0.30103</td></tr><tr><td>&quot;&lt;Howard_County…</td><td>0.30103</td></tr><tr><td>&quot;&lt;Grant_County,…</td><td>0.30103</td></tr><tr><td>&quot;&lt;Franklin_Coun…</td><td>0.0</td></tr><tr><td>&quot;&lt;Wilkinson_Cou…</td><td>0.0</td></tr><tr><td>&quot;&lt;Adams_County,…</td><td>0.30103</td></tr><tr><td>&quot;&lt;Berks_County,…</td><td>0.0</td></tr><tr><td>&quot;&lt;Hardin_County…</td><td>0.0</td></tr><tr><td>&quot;&lt;Mohave_County…</td><td>0.0</td></tr><tr><td>&quot;&lt;Bingham_Count…</td><td>0.30103</td></tr></tbody></table></div>"
      ],
      "text/plain": [
       "shape: (7_098, 2)\n",
       "┌───────────────────────────────────┬──────────┐\n",
       "│ col_to_embed                      ┆ target   │\n",
       "│ ---                               ┆ ---      │\n",
       "│ str                               ┆ f64      │\n",
       "╞═══════════════════════════════════╪══════════╡\n",
       "│ <Westmoreland_County,_Pennsylvan… ┆ 0.845098 │\n",
       "│ <Fairfax_County,_Virginia>        ┆ 1.944483 │\n",
       "│ <Baltimore_County,_Maryland>      ┆ 1.568202 │\n",
       "│ <Miami-Dade_County,_Florida>      ┆ 1.612784 │\n",
       "│ …                                 ┆ …        │\n",
       "│ <Berks_County,_Pennsylvania>      ┆ 0.0      │\n",
       "│ <Hardin_County,_Kentucky>         ┆ 0.0      │\n",
       "│ <Mohave_County,_Arizona>          ┆ 0.0      │\n",
       "│ <Bingham_County,_Idaho>           ┆ 0.30103  │\n",
       "└───────────────────────────────────┴──────────┘"
      ]
     },
     "execution_count": 74,
     "metadata": {},
     "output_type": "execute_result"
    }
   ],
   "source": [
    "df_counts_by_year=df_by_year.groupby(\n",
    "    [\n",
    "        \"col_to_embed\", \"City\", \"Code\"\n",
    "    ]\n",
    "    ).count().select(\n",
    "        pl.col(\"col_to_embed\"),\n",
    "        pl.col(\"count\").alias(\"target\").log10()\n",
    "    )\n",
    "df_counts_by_year"
   ]
  },
  {
   "attachments": {},
   "cell_type": "markdown",
   "metadata": {},
   "source": [
    "### Preprocessing"
   ]
  },
  {
   "attachments": {},
   "cell_type": "markdown",
   "metadata": {},
   "source": [
    "In the KEN paper, everything except the county was dropped. Here, we need to rely on the information still found in the \n",
    "table, so we need to to reduce the table to have only one sample for each row. It is necessary to aggregate any information\n",
    "that has granularity smaller than \"county\". \n",
    "\n",
    "The overall number of columns is also reduced from the original. \n",
    "\n",
    "To aggregate all the values, the `mode` is used to select the most frequent categorical value, while the `mean` is used\n",
    "on the numerical attributes. \n",
    "\n",
    "The resulting table is saved in `us-accidents-yadl.parquet`."
   ]
  },
  {
   "cell_type": "code",
   "execution_count": 75,
   "metadata": {},
   "outputs": [],
   "source": [
    "df_final = df_counts_by_year.join(\n",
    "    df_by_year, \n",
    "    on=\"col_to_embed\",\n",
    "    how=\"inner\"\n",
    ")\n",
    "# ).groupby([\"County\", \"State\", \"col_to_embed\"])"
   ]
  },
  {
   "cell_type": "code",
   "execution_count": 76,
   "metadata": {},
   "outputs": [],
   "source": [
    "df_final = df_counts_by_year.join(\n",
    "    df_by_year, \n",
    "    on=\"col_to_embed\",\n",
    "    how=\"inner\"\n",
    ").groupby([\"County\", \"State\", \"col_to_embed\"]).agg(\n",
    "    pl.col(\"target\").mean(),\n",
    "    # pl.col(\"County\").mode().first(),\n",
    "    pl.col(\"Code\").mode().first(),\n",
    "    pl.col(\"Severity\").mean(),\n",
    "    pl.col(\"Zipcode\").mode().first(),\n",
    "    pl.col(\"Country\").mode().first(),\n",
    "    pl.col(\"Airport_Code\").mode().first(),\n",
    "    pl.col(\"Visibility(mi)\").mean(),\n",
    "    pl.col(\"Sunrise_Sunset\").mode().first(),\n",
    "    pl.col(\"Civil_Twilight\").mode().first(),\n",
    "    # pl.col(\"State\").mode().first(),    \n",
    ")\n",
    "df_final.write_parquet(Path(dataset_dir, \"us-accidents-yadl.parquet\"))\n"
   ]
  },
  {
   "attachments": {},
   "cell_type": "markdown",
   "metadata": {},
   "source": [
    "Here we check the percentage of missing values in each column. "
   ]
  },
  {
   "cell_type": "code",
   "execution_count": 78,
   "metadata": {},
   "outputs": [
    {
     "data": {
      "text/html": [
       "<div><style>\n",
       ".dataframe > thead > tr > th,\n",
       ".dataframe > tbody > tr > td {\n",
       "  text-align: right;\n",
       "}\n",
       "</style>\n",
       "<small>shape: (1, 12)</small><table border=\"1\" class=\"dataframe\"><thead><tr><th>County</th><th>State</th><th>col_to_embed</th><th>target</th><th>Code</th><th>Severity</th><th>Zipcode</th><th>Country</th><th>Airport_Code</th><th>Visibility(mi)</th><th>Sunrise_Sunset</th><th>Civil_Twilight</th></tr><tr><td>f64</td><td>f64</td><td>f64</td><td>f64</td><td>f64</td><td>f64</td><td>f64</td><td>f64</td><td>f64</td><td>f64</td><td>f64</td><td>f64</td></tr></thead><tbody><tr><td>0.0</td><td>0.0</td><td>0.0</td><td>0.0</td><td>0.0</td><td>0.0</td><td>0.0612</td><td>0.0</td><td>0.0612</td><td>1.529988</td><td>0.0</td><td>0.0</td></tr></tbody></table></div>"
      ],
      "text/plain": [
       "shape: (1, 12)\n",
       "┌────────┬───────┬────────────┬────────┬───┬────────────┬────────────┬──────────────┬──────────────┐\n",
       "│ County ┆ State ┆ col_to_emb ┆ target ┆ … ┆ Airport_Co ┆ Visibility ┆ Sunrise_Suns ┆ Civil_Twilig │\n",
       "│ ---    ┆ ---   ┆ ed         ┆ ---    ┆   ┆ de         ┆ (mi)       ┆ et           ┆ ht           │\n",
       "│ f64    ┆ f64   ┆ ---        ┆ f64    ┆   ┆ ---        ┆ ---        ┆ ---          ┆ ---          │\n",
       "│        ┆       ┆ f64        ┆        ┆   ┆ f64        ┆ f64        ┆ f64          ┆ f64          │\n",
       "╞════════╪═══════╪════════════╪════════╪═══╪════════════╪════════════╪══════════════╪══════════════╡\n",
       "│ 0.0    ┆ 0.0   ┆ 0.0        ┆ 0.0    ┆ … ┆ 0.0612     ┆ 1.529988   ┆ 0.0          ┆ 0.0          │\n",
       "└────────┴───────┴────────────┴────────┴───┴────────────┴────────────┴──────────────┴──────────────┘"
      ]
     },
     "execution_count": 78,
     "metadata": {},
     "output_type": "execute_result"
    }
   ],
   "source": [
    "df_final.null_count()/len(df_final)*100"
   ]
  },
  {
   "cell_type": "code",
   "execution_count": 79,
   "metadata": {},
   "outputs": [
    {
     "data": {
      "text/html": [
       "<div><style>\n",
       ".dataframe > thead > tr > th,\n",
       ".dataframe > tbody > tr > td {\n",
       "  text-align: right;\n",
       "}\n",
       "</style>\n",
       "<small>shape: (1_634, 12)</small><table border=\"1\" class=\"dataframe\"><thead><tr><th>County</th><th>State</th><th>col_to_embed</th><th>target</th><th>Code</th><th>Severity</th><th>Zipcode</th><th>Country</th><th>Airport_Code</th><th>Visibility(mi)</th><th>Sunrise_Sunset</th><th>Civil_Twilight</th></tr><tr><td>str</td><td>str</td><td>str</td><td>f64</td><td>str</td><td>f64</td><td>str</td><td>str</td><td>str</td><td>f64</td><td>str</td><td>str</td></tr></thead><tbody><tr><td>&quot;Livingston&quot;</td><td>&quot;Michigan&quot;</td><td>&quot;&lt;Livingston_Co…</td><td>1.031013</td><td>&quot;MI&quot;</td><td>2.756303</td><td>&quot;48116&quot;</td><td>&quot;US&quot;</td><td>&quot;KOZW&quot;</td><td>8.27395</td><td>&quot;Day&quot;</td><td>&quot;Day&quot;</td></tr><tr><td>&quot;Pasco&quot;</td><td>&quot;Florida&quot;</td><td>&quot;&lt;Pasco_County,…</td><td>0.597454</td><td>&quot;FL&quot;</td><td>2.569444</td><td>&quot;33544&quot;</td><td>&quot;US&quot;</td><td>&quot;KVDF&quot;</td><td>9.249275</td><td>&quot;Day&quot;</td><td>&quot;Day&quot;</td></tr><tr><td>&quot;Winnebago&quot;</td><td>&quot;Wisconsin&quot;</td><td>&quot;&lt;Winnebago_Cou…</td><td>0.664692</td><td>&quot;WI&quot;</td><td>3.131579</td><td>&quot;54956&quot;</td><td>&quot;US&quot;</td><td>&quot;KATW&quot;</td><td>8.223684</td><td>&quot;Day&quot;</td><td>&quot;Day&quot;</td></tr><tr><td>&quot;Chisago&quot;</td><td>&quot;Minnesota&quot;</td><td>&quot;&lt;Chisago_Count…</td><td>1.041243</td><td>&quot;MN&quot;</td><td>2.040404</td><td>&quot;55069&quot;</td><td>&quot;US&quot;</td><td>&quot;KROS&quot;</td><td>8.006566</td><td>&quot;Night&quot;</td><td>&quot;Day&quot;</td></tr><tr><td>&quot;Wayne&quot;</td><td>&quot;Tennessee&quot;</td><td>&quot;&lt;Wayne_County,…</td><td>0.150515</td><td>&quot;TN&quot;</td><td>4.0</td><td>&quot;38485-3840&quot;</td><td>&quot;US&quot;</td><td>&quot;KMSL&quot;</td><td>10.0</td><td>&quot;Night&quot;</td><td>&quot;Night&quot;</td></tr><tr><td>&quot;Jackson&quot;</td><td>&quot;Oregon&quot;</td><td>&quot;&lt;Jackson_Count…</td><td>1.853273</td><td>&quot;OR&quot;</td><td>2.015744</td><td>&quot;97520&quot;</td><td>&quot;US&quot;</td><td>&quot;KMFR&quot;</td><td>8.994693</td><td>&quot;Day&quot;</td><td>&quot;Day&quot;</td></tr><tr><td>&quot;Sonoma&quot;</td><td>&quot;California&quot;</td><td>&quot;&lt;Sonoma_County…</td><td>1.109544</td><td>&quot;CA&quot;</td><td>2.047386</td><td>&quot;94952&quot;</td><td>&quot;US&quot;</td><td>&quot;KSTS&quot;</td><td>8.323822</td><td>&quot;Day&quot;</td><td>&quot;Day&quot;</td></tr><tr><td>&quot;Washtenaw&quot;</td><td>&quot;Michigan&quot;</td><td>&quot;&lt;Washtenaw_Cou…</td><td>1.080943</td><td>&quot;MI&quot;</td><td>2.863436</td><td>&quot;48105&quot;</td><td>&quot;US&quot;</td><td>&quot;KARB&quot;</td><td>8.660841</td><td>&quot;Day&quot;</td><td>&quot;Day&quot;</td></tr><tr><td>&quot;Muscogee&quot;</td><td>&quot;Georgia&quot;</td><td>&quot;&lt;Muscogee_Coun…</td><td>0.475772</td><td>&quot;GA&quot;</td><td>2.8</td><td>&quot;31907&quot;</td><td>&quot;US&quot;</td><td>&quot;KCSG&quot;</td><td>9.32</td><td>&quot;Day&quot;</td><td>&quot;Day&quot;</td></tr><tr><td>&quot;Meriwether&quot;</td><td>&quot;Georgia&quot;</td><td>&quot;&lt;Meriwether_Co…</td><td>0.512305</td><td>&quot;GA&quot;</td><td>3.733333</td><td>&quot;30222&quot;</td><td>&quot;US&quot;</td><td>&quot;KCCO&quot;</td><td>9.6</td><td>&quot;Night&quot;</td><td>&quot;Night&quot;</td></tr><tr><td>&quot;Gadsden&quot;</td><td>&quot;Florida&quot;</td><td>&quot;&lt;Gadsden_Count…</td><td>0.842113</td><td>&quot;FL&quot;</td><td>2.26087</td><td>&quot;32351&quot;</td><td>&quot;US&quot;</td><td>&quot;K2J9&quot;</td><td>9.434783</td><td>&quot;Day&quot;</td><td>&quot;Day&quot;</td></tr><tr><td>&quot;Sumter&quot;</td><td>&quot;Florida&quot;</td><td>&quot;&lt;Sumter_County…</td><td>0.859928</td><td>&quot;FL&quot;</td><td>2.677419</td><td>&quot;34785&quot;</td><td>&quot;US&quot;</td><td>&quot;KVVG&quot;</td><td>9.096774</td><td>&quot;Day&quot;</td><td>&quot;Day&quot;</td></tr><tr><td>&hellip;</td><td>&hellip;</td><td>&hellip;</td><td>&hellip;</td><td>&hellip;</td><td>&hellip;</td><td>&hellip;</td><td>&hellip;</td><td>&hellip;</td><td>&hellip;</td><td>&hellip;</td><td>&hellip;</td></tr><tr><td>&quot;Licking&quot;</td><td>&quot;Ohio&quot;</td><td>&quot;&lt;Licking_Count…</td><td>0.42605</td><td>&quot;OH&quot;</td><td>3.652174</td><td>&quot;43025&quot;</td><td>&quot;US&quot;</td><td>&quot;KVTA&quot;</td><td>9.73913</td><td>&quot;Day&quot;</td><td>&quot;Day&quot;</td></tr><tr><td>&quot;McCracken&quot;</td><td>&quot;Kentucky&quot;</td><td>&quot;&lt;McCracken_Cou…</td><td>0.30103</td><td>&quot;KY&quot;</td><td>4.0</td><td>&quot;42003&quot;</td><td>&quot;US&quot;</td><td>&quot;KPAH&quot;</td><td>5.5</td><td>&quot;Day&quot;</td><td>&quot;Day&quot;</td></tr><tr><td>&quot;Cole&quot;</td><td>&quot;Missouri&quot;</td><td>&quot;&lt;Cole_County,_…</td><td>0.30103</td><td>&quot;MO&quot;</td><td>3.5</td><td>&quot;65109&quot;</td><td>&quot;US&quot;</td><td>&quot;KJEF&quot;</td><td>10.0</td><td>&quot;Day&quot;</td><td>&quot;Day&quot;</td></tr><tr><td>&quot;Chambers&quot;</td><td>&quot;Alabama&quot;</td><td>&quot;&lt;Chambers_Coun…</td><td>0.0</td><td>&quot;AL&quot;</td><td>2.666667</td><td>&quot;36863&quot;</td><td>&quot;US&quot;</td><td>&quot;KLGC&quot;</td><td>10.0</td><td>&quot;Day&quot;</td><td>&quot;Day&quot;</td></tr><tr><td>&quot;Forest&quot;</td><td>&quot;Pennsylvania&quot;</td><td>&quot;&lt;Forest_County…</td><td>0.0</td><td>&quot;PA&quot;</td><td>4.0</td><td>&quot;16353-2533&quot;</td><td>&quot;US&quot;</td><td>&quot;KFKL&quot;</td><td>0.8</td><td>&quot;Day&quot;</td><td>&quot;Day&quot;</td></tr><tr><td>&quot;Pontotoc&quot;</td><td>&quot;Mississippi&quot;</td><td>&quot;&lt;Pontotoc_Coun…</td><td>0.0</td><td>&quot;MS&quot;</td><td>4.0</td><td>&quot;38828&quot;</td><td>&quot;US&quot;</td><td>&quot;KTUP&quot;</td><td>3.0</td><td>&quot;Day&quot;</td><td>&quot;Day&quot;</td></tr><tr><td>&quot;Schuylkill&quot;</td><td>&quot;Pennsylvania&quot;</td><td>&quot;&lt;Schuylkill_Co…</td><td>0.389076</td><td>&quot;PA&quot;</td><td>3.857143</td><td>&quot;17963&quot;</td><td>&quot;US&quot;</td><td>&quot;KMUI&quot;</td><td>8.785714</td><td>&quot;Night&quot;</td><td>&quot;Night&quot;</td></tr><tr><td>&quot;Choctaw&quot;</td><td>&quot;Mississippi&quot;</td><td>&quot;&lt;Choctaw_Count…</td><td>0.30103</td><td>&quot;MS&quot;</td><td>4.0</td><td>&quot;39735&quot;</td><td>&quot;US&quot;</td><td>&quot;KSTF&quot;</td><td>10.0</td><td>&quot;Day&quot;</td><td>&quot;Day&quot;</td></tr><tr><td>&quot;Teton&quot;</td><td>&quot;Montana&quot;</td><td>&quot;&lt;Teton_County,…</td><td>0.0</td><td>&quot;MT&quot;</td><td>4.0</td><td>&quot;59433&quot;</td><td>&quot;US&quot;</td><td>&quot;KGTF&quot;</td><td>10.0</td><td>&quot;Day&quot;</td><td>&quot;Day&quot;</td></tr><tr><td>&quot;Sherman&quot;</td><td>&quot;Texas&quot;</td><td>&quot;&lt;Sherman_Count…</td><td>0.30103</td><td>&quot;TX&quot;</td><td>3.0</td><td>&quot;79084-3623&quot;</td><td>&quot;US&quot;</td><td>&quot;KDUX&quot;</td><td>10.0</td><td>&quot;Day&quot;</td><td>&quot;Day&quot;</td></tr><tr><td>&quot;Tama&quot;</td><td>&quot;Iowa&quot;</td><td>&quot;&lt;Tama_County,_…</td><td>0.0</td><td>&quot;IA&quot;</td><td>2.0</td><td>&quot;50173-8728&quot;</td><td>&quot;US&quot;</td><td>&quot;KMIW&quot;</td><td>10.0</td><td>&quot;Day&quot;</td><td>&quot;Day&quot;</td></tr><tr><td>&quot;Washington&quot;</td><td>&quot;Nebraska&quot;</td><td>&quot;&lt;Washington_Co…</td><td>0.30103</td><td>&quot;NE&quot;</td><td>4.0</td><td>&quot;68008&quot;</td><td>&quot;US&quot;</td><td>&quot;KBTA&quot;</td><td>10.0</td><td>&quot;Day&quot;</td><td>&quot;Day&quot;</td></tr></tbody></table></div>"
      ],
      "text/plain": [
       "shape: (1_634, 12)\n",
       "┌──────┬───────────┬────────────┬──────────┬───┬────────────┬────────────┬────────────┬────────────┐\n",
       "│ Coun ┆ State     ┆ col_to_emb ┆ target   ┆ … ┆ Airport_Co ┆ Visibility ┆ Sunrise_Su ┆ Civil_Twil │\n",
       "│ ty   ┆ ---       ┆ ed         ┆ ---      ┆   ┆ de         ┆ (mi)       ┆ nset       ┆ ight       │\n",
       "│ ---  ┆ str       ┆ ---        ┆ f64      ┆   ┆ ---        ┆ ---        ┆ ---        ┆ ---        │\n",
       "│ str  ┆           ┆ str        ┆          ┆   ┆ str        ┆ f64        ┆ str        ┆ str        │\n",
       "╞══════╪═══════════╪════════════╪══════════╪═══╪════════════╪════════════╪════════════╪════════════╡\n",
       "│ Livi ┆ Michigan  ┆ <Livingsto ┆ 1.031013 ┆ … ┆ KOZW       ┆ 8.27395    ┆ Day        ┆ Day        │\n",
       "│ ngst ┆           ┆ n_County,_ ┆          ┆   ┆            ┆            ┆            ┆            │\n",
       "│ on   ┆           ┆ Michigan>  ┆          ┆   ┆            ┆            ┆            ┆            │\n",
       "│ Pasc ┆ Florida   ┆ <Pasco_Cou ┆ 0.597454 ┆ … ┆ KVDF       ┆ 9.249275   ┆ Day        ┆ Day        │\n",
       "│ o    ┆           ┆ nty,_Flori ┆          ┆   ┆            ┆            ┆            ┆            │\n",
       "│      ┆           ┆ da>        ┆          ┆   ┆            ┆            ┆            ┆            │\n",
       "│ Winn ┆ Wisconsin ┆ <Winnebago ┆ 0.664692 ┆ … ┆ KATW       ┆ 8.223684   ┆ Day        ┆ Day        │\n",
       "│ ebag ┆           ┆ _County,_W ┆          ┆   ┆            ┆            ┆            ┆            │\n",
       "│ o    ┆           ┆ isconsin>  ┆          ┆   ┆            ┆            ┆            ┆            │\n",
       "│ Chis ┆ Minnesota ┆ <Chisago_C ┆ 1.041243 ┆ … ┆ KROS       ┆ 8.006566   ┆ Night      ┆ Day        │\n",
       "│ ago  ┆           ┆ ounty,_Min ┆          ┆   ┆            ┆            ┆            ┆            │\n",
       "│      ┆           ┆ nesota>    ┆          ┆   ┆            ┆            ┆            ┆            │\n",
       "│ …    ┆ …         ┆ …          ┆ …        ┆ … ┆ …          ┆ …          ┆ …          ┆ …          │\n",
       "│ Teto ┆ Montana   ┆ <Teton_Cou ┆ 0.0      ┆ … ┆ KGTF       ┆ 10.0       ┆ Day        ┆ Day        │\n",
       "│ n    ┆           ┆ nty,_Monta ┆          ┆   ┆            ┆            ┆            ┆            │\n",
       "│      ┆           ┆ na>        ┆          ┆   ┆            ┆            ┆            ┆            │\n",
       "│ Sher ┆ Texas     ┆ <Sherman_C ┆ 0.30103  ┆ … ┆ KDUX       ┆ 10.0       ┆ Day        ┆ Day        │\n",
       "│ man  ┆           ┆ ounty,_Tex ┆          ┆   ┆            ┆            ┆            ┆            │\n",
       "│      ┆           ┆ as>        ┆          ┆   ┆            ┆            ┆            ┆            │\n",
       "│ Tama ┆ Iowa      ┆ <Tama_Coun ┆ 0.0      ┆ … ┆ KMIW       ┆ 10.0       ┆ Day        ┆ Day        │\n",
       "│      ┆           ┆ ty,_Iowa>  ┆          ┆   ┆            ┆            ┆            ┆            │\n",
       "│ Wash ┆ Nebraska  ┆ <Washingto ┆ 0.30103  ┆ … ┆ KBTA       ┆ 10.0       ┆ Day        ┆ Day        │\n",
       "│ ingt ┆           ┆ n_County,_ ┆          ┆   ┆            ┆            ┆            ┆            │\n",
       "│ on   ┆           ┆ Nebraska>  ┆          ┆   ┆            ┆            ┆            ┆            │\n",
       "└──────┴───────────┴────────────┴──────────┴───┴────────────┴────────────┴────────────┴────────────┘"
      ]
     },
     "execution_count": 79,
     "metadata": {},
     "output_type": "execute_result"
    }
   ],
   "source": [
    "df_final"
   ]
  },
  {
   "attachments": {},
   "cell_type": "markdown",
   "metadata": {},
   "source": [
    "# Company Employees Dataset"
   ]
  },
  {
   "attachments": {},
   "cell_type": "markdown",
   "metadata": {},
   "source": [
    "The \"Company Employees\" dataset contains information about companies. The prediction target in this case is the number \n",
    "of employees of a company. We filter the dataset to select only companies with at least 1000 employees."
   ]
  },
  {
   "cell_type": "code",
   "execution_count": 17,
   "metadata": {},
   "outputs": [],
   "source": [
    "dataset_dir = Path(data_dir, \"company-employees\")\n",
    "df = pl.read_csv(Path(dataset_dir, \"companies_sorted.csv\"))\n",
    "df_selected = df.filter(\n",
    "    pl.col(\"current employee estimate\") >= 1000\n",
    ")"
   ]
  },
  {
   "attachments": {},
   "cell_type": "markdown",
   "metadata": {},
   "source": [
    "Adding a new column to `yagofacts` with lowercased subjects. "
   ]
  },
  {
   "cell_type": "code",
   "execution_count": 18,
   "metadata": {},
   "outputs": [],
   "source": [
    "yagofacts = yagofacts.with_columns(\n",
    "    pl.col(\"subject\").str.to_lowercase().alias(\"subject_formatted\")\n",
    ")\n",
    "df_filtered=df_selected.lazy().with_columns(\n",
    "    (\"<\" + pl.col(\"name\").str.to_lowercase().str.replace(\" \", \"_\") + \">\").alias(\"formatted_name\")\n",
    ").filter(\n",
    "    pl.col(\"formatted_name\").is_in(yagofacts[\"subject_formatted\"])\n",
    ").collect()"
   ]
  },
  {
   "attachments": {},
   "cell_type": "markdown",
   "metadata": {},
   "source": [
    "Not all the company names can be matched with this simple heuristic due to the fact that the name in the base table has \n",
    "a format different from that in the knowledge base. "
   ]
  },
  {
   "cell_type": "code",
   "execution_count": 19,
   "metadata": {},
   "outputs": [
    {
     "data": {
      "text/html": [
       "<div><style>\n",
       ".dataframe > thead > tr > th,\n",
       ".dataframe > tbody > tr > td {\n",
       "  text-align: right;\n",
       "}\n",
       "</style>\n",
       "<small>shape: (20, 2)</small><table border=\"1\" class=\"dataframe\"><thead><tr><th>name</th><th>formatted_name</th></tr><tr><td>str</td><td>str</td></tr></thead><tbody><tr><td>&quot;tata consultan…</td><td>&quot;&lt;tata_consulta…</td></tr><tr><td>&quot;us army&quot;</td><td>&quot;&lt;us_army&gt;&quot;</td></tr><tr><td>&quot;ey&quot;</td><td>&quot;&lt;ey&gt;&quot;</td></tr><tr><td>&quot;cognizant tech…</td><td>&quot;&lt;cognizant_tec…</td></tr><tr><td>&quot;united states …</td><td>&quot;&lt;united_states…</td></tr><tr><td>&quot;pwc&quot;</td><td>&quot;&lt;pwc&gt;&quot;</td></tr><tr><td>&quot;citi&quot;</td><td>&quot;&lt;citi&gt;&quot;</td></tr><tr><td>&quot;bank of americ…</td><td>&quot;&lt;bank_of ameri…</td></tr><tr><td>&quot;jpmorgan chase…</td><td>&quot;&lt;jpmorgan_chas…</td></tr><tr><td>&quot;us navy&quot;</td><td>&quot;&lt;us_navy&gt;&quot;</td></tr><tr><td>&quot;amazon&quot;</td><td>&quot;&lt;amazon&gt;&quot;</td></tr><tr><td>&quot;apple&quot;</td><td>&quot;&lt;apple&gt;&quot;</td></tr><tr><td>&quot;siemens&quot;</td><td>&quot;&lt;siemens&gt;&quot;</td></tr><tr><td>&quot;oracle&quot;</td><td>&quot;&lt;oracle&gt;&quot;</td></tr><tr><td>&quot;education nati…</td><td>&quot;&lt;education_nat…</td></tr><tr><td>&quot;wipro technolo…</td><td>&quot;&lt;wipro_technol…</td></tr><tr><td>&quot;united states …</td><td>&quot;&lt;united_states…</td></tr><tr><td>&quot;mcdonald&#x27;s cor…</td><td>&quot;&lt;mcdonald&#x27;s_co…</td></tr><tr><td>&quot;nhs&quot;</td><td>&quot;&lt;nhs&gt;&quot;</td></tr><tr><td>&quot;ford motor com…</td><td>&quot;&lt;ford_motor co…</td></tr></tbody></table></div>"
      ],
      "text/plain": [
       "shape: (20, 2)\n",
       "┌────────────────────────────────┬──────────────────────────────────┐\n",
       "│ name                           ┆ formatted_name                   │\n",
       "│ ---                            ┆ ---                              │\n",
       "│ str                            ┆ str                              │\n",
       "╞════════════════════════════════╪══════════════════════════════════╡\n",
       "│ tata consultancy services      ┆ <tata_consultancy services>      │\n",
       "│ us army                        ┆ <us_army>                        │\n",
       "│ ey                             ┆ <ey>                             │\n",
       "│ cognizant technology solutions ┆ <cognizant_technology solutions> │\n",
       "│ …                              ┆ …                                │\n",
       "│ united states postal service   ┆ <united_states postal service>   │\n",
       "│ mcdonald's corporation         ┆ <mcdonald's_corporation>         │\n",
       "│ nhs                            ┆ <nhs>                            │\n",
       "│ ford motor company             ┆ <ford_motor company>             │\n",
       "└────────────────────────────────┴──────────────────────────────────┘"
      ]
     },
     "execution_count": 19,
     "metadata": {},
     "output_type": "execute_result"
    }
   ],
   "source": [
    "df_selected.lazy().with_columns(\n",
    "    (\"<\" + pl.col(\"name\").str.to_lowercase().str.replace(\" \", \"_\") + \">\").alias(\"formatted_name\")\n",
    ").filter(\n",
    "    ~pl.col(\"formatted_name\").is_in(yagofacts[\"subject_formatted\"])\n",
    ").limit(20).select(\n",
    "                   pl.col(\"name\"),\n",
    "                   pl.col(\"formatted_name\")).collect()"
   ]
  },
  {
   "cell_type": "code",
   "execution_count": 20,
   "metadata": {},
   "outputs": [
    {
     "name": "stdout",
     "output_type": "stream",
     "text": [
      "shape: (1, 6)\n",
      "┌───────────────────┬──────────────┬───────────┬───────────────────┬────────────┬──────────────────┐\n",
      "│ id                ┆ subject      ┆ predicate ┆ cat_object        ┆ num_object ┆ subject_formatte │\n",
      "│ ---               ┆ ---          ┆ ---       ┆ ---               ┆ ---        ┆ d                │\n",
      "│ str               ┆ str          ┆ str       ┆ str               ┆ f64        ┆ ---              │\n",
      "│                   ┆              ┆           ┆                   ┆            ┆ str              │\n",
      "╞═══════════════════╪══════════════╪═══════════╪═══════════════════╪════════════╪══════════════════╡\n",
      "│ <id_22jfQW8Rcs_5y ┆ <Apple_Inc.> ┆ <owns>    ┆ <Apple_Icon_Image ┆ null       ┆ <apple_inc.>     │\n",
      "│ H_L2hDNlxUyQ>     ┆              ┆           ┆ _format>          ┆            ┆                  │\n",
      "└───────────────────┴──────────────┴───────────┴───────────────────┴────────────┴──────────────────┘\n",
      "shape: (1_086, 6)\n",
      "┌─────────────────┬────────────────┬────────────────┬────────────────┬────────────┬────────────────┐\n",
      "│ id              ┆ subject        ┆ predicate      ┆ cat_object     ┆ num_object ┆ subject_format │\n",
      "│ ---             ┆ ---            ┆ ---            ┆ ---            ┆ ---        ┆ ted            │\n",
      "│ str             ┆ str            ┆ str            ┆ str            ┆ f64        ┆ ---            │\n",
      "│                 ┆                ┆                ┆                ┆            ┆ str            │\n",
      "╞═════════════════╪════════════════╪════════════════╪════════════════╪════════════╪════════════════╡\n",
      "│ <id_eMF?TrkR!j_ ┆ <United_States ┆ <owns>         ┆ <Hansen_Dam>   ┆ null       ┆ <united_states │\n",
      "│ 5yH_Bw8rxgeuwn> ┆ _Army_Corps_of ┆                ┆                ┆            ┆ _army_corps_of │\n",
      "│                 ┆ _Eng…          ┆                ┆                ┆            ┆ _eng…          │\n",
      "│ <id_raHUL?wVmB_ ┆ <United_States ┆ <owns>         ┆ <Allen_Army_Ai ┆ null       ┆ <united_states │\n",
      "│ 5yH_SriYN2myID> ┆ _Army>         ┆                ┆ rfield>        ┆            ┆ _army>         │\n",
      "│ <id_raHUL?wVmB_ ┆ <United_States ┆ <owns>         ┆ <Robert_Gray_A ┆ null       ┆ <united_states │\n",
      "│ 5yH_T17wNLe1Nh> ┆ _Army>         ┆                ┆ rmy_Airfield>  ┆            ┆ _army>         │\n",
      "│ <id_raHUL?wVmB_ ┆ <United_States ┆ <owns>         ┆ <MidCoast_Regi ┆ null       ┆ <united_states │\n",
      "│ 5yH_SzWF9sZlSH> ┆ _Army>         ┆                ┆ onal_Airport_a ┆            ┆ _army>         │\n",
      "│                 ┆                ┆                ┆ t_Wr…          ┆            ┆                │\n",
      "│ …               ┆ …              ┆ …              ┆ …              ┆ …          ┆ …              │\n",
      "│ <id_h5kFRVxAUY_ ┆ <Twelfth_Unite ┆ <wasCreatedOnD ┆ 1944-##-##^^xs ┆ 1944.0     ┆ <twelfth_unite │\n",
      "│ Gze_ejn6YMqm43> ┆ d_States_Army_ ┆ ate>           ┆ d:date         ┆            ┆ d_states_army_ │\n",
      "│                 ┆ Grou…          ┆                ┆                ┆            ┆ grou…          │\n",
      "│ <id_hY3BSplPzR_ ┆ <Seventh_Unite ┆ <wasCreatedOnD ┆ 1943-##-##^^xs ┆ 1943.0     ┆ <seventh_unite │\n",
      "│ Gze_5PzqNHZgBy> ┆ d_States_Army> ┆ ate>           ┆ d:date         ┆            ┆ d_states_army> │\n",
      "│ <id_nwmmIif3Cf_ ┆ <Deputy_Chief_ ┆ <wasCreatedOnD ┆ 2008-##-##^^xs ┆ 2008.0     ┆ <deputy_chief_ │\n",
      "│ Gze_hym65IJz9H> ┆ of_Staff_G-8_P ┆ ate>           ┆ d:date         ┆            ┆ of_staff_g-8_p │\n",
      "│                 ┆ rogr…          ┆                ┆                ┆            ┆ rogr…          │\n",
      "│ <id_noMH584m5D_ ┆ <United_States ┆ <wasCreatedOnD ┆ 2010-##-##^^xs ┆ 2010.0     ┆ <united_states │\n",
      "│ Gze_Nhbt11fRdq> ┆ _Army_Cyber_Co ┆ ate>           ┆ d:date         ┆            ┆ _army_cyber_co │\n",
      "│                 ┆ mman…          ┆                ┆                ┆            ┆ mman…          │\n",
      "└─────────────────┴────────────────┴────────────────┴────────────────┴────────────┴────────────────┘\n"
     ]
    }
   ],
   "source": [
    "print(yagofacts.lazy().filter(\n",
    "    pl.col(\"subject\").str.contains(\"Apple\")\n",
    ").limit(1).collect())\n",
    "\n",
    "print(yagofacts.lazy().filter(\n",
    "    pl.col(\"subject\").str.to_lowercase().str.contains(\"united_states_army\")\n",
    ").collect())"
   ]
  },
  {
   "attachments": {},
   "cell_type": "markdown",
   "metadata": {},
   "source": [
    "Here we prepare a mapping between the name in the original dataset and the match found in YAGO.\n",
    "Note that there is a relatively low recall."
   ]
  },
  {
   "cell_type": "code",
   "execution_count": 21,
   "metadata": {},
   "outputs": [],
   "source": [
    "mapping_name_subject = df_filtered.lazy().join(\n",
    "    yagofacts.lazy(),\n",
    "    left_on=\"formatted_name\",\n",
    "    right_on=\"subject_formatted\"\n",
    ").select(\n",
    "    [\n",
    "        pl.col(\"name\"),\n",
    "        pl.col(\"formatted_name\"),\n",
    "        pl.col(\"subject\")\n",
    "    ]\n",
    ").unique().collect()\n"
   ]
  },
  {
   "attachments": {},
   "cell_type": "markdown",
   "metadata": {},
   "source": [
    "Joining on with the mapping on `formatted_name` to guarantee that col `col_to_embed` uses the same format (and \n",
    "capitalization) used in YAGO. "
   ]
  },
  {
   "cell_type": "code",
   "execution_count": 22,
   "metadata": {},
   "outputs": [
    {
     "data": {
      "text/html": [
       "<div><style>\n",
       ".dataframe > thead > tr > th,\n",
       ".dataframe > tbody > tr > td {\n",
       "  text-align: right;\n",
       "}\n",
       "</style>\n",
       "<small>shape: (3_035, 3)</small><table border=\"1\" class=\"dataframe\"><thead><tr><th>raw_entities</th><th>col_to_embed</th><th>target</th></tr><tr><td>str</td><td>str</td><td>f64</td></tr></thead><tbody><tr><td>&quot;ibm&quot;</td><td>&quot;&lt;IBM&gt;&quot;</td><td>5.437825</td></tr><tr><td>&quot;accenture&quot;</td><td>&quot;&lt;Accenture&gt;&quot;</td><td>5.280326</td></tr><tr><td>&quot;hewlett-packar…</td><td>&quot;&lt;Hewlett-Packa…</td><td>5.107047</td></tr><tr><td>&quot;walmart&quot;</td><td>&quot;&lt;Walmart&gt;&quot;</td><td>5.081898</td></tr><tr><td>&quot;microsoft&quot;</td><td>&quot;&lt;Microsoft&gt;&quot;</td><td>5.065191</td></tr><tr><td>&quot;at&amp;t&quot;</td><td>&quot;&lt;AT&amp;T&gt;&quot;</td><td>5.061407</td></tr><tr><td>&quot;wells fargo&quot;</td><td>&quot;&lt;Wells_Fargo&gt;&quot;</td><td>5.039541</td></tr><tr><td>&quot;infosys&quot;</td><td>&quot;&lt;Infosys&gt;&quot;</td><td>5.020162</td></tr><tr><td>&quot;deloitte&quot;</td><td>&quot;&lt;Deloitte&gt;&quot;</td><td>5.017501</td></tr><tr><td>&quot;nokia&quot;</td><td>&quot;&lt;Nokia&gt;&quot;</td><td>4.925967</td></tr><tr><td>&quot;capgemini&quot;</td><td>&quot;&lt;Capgemini&gt;&quot;</td><td>4.925204</td></tr><tr><td>&quot;hsbc&quot;</td><td>&quot;&lt;HSBC&gt;&quot;</td><td>4.878752</td></tr><tr><td>&hellip;</td><td>&hellip;</td><td>&hellip;</td></tr><tr><td>&quot;vilnius univer…</td><td>&quot;&lt;Vilnius_Unive…</td><td>3.002598</td></tr><tr><td>&quot;moody&#x27;s corpor…</td><td>&quot;&lt;Moody&#x27;s_Corpo…</td><td>3.002598</td></tr><tr><td>&quot;air europa&quot;</td><td>&quot;&lt;Air_Europa&gt;&quot;</td><td>3.002166</td></tr><tr><td>&quot;providence col…</td><td>&quot;&lt;Providence_Co…</td><td>3.002166</td></tr><tr><td>&quot;appdynamics&quot;</td><td>&quot;&lt;AppDynamics&gt;&quot;</td><td>3.002166</td></tr><tr><td>&quot;qihoo 360&quot;</td><td>&quot;&lt;Qihoo_360&gt;&quot;</td><td>3.002166</td></tr><tr><td>&quot;hubbell incorp…</td><td>&quot;&lt;Hubbell_Incor…</td><td>3.001301</td></tr><tr><td>&quot;revenu québec&quot;</td><td>&quot;&lt;Revenu_Québec…</td><td>3.000868</td></tr><tr><td>&quot;jagiellonian u…</td><td>&quot;&lt;Jagiellonian_…</td><td>3.000434</td></tr><tr><td>&quot;becu&quot;</td><td>&quot;&lt;BECU&gt;&quot;</td><td>3.0</td></tr><tr><td>&quot;sta travel&quot;</td><td>&quot;&lt;STA_Travel&gt;&quot;</td><td>3.0</td></tr><tr><td>&quot;megacable&quot;</td><td>&quot;&lt;Megacable&gt;&quot;</td><td>3.0</td></tr></tbody></table></div>"
      ],
      "text/plain": [
       "shape: (3_035, 3)\n",
       "┌─────────────────────────┬───────────────────────────┬──────────┐\n",
       "│ raw_entities            ┆ col_to_embed              ┆ target   │\n",
       "│ ---                     ┆ ---                       ┆ ---      │\n",
       "│ str                     ┆ str                       ┆ f64      │\n",
       "╞═════════════════════════╪═══════════════════════════╪══════════╡\n",
       "│ ibm                     ┆ <IBM>                     ┆ 5.437825 │\n",
       "│ accenture               ┆ <Accenture>               ┆ 5.280326 │\n",
       "│ hewlett-packard         ┆ <Hewlett-Packard>         ┆ 5.107047 │\n",
       "│ walmart                 ┆ <Walmart>                 ┆ 5.081898 │\n",
       "│ …                       ┆ …                         ┆ …        │\n",
       "│ jagiellonian university ┆ <Jagiellonian_University> ┆ 3.000434 │\n",
       "│ becu                    ┆ <BECU>                    ┆ 3.0      │\n",
       "│ sta travel              ┆ <STA_Travel>              ┆ 3.0      │\n",
       "│ megacable               ┆ <Megacable>               ┆ 3.0      │\n",
       "└─────────────────────────┴───────────────────────────┴──────────┘"
      ]
     },
     "execution_count": 22,
     "metadata": {},
     "output_type": "execute_result"
    }
   ],
   "source": [
    "df_final = df_filtered.join(\n",
    "    mapping_name_subject, on=\"formatted_name\"\n",
    ").select(\n",
    "    [\n",
    "        pl.col(\"name\").alias(\"raw_entities\"),\n",
    "        pl.col(\"subject\").alias(\"col_to_embed\"),\n",
    "        pl.col(\"current employee estimate\").alias(\"target\").log10()\n",
    "    ]\n",
    ")\n",
    "df_final\n"
   ]
  },
  {
   "cell_type": "code",
   "execution_count": 23,
   "metadata": {},
   "outputs": [],
   "source": [
    "df_final.write_parquet(Path(dataset_dir, \"company-employees-target.parquet\"))"
   ]
  },
  {
   "attachments": {},
   "cell_type": "markdown",
   "metadata": {},
   "source": [
    "Joining the measure target on the base table. Some unnecessary columns are dropped from the table, then it is saved on disk.\n"
   ]
  },
  {
   "cell_type": "code",
   "execution_count": 26,
   "metadata": {},
   "outputs": [],
   "source": [
    "df_prepared = df_filtered.lazy().join(\n",
    "    df_final.lazy(),\n",
    "    left_on=\"name\",\n",
    "    right_on=\"raw_entities\",\n",
    "    how=\"inner\"\n",
    ").drop(\n",
    "    \"\",\n",
    "    \"formatted_name\",\n",
    "    \"current employee estimate\",\n",
    "    \"total employee estimate\",\n",
    ").collect()\n",
    "df_prepared.write_parquet(Path(dataset_dir, \"company-employees-yadl.parquet\"))"
   ]
  },
  {
   "attachments": {},
   "cell_type": "markdown",
   "metadata": {},
   "source": [
    "Checking the percentage of missing values by column."
   ]
  },
  {
   "cell_type": "code",
   "execution_count": 29,
   "metadata": {},
   "outputs": [
    {
     "data": {
      "text/html": [
       "<div><style>\n",
       ".dataframe > thead > tr > th,\n",
       ".dataframe > tbody > tr > td {\n",
       "  text-align: right;\n",
       "}\n",
       "</style>\n",
       "<small>shape: (1, 10)</small><table border=\"1\" class=\"dataframe\"><thead><tr><th>name</th><th>domain</th><th>year founded</th><th>industry</th><th>size range</th><th>locality</th><th>country</th><th>linkedin url</th><th>col_to_embed</th><th>target</th></tr><tr><td>f64</td><td>f64</td><td>f64</td><td>f64</td><td>f64</td><td>f64</td><td>f64</td><td>f64</td><td>f64</td><td>f64</td></tr></thead><tbody><tr><td>0.0</td><td>4.503056</td><td>17.72274</td><td>0.0</td><td>0.0</td><td>10.871663</td><td>9.488582</td><td>0.0</td><td>0.0</td><td>0.0</td></tr></tbody></table></div>"
      ],
      "text/plain": [
       "shape: (1, 10)\n",
       "┌──────┬──────────┬──────────────┬──────────┬───┬──────────┬──────────────┬──────────────┬────────┐\n",
       "│ name ┆ domain   ┆ year founded ┆ industry ┆ … ┆ country  ┆ linkedin url ┆ col_to_embed ┆ target │\n",
       "│ ---  ┆ ---      ┆ ---          ┆ ---      ┆   ┆ ---      ┆ ---          ┆ ---          ┆ ---    │\n",
       "│ f64  ┆ f64      ┆ f64          ┆ f64      ┆   ┆ f64      ┆ f64          ┆ f64          ┆ f64    │\n",
       "╞══════╪══════════╪══════════════╪══════════╪═══╪══════════╪══════════════╪══════════════╪════════╡\n",
       "│ 0.0  ┆ 4.503056 ┆ 17.72274     ┆ 0.0      ┆ … ┆ 9.488582 ┆ 0.0          ┆ 0.0          ┆ 0.0    │\n",
       "└──────┴──────────┴──────────────┴──────────┴───┴──────────┴──────────────┴──────────────┴────────┘"
      ]
     },
     "execution_count": 29,
     "metadata": {},
     "output_type": "execute_result"
    }
   ],
   "source": [
    "df_prepared.null_count()/len(df_prepared)*100"
   ]
  },
  {
   "attachments": {},
   "cell_type": "markdown",
   "metadata": {},
   "source": [
    "# US Presidential elections"
   ]
  },
  {
   "attachments": {},
   "cell_type": "markdown",
   "metadata": {},
   "source": [
    "The US Presidential Elections dataset contains the vote fraction for each candidate in each county in the US for the \n",
    "Presidential Elections in the period 2000-2020. We focus on the 2020 election, thus we select only the rows relative to \n",
    "that. \n",
    "\n",
    "As usual, the column `col_to_embed` is formatted to follow YAGO's string format. "
   ]
  },
  {
   "cell_type": "code",
   "execution_count": 38,
   "metadata": {},
   "outputs": [],
   "source": [
    "dataset_dir = Path(data_dir, \"presidential-results\")\n",
    "df = pl.read_csv(Path(dataset_dir, \"presidential-results.csv\"), infer_schema_length=0)\n",
    "df = df.to_pandas()"
   ]
  },
  {
   "cell_type": "code",
   "execution_count": 39,
   "metadata": {},
   "outputs": [],
   "source": [
    "df = df[df[\"year\"] == \"2020\"]\n",
    "df[\"county_name\"] = df[\"county_name\"].str.title()\n",
    "df[\"state\"] = df[\"state\"].str.title()\n",
    "df[\"col_to_embed\"] = \"<\" + df[\"county_name\"] + \"_County,_\" + df[\"state\"] + \">\"\n",
    "df[\"col_to_embed\"] = df[\"col_to_embed\"].str.replace(\" \", \"_\")\n",
    "df[\"target\"] = np.log10(df[\"candidatevotes\"].astype(int) + 1)\n",
    "df[\"raw_entities\"] = df[\"county_name\"] + \" \" + df[\"state\"]\n",
    "df.loc[df[\"state\"]==\"Louisiana\", \"col_to_embed\"]=df.loc[df[\"state\"]==\"Louisiana\", \"col_to_embed\"].str.replace(\"County\", \"Parish\")\n",
    "# df = df[[\"raw_entities\", \"col_to_embed\", \"party\", \"target\"]]\n",
    "df.dropna(inplace=True)\n"
   ]
  },
  {
   "attachments": {},
   "cell_type": "markdown",
   "metadata": {},
   "source": [
    "Some columns are dropped because they are either not useful, or would leak information about the target. "
   ]
  },
  {
   "cell_type": "code",
   "execution_count": 40,
   "metadata": {},
   "outputs": [],
   "source": [
    "df_final = df.drop(\n",
    "    [\"raw_entities\", \"candidatevotes\", \"county_fips\", \"office\", \"year\", \"totalvotes\", \"version\", \"mode\"], axis=1\n",
    "    )\n",
    "df_final.to_parquet(Path(dataset_dir, \"us-presidential-results-yadl.parquet\"), index=False)"
   ]
  },
  {
   "attachments": {},
   "cell_type": "markdown",
   "metadata": {},
   "source": [
    "Checking the number of missing values by column. "
   ]
  },
  {
   "cell_type": "code",
   "execution_count": 42,
   "metadata": {},
   "outputs": [
    {
     "data": {
      "text/plain": [
       "state           0\n",
       "state_po        0\n",
       "county_name     0\n",
       "candidate       0\n",
       "party           0\n",
       "col_to_embed    0\n",
       "target          0\n",
       "dtype: int64"
      ]
     },
     "execution_count": 42,
     "metadata": {},
     "output_type": "execute_result"
    }
   ],
   "source": [
    "df_final.isna().sum()"
   ]
  }
 ],
 "metadata": {
  "kernelspec": {
   "display_name": "base",
   "language": "python",
   "name": "python3"
  },
  "language_info": {
   "codemirror_mode": {
    "name": "ipython",
    "version": 3
   },
   "file_extension": ".py",
   "mimetype": "text/x-python",
   "name": "python",
   "nbconvert_exporter": "python",
   "pygments_lexer": "ipython3",
   "version": "3.10.10"
  },
  "orig_nbformat": 4
 },
 "nbformat": 4,
 "nbformat_minor": 2
}
