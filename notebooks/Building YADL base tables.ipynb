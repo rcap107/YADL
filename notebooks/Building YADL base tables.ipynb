{
 "cells": [
  {
   "attachments": {},
   "cell_type": "markdown",
   "metadata": {},
   "source": [
    "# Building the base tables"
   ]
  },
  {
   "attachments": {},
   "cell_type": "markdown",
   "metadata": {},
   "source": [
    "This is the notebook that was used to prepare the base tables for the pipeline in the paper \"A Benchmarking Data Lake \n",
    "for Join Discovery and Learning with Relational Data\".\n",
    "\n",
    "All datasets are inspired from those used in the paper \"[Relational data embeddings for feature enrichment with background information](https://hal.science/hal-03848124/file/main.pdf)\", although some of the matching operations are slightly different.\n",
    "\n",
    "To have more manageable and meaningful tables, some pre-processing is applied to each dataset to reduce overly noisy and \n",
    "irrelevant attributes. \n",
    "\n",
    "All tables are saved as parquet files for later use in the benchmark pipeline. "
   ]
  },
  {
   "attachments": {},
   "cell_type": "markdown",
   "metadata": {},
   "source": [
    "Datasets:\n",
    "- [7+ Million Company Dataset](https://www.kaggle.com/datasets/peopledatalabssf/free-7-million-company-dataset)\n",
    "- [US Accidents (2016 - 2021)](https://www.kaggle.com/datasets/sobhanmoosavi/us-accidents)\n",
    "- [US Presidential elections](https://dataverse.harvard.edu/dataset.xhtml?persistentId=doi:10.7910/DVN/42MVDX)"
   ]
  },
  {
   "cell_type": "code",
   "execution_count": 1,
   "metadata": {},
   "outputs": [
    {
     "name": "stdout",
     "output_type": "stream",
     "text": [
      "/home/soda/rcappuzz/work/prepare-data-lakes\n"
     ]
    }
   ],
   "source": [
    "cd .."
   ]
  },
  {
   "cell_type": "code",
   "execution_count": 2,
   "metadata": {},
   "outputs": [],
   "source": [
    "import polars as pl\n",
    "import pandas as pd\n",
    "from pathlib import Path\n",
    "import src.yago.utils as utils\n",
    "import numpy as np\n",
    "import datetime"
   ]
  },
  {
   "attachments": {},
   "cell_type": "markdown",
   "metadata": {},
   "source": [
    "Loading YAGO fact triplets to drop entities not found in the KB.\n",
    "\n",
    "Note that this step requires the YAGO3 3.0.3 data (accessible \n",
    "[here](https://yago-knowledge.org/downloads/yago-3), under \"2022 Revival Data\") to have been downloaded. Replace the \n",
    "value in `yago_path` with the path to the YAGO facts on your machine. "
   ]
  },
  {
   "cell_type": "code",
   "execution_count": 3,
   "metadata": {},
   "outputs": [],
   "source": [
    "data_dir = Path(\"data/base_tables\")\n",
    "\n",
    "yago_path = Path(\"/storage/store3/work/jstojano/yago3/\")\n",
    "facts_path = Path(yago_path, \"facts_parquet/yago_updated_2022_part2\")\n",
    "fname = \"yagoFacts\"\n",
    "yagofacts_path = Path(facts_path, f\"{fname}.tsv.parquet\")\n",
    "yagofacts_categorical = utils.import_from_yago(yagofacts_path, engine=\"polars\")\n",
    "fname = \"yagoLiteralFacts\"\n",
    "yagoliteralfacts_path = Path(facts_path, f\"{fname}.tsv.parquet\")\n",
    "yagofacts_numerical = utils.import_from_yago(yagoliteralfacts_path, engine=\"polars\")\n",
    "fname = \"yagoDateFacts\"\n",
    "yagodatefacts_path = Path(facts_path, f\"{fname}.tsv.parquet\")\n",
    "yagofacts_dates = utils.import_from_yago(yagodatefacts_path, engine=\"polars\")\n",
    "\n",
    "yagofacts = pl.concat(\n",
    "    [\n",
    "        yagofacts_categorical,\n",
    "        yagofacts_numerical,\n",
    "        yagofacts_dates\n",
    "    ]\n",
    ")"
   ]
  },
  {
   "attachments": {},
   "cell_type": "markdown",
   "metadata": {},
   "source": [
    "# US Accidents dataset"
   ]
  },
  {
   "attachments": {},
   "cell_type": "markdown",
   "metadata": {},
   "source": [
    "Archive `us-accidents.zip` contains the file `US_Accidents_Dec21_updated.csv`, \n",
    "which was renamed manually to `us-accidents.csv` for simplicity. \n",
    "\n",
    "Some of the steps require the State codes reported in `data/state_codes.csv`. "
   ]
  },
  {
   "cell_type": "code",
   "execution_count": 31,
   "metadata": {},
   "outputs": [],
   "source": [
    "dataset_dir = Path(data_dir, \"us-accidents\")\n",
    "df = pl.read_csv(Path(dataset_dir, \"us-accidents.csv\"))\n",
    "df = df.rename({\"State\": \"Code\"})\n",
    "state_codes_path =  Path(dataset_dir,\"state_codes.csv\")\n",
    "state_codes = pl.read_csv(state_codes_path)\n",
    "df = df.join(\n",
    "    state_codes, on=\"Code\"\n",
    ")"
   ]
  },
  {
   "attachments": {},
   "cell_type": "markdown",
   "metadata": {},
   "source": [
    "Adding a new column, `col_to_embed`, that formats the city and state name to have\n",
    "the same format that is found in YAGO. "
   ]
  },
  {
   "cell_type": "code",
   "execution_count": 32,
   "metadata": {},
   "outputs": [],
   "source": [
    "df = df.with_columns(\n",
    "    (\"<\" + pl.col(\"City\") + \",_\"+ pl.col(\"State\") + \">\").alias(\"col_to_embed\")\n",
    ")"
   ]
  },
  {
   "attachments": {},
   "cell_type": "markdown",
   "metadata": {},
   "source": [
    "Filtering out the rows not found in `yagofacts[\"subject\"]`."
   ]
  },
  {
   "cell_type": "code",
   "execution_count": 33,
   "metadata": {},
   "outputs": [],
   "source": [
    "df_filtered=df.lazy().filter(\n",
    "    pl.col(\"col_to_embed\").is_in(\n",
    "        yagofacts[\"subject\"]\n",
    "    )\n",
    ").collect()"
   ]
  },
  {
   "attachments": {},
   "cell_type": "markdown",
   "metadata": {},
   "source": [
    "For the preparation, we select only the accidents whose `Start_Time` is between 2019-01-01 and 2019-12-31. "
   ]
  },
  {
   "cell_type": "code",
   "execution_count": 34,
   "metadata": {},
   "outputs": [],
   "source": [
    "start_date = datetime.date(2019, 1,1)\n",
    "end_date = datetime.date(2019, 12, 31)\n",
    "df_by_year = df_filtered.filter(\n",
    "    (pl.col(\"Start_Time\").str.to_datetime()>start_date) & (pl.col(\"Start_Time\").str.to_datetime()<end_date)\n",
    ")"
   ]
  },
  {
   "attachments": {},
   "cell_type": "markdown",
   "metadata": {},
   "source": [
    "Counting the number of accidents (log10) per county in the given year."
   ]
  },
  {
   "cell_type": "code",
   "execution_count": 35,
   "metadata": {},
   "outputs": [
    {
     "data": {
      "text/html": [
       "<div><style>\n",
       ".dataframe > thead > tr > th,\n",
       ".dataframe > tbody > tr > td {\n",
       "  text-align: right;\n",
       "}\n",
       "</style>\n",
       "<small>shape: (5_222, 2)</small><table border=\"1\" class=\"dataframe\"><thead><tr><th>col_to_embed</th><th>target</th></tr><tr><td>str</td><td>f64</td></tr></thead><tbody><tr><td>&quot;&lt;Lansing,_Mich…</td><td>2.164353</td></tr><tr><td>&quot;&lt;Greenwich,_Co…</td><td>1.623249</td></tr><tr><td>&quot;&lt;Lakeville,_Mi…</td><td>1.934498</td></tr><tr><td>&quot;&lt;Bellaire,_Tex…</td><td>1.477121</td></tr><tr><td>&quot;&lt;Ogden,_Utah&gt;&quot;</td><td>2.970347</td></tr><tr><td>&quot;&lt;Warrenton,_Or…</td><td>2.113943</td></tr><tr><td>&quot;&lt;Cotati,_Calif…</td><td>1.531479</td></tr><tr><td>&quot;&lt;Richmond,_Cal…</td><td>2.457882</td></tr><tr><td>&quot;&lt;Delhi,_Califo…</td><td>1.591065</td></tr><tr><td>&quot;&lt;Oceanside,_Ca…</td><td>2.369216</td></tr><tr><td>&quot;&lt;Warsaw,_Virgi…</td><td>0.778151</td></tr><tr><td>&quot;&lt;Tampa,_Florid…</td><td>2.722634</td></tr><tr><td>&hellip;</td><td>&hellip;</td></tr><tr><td>&quot;&lt;Coden,_Alabam…</td><td>0.0</td></tr><tr><td>&quot;&lt;Ariel,_Washin…</td><td>0.0</td></tr><tr><td>&quot;&lt;Colbert,_Wash…</td><td>0.477121</td></tr><tr><td>&quot;&lt;Eufaula,_Okla…</td><td>0.0</td></tr><tr><td>&quot;&lt;Wilmington,_O…</td><td>0.0</td></tr><tr><td>&quot;&lt;Erwin,_Tennes…</td><td>0.0</td></tr><tr><td>&quot;&lt;Fruitland,_Id…</td><td>0.30103</td></tr><tr><td>&quot;&lt;Eastlake,_Ohi…</td><td>0.0</td></tr><tr><td>&quot;&lt;Samson,_Alaba…</td><td>0.0</td></tr><tr><td>&quot;&lt;Gurley,_Alaba…</td><td>0.0</td></tr><tr><td>&quot;&lt;Rowley,_Iowa&gt;…</td><td>0.30103</td></tr><tr><td>&quot;&lt;Valleyford,_W…</td><td>0.0</td></tr></tbody></table></div>"
      ],
      "text/plain": [
       "shape: (5_222, 2)\n",
       "┌──────────────────────────┬──────────┐\n",
       "│ col_to_embed             ┆ target   │\n",
       "│ ---                      ┆ ---      │\n",
       "│ str                      ┆ f64      │\n",
       "╞══════════════════════════╪══════════╡\n",
       "│ <Lansing,_Michigan>      ┆ 2.164353 │\n",
       "│ <Greenwich,_Connecticut> ┆ 1.623249 │\n",
       "│ <Lakeville,_Minnesota>   ┆ 1.934498 │\n",
       "│ <Bellaire,_Texas>        ┆ 1.477121 │\n",
       "│ …                        ┆ …        │\n",
       "│ <Samson,_Alabama>        ┆ 0.0      │\n",
       "│ <Gurley,_Alabama>        ┆ 0.0      │\n",
       "│ <Rowley,_Iowa>           ┆ 0.30103  │\n",
       "│ <Valleyford,_Washington> ┆ 0.0      │\n",
       "└──────────────────────────┴──────────┘"
      ]
     },
     "execution_count": 35,
     "metadata": {},
     "output_type": "execute_result"
    }
   ],
   "source": [
    "df_counts_by_year=df_by_year.groupby(\n",
    "    [\n",
    "        \"col_to_embed\", \"City\", \"Code\"\n",
    "    ]\n",
    "    ).count().select(\n",
    "        pl.col(\"col_to_embed\"),\n",
    "        pl.col(\"count\").alias(\"target\").log10()\n",
    "    )\n",
    "df_counts_by_year"
   ]
  },
  {
   "attachments": {},
   "cell_type": "markdown",
   "metadata": {},
   "source": [
    "### Preprocessing"
   ]
  },
  {
   "attachments": {},
   "cell_type": "markdown",
   "metadata": {},
   "source": [
    "In the KEN paper, everything except the county was dropped. Here, we need to rely on the information still found in the \n",
    "table, so we need to to reduce the table to have only one sample for each row. It is necessary to aggregate any information\n",
    "that has granularity smaller than \"county\". \n",
    "\n",
    "The overall number of columns is also reduced from the original. \n",
    "\n",
    "To aggregate all the values, the `mode` is used to select the most frequent categorical value, while the `mean` is used\n",
    "on the numerical attributes. \n",
    "\n",
    "The resulting table is saved in `us-accidents-yadl.parquet`."
   ]
  },
  {
   "cell_type": "code",
   "execution_count": 36,
   "metadata": {},
   "outputs": [],
   "source": [
    "df_final = df_counts_by_year.join(\n",
    "    df_by_year, \n",
    "    on=\"col_to_embed\",\n",
    "    how=\"inner\"\n",
    ").groupby(\"col_to_embed\").agg(\n",
    "    pl.col(\"target\").mean(),\n",
    "    pl.col(\"County\").mode().first(),\n",
    "    pl.col(\"Code\").mode().first(),\n",
    "    pl.col(\"Severity\").mean(),\n",
    "    pl.col(\"Zipcode\").mode().first(),\n",
    "    pl.col(\"Country\").mode().first(),\n",
    "    pl.col(\"Airport_Code\").mode().first(),\n",
    "    pl.col(\"Visibility(mi)\").mean(),\n",
    "    pl.col(\"Sunrise_Sunset\").mode().first(),\n",
    "    pl.col(\"Civil_Twilight\").mode().first(),\n",
    "    pl.col(\"State\").mode().first(),    \n",
    ")\n",
    "df_final.write_parquet(Path(dataset_dir, \"us-accidents-yadl.parquet\"))\n"
   ]
  },
  {
   "attachments": {},
   "cell_type": "markdown",
   "metadata": {},
   "source": [
    "Here we check the percentage of missing values in each column. "
   ]
  },
  {
   "cell_type": "code",
   "execution_count": 37,
   "metadata": {},
   "outputs": [
    {
     "data": {
      "text/html": [
       "<div><style>\n",
       ".dataframe > thead > tr > th,\n",
       ".dataframe > tbody > tr > td {\n",
       "  text-align: right;\n",
       "}\n",
       "</style>\n",
       "<small>shape: (1, 12)</small><table border=\"1\" class=\"dataframe\"><thead><tr><th>col_to_embed</th><th>target</th><th>County</th><th>Code</th><th>Severity</th><th>Zipcode</th><th>Country</th><th>Airport_Code</th><th>Visibility(mi)</th><th>Sunrise_Sunset</th><th>Civil_Twilight</th><th>State</th></tr><tr><td>f64</td><td>f64</td><td>f64</td><td>f64</td><td>f64</td><td>f64</td><td>f64</td><td>f64</td><td>f64</td><td>f64</td><td>f64</td><td>f64</td></tr></thead><tbody><tr><td>0.0</td><td>0.0</td><td>0.0</td><td>0.0</td><td>0.0</td><td>0.0</td><td>0.0</td><td>0.248947</td><td>1.876676</td><td>0.0</td><td>0.0</td><td>0.0</td></tr></tbody></table></div>"
      ],
      "text/plain": [
       "shape: (1, 12)\n",
       "┌──────────────┬────────┬────────┬──────┬───┬───────────────┬───────────────┬──────────────┬───────┐\n",
       "│ col_to_embed ┆ target ┆ County ┆ Code ┆ … ┆ Visibility(mi ┆ Sunrise_Sunse ┆ Civil_Twilig ┆ State │\n",
       "│ ---          ┆ ---    ┆ ---    ┆ ---  ┆   ┆ )             ┆ t             ┆ ht           ┆ ---   │\n",
       "│ f64          ┆ f64    ┆ f64    ┆ f64  ┆   ┆ ---           ┆ ---           ┆ ---          ┆ f64   │\n",
       "│              ┆        ┆        ┆      ┆   ┆ f64           ┆ f64           ┆ f64          ┆       │\n",
       "╞══════════════╪════════╪════════╪══════╪═══╪═══════════════╪═══════════════╪══════════════╪═══════╡\n",
       "│ 0.0          ┆ 0.0    ┆ 0.0    ┆ 0.0  ┆ … ┆ 1.876676      ┆ 0.0           ┆ 0.0          ┆ 0.0   │\n",
       "└──────────────┴────────┴────────┴──────┴───┴───────────────┴───────────────┴──────────────┴───────┘"
      ]
     },
     "execution_count": 37,
     "metadata": {},
     "output_type": "execute_result"
    }
   ],
   "source": [
    "df_final.null_count()/len(df_final)*100"
   ]
  },
  {
   "attachments": {},
   "cell_type": "markdown",
   "metadata": {},
   "source": [
    "# Company Employees Dataset"
   ]
  },
  {
   "attachments": {},
   "cell_type": "markdown",
   "metadata": {},
   "source": [
    "The \"Company Employees\" dataset contains information about companies. The prediction target in this case is the number \n",
    "of employees of a company. We filter the dataset to select only companies with at least 1000 employees."
   ]
  },
  {
   "cell_type": "code",
   "execution_count": 17,
   "metadata": {},
   "outputs": [],
   "source": [
    "dataset_dir = Path(data_dir, \"company-employees\")\n",
    "df = pl.read_csv(Path(dataset_dir, \"companies_sorted.csv\"))\n",
    "df_selected = df.filter(\n",
    "    pl.col(\"current employee estimate\") >= 1000\n",
    ")"
   ]
  },
  {
   "attachments": {},
   "cell_type": "markdown",
   "metadata": {},
   "source": [
    "Adding a new column to `yagofacts` with lowercased subjects. "
   ]
  },
  {
   "cell_type": "code",
   "execution_count": 18,
   "metadata": {},
   "outputs": [],
   "source": [
    "yagofacts = yagofacts.with_columns(\n",
    "    pl.col(\"subject\").str.to_lowercase().alias(\"subject_formatted\")\n",
    ")\n",
    "df_filtered=df_selected.lazy().with_columns(\n",
    "    (\"<\" + pl.col(\"name\").str.to_lowercase().str.replace(\" \", \"_\") + \">\").alias(\"formatted_name\")\n",
    ").filter(\n",
    "    pl.col(\"formatted_name\").is_in(yagofacts[\"subject_formatted\"])\n",
    ").collect()"
   ]
  },
  {
   "attachments": {},
   "cell_type": "markdown",
   "metadata": {},
   "source": [
    "Not all the company names can be matched with this simple heuristic due to the fact that the name in the base table has \n",
    "a format different from that in the knowledge base. "
   ]
  },
  {
   "cell_type": "code",
   "execution_count": 19,
   "metadata": {},
   "outputs": [
    {
     "data": {
      "text/html": [
       "<div><style>\n",
       ".dataframe > thead > tr > th,\n",
       ".dataframe > tbody > tr > td {\n",
       "  text-align: right;\n",
       "}\n",
       "</style>\n",
       "<small>shape: (20, 2)</small><table border=\"1\" class=\"dataframe\"><thead><tr><th>name</th><th>formatted_name</th></tr><tr><td>str</td><td>str</td></tr></thead><tbody><tr><td>&quot;tata consultan…</td><td>&quot;&lt;tata_consulta…</td></tr><tr><td>&quot;us army&quot;</td><td>&quot;&lt;us_army&gt;&quot;</td></tr><tr><td>&quot;ey&quot;</td><td>&quot;&lt;ey&gt;&quot;</td></tr><tr><td>&quot;cognizant tech…</td><td>&quot;&lt;cognizant_tec…</td></tr><tr><td>&quot;united states …</td><td>&quot;&lt;united_states…</td></tr><tr><td>&quot;pwc&quot;</td><td>&quot;&lt;pwc&gt;&quot;</td></tr><tr><td>&quot;citi&quot;</td><td>&quot;&lt;citi&gt;&quot;</td></tr><tr><td>&quot;bank of americ…</td><td>&quot;&lt;bank_of ameri…</td></tr><tr><td>&quot;jpmorgan chase…</td><td>&quot;&lt;jpmorgan_chas…</td></tr><tr><td>&quot;us navy&quot;</td><td>&quot;&lt;us_navy&gt;&quot;</td></tr><tr><td>&quot;amazon&quot;</td><td>&quot;&lt;amazon&gt;&quot;</td></tr><tr><td>&quot;apple&quot;</td><td>&quot;&lt;apple&gt;&quot;</td></tr><tr><td>&quot;siemens&quot;</td><td>&quot;&lt;siemens&gt;&quot;</td></tr><tr><td>&quot;oracle&quot;</td><td>&quot;&lt;oracle&gt;&quot;</td></tr><tr><td>&quot;education nati…</td><td>&quot;&lt;education_nat…</td></tr><tr><td>&quot;wipro technolo…</td><td>&quot;&lt;wipro_technol…</td></tr><tr><td>&quot;united states …</td><td>&quot;&lt;united_states…</td></tr><tr><td>&quot;mcdonald&#x27;s cor…</td><td>&quot;&lt;mcdonald&#x27;s_co…</td></tr><tr><td>&quot;nhs&quot;</td><td>&quot;&lt;nhs&gt;&quot;</td></tr><tr><td>&quot;ford motor com…</td><td>&quot;&lt;ford_motor co…</td></tr></tbody></table></div>"
      ],
      "text/plain": [
       "shape: (20, 2)\n",
       "┌────────────────────────────────┬──────────────────────────────────┐\n",
       "│ name                           ┆ formatted_name                   │\n",
       "│ ---                            ┆ ---                              │\n",
       "│ str                            ┆ str                              │\n",
       "╞════════════════════════════════╪══════════════════════════════════╡\n",
       "│ tata consultancy services      ┆ <tata_consultancy services>      │\n",
       "│ us army                        ┆ <us_army>                        │\n",
       "│ ey                             ┆ <ey>                             │\n",
       "│ cognizant technology solutions ┆ <cognizant_technology solutions> │\n",
       "│ …                              ┆ …                                │\n",
       "│ united states postal service   ┆ <united_states postal service>   │\n",
       "│ mcdonald's corporation         ┆ <mcdonald's_corporation>         │\n",
       "│ nhs                            ┆ <nhs>                            │\n",
       "│ ford motor company             ┆ <ford_motor company>             │\n",
       "└────────────────────────────────┴──────────────────────────────────┘"
      ]
     },
     "execution_count": 19,
     "metadata": {},
     "output_type": "execute_result"
    }
   ],
   "source": [
    "df_selected.lazy().with_columns(\n",
    "    (\"<\" + pl.col(\"name\").str.to_lowercase().str.replace(\" \", \"_\") + \">\").alias(\"formatted_name\")\n",
    ").filter(\n",
    "    ~pl.col(\"formatted_name\").is_in(yagofacts[\"subject_formatted\"])\n",
    ").limit(20).select(\n",
    "                   pl.col(\"name\"),\n",
    "                   pl.col(\"formatted_name\")).collect()"
   ]
  },
  {
   "cell_type": "code",
   "execution_count": 20,
   "metadata": {},
   "outputs": [
    {
     "name": "stdout",
     "output_type": "stream",
     "text": [
      "shape: (1, 6)\n",
      "┌───────────────────┬──────────────┬───────────┬───────────────────┬────────────┬──────────────────┐\n",
      "│ id                ┆ subject      ┆ predicate ┆ cat_object        ┆ num_object ┆ subject_formatte │\n",
      "│ ---               ┆ ---          ┆ ---       ┆ ---               ┆ ---        ┆ d                │\n",
      "│ str               ┆ str          ┆ str       ┆ str               ┆ f64        ┆ ---              │\n",
      "│                   ┆              ┆           ┆                   ┆            ┆ str              │\n",
      "╞═══════════════════╪══════════════╪═══════════╪═══════════════════╪════════════╪══════════════════╡\n",
      "│ <id_22jfQW8Rcs_5y ┆ <Apple_Inc.> ┆ <owns>    ┆ <Apple_Icon_Image ┆ null       ┆ <apple_inc.>     │\n",
      "│ H_L2hDNlxUyQ>     ┆              ┆           ┆ _format>          ┆            ┆                  │\n",
      "└───────────────────┴──────────────┴───────────┴───────────────────┴────────────┴──────────────────┘\n",
      "shape: (1_086, 6)\n",
      "┌─────────────────┬────────────────┬────────────────┬────────────────┬────────────┬────────────────┐\n",
      "│ id              ┆ subject        ┆ predicate      ┆ cat_object     ┆ num_object ┆ subject_format │\n",
      "│ ---             ┆ ---            ┆ ---            ┆ ---            ┆ ---        ┆ ted            │\n",
      "│ str             ┆ str            ┆ str            ┆ str            ┆ f64        ┆ ---            │\n",
      "│                 ┆                ┆                ┆                ┆            ┆ str            │\n",
      "╞═════════════════╪════════════════╪════════════════╪════════════════╪════════════╪════════════════╡\n",
      "│ <id_eMF?TrkR!j_ ┆ <United_States ┆ <owns>         ┆ <Hansen_Dam>   ┆ null       ┆ <united_states │\n",
      "│ 5yH_Bw8rxgeuwn> ┆ _Army_Corps_of ┆                ┆                ┆            ┆ _army_corps_of │\n",
      "│                 ┆ _Eng…          ┆                ┆                ┆            ┆ _eng…          │\n",
      "│ <id_raHUL?wVmB_ ┆ <United_States ┆ <owns>         ┆ <Allen_Army_Ai ┆ null       ┆ <united_states │\n",
      "│ 5yH_SriYN2myID> ┆ _Army>         ┆                ┆ rfield>        ┆            ┆ _army>         │\n",
      "│ <id_raHUL?wVmB_ ┆ <United_States ┆ <owns>         ┆ <Robert_Gray_A ┆ null       ┆ <united_states │\n",
      "│ 5yH_T17wNLe1Nh> ┆ _Army>         ┆                ┆ rmy_Airfield>  ┆            ┆ _army>         │\n",
      "│ <id_raHUL?wVmB_ ┆ <United_States ┆ <owns>         ┆ <MidCoast_Regi ┆ null       ┆ <united_states │\n",
      "│ 5yH_SzWF9sZlSH> ┆ _Army>         ┆                ┆ onal_Airport_a ┆            ┆ _army>         │\n",
      "│                 ┆                ┆                ┆ t_Wr…          ┆            ┆                │\n",
      "│ …               ┆ …              ┆ …              ┆ …              ┆ …          ┆ …              │\n",
      "│ <id_h5kFRVxAUY_ ┆ <Twelfth_Unite ┆ <wasCreatedOnD ┆ 1944-##-##^^xs ┆ 1944.0     ┆ <twelfth_unite │\n",
      "│ Gze_ejn6YMqm43> ┆ d_States_Army_ ┆ ate>           ┆ d:date         ┆            ┆ d_states_army_ │\n",
      "│                 ┆ Grou…          ┆                ┆                ┆            ┆ grou…          │\n",
      "│ <id_hY3BSplPzR_ ┆ <Seventh_Unite ┆ <wasCreatedOnD ┆ 1943-##-##^^xs ┆ 1943.0     ┆ <seventh_unite │\n",
      "│ Gze_5PzqNHZgBy> ┆ d_States_Army> ┆ ate>           ┆ d:date         ┆            ┆ d_states_army> │\n",
      "│ <id_nwmmIif3Cf_ ┆ <Deputy_Chief_ ┆ <wasCreatedOnD ┆ 2008-##-##^^xs ┆ 2008.0     ┆ <deputy_chief_ │\n",
      "│ Gze_hym65IJz9H> ┆ of_Staff_G-8_P ┆ ate>           ┆ d:date         ┆            ┆ of_staff_g-8_p │\n",
      "│                 ┆ rogr…          ┆                ┆                ┆            ┆ rogr…          │\n",
      "│ <id_noMH584m5D_ ┆ <United_States ┆ <wasCreatedOnD ┆ 2010-##-##^^xs ┆ 2010.0     ┆ <united_states │\n",
      "│ Gze_Nhbt11fRdq> ┆ _Army_Cyber_Co ┆ ate>           ┆ d:date         ┆            ┆ _army_cyber_co │\n",
      "│                 ┆ mman…          ┆                ┆                ┆            ┆ mman…          │\n",
      "└─────────────────┴────────────────┴────────────────┴────────────────┴────────────┴────────────────┘\n"
     ]
    }
   ],
   "source": [
    "print(yagofacts.lazy().filter(\n",
    "    pl.col(\"subject\").str.contains(\"Apple\")\n",
    ").limit(1).collect())\n",
    "\n",
    "print(yagofacts.lazy().filter(\n",
    "    pl.col(\"subject\").str.to_lowercase().str.contains(\"united_states_army\")\n",
    ").collect())"
   ]
  },
  {
   "attachments": {},
   "cell_type": "markdown",
   "metadata": {},
   "source": [
    "Here we prepare a mapping between the name in the original dataset and the match found in YAGO.\n",
    "Note that there is a relatively low recall."
   ]
  },
  {
   "cell_type": "code",
   "execution_count": 21,
   "metadata": {},
   "outputs": [],
   "source": [
    "mapping_name_subject = df_filtered.lazy().join(\n",
    "    yagofacts.lazy(),\n",
    "    left_on=\"formatted_name\",\n",
    "    right_on=\"subject_formatted\"\n",
    ").select(\n",
    "    [\n",
    "        pl.col(\"name\"),\n",
    "        pl.col(\"formatted_name\"),\n",
    "        pl.col(\"subject\")\n",
    "    ]\n",
    ").unique().collect()\n"
   ]
  },
  {
   "attachments": {},
   "cell_type": "markdown",
   "metadata": {},
   "source": [
    "Joining on with the mapping on `formatted_name` to guarantee that col `col_to_embed` uses the same format (and \n",
    "capitalization) used in YAGO. "
   ]
  },
  {
   "cell_type": "code",
   "execution_count": 22,
   "metadata": {},
   "outputs": [
    {
     "data": {
      "text/html": [
       "<div><style>\n",
       ".dataframe > thead > tr > th,\n",
       ".dataframe > tbody > tr > td {\n",
       "  text-align: right;\n",
       "}\n",
       "</style>\n",
       "<small>shape: (3_035, 3)</small><table border=\"1\" class=\"dataframe\"><thead><tr><th>raw_entities</th><th>col_to_embed</th><th>target</th></tr><tr><td>str</td><td>str</td><td>f64</td></tr></thead><tbody><tr><td>&quot;ibm&quot;</td><td>&quot;&lt;IBM&gt;&quot;</td><td>5.437825</td></tr><tr><td>&quot;accenture&quot;</td><td>&quot;&lt;Accenture&gt;&quot;</td><td>5.280326</td></tr><tr><td>&quot;hewlett-packar…</td><td>&quot;&lt;Hewlett-Packa…</td><td>5.107047</td></tr><tr><td>&quot;walmart&quot;</td><td>&quot;&lt;Walmart&gt;&quot;</td><td>5.081898</td></tr><tr><td>&quot;microsoft&quot;</td><td>&quot;&lt;Microsoft&gt;&quot;</td><td>5.065191</td></tr><tr><td>&quot;at&amp;t&quot;</td><td>&quot;&lt;AT&amp;T&gt;&quot;</td><td>5.061407</td></tr><tr><td>&quot;wells fargo&quot;</td><td>&quot;&lt;Wells_Fargo&gt;&quot;</td><td>5.039541</td></tr><tr><td>&quot;infosys&quot;</td><td>&quot;&lt;Infosys&gt;&quot;</td><td>5.020162</td></tr><tr><td>&quot;deloitte&quot;</td><td>&quot;&lt;Deloitte&gt;&quot;</td><td>5.017501</td></tr><tr><td>&quot;nokia&quot;</td><td>&quot;&lt;Nokia&gt;&quot;</td><td>4.925967</td></tr><tr><td>&quot;capgemini&quot;</td><td>&quot;&lt;Capgemini&gt;&quot;</td><td>4.925204</td></tr><tr><td>&quot;hsbc&quot;</td><td>&quot;&lt;HSBC&gt;&quot;</td><td>4.878752</td></tr><tr><td>&hellip;</td><td>&hellip;</td><td>&hellip;</td></tr><tr><td>&quot;vilnius univer…</td><td>&quot;&lt;Vilnius_Unive…</td><td>3.002598</td></tr><tr><td>&quot;moody&#x27;s corpor…</td><td>&quot;&lt;Moody&#x27;s_Corpo…</td><td>3.002598</td></tr><tr><td>&quot;air europa&quot;</td><td>&quot;&lt;Air_Europa&gt;&quot;</td><td>3.002166</td></tr><tr><td>&quot;providence col…</td><td>&quot;&lt;Providence_Co…</td><td>3.002166</td></tr><tr><td>&quot;appdynamics&quot;</td><td>&quot;&lt;AppDynamics&gt;&quot;</td><td>3.002166</td></tr><tr><td>&quot;qihoo 360&quot;</td><td>&quot;&lt;Qihoo_360&gt;&quot;</td><td>3.002166</td></tr><tr><td>&quot;hubbell incorp…</td><td>&quot;&lt;Hubbell_Incor…</td><td>3.001301</td></tr><tr><td>&quot;revenu québec&quot;</td><td>&quot;&lt;Revenu_Québec…</td><td>3.000868</td></tr><tr><td>&quot;jagiellonian u…</td><td>&quot;&lt;Jagiellonian_…</td><td>3.000434</td></tr><tr><td>&quot;becu&quot;</td><td>&quot;&lt;BECU&gt;&quot;</td><td>3.0</td></tr><tr><td>&quot;sta travel&quot;</td><td>&quot;&lt;STA_Travel&gt;&quot;</td><td>3.0</td></tr><tr><td>&quot;megacable&quot;</td><td>&quot;&lt;Megacable&gt;&quot;</td><td>3.0</td></tr></tbody></table></div>"
      ],
      "text/plain": [
       "shape: (3_035, 3)\n",
       "┌─────────────────────────┬───────────────────────────┬──────────┐\n",
       "│ raw_entities            ┆ col_to_embed              ┆ target   │\n",
       "│ ---                     ┆ ---                       ┆ ---      │\n",
       "│ str                     ┆ str                       ┆ f64      │\n",
       "╞═════════════════════════╪═══════════════════════════╪══════════╡\n",
       "│ ibm                     ┆ <IBM>                     ┆ 5.437825 │\n",
       "│ accenture               ┆ <Accenture>               ┆ 5.280326 │\n",
       "│ hewlett-packard         ┆ <Hewlett-Packard>         ┆ 5.107047 │\n",
       "│ walmart                 ┆ <Walmart>                 ┆ 5.081898 │\n",
       "│ …                       ┆ …                         ┆ …        │\n",
       "│ jagiellonian university ┆ <Jagiellonian_University> ┆ 3.000434 │\n",
       "│ becu                    ┆ <BECU>                    ┆ 3.0      │\n",
       "│ sta travel              ┆ <STA_Travel>              ┆ 3.0      │\n",
       "│ megacable               ┆ <Megacable>               ┆ 3.0      │\n",
       "└─────────────────────────┴───────────────────────────┴──────────┘"
      ]
     },
     "execution_count": 22,
     "metadata": {},
     "output_type": "execute_result"
    }
   ],
   "source": [
    "df_final = df_filtered.join(\n",
    "    mapping_name_subject, on=\"formatted_name\"\n",
    ").select(\n",
    "    [\n",
    "        pl.col(\"name\").alias(\"raw_entities\"),\n",
    "        pl.col(\"subject\").alias(\"col_to_embed\"),\n",
    "        pl.col(\"current employee estimate\").alias(\"target\").log10()\n",
    "    ]\n",
    ")\n",
    "df_final\n"
   ]
  },
  {
   "cell_type": "code",
   "execution_count": 23,
   "metadata": {},
   "outputs": [],
   "source": [
    "df_final.write_parquet(Path(dataset_dir, \"company-employees-target.parquet\"))"
   ]
  },
  {
   "attachments": {},
   "cell_type": "markdown",
   "metadata": {},
   "source": [
    "Joining the measure target on the base table. Some unnecessary columns are dropped from the table, then it is saved on disk.\n"
   ]
  },
  {
   "cell_type": "code",
   "execution_count": 26,
   "metadata": {},
   "outputs": [],
   "source": [
    "df_prepared = df_filtered.lazy().join(\n",
    "    df_final.lazy(),\n",
    "    left_on=\"name\",\n",
    "    right_on=\"raw_entities\",\n",
    "    how=\"inner\"\n",
    ").drop(\n",
    "    \"\",\n",
    "    \"formatted_name\",\n",
    "    \"current employee estimate\",\n",
    "    \"total employee estimate\",\n",
    ").collect()\n",
    "df_prepared.write_parquet(Path(dataset_dir, \"company-employees-yadl.parquet\"))"
   ]
  },
  {
   "attachments": {},
   "cell_type": "markdown",
   "metadata": {},
   "source": [
    "Checking the percentage of missing values by column."
   ]
  },
  {
   "cell_type": "code",
   "execution_count": 29,
   "metadata": {},
   "outputs": [
    {
     "data": {
      "text/html": [
       "<div><style>\n",
       ".dataframe > thead > tr > th,\n",
       ".dataframe > tbody > tr > td {\n",
       "  text-align: right;\n",
       "}\n",
       "</style>\n",
       "<small>shape: (1, 10)</small><table border=\"1\" class=\"dataframe\"><thead><tr><th>name</th><th>domain</th><th>year founded</th><th>industry</th><th>size range</th><th>locality</th><th>country</th><th>linkedin url</th><th>col_to_embed</th><th>target</th></tr><tr><td>f64</td><td>f64</td><td>f64</td><td>f64</td><td>f64</td><td>f64</td><td>f64</td><td>f64</td><td>f64</td><td>f64</td></tr></thead><tbody><tr><td>0.0</td><td>4.503056</td><td>17.72274</td><td>0.0</td><td>0.0</td><td>10.871663</td><td>9.488582</td><td>0.0</td><td>0.0</td><td>0.0</td></tr></tbody></table></div>"
      ],
      "text/plain": [
       "shape: (1, 10)\n",
       "┌──────┬──────────┬──────────────┬──────────┬───┬──────────┬──────────────┬──────────────┬────────┐\n",
       "│ name ┆ domain   ┆ year founded ┆ industry ┆ … ┆ country  ┆ linkedin url ┆ col_to_embed ┆ target │\n",
       "│ ---  ┆ ---      ┆ ---          ┆ ---      ┆   ┆ ---      ┆ ---          ┆ ---          ┆ ---    │\n",
       "│ f64  ┆ f64      ┆ f64          ┆ f64      ┆   ┆ f64      ┆ f64          ┆ f64          ┆ f64    │\n",
       "╞══════╪══════════╪══════════════╪══════════╪═══╪══════════╪══════════════╪══════════════╪════════╡\n",
       "│ 0.0  ┆ 4.503056 ┆ 17.72274     ┆ 0.0      ┆ … ┆ 9.488582 ┆ 0.0          ┆ 0.0          ┆ 0.0    │\n",
       "└──────┴──────────┴──────────────┴──────────┴───┴──────────┴──────────────┴──────────────┴────────┘"
      ]
     },
     "execution_count": 29,
     "metadata": {},
     "output_type": "execute_result"
    }
   ],
   "source": [
    "df_prepared.null_count()/len(df_prepared)*100"
   ]
  },
  {
   "attachments": {},
   "cell_type": "markdown",
   "metadata": {},
   "source": [
    "# US Presidential elections"
   ]
  },
  {
   "attachments": {},
   "cell_type": "markdown",
   "metadata": {},
   "source": [
    "The US Presidential Elections dataset contains the vote fraction for each candidate in each county in the US for the \n",
    "Presidential Elections in the period 2000-2020. We focus on the 2020 election, thus we select only the rows relative to \n",
    "that. \n",
    "\n",
    "As usual, the column `col_to_embed` is formatted to follow YAGO's string format. "
   ]
  },
  {
   "cell_type": "code",
   "execution_count": 38,
   "metadata": {},
   "outputs": [],
   "source": [
    "dataset_dir = Path(data_dir, \"presidential-results\")\n",
    "df = pl.read_csv(Path(dataset_dir, \"presidential-results.csv\"), infer_schema_length=0)\n",
    "df = df.to_pandas()"
   ]
  },
  {
   "cell_type": "code",
   "execution_count": 39,
   "metadata": {},
   "outputs": [],
   "source": [
    "df = df[df[\"year\"] == \"2020\"]\n",
    "df[\"county_name\"] = df[\"county_name\"].str.title()\n",
    "df[\"state\"] = df[\"state\"].str.title()\n",
    "df[\"col_to_embed\"] = \"<\" + df[\"county_name\"] + \"_County,_\" + df[\"state\"] + \">\"\n",
    "df[\"col_to_embed\"] = df[\"col_to_embed\"].str.replace(\" \", \"_\")\n",
    "df[\"target\"] = np.log10(df[\"candidatevotes\"].astype(int) + 1)\n",
    "df[\"raw_entities\"] = df[\"county_name\"] + \" \" + df[\"state\"]\n",
    "df.loc[df[\"state\"]==\"Louisiana\", \"col_to_embed\"]=df.loc[df[\"state\"]==\"Louisiana\", \"col_to_embed\"].str.replace(\"County\", \"Parish\")\n",
    "# df = df[[\"raw_entities\", \"col_to_embed\", \"party\", \"target\"]]\n",
    "df.dropna(inplace=True)\n"
   ]
  },
  {
   "attachments": {},
   "cell_type": "markdown",
   "metadata": {},
   "source": [
    "Some columns are dropped because they are either not useful, or would leak information about the target. "
   ]
  },
  {
   "cell_type": "code",
   "execution_count": 40,
   "metadata": {},
   "outputs": [],
   "source": [
    "df_final = df.drop(\n",
    "    [\"raw_entities\", \"candidatevotes\", \"county_fips\", \"office\", \"year\", \"totalvotes\", \"version\", \"mode\"], axis=1\n",
    "    )\n",
    "df_final.to_parquet(Path(dataset_dir, \"us-presidential-results-yadl.parquet\"), index=False)"
   ]
  },
  {
   "attachments": {},
   "cell_type": "markdown",
   "metadata": {},
   "source": [
    "Checking the number of missing values by column. "
   ]
  },
  {
   "cell_type": "code",
   "execution_count": 42,
   "metadata": {},
   "outputs": [
    {
     "data": {
      "text/plain": [
       "state           0\n",
       "state_po        0\n",
       "county_name     0\n",
       "candidate       0\n",
       "party           0\n",
       "col_to_embed    0\n",
       "target          0\n",
       "dtype: int64"
      ]
     },
     "execution_count": 42,
     "metadata": {},
     "output_type": "execute_result"
    }
   ],
   "source": [
    "df_final.isna().sum()"
   ]
  }
 ],
 "metadata": {
  "kernelspec": {
   "display_name": "base",
   "language": "python",
   "name": "python3"
  },
  "language_info": {
   "codemirror_mode": {
    "name": "ipython",
    "version": 3
   },
   "file_extension": ".py",
   "mimetype": "text/x-python",
   "name": "python",
   "nbconvert_exporter": "python",
   "pygments_lexer": "ipython3",
   "version": "3.10.10"
  },
  "orig_nbformat": 4
 },
 "nbformat": 4,
 "nbformat_minor": 2
}
