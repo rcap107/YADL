{
 "cells": [
  {
   "cell_type": "code",
   "execution_count": 18,
   "metadata": {},
   "outputs": [
    {
     "name": "stdout",
     "output_type": "stream",
     "text": [
      "/home/soda/rcappuzz/work/prepare-data-lakes\n"
     ]
    }
   ],
   "source": [
    "%cd /home/soda/rcappuzz/work/prepare-data-lakes"
   ]
  },
  {
   "cell_type": "code",
   "execution_count": 17,
   "metadata": {},
   "outputs": [],
   "source": [
    "import src.yago.utils as utils"
   ]
  },
  {
   "cell_type": "code",
   "execution_count": 19,
   "metadata": {},
   "outputs": [],
   "source": [
    "import re\n",
    "from pathlib import Path\n",
    "\n",
    "import matplotlib.pyplot as plt\n",
    "import networkx as nx\n",
    "import numpy as np\n",
    "import pandas as pd\n",
    "import polars as pl\n",
    "import seaborn as sns\n",
    "from tqdm import tqdm\n",
    "import os\n",
    "import polars.selectors as cs\n",
    "import random\n",
    "\n",
    "from sklearn.utils import murmurhash3_32\n",
    "\n",
    "sns.set_theme(\"paper\", style=\"whitegrid\")"
   ]
  },
  {
   "cell_type": "code",
   "execution_count": 20,
   "metadata": {},
   "outputs": [
    {
     "data": {
      "text/plain": [
       "polars.config.Config"
      ]
     },
     "execution_count": 20,
     "metadata": {},
     "output_type": "execute_result"
    }
   ],
   "source": [
    "cfg = pl.Config()\n",
    "cfg.set_fmt_str_lengths(150)"
   ]
  },
  {
   "cell_type": "code",
   "execution_count": 21,
   "metadata": {},
   "outputs": [],
   "source": [
    "yago_path = Path(\"/storage/store3/work/jstojano/yago3/\")\n",
    "facts1_path = Path(yago_path, \"facts_parquet/yago_updated_2022_part1\")\n",
    "facts2_path = Path(yago_path, \"facts_parquet/yago_updated_2022_part2\")\n",
    "fname = \"yagoTypes\"\n",
    "yagotypes_path = Path(facts1_path, f\"{fname}.tsv.parquet\")\n",
    "df_types = utils.import_from_yago(yagotypes_path)\n",
    "fname = \"yagoFacts\"\n",
    "yagofacts_path = Path(facts2_path, f\"{fname}.tsv.parquet\")\n",
    "yagofacts = utils.import_from_yago(yagofacts_path)\n",
    "fname = \"yagoLiteralFacts\"\n",
    "yagoliteralfacts_path = Path(facts2_path, f\"{fname}.tsv.parquet\")\n",
    "yagoliteralfacts = utils.import_from_yago(yagoliteralfacts_path)\n",
    "fname = \"yagoDateFacts\"\n",
    "yagodatefacts_path = Path(facts2_path, f\"{fname}.tsv.parquet\")\n",
    "yagodatefacts = utils.import_from_yago(yagodatefacts_path)\n",
    "yagofacts = yagofacts.drop(\"num_object\")\n",
    "yagodatefacts = (\n",
    "    yagodatefacts.with_columns(\n",
    "        pl.col(\"cat_object\")\n",
    "        .str.split(\"^^\")\n",
    "        .list.first()\n",
    "        .str.to_datetime(strict=False)\n",
    "        .dt.date()\n",
    "        .cast(pl.Utf8)\n",
    "        .alias(\"cat_object\")\n",
    "    )\n",
    "    .drop_nulls(\"cat_object\")\n",
    "    .drop(\"num_object\")\n",
    ")\n",
    "yagoliteralfacts = yagoliteralfacts.with_columns(\n",
    "    pl.when(pl.col(\"num_object\").is_not_null())\n",
    "    .then(pl.col(\"num_object\"))\n",
    "    .otherwise(pl.col(\"cat_object\"))\n",
    "    .alias(\"cat_object\")\n",
    ").drop(\"num_object\")\n",
    "df_facts = pl.concat([yagofacts, yagoliteralfacts, yagodatefacts]).drop(\"id\")"
   ]
  },
  {
   "cell_type": "code",
   "execution_count": 22,
   "metadata": {},
   "outputs": [],
   "source": [
    "wikilabels_path = Path(\n",
    "    yago_path, \"facts_parquet/yago_updated_2022_part2/wikipediaLabels.tsv.parquet\"\n",
    ")\n",
    "wikipedia_labels = utils.import_from_yago(wikilabels_path)"
   ]
  },
  {
   "cell_type": "markdown",
   "metadata": {},
   "source": [
    "# Full tables"
   ]
  },
  {
   "cell_type": "code",
   "execution_count": 23,
   "metadata": {},
   "outputs": [],
   "source": [
    "subjects_with_wordnet = (\n",
    "    df_types.filter(pl.col(\"cat_object\").str.starts_with(\"<wordnet_\"))\n",
    "    .select(pl.col(\"subject\"), pl.col(\"cat_object\"))\n",
    "    .rename({\"cat_object\": \"type\"})\n",
    ")\n",
    "n_groups = len(subjects_with_wordnet.unique(\"type\"))"
   ]
  },
  {
   "cell_type": "code",
   "execution_count": 25,
   "metadata": {},
   "outputs": [],
   "source": [
    "def clean_string(string_to_clean):\n",
    "    pattern = re.compile(r\"<{1}([a-zA-Z0-9_]+)>{1}\")\n",
    "    m = re.sub(pattern, \"\\\\1\", string_to_clean)\n",
    "    return m"
   ]
  },
  {
   "cell_type": "code",
   "execution_count": 26,
   "metadata": {},
   "outputs": [],
   "source": [
    "max_fields = 2\n",
    "dest_path = Path(\"data/yago3-dl/wordnet_vldb\")"
   ]
  },
  {
   "cell_type": "code",
   "execution_count": 10,
   "metadata": {},
   "outputs": [
    {
     "name": "stderr",
     "output_type": "stream",
     "text": [
      "100%|██████████| 1015/1015 [01:59<00:00,  8.50it/s]\n"
     ]
    }
   ],
   "source": [
    "for this_type, this_df in tqdm(subjects_with_wordnet.group_by(\"type\"), total=n_groups):\n",
    "    clean_type = clean_string(this_type)\n",
    "    joined_df = df_facts.join(this_df.select(pl.col(\"subject\", \"type\")), on=\"subject\")\n",
    "    if len(joined_df) == 0:\n",
    "        continue\n",
    "    base_df = joined_df.select(pl.col(\"subject\").unique()).lazy()\n",
    "    for idx, grp in joined_df.group_by(by=[\"predicate\"]):\n",
    "        this_predicate = clean_string(idx[0])\n",
    "        grp = (\n",
    "            grp.group_by(\"subject\")\n",
    "            .head(max_fields)\n",
    "            .select(pl.col(\"subject\", \"cat_object\"))\n",
    "            .rename({\"cat_object\": this_predicate})\n",
    "        )\n",
    "        try:\n",
    "            grp = grp.with_columns(pl.col(this_predicate).cast(pl.Float64))\n",
    "        except pl.ComputeError:\n",
    "            pass\n",
    "        grp = grp.lazy()\n",
    "        base_df = base_df.join(grp, on=\"subject\", how=\"left\")\n",
    "    base_df = base_df.rename({\"subject\": clean_type})\n",
    "    df_name = f\"wordnet_vldb-{clean_type}.parquet\"\n",
    "    base_df = base_df.collect()\n",
    "    if len(base_df) > 0:\n",
    "        base_df.write_parquet(Path(dest_path, df_name))"
   ]
  },
  {
   "cell_type": "markdown",
   "metadata": {},
   "source": [
    "## Profile base tables"
   ]
  },
  {
   "cell_type": "code",
   "execution_count": 8,
   "metadata": {},
   "outputs": [],
   "source": [
    "list_stats = []\n",
    "for path in Path(dest_path).glob(\"*.parquet\"):\n",
    "    this_df = pl.read_parquet(path)\n",
    "    rows, cols = this_df.shape\n",
    "    n_num = this_df.select(cs.numeric()).shape[1]\n",
    "    c_num = this_df.select(~cs.numeric()).shape[1]\n",
    "\n",
    "    list_stats.append(\n",
    "        {\n",
    "            \"rows\": rows,\n",
    "            \"cols\": cols,\n",
    "            \"n_num\": n_num,\n",
    "            \"c_num\": c_num,\n",
    "        }\n",
    "    )\n",
    "df_stats = pl.from_dicts(list_stats)"
   ]
  },
  {
   "cell_type": "code",
   "execution_count": 14,
   "metadata": {},
   "outputs": [
    {
     "data": {
      "text/html": [
       "<div><style>\n",
       ".dataframe > thead > tr,\n",
       ".dataframe > tbody > tr {\n",
       "  text-align: right;\n",
       "  white-space: pre-wrap;\n",
       "}\n",
       "</style>\n",
       "<small>shape: (1, 2)</small><table border=\"1\" class=\"dataframe\"><thead><tr><th>mean</th><th>median</th></tr><tr><td>f64</td><td>f64</td></tr></thead><tbody><tr><td>8.195627</td><td>6.0</td></tr></tbody></table></div>"
      ],
      "text/plain": [
       "shape: (1, 2)\n",
       "┌──────────┬────────┐\n",
       "│ mean     ┆ median │\n",
       "│ ---      ┆ ---    │\n",
       "│ f64      ┆ f64    │\n",
       "╞══════════╪════════╡\n",
       "│ 8.195627 ┆ 6.0    │\n",
       "└──────────┴────────┘"
      ]
     },
     "execution_count": 14,
     "metadata": {},
     "output_type": "execute_result"
    }
   ],
   "source": [
    "df_stats.select(pl.col(\"cols\").mean().alias(\"mean\"),pl.col(\"cols\").median().alias(\"median\"),)"
   ]
  },
  {
   "cell_type": "code",
   "execution_count": 11,
   "metadata": {},
   "outputs": [
    {
     "data": {
      "text/plain": [
       "(array([218.,  90., 158.,  65.,  61.,  81.,  12.,  38.,  18.,  17.,  27.,\n",
       "          7.,  14.,   6.,   4.,  15.,   7.,   8.,   4.,   5.,   3.,   1.,\n",
       "          4.,   2.,   0.,   1.,   1.,   1.,   0.,   1.]),\n",
       " array([ 2. ,  3.4,  4.8,  6.2,  7.6,  9. , 10.4, 11.8, 13.2, 14.6, 16. ,\n",
       "        17.4, 18.8, 20.2, 21.6, 23. , 24.4, 25.8, 27.2, 28.6, 30. , 31.4,\n",
       "        32.8, 34.2, 35.6, 37. , 38.4, 39.8, 41.2, 42.6, 44. ]),\n",
       " <BarContainer object of 30 artists>)"
      ]
     },
     "execution_count": 11,
     "metadata": {},
     "output_type": "execute_result"
    },
    {
     "data": {
      "image/png": "[encoded data removed]",
      "text/plain": [
       "<Figure size 640x480 with 1 Axes>"
      ]
     },
     "metadata": {},
     "output_type": "display_data"
    }
   ],
   "source": [
    "plt.hist(df_stats[\"cols\"], bins=30)"
   ]
  },
  {
   "cell_type": "markdown",
   "metadata": {},
   "source": [
    "## Build subtables"
   ]
  },
  {
   "cell_type": "code",
   "execution_count": 19,
   "metadata": {},
   "outputs": [],
   "source": [
    "def generate_table(table, col_comb, subject):\n",
    "    selected_ = subject + list(col_comb)\n",
    "    new_df = table.select(selected_).filter(\n",
    "        pl.any_horizontal(pl.col(col_comb).is_not_null())\n",
    "    )\n",
    "    return new_df"
   ]
  },
  {
   "cell_type": "code",
   "execution_count": 22,
   "metadata": {},
   "outputs": [],
   "source": [
    "def generate_batch(\n",
    "    target_columns,\n",
    "    base_table,\n",
    "    table_name,\n",
    "    subject,\n",
    "    case,\n",
    "    resample=False,\n",
    "    sample_fraction=0.7,\n",
    "    min_occurrences=100,\n",
    "    limit_break=50,\n",
    "    gen_break=10,\n",
    "):\n",
    "    new_dir = Path(base_path, table_name)\n",
    "    break_counter = 0\n",
    "    gen_counter = 0\n",
    "    good_comb = set()\n",
    "    bad_comb = set()\n",
    "    while break_counter < limit_break and gen_counter < gen_break:\n",
    "        comb = random.sample(target_columns, k=random.randint(1, len(target_columns)))\n",
    "        comb = tuple(comb)\n",
    "        if (comb not in good_comb) and (comb not in bad_comb):\n",
    "            table = generate_table(base_table, comb, subject)\n",
    "            if len(table) > min_occurrences:\n",
    "                good_comb.add(comb)\n",
    "                gen_counter += 1\n",
    "                fname = (\n",
    "                    table_name\n",
    "                    + \"-\"\n",
    "                    + str(murmurhash3_32(\"-\".join(comb[:])))\n",
    "                    + case\n",
    "                    + \".parquet\"\n",
    "                )\n",
    "                destination_path = Path(new_dir, fname)\n",
    "                table.write_parquet(destination_path)\n",
    "                if resample:\n",
    "                    for sample_counter in range(n_resample):\n",
    "                        resampled_table = table.sample(fraction=sample_fraction)\n",
    "                        fname = (\n",
    "                            table_name\n",
    "                            + \"-\"\n",
    "                            + str(murmurhash3_32(\"-\".join(comb[:])))\n",
    "                            + \"-\"\n",
    "                            + str(sample_counter)\n",
    "                            + \"-\"\n",
    "                            + case\n",
    "                            + \".parquet\"\n",
    "                        )\n",
    "                        destination_path = Path(new_dir, fname)\n",
    "                        resampled_table.write_parquet(destination_path)\n",
    "            else:\n",
    "                bad_comb.add(comb)\n",
    "                break_counter += 1\n",
    "        else:\n",
    "            break_counter += 1"
   ]
  },
  {
   "cell_type": "code",
   "execution_count": 50,
   "metadata": {},
   "outputs": [],
   "source": [
    "base_path = Path(\"data/yadl/wordnet_vldb\")\n",
    "comb_size = 2\n",
    "min_occurrences = 50\n",
    "total_ = sum(1 for _ in base_path.glob(\"*.parquet\"))\n",
    "limit_break = 100\n",
    "gen_break = 50\n",
    "n_resample = 2\n",
    "sample_fraction = 0.7\n",
    "resample = False\n",
    "\n",
    "bc = 0\n"
   ]
  },
  {
   "cell_type": "code",
   "execution_count": null,
   "metadata": {},
   "outputs": [],
   "source": [
    "for pth in tqdm(base_path.glob(\"*.parquet\"), total=total_):\n",
    "    table_name = pth.stem\n",
    "\n",
    "    tgt_table = pl.read_parquet(pth)\n",
    "    n_rows, n_cols = tgt_table.shape\n",
    "    n_cols -= 1  # Not counting column `subject`\n",
    "\n",
    "    subject = [tgt_table.columns[0]]\n",
    "    target_columns = tgt_table.columns[1:]\n",
    "\n",
    "    num_columns = tgt_table.select(cs.numeric()).columns\n",
    "    cat_columns = [_ for _ in tgt_table.select(~cs.numeric()).columns if _ != \"subject\"]\n",
    "\n",
    "    if n_rows == 0:\n",
    "        continue\n",
    "\n",
    "    new_dir = Path(base_path, table_name)\n",
    "    os.makedirs(new_dir, exist_ok=True)\n",
    "\n",
    "    # # All columns\n",
    "    generate_batch(\n",
    "        target_columns,\n",
    "        tgt_table,\n",
    "        table_name,\n",
    "        subject,\n",
    "        \"\",\n",
    "        min_occurrences,\n",
    "        limit_break=limit_break,\n",
    "        gen_break=gen_break,\n",
    "    )\n",
    "\n",
    "    # Numerical columns\n",
    "    if len(num_columns) >= 2:\n",
    "        # print(table_name)\n",
    "        generate_batch(\n",
    "            num_columns,\n",
    "            tgt_table,\n",
    "            subject,\n",
    "            \"num\",\n",
    "            min_occurrences,\n",
    "            limit_break=limit_break,\n",
    "            gen_break=gen_break,\n",
    "        )"
   ]
  },
  {
   "cell_type": "code",
   "execution_count": null,
   "metadata": {},
   "outputs": [],
   "source": []
  }
 ],
 "metadata": {
  "kernelspec": {
   "display_name": "Python 3",
   "language": "python",
   "name": "python3"
  },
  "language_info": {
   "codemirror_mode": {
    "name": "ipython",
    "version": 3
   },
   "file_extension": ".py",
   "mimetype": "text/x-python",
   "name": "python",
   "nbconvert_exporter": "python",
   "pygments_lexer": "ipython3",
   "version": "3.10.0"
  }
 },
 "nbformat": 4,
 "nbformat_minor": 2
}
