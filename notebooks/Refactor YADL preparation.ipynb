{
 "cells": [
  {
   "cell_type": "code",
   "execution_count": 43,
   "metadata": {},
   "outputs": [
    {
     "name": "stdout",
     "output_type": "stream",
     "text": [
      "/home/soda/rcappuzz/work/prepare-data-lakes\n"
     ]
    }
   ],
   "source": [
    "%cd /home/soda/rcappuzz/work/prepare-data-lakes"
   ]
  },
  {
   "cell_type": "code",
   "execution_count": 2,
   "metadata": {},
   "outputs": [],
   "source": [
    "import src.yago.utils as utils"
   ]
  },
  {
   "cell_type": "code",
   "execution_count": 3,
   "metadata": {},
   "outputs": [],
   "source": [
    "import re\n",
    "from pathlib import Path\n",
    "\n",
    "import matplotlib.pyplot as plt\n",
    "import networkx as nx\n",
    "import numpy as np\n",
    "import pandas as pd\n",
    "import polars as pl\n",
    "import seaborn as sns\n",
    "from tqdm import tqdm\n",
    "import os\n",
    "from itertools import combinations\n",
    "\n",
    "sns.set_theme(\"paper\", style=\"whitegrid\")"
   ]
  },
  {
   "cell_type": "code",
   "execution_count": 4,
   "metadata": {},
   "outputs": [
    {
     "data": {
      "text/plain": [
       "polars.config.Config"
      ]
     },
     "execution_count": 4,
     "metadata": {},
     "output_type": "execute_result"
    }
   ],
   "source": [
    "cfg = pl.Config()\n",
    "cfg.set_fmt_str_lengths(150)"
   ]
  },
  {
   "cell_type": "code",
   "execution_count": 5,
   "metadata": {},
   "outputs": [],
   "source": [
    "yago_path = Path(\"/storage/store3/work/jstojano/yago3/\")\n",
    "facts1_path = Path(yago_path, \"facts_parquet/yago_updated_2022_part1\")\n",
    "facts2_path = Path(yago_path, \"facts_parquet/yago_updated_2022_part2\")\n",
    "fname = \"yagoTypes\"\n",
    "yagotypes_path = Path(facts1_path, f\"{fname}.tsv.parquet\")\n",
    "df_types = utils.import_from_yago(yagotypes_path)\n",
    "fname = \"yagoFacts\"\n",
    "yagofacts_path = Path(facts2_path, f\"{fname}.tsv.parquet\")\n",
    "yagofacts = utils.import_from_yago(yagofacts_path)\n",
    "fname = \"yagoLiteralFacts\"\n",
    "yagoliteralfacts_path = Path(facts2_path, f\"{fname}.tsv.parquet\")\n",
    "yagoliteralfacts = utils.import_from_yago(yagoliteralfacts_path)\n",
    "fname = \"yagoDateFacts\"\n",
    "yagodatefacts_path = Path(facts2_path, f\"{fname}.tsv.parquet\")\n",
    "yagodatefacts = utils.import_from_yago(yagodatefacts_path)\n",
    "yagofacts = yagofacts.drop(\"num_object\")\n",
    "yagodatefacts = (\n",
    "    yagodatefacts.with_columns(\n",
    "        pl.col(\"cat_object\")\n",
    "        .str.split(\"^^\")\n",
    "        .list.first()\n",
    "        .str.to_datetime(strict=False)\n",
    "        .dt.date()\n",
    "        .cast(pl.Utf8)\n",
    "        .alias(\"cat_object\")\n",
    "    )\n",
    "    .drop_nulls(\"cat_object\")\n",
    "    .drop(\"num_object\")\n",
    ")\n",
    "yagoliteralfacts = yagoliteralfacts.with_columns(\n",
    "    pl.when(pl.col(\"num_object\").is_not_null())\n",
    "    .then(pl.col(\"num_object\"))\n",
    "    .otherwise(pl.col(\"cat_object\"))\n",
    "    .alias(\"cat_object\")\n",
    ").drop(\"num_object\")\n",
    "df_facts = pl.concat([yagofacts, yagoliteralfacts, yagodatefacts]).drop(\"id\")"
   ]
  },
  {
   "cell_type": "code",
   "execution_count": 6,
   "metadata": {},
   "outputs": [],
   "source": [
    "wikilabels_path = Path(\n",
    "    yago_path, \"facts_parquet/yago_updated_2022_part2/wikipediaLabels.tsv.parquet\"\n",
    ")\n",
    "wikipedia_labels = utils.import_from_yago(wikilabels_path)"
   ]
  },
  {
   "cell_type": "markdown",
   "metadata": {},
   "source": [
    "# Binary tables"
   ]
  },
  {
   "cell_type": "code",
   "execution_count": null,
   "metadata": {},
   "outputs": [
    {
     "data": {
      "text/html": [
       "<div><style>\n",
       ".dataframe > thead > tr > th,\n",
       ".dataframe > tbody > tr > td {\n",
       "  text-align: right;\n",
       "  white-space: pre-wrap;\n",
       "}\n",
       "</style>\n",
       "<small>shape: (1_015, 5)</small><table border=\"1\" class=\"dataframe\"><thead><tr><th>id</th><th>subject</th><th>predicate</th><th>cat_object</th><th>num_object</th></tr><tr><td>str</td><td>str</td><td>str</td><td>str</td><td>f64</td></tr></thead><tbody><tr><td>&quot;&lt;id_JI8AsQ!PaG_KCM_EAgj4NkKcn&gt;&quot;</td><td>&quot;&lt;Samsun–Ceyhan_pipeline&gt;&quot;</td><td>&quot;rdf:type&quot;</td><td>&quot;&lt;wordnet_grapevine_107223635&gt;&quot;</td><td>null</td></tr><tr><td>&quot;&lt;id_Fzy5lex?CQ_KCM_OPKOJq?nv?&gt;&quot;</td><td>&quot;&lt;Integrated_Authority_File&gt;&quot;</td><td>&quot;rdf:type&quot;</td><td>&quot;&lt;wordnet_identifier_107270601&gt;&quot;</td><td>null</td></tr><tr><td>&quot;&lt;id_sPDFWJYYVp_KCM_3GUpyK13nw&gt;&quot;</td><td>&quot;&lt;Bangladesh_Institute_of_Development_Studies&gt;&quot;</td><td>&quot;rdf:type&quot;</td><td>&quot;&lt;wordnet_agency_108337324&gt;&quot;</td><td>null</td></tr><tr><td>&quot;&lt;id_?bKQnNnU9A_KCM_a!jbWAuqtm&gt;&quot;</td><td>&quot;&lt;Weekend_Wogan&gt;&quot;</td><td>&quot;rdf:type&quot;</td><td>&quot;&lt;wordnet_radio_106277135&gt;&quot;</td><td>null</td></tr><tr><td>&quot;&lt;id_c0zIlzNkI1_KCM_XkTmKAWM0l&gt;&quot;</td><td>&quot;&lt;The_World&#x27;s_Work&gt;&quot;</td><td>&quot;rdf:type&quot;</td><td>&quot;&lt;wordnet_magazine_106595351&gt;&quot;</td><td>null</td></tr><tr><td>&quot;&lt;id_76vA?Xuq2P_KCM_U3WpDsXdJX&gt;&quot;</td><td>&quot;&lt;Royal_Belgium_Yachting_Federation&gt;&quot;</td><td>&quot;rdf:type&quot;</td><td>&quot;&lt;wordnet_federation_108303504&gt;&quot;</td><td>null</td></tr><tr><td>&quot;&lt;id_veJ9evHLQ4_KCM_2Kde5F!SKd&gt;&quot;</td><td>&quot;&lt;\\u0022Ode-to-Napoleon\\u0022_hexachord&gt;&quot;</td><td>&quot;rdf:type&quot;</td><td>&quot;&lt;wordnet_chord_113874927&gt;&quot;</td><td>null</td></tr><tr><td>&quot;&lt;id_Bcc9DygMmG_KCM_Rd6HR5MqSL&gt;&quot;</td><td>&quot;&lt;Fishing_industry_in_South_Korea&gt;&quot;</td><td>&quot;rdf:type&quot;</td><td>&quot;&lt;wordnet_fishery_103350880&gt;&quot;</td><td>null</td></tr><tr><td>&quot;&lt;id_CwoHivXDu0_KCM_j94lM4e10S&gt;&quot;</td><td>&quot;&lt;Rote_Zora_(group)&gt;&quot;</td><td>&quot;rdf:type&quot;</td><td>&quot;&lt;wordnet_terrorist_organization_108392137&gt;&quot;</td><td>null</td></tr><tr><td>&quot;&lt;id_K52wdYzc6s_KCM_EMM6ynnqog&gt;&quot;</td><td>&quot;&lt;Zorlu_Energy_Wind_Power_Project&gt;&quot;</td><td>&quot;rdf:type&quot;</td><td>&quot;&lt;wordnet_wind_farm_104586761&gt;&quot;</td><td>null</td></tr><tr><td>&quot;&lt;id_UCirqK60w?_KCM_LXkJ6RPwec&gt;&quot;</td><td>&quot;&lt;Anti–Saccharomyces_cerevisiae_antibody&gt;&quot;</td><td>&quot;rdf:type&quot;</td><td>&quot;&lt;wordnet_antibody_115027189&gt;&quot;</td><td>null</td></tr><tr><td>&quot;&lt;id_q0KxqbQiIp_KCM_vVB52LT9DV&gt;&quot;</td><td>&quot;&lt;Vietnamese_Martyrs&gt;&quot;</td><td>&quot;rdf:type&quot;</td><td>&quot;&lt;wordnet_martyr_110296618&gt;&quot;</td><td>null</td></tr><tr><td>&hellip;</td><td>&hellip;</td><td>&hellip;</td><td>&hellip;</td><td>&hellip;</td></tr><tr><td>&quot;&lt;id_xMVTOMRmdX_KCM_PthTF1mtac&gt;&quot;</td><td>&quot;&lt;Central_Union_of_Roofers&gt;&quot;</td><td>&quot;rdf:type&quot;</td><td>&quot;&lt;wordnet_union_108233056&gt;&quot;</td><td>null</td></tr><tr><td>&quot;&lt;id_213DglO9Qb_KCM_QuOxGpumOL&gt;&quot;</td><td>&quot;&lt;1828_New_South_Wales_census&gt;&quot;</td><td>&quot;rdf:type&quot;</td><td>&quot;&lt;wordnet_census_100653388&gt;&quot;</td><td>null</td></tr><tr><td>&quot;&lt;id_wKcL!A8Cj?_KCM_LSyaW8RgOQ&gt;&quot;</td><td>&quot;&lt;7AK7&gt;&quot;</td><td>&quot;rdf:type&quot;</td><td>&quot;&lt;wordnet_tube_104494204&gt;&quot;</td><td>null</td></tr><tr><td>&quot;&lt;id_TMz64Kxxks_KCM_qRlTr6xpCb&gt;&quot;</td><td>&quot;&lt;Janiculum&gt;&quot;</td><td>&quot;rdf:type&quot;</td><td>&quot;&lt;wordnet_hill_109303008&gt;&quot;</td><td>null</td></tr><tr><td>&quot;&lt;id_j74G8pISqQ_KCM_gk?jlw1tnl&gt;&quot;</td><td>&quot;&lt;FM-11&gt;&quot;</td><td>&quot;rdf:type&quot;</td><td>&quot;&lt;wordnet_personal_computer_103918480&gt;&quot;</td><td>null</td></tr><tr><td>&quot;&lt;id_HafnT!Bvda_KCM_QNzn!WpP?7&gt;&quot;</td><td>&quot;&lt;Advanced_Crew_Escape_Suit&gt;&quot;</td><td>&quot;rdf:type&quot;</td><td>&quot;&lt;wordnet_pressure_suit_104001845&gt;&quot;</td><td>null</td></tr><tr><td>&quot;&lt;id_rK73aeATR1_KCM_6t8J4zvvrh&gt;&quot;</td><td>&quot;&lt;Hickson_Compact_Group&gt;&quot;</td><td>&quot;rdf:type&quot;</td><td>&quot;&lt;wordnet_survey_100644503&gt;&quot;</td><td>null</td></tr><tr><td>&quot;&lt;id_aeJc9lbF2l_KCM_n1UajIIblY&gt;&quot;</td><td>&quot;&lt;Richland_Creek_Reservoir&gt;&quot;</td><td>&quot;rdf:type&quot;</td><td>&quot;&lt;wordnet_reservoir_113776854&gt;&quot;</td><td>null</td></tr><tr><td>&quot;&lt;id_4FxCtEJLOP_KCM_mm95DNiTex&gt;&quot;</td><td>&quot;&lt;Deforestation_in_Ethiopia&gt;&quot;</td><td>&quot;rdf:type&quot;</td><td>&quot;&lt;wordnet_deforestation_114519097&gt;&quot;</td><td>null</td></tr><tr><td>&quot;&lt;id_WiEDcDfNKE_KCM_l80omYS1aQ&gt;&quot;</td><td>&quot;&lt;Tehran_Peace_Museum&gt;&quot;</td><td>&quot;rdf:type&quot;</td><td>&quot;&lt;wordnet_museum_103800563&gt;&quot;</td><td>null</td></tr><tr><td>&quot;&lt;id_OR4ZN5jSM8_KCM_5I?WxixW8u&gt;&quot;</td><td>&quot;&lt;State_Correctional_Institution_–_Forest&gt;&quot;</td><td>&quot;rdf:type&quot;</td><td>&quot;&lt;wordnet_prison_104005630&gt;&quot;</td><td>null</td></tr><tr><td>&quot;&lt;id_FUIzTDFVe3_KCM_Yvn9xSb0ay&gt;&quot;</td><td>&quot;&lt;Wright_(lunar_crater)&gt;&quot;</td><td>&quot;rdf:type&quot;</td><td>&quot;&lt;wordnet_lunar_crater_109344324&gt;&quot;</td><td>null</td></tr></tbody></table></div>"
      ],
      "text/plain": [
       "shape: (1_015, 5)\n",
       "┌────────────────────────┬────────────────────────┬───────────┬───────────────────────┬────────────┐\n",
       "│ id                     ┆ subject                ┆ predicate ┆ cat_object            ┆ num_object │\n",
       "│ ---                    ┆ ---                    ┆ ---       ┆ ---                   ┆ ---        │\n",
       "│ str                    ┆ str                    ┆ str       ┆ str                   ┆ f64        │\n",
       "╞════════════════════════╪════════════════════════╪═══════════╪═══════════════════════╪════════════╡\n",
       "│ <id_JI8AsQ!PaG_KCM_EAg ┆ <Samsun–Ceyhan_pipelin ┆ rdf:type  ┆ <wordnet_grapevine_10 ┆ null       │\n",
       "│ j4NkKcn>               ┆ e>                     ┆           ┆ 7223635>              ┆            │\n",
       "│ <id_Fzy5lex?CQ_KCM_OPK ┆ <Integrated_Authority_ ┆ rdf:type  ┆ <wordnet_identifier_1 ┆ null       │\n",
       "│ OJq?nv?>               ┆ File>                  ┆           ┆ 07270601>             ┆            │\n",
       "│ <id_sPDFWJYYVp_KCM_3GU ┆ <Bangladesh_Institute_ ┆ rdf:type  ┆ <wordnet_agency_10833 ┆ null       │\n",
       "│ pyK13nw>               ┆ of_Development_Studies ┆           ┆ 7324>                 ┆            │\n",
       "│                        ┆ >                      ┆           ┆                       ┆            │\n",
       "│ <id_?bKQnNnU9A_KCM_a!j ┆ <Weekend_Wogan>        ┆ rdf:type  ┆ <wordnet_radio_106277 ┆ null       │\n",
       "│ bWAuqtm>               ┆                        ┆           ┆ 135>                  ┆            │\n",
       "│ …                      ┆ …                      ┆ …         ┆ …                     ┆ …          │\n",
       "│ <id_4FxCtEJLOP_KCM_mm9 ┆ <Deforestation_in_Ethi ┆ rdf:type  ┆ <wordnet_deforestatio ┆ null       │\n",
       "│ 5DNiTex>               ┆ opia>                  ┆           ┆ n_114519097>          ┆            │\n",
       "│ <id_WiEDcDfNKE_KCM_l80 ┆ <Tehran_Peace_Museum>  ┆ rdf:type  ┆ <wordnet_museum_10380 ┆ null       │\n",
       "│ omYS1aQ>               ┆                        ┆           ┆ 0563>                 ┆            │\n",
       "│ <id_OR4ZN5jSM8_KCM_5I? ┆ <State_Correctional_In ┆ rdf:type  ┆ <wordnet_prison_10400 ┆ null       │\n",
       "│ WxixW8u>               ┆ stitution_–_Forest>    ┆           ┆ 5630>                 ┆            │\n",
       "│ <id_FUIzTDFVe3_KCM_Yvn ┆ <Wright_(lunar_crater) ┆ rdf:type  ┆ <wordnet_lunar_crater ┆ null       │\n",
       "│ 9xSb0ay>               ┆ >                      ┆           ┆ _109344324>           ┆            │\n",
       "└────────────────────────┴────────────────────────┴───────────┴───────────────────────┴────────────┘"
      ]
     },
     "metadata": {},
     "output_type": "display_data"
    }
   ],
   "source": [
    "df_types.filter(pl.col(\"cat_object\").str.starts_with(\"<wordnet_\")).unique(\"cat_object\")"
   ]
  },
  {
   "cell_type": "code",
   "execution_count": 9,
   "metadata": {},
   "outputs": [
    {
     "data": {
      "text/plain": [
       "'isLeaderOf'"
      ]
     },
     "execution_count": 9,
     "metadata": {},
     "output_type": "execute_result"
    }
   ],
   "source": [
    "import re\n",
    "\n",
    "pattern = re.compile(r\"<{1}([a-zA-Z0-9]+)>{1}\")\n",
    "m = re.sub(pattern, \"\\\\1\", \"<isLeaderOf>\")\n",
    "m"
   ]
  },
  {
   "cell_type": "code",
   "execution_count": 10,
   "metadata": {},
   "outputs": [],
   "source": [
    "dest_path = Path(\"data/yago3-dl/binary_update\")"
   ]
  },
  {
   "cell_type": "code",
   "execution_count": 37,
   "metadata": {},
   "outputs": [],
   "source": [
    "import re\n",
    "\n",
    "for gname, group in df_facts.group_by(\"predicate\"):\n",
    "    new_df = None\n",
    "    col_name = gname.replace(\"<\", \"\").replace(\">\", \"\")\n",
    "    dff = group.clone()\n",
    "    try:\n",
    "        dff = dff.with_columns(pl.col(\"cat_object\").cast(pl.Float64))\n",
    "    except pl.ComputeError:\n",
    "        pass\n",
    "    new_df = dff.with_columns(\n",
    "        pl.col(\"subject\"), pl.col(\"cat_object\").alias(col_name)\n",
    "    ).select(pl.col(\"subject\"), pl.col(col_name))\n",
    "    df_name = f\"binary-{col_name}.parquet\"\n",
    "    new_df.write_parquet(Path(dest_path, df_name))"
   ]
  },
  {
   "cell_type": "markdown",
   "metadata": {},
   "source": [
    "# Full tables"
   ]
  },
  {
   "cell_type": "markdown",
   "metadata": {},
   "source": []
  },
  {
   "cell_type": "code",
   "execution_count": 7,
   "metadata": {},
   "outputs": [],
   "source": [
    "subjects_with_wordnet = (\n",
    "    df_types.filter(pl.col(\"cat_object\").str.starts_with(\"<wordnet_\"))\n",
    "    .select(pl.col(\"subject\"), pl.col(\"cat_object\"))\n",
    "    .rename({\"cat_object\": \"type\"})\n",
    ")\n",
    "n_groups = len(subjects_with_wordnet.unique(\"type\"))"
   ]
  },
  {
   "cell_type": "code",
   "execution_count": 8,
   "metadata": {},
   "outputs": [],
   "source": [
    "def clean_string(string_to_clean):\n",
    "    pattern = re.compile(r\"<{1}([a-zA-Z0-9_]+)>{1}\")\n",
    "    m = re.sub(pattern, \"\\\\1\", string_to_clean)\n",
    "    return m"
   ]
  },
  {
   "cell_type": "code",
   "execution_count": 9,
   "metadata": {},
   "outputs": [],
   "source": [
    "max_fields = 2\n",
    "dest_path = Path(\"data/yago3-dl/wordnet_full\")"
   ]
  },
  {
   "cell_type": "code",
   "execution_count": 200,
   "metadata": {},
   "outputs": [
    {
     "name": "stderr",
     "output_type": "stream",
     "text": [
      "100%|██████████| 1015/1015 [02:43<00:00,  6.20it/s]\n"
     ]
    }
   ],
   "source": [
    "for this_type, this_df in tqdm(subjects_with_wordnet.group_by(\"type\"), total=n_groups):\n",
    "    clean_type = clean_string(this_type)\n",
    "    joined_df = df_facts.join(this_df.select(pl.col(\"subject\", \"type\")), on=\"subject\")\n",
    "    if len(joined_df) == 0:\n",
    "        continue\n",
    "    base_df = joined_df.select(pl.col(\"subject\").unique()).lazy()\n",
    "    for idx, grp in joined_df.group_by(by=[\"predicate\"]):\n",
    "        this_predicate = clean_string(idx[0])\n",
    "        grp = (\n",
    "            grp.group_by(\"subject\")\n",
    "            .agg(pl.all())\n",
    "            .select(\n",
    "                pl.col(\"subject\"),\n",
    "                pl.col(\"cat_object\")\n",
    "                .list.head(max_fields)\n",
    "                .list.to_struct(\n",
    "                    fields=[f\"{this_predicate}_{_i}\" for _i in range(max_fields)]\n",
    "                )\n",
    "                .alias(this_predicate),\n",
    "            )\n",
    "            .unnest(this_predicate)\n",
    "        )\n",
    "        for col in grp.columns:\n",
    "            try:\n",
    "                grp = grp.with_columns(pl.col(col).cast(pl.Float64))\n",
    "            except pl.ComputeError:\n",
    "                pass\n",
    "        grp = grp.lazy()\n",
    "        base_df = base_df.join(grp, on=\"subject\", how=\"left\")\n",
    "    base_df = base_df.rename({\"subject\": clean_type})\n",
    "    df_name = f\"wordnet_full-{clean_type}.parquet\"\n",
    "    base_df.collect().write_parquet(Path(dest_path, df_name))"
   ]
  },
  {
   "cell_type": "code",
   "execution_count": 298,
   "metadata": {},
   "outputs": [
    {
     "data": {
      "text/html": [
       "<div><style>\n",
       ".dataframe > thead > tr > th,\n",
       ".dataframe > tbody > tr > td {\n",
       "  text-align: right;\n",
       "  white-space: pre-wrap;\n",
       "}\n",
       "</style>\n",
       "<small>shape: (4_607_313, 2)</small><table border=\"1\" class=\"dataframe\"><thead><tr><th>subject</th><th>count</th></tr><tr><td>str</td><td>u32</td></tr></thead><tbody><tr><td>&quot;&lt;NMS_Elisabeta&gt;&quot;</td><td>5</td></tr><tr><td>&quot;&lt;NMS_Amiral_Murgescu&gt;&quot;</td><td>5</td></tr><tr><td>&quot;&lt;Turtle_ship&gt;&quot;</td><td>5</td></tr><tr><td>&quot;&lt;Japanese_aircraft_carrier_Akagi&gt;&quot;</td><td>5</td></tr><tr><td>&quot;&lt;Panokseon&gt;&quot;</td><td>5</td></tr><tr><td>&quot;&lt;Russian_submarine_Nerpa_(K-152)&gt;&quot;</td><td>5</td></tr><tr><td>&quot;&lt;HMS_Cadiz_(D79)&gt;&quot;</td><td>5</td></tr><tr><td>&quot;&lt;NMS_Grivița&gt;&quot;</td><td>5</td></tr><tr><td>&quot;&lt;NMS_Vedenia&gt;&quot;</td><td>5</td></tr><tr><td>&quot;&lt;Sinking_of_MV_Nyerere&gt;&quot;</td><td>5</td></tr><tr><td>&quot;&lt;MV_SuperFerry_14&gt;&quot;</td><td>5</td></tr><tr><td>&quot;&lt;SM_UB-4&gt;&quot;</td><td>5</td></tr><tr><td>&hellip;</td><td>&hellip;</td></tr><tr><td>&quot;&lt;Shoshoni,_Wyoming&gt;&quot;</td><td>1</td></tr><tr><td>&quot;&lt;Red_Gulch/Alkali_National_Back_Country_Byway&gt;&quot;</td><td>1</td></tr><tr><td>&quot;&lt;fr/François_Gay_(maître_verrier)&gt;&quot;</td><td>1</td></tr><tr><td>&quot;&lt;1996–97_Australia_Tri-Nation_Series&gt;&quot;</td><td>1</td></tr><tr><td>&quot;&lt;Frankton_Junior-Senior_High_School&gt;&quot;</td><td>1</td></tr><tr><td>&quot;&lt;Bhojpuri_cinema&gt;&quot;</td><td>1</td></tr><tr><td>&quot;&lt;ZIP_FM&gt;&quot;</td><td>1</td></tr><tr><td>&quot;&lt;Lieutenant_general_(Bangladesh)&gt;&quot;</td><td>1</td></tr><tr><td>&quot;&lt;DSE_(gene)&gt;&quot;</td><td>1</td></tr><tr><td>&quot;&lt;Lincoln_National_Corporation&gt;&quot;</td><td>1</td></tr><tr><td>&quot;&lt;fr/Balatonfüred-Csopak&gt;&quot;</td><td>1</td></tr><tr><td>&quot;&lt;Derbyshire_(UK_Parliament_constituency)&gt;&quot;</td><td>1</td></tr></tbody></table></div>"
      ],
      "text/plain": [
       "shape: (4_607_313, 2)\n",
       "┌───────────────────────────────────────────┬───────┐\n",
       "│ subject                                   ┆ count │\n",
       "│ ---                                       ┆ ---   │\n",
       "│ str                                       ┆ u32   │\n",
       "╞═══════════════════════════════════════════╪═══════╡\n",
       "│ <NMS_Elisabeta>                           ┆ 5     │\n",
       "│ <NMS_Amiral_Murgescu>                     ┆ 5     │\n",
       "│ <Turtle_ship>                             ┆ 5     │\n",
       "│ <Japanese_aircraft_carrier_Akagi>         ┆ 5     │\n",
       "│ …                                         ┆ …     │\n",
       "│ <DSE_(gene)>                              ┆ 1     │\n",
       "│ <Lincoln_National_Corporation>            ┆ 1     │\n",
       "│ <fr/Balatonfüred-Csopak>                  ┆ 1     │\n",
       "│ <Derbyshire_(UK_Parliament_constituency)> ┆ 1     │\n",
       "└───────────────────────────────────────────┴───────┘"
      ]
     },
     "execution_count": 298,
     "metadata": {},
     "output_type": "execute_result"
    }
   ],
   "source": [
    "subjects_with_wordnet.group_by(\"subject\").agg(pl.count()).sort(\"count\", descending=True)"
   ]
  },
  {
   "cell_type": "markdown",
   "metadata": {},
   "source": [
    "## Build subtables"
   ]
  },
  {
   "cell_type": "code",
   "execution_count": 223,
   "metadata": {},
   "outputs": [],
   "source": [
    "base_path = Path(\"data/yadl/wordnet_full\")"
   ]
  },
  {
   "cell_type": "code",
   "execution_count": 259,
   "metadata": {},
   "outputs": [],
   "source": [
    "comb_size = 2\n",
    "min_occurrences = 100"
   ]
  },
  {
   "cell_type": "code",
   "execution_count": 292,
   "metadata": {},
   "outputs": [],
   "source": [
    "total_ = sum(1 for _ in base_path.glob(\"*.parquet\"))"
   ]
  },
  {
   "cell_type": "code",
   "execution_count": 294,
   "metadata": {},
   "outputs": [
    {
     "name": "stderr",
     "output_type": "stream",
     "text": [
      "100%|██████████| 1015/1015 [11:28<00:00,  1.47it/s] \n"
     ]
    }
   ],
   "source": [
    "for pth in tqdm(base_path.glob(\"*.parquet\"), total=total_):\n",
    "    table_name = pth.stem\n",
    "    new_dir = Path(base_path, table_name)\n",
    "    os.makedirs(new_dir, exist_ok=True)\n",
    "\n",
    "    tgt_table = pl.read_parquet(pth)\n",
    "    if len(tgt_table) == 0:\n",
    "        continue\n",
    "    target_columns = tgt_table.columns[1:]\n",
    "    coords_dict = {}\n",
    "\n",
    "    # Counting the number of non-null occurrences for each combination of size `comb_size`\n",
    "    for comb in combinations(target_columns, comb_size):\n",
    "        coords_dict[comb] = tgt_table.select(\n",
    "            pl.any_horizontal(pl.col(comb).is_not_null()).sum()\n",
    "        ).item()\n",
    "\n",
    "    # Removing from the dict combinations that don't have enough occurrences\n",
    "    filtered_dict = {k: v for k, v in coords_dict.items() if v > min_occurrences}\n",
    "\n",
    "    # Preparing a new dataframe from each surviving\n",
    "    for comb in filtered_dict:\n",
    "        selected_columns = tgt_table.columns[:1] + list(comb)\n",
    "        new_df = tgt_table.select(selected_columns).filter(\n",
    "            pl.any_horizontal(pl.col(comb).is_not_null())\n",
    "        )\n",
    "        fname = table_name + \"-\" + \"-\".join(selected_columns[1:]) + \".parquet\"\n",
    "        destination_path = Path(new_dir, fname)\n",
    "        new_df.write_parquet(destination_path)"
   ]
  },
  {
   "cell_type": "markdown",
   "metadata": {},
   "source": [
    "## Focus on US Counties"
   ]
  },
  {
   "cell_type": "code",
   "execution_count": null,
   "metadata": {},
   "outputs": [],
   "source": [
    "df_types.filter(pl.col(\"cat_object\").str.starts_with(\"<wordnet_\")).select(\n",
    "    pl.col(\"subject\"), pl.col(\"cat_object\")\n",
    ")"
   ]
  },
  {
   "cell_type": "code",
   "execution_count": 16,
   "metadata": {},
   "outputs": [
    {
     "data": {
      "text/html": [
       "<div><style>\n",
       ".dataframe > thead > tr > th,\n",
       ".dataframe > tbody > tr > td {\n",
       "  text-align: right;\n",
       "  white-space: pre-wrap;\n",
       "}\n",
       "</style>\n",
       "<small>shape: (4_596, 7)</small><table border=\"1\" class=\"dataframe\"><thead><tr><th>subject</th><th>predicate</th><th>cat_object</th><th>id</th><th>predicate_right</th><th>cat_object_right</th><th>num_object</th></tr><tr><td>str</td><td>str</td><td>str</td><td>str</td><td>str</td><td>str</td><td>f64</td></tr></thead><tbody><tr><td>&quot;&lt;Cooper_County,_Missouri&gt;&quot;</td><td>&quot;&lt;hasNumberOfPeople&gt;&quot;</td><td>&quot;16670.0&quot;</td><td>&quot;&lt;id_33BVL1atVr_KCM_RDiAOfRZhu&gt;&quot;</td><td>&quot;rdf:type&quot;</td><td>&quot;&lt;wordnet_county_108546183&gt;&quot;</td><td>null</td></tr><tr><td>&quot;&lt;Franklin_County,_Maine&gt;&quot;</td><td>&quot;&lt;hasNumberOfPeople&gt;&quot;</td><td>&quot;29456.0&quot;</td><td>&quot;&lt;id_SbYltDUWQ6_KCM_RDiAOfRZhu&gt;&quot;</td><td>&quot;rdf:type&quot;</td><td>&quot;&lt;wordnet_county_108546183&gt;&quot;</td><td>null</td></tr><tr><td>&quot;&lt;Scotts_Bluff_County,_Nebraska&gt;&quot;</td><td>&quot;&lt;hasNumberOfPeople&gt;&quot;</td><td>&quot;36970.0&quot;</td><td>&quot;&lt;id_b!oto0iRRh_KCM_RDiAOfRZhu&gt;&quot;</td><td>&quot;rdf:type&quot;</td><td>&quot;&lt;wordnet_county_108546183&gt;&quot;</td><td>null</td></tr><tr><td>&quot;&lt;York_County,_Virginia&gt;&quot;</td><td>&quot;&lt;hasNumberOfPeople&gt;&quot;</td><td>&quot;65464.0&quot;</td><td>&quot;&lt;id_TZj7GNgwsS_KCM_RDiAOfRZhu&gt;&quot;</td><td>&quot;rdf:type&quot;</td><td>&quot;&lt;wordnet_county_108546183&gt;&quot;</td><td>null</td></tr><tr><td>&quot;&lt;Lake_County,_Oregon&gt;&quot;</td><td>&quot;&lt;hasNumberOfPeople&gt;&quot;</td><td>&quot;7895.0&quot;</td><td>&quot;&lt;id_Kh2okdGjIT_KCM_RDiAOfRZhu&gt;&quot;</td><td>&quot;rdf:type&quot;</td><td>&quot;&lt;wordnet_county_108546183&gt;&quot;</td><td>null</td></tr><tr><td>&quot;&lt;Osage_County,_Kansas&gt;&quot;</td><td>&quot;&lt;hasNumberOfPeople&gt;&quot;</td><td>&quot;15766.0&quot;</td><td>&quot;&lt;id_DN6UQi10A9_KCM_RDiAOfRZhu&gt;&quot;</td><td>&quot;rdf:type&quot;</td><td>&quot;&lt;wordnet_county_108546183&gt;&quot;</td><td>null</td></tr><tr><td>&quot;&lt;Kusilvak_Census_Area,_Alaska&gt;&quot;</td><td>&quot;&lt;hasNumberOfPeople&gt;&quot;</td><td>&quot;7459.0&quot;</td><td>&quot;&lt;id_JE7Awgvj4r_KCM_RDiAOfRZhu&gt;&quot;</td><td>&quot;rdf:type&quot;</td><td>&quot;&lt;wordnet_county_108546183&gt;&quot;</td><td>null</td></tr><tr><td>&quot;&lt;Roger_Mills_County,_Oklahoma&gt;&quot;</td><td>&quot;&lt;hasNumberOfPeople&gt;&quot;</td><td>&quot;3647.0&quot;</td><td>&quot;&lt;id_tZVgoHYCRI_KCM_RDiAOfRZhu&gt;&quot;</td><td>&quot;rdf:type&quot;</td><td>&quot;&lt;wordnet_county_108546183&gt;&quot;</td><td>null</td></tr><tr><td>&quot;&lt;Rock_County,_Nebraska&gt;&quot;</td><td>&quot;&lt;hasNumberOfPeople&gt;&quot;</td><td>&quot;1526.0&quot;</td><td>&quot;&lt;id_?Uhzp9rAd2_KCM_RDiAOfRZhu&gt;&quot;</td><td>&quot;rdf:type&quot;</td><td>&quot;&lt;wordnet_county_108546183&gt;&quot;</td><td>null</td></tr><tr><td>&quot;&lt;Albany_County,_Wyoming&gt;&quot;</td><td>&quot;&lt;hasNumberOfPeople&gt;&quot;</td><td>&quot;36299.0&quot;</td><td>&quot;&lt;id_6rtttWHiis_KCM_RDiAOfRZhu&gt;&quot;</td><td>&quot;rdf:type&quot;</td><td>&quot;&lt;wordnet_county_108546183&gt;&quot;</td><td>null</td></tr><tr><td>&quot;&lt;Lamar_County,_Alabama&gt;&quot;</td><td>&quot;&lt;hasNumberOfPeople&gt;&quot;</td><td>&quot;13972.0&quot;</td><td>&quot;&lt;id_aP0vT!JnHK_KCM_RDiAOfRZhu&gt;&quot;</td><td>&quot;rdf:type&quot;</td><td>&quot;&lt;wordnet_county_108546183&gt;&quot;</td><td>null</td></tr><tr><td>&quot;&lt;Cedar_County,_Missouri&gt;&quot;</td><td>&quot;&lt;hasNumberOfPeople&gt;&quot;</td><td>&quot;14188.0&quot;</td><td>&quot;&lt;id_pcvP!RswzP_KCM_RDiAOfRZhu&gt;&quot;</td><td>&quot;rdf:type&quot;</td><td>&quot;&lt;wordnet_county_108546183&gt;&quot;</td><td>null</td></tr><tr><td>&hellip;</td><td>&hellip;</td><td>&hellip;</td><td>&hellip;</td><td>&hellip;</td><td>&hellip;</td><td>&hellip;</td></tr><tr><td>&quot;&lt;Appomattox_County,_Virginia&gt;&quot;</td><td>&quot;&lt;hasNumberOfPeople&gt;&quot;</td><td>&quot;14793.0&quot;</td><td>&quot;&lt;id_ETJx1YurZy_KCM_RDiAOfRZhu&gt;&quot;</td><td>&quot;rdf:type&quot;</td><td>&quot;&lt;wordnet_county_108546183&gt;&quot;</td><td>null</td></tr><tr><td>&quot;&lt;Hancock_County,_Georgia&gt;&quot;</td><td>&quot;&lt;hasNumberOfPeople&gt;&quot;</td><td>&quot;9463.0&quot;</td><td>&quot;&lt;id_vGXk3aWUY3_KCM_RDiAOfRZhu&gt;&quot;</td><td>&quot;rdf:type&quot;</td><td>&quot;&lt;wordnet_county_108546183&gt;&quot;</td><td>null</td></tr><tr><td>&quot;&lt;Blue_Earth_County,_Minnesota&gt;&quot;</td><td>&quot;&lt;hasNumberOfPeople&gt;&quot;</td><td>&quot;64013.0&quot;</td><td>&quot;&lt;id_vB3a0HeJt4_KCM_RDiAOfRZhu&gt;&quot;</td><td>&quot;rdf:type&quot;</td><td>&quot;&lt;wordnet_county_108546183&gt;&quot;</td><td>null</td></tr><tr><td>&quot;&lt;Traill_County,_North_Dakota&gt;&quot;</td><td>&quot;&lt;hasNumberOfPeople&gt;&quot;</td><td>&quot;7997.0&quot;</td><td>&quot;&lt;id_etmKzgjS9I_KCM_RDiAOfRZhu&gt;&quot;</td><td>&quot;rdf:type&quot;</td><td>&quot;&lt;wordnet_county_108546183&gt;&quot;</td><td>null</td></tr><tr><td>&quot;&lt;Wiltshire&gt;&quot;</td><td>&quot;&lt;hasNumberOfPeople&gt;&quot;</td><td>&quot;639500.0&quot;</td><td>&quot;&lt;id_hhiDjS4sYb_KCM_RDiAOfRZhu&gt;&quot;</td><td>&quot;rdf:type&quot;</td><td>&quot;&lt;wordnet_county_108546183&gt;&quot;</td><td>null</td></tr><tr><td>&quot;&lt;Franklin_County,_Alabama&gt;&quot;</td><td>&quot;&lt;hasNumberOfPeople&gt;&quot;</td><td>&quot;32113.0&quot;</td><td>&quot;&lt;id_R0xzJae8RZ_KCM_RDiAOfRZhu&gt;&quot;</td><td>&quot;rdf:type&quot;</td><td>&quot;&lt;wordnet_county_108546183&gt;&quot;</td><td>null</td></tr><tr><td>&quot;&lt;Fort_Bend_County,_Texas&gt;&quot;</td><td>&quot;&lt;hasNumberOfPeople&gt;&quot;</td><td>&quot;822779.0&quot;</td><td>&quot;&lt;id_MizBSOW?YG_KCM_RDiAOfRZhu&gt;&quot;</td><td>&quot;rdf:type&quot;</td><td>&quot;&lt;wordnet_county_108546183&gt;&quot;</td><td>null</td></tr><tr><td>&quot;&lt;Keya_Paha_County,_Nebraska&gt;&quot;</td><td>&quot;&lt;hasNumberOfPeople&gt;&quot;</td><td>&quot;824.0&quot;</td><td>&quot;&lt;id_DR57B!LUPB_KCM_RDiAOfRZhu&gt;&quot;</td><td>&quot;rdf:type&quot;</td><td>&quot;&lt;wordnet_county_108546183&gt;&quot;</td><td>null</td></tr><tr><td>&quot;&lt;Madison_County,_Alabama&gt;&quot;</td><td>&quot;&lt;hasNumberOfPeople&gt;&quot;</td><td>&quot;388153.0&quot;</td><td>&quot;&lt;id_59z2CJb82S_KCM_RDiAOfRZhu&gt;&quot;</td><td>&quot;rdf:type&quot;</td><td>&quot;&lt;wordnet_county_108546183&gt;&quot;</td><td>null</td></tr><tr><td>&quot;&lt;Fairfax_County,_Virginia&gt;&quot;</td><td>&quot;&lt;hasNumberOfPeople&gt;&quot;</td><td>&quot;1150309.0&quot;</td><td>&quot;&lt;id_gsKhlCM?xX_KCM_RDiAOfRZhu&gt;&quot;</td><td>&quot;rdf:type&quot;</td><td>&quot;&lt;wordnet_county_108546183&gt;&quot;</td><td>null</td></tr><tr><td>&quot;&lt;Haines_Borough,_Alaska&gt;&quot;</td><td>&quot;&lt;hasNumberOfPeople&gt;&quot;</td><td>&quot;2080.0&quot;</td><td>&quot;&lt;id_ZcgUfdafR8_KCM_RDiAOfRZhu&gt;&quot;</td><td>&quot;rdf:type&quot;</td><td>&quot;&lt;wordnet_county_108546183&gt;&quot;</td><td>null</td></tr><tr><td>&quot;&lt;Isle_of_Wight_County,_Virginia&gt;&quot;</td><td>&quot;&lt;hasNumberOfPeople&gt;&quot;</td><td>&quot;35270.0&quot;</td><td>&quot;&lt;id_WkpIz8okkH_KCM_RDiAOfRZhu&gt;&quot;</td><td>&quot;rdf:type&quot;</td><td>&quot;&lt;wordnet_county_108546183&gt;&quot;</td><td>null</td></tr></tbody></table></div>"
      ],
      "text/plain": [
       "shape: (4_596, 7)\n",
       "┌──────────────┬──────────────┬────────────┬──────────────┬─────────────┬─────────────┬────────────┐\n",
       "│ subject      ┆ predicate    ┆ cat_object ┆ id           ┆ predicate_r ┆ cat_object_ ┆ num_object │\n",
       "│ ---          ┆ ---          ┆ ---        ┆ ---          ┆ ight        ┆ right       ┆ ---        │\n",
       "│ str          ┆ str          ┆ str        ┆ str          ┆ ---         ┆ ---         ┆ f64        │\n",
       "│              ┆              ┆            ┆              ┆ str         ┆ str         ┆            │\n",
       "╞══════════════╪══════════════╪════════════╪══════════════╪═════════════╪═════════════╪════════════╡\n",
       "│ <Cooper_Coun ┆ <hasNumberOf ┆ 16670.0    ┆ <id_33BVL1at ┆ rdf:type    ┆ <wordnet_co ┆ null       │\n",
       "│ ty,_Missouri ┆ People>      ┆            ┆ Vr_KCM_RDiAO ┆             ┆ unty_108546 ┆            │\n",
       "│ >            ┆              ┆            ┆ fRZhu>       ┆             ┆ 183>        ┆            │\n",
       "│ <Franklin_Co ┆ <hasNumberOf ┆ 29456.0    ┆ <id_SbYltDUW ┆ rdf:type    ┆ <wordnet_co ┆ null       │\n",
       "│ unty,_Maine> ┆ People>      ┆            ┆ Q6_KCM_RDiAO ┆             ┆ unty_108546 ┆            │\n",
       "│              ┆              ┆            ┆ fRZhu>       ┆             ┆ 183>        ┆            │\n",
       "│ <Scotts_Bluf ┆ <hasNumberOf ┆ 36970.0    ┆ <id_b!oto0iR ┆ rdf:type    ┆ <wordnet_co ┆ null       │\n",
       "│ f_County,_Ne ┆ People>      ┆            ┆ Rh_KCM_RDiAO ┆             ┆ unty_108546 ┆            │\n",
       "│ braska>      ┆              ┆            ┆ fRZhu>       ┆             ┆ 183>        ┆            │\n",
       "│ <York_County ┆ <hasNumberOf ┆ 65464.0    ┆ <id_TZj7GNgw ┆ rdf:type    ┆ <wordnet_co ┆ null       │\n",
       "│ ,_Virginia>  ┆ People>      ┆            ┆ sS_KCM_RDiAO ┆             ┆ unty_108546 ┆            │\n",
       "│              ┆              ┆            ┆ fRZhu>       ┆             ┆ 183>        ┆            │\n",
       "│ …            ┆ …            ┆ …          ┆ …            ┆ …           ┆ …           ┆ …          │\n",
       "│ <Madison_Cou ┆ <hasNumberOf ┆ 388153.0   ┆ <id_59z2CJb8 ┆ rdf:type    ┆ <wordnet_co ┆ null       │\n",
       "│ nty,_Alabama ┆ People>      ┆            ┆ 2S_KCM_RDiAO ┆             ┆ unty_108546 ┆            │\n",
       "│ >            ┆              ┆            ┆ fRZhu>       ┆             ┆ 183>        ┆            │\n",
       "│ <Fairfax_Cou ┆ <hasNumberOf ┆ 1150309.0  ┆ <id_gsKhlCM? ┆ rdf:type    ┆ <wordnet_co ┆ null       │\n",
       "│ nty,_Virgini ┆ People>      ┆            ┆ xX_KCM_RDiAO ┆             ┆ unty_108546 ┆            │\n",
       "│ a>           ┆              ┆            ┆ fRZhu>       ┆             ┆ 183>        ┆            │\n",
       "│ <Haines_Boro ┆ <hasNumberOf ┆ 2080.0     ┆ <id_ZcgUfdaf ┆ rdf:type    ┆ <wordnet_co ┆ null       │\n",
       "│ ugh,_Alaska> ┆ People>      ┆            ┆ R8_KCM_RDiAO ┆             ┆ unty_108546 ┆            │\n",
       "│              ┆              ┆            ┆ fRZhu>       ┆             ┆ 183>        ┆            │\n",
       "│ <Isle_of_Wig ┆ <hasNumberOf ┆ 35270.0    ┆ <id_WkpIz8ok ┆ rdf:type    ┆ <wordnet_co ┆ null       │\n",
       "│ ht_County,_V ┆ People>      ┆            ┆ kH_KCM_RDiAO ┆             ┆ unty_108546 ┆            │\n",
       "│ irginia>     ┆              ┆            ┆ fRZhu>       ┆             ┆ 183>        ┆            │\n",
       "└──────────────┴──────────────┴────────────┴──────────────┴─────────────┴─────────────┴────────────┘"
      ]
     },
     "execution_count": 16,
     "metadata": {},
     "output_type": "execute_result"
    }
   ],
   "source": [
    "df_facts.lazy().join(\n",
    "    df_types.lazy().filter(\n",
    "        pl.col(\"cat_object\").str.to_lowercase().str.contains(\"wordnet_county_108546183\")\n",
    "    ),\n",
    "    on=\"subject\",\n",
    ").filter(pl.col(\"predicate\") == \"<hasNumberOfPeople>\").collect()"
   ]
  },
  {
   "cell_type": "code",
   "execution_count": 17,
   "metadata": {},
   "outputs": [],
   "source": [
    "df_elections = pl.read_parquet(\"data/us_elections-depleted-yadl.parquet\")"
   ]
  },
  {
   "cell_type": "code",
   "execution_count": 23,
   "metadata": {},
   "outputs": [
    {
     "data": {
      "text/html": [
       "<div><style>\n",
       ".dataframe > thead > tr > th,\n",
       ".dataframe > tbody > tr > td {\n",
       "  text-align: right;\n",
       "  white-space: pre-wrap;\n",
       "}\n",
       "</style>\n",
       "<small>shape: (3_153, 3)</small><table border=\"1\" class=\"dataframe\"><thead><tr><th>target</th><th>party</th><th>col_to_embed</th></tr><tr><td>f64</td><td>str</td><td>str</td></tr></thead><tbody><tr><td>2.641474</td><td>&quot;DEMOCRAT&quot;</td><td>&quot;&lt;Adams_County,_Iowa&gt;&quot;</td></tr><tr><td>4.161578</td><td>&quot;DEMOCRAT&quot;</td><td>&quot;&lt;Grayson_County,_Texas&gt;&quot;</td></tr><tr><td>4.122805</td><td>&quot;DEMOCRAT&quot;</td><td>&quot;&lt;Frederick_County,_Maryland&gt;&quot;</td></tr><tr><td>2.190332</td><td>&quot;DEMOCRAT&quot;</td><td>&quot;&lt;Hodgeman_County,_Kansas&gt;&quot;</td></tr><tr><td>4.148387</td><td>&quot;DEMOCRAT&quot;</td><td>&quot;&lt;Isabella_County,_Michigan&gt;&quot;</td></tr><tr><td>3.009876</td><td>&quot;DEMOCRAT&quot;</td><td>&quot;&lt;Calhoun_County,_Iowa&gt;&quot;</td></tr><tr><td>4.07214</td><td>&quot;DEMOCRAT&quot;</td><td>&quot;&lt;Goodhue_County,_Minnesota&gt;&quot;</td></tr><tr><td>3.510545</td><td>&quot;DEMOCRAT&quot;</td><td>&quot;&lt;Marquette_County,_Wisconsin&gt;&quot;</td></tr><tr><td>2.666518</td><td>&quot;DEMOCRAT&quot;</td><td>&quot;&lt;Norton,_Virginia&gt;&quot;</td></tr><tr><td>4.741301</td><td>&quot;DEMOCRAT&quot;</td><td>&quot;&lt;Oklahoma_County,_Oklahoma&gt;&quot;</td></tr><tr><td>4.246228</td><td>&quot;DEMOCRAT&quot;</td><td>&quot;&lt;San_Benito_County,_California&gt;&quot;</td></tr><tr><td>3.165838</td><td>&quot;DEMOCRAT&quot;</td><td>&quot;&lt;Tift_County,_Georgia&gt;&quot;</td></tr><tr><td>&hellip;</td><td>&hellip;</td><td>&hellip;</td></tr><tr><td>3.408749</td><td>&quot;DEMOCRAT&quot;</td><td>&quot;&lt;Deer_Lodge_County,_Montana&gt;&quot;</td></tr><tr><td>5.290113</td><td>&quot;DEMOCRAT&quot;</td><td>&quot;&lt;New_Castle_County,_Delaware&gt;&quot;</td></tr><tr><td>2.30103</td><td>&quot;DEMOCRAT&quot;</td><td>&quot;&lt;Woodward_County,_Oklahoma&gt;&quot;</td></tr><tr><td>2.152288</td><td>&quot;DEMOCRAT&quot;</td><td>&quot;&lt;Deuel_County,_Nebraska&gt;&quot;</td></tr><tr><td>2.990783</td><td>&quot;DEMOCRAT&quot;</td><td>&quot;&lt;Lamar_County,_Alabama&gt;&quot;</td></tr><tr><td>2.650308</td><td>&quot;DEMOCRAT&quot;</td><td>&quot;&lt;Leslie_County,_Kentucky&gt;&quot;</td></tr><tr><td>5.032058</td><td>&quot;DEMOCRAT&quot;</td><td>&quot;&lt;Kansas_City,_Missouri&gt;&quot;</td></tr><tr><td>2.725095</td><td>&quot;DEMOCRAT&quot;</td><td>&quot;&lt;Polk_County,_Nebraska&gt;&quot;</td></tr><tr><td>3.655619</td><td>&quot;DEMOCRAT&quot;</td><td>&quot;&lt;Gladwin_County,_Michigan&gt;&quot;</td></tr><tr><td>3.603577</td><td>&quot;DEMOCRAT&quot;</td><td>&quot;&lt;Mono_County,_California&gt;&quot;</td></tr><tr><td>3.074816</td><td>&quot;DEMOCRAT&quot;</td><td>&quot;&lt;Henderson_County,_Illinois&gt;&quot;</td></tr><tr><td>3.605413</td><td>&quot;DEMOCRAT&quot;</td><td>&quot;&lt;Mercer_County,_Ohio&gt;&quot;</td></tr></tbody></table></div>"
      ],
      "text/plain": [
       "shape: (3_153, 3)\n",
       "┌──────────┬──────────┬──────────────────────────────┐\n",
       "│ target   ┆ party    ┆ col_to_embed                 │\n",
       "│ ---      ┆ ---      ┆ ---                          │\n",
       "│ f64      ┆ str      ┆ str                          │\n",
       "╞══════════╪══════════╪══════════════════════════════╡\n",
       "│ 2.641474 ┆ DEMOCRAT ┆ <Adams_County,_Iowa>         │\n",
       "│ 4.161578 ┆ DEMOCRAT ┆ <Grayson_County,_Texas>      │\n",
       "│ 4.122805 ┆ DEMOCRAT ┆ <Frederick_County,_Maryland> │\n",
       "│ 2.190332 ┆ DEMOCRAT ┆ <Hodgeman_County,_Kansas>    │\n",
       "│ …        ┆ …        ┆ …                            │\n",
       "│ 3.655619 ┆ DEMOCRAT ┆ <Gladwin_County,_Michigan>   │\n",
       "│ 3.603577 ┆ DEMOCRAT ┆ <Mono_County,_California>    │\n",
       "│ 3.074816 ┆ DEMOCRAT ┆ <Henderson_County,_Illinois> │\n",
       "│ 3.605413 ┆ DEMOCRAT ┆ <Mercer_County,_Ohio>        │\n",
       "└──────────┴──────────┴──────────────────────────────┘"
      ]
     },
     "execution_count": 23,
     "metadata": {},
     "output_type": "execute_result"
    }
   ],
   "source": [
    "df_elections.unique(\"col_to_embed\")"
   ]
  },
  {
   "cell_type": "code",
   "execution_count": 24,
   "metadata": {},
   "outputs": [],
   "source": [
    "df_population = (\n",
    "    df_facts.lazy()\n",
    "    .join(df_elections.lazy(), left_on=\"subject\", right_on=\"col_to_embed\")\n",
    "    .filter(pl.col(\"predicate\") == \"<hasNumberOfPeople>\")\n",
    "    .drop(\"target\", \"party\")\n",
    "    .with_columns(pl.col(\"cat_object\").cast(float).alias(\"target\"))\n",
    "    .drop(\"cat_objeect\")\n",
    "    .unique()\n",
    "    .collect()\n",
    ")"
   ]
  },
  {
   "cell_type": "code",
   "execution_count": 28,
   "metadata": {},
   "outputs": [
    {
     "data": {
      "text/html": [
       "<div><style>\n",
       ".dataframe > thead > tr > th,\n",
       ".dataframe > tbody > tr > td {\n",
       "  text-align: right;\n",
       "  white-space: pre-wrap;\n",
       "}\n",
       "</style>\n",
       "<small>shape: (3_053, 5)</small><table border=\"1\" class=\"dataframe\"><thead><tr><th>subject</th><th>predicate</th><th>cat_object</th><th>target</th><th>count</th></tr><tr><td>str</td><td>str</td><td>str</td><td>f64</td><td>u32</td></tr></thead><tbody><tr><td>&quot;&lt;Acadia_Parish,_Louisiana&gt;&quot;</td><td>&quot;&lt;hasNumberOfPeople&gt;&quot;</td><td>&quot;61773.0&quot;</td><td>61773.0</td><td>2</td></tr><tr><td>&quot;&lt;Acadia_Parish,_Louisiana&gt;&quot;</td><td>&quot;&lt;hasNumberOfPeople&gt;&quot;</td><td>&quot;57576.0&quot;</td><td>57576.0</td><td>2</td></tr><tr><td>&quot;&lt;Accomack_County,_Virginia&gt;&quot;</td><td>&quot;&lt;hasNumberOfPeople&gt;&quot;</td><td>&quot;33413.0&quot;</td><td>33413.0</td><td>2</td></tr><tr><td>&quot;&lt;Accomack_County,_Virginia&gt;&quot;</td><td>&quot;&lt;hasNumberOfPeople&gt;&quot;</td><td>&quot;33164.0&quot;</td><td>33164.0</td><td>2</td></tr><tr><td>&quot;&lt;Adair_County,_Iowa&gt;&quot;</td><td>&quot;&lt;hasNumberOfPeople&gt;&quot;</td><td>&quot;7496.0&quot;</td><td>7496.0</td><td>2</td></tr><tr><td>&quot;&lt;Adair_County,_Iowa&gt;&quot;</td><td>&quot;&lt;hasNumberOfPeople&gt;&quot;</td><td>&quot;76822.0&quot;</td><td>76822.0</td><td>2</td></tr><tr><td>&quot;&lt;Adair_County,_Missouri&gt;&quot;</td><td>&quot;&lt;hasNumberOfPeople&gt;&quot;</td><td>&quot;24977.0&quot;</td><td>24977.0</td><td>2</td></tr><tr><td>&quot;&lt;Adair_County,_Missouri&gt;&quot;</td><td>&quot;&lt;hasNumberOfPeople&gt;&quot;</td><td>&quot;25314.0&quot;</td><td>25314.0</td><td>2</td></tr><tr><td>&quot;&lt;Adair_County,_Oklahoma&gt;&quot;</td><td>&quot;&lt;hasNumberOfPeople&gt;&quot;</td><td>&quot;19495.0&quot;</td><td>19495.0</td><td>2</td></tr><tr><td>&quot;&lt;Adair_County,_Oklahoma&gt;&quot;</td><td>&quot;&lt;hasNumberOfPeople&gt;&quot;</td><td>&quot;22286.0&quot;</td><td>22286.0</td><td>2</td></tr><tr><td>&quot;&lt;Adams_County,_Idaho&gt;&quot;</td><td>&quot;&lt;hasNumberOfPeople&gt;&quot;</td><td>&quot;4379.0&quot;</td><td>4379.0</td><td>2</td></tr><tr><td>&quot;&lt;Adams_County,_Idaho&gt;&quot;</td><td>&quot;&lt;hasNumberOfPeople&gt;&quot;</td><td>&quot;3476.0&quot;</td><td>3476.0</td><td>2</td></tr><tr><td>&hellip;</td><td>&hellip;</td><td>&hellip;</td><td>&hellip;</td><td>&hellip;</td></tr><tr><td>&quot;&lt;York_County,_Maine&gt;&quot;</td><td>&quot;&lt;hasNumberOfPeople&gt;&quot;</td><td>&quot;211972.0&quot;</td><td>211972.0</td><td>2</td></tr><tr><td>&quot;&lt;York_County,_Maine&gt;&quot;</td><td>&quot;&lt;hasNumberOfPeople&gt;&quot;</td><td>&quot;197131.0&quot;</td><td>197131.0</td><td>2</td></tr><tr><td>&quot;&lt;York_County,_Virginia&gt;&quot;</td><td>&quot;&lt;hasNumberOfPeople&gt;&quot;</td><td>&quot;70045.0&quot;</td><td>70045.0</td><td>2</td></tr><tr><td>&quot;&lt;York_County,_Virginia&gt;&quot;</td><td>&quot;&lt;hasNumberOfPeople&gt;&quot;</td><td>&quot;65464.0&quot;</td><td>65464.0</td><td>2</td></tr><tr><td>&quot;&lt;Young_County,_Texas&gt;&quot;</td><td>&quot;&lt;hasNumberOfPeople&gt;&quot;</td><td>&quot;17867.0&quot;</td><td>17867.0</td><td>2</td></tr><tr><td>&quot;&lt;Young_County,_Texas&gt;&quot;</td><td>&quot;&lt;hasNumberOfPeople&gt;&quot;</td><td>&quot;18550.0&quot;</td><td>18550.0</td><td>2</td></tr><tr><td>&quot;&lt;Yuba_County,_California&gt;&quot;</td><td>&quot;&lt;hasNumberOfPeople&gt;&quot;</td><td>&quot;72155.0&quot;</td><td>72155.0</td><td>2</td></tr><tr><td>&quot;&lt;Yuba_County,_California&gt;&quot;</td><td>&quot;&lt;hasNumberOfPeople&gt;&quot;</td><td>&quot;81575.0&quot;</td><td>81575.0</td><td>2</td></tr><tr><td>&quot;&lt;Zapata_County,_Texas&gt;&quot;</td><td>&quot;&lt;hasNumberOfPeople&gt;&quot;</td><td>&quot;13889.0&quot;</td><td>13889.0</td><td>2</td></tr><tr><td>&quot;&lt;Zapata_County,_Texas&gt;&quot;</td><td>&quot;&lt;hasNumberOfPeople&gt;&quot;</td><td>&quot;14018.0&quot;</td><td>14018.0</td><td>2</td></tr><tr><td>&quot;&lt;Ziebach_County,_South_Dakota&gt;&quot;</td><td>&quot;&lt;hasNumberOfPeople&gt;&quot;</td><td>&quot;2413.0&quot;</td><td>2413.0</td><td>2</td></tr><tr><td>&quot;&lt;Ziebach_County,_South_Dakota&gt;&quot;</td><td>&quot;&lt;hasNumberOfPeople&gt;&quot;</td><td>&quot;2801.0&quot;</td><td>2801.0</td><td>2</td></tr></tbody></table></div>"
      ],
      "text/plain": [
       "shape: (3_053, 5)\n",
       "┌────────────────────────────────┬─────────────────────┬────────────┬─────────┬───────┐\n",
       "│ subject                        ┆ predicate           ┆ cat_object ┆ target  ┆ count │\n",
       "│ ---                            ┆ ---                 ┆ ---        ┆ ---     ┆ ---   │\n",
       "│ str                            ┆ str                 ┆ str        ┆ f64     ┆ u32   │\n",
       "╞════════════════════════════════╪═════════════════════╪════════════╪═════════╪═══════╡\n",
       "│ <Acadia_Parish,_Louisiana>     ┆ <hasNumberOfPeople> ┆ 61773.0    ┆ 61773.0 ┆ 2     │\n",
       "│ <Acadia_Parish,_Louisiana>     ┆ <hasNumberOfPeople> ┆ 57576.0    ┆ 57576.0 ┆ 2     │\n",
       "│ <Accomack_County,_Virginia>    ┆ <hasNumberOfPeople> ┆ 33413.0    ┆ 33413.0 ┆ 2     │\n",
       "│ <Accomack_County,_Virginia>    ┆ <hasNumberOfPeople> ┆ 33164.0    ┆ 33164.0 ┆ 2     │\n",
       "│ …                              ┆ …                   ┆ …          ┆ …       ┆ …     │\n",
       "│ <Zapata_County,_Texas>         ┆ <hasNumberOfPeople> ┆ 13889.0    ┆ 13889.0 ┆ 2     │\n",
       "│ <Zapata_County,_Texas>         ┆ <hasNumberOfPeople> ┆ 14018.0    ┆ 14018.0 ┆ 2     │\n",
       "│ <Ziebach_County,_South_Dakota> ┆ <hasNumberOfPeople> ┆ 2413.0     ┆ 2413.0  ┆ 2     │\n",
       "│ <Ziebach_County,_South_Dakota> ┆ <hasNumberOfPeople> ┆ 2801.0     ┆ 2801.0  ┆ 2     │\n",
       "└────────────────────────────────┴─────────────────────┴────────────┴─────────┴───────┘"
      ]
     },
     "execution_count": 28,
     "metadata": {},
     "output_type": "execute_result"
    }
   ],
   "source": [
    "df_population.join(\n",
    "    df_population.group_by(\"subject\").agg(pl.count()).filter(pl.col(\"count\") > 1),\n",
    "    on=\"subject\",\n",
    ").sort(\"subject\")"
   ]
  },
  {
   "cell_type": "code",
   "execution_count": 47,
   "metadata": {},
   "outputs": [],
   "source": [
    "df_1 = (\n",
    "    df_population.sort([\"subject\", \"target\"], descending=True)\n",
    "    .unique([\"subject\"], keep=\"first\")\n",
    "    .drop(\"cat_object\", \"predicate\")\n",
    "    .rename({\"subject\": \"col_to_embed\"}).with_columns(pl.col(\"target\").log10())\n",
    ")"
   ]
  },
  {
   "cell_type": "code",
   "execution_count": 48,
   "metadata": {},
   "outputs": [
    {
     "data": {
      "text/html": [
       "<div><style>\n",
       ".dataframe > thead > tr > th,\n",
       ".dataframe > tbody > tr > td {\n",
       "  text-align: right;\n",
       "  white-space: pre-wrap;\n",
       "}\n",
       "</style>\n",
       "<small>shape: (3_059, 2)</small><table border=\"1\" class=\"dataframe\"><thead><tr><th>col_to_embed</th><th>target</th></tr><tr><td>str</td><td>f64</td></tr></thead><tbody><tr><td>&quot;&lt;Grayson_County,_Virginia&gt;&quot;</td><td>4.191255</td></tr><tr><td>&quot;&lt;Montgomery_County,_Kentucky&gt;&quot;</td><td>4.423229</td></tr><tr><td>&quot;&lt;Smith_County,_Tennessee&gt;&quot;</td><td>4.248268</td></tr><tr><td>&quot;&lt;Henderson_County,_Illinois&gt;&quot;</td><td>3.914502</td></tr><tr><td>&quot;&lt;Victoria_County,_Texas&gt;&quot;</td><td>4.938485</td></tr><tr><td>&quot;&lt;Eaton_County,_Michigan&gt;&quot;</td><td>5.01559</td></tr><tr><td>&quot;&lt;Drew_County,_Arkansas&gt;&quot;</td><td>4.267383</td></tr><tr><td>&quot;&lt;Richland_Parish,_Louisiana&gt;&quot;</td><td>4.321826</td></tr><tr><td>&quot;&lt;Stone_County,_Mississippi&gt;&quot;</td><td>4.250078</td></tr><tr><td>&quot;&lt;Bayfield_County,_Wisconsin&gt;&quot;</td><td>4.210051</td></tr><tr><td>&quot;&lt;Pearl_River_County,_Mississippi&gt;&quot;</td><td>4.746899</td></tr><tr><td>&quot;&lt;Greene_County,_Virginia&gt;&quot;</td><td>4.312854</td></tr><tr><td>&hellip;</td><td>&hellip;</td></tr><tr><td>&quot;&lt;Cottle_County,_Texas&gt;&quot;</td><td>3.177536</td></tr><tr><td>&quot;&lt;McCracken_County,_Kentucky&gt;&quot;</td><td>4.83171</td></tr><tr><td>&quot;&lt;San_Patricio_County,_Texas&gt;&quot;</td><td>4.811602</td></tr><tr><td>&quot;&lt;Tama_County,_Iowa&gt;&quot;</td><td>4.247384</td></tr><tr><td>&quot;&lt;Cherry_County,_Nebraska&gt;&quot;</td><td>3.756864</td></tr><tr><td>&quot;&lt;Stevens_County,_Minnesota&gt;&quot;</td><td>4.002296</td></tr><tr><td>&quot;&lt;DeWitt_County,_Illinois&gt;&quot;</td><td>4.225258</td></tr><tr><td>&quot;&lt;Daggett_County,_Utah&gt;&quot;</td><td>2.970812</td></tr><tr><td>&quot;&lt;Juab_County,_Utah&gt;&quot;</td><td>4.071366</td></tr><tr><td>&quot;&lt;Galveston_County,_Texas&gt;&quot;</td><td>5.464354</td></tr><tr><td>&quot;&lt;Pontotoc_County,_Mississippi&gt;&quot;</td><td>4.476498</td></tr><tr><td>&quot;&lt;Stonewall_County,_Texas&gt;&quot;</td><td>3.173186</td></tr></tbody></table></div>"
      ],
      "text/plain": [
       "shape: (3_059, 2)\n",
       "┌────────────────────────────────┬──────────┐\n",
       "│ col_to_embed                   ┆ target   │\n",
       "│ ---                            ┆ ---      │\n",
       "│ str                            ┆ f64      │\n",
       "╞════════════════════════════════╪══════════╡\n",
       "│ <Grayson_County,_Virginia>     ┆ 4.191255 │\n",
       "│ <Montgomery_County,_Kentucky>  ┆ 4.423229 │\n",
       "│ <Smith_County,_Tennessee>      ┆ 4.248268 │\n",
       "│ <Henderson_County,_Illinois>   ┆ 3.914502 │\n",
       "│ …                              ┆ …        │\n",
       "│ <Juab_County,_Utah>            ┆ 4.071366 │\n",
       "│ <Galveston_County,_Texas>      ┆ 5.464354 │\n",
       "│ <Pontotoc_County,_Mississippi> ┆ 4.476498 │\n",
       "│ <Stonewall_County,_Texas>      ┆ 3.173186 │\n",
       "└────────────────────────────────┴──────────┘"
      ]
     },
     "execution_count": 48,
     "metadata": {},
     "output_type": "execute_result"
    }
   ],
   "source": [
    "df_1"
   ]
  },
  {
   "cell_type": "code",
   "execution_count": 45,
   "metadata": {},
   "outputs": [],
   "source": [
    "df_1.write_parquet(\"us_county_population-depleted-yadl.parquet\")"
   ]
  },
  {
   "cell_type": "code",
   "execution_count": null,
   "metadata": {},
   "outputs": [],
   "source": []
  }
 ],
 "metadata": {
  "kernelspec": {
   "display_name": "bench-repro",
   "language": "python",
   "name": "python3"
  },
  "language_info": {
   "codemirror_mode": {
    "name": "ipython",
    "version": 3
   },
   "file_extension": ".py",
   "mimetype": "text/x-python",
   "name": "python",
   "nbconvert_exporter": "python",
   "pygments_lexer": "ipython3",
   "version": "3.10.0"
  },
  "orig_nbformat": 4
 },
 "nbformat": 4,
 "nbformat_minor": 2
}
