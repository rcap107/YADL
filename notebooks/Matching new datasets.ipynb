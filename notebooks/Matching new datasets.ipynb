{
 "cells": [
  {
   "cell_type": "code",
   "execution_count": 1,
   "metadata": {},
   "outputs": [
    {
     "name": "stdout",
     "output_type": "stream",
     "text": [
      "/home/soda/rcappuzz/work/prepare-data-lakes\n"
     ]
    }
   ],
   "source": [
    "%cd .."
   ]
  },
  {
   "cell_type": "code",
   "execution_count": 2,
   "metadata": {},
   "outputs": [],
   "source": [
    "import polars as pl\n",
    "import pandas as pd\n",
    "from pathlib import Path\n",
    "import src.yago.utils as utils\n",
    "import numpy as np\n",
    "import datetime"
   ]
  },
  {
   "cell_type": "code",
   "execution_count": 3,
   "metadata": {},
   "outputs": [
    {
     "data": {
      "text/plain": [
       "polars.config.Config"
      ]
     },
     "execution_count": 3,
     "metadata": {},
     "output_type": "execute_result"
    }
   ],
   "source": [
    "cfg = pl.Config()\n",
    "cfg.set_fmt_str_lengths(30)"
   ]
  },
  {
   "cell_type": "code",
   "execution_count": 4,
   "metadata": {},
   "outputs": [],
   "source": [
    "yago_path = Path(\"/storage/store3/work/jstojano/yago3/\")\n",
    "facts1_path = Path(yago_path, \"facts_parquet/yago_updated_2022_part1\")\n",
    "facts2_path = Path(yago_path, \"facts_parquet/yago_updated_2022_part2\")\n",
    "fname = \"yagoTypes\"\n",
    "yagotypes_path = Path(facts1_path, f\"{fname}.tsv.parquet\")\n",
    "df_types = utils.import_from_yago(yagotypes_path)\n",
    "fname = \"yagoFacts\"\n",
    "yagofacts_path = Path(facts2_path, f\"{fname}.tsv.parquet\")\n",
    "yagofacts = utils.import_from_yago(yagofacts_path)\n",
    "fname = \"yagoLiteralFacts\"\n",
    "yagoliteralfacts_path = Path(facts2_path, f\"{fname}.tsv.parquet\")\n",
    "yagoliteralfacts = utils.import_from_yago(yagoliteralfacts_path)\n",
    "fname = \"yagoDateFacts\"\n",
    "yagodatefacts_path = Path(facts2_path, f\"{fname}.tsv.parquet\")\n",
    "yagodatefacts = utils.import_from_yago(yagodatefacts_path)\n",
    "yagofacts = yagofacts.drop(\"num_object\")\n",
    "yagodatefacts = (\n",
    "    yagodatefacts.with_columns(\n",
    "        pl.col(\"cat_object\")\n",
    "        .str.split(\"^^\")\n",
    "        .list.first()\n",
    "        .str.to_datetime(strict=False)\n",
    "        .dt.date()\n",
    "        .cast(pl.Utf8)\n",
    "        .alias(\"cat_object\")\n",
    "    )\n",
    "    .drop_nulls(\"cat_object\")\n",
    "    .drop(\"num_object\")\n",
    ")\n",
    "yagoliteralfacts = yagoliteralfacts.with_columns(\n",
    "    pl.when(pl.col(\"num_object\").is_not_null())\n",
    "    .then(pl.col(\"num_object\"))\n",
    "    .otherwise(pl.col(\"cat_object\"))\n",
    "    .alias(\"cat_object\")\n",
    ").drop(\"num_object\")\n",
    "df_facts = pl.concat([yagofacts, yagoliteralfacts, yagodatefacts]).drop(\"id\")"
   ]
  },
  {
   "cell_type": "code",
   "execution_count": 5,
   "metadata": {},
   "outputs": [
    {
     "data": {
      "text/html": [
       "<div><style>\n",
       ".dataframe > thead > tr,\n",
       ".dataframe > tbody > tr {\n",
       "  text-align: right;\n",
       "  white-space: pre-wrap;\n",
       "}\n",
       "</style>\n",
       "<small>shape: (20_099_403, 3)</small><table border=\"1\" class=\"dataframe\"><thead><tr><th>subject</th><th>predicate</th><th>cat_object</th></tr><tr><td>str</td><td>str</td><td>str</td></tr></thead><tbody><tr><td>&quot;&lt;Elizabeth_II&gt;&quot;</td><td>&quot;&lt;isLeaderOf&gt;&quot;</td><td>&quot;&lt;Royal_Numismatic_Society&gt;&quot;</td></tr><tr><td>&quot;&lt;Andrew_Harvey_(politician)&gt;&quot;</td><td>&quot;&lt;isLeaderOf&gt;&quot;</td><td>&quot;&lt;New_Denmark,_New_Brunswick&gt;&quot;</td></tr><tr><td>&quot;&lt;Andranik&gt;&quot;</td><td>&quot;&lt;isLeaderOf&gt;&quot;</td><td>&quot;&lt;Armenian_fedayi&gt;&quot;</td></tr><tr><td>&quot;&lt;Yakubu_Oseni&gt;&quot;</td><td>&quot;&lt;isLeaderOf&gt;&quot;</td><td>&quot;&lt;Kogi_State&gt;&quot;</td></tr><tr><td>&quot;&lt;Wan_Saiful_Wan_Jan&gt;&quot;</td><td>&quot;&lt;isLeaderOf&gt;&quot;</td><td>&quot;&lt;Perbadanan_Tabung_Pendidikan…</td></tr><tr><td>&quot;&lt;Kurt_Diebner&gt;&quot;</td><td>&quot;&lt;isLeaderOf&gt;&quot;</td><td>&quot;&lt;German_nuclear_weapons_progr…</td></tr><tr><td>&quot;&lt;Achyuta_Samanta&gt;&quot;</td><td>&quot;&lt;isLeaderOf&gt;&quot;</td><td>&quot;&lt;Kandhamal_district&gt;&quot;</td></tr><tr><td>&quot;&lt;Elisabetta_Belloni&gt;&quot;</td><td>&quot;&lt;isLeaderOf&gt;&quot;</td><td>&quot;&lt;Dipartimento_delle_Informazi…</td></tr><tr><td>&quot;&lt;Mike_Harris_Jr.&gt;&quot;</td><td>&quot;&lt;isLeaderOf&gt;&quot;</td><td>&quot;&lt;Wellesley,_Ontario&gt;&quot;</td></tr><tr><td>&quot;&lt;Jenny_Manson&gt;&quot;</td><td>&quot;&lt;isLeaderOf&gt;&quot;</td><td>&quot;&lt;Jewish_Voice_for_Labour&gt;&quot;</td></tr><tr><td>&quot;&lt;Seyni_Oumarou&gt;&quot;</td><td>&quot;&lt;isLeaderOf&gt;&quot;</td><td>&quot;&lt;Niger&gt;&quot;</td></tr><tr><td>&quot;&lt;Bertrand_Goulet&gt;&quot;</td><td>&quot;&lt;isLeaderOf&gt;&quot;</td><td>&quot;&lt;Conservative_Party_of_Quebec…</td></tr><tr><td>&hellip;</td><td>&hellip;</td><td>&hellip;</td></tr><tr><td>&quot;&lt;Thiruvanaikaval&gt;&quot;</td><td>&quot;&lt;wasCreatedOnDate&gt;&quot;</td><td>&quot;2003-02-17&quot;</td></tr><tr><td>&quot;&lt;Nice_&#x27;n&#x27;_Sleazy&gt;&quot;</td><td>&quot;&lt;wasCreatedOnDate&gt;&quot;</td><td>&quot;1978-04-26&quot;</td></tr><tr><td>&quot;&lt;Pop,_Lock_&amp;_Drop_It&gt;&quot;</td><td>&quot;&lt;wasCreatedOnDate&gt;&quot;</td><td>&quot;2006-09-19&quot;</td></tr><tr><td>&quot;&lt;The_Ship_from_Shanghai&gt;&quot;</td><td>&quot;&lt;wasCreatedOnDate&gt;&quot;</td><td>&quot;1930-01-31&quot;</td></tr><tr><td>&quot;&lt;Guitarists_4_the_Kids&gt;&quot;</td><td>&quot;&lt;wasCreatedOnDate&gt;&quot;</td><td>&quot;2006-09-11&quot;</td></tr><tr><td>&quot;&lt;Dreamscape_(video_game)&gt;&quot;</td><td>&quot;&lt;wasCreatedOnDate&gt;&quot;</td><td>&quot;2011-06-09&quot;</td></tr><tr><td>&quot;&lt;All_Else_Failed_(2003_album)…</td><td>&quot;&lt;wasCreatedOnDate&gt;&quot;</td><td>&quot;2003-02-19&quot;</td></tr><tr><td>&quot;&lt;San_Bruno_pipeline_explosion…</td><td>&quot;&lt;wasCreatedOnDate&gt;&quot;</td><td>&quot;1967-12-15&quot;</td></tr><tr><td>&quot;&lt;Last_Man_Standing_(season_8)…</td><td>&quot;&lt;wasCreatedOnDate&gt;&quot;</td><td>&quot;2020-01-02&quot;</td></tr><tr><td>&quot;&lt;2011_JY31&gt;&quot;</td><td>&quot;&lt;wasCreatedOnDate&gt;&quot;</td><td>&quot;2011-05-04&quot;</td></tr><tr><td>&quot;&lt;Journey_to_the_Beginning_of_…</td><td>&quot;&lt;wasCreatedOnDate&gt;&quot;</td><td>&quot;1955-08-05&quot;</td></tr><tr><td>&quot;&lt;Reversion_(2012_film)&gt;&quot;</td><td>&quot;&lt;wasCreatedOnDate&gt;&quot;</td><td>&quot;2012-08-08&quot;</td></tr></tbody></table></div>"
      ],
      "text/plain": [
       "shape: (20_099_403, 3)\n",
       "┌─────────────────────────────────┬────────────────────┬─────────────────────────────────┐\n",
       "│ subject                         ┆ predicate          ┆ cat_object                      │\n",
       "│ ---                             ┆ ---                ┆ ---                             │\n",
       "│ str                             ┆ str                ┆ str                             │\n",
       "╞═════════════════════════════════╪════════════════════╪═════════════════════════════════╡\n",
       "│ <Elizabeth_II>                  ┆ <isLeaderOf>       ┆ <Royal_Numismatic_Society>      │\n",
       "│ <Andrew_Harvey_(politician)>    ┆ <isLeaderOf>       ┆ <New_Denmark,_New_Brunswick>    │\n",
       "│ <Andranik>                      ┆ <isLeaderOf>       ┆ <Armenian_fedayi>               │\n",
       "│ <Yakubu_Oseni>                  ┆ <isLeaderOf>       ┆ <Kogi_State>                    │\n",
       "│ <Wan_Saiful_Wan_Jan>            ┆ <isLeaderOf>       ┆ <Perbadanan_Tabung_Pendidikan_… │\n",
       "│ …                               ┆ …                  ┆ …                               │\n",
       "│ <San_Bruno_pipeline_explosion>  ┆ <wasCreatedOnDate> ┆ 1967-12-15                      │\n",
       "│ <Last_Man_Standing_(season_8)>  ┆ <wasCreatedOnDate> ┆ 2020-01-02                      │\n",
       "│ <2011_JY31>                     ┆ <wasCreatedOnDate> ┆ 2011-05-04                      │\n",
       "│ <Journey_to_the_Beginning_of_T… ┆ <wasCreatedOnDate> ┆ 1955-08-05                      │\n",
       "│ <Reversion_(2012_film)>         ┆ <wasCreatedOnDate> ┆ 2012-08-08                      │\n",
       "└─────────────────────────────────┴────────────────────┴─────────────────────────────────┘"
      ]
     },
     "execution_count": 5,
     "metadata": {},
     "output_type": "execute_result"
    }
   ],
   "source": [
    "df_facts"
   ]
  },
  {
   "cell_type": "code",
   "execution_count": 6,
   "metadata": {},
   "outputs": [],
   "source": [
    "path_labels = Path(\n",
    "    yago_path, \"facts_parquet/yago_updated_2022_part2/wikipediaLabels.tsv.parquet\"\n",
    ")\n",
    "df_labels = utils.import_from_yago(path_labels)"
   ]
  },
  {
   "cell_type": "code",
   "execution_count": 7,
   "metadata": {},
   "outputs": [],
   "source": [
    "filtered_labels = (\n",
    "    df_labels.lazy()\n",
    "    .filter(pl.col(\"subject\").is_in(df_facts.select(pl.col(\"subject\")).to_series()))\n",
    "    .unique([\"subject\", \"predicate\"])\n",
    "    .collect()\n",
    ")"
   ]
  },
  {
   "cell_type": "code",
   "execution_count": 8,
   "metadata": {},
   "outputs": [],
   "source": [
    "filtered_labels = filtered_labels.filter(\n",
    "    pl.col(\"cat_object\").str.ends_with(\"@eng\")\n",
    ").with_columns(pl.col(\"cat_object\").str.split(\"@\").list[0])"
   ]
  },
  {
   "cell_type": "code",
   "execution_count": 9,
   "metadata": {},
   "outputs": [
    {
     "data": {
      "text/html": [
       "<div><style>\n",
       ".dataframe > thead > tr,\n",
       ".dataframe > tbody > tr {\n",
       "  text-align: right;\n",
       "  white-space: pre-wrap;\n",
       "}\n",
       "</style>\n",
       "<small>shape: (8_516_934, 5)</small><table border=\"1\" class=\"dataframe\"><thead><tr><th>id</th><th>subject</th><th>predicate</th><th>cat_object</th><th>num_object</th></tr><tr><td>str</td><td>str</td><td>str</td><td>str</td><td>f64</td></tr></thead><tbody><tr><td>&quot;&lt;id_XMlLz7H!Er_SBd_eh?ORlGiPb…</td><td>&quot;&lt;Eddie_Kaye_Thomas&gt;&quot;</td><td>&quot;rdfs:label&quot;</td><td>&quot;Eddie Kaye Thomas&quot;</td><td>null</td></tr><tr><td>&quot;&lt;id_9majCmBIA0_SBd_1LqivY8vPd…</td><td>&quot;&lt;Lev_Vlassenko&gt;&quot;</td><td>&quot;rdfs:label&quot;</td><td>&quot;Lev Vlassenko&quot;</td><td>null</td></tr><tr><td>&quot;&lt;id_271Se8XZQk_SBd_mi4EI2kla2…</td><td>&quot;&lt;Göran_Lagerberg&gt;&quot;</td><td>&quot;rdfs:label&quot;</td><td>&quot;Goeran Lagerberg&quot;</td><td>null</td></tr><tr><td>&quot;&lt;id_oqBvksmjY8_SBd_oqBvksmjY8…</td><td>&quot;&lt;Castletownshend&gt;&quot;</td><td>&quot;rdfs:label&quot;</td><td>&quot;Castletownshend&quot;</td><td>null</td></tr><tr><td>&quot;&lt;id_DSazflcOli_UVh_AGniDKuJUh…</td><td>&quot;&lt;Lawrence_Hubert&gt;&quot;</td><td>&quot;skos:prefLabel&quot;</td><td>&quot;Lawrence Hubert&quot;</td><td>null</td></tr><tr><td>&quot;&lt;id_TfoRu6C!AS_SBd_f2LjgEN89E…</td><td>&quot;&lt;Ellen_Hardin_Walworth&gt;&quot;</td><td>&quot;rdfs:label&quot;</td><td>&quot;Ellen Hardin Walworth&quot;</td><td>null</td></tr><tr><td>&quot;&lt;id_DTKbRWR5pe_SBd_iILr9wb02x…</td><td>&quot;&lt;Anna_Wangenheim&gt;&quot;</td><td>&quot;rdfs:label&quot;</td><td>&quot;Anna Wangenheim&quot;</td><td>null</td></tr><tr><td>&quot;&lt;id_NH?65?dDHb_UVh_NH?65?dDHb…</td><td>&quot;&lt;Mbegha&gt;&quot;</td><td>&quot;skos:prefLabel&quot;</td><td>&quot;Mbegha&quot;</td><td>null</td></tr><tr><td>&quot;&lt;id_UxGCF5bY4t_SBd_4CojpqYAEm…</td><td>&quot;&lt;Harry_Brockhouse&gt;&quot;</td><td>&quot;rdfs:label&quot;</td><td>&quot;Harry Brockhouse&quot;</td><td>null</td></tr><tr><td>&quot;&lt;id_JI8AsQ!PaG_UVh_aX0OdtGsKp…</td><td>&quot;&lt;Samsun–Ceyhan_pipeline&gt;&quot;</td><td>&quot;skos:prefLabel&quot;</td><td>&quot;Samsun–Ceyhan pipeline&quot;</td><td>null</td></tr><tr><td>&quot;&lt;id_!6GsfZwazs_SBd_8?ZUJ4ciqE…</td><td>&quot;&lt;The_Buffalo_Boy&gt;&quot;</td><td>&quot;rdfs:label&quot;</td><td>&quot;The Buffalo Boy&quot;</td><td>null</td></tr><tr><td>&quot;&lt;id_c0t!wd01Bt_SBd_CDh95y8yUZ…</td><td>&quot;&lt;fr/Mohamed_Laâbidi&gt;&quot;</td><td>&quot;rdfs:label&quot;</td><td>&quot;Mohamed Laabidi&quot;</td><td>null</td></tr><tr><td>&hellip;</td><td>&hellip;</td><td>&hellip;</td><td>&hellip;</td><td>&hellip;</td></tr><tr><td>&quot;&lt;id_9XjCfOvAFA_SBd_ghU2GdeAVC…</td><td>&quot;&lt;Silver_River_(Baraga_County)…</td><td>&quot;rdfs:label&quot;</td><td>&quot;Silver River&quot;</td><td>null</td></tr><tr><td>&quot;&lt;id_ct1!dhXLKB_SBd_ct1!dhXLKB…</td><td>&quot;&lt;A-Lin&gt;&quot;</td><td>&quot;rdfs:label&quot;</td><td>&quot;A-Lin&quot;</td><td>null</td></tr><tr><td>&quot;&lt;id_forLgdYidh_UVh_wQjjdtPgAS…</td><td>&quot;&lt;Nascent_(film)&gt;&quot;</td><td>&quot;skos:prefLabel&quot;</td><td>&quot;Nascent (film)&quot;</td><td>null</td></tr><tr><td>&quot;&lt;id_O!29CNWS4?_UVh_!s5Z0jC4zW…</td><td>&quot;&lt;Redick_McKee&gt;&quot;</td><td>&quot;skos:prefLabel&quot;</td><td>&quot;Redick McKee&quot;</td><td>null</td></tr><tr><td>&quot;&lt;id_pYIriiUbja_UVh_0nmfwC2lwT…</td><td>&quot;&lt;Quintus_Dellius&gt;&quot;</td><td>&quot;skos:prefLabel&quot;</td><td>&quot;Quintus Dellius&quot;</td><td>null</td></tr><tr><td>&quot;&lt;id_4dPevfiKUW_SBd_Uz2b1miplb…</td><td>&quot;&lt;Viktor_Lyoskin&gt;&quot;</td><td>&quot;rdfs:label&quot;</td><td>&quot;Viktor Lyoskin&quot;</td><td>null</td></tr><tr><td>&quot;&lt;id_zLu5k4mFAR_SBd_NcWzuR6CHq…</td><td>&quot;&lt;fr/Immeuble_Kaleva&gt;&quot;</td><td>&quot;rdfs:label&quot;</td><td>&quot;Immeuble Kaleva&quot;</td><td>null</td></tr><tr><td>&quot;&lt;id_4JrkIwCerF_SBd_4MX6cYXDkU…</td><td>&quot;&lt;Mohammad_Musa&gt;&quot;</td><td>&quot;rdfs:label&quot;</td><td>&quot;Mohammad Musa&quot;</td><td>null</td></tr><tr><td>&quot;&lt;id_pZIVjJr9uE_SBd_TtxJx7HMuZ…</td><td>&quot;&lt;Jhon_Perlaza&gt;&quot;</td><td>&quot;rdfs:label&quot;</td><td>&quot;Jhon Perlaza&quot;</td><td>null</td></tr><tr><td>&quot;&lt;id_4M!5njmFCe_UVh_XFV4MPOB6h…</td><td>&quot;&lt;fr/Jacques_Hazard&gt;&quot;</td><td>&quot;skos:prefLabel&quot;</td><td>&quot;Jacques Hazard&quot;</td><td>null</td></tr><tr><td>&quot;&lt;id_oKtZ3MvZ?B_SBd_CvxUUDbv6e…</td><td>&quot;&lt;Chantal_Payer&gt;&quot;</td><td>&quot;rdfs:label&quot;</td><td>&quot;Chantal Payer&quot;</td><td>null</td></tr><tr><td>&quot;&lt;id_LKU8dWOkyK_SBd_slvPQOUOSS…</td><td>&quot;&lt;BBC_Radio_Gloucestershire&gt;&quot;</td><td>&quot;rdfs:label&quot;</td><td>&quot;BBC Radio Gloucestershire&quot;</td><td>null</td></tr></tbody></table></div>"
      ],
      "text/plain": [
       "shape: (8_516_934, 5)\n",
       "┌────────────────────────┬───────────────────────┬────────────────┬───────────────────┬────────────┐\n",
       "│ id                     ┆ subject               ┆ predicate      ┆ cat_object        ┆ num_object │\n",
       "│ ---                    ┆ ---                   ┆ ---            ┆ ---               ┆ ---        │\n",
       "│ str                    ┆ str                   ┆ str            ┆ str               ┆ f64        │\n",
       "╞════════════════════════╪═══════════════════════╪════════════════╪═══════════════════╪════════════╡\n",
       "│ <id_XMlLz7H!Er_SBd_eh? ┆ <Eddie_Kaye_Thomas>   ┆ rdfs:label     ┆ Eddie Kaye Thomas ┆ null       │\n",
       "│ ORlGiPb>               ┆                       ┆                ┆                   ┆            │\n",
       "│ <id_9majCmBIA0_SBd_1Lq ┆ <Lev_Vlassenko>       ┆ rdfs:label     ┆ Lev Vlassenko     ┆ null       │\n",
       "│ ivY8vPd>               ┆                       ┆                ┆                   ┆            │\n",
       "│ <id_271Se8XZQk_SBd_mi4 ┆ <Göran_Lagerberg>     ┆ rdfs:label     ┆ Goeran Lagerberg  ┆ null       │\n",
       "│ EI2kla2>               ┆                       ┆                ┆                   ┆            │\n",
       "│ <id_oqBvksmjY8_SBd_oqB ┆ <Castletownshend>     ┆ rdfs:label     ┆ Castletownshend   ┆ null       │\n",
       "│ vksmjY8>               ┆                       ┆                ┆                   ┆            │\n",
       "│ <id_DSazflcOli_UVh_AGn ┆ <Lawrence_Hubert>     ┆ skos:prefLabel ┆ Lawrence Hubert   ┆ null       │\n",
       "│ iDKuJUh>               ┆                       ┆                ┆                   ┆            │\n",
       "│ …                      ┆ …                     ┆ …              ┆ …                 ┆ …          │\n",
       "│ <id_4JrkIwCerF_SBd_4MX ┆ <Mohammad_Musa>       ┆ rdfs:label     ┆ Mohammad Musa     ┆ null       │\n",
       "│ 6cYXDkU>               ┆                       ┆                ┆                   ┆            │\n",
       "│ <id_pZIVjJr9uE_SBd_Ttx ┆ <Jhon_Perlaza>        ┆ rdfs:label     ┆ Jhon Perlaza      ┆ null       │\n",
       "│ Jx7HMuZ>               ┆                       ┆                ┆                   ┆            │\n",
       "│ <id_4M!5njmFCe_UVh_XFV ┆ <fr/Jacques_Hazard>   ┆ skos:prefLabel ┆ Jacques Hazard    ┆ null       │\n",
       "│ 4MPOB6h>               ┆                       ┆                ┆                   ┆            │\n",
       "│ <id_oKtZ3MvZ?B_SBd_Cvx ┆ <Chantal_Payer>       ┆ rdfs:label     ┆ Chantal Payer     ┆ null       │\n",
       "│ UUDbv6e>               ┆                       ┆                ┆                   ┆            │\n",
       "│ <id_LKU8dWOkyK_SBd_slv ┆ <BBC_Radio_Gloucester ┆ rdfs:label     ┆ BBC Radio         ┆ null       │\n",
       "│ PQOUOSS>               ┆ shire>                ┆                ┆ Gloucestershire   ┆            │\n",
       "└────────────────────────┴───────────────────────┴────────────────┴───────────────────┴────────────┘"
      ]
     },
     "execution_count": 9,
     "metadata": {},
     "output_type": "execute_result"
    }
   ],
   "source": [
    "filtered_labels"
   ]
  },
  {
   "cell_type": "markdown",
   "metadata": {},
   "source": [
    "# Movies"
   ]
  },
  {
   "cell_type": "code",
   "execution_count": 10,
   "metadata": {},
   "outputs": [],
   "source": [
    "df_movies = pl.read_csv(\n",
    "    \"data/base_tables/the-movies-dataset/movies_metadata.csv\",\n",
    "    infer_schema_length=10000,\n",
    "    ignore_errors=True,\n",
    ")"
   ]
  },
  {
   "cell_type": "code",
   "execution_count": 11,
   "metadata": {},
   "outputs": [],
   "source": [
    "wordnet_movie_type = (\n",
    "    df_types.lazy()\n",
    "    .filter(pl.col(\"cat_object\").str.starts_with(\"<wordnet_\"))\n",
    "    .unique(\"cat_object\")\n",
    "    .filter(pl.col(\"cat_object\").str.contains(\"movie\"))\n",
    "    .collect()[\"cat_object\"]\n",
    "    .item()\n",
    ")"
   ]
  },
  {
   "cell_type": "code",
   "execution_count": 12,
   "metadata": {},
   "outputs": [],
   "source": [
    "facts_movies = df_types.filter(pl.col(\"cat_object\") == wordnet_movie_type)"
   ]
  },
  {
   "cell_type": "code",
   "execution_count": 13,
   "metadata": {},
   "outputs": [],
   "source": [
    "movies_labels = (\n",
    "    facts_movies.lazy()\n",
    "    .join(filtered_labels.lazy(), on=\"subject\")\n",
    "    .select([\"subject\", \"cat_object_right\"])\n",
    "    .unique()\n",
    "    .rename({\"cat_object_right\": \"label\"})\n",
    "    .collect()\n",
    ")"
   ]
  },
  {
   "cell_type": "code",
   "execution_count": 14,
   "metadata": {},
   "outputs": [
    {
     "data": {
      "text/html": [
       "<div><style>\n",
       ".dataframe > thead > tr,\n",
       ".dataframe > tbody > tr {\n",
       "  text-align: right;\n",
       "  white-space: pre-wrap;\n",
       "}\n",
       "</style>\n",
       "<small>shape: (170_750, 2)</small><table border=\"1\" class=\"dataframe\"><thead><tr><th>subject</th><th>label</th></tr><tr><td>str</td><td>str</td></tr></thead><tbody><tr><td>&quot;&lt;Français_Pour_une_Nuit&gt;&quot;</td><td>&quot;Francais Pour une Nuit&quot;</td></tr><tr><td>&quot;&lt;Return_to_Boggy_Creek&gt;&quot;</td><td>&quot;Return to Boggy Creek&quot;</td></tr><tr><td>&quot;&lt;The_Wrong_Man&gt;&quot;</td><td>&quot;The Wrong Man&quot;</td></tr><tr><td>&quot;&lt;Ghajini_(2008_film)&gt;&quot;</td><td>&quot;Ghajini&quot;</td></tr><tr><td>&quot;&lt;We_Monsters&gt;&quot;</td><td>&quot;We Monsters&quot;</td></tr><tr><td>&quot;&lt;Confessions_of_a_Police_Capt…</td><td>&quot;Confessions of a Police Capta…</td></tr><tr><td>&quot;&lt;Elisabeth_und_der_Narr&gt;&quot;</td><td>&quot;Elisabeth und der Narr&quot;</td></tr><tr><td>&quot;&lt;The_Fighting_Kentuckian&gt;&quot;</td><td>&quot;The Fighting Kentuckian&quot;</td></tr><tr><td>&quot;&lt;Saptapadi_(1981_film)&gt;&quot;</td><td>&quot;Saptapadi (1981 film)&quot;</td></tr><tr><td>&quot;&lt;One-Two,_Soldiers_Were_Going…</td><td>&quot;One-Two&quot;</td></tr><tr><td>&quot;&lt;The_Attack_of_the_Giant_Mous…</td><td>&quot;The Attack of the Giant Mouss…</td></tr><tr><td>&quot;&lt;Crazy_Crooks&gt;&quot;</td><td>&quot;Crazy Crooks&quot;</td></tr><tr><td>&hellip;</td><td>&hellip;</td></tr><tr><td>&quot;&lt;Tungsten_(film)&gt;&quot;</td><td>&quot;Tungsten (film)&quot;</td></tr><tr><td>&quot;&lt;I_Will,_I_Will..._for_Now&gt;&quot;</td><td>&quot;I Will&quot;</td></tr><tr><td>&quot;&lt;Graustark_(1915_film)&gt;&quot;</td><td>&quot;Graustark&quot;</td></tr><tr><td>&quot;&lt;Dominion_(2018_film)&gt;&quot;</td><td>&quot;Dominion&quot;</td></tr><tr><td>&quot;&lt;Tunnel_(2014_film)&gt;&quot;</td><td>&quot;Tunnel (2014 film)&quot;</td></tr><tr><td>&quot;&lt;Free_Radicals_(film)&gt;&quot;</td><td>&quot;Free Radicals&quot;</td></tr><tr><td>&quot;&lt;Samrat_(1997_film)&gt;&quot;</td><td>&quot;Samrat (1997 film)&quot;</td></tr><tr><td>&quot;&lt;Karen_(film)&gt;&quot;</td><td>&quot;Karen&quot;</td></tr><tr><td>&quot;&lt;Bright_Lights_(1916_film)&gt;&quot;</td><td>&quot;Bright Lights&quot;</td></tr><tr><td>&quot;&lt;Three_for_the_Road_(2007_fil…</td><td>&quot;Three for the Road (2007 film…</td></tr><tr><td>&quot;&lt;Slightly_Scarlet_(1956_film)…</td><td>&quot;Slightly Scarlet (1956 film)&quot;</td></tr><tr><td>&quot;&lt;The_Con_Artists_(2014_film)&gt;…</td><td>&quot;The Con Artists&quot;</td></tr></tbody></table></div>"
      ],
      "text/plain": [
       "shape: (170_750, 2)\n",
       "┌─────────────────────────────────┬────────────────────────────────┐\n",
       "│ subject                         ┆ label                          │\n",
       "│ ---                             ┆ ---                            │\n",
       "│ str                             ┆ str                            │\n",
       "╞═════════════════════════════════╪════════════════════════════════╡\n",
       "│ <Français_Pour_une_Nuit>        ┆ Francais Pour une Nuit         │\n",
       "│ <Return_to_Boggy_Creek>         ┆ Return to Boggy Creek          │\n",
       "│ <The_Wrong_Man>                 ┆ The Wrong Man                  │\n",
       "│ <Ghajini_(2008_film)>           ┆ Ghajini                        │\n",
       "│ <We_Monsters>                   ┆ We Monsters                    │\n",
       "│ …                               ┆ …                              │\n",
       "│ <Karen_(film)>                  ┆ Karen                          │\n",
       "│ <Bright_Lights_(1916_film)>     ┆ Bright Lights                  │\n",
       "│ <Three_for_the_Road_(2007_film… ┆ Three for the Road (2007 film) │\n",
       "│ <Slightly_Scarlet_(1956_film)>  ┆ Slightly Scarlet (1956 film)   │\n",
       "│ <The_Con_Artists_(2014_film)>   ┆ The Con Artists                │\n",
       "└─────────────────────────────────┴────────────────────────────────┘"
      ]
     },
     "execution_count": 14,
     "metadata": {},
     "output_type": "execute_result"
    }
   ],
   "source": [
    "movies_labels"
   ]
  },
  {
   "cell_type": "code",
   "execution_count": 15,
   "metadata": {},
   "outputs": [],
   "source": [
    "filtered_movies = (\n",
    "    df_movies.lazy()\n",
    "    .join(movies_labels.lazy(), left_on=\"original_title\", right_on=\"label\")\n",
    "    .collect()\n",
    ")"
   ]
  },
  {
   "cell_type": "code",
   "execution_count": 16,
   "metadata": {},
   "outputs": [],
   "source": [
    "import ast\n",
    "\n",
    "\n",
    "def clean_genres(ll):\n",
    "    g = ast.literal_eval(ll)\n",
    "    try:\n",
    "        l1 = g[0][\"name\"]\n",
    "        return l1\n",
    "    except IndexError:\n",
    "        return \"\""
   ]
  },
  {
   "cell_type": "code",
   "execution_count": 17,
   "metadata": {},
   "outputs": [
    {
     "data": {
      "text/html": [
       "<div><style>\n",
       ".dataframe > thead > tr,\n",
       ".dataframe > tbody > tr {\n",
       "  text-align: right;\n",
       "  white-space: pre-wrap;\n",
       "}\n",
       "</style>\n",
       "<small>shape: (36_988, 25)</small><table border=\"1\" class=\"dataframe\"><thead><tr><th>adult</th><th>belongs_to_collection</th><th>budget</th><th>genres</th><th>homepage</th><th>id</th><th>imdb_id</th><th>original_language</th><th>original_title</th><th>overview</th><th>popularity</th><th>poster_path</th><th>production_companies</th><th>production_countries</th><th>release_date</th><th>revenue</th><th>runtime</th><th>spoken_languages</th><th>status</th><th>tagline</th><th>title</th><th>video</th><th>vote_average</th><th>vote_count</th><th>subject</th></tr><tr><td>bool</td><td>str</td><td>i64</td><td>str</td><td>str</td><td>i64</td><td>str</td><td>str</td><td>str</td><td>str</td><td>f64</td><td>str</td><td>str</td><td>str</td><td>str</td><td>i64</td><td>f64</td><td>str</td><td>str</td><td>str</td><td>str</td><td>bool</td><td>f64</td><td>i64</td><td>str</td></tr></thead><tbody><tr><td>false</td><td>null</td><td>1200000</td><td>&quot;[{&#x27;id&#x27;: 80, &#x27;name&#x27;: &#x27;Crime&#x27;},…</td><td>null</td><td>22527</td><td>&quot;tt0051207&quot;</td><td>&quot;en&quot;</td><td>&quot;The Wrong Man&quot;</td><td>&quot;True story of an innocent man…</td><td>8.56081</td><td>&quot;/o3L64eO7RegwjTFlp5a872aZvjq.…</td><td>&quot;[{&#x27;name&#x27;: &#x27;Warner Bros.&#x27;, &#x27;id…</td><td>&quot;[{&#x27;iso_3166_1&#x27;: &#x27;US&#x27;, &#x27;name&#x27;:…</td><td>&quot;1956-12-22&quot;</td><td>2000000</td><td>105.0</td><td>&quot;[{&#x27;iso_639_1&#x27;: &#x27;en&#x27;, &#x27;name&#x27;: …</td><td>&quot;Released&quot;</td><td>&quot;Somewhere...somewhere there m…</td><td>&quot;The Wrong Man&quot;</td><td>false</td><td>6.9</td><td>105</td><td>&quot;&lt;The_Wrong_Man&gt;&quot;</td></tr><tr><td>false</td><td>null</td><td>0</td><td>&quot;[{&#x27;id&#x27;: 10749, &#x27;name&#x27;: &#x27;Roman…</td><td>null</td><td>41666</td><td>&quot;tt0108597&quot;</td><td>&quot;en&quot;</td><td>&quot;The Wrong Man&quot;</td><td>&quot;US merchant sailor Alex Walke…</td><td>1.972377</td><td>&quot;/wmWLfgo2WWVB3WHkGYgmQhE4neZ.…</td><td>&quot;[{&#x27;name&#x27;: &#x27;Viacom Productions…</td><td>&quot;[{&#x27;iso_3166_1&#x27;: &#x27;US&#x27;, &#x27;name&#x27;:…</td><td>&quot;1993-09-05&quot;</td><td>0</td><td>104.0</td><td>&quot;[{&#x27;iso_639_1&#x27;: &#x27;en&#x27;, &#x27;name&#x27;: …</td><td>&quot;Released&quot;</td><td>&quot;Accused of a crime he didn&#x27;t …</td><td>&quot;The Wrong Man&quot;</td><td>false</td><td>4.8</td><td>5</td><td>&quot;&lt;The_Wrong_Man&gt;&quot;</td></tr><tr><td>false</td><td>null</td><td>9100000</td><td>&quot;[{&#x27;id&#x27;: 53, &#x27;name&#x27;: &#x27;Thriller…</td><td>&quot;http://www.rememberghajini.co…</td><td>14070</td><td>&quot;tt1166100&quot;</td><td>&quot;hi&quot;</td><td>&quot;Ghajini&quot;</td><td>&quot;Sanjay a rich tycoon sufferin…</td><td>4.23908</td><td>&quot;/qACwdCtoaatv8qge2sSWlYpz3yN.…</td><td>&quot;[{&#x27;name&#x27;: &#x27;Geetha Arts&#x27;, &#x27;id&#x27;…</td><td>&quot;[{&#x27;iso_3166_1&#x27;: &#x27;IN&#x27;, &#x27;name&#x27;:…</td><td>&quot;2008-12-25&quot;</td><td>76000000</td><td>183.0</td><td>&quot;[{&#x27;iso_639_1&#x27;: &#x27;hi&#x27;, &#x27;name&#x27;: …</td><td>&quot;Released&quot;</td><td>null</td><td>&quot;Ghajini&quot;</td><td>false</td><td>6.9</td><td>84</td><td>&quot;&lt;Ghajini_(2008_film)&gt;&quot;</td></tr><tr><td>false</td><td>null</td><td>3200000</td><td>&quot;[{&#x27;id&#x27;: 28, &#x27;name&#x27;: &#x27;Action&#x27;}…</td><td>null</td><td>69636</td><td>&quot;tt0449951&quot;</td><td>&quot;ta&quot;</td><td>&quot;Ghajini&quot;</td><td>&quot;The film&#x27;s story is around a …</td><td>0.802284</td><td>&quot;/1QYjtWpKyNTX83RE8C4DRKYW6b6.…</td><td>&quot;[{&#x27;name&#x27;: &#x27;Sri Saravanaa Crea…</td><td>&quot;[{&#x27;iso_3166_1&#x27;: &#x27;IN&#x27;, &#x27;name&#x27;:…</td><td>&quot;2005-10-14&quot;</td><td>0</td><td>150.0</td><td>&quot;[{&#x27;iso_639_1&#x27;: &#x27;ta&#x27;, &#x27;name&#x27;: …</td><td>&quot;Released&quot;</td><td>null</td><td>&quot;Ghajini&quot;</td><td>false</td><td>6.6</td><td>13</td><td>&quot;&lt;Ghajini_(2008_film)&gt;&quot;</td></tr><tr><td>false</td><td>null</td><td>0</td><td>&quot;[{&#x27;id&#x27;: 27, &#x27;name&#x27;: &#x27;Horror&#x27;}…</td><td>null</td><td>28438</td><td>&quot;tt0036104&quot;</td><td>&quot;en&quot;</td><td>&quot;The Leopard Man&quot;</td><td>&quot;When a leopard escapes during…</td><td>1.494525</td><td>&quot;/AgypGd78CZ5KEe7N3vYRFOxlDR8.…</td><td>&quot;[{&#x27;name&#x27;: &#x27;RKO Radio Pictures…</td><td>&quot;[{&#x27;iso_3166_1&#x27;: &#x27;US&#x27;, &#x27;name&#x27;:…</td><td>&quot;1943-05-08&quot;</td><td>0</td><td>66.0</td><td>&quot;[{&#x27;iso_639_1&#x27;: &#x27;en&#x27;, &#x27;name&#x27;: …</td><td>&quot;Released&quot;</td><td>&quot;Woman alone the victims of st…</td><td>&quot;The Leopard Man&quot;</td><td>false</td><td>6.4</td><td>18</td><td>&quot;&lt;The_Leopard_Man&gt;&quot;</td></tr><tr><td>false</td><td>null</td><td>0</td><td>&quot;[{&#x27;id&#x27;: 18, &#x27;name&#x27;: &#x27;Drama&#x27;},…</td><td>null</td><td>108639</td><td>&quot;tt0460724&quot;</td><td>&quot;en&quot;</td><td>&quot;Blush&quot;</td><td>&quot;In 2004 Wim Vandekeybus shot …</td><td>0.122913</td><td>&quot;/4PoDgbDwjUuTJqu816MM0EznXZu.…</td><td>&quot;[{&#x27;name&#x27;: &#x27;CCCP&#x27;, &#x27;id&#x27;: 2852}…</td><td>&quot;[{&#x27;iso_3166_1&#x27;: &#x27;FR&#x27;, &#x27;name&#x27;:…</td><td>&quot;2005-12-07&quot;</td><td>0</td><td>55.0</td><td>&quot;[{&#x27;iso_639_1&#x27;: &#x27;en&#x27;, &#x27;name&#x27;: …</td><td>&quot;Released&quot;</td><td>null</td><td>&quot;Blush&quot;</td><td>false</td><td>4.0</td><td>1</td><td>&quot;&lt;Blush_(2019_film)&gt;&quot;</td></tr><tr><td>false</td><td>null</td><td>0</td><td>&quot;[{&#x27;id&#x27;: 99, &#x27;name&#x27;: &#x27;Document…</td><td>null</td><td>434336</td><td>&quot;tt4456270&quot;</td><td>&quot;en&quot;</td><td>&quot;The Sunshine Makers&quot;</td><td>&quot;The story of Nicholas Sand an…</td><td>0.787708</td><td>&quot;/cr9Nddno9yoqjFgIfpbEZoHDmiv.…</td><td>&quot;[]&quot;</td><td>&quot;[]&quot;</td><td>&quot;2015-11-01&quot;</td><td>0</td><td>101.0</td><td>&quot;[]&quot;</td><td>&quot;Released&quot;</td><td>null</td><td>&quot;The Sunshine Makers&quot;</td><td>false</td><td>7.4</td><td>5</td><td>&quot;&lt;The_Sunshine_Makers_(1935_fi…</td></tr><tr><td>false</td><td>null</td><td>0</td><td>&quot;[]&quot;</td><td>null</td><td>44666</td><td>&quot;tt0114583&quot;</td><td>&quot;it&quot;</td><td>&quot;Surprise&quot;</td><td>&quot;While his lover is sleeping, …</td><td>0.001252</td><td>&quot;/tfYsCJd9lsZjfS2LVqqHoxw1QqF.…</td><td>&quot;[]&quot;</td><td>&quot;[]&quot;</td><td>&quot;1996-02-21&quot;</td><td>0</td><td>6.0</td><td>&quot;[]&quot;</td><td>&quot;Released&quot;</td><td>null</td><td>&quot;Surprise&quot;</td><td>false</td><td>0.0</td><td>0</td><td>&quot;&lt;Surprise_(2015_film)&gt;&quot;</td></tr><tr><td>false</td><td>null</td><td>0</td><td>&quot;[{&#x27;id&#x27;: 28, &#x27;name&#x27;: &#x27;Action&#x27;}…</td><td>null</td><td>1647</td><td>&quot;tt0292506&quot;</td><td>&quot;en&quot;</td><td>&quot;The Recruit&quot;</td><td>&quot;A brilliant CIA trainee must …</td><td>11.485473</td><td>&quot;/hQuFWLIKUwWUWYhk6KHsBOKKeHc.…</td><td>&quot;[{&#x27;name&#x27;: &#x27;Birnbaum / Barber …</td><td>&quot;[{&#x27;iso_3166_1&#x27;: &#x27;US&#x27;, &#x27;name&#x27;:…</td><td>&quot;2003-01-31&quot;</td><td>101191884</td><td>115.0</td><td>&quot;[{&#x27;iso_639_1&#x27;: &#x27;en&#x27;, &#x27;name&#x27;: …</td><td>&quot;Released&quot;</td><td>&quot;Trust. Betrayal. Deception. I…</td><td>&quot;The Recruit&quot;</td><td>false</td><td>6.2</td><td>545</td><td>&quot;&lt;The_Recruit&gt;&quot;</td></tr><tr><td>false</td><td>null</td><td>0</td><td>&quot;[{&#x27;id&#x27;: 35, &#x27;name&#x27;: &#x27;Comedy&#x27;}…</td><td>null</td><td>53734</td><td>&quot;tt0305583&quot;</td><td>&quot;en&quot;</td><td>&quot;A Foreign Affair&quot;</td><td>&quot;Two brothers need household h…</td><td>0.85986</td><td>&quot;/osdQcxKpF6ZVeOLTle5JUIcT66k.…</td><td>&quot;[]&quot;</td><td>&quot;[]&quot;</td><td>&quot;2003-01-21&quot;</td><td>0</td><td>82.0</td><td>&quot;[]&quot;</td><td>&quot;Released&quot;</td><td>&quot;They&#x27;re not looking for love,…</td><td>&quot;A Foreign Affair&quot;</td><td>false</td><td>5.8</td><td>4</td><td>&quot;&lt;A_Foreign_Affair&gt;&quot;</td></tr><tr><td>false</td><td>null</td><td>1500000</td><td>&quot;[{&#x27;id&#x27;: 35, &#x27;name&#x27;: &#x27;Comedy&#x27;}…</td><td>null</td><td>61650</td><td>&quot;tt0040367&quot;</td><td>&quot;en&quot;</td><td>&quot;A Foreign Affair&quot;</td><td>&quot;In occupied Berlin, an army c…</td><td>1.061486</td><td>&quot;/mloS6hrUax1BDGpT9PGFgZFLhFX.…</td><td>&quot;[{&#x27;name&#x27;: &#x27;Paramount Pictures…</td><td>&quot;[{&#x27;iso_3166_1&#x27;: &#x27;US&#x27;, &#x27;name&#x27;:…</td><td>&quot;1948-08-20&quot;</td><td>0</td><td>116.0</td><td>&quot;[{&#x27;iso_639_1&#x27;: &#x27;en&#x27;, &#x27;name&#x27;: …</td><td>&quot;Released&quot;</td><td>&quot;It would make a cigar store I…</td><td>&quot;A Foreign Affair&quot;</td><td>false</td><td>6.7</td><td>24</td><td>&quot;&lt;A_Foreign_Affair&gt;&quot;</td></tr><tr><td>false</td><td>null</td><td>0</td><td>&quot;[{&#x27;id&#x27;: 27, &#x27;name&#x27;: &#x27;Horror&#x27;}…</td><td>null</td><td>106280</td><td>&quot;tt0092831&quot;</td><td>&quot;en&quot;</td><td>&quot;Dark Tower&quot;</td><td>&quot;When a window-washer falls to…</td><td>0.881779</td><td>&quot;/nJzZ0hGED79YFtDZXwEz230IsGL.…</td><td>&quot;[]&quot;</td><td>&quot;[]&quot;</td><td>&quot;1989-03-29&quot;</td><td>0</td><td>91.0</td><td>&quot;[{&#x27;iso_639_1&#x27;: &#x27;en&#x27;, &#x27;name&#x27;: …</td><td>&quot;Released&quot;</td><td>&quot;In a city that never sleeps..…</td><td>&quot;Dark Tower&quot;</td><td>false</td><td>3.0</td><td>1</td><td>&quot;&lt;Dark_Tower_(1987_film)&gt;&quot;</td></tr><tr><td>&hellip;</td><td>&hellip;</td><td>&hellip;</td><td>&hellip;</td><td>&hellip;</td><td>&hellip;</td><td>&hellip;</td><td>&hellip;</td><td>&hellip;</td><td>&hellip;</td><td>&hellip;</td><td>&hellip;</td><td>&hellip;</td><td>&hellip;</td><td>&hellip;</td><td>&hellip;</td><td>&hellip;</td><td>&hellip;</td><td>&hellip;</td><td>&hellip;</td><td>&hellip;</td><td>&hellip;</td><td>&hellip;</td><td>&hellip;</td><td>&hellip;</td></tr><tr><td>false</td><td>null</td><td>0</td><td>&quot;[]&quot;</td><td>null</td><td>159304</td><td>&quot;tt1520380&quot;</td><td>&quot;en&quot;</td><td>&quot;Runaway&quot;</td><td>&quot;A train runs into a cow on th…</td><td>0.07639</td><td>&quot;/1n16r2kmGexD6X9LVIS8Cemstxw.…</td><td>&quot;[{&#x27;name&#x27;: &#x27;National Film Boar…</td><td>&quot;[{&#x27;iso_3166_1&#x27;: &#x27;CA&#x27;, &#x27;name&#x27;:…</td><td>&quot;2009-06-08&quot;</td><td>0</td><td>9.0</td><td>&quot;[{&#x27;iso_639_1&#x27;: &#x27;en&#x27;, &#x27;name&#x27;: …</td><td>&quot;Released&quot;</td><td>null</td><td>&quot;Runaway&quot;</td><td>false</td><td>7.0</td><td>2</td><td>&quot;&lt;Runaway_(2005_film)&gt;&quot;</td></tr><tr><td>false</td><td>null</td><td>2000000</td><td>&quot;[{&#x27;id&#x27;: 18, &#x27;name&#x27;: &#x27;Drama&#x27;},…</td><td>&quot;http://www.facebook.com/pages…</td><td>35851</td><td>&quot;tt0425414&quot;</td><td>&quot;en&quot;</td><td>&quot;Runaway&quot;</td><td>&quot;Michael Adler has run away fr…</td><td>0.80693</td><td>&quot;/antt9g6qcESMN0beH71Vh6rSMDJ.…</td><td>&quot;[{&#x27;name&#x27;: &#x27;Filbert Steps Prod…</td><td>&quot;[{&#x27;iso_3166_1&#x27;: &#x27;US&#x27;, &#x27;name&#x27;:…</td><td>&quot;2005-04-26&quot;</td><td>0</td><td>80.0</td><td>&quot;[{&#x27;iso_639_1&#x27;: &#x27;en&#x27;, &#x27;name&#x27;: …</td><td>&quot;Released&quot;</td><td>null</td><td>&quot;Runaway&quot;</td><td>false</td><td>6.8</td><td>10</td><td>&quot;&lt;Runaway_(2005_film)&gt;&quot;</td></tr><tr><td>false</td><td>null</td><td>0</td><td>&quot;[{&#x27;id&#x27;: 14, &#x27;name&#x27;: &#x27;Fantasy&#x27;…</td><td>null</td><td>21970</td><td>&quot;tt0081738&quot;</td><td>&quot;en&quot;</td><td>&quot;The Watcher in the Woods&quot;</td><td>&quot;No sooner does an all-America…</td><td>9.003838</td><td>&quot;/1mRLqyUxrV6F90JncmuGJPIkDJg.…</td><td>&quot;[{&#x27;name&#x27;: &#x27;Walt Disney Pictur…</td><td>&quot;[{&#x27;iso_3166_1&#x27;: &#x27;GB&#x27;, &#x27;name&#x27;:…</td><td>&quot;1980-04-17&quot;</td><td>5000000</td><td>83.0</td><td>&quot;[{&#x27;iso_639_1&#x27;: &#x27;en&#x27;, &#x27;name&#x27;: …</td><td>&quot;Released&quot;</td><td>&quot;Scared of going into the wood…</td><td>&quot;The Watcher in the Woods&quot;</td><td>false</td><td>6.4</td><td>40</td><td>&quot;&lt;The_Watcher_in_the_Woods_(19…</td></tr><tr><td>false</td><td>null</td><td>0</td><td>&quot;[{&#x27;id&#x27;: 12, &#x27;name&#x27;: &#x27;Adventur…</td><td>&quot;http://alt.tntdrama.com/movie…</td><td>207937</td><td>&quot;tt0181212&quot;</td><td>&quot;en&quot;</td><td>&quot;Don Quixote&quot;</td><td>&quot;The classic tale of a man&#x27;s d…</td><td>0.745102</td><td>&quot;/ewA4cf8PD9qHHb4TpaOmGmgreTY.…</td><td>&quot;[{&#x27;name&#x27;: &#x27;Hallmark Entertain…</td><td>&quot;[{&#x27;iso_3166_1&#x27;: &#x27;US&#x27;, &#x27;name&#x27;:…</td><td>&quot;2000-04-08&quot;</td><td>0</td><td>141.0</td><td>&quot;[{&#x27;iso_639_1&#x27;: &#x27;en&#x27;, &#x27;name&#x27;: …</td><td>&quot;Released&quot;</td><td>null</td><td>&quot;Don Quixote&quot;</td><td>false</td><td>5.3</td><td>3</td><td>&quot;&lt;Don_Quixote_(1933_film)&gt;&quot;</td></tr><tr><td>false</td><td>null</td><td>0</td><td>&quot;[{&#x27;id&#x27;: 12, &#x27;name&#x27;: &#x27;Adventur…</td><td>null</td><td>46813</td><td>&quot;tt0023956&quot;</td><td>&quot;en&quot;</td><td>&quot;Don Quixote&quot;</td><td>&quot;In Spain, in the sixteenth ce…</td><td>0.100463</td><td>&quot;/paGBPnnFpFWqAAZRNG9BCJRn7L7.…</td><td>&quot;[]&quot;</td><td>&quot;[{&#x27;iso_3166_1&#x27;: &#x27;FR&#x27;, &#x27;name&#x27;:…</td><td>&quot;1933-01-01&quot;</td><td>0</td><td>73.0</td><td>&quot;[{&#x27;iso_639_1&#x27;: &#x27;en&#x27;, &#x27;name&#x27;: …</td><td>&quot;Released&quot;</td><td>null</td><td>&quot;Don Quixote&quot;</td><td>false</td><td>2.5</td><td>2</td><td>&quot;&lt;Don_Quixote_(1933_film)&gt;&quot;</td></tr><tr><td>false</td><td>null</td><td>0</td><td>&quot;[{&#x27;id&#x27;: 27, &#x27;name&#x27;: &#x27;Horror&#x27;}…</td><td>&quot;http://www.whatisannwyn.co.uk…</td><td>17</td><td>&quot;tt0411267&quot;</td><td>&quot;en&quot;</td><td>&quot;The Dark&quot;</td><td>&quot;Adèle and her daughter Sarah …</td><td>5.691508</td><td>&quot;/8fzjzQhLXl1afshhsE5Y3MGuco4.…</td><td>&quot;[{&#x27;name&#x27;: &#x27;Constantin Film&#x27;, …</td><td>&quot;[{&#x27;iso_3166_1&#x27;: &#x27;DE&#x27;, &#x27;name&#x27;:…</td><td>&quot;2006-01-26&quot;</td><td>0</td><td>87.0</td><td>&quot;[{&#x27;iso_639_1&#x27;: &#x27;en&#x27;, &#x27;name&#x27;: …</td><td>&quot;Released&quot;</td><td>&quot;One of the living for one of …</td><td>&quot;The Dark&quot;</td><td>false</td><td>5.6</td><td>76</td><td>&quot;&lt;The_Dark_(2005_film)&gt;&quot;</td></tr><tr><td>false</td><td>null</td><td>0</td><td>&quot;[{&#x27;id&#x27;: 27, &#x27;name&#x27;: &#x27;Horror&#x27;}…</td><td>null</td><td>87706</td><td>&quot;tt0079027&quot;</td><td>&quot;en&quot;</td><td>&quot;The Dark&quot;</td><td>&quot;At night the Mangler stalks t…</td><td>0.880585</td><td>&quot;/c32dVjgoK3G40YzmP32dW1Q8rT5.…</td><td>&quot;[{&#x27;name&#x27;: &#x27;Film Ventures Inte…</td><td>&quot;[{&#x27;iso_3166_1&#x27;: &#x27;US&#x27;, &#x27;name&#x27;:…</td><td>&quot;1979-04-27&quot;</td><td>0</td><td>92.0</td><td>&quot;[{&#x27;iso_639_1&#x27;: &#x27;en&#x27;, &#x27;name&#x27;: …</td><td>&quot;Released&quot;</td><td>&quot;An alien mutilator stalks and…</td><td>&quot;The Dark&quot;</td><td>false</td><td>5.2</td><td>8</td><td>&quot;&lt;The_Dark_(2005_film)&gt;&quot;</td></tr><tr><td>false</td><td>null</td><td>0</td><td>&quot;[{&#x27;id&#x27;: 27, &#x27;name&#x27;: &#x27;Horror&#x27;}…</td><td>null</td><td>17209</td><td>&quot;tt0363276&quot;</td><td>&quot;en&quot;</td><td>&quot;Madhouse&quot;</td><td>&quot;A young psychiatric intern un…</td><td>2.88883</td><td>&quot;/wEVNTUl8Uc5tht3BCVAzhuB5TiD.…</td><td>&quot;[{&#x27;name&#x27;: &#x27;Lakeshore Entertai…</td><td>&quot;[{&#x27;iso_3166_1&#x27;: &#x27;US&#x27;, &#x27;name&#x27;:…</td><td>&quot;2004-07-30&quot;</td><td>0</td><td>91.0</td><td>&quot;[{&#x27;iso_639_1&#x27;: &#x27;en&#x27;, &#x27;name&#x27;: …</td><td>&quot;Released&quot;</td><td>&quot;Let the insanity begin.&quot;</td><td>&quot;Madhouse&quot;</td><td>false</td><td>5.6</td><td>40</td><td>&quot;&lt;Madhouse_(1990_film)&gt;&quot;</td></tr><tr><td>false</td><td>null</td><td>0</td><td>&quot;[{&#x27;id&#x27;: 80, &#x27;name&#x27;: &#x27;Crime&#x27;},…</td><td>null</td><td>28715</td><td>&quot;tt0071790&quot;</td><td>&quot;en&quot;</td><td>&quot;Madhouse&quot;</td><td>&quot;A horror movie star returns t…</td><td>2.243631</td><td>&quot;/qdRWrXGGzbKcVP2ZRxzPQSZhUSB.…</td><td>&quot;[{&#x27;name&#x27;: &#x27;Amicus Productions…</td><td>&quot;[{&#x27;iso_3166_1&#x27;: &#x27;GB&#x27;, &#x27;name&#x27;:…</td><td>&quot;1974-03-01&quot;</td><td>0</td><td>92.0</td><td>&quot;[{&#x27;iso_639_1&#x27;: &#x27;en&#x27;, &#x27;name&#x27;: …</td><td>&quot;Released&quot;</td><td>&quot;The bad news is you have hous…</td><td>&quot;Madhouse&quot;</td><td>false</td><td>6.0</td><td>21</td><td>&quot;&lt;Madhouse_(1990_film)&gt;&quot;</td></tr><tr><td>false</td><td>null</td><td>0</td><td>&quot;[{&#x27;id&#x27;: 27, &#x27;name&#x27;: &#x27;Horror&#x27;}…</td><td>null</td><td>54133</td><td>&quot;tt0093468&quot;</td><td>&quot;en&quot;</td><td>&quot;Madhouse&quot;</td><td>&quot;Julia (Trish Everly, in her o…</td><td>1.289193</td><td>&quot;/f66qzgaZ9VICC4s5QvTzS3sc2NQ.…</td><td>&quot;[]&quot;</td><td>&quot;[{&#x27;iso_3166_1&#x27;: &#x27;IT&#x27;, &#x27;name&#x27;:…</td><td>&quot;1981-01-01&quot;</td><td>0</td><td>93.0</td><td>&quot;[{&#x27;iso_639_1&#x27;: &#x27;en&#x27;, &#x27;name&#x27;: …</td><td>&quot;Released&quot;</td><td>&quot;Many people visit… no one eve…</td><td>&quot;Madhouse&quot;</td><td>false</td><td>6.4</td><td>9</td><td>&quot;&lt;Madhouse_(1990_film)&gt;&quot;</td></tr><tr><td>false</td><td>null</td><td>0</td><td>&quot;[{&#x27;id&#x27;: 10402, &#x27;name&#x27;: &#x27;Music…</td><td>null</td><td>166621</td><td>&quot;tt0020713&quot;</td><td>&quot;en&quot;</td><td>&quot;Bright Lights&quot;</td><td>&quot;In this light-hearted musical…</td><td>0.236636</td><td>&quot;/3cYAgCWY8bc7nr6unnEnWG2as7L.…</td><td>&quot;[{&#x27;name&#x27;: &#x27;First National Pic…</td><td>&quot;[{&#x27;iso_3166_1&#x27;: &#x27;US&#x27;, &#x27;name&#x27;:…</td><td>&quot;1930-09-20&quot;</td><td>0</td><td>69.0</td><td>&quot;[{&#x27;iso_639_1&#x27;: &#x27;en&#x27;, &#x27;name&#x27;: …</td><td>&quot;Released&quot;</td><td>&quot;What a Cast and Story - Cramm…</td><td>&quot;Bright Lights&quot;</td><td>false</td><td>0.0</td><td>1</td><td>&quot;&lt;Bright_Lights_(1916_film)&gt;&quot;</td></tr><tr><td>false</td><td>null</td><td>0</td><td>&quot;[{&#x27;id&#x27;: 35, &#x27;name&#x27;: &#x27;Comedy&#x27;}…</td><td>null</td><td>112083</td><td>&quot;tt0026139&quot;</td><td>&quot;en&quot;</td><td>&quot;Bright Lights&quot;</td><td>&quot;Husband-and-wife vaudeville s…</td><td>0.447889</td><td>&quot;/uoVG9cWLxmFZg5fbMy4JYi6M3gx.…</td><td>&quot;[{&#x27;name&#x27;: &#x27;Warner Bros.&#x27;, &#x27;id…</td><td>&quot;[{&#x27;iso_3166_1&#x27;: &#x27;US&#x27;, &#x27;name&#x27;:…</td><td>&quot;1935-07-27&quot;</td><td>0</td><td>82.0</td><td>&quot;[{&#x27;iso_639_1&#x27;: &#x27;en&#x27;, &#x27;name&#x27;: …</td><td>&quot;Released&quot;</td><td>&quot;IT&#x27;S GOT EVERYTHING!&quot;</td><td>&quot;Bright Lights&quot;</td><td>false</td><td>0.0</td><td>0</td><td>&quot;&lt;Bright_Lights_(1916_film)&gt;&quot;</td></tr></tbody></table></div>"
      ],
      "text/plain": [
       "shape: (36_988, 25)\n",
       "┌───────┬─────────────┬─────────┬─────────────┬───┬───────┬─────────────┬────────────┬─────────────┐\n",
       "│ adult ┆ belongs_to_ ┆ budget  ┆ genres      ┆ … ┆ video ┆ vote_averag ┆ vote_count ┆ subject     │\n",
       "│ ---   ┆ collection  ┆ ---     ┆ ---         ┆   ┆ ---   ┆ e           ┆ ---        ┆ ---         │\n",
       "│ bool  ┆ ---         ┆ i64     ┆ str         ┆   ┆ bool  ┆ ---         ┆ i64        ┆ str         │\n",
       "│       ┆ str         ┆         ┆             ┆   ┆       ┆ f64         ┆            ┆             │\n",
       "╞═══════╪═════════════╪═════════╪═════════════╪═══╪═══════╪═════════════╪════════════╪═════════════╡\n",
       "│ false ┆ null        ┆ 1200000 ┆ [{'id': 80, ┆ … ┆ false ┆ 6.9         ┆ 105        ┆ <The_Wrong_ │\n",
       "│       ┆             ┆         ┆ 'name':     ┆   ┆       ┆             ┆            ┆ Man>        │\n",
       "│       ┆             ┆         ┆ 'Crime'}, … ┆   ┆       ┆             ┆            ┆             │\n",
       "│ false ┆ null        ┆ 0       ┆ [{'id':     ┆ … ┆ false ┆ 4.8         ┆ 5          ┆ <The_Wrong_ │\n",
       "│       ┆             ┆         ┆ 10749,      ┆   ┆       ┆             ┆            ┆ Man>        │\n",
       "│       ┆             ┆         ┆ 'name':     ┆   ┆       ┆             ┆            ┆             │\n",
       "│       ┆             ┆         ┆ 'Romanc…    ┆   ┆       ┆             ┆            ┆             │\n",
       "│ false ┆ null        ┆ 9100000 ┆ [{'id': 53, ┆ … ┆ false ┆ 6.9         ┆ 84         ┆ <Ghajini_(2 │\n",
       "│       ┆             ┆         ┆ 'name':     ┆   ┆       ┆             ┆            ┆ 008_film)>  │\n",
       "│       ┆             ┆         ┆ 'Thriller'… ┆   ┆       ┆             ┆            ┆             │\n",
       "│ false ┆ null        ┆ 3200000 ┆ [{'id': 28, ┆ … ┆ false ┆ 6.6         ┆ 13         ┆ <Ghajini_(2 │\n",
       "│       ┆             ┆         ┆ 'name':     ┆   ┆       ┆             ┆            ┆ 008_film)>  │\n",
       "│       ┆             ┆         ┆ 'Action'},… ┆   ┆       ┆             ┆            ┆             │\n",
       "│ false ┆ null        ┆ 0       ┆ [{'id': 27, ┆ … ┆ false ┆ 6.4         ┆ 18         ┆ <The_Leopar │\n",
       "│       ┆             ┆         ┆ 'name':     ┆   ┆       ┆             ┆            ┆ d_Man>      │\n",
       "│       ┆             ┆         ┆ 'Horror'}]  ┆   ┆       ┆             ┆            ┆             │\n",
       "│ …     ┆ …           ┆ …       ┆ …           ┆ … ┆ …     ┆ …           ┆ …          ┆ …           │\n",
       "│ false ┆ null        ┆ 0       ┆ [{'id': 27, ┆ … ┆ false ┆ 5.6         ┆ 40         ┆ <Madhouse_( │\n",
       "│       ┆             ┆         ┆ 'name':     ┆   ┆       ┆             ┆            ┆ 1990_film)> │\n",
       "│       ┆             ┆         ┆ 'Horror'},… ┆   ┆       ┆             ┆            ┆             │\n",
       "│ false ┆ null        ┆ 0       ┆ [{'id': 80, ┆ … ┆ false ┆ 6.0         ┆ 21         ┆ <Madhouse_( │\n",
       "│       ┆             ┆         ┆ 'name':     ┆   ┆       ┆             ┆            ┆ 1990_film)> │\n",
       "│       ┆             ┆         ┆ 'Crime'}, … ┆   ┆       ┆             ┆            ┆             │\n",
       "│ false ┆ null        ┆ 0       ┆ [{'id': 27, ┆ … ┆ false ┆ 6.4         ┆ 9          ┆ <Madhouse_( │\n",
       "│       ┆             ┆         ┆ 'name':     ┆   ┆       ┆             ┆            ┆ 1990_film)> │\n",
       "│       ┆             ┆         ┆ 'Horror'}]  ┆   ┆       ┆             ┆            ┆             │\n",
       "│ false ┆ null        ┆ 0       ┆ [{'id':     ┆ … ┆ false ┆ 0.0         ┆ 1          ┆ <Bright_Lig │\n",
       "│       ┆             ┆         ┆ 10402,      ┆   ┆       ┆             ┆            ┆ hts_(1916_f │\n",
       "│       ┆             ┆         ┆ 'name':     ┆   ┆       ┆             ┆            ┆ ilm)>       │\n",
       "│       ┆             ┆         ┆ 'Music'…    ┆   ┆       ┆             ┆            ┆             │\n",
       "│ false ┆ null        ┆ 0       ┆ [{'id': 35, ┆ … ┆ false ┆ 0.0         ┆ 0          ┆ <Bright_Lig │\n",
       "│       ┆             ┆         ┆ 'name':     ┆   ┆       ┆             ┆            ┆ hts_(1916_f │\n",
       "│       ┆             ┆         ┆ 'Comedy'},… ┆   ┆       ┆             ┆            ┆ ilm)>       │\n",
       "└───────┴─────────────┴─────────┴─────────────┴───┴───────┴─────────────┴────────────┴─────────────┘"
      ]
     },
     "execution_count": 17,
     "metadata": {},
     "output_type": "execute_result"
    }
   ],
   "source": [
    "filtered_movies"
   ]
  },
  {
   "cell_type": "code",
   "execution_count": 18,
   "metadata": {},
   "outputs": [],
   "source": [
    "def fun(row: pl.Series):\n",
    "    r = (\n",
    "        row.map_elements(ast.literal_eval)\n",
    "        .list[0]\n",
    "        .struct.rename_fields([\"id\", \"name\"])\n",
    "        .struct.field(\"name\")\n",
    "    )\n",
    "    return r"
   ]
  },
  {
   "cell_type": "code",
   "execution_count": 19,
   "metadata": {},
   "outputs": [],
   "source": [
    "copied = filtered_movies.clone()"
   ]
  },
  {
   "cell_type": "code",
   "execution_count": 20,
   "metadata": {},
   "outputs": [
    {
     "data": {
      "text/html": [
       "<div><style>\n",
       ".dataframe > thead > tr,\n",
       ".dataframe > tbody > tr {\n",
       "  text-align: right;\n",
       "  white-space: pre-wrap;\n",
       "}\n",
       "</style>\n",
       "<small>shape: (36_988, 25)</small><table border=\"1\" class=\"dataframe\"><thead><tr><th>adult</th><th>belongs_to_collection</th><th>budget</th><th>genres</th><th>homepage</th><th>id</th><th>imdb_id</th><th>original_language</th><th>original_title</th><th>overview</th><th>popularity</th><th>poster_path</th><th>production_companies</th><th>production_countries</th><th>release_date</th><th>revenue</th><th>runtime</th><th>spoken_languages</th><th>status</th><th>tagline</th><th>title</th><th>video</th><th>vote_average</th><th>vote_count</th><th>subject</th></tr><tr><td>bool</td><td>str</td><td>i64</td><td>str</td><td>str</td><td>i64</td><td>str</td><td>str</td><td>str</td><td>str</td><td>f64</td><td>str</td><td>str</td><td>str</td><td>str</td><td>i64</td><td>f64</td><td>str</td><td>str</td><td>str</td><td>str</td><td>bool</td><td>f64</td><td>i64</td><td>str</td></tr></thead><tbody><tr><td>false</td><td>null</td><td>1200000</td><td>&quot;[{&#x27;id&#x27;: 80, &#x27;name&#x27;: &#x27;Crime&#x27;},…</td><td>null</td><td>22527</td><td>&quot;tt0051207&quot;</td><td>&quot;en&quot;</td><td>&quot;The Wrong Man&quot;</td><td>&quot;True story of an innocent man…</td><td>8.56081</td><td>&quot;/o3L64eO7RegwjTFlp5a872aZvjq.…</td><td>&quot;[{&#x27;name&#x27;: &#x27;Warner Bros.&#x27;, &#x27;id…</td><td>&quot;[{&#x27;iso_3166_1&#x27;: &#x27;US&#x27;, &#x27;name&#x27;:…</td><td>&quot;1956-12-22&quot;</td><td>2000000</td><td>105.0</td><td>&quot;[{&#x27;iso_639_1&#x27;: &#x27;en&#x27;, &#x27;name&#x27;: …</td><td>&quot;Released&quot;</td><td>&quot;Somewhere...somewhere there m…</td><td>&quot;The Wrong Man&quot;</td><td>false</td><td>6.9</td><td>105</td><td>&quot;&lt;The_Wrong_Man&gt;&quot;</td></tr><tr><td>false</td><td>null</td><td>0</td><td>&quot;[{&#x27;id&#x27;: 10749, &#x27;name&#x27;: &#x27;Roman…</td><td>null</td><td>41666</td><td>&quot;tt0108597&quot;</td><td>&quot;en&quot;</td><td>&quot;The Wrong Man&quot;</td><td>&quot;US merchant sailor Alex Walke…</td><td>1.972377</td><td>&quot;/wmWLfgo2WWVB3WHkGYgmQhE4neZ.…</td><td>&quot;[{&#x27;name&#x27;: &#x27;Viacom Productions…</td><td>&quot;[{&#x27;iso_3166_1&#x27;: &#x27;US&#x27;, &#x27;name&#x27;:…</td><td>&quot;1993-09-05&quot;</td><td>0</td><td>104.0</td><td>&quot;[{&#x27;iso_639_1&#x27;: &#x27;en&#x27;, &#x27;name&#x27;: …</td><td>&quot;Released&quot;</td><td>&quot;Accused of a crime he didn&#x27;t …</td><td>&quot;The Wrong Man&quot;</td><td>false</td><td>4.8</td><td>5</td><td>&quot;&lt;The_Wrong_Man&gt;&quot;</td></tr><tr><td>false</td><td>null</td><td>9100000</td><td>&quot;[{&#x27;id&#x27;: 53, &#x27;name&#x27;: &#x27;Thriller…</td><td>&quot;http://www.rememberghajini.co…</td><td>14070</td><td>&quot;tt1166100&quot;</td><td>&quot;hi&quot;</td><td>&quot;Ghajini&quot;</td><td>&quot;Sanjay a rich tycoon sufferin…</td><td>4.23908</td><td>&quot;/qACwdCtoaatv8qge2sSWlYpz3yN.…</td><td>&quot;[{&#x27;name&#x27;: &#x27;Geetha Arts&#x27;, &#x27;id&#x27;…</td><td>&quot;[{&#x27;iso_3166_1&#x27;: &#x27;IN&#x27;, &#x27;name&#x27;:…</td><td>&quot;2008-12-25&quot;</td><td>76000000</td><td>183.0</td><td>&quot;[{&#x27;iso_639_1&#x27;: &#x27;hi&#x27;, &#x27;name&#x27;: …</td><td>&quot;Released&quot;</td><td>null</td><td>&quot;Ghajini&quot;</td><td>false</td><td>6.9</td><td>84</td><td>&quot;&lt;Ghajini_(2008_film)&gt;&quot;</td></tr><tr><td>false</td><td>null</td><td>3200000</td><td>&quot;[{&#x27;id&#x27;: 28, &#x27;name&#x27;: &#x27;Action&#x27;}…</td><td>null</td><td>69636</td><td>&quot;tt0449951&quot;</td><td>&quot;ta&quot;</td><td>&quot;Ghajini&quot;</td><td>&quot;The film&#x27;s story is around a …</td><td>0.802284</td><td>&quot;/1QYjtWpKyNTX83RE8C4DRKYW6b6.…</td><td>&quot;[{&#x27;name&#x27;: &#x27;Sri Saravanaa Crea…</td><td>&quot;[{&#x27;iso_3166_1&#x27;: &#x27;IN&#x27;, &#x27;name&#x27;:…</td><td>&quot;2005-10-14&quot;</td><td>0</td><td>150.0</td><td>&quot;[{&#x27;iso_639_1&#x27;: &#x27;ta&#x27;, &#x27;name&#x27;: …</td><td>&quot;Released&quot;</td><td>null</td><td>&quot;Ghajini&quot;</td><td>false</td><td>6.6</td><td>13</td><td>&quot;&lt;Ghajini_(2008_film)&gt;&quot;</td></tr><tr><td>false</td><td>null</td><td>0</td><td>&quot;[{&#x27;id&#x27;: 27, &#x27;name&#x27;: &#x27;Horror&#x27;}…</td><td>null</td><td>28438</td><td>&quot;tt0036104&quot;</td><td>&quot;en&quot;</td><td>&quot;The Leopard Man&quot;</td><td>&quot;When a leopard escapes during…</td><td>1.494525</td><td>&quot;/AgypGd78CZ5KEe7N3vYRFOxlDR8.…</td><td>&quot;[{&#x27;name&#x27;: &#x27;RKO Radio Pictures…</td><td>&quot;[{&#x27;iso_3166_1&#x27;: &#x27;US&#x27;, &#x27;name&#x27;:…</td><td>&quot;1943-05-08&quot;</td><td>0</td><td>66.0</td><td>&quot;[{&#x27;iso_639_1&#x27;: &#x27;en&#x27;, &#x27;name&#x27;: …</td><td>&quot;Released&quot;</td><td>&quot;Woman alone the victims of st…</td><td>&quot;The Leopard Man&quot;</td><td>false</td><td>6.4</td><td>18</td><td>&quot;&lt;The_Leopard_Man&gt;&quot;</td></tr><tr><td>false</td><td>null</td><td>0</td><td>&quot;[{&#x27;id&#x27;: 18, &#x27;name&#x27;: &#x27;Drama&#x27;},…</td><td>null</td><td>108639</td><td>&quot;tt0460724&quot;</td><td>&quot;en&quot;</td><td>&quot;Blush&quot;</td><td>&quot;In 2004 Wim Vandekeybus shot …</td><td>0.122913</td><td>&quot;/4PoDgbDwjUuTJqu816MM0EznXZu.…</td><td>&quot;[{&#x27;name&#x27;: &#x27;CCCP&#x27;, &#x27;id&#x27;: 2852}…</td><td>&quot;[{&#x27;iso_3166_1&#x27;: &#x27;FR&#x27;, &#x27;name&#x27;:…</td><td>&quot;2005-12-07&quot;</td><td>0</td><td>55.0</td><td>&quot;[{&#x27;iso_639_1&#x27;: &#x27;en&#x27;, &#x27;name&#x27;: …</td><td>&quot;Released&quot;</td><td>null</td><td>&quot;Blush&quot;</td><td>false</td><td>4.0</td><td>1</td><td>&quot;&lt;Blush_(2019_film)&gt;&quot;</td></tr><tr><td>false</td><td>null</td><td>0</td><td>&quot;[{&#x27;id&#x27;: 99, &#x27;name&#x27;: &#x27;Document…</td><td>null</td><td>434336</td><td>&quot;tt4456270&quot;</td><td>&quot;en&quot;</td><td>&quot;The Sunshine Makers&quot;</td><td>&quot;The story of Nicholas Sand an…</td><td>0.787708</td><td>&quot;/cr9Nddno9yoqjFgIfpbEZoHDmiv.…</td><td>&quot;[]&quot;</td><td>&quot;[]&quot;</td><td>&quot;2015-11-01&quot;</td><td>0</td><td>101.0</td><td>&quot;[]&quot;</td><td>&quot;Released&quot;</td><td>null</td><td>&quot;The Sunshine Makers&quot;</td><td>false</td><td>7.4</td><td>5</td><td>&quot;&lt;The_Sunshine_Makers_(1935_fi…</td></tr><tr><td>false</td><td>null</td><td>0</td><td>&quot;[]&quot;</td><td>null</td><td>44666</td><td>&quot;tt0114583&quot;</td><td>&quot;it&quot;</td><td>&quot;Surprise&quot;</td><td>&quot;While his lover is sleeping, …</td><td>0.001252</td><td>&quot;/tfYsCJd9lsZjfS2LVqqHoxw1QqF.…</td><td>&quot;[]&quot;</td><td>&quot;[]&quot;</td><td>&quot;1996-02-21&quot;</td><td>0</td><td>6.0</td><td>&quot;[]&quot;</td><td>&quot;Released&quot;</td><td>null</td><td>&quot;Surprise&quot;</td><td>false</td><td>0.0</td><td>0</td><td>&quot;&lt;Surprise_(2015_film)&gt;&quot;</td></tr><tr><td>false</td><td>null</td><td>0</td><td>&quot;[{&#x27;id&#x27;: 28, &#x27;name&#x27;: &#x27;Action&#x27;}…</td><td>null</td><td>1647</td><td>&quot;tt0292506&quot;</td><td>&quot;en&quot;</td><td>&quot;The Recruit&quot;</td><td>&quot;A brilliant CIA trainee must …</td><td>11.485473</td><td>&quot;/hQuFWLIKUwWUWYhk6KHsBOKKeHc.…</td><td>&quot;[{&#x27;name&#x27;: &#x27;Birnbaum / Barber …</td><td>&quot;[{&#x27;iso_3166_1&#x27;: &#x27;US&#x27;, &#x27;name&#x27;:…</td><td>&quot;2003-01-31&quot;</td><td>101191884</td><td>115.0</td><td>&quot;[{&#x27;iso_639_1&#x27;: &#x27;en&#x27;, &#x27;name&#x27;: …</td><td>&quot;Released&quot;</td><td>&quot;Trust. Betrayal. Deception. I…</td><td>&quot;The Recruit&quot;</td><td>false</td><td>6.2</td><td>545</td><td>&quot;&lt;The_Recruit&gt;&quot;</td></tr><tr><td>false</td><td>null</td><td>0</td><td>&quot;[{&#x27;id&#x27;: 35, &#x27;name&#x27;: &#x27;Comedy&#x27;}…</td><td>null</td><td>53734</td><td>&quot;tt0305583&quot;</td><td>&quot;en&quot;</td><td>&quot;A Foreign Affair&quot;</td><td>&quot;Two brothers need household h…</td><td>0.85986</td><td>&quot;/osdQcxKpF6ZVeOLTle5JUIcT66k.…</td><td>&quot;[]&quot;</td><td>&quot;[]&quot;</td><td>&quot;2003-01-21&quot;</td><td>0</td><td>82.0</td><td>&quot;[]&quot;</td><td>&quot;Released&quot;</td><td>&quot;They&#x27;re not looking for love,…</td><td>&quot;A Foreign Affair&quot;</td><td>false</td><td>5.8</td><td>4</td><td>&quot;&lt;A_Foreign_Affair&gt;&quot;</td></tr><tr><td>false</td><td>null</td><td>1500000</td><td>&quot;[{&#x27;id&#x27;: 35, &#x27;name&#x27;: &#x27;Comedy&#x27;}…</td><td>null</td><td>61650</td><td>&quot;tt0040367&quot;</td><td>&quot;en&quot;</td><td>&quot;A Foreign Affair&quot;</td><td>&quot;In occupied Berlin, an army c…</td><td>1.061486</td><td>&quot;/mloS6hrUax1BDGpT9PGFgZFLhFX.…</td><td>&quot;[{&#x27;name&#x27;: &#x27;Paramount Pictures…</td><td>&quot;[{&#x27;iso_3166_1&#x27;: &#x27;US&#x27;, &#x27;name&#x27;:…</td><td>&quot;1948-08-20&quot;</td><td>0</td><td>116.0</td><td>&quot;[{&#x27;iso_639_1&#x27;: &#x27;en&#x27;, &#x27;name&#x27;: …</td><td>&quot;Released&quot;</td><td>&quot;It would make a cigar store I…</td><td>&quot;A Foreign Affair&quot;</td><td>false</td><td>6.7</td><td>24</td><td>&quot;&lt;A_Foreign_Affair&gt;&quot;</td></tr><tr><td>false</td><td>null</td><td>0</td><td>&quot;[{&#x27;id&#x27;: 27, &#x27;name&#x27;: &#x27;Horror&#x27;}…</td><td>null</td><td>106280</td><td>&quot;tt0092831&quot;</td><td>&quot;en&quot;</td><td>&quot;Dark Tower&quot;</td><td>&quot;When a window-washer falls to…</td><td>0.881779</td><td>&quot;/nJzZ0hGED79YFtDZXwEz230IsGL.…</td><td>&quot;[]&quot;</td><td>&quot;[]&quot;</td><td>&quot;1989-03-29&quot;</td><td>0</td><td>91.0</td><td>&quot;[{&#x27;iso_639_1&#x27;: &#x27;en&#x27;, &#x27;name&#x27;: …</td><td>&quot;Released&quot;</td><td>&quot;In a city that never sleeps..…</td><td>&quot;Dark Tower&quot;</td><td>false</td><td>3.0</td><td>1</td><td>&quot;&lt;Dark_Tower_(1987_film)&gt;&quot;</td></tr><tr><td>&hellip;</td><td>&hellip;</td><td>&hellip;</td><td>&hellip;</td><td>&hellip;</td><td>&hellip;</td><td>&hellip;</td><td>&hellip;</td><td>&hellip;</td><td>&hellip;</td><td>&hellip;</td><td>&hellip;</td><td>&hellip;</td><td>&hellip;</td><td>&hellip;</td><td>&hellip;</td><td>&hellip;</td><td>&hellip;</td><td>&hellip;</td><td>&hellip;</td><td>&hellip;</td><td>&hellip;</td><td>&hellip;</td><td>&hellip;</td><td>&hellip;</td></tr><tr><td>false</td><td>null</td><td>0</td><td>&quot;[]&quot;</td><td>null</td><td>159304</td><td>&quot;tt1520380&quot;</td><td>&quot;en&quot;</td><td>&quot;Runaway&quot;</td><td>&quot;A train runs into a cow on th…</td><td>0.07639</td><td>&quot;/1n16r2kmGexD6X9LVIS8Cemstxw.…</td><td>&quot;[{&#x27;name&#x27;: &#x27;National Film Boar…</td><td>&quot;[{&#x27;iso_3166_1&#x27;: &#x27;CA&#x27;, &#x27;name&#x27;:…</td><td>&quot;2009-06-08&quot;</td><td>0</td><td>9.0</td><td>&quot;[{&#x27;iso_639_1&#x27;: &#x27;en&#x27;, &#x27;name&#x27;: …</td><td>&quot;Released&quot;</td><td>null</td><td>&quot;Runaway&quot;</td><td>false</td><td>7.0</td><td>2</td><td>&quot;&lt;Runaway_(2005_film)&gt;&quot;</td></tr><tr><td>false</td><td>null</td><td>2000000</td><td>&quot;[{&#x27;id&#x27;: 18, &#x27;name&#x27;: &#x27;Drama&#x27;},…</td><td>&quot;http://www.facebook.com/pages…</td><td>35851</td><td>&quot;tt0425414&quot;</td><td>&quot;en&quot;</td><td>&quot;Runaway&quot;</td><td>&quot;Michael Adler has run away fr…</td><td>0.80693</td><td>&quot;/antt9g6qcESMN0beH71Vh6rSMDJ.…</td><td>&quot;[{&#x27;name&#x27;: &#x27;Filbert Steps Prod…</td><td>&quot;[{&#x27;iso_3166_1&#x27;: &#x27;US&#x27;, &#x27;name&#x27;:…</td><td>&quot;2005-04-26&quot;</td><td>0</td><td>80.0</td><td>&quot;[{&#x27;iso_639_1&#x27;: &#x27;en&#x27;, &#x27;name&#x27;: …</td><td>&quot;Released&quot;</td><td>null</td><td>&quot;Runaway&quot;</td><td>false</td><td>6.8</td><td>10</td><td>&quot;&lt;Runaway_(2005_film)&gt;&quot;</td></tr><tr><td>false</td><td>null</td><td>0</td><td>&quot;[{&#x27;id&#x27;: 14, &#x27;name&#x27;: &#x27;Fantasy&#x27;…</td><td>null</td><td>21970</td><td>&quot;tt0081738&quot;</td><td>&quot;en&quot;</td><td>&quot;The Watcher in the Woods&quot;</td><td>&quot;No sooner does an all-America…</td><td>9.003838</td><td>&quot;/1mRLqyUxrV6F90JncmuGJPIkDJg.…</td><td>&quot;[{&#x27;name&#x27;: &#x27;Walt Disney Pictur…</td><td>&quot;[{&#x27;iso_3166_1&#x27;: &#x27;GB&#x27;, &#x27;name&#x27;:…</td><td>&quot;1980-04-17&quot;</td><td>5000000</td><td>83.0</td><td>&quot;[{&#x27;iso_639_1&#x27;: &#x27;en&#x27;, &#x27;name&#x27;: …</td><td>&quot;Released&quot;</td><td>&quot;Scared of going into the wood…</td><td>&quot;The Watcher in the Woods&quot;</td><td>false</td><td>6.4</td><td>40</td><td>&quot;&lt;The_Watcher_in_the_Woods_(19…</td></tr><tr><td>false</td><td>null</td><td>0</td><td>&quot;[{&#x27;id&#x27;: 12, &#x27;name&#x27;: &#x27;Adventur…</td><td>&quot;http://alt.tntdrama.com/movie…</td><td>207937</td><td>&quot;tt0181212&quot;</td><td>&quot;en&quot;</td><td>&quot;Don Quixote&quot;</td><td>&quot;The classic tale of a man&#x27;s d…</td><td>0.745102</td><td>&quot;/ewA4cf8PD9qHHb4TpaOmGmgreTY.…</td><td>&quot;[{&#x27;name&#x27;: &#x27;Hallmark Entertain…</td><td>&quot;[{&#x27;iso_3166_1&#x27;: &#x27;US&#x27;, &#x27;name&#x27;:…</td><td>&quot;2000-04-08&quot;</td><td>0</td><td>141.0</td><td>&quot;[{&#x27;iso_639_1&#x27;: &#x27;en&#x27;, &#x27;name&#x27;: …</td><td>&quot;Released&quot;</td><td>null</td><td>&quot;Don Quixote&quot;</td><td>false</td><td>5.3</td><td>3</td><td>&quot;&lt;Don_Quixote_(1933_film)&gt;&quot;</td></tr><tr><td>false</td><td>null</td><td>0</td><td>&quot;[{&#x27;id&#x27;: 12, &#x27;name&#x27;: &#x27;Adventur…</td><td>null</td><td>46813</td><td>&quot;tt0023956&quot;</td><td>&quot;en&quot;</td><td>&quot;Don Quixote&quot;</td><td>&quot;In Spain, in the sixteenth ce…</td><td>0.100463</td><td>&quot;/paGBPnnFpFWqAAZRNG9BCJRn7L7.…</td><td>&quot;[]&quot;</td><td>&quot;[{&#x27;iso_3166_1&#x27;: &#x27;FR&#x27;, &#x27;name&#x27;:…</td><td>&quot;1933-01-01&quot;</td><td>0</td><td>73.0</td><td>&quot;[{&#x27;iso_639_1&#x27;: &#x27;en&#x27;, &#x27;name&#x27;: …</td><td>&quot;Released&quot;</td><td>null</td><td>&quot;Don Quixote&quot;</td><td>false</td><td>2.5</td><td>2</td><td>&quot;&lt;Don_Quixote_(1933_film)&gt;&quot;</td></tr><tr><td>false</td><td>null</td><td>0</td><td>&quot;[{&#x27;id&#x27;: 27, &#x27;name&#x27;: &#x27;Horror&#x27;}…</td><td>&quot;http://www.whatisannwyn.co.uk…</td><td>17</td><td>&quot;tt0411267&quot;</td><td>&quot;en&quot;</td><td>&quot;The Dark&quot;</td><td>&quot;Adèle and her daughter Sarah …</td><td>5.691508</td><td>&quot;/8fzjzQhLXl1afshhsE5Y3MGuco4.…</td><td>&quot;[{&#x27;name&#x27;: &#x27;Constantin Film&#x27;, …</td><td>&quot;[{&#x27;iso_3166_1&#x27;: &#x27;DE&#x27;, &#x27;name&#x27;:…</td><td>&quot;2006-01-26&quot;</td><td>0</td><td>87.0</td><td>&quot;[{&#x27;iso_639_1&#x27;: &#x27;en&#x27;, &#x27;name&#x27;: …</td><td>&quot;Released&quot;</td><td>&quot;One of the living for one of …</td><td>&quot;The Dark&quot;</td><td>false</td><td>5.6</td><td>76</td><td>&quot;&lt;The_Dark_(2005_film)&gt;&quot;</td></tr><tr><td>false</td><td>null</td><td>0</td><td>&quot;[{&#x27;id&#x27;: 27, &#x27;name&#x27;: &#x27;Horror&#x27;}…</td><td>null</td><td>87706</td><td>&quot;tt0079027&quot;</td><td>&quot;en&quot;</td><td>&quot;The Dark&quot;</td><td>&quot;At night the Mangler stalks t…</td><td>0.880585</td><td>&quot;/c32dVjgoK3G40YzmP32dW1Q8rT5.…</td><td>&quot;[{&#x27;name&#x27;: &#x27;Film Ventures Inte…</td><td>&quot;[{&#x27;iso_3166_1&#x27;: &#x27;US&#x27;, &#x27;name&#x27;:…</td><td>&quot;1979-04-27&quot;</td><td>0</td><td>92.0</td><td>&quot;[{&#x27;iso_639_1&#x27;: &#x27;en&#x27;, &#x27;name&#x27;: …</td><td>&quot;Released&quot;</td><td>&quot;An alien mutilator stalks and…</td><td>&quot;The Dark&quot;</td><td>false</td><td>5.2</td><td>8</td><td>&quot;&lt;The_Dark_(2005_film)&gt;&quot;</td></tr><tr><td>false</td><td>null</td><td>0</td><td>&quot;[{&#x27;id&#x27;: 27, &#x27;name&#x27;: &#x27;Horror&#x27;}…</td><td>null</td><td>17209</td><td>&quot;tt0363276&quot;</td><td>&quot;en&quot;</td><td>&quot;Madhouse&quot;</td><td>&quot;A young psychiatric intern un…</td><td>2.88883</td><td>&quot;/wEVNTUl8Uc5tht3BCVAzhuB5TiD.…</td><td>&quot;[{&#x27;name&#x27;: &#x27;Lakeshore Entertai…</td><td>&quot;[{&#x27;iso_3166_1&#x27;: &#x27;US&#x27;, &#x27;name&#x27;:…</td><td>&quot;2004-07-30&quot;</td><td>0</td><td>91.0</td><td>&quot;[{&#x27;iso_639_1&#x27;: &#x27;en&#x27;, &#x27;name&#x27;: …</td><td>&quot;Released&quot;</td><td>&quot;Let the insanity begin.&quot;</td><td>&quot;Madhouse&quot;</td><td>false</td><td>5.6</td><td>40</td><td>&quot;&lt;Madhouse_(1990_film)&gt;&quot;</td></tr><tr><td>false</td><td>null</td><td>0</td><td>&quot;[{&#x27;id&#x27;: 80, &#x27;name&#x27;: &#x27;Crime&#x27;},…</td><td>null</td><td>28715</td><td>&quot;tt0071790&quot;</td><td>&quot;en&quot;</td><td>&quot;Madhouse&quot;</td><td>&quot;A horror movie star returns t…</td><td>2.243631</td><td>&quot;/qdRWrXGGzbKcVP2ZRxzPQSZhUSB.…</td><td>&quot;[{&#x27;name&#x27;: &#x27;Amicus Productions…</td><td>&quot;[{&#x27;iso_3166_1&#x27;: &#x27;GB&#x27;, &#x27;name&#x27;:…</td><td>&quot;1974-03-01&quot;</td><td>0</td><td>92.0</td><td>&quot;[{&#x27;iso_639_1&#x27;: &#x27;en&#x27;, &#x27;name&#x27;: …</td><td>&quot;Released&quot;</td><td>&quot;The bad news is you have hous…</td><td>&quot;Madhouse&quot;</td><td>false</td><td>6.0</td><td>21</td><td>&quot;&lt;Madhouse_(1990_film)&gt;&quot;</td></tr><tr><td>false</td><td>null</td><td>0</td><td>&quot;[{&#x27;id&#x27;: 27, &#x27;name&#x27;: &#x27;Horror&#x27;}…</td><td>null</td><td>54133</td><td>&quot;tt0093468&quot;</td><td>&quot;en&quot;</td><td>&quot;Madhouse&quot;</td><td>&quot;Julia (Trish Everly, in her o…</td><td>1.289193</td><td>&quot;/f66qzgaZ9VICC4s5QvTzS3sc2NQ.…</td><td>&quot;[]&quot;</td><td>&quot;[{&#x27;iso_3166_1&#x27;: &#x27;IT&#x27;, &#x27;name&#x27;:…</td><td>&quot;1981-01-01&quot;</td><td>0</td><td>93.0</td><td>&quot;[{&#x27;iso_639_1&#x27;: &#x27;en&#x27;, &#x27;name&#x27;: …</td><td>&quot;Released&quot;</td><td>&quot;Many people visit… no one eve…</td><td>&quot;Madhouse&quot;</td><td>false</td><td>6.4</td><td>9</td><td>&quot;&lt;Madhouse_(1990_film)&gt;&quot;</td></tr><tr><td>false</td><td>null</td><td>0</td><td>&quot;[{&#x27;id&#x27;: 10402, &#x27;name&#x27;: &#x27;Music…</td><td>null</td><td>166621</td><td>&quot;tt0020713&quot;</td><td>&quot;en&quot;</td><td>&quot;Bright Lights&quot;</td><td>&quot;In this light-hearted musical…</td><td>0.236636</td><td>&quot;/3cYAgCWY8bc7nr6unnEnWG2as7L.…</td><td>&quot;[{&#x27;name&#x27;: &#x27;First National Pic…</td><td>&quot;[{&#x27;iso_3166_1&#x27;: &#x27;US&#x27;, &#x27;name&#x27;:…</td><td>&quot;1930-09-20&quot;</td><td>0</td><td>69.0</td><td>&quot;[{&#x27;iso_639_1&#x27;: &#x27;en&#x27;, &#x27;name&#x27;: …</td><td>&quot;Released&quot;</td><td>&quot;What a Cast and Story - Cramm…</td><td>&quot;Bright Lights&quot;</td><td>false</td><td>0.0</td><td>1</td><td>&quot;&lt;Bright_Lights_(1916_film)&gt;&quot;</td></tr><tr><td>false</td><td>null</td><td>0</td><td>&quot;[{&#x27;id&#x27;: 35, &#x27;name&#x27;: &#x27;Comedy&#x27;}…</td><td>null</td><td>112083</td><td>&quot;tt0026139&quot;</td><td>&quot;en&quot;</td><td>&quot;Bright Lights&quot;</td><td>&quot;Husband-and-wife vaudeville s…</td><td>0.447889</td><td>&quot;/uoVG9cWLxmFZg5fbMy4JYi6M3gx.…</td><td>&quot;[{&#x27;name&#x27;: &#x27;Warner Bros.&#x27;, &#x27;id…</td><td>&quot;[{&#x27;iso_3166_1&#x27;: &#x27;US&#x27;, &#x27;name&#x27;:…</td><td>&quot;1935-07-27&quot;</td><td>0</td><td>82.0</td><td>&quot;[{&#x27;iso_639_1&#x27;: &#x27;en&#x27;, &#x27;name&#x27;: …</td><td>&quot;Released&quot;</td><td>&quot;IT&#x27;S GOT EVERYTHING!&quot;</td><td>&quot;Bright Lights&quot;</td><td>false</td><td>0.0</td><td>0</td><td>&quot;&lt;Bright_Lights_(1916_film)&gt;&quot;</td></tr></tbody></table></div>"
      ],
      "text/plain": [
       "shape: (36_988, 25)\n",
       "┌───────┬─────────────┬─────────┬─────────────┬───┬───────┬─────────────┬────────────┬─────────────┐\n",
       "│ adult ┆ belongs_to_ ┆ budget  ┆ genres      ┆ … ┆ video ┆ vote_averag ┆ vote_count ┆ subject     │\n",
       "│ ---   ┆ collection  ┆ ---     ┆ ---         ┆   ┆ ---   ┆ e           ┆ ---        ┆ ---         │\n",
       "│ bool  ┆ ---         ┆ i64     ┆ str         ┆   ┆ bool  ┆ ---         ┆ i64        ┆ str         │\n",
       "│       ┆ str         ┆         ┆             ┆   ┆       ┆ f64         ┆            ┆             │\n",
       "╞═══════╪═════════════╪═════════╪═════════════╪═══╪═══════╪═════════════╪════════════╪═════════════╡\n",
       "│ false ┆ null        ┆ 1200000 ┆ [{'id': 80, ┆ … ┆ false ┆ 6.9         ┆ 105        ┆ <The_Wrong_ │\n",
       "│       ┆             ┆         ┆ 'name':     ┆   ┆       ┆             ┆            ┆ Man>        │\n",
       "│       ┆             ┆         ┆ 'Crime'}, … ┆   ┆       ┆             ┆            ┆             │\n",
       "│ false ┆ null        ┆ 0       ┆ [{'id':     ┆ … ┆ false ┆ 4.8         ┆ 5          ┆ <The_Wrong_ │\n",
       "│       ┆             ┆         ┆ 10749,      ┆   ┆       ┆             ┆            ┆ Man>        │\n",
       "│       ┆             ┆         ┆ 'name':     ┆   ┆       ┆             ┆            ┆             │\n",
       "│       ┆             ┆         ┆ 'Romanc…    ┆   ┆       ┆             ┆            ┆             │\n",
       "│ false ┆ null        ┆ 9100000 ┆ [{'id': 53, ┆ … ┆ false ┆ 6.9         ┆ 84         ┆ <Ghajini_(2 │\n",
       "│       ┆             ┆         ┆ 'name':     ┆   ┆       ┆             ┆            ┆ 008_film)>  │\n",
       "│       ┆             ┆         ┆ 'Thriller'… ┆   ┆       ┆             ┆            ┆             │\n",
       "│ false ┆ null        ┆ 3200000 ┆ [{'id': 28, ┆ … ┆ false ┆ 6.6         ┆ 13         ┆ <Ghajini_(2 │\n",
       "│       ┆             ┆         ┆ 'name':     ┆   ┆       ┆             ┆            ┆ 008_film)>  │\n",
       "│       ┆             ┆         ┆ 'Action'},… ┆   ┆       ┆             ┆            ┆             │\n",
       "│ false ┆ null        ┆ 0       ┆ [{'id': 27, ┆ … ┆ false ┆ 6.4         ┆ 18         ┆ <The_Leopar │\n",
       "│       ┆             ┆         ┆ 'name':     ┆   ┆       ┆             ┆            ┆ d_Man>      │\n",
       "│       ┆             ┆         ┆ 'Horror'}]  ┆   ┆       ┆             ┆            ┆             │\n",
       "│ …     ┆ …           ┆ …       ┆ …           ┆ … ┆ …     ┆ …           ┆ …          ┆ …           │\n",
       "│ false ┆ null        ┆ 0       ┆ [{'id': 27, ┆ … ┆ false ┆ 5.6         ┆ 40         ┆ <Madhouse_( │\n",
       "│       ┆             ┆         ┆ 'name':     ┆   ┆       ┆             ┆            ┆ 1990_film)> │\n",
       "│       ┆             ┆         ┆ 'Horror'},… ┆   ┆       ┆             ┆            ┆             │\n",
       "│ false ┆ null        ┆ 0       ┆ [{'id': 80, ┆ … ┆ false ┆ 6.0         ┆ 21         ┆ <Madhouse_( │\n",
       "│       ┆             ┆         ┆ 'name':     ┆   ┆       ┆             ┆            ┆ 1990_film)> │\n",
       "│       ┆             ┆         ┆ 'Crime'}, … ┆   ┆       ┆             ┆            ┆             │\n",
       "│ false ┆ null        ┆ 0       ┆ [{'id': 27, ┆ … ┆ false ┆ 6.4         ┆ 9          ┆ <Madhouse_( │\n",
       "│       ┆             ┆         ┆ 'name':     ┆   ┆       ┆             ┆            ┆ 1990_film)> │\n",
       "│       ┆             ┆         ┆ 'Horror'}]  ┆   ┆       ┆             ┆            ┆             │\n",
       "│ false ┆ null        ┆ 0       ┆ [{'id':     ┆ … ┆ false ┆ 0.0         ┆ 1          ┆ <Bright_Lig │\n",
       "│       ┆             ┆         ┆ 10402,      ┆   ┆       ┆             ┆            ┆ hts_(1916_f │\n",
       "│       ┆             ┆         ┆ 'name':     ┆   ┆       ┆             ┆            ┆ ilm)>       │\n",
       "│       ┆             ┆         ┆ 'Music'…    ┆   ┆       ┆             ┆            ┆             │\n",
       "│ false ┆ null        ┆ 0       ┆ [{'id': 35, ┆ … ┆ false ┆ 0.0         ┆ 0          ┆ <Bright_Lig │\n",
       "│       ┆             ┆         ┆ 'name':     ┆   ┆       ┆             ┆            ┆ hts_(1916_f │\n",
       "│       ┆             ┆         ┆ 'Comedy'},… ┆   ┆       ┆             ┆            ┆ ilm)>       │\n",
       "└───────┴─────────────┴─────────┴─────────────┴───┴───────┴─────────────┴────────────┴─────────────┘"
      ]
     },
     "execution_count": 20,
     "metadata": {},
     "output_type": "execute_result"
    }
   ],
   "source": [
    "copied"
   ]
  },
  {
   "cell_type": "code",
   "execution_count": 21,
   "metadata": {},
   "outputs": [
    {
     "name": "stderr",
     "output_type": "stream",
     "text": [
      "/storage/workspace/tmp/ipykernel_5096/907965122.py:7: DeprecationWarning: `map_alias` is deprecated. It has been moved to `name.map`.\n",
      "  .map_alias(lambda x: x)\n"
     ]
    }
   ],
   "source": [
    "copied = copied.with_columns(\n",
    "    pl.col([\"genres\", \"spoken_languages\", \"production_countries\"])\n",
    "    .map_elements(lambda x: ast.literal_eval(x))\n",
    "    .list[0]\n",
    "    .struct.rename_fields([\"id\", \"name\"])\n",
    "    .struct.field(\"name\")\n",
    "    .map_alias(lambda x: x)\n",
    "    # .map_alias(lambda x: x + \"_\")\n",
    ").with_columns(\n",
    "    pl.col([\"production_companies\"])\n",
    "    .map_elements(lambda x: ast.literal_eval(x))\n",
    "    .list[0]\n",
    "    .struct.rename_fields([\"name\", \"id\"])\n",
    "    .struct.field(\"name\")\n",
    "    .alias(\"production_companies\")\n",
    "    # .map_alias(lambda x: x + \"_\")\n",
    ")"
   ]
  },
  {
   "cell_type": "code",
   "execution_count": 22,
   "metadata": {},
   "outputs": [],
   "source": [
    "copied = (\n",
    "    copied.select(\n",
    "        [\n",
    "            \"adult\",\n",
    "            \"budget\",\n",
    "            \"genres\",\n",
    "            \"original_language\",\n",
    "            \"original_title\",\n",
    "            \"popularity\",\n",
    "            \"production_companies\",\n",
    "            \"production_countries\",\n",
    "            \"release_date\",\n",
    "            \"revenue\",\n",
    "            \"runtime\",\n",
    "            \"spoken_languages\",\n",
    "            \"status\",\n",
    "            \"title\",\n",
    "            \"vote_average\",\n",
    "            \"vote_count\",\n",
    "            \"subject\",\n",
    "        ]\n",
    "    )\n",
    "    .rename({\"vote_average\": \"target\", \"subject\": \"col_to_embed\"})\n",
    "    .drop_nulls(\"target\")\n",
    ")"
   ]
  },
  {
   "cell_type": "code",
   "execution_count": 23,
   "metadata": {},
   "outputs": [],
   "source": [
    "yago_path = Path(\"/storage/store3/work/jstojano/yago3/\")\n",
    "facts1_path = Path(yago_path, \"facts_parquet/yago_updated_2022_part1\")\n",
    "facts2_path = Path(yago_path, \"facts_parquet/yago_updated_2022_part2\")\n",
    "fname = \"yagoLabels\"\n",
    "yagolabels_path = Path(facts1_path, f\"{fname}.tsv.parquet\")\n",
    "df_yagolabels = utils.import_from_yago(yagolabels_path)"
   ]
  },
  {
   "cell_type": "code",
   "execution_count": 24,
   "metadata": {},
   "outputs": [
    {
     "data": {
      "text/html": [
       "<div><style>\n",
       ".dataframe > thead > tr,\n",
       ".dataframe > tbody > tr {\n",
       "  text-align: right;\n",
       "  white-space: pre-wrap;\n",
       "}\n",
       "</style>\n",
       "<small>shape: (5, 2)</small><table border=\"1\" class=\"dataframe\"><thead><tr><th>subject</th><th>label</th></tr><tr><td>str</td><td>str</td></tr></thead><tbody><tr><td>&quot;&lt;Français_Pour_une_Nuit&gt;&quot;</td><td>&quot;Francais Pour une Nuit&quot;</td></tr><tr><td>&quot;&lt;Return_to_Boggy_Creek&gt;&quot;</td><td>&quot;Return to Boggy Creek&quot;</td></tr><tr><td>&quot;&lt;The_Wrong_Man&gt;&quot;</td><td>&quot;The Wrong Man&quot;</td></tr><tr><td>&quot;&lt;Ghajini_(2008_film)&gt;&quot;</td><td>&quot;Ghajini&quot;</td></tr><tr><td>&quot;&lt;We_Monsters&gt;&quot;</td><td>&quot;We Monsters&quot;</td></tr></tbody></table></div>"
      ],
      "text/plain": [
       "shape: (5, 2)\n",
       "┌──────────────────────────┬────────────────────────┐\n",
       "│ subject                  ┆ label                  │\n",
       "│ ---                      ┆ ---                    │\n",
       "│ str                      ┆ str                    │\n",
       "╞══════════════════════════╪════════════════════════╡\n",
       "│ <Français_Pour_une_Nuit> ┆ Francais Pour une Nuit │\n",
       "│ <Return_to_Boggy_Creek>  ┆ Return to Boggy Creek  │\n",
       "│ <The_Wrong_Man>          ┆ The Wrong Man          │\n",
       "│ <Ghajini_(2008_film)>    ┆ Ghajini                │\n",
       "│ <We_Monsters>            ┆ We Monsters            │\n",
       "└──────────────────────────┴────────────────────────┘"
      ]
     },
     "execution_count": 24,
     "metadata": {},
     "output_type": "execute_result"
    }
   ],
   "source": [
    "movies_labels.head()"
   ]
  },
  {
   "cell_type": "code",
   "execution_count": 27,
   "metadata": {},
   "outputs": [],
   "source": [
    "collected_labels = (movies_labels.lazy().join(\n",
    "    df_yagolabels.lazy(), left_on=\"subject\", right_on=\"subject\"\n",
    ").filter(\n",
    "    pl.col(\"predicate\") == \"skos:prefLabel\"\n",
    "    ).filter(~pl.col(\"label\").str.ends_with(\"film)\"))\n",
    ".select(pl.col(\"subject\"), pl.col(\"label\")).unique().collect())"
   ]
  },
  {
   "cell_type": "code",
   "execution_count": 29,
   "metadata": {},
   "outputs": [
    {
     "name": "stderr",
     "output_type": "stream",
     "text": [
      "/storage/workspace/tmp/ipykernel_5096/2658560120.py:4: DeprecationWarning: `pl.count()` is deprecated. Please use `pl.len()` instead.\n",
      "  .group_by(\"title\").agg(pl.count().alias(\"count\")).sort(\"count\")\n"
     ]
    },
    {
     "data": {
      "text/html": [
       "<div><style>\n",
       ".dataframe > thead > tr,\n",
       ".dataframe > tbody > tr {\n",
       "  text-align: right;\n",
       "  white-space: pre-wrap;\n",
       "}\n",
       "</style>\n",
       "<small>shape: (21_932, 2)</small><table border=\"1\" class=\"dataframe\"><thead><tr><th>title</th><th>count</th></tr><tr><td>str</td><td>u32</td></tr></thead><tbody><tr><td>&quot;So Evil, So Young&quot;</td><td>1</td></tr><tr><td>&quot;Special&quot;</td><td>1</td></tr><tr><td>&quot;Hombre&quot;</td><td>1</td></tr><tr><td>&quot;Catfish&quot;</td><td>1</td></tr><tr><td>&quot;Ratcatcher&quot;</td><td>1</td></tr><tr><td>&quot;The Million Dollar Duck&quot;</td><td>1</td></tr><tr><td>&quot;Morris from America&quot;</td><td>1</td></tr><tr><td>&quot;Portrait of Jason&quot;</td><td>1</td></tr><tr><td>&quot;Death Warrant&quot;</td><td>1</td></tr><tr><td>&quot;Let Him Have It&quot;</td><td>1</td></tr><tr><td>&quot;We Live Again&quot;</td><td>1</td></tr><tr><td>&quot;Bean&quot;</td><td>1</td></tr><tr><td>&hellip;</td><td>&hellip;</td></tr><tr><td>&quot;Carmen&quot;</td><td>52</td></tr><tr><td>&quot;The Stranger&quot;</td><td>60</td></tr><tr><td>&quot;Hamlet&quot;</td><td>64</td></tr><tr><td>&quot;The Hound of the Baskervilles…</td><td>66</td></tr><tr><td>&quot;A Christmas Carol&quot;</td><td>70</td></tr><tr><td>&quot;Treasure Island&quot;</td><td>72</td></tr><tr><td>&quot;Home&quot;</td><td>75</td></tr><tr><td>&quot;Macbeth&quot;</td><td>90</td></tr><tr><td>&quot;Alice in Wonderland&quot;</td><td>104</td></tr><tr><td>&quot;Cinderella&quot;</td><td>105</td></tr><tr><td>&quot;The Three Musketeers&quot;</td><td>105</td></tr><tr><td>&quot;Love&quot;</td><td>144</td></tr></tbody></table></div>"
      ],
      "text/plain": [
       "shape: (21_932, 2)\n",
       "┌──────────────────────┬───────┐\n",
       "│ title                ┆ count │\n",
       "│ ---                  ┆ ---   │\n",
       "│ str                  ┆ u32   │\n",
       "╞══════════════════════╪═══════╡\n",
       "│ So Evil, So Young    ┆ 1     │\n",
       "│ Special              ┆ 1     │\n",
       "│ Hombre               ┆ 1     │\n",
       "│ Catfish              ┆ 1     │\n",
       "│ Ratcatcher           ┆ 1     │\n",
       "│ …                    ┆ …     │\n",
       "│ Macbeth              ┆ 90    │\n",
       "│ Alice in Wonderland  ┆ 104   │\n",
       "│ Cinderella           ┆ 105   │\n",
       "│ The Three Musketeers ┆ 105   │\n",
       "│ Love                 ┆ 144   │\n",
       "└──────────────────────┴───────┘"
      ]
     },
     "execution_count": 29,
     "metadata": {},
     "output_type": "execute_result"
    }
   ],
   "source": [
    "(\n",
    "    df_movies.lazy()\n",
    "    .join(collected_labels.lazy(), left_on=\"original_title\", right_on=\"label\")\n",
    "    .group_by(\"title\").agg(pl.count().alias(\"count\")).sort(\"count\")\n",
    "    .collect()\n",
    ")"
   ]
  },
  {
   "cell_type": "code",
   "execution_count": null,
   "metadata": {},
   "outputs": [],
   "source": []
  }
 ],
 "metadata": {
  "kernelspec": {
   "display_name": "bench-repro",
   "language": "python",
   "name": "python3"
  },
  "language_info": {
   "codemirror_mode": {
    "name": "ipython",
    "version": 3
   },
   "file_extension": ".py",
   "mimetype": "text/x-python",
   "name": "python",
   "nbconvert_exporter": "python",
   "pygments_lexer": "ipython3",
   "version": "3.10.0"
  }
 },
 "nbformat": 4,
 "nbformat_minor": 2
}
