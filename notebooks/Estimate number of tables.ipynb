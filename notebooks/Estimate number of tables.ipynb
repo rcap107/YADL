{
 "cells": [
  {
   "cell_type": "code",
   "execution_count": 1,
   "metadata": {},
   "outputs": [
    {
     "name": "stdout",
     "output_type": "stream",
     "text": [
      "/home/soda/rcappuzz/work/prepare-data-lakes\n"
     ]
    }
   ],
   "source": [
    "%cd /home/soda/rcappuzz/work/prepare-data-lakes"
   ]
  },
  {
   "cell_type": "code",
   "execution_count": 2,
   "metadata": {},
   "outputs": [],
   "source": [
    "import src.yago.utils as utils"
   ]
  },
  {
   "cell_type": "code",
   "execution_count": 3,
   "metadata": {},
   "outputs": [],
   "source": [
    "import re\n",
    "from pathlib import Path\n",
    "\n",
    "import matplotlib.pyplot as plt\n",
    "import networkx as nx\n",
    "import numpy as np\n",
    "import pandas as pd\n",
    "import polars as pl\n",
    "import seaborn as sns\n",
    "from tqdm import tqdm\n",
    "import os\n",
    "import polars.selectors as cs\n",
    "import random\n",
    "\n",
    "from sklearn.utils import murmurhash3_32\n",
    "\n",
    "sns.set_theme(\"paper\", style=\"whitegrid\")"
   ]
  },
  {
   "cell_type": "code",
   "execution_count": 4,
   "metadata": {},
   "outputs": [
    {
     "data": {
      "text/plain": [
       "polars.config.Config"
      ]
     },
     "execution_count": 4,
     "metadata": {},
     "output_type": "execute_result"
    }
   ],
   "source": [
    "cfg = pl.Config()\n",
    "cfg.set_fmt_str_lengths(150)"
   ]
  },
  {
   "cell_type": "code",
   "execution_count": 5,
   "metadata": {},
   "outputs": [],
   "source": [
    "max_fields = 2\n",
    "base_path = Path(\"data/yago3-dl/wordnet_vldb\")"
   ]
  },
  {
   "cell_type": "code",
   "execution_count": 6,
   "metadata": {},
   "outputs": [],
   "source": [
    "list_stats = []\n",
    "for path in Path(base_path).glob(\"*.parquet\"):\n",
    "    this_df = pl.read_parquet(path)\n",
    "    rows, cols = this_df.shape\n",
    "    n_num = this_df.select(cs.numeric()).shape[1]\n",
    "    c_num = this_df.select(~cs.numeric()).shape[1]\n",
    "\n",
    "    list_stats.append(\n",
    "        {\n",
    "            \"rows\": rows,\n",
    "            \"cols\": cols,\n",
    "            \"n_num\": n_num,\n",
    "            \"c_num\": c_num,\n",
    "            \"size\": path.stat().st_size,\n",
    "        }\n",
    "    )\n",
    "df_stats = pl.from_dicts(list_stats)"
   ]
  },
  {
   "cell_type": "code",
   "execution_count": 7,
   "metadata": {},
   "outputs": [
    {
     "data": {
      "text/html": [
       "<div><style>\n",
       ".dataframe > thead > tr,\n",
       ".dataframe > tbody > tr {\n",
       "  text-align: right;\n",
       "  white-space: pre-wrap;\n",
       "}\n",
       "</style>\n",
       "<small>shape: (277, 5)</small><table border=\"1\" class=\"dataframe\"><thead><tr><th>rows</th><th>cols</th><th>n_num</th><th>c_num</th><th>size</th></tr><tr><td>i64</td><td>i64</td><td>i64</td><td>i64</td><td>i64</td></tr></thead><tbody><tr><td>1924</td><td>12</td><td>7</td><td>5</td><td>44718</td></tr><tr><td>2004</td><td>9</td><td>2</td><td>7</td><td>51348</td></tr><tr><td>17979</td><td>12</td><td>5</td><td>7</td><td>347412</td></tr><tr><td>64883</td><td>15</td><td>5</td><td>10</td><td>1849044</td></tr><tr><td>4276</td><td>10</td><td>4</td><td>6</td><td>57275</td></tr><tr><td>782</td><td>10</td><td>4</td><td>6</td><td>20690</td></tr><tr><td>8536</td><td>15</td><td>4</td><td>11</td><td>141852</td></tr><tr><td>2446</td><td>21</td><td>2</td><td>19</td><td>65263</td></tr><tr><td>67</td><td>14</td><td>0</td><td>14</td><td>6151</td></tr><tr><td>173390</td><td>34</td><td>17</td><td>17</td><td>1142554</td></tr><tr><td>74043</td><td>39</td><td>6</td><td>33</td><td>2014692</td></tr><tr><td>103</td><td>13</td><td>0</td><td>13</td><td>8166</td></tr><tr><td>&hellip;</td><td>&hellip;</td><td>&hellip;</td><td>&hellip;</td><td>&hellip;</td></tr><tr><td>24262</td><td>18</td><td>7</td><td>11</td><td>604749</td></tr><tr><td>2213</td><td>9</td><td>2</td><td>7</td><td>56973</td></tr><tr><td>7268</td><td>27</td><td>2</td><td>25</td><td>237027</td></tr><tr><td>1200</td><td>9</td><td>4</td><td>5</td><td>19314</td></tr><tr><td>2446</td><td>10</td><td>4</td><td>6</td><td>64163</td></tr><tr><td>11</td><td>10</td><td>0</td><td>10</td><td>3330</td></tr><tr><td>279</td><td>21</td><td>0</td><td>21</td><td>17177</td></tr><tr><td>9992</td><td>16</td><td>5</td><td>11</td><td>251865</td></tr><tr><td>297</td><td>10</td><td>4</td><td>6</td><td>11577</td></tr><tr><td>5118</td><td>14</td><td>4</td><td>10</td><td>101052</td></tr><tr><td>8782</td><td>26</td><td>2</td><td>24</td><td>210911</td></tr><tr><td>13230</td><td>13</td><td>6</td><td>7</td><td>194748</td></tr></tbody></table></div>"
      ],
      "text/plain": [
       "shape: (277, 5)\n",
       "┌───────┬──────┬───────┬───────┬─────────┐\n",
       "│ rows  ┆ cols ┆ n_num ┆ c_num ┆ size    │\n",
       "│ ---   ┆ ---  ┆ ---   ┆ ---   ┆ ---     │\n",
       "│ i64   ┆ i64  ┆ i64   ┆ i64   ┆ i64     │\n",
       "╞═══════╪══════╪═══════╪═══════╪═════════╡\n",
       "│ 1924  ┆ 12   ┆ 7     ┆ 5     ┆ 44718   │\n",
       "│ 2004  ┆ 9    ┆ 2     ┆ 7     ┆ 51348   │\n",
       "│ 17979 ┆ 12   ┆ 5     ┆ 7     ┆ 347412  │\n",
       "│ 64883 ┆ 15   ┆ 5     ┆ 10    ┆ 1849044 │\n",
       "│ 4276  ┆ 10   ┆ 4     ┆ 6     ┆ 57275   │\n",
       "│ …     ┆ …    ┆ …     ┆ …     ┆ …       │\n",
       "│ 9992  ┆ 16   ┆ 5     ┆ 11    ┆ 251865  │\n",
       "│ 297   ┆ 10   ┆ 4     ┆ 6     ┆ 11577   │\n",
       "│ 5118  ┆ 14   ┆ 4     ┆ 10    ┆ 101052  │\n",
       "│ 8782  ┆ 26   ┆ 2     ┆ 24    ┆ 210911  │\n",
       "│ 13230 ┆ 13   ┆ 6     ┆ 7     ┆ 194748  │\n",
       "└───────┴──────┴───────┴───────┴─────────┘"
      ]
     },
     "execution_count": 7,
     "metadata": {},
     "output_type": "execute_result"
    }
   ],
   "source": [
    "df_stats.filter((pl.col(\"cols\") > 8))"
   ]
  },
  {
   "cell_type": "code",
   "execution_count": 8,
   "metadata": {},
   "outputs": [],
   "source": [
    "df_stats = df_stats.with_columns((pl.col(\"rows\") * pl.col(\"cols\")).alias(\"cells\"))"
   ]
  },
  {
   "cell_type": "code",
   "execution_count": 9,
   "metadata": {},
   "outputs": [
    {
     "data": {
      "text/html": [
       "<div><style>\n",
       ".dataframe > thead > tr,\n",
       ".dataframe > tbody > tr {\n",
       "  text-align: right;\n",
       "  white-space: pre-wrap;\n",
       "}\n",
       "</style>\n",
       "<small>shape: (1, 10)</small><table border=\"1\" class=\"dataframe\"><thead><tr><th>row_median</th><th>col_median</th><th>cell_median</th><th>row_mean</th><th>row_qle</th><th>col_mean</th><th>col_qle</th><th>cell_mean</th><th>cell_qle</th><th>len</th></tr><tr><td>f64</td><td>f64</td><td>f64</td><td>f64</td><td>f64</td><td>f64</td><td>f64</td><td>f64</td><td>f64</td><td>u32</td></tr></thead><tbody><tr><td>1602.0</td><td>14.0</td><td>21380.0</td><td>28057.108303</td><td>9644.0</td><td>15.945848</td><td>22.0</td><td>969297.974729</td><td>171990.0</td><td>277</td></tr></tbody></table></div>"
      ],
      "text/plain": [
       "shape: (1, 10)\n",
       "┌────────────┬────────────┬─────────────┬─────────────┬───┬─────────┬─────────────┬──────────┬─────┐\n",
       "│ row_median ┆ col_median ┆ cell_median ┆ row_mean    ┆ … ┆ col_qle ┆ cell_mean   ┆ cell_qle ┆ len │\n",
       "│ ---        ┆ ---        ┆ ---         ┆ ---         ┆   ┆ ---     ┆ ---         ┆ ---      ┆ --- │\n",
       "│ f64        ┆ f64        ┆ f64         ┆ f64         ┆   ┆ f64     ┆ f64         ┆ f64      ┆ u32 │\n",
       "╞════════════╪════════════╪═════════════╪═════════════╪═══╪═════════╪═════════════╪══════════╪═════╡\n",
       "│ 1602.0     ┆ 14.0       ┆ 21380.0     ┆ 28057.10830 ┆ … ┆ 22.0    ┆ 969297.9747 ┆ 171990.0 ┆ 277 │\n",
       "│            ┆            ┆             ┆ 3           ┆   ┆         ┆ 29          ┆          ┆     │\n",
       "└────────────┴────────────┴─────────────┴─────────────┴───┴─────────┴─────────────┴──────────┴─────┘"
      ]
     },
     "execution_count": 9,
     "metadata": {},
     "output_type": "execute_result"
    }
   ],
   "source": [
    "df_stats.filter(pl.col(\"cols\") > 8).select(\n",
    "    pl.col(\"rows\").median().alias(\"row_median\"),\n",
    "    pl.col(\"cols\").median().alias(\"col_median\"),\n",
    "    pl.col(\"cells\").median().alias(\"cell_median\"),\n",
    "    pl.col(\"rows\").mean().alias(\"row_mean\"),\n",
    "    pl.col(\"rows\").quantile(0.80).alias(\"row_qle\"),\n",
    "    pl.col(\"cols\").mean().alias(\"col_mean\"),\n",
    "    pl.col(\"cols\").quantile(0.80).alias(\"col_qle\"),\n",
    "    pl.col(\"cells\").mean().alias(\"cell_mean\"),\n",
    "    pl.col(\"cells\").quantile(0.80).alias(\"cell_qle\"),\n",
    "    pl.len(),\n",
    ")"
   ]
  },
  {
   "cell_type": "code",
   "execution_count": 10,
   "metadata": {},
   "outputs": [
    {
     "data": {
      "text/html": [
       "<div><style>\n",
       ".dataframe > thead > tr,\n",
       ".dataframe > tbody > tr {\n",
       "  text-align: right;\n",
       "  white-space: pre-wrap;\n",
       "}\n",
       "</style>\n",
       "<small>shape: (869, 6)</small><table border=\"1\" class=\"dataframe\"><thead><tr><th>rows</th><th>cols</th><th>n_num</th><th>c_num</th><th>size</th><th>cells</th></tr><tr><td>i64</td><td>i64</td><td>i64</td><td>i64</td><td>i64</td><td>i64</td></tr></thead><tbody><tr><td>528</td><td>6</td><td>2</td><td>4</td><td>12954</td><td>3168</td></tr><tr><td>1924</td><td>12</td><td>7</td><td>5</td><td>44718</td><td>23088</td></tr><tr><td>7</td><td>5</td><td>2</td><td>3</td><td>1752</td><td>35</td></tr><tr><td>1540</td><td>8</td><td>5</td><td>3</td><td>35791</td><td>12320</td></tr><tr><td>8</td><td>4</td><td>2</td><td>2</td><td>1458</td><td>32</td></tr><tr><td>256</td><td>5</td><td>1</td><td>4</td><td>6165</td><td>1280</td></tr><tr><td>2004</td><td>9</td><td>2</td><td>7</td><td>51348</td><td>18036</td></tr><tr><td>1</td><td>2</td><td>0</td><td>2</td><td>769</td><td>2</td></tr><tr><td>6</td><td>3</td><td>0</td><td>3</td><td>1196</td><td>18</td></tr><tr><td>146</td><td>5</td><td>0</td><td>5</td><td>4037</td><td>730</td></tr><tr><td>7</td><td>4</td><td>0</td><td>4</td><td>1609</td><td>28</td></tr><tr><td>15</td><td>2</td><td>1</td><td>1</td><td>992</td><td>30</td></tr><tr><td>&hellip;</td><td>&hellip;</td><td>&hellip;</td><td>&hellip;</td><td>&hellip;</td><td>&hellip;</td></tr><tr><td>9992</td><td>16</td><td>5</td><td>11</td><td>251865</td><td>159872</td></tr><tr><td>2</td><td>2</td><td>0</td><td>2</td><td>859</td><td>4</td></tr><tr><td>97</td><td>3</td><td>0</td><td>3</td><td>2165</td><td>291</td></tr><tr><td>9174</td><td>6</td><td>2</td><td>4</td><td>196588</td><td>55044</td></tr><tr><td>297</td><td>10</td><td>4</td><td>6</td><td>11577</td><td>2970</td></tr><tr><td>5118</td><td>14</td><td>4</td><td>10</td><td>101052</td><td>71652</td></tr><tr><td>9</td><td>3</td><td>0</td><td>3</td><td>1352</td><td>27</td></tr><tr><td>124</td><td>7</td><td>3</td><td>4</td><td>4615</td><td>868</td></tr><tr><td>165</td><td>6</td><td>1</td><td>5</td><td>6780</td><td>990</td></tr><tr><td>49</td><td>7</td><td>3</td><td>4</td><td>3448</td><td>343</td></tr><tr><td>8782</td><td>26</td><td>2</td><td>24</td><td>210911</td><td>228332</td></tr><tr><td>13230</td><td>13</td><td>6</td><td>7</td><td>194748</td><td>171990</td></tr></tbody></table></div>"
      ],
      "text/plain": [
       "shape: (869, 6)\n",
       "┌───────┬──────┬───────┬───────┬────────┬────────┐\n",
       "│ rows  ┆ cols ┆ n_num ┆ c_num ┆ size   ┆ cells  │\n",
       "│ ---   ┆ ---  ┆ ---   ┆ ---   ┆ ---    ┆ ---    │\n",
       "│ i64   ┆ i64  ┆ i64   ┆ i64   ┆ i64    ┆ i64    │\n",
       "╞═══════╪══════╪═══════╪═══════╪════════╪════════╡\n",
       "│ 528   ┆ 6    ┆ 2     ┆ 4     ┆ 12954  ┆ 3168   │\n",
       "│ 1924  ┆ 12   ┆ 7     ┆ 5     ┆ 44718  ┆ 23088  │\n",
       "│ 7     ┆ 5    ┆ 2     ┆ 3     ┆ 1752   ┆ 35     │\n",
       "│ 1540  ┆ 8    ┆ 5     ┆ 3     ┆ 35791  ┆ 12320  │\n",
       "│ 8     ┆ 4    ┆ 2     ┆ 2     ┆ 1458   ┆ 32     │\n",
       "│ …     ┆ …    ┆ …     ┆ …     ┆ …      ┆ …      │\n",
       "│ 124   ┆ 7    ┆ 3     ┆ 4     ┆ 4615   ┆ 868    │\n",
       "│ 165   ┆ 6    ┆ 1     ┆ 5     ┆ 6780   ┆ 990    │\n",
       "│ 49    ┆ 7    ┆ 3     ┆ 4     ┆ 3448   ┆ 343    │\n",
       "│ 8782  ┆ 26   ┆ 2     ┆ 24    ┆ 210911 ┆ 228332 │\n",
       "│ 13230 ┆ 13   ┆ 6     ┆ 7     ┆ 194748 ┆ 171990 │\n",
       "└───────┴──────┴───────┴───────┴────────┴────────┘"
      ]
     },
     "execution_count": 10,
     "metadata": {},
     "output_type": "execute_result"
    }
   ],
   "source": [
    "df_stats"
   ]
  },
  {
   "cell_type": "code",
   "execution_count": 11,
   "metadata": {},
   "outputs": [],
   "source": [
    "def estimate_size(\n",
    "    df_stats,\n",
    "    resample_rows,\n",
    "    resample_columns,\n",
    "    row_sample_frac=0.7,\n",
    "    min_rows=100,\n",
    "    min_cols=8,\n",
    "):\n",
    "    df_all = df_stats.filter((pl.col(\"cols\") > min_cols))\n",
    "    df_num = df_stats.filter((pl.col(\"cols\") > min_cols) & (pl.col(\"n_num\") >= 2))\n",
    "    \n",
    "    \n",
    "    # Total size considering all columns\n",
    "    tot_size_all = (\n",
    "        # select only the tables with enough columns\n",
    "        df_stats.filter((pl.col(\"cols\") > min_cols))\n",
    "        .with_columns(\n",
    "            # the expected number of rows is given by the starting number of rows \n",
    "            # + the sample fraction x the number of resamplings\n",
    "            exp_rows=pl.col(\"rows\") * ((1 + resample_rows * row_sample_frac)),\n",
    "            # the expected number of columns is the base number of columns - 1 x the number of col resamplings\n",
    "            \n",
    "            exp_cols=((pl.col(\"cols\") + pl.col(\"cols\") - 2) / 2) * resample_columns,\n",
    "            # exp_cols=((pl.col(\"cols\") + pl.col(\"cols\") - 2) / 2),\n",
    "        )\n",
    "        # select only the rows that have enough rows \n",
    "        .filter((pl.col(\"exp_rows\") > min_rows))\n",
    "        .with_columns(\n",
    "            # the expected number of cells is the product of the expected values \n",
    "            # measured above\n",
    "            exp_cells=pl.col(\"exp_rows\") * pl.col(\"exp_cols\"),\n",
    "            # the average cell size is given by the known size x the known number of cells\n",
    "            cell_size=pl.col(\"size\") / pl.col(\"cells\"),\n",
    "        )\n",
    "        # the expected size is the measured cell size x the number of expected cells \n",
    "        .with_columns(exp_size=pl.col(\"cell_size\") * pl.col(\"exp_cells\"))\n",
    "        # find the total expected size by multiplying the expected size by the number of column \n",
    "        .select((pl.col(\"exp_size\") ).sum())\n",
    "        # .select((pl.col(\"exp_size\") * resample_columns).sum())\n",
    "    ).item()\n",
    "\n",
    "    # base operations are the same, but I am adding a filter \n",
    "    tot_size_num = (\n",
    "        df_stats.filter((pl.col(\"cols\") > 8))\n",
    "        # select only those tables that have at least 2 numerical columns\n",
    "        .filter(pl.col(\"n_num\") >= 2)\n",
    "        .with_columns(\n",
    "            exp_rows=pl.col(\"rows\") * ((1 + resample_rows * row_sample_frac)),\n",
    "            min_sample_size=pl.when(pl.col(\"n_num\") > 2)\n",
    "            .then(pl.col(\"n_num\") - 2)\n",
    "            .otherwise(2),\n",
    "            max_sample_size=pl.col(\"n_num\"),\n",
    "        )\n",
    "        .filter((pl.col(\"exp_rows\") > 100))\n",
    "        .with_columns(\n",
    "            exp_cols=(pl.col(\"max_sample_size\") + pl.col(\"min_sample_size\")) / 2 * resample_columns,\n",
    "        )\n",
    "        .with_columns(\n",
    "            exp_cells=pl.col(\"exp_rows\") * pl.col(\"exp_cols\"),\n",
    "            cell_size=pl.col(\"size\") / pl.col(\"cells\"),\n",
    "        )\n",
    "        .with_columns(exp_size=pl.col(\"cell_size\") * pl.col(\"exp_cells\"))\n",
    "        .select((pl.col(\"exp_size\") ).sum())\n",
    "    ).item()\n",
    "\n",
    "    tot_size = tot_size_all + tot_size_num\n",
    "    return tot_size"
   ]
  },
  {
   "cell_type": "code",
   "execution_count": 12,
   "metadata": {},
   "outputs": [
    {
     "name": "stdout",
     "output_type": "stream",
     "text": [
      "##### Number of subtables: 1 - Resamplings by subtable: 2 \n",
      "Approximate size: 0.51 GB\n",
      "Approximate number of tables: 1176\n",
      "##### Number of subtables: 3 - Resamplings by subtable: 2 \n",
      "Approximate size: 1.52 GB\n",
      "Approximate number of tables: 3528\n",
      "##### Number of subtables: 5 - Resamplings by subtable: 2 \n",
      "Approximate size: 2.53 GB\n",
      "Approximate number of tables: 5880\n",
      "##### Number of subtables: 10 - Resamplings by subtable: 2 \n",
      "Approximate size: 5.06 GB\n",
      "Approximate number of tables: 11760\n",
      "##### Number of subtables: 30 - Resamplings by subtable: 2 \n",
      "Approximate size: 15.17 GB\n",
      "Approximate number of tables: 35280\n",
      "##### Number of subtables: 50 - Resamplings by subtable: 2 \n",
      "Approximate size: 25.28 GB\n",
      "Approximate number of tables: 58800\n",
      "##### Number of subtables: 100 - Resamplings by subtable: 2 \n",
      "Approximate size: 50.56 GB\n",
      "Approximate number of tables: 117600\n"
     ]
    }
   ],
   "source": [
    "min_rows =50\n",
    "min_columns = 8\n",
    "resample_rows = 2\n",
    "\n",
    "for rc in [1, 3, 5, 10, 30, 50, 100]:\n",
    "    tot_size = estimate_size(df_stats, resample_rows, rc)\n",
    "    \n",
    "    n_all_tables = len(\n",
    "    df_stats\n",
    "    .filter((pl.col(\"rows\") > min_rows) & (pl.col(\"cols\") > min_columns))\n",
    "    )\n",
    "    n_num_tables = len(\n",
    "        df_stats\n",
    "        .filter((pl.col(\"rows\") > min_rows) & (pl.col(\"cols\") > min_columns))\n",
    "        .filter(\n",
    "            pl.col(\"n_num\") > 2\n",
    "        )\n",
    "    )\n",
    "    tot_tables = (n_num_tables + n_all_tables) * (resample_rows + 1) * rc\n",
    "    \n",
    "    print(f\"##### Number of subtables: {rc} - Resamplings by subtable: {resample_rows} \")\n",
    "    print(f\"Approximate size: {tot_size/1e9:.2f} GB\")\n",
    "    print(f\"Approximate number of tables: {tot_tables}\")"
   ]
  },
  {
   "cell_type": "code",
   "execution_count": null,
   "metadata": {},
   "outputs": [],
   "source": []
  }
 ],
 "metadata": {
  "kernelspec": {
   "display_name": "Python 3",
   "language": "python",
   "name": "python3"
  },
  "language_info": {
   "codemirror_mode": {
    "name": "ipython",
    "version": 3
   },
   "file_extension": ".py",
   "mimetype": "text/x-python",
   "name": "python",
   "nbconvert_exporter": "python",
   "pygments_lexer": "ipython3",
   "version": "3.10.0"
  }
 },
 "nbformat": 4,
 "nbformat_minor": 2
}
