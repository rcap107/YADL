{
 "cells": [
  {
   "cell_type": "code",
   "execution_count": 2,
   "metadata": {},
   "outputs": [
    {
     "name": "stdout",
     "output_type": "stream",
     "text": [
      "/home/soda/rcappuzz/work/prepare-data-lakes\n"
     ]
    }
   ],
   "source": [
    "%cd .."
   ]
  },
  {
   "cell_type": "code",
   "execution_count": 3,
   "metadata": {},
   "outputs": [],
   "source": [
    "%load_ext autoreload\n",
    "%autoreload 2\n",
    "import src.yago.utils as utils"
   ]
  },
  {
   "cell_type": "code",
   "execution_count": 4,
   "metadata": {},
   "outputs": [],
   "source": [
    "import seaborn as sns\n",
    "import matplotlib.pyplot as plt\n",
    "import networkx as nx\n",
    "import pandas as pd\n",
    "import polars as pl\n",
    "from pathlib import Path\n",
    "import numpy as np\n",
    "from tqdm import tqdm"
   ]
  },
  {
   "cell_type": "code",
   "execution_count": 5,
   "metadata": {},
   "outputs": [],
   "source": [
    "yago_path = Path(\"/storage/store3/work/jstojano/yago3/\")\n",
    "facts1_path = Path(yago_path, \"facts_parquet/yago_updated_2022_part1\")\n",
    "facts2_path = Path(yago_path, \"facts_parquet/yago_updated_2022_part2\")"
   ]
  },
  {
   "cell_type": "markdown",
   "metadata": {},
   "source": [
    "## Reading yago triplets"
   ]
  },
  {
   "cell_type": "code",
   "execution_count": 6,
   "metadata": {},
   "outputs": [],
   "source": [
    "fname = \"yagoFacts\"\n",
    "yagofacts_path = Path(facts2_path, f\"{fname}.tsv.parquet\")\n",
    "yagofacts = utils.import_from_yago(yagofacts_path, engine=\"polars\")"
   ]
  },
  {
   "cell_type": "code",
   "execution_count": 7,
   "metadata": {},
   "outputs": [],
   "source": [
    "fname = \"yagoTypes\"\n",
    "yagotypes_path = Path(facts1_path, f\"{fname}.tsv.parquet\")\n",
    "yagotypes = utils.import_from_yago(yagotypes_path, engine=\"polars\")\n"
   ]
  },
  {
   "attachments": {},
   "cell_type": "markdown",
   "metadata": {},
   "source": [
    "## Some profiling"
   ]
  },
  {
   "attachments": {},
   "cell_type": "markdown",
   "metadata": {},
   "source": [
    "### Predicates"
   ]
  },
  {
   "cell_type": "code",
   "execution_count": 8,
   "metadata": {},
   "outputs": [
    {
     "name": "stdout",
     "output_type": "stream",
     "text": [
      "shape: (37, 1)\n",
      "┌───────────────────────┐\n",
      "│ predicate             │\n",
      "│ ---                   │\n",
      "│ str                   │\n",
      "╞═══════════════════════╡\n",
      "│ <playsFor>            │\n",
      "│ <hasOfficialLanguage> │\n",
      "│ <wasBornIn>           │\n",
      "│ <isKnownFor>          │\n",
      "│ …                     │\n",
      "│ <graduatedFrom>       │\n",
      "│ <hasWonPrize>         │\n",
      "│ <exports>             │\n",
      "│ <isAffiliatedTo>      │\n",
      "└───────────────────────┘\n"
     ]
    }
   ],
   "source": [
    "unique_facts = utils.find_unique_predicates(yagofacts)\n",
    "print(unique_facts)"
   ]
  },
  {
   "attachments": {},
   "cell_type": "markdown",
   "metadata": {},
   "source": [
    "These predicates will be used as `attributes` in the wide-form version of YAGO. "
   ]
  },
  {
   "cell_type": "code",
   "execution_count": 9,
   "metadata": {},
   "outputs": [
    {
     "name": "stdout",
     "output_type": "stream",
     "text": [
      "shape: (37, 2)\n",
      "┌───────────────────────┬─────────┐\n",
      "│ predicate             ┆ count   │\n",
      "│ ---                   ┆ ---     │\n",
      "│ str                   ┆ u32     │\n",
      "╞═══════════════════════╪═════════╡\n",
      "│ <isLocatedIn>         ┆ 3289399 │\n",
      "│ <isCitizenOf>         ┆ 2390826 │\n",
      "│ <hasGender>           ┆ 2016273 │\n",
      "│ <isAffiliatedTo>      ┆ 1569882 │\n",
      "│ …                     ┆ …       │\n",
      "│ <hasOfficialLanguage> ┆ 989     │\n",
      "│ <exports>             ┆ 714     │\n",
      "│ <hasNeighbor>         ┆ 598     │\n",
      "│ <imports>             ┆ 481     │\n",
      "└───────────────────────┴─────────┘\n"
     ]
    }
   ],
   "source": [
    "count_facts=utils.count_occurrences_by_columns(yagofacts, \"predicate\")\n",
    "print(count_facts)"
   ]
  },
  {
   "cell_type": "markdown",
   "metadata": {},
   "source": [
    "Selecting only the top 10 facts to work with. "
   ]
  },
  {
   "cell_type": "code",
   "execution_count": 10,
   "metadata": {},
   "outputs": [],
   "source": [
    "top10facts = count_facts.head(10)"
   ]
  },
  {
   "cell_type": "markdown",
   "metadata": {},
   "source": [
    "### Types"
   ]
  },
  {
   "cell_type": "code",
   "execution_count": 11,
   "metadata": {},
   "outputs": [],
   "source": [
    "unique_types = utils.count_occurrences_by_columns(yagotypes, \"cat_object\")"
   ]
  },
  {
   "cell_type": "code",
   "execution_count": 15,
   "metadata": {},
   "outputs": [],
   "source": [
    "top10types= unique_types.head(10)"
   ]
  },
  {
   "attachments": {},
   "cell_type": "markdown",
   "metadata": {},
   "source": [
    "While looking at entity types, count the number of types each entity has and select the first for each of them. "
   ]
  },
  {
   "cell_type": "code",
   "execution_count": 16,
   "metadata": {},
   "outputs": [
    {
     "data": {
      "text/html": [
       "<div><style>\n",
       ".dataframe > thead > tr > th,\n",
       ".dataframe > tbody > tr > td {\n",
       "  text-align: right;\n",
       "}\n",
       "</style>\n",
       "<small>shape: (6089862, 3)</small><table border=\"1\" class=\"dataframe\"><thead><tr><th>subject</th><th>cat_object</th><th>count</th></tr><tr><td>str</td><td>str</td><td>u32</td></tr></thead><tbody><tr><td>&quot;&lt;First_Geneva_…</td><td>&quot;&lt;wikicat_Treat…</td><td>244</td></tr><tr><td>&quot;&lt;Third_Geneva_…</td><td>&quot;&lt;wikicat_Treat…</td><td>243</td></tr><tr><td>&quot;&lt;Second_Geneva…</td><td>&quot;&lt;wikicat_Treat…</td><td>242</td></tr><tr><td>&quot;&lt;Fourth_Geneva…</td><td>&quot;&lt;wikicat_Treat…</td><td>241</td></tr><tr><td>&quot;&lt;Treaty_of_Ber…</td><td>&quot;&lt;wikicat_Treat…</td><td>240</td></tr><tr><td>&quot;&lt;Convention_fo…</td><td>&quot;&lt;wikicat_Treat…</td><td>231</td></tr><tr><td>&quot;&lt;Hague_Hijacki…</td><td>&quot;&lt;wikicat_Treat…</td><td>229</td></tr><tr><td>&quot;&lt;Montreal_Prot…</td><td>&quot;&lt;wikicat_Treat…</td><td>229</td></tr><tr><td>&quot;&lt;Vienna_Conven…</td><td>&quot;&lt;wikicat_Treat…</td><td>228</td></tr><tr><td>&quot;&lt;Supplementary…</td><td>&quot;&lt;wikicat_Treat…</td><td>228</td></tr><tr><td>&quot;&lt;Convention_on…</td><td>&quot;&lt;wikicat_Treat…</td><td>227</td></tr><tr><td>&quot;&lt;Abolition_of_…</td><td>&quot;&lt;wikicat_Treat…</td><td>225</td></tr><tr><td>&hellip;</td><td>&hellip;</td><td>&hellip;</td></tr><tr><td>&quot;&lt;fr/Califat_de…</td><td>&quot;&lt;wikicat_Organ…</td><td>1</td></tr><tr><td>&quot;&lt;Epiphone_Jack…</td><td>&quot;&lt;wordnet_model…</td><td>1</td></tr><tr><td>&quot;&lt;Bathyanthias&gt;…</td><td>&quot;&lt;wikicat_Ray-f…</td><td>1</td></tr><tr><td>&quot;&lt;Notozomus&gt;&quot;</td><td>&quot;&lt;wikicat_Schiz…</td><td>1</td></tr><tr><td>&quot;&lt;fr/Patinoire_…</td><td>&quot;&lt;wikicat_Sport…</td><td>1</td></tr><tr><td>&quot;&lt;fr/Frank_Tapi…</td><td>&quot;&lt;wordnet_perso…</td><td>1</td></tr><tr><td>&quot;&lt;fr/Coppa_Agos…</td><td>&quot;&lt;wordnet_repor…</td><td>1</td></tr><tr><td>&quot;&lt;Turks_(TV_ser…</td><td>&quot;&lt;wordnet_telev…</td><td>1</td></tr><tr><td>&quot;&lt;1979_Hitachi_…</td><td>&quot;&lt;wikicat_Formu…</td><td>1</td></tr><tr><td>&quot;&lt;2021_Copa_do_…</td><td>&quot;&lt;wordnet_seaso…</td><td>1</td></tr><tr><td>&quot;&lt;Isoeugenol_sy…</td><td>&quot;&lt;wordnet_enzym…</td><td>1</td></tr><tr><td>&quot;&lt;1837_in_Irela…</td><td>&quot;&lt;wikicat_Years…</td><td>1</td></tr></tbody></table></div>"
      ],
      "text/plain": [
       "shape: (6089862, 3)\n",
       "┌────────────────────────────┬───────────────────────────────────┬───────┐\n",
       "│ subject                    ┆ cat_object                        ┆ count │\n",
       "│ ---                        ┆ ---                               ┆ ---   │\n",
       "│ str                        ┆ str                               ┆ u32   │\n",
       "╞════════════════════════════╪═══════════════════════════════════╪═══════╡\n",
       "│ <First_Geneva_Convention>  ┆ <wikicat_Treaties_of_Indonesia>   ┆ 244   │\n",
       "│ <Third_Geneva_Convention>  ┆ <wikicat_Treaties_of_the_Marshal… ┆ 243   │\n",
       "│ <Second_Geneva_Convention> ┆ <wikicat_Treaties_of_Indonesia>   ┆ 242   │\n",
       "│ <Fourth_Geneva_Convention> ┆ <wikicat_Treaties_of_the_Marshal… ┆ 241   │\n",
       "│ …                          ┆ …                                 ┆ …     │\n",
       "│ <1979_Hitachi_Trophy>      ┆ <wikicat_Formula_Two_races>       ┆ 1     │\n",
       "│ <2021_Copa_do_Nordeste>    ┆ <wordnet_season_115239579>        ┆ 1     │\n",
       "│ <Isoeugenol_synthase>      ┆ <wordnet_enzyme_114732946>        ┆ 1     │\n",
       "│ <1837_in_Ireland>          ┆ <wikicat_Years_of_the_19th_centu… ┆ 1     │\n",
       "└────────────────────────────┴───────────────────────────────────┴───────┘"
      ]
     },
     "execution_count": 16,
     "metadata": {},
     "output_type": "execute_result"
    }
   ],
   "source": [
    "(yagotypes.lazy().groupby(\n",
    "    \"subject\"\n",
    ").agg(\n",
    "    [\n",
    "        pl.first(\"cat_object\"),\n",
    "        pl.count()\n",
    "    ]\n",
    ").sort(\"count\", descending=True).collect())"
   ]
  },
  {
   "cell_type": "code",
   "execution_count": 15,
   "metadata": {},
   "outputs": [],
   "source": [
    "most_frequent_types=(yagotypes.lazy().filter(\n",
    "    pl.col(\"cat_object\").is_in(top10types[\"cat_object\"])\n",
    ").groupby(\"subject\").agg(\n",
    "    pl.first()\n",
    ").select(pl.col(\"subject\")).collect())"
   ]
  },
  {
   "cell_type": "code",
   "execution_count": 16,
   "metadata": {},
   "outputs": [
    {
     "data": {
      "text/html": [
       "<div><style>\n",
       ".dataframe > thead > tr > th,\n",
       ".dataframe > tbody > tr > td {\n",
       "  text-align: right;\n",
       "}\n",
       "</style>\n",
       "<small>shape: (3089318, 1)</small><table border=\"1\" class=\"dataframe\"><thead><tr><th>subject</th></tr><tr><td>str</td></tr></thead><tbody><tr><td>&quot;&lt;Panoptic_Mode...</td></tr><tr><td>&quot;&lt;Fei_Shi_(Thre...</td></tr><tr><td>&quot;&lt;Novačka&gt;&quot;</td></tr><tr><td>&quot;&lt;Aron_Mkungilw...</td></tr><tr><td>&quot;&lt;Duwarka&gt;&quot;</td></tr><tr><td>&quot;&lt;Saint-David,_...</td></tr><tr><td>&quot;&lt;Morrisson_(si...</td></tr><tr><td>&quot;&lt;2010–11_Greek...</td></tr><tr><td>&quot;&lt;Yolanda_López...</td></tr><tr><td>&quot;&lt;Billy_Thomson...</td></tr><tr><td>&quot;&lt;Chillerama&gt;&quot;</td></tr><tr><td>&quot;&lt;Hava_Aney_Dey...</td></tr><tr><td>&hellip;</td></tr><tr><td>&quot;&lt;Fast_Forward_...</td></tr><tr><td>&quot;&lt;Clearwater_To...</td></tr><tr><td>&quot;&lt;Rose_Island_(...</td></tr><tr><td>&quot;&lt;John_Dempster...</td></tr><tr><td>&quot;&lt;Ghana_Nationa...</td></tr><tr><td>&quot;&lt;fr/Šárka_Barb...</td></tr><tr><td>&quot;&lt;Linus_Heidegg...</td></tr><tr><td>&quot;&lt;Fatsah_Ouguer...</td></tr><tr><td>&quot;&lt;Hydrophonic_(...</td></tr><tr><td>&quot;&lt;Dannette_Lein...</td></tr><tr><td>&quot;&lt;fr/Kermin_Gua...</td></tr><tr><td>&quot;&lt;Luke_O&#x27;Nien&gt;&quot;</td></tr></tbody></table></div>"
      ],
      "text/plain": [
       "shape: (3089318, 1)\n",
       "┌───────────────────────────────────┐\n",
       "│ subject                           │\n",
       "│ ---                               │\n",
       "│ str                               │\n",
       "╞═══════════════════════════════════╡\n",
       "│ <Panoptic_Modes>                  │\n",
       "│ <Fei_Shi_(Three_Kingdoms)>        │\n",
       "│ <Novačka>                         │\n",
       "│ <Aron_Mkungilwa>                  │\n",
       "│ …                                 │\n",
       "│ <Hydrophonic_(Soup_Dragons_album… │\n",
       "│ <Dannette_Leininger>              │\n",
       "│ <fr/Kermin_Guardia>               │\n",
       "│ <Luke_O'Nien>                     │\n",
       "└───────────────────────────────────┘"
      ]
     },
     "execution_count": 16,
     "metadata": {},
     "output_type": "execute_result"
    }
   ],
   "source": [
    "yagotypes.lazy().filter(\n",
    "    pl.col(\"cat_object\").is_in(top10types[\"cat_object\"])\n",
    ").select(\n",
    "    pl.col(\"subject\").unique()\n",
    ").collect()"
   ]
  },
  {
   "cell_type": "markdown",
   "metadata": {},
   "source": [
    "## Filter facts to include only frequent types"
   ]
  },
  {
   "attachments": {},
   "cell_type": "markdown",
   "metadata": {},
   "source": [
    "\n",
    "\n",
    "\n",
    "\n",
    "\n",
    "\n",
    "\n",
    "\n",
    "\n",
    "\n",
    "\n",
    "\n",
    "\n",
    "\n",
    "\n",
    "\n",
    "\n",
    "\n",
    "\n",
    "\n",
    "\n",
    "Here I am filtering the subjects to keep only those whose type is in `most_frequent_types`. "
   ]
  },
  {
   "cell_type": "code",
   "execution_count": 17,
   "metadata": {},
   "outputs": [],
   "source": [
    "yagofacts_frequenttypes=(yagofacts.lazy().filter(\n",
    "    pl.col(\"subject\").is_in(most_frequent_types[\"subject\"])\n",
    ").collect())"
   ]
  },
  {
   "cell_type": "code",
   "execution_count": 18,
   "metadata": {},
   "outputs": [
    {
     "name": "stdout",
     "output_type": "stream",
     "text": [
      "<hasWonPrize>\n",
      "<isLocatedIn>\n",
      "<hasOfficialLanguage>\n",
      "<imports>\n",
      "<graduatedFrom>\n",
      "<playsFor>\n",
      "<actedIn>\n",
      "<wasBornIn>\n",
      "<hasCurrency>\n",
      "<happenedIn>\n",
      "<isCitizenOf>\n",
      "<exports>\n",
      "<hasChild>\n",
      "<isLeaderOf>\n",
      "<hasCapital>\n",
      "<directed>\n",
      "<wroteMusicFor>\n",
      "<diedIn>\n",
      "<created>\n",
      "<isConnectedTo>\n",
      "<participatedIn>\n",
      "<worksAt>\n",
      "<hasGender>\n",
      "<dealsWith>\n",
      "<hasAcademicAdvisor>\n",
      "<hasWebsite>\n",
      "<isMarriedTo>\n",
      "<livesIn>\n",
      "<owns>\n",
      "<isAffiliatedTo>\n",
      "<isPoliticianOf>\n",
      "<isKnownFor>\n",
      "<edited>\n",
      "<influences>\n",
      "<hasMusicalRole>\n",
      "<isInterestedIn>\n"
     ]
    }
   ],
   "source": [
    "pair_tab_list = []\n",
    "groups = yagofacts_frequenttypes.groupby(\"predicate\")\n",
    "for group_name, group in groups:\n",
    "    print(group_name)\n",
    "    pair_tab=group.select(\n",
    "    [    pl.col(\"subject\").alias(\"subject\"),\n",
    "        pl.col(\"cat_object\").alias(group_name),\n",
    "    ])\n",
    "    pair_tab_list.append(pair_tab)"
   ]
  },
  {
   "attachments": {},
   "cell_type": "markdown",
   "metadata": {},
   "source": [
    "Here I am executing a self-join on `yagofacts_frequenttypes` to generate pairs of `predicate`s: these are the cases in \n",
    "which one `subject` has multiple `predicate`s, and these predicates co-occur. \n",
    "\n",
    "The reason why I am extracting these pairs is because this ensures that I can build tables by joining on the `subject`. "
   ]
  },
  {
   "cell_type": "code",
   "execution_count": 19,
   "metadata": {},
   "outputs": [],
   "source": [
    "cooccurring_predicates=(yagofacts_frequenttypes.lazy().join(\n",
    "    yagofacts_frequenttypes.lazy(), left_on=\"subject\",\n",
    "    right_on=\"subject\", how=\"left\"\n",
    ").select(\n",
    "    [\n",
    "        pl.col(\"predicate\"),\n",
    "        pl.col(\"predicate_right\")\n",
    "    ]\n",
    ").groupby(\"predicate_right\").agg(\n",
    "    pl.first(\"predicate\")\n",
    ").collect())"
   ]
  },
  {
   "cell_type": "code",
   "execution_count": 20,
   "metadata": {},
   "outputs": [
    {
     "data": {
      "text/html": [
       "<div><style>\n",
       ".dataframe > thead > tr > th,\n",
       ".dataframe > tbody > tr > td {\n",
       "  text-align: right;\n",
       "}\n",
       "</style>\n",
       "<small>shape: (10, 2)</small><table border=\"1\" class=\"dataframe\"><thead><tr><th>predicate_right</th><th>predicate</th></tr><tr><td>str</td><td>str</td></tr></thead><tbody><tr><td>&quot;&lt;wasBornIn&gt;&quot;</td><td>&quot;&lt;isLeaderOf&gt;&quot;</td></tr><tr><td>&quot;&lt;livesIn&gt;&quot;</td><td>&quot;&lt;isLeaderOf&gt;&quot;</td></tr><tr><td>&quot;&lt;isLeaderOf&gt;&quot;</td><td>&quot;&lt;isLeaderOf&gt;&quot;</td></tr><tr><td>&quot;&lt;imports&gt;&quot;</td><td>&quot;&lt;owns&gt;&quot;</td></tr><tr><td>&quot;&lt;isMarriedTo&gt;&quot;</td><td>&quot;&lt;isLeaderOf&gt;&quot;</td></tr><tr><td>&quot;&lt;isKnownFor&gt;&quot;</td><td>&quot;&lt;isLeaderOf&gt;&quot;</td></tr><tr><td>&quot;&lt;hasChild&gt;&quot;</td><td>&quot;&lt;isLeaderOf&gt;&quot;</td></tr><tr><td>&quot;&lt;exports&gt;&quot;</td><td>&quot;&lt;owns&gt;&quot;</td></tr><tr><td>&quot;&lt;hasWebsite&gt;&quot;</td><td>&quot;&lt;isLeaderOf&gt;&quot;</td></tr><tr><td>&quot;&lt;hasCurrency&gt;&quot;</td><td>&quot;&lt;owns&gt;&quot;</td></tr></tbody></table></div>"
      ],
      "text/plain": [
       "shape: (10, 2)\n",
       "┌─────────────────┬──────────────┐\n",
       "│ predicate_right ┆ predicate    │\n",
       "│ ---             ┆ ---          │\n",
       "│ str             ┆ str          │\n",
       "╞═════════════════╪══════════════╡\n",
       "│ <wasBornIn>     ┆ <isLeaderOf> │\n",
       "│ <livesIn>       ┆ <isLeaderOf> │\n",
       "│ <isLeaderOf>    ┆ <isLeaderOf> │\n",
       "│ <imports>       ┆ <owns>       │\n",
       "│ …               ┆ …            │\n",
       "│ <hasChild>      ┆ <isLeaderOf> │\n",
       "│ <exports>       ┆ <owns>       │\n",
       "│ <hasWebsite>    ┆ <isLeaderOf> │\n",
       "│ <hasCurrency>   ┆ <owns>       │\n",
       "└─────────────────┴──────────────┘"
      ]
     },
     "execution_count": 20,
     "metadata": {},
     "output_type": "execute_result"
    }
   ],
   "source": [
    "cooccurring_predicates.head(10)"
   ]
  },
  {
   "cell_type": "markdown",
   "metadata": {},
   "source": [
    "## Plotting co-occurring pairs"
   ]
  },
  {
   "attachments": {},
   "cell_type": "markdown",
   "metadata": {},
   "source": [
    "Here I am trying to build a histogram that shows the pairs of columns that appear together the most, and those that never\n",
    "co-occur. First off, I am looking for \"at least one co-occurrence\". As I'll show later, this is not very insightful \n",
    "because there is a huge variance in the co-occurrence frequency. "
   ]
  },
  {
   "cell_type": "code",
   "execution_count": 21,
   "metadata": {},
   "outputs": [],
   "source": [
    "sample_cooccurring=(yagofacts_frequenttypes.lazy().join(\n",
    "    yagofacts_frequenttypes.lazy(), left_on=\"subject\",\n",
    "    right_on=\"subject\", how=\"left\"\n",
    ").select(\n",
    "    [\n",
    "        pl.col(\"predicate\"),\n",
    "        pl.col(\"predicate_right\")\n",
    "    ]\n",
    ").groupby(\n",
    "    [\n",
    "        \"predicate\",\n",
    "        \"predicate_right\"\n",
    "    ]\n",
    ").all().collect())"
   ]
  },
  {
   "cell_type": "code",
   "execution_count": 22,
   "metadata": {},
   "outputs": [
    {
     "data": {
      "text/html": [
       "<div><style>\n",
       ".dataframe > thead > tr > th,\n",
       ".dataframe > tbody > tr > td {\n",
       "  text-align: right;\n",
       "}\n",
       "</style>\n",
       "<small>shape: (804, 2)</small><table border=\"1\" class=\"dataframe\"><thead><tr><th>predicate</th><th>predicate_right</th></tr><tr><td>str</td><td>str</td></tr></thead><tbody><tr><td>&quot;&lt;imports&gt;&quot;</td><td>&quot;&lt;hasCurrency&gt;&quot;</td></tr><tr><td>&quot;&lt;isAffiliatedT...</td><td>&quot;&lt;diedIn&gt;&quot;</td></tr><tr><td>&quot;&lt;directed&gt;&quot;</td><td>&quot;&lt;participatedI...</td></tr><tr><td>&quot;&lt;graduatedFrom...</td><td>&quot;&lt;isKnownFor&gt;&quot;</td></tr><tr><td>&quot;&lt;hasWebsite&gt;&quot;</td><td>&quot;&lt;hasWonPrize&gt;&quot;</td></tr><tr><td>&quot;&lt;hasMusicalRol...</td><td>&quot;&lt;playsFor&gt;&quot;</td></tr><tr><td>&quot;&lt;hasWonPrize&gt;&quot;</td><td>&quot;&lt;isAffiliatedT...</td></tr><tr><td>&quot;&lt;isKnownFor&gt;&quot;</td><td>&quot;&lt;isAffiliatedT...</td></tr><tr><td>&quot;&lt;isPoliticianO...</td><td>&quot;&lt;isCitizenOf&gt;&quot;</td></tr><tr><td>&quot;&lt;livesIn&gt;&quot;</td><td>&quot;&lt;hasWonPrize&gt;&quot;</td></tr><tr><td>&quot;&lt;worksAt&gt;&quot;</td><td>&quot;&lt;isPoliticianO...</td></tr><tr><td>&quot;&lt;hasWonPrize&gt;&quot;</td><td>&quot;&lt;graduatedFrom...</td></tr><tr><td>&hellip;</td><td>&hellip;</td></tr><tr><td>&quot;&lt;isLocatedIn&gt;&quot;</td><td>&quot;&lt;exports&gt;&quot;</td></tr><tr><td>&quot;&lt;influences&gt;&quot;</td><td>&quot;&lt;influences&gt;&quot;</td></tr><tr><td>&quot;&lt;hasWebsite&gt;&quot;</td><td>&quot;&lt;hasCapital&gt;&quot;</td></tr><tr><td>&quot;&lt;dealsWith&gt;&quot;</td><td>&quot;&lt;isLocatedIn&gt;&quot;</td></tr><tr><td>&quot;&lt;playsFor&gt;&quot;</td><td>&quot;&lt;hasAcademicAd...</td></tr><tr><td>&quot;&lt;isPoliticianO...</td><td>&quot;&lt;isMarriedTo&gt;&quot;</td></tr><tr><td>&quot;&lt;isMarriedTo&gt;&quot;</td><td>&quot;&lt;directed&gt;&quot;</td></tr><tr><td>&quot;&lt;actedIn&gt;&quot;</td><td>&quot;&lt;directed&gt;&quot;</td></tr><tr><td>&quot;&lt;isPoliticianO...</td><td>&quot;&lt;actedIn&gt;&quot;</td></tr><tr><td>&quot;&lt;isLocatedIn&gt;&quot;</td><td>&quot;&lt;hasOfficialLa...</td></tr><tr><td>&quot;&lt;diedIn&gt;&quot;</td><td>&quot;&lt;isAffiliatedT...</td></tr><tr><td>&quot;&lt;worksAt&gt;&quot;</td><td>&quot;&lt;isInterestedI...</td></tr></tbody></table></div>"
      ],
      "text/plain": [
       "shape: (804, 2)\n",
       "┌──────────────────┬───────────────────────┐\n",
       "│ predicate        ┆ predicate_right       │\n",
       "│ ---              ┆ ---                   │\n",
       "│ str              ┆ str                   │\n",
       "╞══════════════════╪═══════════════════════╡\n",
       "│ <imports>        ┆ <hasCurrency>         │\n",
       "│ <isAffiliatedTo> ┆ <diedIn>              │\n",
       "│ <directed>       ┆ <participatedIn>      │\n",
       "│ <graduatedFrom>  ┆ <isKnownFor>          │\n",
       "│ …                ┆ …                     │\n",
       "│ <isPoliticianOf> ┆ <actedIn>             │\n",
       "│ <isLocatedIn>    ┆ <hasOfficialLanguage> │\n",
       "│ <diedIn>         ┆ <isAffiliatedTo>      │\n",
       "│ <worksAt>        ┆ <isInterestedIn>      │\n",
       "└──────────────────┴───────────────────────┘"
      ]
     },
     "execution_count": 22,
     "metadata": {},
     "output_type": "execute_result"
    }
   ],
   "source": [
    "sample_cooccurring"
   ]
  },
  {
   "cell_type": "code",
   "execution_count": 24,
   "metadata": {},
   "outputs": [],
   "source": [
    "cooccurring_predicates=(yagofacts_frequenttypes.lazy().join(\n",
    "    yagofacts_frequenttypes.lazy(), left_on=\"subject\",\n",
    "    right_on=\"subject\", how=\"left\"\n",
    ").select(\n",
    "    [\n",
    "        pl.col(\"predicate\"),\n",
    "        pl.col(\"predicate_right\")\n",
    "    ]\n",
    ").collect())"
   ]
  },
  {
   "cell_type": "markdown",
   "metadata": {},
   "source": [
    "The size of this self-join is pretty large."
   ]
  },
  {
   "cell_type": "code",
   "execution_count": 25,
   "metadata": {},
   "outputs": [
    {
     "data": {
      "text/plain": [
       "(152441548, 2)"
      ]
     },
     "execution_count": 25,
     "metadata": {},
     "output_type": "execute_result"
    }
   ],
   "source": [
    "cooccurring_predicates.shape"
   ]
  },
  {
   "attachments": {},
   "cell_type": "markdown",
   "metadata": {},
   "source": [
    "Then, I am counting the number of occurrences of each pair of predicates. "
   ]
  },
  {
   "cell_type": "code",
   "execution_count": 26,
   "metadata": {},
   "outputs": [],
   "source": [
    "count_cooccurring_predicates=(cooccurring_predicates.lazy().groupby(\n",
    "    [\"predicate\",\"predicate_right\"]\n",
    ").agg(\n",
    "    pl.count()\n",
    ").sort(\"count\", descending=True).collect())"
   ]
  },
  {
   "attachments": {},
   "cell_type": "markdown",
   "metadata": {},
   "source": [
    "As the plot above attests, there is a huge difference in the number of occurrences of each pair: the most frequent pairs\n",
    "are found millions of times, the least frequent pairs appear as few as once. \n",
    "\n",
    "To account for this, the heatmap has a log-normalized color bar."
   ]
  },
  {
   "attachments": {},
   "cell_type": "markdown",
   "metadata": {},
   "source": [
    "## Join predicates with types"
   ]
  },
  {
   "cell_type": "code",
   "execution_count": 38,
   "metadata": {},
   "outputs": [],
   "source": [
    "types_predicates=(yagotypes.lazy().filter(\n",
    "        pl.col(\"cat_object\").is_in(top10types[\"cat_object\"])\n",
    "    ).join(\n",
    "        yagofacts.lazy(),\n",
    "        left_on=\"subject\",\n",
    "        right_on=\"subject\",\n",
    "        how=\"left\"\n",
    "    ).select(\n",
    "        pl.col(\"subject\"),\n",
    "        pl.col(\"cat_object\").alias(\"type\"),\n",
    "        pl.col(\"predicate_right\").alias(\"predicate\")\n",
    "    ).unique(\n",
    "        ).drop_nulls(\n",
    "            ).select(\n",
    "                [\n",
    "                    pl.col(\"type\"),\n",
    "                    pl.col(\"predicate\")\n",
    "                ]\n",
    "            ).groupby(\n",
    "                [\n",
    "                    pl.col(\"type\"),\n",
    "                    pl.col(\"predicate\")\n",
    "                ]\n",
    "            ).agg(\n",
    "                [\n",
    "                    pl.count()\n",
    "                ]\n",
    "            ).sort(\"count\", descending=True).collect())"
   ]
  },
  {
   "attachments": {},
   "cell_type": "markdown",
   "metadata": {},
   "source": [
    "## Building tables"
   ]
  },
  {
   "cell_type": "code",
   "execution_count": 43,
   "metadata": {},
   "outputs": [],
   "source": [
    "groups = yagotypes.lazy().join(\n",
    "    top10types.lazy().select(pl.col(\"cat_object\")),\n",
    "    on=\"cat_object\",\n",
    "    how=\"inner\"\n",
    ").groupby(\n",
    "    pl.col(\"cat_object\")\n",
    ").all().select(\n",
    "    [\n",
    "        pl.col(\"cat_object\"), \n",
    "        pl.col(\"subject\")\n",
    "    ]\n",
    "    ).collect()"
   ]
  },
  {
   "cell_type": "code",
   "execution_count": 44,
   "metadata": {},
   "outputs": [
    {
     "name": "stdout",
     "output_type": "stream",
     "text": [
      "<wordnet_movie_106613686>\n",
      "<wordnet_person_100007846>\n",
      "<wordnet_album_106591815>\n",
      "<wordnet_administrative_district_108491826>\n",
      "<wordnet_artist_109812338>\n",
      "<wordnet_company_108058098>\n",
      "<wordnet_event_100029378>\n",
      "<wordnet_officeholder_110371450>\n",
      "<wordnet_season_115239579>\n",
      "<wikicat_Living_people>\n"
     ]
    }
   ],
   "source": [
    "tabs_by_type = {}\n",
    "for tup in groups.iter_rows():\n",
    "    type_str, values = tup\n",
    "    tab = pl.DataFrame(\n",
    "        {\n",
    "        \"type\": [type_str]*len(values),\n",
    "        \"subject\": values\n",
    "        },\n",
    "    )\n",
    "    tabs_by_type[type_str]=tab\n",
    "    print(type_str)"
   ]
  },
  {
   "cell_type": "code",
   "execution_count": 45,
   "metadata": {},
   "outputs": [
    {
     "data": {
      "text/html": [
       "<div><style>\n",
       ".dataframe > thead > tr > th,\n",
       ".dataframe > tbody > tr > td {\n",
       "  text-align: right;\n",
       "}\n",
       "</style>\n",
       "<small>shape: (1034138, 2)</small><table border=\"1\" class=\"dataframe\"><thead><tr><th>type</th><th>subject</th></tr><tr><td>str</td><td>str</td></tr></thead><tbody><tr><td>&quot;&lt;wikicat_Livin...</td><td>&quot;&lt;Slavko_Aleksi...</td></tr><tr><td>&quot;&lt;wikicat_Livin...</td><td>&quot;&lt;Taras_Senkiv_...</td></tr><tr><td>&quot;&lt;wikicat_Livin...</td><td>&quot;&lt;Victor_Shaka&gt;...</td></tr><tr><td>&quot;&lt;wikicat_Livin...</td><td>&quot;&lt;Jessica_Yelli...</td></tr><tr><td>&quot;&lt;wikicat_Livin...</td><td>&quot;&lt;Eugen_Tomac&gt;&quot;</td></tr><tr><td>&quot;&lt;wikicat_Livin...</td><td>&quot;&lt;Settimio_Todi...</td></tr><tr><td>&quot;&lt;wikicat_Livin...</td><td>&quot;&lt;Stephen_Edwar...</td></tr><tr><td>&quot;&lt;wikicat_Livin...</td><td>&quot;&lt;John_Aitpilla...</td></tr><tr><td>&quot;&lt;wikicat_Livin...</td><td>&quot;&lt;Typhoon_(rapp...</td></tr><tr><td>&quot;&lt;wikicat_Livin...</td><td>&quot;&lt;Akbar_Ahmad&gt;&quot;</td></tr><tr><td>&quot;&lt;wikicat_Livin...</td><td>&quot;&lt;Fayiz_Ahmad_Y...</td></tr><tr><td>&quot;&lt;wikicat_Livin...</td><td>&quot;&lt;Anette_Vázque...</td></tr><tr><td>&hellip;</td><td>&hellip;</td></tr><tr><td>&quot;&lt;wikicat_Livin...</td><td>&quot;&lt;Ernesto_Crist...</td></tr><tr><td>&quot;&lt;wikicat_Livin...</td><td>&quot;&lt;Cristian_Quin...</td></tr><tr><td>&quot;&lt;wikicat_Livin...</td><td>&quot;&lt;Chantal_Payer...</td></tr><tr><td>&quot;&lt;wikicat_Livin...</td><td>&quot;&lt;Shakil_Afridi...</td></tr><tr><td>&quot;&lt;wikicat_Livin...</td><td>&quot;&lt;Jonathan_Cook...</td></tr><tr><td>&quot;&lt;wikicat_Livin...</td><td>&quot;&lt;Adam_Liberato...</td></tr><tr><td>&quot;&lt;wikicat_Livin...</td><td>&quot;&lt;Ramon_Durano_...</td></tr><tr><td>&quot;&lt;wikicat_Livin...</td><td>&quot;&lt;Maxime_Verhag...</td></tr><tr><td>&quot;&lt;wikicat_Livin...</td><td>&quot;&lt;Saïra_Issambe...</td></tr><tr><td>&quot;&lt;wikicat_Livin...</td><td>&quot;&lt;Andrea_Arnabo...</td></tr><tr><td>&quot;&lt;wikicat_Livin...</td><td>&quot;&lt;Alan_Hewitt_(...</td></tr><tr><td>&quot;&lt;wikicat_Livin...</td><td>&quot;&lt;Brett_Evans_(...</td></tr></tbody></table></div>"
      ],
      "text/plain": [
       "shape: (1034138, 2)\n",
       "┌─────────────────────────┬───────────────────────────────────┐\n",
       "│ type                    ┆ subject                           │\n",
       "│ ---                     ┆ ---                               │\n",
       "│ str                     ┆ str                               │\n",
       "╞═════════════════════════╪═══════════════════════════════════╡\n",
       "│ <wikicat_Living_people> ┆ <Slavko_Aleksić>                  │\n",
       "│ <wikicat_Living_people> ┆ <Taras_Senkiv_(luger)>            │\n",
       "│ <wikicat_Living_people> ┆ <Victor_Shaka>                    │\n",
       "│ <wikicat_Living_people> ┆ <Jessica_Yellin>                  │\n",
       "│ …                       ┆ …                                 │\n",
       "│ <wikicat_Living_people> ┆ <Saïra_Issambet>                  │\n",
       "│ <wikicat_Living_people> ┆ <Andrea_Arnaboldi>                │\n",
       "│ <wikicat_Living_people> ┆ <Alan_Hewitt_(musician)>          │\n",
       "│ <wikicat_Living_people> ┆ <Brett_Evans_(Australian_footbal… │\n",
       "└─────────────────────────┴───────────────────────────────────┘"
      ]
     },
     "execution_count": 45,
     "metadata": {},
     "output_type": "execute_result"
    }
   ],
   "source": [
    "tabs_by_type[type_str]"
   ]
  },
  {
   "cell_type": "code",
   "execution_count": 46,
   "metadata": {},
   "outputs": [],
   "source": [
    "groups_predicates = yagofacts.groupby(\"predicate\")"
   ]
  },
  {
   "cell_type": "code",
   "execution_count": 52,
   "metadata": {},
   "outputs": [],
   "source": [
    "def convert_df(df: pl.DataFrame, predicate):\n",
    "    return df.select(\n",
    "        pl.col(\"subject\"),\n",
    "        pl.col(\"cat_object\").alias(predicate)\n",
    "    ).lazy()"
   ]
  },
  {
   "cell_type": "code",
   "execution_count": 98,
   "metadata": {},
   "outputs": [
    {
     "name": "stderr",
     "output_type": "stream",
     "text": [
      "  0%|          | 0/10 [00:00<?, ?it/s]"
     ]
    },
    {
     "name": "stdout",
     "output_type": "stream",
     "text": [
      "<wordnet_movie_106613686>\n"
     ]
    },
    {
     "name": "stderr",
     "output_type": "stream",
     "text": [
      " 10%|█         | 1/10 [00:01<00:15,  1.70s/it]"
     ]
    },
    {
     "name": "stdout",
     "output_type": "stream",
     "text": [
      "<wordnet_person_100007846>\n"
     ]
    },
    {
     "ename": "",
     "evalue": "",
     "output_type": "error",
     "traceback": [
      "\u001b[1;31mCanceled future for execute_request message before replies were done"
     ]
    },
    {
     "ename": "",
     "evalue": "",
     "output_type": "error",
     "traceback": [
      "\u001b[1;31mThe Kernel crashed while executing code in the the current cell or a previous cell. Please review the code in the cell(s) to identify a possible cause of the failure. Click <a href='https://aka.ms/vscodeJupyterKernelCrash'>here</a> for more info. View Jupyter <a href='command:jupyter.viewOutput'>log</a> for further details."
     ]
    }
   ],
   "source": [
    "full_tables_by_type = {}\n",
    "for type_str, tab in tqdm(tabs_by_type.items(), total=len(tabs_by_type)):\n",
    "    full_tables_by_type[type_str] = tab.clone()\n",
    "    tqdm.write(type_str)\n",
    "    for pred_name, pred_group in yagofacts.groupby(\"predicate\"):\n",
    "        if pred_name in G.neighbors(type_str) and pred_name in count_facts[\"predicate\"]:\n",
    "        # if pred_name in G.neighbors(type_str) and pred_name in count_facts[:15][\"predicate\"]:\n",
    "            transformed_tab = convert_df(pred_group, pred_name)\n",
    "            full_tables_by_type[type_str]= full_tables_by_type[type_str].lazy().join(\n",
    "                transformed_tab.lazy(),\n",
    "                on=\"subject\",\n",
    "                how=\"left\"\n",
    "            )\n",
    "    full_tables_by_type[type_str].collect()"
   ]
  },
  {
   "cell_type": "markdown",
   "metadata": {},
   "source": [
    "### Saving tables"
   ]
  },
  {
   "cell_type": "code",
   "execution_count": null,
   "metadata": {},
   "outputs": [],
   "source": [
    "dest_path = Path(\"data/yago3-dl\")"
   ]
  },
  {
   "cell_type": "code",
   "execution_count": null,
   "metadata": {},
   "outputs": [
    {
     "data": {
      "text/plain": [
       "True"
      ]
     },
     "execution_count": 96,
     "metadata": {},
     "output_type": "execute_result"
    }
   ],
   "source": [
    "dest_path.exists()"
   ]
  },
  {
   "cell_type": "code",
   "execution_count": null,
   "metadata": {},
   "outputs": [],
   "source": [
    "for type_str, tab in full_tables_by_type.items():\n",
    "    fname = f\"yago_typetab_{type_str}.parquet\"\n",
    "    tab.collect().write_parquet(Path(dest_path, fname))"
   ]
  },
  {
   "cell_type": "code",
   "execution_count": null,
   "metadata": {},
   "outputs": [],
   "source": []
  }
 ],
 "metadata": {
  "kernelspec": {
   "display_name": "base",
   "language": "python",
   "name": "python3"
  },
  "language_info": {
   "codemirror_mode": {
    "name": "ipython",
    "version": 3
   },
   "file_extension": ".py",
   "mimetype": "text/x-python",
   "name": "python",
   "nbconvert_exporter": "python",
   "pygments_lexer": "ipython3",
   "version": "3.10.6"
  },
  "orig_nbformat": 4
 },
 "nbformat": 4,
 "nbformat_minor": 2
}
