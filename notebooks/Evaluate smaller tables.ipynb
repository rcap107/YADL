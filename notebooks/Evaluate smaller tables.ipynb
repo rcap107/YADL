{
 "cells": [
  {
   "cell_type": "code",
   "execution_count": 1,
   "metadata": {},
   "outputs": [
    {
     "name": "stdout",
     "output_type": "stream",
     "text": [
      "/home/soda/rcappuzz/work/prepare-data-lakes\n"
     ]
    }
   ],
   "source": [
    "%cd .."
   ]
  },
  {
   "cell_type": "code",
   "execution_count": 2,
   "metadata": {},
   "outputs": [],
   "source": [
    "%load_ext autoreload\n",
    "%autoreload 2\n",
    "import src.yago.utils as utils"
   ]
  },
  {
   "cell_type": "code",
   "execution_count": 3,
   "metadata": {},
   "outputs": [],
   "source": [
    "import seaborn as sns\n",
    "import matplotlib.pyplot as plt\n",
    "import networkx as nx\n",
    "import pandas as pd\n",
    "import polars as pl\n",
    "from pathlib import Path\n",
    "import numpy as np"
   ]
  },
  {
   "cell_type": "code",
   "execution_count": 9,
   "metadata": {},
   "outputs": [],
   "source": [
    "src_path = Path(\"data/yago3-dl\")"
   ]
  },
  {
   "cell_type": "code",
   "execution_count": 10,
   "metadata": {},
   "outputs": [],
   "source": [
    "tab_paths = list(src_path.iterdir())\n",
    "first_tab = pl.read_parquet(tab_paths[0])"
   ]
  },
  {
   "cell_type": "code",
   "execution_count": 11,
   "metadata": {},
   "outputs": [
    {
     "data": {
      "text/plain": [
       "(154278, 4)"
      ]
     },
     "execution_count": 11,
     "metadata": {},
     "output_type": "execute_result"
    }
   ],
   "source": []
  },
  {
   "cell_type": "code",
   "execution_count": 12,
   "metadata": {},
   "outputs": [
    {
     "data": {
      "text/html": [
       "<div><style>\n",
       ".dataframe > thead > tr > th,\n",
       ".dataframe > tbody > tr > td {\n",
       "  text-align: right;\n",
       "}\n",
       "</style>\n",
       "<small>shape: (154278, 4)</small><table border=\"1\" class=\"dataframe\"><thead><tr><th>type</th><th>subject</th><th><isLocatedIn></th><th><hasWebsite></th></tr><tr><td>str</td><td>str</td><td>str</td><td>str</td></tr></thead><tbody><tr><td>&quot;&lt;wordnet_movie...</td><td>&quot;&lt;fr/Lose_Your_...</td><td>null</td><td>null</td></tr><tr><td>&quot;&lt;wordnet_movie...</td><td>&quot;&lt;Maa_Abbayi&gt;&quot;</td><td>null</td><td>null</td></tr><tr><td>&quot;&lt;wordnet_movie...</td><td>&quot;&lt;Women_Talking...</td><td>&quot;&lt;United_Kingdo...</td><td>null</td></tr><tr><td>&quot;&lt;wordnet_movie...</td><td>&quot;&lt;Stranger_in_t...</td><td>null</td><td>null</td></tr><tr><td>&quot;&lt;wordnet_movie...</td><td>&quot;&lt;Broken_Law&gt;&quot;</td><td>null</td><td>null</td></tr><tr><td>&quot;&lt;wordnet_movie...</td><td>&quot;&lt;Amoklauf&gt;&quot;</td><td>null</td><td>null</td></tr><tr><td>&quot;&lt;wordnet_movie...</td><td>&quot;&lt;Triple_Threat...</td><td>&quot;&lt;United_States...</td><td>null</td></tr><tr><td>&quot;&lt;wordnet_movie...</td><td>&quot;&lt;Triple_Threat...</td><td>&quot;&lt;China&gt;&quot;</td><td>null</td></tr><tr><td>&quot;&lt;wordnet_movie...</td><td>&quot;&lt;The_Buffalo_B...</td><td>null</td><td>null</td></tr><tr><td>&quot;&lt;wordnet_movie...</td><td>&quot;&lt;fr/The_Eagle_...</td><td>null</td><td>null</td></tr><tr><td>&quot;&lt;wordnet_movie...</td><td>&quot;&lt;fr/Au_bout_du...</td><td>null</td><td>null</td></tr><tr><td>&quot;&lt;wordnet_movie...</td><td>&quot;&lt;A_Whole_Lott_...</td><td>&quot;&lt;United_States...</td><td>null</td></tr><tr><td>&hellip;</td><td>&hellip;</td><td>&hellip;</td><td>&hellip;</td></tr><tr><td>&quot;&lt;wordnet_movie...</td><td>&quot;&lt;Moonrunners&gt;&quot;</td><td>&quot;&lt;United_States...</td><td>null</td></tr><tr><td>&quot;&lt;wordnet_movie...</td><td>&quot;&lt;The_Feeling_o...</td><td>&quot;&lt;United_States...</td><td>null</td></tr><tr><td>&quot;&lt;wordnet_movie...</td><td>&quot;&lt;Gozu&gt;&quot;</td><td>null</td><td>null</td></tr><tr><td>&quot;&lt;wordnet_movie...</td><td>&quot;&lt;The_Torrent_(...</td><td>&quot;&lt;United_States...</td><td>null</td></tr><tr><td>&quot;&lt;wordnet_movie...</td><td>&quot;&lt;Nascent_(film...</td><td>&quot;&lt;Central_Afric...</td><td>null</td></tr><tr><td>&quot;&lt;wordnet_movie...</td><td>&quot;&lt;Nascent_(film...</td><td>&quot;&lt;United_States...</td><td>null</td></tr><tr><td>&quot;&lt;wordnet_movie...</td><td>&quot;&lt;fr/Below_Sea_...</td><td>null</td><td>null</td></tr><tr><td>&quot;&lt;wordnet_movie...</td><td>&quot;&lt;Kaun?&gt;&quot;</td><td>null</td><td>null</td></tr><tr><td>&quot;&lt;wordnet_movie...</td><td>&quot;&lt;Naalkavala&gt;&quot;</td><td>&quot;&lt;India&gt;&quot;</td><td>null</td></tr><tr><td>&quot;&lt;wordnet_movie...</td><td>&quot;&lt;Lust,_Caution...</td><td>null</td><td>null</td></tr><tr><td>&quot;&lt;wordnet_movie...</td><td>&quot;&lt;Cab_Calloway&#x27;...</td><td>&quot;&lt;United_States...</td><td>null</td></tr><tr><td>&quot;&lt;wordnet_movie...</td><td>&quot;&lt;Wonka_(film)&gt;...</td><td>null</td><td>null</td></tr></tbody></table></div>"
      ],
      "text/plain": [
       "shape: (154278, 4)\n",
       "┌───────────────────────────┬───────────────────────────────────┬──────────────────┬──────────────┐\n",
       "│ type                      ┆ subject                           ┆ <isLocatedIn>    ┆ <hasWebsite> │\n",
       "│ ---                       ┆ ---                               ┆ ---              ┆ ---          │\n",
       "│ str                       ┆ str                               ┆ str              ┆ str          │\n",
       "╞═══════════════════════════╪═══════════════════════════════════╪══════════════════╪══════════════╡\n",
       "│ <wordnet_movie_106613686> ┆ <fr/Lose_Your_Head>               ┆ null             ┆ null         │\n",
       "│ <wordnet_movie_106613686> ┆ <Maa_Abbayi>                      ┆ null             ┆ null         │\n",
       "│ <wordnet_movie_106613686> ┆ <Women_Talking_Dirty>             ┆ <United_Kingdom> ┆ null         │\n",
       "│ <wordnet_movie_106613686> ┆ <Stranger_in_the_House_(1967_fil… ┆ null             ┆ null         │\n",
       "│ …                         ┆ …                                 ┆ …                ┆ …            │\n",
       "│ <wordnet_movie_106613686> ┆ <Naalkavala>                      ┆ <India>          ┆ null         │\n",
       "│ <wordnet_movie_106613686> ┆ <Lust,_Caution>                   ┆ null             ┆ null         │\n",
       "│ <wordnet_movie_106613686> ┆ <Cab_Calloway's_Jitterbug_Party>  ┆ <United_States>  ┆ null         │\n",
       "│ <wordnet_movie_106613686> ┆ <Wonka_(film)>                    ┆ null             ┆ null         │\n",
       "└───────────────────────────┴───────────────────────────────────┴──────────────────┴──────────────┘"
      ]
     },
     "execution_count": 12,
     "metadata": {},
     "output_type": "execute_result"
    }
   ],
   "source": [
    "first_tab"
   ]
  },
  {
   "cell_type": "code",
   "execution_count": 13,
   "metadata": {},
   "outputs": [
    {
     "data": {
      "text/plain": [
       "['type', 'subject', '<isLocatedIn>', '<hasWebsite>']"
      ]
     },
     "execution_count": 13,
     "metadata": {},
     "output_type": "execute_result"
    }
   ],
   "source": []
  },
  {
   "cell_type": "code",
   "execution_count": null,
   "metadata": {},
   "outputs": [],
   "source": []
  }
 ],
 "metadata": {
  "kernelspec": {
   "display_name": "base",
   "language": "python",
   "name": "python3"
  },
  "language_info": {
   "codemirror_mode": {
    "name": "ipython",
    "version": 3
   },
   "file_extension": ".py",
   "mimetype": "text/x-python",
   "name": "python",
   "nbconvert_exporter": "python",
   "pygments_lexer": "ipython3",
   "version": "3.10.6"
  },
  "orig_nbformat": 4
 },
 "nbformat": 4,
 "nbformat_minor": 2
}
