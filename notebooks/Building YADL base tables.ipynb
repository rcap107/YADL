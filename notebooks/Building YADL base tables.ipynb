{
 "cells": [
  {
   "attachments": {},
   "cell_type": "markdown",
   "metadata": {},
   "source": [
    "# Building the base tables"
   ]
  },
  {
   "attachments": {},
   "cell_type": "markdown",
   "metadata": {},
   "source": [
    "This is the notebook that was used to prepare the base tables for the pipeline in the paper \"A Benchmarking Data Lake \n",
    "for Join Discovery and Learning with Relational Data\".\n",
    "\n",
    "All datasets are inspired from those used in the paper \"[Relational data embeddings for feature enrichment with background information](https://hal.science/hal-03848124/file/main.pdf)\", although some of the matching operations are slightly different.\n",
    "\n",
    "To have more manageable and meaningful tables, some preprocessing is applied to each dataset to reduce overly noisy and \n",
    "irrelevant attributes. \n",
    "\n",
    "All tables are then saved as parquet files for later use in the benchmark pipeline. "
   ]
  },
  {
   "attachments": {},
   "cell_type": "markdown",
   "metadata": {},
   "source": [
    "Datasets:\n",
    "- [The Movies Dataset](https://www.kaggle.com/datasets/rounakbanik/the-movies-dataset)\n",
    "- [7+ Million Company Dataset](https://www.kaggle.com/datasets/peopledatalabssf/free-7-million-company-dataset)\n",
    "- [US Accidents (2016 - 2021)](https://www.kaggle.com/datasets/sobhanmoosavi/us-accidents)\n",
    "- [US Presidential elections](https://dataverse.harvard.edu/dataset.xhtml?persistentId=doi:10.7910/DVN/42MVDX)"
   ]
  },
  {
   "cell_type": "code",
   "execution_count": 1,
   "metadata": {},
   "outputs": [
    {
     "name": "stdout",
     "output_type": "stream",
     "text": [
      "/home/soda/rcappuzz/work/prepare-data-lakes\n"
     ]
    }
   ],
   "source": [
    "cd ~/work/prepare-data-lakes"
   ]
  },
  {
   "cell_type": "code",
   "execution_count": 2,
   "metadata": {},
   "outputs": [],
   "source": [
    "import polars as pl\n",
    "import pandas as pd\n",
    "from pathlib import Path\n",
    "import src.yago.utils as utils\n",
    "import numpy as np\n",
    "import datetime"
   ]
  },
  {
   "attachments": {},
   "cell_type": "markdown",
   "metadata": {},
   "source": [
    "Loading YAGO fact triplets to drop entities not found in the KB."
   ]
  },
  {
   "cell_type": "code",
   "execution_count": 3,
   "metadata": {},
   "outputs": [],
   "source": [
    "data_dir = Path(\"data/ken_datasets\")\n",
    "\n",
    "yago_path = Path(\"/storage/store3/work/jstojano/yago3/\")\n",
    "facts_path = Path(yago_path, \"facts_parquet/yago_updated_2022_part2\")\n",
    "fname = \"yagoFacts\"\n",
    "yagofacts_path = Path(facts_path, f\"{fname}.tsv.parquet\")\n",
    "yagofacts_categorical = utils.import_from_yago(yagofacts_path, engine=\"polars\")\n",
    "fname = \"yagoLiteralFacts\"\n",
    "yagoliteralfacts_path = Path(facts_path, f\"{fname}.tsv.parquet\")\n",
    "yagofacts_numerical = utils.import_from_yago(yagoliteralfacts_path, engine=\"polars\")\n",
    "fname = \"yagoDateFacts\"\n",
    "yagodatefacts_path = Path(facts_path, f\"{fname}.tsv.parquet\")\n",
    "yagofacts_dates = utils.import_from_yago(yagodatefacts_path, engine=\"polars\")\n",
    "\n",
    "yagofacts = pl.concat(\n",
    "    [\n",
    "        yagofacts_categorical,\n",
    "        yagofacts_numerical,\n",
    "        yagofacts_dates\n",
    "    ]\n",
    ")"
   ]
  },
  {
   "attachments": {},
   "cell_type": "markdown",
   "metadata": {},
   "source": [
    "# US Accidents dataset"
   ]
  },
  {
   "attachments": {},
   "cell_type": "markdown",
   "metadata": {},
   "source": [
    "Archive `us-accidents.zip` contains the file `US_Accidents_Dec21_updated.csv`, \n",
    "which I renamed manually to `us-accidents.csv` for simplicity. \n",
    "\n",
    "I also had to copy the file `datasets/us_accidents/state_codes.csv` from the \n",
    "KEN repository for some of the steps. "
   ]
  },
  {
   "cell_type": "code",
   "execution_count": 4,
   "metadata": {},
   "outputs": [],
   "source": [
    "dataset_dir = Path(data_dir, \"us-accidents\")\n",
    "df = pl.read_csv(Path(dataset_dir, \"us-accidents.csv\"))\n",
    "df = df.rename({\"State\": \"Code\"})\n",
    "state_codes_path =  Path(dataset_dir,\"state_codes.csv\")\n",
    "state_codes = pl.read_csv(state_codes_path)\n",
    "df = df.join(\n",
    "    state_codes, on=\"Code\"\n",
    ")"
   ]
  },
  {
   "attachments": {},
   "cell_type": "markdown",
   "metadata": {},
   "source": [
    "Adding a new column, `col_to_embed`, that formats the city and state name to have\n",
    "the same format that is found in YAGO. "
   ]
  },
  {
   "cell_type": "code",
   "execution_count": 5,
   "metadata": {},
   "outputs": [],
   "source": [
    "df = df.with_columns(\n",
    "    (\"<\" + pl.col(\"City\") + \",_\"+ pl.col(\"State\") + \">\").alias(\"col_to_embed\")\n",
    ")"
   ]
  },
  {
   "attachments": {},
   "cell_type": "markdown",
   "metadata": {},
   "source": [
    "Filtering out the rows not found in `yagofacts[\"subject\"]`."
   ]
  },
  {
   "cell_type": "code",
   "execution_count": 6,
   "metadata": {},
   "outputs": [],
   "source": [
    "df_filtered=df.lazy().filter(\n",
    "    pl.col(\"col_to_embed\").is_in(\n",
    "        yagofacts[\"subject\"]\n",
    "    )\n",
    ").collect()"
   ]
  },
  {
   "attachments": {},
   "cell_type": "markdown",
   "metadata": {},
   "source": [
    "For the preparation, I am selecting only the accidents whose `Start_Time` is between 2019-01-01 and 2019-12-31. "
   ]
  },
  {
   "cell_type": "code",
   "execution_count": 7,
   "metadata": {},
   "outputs": [],
   "source": [
    "start_date = datetime.date(2019, 1,1)\n",
    "end_date = datetime.date(2019, 12, 31)\n",
    "df_by_year = df_filtered.filter(\n",
    "    (pl.col(\"Start_Time\").str.to_datetime()>start_date) & (pl.col(\"Start_Time\").str.to_datetime()<end_date)\n",
    ")"
   ]
  },
  {
   "attachments": {},
   "cell_type": "markdown",
   "metadata": {},
   "source": [
    "Counting the number of accidents (log10) per county in the given year."
   ]
  },
  {
   "cell_type": "code",
   "execution_count": 8,
   "metadata": {},
   "outputs": [
    {
     "data": {
      "text/html": [
       "<div><style>\n",
       ".dataframe > thead > tr > th,\n",
       ".dataframe > tbody > tr > td {\n",
       "  text-align: right;\n",
       "}\n",
       "</style>\n",
       "<small>shape: (5_222, 2)</small><table border=\"1\" class=\"dataframe\"><thead><tr><th>col_to_embed</th><th>target</th></tr><tr><td>str</td><td>f64</td></tr></thead><tbody><tr><td>&quot;&lt;Alexandria,_V…</td><td>2.290035</td></tr><tr><td>&quot;&lt;Greenwich,_Co…</td><td>1.623249</td></tr><tr><td>&quot;&lt;Hollywood,_Fl…</td><td>2.324282</td></tr><tr><td>&quot;&lt;Braham,_Minne…</td><td>0.477121</td></tr><tr><td>&quot;&lt;Kirkland,_Was…</td><td>1.799341</td></tr><tr><td>&quot;&lt;Vale,_Oregon&gt;…</td><td>1.986772</td></tr><tr><td>&quot;&lt;Concord,_Cali…</td><td>2.510545</td></tr><tr><td>&quot;&lt;Irvine,_Calif…</td><td>2.912222</td></tr><tr><td>&quot;&lt;Escondido,_Ca…</td><td>2.570543</td></tr><tr><td>&quot;&lt;Tulare,_Calif…</td><td>2.053078</td></tr><tr><td>&quot;&lt;Watsonville,_…</td><td>2.264818</td></tr><tr><td>&quot;&lt;Powhatan,_Vir…</td><td>1.322219</td></tr><tr><td>&hellip;</td><td>&hellip;</td></tr><tr><td>&quot;&lt;Williamsville…</td><td>0.0</td></tr><tr><td>&quot;&lt;Waveland,_Ind…</td><td>0.0</td></tr><tr><td>&quot;&lt;Vinton,_Virgi…</td><td>0.0</td></tr><tr><td>&quot;&lt;Blanchard,_Ok…</td><td>0.0</td></tr><tr><td>&quot;&lt;Rupert,_Idaho…</td><td>0.0</td></tr><tr><td>&quot;&lt;Eastlake,_Ohi…</td><td>0.0</td></tr><tr><td>&quot;&lt;Fairmount,_In…</td><td>0.477121</td></tr><tr><td>&quot;&lt;Aurora,_Ohio&gt;…</td><td>0.30103</td></tr><tr><td>&quot;&lt;Pearson,_Geor…</td><td>0.30103</td></tr><tr><td>&quot;&lt;Gurley,_Alaba…</td><td>0.0</td></tr><tr><td>&quot;&lt;Westover,_Mar…</td><td>0.0</td></tr><tr><td>&quot;&lt;Bridgeboro,_G…</td><td>0.0</td></tr></tbody></table></div>"
      ],
      "text/plain": [
       "shape: (5_222, 2)\n",
       "┌──────────────────────────┬──────────┐\n",
       "│ col_to_embed             ┆ target   │\n",
       "│ ---                      ┆ ---      │\n",
       "│ str                      ┆ f64      │\n",
       "╞══════════════════════════╪══════════╡\n",
       "│ <Alexandria,_Virginia>   ┆ 2.290035 │\n",
       "│ <Greenwich,_Connecticut> ┆ 1.623249 │\n",
       "│ <Hollywood,_Florida>     ┆ 2.324282 │\n",
       "│ <Braham,_Minnesota>      ┆ 0.477121 │\n",
       "│ …                        ┆ …        │\n",
       "│ <Pearson,_Georgia>       ┆ 0.30103  │\n",
       "│ <Gurley,_Alabama>        ┆ 0.0      │\n",
       "│ <Westover,_Maryland>     ┆ 0.0      │\n",
       "│ <Bridgeboro,_Georgia>    ┆ 0.0      │\n",
       "└──────────────────────────┴──────────┘"
      ]
     },
     "execution_count": 8,
     "metadata": {},
     "output_type": "execute_result"
    }
   ],
   "source": [
    "df_counts_by_year=df_by_year.groupby(\n",
    "    [\n",
    "        \"col_to_embed\", \"City\", \"Code\"\n",
    "    ]\n",
    "    ).count().select(\n",
    "        pl.col(\"col_to_embed\"),\n",
    "        pl.col(\"count\").alias(\"target\").log10()\n",
    "    )\n",
    "df_counts_by_year"
   ]
  },
  {
   "attachments": {},
   "cell_type": "markdown",
   "metadata": {},
   "source": [
    "### Preprocessing"
   ]
  },
  {
   "attachments": {},
   "cell_type": "markdown",
   "metadata": {},
   "source": [
    "In the KEN paper, everything except the county was dropped. Here, we need to rely on the information still found in the \n",
    "table, so we need to to reduce the table to have only one sample for each row. It is necessary to aggregate any information\n",
    "that has granularity smaller than \"county\". \n",
    "\n",
    "The overall number of columns is also reduced from the original. \n",
    "\n",
    "To aggregate all the values, the `mode` is used to select the most frequent categorical value, while the `mean` is used\n",
    "on the numerical attributes. \n",
    "\n",
    "The resulting table is saved in `us-accidents-yadl.parquet`."
   ]
  },
  {
   "cell_type": "code",
   "execution_count": 9,
   "metadata": {},
   "outputs": [],
   "source": [
    "df_counts_by_year.join(\n",
    "    df_by_year, \n",
    "    on=\"col_to_embed\",\n",
    "    how=\"inner\"\n",
    ").groupby(\"col_to_embed\").agg(\n",
    "    pl.col(\"target\").mean(),\n",
    "    pl.col(\"County\").mode().first(),\n",
    "    pl.col(\"Code\").mode().first(),\n",
    "    pl.col(\"Severity\").mean(),\n",
    "    pl.col(\"Zipcode\").mode().first(),\n",
    "    pl.col(\"Country\").mode().first(),\n",
    "    pl.col(\"Airport_Code\").mode().first(),\n",
    "    pl.col(\"Visibility(mi)\").mean(),\n",
    "    pl.col(\"Weather_Condition\").mean(),\n",
    "    pl.col(\"Sunrise_Sunset\").mode().first(),\n",
    "    pl.col(\"Civil_Twilight\").mode().first(),\n",
    "    pl.col(\"State\").mode().first(),    \n",
    ").write_parquet(Path(dataset_dir, \"us-accidents-yadl.parquet\"))"
   ]
  },
  {
   "attachments": {},
   "cell_type": "markdown",
   "metadata": {},
   "source": [
    "### Comparing with the KEN version"
   ]
  },
  {
   "attachments": {},
   "cell_type": "markdown",
   "metadata": {},
   "source": [
    "Here we prepare the table using the same operations as those made for KEN. "
   ]
  },
  {
   "cell_type": "code",
   "execution_count": 10,
   "metadata": {},
   "outputs": [],
   "source": [
    "df_counts = df_filtered.groupby(\n",
    "    [\n",
    "        \"col_to_embed\", \"City\", \"Code\"\n",
    "    ]\n",
    "    ).count()"
   ]
  },
  {
   "cell_type": "code",
   "execution_count": 11,
   "metadata": {},
   "outputs": [],
   "source": [
    "df_final = df_counts.with_columns(\n",
    "    (df_counts[\"City\"] + \", \" + df_counts[\"Code\"]).alias(\"raw_entities\") \n",
    ").select(\n",
    "    [\n",
    "        pl.col(\"raw_entities\"),\n",
    "        pl.col(\"col_to_embed\"),\n",
    "        pl.col(\"count\").alias(\"target\").log10()\n",
    "    ]\n",
    ").sort(\"raw_entities\")\n",
    "df_final.write_parquet(Path(dataset_dir, \"us-accidents-target.parquet\"))"
   ]
  },
  {
   "attachments": {},
   "cell_type": "markdown",
   "metadata": {},
   "source": [
    "Reading original to see if the two versions look similar. "
   ]
  },
  {
   "cell_type": "code",
   "execution_count": 12,
   "metadata": {},
   "outputs": [
    {
     "data": {
      "text/html": [
       "<div><style>\n",
       ".dataframe > thead > tr > th,\n",
       ".dataframe > tbody > tr > td {\n",
       "  text-align: right;\n",
       "}\n",
       "</style>\n",
       "<small>shape: (8_538, 3)</small><table border=\"1\" class=\"dataframe\"><thead><tr><th>raw_entities</th><th>col_to_embed</th><th>target</th></tr><tr><td>str</td><td>str</td><td>f64</td></tr></thead><tbody><tr><td>&quot;Aaronsburg, PA…</td><td>&quot;&lt;Aaronsburg,_P…</td><td>0.30103</td></tr><tr><td>&quot;Abbeville, LA&quot;</td><td>&quot;&lt;Abbeville,_Lo…</td><td>0.0</td></tr><tr><td>&quot;Abbotsford, WI…</td><td>&quot;&lt;Abbotsford,_W…</td><td>0.954243</td></tr><tr><td>&quot;Abbottstown, P…</td><td>&quot;&lt;Abbottstown,_…</td><td>1.041393</td></tr><tr><td>&quot;Aberdeen, MD&quot;</td><td>&quot;&lt;Aberdeen,_Mar…</td><td>2.396199</td></tr><tr><td>&quot;Aberdeen, MS&quot;</td><td>&quot;&lt;Aberdeen,_Mis…</td><td>0.477121</td></tr><tr><td>&quot;Aberdeen, OH&quot;</td><td>&quot;&lt;Aberdeen,_Ohi…</td><td>0.0</td></tr><tr><td>&quot;Aberdeen, WA&quot;</td><td>&quot;&lt;Aberdeen,_Was…</td><td>1.342423</td></tr><tr><td>&quot;Abernathy, TX&quot;</td><td>&quot;&lt;Abernathy,_Te…</td><td>0.0</td></tr><tr><td>&quot;Abilene, TX&quot;</td><td>&quot;&lt;Abilene,_Texa…</td><td>1.0</td></tr><tr><td>&quot;Abingdon, MD&quot;</td><td>&quot;&lt;Abingdon,_Mar…</td><td>2.136721</td></tr><tr><td>&quot;Abingdon, VA&quot;</td><td>&quot;&lt;Abingdon,_Vir…</td><td>2.064458</td></tr><tr><td>&hellip;</td><td>&hellip;</td><td>&hellip;</td></tr><tr><td>&quot;Zeeland, MI&quot;</td><td>&quot;&lt;Zeeland,_Mich…</td><td>1.662758</td></tr><tr><td>&quot;Zelienople, PA…</td><td>&quot;&lt;Zelienople,_P…</td><td>1.079181</td></tr><tr><td>&quot;Zellwood, FL&quot;</td><td>&quot;&lt;Zellwood,_Flo…</td><td>1.591065</td></tr><tr><td>&quot;Zephyrhills, F…</td><td>&quot;&lt;Zephyrhills,_…</td><td>2.08636</td></tr><tr><td>&quot;Zillah, WA&quot;</td><td>&quot;&lt;Zillah,_Washi…</td><td>0.60206</td></tr><tr><td>&quot;Zimmerman, MN&quot;</td><td>&quot;&lt;Zimmerman,_Mi…</td><td>1.812913</td></tr><tr><td>&quot;Zion, IL&quot;</td><td>&quot;&lt;Zion,_Illinoi…</td><td>2.50515</td></tr><tr><td>&quot;Zionsville, IN…</td><td>&quot;&lt;Zionsville,_I…</td><td>2.190332</td></tr><tr><td>&quot;Zionsville, PA…</td><td>&quot;&lt;Zionsville,_P…</td><td>0.0</td></tr><tr><td>&quot;Zumbrota, MN&quot;</td><td>&quot;&lt;Zumbrota,_Min…</td><td>2.193125</td></tr><tr><td>&quot;Zuni, VA&quot;</td><td>&quot;&lt;Zuni,_Virgini…</td><td>1.079181</td></tr><tr><td>&quot;Zwingle, IA&quot;</td><td>&quot;&lt;Zwingle,_Iowa…</td><td>0.60206</td></tr></tbody></table></div>"
      ],
      "text/plain": [
       "shape: (8_538, 3)\n",
       "┌─────────────────┬─────────────────────────────┬──────────┐\n",
       "│ raw_entities    ┆ col_to_embed                ┆ target   │\n",
       "│ ---             ┆ ---                         ┆ ---      │\n",
       "│ str             ┆ str                         ┆ f64      │\n",
       "╞═════════════════╪═════════════════════════════╪══════════╡\n",
       "│ Aaronsburg, PA  ┆ <Aaronsburg,_Pennsylvania>  ┆ 0.30103  │\n",
       "│ Abbeville, LA   ┆ <Abbeville,_Louisiana>      ┆ 0.0      │\n",
       "│ Abbotsford, WI  ┆ <Abbotsford,_Wisconsin>     ┆ 0.954243 │\n",
       "│ Abbottstown, PA ┆ <Abbottstown,_Pennsylvania> ┆ 1.041393 │\n",
       "│ …               ┆ …                           ┆ …        │\n",
       "│ Zionsville, PA  ┆ <Zionsville,_Pennsylvania>  ┆ 0.0      │\n",
       "│ Zumbrota, MN    ┆ <Zumbrota,_Minnesota>       ┆ 2.193125 │\n",
       "│ Zuni, VA        ┆ <Zuni,_Virginia>            ┆ 1.079181 │\n",
       "│ Zwingle, IA     ┆ <Zwingle,_Iowa>             ┆ 0.60206  │\n",
       "└─────────────────┴─────────────────────────────┴──────────┘"
      ]
     },
     "execution_count": 12,
     "metadata": {},
     "output_type": "execute_result"
    }
   ],
   "source": [
    "path_original=Path(\"/storage/store3/work/acvetkov/gitlab/KEN/experiments/datasets/us_accidents/counts.parquet\")\n",
    "df_counts_og = pl.read_parquet(path_original)\n",
    "df_counts_og"
   ]
  },
  {
   "attachments": {},
   "cell_type": "markdown",
   "metadata": {},
   "source": [
    "As expected, the number of entities in the original file is smaller. "
   ]
  },
  {
   "attachments": {},
   "cell_type": "markdown",
   "metadata": {},
   "source": [
    "# Company Employees Dataset"
   ]
  },
  {
   "attachments": {},
   "cell_type": "markdown",
   "metadata": {},
   "source": [
    "The \"Company Employees\" dataset contains information about companies. The prediction target in this case is the number \n",
    "of employees of a company. We filter the dataset to select only companies with at least 1000 employees."
   ]
  },
  {
   "cell_type": "code",
   "execution_count": 13,
   "metadata": {},
   "outputs": [],
   "source": [
    "dataset_dir = Path(data_dir, \"company-employees\")\n",
    "df = pl.read_csv(Path(dataset_dir, \"companies_sorted.csv\"))\n",
    "df_selected = df.filter(\n",
    "    pl.col(\"current employee estimate\") >= 1000\n",
    ")"
   ]
  },
  {
   "attachments": {},
   "cell_type": "markdown",
   "metadata": {},
   "source": [
    "The heuristic we use is slightly different from that used for KEN. "
   ]
  },
  {
   "attachments": {},
   "cell_type": "markdown",
   "metadata": {},
   "source": [
    "Adding a new column to `yagofacts` with lowercased subjects. "
   ]
  },
  {
   "cell_type": "code",
   "execution_count": 14,
   "metadata": {},
   "outputs": [],
   "source": [
    "yagofacts = yagofacts.with_columns(\n",
    "    pl.col(\"subject\").str.to_lowercase().alias(\"subject_formatted\")\n",
    ")\n",
    "df_filtered=df_selected.lazy().with_columns(\n",
    "    (\"<\" + pl.col(\"name\").str.to_lowercase().str.replace(\" \", \"_\") + \">\").alias(\"formatted_name\")\n",
    ").filter(\n",
    "    pl.col(\"formatted_name\").is_in(yagofacts[\"subject_formatted\"])\n",
    ").collect()"
   ]
  },
  {
   "attachments": {},
   "cell_type": "markdown",
   "metadata": {},
   "source": [
    "Here we prepare a mapping between the name in the original dataset and the match found in YAGO.\n",
    "Note that there is a relatively low recall, though it is higher than what is used in the original. "
   ]
  },
  {
   "cell_type": "code",
   "execution_count": 15,
   "metadata": {},
   "outputs": [],
   "source": [
    "mapping_name_subject = df_filtered.lazy().join(\n",
    "    yagofacts.lazy(),\n",
    "    left_on=\"formatted_name\",\n",
    "    right_on=\"subject_formatted\"\n",
    ").select(\n",
    "    [\n",
    "        pl.col(\"name\"),\n",
    "        pl.col(\"formatted_name\"),\n",
    "        pl.col(\"subject\")\n",
    "    ]\n",
    ").unique().collect()\n"
   ]
  },
  {
   "attachments": {},
   "cell_type": "markdown",
   "metadata": {},
   "source": [
    "Joining on with the mapping on `formatted_name` to guarantee that col `col_to_embed` uses the same format (and \n",
    "capitalization) used in YAGO. "
   ]
  },
  {
   "cell_type": "code",
   "execution_count": 16,
   "metadata": {},
   "outputs": [
    {
     "data": {
      "text/html": [
       "<div><style>\n",
       ".dataframe > thead > tr > th,\n",
       ".dataframe > tbody > tr > td {\n",
       "  text-align: right;\n",
       "}\n",
       "</style>\n",
       "<small>shape: (3_035, 3)</small><table border=\"1\" class=\"dataframe\"><thead><tr><th>raw_entities</th><th>col_to_embed</th><th>target</th></tr><tr><td>str</td><td>str</td><td>f64</td></tr></thead><tbody><tr><td>&quot;ibm&quot;</td><td>&quot;&lt;IBM&gt;&quot;</td><td>5.437825</td></tr><tr><td>&quot;accenture&quot;</td><td>&quot;&lt;Accenture&gt;&quot;</td><td>5.280326</td></tr><tr><td>&quot;hewlett-packar…</td><td>&quot;&lt;Hewlett-Packa…</td><td>5.107047</td></tr><tr><td>&quot;walmart&quot;</td><td>&quot;&lt;Walmart&gt;&quot;</td><td>5.081898</td></tr><tr><td>&quot;microsoft&quot;</td><td>&quot;&lt;Microsoft&gt;&quot;</td><td>5.065191</td></tr><tr><td>&quot;at&amp;t&quot;</td><td>&quot;&lt;AT&amp;T&gt;&quot;</td><td>5.061407</td></tr><tr><td>&quot;wells fargo&quot;</td><td>&quot;&lt;Wells_Fargo&gt;&quot;</td><td>5.039541</td></tr><tr><td>&quot;infosys&quot;</td><td>&quot;&lt;Infosys&gt;&quot;</td><td>5.020162</td></tr><tr><td>&quot;deloitte&quot;</td><td>&quot;&lt;Deloitte&gt;&quot;</td><td>5.017501</td></tr><tr><td>&quot;nokia&quot;</td><td>&quot;&lt;Nokia&gt;&quot;</td><td>4.925967</td></tr><tr><td>&quot;capgemini&quot;</td><td>&quot;&lt;Capgemini&gt;&quot;</td><td>4.925204</td></tr><tr><td>&quot;hsbc&quot;</td><td>&quot;&lt;HSBC&gt;&quot;</td><td>4.878752</td></tr><tr><td>&hellip;</td><td>&hellip;</td><td>&hellip;</td></tr><tr><td>&quot;vilnius univer…</td><td>&quot;&lt;Vilnius_Unive…</td><td>3.002598</td></tr><tr><td>&quot;moody&#x27;s corpor…</td><td>&quot;&lt;Moody&#x27;s_Corpo…</td><td>3.002598</td></tr><tr><td>&quot;air europa&quot;</td><td>&quot;&lt;Air_Europa&gt;&quot;</td><td>3.002166</td></tr><tr><td>&quot;providence col…</td><td>&quot;&lt;Providence_Co…</td><td>3.002166</td></tr><tr><td>&quot;appdynamics&quot;</td><td>&quot;&lt;AppDynamics&gt;&quot;</td><td>3.002166</td></tr><tr><td>&quot;qihoo 360&quot;</td><td>&quot;&lt;Qihoo_360&gt;&quot;</td><td>3.002166</td></tr><tr><td>&quot;hubbell incorp…</td><td>&quot;&lt;Hubbell_Incor…</td><td>3.001301</td></tr><tr><td>&quot;revenu québec&quot;</td><td>&quot;&lt;Revenu_Québec…</td><td>3.000868</td></tr><tr><td>&quot;jagiellonian u…</td><td>&quot;&lt;Jagiellonian_…</td><td>3.000434</td></tr><tr><td>&quot;becu&quot;</td><td>&quot;&lt;BECU&gt;&quot;</td><td>3.0</td></tr><tr><td>&quot;sta travel&quot;</td><td>&quot;&lt;STA_Travel&gt;&quot;</td><td>3.0</td></tr><tr><td>&quot;megacable&quot;</td><td>&quot;&lt;Megacable&gt;&quot;</td><td>3.0</td></tr></tbody></table></div>"
      ],
      "text/plain": [
       "shape: (3_035, 3)\n",
       "┌─────────────────────────┬───────────────────────────┬──────────┐\n",
       "│ raw_entities            ┆ col_to_embed              ┆ target   │\n",
       "│ ---                     ┆ ---                       ┆ ---      │\n",
       "│ str                     ┆ str                       ┆ f64      │\n",
       "╞═════════════════════════╪═══════════════════════════╪══════════╡\n",
       "│ ibm                     ┆ <IBM>                     ┆ 5.437825 │\n",
       "│ accenture               ┆ <Accenture>               ┆ 5.280326 │\n",
       "│ hewlett-packard         ┆ <Hewlett-Packard>         ┆ 5.107047 │\n",
       "│ walmart                 ┆ <Walmart>                 ┆ 5.081898 │\n",
       "│ …                       ┆ …                         ┆ …        │\n",
       "│ jagiellonian university ┆ <Jagiellonian_University> ┆ 3.000434 │\n",
       "│ becu                    ┆ <BECU>                    ┆ 3.0      │\n",
       "│ sta travel              ┆ <STA_Travel>              ┆ 3.0      │\n",
       "│ megacable               ┆ <Megacable>               ┆ 3.0      │\n",
       "└─────────────────────────┴───────────────────────────┴──────────┘"
      ]
     },
     "execution_count": 16,
     "metadata": {},
     "output_type": "execute_result"
    }
   ],
   "source": [
    "df_final = df_filtered.join(\n",
    "    mapping_name_subject, on=\"formatted_name\"\n",
    ").select(\n",
    "    [\n",
    "        pl.col(\"name\").alias(\"raw_entities\"),\n",
    "        pl.col(\"subject\").alias(\"col_to_embed\"),\n",
    "        pl.col(\"current employee estimate\").alias(\"target\").log10()\n",
    "    ]\n",
    ")\n",
    "df_final\n"
   ]
  },
  {
   "cell_type": "code",
   "execution_count": 17,
   "metadata": {},
   "outputs": [],
   "source": [
    "df_final.write_parquet(Path(dataset_dir, \"company-employees-target.parquet\"))"
   ]
  },
  {
   "attachments": {},
   "cell_type": "markdown",
   "metadata": {},
   "source": [
    "Joining the measure target on the base table. Some unnecessary columns are dropped from the table, then it is saved on disk.\n"
   ]
  },
  {
   "cell_type": "code",
   "execution_count": 18,
   "metadata": {},
   "outputs": [],
   "source": [
    "df_prepared = df_filtered.lazy().join(\n",
    "    df_final.lazy(),\n",
    "    left_on=\"name\",\n",
    "    right_on=\"raw_entities\",\n",
    "    how=\"inner\"\n",
    ").drop(\n",
    "    \"\",\n",
    "    \"formatted_name\",\n",
    "    \"current employee estimate\",\n",
    "    \"total employee estimate\",\n",
    ").collect()\n",
    "df_prepared\n",
    "df_prepared.write_parquet(Path(dataset_dir, \"company-employees-yadl.parquet\"))"
   ]
  },
  {
   "attachments": {},
   "cell_type": "markdown",
   "metadata": {},
   "source": [
    "Comparing with the original. "
   ]
  },
  {
   "cell_type": "code",
   "execution_count": 19,
   "metadata": {},
   "outputs": [
    {
     "data": {
      "text/html": [
       "<div><style>\n",
       ".dataframe > thead > tr > th,\n",
       ".dataframe > tbody > tr > td {\n",
       "  text-align: right;\n",
       "}\n",
       "</style>\n",
       "<small>shape: (3_042, 3)</small><table border=\"1\" class=\"dataframe\"><thead><tr><th>raw_entities</th><th>col_to_embed</th><th>target</th></tr><tr><td>str</td><td>str</td><td>f64</td></tr></thead><tbody><tr><td>&quot;accenture&quot;</td><td>&quot;&lt;Accenture&gt;&quot;</td><td>5.280326</td></tr><tr><td>&quot;walmart&quot;</td><td>&quot;&lt;Walmart&gt;&quot;</td><td>5.081898</td></tr><tr><td>&quot;microsoft&quot;</td><td>&quot;&lt;Microsoft&gt;&quot;</td><td>5.065191</td></tr><tr><td>&quot;infosys&quot;</td><td>&quot;&lt;Infosys&gt;&quot;</td><td>5.020162</td></tr><tr><td>&quot;deloitte&quot;</td><td>&quot;&lt;Deloitte&gt;&quot;</td><td>5.017501</td></tr><tr><td>&quot;nokia&quot;</td><td>&quot;&lt;Nokia&gt;&quot;</td><td>4.925967</td></tr><tr><td>&quot;capgemini&quot;</td><td>&quot;&lt;Capgemini&gt;&quot;</td><td>4.925204</td></tr><tr><td>&quot;google&quot;</td><td>&quot;&lt;Google&gt;&quot;</td><td>4.875692</td></tr><tr><td>&quot;ericsson&quot;</td><td>&quot;&lt;Ericsson&gt;&quot;</td><td>4.830537</td></tr><tr><td>&quot;boeing&quot;</td><td>&quot;&lt;Boeing&gt;&quot;</td><td>4.827763</td></tr><tr><td>&quot;vodafone&quot;</td><td>&quot;&lt;Vodafone&gt;&quot;</td><td>4.823683</td></tr><tr><td>&quot;pfizer&quot;</td><td>&quot;&lt;Pfizer&gt;&quot;</td><td>4.775159</td></tr><tr><td>&hellip;</td><td>&hellip;</td><td>&hellip;</td></tr><tr><td>&quot;kfc&quot;</td><td>&quot;&lt;KFC&gt;&quot;</td><td>3.081347</td></tr><tr><td>&quot;fifa&quot;</td><td>&quot;&lt;FIFA&gt;&quot;</td><td>3.075547</td></tr><tr><td>&quot;yit&quot;</td><td>&quot;&lt;YIT&gt;&quot;</td><td>3.068186</td></tr><tr><td>&quot;kplc&quot;</td><td>&quot;&lt;KPLC&gt;&quot;</td><td>3.064458</td></tr><tr><td>&quot;nbty&quot;</td><td>&quot;&lt;NBTY&gt;&quot;</td><td>3.061829</td></tr><tr><td>&quot;tdk&quot;</td><td>&quot;&lt;TDK&gt;&quot;</td><td>3.049993</td></tr><tr><td>&quot;vtb&quot;</td><td>&quot;&lt;VTB&gt;&quot;</td><td>3.043755</td></tr><tr><td>&quot;zdf&quot;</td><td>&quot;&lt;ZDF&gt;&quot;</td><td>3.0306</td></tr><tr><td>&quot;xml&quot;</td><td>&quot;&lt;XML&gt;&quot;</td><td>3.022841</td></tr><tr><td>&quot;posco&quot;</td><td>&quot;&lt;POSCO&gt;&quot;</td><td>3.006894</td></tr><tr><td>&quot;oncf&quot;</td><td>&quot;&lt;ONCF&gt;&quot;</td><td>3.006466</td></tr><tr><td>&quot;becu&quot;</td><td>&quot;&lt;BECU&gt;&quot;</td><td>3.0</td></tr></tbody></table></div>"
      ],
      "text/plain": [
       "shape: (3_042, 3)\n",
       "┌──────────────┬──────────────┬──────────┐\n",
       "│ raw_entities ┆ col_to_embed ┆ target   │\n",
       "│ ---          ┆ ---          ┆ ---      │\n",
       "│ str          ┆ str          ┆ f64      │\n",
       "╞══════════════╪══════════════╪══════════╡\n",
       "│ accenture    ┆ <Accenture>  ┆ 5.280326 │\n",
       "│ walmart      ┆ <Walmart>    ┆ 5.081898 │\n",
       "│ microsoft    ┆ <Microsoft>  ┆ 5.065191 │\n",
       "│ infosys      ┆ <Infosys>    ┆ 5.020162 │\n",
       "│ …            ┆ …            ┆ …        │\n",
       "│ xml          ┆ <XML>        ┆ 3.022841 │\n",
       "│ posco        ┆ <POSCO>      ┆ 3.006894 │\n",
       "│ oncf         ┆ <ONCF>       ┆ 3.006466 │\n",
       "│ becu         ┆ <BECU>       ┆ 3.0      │\n",
       "└──────────────┴──────────────┴──────────┘"
      ]
     },
     "execution_count": 19,
     "metadata": {},
     "output_type": "execute_result"
    }
   ],
   "source": [
    "path_original=Path(\"/storage/store3/work/acvetkov/gitlab/KEN/experiments/datasets/company_employees/target.parquet\")\n",
    "df_target_og = pl.read_parquet(path_original)\n",
    "df_target_og"
   ]
  },
  {
   "attachments": {},
   "cell_type": "markdown",
   "metadata": {},
   "source": [
    "Here we are checking which values in `col_to_embed` are not found in `yagofacts[\"subject\"]`. These companies are missing \n",
    "because the name of the company is not the same in the original dataset and in YAGO. "
   ]
  },
  {
   "cell_type": "code",
   "execution_count": 20,
   "metadata": {},
   "outputs": [
    {
     "data": {
      "text/html": [
       "<div><style>\n",
       ".dataframe > thead > tr > th,\n",
       ".dataframe > tbody > tr > td {\n",
       "  text-align: right;\n",
       "}\n",
       "</style>\n",
       "<small>shape: (327, 3)</small><table border=\"1\" class=\"dataframe\"><thead><tr><th>raw_entities</th><th>col_to_embed</th><th>target</th></tr><tr><td>str</td><td>str</td><td>f64</td></tr></thead><tbody><tr><td>&quot;raytheon&quot;</td><td>&quot;&lt;Raytheon&gt;&quot;</td><td>4.375353</td></tr><tr><td>&quot;thales&quot;</td><td>&quot;&lt;Thales&gt;&quot;</td><td>4.321868</td></tr><tr><td>&quot;herbalife&quot;</td><td>&quot;&lt;Herbalife&gt;&quot;</td><td>4.289433</td></tr><tr><td>&quot;flextronics&quot;</td><td>&quot;&lt;Flextronics&gt;&quot;</td><td>4.279644</td></tr><tr><td>&quot;adecco&quot;</td><td>&quot;&lt;Adecco&gt;&quot;</td><td>4.160799</td></tr><tr><td>&quot;altran&quot;</td><td>&quot;&lt;Altran&gt;&quot;</td><td>4.090187</td></tr><tr><td>&quot;statoil&quot;</td><td>&quot;&lt;Statoil&gt;&quot;</td><td>4.081563</td></tr><tr><td>&quot;symantec&quot;</td><td>&quot;&lt;Symantec&gt;&quot;</td><td>4.034628</td></tr><tr><td>&quot;syntel&quot;</td><td>&quot;&lt;Syntel&gt;&quot;</td><td>3.994229</td></tr><tr><td>&quot;arup&quot;</td><td>&quot;&lt;Arup&gt;&quot;</td><td>3.98304</td></tr><tr><td>&quot;natura&quot;</td><td>&quot;&lt;Natura&gt;&quot;</td><td>3.972295</td></tr><tr><td>&quot;tieto&quot;</td><td>&quot;&lt;Tieto&gt;&quot;</td><td>3.93922</td></tr><tr><td>&hellip;</td><td>&hellip;</td><td>&hellip;</td></tr><tr><td>&quot;itv&quot;</td><td>&quot;&lt;ITV&gt;&quot;</td><td>3.562174</td></tr><tr><td>&quot;nasdaq&quot;</td><td>&quot;&lt;NASDAQ&gt;&quot;</td><td>3.482588</td></tr><tr><td>&quot;aselsan&quot;</td><td>&quot;&lt;ASELSAN&gt;&quot;</td><td>3.397071</td></tr><tr><td>&quot;meditech&quot;</td><td>&quot;&lt;MEDITECH&gt;&quot;</td><td>3.329194</td></tr><tr><td>&quot;jysk&quot;</td><td>&quot;&lt;JYSK&gt;&quot;</td><td>3.256477</td></tr><tr><td>&quot;sabb&quot;</td><td>&quot;&lt;SABB&gt;&quot;</td><td>3.190051</td></tr><tr><td>&quot;sagemcom&quot;</td><td>&quot;&lt;SAGEMCOM&gt;&quot;</td><td>3.155943</td></tr><tr><td>&quot;chesf&quot;</td><td>&quot;&lt;CHESF&gt;&quot;</td><td>3.150142</td></tr><tr><td>&quot;oneok&quot;</td><td>&quot;&lt;ONEOK&gt;&quot;</td><td>3.134177</td></tr><tr><td>&quot;trt&quot;</td><td>&quot;&lt;TRT&gt;&quot;</td><td>3.117271</td></tr><tr><td>&quot;nbty&quot;</td><td>&quot;&lt;NBTY&gt;&quot;</td><td>3.061829</td></tr><tr><td>&quot;vtb&quot;</td><td>&quot;&lt;VTB&gt;&quot;</td><td>3.043755</td></tr></tbody></table></div>"
      ],
      "text/plain": [
       "shape: (327, 3)\n",
       "┌──────────────┬───────────────┬──────────┐\n",
       "│ raw_entities ┆ col_to_embed  ┆ target   │\n",
       "│ ---          ┆ ---           ┆ ---      │\n",
       "│ str          ┆ str           ┆ f64      │\n",
       "╞══════════════╪═══════════════╪══════════╡\n",
       "│ raytheon     ┆ <Raytheon>    ┆ 4.375353 │\n",
       "│ thales       ┆ <Thales>      ┆ 4.321868 │\n",
       "│ herbalife    ┆ <Herbalife>   ┆ 4.289433 │\n",
       "│ flextronics  ┆ <Flextronics> ┆ 4.279644 │\n",
       "│ …            ┆ …             ┆ …        │\n",
       "│ oneok        ┆ <ONEOK>       ┆ 3.134177 │\n",
       "│ trt          ┆ <TRT>         ┆ 3.117271 │\n",
       "│ nbty         ┆ <NBTY>        ┆ 3.061829 │\n",
       "│ vtb          ┆ <VTB>         ┆ 3.043755 │\n",
       "└──────────────┴───────────────┴──────────┘"
      ]
     },
     "execution_count": 20,
     "metadata": {},
     "output_type": "execute_result"
    }
   ],
   "source": [
    "df_target_og.filter(\n",
    "    ~pl.col(\"col_to_embed\").is_in(yagofacts[\"subject\"])\n",
    ")"
   ]
  },
  {
   "attachments": {},
   "cell_type": "markdown",
   "metadata": {},
   "source": [
    "# The Movies Dataset"
   ]
  },
  {
   "attachments": {},
   "cell_type": "markdown",
   "metadata": {},
   "source": [
    "The Movies Dataset contains metadata about movies, including the revenue, which is the prediction target for this problem. "
   ]
  },
  {
   "cell_type": "code",
   "execution_count": 21,
   "metadata": {},
   "outputs": [],
   "source": [
    "dataset_dir = Path(data_dir, \"the-movies-dataset\")\n",
    "df = pl.read_csv(Path(dataset_dir, \"movies_metadata.csv\"), infer_schema_length=0)\n"
   ]
  },
  {
   "attachments": {},
   "cell_type": "markdown",
   "metadata": {},
   "source": [
    "Since the target variable is the revenue, movies with revenue 0 are dropped. We are also reformatting the release date for creating the title mappings."
   ]
  },
  {
   "cell_type": "code",
   "execution_count": 22,
   "metadata": {},
   "outputs": [],
   "source": [
    "# Filtering\n",
    "df_filtered = df.filter(\n",
    "    pl.col(\"revenue\").cast(int) > 0\n",
    ").with_columns(\n",
    "    (pl.col(\"release_date\").str.slice(0, 4)).alias(\"release_date\")\n",
    ")"
   ]
  },
  {
   "attachments": {},
   "cell_type": "markdown",
   "metadata": {},
   "source": [
    "`title` and `release_date` together should approximate a unique key quite well: I am looking to see whether this is the case or not. "
   ]
  },
  {
   "cell_type": "code",
   "execution_count": 23,
   "metadata": {},
   "outputs": [
    {
     "data": {
      "text/html": [
       "<div><style>\n",
       ".dataframe > thead > tr > th,\n",
       ".dataframe > tbody > tr > td {\n",
       "  text-align: right;\n",
       "}\n",
       "</style>\n",
       "<small>shape: (7_398, 3)</small><table border=\"1\" class=\"dataframe\"><thead><tr><th>title</th><th>release_date</th><th>count</th></tr><tr><td>str</td><td>str</td><td>u32</td></tr></thead><tbody><tr><td>&quot;Pokémon 4Ever:…</td><td>&quot;2001&quot;</td><td>2</td></tr><tr><td>&quot;Black Gold&quot;</td><td>&quot;2011&quot;</td><td>2</td></tr><tr><td>&quot;A Farewell to …</td><td>&quot;1932&quot;</td><td>2</td></tr><tr><td>&quot;Le Samouraï&quot;</td><td>&quot;1967&quot;</td><td>2</td></tr><tr><td>&quot;Pokémon: Spell…</td><td>&quot;2000&quot;</td><td>2</td></tr><tr><td>&quot;Confessions of…</td><td>&quot;2002&quot;</td><td>2</td></tr><tr><td>&quot;The Congress&quot;</td><td>&quot;2013&quot;</td><td>2</td></tr><tr><td>&quot;Force Majeure&quot;</td><td>&quot;2014&quot;</td><td>2</td></tr><tr><td>&quot;Clockstoppers&quot;</td><td>&quot;2002&quot;</td><td>2</td></tr><tr><td>&quot;Camille Claude…</td><td>&quot;2013&quot;</td><td>2</td></tr><tr><td>&quot;Rumble in the …</td><td>&quot;1995&quot;</td><td>1</td></tr><tr><td>&quot;Pulp Fiction&quot;</td><td>&quot;1994&quot;</td><td>1</td></tr><tr><td>&hellip;</td><td>&hellip;</td><td>&hellip;</td></tr><tr><td>&quot;My Life as a Z…</td><td>&quot;2016&quot;</td><td>1</td></tr><tr><td>&quot;Inferno&quot;</td><td>&quot;2016&quot;</td><td>1</td></tr><tr><td>&quot;Jackie&quot;</td><td>&quot;2016&quot;</td><td>1</td></tr><tr><td>&quot;Live by Night&quot;</td><td>&quot;2016&quot;</td><td>1</td></tr><tr><td>&quot;Bleed for This…</td><td>&quot;2016&quot;</td><td>1</td></tr><tr><td>&quot;A Street Cat N…</td><td>&quot;2016&quot;</td><td>1</td></tr><tr><td>&quot;Kong: Skull Is…</td><td>&quot;2017&quot;</td><td>1</td></tr><tr><td>&quot;The Shack&quot;</td><td>&quot;2017&quot;</td><td>1</td></tr><tr><td>&quot;Smurfs: The Lo…</td><td>&quot;2017&quot;</td><td>1</td></tr><tr><td>&quot;A.P.E.X.&quot;</td><td>&quot;1994&quot;</td><td>1</td></tr><tr><td>&quot;The In Crowd&quot;</td><td>&quot;1988&quot;</td><td>1</td></tr><tr><td>&quot;Baasha&quot;</td><td>&quot;1995&quot;</td><td>1</td></tr></tbody></table></div>"
      ],
      "text/plain": [
       "shape: (7_398, 3)\n",
       "┌───────────────────────────────────┬──────────────┬───────┐\n",
       "│ title                             ┆ release_date ┆ count │\n",
       "│ ---                               ┆ ---          ┆ ---   │\n",
       "│ str                               ┆ str          ┆ u32   │\n",
       "╞═══════════════════════════════════╪══════════════╪═══════╡\n",
       "│ Pokémon 4Ever: Celebi - Voice of… ┆ 2001         ┆ 2     │\n",
       "│ Black Gold                        ┆ 2011         ┆ 2     │\n",
       "│ A Farewell to Arms                ┆ 1932         ┆ 2     │\n",
       "│ Le Samouraï                       ┆ 1967         ┆ 2     │\n",
       "│ …                                 ┆ …            ┆ …     │\n",
       "│ Smurfs: The Lost Village          ┆ 2017         ┆ 1     │\n",
       "│ A.P.E.X.                          ┆ 1994         ┆ 1     │\n",
       "│ The In Crowd                      ┆ 1988         ┆ 1     │\n",
       "│ Baasha                            ┆ 1995         ┆ 1     │\n",
       "└───────────────────────────────────┴──────────────┴───────┘"
      ]
     },
     "execution_count": 23,
     "metadata": {},
     "output_type": "execute_result"
    }
   ],
   "source": [
    "df_filtered.groupby([\"title\", \"release_date\"]).count().sort(\"count\",descending=True)"
   ]
  },
  {
   "cell_type": "code",
   "execution_count": 24,
   "metadata": {},
   "outputs": [],
   "source": [
    "# Prepare 3 different mappings, to try and cover as many cases as possible\n",
    "mapping_to_yago = df_filtered.select([pl.col(\"title\"), pl.col(\"release_date\"), pl.col(\"revenue\")])\n",
    "\n",
    "mapping_to_yago=mapping_to_yago.with_columns(\n",
    "    [\n",
    "        (\"<\" + pl.col(\"title\").str.replace(\" \", \"_\") + \">\").alias(\"title_format_1\"),\n",
    "        (\"<\" + pl.col(\"title\").str.replace(\" \", \"_\") + \"_(film)>\").alias(\"title_format_2\"),\n",
    "        (\"<\" + pl.col(\"title\").str.replace(\" \", \"_\") +  \"_(\" + pl.col(\"release_date\") + \"_film)>\").alias(\"title_format_3\"),\n",
    "        pl.Series(list(range(len(mapping_to_yago)))).alias(\"index\")\n",
    "    ]\n",
    ")"
   ]
  },
  {
   "attachments": {},
   "cell_type": "markdown",
   "metadata": {},
   "source": [
    "Here we are looking for movies that are present in YAGO according to one of the three formats defined above. \n",
    "\n",
    "we also reformat the output to reflect the \"target dataset\" schema. "
   ]
  },
  {
   "cell_type": "code",
   "execution_count": 25,
   "metadata": {},
   "outputs": [],
   "source": [
    "tgt_indices = []\n",
    "selected = []\n",
    "for jj in [3,2,1]:\n",
    "    g1 = mapping_to_yago.filter(\n",
    "        (pl.col(f\"title_format_{jj}\").is_in(yagofacts[\"subject\"])) & \n",
    "        (~pl.col(f\"index\").is_in(tgt_indices))\n",
    "    ).select(pl.col(\"index\"))\n",
    "\n",
    "    tgt_indices=g1[\"index\"].to_list()\n",
    "    \n",
    "    newdf = mapping_to_yago.filter(\n",
    "        pl.col(\"index\").is_in(tgt_indices)\n",
    "    ).select(\n",
    "        [\n",
    "            pl.col(\"title\"),\n",
    "            pl.col(\"release_date\"),\n",
    "            pl.col(f\"title_format_{jj}\").alias(\"col_to_embed\"),\n",
    "            pl.col(\"revenue\").log10(),\n",
    "        ]\n",
    "    )\n",
    "    selected.append(newdf)\n",
    "\n",
    "df_final=pl.concat(selected)\n",
    "df_final\n",
    "df_final.write_parquet(Path(dataset_dir, \"movie-revenues-target.parquet\"))"
   ]
  },
  {
   "attachments": {},
   "cell_type": "markdown",
   "metadata": {},
   "source": [
    "Some preprocessing must be executed in order to flatten the nested fields in the dataset. "
   ]
  },
  {
   "attachments": {},
   "cell_type": "markdown",
   "metadata": {},
   "source": [
    "### Cleaning up movies"
   ]
  },
  {
   "cell_type": "code",
   "execution_count": 26,
   "metadata": {},
   "outputs": [],
   "source": [
    "import ast\n",
    "def clean_genres(ll):\n",
    "    g = ast.literal_eval(ll)\n",
    "    try:\n",
    "        l1 = g[0][\"name\"]\n",
    "        return l1\n",
    "    except IndexError:\n",
    "        return \"\"\n",
    "\n",
    "\n",
    "def clean_production_companies(ll):\n",
    "    try:\n",
    "        g = ast.literal_eval(ll)\n",
    "    except ValueError:\n",
    "        return \"\"\n",
    "    except SyntaxError:\n",
    "        print(ll)\n",
    "    try:\n",
    "        l1 = g[0][\"name\"]\n",
    "        return l1\n",
    "    except IndexError:\n",
    "        return \"\"\n",
    "    except TypeError:\n",
    "        return \"\"\n",
    "\n",
    "\n",
    "def clean_production_country(ll):\n",
    "    try:\n",
    "        g = ast.literal_eval(ll)\n",
    "    except ValueError:\n",
    "        return \"\"\n",
    "    try:\n",
    "        l1 = g[0][\"iso_3166_1\"]\n",
    "        return l1\n",
    "    except IndexError:\n",
    "        return \"\"\n",
    "    except TypeError:\n",
    "        return \"\"\n",
    "\n",
    "\n",
    "def clean_spoken_language(ll):\n",
    "    try:\n",
    "        g = ast.literal_eval(ll)\n",
    "    except ValueError:\n",
    "        return \"\"\n",
    "    try:\n",
    "        l1 = g[0][\"name\"]\n",
    "        return l1\n",
    "    except IndexError:\n",
    "        return \"\"\n",
    "    except TypeError:\n",
    "        return \"\"\n",
    "\n"
   ]
  },
  {
   "cell_type": "code",
   "execution_count": 27,
   "metadata": {},
   "outputs": [],
   "source": [
    "df = df_filtered.lazy().join(df_final.lazy(), left_on=[\"title\", \"release_date\"], right_on=[\"title\", \"release_date\"], how=\"inner\").collect().to_pandas()\n",
    "df = df.drop(\n",
    "    [\n",
    "        \"belongs_to_collection\",\n",
    "        \"homepage\",\n",
    "        \"imdb_id\",\n",
    "        \"overview\",\n",
    "        \"tagline\",\n",
    "        \"poster_path\",\n",
    "    ],\n",
    "    axis=1,\n",
    ")\n",
    "\n",
    "df.genres = df.genres.apply(clean_genres)\n",
    "df.production_companies = df.production_companies.apply(clean_production_companies)\n",
    "df.production_countries = df.production_countries.apply(clean_production_country)\n",
    "df.spoken_languages = df.spoken_languages.apply(clean_spoken_language)\n",
    "\n",
    "\n",
    "df = df.dropna(subset=[\"title\", \"release_date\"])\n",
    "df[\"release_date\"] = df[\"release_date\"].apply(lambda x: str(x[:4])).drop_duplicates()\n",
    "\n",
    "df[\"target\"] = df[\"revenue_right\"]\n",
    "df.drop([\"revenue\",\"revenue_right\"],axis=1).to_parquet(Path(dataset_dir, \"movies-yadl.parquet\"))"
   ]
  },
  {
   "attachments": {},
   "cell_type": "markdown",
   "metadata": {},
   "source": [
    "### Comparing to the KEN version"
   ]
  },
  {
   "cell_type": "code",
   "execution_count": 28,
   "metadata": {},
   "outputs": [
    {
     "data": {
      "text/html": [
       "<div><style>\n",
       ".dataframe > thead > tr > th,\n",
       ".dataframe > tbody > tr > td {\n",
       "  text-align: right;\n",
       "}\n",
       "</style>\n",
       "<small>shape: (3_829, 4)</small><table border=\"1\" class=\"dataframe\"><thead><tr><th>title</th><th>release_date</th><th>col_to_embed</th><th>revenue</th></tr><tr><td>str</td><td>str</td><td>str</td><td>f64</td></tr></thead><tbody><tr><td>&quot;Heat&quot;</td><td>&quot;1995&quot;</td><td>&quot;&lt;Heat_(1995_fi…</td><td>8.272855</td></tr><tr><td>&quot;Sudden Death&quot;</td><td>&quot;1995&quot;</td><td>&quot;&lt;Sudden_Death_…</td><td>7.80855</td></tr><tr><td>&quot;Casino&quot;</td><td>&quot;1995&quot;</td><td>&quot;&lt;Casino_(1995_…</td><td>8.064879</td></tr><tr><td>&quot;Assassins&quot;</td><td>&quot;1995&quot;</td><td>&quot;&lt;Assassins_(19…</td><td>7.481487</td></tr><tr><td>&quot;Mortal Kombat&quot;</td><td>&quot;1995&quot;</td><td>&quot;&lt;Mortal_Kombat…</td><td>8.087057</td></tr><tr><td>&quot;Pocahontas&quot;</td><td>&quot;1995&quot;</td><td>&quot;&lt;Pocahontas_(1…</td><td>8.539176</td></tr><tr><td>&quot;Friday&quot;</td><td>&quot;1995&quot;</td><td>&quot;&lt;Friday_(1995_…</td><td>7.450494</td></tr><tr><td>&quot;Fair Game&quot;</td><td>&quot;1995&quot;</td><td>&quot;&lt;Fair_Game_(19…</td><td>7.061998</td></tr><tr><td>&quot;Screamers&quot;</td><td>&quot;1995&quot;</td><td>&quot;&lt;Screamers_(19…</td><td>6.762069</td></tr><tr><td>&quot;Black Sheep&quot;</td><td>&quot;1996&quot;</td><td>&quot;&lt;Black_Sheep_(…</td><td>1.50515</td></tr><tr><td>&quot;Broken Arrow&quot;</td><td>&quot;1996&quot;</td><td>&quot;&lt;Broken_Arrow_…</td><td>8.176873</td></tr><tr><td>&quot;Boomerang&quot;</td><td>&quot;1992&quot;</td><td>&quot;&lt;Boomerang_(19…</td><td>7.845718</td></tr><tr><td>&hellip;</td><td>&hellip;</td><td>&hellip;</td><td>&hellip;</td></tr><tr><td>&quot;Weekend Pass&quot;</td><td>&quot;1984&quot;</td><td>&quot;&lt;Weekend_Pass&gt;…</td><td>7.323417</td></tr><tr><td>&quot;The Intercepto…</td><td>&quot;2009&quot;</td><td>&quot;&lt;The_Intercept…</td><td>6.273492</td></tr><tr><td>&quot;Rock Dog&quot;</td><td>&quot;2016&quot;</td><td>&quot;&lt;Rock_Dog&gt;&quot;</td><td>6.974076</td></tr><tr><td>&quot;Mudhalvan&quot;</td><td>&quot;1999&quot;</td><td>&quot;&lt;Mudhalvan&gt;&quot;</td><td>7.342423</td></tr><tr><td>&quot;The Battalion&quot;</td><td>&quot;2015&quot;</td><td>&quot;&lt;The_Battalion…</td><td>6.877818</td></tr><tr><td>&quot;Atomic Blonde&quot;</td><td>&quot;2017&quot;</td><td>&quot;&lt;Atomic_Blonde…</td><td>7.954281</td></tr><tr><td>&quot;Dunkirk&quot;</td><td>&quot;2017&quot;</td><td>&quot;&lt;Dunkirk&gt;&quot;</td><td>8.715901</td></tr><tr><td>&quot;Bairavaa&quot;</td><td>&quot;2017&quot;</td><td>&quot;&lt;Bairavaa&gt;&quot;</td><td>7.230449</td></tr><tr><td>&quot;Gymkata&quot;</td><td>&quot;1985&quot;</td><td>&quot;&lt;Gymkata&gt;&quot;</td><td>6.7582</td></tr><tr><td>&quot;Confidential A…</td><td>&quot;2017&quot;</td><td>&quot;&lt;Confidential_…</td><td>7.748963</td></tr><tr><td>&quot;FC Venus&quot;</td><td>&quot;2005&quot;</td><td>&quot;&lt;FC_Venus&gt;&quot;</td><td>6.382304</td></tr><tr><td>&quot;Sahara&quot;</td><td>&quot;2017&quot;</td><td>&quot;&lt;Sahara&gt;&quot;</td><td>6.892095</td></tr></tbody></table></div>"
      ],
      "text/plain": [
       "shape: (3_829, 4)\n",
       "┌─────────────────────────┬──────────────┬────────────────────────────┬──────────┐\n",
       "│ title                   ┆ release_date ┆ col_to_embed               ┆ revenue  │\n",
       "│ ---                     ┆ ---          ┆ ---                        ┆ ---      │\n",
       "│ str                     ┆ str          ┆ str                        ┆ f64      │\n",
       "╞═════════════════════════╪══════════════╪════════════════════════════╪══════════╡\n",
       "│ Heat                    ┆ 1995         ┆ <Heat_(1995_film)>         ┆ 8.272855 │\n",
       "│ Sudden Death            ┆ 1995         ┆ <Sudden_Death_(1995_film)> ┆ 7.80855  │\n",
       "│ Casino                  ┆ 1995         ┆ <Casino_(1995_film)>       ┆ 8.064879 │\n",
       "│ Assassins               ┆ 1995         ┆ <Assassins_(1995_film)>    ┆ 7.481487 │\n",
       "│ …                       ┆ …            ┆ …                          ┆ …        │\n",
       "│ Gymkata                 ┆ 1985         ┆ <Gymkata>                  ┆ 6.7582   │\n",
       "│ Confidential Assignment ┆ 2017         ┆ <Confidential_Assignment>  ┆ 7.748963 │\n",
       "│ FC Venus                ┆ 2005         ┆ <FC_Venus>                 ┆ 6.382304 │\n",
       "│ Sahara                  ┆ 2017         ┆ <Sahara>                   ┆ 6.892095 │\n",
       "└─────────────────────────┴──────────────┴────────────────────────────┴──────────┘"
      ]
     },
     "execution_count": 28,
     "metadata": {},
     "output_type": "execute_result"
    }
   ],
   "source": [
    "df_final"
   ]
  },
  {
   "cell_type": "code",
   "execution_count": 29,
   "metadata": {},
   "outputs": [
    {
     "data": {
      "text/html": [
       "<div><style>\n",
       ".dataframe > thead > tr > th,\n",
       ".dataframe > tbody > tr > td {\n",
       "  text-align: right;\n",
       "}\n",
       "</style>\n",
       "<small>shape: (4_923, 3)</small><table border=\"1\" class=\"dataframe\"><thead><tr><th>raw_entities</th><th>col_to_embed</th><th>target</th></tr><tr><td>str</td><td>str</td><td>f64</td></tr></thead><tbody><tr><td>&quot;Heat&quot;</td><td>&quot;&lt;Heat_(1995_fi…</td><td>8.272855</td></tr><tr><td>&quot;Sudden Death&quot;</td><td>&quot;&lt;Sudden_Death_…</td><td>7.80855</td></tr><tr><td>&quot;Cry, the Belov…</td><td>&quot;&lt;Cry,_the_Belo…</td><td>5.830284</td></tr><tr><td>&quot;Pocahontas&quot;</td><td>&quot;&lt;Pocahontas_(1…</td><td>8.539176</td></tr><tr><td>&quot;Friday&quot;</td><td>&quot;&lt;Friday_(1995_…</td><td>7.450494</td></tr><tr><td>&quot;Fair Game&quot;</td><td>&quot;&lt;Fair_Game_(19…</td><td>7.061998</td></tr><tr><td>&quot;Bed of Roses&quot;</td><td>&quot;&lt;Bed_of_Roses_…</td><td>7.279455</td></tr><tr><td>&quot;Screamers&quot;</td><td>&quot;&lt;Screamers_(19…</td><td>6.762069</td></tr><tr><td>&quot;Black Sheep&quot;</td><td>&quot;&lt;Black_Sheep_(…</td><td>1.50515</td></tr><tr><td>&quot;Broken Arrow&quot;</td><td>&quot;&lt;Broken_Arrow_…</td><td>8.176873</td></tr><tr><td>&quot;Boomerang&quot;</td><td>&quot;&lt;Boomerang_(19…</td><td>7.845718</td></tr><tr><td>&quot;Man of the Yea…</td><td>&quot;&lt;Man_of_the_Ye…</td><td>5.322085</td></tr><tr><td>&hellip;</td><td>&hellip;</td><td>&hellip;</td></tr><tr><td>&quot;Kabhi Alvida N…</td><td>&quot;&lt;Kabhi_Alvida_…</td><td>7.230449</td></tr><tr><td>&quot;The Beguiled&quot;</td><td>&quot;&lt;The_Beguiled&gt;…</td><td>7.405567</td></tr><tr><td>&quot;Desmundo&quot;</td><td>&quot;&lt;Desmundo&gt;&quot;</td><td>0.477121</td></tr><tr><td>&quot;Ed Gein&quot;</td><td>&quot;&lt;Ed_Gein&gt;&quot;</td><td>3.756484</td></tr><tr><td>&quot;The Dawns Here…</td><td>&quot;&lt;The_Dawns_Her…</td><td>6.720095</td></tr><tr><td>&quot;God of Gambler…</td><td>&quot;&lt;God_of_Gamble…</td><td>6.67782</td></tr><tr><td>&quot;I Was a Teenag…</td><td>&quot;&lt;I_Was_a_Teena…</td><td>6.30103</td></tr><tr><td>&quot;Mudhalvan&quot;</td><td>&quot;&lt;Mudhalvan&gt;&quot;</td><td>7.342423</td></tr><tr><td>&quot;Gymkata&quot;</td><td>&quot;&lt;Gymkata&gt;&quot;</td><td>6.7582</td></tr><tr><td>&quot;Moka&quot;</td><td>&quot;&lt;Moka&gt;&quot;</td><td>5.101963</td></tr><tr><td>&quot;One Hundred St…</td><td>&quot;&lt;One_Hundred_S…</td><td>6.25669</td></tr><tr><td>&quot;Sahara&quot;</td><td>&quot;&lt;Sahara&gt;&quot;</td><td>6.892095</td></tr></tbody></table></div>"
      ],
      "text/plain": [
       "shape: (4_923, 3)\n",
       "┌──────────────────────────┬───────────────────────────────────┬──────────┐\n",
       "│ raw_entities             ┆ col_to_embed                      ┆ target   │\n",
       "│ ---                      ┆ ---                               ┆ ---      │\n",
       "│ str                      ┆ str                               ┆ f64      │\n",
       "╞══════════════════════════╪═══════════════════════════════════╪══════════╡\n",
       "│ Heat                     ┆ <Heat_(1995_film)>                ┆ 8.272855 │\n",
       "│ Sudden Death             ┆ <Sudden_Death_(1995_film)>        ┆ 7.80855  │\n",
       "│ Cry, the Beloved Country ┆ <Cry,_the_Beloved_Country_(1995_… ┆ 5.830284 │\n",
       "│ Pocahontas               ┆ <Pocahontas_(1995_film)>          ┆ 8.539176 │\n",
       "│ …                        ┆ …                                 ┆ …        │\n",
       "│ Gymkata                  ┆ <Gymkata>                         ┆ 6.7582   │\n",
       "│ Moka                     ┆ <Moka>                            ┆ 5.101963 │\n",
       "│ One Hundred Steps        ┆ <One_Hundred_Steps>               ┆ 6.25669  │\n",
       "│ Sahara                   ┆ <Sahara>                          ┆ 6.892095 │\n",
       "└──────────────────────────┴───────────────────────────────────┴──────────┘"
      ]
     },
     "execution_count": 29,
     "metadata": {},
     "output_type": "execute_result"
    }
   ],
   "source": [
    "path_original=Path(\"/storage/store3/work/acvetkov/gitlab/KEN/experiments/datasets/movie_revenues/target.parquet\")\n",
    "df_target_og = pl.read_parquet(path_original)\n",
    "df_target_og"
   ]
  },
  {
   "attachments": {},
   "cell_type": "markdown",
   "metadata": {},
   "source": [
    "# US Presidential elections"
   ]
  },
  {
   "cell_type": "code",
   "execution_count": 44,
   "metadata": {},
   "outputs": [],
   "source": [
    "dataset_dir = Path(data_dir, \"presidential-results\")\n",
    "df = pl.read_csv(Path(dataset_dir, \"presidential-results.csv\"), infer_schema_length=0)\n",
    "df = df.to_pandas()"
   ]
  },
  {
   "cell_type": "code",
   "execution_count": 45,
   "metadata": {},
   "outputs": [],
   "source": [
    "df = df[df[\"year\"] == \"2020\"]\n",
    "df[\"county_name\"] = df[\"county_name\"].str.title()\n",
    "df[\"state\"] = df[\"state\"].str.title()\n",
    "df[\"col_to_embed\"] = \"<\" + df[\"county_name\"] + \"_County,_\" + df[\"state\"] + \">\"\n",
    "df[\"target\"] = np.log10(df[\"candidatevotes\"].astype(int) + 1)\n",
    "df[\"raw_entities\"] = df[\"county_name\"] + \" \" + df[\"state\"]\n",
    "# df = df[[\"raw_entities\", \"col_to_embed\", \"party\", \"target\"]]\n",
    "df.dropna(inplace=True)\n"
   ]
  },
  {
   "cell_type": "code",
   "execution_count": 46,
   "metadata": {},
   "outputs": [],
   "source": [
    "df.drop(\n",
    "    [\"raw_entities\", \"candidatevotes\", \"county_fips\", \"office\", \"year\", \"totalvotes\", \"version\", \"mode\"], axis=1\n",
    "    ).to_parquet(Path(dataset_dir, \"us-presidential-results-yadl.parquet\"), index=False)"
   ]
  },
  {
   "cell_type": "code",
   "execution_count": 47,
   "metadata": {},
   "outputs": [],
   "source": [
    "df.drop(\n",
    "    [\"raw_entities\", \"candidatevotes\"], axis=1\n",
    "    ).to_parquet(Path(dataset_dir, \"presidential-results-prepared.parquet\"), index=False)"
   ]
  },
  {
   "cell_type": "code",
   "execution_count": 51,
   "metadata": {},
   "outputs": [
    {
     "data": {
      "text/html": [
       "<div><style>\n",
       ".dataframe > thead > tr > th,\n",
       ".dataframe > tbody > tr > td {\n",
       "  text-align: right;\n",
       "}\n",
       "</style>\n",
       "<small>shape: (22_084, 13)</small><table border=\"1\" class=\"dataframe\"><thead><tr><th>year</th><th>state</th><th>state_po</th><th>county_name</th><th>county_fips</th><th>office</th><th>candidate</th><th>party</th><th>totalvotes</th><th>version</th><th>mode</th><th>col_to_embed</th><th>target</th></tr><tr><td>str</td><td>str</td><td>str</td><td>str</td><td>str</td><td>str</td><td>str</td><td>str</td><td>str</td><td>str</td><td>str</td><td>str</td><td>f64</td></tr></thead><tbody><tr><td>&quot;2020&quot;</td><td>&quot;Alabama&quot;</td><td>&quot;AL&quot;</td><td>&quot;Autauga&quot;</td><td>&quot;01001&quot;</td><td>&quot;US PRESIDENT&quot;</td><td>&quot;JOSEPH R BIDEN…</td><td>&quot;DEMOCRAT&quot;</td><td>&quot;27770&quot;</td><td>&quot;20220315&quot;</td><td>&quot;TOTAL&quot;</td><td>&quot;&lt;Autauga_Count…</td><td>3.875293</td></tr><tr><td>&quot;2020&quot;</td><td>&quot;Alabama&quot;</td><td>&quot;AL&quot;</td><td>&quot;Autauga&quot;</td><td>&quot;01001&quot;</td><td>&quot;US PRESIDENT&quot;</td><td>&quot;OTHER&quot;</td><td>&quot;OTHER&quot;</td><td>&quot;27770&quot;</td><td>&quot;20220315&quot;</td><td>&quot;TOTAL&quot;</td><td>&quot;&lt;Autauga_Count…</td><td>2.633468</td></tr><tr><td>&quot;2020&quot;</td><td>&quot;Alabama&quot;</td><td>&quot;AL&quot;</td><td>&quot;Autauga&quot;</td><td>&quot;01001&quot;</td><td>&quot;US PRESIDENT&quot;</td><td>&quot;DONALD J TRUMP…</td><td>&quot;REPUBLICAN&quot;</td><td>&quot;27770&quot;</td><td>&quot;20220315&quot;</td><td>&quot;TOTAL&quot;</td><td>&quot;&lt;Autauga_Count…</td><td>4.29752</td></tr><tr><td>&quot;2020&quot;</td><td>&quot;Alabama&quot;</td><td>&quot;AL&quot;</td><td>&quot;Baldwin&quot;</td><td>&quot;01003&quot;</td><td>&quot;US PRESIDENT&quot;</td><td>&quot;JOSEPH R BIDEN…</td><td>&quot;DEMOCRAT&quot;</td><td>&quot;109679&quot;</td><td>&quot;20220315&quot;</td><td>&quot;TOTAL&quot;</td><td>&quot;&lt;Baldwin_Count…</td><td>4.390564</td></tr><tr><td>&quot;2020&quot;</td><td>&quot;Alabama&quot;</td><td>&quot;AL&quot;</td><td>&quot;Baldwin&quot;</td><td>&quot;01003&quot;</td><td>&quot;US PRESIDENT&quot;</td><td>&quot;OTHER&quot;</td><td>&quot;OTHER&quot;</td><td>&quot;109679&quot;</td><td>&quot;20220315&quot;</td><td>&quot;TOTAL&quot;</td><td>&quot;&lt;Baldwin_Count…</td><td>3.192567</td></tr><tr><td>&quot;2020&quot;</td><td>&quot;Alabama&quot;</td><td>&quot;AL&quot;</td><td>&quot;Baldwin&quot;</td><td>&quot;01003&quot;</td><td>&quot;US PRESIDENT&quot;</td><td>&quot;DONALD J TRUMP…</td><td>&quot;REPUBLICAN&quot;</td><td>&quot;109679&quot;</td><td>&quot;20220315&quot;</td><td>&quot;TOTAL&quot;</td><td>&quot;&lt;Baldwin_Count…</td><td>4.92192</td></tr><tr><td>&quot;2020&quot;</td><td>&quot;Alabama&quot;</td><td>&quot;AL&quot;</td><td>&quot;Barbour&quot;</td><td>&quot;01005&quot;</td><td>&quot;US PRESIDENT&quot;</td><td>&quot;JOSEPH R BIDEN…</td><td>&quot;DEMOCRAT&quot;</td><td>&quot;10518&quot;</td><td>&quot;20220315&quot;</td><td>&quot;TOTAL&quot;</td><td>&quot;&lt;Barbour_Count…</td><td>3.682777</td></tr><tr><td>&quot;2020&quot;</td><td>&quot;Alabama&quot;</td><td>&quot;AL&quot;</td><td>&quot;Barbour&quot;</td><td>&quot;01005&quot;</td><td>&quot;US PRESIDENT&quot;</td><td>&quot;OTHER&quot;</td><td>&quot;OTHER&quot;</td><td>&quot;10518&quot;</td><td>&quot;20220315&quot;</td><td>&quot;TOTAL&quot;</td><td>&quot;&lt;Barbour_Count…</td><td>1.908485</td></tr><tr><td>&quot;2020&quot;</td><td>&quot;Alabama&quot;</td><td>&quot;AL&quot;</td><td>&quot;Barbour&quot;</td><td>&quot;01005&quot;</td><td>&quot;US PRESIDENT&quot;</td><td>&quot;DONALD J TRUMP…</td><td>&quot;REPUBLICAN&quot;</td><td>&quot;10518&quot;</td><td>&quot;20220315&quot;</td><td>&quot;TOTAL&quot;</td><td>&quot;&lt;Barbour_Count…</td><td>3.749968</td></tr><tr><td>&quot;2020&quot;</td><td>&quot;Alabama&quot;</td><td>&quot;AL&quot;</td><td>&quot;Bibb&quot;</td><td>&quot;01007&quot;</td><td>&quot;US PRESIDENT&quot;</td><td>&quot;JOSEPH R BIDEN…</td><td>&quot;DEMOCRAT&quot;</td><td>&quot;9595&quot;</td><td>&quot;20220315&quot;</td><td>&quot;TOTAL&quot;</td><td>&quot;&lt;Bibb_County,_…</td><td>3.298198</td></tr><tr><td>&quot;2020&quot;</td><td>&quot;Alabama&quot;</td><td>&quot;AL&quot;</td><td>&quot;Bibb&quot;</td><td>&quot;01007&quot;</td><td>&quot;US PRESIDENT&quot;</td><td>&quot;OTHER&quot;</td><td>&quot;OTHER&quot;</td><td>&quot;9595&quot;</td><td>&quot;20220315&quot;</td><td>&quot;TOTAL&quot;</td><td>&quot;&lt;Bibb_County,_…</td><td>1.929419</td></tr><tr><td>&quot;2020&quot;</td><td>&quot;Alabama&quot;</td><td>&quot;AL&quot;</td><td>&quot;Bibb&quot;</td><td>&quot;01007&quot;</td><td>&quot;US PRESIDENT&quot;</td><td>&quot;DONALD J TRUMP…</td><td>&quot;REPUBLICAN&quot;</td><td>&quot;9595&quot;</td><td>&quot;20220315&quot;</td><td>&quot;TOTAL&quot;</td><td>&quot;&lt;Bibb_County,_…</td><td>3.876564</td></tr><tr><td>&hellip;</td><td>&hellip;</td><td>&hellip;</td><td>&hellip;</td><td>&hellip;</td><td>&hellip;</td><td>&hellip;</td><td>&hellip;</td><td>&hellip;</td><td>&hellip;</td><td>&hellip;</td><td>&hellip;</td><td>&hellip;</td></tr><tr><td>&quot;2020&quot;</td><td>&quot;Wyoming&quot;</td><td>&quot;WY&quot;</td><td>&quot;Uinta&quot;</td><td>&quot;56041&quot;</td><td>&quot;US PRESIDENT&quot;</td><td>&quot;JOSEPH R BIDEN…</td><td>&quot;DEMOCRAT&quot;</td><td>&quot;9459&quot;</td><td>&quot;20220315&quot;</td><td>&quot;TOTAL&quot;</td><td>&quot;&lt;Uinta_County,…</td><td>3.201943</td></tr><tr><td>&quot;2020&quot;</td><td>&quot;Wyoming&quot;</td><td>&quot;WY&quot;</td><td>&quot;Uinta&quot;</td><td>&quot;56041&quot;</td><td>&quot;US PRESIDENT&quot;</td><td>&quot;JO JORGENSEN&quot;</td><td>&quot;LIBERTARIAN&quot;</td><td>&quot;9459&quot;</td><td>&quot;20220315&quot;</td><td>&quot;TOTAL&quot;</td><td>&quot;&lt;Uinta_County,…</td><td>2.238046</td></tr><tr><td>&quot;2020&quot;</td><td>&quot;Wyoming&quot;</td><td>&quot;WY&quot;</td><td>&quot;Uinta&quot;</td><td>&quot;56041&quot;</td><td>&quot;US PRESIDENT&quot;</td><td>&quot;OTHER&quot;</td><td>&quot;OTHER&quot;</td><td>&quot;9459&quot;</td><td>&quot;20220315&quot;</td><td>&quot;TOTAL&quot;</td><td>&quot;&lt;Uinta_County,…</td><td>2.303196</td></tr><tr><td>&quot;2020&quot;</td><td>&quot;Wyoming&quot;</td><td>&quot;WY&quot;</td><td>&quot;Uinta&quot;</td><td>&quot;56041&quot;</td><td>&quot;US PRESIDENT&quot;</td><td>&quot;DONALD J TRUMP…</td><td>&quot;REPUBLICAN&quot;</td><td>&quot;9459&quot;</td><td>&quot;20220315&quot;</td><td>&quot;TOTAL&quot;</td><td>&quot;&lt;Uinta_County,…</td><td>3.874888</td></tr><tr><td>&quot;2020&quot;</td><td>&quot;Wyoming&quot;</td><td>&quot;WY&quot;</td><td>&quot;Washakie&quot;</td><td>&quot;56043&quot;</td><td>&quot;US PRESIDENT&quot;</td><td>&quot;JOSEPH R BIDEN…</td><td>&quot;DEMOCRAT&quot;</td><td>&quot;4032&quot;</td><td>&quot;20220315&quot;</td><td>&quot;TOTAL&quot;</td><td>&quot;&lt;Washakie_Coun…</td><td>2.814248</td></tr><tr><td>&quot;2020&quot;</td><td>&quot;Wyoming&quot;</td><td>&quot;WY&quot;</td><td>&quot;Washakie&quot;</td><td>&quot;56043&quot;</td><td>&quot;US PRESIDENT&quot;</td><td>&quot;JO JORGENSEN&quot;</td><td>&quot;LIBERTARIAN&quot;</td><td>&quot;4032&quot;</td><td>&quot;20220315&quot;</td><td>&quot;TOTAL&quot;</td><td>&quot;&lt;Washakie_Coun…</td><td>1.819544</td></tr><tr><td>&quot;2020&quot;</td><td>&quot;Wyoming&quot;</td><td>&quot;WY&quot;</td><td>&quot;Washakie&quot;</td><td>&quot;56043&quot;</td><td>&quot;US PRESIDENT&quot;</td><td>&quot;OTHER&quot;</td><td>&quot;OTHER&quot;</td><td>&quot;4032&quot;</td><td>&quot;20220315&quot;</td><td>&quot;TOTAL&quot;</td><td>&quot;&lt;Washakie_Coun…</td><td>1.857332</td></tr><tr><td>&quot;2020&quot;</td><td>&quot;Wyoming&quot;</td><td>&quot;WY&quot;</td><td>&quot;Washakie&quot;</td><td>&quot;56043&quot;</td><td>&quot;US PRESIDENT&quot;</td><td>&quot;DONALD J TRUMP…</td><td>&quot;REPUBLICAN&quot;</td><td>&quot;4032&quot;</td><td>&quot;20220315&quot;</td><td>&quot;TOTAL&quot;</td><td>&quot;&lt;Washakie_Coun…</td><td>3.511349</td></tr><tr><td>&quot;2020&quot;</td><td>&quot;Wyoming&quot;</td><td>&quot;WY&quot;</td><td>&quot;Weston&quot;</td><td>&quot;56045&quot;</td><td>&quot;US PRESIDENT&quot;</td><td>&quot;JOSEPH R BIDEN…</td><td>&quot;DEMOCRAT&quot;</td><td>&quot;3560&quot;</td><td>&quot;20220315&quot;</td><td>&quot;TOTAL&quot;</td><td>&quot;&lt;Weston_County…</td><td>2.557507</td></tr><tr><td>&quot;2020&quot;</td><td>&quot;Wyoming&quot;</td><td>&quot;WY&quot;</td><td>&quot;Weston&quot;</td><td>&quot;56045&quot;</td><td>&quot;US PRESIDENT&quot;</td><td>&quot;JO JORGENSEN&quot;</td><td>&quot;LIBERTARIAN&quot;</td><td>&quot;3560&quot;</td><td>&quot;20220315&quot;</td><td>&quot;TOTAL&quot;</td><td>&quot;&lt;Weston_County…</td><td>1.672098</td></tr><tr><td>&quot;2020&quot;</td><td>&quot;Wyoming&quot;</td><td>&quot;WY&quot;</td><td>&quot;Weston&quot;</td><td>&quot;56045&quot;</td><td>&quot;US PRESIDENT&quot;</td><td>&quot;OTHER&quot;</td><td>&quot;OTHER&quot;</td><td>&quot;3560&quot;</td><td>&quot;20220315&quot;</td><td>&quot;TOTAL&quot;</td><td>&quot;&lt;Weston_County…</td><td>1.681241</td></tr><tr><td>&quot;2020&quot;</td><td>&quot;Wyoming&quot;</td><td>&quot;WY&quot;</td><td>&quot;Weston&quot;</td><td>&quot;56045&quot;</td><td>&quot;US PRESIDENT&quot;</td><td>&quot;DONALD J TRUMP…</td><td>&quot;REPUBLICAN&quot;</td><td>&quot;3560&quot;</td><td>&quot;20220315&quot;</td><td>&quot;TOTAL&quot;</td><td>&quot;&lt;Weston_County…</td><td>3.492481</td></tr></tbody></table></div>"
      ],
      "text/plain": [
       "shape: (22_084, 13)\n",
       "┌──────┬─────────┬──────────┬─────────────┬───┬──────────┬───────┬──────────────────────┬──────────┐\n",
       "│ year ┆ state   ┆ state_po ┆ county_name ┆ … ┆ version  ┆ mode  ┆ col_to_embed         ┆ target   │\n",
       "│ ---  ┆ ---     ┆ ---      ┆ ---         ┆   ┆ ---      ┆ ---   ┆ ---                  ┆ ---      │\n",
       "│ str  ┆ str     ┆ str      ┆ str         ┆   ┆ str      ┆ str   ┆ str                  ┆ f64      │\n",
       "╞══════╪═════════╪══════════╪═════════════╪═══╪══════════╪═══════╪══════════════════════╪══════════╡\n",
       "│ 2020 ┆ Alabama ┆ AL       ┆ Autauga     ┆ … ┆ 20220315 ┆ TOTAL ┆ <Autauga_County,_Ala ┆ 3.875293 │\n",
       "│      ┆         ┆          ┆             ┆   ┆          ┆       ┆ bama>                ┆          │\n",
       "│ 2020 ┆ Alabama ┆ AL       ┆ Autauga     ┆ … ┆ 20220315 ┆ TOTAL ┆ <Autauga_County,_Ala ┆ 2.633468 │\n",
       "│      ┆         ┆          ┆             ┆   ┆          ┆       ┆ bama>                ┆          │\n",
       "│ 2020 ┆ Alabama ┆ AL       ┆ Autauga     ┆ … ┆ 20220315 ┆ TOTAL ┆ <Autauga_County,_Ala ┆ 4.29752  │\n",
       "│      ┆         ┆          ┆             ┆   ┆          ┆       ┆ bama>                ┆          │\n",
       "│ 2020 ┆ Alabama ┆ AL       ┆ Baldwin     ┆ … ┆ 20220315 ┆ TOTAL ┆ <Baldwin_County,_Ala ┆ 4.390564 │\n",
       "│      ┆         ┆          ┆             ┆   ┆          ┆       ┆ bama>                ┆          │\n",
       "│ …    ┆ …       ┆ …        ┆ …           ┆ … ┆ …        ┆ …     ┆ …                    ┆ …        │\n",
       "│ 2020 ┆ Wyoming ┆ WY       ┆ Weston      ┆ … ┆ 20220315 ┆ TOTAL ┆ <Weston_County,_Wyom ┆ 2.557507 │\n",
       "│      ┆         ┆          ┆             ┆   ┆          ┆       ┆ ing>                 ┆          │\n",
       "│ 2020 ┆ Wyoming ┆ WY       ┆ Weston      ┆ … ┆ 20220315 ┆ TOTAL ┆ <Weston_County,_Wyom ┆ 1.672098 │\n",
       "│      ┆         ┆          ┆             ┆   ┆          ┆       ┆ ing>                 ┆          │\n",
       "│ 2020 ┆ Wyoming ┆ WY       ┆ Weston      ┆ … ┆ 20220315 ┆ TOTAL ┆ <Weston_County,_Wyom ┆ 1.681241 │\n",
       "│      ┆         ┆          ┆             ┆   ┆          ┆       ┆ ing>                 ┆          │\n",
       "│ 2020 ┆ Wyoming ┆ WY       ┆ Weston      ┆ … ┆ 20220315 ┆ TOTAL ┆ <Weston_County,_Wyom ┆ 3.492481 │\n",
       "│      ┆         ┆          ┆             ┆   ┆          ┆       ┆ ing>                 ┆          │\n",
       "└──────┴─────────┴──────────┴─────────────┴───┴──────────┴───────┴──────────────────────┴──────────┘"
      ]
     },
     "execution_count": 51,
     "metadata": {},
     "output_type": "execute_result"
    }
   ],
   "source": [
    "pl.read_parquet(Path(dataset_dir, \"presidential-results-prepared.parquet\"))"
   ]
  },
  {
   "cell_type": "code",
   "execution_count": 35,
   "metadata": {},
   "outputs": [
    {
     "name": "stderr",
     "output_type": "stream",
     "text": [
      "/storage/workspace/tmp/ipykernel_13446/1115888739.py:1: FutureWarning: The default value of numeric_only in DataFrameGroupBy.sum is deprecated. In a future version, numeric_only will default to False. Either specify numeric_only or select only columns which should be valid for the function.\n",
      "  df=df.groupby([\"raw_entities\", \"col_to_embed\", \"party\"], as_index=False).sum()\n"
     ]
    }
   ],
   "source": [
    "\n",
    "df=df.groupby([\"raw_entities\", \"col_to_embed\", \"party\"], as_index=False).sum()\n",
    "\n",
    "df[\"col_to_embed\"] = df[\"col_to_embed\"].str.replace(\" \", \"_\")\n",
    "mask = df[\"col_to_embed\"].str.contains(\"Louisiana\")\n",
    "df.loc[mask, \"col_to_embed\"] = df.loc[mask, \"col_to_embed\"].str.replace(\n",
    "    \"County\", \"Parish\"\n",
    ")\n",
    "df[\"col_to_embed\"] = df[\"col_to_embed\"].str.replace(\"_City_County\", \"\")\n"
   ]
  }
 ],
 "metadata": {
  "kernelspec": {
   "display_name": "base",
   "language": "python",
   "name": "python3"
  },
  "language_info": {
   "codemirror_mode": {
    "name": "ipython",
    "version": 3
   },
   "file_extension": ".py",
   "mimetype": "text/x-python",
   "name": "python",
   "nbconvert_exporter": "python",
   "pygments_lexer": "ipython3",
   "version": "3.10.10"
  },
  "orig_nbformat": 4
 },
 "nbformat": 4,
 "nbformat_minor": 2
}
