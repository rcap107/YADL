{
 "cells": [
  {
   "cell_type": "markdown",
   "metadata": {},
   "source": [
    "# Python API for NYU's DataMart"
   ]
  },
  {
   "attachments": {},
   "cell_type": "markdown",
   "metadata": {},
   "source": [
    "This notebook showcases how to use the Python API for the NYU's DataMart system, which implements the common DataMart interface (https://gitlab.com/datadrivendiscovery/datamart-api/blob/master/datamart.py). To install it: `pip install datamart_nyu`"
   ]
  },
  {
   "cell_type": "code",
   "execution_count": 10,
   "metadata": {},
   "outputs": [],
   "source": [
    "from d3m import container\n",
    "import datamart\n",
    "import datamart_rest\n",
    "import datetime\n",
    "from pathlib import Path\n",
    "import requests\n",
    "import json\n",
    "from urllib.error import HTTPError"
   ]
  },
  {
   "cell_type": "code",
   "execution_count": 2,
   "metadata": {},
   "outputs": [],
   "source": [
    "def print_results(results):\n",
    "    if not results:\n",
    "        return\n",
    "    for result in results:\n",
    "        print(result.score())\n",
    "        print(result.get_json_metadata()['metadata']['name'])\n",
    "        if (result.get_augment_hint()):\n",
    "            print(\"Left Columns: %s\" %\n",
    "                  str(result.get_json_metadata()['augmentation']['left_columns_names']))\n",
    "            print(\"Right Columns: %s\" %\n",
    "                  str(result.get_json_metadata()['augmentation']['right_columns_names']))\n",
    "        else:\n",
    "            print(result.id())\n",
    "        print(\"-------------------\")"
   ]
  },
  {
   "cell_type": "markdown",
   "metadata": {},
   "source": [
    "Loading the taxi data, i.e., our supplied data."
   ]
  },
  {
   "cell_type": "code",
   "execution_count": 3,
   "metadata": {},
   "outputs": [
    {
     "data": {
      "text/plain": [
       "True"
      ]
     },
     "execution_count": 3,
     "metadata": {},
     "output_type": "execute_result"
    }
   ],
   "source": [
    "ds_n = \"LL0_1008_analcatdata_reviewer\"\n",
    "target_dataset = Path(f\"datasets-master/training_datasets/LL0/{ds_n}\",\n",
    "         f\"{ds_n}_dataset/\")\n",
    "target_dataset_metadata = target_dataset/Path(\"datasetDoc.json\")\n",
    "target_dataset_learning_data = target_dataset/Path(\"tables/learningData.csv\")\n",
    "target_dataset_learning_data.exists()"
   ]
  },
  {
   "cell_type": "code",
   "execution_count": 4,
   "metadata": {},
   "outputs": [],
   "source": [
    "full_container = container.Dataset.load(target_dataset_learning_data.absolute().as_uri()) "
   ]
  },
  {
   "cell_type": "code",
   "execution_count": 5,
   "metadata": {},
   "outputs": [
    {
     "data": {
      "text/plain": [
       "Dataset(id='file:///home/soda/rcappuzz/work/study-d3m/datasets-master/training_datasets/LL0/LL0_1008_analcatdata_reviewer/LL0_1008_analcatdata_reviewer_dataset/tables/learningData.csv', name='learningData.csv', location_uris='('file:///home/soda/rcappuzz/work/study-d3m/datasets-master/training_datasets/LL0/LL0_1008_analcatdata_reviewer/LL0_1008_analcatdata_reviewer_dataset/tables/learningData.csv',)')"
      ]
     },
     "execution_count": 5,
     "metadata": {},
     "output_type": "execute_result"
    }
   ],
   "source": [
    "full_container"
   ]
  },
  {
   "cell_type": "markdown",
   "metadata": {},
   "source": [
    "## Searching for Datasets"
   ]
  },
  {
   "cell_type": "markdown",
   "metadata": {},
   "source": [
    "Let's first instantiate our client:"
   ]
  },
  {
   "cell_type": "code",
   "execution_count": 6,
   "metadata": {},
   "outputs": [],
   "source": [
    "client = datamart_rest.RESTDatamart('https://auctus.vida-nyu.org/api/v1')"
   ]
  },
  {
   "cell_type": "markdown",
   "metadata": {},
   "source": [
    "### Search using data"
   ]
  },
  {
   "cell_type": "code",
   "execution_count": 12,
   "metadata": {},
   "outputs": [],
   "source": [
    "cursor = client.search_with_data(query={}, supplied_data=full_container)"
   ]
  },
  {
   "cell_type": "code",
   "execution_count": 15,
   "metadata": {},
   "outputs": [
    {
     "name": "stderr",
     "output_type": "stream",
     "text": [
      "Error from DataMart: 500 Internal Server Error\n"
     ]
    },
    {
     "ename": "AttributeError",
     "evalue": "'HTTPError' object has no attribute 'code'",
     "output_type": "error",
     "traceback": [
      "\u001b[0;31m---------------------------------------------------------------------------\u001b[0m",
      "\u001b[0;31mHTTPError\u001b[0m                                 Traceback (most recent call last)",
      "Cell \u001b[0;32mIn[15], line 3\u001b[0m\n\u001b[1;32m      2\u001b[0m     cursor \u001b[39m=\u001b[39m client\u001b[39m.\u001b[39msearch_with_data(query\u001b[39m=\u001b[39m{}, supplied_data\u001b[39m=\u001b[39mfull_container)\n\u001b[0;32m----> 3\u001b[0m     results \u001b[39m=\u001b[39m cursor\u001b[39m.\u001b[39;49mget_next_page()\n\u001b[1;32m      4\u001b[0m \u001b[39mexcept\u001b[39;00m \u001b[39mException\u001b[39;00m \u001b[39mas\u001b[39;00m e:\n",
      "File \u001b[0;32m~/mambaforge/envs/d3m/lib/python3.8/site-packages/datamart_rest/rest.py:141\u001b[0m, in \u001b[0;36mRESTQueryCursor.get_next_page\u001b[0;34m(self, limit, timeout)\u001b[0m\n\u001b[1;32m    140\u001b[0m \u001b[39mif\u001b[39;00m \u001b[39mnot\u001b[39;00m \u001b[39mself\u001b[39m\u001b[39m.\u001b[39m_sent:\n\u001b[0;32m--> 141\u001b[0m     \u001b[39mself\u001b[39;49m\u001b[39m.\u001b[39;49m_query(timeout)\n\u001b[1;32m    142\u001b[0m     \u001b[39m# thread = threading.Thread(target=self._query,\u001b[39;00m\n\u001b[1;32m    143\u001b[0m     \u001b[39m#                           args=[timeout])\u001b[39;00m\n\u001b[1;32m    144\u001b[0m     \u001b[39m# thread.setDaemon(True)\u001b[39;00m\n\u001b[1;32m    145\u001b[0m     \u001b[39m# thread.start()\u001b[39;00m\n",
      "File \u001b[0;32m~/mambaforge/envs/d3m/lib/python3.8/site-packages/datamart_rest/rest.py:116\u001b[0m, in \u001b[0;36mRESTQueryCursor._query\u001b[0;34m(self, timeout)\u001b[0m\n\u001b[1;32m    114\u001b[0m     logger\u001b[39m.\u001b[39mwarning(\u001b[39m\"\u001b[39m\u001b[39mError from DataMart: \u001b[39m\u001b[39m%s\u001b[39;00m\u001b[39m \u001b[39m\u001b[39m%s\u001b[39;00m\u001b[39m\"\u001b[39m,\n\u001b[1;32m    115\u001b[0m                    res\u001b[39m.\u001b[39mstatus_code, res\u001b[39m.\u001b[39mreason)\n\u001b[0;32m--> 116\u001b[0m res\u001b[39m.\u001b[39;49mraise_for_status()\n\u001b[1;32m    118\u001b[0m \u001b[39m# with self._mutex:\u001b[39;00m\n",
      "File \u001b[0;32m~/mambaforge/envs/d3m/lib/python3.8/site-packages/requests/models.py:953\u001b[0m, in \u001b[0;36mResponse.raise_for_status\u001b[0;34m(self)\u001b[0m\n\u001b[1;32m    952\u001b[0m \u001b[39mif\u001b[39;00m http_error_msg:\n\u001b[0;32m--> 953\u001b[0m     \u001b[39mraise\u001b[39;00m HTTPError(http_error_msg, response\u001b[39m=\u001b[39m\u001b[39mself\u001b[39m)\n",
      "\u001b[0;31mHTTPError\u001b[0m: 500 Server Error: Internal Server Error for url: https://auctus.vida-nyu.org/api/v1/search",
      "\nDuring handling of the above exception, another exception occurred:\n",
      "\u001b[0;31mAttributeError\u001b[0m                            Traceback (most recent call last)",
      "Cell \u001b[0;32mIn[15], line 5\u001b[0m\n\u001b[1;32m      3\u001b[0m     results \u001b[39m=\u001b[39m cursor\u001b[39m.\u001b[39mget_next_page()\n\u001b[1;32m      4\u001b[0m \u001b[39mexcept\u001b[39;00m \u001b[39mException\u001b[39;00m \u001b[39mas\u001b[39;00m e:\n\u001b[0;32m----> 5\u001b[0m     \u001b[39mif\u001b[39;00m e\u001b[39m.\u001b[39;49mcode \u001b[39m==\u001b[39m \u001b[39m500\u001b[39m:\n\u001b[1;32m      6\u001b[0m         \u001b[39mprint\u001b[39m(\u001b[39m\"\u001b[39m\u001b[39mServer error\u001b[39m\u001b[39m\"\u001b[39m)\n\u001b[1;32m      7\u001b[0m         \u001b[39mraise\u001b[39;00m\n",
      "\u001b[0;31mAttributeError\u001b[0m: 'HTTPError' object has no attribute 'code'"
     ]
    }
   ],
   "source": [
    "try:\n",
    "    cursor = client.search_with_data(query={}, supplied_data=full_container)\n",
    "    results = cursor.get_next_page()\n",
    "except Exception as e:\n",
    "    \n",
    "    print(\"Server error\")\n",
    "    raise"
   ]
  },
  {
   "cell_type": "code",
   "execution_count": 46,
   "metadata": {},
   "outputs": [],
   "source": [
    "URL = 'https://auctus.vida-nyu.org/api/v1' \n",
    "url = URL + '/search'\n",
    "query = {\n",
    "\n",
    "}\n",
    "\n",
    "\n",
    "with open(target_dataset_learning_data, 'rb') as data:\n",
    "    response = requests.post(\n",
    "        url,\n",
    "        files={\n",
    "            'data': data,\n",
    "            'query': ('query.json', json.dumps(query), 'application/json'),\n",
    "        }\n",
    "    )\n",
    "if response.status_code == 400:\n",
    "    try:\n",
    "        print('Error: %s' % response.json()['error'])\n",
    "    except (KeyError, ValueError):\n",
    "        pass\n",
    "response.raise_for_status()\n",
    "query_results = response.json()['results'] "
   ]
  },
  {
   "cell_type": "code",
   "execution_count": 36,
   "metadata": {},
   "outputs": [
    {
     "data": {
      "text/plain": [
       "<Response [200]>"
      ]
     },
     "execution_count": 36,
     "metadata": {},
     "output_type": "execute_result"
    }
   ],
   "source": [
    "response"
   ]
  },
  {
   "cell_type": "code",
   "execution_count": 45,
   "metadata": {},
   "outputs": [
    {
     "data": {
      "text/plain": [
       "20"
      ]
     },
     "execution_count": 45,
     "metadata": {},
     "output_type": "execute_result"
    }
   ],
   "source": [
    "len(results)"
   ]
  },
  {
   "cell_type": "code",
   "execution_count": 37,
   "metadata": {},
   "outputs": [
    {
     "name": "stdout",
     "output_type": "stream",
     "text": [
      "1.0\n",
      "OATH Hearings Division Case Status\n",
      "Left Columns: [['year_zone']]\n",
      "Right Columns: [['Charge #4: Code']]\n",
      "-------------------\n",
      "1.0\n",
      "OATH Hearings Division Case Status\n",
      "Left Columns: [['year_zone']]\n",
      "Right Columns: [['Charge #5: Code']]\n",
      "-------------------\n",
      "1.0\n",
      "OATH Hearings Division Case Status\n",
      "Left Columns: [['year_zone']]\n",
      "Right Columns: [['Charge #7: Code']]\n",
      "-------------------\n",
      "1.0\n",
      "OATH Hearings Division Case Status\n",
      "Left Columns: [['year_zone']]\n",
      "Right Columns: [['Charge #9: Code']]\n",
      "-------------------\n",
      "1.0\n",
      "Multi-Modal Intelligent Traffic Signal Systems Basic Safety Message\n",
      "Left Columns: [['year_zone']]\n",
      "Right Columns: [['MsgCnt']]\n",
      "-------------------\n",
      "1.0\n",
      "Parcels\n",
      "Left Columns: [['year_zone']]\n",
      "Right Columns: [['Situs Unit No']]\n",
      "-------------------\n",
      "1.0\n",
      "Arrests\n",
      "Left Columns: [['zone']]\n",
      "Right Columns: [['CHARGE 4 TYPE']]\n",
      "-------------------\n",
      "1.0\n",
      "Arrests\n",
      "Left Columns: [['zone']]\n",
      "Right Columns: [['CHARGE 3 TYPE']]\n",
      "-------------------\n",
      "1.0\n",
      "Arrests\n",
      "Left Columns: [['zone']]\n",
      "Right Columns: [['CHARGE 2 TYPE']]\n",
      "-------------------\n",
      "1.0\n",
      "Traffic Tickets Issued: Four Year Window\n",
      "Left Columns: [['zone']]\n",
      "Right Columns: [['Gender']]\n",
      "-------------------\n",
      "1.0\n",
      "\"Book of Negroes\", 1783\n",
      "Left Columns: [['zone']]\n",
      "Right Columns: [['ARgender']]\n",
      "-------------------\n",
      "1.0\n",
      "Pharmacy Medical Billing Services (SV4) Header Information\n",
      "Left Columns: [['binaryClass']]\n",
      "Right Columns: [['Provider Agreement Code']]\n",
      "-------------------\n",
      "1.0\n",
      "Nova Scotia Co-operatives\n",
      "Left Columns: [['binaryClass']]\n",
      "Right Columns: [['Non-Profit(N)/For-Profit(P)']]\n",
      "-------------------\n",
      "0.8333333730697632\n",
      "Traffic Volumes - Provincial Highway System\n",
      "Left Columns: [['dry_or_irr']]\n",
      "Right Columns: [['GROUP']]\n",
      "-------------------\n",
      "0.8333333730697632\n",
      "Nursing Home Deficiencies in Utah 2018\n",
      "Left Columns: [['dry_or_irr']]\n",
      "Right Columns: [['Scope Severity Code']]\n",
      "-------------------\n",
      "0.8333333730697632\n",
      "Traffic Crashes Resulting in Injury: Parties Involved\n",
      "Left Columns: [['dry_or_irr']]\n",
      "Right Columns: [['oaf_violation_suffix']]\n",
      "-------------------\n",
      "0.8333333730697632\n",
      "Nursing Home Deficiencies in Utah 2020\n",
      "Left Columns: [['dry_or_irr']]\n",
      "Right Columns: [['Scope Severity Code']]\n",
      "-------------------\n",
      "0.8333333730697632\n",
      "DOB Sign Application Filings\n",
      "Left Columns: [['dry_or_irr']]\n",
      "Right Columns: [['Job Status']]\n",
      "-------------------\n",
      "0.8333333730697632\n",
      "Plumbing Permits\n",
      "Left Columns: [['dry_or_irr']]\n",
      "Right Columns: [['Street Number Suffix']]\n",
      "-------------------\n",
      "0.8333333730697632\n",
      "Medicare Nursing Home Deficiencies Utah\n",
      "Left Columns: [['dry_or_irr']]\n",
      "Right Columns: [['Scope Severity Code']]\n",
      "-------------------\n"
     ]
    }
   ],
   "source": [
    "print_results(results)"
   ]
  },
  {
   "cell_type": "code",
   "execution_count": 53,
   "metadata": {},
   "outputs": [
    {
     "data": {
      "text/plain": [
       "{'datamart.socrata.data-austintexas-gov.m4cc-q8pr',\n",
       " 'datamart.socrata.data-austintexas-gov.vv43-e55n',\n",
       " 'datamart.socrata.data-bayareametro-gov.67rs-kbwq',\n",
       " 'datamart.socrata.data-bayareametro-gov.iqfe-j3rr',\n",
       " 'datamart.socrata.data-cityofchicago-org.dpt3-jri9',\n",
       " 'datamart.socrata.data-cityofnewyork-us.jz4z-kudi',\n",
       " 'datamart.socrata.data-cityofnewyork-us.m8p6-tp4b',\n",
       " 'datamart.socrata.data-cityofnewyork-us.nu7n-tubp',\n",
       " 'datamart.socrata.data-cityofnewyork-us.nyis-y4yr',\n",
       " 'datamart.socrata.data-lacounty-gov.n54c-jkaq',\n",
       " 'datamart.socrata.data-michigan-gov.abaf-2i39',\n",
       " 'datamart.socrata.data-novascotia-ca.2ga3-gg5k',\n",
       " 'datamart.socrata.data-novascotia-ca.36ek-n7n8',\n",
       " 'datamart.socrata.data-novascotia-ca.8524-ec3n',\n",
       " 'datamart.socrata.data-novascotia-ca.czww-f8n7',\n",
       " 'datamart.socrata.data-novascotia-ca.k29k-n2db',\n",
       " 'datamart.socrata.data-novascotia-ca.wu5w-qxki',\n",
       " 'datamart.socrata.data-novascotia-ca.xxcy-v3fh',\n",
       " 'datamart.socrata.data-ny-gov.q4hy-kbtf',\n",
       " 'datamart.socrata.data-ny-gov.u6hu-h7p5',\n",
       " 'datamart.socrata.data-sfgov-org.8gtc-pjc6',\n",
       " 'datamart.socrata.data-sfgov-org.a6aw-rudh',\n",
       " 'datamart.socrata.data-sfgov-org.ftty-kx6y',\n",
       " 'datamart.socrata.data-sfgov-org.i98e-djp9',\n",
       " 'datamart.socrata.data-texas-gov.mzi7-5ajk',\n",
       " 'datamart.socrata.data-usaid-gov.42ku-7vuy',\n",
       " 'datamart.socrata.data-usaid-gov.esat-t7xs',\n",
       " 'datamart.socrata.data-usaid-gov.ffyh-fqaz',\n",
       " 'datamart.socrata.data-virginia-gov.ks5z-4w2d',\n",
       " 'datamart.socrata.data-virginia-gov.t4nd-rm7w',\n",
       " 'datamart.socrata.datahub-transportation-gov.5tsh-j288',\n",
       " 'datamart.socrata.datahub-transportation-gov.vv3u-45rg',\n",
       " 'datamart.socrata.opendata-utah-gov.7mpn-gy4p',\n",
       " 'datamart.socrata.opendata-utah-gov.bmgs-yrz4',\n",
       " 'datamart.socrata.opendata-utah-gov.fmim-mdyt',\n",
       " 'datamart.socrata.opendata-utah-gov.hzd4-e5wr',\n",
       " 'datamart.socrata.opendata-utah-gov.u356-8ahb',\n",
       " 'datamart.upload.c257d70f12a34ada803eae1b9b4f04b0',\n",
       " 'datamart.zenodo.3987326.97a01112-9e64-4d5d-addd-eb4f42906ea2',\n",
       " 'datamart.zenodo.5093688.117e7aa0-de18-412b-8554-a315a9393f0f',\n",
       " 'datamart.zenodo.5093688.ab5578d6-62b5-45c3-b5d0-1f5644bfe93f',\n",
       " 'datamart.zenodo.5093688.b959cbb5-3259-4235-b848-014f62a8a439',\n",
       " 'datamart.zenodo.7331926.1613b4f7-ca98-4e68-a53c-2da0a467b0a6',\n",
       " 'datamart.zenodo.7331926.39cc7412-7c25-49ea-8856-5dcd1b69b0ff'}"
      ]
     },
     "execution_count": 53,
     "metadata": {},
     "output_type": "execute_result"
    }
   ],
   "source": [
    "set([_[\"id\"] for _ in response.json()[\"results\"]])"
   ]
  },
  {
   "cell_type": "code",
   "execution_count": null,
   "metadata": {},
   "outputs": [],
   "source": []
  },
  {
   "cell_type": "code",
   "execution_count": null,
   "metadata": {},
   "outputs": [],
   "source": []
  },
  {
   "cell_type": "code",
   "execution_count": null,
   "metadata": {},
   "outputs": [],
   "source": []
  },
  {
   "cell_type": "code",
   "execution_count": null,
   "metadata": {},
   "outputs": [],
   "source": []
  },
  {
   "cell_type": "code",
   "execution_count": null,
   "metadata": {},
   "outputs": [],
   "source": []
  },
  {
   "cell_type": "markdown",
   "metadata": {},
   "source": [
    "## Downloading a dataset"
   ]
  },
  {
   "cell_type": "markdown",
   "metadata": {},
   "source": [
    "Now let's materialize one of the weather datasets, in case the user wants to take a look at the data before augmenting it (or so that the user can augment the data him/herself)."
   ]
  },
  {
   "cell_type": "code",
   "execution_count": null,
   "metadata": {},
   "outputs": [],
   "source": [
    "ny_weather_data = results[0].download(supplied_data=None)"
   ]
  },
  {
   "cell_type": "code",
   "execution_count": null,
   "metadata": {},
   "outputs": [
    {
     "data": {
      "text/html": [
       "<div>\n",
       "<style scoped>\n",
       "    .dataframe tbody tr th:only-of-type {\n",
       "        vertical-align: middle;\n",
       "    }\n",
       "\n",
       "    .dataframe tbody tr th {\n",
       "        vertical-align: top;\n",
       "    }\n",
       "\n",
       "    .dataframe thead th {\n",
       "        text-align: right;\n",
       "    }\n",
       "</style>\n",
       "<table border=\"1\" class=\"dataframe\">\n",
       "  <thead>\n",
       "    <tr style=\"text-align: right;\">\n",
       "      <th></th>\n",
       "      <th>DATE</th>\n",
       "      <th>HOURLYSKYCONDITIONS</th>\n",
       "      <th>HOURLYDRYBULBTEMPC</th>\n",
       "      <th>HOURLYRelativeHumidity</th>\n",
       "      <th>HOURLYWindSpeed</th>\n",
       "      <th>HOURLYWindDirection</th>\n",
       "      <th>HOURLYStationPressure</th>\n",
       "    </tr>\n",
       "  </thead>\n",
       "  <tbody>\n",
       "    <tr>\n",
       "      <th>0</th>\n",
       "      <td>2016-01-01 01:00:00</td>\n",
       "      <td>OVC:08 38</td>\n",
       "      <td>6.1</td>\n",
       "      <td>58.0</td>\n",
       "      <td>17</td>\n",
       "      <td>300</td>\n",
       "      <td>30.03</td>\n",
       "    </tr>\n",
       "    <tr>\n",
       "      <th>1</th>\n",
       "      <td>2016-01-01 02:00:00</td>\n",
       "      <td>OVC:08 38</td>\n",
       "      <td>6.1</td>\n",
       "      <td>56.0</td>\n",
       "      <td>16</td>\n",
       "      <td>320</td>\n",
       "      <td>30.03</td>\n",
       "    </tr>\n",
       "    <tr>\n",
       "      <th>2</th>\n",
       "      <td>2016-01-01 03:00:00</td>\n",
       "      <td>OVC:08 38</td>\n",
       "      <td>5.6</td>\n",
       "      <td>55.0</td>\n",
       "      <td>13</td>\n",
       "      <td>340</td>\n",
       "      <td>30.03</td>\n",
       "    </tr>\n",
       "    <tr>\n",
       "      <th>3</th>\n",
       "      <td>2016-01-01 04:00:00</td>\n",
       "      <td>OVC:08 36</td>\n",
       "      <td>5.6</td>\n",
       "      <td>55.0</td>\n",
       "      <td>13</td>\n",
       "      <td>300</td>\n",
       "      <td>30.03</td>\n",
       "    </tr>\n",
       "    <tr>\n",
       "      <th>4</th>\n",
       "      <td>2016-01-01 05:00:00</td>\n",
       "      <td>FEW:02 34 OVC:08 45</td>\n",
       "      <td>5.0</td>\n",
       "      <td>60.0</td>\n",
       "      <td>13</td>\n",
       "      <td>270</td>\n",
       "      <td>30.01</td>\n",
       "    </tr>\n",
       "  </tbody>\n",
       "</table>\n",
       "</div>"
      ],
      "text/plain": [
       "                  DATE  HOURLYSKYCONDITIONS HOURLYDRYBULBTEMPC  \\\n",
       "0  2016-01-01 01:00:00            OVC:08 38                6.1   \n",
       "1  2016-01-01 02:00:00            OVC:08 38                6.1   \n",
       "2  2016-01-01 03:00:00            OVC:08 38                5.6   \n",
       "3  2016-01-01 04:00:00            OVC:08 36                5.6   \n",
       "4  2016-01-01 05:00:00  FEW:02 34 OVC:08 45                5.0   \n",
       "\n",
       "  HOURLYRelativeHumidity HOURLYWindSpeed HOURLYWindDirection  \\\n",
       "0                   58.0              17                 300   \n",
       "1                   56.0              16                 320   \n",
       "2                   55.0              13                 340   \n",
       "3                   55.0              13                 300   \n",
       "4                   60.0              13                 270   \n",
       "\n",
       "  HOURLYStationPressure  \n",
       "0                 30.03  \n",
       "1                 30.03  \n",
       "2                 30.03  \n",
       "3                 30.03  \n",
       "4                 30.01  "
      ]
     },
     "execution_count": 19,
     "metadata": {},
     "output_type": "execute_result"
    }
   ],
   "source": [
    "ny_weather_data['learningData'].head()"
   ]
  },
  {
   "cell_type": "markdown",
   "metadata": {},
   "source": [
    "You can also give a dataset as input so that DataMart can try to return a dataset that joins well with it. Only portions of the DataMart dataset that join with the input data will be returned."
   ]
  },
  {
   "cell_type": "code",
   "execution_count": null,
   "metadata": {},
   "outputs": [],
   "source": [
    "ny_weather_data = results[0].download(supplied_data=ny_taxi_demand)"
   ]
  },
  {
   "cell_type": "code",
   "execution_count": null,
   "metadata": {},
   "outputs": [
    {
     "data": {
      "text/html": [
       "<div>\n",
       "<style scoped>\n",
       "    .dataframe tbody tr th:only-of-type {\n",
       "        vertical-align: middle;\n",
       "    }\n",
       "\n",
       "    .dataframe tbody tr th {\n",
       "        vertical-align: top;\n",
       "    }\n",
       "\n",
       "    .dataframe thead th {\n",
       "        text-align: right;\n",
       "    }\n",
       "</style>\n",
       "<table border=\"1\" class=\"dataframe\">\n",
       "  <thead>\n",
       "    <tr style=\"text-align: right;\">\n",
       "      <th></th>\n",
       "      <th>DATE</th>\n",
       "      <th>HOURLYSKYCONDITIONS</th>\n",
       "      <th>HOURLYDRYBULBTEMPC</th>\n",
       "      <th>HOURLYRelativeHumidity</th>\n",
       "      <th>HOURLYWindSpeed</th>\n",
       "      <th>HOURLYWindDirection</th>\n",
       "      <th>HOURLYStationPressure</th>\n",
       "    </tr>\n",
       "  </thead>\n",
       "  <tbody>\n",
       "    <tr>\n",
       "      <th>0</th>\n",
       "      <td>2018-04-19 22:00:00</td>\n",
       "      <td>FEW:02 42</td>\n",
       "      <td>5.0</td>\n",
       "      <td>53.0</td>\n",
       "      <td>16.0</td>\n",
       "      <td>310</td>\n",
       "      <td>29.97</td>\n",
       "    </tr>\n",
       "    <tr>\n",
       "      <th>1</th>\n",
       "      <td>2018-06-30 20:00:00</td>\n",
       "      <td>SCT:04 250</td>\n",
       "      <td>30.6</td>\n",
       "      <td>43.0</td>\n",
       "      <td>5.0</td>\n",
       "      <td>180</td>\n",
       "      <td>29.97</td>\n",
       "    </tr>\n",
       "    <tr>\n",
       "      <th>2</th>\n",
       "      <td>2018-06-02 10:00:00</td>\n",
       "      <td>FEW:02 40 FEW:02 150 SCT:04 200</td>\n",
       "      <td>28.3</td>\n",
       "      <td>61.0</td>\n",
       "      <td>6.0</td>\n",
       "      <td>070</td>\n",
       "      <td>29.7</td>\n",
       "    </tr>\n",
       "    <tr>\n",
       "      <th>3</th>\n",
       "      <td>2018-04-17 13:00:00</td>\n",
       "      <td>BKN:07 46 BKN:07 85</td>\n",
       "      <td>8.3</td>\n",
       "      <td>44.0</td>\n",
       "      <td>17.0</td>\n",
       "      <td>260</td>\n",
       "      <td>29.6</td>\n",
       "    </tr>\n",
       "    <tr>\n",
       "      <th>4</th>\n",
       "      <td>2018-01-04 01:00:00</td>\n",
       "      <td>OVC:08 32</td>\n",
       "      <td>-1.7</td>\n",
       "      <td>45.0</td>\n",
       "      <td>8.0</td>\n",
       "      <td>020</td>\n",
       "      <td>29.91</td>\n",
       "    </tr>\n",
       "  </tbody>\n",
       "</table>\n",
       "</div>"
      ],
      "text/plain": [
       "                  DATE              HOURLYSKYCONDITIONS HOURLYDRYBULBTEMPC  \\\n",
       "0  2018-04-19 22:00:00                        FEW:02 42                5.0   \n",
       "1  2018-06-30 20:00:00                       SCT:04 250               30.6   \n",
       "2  2018-06-02 10:00:00  FEW:02 40 FEW:02 150 SCT:04 200               28.3   \n",
       "3  2018-04-17 13:00:00              BKN:07 46 BKN:07 85                8.3   \n",
       "4  2018-01-04 01:00:00                        OVC:08 32               -1.7   \n",
       "\n",
       "  HOURLYRelativeHumidity HOURLYWindSpeed HOURLYWindDirection  \\\n",
       "0                   53.0            16.0                 310   \n",
       "1                   43.0             5.0                 180   \n",
       "2                   61.0             6.0                 070   \n",
       "3                   44.0            17.0                 260   \n",
       "4                   45.0             8.0                 020   \n",
       "\n",
       "  HOURLYStationPressure  \n",
       "0                 29.97  \n",
       "1                 29.97  \n",
       "2                  29.7  \n",
       "3                  29.6  \n",
       "4                 29.91  "
      ]
     },
     "execution_count": 21,
     "metadata": {},
     "output_type": "execute_result"
    }
   ],
   "source": [
    "ny_weather_data['learningData'].head()"
   ]
  },
  {
   "cell_type": "markdown",
   "metadata": {},
   "source": [
    "## Augmenting a dataset"
   ]
  },
  {
   "cell_type": "markdown",
   "metadata": {},
   "source": [
    " Let's try to do our augmentation for the first query result."
   ]
  },
  {
   "cell_type": "code",
   "execution_count": null,
   "metadata": {},
   "outputs": [],
   "source": [
    "join_ = results[0].augment(supplied_data=ny_taxi_demand)"
   ]
  },
  {
   "cell_type": "code",
   "execution_count": null,
   "metadata": {},
   "outputs": [
    {
     "data": {
      "text/html": [
       "<div>\n",
       "<style scoped>\n",
       "    .dataframe tbody tr th:only-of-type {\n",
       "        vertical-align: middle;\n",
       "    }\n",
       "\n",
       "    .dataframe tbody tr th {\n",
       "        vertical-align: top;\n",
       "    }\n",
       "\n",
       "    .dataframe thead th {\n",
       "        text-align: right;\n",
       "    }\n",
       "</style>\n",
       "<table border=\"1\" class=\"dataframe\">\n",
       "  <thead>\n",
       "    <tr style=\"text-align: right;\">\n",
       "      <th></th>\n",
       "      <th>d3mIndex</th>\n",
       "      <th>tpep_pickup_datetime</th>\n",
       "      <th>num_pickups</th>\n",
       "      <th>HOURLYSKYCONDITIONS</th>\n",
       "      <th>HOURLYDRYBULBTEMPC</th>\n",
       "      <th>HOURLYRelativeHumidity</th>\n",
       "      <th>HOURLYWindSpeed</th>\n",
       "      <th>HOURLYWindDirection</th>\n",
       "      <th>HOURLYStationPressure</th>\n",
       "    </tr>\n",
       "  </thead>\n",
       "  <tbody>\n",
       "    <tr>\n",
       "      <th>0</th>\n",
       "      <td>0</td>\n",
       "      <td>2018-04-19 22:00:00</td>\n",
       "      <td>731</td>\n",
       "      <td>FEW:02 42</td>\n",
       "      <td>5.0</td>\n",
       "      <td>53.0</td>\n",
       "      <td>16.0</td>\n",
       "      <td>310</td>\n",
       "      <td>29.97</td>\n",
       "    </tr>\n",
       "    <tr>\n",
       "      <th>1</th>\n",
       "      <td>1</td>\n",
       "      <td>2018-06-30 20:00:00</td>\n",
       "      <td>183</td>\n",
       "      <td>SCT:04 250</td>\n",
       "      <td>30.6</td>\n",
       "      <td>43.0</td>\n",
       "      <td>5.0</td>\n",
       "      <td>180</td>\n",
       "      <td>29.97</td>\n",
       "    </tr>\n",
       "    <tr>\n",
       "      <th>2</th>\n",
       "      <td>2</td>\n",
       "      <td>2018-06-02 10:00:00</td>\n",
       "      <td>384</td>\n",
       "      <td>FEW:02 40 FEW:02 150 SCT:04 200</td>\n",
       "      <td>28.3</td>\n",
       "      <td>61.0</td>\n",
       "      <td>6.0</td>\n",
       "      <td>070</td>\n",
       "      <td>29.7</td>\n",
       "    </tr>\n",
       "    <tr>\n",
       "      <th>3</th>\n",
       "      <td>3</td>\n",
       "      <td>2018-04-17 13:00:00</td>\n",
       "      <td>648</td>\n",
       "      <td>BKN:07 46 BKN:07 85</td>\n",
       "      <td>8.3</td>\n",
       "      <td>44.0</td>\n",
       "      <td>17.0</td>\n",
       "      <td>260</td>\n",
       "      <td>29.6</td>\n",
       "    </tr>\n",
       "    <tr>\n",
       "      <th>4</th>\n",
       "      <td>4</td>\n",
       "      <td>2018-01-04 01:00:00</td>\n",
       "      <td>3</td>\n",
       "      <td>OVC:08 32</td>\n",
       "      <td>-1.7</td>\n",
       "      <td>45.0</td>\n",
       "      <td>8.0</td>\n",
       "      <td>020</td>\n",
       "      <td>29.91</td>\n",
       "    </tr>\n",
       "  </tbody>\n",
       "</table>\n",
       "</div>"
      ],
      "text/plain": [
       "  d3mIndex tpep_pickup_datetime num_pickups              HOURLYSKYCONDITIONS  \\\n",
       "0        0  2018-04-19 22:00:00         731                        FEW:02 42   \n",
       "1        1  2018-06-30 20:00:00         183                       SCT:04 250   \n",
       "2        2  2018-06-02 10:00:00         384  FEW:02 40 FEW:02 150 SCT:04 200   \n",
       "3        3  2018-04-17 13:00:00         648              BKN:07 46 BKN:07 85   \n",
       "4        4  2018-01-04 01:00:00           3                        OVC:08 32   \n",
       "\n",
       "  HOURLYDRYBULBTEMPC HOURLYRelativeHumidity HOURLYWindSpeed  \\\n",
       "0                5.0                   53.0            16.0   \n",
       "1               30.6                   43.0             5.0   \n",
       "2               28.3                   61.0             6.0   \n",
       "3                8.3                   44.0            17.0   \n",
       "4               -1.7                   45.0             8.0   \n",
       "\n",
       "  HOURLYWindDirection HOURLYStationPressure  \n",
       "0                 310                 29.97  \n",
       "1                 180                 29.97  \n",
       "2                 070                  29.7  \n",
       "3                 260                  29.6  \n",
       "4                 020                 29.91  "
      ]
     },
     "execution_count": 23,
     "metadata": {},
     "output_type": "execute_result"
    }
   ],
   "source": [
    "join_['learningData'].head()"
   ]
  },
  {
   "cell_type": "markdown",
   "metadata": {},
   "source": [
    "We can also choose which columns from the DataMart dataset (i.e., the weather data) that we want in the augmentation process."
   ]
  },
  {
   "cell_type": "code",
   "execution_count": null,
   "metadata": {},
   "outputs": [],
   "source": [
    "join_ = results[0].augment(\n",
    "    supplied_data=ny_taxi_demand,\n",
    "    augment_columns=[datamart.DatasetColumn('0', 3), datamart.DatasetColumn('0', 5)]\n",
    ")"
   ]
  },
  {
   "cell_type": "code",
   "execution_count": null,
   "metadata": {},
   "outputs": [
    {
     "data": {
      "text/html": [
       "<div>\n",
       "<style scoped>\n",
       "    .dataframe tbody tr th:only-of-type {\n",
       "        vertical-align: middle;\n",
       "    }\n",
       "\n",
       "    .dataframe tbody tr th {\n",
       "        vertical-align: top;\n",
       "    }\n",
       "\n",
       "    .dataframe thead th {\n",
       "        text-align: right;\n",
       "    }\n",
       "</style>\n",
       "<table border=\"1\" class=\"dataframe\">\n",
       "  <thead>\n",
       "    <tr style=\"text-align: right;\">\n",
       "      <th></th>\n",
       "      <th>d3mIndex</th>\n",
       "      <th>tpep_pickup_datetime</th>\n",
       "      <th>num_pickups</th>\n",
       "      <th>HOURLYRelativeHumidity</th>\n",
       "      <th>HOURLYWindDirection</th>\n",
       "    </tr>\n",
       "  </thead>\n",
       "  <tbody>\n",
       "    <tr>\n",
       "      <th>0</th>\n",
       "      <td>0</td>\n",
       "      <td>2018-04-19 22:00:00</td>\n",
       "      <td>731</td>\n",
       "      <td>53.0</td>\n",
       "      <td>310</td>\n",
       "    </tr>\n",
       "    <tr>\n",
       "      <th>1</th>\n",
       "      <td>1</td>\n",
       "      <td>2018-06-30 20:00:00</td>\n",
       "      <td>183</td>\n",
       "      <td>43.0</td>\n",
       "      <td>180</td>\n",
       "    </tr>\n",
       "    <tr>\n",
       "      <th>2</th>\n",
       "      <td>2</td>\n",
       "      <td>2018-06-02 10:00:00</td>\n",
       "      <td>384</td>\n",
       "      <td>61.0</td>\n",
       "      <td>070</td>\n",
       "    </tr>\n",
       "    <tr>\n",
       "      <th>3</th>\n",
       "      <td>3</td>\n",
       "      <td>2018-04-17 13:00:00</td>\n",
       "      <td>648</td>\n",
       "      <td>44.0</td>\n",
       "      <td>260</td>\n",
       "    </tr>\n",
       "    <tr>\n",
       "      <th>4</th>\n",
       "      <td>4</td>\n",
       "      <td>2018-01-04 01:00:00</td>\n",
       "      <td>3</td>\n",
       "      <td>45.0</td>\n",
       "      <td>020</td>\n",
       "    </tr>\n",
       "  </tbody>\n",
       "</table>\n",
       "</div>"
      ],
      "text/plain": [
       "  d3mIndex tpep_pickup_datetime num_pickups HOURLYRelativeHumidity  \\\n",
       "0        0  2018-04-19 22:00:00         731                   53.0   \n",
       "1        1  2018-06-30 20:00:00         183                   43.0   \n",
       "2        2  2018-06-02 10:00:00         384                   61.0   \n",
       "3        3  2018-04-17 13:00:00         648                   44.0   \n",
       "4        4  2018-01-04 01:00:00           3                   45.0   \n",
       "\n",
       "  HOURLYWindDirection  \n",
       "0                 310  \n",
       "1                 180  \n",
       "2                 070  \n",
       "3                 260  \n",
       "4                 020  "
      ]
     },
     "execution_count": 25,
     "metadata": {},
     "output_type": "execute_result"
    }
   ],
   "source": [
    "join_['learningData'].head()"
   ]
  },
  {
   "cell_type": "code",
   "execution_count": null,
   "metadata": {},
   "outputs": [],
   "source": []
  }
 ],
 "metadata": {
  "kernelspec": {
   "display_name": "d3m",
   "language": "python",
   "name": "python3"
  },
  "language_info": {
   "codemirror_mode": {
    "name": "ipython",
    "version": 3
   },
   "file_extension": ".py",
   "mimetype": "text/x-python",
   "name": "python",
   "nbconvert_exporter": "python",
   "pygments_lexer": "ipython3",
   "version": "3.8.15"
  },
  "vscode": {
   "interpreter": {
    "hash": "27bf6faeb6d80a10db576d62e7a06499ed49c2354988f8ef4703ff0a60cd9893"
   }
  }
 },
 "nbformat": 4,
 "nbformat_minor": 2
}
