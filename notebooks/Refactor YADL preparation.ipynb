{
 "cells": [
  {
   "cell_type": "code",
   "execution_count": 1,
   "metadata": {},
   "outputs": [
    {
     "name": "stdout",
     "output_type": "stream",
     "text": [
      "/home/soda/rcappuzz/work/prepare-data-lakes\n"
     ]
    }
   ],
   "source": [
    "%cd /home/soda/rcappuzz/work/prepare-data-lakes"
   ]
  },
  {
   "cell_type": "code",
   "execution_count": 2,
   "metadata": {},
   "outputs": [],
   "source": [
    "import src.yago.utils as utils"
   ]
  },
  {
   "cell_type": "code",
   "execution_count": 3,
   "metadata": {},
   "outputs": [],
   "source": [
    "import seaborn as sns\n",
    "import matplotlib.pyplot as plt\n",
    "import networkx as nx\n",
    "import pandas as pd\n",
    "import polars as pl\n",
    "from pathlib import Path\n",
    "import numpy as np\n",
    "from tqdm import tqdm\n",
    "\n",
    "sns.set_theme(\"paper\", style=\"whitegrid\")"
   ]
  },
  {
   "cell_type": "code",
   "execution_count": 38,
   "metadata": {},
   "outputs": [
    {
     "data": {
      "text/plain": [
       "polars.config.Config"
      ]
     },
     "execution_count": 38,
     "metadata": {},
     "output_type": "execute_result"
    }
   ],
   "source": [
    "cfg = pl.Config()\n",
    "cfg.set_fmt_str_lengths(150)"
   ]
  },
  {
   "cell_type": "code",
   "execution_count": 4,
   "metadata": {},
   "outputs": [],
   "source": [
    "yago_path = Path(\"/storage/store3/work/jstojano/yago3/\")\n",
    "facts1_path = Path(yago_path, \"facts_parquet/yago_updated_2022_part1\")\n",
    "facts2_path = Path(yago_path, \"facts_parquet/yago_updated_2022_part2\")"
   ]
  },
  {
   "cell_type": "code",
   "execution_count": 5,
   "metadata": {},
   "outputs": [],
   "source": [
    "fname = \"yagoTypes\"\n",
    "yagotypes_path = Path(facts1_path, f\"{fname}.tsv.parquet\")\n",
    "df_types = utils.import_from_yago(yagotypes_path)"
   ]
  },
  {
   "cell_type": "code",
   "execution_count": 16,
   "metadata": {},
   "outputs": [],
   "source": [
    "fname = \"yagoFacts\"\n",
    "yagofacts_path = Path(facts2_path, f\"{fname}.tsv.parquet\")\n",
    "yagofacts = utils.import_from_yago(yagofacts_path)\n",
    "fname = \"yagoLiteralFacts\"\n",
    "yagoliteralfacts_path = Path(facts2_path, f\"{fname}.tsv.parquet\")\n",
    "yagoliteralfacts = utils.import_from_yago(yagoliteralfacts_path)\n",
    "fname = \"yagoDateFacts\"\n",
    "yagodatefacts_path = Path(facts2_path, f\"{fname}.tsv.parquet\")\n",
    "yagodatefacts = utils.import_from_yago(yagodatefacts_path)"
   ]
  },
  {
   "cell_type": "code",
   "execution_count": 17,
   "metadata": {},
   "outputs": [],
   "source": [
    "yagofacts = yagofacts.drop(\"num_object\")"
   ]
  },
  {
   "cell_type": "code",
   "execution_count": 19,
   "metadata": {},
   "outputs": [],
   "source": [
    "yagodatefacts = yagodatefacts.with_columns(\n",
    "    pl.col(\"cat_object\")\n",
    "    .str.split(\"^^\").list.first().str.to_datetime(strict=False).dt.date().cast(pl.Utf8).alias(\"cat_object\")\n",
    ").drop_nulls(\"cat_object\").drop(\"num_object\")"
   ]
  },
  {
   "cell_type": "code",
   "execution_count": 20,
   "metadata": {},
   "outputs": [],
   "source": [
    "yagoliteralfacts = yagoliteralfacts.with_columns(\n",
    "    pl.when(pl.col(\"num_object\").is_not_null())\n",
    "    .then(pl.col(\"num_object\"))\n",
    "    .otherwise(pl.col(\"cat_object\"))\n",
    "    .alias(\"cat_object\")\n",
    ").drop(\"num_object\")"
   ]
  },
  {
   "cell_type": "code",
   "execution_count": 23,
   "metadata": {},
   "outputs": [],
   "source": [
    "df_facts = pl.concat([yagofacts, yagoliteralfacts, yagodatefacts]).drop(\"id\")"
   ]
  },
  {
   "cell_type": "code",
   "execution_count": 40,
   "metadata": {},
   "outputs": [
    {
     "data": {
      "text/html": [
       "<div><style>\n",
       ".dataframe > thead > tr > th,\n",
       ".dataframe > tbody > tr > td {\n",
       "  text-align: right;\n",
       "}\n",
       "</style>\n",
       "<small>shape: (1_015, 5)</small><table border=\"1\" class=\"dataframe\"><thead><tr><th>id</th><th>subject</th><th>predicate</th><th>cat_object</th><th>num_object</th></tr><tr><td>str</td><td>str</td><td>str</td><td>str</td><td>f64</td></tr></thead><tbody><tr><td>&quot;&lt;id_PP4Fgwd3O6_KCM_2WuexOboD1&gt;&quot;</td><td>&quot;&lt;South_Parade_Pier&gt;&quot;</td><td>&quot;rdf:type&quot;</td><td>&quot;&lt;wordnet_pier_103933529&gt;&quot;</td><td>null</td></tr><tr><td>&quot;&lt;id_S?cBQTdyTg_KCM_N?8Ck7Lpgi&gt;&quot;</td><td>&quot;&lt;1988_United_States_Senate_election_in_New_York&gt;&quot;</td><td>&quot;rdf:type&quot;</td><td>&quot;&lt;wordnet_election_100181781&gt;&quot;</td><td>null</td></tr><tr><td>&quot;&lt;id_e1rrdF7bPy_KCM_8YKdPoy?Yj&gt;&quot;</td><td>&quot;&lt;Fregat&gt;&quot;</td><td>&quot;rdf:type&quot;</td><td>&quot;&lt;wordnet_phase_115290337&gt;&quot;</td><td>null</td></tr><tr><td>&quot;&lt;id_3eosUH!UpW_KCM_RCvUzF20tg&gt;&quot;</td><td>&quot;&lt;CODESYS&gt;&quot;</td><td>&quot;rdf:type&quot;</td><td>&quot;&lt;wordnet_platform_103961939&gt;&quot;</td><td>null</td></tr><tr><td>&quot;&lt;id_wWPNkb?tcA_KCM_gcYrxUIzku&gt;&quot;</td><td>&quot;&lt;Penny_Blue&gt;&quot;</td><td>&quot;rdf:type&quot;</td><td>&quot;&lt;wordnet_cast_113913566&gt;&quot;</td><td>null</td></tr><tr><td>&quot;&lt;id_4!vVb!QsLw_KCM_rCmmppklcW&gt;&quot;</td><td>&quot;&lt;1951_Italian_Grand_Prix&gt;&quot;</td><td>&quot;rdf:type&quot;</td><td>&quot;&lt;wordnet_race_107472657&gt;&quot;</td><td>null</td></tr><tr><td>&quot;&lt;id_GMDh?X49lw_KCM_HsZFfsa9!W&gt;&quot;</td><td>&quot;&lt;Alkaline_water_electrolysis&gt;&quot;</td><td>&quot;rdf:type&quot;</td><td>&quot;&lt;wordnet_electrolysis_113472125&gt;&quot;</td><td>null</td></tr><tr><td>&quot;&lt;id_WiEDcDfNKE_KCM_l80omYS1aQ&gt;&quot;</td><td>&quot;&lt;Tehran_Peace_Museum&gt;&quot;</td><td>&quot;rdf:type&quot;</td><td>&quot;&lt;wordnet_museum_103800563&gt;&quot;</td><td>null</td></tr><tr><td>&quot;&lt;id_lPkWJz6mRm_KCM_hOycGJ29OP&gt;&quot;</td><td>&quot;&lt;West_Division_(CFL)&gt;&quot;</td><td>&quot;rdf:type&quot;</td><td>&quot;&lt;wordnet_division_108213205&gt;&quot;</td><td>null</td></tr><tr><td>&quot;&lt;id_Iua4zteuer_KCM_zBaRi6tVl5&gt;&quot;</td><td>&quot;&lt;Arthashastra&gt;&quot;</td><td>&quot;rdf:type&quot;</td><td>&quot;&lt;wordnet_sacred_text_106429590&gt;&quot;</td><td>null</td></tr><tr><td>&quot;&lt;id_9aNMcds2?K_KCM_qLvgB7wTbj&gt;&quot;</td><td>&quot;&lt;Port_of_Mariupol&gt;&quot;</td><td>&quot;rdf:type&quot;</td><td>&quot;&lt;wordnet_port_108633957&gt;&quot;</td><td>null</td></tr><tr><td>&quot;&lt;id_G60Mm4Z8vo_KCM_M!8dkWr64Y&gt;&quot;</td><td>&quot;&lt;Worshipful_Company_of_Plaisterers&gt;&quot;</td><td>&quot;rdf:type&quot;</td><td>&quot;&lt;wordnet_livery_company_108186898&gt;&quot;</td><td>null</td></tr><tr><td>&hellip;</td><td>&hellip;</td><td>&hellip;</td><td>&hellip;</td><td>&hellip;</td></tr><tr><td>&quot;&lt;id_NYpVG96yw4_KCM_9QMBMj0fYz&gt;&quot;</td><td>&quot;&lt;Gyfu&gt;&quot;</td><td>&quot;rdf:type&quot;</td><td>&quot;&lt;wordnet_rune_106840187&gt;&quot;</td><td>null</td></tr><tr><td>&quot;&lt;id_y9uYdDhYXH_KCM_pY2o4wcYIT&gt;&quot;</td><td>&quot;&lt;fr/Nickel_48&gt;&quot;</td><td>&quot;rdf:type&quot;</td><td>&quot;&lt;wordnet_isotope_114619658&gt;&quot;</td><td>null</td></tr><tr><td>&quot;&lt;id_PiS1IHRh4Z_KCM_ID6P4TDriy&gt;&quot;</td><td>&quot;&lt;Great_Southern_Comet_of_1887&gt;&quot;</td><td>&quot;rdf:type&quot;</td><td>&quot;&lt;wordnet_comet_109251407&gt;&quot;</td><td>null</td></tr><tr><td>&quot;&lt;id_Ub30Wr91b7_KCM_yPfgtC9pSD&gt;&quot;</td><td>&quot;&lt;Rupert_Hamer&gt;&quot;</td><td>&quot;rdf:type&quot;</td><td>&quot;&lt;wordnet_premier_109907196&gt;&quot;</td><td>null</td></tr><tr><td>&quot;&lt;id_yxBqDARFiv_KCM_AgGIIyqh4w&gt;&quot;</td><td>&quot;&lt;Dodge_Phoenix&gt;&quot;</td><td>&quot;rdf:type&quot;</td><td>&quot;&lt;wordnet_car_102958343&gt;&quot;</td><td>null</td></tr><tr><td>&quot;&lt;id_n79if7SH24_KCM_rlIwHYTw1W&gt;&quot;</td><td>&quot;&lt;Republic_N&amp;T_Railroad&gt;&quot;</td><td>&quot;rdf:type&quot;</td><td>&quot;&lt;wordnet_railing_104047401&gt;&quot;</td><td>null</td></tr><tr><td>&quot;&lt;id_GCkESE2AQ3_KCM_Yx176GZwtL&gt;&quot;</td><td>&quot;&lt;Lockheed_YF-22&gt;&quot;</td><td>&quot;rdf:type&quot;</td><td>&quot;&lt;wordnet_type_105840188&gt;&quot;</td><td>null</td></tr><tr><td>&quot;&lt;id_c4?dsZ3Yz5_KCM_N0sSecBojZ&gt;&quot;</td><td>&quot;&lt;Na_(Mongolic)&gt;&quot;</td><td>&quot;rdf:type&quot;</td><td>&quot;&lt;wordnet_letter_106624161&gt;&quot;</td><td>null</td></tr><tr><td>&quot;&lt;id_STwHYXjpFj_KCM_5qoC0mYEY?&gt;&quot;</td><td>&quot;&lt;Voting_rights_in_the_United_States&gt;&quot;</td><td>&quot;rdf:type&quot;</td><td>&quot;&lt;wordnet_voting_right_105188367&gt;&quot;</td><td>null</td></tr><tr><td>&quot;&lt;id_bZFl4yZ4IW_KCM_xU93f1f7?D&gt;&quot;</td><td>&quot;&lt;fr/Plateforme_de_mâchefers_-_Reims_Métropole&gt;&quot;</td><td>&quot;rdf:type&quot;</td><td>&quot;&lt;wordnet_factory_103316406&gt;&quot;</td><td>null</td></tr><tr><td>&quot;&lt;id_LbHXsq8HoV_KCM_KGXjmuxw9o&gt;&quot;</td><td>&quot;&lt;1981_Paris–Dakar_Rally&gt;&quot;</td><td>&quot;rdf:type&quot;</td><td>&quot;&lt;wordnet_foray_100976953&gt;&quot;</td><td>null</td></tr><tr><td>&quot;&lt;id_UORaOSYqgg_KCM_BOATCXIr!f&gt;&quot;</td><td>&quot;&lt;Andrea_Carrea&gt;&quot;</td><td>&quot;rdf:type&quot;</td><td>&quot;&lt;wordnet_cyclist_109986189&gt;&quot;</td><td>null</td></tr></tbody></table></div>"
      ],
      "text/plain": [
       "shape: (1_015, 5)\n",
       "┌────────────────────────┬────────────────────────┬───────────┬───────────────────────┬────────────┐\n",
       "│ id                     ┆ subject                ┆ predicate ┆ cat_object            ┆ num_object │\n",
       "│ ---                    ┆ ---                    ┆ ---       ┆ ---                   ┆ ---        │\n",
       "│ str                    ┆ str                    ┆ str       ┆ str                   ┆ f64        │\n",
       "╞════════════════════════╪════════════════════════╪═══════════╪═══════════════════════╪════════════╡\n",
       "│ <id_PP4Fgwd3O6_KCM_2Wu ┆ <South_Parade_Pier>    ┆ rdf:type  ┆ <wordnet_pier_1039335 ┆ null       │\n",
       "│ exOboD1>               ┆                        ┆           ┆ 29>                   ┆            │\n",
       "│ <id_S?cBQTdyTg_KCM_N?8 ┆ <1988_United_States_Se ┆ rdf:type  ┆ <wordnet_election_100 ┆ null       │\n",
       "│ Ck7Lpgi>               ┆ nate_election_in_New_Y ┆           ┆ 181781>               ┆            │\n",
       "│                        ┆ ork>                   ┆           ┆                       ┆            │\n",
       "│ <id_e1rrdF7bPy_KCM_8YK ┆ <Fregat>               ┆ rdf:type  ┆ <wordnet_phase_115290 ┆ null       │\n",
       "│ dPoy?Yj>               ┆                        ┆           ┆ 337>                  ┆            │\n",
       "│ <id_3eosUH!UpW_KCM_RCv ┆ <CODESYS>              ┆ rdf:type  ┆ <wordnet_platform_103 ┆ null       │\n",
       "│ UzF20tg>               ┆                        ┆           ┆ 961939>               ┆            │\n",
       "│ …                      ┆ …                      ┆ …         ┆ …                     ┆ …          │\n",
       "│ <id_STwHYXjpFj_KCM_5qo ┆ <Voting_rights_in_the_ ┆ rdf:type  ┆ <wordnet_voting_right ┆ null       │\n",
       "│ C0mYEY?>               ┆ United_States>         ┆           ┆ _105188367>           ┆            │\n",
       "│ <id_bZFl4yZ4IW_KCM_xU9 ┆ <fr/Plateforme_de_mâch ┆ rdf:type  ┆ <wordnet_factory_1033 ┆ null       │\n",
       "│ 3f1f7?D>               ┆ efers_-_Reims_Métropol ┆           ┆ 16406>                ┆            │\n",
       "│                        ┆ e>                     ┆           ┆                       ┆            │\n",
       "│ <id_LbHXsq8HoV_KCM_KGX ┆ <1981_Paris–Dakar_Rall ┆ rdf:type  ┆ <wordnet_foray_100976 ┆ null       │\n",
       "│ jmuxw9o>               ┆ y>                     ┆           ┆ 953>                  ┆            │\n",
       "│ <id_UORaOSYqgg_KCM_BOA ┆ <Andrea_Carrea>        ┆ rdf:type  ┆ <wordnet_cyclist_1099 ┆ null       │\n",
       "│ TCXIr!f>               ┆                        ┆           ┆ 86189>                ┆            │\n",
       "└────────────────────────┴────────────────────────┴───────────┴───────────────────────┴────────────┘"
      ]
     },
     "execution_count": 40,
     "metadata": {},
     "output_type": "execute_result"
    }
   ],
   "source": [
    "df_types.filter(pl.col(\"cat_object\").str.starts_with(\"<wordnet_\")).unique(\"cat_object\")"
   ]
  },
  {
   "cell_type": "code",
   "execution_count": null,
   "metadata": {},
   "outputs": [],
   "source": []
  }
 ],
 "metadata": {
  "kernelspec": {
   "display_name": "bench-repro",
   "language": "python",
   "name": "python3"
  },
  "language_info": {
   "codemirror_mode": {
    "name": "ipython",
    "version": 3
   },
   "file_extension": ".py",
   "mimetype": "text/x-python",
   "name": "python",
   "nbconvert_exporter": "python",
   "pygments_lexer": "ipython3",
   "version": "3.10.0"
  },
  "orig_nbformat": 4
 },
 "nbformat": 4,
 "nbformat_minor": 2
}
