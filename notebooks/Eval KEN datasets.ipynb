{
 "cells": [
  {
   "attachments": {},
   "cell_type": "markdown",
   "metadata": {},
   "source": [
    "# Preparing the KEN datasets"
   ]
  },
  {
   "attachments": {},
   "cell_type": "markdown",
   "metadata": {},
   "source": [
    "In this notebook I will be looking at the raw versions of the KEN datasets, then \n",
    "follow the pre-processing steps used for the KEN baseline. Note that I am using \n",
    "YAGO 2022, so that might introduce discrepancies between this and the original\n",
    "version. "
   ]
  },
  {
   "attachments": {},
   "cell_type": "markdown",
   "metadata": {},
   "source": [
    "Datasets:\n",
    "- [The Movies Dataset](https://www.kaggle.com/datasets/rounakbanik/the-movies-dataset)\n",
    "- [7+ Million Company Dataset](https://www.kaggle.com/datasets/peopledatalabssf/free-7-million-company-dataset)\n",
    "- [US Accidents (2016 - 2021)](https://www.kaggle.com/datasets/sobhanmoosavi/us-accidents)"
   ]
  },
  {
   "cell_type": "code",
   "execution_count": 63,
   "metadata": {},
   "outputs": [
    {
     "name": "stdout",
     "output_type": "stream",
     "text": [
      "/home/soda/rcappuzz/work/prepare-data-lakes\n"
     ]
    }
   ],
   "source": [
    "cd ~/work/prepare-data-lakes"
   ]
  },
  {
   "cell_type": "code",
   "execution_count": 64,
   "metadata": {},
   "outputs": [],
   "source": [
    "import polars as pl\n",
    "import pandas as pd\n",
    "from pathlib import Path\n",
    "import src.yago.utils as utils\n",
    "import numpy as np"
   ]
  },
  {
   "cell_type": "code",
   "execution_count": 3,
   "metadata": {},
   "outputs": [],
   "source": [
    "data_dir = Path(\"data/ken_datasets\")"
   ]
  },
  {
   "attachments": {},
   "cell_type": "markdown",
   "metadata": {},
   "source": [
    "Loading YAGO fact triplets to drop entities not found in the KB."
   ]
  },
  {
   "cell_type": "code",
   "execution_count": 4,
   "metadata": {},
   "outputs": [],
   "source": [
    "yago_path = Path(\"/storage/store3/work/jstojano/yago3/\")\n",
    "facts_path = Path(yago_path, \"facts_parquet/yago_updated_2022_part2\")\n",
    "fname = \"yagoFacts\"\n",
    "yagofacts_path = Path(facts_path, f\"{fname}.tsv.parquet\")\n",
    "yagofacts_categorical = utils.import_from_yago(yagofacts_path, engine=\"polars\")\n",
    "fname = \"yagoLiteralFacts\"\n",
    "yagoliteralfacts_path = Path(facts_path, f\"{fname}.tsv.parquet\")\n",
    "yagofacts_numerical = utils.import_from_yago(yagoliteralfacts_path, engine=\"polars\")\n",
    "fname = \"yagoDateFacts\"\n",
    "yagodatefacts_path = Path(facts_path, f\"{fname}.tsv.parquet\")\n",
    "yagofacts_dates = utils.import_from_yago(yagodatefacts_path, engine=\"polars\")\n",
    "\n",
    "yagofacts = pl.concat(\n",
    "    [\n",
    "        yagofacts_categorical,\n",
    "        yagofacts_numerical,\n",
    "        yagofacts_dates\n",
    "    ]\n",
    ")"
   ]
  },
  {
   "attachments": {},
   "cell_type": "markdown",
   "metadata": {},
   "source": [
    "# US Accidents dataset"
   ]
  },
  {
   "attachments": {},
   "cell_type": "markdown",
   "metadata": {},
   "source": [
    "Archive `us-accidents.zip` contains the file `US_Accidents_Dec21_updated.csv`, \n",
    "which I renamed manually to `us-accidents.csv` for simplicity. \n",
    "\n",
    "I also had to copy the file `datasets/us_accidents/state_codes.csv` from the \n",
    "KEN repository for some of the steps. "
   ]
  },
  {
   "cell_type": "code",
   "execution_count": 52,
   "metadata": {},
   "outputs": [],
   "source": [
    "dataset_dir = Path(data_dir, \"us-accidents\")"
   ]
  },
  {
   "cell_type": "code",
   "execution_count": 53,
   "metadata": {},
   "outputs": [],
   "source": [
    "df = pl.read_csv(Path(dataset_dir, \"us-accidents.csv\"))\n",
    "df = df.rename({\"State\": \"Code\"})"
   ]
  },
  {
   "cell_type": "code",
   "execution_count": 54,
   "metadata": {},
   "outputs": [],
   "source": [
    "state_codes_path =  Path(dataset_dir,\"state_codes.csv\")\n",
    "state_codes = pl.read_csv(state_codes_path)\n",
    "df = df.join(\n",
    "    state_codes, on=\"Code\"\n",
    ")"
   ]
  },
  {
   "attachments": {},
   "cell_type": "markdown",
   "metadata": {},
   "source": [
    "Adding a new column, `col_to_embed`, that formats the city and state name to have\n",
    "the same format that is found in YAGO. "
   ]
  },
  {
   "cell_type": "code",
   "execution_count": 55,
   "metadata": {},
   "outputs": [],
   "source": [
    "df = df.with_columns(\n",
    "    (\"<\" + pl.col(\"City\") + \",_\"+ pl.col(\"State\") + \">\").alias(\"col_to_embed\")\n",
    ")"
   ]
  },
  {
   "attachments": {},
   "cell_type": "markdown",
   "metadata": {},
   "source": [
    "Filtering out the rows not found in `yagofacts[\"subject\"]`."
   ]
  },
  {
   "cell_type": "code",
   "execution_count": 56,
   "metadata": {},
   "outputs": [],
   "source": [
    "df_filtered=df.lazy().filter(\n",
    "    pl.col(\"col_to_embed\").is_in(\n",
    "        yagofacts[\"subject\"]\n",
    "    )\n",
    ").collect()"
   ]
  },
  {
   "attachments": {},
   "cell_type": "markdown",
   "metadata": {},
   "source": [
    "Completing the preparation by grouping the number of accidents by city, then applying the log10 to the count. This is \n",
    "the target used in KEN. \n"
   ]
  },
  {
   "cell_type": "code",
   "execution_count": 57,
   "metadata": {},
   "outputs": [],
   "source": [
    "df_counts = df_filtered.groupby(\n",
    "    [\n",
    "        \"col_to_embed\", \"City\", \"Code\"\n",
    "    ]\n",
    "    ).count()"
   ]
  },
  {
   "cell_type": "code",
   "execution_count": 58,
   "metadata": {},
   "outputs": [],
   "source": [
    "df_final = df_counts.with_columns(\n",
    "    (df_counts[\"City\"] + \", \" + df_counts[\"Code\"]).alias(\"raw_entities\") \n",
    ").select(\n",
    "    [\n",
    "        pl.col(\"raw_entities\"),\n",
    "        pl.col(\"col_to_embed\"),\n",
    "        pl.col(\"count\").alias(\"target\").log10()\n",
    "    ]\n",
    ").sort(\"raw_entities\")"
   ]
  },
  {
   "cell_type": "code",
   "execution_count": 61,
   "metadata": {},
   "outputs": [
    {
     "data": {
      "text/html": [
       "<div><style>\n",
       ".dataframe > thead > tr > th,\n",
       ".dataframe > tbody > tr > td {\n",
       "  text-align: right;\n",
       "}\n",
       "</style>\n",
       "<small>shape: (1396368, 50)</small><table border=\"1\" class=\"dataframe\"><thead><tr><th>ID</th><th>Severity</th><th>Start_Time</th><th>End_Time</th><th>Start_Lat</th><th>Start_Lng</th><th>End_Lat</th><th>End_Lng</th><th>Distance(mi)</th><th>Description</th><th>Number</th><th>Street</th><th>Side</th><th>City</th><th>County</th><th>Code</th><th>Zipcode</th><th>Country</th><th>Timezone</th><th>Airport_Code</th><th>Weather_Timestamp</th><th>Temperature(F)</th><th>Wind_Chill(F)</th><th>Humidity(%)</th><th>Pressure(in)</th><th>Visibility(mi)</th><th>Wind_Direction</th><th>Wind_Speed(mph)</th><th>Precipitation(in)</th><th>Weather_Condition</th><th>Amenity</th><th>Bump</th><th>Crossing</th><th>Give_Way</th><th>Junction</th><th>No_Exit</th><th>Railway</th><th>Roundabout</th><th>Station</th><th>Stop</th><th>Traffic_Calming</th><th>Traffic_Signal</th><th>Turning_Loop</th><th>Sunrise_Sunset</th><th>Civil_Twilight</th><th>Nautical_Twilight</th><th>Astronomical_Twilight</th><th>State</th><th>Abbrev</th><th>col_to_embed</th></tr><tr><td>str</td><td>i64</td><td>str</td><td>str</td><td>f64</td><td>f64</td><td>f64</td><td>f64</td><td>f64</td><td>str</td><td>f64</td><td>str</td><td>str</td><td>str</td><td>str</td><td>str</td><td>str</td><td>str</td><td>str</td><td>str</td><td>str</td><td>f64</td><td>f64</td><td>f64</td><td>f64</td><td>f64</td><td>str</td><td>f64</td><td>f64</td><td>str</td><td>bool</td><td>bool</td><td>bool</td><td>bool</td><td>bool</td><td>bool</td><td>bool</td><td>bool</td><td>bool</td><td>bool</td><td>bool</td><td>bool</td><td>bool</td><td>str</td><td>str</td><td>str</td><td>str</td><td>str</td><td>str</td><td>str</td></tr></thead><tbody><tr><td>&quot;A-1&quot;</td><td>3</td><td>&quot;2016-02-08 00:…</td><td>&quot;2016-02-08 06:…</td><td>40.10891</td><td>-83.09286</td><td>40.11206</td><td>-83.03187</td><td>3.23</td><td>&quot;Between Sawmil…</td><td>null</td><td>&quot;Outerbelt E&quot;</td><td>&quot;R&quot;</td><td>&quot;Dublin&quot;</td><td>&quot;Franklin&quot;</td><td>&quot;OH&quot;</td><td>&quot;43017&quot;</td><td>&quot;US&quot;</td><td>&quot;US/Eastern&quot;</td><td>&quot;KOSU&quot;</td><td>&quot;2016-02-08 00:…</td><td>42.1</td><td>36.1</td><td>58.0</td><td>29.76</td><td>10.0</td><td>&quot;SW&quot;</td><td>10.4</td><td>0.0</td><td>&quot;Light Rain&quot;</td><td>false</td><td>false</td><td>false</td><td>false</td><td>false</td><td>false</td><td>false</td><td>false</td><td>false</td><td>false</td><td>false</td><td>false</td><td>false</td><td>&quot;Night&quot;</td><td>&quot;Night&quot;</td><td>&quot;Night&quot;</td><td>&quot;Night&quot;</td><td>&quot;Ohio&quot;</td><td>&quot;Ohio&quot;</td><td>&quot;&lt;Dublin,_Ohio&gt;…</td></tr><tr><td>&quot;A-2&quot;</td><td>2</td><td>&quot;2016-02-08 05:…</td><td>&quot;2016-02-08 11:…</td><td>39.86542</td><td>-84.0628</td><td>39.86501</td><td>-84.04873</td><td>0.747</td><td>&quot;At OH-4/OH-235…</td><td>null</td><td>&quot;I-70 E&quot;</td><td>&quot;R&quot;</td><td>&quot;Dayton&quot;</td><td>&quot;Montgomery&quot;</td><td>&quot;OH&quot;</td><td>&quot;45424&quot;</td><td>&quot;US&quot;</td><td>&quot;US/Eastern&quot;</td><td>&quot;KFFO&quot;</td><td>&quot;2016-02-08 05:…</td><td>36.9</td><td>null</td><td>91.0</td><td>29.68</td><td>10.0</td><td>&quot;Calm&quot;</td><td>null</td><td>0.02</td><td>&quot;Light Rain&quot;</td><td>false</td><td>false</td><td>false</td><td>false</td><td>false</td><td>false</td><td>false</td><td>false</td><td>false</td><td>false</td><td>false</td><td>false</td><td>false</td><td>&quot;Night&quot;</td><td>&quot;Night&quot;</td><td>&quot;Night&quot;</td><td>&quot;Night&quot;</td><td>&quot;Ohio&quot;</td><td>&quot;Ohio&quot;</td><td>&quot;&lt;Dayton,_Ohio&gt;…</td></tr><tr><td>&quot;A-4&quot;</td><td>2</td><td>&quot;2016-02-08 06:…</td><td>&quot;2016-02-08 12:…</td><td>41.06213</td><td>-81.53784</td><td>41.06217</td><td>-81.53547</td><td>0.123</td><td>&quot;At Dart Ave/Ex…</td><td>null</td><td>&quot;I-77 N&quot;</td><td>&quot;R&quot;</td><td>&quot;Akron&quot;</td><td>&quot;Summit&quot;</td><td>&quot;OH&quot;</td><td>&quot;44311&quot;</td><td>&quot;US&quot;</td><td>&quot;US/Eastern&quot;</td><td>&quot;KAKR&quot;</td><td>&quot;2016-02-08 06:…</td><td>39.0</td><td>null</td><td>55.0</td><td>29.65</td><td>10.0</td><td>&quot;Calm&quot;</td><td>null</td><td>null</td><td>&quot;Overcast&quot;</td><td>false</td><td>false</td><td>false</td><td>false</td><td>false</td><td>false</td><td>false</td><td>false</td><td>false</td><td>false</td><td>false</td><td>false</td><td>false</td><td>&quot;Night&quot;</td><td>&quot;Night&quot;</td><td>&quot;Day&quot;</td><td>&quot;Day&quot;</td><td>&quot;Ohio&quot;</td><td>&quot;Ohio&quot;</td><td>&quot;&lt;Akron,_Ohio&gt;&quot;</td></tr><tr><td>&quot;A-6&quot;</td><td>2</td><td>&quot;2016-02-08 08:…</td><td>&quot;2016-02-08 14:…</td><td>39.06324</td><td>-84.03243</td><td>39.06731</td><td>-84.05851</td><td>1.427</td><td>&quot;At Dela Palma …</td><td>null</td><td>&quot;State Route 32…</td><td>&quot;R&quot;</td><td>&quot;Williamsburg&quot;</td><td>&quot;Clermont&quot;</td><td>&quot;OH&quot;</td><td>&quot;45176&quot;</td><td>&quot;US&quot;</td><td>&quot;US/Eastern&quot;</td><td>&quot;KI69&quot;</td><td>&quot;2016-02-08 08:…</td><td>35.6</td><td>29.2</td><td>100.0</td><td>29.66</td><td>10.0</td><td>&quot;WSW&quot;</td><td>8.1</td><td>null</td><td>&quot;Overcast&quot;</td><td>false</td><td>false</td><td>false</td><td>false</td><td>false</td><td>false</td><td>false</td><td>false</td><td>false</td><td>false</td><td>false</td><td>true</td><td>false</td><td>&quot;Day&quot;</td><td>&quot;Day&quot;</td><td>&quot;Day&quot;</td><td>&quot;Day&quot;</td><td>&quot;Ohio&quot;</td><td>&quot;Ohio&quot;</td><td>&quot;&lt;Williamsburg,…</td></tr><tr><td>&quot;A-7&quot;</td><td>2</td><td>&quot;2016-02-08 08:…</td><td>&quot;2016-02-08 14:…</td><td>39.77565</td><td>-84.18603</td><td>39.77275</td><td>-84.18805</td><td>0.227</td><td>&quot;At OH-4/Exit 5…</td><td>null</td><td>&quot;I-75 S&quot;</td><td>&quot;R&quot;</td><td>&quot;Dayton&quot;</td><td>&quot;Montgomery&quot;</td><td>&quot;OH&quot;</td><td>&quot;45404&quot;</td><td>&quot;US&quot;</td><td>&quot;US/Eastern&quot;</td><td>&quot;KFFO&quot;</td><td>&quot;2016-02-08 08:…</td><td>33.8</td><td>null</td><td>100.0</td><td>29.63</td><td>3.0</td><td>&quot;SW&quot;</td><td>2.3</td><td>null</td><td>&quot;Mostly Cloudy&quot;</td><td>false</td><td>false</td><td>false</td><td>false</td><td>false</td><td>false</td><td>false</td><td>false</td><td>false</td><td>false</td><td>false</td><td>false</td><td>false</td><td>&quot;Day&quot;</td><td>&quot;Day&quot;</td><td>&quot;Day&quot;</td><td>&quot;Day&quot;</td><td>&quot;Ohio&quot;</td><td>&quot;Ohio&quot;</td><td>&quot;&lt;Dayton,_Ohio&gt;…</td></tr><tr><td>&quot;A-9&quot;</td><td>2</td><td>&quot;2016-02-08 14:…</td><td>&quot;2016-02-08 20:…</td><td>40.702247</td><td>-84.075887</td><td>40.69911</td><td>-84.084293</td><td>0.491</td><td>&quot;At OH-65/Exit …</td><td>null</td><td>&quot;E Hanthorn Rd&quot;</td><td>&quot;R&quot;</td><td>&quot;Lima&quot;</td><td>&quot;Allen&quot;</td><td>&quot;OH&quot;</td><td>&quot;45806&quot;</td><td>&quot;US&quot;</td><td>&quot;US/Eastern&quot;</td><td>&quot;KAOH&quot;</td><td>&quot;2016-02-08 13:…</td><td>39.0</td><td>31.8</td><td>70.0</td><td>29.59</td><td>10.0</td><td>&quot;WNW&quot;</td><td>11.5</td><td>null</td><td>&quot;Overcast&quot;</td><td>false</td><td>false</td><td>false</td><td>false</td><td>false</td><td>false</td><td>false</td><td>false</td><td>false</td><td>false</td><td>false</td><td>false</td><td>false</td><td>&quot;Day&quot;</td><td>&quot;Day&quot;</td><td>&quot;Day&quot;</td><td>&quot;Day&quot;</td><td>&quot;Ohio&quot;</td><td>&quot;Ohio&quot;</td><td>&quot;&lt;Lima,_Ohio&gt;&quot;</td></tr><tr><td>&quot;A-10&quot;</td><td>2</td><td>&quot;2016-02-08 15:…</td><td>&quot;2016-02-08 21:…</td><td>40.10931</td><td>-82.96849</td><td>40.11078</td><td>-82.984</td><td>0.826</td><td>&quot;At I-71/Exit 2…</td><td>null</td><td>&quot;Outerbelt W&quot;</td><td>&quot;R&quot;</td><td>&quot;Westerville&quot;</td><td>&quot;Franklin&quot;</td><td>&quot;OH&quot;</td><td>&quot;43081&quot;</td><td>&quot;US&quot;</td><td>&quot;US/Eastern&quot;</td><td>&quot;KCMH&quot;</td><td>&quot;2016-02-08 15:…</td><td>32.0</td><td>28.7</td><td>100.0</td><td>29.59</td><td>0.5</td><td>&quot;West&quot;</td><td>3.5</td><td>0.05</td><td>&quot;Snow&quot;</td><td>false</td><td>false</td><td>false</td><td>false</td><td>false</td><td>false</td><td>false</td><td>false</td><td>false</td><td>false</td><td>false</td><td>false</td><td>false</td><td>&quot;Day&quot;</td><td>&quot;Day&quot;</td><td>&quot;Day&quot;</td><td>&quot;Day&quot;</td><td>&quot;Ohio&quot;</td><td>&quot;Ohio&quot;</td><td>&quot;&lt;Westerville,_…</td></tr><tr><td>&quot;A-14&quot;</td><td>2</td><td>&quot;2016-02-08 17:…</td><td>&quot;2016-02-08 23:…</td><td>39.582242</td><td>-83.677814</td><td>39.603013</td><td>-83.637319</td><td>2.59</td><td>&quot;Between OH-72/…</td><td>null</td><td>&quot;I-71 N&quot;</td><td>&quot;R&quot;</td><td>&quot;Jamestown&quot;</td><td>&quot;Greene&quot;</td><td>&quot;OH&quot;</td><td>&quot;45335&quot;</td><td>&quot;US&quot;</td><td>&quot;US/Eastern&quot;</td><td>&quot;KSGH&quot;</td><td>&quot;2016-02-08 17:…</td><td>33.8</td><td>28.6</td><td>93.0</td><td>29.64</td><td>1.0</td><td>&quot;West&quot;</td><td>5.8</td><td>0.01</td><td>&quot;Light Snow&quot;</td><td>false</td><td>false</td><td>false</td><td>false</td><td>false</td><td>false</td><td>false</td><td>false</td><td>false</td><td>false</td><td>false</td><td>false</td><td>false</td><td>&quot;Day&quot;</td><td>&quot;Day&quot;</td><td>&quot;Day&quot;</td><td>&quot;Day&quot;</td><td>&quot;Ohio&quot;</td><td>&quot;Ohio&quot;</td><td>&quot;&lt;Jamestown,_Oh…</td></tr><tr><td>&quot;A-15&quot;</td><td>3</td><td>&quot;2016-02-08 18:…</td><td>&quot;2016-02-09 00:…</td><td>40.151785</td><td>-81.312635</td><td>40.151747</td><td>-81.312682</td><td>0.004</td><td>&quot;At Shipley Rd …</td><td>48999.0</td><td>&quot; Titus Rd&quot;</td><td>&quot;R&quot;</td><td>&quot;Freeport&quot;</td><td>&quot;Guernsey&quot;</td><td>&quot;OH&quot;</td><td>&quot;43973&quot;</td><td>&quot;US&quot;</td><td>&quot;US/Eastern&quot;</td><td>&quot;KPHD&quot;</td><td>&quot;2016-02-08 18:…</td><td>33.1</td><td>null</td><td>92.0</td><td>29.62</td><td>10.0</td><td>&quot;Calm&quot;</td><td>null</td><td>null</td><td>&quot;Mostly Cloudy&quot;</td><td>false</td><td>false</td><td>false</td><td>false</td><td>false</td><td>false</td><td>false</td><td>false</td><td>false</td><td>false</td><td>false</td><td>false</td><td>false</td><td>&quot;Night&quot;</td><td>&quot;Day&quot;</td><td>&quot;Day&quot;</td><td>&quot;Day&quot;</td><td>&quot;Ohio&quot;</td><td>&quot;Ohio&quot;</td><td>&quot;&lt;Freeport,_Ohi…</td></tr><tr><td>&quot;A-16&quot;</td><td>3</td><td>&quot;2016-02-08 18:…</td><td>&quot;2016-02-09 00:…</td><td>40.151747</td><td>-81.312682</td><td>40.151785</td><td>-81.312635</td><td>0.004</td><td>&quot;At Titus Rd - …</td><td>22549.0</td><td>&quot; Cadiz Rd&quot;</td><td>&quot;L&quot;</td><td>&quot;Freeport&quot;</td><td>&quot;Harrison&quot;</td><td>&quot;OH&quot;</td><td>&quot;43973-8626&quot;</td><td>&quot;US&quot;</td><td>&quot;US/Eastern&quot;</td><td>&quot;KPHD&quot;</td><td>&quot;2016-02-08 18:…</td><td>33.1</td><td>null</td><td>92.0</td><td>29.62</td><td>10.0</td><td>&quot;Calm&quot;</td><td>null</td><td>null</td><td>&quot;Mostly Cloudy&quot;</td><td>false</td><td>false</td><td>false</td><td>false</td><td>false</td><td>false</td><td>false</td><td>false</td><td>false</td><td>false</td><td>false</td><td>false</td><td>false</td><td>&quot;Night&quot;</td><td>&quot;Day&quot;</td><td>&quot;Day&quot;</td><td>&quot;Day&quot;</td><td>&quot;Ohio&quot;</td><td>&quot;Ohio&quot;</td><td>&quot;&lt;Freeport,_Ohi…</td></tr><tr><td>&quot;A-17&quot;</td><td>3</td><td>&quot;2016-02-08 19:…</td><td>&quot;2016-02-09 01:…</td><td>39.97241</td><td>-82.84695</td><td>39.98529</td><td>-82.85667</td><td>1.028</td><td>&quot;At OH-16/Broad…</td><td>null</td><td>&quot;Outerbelt N&quot;</td><td>&quot;R&quot;</td><td>&quot;Columbus&quot;</td><td>&quot;Franklin&quot;</td><td>&quot;OH&quot;</td><td>&quot;43213&quot;</td><td>&quot;US&quot;</td><td>&quot;US/Eastern&quot;</td><td>&quot;KCMH&quot;</td><td>&quot;2016-02-08 19:…</td><td>34.0</td><td>null</td><td>100.0</td><td>29.65</td><td>6.0</td><td>&quot;Calm&quot;</td><td>null</td><td>0.07</td><td>&quot;Overcast&quot;</td><td>false</td><td>false</td><td>false</td><td>false</td><td>false</td><td>false</td><td>false</td><td>false</td><td>false</td><td>false</td><td>false</td><td>false</td><td>false</td><td>&quot;Night&quot;</td><td>&quot;Night&quot;</td><td>&quot;Night&quot;</td><td>&quot;Night&quot;</td><td>&quot;Ohio&quot;</td><td>&quot;Ohio&quot;</td><td>&quot;&lt;Columbus,_Ohi…</td></tr><tr><td>&quot;A-18&quot;</td><td>2</td><td>&quot;2016-02-08 19:…</td><td>&quot;2016-02-09 01:…</td><td>39.9838</td><td>-82.85657</td><td>39.9725</td><td>-82.84746</td><td>0.918</td><td>&quot;At I-270 - Acc…</td><td>null</td><td>&quot;Outerbelt S&quot;</td><td>&quot;R&quot;</td><td>&quot;Columbus&quot;</td><td>&quot;Franklin&quot;</td><td>&quot;OH&quot;</td><td>&quot;43213&quot;</td><td>&quot;US&quot;</td><td>&quot;US/Eastern&quot;</td><td>&quot;KCMH&quot;</td><td>&quot;2016-02-08 19:…</td><td>34.0</td><td>null</td><td>100.0</td><td>29.65</td><td>6.0</td><td>&quot;Calm&quot;</td><td>null</td><td>0.07</td><td>&quot;Overcast&quot;</td><td>false</td><td>false</td><td>false</td><td>false</td><td>false</td><td>false</td><td>false</td><td>false</td><td>false</td><td>false</td><td>false</td><td>false</td><td>false</td><td>&quot;Night&quot;</td><td>&quot;Night&quot;</td><td>&quot;Night&quot;</td><td>&quot;Night&quot;</td><td>&quot;Ohio&quot;</td><td>&quot;Ohio&quot;</td><td>&quot;&lt;Columbus,_Ohi…</td></tr><tr><td>&hellip;</td><td>&hellip;</td><td>&hellip;</td><td>&hellip;</td><td>&hellip;</td><td>&hellip;</td><td>&hellip;</td><td>&hellip;</td><td>&hellip;</td><td>&hellip;</td><td>&hellip;</td><td>&hellip;</td><td>&hellip;</td><td>&hellip;</td><td>&hellip;</td><td>&hellip;</td><td>&hellip;</td><td>&hellip;</td><td>&hellip;</td><td>&hellip;</td><td>&hellip;</td><td>&hellip;</td><td>&hellip;</td><td>&hellip;</td><td>&hellip;</td><td>&hellip;</td><td>&hellip;</td><td>&hellip;</td><td>&hellip;</td><td>&hellip;</td><td>&hellip;</td><td>&hellip;</td><td>&hellip;</td><td>&hellip;</td><td>&hellip;</td><td>&hellip;</td><td>&hellip;</td><td>&hellip;</td><td>&hellip;</td><td>&hellip;</td><td>&hellip;</td><td>&hellip;</td><td>&hellip;</td><td>&hellip;</td><td>&hellip;</td><td>&hellip;</td><td>&hellip;</td><td>&hellip;</td><td>&hellip;</td><td>&hellip;</td></tr><tr><td>&quot;A-2845320&quot;</td><td>2</td><td>&quot;2019-08-23 14:…</td><td>&quot;2019-08-23 15:…</td><td>33.68662</td><td>-117.766</td><td>33.69365</td><td>-117.77061</td><td>0.553</td><td>&quot;At Jeffrey Rd/…</td><td>null</td><td>&quot;I-5 N&quot;</td><td>&quot;R&quot;</td><td>&quot;Irvine&quot;</td><td>&quot;Orange&quot;</td><td>&quot;CA&quot;</td><td>&quot;92618&quot;</td><td>&quot;US&quot;</td><td>&quot;US/Pacific&quot;</td><td>&quot;KSNA&quot;</td><td>&quot;2019-08-23 14:…</td><td>77.0</td><td>77.0</td><td>56.0</td><td>29.78</td><td>10.0</td><td>&quot;SSW&quot;</td><td>9.0</td><td>0.0</td><td>&quot;Fair&quot;</td><td>false</td><td>false</td><td>false</td><td>false</td><td>false</td><td>false</td><td>false</td><td>false</td><td>false</td><td>false</td><td>false</td><td>false</td><td>false</td><td>&quot;Day&quot;</td><td>&quot;Day&quot;</td><td>&quot;Day&quot;</td><td>&quot;Day&quot;</td><td>&quot;California&quot;</td><td>&quot;Calif.&quot;</td><td>&quot;&lt;Irvine,_Calif…</td></tr><tr><td>&quot;A-2845322&quot;</td><td>2</td><td>&quot;2019-08-23 15:…</td><td>&quot;2019-08-23 15:…</td><td>34.07233</td><td>-118.08066</td><td>34.07229</td><td>-118.08355</td><td>0.165</td><td>&quot;At Walnut Grov…</td><td>null</td><td>&quot;I-10 W&quot;</td><td>&quot;R&quot;</td><td>&quot;Rosemead&quot;</td><td>&quot;Los Angeles&quot;</td><td>&quot;CA&quot;</td><td>&quot;91770&quot;</td><td>&quot;US&quot;</td><td>&quot;US/Pacific&quot;</td><td>&quot;KEMT&quot;</td><td>&quot;2019-08-23 14:…</td><td>80.0</td><td>80.0</td><td>48.0</td><td>29.73</td><td>8.0</td><td>&quot;SW&quot;</td><td>9.0</td><td>0.0</td><td>&quot;Fair&quot;</td><td>false</td><td>false</td><td>false</td><td>false</td><td>true</td><td>false</td><td>false</td><td>false</td><td>false</td><td>false</td><td>false</td><td>false</td><td>false</td><td>&quot;Day&quot;</td><td>&quot;Day&quot;</td><td>&quot;Day&quot;</td><td>&quot;Day&quot;</td><td>&quot;California&quot;</td><td>&quot;Calif.&quot;</td><td>&quot;&lt;Rosemead,_Cal…</td></tr><tr><td>&quot;A-2845327&quot;</td><td>2</td><td>&quot;2019-08-23 16:…</td><td>&quot;2019-08-23 17:…</td><td>33.92925</td><td>-117.41667</td><td>33.92523</td><td>-117.42377</td><td>0.493</td><td>&quot;At Adams St - …</td><td>null</td><td>&quot;CA-91 W&quot;</td><td>&quot;R&quot;</td><td>&quot;Riverside&quot;</td><td>&quot;Riverside&quot;</td><td>&quot;CA&quot;</td><td>&quot;92504&quot;</td><td>&quot;US&quot;</td><td>&quot;US/Pacific&quot;</td><td>&quot;KRAL&quot;</td><td>&quot;2019-08-23 16:…</td><td>90.0</td><td>90.0</td><td>33.0</td><td>28.93</td><td>10.0</td><td>&quot;W&quot;</td><td>9.0</td><td>0.0</td><td>&quot;Fair&quot;</td><td>false</td><td>false</td><td>false</td><td>false</td><td>true</td><td>false</td><td>false</td><td>false</td><td>false</td><td>false</td><td>false</td><td>false</td><td>false</td><td>&quot;Day&quot;</td><td>&quot;Day&quot;</td><td>&quot;Day&quot;</td><td>&quot;Day&quot;</td><td>&quot;California&quot;</td><td>&quot;Calif.&quot;</td><td>&quot;&lt;Riverside,_Ca…</td></tr><tr><td>&quot;A-2845328&quot;</td><td>2</td><td>&quot;2019-08-23 16:…</td><td>&quot;2019-08-23 16:…</td><td>34.03047</td><td>-117.59817</td><td>34.0305</td><td>-117.5886</td><td>0.548</td><td>&quot;At Archibald A…</td><td>null</td><td>&quot;Pomona Fwy E&quot;</td><td>&quot;R&quot;</td><td>&quot;Ontario&quot;</td><td>&quot;San Bernardino…</td><td>&quot;CA&quot;</td><td>&quot;91761&quot;</td><td>&quot;US&quot;</td><td>&quot;US/Pacific&quot;</td><td>&quot;KONT&quot;</td><td>&quot;2019-08-23 16:…</td><td>89.0</td><td>89.0</td><td>34.0</td><td>28.78</td><td>10.0</td><td>&quot;WSW&quot;</td><td>13.0</td><td>0.0</td><td>&quot;Fair&quot;</td><td>false</td><td>false</td><td>false</td><td>false</td><td>true</td><td>false</td><td>false</td><td>false</td><td>false</td><td>false</td><td>false</td><td>false</td><td>false</td><td>&quot;Day&quot;</td><td>&quot;Day&quot;</td><td>&quot;Day&quot;</td><td>&quot;Day&quot;</td><td>&quot;California&quot;</td><td>&quot;Calif.&quot;</td><td>&quot;&lt;Ontario,_Cali…</td></tr><tr><td>&quot;A-2845329&quot;</td><td>4</td><td>&quot;2019-08-23 16:…</td><td>&quot;2019-08-23 17:…</td><td>33.77913</td><td>-117.88798</td><td>33.77991</td><td>-117.89086</td><td>0.174</td><td>&quot;Ramp closed to…</td><td>null</td><td>&quot;CA-22 W&quot;</td><td>&quot;R&quot;</td><td>&quot;Orange&quot;</td><td>&quot;Orange&quot;</td><td>&quot;CA&quot;</td><td>&quot;92868&quot;</td><td>&quot;US&quot;</td><td>&quot;US/Pacific&quot;</td><td>&quot;KSNA&quot;</td><td>&quot;2019-08-23 16:…</td><td>76.0</td><td>76.0</td><td>56.0</td><td>29.75</td><td>10.0</td><td>&quot;S&quot;</td><td>10.0</td><td>0.0</td><td>&quot;Fair&quot;</td><td>false</td><td>false</td><td>false</td><td>false</td><td>false</td><td>false</td><td>false</td><td>false</td><td>false</td><td>false</td><td>false</td><td>false</td><td>false</td><td>&quot;Day&quot;</td><td>&quot;Day&quot;</td><td>&quot;Day&quot;</td><td>&quot;Day&quot;</td><td>&quot;California&quot;</td><td>&quot;Calif.&quot;</td><td>&quot;&lt;Orange,_Calif…</td></tr><tr><td>&quot;A-2845331&quot;</td><td>2</td><td>&quot;2019-08-23 17:…</td><td>&quot;2019-08-23 17:…</td><td>33.8508</td><td>-117.84365</td><td>33.85075</td><td>-117.83745</td><td>0.356</td><td>&quot;At Tustin Ave …</td><td>null</td><td>&quot;Riverside Fwy …</td><td>&quot;R&quot;</td><td>&quot;Anaheim&quot;</td><td>&quot;Orange&quot;</td><td>&quot;CA&quot;</td><td>&quot;92806&quot;</td><td>&quot;US&quot;</td><td>&quot;US/Pacific&quot;</td><td>&quot;KFUL&quot;</td><td>&quot;2019-08-23 16:…</td><td>79.0</td><td>79.0</td><td>50.0</td><td>29.7</td><td>10.0</td><td>&quot;VAR&quot;</td><td>5.0</td><td>0.0</td><td>&quot;Fair&quot;</td><td>false</td><td>false</td><td>false</td><td>false</td><td>true</td><td>false</td><td>false</td><td>false</td><td>false</td><td>false</td><td>false</td><td>false</td><td>false</td><td>&quot;Day&quot;</td><td>&quot;Day&quot;</td><td>&quot;Day&quot;</td><td>&quot;Day&quot;</td><td>&quot;California&quot;</td><td>&quot;Calif.&quot;</td><td>&quot;&lt;Anaheim,_Cali…</td></tr><tr><td>&quot;A-2845332&quot;</td><td>2</td><td>&quot;2019-08-23 16:…</td><td>&quot;2019-08-23 17:…</td><td>34.120911</td><td>-117.833454</td><td>34.120911</td><td>-117.833454</td><td>0.0</td><td>&quot;At CA-210/CA-5…</td><td>null</td><td>&quot;CA-210 E&quot;</td><td>&quot;R&quot;</td><td>&quot;Glendora&quot;</td><td>&quot;Los Angeles&quot;</td><td>&quot;CA&quot;</td><td>&quot;91740&quot;</td><td>&quot;US&quot;</td><td>&quot;US/Pacific&quot;</td><td>&quot;KPOC&quot;</td><td>&quot;2019-08-23 16:…</td><td>86.0</td><td>86.0</td><td>40.0</td><td>28.76</td><td>10.0</td><td>&quot;WSW&quot;</td><td>12.0</td><td>null</td><td>&quot;Fair&quot;</td><td>false</td><td>false</td><td>false</td><td>false</td><td>false</td><td>false</td><td>false</td><td>false</td><td>false</td><td>false</td><td>false</td><td>false</td><td>false</td><td>&quot;Day&quot;</td><td>&quot;Day&quot;</td><td>&quot;Day&quot;</td><td>&quot;Day&quot;</td><td>&quot;California&quot;</td><td>&quot;Calif.&quot;</td><td>&quot;&lt;Glendora,_Cal…</td></tr><tr><td>&quot;A-2845335&quot;</td><td>2</td><td>&quot;2019-08-23 17:…</td><td>&quot;2019-08-23 18:…</td><td>34.26103</td><td>-119.228</td><td>34.26239</td><td>-119.23087</td><td>0.189</td><td>&quot;At Telephone R…</td><td>null</td><td>&quot;El Camino Real…</td><td>&quot;R&quot;</td><td>&quot;Ventura&quot;</td><td>&quot;Ventura&quot;</td><td>&quot;CA&quot;</td><td>&quot;93003&quot;</td><td>&quot;US&quot;</td><td>&quot;US/Pacific&quot;</td><td>&quot;KOXR&quot;</td><td>&quot;2019-08-23 17:…</td><td>73.0</td><td>73.0</td><td>68.0</td><td>29.76</td><td>10.0</td><td>&quot;W&quot;</td><td>9.0</td><td>0.0</td><td>&quot;Fair&quot;</td><td>false</td><td>false</td><td>false</td><td>false</td><td>true</td><td>false</td><td>false</td><td>false</td><td>false</td><td>false</td><td>false</td><td>false</td><td>false</td><td>&quot;Day&quot;</td><td>&quot;Day&quot;</td><td>&quot;Day&quot;</td><td>&quot;Day&quot;</td><td>&quot;California&quot;</td><td>&quot;Calif.&quot;</td><td>&quot;&lt;Ventura,_Cali…</td></tr><tr><td>&quot;A-2845336&quot;</td><td>2</td><td>&quot;2019-08-23 17:…</td><td>&quot;2019-08-23 18:…</td><td>33.7417</td><td>-117.83709</td><td>33.73917</td><td>-117.83001</td><td>0.443</td><td>&quot;At CA-55 - Acc…</td><td>null</td><td>&quot;Santa Ana Fwy …</td><td>&quot;R&quot;</td><td>&quot;Tustin&quot;</td><td>&quot;Orange&quot;</td><td>&quot;CA&quot;</td><td>&quot;92780&quot;</td><td>&quot;US&quot;</td><td>&quot;US/Pacific&quot;</td><td>&quot;KSNA&quot;</td><td>&quot;2019-08-23 17:…</td><td>75.0</td><td>75.0</td><td>60.0</td><td>29.74</td><td>10.0</td><td>&quot;SSW&quot;</td><td>9.0</td><td>0.0</td><td>&quot;Fair&quot;</td><td>false</td><td>false</td><td>false</td><td>false</td><td>false</td><td>false</td><td>false</td><td>false</td><td>false</td><td>false</td><td>false</td><td>false</td><td>false</td><td>&quot;Day&quot;</td><td>&quot;Day&quot;</td><td>&quot;Day&quot;</td><td>&quot;Day&quot;</td><td>&quot;California&quot;</td><td>&quot;Calif.&quot;</td><td>&quot;&lt;Tustin,_Calif…</td></tr><tr><td>&quot;A-2845338&quot;</td><td>2</td><td>&quot;2019-08-23 18:…</td><td>&quot;2019-08-23 18:…</td><td>34.00248</td><td>-117.37936</td><td>33.99888</td><td>-117.37094</td><td>0.543</td><td>&quot;At Market St -…</td><td>null</td><td>&quot;Pomona Fwy E&quot;</td><td>&quot;R&quot;</td><td>&quot;Riverside&quot;</td><td>&quot;Riverside&quot;</td><td>&quot;CA&quot;</td><td>&quot;92501&quot;</td><td>&quot;US&quot;</td><td>&quot;US/Pacific&quot;</td><td>&quot;KRAL&quot;</td><td>&quot;2019-08-23 17:…</td><td>86.0</td><td>86.0</td><td>40.0</td><td>28.92</td><td>10.0</td><td>&quot;W&quot;</td><td>13.0</td><td>0.0</td><td>&quot;Fair&quot;</td><td>false</td><td>false</td><td>false</td><td>false</td><td>false</td><td>false</td><td>false</td><td>false</td><td>false</td><td>false</td><td>false</td><td>false</td><td>false</td><td>&quot;Day&quot;</td><td>&quot;Day&quot;</td><td>&quot;Day&quot;</td><td>&quot;Day&quot;</td><td>&quot;California&quot;</td><td>&quot;Calif.&quot;</td><td>&quot;&lt;Riverside,_Ca…</td></tr><tr><td>&quot;A-2845340&quot;</td><td>2</td><td>&quot;2019-08-23 19:…</td><td>&quot;2019-08-23 19:…</td><td>33.77545</td><td>-117.84779</td><td>33.7774</td><td>-117.85727</td><td>0.561</td><td>&quot;At Glassell St…</td><td>null</td><td>&quot;Garden Grove F…</td><td>&quot;R&quot;</td><td>&quot;Orange&quot;</td><td>&quot;Orange&quot;</td><td>&quot;CA&quot;</td><td>&quot;92866&quot;</td><td>&quot;US&quot;</td><td>&quot;US/Pacific&quot;</td><td>&quot;KSNA&quot;</td><td>&quot;2019-08-23 18:…</td><td>73.0</td><td>73.0</td><td>64.0</td><td>29.74</td><td>10.0</td><td>&quot;SSW&quot;</td><td>10.0</td><td>0.0</td><td>&quot;Partly Cloudy&quot;</td><td>false</td><td>false</td><td>false</td><td>false</td><td>true</td><td>false</td><td>false</td><td>false</td><td>false</td><td>false</td><td>false</td><td>false</td><td>false</td><td>&quot;Day&quot;</td><td>&quot;Day&quot;</td><td>&quot;Day&quot;</td><td>&quot;Day&quot;</td><td>&quot;California&quot;</td><td>&quot;Calif.&quot;</td><td>&quot;&lt;Orange,_Calif…</td></tr><tr><td>&quot;A-2845342&quot;</td><td>2</td><td>&quot;2019-08-23 18:…</td><td>&quot;2019-08-23 19:…</td><td>34.13393</td><td>-117.23092</td><td>34.13736</td><td>-117.23934</td><td>0.537</td><td>&quot;At Highland Av…</td><td>null</td><td>&quot;CA-210 W&quot;</td><td>&quot;R&quot;</td><td>&quot;Highland&quot;</td><td>&quot;San Bernardino…</td><td>&quot;CA&quot;</td><td>&quot;92346&quot;</td><td>&quot;US&quot;</td><td>&quot;US/Pacific&quot;</td><td>&quot;KSBD&quot;</td><td>&quot;2019-08-23 20:…</td><td>79.0</td><td>79.0</td><td>47.0</td><td>28.63</td><td>7.0</td><td>&quot;SW&quot;</td><td>7.0</td><td>0.0</td><td>&quot;Fair&quot;</td><td>false</td><td>false</td><td>false</td><td>false</td><td>false</td><td>false</td><td>false</td><td>false</td><td>false</td><td>false</td><td>false</td><td>false</td><td>false</td><td>&quot;Day&quot;</td><td>&quot;Day&quot;</td><td>&quot;Day&quot;</td><td>&quot;Day&quot;</td><td>&quot;California&quot;</td><td>&quot;Calif.&quot;</td><td>&quot;&lt;Highland,_Cal…</td></tr></tbody></table></div>"
      ],
      "text/plain": [
       "shape: (1396368, 50)\n",
       "┌───────────┬──────────┬──────────┬────────────┬───┬────────────┬────────────┬────────┬────────────┐\n",
       "│ ID        ┆ Severity ┆ Start_Ti ┆ End_Time   ┆ … ┆ Astronomic ┆ State      ┆ Abbrev ┆ col_to_emb │\n",
       "│ ---       ┆ ---      ┆ me       ┆ ---        ┆   ┆ al_Twiligh ┆ ---        ┆ ---    ┆ ed         │\n",
       "│ str       ┆ i64      ┆ ---      ┆ str        ┆   ┆ t          ┆ str        ┆ str    ┆ ---        │\n",
       "│           ┆          ┆ str      ┆            ┆   ┆ ---        ┆            ┆        ┆ str        │\n",
       "│           ┆          ┆          ┆            ┆   ┆ str        ┆            ┆        ┆            │\n",
       "╞═══════════╪══════════╪══════════╪════════════╪═══╪════════════╪════════════╪════════╪════════════╡\n",
       "│ A-1       ┆ 3        ┆ 2016-02- ┆ 2016-02-08 ┆ … ┆ Night      ┆ Ohio       ┆ Ohio   ┆ <Dublin,_O │\n",
       "│           ┆          ┆ 08       ┆ 06:37:08   ┆   ┆            ┆            ┆        ┆ hio>       │\n",
       "│           ┆          ┆ 00:37:08 ┆            ┆   ┆            ┆            ┆        ┆            │\n",
       "│ A-2       ┆ 2        ┆ 2016-02- ┆ 2016-02-08 ┆ … ┆ Night      ┆ Ohio       ┆ Ohio   ┆ <Dayton,_O │\n",
       "│           ┆          ┆ 08       ┆ 11:56:20   ┆   ┆            ┆            ┆        ┆ hio>       │\n",
       "│           ┆          ┆ 05:56:20 ┆            ┆   ┆            ┆            ┆        ┆            │\n",
       "│ A-4       ┆ 2        ┆ 2016-02- ┆ 2016-02-08 ┆ … ┆ Day        ┆ Ohio       ┆ Ohio   ┆ <Akron,_Oh │\n",
       "│           ┆          ┆ 08       ┆ 12:51:45   ┆   ┆            ┆            ┆        ┆ io>        │\n",
       "│           ┆          ┆ 06:51:45 ┆            ┆   ┆            ┆            ┆        ┆            │\n",
       "│ A-6       ┆ 2        ┆ 2016-02- ┆ 2016-02-08 ┆ … ┆ Day        ┆ Ohio       ┆ Ohio   ┆ <Williamsb │\n",
       "│           ┆          ┆ 08       ┆ 14:16:57   ┆   ┆            ┆            ┆        ┆ urg,_Ohio> │\n",
       "│           ┆          ┆ 08:16:57 ┆            ┆   ┆            ┆            ┆        ┆            │\n",
       "│ …         ┆ …        ┆ …        ┆ …          ┆ … ┆ …          ┆ …          ┆ …      ┆ …          │\n",
       "│ A-2845336 ┆ 2        ┆ 2019-08- ┆ 2019-08-23 ┆ … ┆ Day        ┆ California ┆ Calif. ┆ <Tustin,_C │\n",
       "│           ┆          ┆ 23       ┆ 18:12:27   ┆   ┆            ┆            ┆        ┆ alifornia> │\n",
       "│           ┆          ┆ 17:43:56 ┆            ┆   ┆            ┆            ┆        ┆            │\n",
       "│ A-2845338 ┆ 2        ┆ 2019-08- ┆ 2019-08-23 ┆ … ┆ Day        ┆ California ┆ Calif. ┆ <Riverside │\n",
       "│           ┆          ┆ 23       ┆ 18:32:01   ┆   ┆            ┆            ┆        ┆ ,_Californ │\n",
       "│           ┆          ┆ 18:03:25 ┆            ┆   ┆            ┆            ┆        ┆ ia>        │\n",
       "│ A-2845340 ┆ 2        ┆ 2019-08- ┆ 2019-08-23 ┆ … ┆ Day        ┆ California ┆ Calif. ┆ <Orange,_C │\n",
       "│           ┆          ┆ 23       ┆ 19:28:49   ┆   ┆            ┆            ┆        ┆ alifornia> │\n",
       "│           ┆          ┆ 19:00:21 ┆            ┆   ┆            ┆            ┆        ┆            │\n",
       "│ A-2845342 ┆ 2        ┆ 2019-08- ┆ 2019-08-23 ┆ … ┆ Day        ┆ California ┆ Calif. ┆ <Highland, │\n",
       "│           ┆          ┆ 23       ┆ 19:21:31   ┆   ┆            ┆            ┆        ┆ _Californi │\n",
       "│           ┆          ┆ 18:52:06 ┆            ┆   ┆            ┆            ┆        ┆ a>         │\n",
       "└───────────┴──────────┴──────────┴────────────┴───┴────────────┴────────────┴────────┴────────────┘"
      ]
     },
     "execution_count": 61,
     "metadata": {},
     "output_type": "execute_result"
    }
   ],
   "source": [
    "df_filtered"
   ]
  },
  {
   "cell_type": "code",
   "execution_count": 60,
   "metadata": {},
   "outputs": [
    {
     "data": {
      "text/html": [
       "<div><style>\n",
       ".dataframe > thead > tr > th,\n",
       ".dataframe > tbody > tr > td {\n",
       "  text-align: right;\n",
       "}\n",
       "</style>\n",
       "<small>shape: (9850, 4)</small><table border=\"1\" class=\"dataframe\"><thead><tr><th>col_to_embed</th><th>City</th><th>Code</th><th>count</th></tr><tr><td>str</td><td>str</td><td>str</td><td>u32</td></tr></thead><tbody><tr><td>&quot;&lt;Birnamwood,_W…</td><td>&quot;Birnamwood&quot;</td><td>&quot;WI&quot;</td><td>7</td></tr><tr><td>&quot;&lt;Romeoville,_I…</td><td>&quot;Romeoville&quot;</td><td>&quot;IL&quot;</td><td>29</td></tr><tr><td>&quot;&lt;Sumner,_Washi…</td><td>&quot;Sumner&quot;</td><td>&quot;WA&quot;</td><td>222</td></tr><tr><td>&quot;&lt;Lacon,_Illino…</td><td>&quot;Lacon&quot;</td><td>&quot;IL&quot;</td><td>2</td></tr><tr><td>&quot;&lt;Socorro,_Texa…</td><td>&quot;Socorro&quot;</td><td>&quot;TX&quot;</td><td>23</td></tr><tr><td>&quot;&lt;Fordyce,_Arka…</td><td>&quot;Fordyce&quot;</td><td>&quot;AR&quot;</td><td>17</td></tr><tr><td>&quot;&lt;Manor,_Pennsy…</td><td>&quot;Manor&quot;</td><td>&quot;PA&quot;</td><td>4</td></tr><tr><td>&quot;&lt;Copperhill,_T…</td><td>&quot;Copperhill&quot;</td><td>&quot;TN&quot;</td><td>2</td></tr><tr><td>&quot;&lt;Templeton,_Ma…</td><td>&quot;Templeton&quot;</td><td>&quot;MA&quot;</td><td>10</td></tr><tr><td>&quot;&lt;Arnold,_Nebra…</td><td>&quot;Arnold&quot;</td><td>&quot;NE&quot;</td><td>1</td></tr><tr><td>&quot;&lt;Bryant,_India…</td><td>&quot;Bryant&quot;</td><td>&quot;IN&quot;</td><td>6</td></tr><tr><td>&quot;&lt;Holden,_Louis…</td><td>&quot;Holden&quot;</td><td>&quot;LA&quot;</td><td>20</td></tr><tr><td>&hellip;</td><td>&hellip;</td><td>&hellip;</td><td>&hellip;</td></tr><tr><td>&quot;&lt;Othello,_Wash…</td><td>&quot;Othello&quot;</td><td>&quot;WA&quot;</td><td>6</td></tr><tr><td>&quot;&lt;Boring,_Orego…</td><td>&quot;Boring&quot;</td><td>&quot;OR&quot;</td><td>264</td></tr><tr><td>&quot;&lt;Brandon,_Iowa…</td><td>&quot;Brandon&quot;</td><td>&quot;IA&quot;</td><td>25</td></tr><tr><td>&quot;&lt;Hereford,_Pen…</td><td>&quot;Hereford&quot;</td><td>&quot;PA&quot;</td><td>2</td></tr><tr><td>&quot;&lt;Acton,_Montan…</td><td>&quot;Acton&quot;</td><td>&quot;MT&quot;</td><td>6</td></tr><tr><td>&quot;&lt;Kitzmiller,_M…</td><td>&quot;Kitzmiller&quot;</td><td>&quot;MD&quot;</td><td>2</td></tr><tr><td>&quot;&lt;Ashland,_Kent…</td><td>&quot;Ashland&quot;</td><td>&quot;KY&quot;</td><td>3</td></tr><tr><td>&quot;&lt;Malden,_Massa…</td><td>&quot;Malden&quot;</td><td>&quot;MA&quot;</td><td>6</td></tr><tr><td>&quot;&lt;Bond,_Colorad…</td><td>&quot;Bond&quot;</td><td>&quot;CO&quot;</td><td>15</td></tr><tr><td>&quot;&lt;Imperial,_Cal…</td><td>&quot;Imperial&quot;</td><td>&quot;CA&quot;</td><td>3</td></tr><tr><td>&quot;&lt;Loogootee,_In…</td><td>&quot;Loogootee&quot;</td><td>&quot;IN&quot;</td><td>28</td></tr><tr><td>&quot;&lt;Wellston,_Mic…</td><td>&quot;Wellston&quot;</td><td>&quot;MI&quot;</td><td>1</td></tr></tbody></table></div>"
      ],
      "text/plain": [
       "shape: (9850, 4)\n",
       "┌─────────────────────────┬────────────┬──────┬───────┐\n",
       "│ col_to_embed            ┆ City       ┆ Code ┆ count │\n",
       "│ ---                     ┆ ---        ┆ ---  ┆ ---   │\n",
       "│ str                     ┆ str        ┆ str  ┆ u32   │\n",
       "╞═════════════════════════╪════════════╪══════╪═══════╡\n",
       "│ <Birnamwood,_Wisconsin> ┆ Birnamwood ┆ WI   ┆ 7     │\n",
       "│ <Romeoville,_Illinois>  ┆ Romeoville ┆ IL   ┆ 29    │\n",
       "│ <Sumner,_Washington>    ┆ Sumner     ┆ WA   ┆ 222   │\n",
       "│ <Lacon,_Illinois>       ┆ Lacon      ┆ IL   ┆ 2     │\n",
       "│ …                       ┆ …          ┆ …    ┆ …     │\n",
       "│ <Bond,_Colorado>        ┆ Bond       ┆ CO   ┆ 15    │\n",
       "│ <Imperial,_California>  ┆ Imperial   ┆ CA   ┆ 3     │\n",
       "│ <Loogootee,_Indiana>    ┆ Loogootee  ┆ IN   ┆ 28    │\n",
       "│ <Wellston,_Michigan>    ┆ Wellston   ┆ MI   ┆ 1     │\n",
       "└─────────────────────────┴────────────┴──────┴───────┘"
      ]
     },
     "execution_count": 60,
     "metadata": {},
     "output_type": "execute_result"
    }
   ],
   "source": [
    "df_counts"
   ]
  },
  {
   "cell_type": "code",
   "execution_count": 24,
   "metadata": {},
   "outputs": [],
   "source": [
    "df_final.write_parquet(Path(dataset_dir, \"us-accidents-target.parquet\"))"
   ]
  },
  {
   "attachments": {},
   "cell_type": "markdown",
   "metadata": {},
   "source": [
    "Reading original to see if the two versions look similar. "
   ]
  },
  {
   "cell_type": "code",
   "execution_count": 25,
   "metadata": {},
   "outputs": [
    {
     "data": {
      "text/html": [
       "<div><style>\n",
       ".dataframe > thead > tr > th,\n",
       ".dataframe > tbody > tr > td {\n",
       "  text-align: right;\n",
       "}\n",
       "</style>\n",
       "<small>shape: (8538, 3)</small><table border=\"1\" class=\"dataframe\"><thead><tr><th>raw_entities</th><th>col_to_embed</th><th>target</th></tr><tr><td>str</td><td>str</td><td>f64</td></tr></thead><tbody><tr><td>&quot;Aaronsburg, PA…</td><td>&quot;&lt;Aaronsburg,_P…</td><td>0.30103</td></tr><tr><td>&quot;Abbeville, LA&quot;</td><td>&quot;&lt;Abbeville,_Lo…</td><td>0.0</td></tr><tr><td>&quot;Abbotsford, WI…</td><td>&quot;&lt;Abbotsford,_W…</td><td>0.954243</td></tr><tr><td>&quot;Abbottstown, P…</td><td>&quot;&lt;Abbottstown,_…</td><td>1.041393</td></tr><tr><td>&quot;Aberdeen, MD&quot;</td><td>&quot;&lt;Aberdeen,_Mar…</td><td>2.396199</td></tr><tr><td>&quot;Aberdeen, MS&quot;</td><td>&quot;&lt;Aberdeen,_Mis…</td><td>0.477121</td></tr><tr><td>&quot;Aberdeen, OH&quot;</td><td>&quot;&lt;Aberdeen,_Ohi…</td><td>0.0</td></tr><tr><td>&quot;Aberdeen, WA&quot;</td><td>&quot;&lt;Aberdeen,_Was…</td><td>1.342423</td></tr><tr><td>&quot;Abernathy, TX&quot;</td><td>&quot;&lt;Abernathy,_Te…</td><td>0.0</td></tr><tr><td>&quot;Abilene, TX&quot;</td><td>&quot;&lt;Abilene,_Texa…</td><td>1.0</td></tr><tr><td>&quot;Abingdon, MD&quot;</td><td>&quot;&lt;Abingdon,_Mar…</td><td>2.136721</td></tr><tr><td>&quot;Abingdon, VA&quot;</td><td>&quot;&lt;Abingdon,_Vir…</td><td>2.064458</td></tr><tr><td>&hellip;</td><td>&hellip;</td><td>&hellip;</td></tr><tr><td>&quot;Zeeland, MI&quot;</td><td>&quot;&lt;Zeeland,_Mich…</td><td>1.662758</td></tr><tr><td>&quot;Zelienople, PA…</td><td>&quot;&lt;Zelienople,_P…</td><td>1.079181</td></tr><tr><td>&quot;Zellwood, FL&quot;</td><td>&quot;&lt;Zellwood,_Flo…</td><td>1.591065</td></tr><tr><td>&quot;Zephyrhills, F…</td><td>&quot;&lt;Zephyrhills,_…</td><td>2.08636</td></tr><tr><td>&quot;Zillah, WA&quot;</td><td>&quot;&lt;Zillah,_Washi…</td><td>0.60206</td></tr><tr><td>&quot;Zimmerman, MN&quot;</td><td>&quot;&lt;Zimmerman,_Mi…</td><td>1.812913</td></tr><tr><td>&quot;Zion, IL&quot;</td><td>&quot;&lt;Zion,_Illinoi…</td><td>2.50515</td></tr><tr><td>&quot;Zionsville, IN…</td><td>&quot;&lt;Zionsville,_I…</td><td>2.190332</td></tr><tr><td>&quot;Zionsville, PA…</td><td>&quot;&lt;Zionsville,_P…</td><td>0.0</td></tr><tr><td>&quot;Zumbrota, MN&quot;</td><td>&quot;&lt;Zumbrota,_Min…</td><td>2.193125</td></tr><tr><td>&quot;Zuni, VA&quot;</td><td>&quot;&lt;Zuni,_Virgini…</td><td>1.079181</td></tr><tr><td>&quot;Zwingle, IA&quot;</td><td>&quot;&lt;Zwingle,_Iowa…</td><td>0.60206</td></tr></tbody></table></div>"
      ],
      "text/plain": [
       "shape: (8538, 3)\n",
       "┌─────────────────┬─────────────────────────────┬──────────┐\n",
       "│ raw_entities    ┆ col_to_embed                ┆ target   │\n",
       "│ ---             ┆ ---                         ┆ ---      │\n",
       "│ str             ┆ str                         ┆ f64      │\n",
       "╞═════════════════╪═════════════════════════════╪══════════╡\n",
       "│ Aaronsburg, PA  ┆ <Aaronsburg,_Pennsylvania>  ┆ 0.30103  │\n",
       "│ Abbeville, LA   ┆ <Abbeville,_Louisiana>      ┆ 0.0      │\n",
       "│ Abbotsford, WI  ┆ <Abbotsford,_Wisconsin>     ┆ 0.954243 │\n",
       "│ Abbottstown, PA ┆ <Abbottstown,_Pennsylvania> ┆ 1.041393 │\n",
       "│ …               ┆ …                           ┆ …        │\n",
       "│ Zionsville, PA  ┆ <Zionsville,_Pennsylvania>  ┆ 0.0      │\n",
       "│ Zumbrota, MN    ┆ <Zumbrota,_Minnesota>       ┆ 2.193125 │\n",
       "│ Zuni, VA        ┆ <Zuni,_Virginia>            ┆ 1.079181 │\n",
       "│ Zwingle, IA     ┆ <Zwingle,_Iowa>             ┆ 0.60206  │\n",
       "└─────────────────┴─────────────────────────────┴──────────┘"
      ]
     },
     "execution_count": 25,
     "metadata": {},
     "output_type": "execute_result"
    }
   ],
   "source": [
    "path_original=Path(\"/storage/store3/work/acvetkov/gitlab/KEN/experiments/datasets/us_accidents/counts.parquet\")\n",
    "df_counts_og = pl.read_parquet(path_original)\n",
    "df_counts_og"
   ]
  },
  {
   "attachments": {},
   "cell_type": "markdown",
   "metadata": {},
   "source": [
    "As expected, the number of entities in the original file is smaller. "
   ]
  },
  {
   "attachments": {},
   "cell_type": "markdown",
   "metadata": {},
   "source": [
    "# Company Employees Dataset"
   ]
  },
  {
   "cell_type": "code",
   "execution_count": 14,
   "metadata": {},
   "outputs": [],
   "source": [
    "dataset_dir = Path(data_dir, \"company-employees\")"
   ]
  },
  {
   "cell_type": "code",
   "execution_count": 15,
   "metadata": {},
   "outputs": [],
   "source": [
    "df = pl.read_csv(Path(dataset_dir, \"companies_sorted.csv\"))\n",
    "df_selected = df.filter(\n",
    "    pl.col(\"current employee estimate\") >= 1000\n",
    ")"
   ]
  },
  {
   "cell_type": "code",
   "execution_count": 16,
   "metadata": {},
   "outputs": [
    {
     "data": {
      "text/html": [
       "<div><style>\n",
       ".dataframe > thead > tr > th,\n",
       ".dataframe > tbody > tr > td {\n",
       "  text-align: right;\n",
       "}\n",
       "</style>\n",
       "<small>shape: (11269, 11)</small><table border=\"1\" class=\"dataframe\"><thead><tr><th></th><th>name</th><th>domain</th><th>year founded</th><th>industry</th><th>size range</th><th>locality</th><th>country</th><th>linkedin url</th><th>current employee estimate</th><th>total employee estimate</th></tr><tr><td>i64</td><td>str</td><td>str</td><td>f64</td><td>str</td><td>str</td><td>str</td><td>str</td><td>str</td><td>i64</td><td>i64</td></tr></thead><tbody><tr><td>5872184</td><td>&quot;ibm&quot;</td><td>&quot;ibm.com&quot;</td><td>1911.0</td><td>&quot;information te…</td><td>&quot;10001+&quot;</td><td>&quot;new york, new …</td><td>&quot;united states&quot;</td><td>&quot;linkedin.com/c…</td><td>274047</td><td>716906</td></tr><tr><td>4425416</td><td>&quot;tata consultan…</td><td>&quot;tcs.com&quot;</td><td>1968.0</td><td>&quot;information te…</td><td>&quot;10001+&quot;</td><td>&quot;bombay, mahara…</td><td>&quot;india&quot;</td><td>&quot;linkedin.com/c…</td><td>190771</td><td>341369</td></tr><tr><td>21074</td><td>&quot;accenture&quot;</td><td>&quot;accenture.com&quot;</td><td>1989.0</td><td>&quot;information te…</td><td>&quot;10001+&quot;</td><td>&quot;dublin, dublin…</td><td>&quot;ireland&quot;</td><td>&quot;linkedin.com/c…</td><td>190689</td><td>455768</td></tr><tr><td>2309813</td><td>&quot;us army&quot;</td><td>&quot;goarmy.com&quot;</td><td>1800.0</td><td>&quot;military&quot;</td><td>&quot;10001+&quot;</td><td>&quot;alexandria, vi…</td><td>&quot;united states&quot;</td><td>&quot;linkedin.com/c…</td><td>162163</td><td>445958</td></tr><tr><td>1558607</td><td>&quot;ey&quot;</td><td>&quot;ey.com&quot;</td><td>1989.0</td><td>&quot;accounting&quot;</td><td>&quot;10001+&quot;</td><td>&quot;london, greate…</td><td>&quot;united kingdom…</td><td>&quot;linkedin.com/c…</td><td>158363</td><td>428960</td></tr><tr><td>3844889</td><td>&quot;hewlett-packar…</td><td>&quot;hpe.com&quot;</td><td>1939.0</td><td>&quot;information te…</td><td>&quot;10001+&quot;</td><td>&quot;palo alto, cal…</td><td>&quot;united states&quot;</td><td>&quot;linkedin.com/c…</td><td>127952</td><td>412952</td></tr><tr><td>2959148</td><td>&quot;cognizant tech…</td><td>&quot;cognizant.com&quot;</td><td>1994.0</td><td>&quot;information te…</td><td>&quot;10001+&quot;</td><td>&quot;teaneck, new j…</td><td>&quot;united states&quot;</td><td>&quot;linkedin.com/c…</td><td>122031</td><td>210020</td></tr><tr><td>5944912</td><td>&quot;walmart&quot;</td><td>&quot;walmartcareers…</td><td>1962.0</td><td>&quot;retail&quot;</td><td>&quot;10001+&quot;</td><td>&quot;withee, wiscon…</td><td>&quot;united states&quot;</td><td>&quot;linkedin.com/c…</td><td>120753</td><td>272827</td></tr><tr><td>3727010</td><td>&quot;microsoft&quot;</td><td>&quot;microsoft.com&quot;</td><td>1975.0</td><td>&quot;computer softw…</td><td>&quot;10001+&quot;</td><td>&quot;redmond, washi…</td><td>&quot;united states&quot;</td><td>&quot;linkedin.com/c…</td><td>116196</td><td>276983</td></tr><tr><td>3300741</td><td>&quot;at&amp;t&quot;</td><td>&quot;att.com&quot;</td><td>1876.0</td><td>&quot;telecommunicat…</td><td>&quot;10001+&quot;</td><td>&quot;dallas, texas,…</td><td>&quot;united states&quot;</td><td>&quot;linkedin.com/c…</td><td>115188</td><td>269659</td></tr><tr><td>5412257</td><td>&quot;united states …</td><td>&quot;airforce.com&quot;</td><td>1947.0</td><td>&quot;defense &amp; spac…</td><td>&quot;10001+&quot;</td><td>&quot;randolph, texa…</td><td>&quot;united states&quot;</td><td>&quot;linkedin.com/c…</td><td>113997</td><td>316549</td></tr><tr><td>2780814</td><td>&quot;pwc&quot;</td><td>&quot;pwc.com&quot;</td><td>1998.0</td><td>&quot;accounting&quot;</td><td>&quot;10001+&quot;</td><td>&quot;new york, new …</td><td>&quot;united states&quot;</td><td>&quot;linkedin.com/c…</td><td>111372</td><td>379447</td></tr><tr><td>&hellip;</td><td>&hellip;</td><td>&hellip;</td><td>&hellip;</td><td>&hellip;</td><td>&hellip;</td><td>&hellip;</td><td>&hellip;</td><td>&hellip;</td><td>&hellip;</td><td>&hellip;</td></tr><tr><td>3635057</td><td>&quot;member of the …</td><td>null</td><td>null</td><td>&quot;financial serv…</td><td>&quot;1001 - 5000&quot;</td><td>null</td><td>null</td><td>&quot;linkedin.com/c…</td><td>1001</td><td>1020</td></tr><tr><td>5397411</td><td>&quot;deluxe media i…</td><td>null</td><td>1915.0</td><td>&quot;entertainment&quot;</td><td>&quot;1001 - 5000&quot;</td><td>&quot;burbank, calif…</td><td>&quot;united states&quot;</td><td>&quot;linkedin.com/c…</td><td>1000</td><td>2861</td></tr><tr><td>4741304</td><td>&quot;autônomo&quot;</td><td>&quot;pedropontes.co…</td><td>null</td><td>&quot;information te…</td><td>&quot;1001 - 5000&quot;</td><td>null</td><td>null</td><td>&quot;linkedin.com/c…</td><td>1000</td><td>1363</td></tr><tr><td>72277</td><td>&quot;citi habitats&quot;</td><td>&quot;citihabitats.c…</td><td>1994.0</td><td>&quot;real estate&quot;</td><td>&quot;1001 - 5000&quot;</td><td>&quot;new york, new …</td><td>&quot;united states&quot;</td><td>&quot;linkedin.com/c…</td><td>1000</td><td>2368</td></tr><tr><td>342007</td><td>&quot;ams&quot;</td><td>&quot;amstm.com&quot;</td><td>null</td><td>&quot;management con…</td><td>&quot;1001 - 5000&quot;</td><td>&quot;moscow, moscow…</td><td>&quot;russia&quot;</td><td>&quot;linkedin.com/c…</td><td>1000</td><td>1214</td></tr><tr><td>1086734</td><td>&quot;glenmark gener…</td><td>&quot;glenmark-gener…</td><td>1977.0</td><td>&quot;pharmaceutical…</td><td>&quot;1001 - 5000&quot;</td><td>&quot;mahwah, new je…</td><td>&quot;united states&quot;</td><td>&quot;linkedin.com/c…</td><td>1000</td><td>1857</td></tr><tr><td>3308286</td><td>&quot;becu&quot;</td><td>&quot;becu.org&quot;</td><td>1935.0</td><td>&quot;banking&quot;</td><td>&quot;1001 - 5000&quot;</td><td>&quot;tukwila, washi…</td><td>&quot;united states&quot;</td><td>&quot;linkedin.com/c…</td><td>1000</td><td>1741</td></tr><tr><td>1738601</td><td>&quot;idt - integrat…</td><td>&quot;idt.com&quot;</td><td>1980.0</td><td>&quot;semiconductors…</td><td>&quot;1001 - 5000&quot;</td><td>&quot;san jose, cali…</td><td>&quot;united states&quot;</td><td>&quot;linkedin.com/c…</td><td>1000</td><td>3163</td></tr><tr><td>5022079</td><td>&quot;sta travel&quot;</td><td>&quot;statravel.com&quot;</td><td>1979.0</td><td>&quot;leisure, trave…</td><td>&quot;1001 - 5000&quot;</td><td>&quot;london, greate…</td><td>&quot;united kingdom…</td><td>&quot;linkedin.com/c…</td><td>1000</td><td>4014</td></tr><tr><td>4273485</td><td>&quot;university of …</td><td>&quot;ung.edu&quot;</td><td>null</td><td>&quot;higher educati…</td><td>&quot;1001 - 5000&quot;</td><td>&quot;dahlonega, geo…</td><td>&quot;united states&quot;</td><td>&quot;linkedin.com/c…</td><td>1000</td><td>2094</td></tr><tr><td>6998603</td><td>&quot;careernet tech…</td><td>&quot;careernet.co.i…</td><td>1999.0</td><td>&quot;staffing and r…</td><td>&quot;1001 - 5000&quot;</td><td>&quot;bangalore, kar…</td><td>&quot;india&quot;</td><td>&quot;linkedin.com/c…</td><td>1000</td><td>1938</td></tr><tr><td>2868500</td><td>&quot;megacable&quot;</td><td>&quot;megacable.com.…</td><td>1983.0</td><td>&quot;telecommunicat…</td><td>&quot;1001 - 5000&quot;</td><td>&quot;guadalajara, j…</td><td>&quot;mexico&quot;</td><td>&quot;linkedin.com/c…</td><td>1000</td><td>1847</td></tr></tbody></table></div>"
      ],
      "text/plain": [
       "shape: (11269, 11)\n",
       "┌─────────┬──────────┬──────────┬────────────┬───┬──────────┬────────────┬────────────┬────────────┐\n",
       "│         ┆ name     ┆ domain   ┆ year       ┆ … ┆ country  ┆ linkedin   ┆ current    ┆ total      │\n",
       "│ ---     ┆ ---      ┆ ---      ┆ founded    ┆   ┆ ---      ┆ url        ┆ employee   ┆ employee   │\n",
       "│ i64     ┆ str      ┆ str      ┆ ---        ┆   ┆ str      ┆ ---        ┆ estimate   ┆ estimate   │\n",
       "│         ┆          ┆          ┆ f64        ┆   ┆          ┆ str        ┆ ---        ┆ ---        │\n",
       "│         ┆          ┆          ┆            ┆   ┆          ┆            ┆ i64        ┆ i64        │\n",
       "╞═════════╪══════════╪══════════╪════════════╪═══╪══════════╪════════════╪════════════╪════════════╡\n",
       "│ 5872184 ┆ ibm      ┆ ibm.com  ┆ 1911.0     ┆ … ┆ united   ┆ linkedin.c ┆ 274047     ┆ 716906     │\n",
       "│         ┆          ┆          ┆            ┆   ┆ states   ┆ om/company ┆            ┆            │\n",
       "│         ┆          ┆          ┆            ┆   ┆          ┆ /ibm       ┆            ┆            │\n",
       "│ 4425416 ┆ tata con ┆ tcs.com  ┆ 1968.0     ┆ … ┆ india    ┆ linkedin.c ┆ 190771     ┆ 341369     │\n",
       "│         ┆ sultancy ┆          ┆            ┆   ┆          ┆ om/company ┆            ┆            │\n",
       "│         ┆ services ┆          ┆            ┆   ┆          ┆ /tata-cons ┆            ┆            │\n",
       "│         ┆          ┆          ┆            ┆   ┆          ┆ ul…        ┆            ┆            │\n",
       "│ 21074   ┆ accentur ┆ accentur ┆ 1989.0     ┆ … ┆ ireland  ┆ linkedin.c ┆ 190689     ┆ 455768     │\n",
       "│         ┆ e        ┆ e.com    ┆            ┆   ┆          ┆ om/company ┆            ┆            │\n",
       "│         ┆          ┆          ┆            ┆   ┆          ┆ /accenture ┆            ┆            │\n",
       "│ 2309813 ┆ us army  ┆ goarmy.c ┆ 1800.0     ┆ … ┆ united   ┆ linkedin.c ┆ 162163     ┆ 445958     │\n",
       "│         ┆          ┆ om       ┆            ┆   ┆ states   ┆ om/company ┆            ┆            │\n",
       "│         ┆          ┆          ┆            ┆   ┆          ┆ /us-army   ┆            ┆            │\n",
       "│ …       ┆ …        ┆ …        ┆ …          ┆ … ┆ …        ┆ …          ┆ …          ┆ …          │\n",
       "│ 5022079 ┆ sta      ┆ statrave ┆ 1979.0     ┆ … ┆ united   ┆ linkedin.c ┆ 1000       ┆ 4014       │\n",
       "│         ┆ travel   ┆ l.com    ┆            ┆   ┆ kingdom  ┆ om/company ┆            ┆            │\n",
       "│         ┆          ┆          ┆            ┆   ┆          ┆ /sta-trave ┆            ┆            │\n",
       "│         ┆          ┆          ┆            ┆   ┆          ┆ l          ┆            ┆            │\n",
       "│ 4273485 ┆ universi ┆ ung.edu  ┆ null       ┆ … ┆ united   ┆ linkedin.c ┆ 1000       ┆ 2094       │\n",
       "│         ┆ ty of    ┆          ┆            ┆   ┆ states   ┆ om/company ┆            ┆            │\n",
       "│         ┆ north    ┆          ┆            ┆   ┆          ┆ /universit ┆            ┆            │\n",
       "│         ┆ georgia  ┆          ┆            ┆   ┆          ┆ y-…        ┆            ┆            │\n",
       "│ 6998603 ┆ careerne ┆ careerne ┆ 1999.0     ┆ … ┆ india    ┆ linkedin.c ┆ 1000       ┆ 1938       │\n",
       "│         ┆ t techno ┆ t.co.in  ┆            ┆   ┆          ┆ om/company ┆            ┆            │\n",
       "│         ┆ logies   ┆          ┆            ┆   ┆          ┆ /careernet ┆            ┆            │\n",
       "│         ┆          ┆          ┆            ┆   ┆          ┆ -c…        ┆            ┆            │\n",
       "│ 2868500 ┆ megacabl ┆ megacabl ┆ 1983.0     ┆ … ┆ mexico   ┆ linkedin.c ┆ 1000       ┆ 1847       │\n",
       "│         ┆ e        ┆ e.com.mx ┆            ┆   ┆          ┆ om/company ┆            ┆            │\n",
       "│         ┆          ┆          ┆            ┆   ┆          ┆ /megacable ┆            ┆            │\n",
       "└─────────┴──────────┴──────────┴────────────┴───┴──────────┴────────────┴────────────┴────────────┘"
      ]
     },
     "execution_count": 16,
     "metadata": {},
     "output_type": "execute_result"
    }
   ],
   "source": [
    "df_selected"
   ]
  },
  {
   "attachments": {},
   "cell_type": "markdown",
   "metadata": {},
   "source": [
    "I am using a slightly different euristic compared to what Alexis was using. "
   ]
  },
  {
   "attachments": {},
   "cell_type": "markdown",
   "metadata": {},
   "source": [
    "Adding a new column to `yagofacts` with lowercased subjects. "
   ]
  },
  {
   "cell_type": "code",
   "execution_count": 17,
   "metadata": {},
   "outputs": [],
   "source": [
    "yagofacts = yagofacts.with_columns(\n",
    "    pl.col(\"subject\").str.to_lowercase().alias(\"subject_formatted\")\n",
    ")"
   ]
  },
  {
   "cell_type": "code",
   "execution_count": 18,
   "metadata": {},
   "outputs": [],
   "source": [
    "df_filtered=df_selected.lazy().with_columns(\n",
    "    (\"<\" + pl.col(\"name\").str.to_lowercase().str.replace(\" \", \"_\") + \">\").alias(\"formatted_name\")\n",
    ").filter(\n",
    "    pl.col(\"formatted_name\").is_in(yagofacts[\"subject_formatted\"])\n",
    ").collect()"
   ]
  },
  {
   "attachments": {},
   "cell_type": "markdown",
   "metadata": {},
   "source": [
    "Here I am preparing a mapping between the name in the original dataset and the match found in YAGO.\n",
    "Note that there is a relatively low recall, though it is higher than what is used in the original. "
   ]
  },
  {
   "cell_type": "code",
   "execution_count": 19,
   "metadata": {},
   "outputs": [],
   "source": [
    "mapping_name_subject = df_filtered.lazy().join(\n",
    "    yagofacts.lazy(),\n",
    "    left_on=\"formatted_name\",\n",
    "    right_on=\"subject_formatted\"\n",
    ").select(\n",
    "    [\n",
    "        pl.col(\"name\"),\n",
    "        pl.col(\"formatted_name\"),\n",
    "        pl.col(\"subject\")\n",
    "    ]\n",
    ").unique().collect()\n"
   ]
  },
  {
   "attachments": {},
   "cell_type": "markdown",
   "metadata": {},
   "source": [
    "Joining on with the mapping on `formatted_name` to guarantee that col `col_to_embed` uses the same format (and \n",
    "capitalization) used in YAGO. "
   ]
  },
  {
   "cell_type": "code",
   "execution_count": 20,
   "metadata": {},
   "outputs": [],
   "source": [
    "df_final = df_filtered.join(\n",
    "    mapping_name_subject, on=\"formatted_name\"\n",
    ").select(\n",
    "    [\n",
    "        pl.col(\"name\").alias(\"raw_entities\"),\n",
    "        pl.col(\"subject\").alias(\"col_to_embed\"),\n",
    "        pl.col(\"current employee estimate\").alias(\"target\").log10()\n",
    "    ]\n",
    ")\n",
    "df_final\n"
   ]
  },
  {
   "cell_type": "code",
   "execution_count": 22,
   "metadata": {},
   "outputs": [],
   "source": [
    "df_final.write_parquet(Path(dataset_dir, \"company-employees-target.parquet\"))"
   ]
  },
  {
   "cell_type": "code",
   "execution_count": 29,
   "metadata": {},
   "outputs": [
    {
     "data": {
      "text/plain": [
       "['',\n",
       " 'name',\n",
       " 'domain',\n",
       " 'year founded',\n",
       " 'industry',\n",
       " 'size range',\n",
       " 'locality',\n",
       " 'country',\n",
       " 'linkedin url',\n",
       " 'current employee estimate',\n",
       " 'total employee estimate',\n",
       " 'formatted_name']"
      ]
     },
     "execution_count": 29,
     "metadata": {},
     "output_type": "execute_result"
    }
   ],
   "source": [
    "df_filtered.columns"
   ]
  },
  {
   "cell_type": "code",
   "execution_count": 33,
   "metadata": {},
   "outputs": [
    {
     "data": {
      "text/html": [
       "<div><style>\n",
       ".dataframe > thead > tr > th,\n",
       ".dataframe > tbody > tr > td {\n",
       "  text-align: right;\n",
       "}\n",
       "</style>\n",
       "<small>shape: (3028, 12)</small><table border=\"1\" class=\"dataframe\"><thead><tr><th></th><th>name</th><th>domain</th><th>year founded</th><th>industry</th><th>size range</th><th>locality</th><th>country</th><th>linkedin url</th><th>current employee estimate</th><th>total employee estimate</th><th>formatted_name</th></tr><tr><td>i64</td><td>str</td><td>str</td><td>f64</td><td>str</td><td>str</td><td>str</td><td>str</td><td>str</td><td>i64</td><td>i64</td><td>str</td></tr></thead><tbody><tr><td>5872184</td><td>&quot;ibm&quot;</td><td>&quot;ibm.com&quot;</td><td>1911.0</td><td>&quot;information te…</td><td>&quot;10001+&quot;</td><td>&quot;new york, new …</td><td>&quot;united states&quot;</td><td>&quot;linkedin.com/c…</td><td>274047</td><td>716906</td><td>&quot;&lt;ibm&gt;&quot;</td></tr><tr><td>21074</td><td>&quot;accenture&quot;</td><td>&quot;accenture.com&quot;</td><td>1989.0</td><td>&quot;information te…</td><td>&quot;10001+&quot;</td><td>&quot;dublin, dublin…</td><td>&quot;ireland&quot;</td><td>&quot;linkedin.com/c…</td><td>190689</td><td>455768</td><td>&quot;&lt;accenture&gt;&quot;</td></tr><tr><td>3844889</td><td>&quot;hewlett-packar…</td><td>&quot;hpe.com&quot;</td><td>1939.0</td><td>&quot;information te…</td><td>&quot;10001+&quot;</td><td>&quot;palo alto, cal…</td><td>&quot;united states&quot;</td><td>&quot;linkedin.com/c…</td><td>127952</td><td>412952</td><td>&quot;&lt;hewlett-packa…</td></tr><tr><td>5944912</td><td>&quot;walmart&quot;</td><td>&quot;walmartcareers…</td><td>1962.0</td><td>&quot;retail&quot;</td><td>&quot;10001+&quot;</td><td>&quot;withee, wiscon…</td><td>&quot;united states&quot;</td><td>&quot;linkedin.com/c…</td><td>120753</td><td>272827</td><td>&quot;&lt;walmart&gt;&quot;</td></tr><tr><td>3727010</td><td>&quot;microsoft&quot;</td><td>&quot;microsoft.com&quot;</td><td>1975.0</td><td>&quot;computer softw…</td><td>&quot;10001+&quot;</td><td>&quot;redmond, washi…</td><td>&quot;united states&quot;</td><td>&quot;linkedin.com/c…</td><td>116196</td><td>276983</td><td>&quot;&lt;microsoft&gt;&quot;</td></tr><tr><td>3300741</td><td>&quot;at&amp;t&quot;</td><td>&quot;att.com&quot;</td><td>1876.0</td><td>&quot;telecommunicat…</td><td>&quot;10001+&quot;</td><td>&quot;dallas, texas,…</td><td>&quot;united states&quot;</td><td>&quot;linkedin.com/c…</td><td>115188</td><td>269659</td><td>&quot;&lt;at&amp;t&gt;&quot;</td></tr><tr><td>3972223</td><td>&quot;wells fargo&quot;</td><td>&quot;wellsfargo.com…</td><td>null</td><td>&quot;financial serv…</td><td>&quot;10001+&quot;</td><td>&quot;san francisco,…</td><td>&quot;united states&quot;</td><td>&quot;linkedin.com/c…</td><td>109532</td><td>264101</td><td>&quot;&lt;wells_fargo&gt;&quot;</td></tr><tr><td>1454663</td><td>&quot;infosys&quot;</td><td>&quot;infosys.com&quot;</td><td>1981.0</td><td>&quot;information te…</td><td>&quot;10001+&quot;</td><td>&quot;bangalore, kar…</td><td>&quot;india&quot;</td><td>&quot;linkedin.com/c…</td><td>104752</td><td>215718</td><td>&quot;&lt;infosys&gt;&quot;</td></tr><tr><td>3221953</td><td>&quot;deloitte&quot;</td><td>&quot;deloitte.com&quot;</td><td>1900.0</td><td>&quot;management con…</td><td>&quot;10001+&quot;</td><td>&quot;new york, new …</td><td>&quot;united states&quot;</td><td>&quot;linkedin.com/c…</td><td>104112</td><td>329145</td><td>&quot;&lt;deloitte&gt;&quot;</td></tr><tr><td>1685535</td><td>&quot;nokia&quot;</td><td>&quot;nokia.com&quot;</td><td>1865.0</td><td>&quot;telecommunicat…</td><td>&quot;10001+&quot;</td><td>&quot;espoo, uusimaa…</td><td>&quot;finland&quot;</td><td>&quot;linkedin.com/c…</td><td>84327</td><td>251795</td><td>&quot;&lt;nokia&gt;&quot;</td></tr><tr><td>6021320</td><td>&quot;capgemini&quot;</td><td>&quot;capgemini.com&quot;</td><td>1967.0</td><td>&quot;information te…</td><td>&quot;10001+&quot;</td><td>&quot;france, aquita…</td><td>&quot;france&quot;</td><td>&quot;linkedin.com/c…</td><td>84179</td><td>203525</td><td>&quot;&lt;capgemini&gt;&quot;</td></tr><tr><td>4968033</td><td>&quot;hsbc&quot;</td><td>&quot;hsbc.com&quot;</td><td>1865.0</td><td>&quot;financial serv…</td><td>&quot;10001+&quot;</td><td>&quot;london, greate…</td><td>&quot;united kingdom…</td><td>&quot;linkedin.com/c…</td><td>75640</td><td>225649</td><td>&quot;&lt;hsbc&gt;&quot;</td></tr><tr><td>&hellip;</td><td>&hellip;</td><td>&hellip;</td><td>&hellip;</td><td>&hellip;</td><td>&hellip;</td><td>&hellip;</td><td>&hellip;</td><td>&hellip;</td><td>&hellip;</td><td>&hellip;</td><td>&hellip;</td></tr><tr><td>6061133</td><td>&quot;vilnius univer…</td><td>&quot;vu.lt&quot;</td><td>null</td><td>&quot;higher educati…</td><td>&quot;1001 - 5000&quot;</td><td>&quot;vilnius, vilni…</td><td>&quot;lithuania&quot;</td><td>&quot;linkedin.com/c…</td><td>1006</td><td>1990</td><td>&quot;&lt;vilnius_unive…</td></tr><tr><td>28469</td><td>&quot;moody&#x27;s corpor…</td><td>null</td><td>1904.0</td><td>&quot;financial serv…</td><td>&quot;1001 - 5000&quot;</td><td>&quot;new york, new …</td><td>&quot;united states&quot;</td><td>&quot;linkedin.com/c…</td><td>1006</td><td>2322</td><td>&quot;&lt;moody&#x27;s_corpo…</td></tr><tr><td>4675345</td><td>&quot;air europa&quot;</td><td>&quot;aireuropa.com&quot;</td><td>1986.0</td><td>&quot;airlines/aviat…</td><td>&quot;1001 - 5000&quot;</td><td>&quot;palma de mallo…</td><td>&quot;spain&quot;</td><td>&quot;linkedin.com/c…</td><td>1005</td><td>2469</td><td>&quot;&lt;air_europa&gt;&quot;</td></tr><tr><td>2597455</td><td>&quot;providence col…</td><td>&quot;providence.edu…</td><td>1917.0</td><td>&quot;higher educati…</td><td>&quot;1001 - 5000&quot;</td><td>&quot;providence, rh…</td><td>&quot;united states&quot;</td><td>&quot;linkedin.com/c…</td><td>1005</td><td>3236</td><td>&quot;&lt;providence_co…</td></tr><tr><td>5354066</td><td>&quot;appdynamics&quot;</td><td>&quot;appdynamics.co…</td><td>2008.0</td><td>&quot;computer softw…</td><td>&quot;1001 - 5000&quot;</td><td>&quot;san francisco,…</td><td>&quot;united states&quot;</td><td>&quot;linkedin.com/c…</td><td>1005</td><td>1541</td><td>&quot;&lt;appdynamics&gt;&quot;</td></tr><tr><td>2560885</td><td>&quot;qihoo 360&quot;</td><td>&quot;360.cn&quot;</td><td>2005.0</td><td>&quot;internet&quot;</td><td>&quot;1001 - 5000&quot;</td><td>&quot;peking, beijin…</td><td>&quot;china&quot;</td><td>&quot;linkedin.com/c…</td><td>1005</td><td>1775</td><td>&quot;&lt;qihoo_360&gt;&quot;</td></tr><tr><td>3937305</td><td>&quot;hubbell incorp…</td><td>&quot;hubbell.com&quot;</td><td>1888.0</td><td>&quot;electrical/ele…</td><td>&quot;1001 - 5000&quot;</td><td>&quot;shelton, conne…</td><td>&quot;united states&quot;</td><td>&quot;linkedin.com/c…</td><td>1003</td><td>1726</td><td>&quot;&lt;hubbell_incor…</td></tr><tr><td>6114935</td><td>&quot;revenu québec&quot;</td><td>&quot;revenuquebec.c…</td><td>null</td><td>&quot;government adm…</td><td>&quot;1001 - 5000&quot;</td><td>null</td><td>&quot;canada&quot;</td><td>&quot;linkedin.com/c…</td><td>1002</td><td>2093</td><td>&quot;&lt;revenu_québec…</td></tr><tr><td>5018436</td><td>&quot;jagiellonian u…</td><td>&quot;uj.edu.pl&quot;</td><td>null</td><td>&quot;research&quot;</td><td>&quot;1001 - 5000&quot;</td><td>&quot;kraków, lesser…</td><td>&quot;poland&quot;</td><td>&quot;linkedin.com/c…</td><td>1001</td><td>2138</td><td>&quot;&lt;jagiellonian_…</td></tr><tr><td>3308286</td><td>&quot;becu&quot;</td><td>&quot;becu.org&quot;</td><td>1935.0</td><td>&quot;banking&quot;</td><td>&quot;1001 - 5000&quot;</td><td>&quot;tukwila, washi…</td><td>&quot;united states&quot;</td><td>&quot;linkedin.com/c…</td><td>1000</td><td>1741</td><td>&quot;&lt;becu&gt;&quot;</td></tr><tr><td>5022079</td><td>&quot;sta travel&quot;</td><td>&quot;statravel.com&quot;</td><td>1979.0</td><td>&quot;leisure, trave…</td><td>&quot;1001 - 5000&quot;</td><td>&quot;london, greate…</td><td>&quot;united kingdom…</td><td>&quot;linkedin.com/c…</td><td>1000</td><td>4014</td><td>&quot;&lt;sta_travel&gt;&quot;</td></tr><tr><td>2868500</td><td>&quot;megacable&quot;</td><td>&quot;megacable.com.…</td><td>1983.0</td><td>&quot;telecommunicat…</td><td>&quot;1001 - 5000&quot;</td><td>&quot;guadalajara, j…</td><td>&quot;mexico&quot;</td><td>&quot;linkedin.com/c…</td><td>1000</td><td>1847</td><td>&quot;&lt;megacable&gt;&quot;</td></tr></tbody></table></div>"
      ],
      "text/plain": [
       "shape: (3028, 12)\n",
       "┌─────────┬─────────┬─────────┬────────────┬───┬────────────┬────────────┬────────────┬────────────┐\n",
       "│         ┆ name    ┆ domain  ┆ year       ┆ … ┆ linkedin   ┆ current    ┆ total      ┆ formatted_ │\n",
       "│ ---     ┆ ---     ┆ ---     ┆ founded    ┆   ┆ url        ┆ employee   ┆ employee   ┆ name       │\n",
       "│ i64     ┆ str     ┆ str     ┆ ---        ┆   ┆ ---        ┆ estimate   ┆ estimate   ┆ ---        │\n",
       "│         ┆         ┆         ┆ f64        ┆   ┆ str        ┆ ---        ┆ ---        ┆ str        │\n",
       "│         ┆         ┆         ┆            ┆   ┆            ┆ i64        ┆ i64        ┆            │\n",
       "╞═════════╪═════════╪═════════╪════════════╪═══╪════════════╪════════════╪════════════╪════════════╡\n",
       "│ 5872184 ┆ ibm     ┆ ibm.com ┆ 1911.0     ┆ … ┆ linkedin.c ┆ 274047     ┆ 716906     ┆ <ibm>      │\n",
       "│         ┆         ┆         ┆            ┆   ┆ om/company ┆            ┆            ┆            │\n",
       "│         ┆         ┆         ┆            ┆   ┆ /ibm       ┆            ┆            ┆            │\n",
       "│ 21074   ┆ accentu ┆ accentu ┆ 1989.0     ┆ … ┆ linkedin.c ┆ 190689     ┆ 455768     ┆ <accenture │\n",
       "│         ┆ re      ┆ re.com  ┆            ┆   ┆ om/company ┆            ┆            ┆ >          │\n",
       "│         ┆         ┆         ┆            ┆   ┆ /accenture ┆            ┆            ┆            │\n",
       "│ 3844889 ┆ hewlett ┆ hpe.com ┆ 1939.0     ┆ … ┆ linkedin.c ┆ 127952     ┆ 412952     ┆ <hewlett-p │\n",
       "│         ┆ -packar ┆         ┆            ┆   ┆ om/company ┆            ┆            ┆ ackard>    │\n",
       "│         ┆ d       ┆         ┆            ┆   ┆ /hewlett-p ┆            ┆            ┆            │\n",
       "│         ┆         ┆         ┆            ┆   ┆ ac…        ┆            ┆            ┆            │\n",
       "│ 5944912 ┆ walmart ┆ walmart ┆ 1962.0     ┆ … ┆ linkedin.c ┆ 120753     ┆ 272827     ┆ <walmart>  │\n",
       "│         ┆         ┆ careers ┆            ┆   ┆ om/company ┆            ┆            ┆            │\n",
       "│         ┆         ┆ .com    ┆            ┆   ┆ /walmart   ┆            ┆            ┆            │\n",
       "│ …       ┆ …       ┆ …       ┆ …          ┆ … ┆ …          ┆ …          ┆ …          ┆ …          │\n",
       "│ 5018436 ┆ jagiell ┆ uj.edu. ┆ null       ┆ … ┆ linkedin.c ┆ 1001       ┆ 2138       ┆ <jagiellon │\n",
       "│         ┆ onian   ┆ pl      ┆            ┆   ┆ om/company ┆            ┆            ┆ ian_univer │\n",
       "│         ┆ univers ┆         ┆            ┆   ┆ /jagiellon ┆            ┆            ┆ sity>      │\n",
       "│         ┆ ity     ┆         ┆            ┆   ┆ ia…        ┆            ┆            ┆            │\n",
       "│ 3308286 ┆ becu    ┆ becu.or ┆ 1935.0     ┆ … ┆ linkedin.c ┆ 1000       ┆ 1741       ┆ <becu>     │\n",
       "│         ┆         ┆ g       ┆            ┆   ┆ om/company ┆            ┆            ┆            │\n",
       "│         ┆         ┆         ┆            ┆   ┆ /becu      ┆            ┆            ┆            │\n",
       "│ 5022079 ┆ sta     ┆ statrav ┆ 1979.0     ┆ … ┆ linkedin.c ┆ 1000       ┆ 4014       ┆ <sta_trave │\n",
       "│         ┆ travel  ┆ el.com  ┆            ┆   ┆ om/company ┆            ┆            ┆ l>         │\n",
       "│         ┆         ┆         ┆            ┆   ┆ /sta-trave ┆            ┆            ┆            │\n",
       "│         ┆         ┆         ┆            ┆   ┆ l          ┆            ┆            ┆            │\n",
       "│ 2868500 ┆ megacab ┆ megacab ┆ 1983.0     ┆ … ┆ linkedin.c ┆ 1000       ┆ 1847       ┆ <megacable │\n",
       "│         ┆ le      ┆ le.com. ┆            ┆   ┆ om/company ┆            ┆            ┆ >          │\n",
       "│         ┆         ┆ mx      ┆            ┆   ┆ /megacable ┆            ┆            ┆            │\n",
       "└─────────┴─────────┴─────────┴────────────┴───┴────────────┴────────────┴────────────┴────────────┘"
      ]
     },
     "execution_count": 33,
     "metadata": {},
     "output_type": "execute_result"
    }
   ],
   "source": [
    "df_filtered"
   ]
  },
  {
   "cell_type": "code",
   "execution_count": 35,
   "metadata": {},
   "outputs": [],
   "source": [
    "df_prepared = df_filtered.lazy().join(\n",
    "    df_final.lazy(),\n",
    "    left_on=\"name\",\n",
    "    right_on=\"raw_entities\",\n",
    "    how=\"inner\"\n",
    ").drop(\n",
    "    \"\",\n",
    "    \"formatted_name\",\n",
    "    \"current employee estimate\",\n",
    "    \"total employee estimate\",\n",
    ").collect()"
   ]
  },
  {
   "cell_type": "code",
   "execution_count": 37,
   "metadata": {},
   "outputs": [],
   "source": [
    "df_prepared.write_parquet(Path(dataset_dir, \"company-employees-prepared.parquet\"))"
   ]
  },
  {
   "cell_type": "code",
   "execution_count": 36,
   "metadata": {},
   "outputs": [
    {
     "data": {
      "text/html": [
       "<div><style>\n",
       ".dataframe > thead > tr > th,\n",
       ".dataframe > tbody > tr > td {\n",
       "  text-align: right;\n",
       "}\n",
       "</style>\n",
       "<small>shape: (3042, 3)</small><table border=\"1\" class=\"dataframe\"><thead><tr><th>raw_entities</th><th>col_to_embed</th><th>target</th></tr><tr><td>str</td><td>str</td><td>f64</td></tr></thead><tbody><tr><td>&quot;accenture&quot;</td><td>&quot;&lt;Accenture&gt;&quot;</td><td>5.280326</td></tr><tr><td>&quot;walmart&quot;</td><td>&quot;&lt;Walmart&gt;&quot;</td><td>5.081898</td></tr><tr><td>&quot;microsoft&quot;</td><td>&quot;&lt;Microsoft&gt;&quot;</td><td>5.065191</td></tr><tr><td>&quot;infosys&quot;</td><td>&quot;&lt;Infosys&gt;&quot;</td><td>5.020162</td></tr><tr><td>&quot;deloitte&quot;</td><td>&quot;&lt;Deloitte&gt;&quot;</td><td>5.017501</td></tr><tr><td>&quot;nokia&quot;</td><td>&quot;&lt;Nokia&gt;&quot;</td><td>4.925967</td></tr><tr><td>&quot;capgemini&quot;</td><td>&quot;&lt;Capgemini&gt;&quot;</td><td>4.925204</td></tr><tr><td>&quot;google&quot;</td><td>&quot;&lt;Google&gt;&quot;</td><td>4.875692</td></tr><tr><td>&quot;ericsson&quot;</td><td>&quot;&lt;Ericsson&gt;&quot;</td><td>4.830537</td></tr><tr><td>&quot;boeing&quot;</td><td>&quot;&lt;Boeing&gt;&quot;</td><td>4.827763</td></tr><tr><td>&quot;vodafone&quot;</td><td>&quot;&lt;Vodafone&gt;&quot;</td><td>4.823683</td></tr><tr><td>&quot;pfizer&quot;</td><td>&quot;&lt;Pfizer&gt;&quot;</td><td>4.775159</td></tr><tr><td>&hellip;</td><td>&hellip;</td><td>&hellip;</td></tr><tr><td>&quot;kfc&quot;</td><td>&quot;&lt;KFC&gt;&quot;</td><td>3.081347</td></tr><tr><td>&quot;fifa&quot;</td><td>&quot;&lt;FIFA&gt;&quot;</td><td>3.075547</td></tr><tr><td>&quot;yit&quot;</td><td>&quot;&lt;YIT&gt;&quot;</td><td>3.068186</td></tr><tr><td>&quot;kplc&quot;</td><td>&quot;&lt;KPLC&gt;&quot;</td><td>3.064458</td></tr><tr><td>&quot;nbty&quot;</td><td>&quot;&lt;NBTY&gt;&quot;</td><td>3.061829</td></tr><tr><td>&quot;tdk&quot;</td><td>&quot;&lt;TDK&gt;&quot;</td><td>3.049993</td></tr><tr><td>&quot;vtb&quot;</td><td>&quot;&lt;VTB&gt;&quot;</td><td>3.043755</td></tr><tr><td>&quot;zdf&quot;</td><td>&quot;&lt;ZDF&gt;&quot;</td><td>3.0306</td></tr><tr><td>&quot;xml&quot;</td><td>&quot;&lt;XML&gt;&quot;</td><td>3.022841</td></tr><tr><td>&quot;posco&quot;</td><td>&quot;&lt;POSCO&gt;&quot;</td><td>3.006894</td></tr><tr><td>&quot;oncf&quot;</td><td>&quot;&lt;ONCF&gt;&quot;</td><td>3.006466</td></tr><tr><td>&quot;becu&quot;</td><td>&quot;&lt;BECU&gt;&quot;</td><td>3.0</td></tr></tbody></table></div>"
      ],
      "text/plain": [
       "shape: (3042, 3)\n",
       "┌──────────────┬──────────────┬──────────┐\n",
       "│ raw_entities ┆ col_to_embed ┆ target   │\n",
       "│ ---          ┆ ---          ┆ ---      │\n",
       "│ str          ┆ str          ┆ f64      │\n",
       "╞══════════════╪══════════════╪══════════╡\n",
       "│ accenture    ┆ <Accenture>  ┆ 5.280326 │\n",
       "│ walmart      ┆ <Walmart>    ┆ 5.081898 │\n",
       "│ microsoft    ┆ <Microsoft>  ┆ 5.065191 │\n",
       "│ infosys      ┆ <Infosys>    ┆ 5.020162 │\n",
       "│ …            ┆ …            ┆ …        │\n",
       "│ xml          ┆ <XML>        ┆ 3.022841 │\n",
       "│ posco        ┆ <POSCO>      ┆ 3.006894 │\n",
       "│ oncf         ┆ <ONCF>       ┆ 3.006466 │\n",
       "│ becu         ┆ <BECU>       ┆ 3.0      │\n",
       "└──────────────┴──────────────┴──────────┘"
      ]
     },
     "execution_count": 36,
     "metadata": {},
     "output_type": "execute_result"
    }
   ],
   "source": [
    "path_original=Path(\"/storage/store3/work/acvetkov/gitlab/KEN/experiments/datasets/company_employees/target.parquet\")\n",
    "df_target_og = pl.read_parquet(path_original)\n",
    "df_target_og"
   ]
  },
  {
   "attachments": {},
   "cell_type": "markdown",
   "metadata": {},
   "source": [
    "Here I am checking which values in `col_to_embed` are not found in `yagofacts[\"subject\"]`. These companies are missing \n",
    "because the name of the company is not the same in the original dataset and in YAGO. "
   ]
  },
  {
   "cell_type": "code",
   "execution_count": 34,
   "metadata": {},
   "outputs": [
    {
     "data": {
      "text/html": [
       "<div><style>\n",
       ".dataframe > thead > tr > th,\n",
       ".dataframe > tbody > tr > td {\n",
       "  text-align: right;\n",
       "}\n",
       "</style>\n",
       "<small>shape: (327, 3)</small><table border=\"1\" class=\"dataframe\"><thead><tr><th>raw_entities</th><th>col_to_embed</th><th>target</th></tr><tr><td>str</td><td>str</td><td>f64</td></tr></thead><tbody><tr><td>&quot;raytheon&quot;</td><td>&quot;&lt;Raytheon&gt;&quot;</td><td>4.375353</td></tr><tr><td>&quot;thales&quot;</td><td>&quot;&lt;Thales&gt;&quot;</td><td>4.321868</td></tr><tr><td>&quot;herbalife&quot;</td><td>&quot;&lt;Herbalife&gt;&quot;</td><td>4.289433</td></tr><tr><td>&quot;flextronics&quot;</td><td>&quot;&lt;Flextronics&gt;&quot;</td><td>4.279644</td></tr><tr><td>&quot;adecco&quot;</td><td>&quot;&lt;Adecco&gt;&quot;</td><td>4.160799</td></tr><tr><td>&quot;altran&quot;</td><td>&quot;&lt;Altran&gt;&quot;</td><td>4.090187</td></tr><tr><td>&quot;statoil&quot;</td><td>&quot;&lt;Statoil&gt;&quot;</td><td>4.081563</td></tr><tr><td>&quot;symantec&quot;</td><td>&quot;&lt;Symantec&gt;&quot;</td><td>4.034628</td></tr><tr><td>&quot;syntel&quot;</td><td>&quot;&lt;Syntel&gt;&quot;</td><td>3.994229</td></tr><tr><td>&quot;arup&quot;</td><td>&quot;&lt;Arup&gt;&quot;</td><td>3.98304</td></tr><tr><td>&quot;natura&quot;</td><td>&quot;&lt;Natura&gt;&quot;</td><td>3.972295</td></tr><tr><td>&quot;tieto&quot;</td><td>&quot;&lt;Tieto&gt;&quot;</td><td>3.93922</td></tr><tr><td>&hellip;</td><td>&hellip;</td><td>&hellip;</td></tr><tr><td>&quot;itv&quot;</td><td>&quot;&lt;ITV&gt;&quot;</td><td>3.562174</td></tr><tr><td>&quot;nasdaq&quot;</td><td>&quot;&lt;NASDAQ&gt;&quot;</td><td>3.482588</td></tr><tr><td>&quot;aselsan&quot;</td><td>&quot;&lt;ASELSAN&gt;&quot;</td><td>3.397071</td></tr><tr><td>&quot;meditech&quot;</td><td>&quot;&lt;MEDITECH&gt;&quot;</td><td>3.329194</td></tr><tr><td>&quot;jysk&quot;</td><td>&quot;&lt;JYSK&gt;&quot;</td><td>3.256477</td></tr><tr><td>&quot;sabb&quot;</td><td>&quot;&lt;SABB&gt;&quot;</td><td>3.190051</td></tr><tr><td>&quot;sagemcom&quot;</td><td>&quot;&lt;SAGEMCOM&gt;&quot;</td><td>3.155943</td></tr><tr><td>&quot;chesf&quot;</td><td>&quot;&lt;CHESF&gt;&quot;</td><td>3.150142</td></tr><tr><td>&quot;oneok&quot;</td><td>&quot;&lt;ONEOK&gt;&quot;</td><td>3.134177</td></tr><tr><td>&quot;trt&quot;</td><td>&quot;&lt;TRT&gt;&quot;</td><td>3.117271</td></tr><tr><td>&quot;nbty&quot;</td><td>&quot;&lt;NBTY&gt;&quot;</td><td>3.061829</td></tr><tr><td>&quot;vtb&quot;</td><td>&quot;&lt;VTB&gt;&quot;</td><td>3.043755</td></tr></tbody></table></div>"
      ],
      "text/plain": [
       "shape: (327, 3)\n",
       "┌──────────────┬───────────────┬──────────┐\n",
       "│ raw_entities ┆ col_to_embed  ┆ target   │\n",
       "│ ---          ┆ ---           ┆ ---      │\n",
       "│ str          ┆ str           ┆ f64      │\n",
       "╞══════════════╪═══════════════╪══════════╡\n",
       "│ raytheon     ┆ <Raytheon>    ┆ 4.375353 │\n",
       "│ thales       ┆ <Thales>      ┆ 4.321868 │\n",
       "│ herbalife    ┆ <Herbalife>   ┆ 4.289433 │\n",
       "│ flextronics  ┆ <Flextronics> ┆ 4.279644 │\n",
       "│ …            ┆ …             ┆ …        │\n",
       "│ oneok        ┆ <ONEOK>       ┆ 3.134177 │\n",
       "│ trt          ┆ <TRT>         ┆ 3.117271 │\n",
       "│ nbty         ┆ <NBTY>        ┆ 3.061829 │\n",
       "│ vtb          ┆ <VTB>         ┆ 3.043755 │\n",
       "└──────────────┴───────────────┴──────────┘"
      ]
     },
     "execution_count": 34,
     "metadata": {},
     "output_type": "execute_result"
    }
   ],
   "source": [
    "df_target_og.filter(\n",
    "    ~pl.col(\"col_to_embed\").is_in(yagofacts[\"subject\"])\n",
    ")"
   ]
  },
  {
   "attachments": {},
   "cell_type": "markdown",
   "metadata": {},
   "source": [
    "# The Movies Dataset"
   ]
  },
  {
   "cell_type": "code",
   "execution_count": 65,
   "metadata": {},
   "outputs": [],
   "source": [
    "dataset_dir = Path(data_dir, \"the-movies-dataset\")\n",
    "df = pl.read_csv(Path(dataset_dir, \"movies_metadata.csv\"), infer_schema_length=0)\n"
   ]
  },
  {
   "attachments": {},
   "cell_type": "markdown",
   "metadata": {},
   "source": [
    "The target variable is the revenue, so movies with revenue 0 are dropped. I am also reformatting the release date for creating the title mappings."
   ]
  },
  {
   "cell_type": "code",
   "execution_count": 66,
   "metadata": {},
   "outputs": [],
   "source": [
    "# Filtering\n",
    "df_filtered = df.filter(\n",
    "    pl.col(\"revenue\").cast(int) > 0\n",
    ").with_columns(\n",
    "    (pl.col(\"release_date\").str.slice(0, 4)).alias(\"release_date\")\n",
    ")"
   ]
  },
  {
   "attachments": {},
   "cell_type": "markdown",
   "metadata": {},
   "source": [
    "`title` and `release_date` together should approximate a unique key quite well: I am looking to see whether this is the case or not. "
   ]
  },
  {
   "cell_type": "code",
   "execution_count": 67,
   "metadata": {},
   "outputs": [
    {
     "data": {
      "text/html": [
       "<div><style>\n",
       ".dataframe > thead > tr > th,\n",
       ".dataframe > tbody > tr > td {\n",
       "  text-align: right;\n",
       "}\n",
       "</style>\n",
       "<small>shape: (7398, 3)</small><table border=\"1\" class=\"dataframe\"><thead><tr><th>title</th><th>release_date</th><th>count</th></tr><tr><td>str</td><td>str</td><td>u32</td></tr></thead><tbody><tr><td>&quot;Clockstoppers&quot;</td><td>&quot;2002&quot;</td><td>2</td></tr><tr><td>&quot;Pokémon 4Ever:…</td><td>&quot;2001&quot;</td><td>2</td></tr><tr><td>&quot;A Farewell to …</td><td>&quot;1932&quot;</td><td>2</td></tr><tr><td>&quot;Le Samouraï&quot;</td><td>&quot;1967&quot;</td><td>2</td></tr><tr><td>&quot;Black Gold&quot;</td><td>&quot;2011&quot;</td><td>2</td></tr><tr><td>&quot;Force Majeure&quot;</td><td>&quot;2014&quot;</td><td>2</td></tr><tr><td>&quot;The Congress&quot;</td><td>&quot;2013&quot;</td><td>2</td></tr><tr><td>&quot;Camille Claude…</td><td>&quot;2013&quot;</td><td>2</td></tr><tr><td>&quot;Pokémon: Spell…</td><td>&quot;2000&quot;</td><td>2</td></tr><tr><td>&quot;Confessions of…</td><td>&quot;2002&quot;</td><td>2</td></tr><tr><td>&quot;Don Juan DeMar…</td><td>&quot;1994&quot;</td><td>1</td></tr><tr><td>&quot;Suture&quot;</td><td>&quot;1993&quot;</td><td>1</td></tr><tr><td>&hellip;</td><td>&hellip;</td><td>&hellip;</td></tr><tr><td>&quot;Step Up 3D&quot;</td><td>&quot;2010&quot;</td><td>1</td></tr><tr><td>&quot;The Green Horn…</td><td>&quot;2011&quot;</td><td>1</td></tr><tr><td>&quot;The Double&quot;</td><td>&quot;2011&quot;</td><td>1</td></tr><tr><td>&quot;Higher Ground&quot;</td><td>&quot;2011&quot;</td><td>1</td></tr><tr><td>&quot;The Best Exoti…</td><td>&quot;2011&quot;</td><td>1</td></tr><tr><td>&quot;Here Comes the…</td><td>&quot;2012&quot;</td><td>1</td></tr><tr><td>&quot;Red Dawn&quot;</td><td>&quot;2012&quot;</td><td>1</td></tr><tr><td>&quot;Dr. Bronner&#x27;s …</td><td>&quot;2007&quot;</td><td>1</td></tr><tr><td>&quot;A Simple Life&quot;</td><td>&quot;2011&quot;</td><td>1</td></tr><tr><td>&quot;The Pirate Bay…</td><td>&quot;2013&quot;</td><td>1</td></tr><tr><td>&quot;Left Behind&quot;</td><td>&quot;2014&quot;</td><td>1</td></tr><tr><td>&quot;Bordello of Bl…</td><td>&quot;1996&quot;</td><td>1</td></tr></tbody></table></div>"
      ],
      "text/plain": [
       "shape: (7398, 3)\n",
       "┌───────────────────────────────────┬──────────────┬───────┐\n",
       "│ title                             ┆ release_date ┆ count │\n",
       "│ ---                               ┆ ---          ┆ ---   │\n",
       "│ str                               ┆ str          ┆ u32   │\n",
       "╞═══════════════════════════════════╪══════════════╪═══════╡\n",
       "│ Clockstoppers                     ┆ 2002         ┆ 2     │\n",
       "│ Pokémon 4Ever: Celebi - Voice of… ┆ 2001         ┆ 2     │\n",
       "│ A Farewell to Arms                ┆ 1932         ┆ 2     │\n",
       "│ Le Samouraï                       ┆ 1967         ┆ 2     │\n",
       "│ …                                 ┆ …            ┆ …     │\n",
       "│ A Simple Life                     ┆ 2011         ┆ 1     │\n",
       "│ The Pirate Bay: Away From Keyboa… ┆ 2013         ┆ 1     │\n",
       "│ Left Behind                       ┆ 2014         ┆ 1     │\n",
       "│ Bordello of Blood                 ┆ 1996         ┆ 1     │\n",
       "└───────────────────────────────────┴──────────────┴───────┘"
      ]
     },
     "execution_count": 67,
     "metadata": {},
     "output_type": "execute_result"
    }
   ],
   "source": [
    "df_filtered.groupby([\"title\", \"release_date\"]).count().sort(\"count\",descending=True)"
   ]
  },
  {
   "cell_type": "code",
   "execution_count": 68,
   "metadata": {},
   "outputs": [
    {
     "data": {
      "text/html": [
       "<div><style>\n",
       ".dataframe > thead > tr > th,\n",
       ".dataframe > tbody > tr > td {\n",
       "  text-align: right;\n",
       "}\n",
       "</style>\n",
       "<small>shape: (7408, 24)</small><table border=\"1\" class=\"dataframe\"><thead><tr><th>adult</th><th>belongs_to_collection</th><th>budget</th><th>genres</th><th>homepage</th><th>id</th><th>imdb_id</th><th>original_language</th><th>original_title</th><th>overview</th><th>popularity</th><th>poster_path</th><th>production_companies</th><th>production_countries</th><th>release_date</th><th>revenue</th><th>runtime</th><th>spoken_languages</th><th>status</th><th>tagline</th><th>title</th><th>video</th><th>vote_average</th><th>vote_count</th></tr><tr><td>str</td><td>str</td><td>str</td><td>str</td><td>str</td><td>str</td><td>str</td><td>str</td><td>str</td><td>str</td><td>str</td><td>str</td><td>str</td><td>str</td><td>str</td><td>str</td><td>str</td><td>str</td><td>str</td><td>str</td><td>str</td><td>str</td><td>str</td><td>str</td></tr></thead><tbody><tr><td>&quot;False&quot;</td><td>&quot;{&#x27;id&#x27;: 10194, …</td><td>&quot;30000000&quot;</td><td>&quot;[{&#x27;id&#x27;: 16, &#x27;n…</td><td>&quot;http://toystor…</td><td>&quot;862&quot;</td><td>&quot;tt0114709&quot;</td><td>&quot;en&quot;</td><td>&quot;Toy Story&quot;</td><td>&quot;Led by Woody, …</td><td>&quot;21.946943&quot;</td><td>&quot;/rhIRbceoE9lR4…</td><td>&quot;[{&#x27;name&#x27;: &#x27;Pix…</td><td>&quot;[{&#x27;iso_3166_1&#x27;…</td><td>&quot;1995&quot;</td><td>&quot;373554033&quot;</td><td>&quot;81.0&quot;</td><td>&quot;[{&#x27;iso_639_1&#x27;:…</td><td>&quot;Released&quot;</td><td>null</td><td>&quot;Toy Story&quot;</td><td>&quot;False&quot;</td><td>&quot;7.7&quot;</td><td>&quot;5415&quot;</td></tr><tr><td>&quot;False&quot;</td><td>null</td><td>&quot;65000000&quot;</td><td>&quot;[{&#x27;id&#x27;: 12, &#x27;n…</td><td>null</td><td>&quot;8844&quot;</td><td>&quot;tt0113497&quot;</td><td>&quot;en&quot;</td><td>&quot;Jumanji&quot;</td><td>&quot;When siblings …</td><td>&quot;17.015539&quot;</td><td>&quot;/vzmL6fP7aPKNK…</td><td>&quot;[{&#x27;name&#x27;: &#x27;Tri…</td><td>&quot;[{&#x27;iso_3166_1&#x27;…</td><td>&quot;1995&quot;</td><td>&quot;262797249&quot;</td><td>&quot;104.0&quot;</td><td>&quot;[{&#x27;iso_639_1&#x27;:…</td><td>&quot;Released&quot;</td><td>&quot;Roll the dice …</td><td>&quot;Jumanji&quot;</td><td>&quot;False&quot;</td><td>&quot;6.9&quot;</td><td>&quot;2413&quot;</td></tr><tr><td>&quot;False&quot;</td><td>null</td><td>&quot;16000000&quot;</td><td>&quot;[{&#x27;id&#x27;: 35, &#x27;n…</td><td>null</td><td>&quot;31357&quot;</td><td>&quot;tt0114885&quot;</td><td>&quot;en&quot;</td><td>&quot;Waiting to Exh…</td><td>&quot;Cheated on, mi…</td><td>&quot;3.859495&quot;</td><td>&quot;/16XOMpEaLWkrc…</td><td>&quot;[{&#x27;name&#x27;: &#x27;Twe…</td><td>&quot;[{&#x27;iso_3166_1&#x27;…</td><td>&quot;1995&quot;</td><td>&quot;81452156&quot;</td><td>&quot;127.0&quot;</td><td>&quot;[{&#x27;iso_639_1&#x27;:…</td><td>&quot;Released&quot;</td><td>&quot;Friends are th…</td><td>&quot;Waiting to Exh…</td><td>&quot;False&quot;</td><td>&quot;6.1&quot;</td><td>&quot;34&quot;</td></tr><tr><td>&quot;False&quot;</td><td>&quot;{&#x27;id&#x27;: 96871, …</td><td>&quot;0&quot;</td><td>&quot;[{&#x27;id&#x27;: 35, &#x27;n…</td><td>null</td><td>&quot;11862&quot;</td><td>&quot;tt0113041&quot;</td><td>&quot;en&quot;</td><td>&quot;Father of the …</td><td>&quot;Just when Geor…</td><td>&quot;8.387519&quot;</td><td>&quot;/e64sOI48hQXyr…</td><td>&quot;[{&#x27;name&#x27;: &#x27;San…</td><td>&quot;[{&#x27;iso_3166_1&#x27;…</td><td>&quot;1995&quot;</td><td>&quot;76578911&quot;</td><td>&quot;106.0&quot;</td><td>&quot;[{&#x27;iso_639_1&#x27;:…</td><td>&quot;Released&quot;</td><td>&quot;Just When His …</td><td>&quot;Father of the …</td><td>&quot;False&quot;</td><td>&quot;5.7&quot;</td><td>&quot;173&quot;</td></tr><tr><td>&quot;False&quot;</td><td>null</td><td>&quot;60000000&quot;</td><td>&quot;[{&#x27;id&#x27;: 28, &#x27;n…</td><td>null</td><td>&quot;949&quot;</td><td>&quot;tt0113277&quot;</td><td>&quot;en&quot;</td><td>&quot;Heat&quot;</td><td>&quot;Obsessive mast…</td><td>&quot;17.924927&quot;</td><td>&quot;/zMyfPUelumio3…</td><td>&quot;[{&#x27;name&#x27;: &#x27;Reg…</td><td>&quot;[{&#x27;iso_3166_1&#x27;…</td><td>&quot;1995&quot;</td><td>&quot;187436818&quot;</td><td>&quot;170.0&quot;</td><td>&quot;[{&#x27;iso_639_1&#x27;:…</td><td>&quot;Released&quot;</td><td>&quot;A Los Angeles …</td><td>&quot;Heat&quot;</td><td>&quot;False&quot;</td><td>&quot;7.7&quot;</td><td>&quot;1886&quot;</td></tr><tr><td>&quot;False&quot;</td><td>null</td><td>&quot;35000000&quot;</td><td>&quot;[{&#x27;id&#x27;: 28, &#x27;n…</td><td>null</td><td>&quot;9091&quot;</td><td>&quot;tt0114576&quot;</td><td>&quot;en&quot;</td><td>&quot;Sudden Death&quot;</td><td>&quot;International …</td><td>&quot;5.23158&quot;</td><td>&quot;/eoWvKD60lT95S…</td><td>&quot;[{&#x27;name&#x27;: &#x27;Uni…</td><td>&quot;[{&#x27;iso_3166_1&#x27;…</td><td>&quot;1995&quot;</td><td>&quot;64350171&quot;</td><td>&quot;106.0&quot;</td><td>&quot;[{&#x27;iso_639_1&#x27;:…</td><td>&quot;Released&quot;</td><td>&quot;Terror goes in…</td><td>&quot;Sudden Death&quot;</td><td>&quot;False&quot;</td><td>&quot;5.5&quot;</td><td>&quot;174&quot;</td></tr><tr><td>&quot;False&quot;</td><td>&quot;{&#x27;id&#x27;: 645, &#x27;n…</td><td>&quot;58000000&quot;</td><td>&quot;[{&#x27;id&#x27;: 12, &#x27;n…</td><td>&quot;http://www.mgm…</td><td>&quot;710&quot;</td><td>&quot;tt0113189&quot;</td><td>&quot;en&quot;</td><td>&quot;GoldenEye&quot;</td><td>&quot;James Bond mus…</td><td>&quot;14.686036&quot;</td><td>&quot;/5c0ovjT41KnYI…</td><td>&quot;[{&#x27;name&#x27;: &#x27;Uni…</td><td>&quot;[{&#x27;iso_3166_1&#x27;…</td><td>&quot;1995&quot;</td><td>&quot;352194034&quot;</td><td>&quot;130.0&quot;</td><td>&quot;[{&#x27;iso_639_1&#x27;:…</td><td>&quot;Released&quot;</td><td>&quot;No limits. No …</td><td>&quot;GoldenEye&quot;</td><td>&quot;False&quot;</td><td>&quot;6.6&quot;</td><td>&quot;1194&quot;</td></tr><tr><td>&quot;False&quot;</td><td>null</td><td>&quot;62000000&quot;</td><td>&quot;[{&#x27;id&#x27;: 35, &#x27;n…</td><td>null</td><td>&quot;9087&quot;</td><td>&quot;tt0112346&quot;</td><td>&quot;en&quot;</td><td>&quot;The American P…</td><td>&quot;Widowed U.S. p…</td><td>&quot;6.318445&quot;</td><td>&quot;/lymPNGLZgPHuq…</td><td>&quot;[{&#x27;name&#x27;: &#x27;Col…</td><td>&quot;[{&#x27;iso_3166_1&#x27;…</td><td>&quot;1995&quot;</td><td>&quot;107879496&quot;</td><td>&quot;106.0&quot;</td><td>&quot;[{&#x27;iso_639_1&#x27;:…</td><td>&quot;Released&quot;</td><td>&quot;Why can&#x27;t the …</td><td>&quot;The American P…</td><td>&quot;False&quot;</td><td>&quot;6.5&quot;</td><td>&quot;199&quot;</td></tr><tr><td>&quot;False&quot;</td><td>&quot;{&#x27;id&#x27;: 117693,…</td><td>&quot;0&quot;</td><td>&quot;[{&#x27;id&#x27;: 10751,…</td><td>null</td><td>&quot;21032&quot;</td><td>&quot;tt0112453&quot;</td><td>&quot;en&quot;</td><td>&quot;Balto&quot;</td><td>&quot;An outcast hal…</td><td>&quot;12.140733&quot;</td><td>&quot;/gV5PCAVCPNxlO…</td><td>&quot;[{&#x27;name&#x27;: &#x27;Uni…</td><td>&quot;[{&#x27;iso_3166_1&#x27;…</td><td>&quot;1995&quot;</td><td>&quot;11348324&quot;</td><td>&quot;78.0&quot;</td><td>&quot;[{&#x27;iso_639_1&#x27;:…</td><td>&quot;Released&quot;</td><td>&quot;Part Dog. Part…</td><td>&quot;Balto&quot;</td><td>&quot;False&quot;</td><td>&quot;7.1&quot;</td><td>&quot;423&quot;</td></tr><tr><td>&quot;False&quot;</td><td>null</td><td>&quot;44000000&quot;</td><td>&quot;[{&#x27;id&#x27;: 36, &#x27;n…</td><td>null</td><td>&quot;10858&quot;</td><td>&quot;tt0113987&quot;</td><td>&quot;en&quot;</td><td>&quot;Nixon&quot;</td><td>&quot;An all-star ca…</td><td>&quot;5.092&quot;</td><td>&quot;/cICkmCEiXRhvZ…</td><td>&quot;[{&#x27;name&#x27;: &#x27;Hol…</td><td>&quot;[{&#x27;iso_3166_1&#x27;…</td><td>&quot;1995&quot;</td><td>&quot;13681765&quot;</td><td>&quot;192.0&quot;</td><td>&quot;[{&#x27;iso_639_1&#x27;:…</td><td>&quot;Released&quot;</td><td>&quot;Triumphant in …</td><td>&quot;Nixon&quot;</td><td>&quot;False&quot;</td><td>&quot;7.1&quot;</td><td>&quot;72&quot;</td></tr><tr><td>&quot;False&quot;</td><td>null</td><td>&quot;98000000&quot;</td><td>&quot;[{&#x27;id&#x27;: 28, &#x27;n…</td><td>null</td><td>&quot;1408&quot;</td><td>&quot;tt0112760&quot;</td><td>&quot;en&quot;</td><td>&quot;Cutthroat Isla…</td><td>&quot;Morgan Adams a…</td><td>&quot;7.284477&quot;</td><td>&quot;/odM9973kIv9hc…</td><td>&quot;[{&#x27;name&#x27;: &#x27;Le …</td><td>&quot;[{&#x27;iso_3166_1&#x27;…</td><td>&quot;1995&quot;</td><td>&quot;10017322&quot;</td><td>&quot;119.0&quot;</td><td>&quot;[{&#x27;iso_639_1&#x27;:…</td><td>&quot;Released&quot;</td><td>&quot;The Course Has…</td><td>&quot;Cutthroat Isla…</td><td>&quot;False&quot;</td><td>&quot;5.7&quot;</td><td>&quot;137&quot;</td></tr><tr><td>&quot;False&quot;</td><td>null</td><td>&quot;52000000&quot;</td><td>&quot;[{&#x27;id&#x27;: 18, &#x27;n…</td><td>null</td><td>&quot;524&quot;</td><td>&quot;tt0112641&quot;</td><td>&quot;en&quot;</td><td>&quot;Casino&quot;</td><td>&quot;The life of th…</td><td>&quot;10.137389&quot;</td><td>&quot;/xo517ibXBDdYQ…</td><td>&quot;[{&#x27;name&#x27;: &#x27;Uni…</td><td>&quot;[{&#x27;iso_3166_1&#x27;…</td><td>&quot;1995&quot;</td><td>&quot;116112375&quot;</td><td>&quot;178.0&quot;</td><td>&quot;[{&#x27;iso_639_1&#x27;:…</td><td>&quot;Released&quot;</td><td>&quot;No one stays a…</td><td>&quot;Casino&quot;</td><td>&quot;False&quot;</td><td>&quot;7.8&quot;</td><td>&quot;1343&quot;</td></tr><tr><td>&hellip;</td><td>&hellip;</td><td>&hellip;</td><td>&hellip;</td><td>&hellip;</td><td>&hellip;</td><td>&hellip;</td><td>&hellip;</td><td>&hellip;</td><td>&hellip;</td><td>&hellip;</td><td>&hellip;</td><td>&hellip;</td><td>&hellip;</td><td>&hellip;</td><td>&hellip;</td><td>&hellip;</td><td>&hellip;</td><td>&hellip;</td><td>&hellip;</td><td>&hellip;</td><td>&hellip;</td><td>&hellip;</td><td>&hellip;</td></tr><tr><td>&quot;False&quot;</td><td>null</td><td>&quot;50000000&quot;</td><td>&quot;[{&#x27;id&#x27;: 35, &#x27;n…</td><td>&quot;http://www.the…</td><td>&quot;378236&quot;</td><td>&quot;tt4877122&quot;</td><td>&quot;en&quot;</td><td>&quot;The Emoji Movi…</td><td>&quot;Gene, a multi-…</td><td>&quot;33.694599&quot;</td><td>&quot;/f5pF4OYzh4wb1…</td><td>&quot;[{&#x27;name&#x27;: &#x27;Col…</td><td>&quot;[{&#x27;iso_3166_1&#x27;…</td><td>&quot;2017&quot;</td><td>&quot;66913939&quot;</td><td>&quot;86.0&quot;</td><td>&quot;[{&#x27;iso_639_1&#x27;:…</td><td>&quot;Released&quot;</td><td>&quot;Not easy being…</td><td>&quot;The Emoji Movi…</td><td>&quot;False&quot;</td><td>&quot;5.8&quot;</td><td>&quot;327&quot;</td></tr><tr><td>&quot;False&quot;</td><td>null</td><td>&quot;11000000&quot;</td><td>&quot;[{&#x27;id&#x27;: 28, &#x27;n…</td><td>null</td><td>&quot;395834&quot;</td><td>&quot;tt5362988&quot;</td><td>&quot;en&quot;</td><td>&quot;Wind River&quot;</td><td>&quot;An FBI agent t…</td><td>&quot;40.796775&quot;</td><td>&quot;/fzsaNUcRH0cV2…</td><td>&quot;[{&#x27;name&#x27;: &#x27;Thu…</td><td>&quot;[{&#x27;iso_3166_1&#x27;…</td><td>&quot;2017&quot;</td><td>&quot;184770205&quot;</td><td>&quot;111.0&quot;</td><td>&quot;[{&#x27;iso_639_1&#x27;:…</td><td>&quot;Released&quot;</td><td>&quot;Nothing is har…</td><td>&quot;Wind River&quot;</td><td>&quot;False&quot;</td><td>&quot;7.4&quot;</td><td>&quot;181&quot;</td></tr><tr><td>&quot;False&quot;</td><td>null</td><td>&quot;0&quot;</td><td>&quot;[{&#x27;id&#x27;: 12, &#x27;n…</td><td>null</td><td>&quot;423453&quot;</td><td>&quot;tt4466894&quot;</td><td>&quot;fr&quot;</td><td>&quot;Sahara&quot;</td><td>&quot;Two clans of s…</td><td>&quot;8.665106&quot;</td><td>&quot;/turUYgFnjfsjP…</td><td>&quot;[{&#x27;name&#x27;: &#x27;Stu…</td><td>&quot;[{&#x27;iso_3166_1&#x27;…</td><td>&quot;2017&quot;</td><td>&quot;7800000&quot;</td><td>&quot;86.0&quot;</td><td>&quot;[{&#x27;iso_639_1&#x27;:…</td><td>&quot;Released&quot;</td><td>null</td><td>&quot;Sahara&quot;</td><td>&quot;False&quot;</td><td>&quot;5.4&quot;</td><td>&quot;43&quot;</td></tr><tr><td>&quot;False&quot;</td><td>null</td><td>&quot;0&quot;</td><td>&quot;[{&#x27;id&#x27;: 28, &#x27;n…</td><td>null</td><td>&quot;49074&quot;</td><td>&quot;tt0139876&quot;</td><td>&quot;ta&quot;</td><td>&quot;Baasha&quot;</td><td>&quot;Auto rickshaw …</td><td>&quot;0.704162&quot;</td><td>&quot;/xe8ZsovF0AHjP…</td><td>&quot;[{&#x27;name&#x27;: &#x27;Sat…</td><td>&quot;[{&#x27;iso_3166_1&#x27;…</td><td>&quot;1995&quot;</td><td>&quot;15000000&quot;</td><td>&quot;145.0&quot;</td><td>&quot;[{&#x27;iso_639_1&#x27;:…</td><td>&quot;Released&quot;</td><td>null</td><td>&quot;Baasha&quot;</td><td>&quot;False&quot;</td><td>&quot;7.8&quot;</td><td>&quot;14&quot;</td></tr><tr><td>&quot;False&quot;</td><td>null</td><td>&quot;12000000&quot;</td><td>&quot;[{&#x27;id&#x27;: 28, &#x27;n…</td><td>null</td><td>&quot;24049&quot;</td><td>&quot;tt0479751&quot;</td><td>&quot;ta&quot;</td><td>&quot;சிவாஜி&quot;</td><td>&quot;Corrupt police…</td><td>&quot;1.323587&quot;</td><td>&quot;/r9t16RV2RryqR…</td><td>&quot;[{&#x27;name&#x27;: &#x27;AVM…</td><td>&quot;[{&#x27;iso_3166_1&#x27;…</td><td>&quot;2007&quot;</td><td>&quot;19000000&quot;</td><td>&quot;185.0&quot;</td><td>&quot;[{&#x27;iso_639_1&#x27;:…</td><td>&quot;Released&quot;</td><td>null</td><td>&quot;Sivaji: The Bo…</td><td>&quot;False&quot;</td><td>&quot;6.9&quot;</td><td>&quot;25&quot;</td></tr><tr><td>&quot;False&quot;</td><td>null</td><td>&quot;0&quot;</td><td>&quot;[{&#x27;id&#x27;: 35, &#x27;n…</td><td>null</td><td>&quot;265189&quot;</td><td>&quot;tt2121382&quot;</td><td>&quot;sv&quot;</td><td>&quot;Turist&quot;</td><td>&quot;While holidayi…</td><td>&quot;12.165685&quot;</td><td>&quot;/rGMtc9AtZsnWS…</td><td>&quot;[{&#x27;name&#x27;: &#x27;Mot…</td><td>&quot;[{&#x27;iso_3166_1&#x27;…</td><td>&quot;2014&quot;</td><td>&quot;1359497&quot;</td><td>&quot;118.0&quot;</td><td>&quot;[{&#x27;iso_639_1&#x27;:…</td><td>&quot;Released&quot;</td><td>null</td><td>&quot;Force Majeure&quot;</td><td>&quot;False&quot;</td><td>&quot;6.8&quot;</td><td>&quot;255&quot;</td></tr><tr><td>&quot;False&quot;</td><td>null</td><td>&quot;0&quot;</td><td>&quot;[{&#x27;id&#x27;: 27, &#x27;n…</td><td>null</td><td>&quot;264269&quot;</td><td>&quot;tt2400314&quot;</td><td>&quot;ru&quot;</td><td>&quot;Vladeniye 18&quot;</td><td>&quot;Sveta and Maxi…</td><td>&quot;0.217441&quot;</td><td>&quot;/aU51pWVHtLVsF…</td><td>&quot;[{&#x27;name&#x27;: &#x27;Lyu…</td><td>&quot;[{&#x27;iso_3166_1&#x27;…</td><td>&quot;2014&quot;</td><td>&quot;320395&quot;</td><td>&quot;90.0&quot;</td><td>&quot;[{&#x27;iso_639_1&#x27;:…</td><td>&quot;Released&quot;</td><td>null</td><td>&quot;Apartment 18&quot;</td><td>&quot;False&quot;</td><td>&quot;4.4&quot;</td><td>&quot;4&quot;</td></tr><tr><td>&quot;False&quot;</td><td>null</td><td>&quot;750000&quot;</td><td>&quot;[{&#x27;id&#x27;: 80, &#x27;n…</td><td>null</td><td>&quot;280422&quot;</td><td>&quot;tt3805180&quot;</td><td>&quot;ru&quot;</td><td>&quot;Все и сразу&quot;</td><td>null</td><td>&quot;0.201582&quot;</td><td>&quot;/hNsmPpl3zLG36…</td><td>&quot;[{&#x27;name&#x27;: &#x27;Кин…</td><td>&quot;[{&#x27;iso_3166_1&#x27;…</td><td>&quot;2014&quot;</td><td>&quot;3&quot;</td><td>&quot;0.0&quot;</td><td>&quot;[{&#x27;iso_639_1&#x27;:…</td><td>&quot;Released&quot;</td><td>null</td><td>&quot;All at Once&quot;</td><td>&quot;False&quot;</td><td>&quot;6.0&quot;</td><td>&quot;4&quot;</td></tr><tr><td>&quot;False&quot;</td><td>null</td><td>&quot;0&quot;</td><td>&quot;[{&#x27;id&#x27;: 18, &#x27;n…</td><td>null</td><td>&quot;240789&quot;</td><td>&quot;tt1197626&quot;</td><td>&quot;ru&quot;</td><td>&quot;Чудо&quot;</td><td>&quot;The film is ba…</td><td>&quot;0.436028&quot;</td><td>&quot;/AjXZQPdV5PUib…</td><td>&quot;[{&#x27;name&#x27;: &#x27;Cen…</td><td>&quot;[{&#x27;iso_3166_1&#x27;…</td><td>&quot;2009&quot;</td><td>&quot;50656&quot;</td><td>&quot;110.0&quot;</td><td>&quot;[{&#x27;iso_639_1&#x27;:…</td><td>&quot;Released&quot;</td><td>null</td><td>&quot;The Miracle&quot;</td><td>&quot;False&quot;</td><td>&quot;6.3&quot;</td><td>&quot;3&quot;</td></tr><tr><td>&quot;False&quot;</td><td>null</td><td>&quot;800000&quot;</td><td>&quot;[{&#x27;id&#x27;: 35, &#x27;n…</td><td>null</td><td>&quot;62757&quot;</td><td>&quot;tt0933361&quot;</td><td>&quot;en&quot;</td><td>&quot;Dikari&quot;</td><td>&quot;The sea, Augus…</td><td>&quot;0.903061&quot;</td><td>&quot;/t14Sb80sXJCAa…</td><td>&quot;[]&quot;</td><td>&quot;[]&quot;</td><td>&quot;2006&quot;</td><td>&quot;1328612&quot;</td><td>&quot;100.0&quot;</td><td>&quot;[{&#x27;iso_639_1&#x27;:…</td><td>&quot;Released&quot;</td><td>null</td><td>&quot;Savages&quot;</td><td>&quot;False&quot;</td><td>&quot;5.8&quot;</td><td>&quot;6&quot;</td></tr><tr><td>&quot;False&quot;</td><td>null</td><td>&quot;2000000&quot;</td><td>&quot;[{&#x27;id&#x27;: 10749,…</td><td>null</td><td>&quot;63281&quot;</td><td>&quot;tt1718881&quot;</td><td>&quot;en&quot;</td><td>&quot;Про любоff&quot;</td><td>&quot;У девушки Даши…</td><td>&quot;0.121844&quot;</td><td>&quot;/f8umkhHSctmiU…</td><td>&quot;[{&#x27;name&#x27;: &#x27;Pro…</td><td>&quot;[{&#x27;iso_3166_1&#x27;…</td><td>&quot;2010&quot;</td><td>&quot;1268793&quot;</td><td>&quot;107.0&quot;</td><td>&quot;[{&#x27;iso_639_1&#x27;:…</td><td>&quot;Released&quot;</td><td>null</td><td>&quot;Pro Lyuboff&quot;</td><td>&quot;False&quot;</td><td>&quot;4.0&quot;</td><td>&quot;3&quot;</td></tr><tr><td>&quot;False&quot;</td><td>null</td><td>&quot;5000000&quot;</td><td>&quot;[{&#x27;id&#x27;: 28, &#x27;n…</td><td>null</td><td>&quot;63898&quot;</td><td>&quot;tt1110037&quot;</td><td>&quot;ru&quot;</td><td>&quot;Антидурь&quot;</td><td>&quot;Failing to com…</td><td>&quot;0.039793&quot;</td><td>&quot;/f5XOYgsF4oCTz…</td><td>&quot;[]&quot;</td><td>&quot;[{&#x27;iso_3166_1&#x27;…</td><td>&quot;2007&quot;</td><td>&quot;1413000&quot;</td><td>&quot;91.0&quot;</td><td>&quot;[{&#x27;iso_639_1&#x27;:…</td><td>&quot;Released&quot;</td><td>null</td><td>&quot;Antidur&quot;</td><td>&quot;False&quot;</td><td>&quot;1.0&quot;</td><td>&quot;1&quot;</td></tr></tbody></table></div>"
      ],
      "text/plain": [
       "shape: (7408, 24)\n",
       "┌───────┬────────────┬──────────┬──────────────┬───┬─────────────┬───────┬────────────┬────────────┐\n",
       "│ adult ┆ belongs_to ┆ budget   ┆ genres       ┆ … ┆ title       ┆ video ┆ vote_avera ┆ vote_count │\n",
       "│ ---   ┆ _collectio ┆ ---      ┆ ---          ┆   ┆ ---         ┆ ---   ┆ ge         ┆ ---        │\n",
       "│ str   ┆ n          ┆ str      ┆ str          ┆   ┆ str         ┆ str   ┆ ---        ┆ str        │\n",
       "│       ┆ ---        ┆          ┆              ┆   ┆             ┆       ┆ str        ┆            │\n",
       "│       ┆ str        ┆          ┆              ┆   ┆             ┆       ┆            ┆            │\n",
       "╞═══════╪════════════╪══════════╪══════════════╪═══╪═════════════╪═══════╪════════════╪════════════╡\n",
       "│ False ┆ {'id':     ┆ 30000000 ┆ [{'id': 16,  ┆ … ┆ Toy Story   ┆ False ┆ 7.7        ┆ 5415       │\n",
       "│       ┆ 10194,     ┆          ┆ 'name': 'Ani ┆   ┆             ┆       ┆            ┆            │\n",
       "│       ┆ 'name':    ┆          ┆ mation'}…    ┆   ┆             ┆       ┆            ┆            │\n",
       "│       ┆ 'Toy       ┆          ┆              ┆   ┆             ┆       ┆            ┆            │\n",
       "│       ┆ Story…     ┆          ┆              ┆   ┆             ┆       ┆            ┆            │\n",
       "│ False ┆ null       ┆ 65000000 ┆ [{'id': 12,  ┆ … ┆ Jumanji     ┆ False ┆ 6.9        ┆ 2413       │\n",
       "│       ┆            ┆          ┆ 'name': 'Adv ┆   ┆             ┆       ┆            ┆            │\n",
       "│       ┆            ┆          ┆ enture'}…    ┆   ┆             ┆       ┆            ┆            │\n",
       "│ False ┆ null       ┆ 16000000 ┆ [{'id': 35,  ┆ … ┆ Waiting to  ┆ False ┆ 6.1        ┆ 34         │\n",
       "│       ┆            ┆          ┆ 'name':      ┆   ┆ Exhale      ┆       ┆            ┆            │\n",
       "│       ┆            ┆          ┆ 'Comedy'},   ┆   ┆             ┆       ┆            ┆            │\n",
       "│       ┆            ┆          ┆ {…           ┆   ┆             ┆       ┆            ┆            │\n",
       "│ False ┆ {'id':     ┆ 0        ┆ [{'id': 35,  ┆ … ┆ Father of   ┆ False ┆ 5.7        ┆ 173        │\n",
       "│       ┆ 96871,     ┆          ┆ 'name':      ┆   ┆ the Bride   ┆       ┆            ┆            │\n",
       "│       ┆ 'name':    ┆          ┆ 'Comedy'}]   ┆   ┆ Part II     ┆       ┆            ┆            │\n",
       "│       ┆ 'Father    ┆          ┆              ┆   ┆             ┆       ┆            ┆            │\n",
       "│       ┆ of…        ┆          ┆              ┆   ┆             ┆       ┆            ┆            │\n",
       "│ …     ┆ …          ┆ …        ┆ …            ┆ … ┆ …           ┆ …     ┆ …          ┆ …          │\n",
       "│ False ┆ null       ┆ 0        ┆ [{'id': 18,  ┆ … ┆ The Miracle ┆ False ┆ 6.3        ┆ 3          │\n",
       "│       ┆            ┆          ┆ 'name':      ┆   ┆             ┆       ┆            ┆            │\n",
       "│       ┆            ┆          ┆ 'Drama'},    ┆   ┆             ┆       ┆            ┆            │\n",
       "│       ┆            ┆          ┆ {'…          ┆   ┆             ┆       ┆            ┆            │\n",
       "│ False ┆ null       ┆ 800000   ┆ [{'id': 35,  ┆ … ┆ Savages     ┆ False ┆ 5.8        ┆ 6          │\n",
       "│       ┆            ┆          ┆ 'name':      ┆   ┆             ┆       ┆            ┆            │\n",
       "│       ┆            ┆          ┆ 'Comedy'},   ┆   ┆             ┆       ┆            ┆            │\n",
       "│       ┆            ┆          ┆ {…           ┆   ┆             ┆       ┆            ┆            │\n",
       "│ False ┆ null       ┆ 2000000  ┆ [{'id':      ┆ … ┆ Pro Lyuboff ┆ False ┆ 4.0        ┆ 3          │\n",
       "│       ┆            ┆          ┆ 10749,       ┆   ┆             ┆       ┆            ┆            │\n",
       "│       ┆            ┆          ┆ 'name':      ┆   ┆             ┆       ┆            ┆            │\n",
       "│       ┆            ┆          ┆ 'Romance'…   ┆   ┆             ┆       ┆            ┆            │\n",
       "│ False ┆ null       ┆ 5000000  ┆ [{'id': 28,  ┆ … ┆ Antidur     ┆ False ┆ 1.0        ┆ 1          │\n",
       "│       ┆            ┆          ┆ 'name':      ┆   ┆             ┆       ┆            ┆            │\n",
       "│       ┆            ┆          ┆ 'Action'},   ┆   ┆             ┆       ┆            ┆            │\n",
       "│       ┆            ┆          ┆ {…           ┆   ┆             ┆       ┆            ┆            │\n",
       "└───────┴────────────┴──────────┴──────────────┴───┴─────────────┴───────┴────────────┴────────────┘"
      ]
     },
     "execution_count": 68,
     "metadata": {},
     "output_type": "execute_result"
    }
   ],
   "source": [
    "df_filtered"
   ]
  },
  {
   "cell_type": "code",
   "execution_count": 69,
   "metadata": {},
   "outputs": [],
   "source": [
    "# Prepare 3 different mappings, to try and cover as many cases as possible\n",
    "mapping_to_yago = df_filtered.select([pl.col(\"title\"), pl.col(\"release_date\"), pl.col(\"revenue\")])\n",
    "\n",
    "mapping_to_yago=mapping_to_yago.with_columns(\n",
    "    [\n",
    "        (\"<\" + pl.col(\"title\").str.replace(\" \", \"_\") + \">\").alias(\"title_format_1\"),\n",
    "        (\"<\" + pl.col(\"title\").str.replace(\" \", \"_\") + \"_(film)>\").alias(\"title_format_2\"),\n",
    "        (\"<\" + pl.col(\"title\").str.replace(\" \", \"_\") +  \"_(\" + pl.col(\"release_date\") + \"_film)>\").alias(\"title_format_3\"),\n",
    "        pl.Series(list(range(len(mapping_to_yago)))).alias(\"index\")\n",
    "    ]\n",
    ")"
   ]
  },
  {
   "attachments": {},
   "cell_type": "markdown",
   "metadata": {},
   "source": [
    "Here I am looking for movies that are present in YAGO according to one of the three formats defined above. \n",
    "\n",
    "I also reformat the output to reflect the \"target dataset\" schema. "
   ]
  },
  {
   "cell_type": "code",
   "execution_count": 10,
   "metadata": {},
   "outputs": [],
   "source": [
    "tgt_indices = []\n",
    "selected = []\n",
    "for jj in [3,2,1]:\n",
    "    g1 = mapping_to_yago.filter(\n",
    "        (pl.col(f\"title_format_{jj}\").is_in(yagofacts[\"subject\"])) & \n",
    "        (~pl.col(f\"index\").is_in(tgt_indices))\n",
    "    ).select(pl.col(\"index\"))\n",
    "\n",
    "    tgt_indices=g1[\"index\"].to_list()\n",
    "    \n",
    "    newdf = mapping_to_yago.filter(\n",
    "        pl.col(\"index\").is_in(tgt_indices)\n",
    "    ).select(\n",
    "        [\n",
    "            pl.col(\"title\"),\n",
    "            pl.col(\"release_date\"),\n",
    "            pl.col(f\"title_format_{jj}\").alias(\"col_to_embed\"),\n",
    "            pl.col(\"revenue\").log10(),\n",
    "        ]\n",
    "    )\n",
    "    selected.append(newdf)\n",
    "\n",
    "df_final=pl.concat(selected)\n",
    "\n",
    "# df_final.write_parquet(Path(dataset_dir, \"movie-revenues-target.parquet\"))"
   ]
  },
  {
   "cell_type": "code",
   "execution_count": 13,
   "metadata": {},
   "outputs": [
    {
     "data": {
      "text/html": [
       "<div><style>\n",
       ".dataframe > thead > tr > th,\n",
       ".dataframe > tbody > tr > td {\n",
       "  text-align: right;\n",
       "}\n",
       "</style>\n",
       "<small>shape: (3829, 4)</small><table border=\"1\" class=\"dataframe\"><thead><tr><th>title</th><th>release_date</th><th>col_to_embed</th><th>revenue</th></tr><tr><td>str</td><td>str</td><td>str</td><td>f64</td></tr></thead><tbody><tr><td>&quot;Heat&quot;</td><td>&quot;1995&quot;</td><td>&quot;&lt;Heat_(1995_fi…</td><td>8.272855</td></tr><tr><td>&quot;Sudden Death&quot;</td><td>&quot;1995&quot;</td><td>&quot;&lt;Sudden_Death_…</td><td>7.80855</td></tr><tr><td>&quot;Casino&quot;</td><td>&quot;1995&quot;</td><td>&quot;&lt;Casino_(1995_…</td><td>8.064879</td></tr><tr><td>&quot;Assassins&quot;</td><td>&quot;1995&quot;</td><td>&quot;&lt;Assassins_(19…</td><td>7.481487</td></tr><tr><td>&quot;Mortal Kombat&quot;</td><td>&quot;1995&quot;</td><td>&quot;&lt;Mortal_Kombat…</td><td>8.087057</td></tr><tr><td>&quot;Pocahontas&quot;</td><td>&quot;1995&quot;</td><td>&quot;&lt;Pocahontas_(1…</td><td>8.539176</td></tr><tr><td>&quot;Friday&quot;</td><td>&quot;1995&quot;</td><td>&quot;&lt;Friday_(1995_…</td><td>7.450494</td></tr><tr><td>&quot;Fair Game&quot;</td><td>&quot;1995&quot;</td><td>&quot;&lt;Fair_Game_(19…</td><td>7.061998</td></tr><tr><td>&quot;Screamers&quot;</td><td>&quot;1995&quot;</td><td>&quot;&lt;Screamers_(19…</td><td>6.762069</td></tr><tr><td>&quot;Black Sheep&quot;</td><td>&quot;1996&quot;</td><td>&quot;&lt;Black_Sheep_(…</td><td>1.50515</td></tr><tr><td>&quot;Broken Arrow&quot;</td><td>&quot;1996&quot;</td><td>&quot;&lt;Broken_Arrow_…</td><td>8.176873</td></tr><tr><td>&quot;Boomerang&quot;</td><td>&quot;1992&quot;</td><td>&quot;&lt;Boomerang_(19…</td><td>7.845718</td></tr><tr><td>&hellip;</td><td>&hellip;</td><td>&hellip;</td><td>&hellip;</td></tr><tr><td>&quot;Weekend Pass&quot;</td><td>&quot;1984&quot;</td><td>&quot;&lt;Weekend_Pass&gt;…</td><td>7.323417</td></tr><tr><td>&quot;The Intercepto…</td><td>&quot;2009&quot;</td><td>&quot;&lt;The_Intercept…</td><td>6.273492</td></tr><tr><td>&quot;Rock Dog&quot;</td><td>&quot;2016&quot;</td><td>&quot;&lt;Rock_Dog&gt;&quot;</td><td>6.974076</td></tr><tr><td>&quot;Mudhalvan&quot;</td><td>&quot;1999&quot;</td><td>&quot;&lt;Mudhalvan&gt;&quot;</td><td>7.342423</td></tr><tr><td>&quot;The Battalion&quot;</td><td>&quot;2015&quot;</td><td>&quot;&lt;The_Battalion…</td><td>6.877818</td></tr><tr><td>&quot;Atomic Blonde&quot;</td><td>&quot;2017&quot;</td><td>&quot;&lt;Atomic_Blonde…</td><td>7.954281</td></tr><tr><td>&quot;Dunkirk&quot;</td><td>&quot;2017&quot;</td><td>&quot;&lt;Dunkirk&gt;&quot;</td><td>8.715901</td></tr><tr><td>&quot;Bairavaa&quot;</td><td>&quot;2017&quot;</td><td>&quot;&lt;Bairavaa&gt;&quot;</td><td>7.230449</td></tr><tr><td>&quot;Gymkata&quot;</td><td>&quot;1985&quot;</td><td>&quot;&lt;Gymkata&gt;&quot;</td><td>6.7582</td></tr><tr><td>&quot;Confidential A…</td><td>&quot;2017&quot;</td><td>&quot;&lt;Confidential_…</td><td>7.748963</td></tr><tr><td>&quot;FC Venus&quot;</td><td>&quot;2005&quot;</td><td>&quot;&lt;FC_Venus&gt;&quot;</td><td>6.382304</td></tr><tr><td>&quot;Sahara&quot;</td><td>&quot;2017&quot;</td><td>&quot;&lt;Sahara&gt;&quot;</td><td>6.892095</td></tr></tbody></table></div>"
      ],
      "text/plain": [
       "shape: (3829, 4)\n",
       "┌─────────────────────────┬──────────────┬────────────────────────────┬──────────┐\n",
       "│ title                   ┆ release_date ┆ col_to_embed               ┆ revenue  │\n",
       "│ ---                     ┆ ---          ┆ ---                        ┆ ---      │\n",
       "│ str                     ┆ str          ┆ str                        ┆ f64      │\n",
       "╞═════════════════════════╪══════════════╪════════════════════════════╪══════════╡\n",
       "│ Heat                    ┆ 1995         ┆ <Heat_(1995_film)>         ┆ 8.272855 │\n",
       "│ Sudden Death            ┆ 1995         ┆ <Sudden_Death_(1995_film)> ┆ 7.80855  │\n",
       "│ Casino                  ┆ 1995         ┆ <Casino_(1995_film)>       ┆ 8.064879 │\n",
       "│ Assassins               ┆ 1995         ┆ <Assassins_(1995_film)>    ┆ 7.481487 │\n",
       "│ …                       ┆ …            ┆ …                          ┆ …        │\n",
       "│ Gymkata                 ┆ 1985         ┆ <Gymkata>                  ┆ 6.7582   │\n",
       "│ Confidential Assignment ┆ 2017         ┆ <Confidential_Assignment>  ┆ 7.748963 │\n",
       "│ FC Venus                ┆ 2005         ┆ <FC_Venus>                 ┆ 6.382304 │\n",
       "│ Sahara                  ┆ 2017         ┆ <Sahara>                   ┆ 6.892095 │\n",
       "└─────────────────────────┴──────────────┴────────────────────────────┴──────────┘"
      ]
     },
     "execution_count": 13,
     "metadata": {},
     "output_type": "execute_result"
    }
   ],
   "source": [
    "df_final"
   ]
  },
  {
   "cell_type": "code",
   "execution_count": 15,
   "metadata": {},
   "outputs": [],
   "source": [
    "# df_with_index = df.\n",
    "df_joined = df_filtered.lazy().join(df_final.lazy(), left_on=[\"title\", \"release_date\"], right_on=[\"title\", \"release_date\"], how=\"inner\").collect()\n",
    "df_joined.write_parquet(Path(dataset_dir, \"movies-revenues.parquet\"))"
   ]
  },
  {
   "attachments": {},
   "cell_type": "markdown",
   "metadata": {},
   "source": [
    "Now I am loading the target dataset that was prepared for KEN and compare it to what I have. "
   ]
  },
  {
   "cell_type": "code",
   "execution_count": 57,
   "metadata": {},
   "outputs": [
    {
     "data": {
      "text/html": [
       "<div><style>\n",
       ".dataframe > thead > tr > th,\n",
       ".dataframe > tbody > tr > td {\n",
       "  text-align: right;\n",
       "}\n",
       "</style>\n",
       "<small>shape: (4923, 3)</small><table border=\"1\" class=\"dataframe\"><thead><tr><th>raw_entities</th><th>col_to_embed</th><th>target</th></tr><tr><td>str</td><td>str</td><td>f64</td></tr></thead><tbody><tr><td>&quot;Heat&quot;</td><td>&quot;&lt;Heat_(1995_fi…</td><td>8.272855</td></tr><tr><td>&quot;Sudden Death&quot;</td><td>&quot;&lt;Sudden_Death_…</td><td>7.80855</td></tr><tr><td>&quot;Cry, the Belov…</td><td>&quot;&lt;Cry,_the_Belo…</td><td>5.830284</td></tr><tr><td>&quot;Pocahontas&quot;</td><td>&quot;&lt;Pocahontas_(1…</td><td>8.539176</td></tr><tr><td>&quot;Friday&quot;</td><td>&quot;&lt;Friday_(1995_…</td><td>7.450494</td></tr><tr><td>&quot;Fair Game&quot;</td><td>&quot;&lt;Fair_Game_(19…</td><td>7.061998</td></tr><tr><td>&quot;Bed of Roses&quot;</td><td>&quot;&lt;Bed_of_Roses_…</td><td>7.279455</td></tr><tr><td>&quot;Screamers&quot;</td><td>&quot;&lt;Screamers_(19…</td><td>6.762069</td></tr><tr><td>&quot;Black Sheep&quot;</td><td>&quot;&lt;Black_Sheep_(…</td><td>1.50515</td></tr><tr><td>&quot;Broken Arrow&quot;</td><td>&quot;&lt;Broken_Arrow_…</td><td>8.176873</td></tr><tr><td>&quot;Boomerang&quot;</td><td>&quot;&lt;Boomerang_(19…</td><td>7.845718</td></tr><tr><td>&quot;Man of the Yea…</td><td>&quot;&lt;Man_of_the_Ye…</td><td>5.322085</td></tr><tr><td>&hellip;</td><td>&hellip;</td><td>&hellip;</td></tr><tr><td>&quot;Kabhi Alvida N…</td><td>&quot;&lt;Kabhi_Alvida_…</td><td>7.230449</td></tr><tr><td>&quot;The Beguiled&quot;</td><td>&quot;&lt;The_Beguiled&gt;…</td><td>7.405567</td></tr><tr><td>&quot;Desmundo&quot;</td><td>&quot;&lt;Desmundo&gt;&quot;</td><td>0.477121</td></tr><tr><td>&quot;Ed Gein&quot;</td><td>&quot;&lt;Ed_Gein&gt;&quot;</td><td>3.756484</td></tr><tr><td>&quot;The Dawns Here…</td><td>&quot;&lt;The_Dawns_Her…</td><td>6.720095</td></tr><tr><td>&quot;God of Gambler…</td><td>&quot;&lt;God_of_Gamble…</td><td>6.67782</td></tr><tr><td>&quot;I Was a Teenag…</td><td>&quot;&lt;I_Was_a_Teena…</td><td>6.30103</td></tr><tr><td>&quot;Mudhalvan&quot;</td><td>&quot;&lt;Mudhalvan&gt;&quot;</td><td>7.342423</td></tr><tr><td>&quot;Gymkata&quot;</td><td>&quot;&lt;Gymkata&gt;&quot;</td><td>6.7582</td></tr><tr><td>&quot;Moka&quot;</td><td>&quot;&lt;Moka&gt;&quot;</td><td>5.101963</td></tr><tr><td>&quot;One Hundred St…</td><td>&quot;&lt;One_Hundred_S…</td><td>6.25669</td></tr><tr><td>&quot;Sahara&quot;</td><td>&quot;&lt;Sahara&gt;&quot;</td><td>6.892095</td></tr></tbody></table></div>"
      ],
      "text/plain": [
       "shape: (4923, 3)\n",
       "┌──────────────────────────┬───────────────────────────────────┬──────────┐\n",
       "│ raw_entities             ┆ col_to_embed                      ┆ target   │\n",
       "│ ---                      ┆ ---                               ┆ ---      │\n",
       "│ str                      ┆ str                               ┆ f64      │\n",
       "╞══════════════════════════╪═══════════════════════════════════╪══════════╡\n",
       "│ Heat                     ┆ <Heat_(1995_film)>                ┆ 8.272855 │\n",
       "│ Sudden Death             ┆ <Sudden_Death_(1995_film)>        ┆ 7.80855  │\n",
       "│ Cry, the Beloved Country ┆ <Cry,_the_Beloved_Country_(1995_… ┆ 5.830284 │\n",
       "│ Pocahontas               ┆ <Pocahontas_(1995_film)>          ┆ 8.539176 │\n",
       "│ …                        ┆ …                                 ┆ …        │\n",
       "│ Gymkata                  ┆ <Gymkata>                         ┆ 6.7582   │\n",
       "│ Moka                     ┆ <Moka>                            ┆ 5.101963 │\n",
       "│ One Hundred Steps        ┆ <One_Hundred_Steps>               ┆ 6.25669  │\n",
       "│ Sahara                   ┆ <Sahara>                          ┆ 6.892095 │\n",
       "└──────────────────────────┴───────────────────────────────────┴──────────┘"
      ]
     },
     "execution_count": 57,
     "metadata": {},
     "output_type": "execute_result"
    }
   ],
   "source": [
    "path_original=Path(\"/storage/store3/work/acvetkov/gitlab/KEN/experiments/datasets/movie_revenues/target.parquet\")\n",
    "df_target_og = pl.read_parquet(path_original)\n",
    "df_target_og"
   ]
  },
  {
   "attachments": {},
   "cell_type": "markdown",
   "metadata": {},
   "source": [
    "Looking for movies whose `col_to_embed` is not found in the `subject` column (for whatever reason)."
   ]
  },
  {
   "cell_type": "code",
   "execution_count": 58,
   "metadata": {},
   "outputs": [
    {
     "data": {
      "text/html": [
       "<div><style>\n",
       ".dataframe > thead > tr > th,\n",
       ".dataframe > tbody > tr > td {\n",
       "  text-align: right;\n",
       "}\n",
       "</style>\n",
       "<small>shape: (477, 3)</small><table border=\"1\" class=\"dataframe\"><thead><tr><th>raw_entities</th><th>col_to_embed</th><th>target</th></tr><tr><td>str</td><td>str</td><td>f64</td></tr></thead><tbody><tr><td>&quot;Dracula&quot;</td><td>&quot;&lt;Dracula_(1931…</td><td>6.005262</td></tr><tr><td>&quot;Runaway Bride&quot;</td><td>&quot;&lt;Runaway_Bride…</td><td>8.490601</td></tr><tr><td>&quot;Niagara&quot;</td><td>&quot;&lt;Niagara_(1953…</td><td>6.929419</td></tr><tr><td>&quot;Love&#x27;s Labour&#x27;…</td><td>&quot;&lt;Love&#x27;s_Labour…</td><td>5.47682</td></tr><tr><td>&quot;The Fury&quot;</td><td>&quot;&lt;The_Fury_(197…</td><td>7.380211</td></tr><tr><td>&quot;Salsa&quot;</td><td>&quot;&lt;Salsa_(1988_f…</td><td>6.949028</td></tr><tr><td>&quot;The Changeling…</td><td>&quot;&lt;The_Changelin…</td><td>7.079181</td></tr><tr><td>&quot;Ocean&#x27;s Eleven…</td><td>&quot;&lt;Ocean&#x27;s_Eleve…</td><td>8.653904</td></tr><tr><td>&quot;Asoka&quot;</td><td>&quot;&lt;Asoka_(2001_f…</td><td>7.278754</td></tr><tr><td>&quot;Party Monster&quot;</td><td>&quot;&lt;Party_Monster…</td><td>5.870929</td></tr><tr><td>&quot;Gotcha!&quot;</td><td>&quot;&lt;Gotcha!_(1985…</td><td>6.944483</td></tr><tr><td>&quot;The Notebook&quot;</td><td>&quot;&lt;The_Notebook_…</td><td>8.06297</td></tr><tr><td>&hellip;</td><td>&hellip;</td><td>&hellip;</td></tr><tr><td>&quot;The Infiltrato…</td><td>&quot;&lt;The_Infiltrat…</td><td>7.188558</td></tr><tr><td>&quot;The Cherry Orc…</td><td>&quot;&lt;The_Cherry_Or…</td><td>2.130334</td></tr><tr><td>&quot;The Girl on th…</td><td>&quot;&lt;The_Girl_on_t…</td><td>8.238512</td></tr><tr><td>&quot;High Strung&quot;</td><td>&quot;&lt;High_Strung&gt;&quot;</td><td>4.727923</td></tr><tr><td>&quot;Other People&quot;</td><td>&quot;&lt;Other_People&gt;…</td><td>4.968483</td></tr><tr><td>&quot;Closet Monster…</td><td>&quot;&lt;Closet_Monste…</td><td>4.530993</td></tr><tr><td>&quot;The Space Betw…</td><td>&quot;&lt;The_Space_Bet…</td><td>7.170068</td></tr><tr><td>&quot;Dangal&quot;</td><td>&quot;&lt;Dangal&gt;&quot;</td><td>8.491362</td></tr><tr><td>&quot;Eternal Summer…</td><td>&quot;&lt;Eternal_Summe…</td><td>5.404834</td></tr><tr><td>&quot;The Shack&quot;</td><td>&quot;&lt;The_Shack&gt;&quot;</td><td>7.758389</td></tr><tr><td>&quot;Ultimate Aveng…</td><td>&quot;&lt;Ultimate_Aven…</td><td>6.897627</td></tr><tr><td>&quot;The Beguiled&quot;</td><td>&quot;&lt;The_Beguiled&gt;…</td><td>7.405567</td></tr></tbody></table></div>"
      ],
      "text/plain": [
       "shape: (477, 3)\n",
       "┌──────────────────────┬───────────────────────────────────┬──────────┐\n",
       "│ raw_entities         ┆ col_to_embed                      ┆ target   │\n",
       "│ ---                  ┆ ---                               ┆ ---      │\n",
       "│ str                  ┆ str                               ┆ f64      │\n",
       "╞══════════════════════╪═══════════════════════════════════╪══════════╡\n",
       "│ Dracula              ┆ <Dracula_(1931_film)>             ┆ 6.005262 │\n",
       "│ Runaway Bride        ┆ <Runaway_Bride_(1999_film)>       ┆ 8.490601 │\n",
       "│ Niagara              ┆ <Niagara_(1953_film)>             ┆ 6.929419 │\n",
       "│ Love's Labour's Lost ┆ <Love's_Labour's_Lost_(2000_film… ┆ 5.47682  │\n",
       "│ …                    ┆ …                                 ┆ …        │\n",
       "│ Eternal Summer       ┆ <Eternal_Summer>                  ┆ 5.404834 │\n",
       "│ The Shack            ┆ <The_Shack>                       ┆ 7.758389 │\n",
       "│ Ultimate Avengers 2  ┆ <Ultimate_Avengers_2>             ┆ 6.897627 │\n",
       "│ The Beguiled         ┆ <The_Beguiled>                    ┆ 7.405567 │\n",
       "└──────────────────────┴───────────────────────────────────┴──────────┘"
      ]
     },
     "execution_count": 58,
     "metadata": {},
     "output_type": "execute_result"
    }
   ],
   "source": [
    "df_target_og.filter(\n",
    "    ~pl.col(\"col_to_embed\").is_in(yagofacts[\"subject\"])\n",
    ")"
   ]
  },
  {
   "cell_type": "code",
   "execution_count": 59,
   "metadata": {},
   "outputs": [
    {
     "data": {
      "text/html": [
       "<div><style>\n",
       ".dataframe > thead > tr > th,\n",
       ".dataframe > tbody > tr > td {\n",
       "  text-align: right;\n",
       "}\n",
       "</style>\n",
       "<small>shape: (1912, 3)</small><table border=\"1\" class=\"dataframe\"><thead><tr><th>raw_entities</th><th>col_to_embed</th><th>target</th></tr><tr><td>str</td><td>str</td><td>f64</td></tr></thead><tbody><tr><td>&quot;Cry, the Belov…</td><td>&quot;&lt;Cry,_the_Belo…</td><td>5.830284</td></tr><tr><td>&quot;Bed of Roses&quot;</td><td>&quot;&lt;Bed_of_Roses_…</td><td>7.279455</td></tr><tr><td>&quot;Man of the Yea…</td><td>&quot;&lt;Man_of_the_Ye…</td><td>5.322085</td></tr><tr><td>&quot;The Scarlet Le…</td><td>&quot;&lt;The_Scarlet_L…</td><td>7.016298</td></tr><tr><td>&quot;The Tie That B…</td><td>&quot;&lt;The_Tie_That_…</td><td>6.761928</td></tr><tr><td>&quot;Before the Rai…</td><td>&quot;&lt;Before_the_Ra…</td><td>5.883006</td></tr><tr><td>&quot;Miracle on 34t…</td><td>&quot;&lt;Miracle_on_34…</td><td>7.665247</td></tr><tr><td>&quot;I Love Trouble…</td><td>&quot;&lt;I_Love_Troubl…</td><td>7.792022</td></tr><tr><td>&quot;The Age of Inn…</td><td>&quot;&lt;The_Age_of_In…</td><td>7.508603</td></tr><tr><td>&quot;For Love or Mo…</td><td>&quot;&lt;For_Love_or_M…</td><td>7.04713</td></tr><tr><td>&quot;The Three Musk…</td><td>&quot;&lt;The_Three_Mus…</td><td>7.731579</td></tr><tr><td>&quot;The Last Suppe…</td><td>&quot;&lt;The_Last_Supp…</td><td>5.646369</td></tr><tr><td>&hellip;</td><td>&hellip;</td><td>&hellip;</td></tr><tr><td>&quot;Going in Style…</td><td>&quot;&lt;Going_in_Styl…</td><td>7.927466</td></tr><tr><td>&quot;The Amazing Tr…</td><td>&quot;&lt;The_Amazing_T…</td><td>3.720573</td></tr><tr><td>&quot;The Zookeeper&#x27;…</td><td>&quot;&lt;The_Zookeeper…</td><td>7.119338</td></tr><tr><td>&quot;The Secret Scr…</td><td>&quot;&lt;The_Secret_Sc…</td><td>5.184012</td></tr><tr><td>&quot;Baywatch&quot;</td><td>&quot;&lt;Baywatch&gt;&quot;</td><td>8.25007</td></tr><tr><td>&quot;Kidnapping, Ca…</td><td>&quot;&lt;Kidnapping,_C…</td><td>5.252853</td></tr><tr><td>&quot;Kabhi Alvida N…</td><td>&quot;&lt;Kabhi_Alvida_…</td><td>7.230449</td></tr><tr><td>&quot;The Dawns Here…</td><td>&quot;&lt;The_Dawns_Her…</td><td>6.720095</td></tr><tr><td>&quot;God of Gambler…</td><td>&quot;&lt;God_of_Gamble…</td><td>6.67782</td></tr><tr><td>&quot;I Was a Teenag…</td><td>&quot;&lt;I_Was_a_Teena…</td><td>6.30103</td></tr><tr><td>&quot;Moka&quot;</td><td>&quot;&lt;Moka&gt;&quot;</td><td>5.101963</td></tr><tr><td>&quot;One Hundred St…</td><td>&quot;&lt;One_Hundred_S…</td><td>6.25669</td></tr></tbody></table></div>"
      ],
      "text/plain": [
       "shape: (1912, 3)\n",
       "┌──────────────────────────┬───────────────────────────────────┬──────────┐\n",
       "│ raw_entities             ┆ col_to_embed                      ┆ target   │\n",
       "│ ---                      ┆ ---                               ┆ ---      │\n",
       "│ str                      ┆ str                               ┆ f64      │\n",
       "╞══════════════════════════╪═══════════════════════════════════╪══════════╡\n",
       "│ Cry, the Beloved Country ┆ <Cry,_the_Beloved_Country_(1995_… ┆ 5.830284 │\n",
       "│ Bed of Roses             ┆ <Bed_of_Roses_(1996_film)>        ┆ 7.279455 │\n",
       "│ Man of the Year          ┆ <Man_of_the_Year_(1995_film)>     ┆ 5.322085 │\n",
       "│ The Scarlet Letter       ┆ <The_Scarlet_Letter_(1995_film)>  ┆ 7.016298 │\n",
       "│ …                        ┆ …                                 ┆ …        │\n",
       "│ God of Gamblers          ┆ <God_of_Gamblers>                 ┆ 6.67782  │\n",
       "│ I Was a Teenage Werewolf ┆ <I_Was_a_Teenage_Werewolf>        ┆ 6.30103  │\n",
       "│ Moka                     ┆ <Moka>                            ┆ 5.101963 │\n",
       "│ One Hundred Steps        ┆ <One_Hundred_Steps>               ┆ 6.25669  │\n",
       "└──────────────────────────┴───────────────────────────────────┴──────────┘"
      ]
     },
     "execution_count": 59,
     "metadata": {},
     "output_type": "execute_result"
    }
   ],
   "source": [
    "# Movies that are in the KEN version and not in the new version. \n",
    "df_target_og.filter(\n",
    "    (pl.col(\"col_to_embed\").is_in(yagofacts[\"subject\"])) &\n",
    "    (~pl.col(\"col_to_embed\").is_in(df_final[\"col_to_embed\"]))\n",
    ")"
   ]
  },
  {
   "cell_type": "code",
   "execution_count": 60,
   "metadata": {},
   "outputs": [
    {
     "data": {
      "text/html": [
       "<div><style>\n",
       ".dataframe > thead > tr > th,\n",
       ".dataframe > tbody > tr > td {\n",
       "  text-align: right;\n",
       "}\n",
       "</style>\n",
       "<small>shape: (0, 3)</small><table border=\"1\" class=\"dataframe\"><thead><tr><th>title</th><th>col_to_embed</th><th>revenue</th></tr><tr><td>str</td><td>str</td><td>f64</td></tr></thead><tbody></tbody></table></div>"
      ],
      "text/plain": [
       "shape: (0, 3)\n",
       "┌───────┬──────────────┬─────────┐\n",
       "│ title ┆ col_to_embed ┆ revenue │\n",
       "│ ---   ┆ ---          ┆ ---     │\n",
       "│ str   ┆ str          ┆ f64     │\n",
       "╞═══════╪══════════════╪═════════╡\n",
       "└───────┴──────────────┴─────────┘"
      ]
     },
     "execution_count": 60,
     "metadata": {},
     "output_type": "execute_result"
    }
   ],
   "source": [
    "df_final.filter(\n",
    "    ~(pl.col(\"col_to_embed\").is_in(yagofacts[\"subject\"]))\n",
    ")"
   ]
  },
  {
   "cell_type": "code",
   "execution_count": 61,
   "metadata": {},
   "outputs": [
    {
     "data": {
      "text/html": [
       "<div><style>\n",
       ".dataframe > thead > tr > th,\n",
       ".dataframe > tbody > tr > td {\n",
       "  text-align: right;\n",
       "}\n",
       "</style>\n",
       "<small>shape: (3829, 3)</small><table border=\"1\" class=\"dataframe\"><thead><tr><th>title</th><th>col_to_embed</th><th>revenue</th></tr><tr><td>str</td><td>str</td><td>f64</td></tr></thead><tbody><tr><td>&quot;Heat&quot;</td><td>&quot;&lt;Heat_(1995_fi…</td><td>8.272855</td></tr><tr><td>&quot;Sudden Death&quot;</td><td>&quot;&lt;Sudden_Death_…</td><td>7.80855</td></tr><tr><td>&quot;Casino&quot;</td><td>&quot;&lt;Casino_(1995_…</td><td>8.064879</td></tr><tr><td>&quot;Assassins&quot;</td><td>&quot;&lt;Assassins_(19…</td><td>7.481487</td></tr><tr><td>&quot;Mortal Kombat&quot;</td><td>&quot;&lt;Mortal_Kombat…</td><td>8.087057</td></tr><tr><td>&quot;Pocahontas&quot;</td><td>&quot;&lt;Pocahontas_(1…</td><td>8.539176</td></tr><tr><td>&quot;Friday&quot;</td><td>&quot;&lt;Friday_(1995_…</td><td>7.450494</td></tr><tr><td>&quot;Fair Game&quot;</td><td>&quot;&lt;Fair_Game_(19…</td><td>7.061998</td></tr><tr><td>&quot;Screamers&quot;</td><td>&quot;&lt;Screamers_(19…</td><td>6.762069</td></tr><tr><td>&quot;Black Sheep&quot;</td><td>&quot;&lt;Black_Sheep_(…</td><td>1.50515</td></tr><tr><td>&quot;Broken Arrow&quot;</td><td>&quot;&lt;Broken_Arrow_…</td><td>8.176873</td></tr><tr><td>&quot;Boomerang&quot;</td><td>&quot;&lt;Boomerang_(19…</td><td>7.845718</td></tr><tr><td>&hellip;</td><td>&hellip;</td><td>&hellip;</td></tr><tr><td>&quot;Weekend Pass&quot;</td><td>&quot;&lt;Weekend_Pass&gt;…</td><td>7.323417</td></tr><tr><td>&quot;The Intercepto…</td><td>&quot;&lt;The_Intercept…</td><td>6.273492</td></tr><tr><td>&quot;Rock Dog&quot;</td><td>&quot;&lt;Rock_Dog&gt;&quot;</td><td>6.974076</td></tr><tr><td>&quot;Mudhalvan&quot;</td><td>&quot;&lt;Mudhalvan&gt;&quot;</td><td>7.342423</td></tr><tr><td>&quot;The Battalion&quot;</td><td>&quot;&lt;The_Battalion…</td><td>6.877818</td></tr><tr><td>&quot;Atomic Blonde&quot;</td><td>&quot;&lt;Atomic_Blonde…</td><td>7.954281</td></tr><tr><td>&quot;Dunkirk&quot;</td><td>&quot;&lt;Dunkirk&gt;&quot;</td><td>8.715901</td></tr><tr><td>&quot;Bairavaa&quot;</td><td>&quot;&lt;Bairavaa&gt;&quot;</td><td>7.230449</td></tr><tr><td>&quot;Gymkata&quot;</td><td>&quot;&lt;Gymkata&gt;&quot;</td><td>6.7582</td></tr><tr><td>&quot;Confidential A…</td><td>&quot;&lt;Confidential_…</td><td>7.748963</td></tr><tr><td>&quot;FC Venus&quot;</td><td>&quot;&lt;FC_Venus&gt;&quot;</td><td>6.382304</td></tr><tr><td>&quot;Sahara&quot;</td><td>&quot;&lt;Sahara&gt;&quot;</td><td>6.892095</td></tr></tbody></table></div>"
      ],
      "text/plain": [
       "shape: (3829, 3)\n",
       "┌─────────────────────────┬────────────────────────────┬──────────┐\n",
       "│ title                   ┆ col_to_embed               ┆ revenue  │\n",
       "│ ---                     ┆ ---                        ┆ ---      │\n",
       "│ str                     ┆ str                        ┆ f64      │\n",
       "╞═════════════════════════╪════════════════════════════╪══════════╡\n",
       "│ Heat                    ┆ <Heat_(1995_film)>         ┆ 8.272855 │\n",
       "│ Sudden Death            ┆ <Sudden_Death_(1995_film)> ┆ 7.80855  │\n",
       "│ Casino                  ┆ <Casino_(1995_film)>       ┆ 8.064879 │\n",
       "│ Assassins               ┆ <Assassins_(1995_film)>    ┆ 7.481487 │\n",
       "│ …                       ┆ …                          ┆ …        │\n",
       "│ Gymkata                 ┆ <Gymkata>                  ┆ 6.7582   │\n",
       "│ Confidential Assignment ┆ <Confidential_Assignment>  ┆ 7.748963 │\n",
       "│ FC Venus                ┆ <FC_Venus>                 ┆ 6.382304 │\n",
       "│ Sahara                  ┆ <Sahara>                   ┆ 6.892095 │\n",
       "└─────────────────────────┴────────────────────────────┴──────────┘"
      ]
     },
     "execution_count": 61,
     "metadata": {},
     "output_type": "execute_result"
    }
   ],
   "source": [
    "df_final"
   ]
  },
  {
   "attachments": {},
   "cell_type": "markdown",
   "metadata": {},
   "source": [
    "# US Presidential elections"
   ]
  },
  {
   "cell_type": "code",
   "execution_count": 57,
   "metadata": {},
   "outputs": [],
   "source": [
    "dataset_dir = Path(data_dir, \"presidential-results\")\n",
    "df = pl.read_csv(Path(dataset_dir, \"presidential-results.csv\"), infer_schema_length=0)\n",
    "df = df.to_pandas()"
   ]
  },
  {
   "cell_type": "code",
   "execution_count": 58,
   "metadata": {},
   "outputs": [],
   "source": [
    "df = df[df[\"year\"] == \"2020\"]\n",
    "df[\"county_name\"] = df[\"county_name\"].str.title()\n",
    "df[\"state\"] = df[\"state\"].str.title()\n",
    "df[\"col_to_embed\"] = \"<\" + df[\"county_name\"] + \"_County,_\" + df[\"state\"] + \">\"\n",
    "df[\"target\"] = np.log10(df[\"candidatevotes\"].astype(int) + 1)\n",
    "df[\"raw_entities\"] = df[\"county_name\"] + \" \" + df[\"state\"]\n",
    "# df = df[[\"raw_entities\", \"col_to_embed\", \"party\", \"target\"]]\n",
    "df.dropna(inplace=True)\n"
   ]
  },
  {
   "cell_type": "code",
   "execution_count": 61,
   "metadata": {},
   "outputs": [],
   "source": [
    "df.drop([\"raw_entities\", \"candidatevotes\"], axis=1).to_parquet(Path(dataset_dir, \"presidential-results-prepared.parquet\"), index=False)"
   ]
  },
  {
   "cell_type": "code",
   "execution_count": 47,
   "metadata": {},
   "outputs": [],
   "source": [
    "\n",
    "df=df.groupby([\"raw_entities\", \"col_to_embed\", \"party\"], as_index=False).sum()\n",
    "\n",
    "df[\"col_to_embed\"] = df[\"col_to_embed\"].str.replace(\" \", \"_\")\n",
    "mask = df[\"col_to_embed\"].str.contains(\"Louisiana\")\n",
    "df.loc[mask, \"col_to_embed\"] = df.loc[mask, \"col_to_embed\"].str.replace(\n",
    "    \"County\", \"Parish\"\n",
    ")\n",
    "df[\"col_to_embed\"] = df[\"col_to_embed\"].str.replace(\"_City_County\", \"\")\n"
   ]
  },
  {
   "cell_type": "code",
   "execution_count": 62,
   "metadata": {},
   "outputs": [
    {
     "data": {
      "text/html": [
       "<div>\n",
       "<style scoped>\n",
       "    .dataframe tbody tr th:only-of-type {\n",
       "        vertical-align: middle;\n",
       "    }\n",
       "\n",
       "    .dataframe tbody tr th {\n",
       "        vertical-align: top;\n",
       "    }\n",
       "\n",
       "    .dataframe thead th {\n",
       "        text-align: right;\n",
       "    }\n",
       "</style>\n",
       "<table border=\"1\" class=\"dataframe\">\n",
       "  <thead>\n",
       "    <tr style=\"text-align: right;\">\n",
       "      <th></th>\n",
       "      <th>year</th>\n",
       "      <th>state</th>\n",
       "      <th>state_po</th>\n",
       "      <th>county_name</th>\n",
       "      <th>county_fips</th>\n",
       "      <th>office</th>\n",
       "      <th>candidate</th>\n",
       "      <th>party</th>\n",
       "      <th>candidatevotes</th>\n",
       "      <th>totalvotes</th>\n",
       "      <th>version</th>\n",
       "      <th>mode</th>\n",
       "      <th>col_to_embed</th>\n",
       "      <th>target</th>\n",
       "      <th>raw_entities</th>\n",
       "    </tr>\n",
       "  </thead>\n",
       "  <tbody>\n",
       "    <tr>\n",
       "      <th>50524</th>\n",
       "      <td>2020</td>\n",
       "      <td>Alabama</td>\n",
       "      <td>AL</td>\n",
       "      <td>Autauga</td>\n",
       "      <td>01001</td>\n",
       "      <td>US PRESIDENT</td>\n",
       "      <td>JOSEPH R BIDEN JR</td>\n",
       "      <td>DEMOCRAT</td>\n",
       "      <td>7503</td>\n",
       "      <td>27770</td>\n",
       "      <td>20220315</td>\n",
       "      <td>TOTAL</td>\n",
       "      <td>&lt;Autauga_County,_Alabama&gt;</td>\n",
       "      <td>3.875293</td>\n",
       "      <td>Autauga Alabama</td>\n",
       "    </tr>\n",
       "    <tr>\n",
       "      <th>50525</th>\n",
       "      <td>2020</td>\n",
       "      <td>Alabama</td>\n",
       "      <td>AL</td>\n",
       "      <td>Autauga</td>\n",
       "      <td>01001</td>\n",
       "      <td>US PRESIDENT</td>\n",
       "      <td>OTHER</td>\n",
       "      <td>OTHER</td>\n",
       "      <td>429</td>\n",
       "      <td>27770</td>\n",
       "      <td>20220315</td>\n",
       "      <td>TOTAL</td>\n",
       "      <td>&lt;Autauga_County,_Alabama&gt;</td>\n",
       "      <td>2.633468</td>\n",
       "      <td>Autauga Alabama</td>\n",
       "    </tr>\n",
       "    <tr>\n",
       "      <th>50526</th>\n",
       "      <td>2020</td>\n",
       "      <td>Alabama</td>\n",
       "      <td>AL</td>\n",
       "      <td>Autauga</td>\n",
       "      <td>01001</td>\n",
       "      <td>US PRESIDENT</td>\n",
       "      <td>DONALD J TRUMP</td>\n",
       "      <td>REPUBLICAN</td>\n",
       "      <td>19838</td>\n",
       "      <td>27770</td>\n",
       "      <td>20220315</td>\n",
       "      <td>TOTAL</td>\n",
       "      <td>&lt;Autauga_County,_Alabama&gt;</td>\n",
       "      <td>4.297520</td>\n",
       "      <td>Autauga Alabama</td>\n",
       "    </tr>\n",
       "    <tr>\n",
       "      <th>50527</th>\n",
       "      <td>2020</td>\n",
       "      <td>Alabama</td>\n",
       "      <td>AL</td>\n",
       "      <td>Baldwin</td>\n",
       "      <td>01003</td>\n",
       "      <td>US PRESIDENT</td>\n",
       "      <td>JOSEPH R BIDEN JR</td>\n",
       "      <td>DEMOCRAT</td>\n",
       "      <td>24578</td>\n",
       "      <td>109679</td>\n",
       "      <td>20220315</td>\n",
       "      <td>TOTAL</td>\n",
       "      <td>&lt;Baldwin_County,_Alabama&gt;</td>\n",
       "      <td>4.390564</td>\n",
       "      <td>Baldwin Alabama</td>\n",
       "    </tr>\n",
       "    <tr>\n",
       "      <th>50528</th>\n",
       "      <td>2020</td>\n",
       "      <td>Alabama</td>\n",
       "      <td>AL</td>\n",
       "      <td>Baldwin</td>\n",
       "      <td>01003</td>\n",
       "      <td>US PRESIDENT</td>\n",
       "      <td>OTHER</td>\n",
       "      <td>OTHER</td>\n",
       "      <td>1557</td>\n",
       "      <td>109679</td>\n",
       "      <td>20220315</td>\n",
       "      <td>TOTAL</td>\n",
       "      <td>&lt;Baldwin_County,_Alabama&gt;</td>\n",
       "      <td>3.192567</td>\n",
       "      <td>Baldwin Alabama</td>\n",
       "    </tr>\n",
       "    <tr>\n",
       "      <th>...</th>\n",
       "      <td>...</td>\n",
       "      <td>...</td>\n",
       "      <td>...</td>\n",
       "      <td>...</td>\n",
       "      <td>...</td>\n",
       "      <td>...</td>\n",
       "      <td>...</td>\n",
       "      <td>...</td>\n",
       "      <td>...</td>\n",
       "      <td>...</td>\n",
       "      <td>...</td>\n",
       "      <td>...</td>\n",
       "      <td>...</td>\n",
       "      <td>...</td>\n",
       "      <td>...</td>\n",
       "    </tr>\n",
       "    <tr>\n",
       "      <th>72612</th>\n",
       "      <td>2020</td>\n",
       "      <td>Wyoming</td>\n",
       "      <td>WY</td>\n",
       "      <td>Washakie</td>\n",
       "      <td>56043</td>\n",
       "      <td>US PRESIDENT</td>\n",
       "      <td>DONALD J TRUMP</td>\n",
       "      <td>REPUBLICAN</td>\n",
       "      <td>3245</td>\n",
       "      <td>4032</td>\n",
       "      <td>20220315</td>\n",
       "      <td>TOTAL</td>\n",
       "      <td>&lt;Washakie_County,_Wyoming&gt;</td>\n",
       "      <td>3.511349</td>\n",
       "      <td>Washakie Wyoming</td>\n",
       "    </tr>\n",
       "    <tr>\n",
       "      <th>72613</th>\n",
       "      <td>2020</td>\n",
       "      <td>Wyoming</td>\n",
       "      <td>WY</td>\n",
       "      <td>Weston</td>\n",
       "      <td>56045</td>\n",
       "      <td>US PRESIDENT</td>\n",
       "      <td>JOSEPH R BIDEN JR</td>\n",
       "      <td>DEMOCRAT</td>\n",
       "      <td>360</td>\n",
       "      <td>3560</td>\n",
       "      <td>20220315</td>\n",
       "      <td>TOTAL</td>\n",
       "      <td>&lt;Weston_County,_Wyoming&gt;</td>\n",
       "      <td>2.557507</td>\n",
       "      <td>Weston Wyoming</td>\n",
       "    </tr>\n",
       "    <tr>\n",
       "      <th>72614</th>\n",
       "      <td>2020</td>\n",
       "      <td>Wyoming</td>\n",
       "      <td>WY</td>\n",
       "      <td>Weston</td>\n",
       "      <td>56045</td>\n",
       "      <td>US PRESIDENT</td>\n",
       "      <td>JO JORGENSEN</td>\n",
       "      <td>LIBERTARIAN</td>\n",
       "      <td>46</td>\n",
       "      <td>3560</td>\n",
       "      <td>20220315</td>\n",
       "      <td>TOTAL</td>\n",
       "      <td>&lt;Weston_County,_Wyoming&gt;</td>\n",
       "      <td>1.672098</td>\n",
       "      <td>Weston Wyoming</td>\n",
       "    </tr>\n",
       "    <tr>\n",
       "      <th>72615</th>\n",
       "      <td>2020</td>\n",
       "      <td>Wyoming</td>\n",
       "      <td>WY</td>\n",
       "      <td>Weston</td>\n",
       "      <td>56045</td>\n",
       "      <td>US PRESIDENT</td>\n",
       "      <td>OTHER</td>\n",
       "      <td>OTHER</td>\n",
       "      <td>47</td>\n",
       "      <td>3560</td>\n",
       "      <td>20220315</td>\n",
       "      <td>TOTAL</td>\n",
       "      <td>&lt;Weston_County,_Wyoming&gt;</td>\n",
       "      <td>1.681241</td>\n",
       "      <td>Weston Wyoming</td>\n",
       "    </tr>\n",
       "    <tr>\n",
       "      <th>72616</th>\n",
       "      <td>2020</td>\n",
       "      <td>Wyoming</td>\n",
       "      <td>WY</td>\n",
       "      <td>Weston</td>\n",
       "      <td>56045</td>\n",
       "      <td>US PRESIDENT</td>\n",
       "      <td>DONALD J TRUMP</td>\n",
       "      <td>REPUBLICAN</td>\n",
       "      <td>3107</td>\n",
       "      <td>3560</td>\n",
       "      <td>20220315</td>\n",
       "      <td>TOTAL</td>\n",
       "      <td>&lt;Weston_County,_Wyoming&gt;</td>\n",
       "      <td>3.492481</td>\n",
       "      <td>Weston Wyoming</td>\n",
       "    </tr>\n",
       "  </tbody>\n",
       "</table>\n",
       "<p>22084 rows × 15 columns</p>\n",
       "</div>"
      ],
      "text/plain": [
       "       year    state state_po county_name county_fips        office  \\\n",
       "50524  2020  Alabama       AL     Autauga       01001  US PRESIDENT   \n",
       "50525  2020  Alabama       AL     Autauga       01001  US PRESIDENT   \n",
       "50526  2020  Alabama       AL     Autauga       01001  US PRESIDENT   \n",
       "50527  2020  Alabama       AL     Baldwin       01003  US PRESIDENT   \n",
       "50528  2020  Alabama       AL     Baldwin       01003  US PRESIDENT   \n",
       "...     ...      ...      ...         ...         ...           ...   \n",
       "72612  2020  Wyoming       WY    Washakie       56043  US PRESIDENT   \n",
       "72613  2020  Wyoming       WY      Weston       56045  US PRESIDENT   \n",
       "72614  2020  Wyoming       WY      Weston       56045  US PRESIDENT   \n",
       "72615  2020  Wyoming       WY      Weston       56045  US PRESIDENT   \n",
       "72616  2020  Wyoming       WY      Weston       56045  US PRESIDENT   \n",
       "\n",
       "               candidate        party candidatevotes totalvotes   version  \\\n",
       "50524  JOSEPH R BIDEN JR     DEMOCRAT           7503      27770  20220315   \n",
       "50525              OTHER        OTHER            429      27770  20220315   \n",
       "50526     DONALD J TRUMP   REPUBLICAN          19838      27770  20220315   \n",
       "50527  JOSEPH R BIDEN JR     DEMOCRAT          24578     109679  20220315   \n",
       "50528              OTHER        OTHER           1557     109679  20220315   \n",
       "...                  ...          ...            ...        ...       ...   \n",
       "72612     DONALD J TRUMP   REPUBLICAN           3245       4032  20220315   \n",
       "72613  JOSEPH R BIDEN JR     DEMOCRAT            360       3560  20220315   \n",
       "72614       JO JORGENSEN  LIBERTARIAN             46       3560  20220315   \n",
       "72615              OTHER        OTHER             47       3560  20220315   \n",
       "72616     DONALD J TRUMP   REPUBLICAN           3107       3560  20220315   \n",
       "\n",
       "        mode                col_to_embed    target      raw_entities  \n",
       "50524  TOTAL   <Autauga_County,_Alabama>  3.875293   Autauga Alabama  \n",
       "50525  TOTAL   <Autauga_County,_Alabama>  2.633468   Autauga Alabama  \n",
       "50526  TOTAL   <Autauga_County,_Alabama>  4.297520   Autauga Alabama  \n",
       "50527  TOTAL   <Baldwin_County,_Alabama>  4.390564   Baldwin Alabama  \n",
       "50528  TOTAL   <Baldwin_County,_Alabama>  3.192567   Baldwin Alabama  \n",
       "...      ...                         ...       ...               ...  \n",
       "72612  TOTAL  <Washakie_County,_Wyoming>  3.511349  Washakie Wyoming  \n",
       "72613  TOTAL    <Weston_County,_Wyoming>  2.557507    Weston Wyoming  \n",
       "72614  TOTAL    <Weston_County,_Wyoming>  1.672098    Weston Wyoming  \n",
       "72615  TOTAL    <Weston_County,_Wyoming>  1.681241    Weston Wyoming  \n",
       "72616  TOTAL    <Weston_County,_Wyoming>  3.492481    Weston Wyoming  \n",
       "\n",
       "[22084 rows x 15 columns]"
      ]
     },
     "execution_count": 62,
     "metadata": {},
     "output_type": "execute_result"
    }
   ],
   "source": [
    "df"
   ]
  },
  {
   "cell_type": "code",
   "execution_count": null,
   "metadata": {},
   "outputs": [],
   "source": []
  }
 ],
 "metadata": {
  "kernelspec": {
   "display_name": "base",
   "language": "python",
   "name": "python3"
  },
  "language_info": {
   "codemirror_mode": {
    "name": "ipython",
    "version": 3
   },
   "file_extension": ".py",
   "mimetype": "text/x-python",
   "name": "python",
   "nbconvert_exporter": "python",
   "pygments_lexer": "ipython3",
   "version": "3.10.6"
  },
  "orig_nbformat": 4
 },
 "nbformat": 4,
 "nbformat_minor": 2
}
