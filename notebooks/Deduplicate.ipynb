{
 "cells": [
  {
   "cell_type": "code",
   "execution_count": 1,
   "metadata": {},
   "outputs": [],
   "source": [
    "import json\n",
    "from pathlib import Path\n",
    "import pandas as pd\n",
    "import pyarrow as pa\n",
    "from tqdm import tqdm\n",
    "import pyarrow.parquet as pq"
   ]
  },
  {
   "cell_type": "code",
   "execution_count": 5,
   "metadata": {},
   "outputs": [],
   "source": [
    "hashes = json.load(open(Path(\"../data/digests/benchmark-datasets-full/benchmark-datasets-full_tally.json\"), \"r\"))"
   ]
  },
  {
   "cell_type": "code",
   "execution_count": 7,
   "metadata": {},
   "outputs": [],
   "source": [
    "src_dir = Path(\"../data/benchmark-datasets-full\")\n",
    "dest_dir = Path(\"../data/benchmark-datasets-dedup/\")"
   ]
  },
  {
   "attachments": {},
   "cell_type": "markdown",
   "metadata": {},
   "source": [
    "I label as `true_duplicates` those hashes that have different dataset ID, but the same md5. It's very likely that they \n",
    "contain the same data, but it doesn't hurt to make sure that's the case. "
   ]
  },
  {
   "cell_type": "code",
   "execution_count": 56,
   "metadata": {},
   "outputs": [],
   "source": [
    "true_duplicates = {}"
   ]
  },
  {
   "cell_type": "code",
   "execution_count": 77,
   "metadata": {},
   "outputs": [
    {
     "name": "stdout",
     "output_type": "stream",
     "text": [
      "{'datamart.socrata.www-data-act-gov-au.65z9-5mfa', 'datamart.socrata.www-data-act-gov-au.wpfn-nze5'}\n",
      "{'datamart.upload.d2f343829a3a45db80e360488714a47e', 'datamart.upload.43c9b371744148ca85193b3b8784816f'}\n",
      "{'datamart.url.e8ad58ccedbd437b96f4a36de3f4f8a7', 'datamart.url.2c01b1f81d655c85a55e5dfeb2f6d9f8'}\n",
      "{'datamart.zenodo.6537414.60446bd0-2fed-4c5c-a738-b1a34bf3303c', 'datamart.zenodo.6537414.c0e9c97a-f337-4090-a281-5f1fd280a2ee'}\n",
      "{'datamart.socrata.data-ct-gov.rybz-nyjw', 'datamart.url.46f0a09b4ba24878a346b652485ece58'}\n",
      "{'datamart.socrata.data-usaid-gov.nvx5-5f2f', 'datamart.socrata.data-usaid-gov.h8u5-uvnp'}\n",
      "{'datamart.url.b506c035e4195262aabc94926ab16602', 'datamart.upload.51f8be1b95504bc5b9d333209f6521ac'}\n",
      "{'datamart.socrata.opendata-utah-gov.rti9-2cf2', 'datamart.socrata.opendata-utah-gov.t8xs-7rpm'}\n",
      "{'datamart.socrata.opendata-utah-gov.63by-pz9k', 'datamart.socrata.opendata-utah-gov.gnrv-nqtq'}\n",
      "{'datamart.socrata.opendata-utah-gov.mvcd-biwe', 'datamart.socrata.opendata-utah-gov.hiqz-7rnt'}\n",
      "{'datamart.socrata.opendata-utah-gov.64zn-7at4', 'datamart.socrata.opendata-utah-gov.essr-e4ew'}\n",
      "{'datamart.upload.20f665db1e7a41649212732e8478cab8', 'datamart.url.31df0b65674d5a549ad59089aaf383de'}\n",
      "{'datamart.zenodo.5136627.37cdf533-9990-48f0-a1c6-370f9f3449dc', 'datamart.zenodo.5136627.db5f1d46-5850-486d-922b-65edf816a25a'}\n",
      "{'datamart.zenodo.5083325.1105bb70-10f5-42f1-a3c5-f2408784c0b6', 'datamart.zenodo.5083325.de89310a-00de-410d-a99c-37e48b884efe'}\n",
      "{'datamart.socrata.data-bayareametro-gov.vh9f-dp5h', 'datamart.socrata.data-bayareametro-gov.v9bh-qrev'}\n"
     ]
    }
   ],
   "source": [
    "for hash, path_list in hashes.items():\n",
    "    # print(hash)\n",
    "    # print(len(path_list))\n",
    "    \n",
    "    if len(set((Path(pth).parts[-3] for pth in path_list))) > 1:\n",
    "        print(set([Path(pth).parts[-3] for pth in path_list]))\n",
    "        true_duplicates[hash] = path_list"
   ]
  },
  {
   "attachments": {},
   "cell_type": "markdown",
   "metadata": {},
   "source": [
    "I'm selecting the first hash in `true_duplicates`, then I'm using the function `assert_frame_equal` to make sure that \n",
    "all the frames in in a list are actually duplicates. Actually, this takes a very long time to do."
   ]
  },
  {
   "cell_type": "code",
   "execution_count": 119,
   "metadata": {},
   "outputs": [
    {
     "name": "stderr",
     "output_type": "stream",
     "text": [
      "/storage/workspace/tmp/ipykernel_5796/3754929782.py:2: DtypeWarning: Columns (19) have mixed types.Specify dtype option on import or set low_memory=False.\n",
      "  dflist = [pd.read_csv(p) for p in pths]\n"
     ]
    }
   ],
   "source": [
    "for hash, pths in true_duplicates.items():\n",
    "    dflist = [pd.read_csv(p) for p in pths]\n",
    "    for i in range(len(dflist) - 1):\n",
    "        for j in range(i+1, len(dflist)):\n",
    "            if not dflist[i].equals( dflist[j]):\n",
    "                print(f\"HASH {hash} has collisions\")"
   ]
  },
  {
   "attachments": {},
   "cell_type": "markdown",
   "metadata": {},
   "source": [
    "It seems like, as expected, all datasets are equal and the only difference is that they have been uploaded multiple times.\n",
    "This means that I can select the first path for each hash and copy that to the deduplication folder. "
   ]
  },
  {
   "cell_type": "code",
   "execution_count": 101,
   "metadata": {},
   "outputs": [],
   "source": [
    "# Loading the dataset metadata\n",
    "path_to_data = Path(*(Path(path_list[0]).parts[:-2]))\n",
    "pth_mdata = Path(path_to_data, \"datasetDoc.json\")\n",
    "dataset_mdata = json.load(open(pth_mdata, \"r\"))"
   ]
  },
  {
   "attachments": {},
   "cell_type": "markdown",
   "metadata": {},
   "source": [
    "Now I am trying to create a parquet file for the dataset. I want to add metadata to the parquet file, and I am following\n",
    "[this question](https://stackoverflow.com/questions/52122674/how-to-write-parquet-metadata-with-pyarrow) for the commands."
   ]
  },
  {
   "cell_type": "code",
   "execution_count": 112,
   "metadata": {},
   "outputs": [],
   "source": [
    "df = pd.read_csv(path_list[0])\n",
    "tab = pa.Table.from_pandas(df)\n",
    "existing_metadata = tab.schema.metadata\n",
    "new_metadata = json.dumps(dataset_mdata).encode(\"utf8\")\n",
    "merged_metadata = {**{\"Record Metadata\": new_metadata}, **existing_metadata}\n",
    "tab = tab.replace_schema_metadata(merged_metadata)"
   ]
  },
  {
   "cell_type": "code",
   "execution_count": 117,
   "metadata": {},
   "outputs": [],
   "source": [
    "pq.write_table(tab, dest_dir/Path(hash+\".parquet\"))"
   ]
  },
  {
   "attachments": {},
   "cell_type": "markdown",
   "metadata": {},
   "source": [
    "Now I can finally apply the functions written above to save all unique datasets in the correct destination folder. \n",
    "If it actually worked. As it turns out, the datasets are not well behaved, so it seems like I can't easily convert them\n",
    "to parquet. "
   ]
  },
  {
   "cell_type": "code",
   "execution_count": 127,
   "metadata": {},
   "outputs": [
    {
     "name": "stderr",
     "output_type": "stream",
     "text": [
      "  2%|▏         | 30/1783 [01:52<1:49:07,  3.74s/it]\n"
     ]
    },
    {
     "ename": "KeyboardInterrupt",
     "evalue": "",
     "output_type": "error",
     "traceback": [
      "\u001b[0;31m---------------------------------------------------------------------------\u001b[0m",
      "\u001b[0;31mKeyboardInterrupt\u001b[0m                         Traceback (most recent call last)",
      "Cell \u001b[0;32mIn[127], line 8\u001b[0m\n\u001b[1;32m      5\u001b[0m dataset_mdata \u001b[39m=\u001b[39m json\u001b[39m.\u001b[39mload(\u001b[39mopen\u001b[39m(pth_mdata, \u001b[39m\"\u001b[39m\u001b[39mr\u001b[39m\u001b[39m\"\u001b[39m))\n\u001b[1;32m      7\u001b[0m \u001b[39m# Loading the actual dataset\u001b[39;00m\n\u001b[0;32m----> 8\u001b[0m df \u001b[39m=\u001b[39m pd\u001b[39m.\u001b[39;49mread_csv(path_list[\u001b[39m0\u001b[39;49m], low_memory\u001b[39m=\u001b[39;49m\u001b[39mFalse\u001b[39;49;00m)\n\u001b[1;32m     10\u001b[0m \u001b[39m# Saving the dataset\u001b[39;00m\n\u001b[1;32m     11\u001b[0m df\u001b[39m.\u001b[39mto_csv(dest_dir\u001b[39m/\u001b[39mPath(\u001b[39m\"\u001b[39m\u001b[39mdatasets\u001b[39m\u001b[39m\"\u001b[39m, \u001b[39mhash\u001b[39m\u001b[39m+\u001b[39m\u001b[39m\"\u001b[39m\u001b[39m.csv\u001b[39m\u001b[39m\"\u001b[39m), index\u001b[39m=\u001b[39m\u001b[39mFalse\u001b[39;00m)\n",
      "File \u001b[0;32m~/mambaforge/envs/d3m/lib/python3.8/site-packages/pandas/util/_decorators.py:311\u001b[0m, in \u001b[0;36mdeprecate_nonkeyword_arguments.<locals>.decorate.<locals>.wrapper\u001b[0;34m(*args, **kwargs)\u001b[0m\n\u001b[1;32m    305\u001b[0m \u001b[39mif\u001b[39;00m \u001b[39mlen\u001b[39m(args) \u001b[39m>\u001b[39m num_allow_args:\n\u001b[1;32m    306\u001b[0m     warnings\u001b[39m.\u001b[39mwarn(\n\u001b[1;32m    307\u001b[0m         msg\u001b[39m.\u001b[39mformat(arguments\u001b[39m=\u001b[39marguments),\n\u001b[1;32m    308\u001b[0m         \u001b[39mFutureWarning\u001b[39;00m,\n\u001b[1;32m    309\u001b[0m         stacklevel\u001b[39m=\u001b[39mstacklevel,\n\u001b[1;32m    310\u001b[0m     )\n\u001b[0;32m--> 311\u001b[0m \u001b[39mreturn\u001b[39;00m func(\u001b[39m*\u001b[39;49margs, \u001b[39m*\u001b[39;49m\u001b[39m*\u001b[39;49mkwargs)\n",
      "File \u001b[0;32m~/mambaforge/envs/d3m/lib/python3.8/site-packages/pandas/io/parsers/readers.py:586\u001b[0m, in \u001b[0;36mread_csv\u001b[0;34m(filepath_or_buffer, sep, delimiter, header, names, index_col, usecols, squeeze, prefix, mangle_dupe_cols, dtype, engine, converters, true_values, false_values, skipinitialspace, skiprows, skipfooter, nrows, na_values, keep_default_na, na_filter, verbose, skip_blank_lines, parse_dates, infer_datetime_format, keep_date_col, date_parser, dayfirst, cache_dates, iterator, chunksize, compression, thousands, decimal, lineterminator, quotechar, quoting, doublequote, escapechar, comment, encoding, encoding_errors, dialect, error_bad_lines, warn_bad_lines, on_bad_lines, delim_whitespace, low_memory, memory_map, float_precision, storage_options)\u001b[0m\n\u001b[1;32m    571\u001b[0m kwds_defaults \u001b[39m=\u001b[39m _refine_defaults_read(\n\u001b[1;32m    572\u001b[0m     dialect,\n\u001b[1;32m    573\u001b[0m     delimiter,\n\u001b[0;32m   (...)\u001b[0m\n\u001b[1;32m    582\u001b[0m     defaults\u001b[39m=\u001b[39m{\u001b[39m\"\u001b[39m\u001b[39mdelimiter\u001b[39m\u001b[39m\"\u001b[39m: \u001b[39m\"\u001b[39m\u001b[39m,\u001b[39m\u001b[39m\"\u001b[39m},\n\u001b[1;32m    583\u001b[0m )\n\u001b[1;32m    584\u001b[0m kwds\u001b[39m.\u001b[39mupdate(kwds_defaults)\n\u001b[0;32m--> 586\u001b[0m \u001b[39mreturn\u001b[39;00m _read(filepath_or_buffer, kwds)\n",
      "File \u001b[0;32m~/mambaforge/envs/d3m/lib/python3.8/site-packages/pandas/io/parsers/readers.py:488\u001b[0m, in \u001b[0;36m_read\u001b[0;34m(filepath_or_buffer, kwds)\u001b[0m\n\u001b[1;32m    485\u001b[0m     \u001b[39mreturn\u001b[39;00m parser\n\u001b[1;32m    487\u001b[0m \u001b[39mwith\u001b[39;00m parser:\n\u001b[0;32m--> 488\u001b[0m     \u001b[39mreturn\u001b[39;00m parser\u001b[39m.\u001b[39;49mread(nrows)\n",
      "File \u001b[0;32m~/mambaforge/envs/d3m/lib/python3.8/site-packages/pandas/io/parsers/readers.py:1047\u001b[0m, in \u001b[0;36mTextFileReader.read\u001b[0;34m(self, nrows)\u001b[0m\n\u001b[1;32m   1045\u001b[0m \u001b[39mdef\u001b[39;00m \u001b[39mread\u001b[39m(\u001b[39mself\u001b[39m, nrows\u001b[39m=\u001b[39m\u001b[39mNone\u001b[39;00m):\n\u001b[1;32m   1046\u001b[0m     nrows \u001b[39m=\u001b[39m validate_integer(\u001b[39m\"\u001b[39m\u001b[39mnrows\u001b[39m\u001b[39m\"\u001b[39m, nrows)\n\u001b[0;32m-> 1047\u001b[0m     index, columns, col_dict \u001b[39m=\u001b[39m \u001b[39mself\u001b[39;49m\u001b[39m.\u001b[39;49m_engine\u001b[39m.\u001b[39;49mread(nrows)\n\u001b[1;32m   1049\u001b[0m     \u001b[39mif\u001b[39;00m index \u001b[39mis\u001b[39;00m \u001b[39mNone\u001b[39;00m:\n\u001b[1;32m   1050\u001b[0m         \u001b[39mif\u001b[39;00m col_dict:\n\u001b[1;32m   1051\u001b[0m             \u001b[39m# Any column is actually fine:\u001b[39;00m\n",
      "File \u001b[0;32m~/mambaforge/envs/d3m/lib/python3.8/site-packages/pandas/io/parsers/c_parser_wrapper.py:229\u001b[0m, in \u001b[0;36mCParserWrapper.read\u001b[0;34m(self, nrows)\u001b[0m\n\u001b[1;32m    226\u001b[0m         data \u001b[39m=\u001b[39m _concatenate_chunks(chunks)\n\u001b[1;32m    228\u001b[0m     \u001b[39melse\u001b[39;00m:\n\u001b[0;32m--> 229\u001b[0m         data \u001b[39m=\u001b[39m \u001b[39mself\u001b[39;49m\u001b[39m.\u001b[39;49m_reader\u001b[39m.\u001b[39;49mread(nrows)\n\u001b[1;32m    230\u001b[0m \u001b[39mexcept\u001b[39;00m \u001b[39mStopIteration\u001b[39;00m:\n\u001b[1;32m    231\u001b[0m     \u001b[39mif\u001b[39;00m \u001b[39mself\u001b[39m\u001b[39m.\u001b[39m_first_chunk:\n",
      "File \u001b[0;32m~/mambaforge/envs/d3m/lib/python3.8/site-packages/pandas/_libs/parsers.pyx:783\u001b[0m, in \u001b[0;36mpandas._libs.parsers.TextReader.read\u001b[0;34m()\u001b[0m\n",
      "File \u001b[0;32m~/mambaforge/envs/d3m/lib/python3.8/site-packages/pandas/_libs/parsers.pyx:880\u001b[0m, in \u001b[0;36mpandas._libs.parsers.TextReader._read_rows\u001b[0;34m()\u001b[0m\n",
      "File \u001b[0;32m~/mambaforge/envs/d3m/lib/python3.8/site-packages/pandas/_libs/parsers.pyx:1039\u001b[0m, in \u001b[0;36mpandas._libs.parsers.TextReader._convert_column_data\u001b[0;34m()\u001b[0m\n",
      "File \u001b[0;32m~/mambaforge/envs/d3m/lib/python3.8/site-packages/pandas/core/dtypes/common.py:1420\u001b[0m, in \u001b[0;36mis_extension_array_dtype\u001b[0;34m(arr_or_dtype)\u001b[0m\n\u001b[1;32m   1413\u001b[0m     \u001b[39m# Note: if other EA dtypes are ever held in HybridBlock, exclude those\u001b[39;00m\n\u001b[1;32m   1414\u001b[0m     \u001b[39m#  here too.\u001b[39;00m\n\u001b[1;32m   1415\u001b[0m     \u001b[39m# NB: need to check DatetimeTZDtype and not is_datetime64tz_dtype\u001b[39;00m\n\u001b[1;32m   1416\u001b[0m     \u001b[39m#  to exclude ArrowTimestampUSDtype\u001b[39;00m\n\u001b[1;32m   1417\u001b[0m     \u001b[39mreturn\u001b[39;00m \u001b[39misinstance\u001b[39m(dtype, ExtensionDtype) \u001b[39mand\u001b[39;00m \u001b[39mnot\u001b[39;00m \u001b[39misinstance\u001b[39m(dtype, DatetimeTZDtype)\n\u001b[0;32m-> 1420\u001b[0m \u001b[39mdef\u001b[39;00m \u001b[39mis_extension_array_dtype\u001b[39m(arr_or_dtype) \u001b[39m-\u001b[39m\u001b[39m>\u001b[39m \u001b[39mbool\u001b[39m:\n\u001b[1;32m   1421\u001b[0m \u001b[39m    \u001b[39m\u001b[39m\"\"\"\u001b[39;00m\n\u001b[1;32m   1422\u001b[0m \u001b[39m    Check if an object is a pandas extension array type.\u001b[39;00m\n\u001b[1;32m   1423\u001b[0m \n\u001b[0;32m   (...)\u001b[0m\n\u001b[1;32m   1463\u001b[0m \u001b[39m    False\u001b[39;00m\n\u001b[1;32m   1464\u001b[0m \u001b[39m    \"\"\"\u001b[39;00m\n\u001b[1;32m   1465\u001b[0m     dtype \u001b[39m=\u001b[39m \u001b[39mgetattr\u001b[39m(arr_or_dtype, \u001b[39m\"\u001b[39m\u001b[39mdtype\u001b[39m\u001b[39m\"\u001b[39m, arr_or_dtype)\n",
      "\u001b[0;31mKeyboardInterrupt\u001b[0m: "
     ]
    }
   ],
   "source": [
    "for hash, path_list in tqdm(hashes.items(), total=len(hashes)):\n",
    "    # Loading only the first dataset metadata\n",
    "    path_to_data = Path(*(Path(path_list[0]).parts[:-2]))\n",
    "    pth_mdata = Path(path_to_data, \"datasetDoc.json\")\n",
    "    dataset_mdata = json.load(open(pth_mdata, \"r\"))\n",
    "    \n",
    "    # Loading the actual dataset\n",
    "    df = pd.read_csv(path_list[0], low_memory=False)\n",
    "    \n",
    "    # Saving the dataset\n",
    "    df.to_csv(dest_dir/Path(\"datasets\", hash+\".csv\"), index=False)\n",
    "    \n",
    "    # Saving the dataset metadata\n",
    "    json.dump(dataset_mdata, open(dest_dir/Path(\"metadata\", hash+\".metadata.json\"), \"w\"))\n",
    "\n",
    "    # Parquet is having issues, I'll just save everything as csv for now \n",
    "    continue\n",
    "    \n",
    "    # Converting \n",
    "    tab = pa.Table.from_pandas(df)\n",
    "    \n",
    "    # Expanding metadata\n",
    "    existing_metadata = tab.schema.metadata\n",
    "    new_metadata = json.dumps(dataset_mdata).encode(\"utf8\")\n",
    "    merged_metadata = {**{\"Record Metadata\": new_metadata}, **existing_metadata}\n",
    "    tab = tab.replace_schema_metadata(merged_metadata)\n",
    "    \n",
    "    "
   ]
  },
  {
   "cell_type": "markdown",
   "metadata": {},
   "source": [
    "# Studying the deduplicated datasets"
   ]
  },
  {
   "cell_type": "code",
   "execution_count": 2,
   "metadata": {},
   "outputs": [],
   "source": [
    "sizes_file = Path(Path(\".\").resolve().parent, \"data/benchmark-datasets-dedup\", \"dataset_sizes.txt\")"
   ]
  },
  {
   "cell_type": "code",
   "execution_count": 15,
   "metadata": {},
   "outputs": [],
   "source": [
    "df_sizes = pd.read_csv(sizes_file, delimiter=\"\\t\", header=None)\n",
    "df_sizes.columns = [\"Size\", \"Dataset\"]\n",
    "df_sizes = df_sizes.reindex(columns=[\"Dataset\", \"Size\"])"
   ]
  },
  {
   "cell_type": "code",
   "execution_count": 18,
   "metadata": {},
   "outputs": [],
   "source": [
    "import seaborn as sns"
   ]
  },
  {
   "cell_type": "code",
   "execution_count": 22,
   "metadata": {},
   "outputs": [
    {
     "data": {
      "text/plain": [
       "<AxesSubplot: xlabel='Size', ylabel='Count'>"
      ]
     },
     "execution_count": 22,
     "metadata": {},
     "output_type": "execute_result"
    },
    {
     "data": {
      "image/png": "[encoded data removed]",
      "text/plain": [
       "<Figure size 640x480 with 1 Axes>"
      ]
     },
     "metadata": {},
     "output_type": "display_data"
    }
   ],
   "source": [
    "sns.histplot(data=df_sizes,x=\"Size\", log_scale=(True, True))"
   ]
  },
  {
   "cell_type": "code",
   "execution_count": null,
   "metadata": {},
   "outputs": [],
   "source": []
  }
 ],
 "metadata": {
  "kernelspec": {
   "display_name": "d3m",
   "language": "python",
   "name": "python3"
  },
  "language_info": {
   "codemirror_mode": {
    "name": "ipython",
    "version": 3
   },
   "file_extension": ".py",
   "mimetype": "text/x-python",
   "name": "python",
   "nbconvert_exporter": "python",
   "pygments_lexer": "ipython3",
   "version": "3.8.15"
  },
  "orig_nbformat": 4,
  "vscode": {
   "interpreter": {
    "hash": "27bf6faeb6d80a10db576d62e7a06499ed49c2354988f8ef4703ff0a60cd9893"
   }
  }
 },
 "nbformat": 4,
 "nbformat_minor": 2
}
