{
 "cells": [
  {
   "cell_type": "code",
   "execution_count": 8,
   "metadata": {},
   "outputs": [],
   "source": [
    "import polars as pl\n",
    "import random\n",
    "import string"
   ]
  },
  {
   "cell_type": "code",
   "execution_count": null,
   "metadata": {},
   "outputs": [],
   "source": []
  },
  {
   "cell_type": "code",
   "execution_count": 9,
   "metadata": {},
   "outputs": [],
   "source": [
    "lf = pl.LazyFrame(\n",
    "    {\n",
    "        \"key\": [1, 2, 3],\n",
    "        \"val1\": [\"a\", \"b\", \"c\"],\n",
    "    }\n",
    ")"
   ]
  },
  {
   "cell_type": "code",
   "execution_count": 10,
   "metadata": {},
   "outputs": [],
   "source": [
    "number = 5\n",
    "seed = 42\n",
    "random.seed(seed)\n",
    "df_list = []\n",
    "for  _ in range(number):\n",
    "    vals = random.choices(string.ascii_lowercase, k=3)\n",
    "    df = pl.DataFrame(\n",
    "        {\n",
    "            \"key\": [1,2,3],\n",
    "            f\"value{_}\": vals\n",
    "        }\n",
    "    )\n",
    "    df_list.append(df)"
   ]
  },
  {
   "cell_type": "code",
   "execution_count": 11,
   "metadata": {},
   "outputs": [],
   "source": [
    "for df in df_list:\n",
    "    lf = lf.join(other=df.lazy(), on=\"key\")\n"
   ]
  },
  {
   "cell_type": "code",
   "execution_count": 12,
   "metadata": {},
   "outputs": [
    {
     "data": {
      "text/plain": [
       "polars.lazyframe.frame.LazyFrame"
      ]
     },
     "execution_count": 12,
     "metadata": {},
     "output_type": "execute_result"
    }
   ],
   "source": [
    "type(lf)"
   ]
  },
  {
   "cell_type": "code",
   "execution_count": 5,
   "metadata": {},
   "outputs": [
    {
     "data": {
      "text/html": [
       "<div><style>\n",
       ".dataframe > thead > tr > th,\n",
       ".dataframe > tbody > tr > td {\n",
       "  text-align: right;\n",
       "}\n",
       "</style>\n",
       "<small>shape: (3, 7)</small><table border=\"1\" class=\"dataframe\"><thead><tr><th>key</th><th>val1</th><th>value0</th><th>value1</th><th>value2</th><th>value3</th><th>value4</th></tr><tr><td>i64</td><td>str</td><td>str</td><td>str</td><td>str</td><td>str</td><td>str</td></tr></thead><tbody><tr><td>1</td><td>&quot;a&quot;</td><td>&quot;q&quot;</td><td>&quot;f&quot;</td><td>&quot;x&quot;</td><td>&quot;a&quot;</td><td>&quot;a&quot;</td></tr><tr><td>2</td><td>&quot;b&quot;</td><td>&quot;a&quot;</td><td>&quot;t&quot;</td><td>&quot;c&quot;</td><td>&quot;f&quot;</td><td>&quot;f&quot;</td></tr><tr><td>3</td><td>&quot;c&quot;</td><td>&quot;h&quot;</td><td>&quot;r&quot;</td><td>&quot;k&quot;</td><td>&quot;n&quot;</td><td>&quot;q&quot;</td></tr></tbody></table></div>"
      ],
      "text/plain": [
       "shape: (3, 7)\n",
       "┌─────┬──────┬────────┬────────┬────────┬────────┬────────┐\n",
       "│ key ┆ val1 ┆ value0 ┆ value1 ┆ value2 ┆ value3 ┆ value4 │\n",
       "│ --- ┆ ---  ┆ ---    ┆ ---    ┆ ---    ┆ ---    ┆ ---    │\n",
       "│ i64 ┆ str  ┆ str    ┆ str    ┆ str    ┆ str    ┆ str    │\n",
       "╞═════╪══════╪════════╪════════╪════════╪════════╪════════╡\n",
       "│ 1   ┆ a    ┆ q      ┆ f      ┆ x      ┆ a      ┆ a      │\n",
       "│ 2   ┆ b    ┆ a      ┆ t      ┆ c      ┆ f      ┆ f      │\n",
       "│ 3   ┆ c    ┆ h      ┆ r      ┆ k      ┆ n      ┆ q      │\n",
       "└─────┴──────┴────────┴────────┴────────┴────────┴────────┘"
      ]
     },
     "execution_count": 5,
     "metadata": {},
     "output_type": "execute_result"
    }
   ],
   "source": [
    "lf.collect()"
   ]
  },
  {
   "cell_type": "code",
   "execution_count": 7,
   "metadata": {},
   "outputs": [
    {
     "data": {
      "text/plain": [
       "polars.lazyframe.frame.LazyFrame"
      ]
     },
     "execution_count": 7,
     "metadata": {},
     "output_type": "execute_result"
    }
   ],
   "source": [
    "type(lf)"
   ]
  },
  {
   "cell_type": "code",
   "execution_count": null,
   "metadata": {},
   "outputs": [],
   "source": []
  }
 ],
 "metadata": {
  "kernelspec": {
   "display_name": "base",
   "language": "python",
   "name": "python3"
  },
  "language_info": {
   "codemirror_mode": {
    "name": "ipython",
    "version": 3
   },
   "file_extension": ".py",
   "mimetype": "text/x-python",
   "name": "python",
   "nbconvert_exporter": "python",
   "pygments_lexer": "ipython3",
   "version": "3.10.6"
  },
  "orig_nbformat": 4
 },
 "nbformat": 4,
 "nbformat_minor": 2
}
