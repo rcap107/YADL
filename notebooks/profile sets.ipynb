{
 "cells": [
  {
   "cell_type": "code",
   "execution_count": 1,
   "metadata": {},
   "outputs": [],
   "source": [
    "import polars as pl\n",
    "import numpy as np\n",
    "import pandas as pd"
   ]
  },
  {
   "cell_type": "code",
   "execution_count": 10,
   "metadata": {},
   "outputs": [],
   "source": [
    "from string import ascii_letters"
   ]
  },
  {
   "cell_type": "code",
   "execution_count": 14,
   "metadata": {},
   "outputs": [
    {
     "data": {
      "text/plain": [
       "array(['b', 'Q', 'M', 'z', 'p', 'B', 'l', 'e', 'G', 'K'], dtype='<U1')"
      ]
     },
     "execution_count": 14,
     "metadata": {},
     "output_type": "execute_result"
    }
   ],
   "source": [
    "np.random.choice(list(ascii_letters), size=10)"
   ]
  },
  {
   "cell_type": "code",
   "execution_count": 19,
   "metadata": {},
   "outputs": [],
   "source": [
    "d1 = {\n",
    "    \"key\": np.random.randint(0, 100_000, size=int(1e6)),\n",
    "    \"value\": [\"\".join(np.random.choice(list(ascii_letters), size=10)) for _ in range(int(1e6))],\n",
    "}\n",
    "\n",
    "d2 = {\n",
    "    \"key\": np.random.randint(0, 100_000, size=int(1e6)),\n",
    "    \"value\": np.random.randint(0, 100_000, size=int(1e6)),\n",
    "}\n"
   ]
  },
  {
   "cell_type": "code",
   "execution_count": 20,
   "metadata": {},
   "outputs": [],
   "source": [
    "df1_pl = pl.DataFrame(d1)\n",
    "df2_pl = pl.DataFrame(d2)\n",
    "\n",
    "df1_pd = df1_pl.to_pandas()\n",
    "df2_pd = df2_pl.to_pandas()"
   ]
  },
  {
   "cell_type": "code",
   "execution_count": 21,
   "metadata": {},
   "outputs": [
    {
     "data": {
      "text/html": [
       "<div><style>\n",
       ".dataframe > thead > tr,\n",
       ".dataframe > tbody > tr {\n",
       "  text-align: right;\n",
       "  white-space: pre-wrap;\n",
       "}\n",
       "</style>\n",
       "<small>shape: (1_000_000, 2)</small><table border=\"1\" class=\"dataframe\"><thead><tr><th>key</th><th>value</th></tr><tr><td>i64</td><td>str</td></tr></thead><tbody><tr><td>9493</td><td>&quot;TyQQVIxHtX&quot;</td></tr><tr><td>47514</td><td>&quot;bfXXiHFOJK&quot;</td></tr><tr><td>79802</td><td>&quot;jkjmZQKBtw&quot;</td></tr><tr><td>13362</td><td>&quot;vDjfYvtDcC&quot;</td></tr><tr><td>7432</td><td>&quot;dmlnkpyddk&quot;</td></tr><tr><td>39820</td><td>&quot;hhTUlaIxod&quot;</td></tr><tr><td>28160</td><td>&quot;lcBCYIsywq&quot;</td></tr><tr><td>95192</td><td>&quot;IVgakEqzBo&quot;</td></tr><tr><td>74181</td><td>&quot;mjcSugDlwi&quot;</td></tr><tr><td>66842</td><td>&quot;CVRQpxEpxw&quot;</td></tr><tr><td>4999</td><td>&quot;byzXLAPUyE&quot;</td></tr><tr><td>35356</td><td>&quot;gJgRJipyrM&quot;</td></tr><tr><td>&hellip;</td><td>&hellip;</td></tr><tr><td>32222</td><td>&quot;fDcWfCnJTf&quot;</td></tr><tr><td>58185</td><td>&quot;GDdrjiAXtl&quot;</td></tr><tr><td>76539</td><td>&quot;jFzqYhTdZU&quot;</td></tr><tr><td>93677</td><td>&quot;HFTSmdGBtp&quot;</td></tr><tr><td>99914</td><td>&quot;tZgieNxCgk&quot;</td></tr><tr><td>58682</td><td>&quot;eovBbRqGkK&quot;</td></tr><tr><td>29407</td><td>&quot;TNBWvTBlZv&quot;</td></tr><tr><td>79358</td><td>&quot;aXJXkUqGWR&quot;</td></tr><tr><td>7125</td><td>&quot;bbvMvGlKRz&quot;</td></tr><tr><td>26377</td><td>&quot;fLKLAvxVKn&quot;</td></tr><tr><td>87913</td><td>&quot;MHxvbVLVOF&quot;</td></tr><tr><td>16460</td><td>&quot;aQIWPZGxmX&quot;</td></tr></tbody></table></div>"
      ],
      "text/plain": [
       "shape: (1_000_000, 2)\n",
       "┌───────┬────────────┐\n",
       "│ key   ┆ value      │\n",
       "│ ---   ┆ ---        │\n",
       "│ i64   ┆ str        │\n",
       "╞═══════╪════════════╡\n",
       "│ 9493  ┆ TyQQVIxHtX │\n",
       "│ 47514 ┆ bfXXiHFOJK │\n",
       "│ 79802 ┆ jkjmZQKBtw │\n",
       "│ 13362 ┆ vDjfYvtDcC │\n",
       "│ 7432  ┆ dmlnkpyddk │\n",
       "│ …     ┆ …          │\n",
       "│ 79358 ┆ aXJXkUqGWR │\n",
       "│ 7125  ┆ bbvMvGlKRz │\n",
       "│ 26377 ┆ fLKLAvxVKn │\n",
       "│ 87913 ┆ MHxvbVLVOF │\n",
       "│ 16460 ┆ aQIWPZGxmX │\n",
       "└───────┴────────────┘"
      ]
     },
     "execution_count": 21,
     "metadata": {},
     "output_type": "execute_result"
    }
   ],
   "source": [
    "df1_pl"
   ]
  },
  {
   "cell_type": "code",
   "execution_count": 22,
   "metadata": {},
   "outputs": [
    {
     "name": "stdout",
     "output_type": "stream",
     "text": [
      "106 ms ± 1.46 ms per loop (mean ± std. dev. of 7 runs, 10 loops each)\n"
     ]
    }
   ],
   "source": [
    "%%timeit\n",
    "set(df1_pd[\"key\"])"
   ]
  },
  {
   "cell_type": "code",
   "execution_count": 23,
   "metadata": {},
   "outputs": [
    {
     "name": "stdout",
     "output_type": "stream",
     "text": [
      "25 ms ± 253 µs per loop (mean ± std. dev. of 7 runs, 10 loops each)\n"
     ]
    }
   ],
   "source": [
    "%%timeit\n",
    "set(df1_pd[\"key\"].unique())"
   ]
  },
  {
   "cell_type": "code",
   "execution_count": 24,
   "metadata": {},
   "outputs": [
    {
     "name": "stdout",
     "output_type": "stream",
     "text": [
      "16.8 ms ± 416 µs per loop (mean ± std. dev. of 7 runs, 100 loops each)\n"
     ]
    }
   ],
   "source": [
    "%%timeit\n",
    "set(df1_pl[\"key\"].unique())"
   ]
  },
  {
   "cell_type": "code",
   "execution_count": 25,
   "metadata": {},
   "outputs": [
    {
     "name": "stdout",
     "output_type": "stream",
     "text": [
      "222 ms ± 40.6 ms per loop (mean ± std. dev. of 7 runs, 1 loop each)\n"
     ]
    }
   ],
   "source": [
    "%%timeit\n",
    "set(df1_pd[\"value\"])"
   ]
  },
  {
   "cell_type": "code",
   "execution_count": 26,
   "metadata": {},
   "outputs": [
    {
     "name": "stdout",
     "output_type": "stream",
     "text": [
      "307 ms ± 998 µs per loop (mean ± std. dev. of 7 runs, 1 loop each)\n"
     ]
    }
   ],
   "source": [
    "%%timeit\n",
    "set(df1_pd[\"value\"].unique())"
   ]
  },
  {
   "cell_type": "code",
   "execution_count": 27,
   "metadata": {},
   "outputs": [
    {
     "name": "stdout",
     "output_type": "stream",
     "text": [
      "377 ms ± 2.47 ms per loop (mean ± std. dev. of 7 runs, 1 loop each)\n"
     ]
    }
   ],
   "source": [
    "%%timeit\n",
    "set(df1_pl[\"value\"].unique())"
   ]
  },
  {
   "cell_type": "code",
   "execution_count": 28,
   "metadata": {},
   "outputs": [
    {
     "data": {
      "text/plain": [
       "1000000"
      ]
     },
     "execution_count": 28,
     "metadata": {},
     "output_type": "execute_result"
    }
   ],
   "source": [
    "len(set(df1_pd[\"value\"]))"
   ]
  },
  {
   "cell_type": "code",
   "execution_count": 43,
   "metadata": {},
   "outputs": [],
   "source": [
    "df_nulled = df1_pl.with_columns(\n",
    "    pl.when(pl.col(\"value\").str.contains(r\"[Abcdefghijk]\")).then(pl.lit(None)).otherwise(pl.col(\"value\")).alias(\"value_null\")\n",
    ")"
   ]
  },
  {
   "cell_type": "code",
   "execution_count": 45,
   "metadata": {},
   "outputs": [],
   "source": [
    "df_nulled_pd = df_nulled.to_pandas()"
   ]
  },
  {
   "cell_type": "code",
   "execution_count": 46,
   "metadata": {},
   "outputs": [
    {
     "name": "stdout",
     "output_type": "stream",
     "text": [
      "68 ms ± 8.43 ms per loop (mean ± std. dev. of 7 runs, 10 loops each)\n"
     ]
    }
   ],
   "source": [
    "%%timeit\n",
    "set(df_nulled_pd[\"value_null\"])"
   ]
  },
  {
   "cell_type": "code",
   "execution_count": 47,
   "metadata": {},
   "outputs": [
    {
     "name": "stdout",
     "output_type": "stream",
     "text": [
      "49.3 ms ± 680 µs per loop (mean ± std. dev. of 7 runs, 10 loops each)\n"
     ]
    }
   ],
   "source": [
    "%%timeit\n",
    "set(df_nulled_pd[\"value_null\"].unique())"
   ]
  },
  {
   "cell_type": "code",
   "execution_count": 48,
   "metadata": {},
   "outputs": [
    {
     "name": "stdout",
     "output_type": "stream",
     "text": [
      "41.8 ms ± 566 µs per loop (mean ± std. dev. of 7 runs, 10 loops each)\n"
     ]
    }
   ],
   "source": [
    "%%timeit\n",
    "set(df_nulled[\"value_null\"].unique())"
   ]
  },
  {
   "cell_type": "code",
   "execution_count": null,
   "metadata": {},
   "outputs": [],
   "source": []
  }
 ],
 "metadata": {
  "kernelspec": {
   "display_name": "Python 3",
   "language": "python",
   "name": "python3"
  },
  "language_info": {
   "codemirror_mode": {
    "name": "ipython",
    "version": 3
   },
   "file_extension": ".py",
   "mimetype": "text/x-python",
   "name": "python",
   "nbconvert_exporter": "python",
   "pygments_lexer": "ipython3",
   "version": "3.1.undefined"
  }
 },
 "nbformat": 4,
 "nbformat_minor": 2
}
