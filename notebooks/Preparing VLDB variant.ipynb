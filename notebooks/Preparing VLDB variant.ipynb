{
 "cells": [
  {
   "cell_type": "code",
   "execution_count": 1,
   "metadata": {},
   "outputs": [
    {
     "name": "stdout",
     "output_type": "stream",
     "text": [
      "/home/soda/rcappuzz/work/prepare-data-lakes\n"
     ]
    }
   ],
   "source": [
    "%cd /home/soda/rcappuzz/work/prepare-data-lakes"
   ]
  },
  {
   "cell_type": "code",
   "execution_count": 2,
   "metadata": {},
   "outputs": [],
   "source": [
    "%load_ext autoreload\n",
    "%autoreload 2\n"
   ]
  },
  {
   "cell_type": "code",
   "execution_count": 3,
   "metadata": {},
   "outputs": [],
   "source": [
    "import re\n",
    "from pathlib import Path\n",
    "\n",
    "import matplotlib.pyplot as plt\n",
    "import networkx as nx\n",
    "import numpy as np\n",
    "import pandas as pd\n",
    "import polars as pl\n",
    "import seaborn as sns\n",
    "from tqdm import tqdm\n",
    "import os\n",
    "import polars.selectors as cs\n",
    "import random\n",
    "\n",
    "from sklearn.utils import murmurhash3_32\n",
    "\n",
    "from src import utils\n",
    "\n",
    "sns.set_theme(\"paper\", style=\"whitegrid\")"
   ]
  },
  {
   "cell_type": "code",
   "execution_count": 4,
   "metadata": {},
   "outputs": [
    {
     "data": {
      "text/plain": [
       "polars.config.Config"
      ]
     },
     "execution_count": 4,
     "metadata": {},
     "output_type": "execute_result"
    }
   ],
   "source": [
    "cfg = pl.Config()\n",
    "cfg.set_fmt_str_lengths(150)"
   ]
  },
  {
   "cell_type": "code",
   "execution_count": 5,
   "metadata": {},
   "outputs": [],
   "source": [
    "yago_path = Path(\"/storage/store3/work/jstojano/yago3/\")\n",
    "facts1_path = Path(yago_path, \"facts_parquet/yago_updated_2022_part1\")\n",
    "facts2_path = Path(yago_path, \"facts_parquet/yago_updated_2022_part2\")\n",
    "fname = \"yagoTypes\"\n",
    "yagotypes_path = Path(facts1_path, f\"{fname}.tsv.parquet\")\n",
    "df_types = utils.import_from_yago(yagotypes_path)\n",
    "fname = \"yagoFacts\"\n",
    "yagofacts_path = Path(facts2_path, f\"{fname}.tsv.parquet\")\n",
    "yagofacts = utils.import_from_yago(yagofacts_path)\n",
    "fname = \"yagoLiteralFacts\"\n",
    "yagoliteralfacts_path = Path(facts2_path, f\"{fname}.tsv.parquet\")\n",
    "yagoliteralfacts = utils.import_from_yago(yagoliteralfacts_path)\n",
    "fname = \"yagoDateFacts\"\n",
    "yagodatefacts_path = Path(facts2_path, f\"{fname}.tsv.parquet\")\n",
    "yagodatefacts = utils.import_from_yago(yagodatefacts_path)\n",
    "yagofacts = yagofacts.drop(\"num_object\")\n",
    "yagodatefacts = (\n",
    "    yagodatefacts.with_columns(\n",
    "        pl.col(\"cat_object\")\n",
    "        .str.split(\"^^\")\n",
    "        .list.first()\n",
    "        .str.to_datetime(strict=False)\n",
    "        .dt.date()\n",
    "        .cast(pl.Utf8)\n",
    "        .alias(\"cat_object\")\n",
    "    )\n",
    "    .drop_nulls(\"cat_object\")\n",
    "    .drop(\"num_object\")\n",
    ")\n",
    "yagoliteralfacts = yagoliteralfacts.with_columns(\n",
    "    pl.when(pl.col(\"num_object\").is_not_null())\n",
    "    .then(pl.col(\"num_object\"))\n",
    "    .otherwise(pl.col(\"cat_object\"))\n",
    "    .alias(\"cat_object\")\n",
    ").drop(\"num_object\")\n",
    "df_facts = pl.concat([yagofacts, yagoliteralfacts, yagodatefacts]).drop(\"id\")"
   ]
  },
  {
   "cell_type": "code",
   "execution_count": 6,
   "metadata": {},
   "outputs": [],
   "source": [
    "wikilabels_path = Path(\n",
    "    yago_path, \"facts_parquet/yago_updated_2022_part2/wikipediaLabels.tsv.parquet\"\n",
    ")\n",
    "wikipedia_labels = utils.import_from_yago(wikilabels_path)"
   ]
  },
  {
   "cell_type": "code",
   "execution_count": 7,
   "metadata": {},
   "outputs": [
    {
     "data": {
      "text/html": [
       "<div><style>\n",
       ".dataframe > thead > tr,\n",
       ".dataframe > tbody > tr {\n",
       "  text-align: right;\n",
       "  white-space: pre-wrap;\n",
       "}\n",
       "</style>\n",
       "<small>shape: (0, 5)</small><table border=\"1\" class=\"dataframe\"><thead><tr><th>id</th><th>subject</th><th>predicate</th><th>cat_object</th><th>num_object</th></tr><tr><td>str</td><td>str</td><td>str</td><td>str</td><td>f64</td></tr></thead><tbody></tbody></table></div>"
      ],
      "text/plain": [
       "shape: (0, 5)\n",
       "┌─────┬─────────┬───────────┬────────────┬────────────┐\n",
       "│ id  ┆ subject ┆ predicate ┆ cat_object ┆ num_object │\n",
       "│ --- ┆ ---     ┆ ---       ┆ ---        ┆ ---        │\n",
       "│ str ┆ str     ┆ str       ┆ str        ┆ f64        │\n",
       "╞═════╪═════════╪═══════════╪════════════╪════════════╡\n",
       "└─────┴─────────┴───────────┴────────────┴────────────┘"
      ]
     },
     "execution_count": 7,
     "metadata": {},
     "output_type": "execute_result"
    }
   ],
   "source": [
    "wikipedia_labels.filter(~pl.col(\"cat_object\").str.ends_with(\"eng\"))"
   ]
  },
  {
   "cell_type": "code",
   "execution_count": 8,
   "metadata": {},
   "outputs": [
    {
     "name": "stdout",
     "output_type": "stream",
     "text": [
      "mappedGeonamesData.tsv\n"
     ]
    },
    {
     "data": {
      "text/html": [
       "<div><style>\n",
       ".dataframe > thead > tr,\n",
       ".dataframe > tbody > tr {\n",
       "  text-align: right;\n",
       "  white-space: pre-wrap;\n",
       "}\n",
       "</style>\n",
       "<small>shape: (598, 5)</small><table border=\"1\" class=\"dataframe\"><thead><tr><th>id</th><th>subject</th><th>predicate</th><th>cat_object</th><th>num_object</th></tr><tr><td>str</td><td>str</td><td>str</td><td>str</td><td>f64</td></tr></thead><tbody><tr><td>null</td><td>&quot;&lt;Andorra&gt;&quot;</td><td>&quot;&lt;hasNeighbor&gt;&quot;</td><td>&quot;&lt;Spain&gt;&quot;</td><td>null</td></tr><tr><td>null</td><td>&quot;&lt;Andorra&gt;&quot;</td><td>&quot;&lt;hasNeighbor&gt;&quot;</td><td>&quot;&lt;Saint_Barthélemy&gt;&quot;</td><td>null</td></tr><tr><td>null</td><td>&quot;&lt;United_Arab_Emirates&gt;&quot;</td><td>&quot;&lt;hasNeighbor&gt;&quot;</td><td>&quot;&lt;Saudi_Arabia&gt;&quot;</td><td>null</td></tr><tr><td>null</td><td>&quot;&lt;United_Arab_Emirates&gt;&quot;</td><td>&quot;&lt;hasNeighbor&gt;&quot;</td><td>&quot;&lt;Oman&gt;&quot;</td><td>null</td></tr><tr><td>null</td><td>&quot;&lt;Islamic_Republic_of_Afghanistan&gt;&quot;</td><td>&quot;&lt;hasNeighbor&gt;&quot;</td><td>&quot;&lt;Turkmenistan&gt;&quot;</td><td>null</td></tr><tr><td>null</td><td>&quot;&lt;Islamic_Republic_of_Afghanistan&gt;&quot;</td><td>&quot;&lt;hasNeighbor&gt;&quot;</td><td>&quot;&lt;Mainland_China&gt;&quot;</td><td>null</td></tr><tr><td>null</td><td>&quot;&lt;Islamic_Republic_of_Afghanistan&gt;&quot;</td><td>&quot;&lt;hasNeighbor&gt;&quot;</td><td>&quot;&lt;Iran&gt;&quot;</td><td>null</td></tr><tr><td>null</td><td>&quot;&lt;Islamic_Republic_of_Afghanistan&gt;&quot;</td><td>&quot;&lt;hasNeighbor&gt;&quot;</td><td>&quot;&lt;Tajikistan&gt;&quot;</td><td>null</td></tr><tr><td>null</td><td>&quot;&lt;Islamic_Republic_of_Afghanistan&gt;&quot;</td><td>&quot;&lt;hasNeighbor&gt;&quot;</td><td>&quot;&lt;Pakistan&gt;&quot;</td><td>null</td></tr><tr><td>null</td><td>&quot;&lt;Islamic_Republic_of_Afghanistan&gt;&quot;</td><td>&quot;&lt;hasNeighbor&gt;&quot;</td><td>&quot;&lt;Uzbekistan&gt;&quot;</td><td>null</td></tr><tr><td>null</td><td>&quot;&lt;Albania&gt;&quot;</td><td>&quot;&lt;hasNeighbor&gt;&quot;</td><td>&quot;&lt;North_Macedonia&gt;&quot;</td><td>null</td></tr><tr><td>null</td><td>&quot;&lt;Albania&gt;&quot;</td><td>&quot;&lt;hasNeighbor&gt;&quot;</td><td>&quot;&lt;Third_Hellenic_Republic&gt;&quot;</td><td>null</td></tr><tr><td>&hellip;</td><td>&hellip;</td><td>&hellip;</td><td>&hellip;</td><td>&hellip;</td></tr><tr><td>null</td><td>&quot;&lt;Zambia&gt;&quot;</td><td>&quot;&lt;hasNeighbor&gt;&quot;</td><td>&quot;&lt;Angola&gt;&quot;</td><td>null</td></tr><tr><td>null</td><td>&quot;&lt;Zimbabwe&gt;&quot;</td><td>&quot;&lt;hasNeighbor&gt;&quot;</td><td>&quot;&lt;South_Africa&gt;&quot;</td><td>null</td></tr><tr><td>null</td><td>&quot;&lt;Zimbabwe&gt;&quot;</td><td>&quot;&lt;hasNeighbor&gt;&quot;</td><td>&quot;&lt;Mozambique&gt;&quot;</td><td>null</td></tr><tr><td>null</td><td>&quot;&lt;Zimbabwe&gt;&quot;</td><td>&quot;&lt;hasNeighbor&gt;&quot;</td><td>&quot;&lt;Botswana&gt;&quot;</td><td>null</td></tr><tr><td>null</td><td>&quot;&lt;Zimbabwe&gt;&quot;</td><td>&quot;&lt;hasNeighbor&gt;&quot;</td><td>&quot;&lt;Zambia&gt;&quot;</td><td>null</td></tr><tr><td>null</td><td>&quot;&lt;Czechoslovak_Socialist_Republic&gt;&quot;</td><td>&quot;&lt;hasNeighbor&gt;&quot;</td><td>&quot;&lt;Albania&gt;&quot;</td><td>null</td></tr><tr><td>null</td><td>&quot;&lt;Czechoslovak_Socialist_Republic&gt;&quot;</td><td>&quot;&lt;hasNeighbor&gt;&quot;</td><td>&quot;&lt;Hungary&gt;&quot;</td><td>null</td></tr><tr><td>null</td><td>&quot;&lt;Czechoslovak_Socialist_Republic&gt;&quot;</td><td>&quot;&lt;hasNeighbor&gt;&quot;</td><td>&quot;&lt;North_Macedonia&gt;&quot;</td><td>null</td></tr><tr><td>null</td><td>&quot;&lt;Czechoslovak_Socialist_Republic&gt;&quot;</td><td>&quot;&lt;hasNeighbor&gt;&quot;</td><td>&quot;&lt;Romania&gt;&quot;</td><td>null</td></tr><tr><td>null</td><td>&quot;&lt;Czechoslovak_Socialist_Republic&gt;&quot;</td><td>&quot;&lt;hasNeighbor&gt;&quot;</td><td>&quot;&lt;Croatia&gt;&quot;</td><td>null</td></tr><tr><td>null</td><td>&quot;&lt;Czechoslovak_Socialist_Republic&gt;&quot;</td><td>&quot;&lt;hasNeighbor&gt;&quot;</td><td>&quot;&lt;Zhedna&gt;&quot;</td><td>null</td></tr><tr><td>null</td><td>&quot;&lt;Netherlands_Antilles&gt;&quot;</td><td>&quot;&lt;hasNeighbor&gt;&quot;</td><td>&quot;&lt;Îles_des_Saintes&gt;&quot;</td><td>null</td></tr></tbody></table></div>"
      ],
      "text/plain": [
       "shape: (598, 5)\n",
       "┌──────┬───────────────────────────────────┬───────────────┬────────────────────┬────────────┐\n",
       "│ id   ┆ subject                           ┆ predicate     ┆ cat_object         ┆ num_object │\n",
       "│ ---  ┆ ---                               ┆ ---           ┆ ---                ┆ ---        │\n",
       "│ str  ┆ str                               ┆ str           ┆ str                ┆ f64        │\n",
       "╞══════╪═══════════════════════════════════╪═══════════════╪════════════════════╪════════════╡\n",
       "│ null ┆ <Andorra>                         ┆ <hasNeighbor> ┆ <Spain>            ┆ null       │\n",
       "│ null ┆ <Andorra>                         ┆ <hasNeighbor> ┆ <Saint_Barthélemy> ┆ null       │\n",
       "│ null ┆ <United_Arab_Emirates>            ┆ <hasNeighbor> ┆ <Saudi_Arabia>     ┆ null       │\n",
       "│ null ┆ <United_Arab_Emirates>            ┆ <hasNeighbor> ┆ <Oman>             ┆ null       │\n",
       "│ null ┆ <Islamic_Republic_of_Afghanistan> ┆ <hasNeighbor> ┆ <Turkmenistan>     ┆ null       │\n",
       "│ …    ┆ …                                 ┆ …             ┆ …                  ┆ …          │\n",
       "│ null ┆ <Czechoslovak_Socialist_Republic> ┆ <hasNeighbor> ┆ <North_Macedonia>  ┆ null       │\n",
       "│ null ┆ <Czechoslovak_Socialist_Republic> ┆ <hasNeighbor> ┆ <Romania>          ┆ null       │\n",
       "│ null ┆ <Czechoslovak_Socialist_Republic> ┆ <hasNeighbor> ┆ <Croatia>          ┆ null       │\n",
       "│ null ┆ <Czechoslovak_Socialist_Republic> ┆ <hasNeighbor> ┆ <Zhedna>           ┆ null       │\n",
       "│ null ┆ <Netherlands_Antilles>            ┆ <hasNeighbor> ┆ <Îles_des_Saintes> ┆ null       │\n",
       "└──────┴───────────────────────────────────┴───────────────┴────────────────────┴────────────┘"
      ]
     },
     "metadata": {},
     "output_type": "display_data"
    },
    {
     "name": "stdout",
     "output_type": "stream",
     "text": [
      "mappedGeonamesSources.tsv\n"
     ]
    },
    {
     "data": {
      "text/html": [
       "<div><style>\n",
       ".dataframe > thead > tr,\n",
       ".dataframe > tbody > tr {\n",
       "  text-align: right;\n",
       "  white-space: pre-wrap;\n",
       "}\n",
       "</style>\n",
       "<small>shape: (598, 5)</small><table border=\"1\" class=\"dataframe\"><thead><tr><th>id</th><th>subject</th><th>predicate</th><th>cat_object</th><th>num_object</th></tr><tr><td>str</td><td>str</td><td>str</td><td>str</td><td>f64</td></tr></thead><tbody><tr><td>null</td><td>&quot;&lt;id_?MI25va2AL_w!U_AqwMF9CUpz&gt;&quot;</td><td>&quot;&lt;extractionSource&gt;&quot;</td><td>&quot;http://geonames.org&quot;</td><td>null</td></tr><tr><td>null</td><td>&quot;&lt;id_?MI25va2AL_w!U_nKuqN2rIYS&gt;&quot;</td><td>&quot;&lt;extractionSource&gt;&quot;</td><td>&quot;http://geonames.org&quot;</td><td>null</td></tr><tr><td>null</td><td>&quot;&lt;id_OafBfbdhRk_w!U_p4CMB4JvPu&gt;&quot;</td><td>&quot;&lt;extractionSource&gt;&quot;</td><td>&quot;http://geonames.org&quot;</td><td>null</td></tr><tr><td>null</td><td>&quot;&lt;id_OafBfbdhRk_w!U_H3zOwfFy0!&gt;&quot;</td><td>&quot;&lt;extractionSource&gt;&quot;</td><td>&quot;http://geonames.org&quot;</td><td>null</td></tr><tr><td>null</td><td>&quot;&lt;id_WWcsGpC60A_w!U_d3v2ih6jEO&gt;&quot;</td><td>&quot;&lt;extractionSource&gt;&quot;</td><td>&quot;http://geonames.org&quot;</td><td>null</td></tr><tr><td>null</td><td>&quot;&lt;id_WWcsGpC60A_w!U_!8xZU!sh5p&gt;&quot;</td><td>&quot;&lt;extractionSource&gt;&quot;</td><td>&quot;http://geonames.org&quot;</td><td>null</td></tr><tr><td>null</td><td>&quot;&lt;id_WWcsGpC60A_w!U_rgH!TB0SAr&gt;&quot;</td><td>&quot;&lt;extractionSource&gt;&quot;</td><td>&quot;http://geonames.org&quot;</td><td>null</td></tr><tr><td>null</td><td>&quot;&lt;id_WWcsGpC60A_w!U_b7G9BUzW!9&gt;&quot;</td><td>&quot;&lt;extractionSource&gt;&quot;</td><td>&quot;http://geonames.org&quot;</td><td>null</td></tr><tr><td>null</td><td>&quot;&lt;id_WWcsGpC60A_w!U_e1sXEoR8Q2&gt;&quot;</td><td>&quot;&lt;extractionSource&gt;&quot;</td><td>&quot;http://geonames.org&quot;</td><td>null</td></tr><tr><td>null</td><td>&quot;&lt;id_WWcsGpC60A_w!U_2WvjdHIVdx&gt;&quot;</td><td>&quot;&lt;extractionSource&gt;&quot;</td><td>&quot;http://geonames.org&quot;</td><td>null</td></tr><tr><td>null</td><td>&quot;&lt;id_4?oxYHI17E_w!U_3wtwSQ!TTl&gt;&quot;</td><td>&quot;&lt;extractionSource&gt;&quot;</td><td>&quot;http://geonames.org&quot;</td><td>null</td></tr><tr><td>null</td><td>&quot;&lt;id_4?oxYHI17E_w!U_yS!Ml2!sr7&gt;&quot;</td><td>&quot;&lt;extractionSource&gt;&quot;</td><td>&quot;http://geonames.org&quot;</td><td>null</td></tr><tr><td>&hellip;</td><td>&hellip;</td><td>&hellip;</td><td>&hellip;</td><td>&hellip;</td></tr><tr><td>null</td><td>&quot;&lt;id_UyHgP8CPsL_w!U_o3PcgJO3ct&gt;&quot;</td><td>&quot;&lt;extractionSource&gt;&quot;</td><td>&quot;http://geonames.org&quot;</td><td>null</td></tr><tr><td>null</td><td>&quot;&lt;id_jG9Lwzh5uQ_w!U_Kjpv1SRrR&gt;&quot;</td><td>&quot;&lt;extractionSource&gt;&quot;</td><td>&quot;http://geonames.org&quot;</td><td>null</td></tr><tr><td>null</td><td>&quot;&lt;id_jG9Lwzh5uQ_w!U_eVo7q0fTuL&gt;&quot;</td><td>&quot;&lt;extractionSource&gt;&quot;</td><td>&quot;http://geonames.org&quot;</td><td>null</td></tr><tr><td>null</td><td>&quot;&lt;id_jG9Lwzh5uQ_w!U_LP1PjzZQBa&gt;&quot;</td><td>&quot;&lt;extractionSource&gt;&quot;</td><td>&quot;http://geonames.org&quot;</td><td>null</td></tr><tr><td>null</td><td>&quot;&lt;id_jG9Lwzh5uQ_w!U_UyHgP8CPsL&gt;&quot;</td><td>&quot;&lt;extractionSource&gt;&quot;</td><td>&quot;http://geonames.org&quot;</td><td>null</td></tr><tr><td>null</td><td>&quot;&lt;id_e0kHwxuD7f_w!U_4?oxYHI17E&gt;&quot;</td><td>&quot;&lt;extractionSource&gt;&quot;</td><td>&quot;http://geonames.org&quot;</td><td>null</td></tr><tr><td>null</td><td>&quot;&lt;id_e0kHwxuD7f_w!U_MqNEPA4Gsq&gt;&quot;</td><td>&quot;&lt;extractionSource&gt;&quot;</td><td>&quot;http://geonames.org&quot;</td><td>null</td></tr><tr><td>null</td><td>&quot;&lt;id_e0kHwxuD7f_w!U_3wtwSQ!TTl&gt;&quot;</td><td>&quot;&lt;extractionSource&gt;&quot;</td><td>&quot;http://geonames.org&quot;</td><td>null</td></tr><tr><td>null</td><td>&quot;&lt;id_e0kHwxuD7f_w!U_O74?kAdoA3&gt;&quot;</td><td>&quot;&lt;extractionSource&gt;&quot;</td><td>&quot;http://geonames.org&quot;</td><td>null</td></tr><tr><td>null</td><td>&quot;&lt;id_e0kHwxuD7f_w!U_YGCxbYwJ9F&gt;&quot;</td><td>&quot;&lt;extractionSource&gt;&quot;</td><td>&quot;http://geonames.org&quot;</td><td>null</td></tr><tr><td>null</td><td>&quot;&lt;id_e0kHwxuD7f_w!U_2ukpSb1!IB&gt;&quot;</td><td>&quot;&lt;extractionSource&gt;&quot;</td><td>&quot;http://geonames.org&quot;</td><td>null</td></tr><tr><td>null</td><td>&quot;&lt;id_ixrm9ycYcE_w!U_yGxLcvbePS&gt;&quot;</td><td>&quot;&lt;extractionSource&gt;&quot;</td><td>&quot;http://geonames.org&quot;</td><td>null</td></tr></tbody></table></div>"
      ],
      "text/plain": [
       "shape: (598, 5)\n",
       "┌──────┬────────────────────────────────┬────────────────────┬─────────────────────┬────────────┐\n",
       "│ id   ┆ subject                        ┆ predicate          ┆ cat_object          ┆ num_object │\n",
       "│ ---  ┆ ---                            ┆ ---                ┆ ---                 ┆ ---        │\n",
       "│ str  ┆ str                            ┆ str                ┆ str                 ┆ f64        │\n",
       "╞══════╪════════════════════════════════╪════════════════════╪═════════════════════╪════════════╡\n",
       "│ null ┆ <id_?MI25va2AL_w!U_AqwMF9CUpz> ┆ <extractionSource> ┆ http://geonames.org ┆ null       │\n",
       "│ null ┆ <id_?MI25va2AL_w!U_nKuqN2rIYS> ┆ <extractionSource> ┆ http://geonames.org ┆ null       │\n",
       "│ null ┆ <id_OafBfbdhRk_w!U_p4CMB4JvPu> ┆ <extractionSource> ┆ http://geonames.org ┆ null       │\n",
       "│ null ┆ <id_OafBfbdhRk_w!U_H3zOwfFy0!> ┆ <extractionSource> ┆ http://geonames.org ┆ null       │\n",
       "│ null ┆ <id_WWcsGpC60A_w!U_d3v2ih6jEO> ┆ <extractionSource> ┆ http://geonames.org ┆ null       │\n",
       "│ …    ┆ …                              ┆ …                  ┆ …                   ┆ …          │\n",
       "│ null ┆ <id_e0kHwxuD7f_w!U_3wtwSQ!TTl> ┆ <extractionSource> ┆ http://geonames.org ┆ null       │\n",
       "│ null ┆ <id_e0kHwxuD7f_w!U_O74?kAdoA3> ┆ <extractionSource> ┆ http://geonames.org ┆ null       │\n",
       "│ null ┆ <id_e0kHwxuD7f_w!U_YGCxbYwJ9F> ┆ <extractionSource> ┆ http://geonames.org ┆ null       │\n",
       "│ null ┆ <id_e0kHwxuD7f_w!U_2ukpSb1!IB> ┆ <extractionSource> ┆ http://geonames.org ┆ null       │\n",
       "│ null ┆ <id_ixrm9ycYcE_w!U_yGxLcvbePS> ┆ <extractionSource> ┆ http://geonames.org ┆ null       │\n",
       "└──────┴────────────────────────────────┴────────────────────┴─────────────────────┴────────────┘"
      ]
     },
     "metadata": {},
     "output_type": "display_data"
    },
    {
     "name": "stdout",
     "output_type": "stream",
     "text": [
      "matchedAttributes_en.tsv\n"
     ]
    },
    {
     "data": {
      "text/html": [
       "<div><style>\n",
       ".dataframe > thead > tr,\n",
       ".dataframe > tbody > tr {\n",
       "  text-align: right;\n",
       "  white-space: pre-wrap;\n",
       "}\n",
       "</style>\n",
       "<small>shape: (541, 5)</small><table border=\"1\" class=\"dataframe\"><thead><tr><th>id</th><th>subject</th><th>predicate</th><th>cat_object</th><th>num_object</th></tr><tr><td>str</td><td>str</td><td>str</td><td>str</td><td>f64</td></tr></thead><tbody><tr><td>null</td><td>&quot;&lt;infobox/en/mo&gt;&quot;</td><td>&quot;&lt;_infoboxPattern&gt;&quot;</td><td>&quot;rdfs:label&quot;</td><td>null</td></tr><tr><td>null</td><td>&quot;&lt;infobox/en/tvstations&gt;&quot;</td><td>&quot;&lt;_infoboxPattern&gt;&quot;</td><td>&quot;&lt;owns&gt;&quot;</td><td>null</td></tr><tr><td>null</td><td>&quot;&lt;infobox/en/nombrecastellano&gt;&quot;</td><td>&quot;&lt;_infoboxPattern&gt;&quot;</td><td>&quot;rdfs:label&quot;</td><td>null</td></tr><tr><td>null</td><td>&quot;&lt;infobox/en/racename&gt;&quot;</td><td>&quot;&lt;_infoboxPattern&gt;&quot;</td><td>&quot;rdfs:label&quot;</td><td>null</td></tr><tr><td>null</td><td>&quot;&lt;infobox/en/placeofburial&gt;&quot;</td><td>&quot;&lt;_infoboxPattern&gt;&quot;</td><td>&quot;&lt;diedIn&gt;&quot;</td><td>null</td></tr><tr><td>null</td><td>&quot;&lt;infobox/en/iocnation&gt;&quot;</td><td>&quot;&lt;_infoboxPattern&gt;&quot;</td><td>&quot;&lt;isLocatedIn&gt;&quot;</td><td>null</td></tr><tr><td>null</td><td>&quot;&lt;infobox/en/website&gt;&quot;</td><td>&quot;&lt;_infoboxPattern&gt;&quot;</td><td>&quot;&lt;hasWebsite&gt;&quot;</td><td>null</td></tr><tr><td>null</td><td>&quot;&lt;infobox/en/suboffice&gt;&quot;</td><td>&quot;&lt;_infoboxPattern&gt;&quot;</td><td>&quot;&lt;isAffiliatedTo&gt;&quot;</td><td>null</td></tr><tr><td>null</td><td>&quot;&lt;infobox/en/dependencyof&gt;&quot;</td><td>&quot;&lt;_infoboxPattern&gt;&quot;</td><td>&quot;&lt;isLocatedIn&gt;&quot;</td><td>null</td></tr><tr><td>null</td><td>&quot;&lt;infobox/en/basincountries&gt;&quot;</td><td>&quot;&lt;_infoboxPattern&gt;&quot;</td><td>&quot;&lt;isLocatedIn&gt;&quot;</td><td>null</td></tr><tr><td>null</td><td>&quot;&lt;infobox/en/cyearscteam&gt;&quot;</td><td>&quot;&lt;_infoboxPattern&gt;&quot;</td><td>&quot;&lt;isAffiliatedTo&gt;&quot;</td><td>null</td></tr><tr><td>null</td><td>&quot;&lt;infobox/en/webpages&gt;&quot;</td><td>&quot;&lt;_infoboxPattern&gt;&quot;</td><td>&quot;&lt;hasWebsite&gt;&quot;</td><td>null</td></tr><tr><td>&hellip;</td><td>&hellip;</td><td>&hellip;</td><td>&hellip;</td><td>&hellip;</td></tr><tr><td>null</td><td>&quot;&lt;infobox/en/t&gt;&quot;</td><td>&quot;&lt;_infoboxPattern&gt;&quot;</td><td>&quot;rdfs:label&quot;</td><td>null</td></tr><tr><td>null</td><td>&quot;&lt;infobox/en/s&gt;&quot;</td><td>&quot;&lt;_infoboxPattern&gt;&quot;</td><td>&quot;rdfs:label&quot;</td><td>null</td></tr><tr><td>null</td><td>&quot;&lt;infobox/en/headquartered&gt;&quot;</td><td>&quot;&lt;_infoboxPattern&gt;&quot;</td><td>&quot;&lt;isLocatedIn&gt;&quot;</td><td>null</td></tr><tr><td>null</td><td>&quot;&lt;infobox/en/c&gt;&quot;</td><td>&quot;&lt;_infoboxPattern&gt;&quot;</td><td>&quot;rdfs:label&quot;</td><td>null</td></tr><tr><td>null</td><td>&quot;&lt;infobox/en/localisation&gt;&quot;</td><td>&quot;&lt;_infoboxPattern&gt;&quot;</td><td>&quot;&lt;isLocatedIn&gt;&quot;</td><td>null</td></tr><tr><td>null</td><td>&quot;&lt;infobox/en/lastwodihome&gt;&quot;</td><td>&quot;&lt;_infoboxPattern&gt;&quot;</td><td>&quot;&lt;isLocatedIn&gt;&quot;</td><td>null</td></tr><tr><td>null</td><td>&quot;&lt;infobox/en/mapcap&gt;&quot;</td><td>&quot;&lt;_infoboxPattern&gt;&quot;</td><td>&quot;&lt;isLocatedIn&gt;&quot;</td><td>null</td></tr><tr><td>null</td><td>&quot;&lt;infobox/en/recordlocation&gt;&quot;</td><td>&quot;&lt;_infoboxPattern&gt;&quot;</td><td>&quot;&lt;isLocatedIn&gt;&quot;</td><td>null</td></tr><tr><td>null</td><td>&quot;&lt;infobox/en/designationpartof&gt;&quot;</td><td>&quot;&lt;_infoboxPattern&gt;&quot;</td><td>&quot;&lt;isLocatedIn&gt;&quot;</td><td>null</td></tr><tr><td>null</td><td>&quot;&lt;infobox/en/changes&gt;&quot;</td><td>&quot;&lt;_infoboxPattern&gt;&quot;</td><td>&quot;&lt;happenedIn&gt;&quot;</td><td>null</td></tr><tr><td>null</td><td>&quot;&lt;infobox/en/lugarnac&gt;&quot;</td><td>&quot;&lt;_infoboxPattern&gt;&quot;</td><td>&quot;&lt;wasBornIn&gt;&quot;</td><td>null</td></tr><tr><td>null</td><td>&quot;&lt;infobox/en/nationalmotto&gt;&quot;</td><td>&quot;&lt;_infoboxPattern&gt;&quot;</td><td>&quot;&lt;hasMotto&gt;&quot;</td><td>null</td></tr></tbody></table></div>"
      ],
      "text/plain": [
       "shape: (541, 5)\n",
       "┌──────┬────────────────────────────────┬───────────────────┬───────────────┬────────────┐\n",
       "│ id   ┆ subject                        ┆ predicate         ┆ cat_object    ┆ num_object │\n",
       "│ ---  ┆ ---                            ┆ ---               ┆ ---           ┆ ---        │\n",
       "│ str  ┆ str                            ┆ str               ┆ str           ┆ f64        │\n",
       "╞══════╪════════════════════════════════╪═══════════════════╪═══════════════╪════════════╡\n",
       "│ null ┆ <infobox/en/mo>                ┆ <_infoboxPattern> ┆ rdfs:label    ┆ null       │\n",
       "│ null ┆ <infobox/en/tvstations>        ┆ <_infoboxPattern> ┆ <owns>        ┆ null       │\n",
       "│ null ┆ <infobox/en/nombrecastellano>  ┆ <_infoboxPattern> ┆ rdfs:label    ┆ null       │\n",
       "│ null ┆ <infobox/en/racename>          ┆ <_infoboxPattern> ┆ rdfs:label    ┆ null       │\n",
       "│ null ┆ <infobox/en/placeofburial>     ┆ <_infoboxPattern> ┆ <diedIn>      ┆ null       │\n",
       "│ …    ┆ …                              ┆ …                 ┆ …             ┆ …          │\n",
       "│ null ┆ <infobox/en/recordlocation>    ┆ <_infoboxPattern> ┆ <isLocatedIn> ┆ null       │\n",
       "│ null ┆ <infobox/en/designationpartof> ┆ <_infoboxPattern> ┆ <isLocatedIn> ┆ null       │\n",
       "│ null ┆ <infobox/en/changes>           ┆ <_infoboxPattern> ┆ <happenedIn>  ┆ null       │\n",
       "│ null ┆ <infobox/en/lugarnac>          ┆ <_infoboxPattern> ┆ <wasBornIn>   ┆ null       │\n",
       "│ null ┆ <infobox/en/nationalmotto>     ┆ <_infoboxPattern> ┆ <hasMotto>    ┆ null       │\n",
       "└──────┴────────────────────────────────┴───────────────────┴───────────────┴────────────┘"
      ]
     },
     "metadata": {},
     "output_type": "display_data"
    },
    {
     "name": "stdout",
     "output_type": "stream",
     "text": [
      "matchedAttributes_fr.tsv\n"
     ]
    },
    {
     "data": {
      "text/html": [
       "<div><style>\n",
       ".dataframe > thead > tr,\n",
       ".dataframe > tbody > tr {\n",
       "  text-align: right;\n",
       "  white-space: pre-wrap;\n",
       "}\n",
       "</style>\n",
       "<small>shape: (439, 5)</small><table border=\"1\" class=\"dataframe\"><thead><tr><th>id</th><th>subject</th><th>predicate</th><th>cat_object</th><th>num_object</th></tr><tr><td>str</td><td>str</td><td>str</td><td>str</td><td>f64</td></tr></thead><tbody><tr><td>null</td><td>&quot;&lt;infobox/fr/nomdefamille&gt;&quot;</td><td>&quot;&lt;_infoboxPattern&gt;&quot;</td><td>&quot;rdfs:label&quot;</td><td>null</td></tr><tr><td>null</td><td>&quot;&lt;infobox/fr/faa&gt;&quot;</td><td>&quot;&lt;_infoboxPattern&gt;&quot;</td><td>&quot;&lt;hasAirportCode&gt;&quot;</td><td>null</td></tr><tr><td>null</td><td>&quot;&lt;infobox/fr/nomit&gt;&quot;</td><td>&quot;&lt;_infoboxPattern&gt;&quot;</td><td>&quot;rdfs:label&quot;</td><td>null</td></tr><tr><td>null</td><td>&quot;&lt;infobox/fr/borough&gt;&quot;</td><td>&quot;&lt;_infoboxPattern&gt;&quot;</td><td>&quot;&lt;isLocatedIn&gt;&quot;</td><td>null</td></tr><tr><td>null</td><td>&quot;&lt;infobox/fr/nomarberisht&gt;&quot;</td><td>&quot;&lt;_infoboxPattern&gt;&quot;</td><td>&quot;rdfs:label&quot;</td><td>null</td></tr><tr><td>null</td><td>&quot;&lt;infobox/fr/héritier&gt;&quot;</td><td>&quot;&lt;_infoboxPattern&gt;&quot;</td><td>&quot;&lt;hasChild&gt;&quot;</td><td>null</td></tr><tr><td>null</td><td>&quot;&lt;infobox/fr/surnoms&gt;&quot;</td><td>&quot;&lt;_infoboxPattern&gt;&quot;</td><td>&quot;rdfs:label&quot;</td><td>null</td></tr><tr><td>null</td><td>&quot;&lt;infobox/fr/nomville&gt;&quot;</td><td>&quot;&lt;_infoboxPattern&gt;&quot;</td><td>&quot;rdfs:label&quot;</td><td>null</td></tr><tr><td>null</td><td>&quot;&lt;infobox/fr/motto&gt;&quot;</td><td>&quot;&lt;_infoboxPattern&gt;&quot;</td><td>&quot;&lt;hasMotto&gt;&quot;</td><td>null</td></tr><tr><td>null</td><td>&quot;&lt;infobox/fr/souspréfecture&gt;&quot;</td><td>&quot;&lt;_infoboxPattern&gt;&quot;</td><td>&quot;rdfs:label&quot;</td><td>null</td></tr><tr><td>null</td><td>&quot;&lt;infobox/fr/île&gt;&quot;</td><td>&quot;&lt;_infoboxPattern&gt;&quot;</td><td>&quot;&lt;isLocatedIn&gt;&quot;</td><td>null</td></tr><tr><td>null</td><td>&quot;&lt;infobox/fr/fondaton&gt;&quot;</td><td>&quot;&lt;_infoboxPattern&gt;&quot;</td><td>&quot;&lt;wasCreatedOnDate&gt;&quot;</td><td>null</td></tr><tr><td>&hellip;</td><td>&hellip;</td><td>&hellip;</td><td>&hellip;</td><td>&hellip;</td></tr><tr><td>null</td><td>&quot;&lt;infobox/fr/club&gt;&quot;</td><td>&quot;&lt;_infoboxPattern&gt;&quot;</td><td>&quot;&lt;isAffiliatedTo&gt;&quot;</td><td>null</td></tr><tr><td>null</td><td>&quot;&lt;infobox/fr/titreoriginalnonlatin&gt;&quot;</td><td>&quot;&lt;_infoboxPattern&gt;&quot;</td><td>&quot;rdfs:label&quot;</td><td>null</td></tr><tr><td>null</td><td>&quot;&lt;infobox/fr/revendicationpays&gt;&quot;</td><td>&quot;&lt;_infoboxPattern&gt;&quot;</td><td>&quot;&lt;isLocatedIn&gt;&quot;</td><td>null</td></tr><tr><td>null</td><td>&quot;&lt;infobox/fr/parcoursproparcoursentraineur&gt;&quot;</td><td>&quot;&lt;_infoboxPattern&gt;&quot;</td><td>&quot;&lt;isAffiliatedTo&gt;&quot;</td><td>null</td></tr><tr><td>null</td><td>&quot;&lt;infobox/fr/casque&gt;&quot;</td><td>&quot;&lt;_infoboxPattern&gt;&quot;</td><td>&quot;&lt;wasCreatedOnDate&gt;&quot;</td><td>null</td></tr><tr><td>null</td><td>&quot;&lt;infobox/fr/campus&gt;&quot;</td><td>&quot;&lt;_infoboxPattern&gt;&quot;</td><td>&quot;&lt;isLocatedIn&gt;&quot;</td><td>null</td></tr><tr><td>null</td><td>&quot;&lt;infobox/fr/emplacement&gt;&quot;</td><td>&quot;&lt;_infoboxPattern&gt;&quot;</td><td>&quot;&lt;isLocatedIn&gt;&quot;</td><td>null</td></tr><tr><td>null</td><td>&quot;&lt;infobox/fr/abréviation&gt;&quot;</td><td>&quot;&lt;_infoboxPattern&gt;&quot;</td><td>&quot;rdfs:label&quot;</td><td>null</td></tr><tr><td>null</td><td>&quot;&lt;infobox/fr/carrièresenior&gt;&quot;</td><td>&quot;&lt;_infoboxPattern&gt;&quot;</td><td>&quot;&lt;isAffiliatedTo&gt;&quot;</td><td>null</td></tr><tr><td>null</td><td>&quot;&lt;infobox/fr/trad&gt;&quot;</td><td>&quot;&lt;_infoboxPattern&gt;&quot;</td><td>&quot;rdfs:label&quot;</td><td>null</td></tr><tr><td>null</td><td>&quot;&lt;infobox/fr/gouvernorat&gt;&quot;</td><td>&quot;&lt;_infoboxPattern&gt;&quot;</td><td>&quot;&lt;isLocatedIn&gt;&quot;</td><td>null</td></tr><tr><td>null</td><td>&quot;&lt;infobox/fr/siteofficiel&gt;&quot;</td><td>&quot;&lt;_infoboxPattern&gt;&quot;</td><td>&quot;&lt;hasWebsite&gt;&quot;</td><td>null</td></tr></tbody></table></div>"
      ],
      "text/plain": [
       "shape: (439, 5)\n",
       "┌──────┬─────────────────────────────┬───────────────────┬──────────────────┬────────────┐\n",
       "│ id   ┆ subject                     ┆ predicate         ┆ cat_object       ┆ num_object │\n",
       "│ ---  ┆ ---                         ┆ ---               ┆ ---              ┆ ---        │\n",
       "│ str  ┆ str                         ┆ str               ┆ str              ┆ f64        │\n",
       "╞══════╪═════════════════════════════╪═══════════════════╪══════════════════╪════════════╡\n",
       "│ null ┆ <infobox/fr/nomdefamille>   ┆ <_infoboxPattern> ┆ rdfs:label       ┆ null       │\n",
       "│ null ┆ <infobox/fr/faa>            ┆ <_infoboxPattern> ┆ <hasAirportCode> ┆ null       │\n",
       "│ null ┆ <infobox/fr/nomit>          ┆ <_infoboxPattern> ┆ rdfs:label       ┆ null       │\n",
       "│ null ┆ <infobox/fr/borough>        ┆ <_infoboxPattern> ┆ <isLocatedIn>    ┆ null       │\n",
       "│ null ┆ <infobox/fr/nomarberisht>   ┆ <_infoboxPattern> ┆ rdfs:label       ┆ null       │\n",
       "│ …    ┆ …                           ┆ …                 ┆ …                ┆ …          │\n",
       "│ null ┆ <infobox/fr/abréviation>    ┆ <_infoboxPattern> ┆ rdfs:label       ┆ null       │\n",
       "│ null ┆ <infobox/fr/carrièresenior> ┆ <_infoboxPattern> ┆ <isAffiliatedTo> ┆ null       │\n",
       "│ null ┆ <infobox/fr/trad>           ┆ <_infoboxPattern> ┆ rdfs:label       ┆ null       │\n",
       "│ null ┆ <infobox/fr/gouvernorat>    ┆ <_infoboxPattern> ┆ <isLocatedIn>    ┆ null       │\n",
       "│ null ┆ <infobox/fr/siteofficiel>   ┆ <_infoboxPattern> ┆ <hasWebsite>     ┆ null       │\n",
       "└──────┴─────────────────────────────┴───────────────────┴──────────────────┴────────────┘"
      ]
     },
     "metadata": {},
     "output_type": "display_data"
    },
    {
     "name": "stdout",
     "output_type": "stream",
     "text": [
      "peopleByCategory.tsv\n"
     ]
    },
    {
     "data": {
      "text/html": [
       "<div><style>\n",
       ".dataframe > thead > tr,\n",
       ".dataframe > tbody > tr {\n",
       "  text-align: right;\n",
       "  white-space: pre-wrap;\n",
       "}\n",
       "</style>\n",
       "<small>shape: (2_046_710, 5)</small><table border=\"1\" class=\"dataframe\"><thead><tr><th>id</th><th>subject</th><th>predicate</th><th>cat_object</th><th>num_object</th></tr><tr><td>str</td><td>str</td><td>str</td><td>str</td><td>f64</td></tr></thead><tbody><tr><td>&quot;&lt;id_TkIEqw6ZnR_KCM_9o9YmDSiad&gt;&quot;</td><td>&quot;&lt;Daniel_Filip_Mašulovič&gt;&quot;</td><td>&quot;rdf:type&quot;</td><td>&quot;&lt;wordnet_person_100007846&gt;&quot;</td><td>null</td></tr><tr><td>&quot;&lt;id_wGHfubCwBs_KCM_9o9YmDSiad&gt;&quot;</td><td>&quot;&lt;Jean-Baptiste-Joseph_Gobel&gt;&quot;</td><td>&quot;rdf:type&quot;</td><td>&quot;&lt;wordnet_person_100007846&gt;&quot;</td><td>null</td></tr><tr><td>&quot;&lt;id_EcFSy3pfWg_KCM_9o9YmDSiad&gt;&quot;</td><td>&quot;&lt;Brij_Bhushan_Tiwari&gt;&quot;</td><td>&quot;rdf:type&quot;</td><td>&quot;&lt;wordnet_person_100007846&gt;&quot;</td><td>null</td></tr><tr><td>&quot;&lt;id_TL?FW9ny9s_KCM_9o9YmDSiad&gt;&quot;</td><td>&quot;&lt;John_Schumacher_(Los_Angeles_pioneer)&gt;&quot;</td><td>&quot;rdf:type&quot;</td><td>&quot;&lt;wordnet_person_100007846&gt;&quot;</td><td>null</td></tr><tr><td>&quot;&lt;id_WuVXfXU4S!_KCM_9o9YmDSiad&gt;&quot;</td><td>&quot;&lt;Mutab_Al-Najrani&gt;&quot;</td><td>&quot;rdf:type&quot;</td><td>&quot;&lt;wordnet_person_100007846&gt;&quot;</td><td>null</td></tr><tr><td>&quot;&lt;id_W7WiE1Ekd?_KCM_9o9YmDSiad&gt;&quot;</td><td>&quot;&lt;James_R._Bartholomew&gt;&quot;</td><td>&quot;rdf:type&quot;</td><td>&quot;&lt;wordnet_person_100007846&gt;&quot;</td><td>null</td></tr><tr><td>&quot;&lt;id_owZhSO8IbA_KCM_9o9YmDSiad&gt;&quot;</td><td>&quot;&lt;J._Richard_Chase&gt;&quot;</td><td>&quot;rdf:type&quot;</td><td>&quot;&lt;wordnet_person_100007846&gt;&quot;</td><td>null</td></tr><tr><td>&quot;&lt;id_Vw3hsqZ9kI_KCM_9o9YmDSiad&gt;&quot;</td><td>&quot;&lt;fr/Kirill_Zaborov&gt;&quot;</td><td>&quot;rdf:type&quot;</td><td>&quot;&lt;wordnet_person_100007846&gt;&quot;</td><td>null</td></tr><tr><td>&quot;&lt;id_7UYVhghXQN_KCM_9o9YmDSiad&gt;&quot;</td><td>&quot;&lt;Margaret_Clement&gt;&quot;</td><td>&quot;rdf:type&quot;</td><td>&quot;&lt;wordnet_person_100007846&gt;&quot;</td><td>null</td></tr><tr><td>&quot;&lt;id_EQgbQobwPR_KCM_9o9YmDSiad&gt;&quot;</td><td>&quot;&lt;Reg_Freeson&gt;&quot;</td><td>&quot;rdf:type&quot;</td><td>&quot;&lt;wordnet_person_100007846&gt;&quot;</td><td>null</td></tr><tr><td>&quot;&lt;id_6Gz!OpyMsy_KCM_9o9YmDSiad&gt;&quot;</td><td>&quot;&lt;Rolf_Turkka&gt;&quot;</td><td>&quot;rdf:type&quot;</td><td>&quot;&lt;wordnet_person_100007846&gt;&quot;</td><td>null</td></tr><tr><td>&quot;&lt;id_iJuXSl?t02_KCM_9o9YmDSiad&gt;&quot;</td><td>&quot;&lt;Aleksa_Nenadović&gt;&quot;</td><td>&quot;rdf:type&quot;</td><td>&quot;&lt;wordnet_person_100007846&gt;&quot;</td><td>null</td></tr><tr><td>&hellip;</td><td>&hellip;</td><td>&hellip;</td><td>&hellip;</td><td>&hellip;</td></tr><tr><td>&quot;&lt;id_9wchjMC2uu_KCM_9o9YmDSiad&gt;&quot;</td><td>&quot;&lt;fr/Augustin_Guilbert-Estevez&gt;&quot;</td><td>&quot;rdf:type&quot;</td><td>&quot;&lt;wordnet_person_100007846&gt;&quot;</td><td>null</td></tr><tr><td>&quot;&lt;id_xhMBNW4h9W_KCM_9o9YmDSiad&gt;&quot;</td><td>&quot;&lt;John_Ó_Madadhan&gt;&quot;</td><td>&quot;rdf:type&quot;</td><td>&quot;&lt;wordnet_person_100007846&gt;&quot;</td><td>null</td></tr><tr><td>&quot;&lt;id_nqLgBiKDgA_KCM_9o9YmDSiad&gt;&quot;</td><td>&quot;&lt;Saïra_Issambet&gt;&quot;</td><td>&quot;rdf:type&quot;</td><td>&quot;&lt;wordnet_person_100007846&gt;&quot;</td><td>null</td></tr><tr><td>&quot;&lt;id_q5ebtqZMDz_KCM_9o9YmDSiad&gt;&quot;</td><td>&quot;&lt;William_Oliphant,_Lord_Newton&gt;&quot;</td><td>&quot;rdf:type&quot;</td><td>&quot;&lt;wordnet_person_100007846&gt;&quot;</td><td>null</td></tr><tr><td>&quot;&lt;id_Eg8enD33wY_KCM_9o9YmDSiad&gt;&quot;</td><td>&quot;&lt;Nadya_Ginsburg&gt;&quot;</td><td>&quot;rdf:type&quot;</td><td>&quot;&lt;wordnet_person_100007846&gt;&quot;</td><td>null</td></tr><tr><td>&quot;&lt;id_72DCqX7crn_KCM_9o9YmDSiad&gt;&quot;</td><td>&quot;&lt;Andrea_Arnaboldi&gt;&quot;</td><td>&quot;rdf:type&quot;</td><td>&quot;&lt;wordnet_person_100007846&gt;&quot;</td><td>null</td></tr><tr><td>&quot;&lt;id_jD91lQqQIn_KCM_9o9YmDSiad&gt;&quot;</td><td>&quot;&lt;Douglas_George_Sopwith&gt;&quot;</td><td>&quot;rdf:type&quot;</td><td>&quot;&lt;wordnet_person_100007846&gt;&quot;</td><td>null</td></tr><tr><td>&quot;&lt;id_yD?NL!w8Ma_KCM_9o9YmDSiad&gt;&quot;</td><td>&quot;&lt;Alan_Hewitt_(musician)&gt;&quot;</td><td>&quot;rdf:type&quot;</td><td>&quot;&lt;wordnet_person_100007846&gt;&quot;</td><td>null</td></tr><tr><td>&quot;&lt;id_!!bRGJUCYh_KCM_9o9YmDSiad&gt;&quot;</td><td>&quot;&lt;Edward_Dick&gt;&quot;</td><td>&quot;rdf:type&quot;</td><td>&quot;&lt;wordnet_person_100007846&gt;&quot;</td><td>null</td></tr><tr><td>&quot;&lt;id_3p2FgqRrxg_KCM_9o9YmDSiad&gt;&quot;</td><td>&quot;&lt;Brett_Evans_(Australian_footballer)&gt;&quot;</td><td>&quot;rdf:type&quot;</td><td>&quot;&lt;wordnet_person_100007846&gt;&quot;</td><td>null</td></tr><tr><td>&quot;&lt;id_t06pViLE8Q_KCM_9o9YmDSiad&gt;&quot;</td><td>&quot;&lt;Seraya_Shapshal&gt;&quot;</td><td>&quot;rdf:type&quot;</td><td>&quot;&lt;wordnet_person_100007846&gt;&quot;</td><td>null</td></tr><tr><td>&quot;&lt;id_XoHRQUyTvR_KCM_9o9YmDSiad&gt;&quot;</td><td>&quot;&lt;Ankerstjerne&gt;&quot;</td><td>&quot;rdf:type&quot;</td><td>&quot;&lt;wordnet_person_100007846&gt;&quot;</td><td>null</td></tr></tbody></table></div>"
      ],
      "text/plain": [
       "shape: (2_046_710, 5)\n",
       "┌────────────────────────┬────────────────────────┬───────────┬───────────────────────┬────────────┐\n",
       "│ id                     ┆ subject                ┆ predicate ┆ cat_object            ┆ num_object │\n",
       "│ ---                    ┆ ---                    ┆ ---       ┆ ---                   ┆ ---        │\n",
       "│ str                    ┆ str                    ┆ str       ┆ str                   ┆ f64        │\n",
       "╞════════════════════════╪════════════════════════╪═══════════╪═══════════════════════╪════════════╡\n",
       "│ <id_TkIEqw6ZnR_KCM_9o9 ┆ <Daniel_Filip_Mašulovi ┆ rdf:type  ┆ <wordnet_person_10000 ┆ null       │\n",
       "│ YmDSiad>               ┆ č>                     ┆           ┆ 7846>                 ┆            │\n",
       "│ <id_wGHfubCwBs_KCM_9o9 ┆ <Jean-Baptiste-Joseph_ ┆ rdf:type  ┆ <wordnet_person_10000 ┆ null       │\n",
       "│ YmDSiad>               ┆ Gobel>                 ┆           ┆ 7846>                 ┆            │\n",
       "│ <id_EcFSy3pfWg_KCM_9o9 ┆ <Brij_Bhushan_Tiwari>  ┆ rdf:type  ┆ <wordnet_person_10000 ┆ null       │\n",
       "│ YmDSiad>               ┆                        ┆           ┆ 7846>                 ┆            │\n",
       "│ <id_TL?FW9ny9s_KCM_9o9 ┆ <John_Schumacher_(Los_ ┆ rdf:type  ┆ <wordnet_person_10000 ┆ null       │\n",
       "│ YmDSiad>               ┆ Angeles_pioneer)>      ┆           ┆ 7846>                 ┆            │\n",
       "│ <id_WuVXfXU4S!_KCM_9o9 ┆ <Mutab_Al-Najrani>     ┆ rdf:type  ┆ <wordnet_person_10000 ┆ null       │\n",
       "│ YmDSiad>               ┆                        ┆           ┆ 7846>                 ┆            │\n",
       "│ …                      ┆ …                      ┆ …         ┆ …                     ┆ …          │\n",
       "│ <id_yD?NL!w8Ma_KCM_9o9 ┆ <Alan_Hewitt_(musician ┆ rdf:type  ┆ <wordnet_person_10000 ┆ null       │\n",
       "│ YmDSiad>               ┆ )>                     ┆           ┆ 7846>                 ┆            │\n",
       "│ <id_!!bRGJUCYh_KCM_9o9 ┆ <Edward_Dick>          ┆ rdf:type  ┆ <wordnet_person_10000 ┆ null       │\n",
       "│ YmDSiad>               ┆                        ┆           ┆ 7846>                 ┆            │\n",
       "│ <id_3p2FgqRrxg_KCM_9o9 ┆ <Brett_Evans_(Australi ┆ rdf:type  ┆ <wordnet_person_10000 ┆ null       │\n",
       "│ YmDSiad>               ┆ an_footballer)>        ┆           ┆ 7846>                 ┆            │\n",
       "│ <id_t06pViLE8Q_KCM_9o9 ┆ <Seraya_Shapshal>      ┆ rdf:type  ┆ <wordnet_person_10000 ┆ null       │\n",
       "│ YmDSiad>               ┆                        ┆           ┆ 7846>                 ┆            │\n",
       "│ <id_XoHRQUyTvR_KCM_9o9 ┆ <Ankerstjerne>         ┆ rdf:type  ┆ <wordnet_person_10000 ┆ null       │\n",
       "│ YmDSiad>               ┆                        ┆           ┆ 7846>                 ┆            │\n",
       "└────────────────────────┴────────────────────────┴───────────┴───────────────────────┴────────────┘"
      ]
     },
     "metadata": {},
     "output_type": "display_data"
    },
    {
     "name": "stdout",
     "output_type": "stream",
     "text": [
      "personNameHeuristics.tsv\n"
     ]
    },
    {
     "data": {
      "text/html": [
       "<div><style>\n",
       ".dataframe > thead > tr,\n",
       ".dataframe > tbody > tr {\n",
       "  text-align: right;\n",
       "  white-space: pre-wrap;\n",
       "}\n",
       "</style>\n",
       "<small>shape: (2_379_584, 5)</small><table border=\"1\" class=\"dataframe\"><thead><tr><th>id</th><th>subject</th><th>predicate</th><th>cat_object</th><th>num_object</th></tr><tr><td>str</td><td>str</td><td>str</td><td>str</td><td>f64</td></tr></thead><tbody><tr><td>&quot;&lt;id_wGHfubCwBs_SBd_DtqtQ69znf&gt;&quot;</td><td>&quot;&lt;Jean-Baptiste-Joseph_Gobel&gt;&quot;</td><td>&quot;rdfs:label&quot;</td><td>&quot;Jean-Baptiste-Joseph Gobel@eng&quot;</td><td>null</td></tr><tr><td>&quot;&lt;id_EQgbQobwPR_SBd_cPuIeSSbu8&gt;&quot;</td><td>&quot;&lt;Reg_Freeson&gt;&quot;</td><td>&quot;rdfs:label&quot;</td><td>&quot;Reg Freeson@eng&quot;</td><td>null</td></tr><tr><td>&quot;&lt;id_iJuXSl?t02_SBd_MQYWcQCFRl&gt;&quot;</td><td>&quot;&lt;Aleksa_Nenadović&gt;&quot;</td><td>&quot;rdfs:label&quot;</td><td>&quot;Aleksa Nenadović@eng&quot;</td><td>null</td></tr><tr><td>&quot;&lt;id_iJuXSl?t02_SBd_MRPWcQD1cF&gt;&quot;</td><td>&quot;&lt;Aleksa_Nenadović&gt;&quot;</td><td>&quot;rdfs:label&quot;</td><td>&quot;Aleksa Nenadovic@eng&quot;</td><td>null</td></tr><tr><td>&quot;&lt;id_iJuXSl?t02_SBd_xEZPeNPMOx&gt;&quot;</td><td>&quot;&lt;Aleksa_Nenadović&gt;&quot;</td><td>&quot;rdfs:label&quot;</td><td>&quot;Nenadovic@eng&quot;</td><td>null</td></tr><tr><td>&quot;&lt;id_A9Cb5sb?bM_SBd_kmT9LSELx&gt;&quot;</td><td>&quot;&lt;Slavko_Aleksić&gt;&quot;</td><td>&quot;rdfs:label&quot;</td><td>&quot;Slavko Aleksić@eng&quot;</td><td>null</td></tr><tr><td>&quot;&lt;id_A9Cb5sb?bM_SBd_lLT9LTezd&gt;&quot;</td><td>&quot;&lt;Slavko_Aleksić&gt;&quot;</td><td>&quot;rdfs:label&quot;</td><td>&quot;Slavko Aleksic@eng&quot;</td><td>null</td></tr><tr><td>&quot;&lt;id_A9Cb5sb?bM_SBd_2ngJrcd!tK&gt;&quot;</td><td>&quot;&lt;Slavko_Aleksić&gt;&quot;</td><td>&quot;rdfs:label&quot;</td><td>&quot;Aleksic@eng&quot;</td><td>null</td></tr><tr><td>&quot;&lt;id_T1gySmgV6b_SBd_8yijWmxP!o&gt;&quot;</td><td>&quot;&lt;Josef_Charous&gt;&quot;</td><td>&quot;rdfs:label&quot;</td><td>&quot;Josef Charous@eng&quot;</td><td>null</td></tr><tr><td>&quot;&lt;id_XjXYz98zRh_SBd_TobSwBSxZd&gt;&quot;</td><td>&quot;&lt;Harold_James_Dyos&gt;&quot;</td><td>&quot;rdfs:label&quot;</td><td>&quot;Harold Dyos@eng&quot;</td><td>null</td></tr><tr><td>&quot;&lt;id_I3VZ1u4o5M_SBd_MrhgY?7UGU&gt;&quot;</td><td>&quot;&lt;Taras_Senkiv_(luger)&gt;&quot;</td><td>&quot;rdfs:label&quot;</td><td>&quot;Taras Senkiv@eng&quot;</td><td>null</td></tr><tr><td>&quot;&lt;id_0VqotEONhF_SBd_Q8Nxrvj7V8&gt;&quot;</td><td>&quot;&lt;Victor_Shaka&gt;&quot;</td><td>&quot;rdfs:label&quot;</td><td>&quot;Victor Shaka@eng&quot;</td><td>null</td></tr><tr><td>&hellip;</td><td>&hellip;</td><td>&hellip;</td><td>&hellip;</td><td>&hellip;</td></tr><tr><td>&quot;&lt;id_!t?DP67Bl9_SBd_P2S70Qqj?T&gt;&quot;</td><td>&quot;&lt;fr/Gilbert_Bleu-Lainé&gt;&quot;</td><td>&quot;rdfs:label&quot;</td><td>&quot;Bleu-Laine@eng&quot;</td><td>null</td></tr><tr><td>&quot;&lt;id_GDkHwF2E7U_SBd_vG97CxiHSH&gt;&quot;</td><td>&quot;&lt;Maxime_Verhagen&gt;&quot;</td><td>&quot;rdfs:label&quot;</td><td>&quot;Maxime Verhagen@eng&quot;</td><td>null</td></tr><tr><td>&quot;&lt;id_2SMXrinonI_SBd_v2nyIF2woR&gt;&quot;</td><td>&quot;&lt;Eva_Seeberg&gt;&quot;</td><td>&quot;rdfs:label&quot;</td><td>&quot;Eva Seeberg@eng&quot;</td><td>null</td></tr><tr><td>&quot;&lt;id_9wchjMC2uu_SBd_rB46EuYgNT&gt;&quot;</td><td>&quot;&lt;fr/Augustin_Guilbert-Estevez&gt;&quot;</td><td>&quot;rdfs:label&quot;</td><td>&quot;Augustin Guilbert-Estevez@fra&quot;</td><td>null</td></tr><tr><td>&quot;&lt;id_nqLgBiKDgA_SBd_u0lmb!8rdc&gt;&quot;</td><td>&quot;&lt;Saïra_Issambet&gt;&quot;</td><td>&quot;rdfs:label&quot;</td><td>&quot;Saira@eng&quot;</td><td>null</td></tr><tr><td>&quot;&lt;id_nqLgBiKDgA_SBd_XTn?6o7ujb&gt;&quot;</td><td>&quot;&lt;Saïra_Issambet&gt;&quot;</td><td>&quot;rdfs:label&quot;</td><td>&quot;Saïra Issambet@eng&quot;</td><td>null</td></tr><tr><td>&quot;&lt;id_nqLgBiKDgA_SBd_htk4VFbsJ5&gt;&quot;</td><td>&quot;&lt;Saïra_Issambet&gt;&quot;</td><td>&quot;rdfs:label&quot;</td><td>&quot;Saira Issambet@eng&quot;</td><td>null</td></tr><tr><td>&quot;&lt;id_jD91lQqQIn_SBd_0PnUXDZbkh&gt;&quot;</td><td>&quot;&lt;Douglas_George_Sopwith&gt;&quot;</td><td>&quot;rdfs:label&quot;</td><td>&quot;Douglas Sopwith@eng&quot;</td><td>null</td></tr><tr><td>&quot;&lt;id_72DCqX7crn_SBd_0eNAATvQZm&gt;&quot;</td><td>&quot;&lt;Andrea_Arnaboldi&gt;&quot;</td><td>&quot;rdfs:label&quot;</td><td>&quot;Andrea Arnaboldi@eng&quot;</td><td>null</td></tr><tr><td>&quot;&lt;id_yD?NL!w8Ma_SBd_XdUPpeOYTj&gt;&quot;</td><td>&quot;&lt;Alan_Hewitt_(musician)&gt;&quot;</td><td>&quot;rdfs:label&quot;</td><td>&quot;Alan Hewitt@eng&quot;</td><td>null</td></tr><tr><td>&quot;&lt;id_3p2FgqRrxg_SBd_tX5if4s292&gt;&quot;</td><td>&quot;&lt;Brett_Evans_(Australian_footballer)&gt;&quot;</td><td>&quot;rdfs:label&quot;</td><td>&quot;Brett Evans@eng&quot;</td><td>null</td></tr><tr><td>&quot;&lt;id_t06pViLE8Q_SBd_FTbUJdMpPN&gt;&quot;</td><td>&quot;&lt;Seraya_Shapshal&gt;&quot;</td><td>&quot;rdfs:label&quot;</td><td>&quot;Seraya Shapshal@eng&quot;</td><td>null</td></tr></tbody></table></div>"
      ],
      "text/plain": [
       "shape: (2_379_584, 5)\n",
       "┌────────────────────────┬───────────────────────┬────────────┬───────────────────────┬────────────┐\n",
       "│ id                     ┆ subject               ┆ predicate  ┆ cat_object            ┆ num_object │\n",
       "│ ---                    ┆ ---                   ┆ ---        ┆ ---                   ┆ ---        │\n",
       "│ str                    ┆ str                   ┆ str        ┆ str                   ┆ f64        │\n",
       "╞════════════════════════╪═══════════════════════╪════════════╪═══════════════════════╪════════════╡\n",
       "│ <id_wGHfubCwBs_SBd_Dtq ┆ <Jean-Baptiste-Joseph ┆ rdfs:label ┆ Jean-Baptiste-Joseph  ┆ null       │\n",
       "│ tQ69znf>               ┆ _Gobel>               ┆            ┆ Gobel@eng             ┆            │\n",
       "│ <id_EQgbQobwPR_SBd_cPu ┆ <Reg_Freeson>         ┆ rdfs:label ┆ Reg Freeson@eng       ┆ null       │\n",
       "│ IeSSbu8>               ┆                       ┆            ┆                       ┆            │\n",
       "│ <id_iJuXSl?t02_SBd_MQY ┆ <Aleksa_Nenadović>    ┆ rdfs:label ┆ Aleksa Nenadović@eng  ┆ null       │\n",
       "│ WcQCFRl>               ┆                       ┆            ┆                       ┆            │\n",
       "│ <id_iJuXSl?t02_SBd_MRP ┆ <Aleksa_Nenadović>    ┆ rdfs:label ┆ Aleksa Nenadovic@eng  ┆ null       │\n",
       "│ WcQD1cF>               ┆                       ┆            ┆                       ┆            │\n",
       "│ <id_iJuXSl?t02_SBd_xEZ ┆ <Aleksa_Nenadović>    ┆ rdfs:label ┆ Nenadovic@eng         ┆ null       │\n",
       "│ PeNPMOx>               ┆                       ┆            ┆                       ┆            │\n",
       "│ …                      ┆ …                     ┆ …          ┆ …                     ┆ …          │\n",
       "│ <id_jD91lQqQIn_SBd_0Pn ┆ <Douglas_George_Sopwi ┆ rdfs:label ┆ Douglas Sopwith@eng   ┆ null       │\n",
       "│ UXDZbkh>               ┆ th>                   ┆            ┆                       ┆            │\n",
       "│ <id_72DCqX7crn_SBd_0eN ┆ <Andrea_Arnaboldi>    ┆ rdfs:label ┆ Andrea Arnaboldi@eng  ┆ null       │\n",
       "│ AATvQZm>               ┆                       ┆            ┆                       ┆            │\n",
       "│ <id_yD?NL!w8Ma_SBd_XdU ┆ <Alan_Hewitt_(musicia ┆ rdfs:label ┆ Alan Hewitt@eng       ┆ null       │\n",
       "│ PpeOYTj>               ┆ n)>                   ┆            ┆                       ┆            │\n",
       "│ <id_3p2FgqRrxg_SBd_tX5 ┆ <Brett_Evans_(Austral ┆ rdfs:label ┆ Brett Evans@eng       ┆ null       │\n",
       "│ if4s292>               ┆ ian_footballer)>      ┆            ┆                       ┆            │\n",
       "│ <id_t06pViLE8Q_SBd_FTb ┆ <Seraya_Shapshal>     ┆ rdfs:label ┆ Seraya Shapshal@eng   ┆ null       │\n",
       "│ UJdMpPN>               ┆                       ┆            ┆                       ┆            │\n",
       "└────────────────────────┴───────────────────────┴────────────┴───────────────────────┴────────────┘"
      ]
     },
     "metadata": {},
     "output_type": "display_data"
    },
    {
     "name": "stdout",
     "output_type": "stream",
     "text": [
      "personNames.tsv\n"
     ]
    },
    {
     "data": {
      "text/html": [
       "<div><style>\n",
       ".dataframe > thead > tr,\n",
       ".dataframe > tbody > tr {\n",
       "  text-align: right;\n",
       "  white-space: pre-wrap;\n",
       "}\n",
       "</style>\n",
       "<small>shape: (3_904_510, 5)</small><table border=\"1\" class=\"dataframe\"><thead><tr><th>id</th><th>subject</th><th>predicate</th><th>cat_object</th><th>num_object</th></tr><tr><td>str</td><td>str</td><td>str</td><td>str</td><td>f64</td></tr></thead><tbody><tr><td>&quot;&lt;id_wGHfubCwBs_?RG_UMJuagf9WE&gt;&quot;</td><td>&quot;&lt;Jean-Baptiste-Joseph_Gobel&gt;&quot;</td><td>&quot;&lt;hasGivenName&gt;&quot;</td><td>&quot;Jean-Baptiste-Joseph@eng&quot;</td><td>null</td></tr><tr><td>&quot;&lt;id_wGHfubCwBs_ukZ_kqB1JUjlcf&gt;&quot;</td><td>&quot;&lt;Jean-Baptiste-Joseph_Gobel&gt;&quot;</td><td>&quot;&lt;hasFamilyName&gt;&quot;</td><td>&quot;Gobel@eng&quot;</td><td>null</td></tr><tr><td>&quot;&lt;id_EQgbQobwPR_?RG_g?tNFi!0Eq&gt;&quot;</td><td>&quot;&lt;Reg_Freeson&gt;&quot;</td><td>&quot;&lt;hasGivenName&gt;&quot;</td><td>&quot;Reg@eng&quot;</td><td>null</td></tr><tr><td>&quot;&lt;id_EQgbQobwPR_ukZ_2MJcHBTdAW&gt;&quot;</td><td>&quot;&lt;Reg_Freeson&gt;&quot;</td><td>&quot;&lt;hasFamilyName&gt;&quot;</td><td>&quot;Freeson@eng&quot;</td><td>null</td></tr><tr><td>&quot;&lt;id_iJuXSl?t02_?RG_1sFlY!gQju&gt;&quot;</td><td>&quot;&lt;Aleksa_Nenadović&gt;&quot;</td><td>&quot;&lt;hasGivenName&gt;&quot;</td><td>&quot;Aleksa@eng&quot;</td><td>null</td></tr><tr><td>&quot;&lt;id_iJuXSl?t02_ukZ_xFSPeNQ90d&gt;&quot;</td><td>&quot;&lt;Aleksa_Nenadović&gt;&quot;</td><td>&quot;&lt;hasFamilyName&gt;&quot;</td><td>&quot;Nenadović@eng&quot;</td><td>null</td></tr><tr><td>&quot;&lt;id_A9Cb5sb?bM_?RG_Bg2!HN5G0z&gt;&quot;</td><td>&quot;&lt;Slavko_Aleksić&gt;&quot;</td><td>&quot;&lt;hasGivenName&gt;&quot;</td><td>&quot;Slavko@eng&quot;</td><td>null</td></tr><tr><td>&quot;&lt;id_A9Cb5sb?bM_ukZ_2m9Jrcdwjq&gt;&quot;</td><td>&quot;&lt;Slavko_Aleksić&gt;&quot;</td><td>&quot;&lt;hasFamilyName&gt;&quot;</td><td>&quot;Aleksić@eng&quot;</td><td>null</td></tr><tr><td>&quot;&lt;id_T1gySmgV6b_?RG_NMuh98g197&gt;&quot;</td><td>&quot;&lt;Josef_Charous&gt;&quot;</td><td>&quot;&lt;hasGivenName&gt;&quot;</td><td>&quot;Josef@eng&quot;</td><td>null</td></tr><tr><td>&quot;&lt;id_T1gySmgV6b_ukZ_uPYTNt1Q0j&gt;&quot;</td><td>&quot;&lt;Josef_Charous&gt;&quot;</td><td>&quot;&lt;hasFamilyName&gt;&quot;</td><td>&quot;Charous@eng&quot;</td><td>null</td></tr><tr><td>&quot;&lt;id_XjXYz98zRh_?RG_kgbaEwpMvj&gt;&quot;</td><td>&quot;&lt;Harold_James_Dyos&gt;&quot;</td><td>&quot;&lt;hasGivenName&gt;&quot;</td><td>&quot;Harold@eng&quot;</td><td>null</td></tr><tr><td>&quot;&lt;id_XjXYz98zRh_ukZ_8Jk7bshvJw&gt;&quot;</td><td>&quot;&lt;Harold_James_Dyos&gt;&quot;</td><td>&quot;&lt;hasFamilyName&gt;&quot;</td><td>&quot;Dyos@eng&quot;</td><td>null</td></tr><tr><td>&hellip;</td><td>&hellip;</td><td>&hellip;</td><td>&hellip;</td><td>&hellip;</td></tr><tr><td>&quot;&lt;id_nqLgBiKDgA_?RG_L67SlnGQN6&gt;&quot;</td><td>&quot;&lt;Saïra_Issambet&gt;&quot;</td><td>&quot;&lt;hasGivenName&gt;&quot;</td><td>&quot;Saïra@eng&quot;</td><td>null</td></tr><tr><td>&quot;&lt;id_nqLgBiKDgA_ukZ_l3WIH!h7E7&gt;&quot;</td><td>&quot;&lt;Saïra_Issambet&gt;&quot;</td><td>&quot;&lt;hasFamilyName&gt;&quot;</td><td>&quot;Issambet@eng&quot;</td><td>null</td></tr><tr><td>&quot;&lt;id_jD91lQqQIn_?RG_ugN1Znsm01&gt;&quot;</td><td>&quot;&lt;Douglas_George_Sopwith&gt;&quot;</td><td>&quot;&lt;hasGivenName&gt;&quot;</td><td>&quot;Douglas@eng&quot;</td><td>null</td></tr><tr><td>&quot;&lt;id_jD91lQqQIn_ukZ_8soGBoEF9y&gt;&quot;</td><td>&quot;&lt;Douglas_George_Sopwith&gt;&quot;</td><td>&quot;&lt;hasFamilyName&gt;&quot;</td><td>&quot;Sopwith@eng&quot;</td><td>null</td></tr><tr><td>&quot;&lt;id_72DCqX7crn_?RG_dgDZSTRMls&gt;&quot;</td><td>&quot;&lt;Andrea_Arnaboldi&gt;&quot;</td><td>&quot;&lt;hasGivenName&gt;&quot;</td><td>&quot;Andrea@eng&quot;</td><td>null</td></tr><tr><td>&quot;&lt;id_72DCqX7crn_ukZ_xhVgzR1lXS&gt;&quot;</td><td>&quot;&lt;Andrea_Arnaboldi&gt;&quot;</td><td>&quot;&lt;hasFamilyName&gt;&quot;</td><td>&quot;Arnaboldi@eng&quot;</td><td>null</td></tr><tr><td>&quot;&lt;id_yD?NL!w8Ma_?RG_LcJqnsKZEl&gt;&quot;</td><td>&quot;&lt;Alan_Hewitt_(musician)&gt;&quot;</td><td>&quot;&lt;hasGivenName&gt;&quot;</td><td>&quot;Alan@eng&quot;</td><td>null</td></tr><tr><td>&quot;&lt;id_yD?NL!w8Ma_ukZ_U9LGJtICts&gt;&quot;</td><td>&quot;&lt;Alan_Hewitt_(musician)&gt;&quot;</td><td>&quot;&lt;hasFamilyName&gt;&quot;</td><td>&quot;Hewitt@eng&quot;</td><td>null</td></tr><tr><td>&quot;&lt;id_3p2FgqRrxg_?RG_PBtLWiZ5FR&gt;&quot;</td><td>&quot;&lt;Brett_Evans_(Australian_footballer)&gt;&quot;</td><td>&quot;&lt;hasGivenName&gt;&quot;</td><td>&quot;Brett@eng&quot;</td><td>null</td></tr><tr><td>&quot;&lt;id_3p2FgqRrxg_ukZ_HMtvqnQ!bb&gt;&quot;</td><td>&quot;&lt;Brett_Evans_(Australian_footballer)&gt;&quot;</td><td>&quot;&lt;hasFamilyName&gt;&quot;</td><td>&quot;Evans@eng&quot;</td><td>null</td></tr><tr><td>&quot;&lt;id_t06pViLE8Q_?RG_OyLiRuMuGM&gt;&quot;</td><td>&quot;&lt;Seraya_Shapshal&gt;&quot;</td><td>&quot;&lt;hasGivenName&gt;&quot;</td><td>&quot;Seraya@eng&quot;</td><td>null</td></tr><tr><td>&quot;&lt;id_t06pViLE8Q_ukZ_KFATggwwjT&gt;&quot;</td><td>&quot;&lt;Seraya_Shapshal&gt;&quot;</td><td>&quot;&lt;hasFamilyName&gt;&quot;</td><td>&quot;Shapshal@eng&quot;</td><td>null</td></tr></tbody></table></div>"
      ],
      "text/plain": [
       "shape: (3_904_510, 5)\n",
       "┌──────────────────────┬──────────────────────┬─────────────────┬─────────────────────┬────────────┐\n",
       "│ id                   ┆ subject              ┆ predicate       ┆ cat_object          ┆ num_object │\n",
       "│ ---                  ┆ ---                  ┆ ---             ┆ ---                 ┆ ---        │\n",
       "│ str                  ┆ str                  ┆ str             ┆ str                 ┆ f64        │\n",
       "╞══════════════════════╪══════════════════════╪═════════════════╪═════════════════════╪════════════╡\n",
       "│ <id_wGHfubCwBs_?RG_U ┆ <Jean-Baptiste-Josep ┆ <hasGivenName>  ┆ Jean-Baptiste-Josep ┆ null       │\n",
       "│ MJuagf9WE>           ┆ h_Gobel>             ┆                 ┆ h@eng               ┆            │\n",
       "│ <id_wGHfubCwBs_ukZ_k ┆ <Jean-Baptiste-Josep ┆ <hasFamilyName> ┆ Gobel@eng           ┆ null       │\n",
       "│ qB1JUjlcf>           ┆ h_Gobel>             ┆                 ┆                     ┆            │\n",
       "│ <id_EQgbQobwPR_?RG_g ┆ <Reg_Freeson>        ┆ <hasGivenName>  ┆ Reg@eng             ┆ null       │\n",
       "│ ?tNFi!0Eq>           ┆                      ┆                 ┆                     ┆            │\n",
       "│ <id_EQgbQobwPR_ukZ_2 ┆ <Reg_Freeson>        ┆ <hasFamilyName> ┆ Freeson@eng         ┆ null       │\n",
       "│ MJcHBTdAW>           ┆                      ┆                 ┆                     ┆            │\n",
       "│ <id_iJuXSl?t02_?RG_1 ┆ <Aleksa_Nenadović>   ┆ <hasGivenName>  ┆ Aleksa@eng          ┆ null       │\n",
       "│ sFlY!gQju>           ┆                      ┆                 ┆                     ┆            │\n",
       "│ …                    ┆ …                    ┆ …               ┆ …                   ┆ …          │\n",
       "│ <id_yD?NL!w8Ma_ukZ_U ┆ <Alan_Hewitt_(musici ┆ <hasFamilyName> ┆ Hewitt@eng          ┆ null       │\n",
       "│ 9LGJtICts>           ┆ an)>                 ┆                 ┆                     ┆            │\n",
       "│ <id_3p2FgqRrxg_?RG_P ┆ <Brett_Evans_(Austra ┆ <hasGivenName>  ┆ Brett@eng           ┆ null       │\n",
       "│ BtLWiZ5FR>           ┆ lian_footballer)>    ┆                 ┆                     ┆            │\n",
       "│ <id_3p2FgqRrxg_ukZ_H ┆ <Brett_Evans_(Austra ┆ <hasFamilyName> ┆ Evans@eng           ┆ null       │\n",
       "│ MtvqnQ!bb>           ┆ lian_footballer)>    ┆                 ┆                     ┆            │\n",
       "│ <id_t06pViLE8Q_?RG_O ┆ <Seraya_Shapshal>    ┆ <hasGivenName>  ┆ Seraya@eng          ┆ null       │\n",
       "│ yLiRuMuGM>           ┆                      ┆                 ┆                     ┆            │\n",
       "│ <id_t06pViLE8Q_ukZ_K ┆ <Seraya_Shapshal>    ┆ <hasFamilyName> ┆ Shapshal@eng        ┆ null       │\n",
       "│ FATggwwjT>           ┆                      ┆                 ┆                     ┆            │\n",
       "└──────────────────────┴──────────────────────┴─────────────────┴─────────────────────┴────────────┘"
      ]
     },
     "metadata": {},
     "output_type": "display_data"
    },
    {
     "name": "stdout",
     "output_type": "stream",
     "text": [
      "personNameSources.tsv\n"
     ]
    },
    {
     "data": {
      "text/html": [
       "<div><style>\n",
       ".dataframe > thead > tr,\n",
       ".dataframe > tbody > tr {\n",
       "  text-align: right;\n",
       "  white-space: pre-wrap;\n",
       "}\n",
       "</style>\n",
       "<small>shape: (12_568_188, 5)</small><table border=\"1\" class=\"dataframe\"><thead><tr><th>id</th><th>subject</th><th>predicate</th><th>cat_object</th><th>num_object</th></tr><tr><td>str</td><td>str</td><td>str</td><td>str</td><td>f64</td></tr></thead><tbody><tr><td>&quot;&lt;id_VRaCmdn5Zt_Tm9_NvrY5xXdkk&gt;&quot;</td><td>&quot;&lt;id_wGHfubCwBs_?RG_UMJuagf9WE&gt;&quot;</td><td>&quot;&lt;extractionSource&gt;&quot;</td><td>&quot;&lt;yagoTheme_yagoTransitiveTypes&gt;&quot;</td><td>null</td></tr><tr><td>null</td><td>&quot;&lt;id_VRaCmdn5Zt_Tm9_NvrY5xXdkk&gt;&quot;</td><td>&quot;&lt;extractionTechnique&gt;&quot;</td><td>&quot;PersonNameExtractor&quot;</td><td>null</td></tr><tr><td>&quot;&lt;id_7YJhYk4Xd3_Tm9_NvrY5xXdkk&gt;&quot;</td><td>&quot;&lt;id_wGHfubCwBs_SBd_DtqtQ69znf&gt;&quot;</td><td>&quot;&lt;extractionSource&gt;&quot;</td><td>&quot;&lt;yagoTheme_yagoTransitiveTypes&gt;&quot;</td><td>null</td></tr><tr><td>null</td><td>&quot;&lt;id_7YJhYk4Xd3_Tm9_NvrY5xXdkk&gt;&quot;</td><td>&quot;&lt;extractionTechnique&gt;&quot;</td><td>&quot;PersonNameExtractor&quot;</td><td>null</td></tr><tr><td>&quot;&lt;id_511xi6Xa6g_Tm9_NvrY5xXdkk&gt;&quot;</td><td>&quot;&lt;id_wGHfubCwBs_ukZ_kqB1JUjlcf&gt;&quot;</td><td>&quot;&lt;extractionSource&gt;&quot;</td><td>&quot;&lt;yagoTheme_yagoTransitiveTypes&gt;&quot;</td><td>null</td></tr><tr><td>null</td><td>&quot;&lt;id_511xi6Xa6g_Tm9_NvrY5xXdkk&gt;&quot;</td><td>&quot;&lt;extractionTechnique&gt;&quot;</td><td>&quot;PersonNameExtractor&quot;</td><td>null</td></tr><tr><td>&quot;&lt;id_5x2dV2lZmh_Tm9_NvrY5xXdkk&gt;&quot;</td><td>&quot;&lt;id_EQgbQobwPR_?RG_g?tNFi!0Eq&gt;&quot;</td><td>&quot;&lt;extractionSource&gt;&quot;</td><td>&quot;&lt;yagoTheme_yagoTransitiveTypes&gt;&quot;</td><td>null</td></tr><tr><td>null</td><td>&quot;&lt;id_5x2dV2lZmh_Tm9_NvrY5xXdkk&gt;&quot;</td><td>&quot;&lt;extractionTechnique&gt;&quot;</td><td>&quot;PersonNameExtractor&quot;</td><td>null</td></tr><tr><td>&quot;&lt;id_QjiLHB6FKp_Tm9_NvrY5xXdkk&gt;&quot;</td><td>&quot;&lt;id_EQgbQobwPR_SBd_cPuIeSSbu8&gt;&quot;</td><td>&quot;&lt;extractionSource&gt;&quot;</td><td>&quot;&lt;yagoTheme_yagoTransitiveTypes&gt;&quot;</td><td>null</td></tr><tr><td>null</td><td>&quot;&lt;id_QjiLHB6FKp_Tm9_NvrY5xXdkk&gt;&quot;</td><td>&quot;&lt;extractionTechnique&gt;&quot;</td><td>&quot;PersonNameExtractor&quot;</td><td>null</td></tr><tr><td>&quot;&lt;id_aQMx!XbvLT_Tm9_NvrY5xXdkk&gt;&quot;</td><td>&quot;&lt;id_EQgbQobwPR_ukZ_2MJcHBTdAW&gt;&quot;</td><td>&quot;&lt;extractionSource&gt;&quot;</td><td>&quot;&lt;yagoTheme_yagoTransitiveTypes&gt;&quot;</td><td>null</td></tr><tr><td>null</td><td>&quot;&lt;id_aQMx!XbvLT_Tm9_NvrY5xXdkk&gt;&quot;</td><td>&quot;&lt;extractionTechnique&gt;&quot;</td><td>&quot;PersonNameExtractor&quot;</td><td>null</td></tr><tr><td>&hellip;</td><td>&hellip;</td><td>&hellip;</td><td>&hellip;</td><td>&hellip;</td></tr><tr><td>&quot;&lt;id_Z9iRf8vEOs_Tm9_NvrY5xXdkk&gt;&quot;</td><td>&quot;&lt;id_3p2FgqRrxg_?RG_PBtLWiZ5FR&gt;&quot;</td><td>&quot;&lt;extractionSource&gt;&quot;</td><td>&quot;&lt;yagoTheme_yagoTransitiveTypes&gt;&quot;</td><td>null</td></tr><tr><td>null</td><td>&quot;&lt;id_Z9iRf8vEOs_Tm9_NvrY5xXdkk&gt;&quot;</td><td>&quot;&lt;extractionTechnique&gt;&quot;</td><td>&quot;PersonNameExtractor&quot;</td><td>null</td></tr><tr><td>&quot;&lt;id_jcTj7ZzdRC_Tm9_NvrY5xXdkk&gt;&quot;</td><td>&quot;&lt;id_3p2FgqRrxg_SBd_tX5if4s292&gt;&quot;</td><td>&quot;&lt;extractionSource&gt;&quot;</td><td>&quot;&lt;yagoTheme_yagoTransitiveTypes&gt;&quot;</td><td>null</td></tr><tr><td>null</td><td>&quot;&lt;id_jcTj7ZzdRC_Tm9_NvrY5xXdkk&gt;&quot;</td><td>&quot;&lt;extractionTechnique&gt;&quot;</td><td>&quot;PersonNameExtractor&quot;</td><td>null</td></tr><tr><td>&quot;&lt;id_rB9X4lKRFh_Tm9_NvrY5xXdkk&gt;&quot;</td><td>&quot;&lt;id_3p2FgqRrxg_ukZ_HMtvqnQ!bb&gt;&quot;</td><td>&quot;&lt;extractionSource&gt;&quot;</td><td>&quot;&lt;yagoTheme_yagoTransitiveTypes&gt;&quot;</td><td>null</td></tr><tr><td>null</td><td>&quot;&lt;id_rB9X4lKRFh_Tm9_NvrY5xXdkk&gt;&quot;</td><td>&quot;&lt;extractionTechnique&gt;&quot;</td><td>&quot;PersonNameExtractor&quot;</td><td>null</td></tr><tr><td>&quot;&lt;id_!8R9BrBdJ4_Tm9_NvrY5xXdkk&gt;&quot;</td><td>&quot;&lt;id_t06pViLE8Q_?RG_OyLiRuMuGM&gt;&quot;</td><td>&quot;&lt;extractionSource&gt;&quot;</td><td>&quot;&lt;yagoTheme_yagoTransitiveTypes&gt;&quot;</td><td>null</td></tr><tr><td>null</td><td>&quot;&lt;id_!8R9BrBdJ4_Tm9_NvrY5xXdkk&gt;&quot;</td><td>&quot;&lt;extractionTechnique&gt;&quot;</td><td>&quot;PersonNameExtractor&quot;</td><td>null</td></tr><tr><td>&quot;&lt;id_U9nZKOmbuh_Tm9_NvrY5xXdkk&gt;&quot;</td><td>&quot;&lt;id_t06pViLE8Q_SBd_FTbUJdMpPN&gt;&quot;</td><td>&quot;&lt;extractionSource&gt;&quot;</td><td>&quot;&lt;yagoTheme_yagoTransitiveTypes&gt;&quot;</td><td>null</td></tr><tr><td>null</td><td>&quot;&lt;id_U9nZKOmbuh_Tm9_NvrY5xXdkk&gt;&quot;</td><td>&quot;&lt;extractionTechnique&gt;&quot;</td><td>&quot;PersonNameExtractor&quot;</td><td>null</td></tr><tr><td>&quot;&lt;id_v1gPxCeMkC_Tm9_NvrY5xXdkk&gt;&quot;</td><td>&quot;&lt;id_t06pViLE8Q_ukZ_KFATggwwjT&gt;&quot;</td><td>&quot;&lt;extractionSource&gt;&quot;</td><td>&quot;&lt;yagoTheme_yagoTransitiveTypes&gt;&quot;</td><td>null</td></tr><tr><td>null</td><td>&quot;&lt;id_v1gPxCeMkC_Tm9_NvrY5xXdkk&gt;&quot;</td><td>&quot;&lt;extractionTechnique&gt;&quot;</td><td>&quot;PersonNameExtractor&quot;</td><td>null</td></tr></tbody></table></div>"
      ],
      "text/plain": [
       "shape: (12_568_188, 5)\n",
       "┌─────────────────────┬─────────────────────┬────────────────────┬────────────────────┬────────────┐\n",
       "│ id                  ┆ subject             ┆ predicate          ┆ cat_object         ┆ num_object │\n",
       "│ ---                 ┆ ---                 ┆ ---                ┆ ---                ┆ ---        │\n",
       "│ str                 ┆ str                 ┆ str                ┆ str                ┆ f64        │\n",
       "╞═════════════════════╪═════════════════════╪════════════════════╪════════════════════╪════════════╡\n",
       "│ <id_VRaCmdn5Zt_Tm9_ ┆ <id_wGHfubCwBs_?RG_ ┆ <extractionSource> ┆ <yagoTheme_yagoTra ┆ null       │\n",
       "│ NvrY5xXdkk>         ┆ UMJuagf9WE>         ┆                    ┆ nsitiveTypes>      ┆            │\n",
       "│ null                ┆ <id_VRaCmdn5Zt_Tm9_ ┆ <extractionTechniq ┆ PersonNameExtracto ┆ null       │\n",
       "│                     ┆ NvrY5xXdkk>         ┆ ue>                ┆ r                  ┆            │\n",
       "│ <id_7YJhYk4Xd3_Tm9_ ┆ <id_wGHfubCwBs_SBd_ ┆ <extractionSource> ┆ <yagoTheme_yagoTra ┆ null       │\n",
       "│ NvrY5xXdkk>         ┆ DtqtQ69znf>         ┆                    ┆ nsitiveTypes>      ┆            │\n",
       "│ null                ┆ <id_7YJhYk4Xd3_Tm9_ ┆ <extractionTechniq ┆ PersonNameExtracto ┆ null       │\n",
       "│                     ┆ NvrY5xXdkk>         ┆ ue>                ┆ r                  ┆            │\n",
       "│ <id_511xi6Xa6g_Tm9_ ┆ <id_wGHfubCwBs_ukZ_ ┆ <extractionSource> ┆ <yagoTheme_yagoTra ┆ null       │\n",
       "│ NvrY5xXdkk>         ┆ kqB1JUjlcf>         ┆                    ┆ nsitiveTypes>      ┆            │\n",
       "│ …                   ┆ …                   ┆ …                  ┆ …                  ┆ …          │\n",
       "│ null                ┆ <id_!8R9BrBdJ4_Tm9_ ┆ <extractionTechniq ┆ PersonNameExtracto ┆ null       │\n",
       "│                     ┆ NvrY5xXdkk>         ┆ ue>                ┆ r                  ┆            │\n",
       "│ <id_U9nZKOmbuh_Tm9_ ┆ <id_t06pViLE8Q_SBd_ ┆ <extractionSource> ┆ <yagoTheme_yagoTra ┆ null       │\n",
       "│ NvrY5xXdkk>         ┆ FTbUJdMpPN>         ┆                    ┆ nsitiveTypes>      ┆            │\n",
       "│ null                ┆ <id_U9nZKOmbuh_Tm9_ ┆ <extractionTechniq ┆ PersonNameExtracto ┆ null       │\n",
       "│                     ┆ NvrY5xXdkk>         ┆ ue>                ┆ r                  ┆            │\n",
       "│ <id_v1gPxCeMkC_Tm9_ ┆ <id_t06pViLE8Q_ukZ_ ┆ <extractionSource> ┆ <yagoTheme_yagoTra ┆ null       │\n",
       "│ NvrY5xXdkk>         ┆ KFATggwwjT>         ┆                    ┆ nsitiveTypes>      ┆            │\n",
       "│ null                ┆ <id_v1gPxCeMkC_Tm9_ ┆ <extractionTechniq ┆ PersonNameExtracto ┆ null       │\n",
       "│                     ┆ NvrY5xXdkk>         ┆ ue>                ┆ r                  ┆            │\n",
       "└─────────────────────┴─────────────────────┴────────────────────┴────────────────────┴────────────┘"
      ]
     },
     "metadata": {},
     "output_type": "display_data"
    },
    {
     "name": "stdout",
     "output_type": "stream",
     "text": [
      "redirectLabelsNeedsTranslationTypeChecking_en.tsv\n"
     ]
    },
    {
     "data": {
      "text/html": [
       "<div><style>\n",
       ".dataframe > thead > tr,\n",
       ".dataframe > tbody > tr {\n",
       "  text-align: right;\n",
       "  white-space: pre-wrap;\n",
       "}\n",
       "</style>\n",
       "<small>shape: (9_851_154, 5)</small><table border=\"1\" class=\"dataframe\"><thead><tr><th>id</th><th>subject</th><th>predicate</th><th>cat_object</th><th>num_object</th></tr><tr><td>str</td><td>str</td><td>str</td><td>str</td><td>f64</td></tr></thead><tbody><tr><td>null</td><td>&quot;&lt;USS_Menominee_(AT-73)&gt;&quot;</td><td>&quot;&lt;redirectedFrom&gt;&quot;</td><td>&quot;KRI Rakata (928)@eng&quot;</td><td>null</td></tr><tr><td>null</td><td>&quot;&lt;Congenital_melanocytic_nevus&gt;&quot;</td><td>&quot;&lt;redirectedFrom&gt;&quot;</td><td>&quot;Small congenital melanocytic nevus@eng&quot;</td><td>null</td></tr><tr><td>null</td><td>&quot;&lt;Frank_E._Wetherell&gt;&quot;</td><td>&quot;&lt;redirectedFrom&gt;&quot;</td><td>&quot;F.E. Wetherell@eng&quot;</td><td>null</td></tr><tr><td>null</td><td>&quot;&lt;Rock_pratincole&gt;&quot;</td><td>&quot;&lt;redirectedFrom&gt;&quot;</td><td>&quot;Galactochrysea liberiae@eng&quot;</td><td>null</td></tr><tr><td>null</td><td>&quot;&lt;Robert_Chambers_(criminal)&gt;&quot;</td><td>&quot;&lt;redirectedFrom&gt;&quot;</td><td>&quot;Preppie Murder case@eng&quot;</td><td>null</td></tr><tr><td>null</td><td>&quot;&lt;National_Organization_for_Rare_Disorders&gt;&quot;</td><td>&quot;&lt;redirectedFrom&gt;&quot;</td><td>&quot;National Organization of Rare Diseases@eng&quot;</td><td>null</td></tr><tr><td>null</td><td>&quot;&lt;Kemin&gt;&quot;</td><td>&quot;&lt;redirectedFrom&gt;&quot;</td><td>&quot;Bystrorechenskoye@eng&quot;</td><td>null</td></tr><tr><td>null</td><td>&quot;&lt;Qinyang&gt;&quot;</td><td>&quot;&lt;redirectedFrom&gt;&quot;</td><td>&quot;Hwai-king@eng&quot;</td><td>null</td></tr><tr><td>null</td><td>&quot;&lt;Gay_&amp;amp;_Lesbian_Switchboard_of_New_York&gt;&quot;</td><td>&quot;&lt;redirectedFrom&gt;&quot;</td><td>&quot;Gay and Lesbian Switchboard of New York@eng&quot;</td><td>null</td></tr><tr><td>null</td><td>&quot;&lt;Tomas_N&#x27;evergreen&gt;&quot;</td><td>&quot;&lt;redirectedFrom&gt;&quot;</td><td>&quot;Tomas n&#x27;evergreen@eng&quot;</td><td>null</td></tr><tr><td>null</td><td>&quot;&lt;Carles_Puigdemont&gt;&quot;</td><td>&quot;&lt;redirectedFrom&gt;&quot;</td><td>&quot;Carlos puigdemont@eng&quot;</td><td>null</td></tr><tr><td>null</td><td>&quot;&lt;Goryeo_coinage&gt;&quot;</td><td>&quot;&lt;redirectedFrom&gt;&quot;</td><td>&quot;Koryo Dynasty coinages@eng&quot;</td><td>null</td></tr><tr><td>&hellip;</td><td>&hellip;</td><td>&hellip;</td><td>&hellip;</td><td>&hellip;</td></tr><tr><td>null</td><td>&quot;&lt;List_of_presidents_of_the_Assembly_of_the_Republic_of_North_Macedonia&gt;&quot;</td><td>&quot;&lt;redirectedFrom&gt;&quot;</td><td>&quot;List of Speakers of the Assembly of the Republic of Macedonia@eng&quot;</td><td>null</td></tr><tr><td>null</td><td>&quot;&lt;Boris_Pašanski&gt;&quot;</td><td>&quot;&lt;redirectedFrom&gt;&quot;</td><td>&quot;Boris Pashanski@eng&quot;</td><td>null</td></tr><tr><td>null</td><td>&quot;&lt;Mobile_Suit_Gundam_SEED&gt;&quot;</td><td>&quot;&lt;redirectedFrom&gt;&quot;</td><td>&quot;Battle of PLANT@eng&quot;</td><td>null</td></tr><tr><td>null</td><td>&quot;&lt;Journal_of_Basic_Microbiology&gt;&quot;</td><td>&quot;&lt;redirectedFrom&gt;&quot;</td><td>&quot;Zeitschrift für Allgemeine Mikrobiologie@eng&quot;</td><td>null</td></tr><tr><td>null</td><td>&quot;&lt;An_t-Iasgair&gt;&quot;</td><td>&quot;&lt;redirectedFrom&gt;&quot;</td><td>&quot;An T-Iasgair Light@eng&quot;</td><td>null</td></tr><tr><td>null</td><td>&quot;&lt;Shaanxi_Wuzhou_F.C.&gt;&quot;</td><td>&quot;&lt;redirectedFrom&gt;&quot;</td><td>&quot;Shaanxi Wuzhou@eng&quot;</td><td>null</td></tr><tr><td>null</td><td>&quot;&lt;Acer_pensylvanicum&gt;&quot;</td><td>&quot;&lt;redirectedFrom&gt;&quot;</td><td>&quot;Striped Maples@eng&quot;</td><td>null</td></tr><tr><td>null</td><td>&quot;&lt;Material_Design&gt;&quot;</td><td>&quot;&lt;redirectedFrom&gt;&quot;</td><td>&quot;Quantum Paper@eng&quot;</td><td>null</td></tr><tr><td>null</td><td>&quot;&lt;C._I._Defontenay&gt;&quot;</td><td>&quot;&lt;redirectedFrom&gt;&quot;</td><td>&quot;C I Defontenay@eng&quot;</td><td>null</td></tr><tr><td>null</td><td>&quot;&lt;Napoleon_III&gt;&quot;</td><td>&quot;&lt;redirectedFrom&gt;&quot;</td><td>&quot;Napoleone III@eng&quot;</td><td>null</td></tr><tr><td>null</td><td>&quot;&lt;Calephelis_nemesis&gt;&quot;</td><td>&quot;&lt;redirectedFrom&gt;&quot;</td><td>&quot;Dusky metalmark@eng&quot;</td><td>null</td></tr><tr><td>null</td><td>&quot;&lt;Washington_Nationals&gt;&quot;</td><td>&quot;&lt;redirectedFrom&gt;&quot;</td><td>&quot;Washington Nats@eng&quot;</td><td>null</td></tr></tbody></table></div>"
      ],
      "text/plain": [
       "shape: (9_851_154, 5)\n",
       "┌──────┬─────────────────────────────┬──────────────────┬─────────────────────────────┬────────────┐\n",
       "│ id   ┆ subject                     ┆ predicate        ┆ cat_object                  ┆ num_object │\n",
       "│ ---  ┆ ---                         ┆ ---              ┆ ---                         ┆ ---        │\n",
       "│ str  ┆ str                         ┆ str              ┆ str                         ┆ f64        │\n",
       "╞══════╪═════════════════════════════╪══════════════════╪═════════════════════════════╪════════════╡\n",
       "│ null ┆ <USS_Menominee_(AT-73)>     ┆ <redirectedFrom> ┆ KRI Rakata (928)@eng        ┆ null       │\n",
       "│ null ┆ <Congenital_melanocytic_nev ┆ <redirectedFrom> ┆ Small congenital            ┆ null       │\n",
       "│      ┆ us>                         ┆                  ┆ melanocytic nevus@eng       ┆            │\n",
       "│ null ┆ <Frank_E._Wetherell>        ┆ <redirectedFrom> ┆ F.E. Wetherell@eng          ┆ null       │\n",
       "│ null ┆ <Rock_pratincole>           ┆ <redirectedFrom> ┆ Galactochrysea liberiae@eng ┆ null       │\n",
       "│ null ┆ <Robert_Chambers_(criminal) ┆ <redirectedFrom> ┆ Preppie Murder case@eng     ┆ null       │\n",
       "│      ┆ >                           ┆                  ┆                             ┆            │\n",
       "│ …    ┆ …                           ┆ …                ┆ …                           ┆ …          │\n",
       "│ null ┆ <Material_Design>           ┆ <redirectedFrom> ┆ Quantum Paper@eng           ┆ null       │\n",
       "│ null ┆ <C._I._Defontenay>          ┆ <redirectedFrom> ┆ C I Defontenay@eng          ┆ null       │\n",
       "│ null ┆ <Napoleon_III>              ┆ <redirectedFrom> ┆ Napoleone III@eng           ┆ null       │\n",
       "│ null ┆ <Calephelis_nemesis>        ┆ <redirectedFrom> ┆ Dusky metalmark@eng         ┆ null       │\n",
       "│ null ┆ <Washington_Nationals>      ┆ <redirectedFrom> ┆ Washington Nats@eng         ┆ null       │\n",
       "└──────┴─────────────────────────────┴──────────────────┴─────────────────────────────┴────────────┘"
      ]
     },
     "metadata": {},
     "output_type": "display_data"
    },
    {
     "name": "stdout",
     "output_type": "stream",
     "text": [
      "redirectLabelsNeedsTranslationTypeChecking_fr.tsv\n"
     ]
    },
    {
     "data": {
      "text/html": [
       "<div><style>\n",
       ".dataframe > thead > tr,\n",
       ".dataframe > tbody > tr {\n",
       "  text-align: right;\n",
       "  white-space: pre-wrap;\n",
       "}\n",
       "</style>\n",
       "<small>shape: (1_640_332, 5)</small><table border=\"1\" class=\"dataframe\"><thead><tr><th>id</th><th>subject</th><th>predicate</th><th>cat_object</th><th>num_object</th></tr><tr><td>str</td><td>str</td><td>str</td><td>str</td><td>f64</td></tr></thead><tbody><tr><td>null</td><td>&quot;&lt;fr/Sans_Atout&gt;&quot;</td><td>&quot;&lt;redirectedFrom&gt;&quot;</td><td>&quot;Sans-Atout@fra&quot;</td><td>null</td></tr><tr><td>null</td><td>&quot;&lt;fr/La_P&#x27;tite_Gayole&gt;&quot;</td><td>&quot;&lt;redirectedFrom&gt;&quot;</td><td>&quot;La p&#x27;tite gayole@fra&quot;</td><td>null</td></tr><tr><td>null</td><td>&quot;&lt;fr/Messe_solennelle_de_sainte_Cécile&gt;&quot;</td><td>&quot;&lt;redirectedFrom&gt;&quot;</td><td>&quot;Messe solennelle en l&#x27;honneur de sainte Cécile@fra&quot;</td><td>null</td></tr><tr><td>null</td><td>&quot;&lt;fr/Saint-Jacques-de-Néhou&gt;&quot;</td><td>&quot;&lt;redirectedFrom&gt;&quot;</td><td>&quot;Saint-jacques-de-néhou@fra&quot;</td><td>null</td></tr><tr><td>null</td><td>&quot;&lt;fr/Bockstael_(métro_de_Bruxelles)&gt;&quot;</td><td>&quot;&lt;redirectedFrom&gt;&quot;</td><td>&quot;Bockstael (métro de bruxelles)@fra&quot;</td><td>null</td></tr><tr><td>null</td><td>&quot;&lt;fr/Championnat_de_Tunisie_masculin_de_handball_1981-1982&gt;&quot;</td><td>&quot;&lt;redirectedFrom&gt;&quot;</td><td>&quot;Championnat de Tunisie de handball masculin 1981-1982@fra&quot;</td><td>null</td></tr><tr><td>null</td><td>&quot;&lt;fr/Démographie_de_la_Grenade&gt;&quot;</td><td>&quot;&lt;redirectedFrom&gt;&quot;</td><td>&quot;Demographie de Grenade@fra&quot;</td><td>null</td></tr><tr><td>null</td><td>&quot;&lt;fr/Music_Canada&gt;&quot;</td><td>&quot;&lt;redirectedFrom&gt;&quot;</td><td>&quot;Canadian Recording Industry Association@fra&quot;</td><td>null</td></tr><tr><td>null</td><td>&quot;&lt;fr/James_Guthrie_(homme_politique)&gt;&quot;</td><td>&quot;&lt;redirectedFrom&gt;&quot;</td><td>&quot;James Guthrie (politique)@fra&quot;</td><td>null</td></tr><tr><td>null</td><td>&quot;&lt;fr/Lily_Sergueiew&gt;&quot;</td><td>&quot;&lt;redirectedFrom&gt;&quot;</td><td>&quot;Lily Sergueïev@fra&quot;</td><td>null</td></tr><tr><td>null</td><td>&quot;&lt;fr/Don&#x27;t_Know_What_You_Got_(Till_It&#x27;s_Gone)&gt;&quot;</td><td>&quot;&lt;redirectedFrom&gt;&quot;</td><td>&quot;Don&#x27;t Know What You Got@fra&quot;</td><td>null</td></tr><tr><td>null</td><td>&quot;&lt;fr/District_de_la_Glâne&gt;&quot;</td><td>&quot;&lt;redirectedFrom&gt;&quot;</td><td>&quot;District De La Glâne@fra&quot;</td><td>null</td></tr><tr><td>&hellip;</td><td>&hellip;</td><td>&hellip;</td><td>&hellip;</td><td>&hellip;</td></tr><tr><td>null</td><td>&quot;&lt;fr/Sai_&amp;amp;_Co&gt;&quot;</td><td>&quot;&lt;redirectedFrom&gt;&quot;</td><td>&quot;Sai &amp; Kō@fra&quot;</td><td>null</td></tr><tr><td>null</td><td>&quot;&lt;fr/Tarzan_l&#x27;intrépide&gt;&quot;</td><td>&quot;&lt;redirectedFrom&gt;&quot;</td><td>&quot;Tarzan l’Intrépide@fra&quot;</td><td>null</td></tr><tr><td>null</td><td>&quot;&lt;fr/Polymetal&gt;&quot;</td><td>&quot;&lt;redirectedFrom&gt;&quot;</td><td>&quot;Polymetal JSC@fra&quot;</td><td>null</td></tr><tr><td>null</td><td>&quot;&lt;fr/Comté_de_Wise_(Texas)&gt;&quot;</td><td>&quot;&lt;redirectedFrom&gt;&quot;</td><td>&quot;Comté de wise (texas)@fra&quot;</td><td>null</td></tr><tr><td>null</td><td>&quot;&lt;fr/Robert_Leslie_Usinger&gt;&quot;</td><td>&quot;&lt;redirectedFrom&gt;&quot;</td><td>&quot;Robert L. Usinger@fra&quot;</td><td>null</td></tr><tr><td>null</td><td>&quot;&lt;fr/Ovidie&gt;&quot;</td><td>&quot;&lt;redirectedFrom&gt;&quot;</td><td>&quot;Éloïse Delsart@fra&quot;</td><td>null</td></tr><tr><td>null</td><td>&quot;&lt;fr/Eukoenenia_florenciae&gt;&quot;</td><td>&quot;&lt;redirectedFrom&gt;&quot;</td><td>&quot;Koenenia florenciae@fra&quot;</td><td>null</td></tr><tr><td>null</td><td>&quot;&lt;fr/Boris_Pašanski&gt;&quot;</td><td>&quot;&lt;redirectedFrom&gt;&quot;</td><td>&quot;Boris Pashanski@fra&quot;</td><td>null</td></tr><tr><td>null</td><td>&quot;&lt;fr/Copolymère&gt;&quot;</td><td>&quot;&lt;redirectedFrom&gt;&quot;</td><td>&quot;Copolymérisation@fra&quot;</td><td>null</td></tr><tr><td>null</td><td>&quot;&lt;fr/Zlydzen&gt;&quot;</td><td>&quot;&lt;redirectedFrom&gt;&quot;</td><td>&quot;Zlydzens@fra&quot;</td><td>null</td></tr><tr><td>null</td><td>&quot;&lt;fr/Douze_Apôtres&gt;&quot;</td><td>&quot;&lt;redirectedFrom&gt;&quot;</td><td>&quot;Douze apôtres@fra&quot;</td><td>null</td></tr><tr><td>null</td><td>&quot;&lt;fr/Hero_(film,_2002)&gt;&quot;</td><td>&quot;&lt;redirectedFrom&gt;&quot;</td><td>&quot;Hero (film)@fra&quot;</td><td>null</td></tr></tbody></table></div>"
      ],
      "text/plain": [
       "shape: (1_640_332, 5)\n",
       "┌──────┬─────────────────────────────┬──────────────────┬─────────────────────────────┬────────────┐\n",
       "│ id   ┆ subject                     ┆ predicate        ┆ cat_object                  ┆ num_object │\n",
       "│ ---  ┆ ---                         ┆ ---              ┆ ---                         ┆ ---        │\n",
       "│ str  ┆ str                         ┆ str              ┆ str                         ┆ f64        │\n",
       "╞══════╪═════════════════════════════╪══════════════════╪═════════════════════════════╪════════════╡\n",
       "│ null ┆ <fr/Sans_Atout>             ┆ <redirectedFrom> ┆ Sans-Atout@fra              ┆ null       │\n",
       "│ null ┆ <fr/La_P'tite_Gayole>       ┆ <redirectedFrom> ┆ La p'tite gayole@fra        ┆ null       │\n",
       "│ null ┆ <fr/Messe_solennelle_de_sai ┆ <redirectedFrom> ┆ Messe solennelle en         ┆ null       │\n",
       "│      ┆ nte_Cécile>                 ┆                  ┆ l'honneur de sainte         ┆            │\n",
       "│      ┆                             ┆                  ┆ Cécile@fra                  ┆            │\n",
       "│ null ┆ <fr/Saint-Jacques-de-Néhou> ┆ <redirectedFrom> ┆ Saint-jacques-de-néhou@fra  ┆ null       │\n",
       "│ null ┆ <fr/Bockstael_(métro_de_Bru ┆ <redirectedFrom> ┆ Bockstael (métro de         ┆ null       │\n",
       "│      ┆ xelles)>                    ┆                  ┆ bruxelles)@fra              ┆            │\n",
       "│ …    ┆ …                           ┆ …                ┆ …                           ┆ …          │\n",
       "│ null ┆ <fr/Boris_Pašanski>         ┆ <redirectedFrom> ┆ Boris Pashanski@fra         ┆ null       │\n",
       "│ null ┆ <fr/Copolymère>             ┆ <redirectedFrom> ┆ Copolymérisation@fra        ┆ null       │\n",
       "│ null ┆ <fr/Zlydzen>                ┆ <redirectedFrom> ┆ Zlydzens@fra                ┆ null       │\n",
       "│ null ┆ <fr/Douze_Apôtres>          ┆ <redirectedFrom> ┆ Douze apôtres@fra           ┆ null       │\n",
       "│ null ┆ <fr/Hero_(film,_2002)>      ┆ <redirectedFrom> ┆ Hero (film)@fra             ┆ null       │\n",
       "└──────┴─────────────────────────────┴──────────────────┴─────────────────────────────┴────────────┘"
      ]
     },
     "metadata": {},
     "output_type": "display_data"
    },
    {
     "name": "stdout",
     "output_type": "stream",
     "text": [
      "redirectLabelsNeedsTypeChecking_fr.tsv\n"
     ]
    },
    {
     "data": {
      "text/html": [
       "<div><style>\n",
       ".dataframe > thead > tr,\n",
       ".dataframe > tbody > tr {\n",
       "  text-align: right;\n",
       "  white-space: pre-wrap;\n",
       "}\n",
       "</style>\n",
       "<small>shape: (1_491_108, 5)</small><table border=\"1\" class=\"dataframe\"><thead><tr><th>id</th><th>subject</th><th>predicate</th><th>cat_object</th><th>num_object</th></tr><tr><td>str</td><td>str</td><td>str</td><td>str</td><td>f64</td></tr></thead><tbody><tr><td>null</td><td>&quot;&lt;fr/Sans_Atout&gt;&quot;</td><td>&quot;&lt;redirectedFrom&gt;&quot;</td><td>&quot;Sans-Atout@fra&quot;</td><td>null</td></tr><tr><td>null</td><td>&quot;&lt;fr/La_P&#x27;tite_Gayole&gt;&quot;</td><td>&quot;&lt;redirectedFrom&gt;&quot;</td><td>&quot;La p&#x27;tite gayole@fra&quot;</td><td>null</td></tr><tr><td>null</td><td>&quot;&lt;St._Cecilia_Mass&gt;&quot;</td><td>&quot;&lt;redirectedFrom&gt;&quot;</td><td>&quot;Messe solennelle en l&#x27;honneur de sainte Cécile@fra&quot;</td><td>null</td></tr><tr><td>null</td><td>&quot;&lt;Saint-Jacques-de-Néhou&gt;&quot;</td><td>&quot;&lt;redirectedFrom&gt;&quot;</td><td>&quot;Saint-jacques-de-néhou@fra&quot;</td><td>null</td></tr><tr><td>null</td><td>&quot;&lt;Bockstael_metro_station&gt;&quot;</td><td>&quot;&lt;redirectedFrom&gt;&quot;</td><td>&quot;Bockstael (métro de bruxelles)@fra&quot;</td><td>null</td></tr><tr><td>null</td><td>&quot;&lt;fr/Championnat_de_Tunisie_masculin_de_handball_1981-1982&gt;&quot;</td><td>&quot;&lt;redirectedFrom&gt;&quot;</td><td>&quot;Championnat de Tunisie de handball masculin 1981-1982@fra&quot;</td><td>null</td></tr><tr><td>null</td><td>&quot;&lt;Music_Canada&gt;&quot;</td><td>&quot;&lt;redirectedFrom&gt;&quot;</td><td>&quot;Canadian Recording Industry Association@fra&quot;</td><td>null</td></tr><tr><td>null</td><td>&quot;&lt;James_Guthrie_(Kentucky_politician)&gt;&quot;</td><td>&quot;&lt;redirectedFrom&gt;&quot;</td><td>&quot;James Guthrie (politique)@fra&quot;</td><td>null</td></tr><tr><td>null</td><td>&quot;&lt;Nathalie_Sergueiew&gt;&quot;</td><td>&quot;&lt;redirectedFrom&gt;&quot;</td><td>&quot;Lily Sergueïev@fra&quot;</td><td>null</td></tr><tr><td>null</td><td>&quot;&lt;Don&#x27;t_Know_What_You_Got_(Till_It&#x27;s_Gone)&gt;&quot;</td><td>&quot;&lt;redirectedFrom&gt;&quot;</td><td>&quot;Don&#x27;t Know What You Got@fra&quot;</td><td>null</td></tr><tr><td>null</td><td>&quot;&lt;Glâne_District&gt;&quot;</td><td>&quot;&lt;redirectedFrom&gt;&quot;</td><td>&quot;District De La Glâne@fra&quot;</td><td>null</td></tr><tr><td>null</td><td>&quot;&lt;fr/Climat_du_Haut-Rhin&gt;&quot;</td><td>&quot;&lt;redirectedFrom&gt;&quot;</td><td>&quot;Climat du haut-rhin@fra&quot;</td><td>null</td></tr><tr><td>&hellip;</td><td>&hellip;</td><td>&hellip;</td><td>&hellip;</td><td>&hellip;</td></tr><tr><td>null</td><td>&quot;&lt;Request_for_Comments&gt;&quot;</td><td>&quot;&lt;redirectedFrom&gt;&quot;</td><td>&quot;Requests for comments@fra&quot;</td><td>null</td></tr><tr><td>null</td><td>&quot;&lt;Juliane_of_Nassau&gt;&quot;</td><td>&quot;&lt;redirectedFrom&gt;&quot;</td><td>&quot;Juliana of Nassau-Dillenburg@fra&quot;</td><td>null</td></tr><tr><td>null</td><td>&quot;&lt;Tarzan_the_Fearless&gt;&quot;</td><td>&quot;&lt;redirectedFrom&gt;&quot;</td><td>&quot;Tarzan l’Intrépide@fra&quot;</td><td>null</td></tr><tr><td>null</td><td>&quot;&lt;Polymetal_International&gt;&quot;</td><td>&quot;&lt;redirectedFrom&gt;&quot;</td><td>&quot;Polymetal JSC@fra&quot;</td><td>null</td></tr><tr><td>null</td><td>&quot;&lt;Wise_County,_Texas&gt;&quot;</td><td>&quot;&lt;redirectedFrom&gt;&quot;</td><td>&quot;Comté de wise (texas)@fra&quot;</td><td>null</td></tr><tr><td>null</td><td>&quot;&lt;Robert_L._Usinger&gt;&quot;</td><td>&quot;&lt;redirectedFrom&gt;&quot;</td><td>&quot;Robert L. Usinger@fra&quot;</td><td>null</td></tr><tr><td>null</td><td>&quot;&lt;Ovidie&gt;&quot;</td><td>&quot;&lt;redirectedFrom&gt;&quot;</td><td>&quot;Éloïse Delsart@fra&quot;</td><td>null</td></tr><tr><td>null</td><td>&quot;&lt;fr/Eukoenenia_florenciae&gt;&quot;</td><td>&quot;&lt;redirectedFrom&gt;&quot;</td><td>&quot;Koenenia florenciae@fra&quot;</td><td>null</td></tr><tr><td>null</td><td>&quot;&lt;Boris_Pašanski&gt;&quot;</td><td>&quot;&lt;redirectedFrom&gt;&quot;</td><td>&quot;Boris Pashanski@fra&quot;</td><td>null</td></tr><tr><td>null</td><td>&quot;&lt;Zlydzens&gt;&quot;</td><td>&quot;&lt;redirectedFrom&gt;&quot;</td><td>&quot;Zlydzens@fra&quot;</td><td>null</td></tr><tr><td>null</td><td>&quot;&lt;fr/Douze_Apôtres&gt;&quot;</td><td>&quot;&lt;redirectedFrom&gt;&quot;</td><td>&quot;Douze apôtres@fra&quot;</td><td>null</td></tr><tr><td>null</td><td>&quot;&lt;Hero_(2002_film)&gt;&quot;</td><td>&quot;&lt;redirectedFrom&gt;&quot;</td><td>&quot;Hero (film)@fra&quot;</td><td>null</td></tr></tbody></table></div>"
      ],
      "text/plain": [
       "shape: (1_491_108, 5)\n",
       "┌──────┬────────────────────────────┬──────────────────┬──────────────────────────────┬────────────┐\n",
       "│ id   ┆ subject                    ┆ predicate        ┆ cat_object                   ┆ num_object │\n",
       "│ ---  ┆ ---                        ┆ ---              ┆ ---                          ┆ ---        │\n",
       "│ str  ┆ str                        ┆ str              ┆ str                          ┆ f64        │\n",
       "╞══════╪════════════════════════════╪══════════════════╪══════════════════════════════╪════════════╡\n",
       "│ null ┆ <fr/Sans_Atout>            ┆ <redirectedFrom> ┆ Sans-Atout@fra               ┆ null       │\n",
       "│ null ┆ <fr/La_P'tite_Gayole>      ┆ <redirectedFrom> ┆ La p'tite gayole@fra         ┆ null       │\n",
       "│ null ┆ <St._Cecilia_Mass>         ┆ <redirectedFrom> ┆ Messe solennelle en          ┆ null       │\n",
       "│      ┆                            ┆                  ┆ l'honneur de sainte          ┆            │\n",
       "│      ┆                            ┆                  ┆ Cécile@fra                   ┆            │\n",
       "│ null ┆ <Saint-Jacques-de-Néhou>   ┆ <redirectedFrom> ┆ Saint-jacques-de-néhou@fra   ┆ null       │\n",
       "│ null ┆ <Bockstael_metro_station>  ┆ <redirectedFrom> ┆ Bockstael (métro de          ┆ null       │\n",
       "│      ┆                            ┆                  ┆ bruxelles)@fra               ┆            │\n",
       "│ …    ┆ …                          ┆ …                ┆ …                            ┆ …          │\n",
       "│ null ┆ <fr/Eukoenenia_florenciae> ┆ <redirectedFrom> ┆ Koenenia florenciae@fra      ┆ null       │\n",
       "│ null ┆ <Boris_Pašanski>           ┆ <redirectedFrom> ┆ Boris Pashanski@fra          ┆ null       │\n",
       "│ null ┆ <Zlydzens>                 ┆ <redirectedFrom> ┆ Zlydzens@fra                 ┆ null       │\n",
       "│ null ┆ <fr/Douze_Apôtres>         ┆ <redirectedFrom> ┆ Douze apôtres@fra            ┆ null       │\n",
       "│ null ┆ <Hero_(2002_film)>         ┆ <redirectedFrom> ┆ Hero (film)@fra              ┆ null       │\n",
       "└──────┴────────────────────────────┴──────────────────┴──────────────────────────────┴────────────┘"
      ]
     },
     "metadata": {},
     "output_type": "display_data"
    },
    {
     "name": "stdout",
     "output_type": "stream",
     "text": [
      "ruleResults.tsv\n"
     ]
    },
    {
     "data": {
      "text/html": [
       "<div><style>\n",
       ".dataframe > thead > tr,\n",
       ".dataframe > tbody > tr {\n",
       "  text-align: right;\n",
       "  white-space: pre-wrap;\n",
       "}\n",
       "</style>\n",
       "<small>shape: (61_539, 5)</small><table border=\"1\" class=\"dataframe\"><thead><tr><th>id</th><th>subject</th><th>predicate</th><th>cat_object</th><th>num_object</th></tr><tr><td>str</td><td>str</td><td>str</td><td>str</td><td>f64</td></tr></thead><tbody><tr><td>&quot;&lt;id_KwNfnsiqMs_?XG_ZDYVkGeIz0&gt;&quot;</td><td>&quot;&lt;Jesse_Randhawa&gt;&quot;</td><td>&quot;&lt;isMarriedTo&gt;&quot;</td><td>&quot;&lt;Sandip_Soparrkar&gt;&quot;</td><td>null</td></tr><tr><td>&quot;&lt;id_0fa?INhlqG_?XG_C5FLoiiJD7&gt;&quot;</td><td>&quot;&lt;Margaret_of_Savoy,_Duchess_of_Anjou&gt;&quot;</td><td>&quot;&lt;isMarriedTo&gt;&quot;</td><td>&quot;&lt;Louis_IV,_Elector_Palatine&gt;&quot;</td><td>null</td></tr><tr><td>&quot;&lt;id_qiG7xbFWY4_?XG_S3?bdsVr75&gt;&quot;</td><td>&quot;&lt;Alba_August&gt;&quot;</td><td>&quot;&lt;isMarriedTo&gt;&quot;</td><td>&quot;&lt;Björn_Gustafsson&gt;&quot;</td><td>null</td></tr><tr><td>&quot;&lt;id_oQnSi!U7i7_?XG_LrMR36Jzv?&gt;&quot;</td><td>&quot;&lt;Alfred_Horace_Gerrard&gt;&quot;</td><td>&quot;&lt;isMarriedTo&gt;&quot;</td><td>&quot;&lt;Kaff_Gerrard&gt;&quot;</td><td>null</td></tr><tr><td>&quot;&lt;id_uP?81865ec_?XG_iEUdBjNZn1&gt;&quot;</td><td>&quot;&lt;Chris_Langham&gt;&quot;</td><td>&quot;&lt;isMarriedTo&gt;&quot;</td><td>&quot;&lt;Sue_Jones-Davies&gt;&quot;</td><td>null</td></tr><tr><td>&quot;&lt;id_tkfOinFFm3_?XG_csQK9f68Ti&gt;&quot;</td><td>&quot;&lt;Theodore_I_Laskaris&gt;&quot;</td><td>&quot;&lt;isMarriedTo&gt;&quot;</td><td>&quot;&lt;Anna_Komnene_Angelina&gt;&quot;</td><td>null</td></tr><tr><td>&quot;&lt;id_Ohz1H5urYE_?XG_TNxt34wAlf&gt;&quot;</td><td>&quot;&lt;Princess_Henriette_of_Belgium&gt;&quot;</td><td>&quot;&lt;isMarriedTo&gt;&quot;</td><td>&quot;&lt;Prince_Emmanuel,_Duke_of_Vendôme&gt;&quot;</td><td>null</td></tr><tr><td>&quot;&lt;id_hqUZfDHHL!_?XG_8KzFMAEZNB&gt;&quot;</td><td>&quot;&lt;Pearl_Hackney&gt;&quot;</td><td>&quot;&lt;isMarriedTo&gt;&quot;</td><td>&quot;&lt;Eric_Barker&gt;&quot;</td><td>null</td></tr><tr><td>&quot;&lt;id_mCqll0cnIN_?XG_PXgPu4pscv&gt;&quot;</td><td>&quot;&lt;Cheryl_Kennedy&gt;&quot;</td><td>&quot;&lt;isMarriedTo&gt;&quot;</td><td>&quot;&lt;Tom_Courtenay&gt;&quot;</td><td>null</td></tr><tr><td>&quot;&lt;id_1LDdnUSrz5_?XG_amvJxhA!Gg&gt;&quot;</td><td>&quot;&lt;Gbenro_Ajibade&gt;&quot;</td><td>&quot;&lt;isMarriedTo&gt;&quot;</td><td>&quot;&lt;Osas_Ighodaro&gt;&quot;</td><td>null</td></tr><tr><td>&quot;&lt;id_KzCeFJXiSv_?XG_KzCeFJXiSv&gt;&quot;</td><td>&quot;&lt;Philip,_Duke_of_Schleswig-Holstein-Sonderburg-Glücksburg&gt;&quot;</td><td>&quot;&lt;isMarriedTo&gt;&quot;</td><td>&quot;&lt;Philip,_Duke_of_Schleswig-Holstein-Sonderburg-Glücksburg&gt;&quot;</td><td>null</td></tr><tr><td>&quot;&lt;id_qHgs8MMJC8_?XG_DwJINBLHtZ&gt;&quot;</td><td>&quot;&lt;Oiva_Tuulio&gt;&quot;</td><td>&quot;&lt;isMarriedTo&gt;&quot;</td><td>&quot;&lt;Tyyni_Tuulio&gt;&quot;</td><td>null</td></tr><tr><td>&hellip;</td><td>&hellip;</td><td>&hellip;</td><td>&hellip;</td><td>&hellip;</td></tr><tr><td>&quot;&lt;id_tMNsLyuCKE_?XG_ZkKzAanisr&gt;&quot;</td><td>&quot;&lt;Puyi&gt;&quot;</td><td>&quot;&lt;isMarriedTo&gt;&quot;</td><td>&quot;&lt;Li_Yuqin&gt;&quot;</td><td>null</td></tr><tr><td>&quot;&lt;id_dsej?qC0Q0_?XG_CYboFY8N1L&gt;&quot;</td><td>&quot;&lt;Stacy_Haiduk&gt;&quot;</td><td>&quot;&lt;isMarriedTo&gt;&quot;</td><td>&quot;&lt;Bradford_Tatum&gt;&quot;</td><td>null</td></tr><tr><td>&quot;&lt;id_6dnNwG84lb_?XG_e9?z1z9D8q&gt;&quot;</td><td>&quot;&lt;Kristin_Lehman&gt;&quot;</td><td>&quot;&lt;isMarriedTo&gt;&quot;</td><td>&quot;&lt;Adam_Reid&gt;&quot;</td><td>null</td></tr><tr><td>&quot;&lt;id_Lv5o2h0K7B_?XG_XHO9NFSybS&gt;&quot;</td><td>&quot;&lt;Lowell_Sherman&gt;&quot;</td><td>&quot;&lt;isMarriedTo&gt;&quot;</td><td>&quot;&lt;Pauline_Garon&gt;&quot;</td><td>null</td></tr><tr><td>&quot;&lt;id_K2gHoVNQqG_?XG_?lhv9MUdP1&gt;&quot;</td><td>&quot;&lt;Tom_Green&gt;&quot;</td><td>&quot;&lt;isMarriedTo&gt;&quot;</td><td>&quot;&lt;Drew_Barrymore&gt;&quot;</td><td>null</td></tr><tr><td>&quot;&lt;id_eL6gm!Ldwu_?XG_38DOsh66Ub&gt;&quot;</td><td>&quot;&lt;Paulo_Pedroso&gt;&quot;</td><td>&quot;&lt;isMarriedTo&gt;&quot;</td><td>&quot;&lt;Ana_Catarina_Mendes&gt;&quot;</td><td>null</td></tr><tr><td>&quot;&lt;id_1Md74rejAR_?XG_iNDe5M63Pj&gt;&quot;</td><td>&quot;&lt;Pepi_II_Neferkare&gt;&quot;</td><td>&quot;&lt;isMarriedTo&gt;&quot;</td><td>&quot;&lt;Iput_II&gt;&quot;</td><td>null</td></tr><tr><td>&quot;&lt;id_ub8fhZCs9L_?XG_l2RK1Nrp8q&gt;&quot;</td><td>&quot;&lt;Lukarta_of_Bogen&gt;&quot;</td><td>&quot;&lt;isMarriedTo&gt;&quot;</td><td>&quot;&lt;Bretislav_II&gt;&quot;</td><td>null</td></tr><tr><td>&quot;&lt;id_91UnqIKFMJ_?XG_N2jObc619!&gt;&quot;</td><td>&quot;&lt;Lady_Trample&gt;&quot;</td><td>&quot;&lt;isMarriedTo&gt;&quot;</td><td>&quot;&lt;Scald_Eagle&gt;&quot;</td><td>null</td></tr><tr><td>&quot;&lt;id_TpUyMcHogW_?XG_ogFJ?OGF4w&gt;&quot;</td><td>&quot;&lt;Stewart_Resnick&gt;&quot;</td><td>&quot;&lt;isMarriedTo&gt;&quot;</td><td>&quot;&lt;Lynda_Resnick&gt;&quot;</td><td>null</td></tr><tr><td>&quot;&lt;id_E5eJe8b5sQ_?XG_xc!fOWsffm&gt;&quot;</td><td>&quot;&lt;Alexandre_Riabko&gt;&quot;</td><td>&quot;&lt;isMarriedTo&gt;&quot;</td><td>&quot;&lt;Silvia_Azzoni&gt;&quot;</td><td>null</td></tr><tr><td>&quot;&lt;id_XLtQgvAYLT_?XG_m2!DfvL7V8&gt;&quot;</td><td>&quot;&lt;Alberta_Gay&gt;&quot;</td><td>&quot;&lt;isMarriedTo&gt;&quot;</td><td>&quot;&lt;Marvin_Gay_Sr.&gt;&quot;</td><td>null</td></tr></tbody></table></div>"
      ],
      "text/plain": [
       "shape: (61_539, 5)\n",
       "┌───────────────────────┬──────────────────────┬───────────────┬──────────────────────┬────────────┐\n",
       "│ id                    ┆ subject              ┆ predicate     ┆ cat_object           ┆ num_object │\n",
       "│ ---                   ┆ ---                  ┆ ---           ┆ ---                  ┆ ---        │\n",
       "│ str                   ┆ str                  ┆ str           ┆ str                  ┆ f64        │\n",
       "╞═══════════════════════╪══════════════════════╪═══════════════╪══════════════════════╪════════════╡\n",
       "│ <id_KwNfnsiqMs_?XG_ZD ┆ <Jesse_Randhawa>     ┆ <isMarriedTo> ┆ <Sandip_Soparrkar>   ┆ null       │\n",
       "│ YVkGeIz0>             ┆                      ┆               ┆                      ┆            │\n",
       "│ <id_0fa?INhlqG_?XG_C5 ┆ <Margaret_of_Savoy,_ ┆ <isMarriedTo> ┆ <Louis_IV,_Elector_P ┆ null       │\n",
       "│ FLoiiJD7>             ┆ Duchess_of_Anjou>    ┆               ┆ alatine>             ┆            │\n",
       "│ <id_qiG7xbFWY4_?XG_S3 ┆ <Alba_August>        ┆ <isMarriedTo> ┆ <Björn_Gustafsson>   ┆ null       │\n",
       "│ ?bdsVr75>             ┆                      ┆               ┆                      ┆            │\n",
       "│ <id_oQnSi!U7i7_?XG_Lr ┆ <Alfred_Horace_Gerra ┆ <isMarriedTo> ┆ <Kaff_Gerrard>       ┆ null       │\n",
       "│ MR36Jzv?>             ┆ rd>                  ┆               ┆                      ┆            │\n",
       "│ <id_uP?81865ec_?XG_iE ┆ <Chris_Langham>      ┆ <isMarriedTo> ┆ <Sue_Jones-Davies>   ┆ null       │\n",
       "│ UdBjNZn1>             ┆                      ┆               ┆                      ┆            │\n",
       "│ …                     ┆ …                    ┆ …             ┆ …                    ┆ …          │\n",
       "│ <id_ub8fhZCs9L_?XG_l2 ┆ <Lukarta_of_Bogen>   ┆ <isMarriedTo> ┆ <Bretislav_II>       ┆ null       │\n",
       "│ RK1Nrp8q>             ┆                      ┆               ┆                      ┆            │\n",
       "│ <id_91UnqIKFMJ_?XG_N2 ┆ <Lady_Trample>       ┆ <isMarriedTo> ┆ <Scald_Eagle>        ┆ null       │\n",
       "│ jObc619!>             ┆                      ┆               ┆                      ┆            │\n",
       "│ <id_TpUyMcHogW_?XG_og ┆ <Stewart_Resnick>    ┆ <isMarriedTo> ┆ <Lynda_Resnick>      ┆ null       │\n",
       "│ FJ?OGF4w>             ┆                      ┆               ┆                      ┆            │\n",
       "│ <id_E5eJe8b5sQ_?XG_xc ┆ <Alexandre_Riabko>   ┆ <isMarriedTo> ┆ <Silvia_Azzoni>      ┆ null       │\n",
       "│ !fOWsffm>             ┆                      ┆               ┆                      ┆            │\n",
       "│ <id_XLtQgvAYLT_?XG_m2 ┆ <Alberta_Gay>        ┆ <isMarriedTo> ┆ <Marvin_Gay_Sr.>     ┆ null       │\n",
       "│ !DfvL7V8>             ┆                      ┆               ┆                      ┆            │\n",
       "└───────────────────────┴──────────────────────┴───────────────┴──────────────────────┴────────────┘"
      ]
     },
     "metadata": {},
     "output_type": "display_data"
    },
    {
     "name": "stdout",
     "output_type": "stream",
     "text": [
      "ruleSources.tsv\n"
     ]
    },
    {
     "data": {
      "text/html": [
       "<div><style>\n",
       ".dataframe > thead > tr,\n",
       ".dataframe > tbody > tr {\n",
       "  text-align: right;\n",
       "  white-space: pre-wrap;\n",
       "}\n",
       "</style>\n",
       "<small>shape: (123_078, 5)</small><table border=\"1\" class=\"dataframe\"><thead><tr><th>id</th><th>subject</th><th>predicate</th><th>cat_object</th><th>num_object</th></tr><tr><td>str</td><td>str</td><td>str</td><td>str</td><td>f64</td></tr></thead><tbody><tr><td>&quot;&lt;id_FzJA8shlb5_Tm9_gdoNJXTtPr&gt;&quot;</td><td>&quot;&lt;id_KwNfnsiqMs_?XG_ZDYVkGeIz0&gt;&quot;</td><td>&quot;&lt;extractionSource&gt;&quot;</td><td>&quot;&lt;&gt;&quot;</td><td>null</td></tr><tr><td>null</td><td>&quot;&lt;id_FzJA8shlb5_Tm9_gdoNJXTtPr&gt;&quot;</td><td>&quot;&lt;extractionTechnique&gt;&quot;</td><td>&quot;RuleExtractor from [$0 rdf:type owl:SymmetricProperty, $1 $0 $2]=&gt;[$2 $0 $1]&quot;</td><td>null</td></tr><tr><td>&quot;&lt;id_8wi7BHcHQM_Tm9_gdoNJXTtPr&gt;&quot;</td><td>&quot;&lt;id_0fa?INhlqG_?XG_C5FLoiiJD7&gt;&quot;</td><td>&quot;&lt;extractionSource&gt;&quot;</td><td>&quot;&lt;&gt;&quot;</td><td>null</td></tr><tr><td>null</td><td>&quot;&lt;id_8wi7BHcHQM_Tm9_gdoNJXTtPr&gt;&quot;</td><td>&quot;&lt;extractionTechnique&gt;&quot;</td><td>&quot;RuleExtractor from [$0 rdf:type owl:SymmetricProperty, $1 $0 $2]=&gt;[$2 $0 $1]&quot;</td><td>null</td></tr><tr><td>&quot;&lt;id_9Fn34YvIzf_Tm9_gdoNJXTtPr&gt;&quot;</td><td>&quot;&lt;id_qiG7xbFWY4_?XG_S3?bdsVr75&gt;&quot;</td><td>&quot;&lt;extractionSource&gt;&quot;</td><td>&quot;&lt;&gt;&quot;</td><td>null</td></tr><tr><td>null</td><td>&quot;&lt;id_9Fn34YvIzf_Tm9_gdoNJXTtPr&gt;&quot;</td><td>&quot;&lt;extractionTechnique&gt;&quot;</td><td>&quot;RuleExtractor from [$0 rdf:type owl:SymmetricProperty, $1 $0 $2]=&gt;[$2 $0 $1]&quot;</td><td>null</td></tr><tr><td>&quot;&lt;id_wLc9mt1PGV_Tm9_gdoNJXTtPr&gt;&quot;</td><td>&quot;&lt;id_oQnSi!U7i7_?XG_LrMR36Jzv?&gt;&quot;</td><td>&quot;&lt;extractionSource&gt;&quot;</td><td>&quot;&lt;&gt;&quot;</td><td>null</td></tr><tr><td>null</td><td>&quot;&lt;id_wLc9mt1PGV_Tm9_gdoNJXTtPr&gt;&quot;</td><td>&quot;&lt;extractionTechnique&gt;&quot;</td><td>&quot;RuleExtractor from [$0 rdf:type owl:SymmetricProperty, $1 $0 $2]=&gt;[$2 $0 $1]&quot;</td><td>null</td></tr><tr><td>&quot;&lt;id_yq!LMcDTIB_Tm9_gdoNJXTtPr&gt;&quot;</td><td>&quot;&lt;id_uP?81865ec_?XG_iEUdBjNZn1&gt;&quot;</td><td>&quot;&lt;extractionSource&gt;&quot;</td><td>&quot;&lt;&gt;&quot;</td><td>null</td></tr><tr><td>null</td><td>&quot;&lt;id_yq!LMcDTIB_Tm9_gdoNJXTtPr&gt;&quot;</td><td>&quot;&lt;extractionTechnique&gt;&quot;</td><td>&quot;RuleExtractor from [$0 rdf:type owl:SymmetricProperty, $1 $0 $2]=&gt;[$2 $0 $1]&quot;</td><td>null</td></tr><tr><td>&quot;&lt;id_Y4UHj7L32c_Tm9_gdoNJXTtPr&gt;&quot;</td><td>&quot;&lt;id_tkfOinFFm3_?XG_csQK9f68Ti&gt;&quot;</td><td>&quot;&lt;extractionSource&gt;&quot;</td><td>&quot;&lt;&gt;&quot;</td><td>null</td></tr><tr><td>null</td><td>&quot;&lt;id_Y4UHj7L32c_Tm9_gdoNJXTtPr&gt;&quot;</td><td>&quot;&lt;extractionTechnique&gt;&quot;</td><td>&quot;RuleExtractor from [$0 rdf:type owl:SymmetricProperty, $1 $0 $2]=&gt;[$2 $0 $1]&quot;</td><td>null</td></tr><tr><td>&hellip;</td><td>&hellip;</td><td>&hellip;</td><td>&hellip;</td><td>&hellip;</td></tr><tr><td>&quot;&lt;id_Rm3W5pa8K3_Tm9_gdoNJXTtPr&gt;&quot;</td><td>&quot;&lt;id_1Md74rejAR_?XG_iNDe5M63Pj&gt;&quot;</td><td>&quot;&lt;extractionSource&gt;&quot;</td><td>&quot;&lt;&gt;&quot;</td><td>null</td></tr><tr><td>null</td><td>&quot;&lt;id_Rm3W5pa8K3_Tm9_gdoNJXTtPr&gt;&quot;</td><td>&quot;&lt;extractionTechnique&gt;&quot;</td><td>&quot;RuleExtractor from [$0 rdf:type owl:SymmetricProperty, $1 $0 $2]=&gt;[$2 $0 $1]&quot;</td><td>null</td></tr><tr><td>&quot;&lt;id_3NqABSGPYY_Tm9_gdoNJXTtPr&gt;&quot;</td><td>&quot;&lt;id_ub8fhZCs9L_?XG_l2RK1Nrp8q&gt;&quot;</td><td>&quot;&lt;extractionSource&gt;&quot;</td><td>&quot;&lt;&gt;&quot;</td><td>null</td></tr><tr><td>null</td><td>&quot;&lt;id_3NqABSGPYY_Tm9_gdoNJXTtPr&gt;&quot;</td><td>&quot;&lt;extractionTechnique&gt;&quot;</td><td>&quot;RuleExtractor from [$0 rdf:type owl:SymmetricProperty, $1 $0 $2]=&gt;[$2 $0 $1]&quot;</td><td>null</td></tr><tr><td>&quot;&lt;id_Z3XMFblvdD_Tm9_gdoNJXTtPr&gt;&quot;</td><td>&quot;&lt;id_91UnqIKFMJ_?XG_N2jObc619!&gt;&quot;</td><td>&quot;&lt;extractionSource&gt;&quot;</td><td>&quot;&lt;&gt;&quot;</td><td>null</td></tr><tr><td>null</td><td>&quot;&lt;id_Z3XMFblvdD_Tm9_gdoNJXTtPr&gt;&quot;</td><td>&quot;&lt;extractionTechnique&gt;&quot;</td><td>&quot;RuleExtractor from [$0 rdf:type owl:SymmetricProperty, $1 $0 $2]=&gt;[$2 $0 $1]&quot;</td><td>null</td></tr><tr><td>&quot;&lt;id_LxpXqpBrpM_Tm9_gdoNJXTtPr&gt;&quot;</td><td>&quot;&lt;id_TpUyMcHogW_?XG_ogFJ?OGF4w&gt;&quot;</td><td>&quot;&lt;extractionSource&gt;&quot;</td><td>&quot;&lt;&gt;&quot;</td><td>null</td></tr><tr><td>null</td><td>&quot;&lt;id_LxpXqpBrpM_Tm9_gdoNJXTtPr&gt;&quot;</td><td>&quot;&lt;extractionTechnique&gt;&quot;</td><td>&quot;RuleExtractor from [$0 rdf:type owl:SymmetricProperty, $1 $0 $2]=&gt;[$2 $0 $1]&quot;</td><td>null</td></tr><tr><td>&quot;&lt;id_2cR6wkQv4c_Tm9_gdoNJXTtPr&gt;&quot;</td><td>&quot;&lt;id_E5eJe8b5sQ_?XG_xc!fOWsffm&gt;&quot;</td><td>&quot;&lt;extractionSource&gt;&quot;</td><td>&quot;&lt;&gt;&quot;</td><td>null</td></tr><tr><td>null</td><td>&quot;&lt;id_2cR6wkQv4c_Tm9_gdoNJXTtPr&gt;&quot;</td><td>&quot;&lt;extractionTechnique&gt;&quot;</td><td>&quot;RuleExtractor from [$0 rdf:type owl:SymmetricProperty, $1 $0 $2]=&gt;[$2 $0 $1]&quot;</td><td>null</td></tr><tr><td>&quot;&lt;id_Awle!ISzEq_Tm9_gdoNJXTtPr&gt;&quot;</td><td>&quot;&lt;id_XLtQgvAYLT_?XG_m2!DfvL7V8&gt;&quot;</td><td>&quot;&lt;extractionSource&gt;&quot;</td><td>&quot;&lt;&gt;&quot;</td><td>null</td></tr><tr><td>null</td><td>&quot;&lt;id_Awle!ISzEq_Tm9_gdoNJXTtPr&gt;&quot;</td><td>&quot;&lt;extractionTechnique&gt;&quot;</td><td>&quot;RuleExtractor from [$0 rdf:type owl:SymmetricProperty, $1 $0 $2]=&gt;[$2 $0 $1]&quot;</td><td>null</td></tr></tbody></table></div>"
      ],
      "text/plain": [
       "shape: (123_078, 5)\n",
       "┌─────────────────────┬─────────────────────┬────────────────────┬────────────────────┬────────────┐\n",
       "│ id                  ┆ subject             ┆ predicate          ┆ cat_object         ┆ num_object │\n",
       "│ ---                 ┆ ---                 ┆ ---                ┆ ---                ┆ ---        │\n",
       "│ str                 ┆ str                 ┆ str                ┆ str                ┆ f64        │\n",
       "╞═════════════════════╪═════════════════════╪════════════════════╪════════════════════╪════════════╡\n",
       "│ <id_FzJA8shlb5_Tm9_ ┆ <id_KwNfnsiqMs_?XG_ ┆ <extractionSource> ┆ <>                 ┆ null       │\n",
       "│ gdoNJXTtPr>         ┆ ZDYVkGeIz0>         ┆                    ┆                    ┆            │\n",
       "│ null                ┆ <id_FzJA8shlb5_Tm9_ ┆ <extractionTechniq ┆ RuleExtractor from ┆ null       │\n",
       "│                     ┆ gdoNJXTtPr>         ┆ ue>                ┆ [$0 rdf:type owl:S ┆            │\n",
       "│                     ┆                     ┆                    ┆ ymmetricProperty,  ┆            │\n",
       "│                     ┆                     ┆                    ┆ $1 $0 $2]=>[$2 $0  ┆            │\n",
       "│                     ┆                     ┆                    ┆ $1]                ┆            │\n",
       "│ <id_8wi7BHcHQM_Tm9_ ┆ <id_0fa?INhlqG_?XG_ ┆ <extractionSource> ┆ <>                 ┆ null       │\n",
       "│ gdoNJXTtPr>         ┆ C5FLoiiJD7>         ┆                    ┆                    ┆            │\n",
       "│ null                ┆ <id_8wi7BHcHQM_Tm9_ ┆ <extractionTechniq ┆ RuleExtractor from ┆ null       │\n",
       "│                     ┆ gdoNJXTtPr>         ┆ ue>                ┆ [$0 rdf:type owl:S ┆            │\n",
       "│                     ┆                     ┆                    ┆ ymmetricProperty,  ┆            │\n",
       "│                     ┆                     ┆                    ┆ $1 $0 $2]=>[$2 $0  ┆            │\n",
       "│                     ┆                     ┆                    ┆ $1]                ┆            │\n",
       "│ <id_9Fn34YvIzf_Tm9_ ┆ <id_qiG7xbFWY4_?XG_ ┆ <extractionSource> ┆ <>                 ┆ null       │\n",
       "│ gdoNJXTtPr>         ┆ S3?bdsVr75>         ┆                    ┆                    ┆            │\n",
       "│ …                   ┆ …                   ┆ …                  ┆ …                  ┆ …          │\n",
       "│ null                ┆ <id_LxpXqpBrpM_Tm9_ ┆ <extractionTechniq ┆ RuleExtractor from ┆ null       │\n",
       "│                     ┆ gdoNJXTtPr>         ┆ ue>                ┆ [$0 rdf:type owl:S ┆            │\n",
       "│                     ┆                     ┆                    ┆ ymmetricProperty,  ┆            │\n",
       "│                     ┆                     ┆                    ┆ $1 $0 $2]=>[$2 $0  ┆            │\n",
       "│                     ┆                     ┆                    ┆ $1]                ┆            │\n",
       "│ <id_2cR6wkQv4c_Tm9_ ┆ <id_E5eJe8b5sQ_?XG_ ┆ <extractionSource> ┆ <>                 ┆ null       │\n",
       "│ gdoNJXTtPr>         ┆ xc!fOWsffm>         ┆                    ┆                    ┆            │\n",
       "│ null                ┆ <id_2cR6wkQv4c_Tm9_ ┆ <extractionTechniq ┆ RuleExtractor from ┆ null       │\n",
       "│                     ┆ gdoNJXTtPr>         ┆ ue>                ┆ [$0 rdf:type owl:S ┆            │\n",
       "│                     ┆                     ┆                    ┆ ymmetricProperty,  ┆            │\n",
       "│                     ┆                     ┆                    ┆ $1 $0 $2]=>[$2 $0  ┆            │\n",
       "│                     ┆                     ┆                    ┆ $1]                ┆            │\n",
       "│ <id_Awle!ISzEq_Tm9_ ┆ <id_XLtQgvAYLT_?XG_ ┆ <extractionSource> ┆ <>                 ┆ null       │\n",
       "│ gdoNJXTtPr>         ┆ m2!DfvL7V8>         ┆                    ┆                    ┆            │\n",
       "│ null                ┆ <id_Awle!ISzEq_Tm9_ ┆ <extractionTechniq ┆ RuleExtractor from ┆ null       │\n",
       "│                     ┆ gdoNJXTtPr>         ┆ ue>                ┆ [$0 rdf:type owl:S ┆            │\n",
       "│                     ┆                     ┆                    ┆ ymmetricProperty,  ┆            │\n",
       "│                     ┆                     ┆                    ┆ $1 $0 $2]=>[$2 $0  ┆            │\n",
       "│                     ┆                     ┆                    ┆ $1]                ┆            │\n",
       "└─────────────────────┴─────────────────────┴────────────────────┴────────────────────┴────────────┘"
      ]
     },
     "metadata": {},
     "output_type": "display_data"
    },
    {
     "name": "stdout",
     "output_type": "stream",
     "text": [
      "structureFacts_en.tsv\n"
     ]
    },
    {
     "data": {
      "text/html": [
       "<div><style>\n",
       ".dataframe > thead > tr,\n",
       ".dataframe > tbody > tr {\n",
       "  text-align: right;\n",
       "  white-space: pre-wrap;\n",
       "}\n",
       "</style>\n",
       "<small>shape: (293_134_431, 5)</small><table border=\"1\" class=\"dataframe\"><thead><tr><th>id</th><th>subject</th><th>predicate</th><th>cat_object</th><th>num_object</th></tr><tr><td>str</td><td>str</td><td>str</td><td>str</td><td>f64</td></tr></thead><tbody><tr><td>&quot;&lt;id_Qc7mALbFqB_gJx_Qc7mALbFqB&gt;&quot;</td><td>&quot;&lt;Armed_Forces_of_the_Islamic_Emirate_of_Afghanistan&gt;&quot;</td><td>&quot;&lt;hasInternalWikipediaLinkTo&gt;&quot;</td><td>&quot;&lt;Armed_Forces_of_the_Islamic_Emirate_of_Afghanistan&gt;&quot;</td><td>null</td></tr><tr><td>&quot;&lt;id_YhI50E8e4o_gJx_YhI50E8e4o&gt;&quot;</td><td>&quot;&lt;As_We_May_Think&gt;&quot;</td><td>&quot;&lt;hasInternalWikipediaLinkTo&gt;&quot;</td><td>&quot;&lt;As_We_May_Think&gt;&quot;</td><td>null</td></tr><tr><td>&quot;&lt;id_oGAuj5oBlI_gJx_oGAuj5oBlI&gt;&quot;</td><td>&quot;&lt;Economy_of_Albania&gt;&quot;</td><td>&quot;&lt;hasInternalWikipediaLinkTo&gt;&quot;</td><td>&quot;&lt;Economy_of_Albania&gt;&quot;</td><td>null</td></tr><tr><td>&quot;&lt;id_zrISWmrpeY_gJx_zrISWmrpeY&gt;&quot;</td><td>&quot;&lt;Afroasiatic_languages&gt;&quot;</td><td>&quot;&lt;hasInternalWikipediaLinkTo&gt;&quot;</td><td>&quot;&lt;Afroasiatic_languages&gt;&quot;</td><td>null</td></tr><tr><td>&quot;&lt;id_uMB7xSIJwm_gJx_uMB7xSIJwm&gt;&quot;</td><td>&quot;&lt;Constructed_language&gt;&quot;</td><td>&quot;&lt;hasInternalWikipediaLinkTo&gt;&quot;</td><td>&quot;&lt;Constructed_language&gt;&quot;</td><td>null</td></tr><tr><td>&quot;&lt;id_zOcgXyisvk_gJx_zOcgXyisvk&gt;&quot;</td><td>&quot;&lt;Abbadid_dynasty&gt;&quot;</td><td>&quot;&lt;hasInternalWikipediaLinkTo&gt;&quot;</td><td>&quot;&lt;Abbadid_dynasty&gt;&quot;</td><td>null</td></tr><tr><td>&quot;&lt;id_9?24g!b5qc_gJx_9?24g!b5qc&gt;&quot;</td><td>&quot;&lt;Abbeville&gt;&quot;</td><td>&quot;&lt;hasInternalWikipediaLinkTo&gt;&quot;</td><td>&quot;&lt;Abbeville&gt;&quot;</td><td>null</td></tr><tr><td>&quot;&lt;id_keCTs8y!te_gJx_keCTs8y!te&gt;&quot;</td><td>&quot;&lt;Atlas_Shrugged&gt;&quot;</td><td>&quot;&lt;hasInternalWikipediaLinkTo&gt;&quot;</td><td>&quot;&lt;Atlas_Shrugged&gt;&quot;</td><td>null</td></tr><tr><td>&quot;&lt;id_uMB7xSIJwm_gJx_uMB7xSIJwm&gt;&quot;</td><td>&quot;&lt;Constructed_language&gt;&quot;</td><td>&quot;&lt;hasInternalWikipediaLinkTo&gt;&quot;</td><td>&quot;&lt;Constructed_language&gt;&quot;</td><td>null</td></tr><tr><td>&quot;&lt;id_keCTs8y!te_gJx_keCTs8y!te&gt;&quot;</td><td>&quot;&lt;Atlas_Shrugged&gt;&quot;</td><td>&quot;&lt;hasInternalWikipediaLinkTo&gt;&quot;</td><td>&quot;&lt;Atlas_Shrugged&gt;&quot;</td><td>null</td></tr><tr><td>&quot;&lt;id_keCTs8y!te_gJx_keCTs8y!te&gt;&quot;</td><td>&quot;&lt;Atlas_Shrugged&gt;&quot;</td><td>&quot;&lt;hasInternalWikipediaLinkTo&gt;&quot;</td><td>&quot;&lt;Atlas_Shrugged&gt;&quot;</td><td>null</td></tr><tr><td>&quot;&lt;id_LYNH4Yjl9i_gJx_LYNH4Yjl9i&gt;&quot;</td><td>&quot;&lt;African_Americans&gt;&quot;</td><td>&quot;&lt;hasInternalWikipediaLinkTo&gt;&quot;</td><td>&quot;&lt;African_Americans&gt;&quot;</td><td>null</td></tr><tr><td>&hellip;</td><td>&hellip;</td><td>&hellip;</td><td>&hellip;</td><td>&hellip;</td></tr><tr><td>&quot;&lt;id_dm7MCS5sj9_gJx_LypnxCG07E&gt;&quot;</td><td>&quot;&lt;Harald_the_Stalwart&gt;&quot;</td><td>&quot;&lt;hasInternalWikipediaLinkTo&gt;&quot;</td><td>&quot;&lt;Tord_Stål&gt;&quot;</td><td>null</td></tr><tr><td>&quot;&lt;id_dm7MCS5sj9_gJx_mNy!FDGFg6&gt;&quot;</td><td>&quot;&lt;Harald_the_Stalwart&gt;&quot;</td><td>&quot;&lt;hasInternalWikipediaLinkTo&gt;&quot;</td><td>&quot;&lt;Thor_Modéen&gt;&quot;</td><td>null</td></tr><tr><td>&quot;&lt;id_dm7MCS5sj9_gJx_XldUbTJr9U&gt;&quot;</td><td>&quot;&lt;Harald_the_Stalwart&gt;&quot;</td><td>&quot;&lt;hasInternalWikipediaLinkTo&gt;&quot;</td><td>&quot;&lt;Ragnar_Falck&gt;&quot;</td><td>null</td></tr><tr><td>&quot;&lt;id_dm7MCS5sj9_gJx_XdDhBXctsW&gt;&quot;</td><td>&quot;&lt;Harald_the_Stalwart&gt;&quot;</td><td>&quot;&lt;hasInternalWikipediaLinkTo&gt;&quot;</td><td>&quot;&lt;Nils_Hallberg&gt;&quot;</td><td>null</td></tr><tr><td>&quot;&lt;id_dm7MCS5sj9_gJx_uClg0dOsLl&gt;&quot;</td><td>&quot;&lt;Harald_the_Stalwart&gt;&quot;</td><td>&quot;&lt;hasInternalWikipediaLinkTo&gt;&quot;</td><td>&quot;&lt;Olle_Hilding&gt;&quot;</td><td>null</td></tr><tr><td>&quot;&lt;id_dm7MCS5sj9_gJx_i1NV1Tv0?N&gt;&quot;</td><td>&quot;&lt;Harald_the_Stalwart&gt;&quot;</td><td>&quot;&lt;hasInternalWikipediaLinkTo&gt;&quot;</td><td>&quot;&lt;Artur_Rolén&gt;&quot;</td><td>null</td></tr><tr><td>&quot;&lt;id_dm7MCS5sj9_gJx_SiFqKFa11H&gt;&quot;</td><td>&quot;&lt;Harald_the_Stalwart&gt;&quot;</td><td>&quot;&lt;hasInternalWikipediaLinkTo&gt;&quot;</td><td>&quot;&lt;Wiktor_Andersson&gt;&quot;</td><td>null</td></tr><tr><td>&quot;&lt;id_dm7MCS5sj9_gJx_TBF?jzkVdg&gt;&quot;</td><td>&quot;&lt;Harald_the_Stalwart&gt;&quot;</td><td>&quot;&lt;hasInternalWikipediaLinkTo&gt;&quot;</td><td>&quot;&lt;Hampe_Faustman&gt;&quot;</td><td>null</td></tr><tr><td>&quot;&lt;id_dm7MCS5sj9_gJx_x?wsRpL6cJ&gt;&quot;</td><td>&quot;&lt;Harald_the_Stalwart&gt;&quot;</td><td>&quot;&lt;hasInternalWikipediaLinkTo&gt;&quot;</td><td>&quot;&lt;Erik_Forslund&gt;&quot;</td><td>null</td></tr><tr><td>&quot;&lt;id_dm7MCS5sj9_gJx_KkXiloMcsA&gt;&quot;</td><td>&quot;&lt;Harald_the_Stalwart&gt;&quot;</td><td>&quot;&lt;hasInternalWikipediaLinkTo&gt;&quot;</td><td>&quot;&lt;Georg_Skarstedt&gt;&quot;</td><td>null</td></tr><tr><td>&quot;&lt;id_dm7MCS5sj9_gJx_Xl?PFGoDIP&gt;&quot;</td><td>&quot;&lt;Harald_the_Stalwart&gt;&quot;</td><td>&quot;&lt;hasInternalWikipediaLinkTo&gt;&quot;</td><td>&quot;&lt;Gunn_Wållgren&gt;&quot;</td><td>null</td></tr><tr><td>&quot;&lt;id_dm7MCS5sj9_gJx_dm7MCS5sj9&gt;&quot;</td><td>&quot;&lt;Harald_the_Stalwart&gt;&quot;</td><td>&quot;&lt;hasInternalWikipediaLinkTo&gt;&quot;</td><td>&quot;&lt;Harald_the_Stalwart&gt;&quot;</td><td>null</td></tr></tbody></table></div>"
      ],
      "text/plain": [
       "shape: (293_134_431, 5)\n",
       "┌─────────────────────┬─────────────────────┬────────────────────┬────────────────────┬────────────┐\n",
       "│ id                  ┆ subject             ┆ predicate          ┆ cat_object         ┆ num_object │\n",
       "│ ---                 ┆ ---                 ┆ ---                ┆ ---                ┆ ---        │\n",
       "│ str                 ┆ str                 ┆ str                ┆ str                ┆ f64        │\n",
       "╞═════════════════════╪═════════════════════╪════════════════════╪════════════════════╪════════════╡\n",
       "│ <id_Qc7mALbFqB_gJx_ ┆ <Armed_Forces_of_th ┆ <hasInternalWikipe ┆ <Armed_Forces_of_t ┆ null       │\n",
       "│ Qc7mALbFqB>         ┆ e_Islamic_Emirate_o ┆ diaLinkTo>         ┆ he_Islamic_Emirate ┆            │\n",
       "│                     ┆ f_Afghanistan>      ┆                    ┆ _of_Afghanistan>   ┆            │\n",
       "│ <id_YhI50E8e4o_gJx_ ┆ <As_We_May_Think>   ┆ <hasInternalWikipe ┆ <As_We_May_Think>  ┆ null       │\n",
       "│ YhI50E8e4o>         ┆                     ┆ diaLinkTo>         ┆                    ┆            │\n",
       "│ <id_oGAuj5oBlI_gJx_ ┆ <Economy_of_Albania ┆ <hasInternalWikipe ┆ <Economy_of_Albani ┆ null       │\n",
       "│ oGAuj5oBlI>         ┆ >                   ┆ diaLinkTo>         ┆ a>                 ┆            │\n",
       "│ <id_zrISWmrpeY_gJx_ ┆ <Afroasiatic_langua ┆ <hasInternalWikipe ┆ <Afroasiatic_langu ┆ null       │\n",
       "│ zrISWmrpeY>         ┆ ges>                ┆ diaLinkTo>         ┆ ages>              ┆            │\n",
       "│ <id_uMB7xSIJwm_gJx_ ┆ <Constructed_langua ┆ <hasInternalWikipe ┆ <Constructed_langu ┆ null       │\n",
       "│ uMB7xSIJwm>         ┆ ge>                 ┆ diaLinkTo>         ┆ age>               ┆            │\n",
       "│ …                   ┆ …                   ┆ …                  ┆ …                  ┆ …          │\n",
       "│ <id_dm7MCS5sj9_gJx_ ┆ <Harald_the_Stalwar ┆ <hasInternalWikipe ┆ <Hampe_Faustman>   ┆ null       │\n",
       "│ TBF?jzkVdg>         ┆ t>                  ┆ diaLinkTo>         ┆                    ┆            │\n",
       "│ <id_dm7MCS5sj9_gJx_ ┆ <Harald_the_Stalwar ┆ <hasInternalWikipe ┆ <Erik_Forslund>    ┆ null       │\n",
       "│ x?wsRpL6cJ>         ┆ t>                  ┆ diaLinkTo>         ┆                    ┆            │\n",
       "│ <id_dm7MCS5sj9_gJx_ ┆ <Harald_the_Stalwar ┆ <hasInternalWikipe ┆ <Georg_Skarstedt>  ┆ null       │\n",
       "│ KkXiloMcsA>         ┆ t>                  ┆ diaLinkTo>         ┆                    ┆            │\n",
       "│ <id_dm7MCS5sj9_gJx_ ┆ <Harald_the_Stalwar ┆ <hasInternalWikipe ┆ <Gunn_Wållgren>    ┆ null       │\n",
       "│ Xl?PFGoDIP>         ┆ t>                  ┆ diaLinkTo>         ┆                    ┆            │\n",
       "│ <id_dm7MCS5sj9_gJx_ ┆ <Harald_the_Stalwar ┆ <hasInternalWikipe ┆ <Harald_the_Stalwa ┆ null       │\n",
       "│ dm7MCS5sj9>         ┆ t>                  ┆ diaLinkTo>         ┆ rt>                ┆            │\n",
       "└─────────────────────┴─────────────────────┴────────────────────┴────────────────────┴────────────┘"
      ]
     },
     "metadata": {},
     "output_type": "display_data"
    },
    {
     "name": "stdout",
     "output_type": "stream",
     "text": [
      "structureFacts_fr.tsv\n"
     ]
    },
    {
     "data": {
      "text/html": [
       "<div><style>\n",
       ".dataframe > thead > tr,\n",
       ".dataframe > tbody > tr {\n",
       "  text-align: right;\n",
       "  white-space: pre-wrap;\n",
       "}\n",
       "</style>\n",
       "<small>shape: (90_037_754, 5)</small><table border=\"1\" class=\"dataframe\"><thead><tr><th>id</th><th>subject</th><th>predicate</th><th>cat_object</th><th>num_object</th></tr><tr><td>str</td><td>str</td><td>str</td><td>str</td><td>f64</td></tr></thead><tbody><tr><td>&quot;&lt;id_q7hGNKg2jM_OGe_p8lHgJrLRR&gt;&quot;</td><td>&quot;&lt;id_PSA3W26OQ1_1EW_Zfc1Pg27iJ&gt;&quot;</td><td>&quot;&lt;hasAnchorText&gt;&quot;</td><td>&quot;Institut National des Langues et Civilisations Orientales@fra&quot;</td><td>null</td></tr><tr><td>&quot;&lt;id_PSA3W26OQ1_gJx_MKcGWI4YTX&gt;&quot;</td><td>&quot;&lt;Antoine_Meillet&gt;&quot;</td><td>&quot;&lt;hasInternalWikipediaLinkTo&gt;&quot;</td><td>&quot;&lt;Moulins,_Allier&gt;&quot;</td><td>null</td></tr><tr><td>&quot;&lt;id_UenmEF7CFY_OGe_yvmP72oA!r&gt;&quot;</td><td>&quot;&lt;id_PSA3W26OQ1_gJx_MKcGWI4YTX&gt;&quot;</td><td>&quot;&lt;hasAnchorText&gt;&quot;</td><td>&quot;Moulins@fra&quot;</td><td>null</td></tr><tr><td>&quot;&lt;id_PSA3W26OQ1_gJx_60j2q!dpk?&gt;&quot;</td><td>&quot;&lt;Antoine_Meillet&gt;&quot;</td><td>&quot;&lt;hasInternalWikipediaLinkTo&gt;&quot;</td><td>&quot;&lt;Allier&gt;&quot;</td><td>null</td></tr><tr><td>&quot;&lt;id_FwNKiaB0oh_OGe_BXIZL6!I4m&gt;&quot;</td><td>&quot;&lt;id_PSA3W26OQ1_gJx_60j2q!dpk?&gt;&quot;</td><td>&quot;&lt;hasAnchorText&gt;&quot;</td><td>&quot;Allier@fra&quot;</td><td>null</td></tr><tr><td>&quot;&lt;id_PSA3W26OQ1_gJx_UfZKKaxTaw&gt;&quot;</td><td>&quot;&lt;Antoine_Meillet&gt;&quot;</td><td>&quot;&lt;hasInternalWikipediaLinkTo&gt;&quot;</td><td>&quot;&lt;Cher_(department)&gt;&quot;</td><td>null</td></tr><tr><td>&quot;&lt;id_m9?2U8fFgz_OGe_RbsrMgBNPb&gt;&quot;</td><td>&quot;&lt;id_PSA3W26OQ1_gJx_UfZKKaxTaw&gt;&quot;</td><td>&quot;&lt;hasAnchorText&gt;&quot;</td><td>&quot;Cher@fra&quot;</td><td>null</td></tr><tr><td>&quot;&lt;id_PSA3W26OQ1_gJx_UfZKKaxTaw&gt;&quot;</td><td>&quot;&lt;Antoine_Meillet&gt;&quot;</td><td>&quot;&lt;hasInternalWikipediaLinkTo&gt;&quot;</td><td>&quot;&lt;Cher_(department)&gt;&quot;</td><td>null</td></tr><tr><td>&quot;&lt;id_m9?2U8fFgz_OGe_RbsrMgBNPb&gt;&quot;</td><td>&quot;&lt;id_PSA3W26OQ1_gJx_UfZKKaxTaw&gt;&quot;</td><td>&quot;&lt;hasAnchorText&gt;&quot;</td><td>&quot;Cher@fra&quot;</td><td>null</td></tr><tr><td>&quot;&lt;id_PSA3W26OQ1_gJx_MKcGWI4YTX&gt;&quot;</td><td>&quot;&lt;Antoine_Meillet&gt;&quot;</td><td>&quot;&lt;hasInternalWikipediaLinkTo&gt;&quot;</td><td>&quot;&lt;Moulins,_Allier&gt;&quot;</td><td>null</td></tr><tr><td>&quot;&lt;id_UenmEF7CFY_OGe_yvmP72oA!r&gt;&quot;</td><td>&quot;&lt;id_PSA3W26OQ1_gJx_MKcGWI4YTX&gt;&quot;</td><td>&quot;&lt;hasAnchorText&gt;&quot;</td><td>&quot;Moulins@fra&quot;</td><td>null</td></tr><tr><td>&quot;&lt;id_PSA3W26OQ1_gJx_mbWV!JArMV&gt;&quot;</td><td>&quot;&lt;Antoine_Meillet&gt;&quot;</td><td>&quot;&lt;hasInternalWikipediaLinkTo&gt;&quot;</td><td>&quot;&lt;Institut_national_des_langues_et_civilisations_orientales&gt;&quot;</td><td>null</td></tr><tr><td>&hellip;</td><td>&hellip;</td><td>&hellip;</td><td>&hellip;</td><td>&hellip;</td></tr><tr><td>&quot;&lt;id_WOkHvhjsOl_gJx_pzSv!DL9Cd&gt;&quot;</td><td>&quot;&lt;fr/Thierry_Frappé&gt;&quot;</td><td>&quot;&lt;hasInternalWikipediaLinkTo&gt;&quot;</td><td>&quot;&lt;Myriane_Houplain&gt;&quot;</td><td>null</td></tr><tr><td>&quot;&lt;id_WOkHvhjsOl_gJx_QVCEDEqBNC&gt;&quot;</td><td>&quot;&lt;fr/Thierry_Frappé&gt;&quot;</td><td>&quot;&lt;hasInternalWikipediaLinkTo&gt;&quot;</td><td>&quot;&lt;National_Rally&gt;&quot;</td><td>null</td></tr><tr><td>&quot;&lt;id_WOkHvhjsOl_gJx_t6pabeSmoV&gt;&quot;</td><td>&quot;&lt;fr/Thierry_Frappé&gt;&quot;</td><td>&quot;&lt;hasInternalWikipediaLinkTo&gt;&quot;</td><td>&quot;&lt;Bruay-la-Buissière&gt;&quot;</td><td>null</td></tr><tr><td>&quot;&lt;id_WOkHvhjsOl_gJx_QVCEDEqBNC&gt;&quot;</td><td>&quot;&lt;fr/Thierry_Frappé&gt;&quot;</td><td>&quot;&lt;hasInternalWikipediaLinkTo&gt;&quot;</td><td>&quot;&lt;National_Rally&gt;&quot;</td><td>null</td></tr><tr><td>&quot;&lt;id_WOkHvhjsOl_gJx_i2BqqVXKoz&gt;&quot;</td><td>&quot;&lt;fr/Thierry_Frappé&gt;&quot;</td><td>&quot;&lt;hasInternalWikipediaLinkTo&gt;&quot;</td><td>&quot;&lt;Ludovic_Pajot&gt;&quot;</td><td>null</td></tr><tr><td>&quot;&lt;id_WOkHvhjsOl_gJx_K2QttTVz4s&gt;&quot;</td><td>&quot;&lt;fr/Thierry_Frappé&gt;&quot;</td><td>&quot;&lt;hasInternalWikipediaLinkTo&gt;&quot;</td><td>&quot;&lt;La_Voix_du_Nord_(daily)&gt;&quot;</td><td>null</td></tr><tr><td>&quot;&lt;id_WOkHvhjsOl_gJx_pzSv!DL9Cd&gt;&quot;</td><td>&quot;&lt;fr/Thierry_Frappé&gt;&quot;</td><td>&quot;&lt;hasInternalWikipediaLinkTo&gt;&quot;</td><td>&quot;&lt;Myriane_Houplain&gt;&quot;</td><td>null</td></tr><tr><td>&quot;&lt;id_WOkHvhjsOl_gJx_K2QttTVz4s&gt;&quot;</td><td>&quot;&lt;fr/Thierry_Frappé&gt;&quot;</td><td>&quot;&lt;hasInternalWikipediaLinkTo&gt;&quot;</td><td>&quot;&lt;La_Voix_du_Nord_(daily)&gt;&quot;</td><td>null</td></tr><tr><td>&quot;&lt;id_WOkHvhjsOl_gJx_K2QttTVz4s&gt;&quot;</td><td>&quot;&lt;fr/Thierry_Frappé&gt;&quot;</td><td>&quot;&lt;hasInternalWikipediaLinkTo&gt;&quot;</td><td>&quot;&lt;La_Voix_du_Nord_(daily)&gt;&quot;</td><td>null</td></tr><tr><td>&quot;&lt;id_WOkHvhjsOl_gJx_SNYoKtbalm&gt;&quot;</td><td>&quot;&lt;fr/Thierry_Frappé&gt;&quot;</td><td>&quot;&lt;hasInternalWikipediaLinkTo&gt;&quot;</td><td>&quot;&lt;Marine_Le_Pen&gt;&quot;</td><td>null</td></tr><tr><td>&quot;&lt;id_WOkHvhjsOl_gJx_!9YBRg6bsv&gt;&quot;</td><td>&quot;&lt;fr/Thierry_Frappé&gt;&quot;</td><td>&quot;&lt;hasInternalWikipediaLinkTo&gt;&quot;</td><td>&quot;&lt;Michel_Dagbert&gt;&quot;</td><td>null</td></tr><tr><td>&quot;&lt;id_WOkHvhjsOl_gJx_t6pabeSmoV&gt;&quot;</td><td>&quot;&lt;fr/Thierry_Frappé&gt;&quot;</td><td>&quot;&lt;hasInternalWikipediaLinkTo&gt;&quot;</td><td>&quot;&lt;Bruay-la-Buissière&gt;&quot;</td><td>null</td></tr></tbody></table></div>"
      ],
      "text/plain": [
       "shape: (90_037_754, 5)\n",
       "┌─────────────────────┬─────────────────────┬────────────────────┬────────────────────┬────────────┐\n",
       "│ id                  ┆ subject             ┆ predicate          ┆ cat_object         ┆ num_object │\n",
       "│ ---                 ┆ ---                 ┆ ---                ┆ ---                ┆ ---        │\n",
       "│ str                 ┆ str                 ┆ str                ┆ str                ┆ f64        │\n",
       "╞═════════════════════╪═════════════════════╪════════════════════╪════════════════════╪════════════╡\n",
       "│ <id_q7hGNKg2jM_OGe_ ┆ <id_PSA3W26OQ1_1EW_ ┆ <hasAnchorText>    ┆ Institut National  ┆ null       │\n",
       "│ p8lHgJrLRR>         ┆ Zfc1Pg27iJ>         ┆                    ┆ des Langues et     ┆            │\n",
       "│                     ┆                     ┆                    ┆ Civilisations      ┆            │\n",
       "│                     ┆                     ┆                    ┆ Orientales@fra     ┆            │\n",
       "│ <id_PSA3W26OQ1_gJx_ ┆ <Antoine_Meillet>   ┆ <hasInternalWikipe ┆ <Moulins,_Allier>  ┆ null       │\n",
       "│ MKcGWI4YTX>         ┆                     ┆ diaLinkTo>         ┆                    ┆            │\n",
       "│ <id_UenmEF7CFY_OGe_ ┆ <id_PSA3W26OQ1_gJx_ ┆ <hasAnchorText>    ┆ Moulins@fra        ┆ null       │\n",
       "│ yvmP72oA!r>         ┆ MKcGWI4YTX>         ┆                    ┆                    ┆            │\n",
       "│ <id_PSA3W26OQ1_gJx_ ┆ <Antoine_Meillet>   ┆ <hasInternalWikipe ┆ <Allier>           ┆ null       │\n",
       "│ 60j2q!dpk?>         ┆                     ┆ diaLinkTo>         ┆                    ┆            │\n",
       "│ <id_FwNKiaB0oh_OGe_ ┆ <id_PSA3W26OQ1_gJx_ ┆ <hasAnchorText>    ┆ Allier@fra         ┆ null       │\n",
       "│ BXIZL6!I4m>         ┆ 60j2q!dpk?>         ┆                    ┆                    ┆            │\n",
       "│ …                   ┆ …                   ┆ …                  ┆ …                  ┆ …          │\n",
       "│ <id_WOkHvhjsOl_gJx_ ┆ <fr/Thierry_Frappé> ┆ <hasInternalWikipe ┆ <La_Voix_du_Nord_( ┆ null       │\n",
       "│ K2QttTVz4s>         ┆                     ┆ diaLinkTo>         ┆ daily)>            ┆            │\n",
       "│ <id_WOkHvhjsOl_gJx_ ┆ <fr/Thierry_Frappé> ┆ <hasInternalWikipe ┆ <La_Voix_du_Nord_( ┆ null       │\n",
       "│ K2QttTVz4s>         ┆                     ┆ diaLinkTo>         ┆ daily)>            ┆            │\n",
       "│ <id_WOkHvhjsOl_gJx_ ┆ <fr/Thierry_Frappé> ┆ <hasInternalWikipe ┆ <Marine_Le_Pen>    ┆ null       │\n",
       "│ SNYoKtbalm>         ┆                     ┆ diaLinkTo>         ┆                    ┆            │\n",
       "│ <id_WOkHvhjsOl_gJx_ ┆ <fr/Thierry_Frappé> ┆ <hasInternalWikipe ┆ <Michel_Dagbert>   ┆ null       │\n",
       "│ !9YBRg6bsv>         ┆                     ┆ diaLinkTo>         ┆                    ┆            │\n",
       "│ <id_WOkHvhjsOl_gJx_ ┆ <fr/Thierry_Frappé> ┆ <hasInternalWikipe ┆ <Bruay-la-Buissièr ┆ null       │\n",
       "│ t6pabeSmoV>         ┆                     ┆ diaLinkTo>         ┆ e>                 ┆            │\n",
       "└─────────────────────┴─────────────────────┴────────────────────┴────────────────────┴────────────┘"
      ]
     },
     "metadata": {},
     "output_type": "display_data"
    },
    {
     "name": "stdout",
     "output_type": "stream",
     "text": [
      "structureFactsNeedTranslationTypeChecking_en.tsv\n"
     ]
    },
    {
     "data": {
      "text/html": [
       "<div><style>\n",
       ".dataframe > thead > tr,\n",
       ".dataframe > tbody > tr {\n",
       "  text-align: right;\n",
       "  white-space: pre-wrap;\n",
       "}\n",
       "</style>\n",
       "<small>shape: (375_277_253, 5)</small><table border=\"1\" class=\"dataframe\"><thead><tr><th>id</th><th>subject</th><th>predicate</th><th>cat_object</th><th>num_object</th></tr><tr><td>str</td><td>str</td><td>str</td><td>str</td><td>f64</td></tr></thead><tbody><tr><td>&quot;&lt;id_ZpxbMmgIQn_uvg_5sihKoGTpl&gt;&quot;</td><td>&quot;&lt;yagoTheme_structureFactsNeedTranslationTypeCheckingRedirecting_en&gt;&quot;</td><td>&quot;&lt;hasGloss&gt;&quot;</td><td>&quot;This file is part of the ontology YAGO3. It is licensed under a Creative-Commons Attribution License by the YAGO team at the Max Planck Institute for…</td><td>null</td></tr><tr><td>&quot;&lt;id_cXcm1UedET_gJx_cXcm1UedET&gt;&quot;</td><td>&quot;&lt;Computer_accessibility&gt;&quot;</td><td>&quot;&lt;hasInternalWikipediaLinkTo&gt;&quot;</td><td>&quot;&lt;Computer_accessibility&gt;&quot;</td><td>null</td></tr><tr><td>&quot;&lt;id_qvfjHAFV5e_gJx_qvfjHAFV5e&gt;&quot;</td><td>&quot;&lt;History_of_Afghanistan&gt;&quot;</td><td>&quot;&lt;hasInternalWikipediaLinkTo&gt;&quot;</td><td>&quot;&lt;History_of_Afghanistan&gt;&quot;</td><td>null</td></tr><tr><td>&quot;&lt;id_yhoInjzRMi_gJx_yhoInjzRMi&gt;&quot;</td><td>&quot;&lt;Geography_of_Afghanistan&gt;&quot;</td><td>&quot;&lt;hasInternalWikipediaLinkTo&gt;&quot;</td><td>&quot;&lt;Geography_of_Afghanistan&gt;&quot;</td><td>null</td></tr><tr><td>&quot;&lt;id_QF6v6dpXq9_gJx_QF6v6dpXq9&gt;&quot;</td><td>&quot;&lt;Demographics_of_Afghanistan&gt;&quot;</td><td>&quot;&lt;hasInternalWikipediaLinkTo&gt;&quot;</td><td>&quot;&lt;Demographics_of_Afghanistan&gt;&quot;</td><td>null</td></tr><tr><td>&quot;&lt;id_uQ63BEPmty_gJx_uQ63BEPmty&gt;&quot;</td><td>&quot;&lt;Communications_in_Afghanistan&gt;&quot;</td><td>&quot;&lt;hasInternalWikipediaLinkTo&gt;&quot;</td><td>&quot;&lt;Communications_in_Afghanistan&gt;&quot;</td><td>null</td></tr><tr><td>&quot;&lt;id_VcYFBGzpm9_gJx_VcYFBGzpm9&gt;&quot;</td><td>&quot;&lt;Transport_in_Afghanistan&gt;&quot;</td><td>&quot;&lt;hasInternalWikipediaLinkTo&gt;&quot;</td><td>&quot;&lt;Transport_in_Afghanistan&gt;&quot;</td><td>null</td></tr><tr><td>&quot;&lt;id_Qc7mALbFqB_gJx_Qc7mALbFqB&gt;&quot;</td><td>&quot;&lt;Armed_Forces_of_the_Islamic_Emirate_of_Afghanistan&gt;&quot;</td><td>&quot;&lt;hasInternalWikipediaLinkTo&gt;&quot;</td><td>&quot;&lt;Armed_Forces_of_the_Islamic_Emirate_of_Afghanistan&gt;&quot;</td><td>null</td></tr><tr><td>&quot;&lt;id_9yD5CCyzzS_gJx_9yD5CCyzzS&gt;&quot;</td><td>&quot;&lt;Foreign_relations_of_Afghanistan&gt;&quot;</td><td>&quot;&lt;hasInternalWikipediaLinkTo&gt;&quot;</td><td>&quot;&lt;Foreign_relations_of_Afghanistan&gt;&quot;</td><td>null</td></tr><tr><td>&quot;&lt;id_zGlT2!7VlV_gJx_zGlT2!7VlV&gt;&quot;</td><td>&quot;&lt;Assistive_technology&gt;&quot;</td><td>&quot;&lt;hasInternalWikipediaLinkTo&gt;&quot;</td><td>&quot;&lt;Assistive_technology&gt;&quot;</td><td>null</td></tr><tr><td>&quot;&lt;id_hJ!LBudR0A_gJx_hJ!LBudR0A&gt;&quot;</td><td>&quot;&lt;Amoeba&gt;&quot;</td><td>&quot;&lt;hasInternalWikipediaLinkTo&gt;&quot;</td><td>&quot;&lt;Amoeba&gt;&quot;</td><td>null</td></tr><tr><td>&quot;&lt;id_MhNIl24ATI_gJx_MhNIl24ATI&gt;&quot;</td><td>&quot;&lt;History_of_Albania&gt;&quot;</td><td>&quot;&lt;hasInternalWikipediaLinkTo&gt;&quot;</td><td>&quot;&lt;History_of_Albania&gt;&quot;</td><td>null</td></tr><tr><td>&hellip;</td><td>&hellip;</td><td>&hellip;</td><td>&hellip;</td><td>&hellip;</td></tr><tr><td>&quot;&lt;id_dm7MCS5sj9_gJx_XdDhBXctsW&gt;&quot;</td><td>&quot;&lt;Harald_the_Stalwart&gt;&quot;</td><td>&quot;&lt;hasInternalWikipediaLinkTo&gt;&quot;</td><td>&quot;&lt;Nils_Hallberg&gt;&quot;</td><td>null</td></tr><tr><td>&quot;&lt;id_dm7MCS5sj9_gJx_uClg0dOsLl&gt;&quot;</td><td>&quot;&lt;Harald_the_Stalwart&gt;&quot;</td><td>&quot;&lt;hasInternalWikipediaLinkTo&gt;&quot;</td><td>&quot;&lt;Olle_Hilding&gt;&quot;</td><td>null</td></tr><tr><td>&quot;&lt;id_dm7MCS5sj9_gJx_i1NV1Tv0?N&gt;&quot;</td><td>&quot;&lt;Harald_the_Stalwart&gt;&quot;</td><td>&quot;&lt;hasInternalWikipediaLinkTo&gt;&quot;</td><td>&quot;&lt;Artur_Rolén&gt;&quot;</td><td>null</td></tr><tr><td>&quot;&lt;id_dm7MCS5sj9_gJx_Azzo08MZMn&gt;&quot;</td><td>&quot;&lt;Harald_the_Stalwart&gt;&quot;</td><td>&quot;&lt;hasInternalWikipediaLinkTo&gt;&quot;</td><td>&quot;&lt;Hanny_Schedin&gt;&quot;</td><td>null</td></tr><tr><td>&quot;&lt;id_dm7MCS5sj9_gJx_0j43z5aStj&gt;&quot;</td><td>&quot;&lt;Harald_the_Stalwart&gt;&quot;</td><td>&quot;&lt;hasInternalWikipediaLinkTo&gt;&quot;</td><td>&quot;&lt;Vera_Valdor&gt;&quot;</td><td>null</td></tr><tr><td>&quot;&lt;id_dm7MCS5sj9_gJx_SiFqKFa11H&gt;&quot;</td><td>&quot;&lt;Harald_the_Stalwart&gt;&quot;</td><td>&quot;&lt;hasInternalWikipediaLinkTo&gt;&quot;</td><td>&quot;&lt;Wiktor_Andersson&gt;&quot;</td><td>null</td></tr><tr><td>&quot;&lt;id_dm7MCS5sj9_gJx_TBF?jzkVdg&gt;&quot;</td><td>&quot;&lt;Harald_the_Stalwart&gt;&quot;</td><td>&quot;&lt;hasInternalWikipediaLinkTo&gt;&quot;</td><td>&quot;&lt;Hampe_Faustman&gt;&quot;</td><td>null</td></tr><tr><td>&quot;&lt;id_dm7MCS5sj9_gJx_x?wsRpL6cJ&gt;&quot;</td><td>&quot;&lt;Harald_the_Stalwart&gt;&quot;</td><td>&quot;&lt;hasInternalWikipediaLinkTo&gt;&quot;</td><td>&quot;&lt;Erik_Forslund&gt;&quot;</td><td>null</td></tr><tr><td>&quot;&lt;id_dm7MCS5sj9_gJx_KkXiloMcsA&gt;&quot;</td><td>&quot;&lt;Harald_the_Stalwart&gt;&quot;</td><td>&quot;&lt;hasInternalWikipediaLinkTo&gt;&quot;</td><td>&quot;&lt;Georg_Skarstedt&gt;&quot;</td><td>null</td></tr><tr><td>&quot;&lt;id_dm7MCS5sj9_gJx_7FSr6fmDlL&gt;&quot;</td><td>&quot;&lt;Harald_the_Stalwart&gt;&quot;</td><td>&quot;&lt;hasInternalWikipediaLinkTo&gt;&quot;</td><td>&quot;&lt;Ivar_Wahlgren&gt;&quot;</td><td>null</td></tr><tr><td>&quot;&lt;id_dm7MCS5sj9_gJx_Xl?PFGoDIP&gt;&quot;</td><td>&quot;&lt;Harald_the_Stalwart&gt;&quot;</td><td>&quot;&lt;hasInternalWikipediaLinkTo&gt;&quot;</td><td>&quot;&lt;Gunn_Wållgren&gt;&quot;</td><td>null</td></tr><tr><td>&quot;&lt;id_dm7MCS5sj9_gJx_dm7MCS5sj9&gt;&quot;</td><td>&quot;&lt;Harald_the_Stalwart&gt;&quot;</td><td>&quot;&lt;hasInternalWikipediaLinkTo&gt;&quot;</td><td>&quot;&lt;Harald_the_Stalwart&gt;&quot;</td><td>null</td></tr></tbody></table></div>"
      ],
      "text/plain": [
       "shape: (375_277_253, 5)\n",
       "┌─────────────────────┬─────────────────────┬────────────────────┬────────────────────┬────────────┐\n",
       "│ id                  ┆ subject             ┆ predicate          ┆ cat_object         ┆ num_object │\n",
       "│ ---                 ┆ ---                 ┆ ---                ┆ ---                ┆ ---        │\n",
       "│ str                 ┆ str                 ┆ str                ┆ str                ┆ f64        │\n",
       "╞═════════════════════╪═════════════════════╪════════════════════╪════════════════════╪════════════╡\n",
       "│ <id_ZpxbMmgIQn_uvg_ ┆ <yagoTheme_structur ┆ <hasGloss>         ┆ This file is part  ┆ null       │\n",
       "│ 5sihKoGTpl>         ┆ eFactsNeedTranslati ┆                    ┆ of the ontology    ┆            │\n",
       "│                     ┆ onTypeCheckingRedir ┆                    ┆ YAGO3. It is       ┆            │\n",
       "│                     ┆ ecting_en>          ┆                    ┆ licensed under a   ┆            │\n",
       "│                     ┆                     ┆                    ┆ Creative-Commons   ┆            │\n",
       "│                     ┆                     ┆                    ┆ Attribution        ┆            │\n",
       "│                     ┆                     ┆                    ┆ License by the     ┆            │\n",
       "│                     ┆                     ┆                    ┆ YAGO team at the   ┆            │\n",
       "│                     ┆                     ┆                    ┆ Max Planck         ┆            │\n",
       "│                     ┆                     ┆                    ┆ Institute for …    ┆            │\n",
       "│ <id_cXcm1UedET_gJx_ ┆ <Computer_accessibi ┆ <hasInternalWikipe ┆ <Computer_accessib ┆ null       │\n",
       "│ cXcm1UedET>         ┆ lity>               ┆ diaLinkTo>         ┆ ility>             ┆            │\n",
       "│ <id_qvfjHAFV5e_gJx_ ┆ <History_of_Afghani ┆ <hasInternalWikipe ┆ <History_of_Afghan ┆ null       │\n",
       "│ qvfjHAFV5e>         ┆ stan>               ┆ diaLinkTo>         ┆ istan>             ┆            │\n",
       "│ <id_yhoInjzRMi_gJx_ ┆ <Geography_of_Afgha ┆ <hasInternalWikipe ┆ <Geography_of_Afgh ┆ null       │\n",
       "│ yhoInjzRMi>         ┆ nistan>             ┆ diaLinkTo>         ┆ anistan>           ┆            │\n",
       "│ <id_QF6v6dpXq9_gJx_ ┆ <Demographics_of_Af ┆ <hasInternalWikipe ┆ <Demographics_of_A ┆ null       │\n",
       "│ QF6v6dpXq9>         ┆ ghanistan>          ┆ diaLinkTo>         ┆ fghanistan>        ┆            │\n",
       "│ …                   ┆ …                   ┆ …                  ┆ …                  ┆ …          │\n",
       "│ <id_dm7MCS5sj9_gJx_ ┆ <Harald_the_Stalwar ┆ <hasInternalWikipe ┆ <Erik_Forslund>    ┆ null       │\n",
       "│ x?wsRpL6cJ>         ┆ t>                  ┆ diaLinkTo>         ┆                    ┆            │\n",
       "│ <id_dm7MCS5sj9_gJx_ ┆ <Harald_the_Stalwar ┆ <hasInternalWikipe ┆ <Georg_Skarstedt>  ┆ null       │\n",
       "│ KkXiloMcsA>         ┆ t>                  ┆ diaLinkTo>         ┆                    ┆            │\n",
       "│ <id_dm7MCS5sj9_gJx_ ┆ <Harald_the_Stalwar ┆ <hasInternalWikipe ┆ <Ivar_Wahlgren>    ┆ null       │\n",
       "│ 7FSr6fmDlL>         ┆ t>                  ┆ diaLinkTo>         ┆                    ┆            │\n",
       "│ <id_dm7MCS5sj9_gJx_ ┆ <Harald_the_Stalwar ┆ <hasInternalWikipe ┆ <Gunn_Wållgren>    ┆ null       │\n",
       "│ Xl?PFGoDIP>         ┆ t>                  ┆ diaLinkTo>         ┆                    ┆            │\n",
       "│ <id_dm7MCS5sj9_gJx_ ┆ <Harald_the_Stalwar ┆ <hasInternalWikipe ┆ <Harald_the_Stalwa ┆ null       │\n",
       "│ dm7MCS5sj9>         ┆ t>                  ┆ diaLinkTo>         ┆ rt>                ┆            │\n",
       "└─────────────────────┴─────────────────────┴────────────────────┴────────────────────┴────────────┘"
      ]
     },
     "metadata": {},
     "output_type": "display_data"
    },
    {
     "name": "stdout",
     "output_type": "stream",
     "text": [
      "structureFactsNeedTranslationTypeChecking_fr.tsv\n"
     ]
    },
    {
     "data": {
      "text/html": [
       "<div><style>\n",
       ".dataframe > thead > tr,\n",
       ".dataframe > tbody > tr {\n",
       "  text-align: right;\n",
       "  white-space: pre-wrap;\n",
       "}\n",
       "</style>\n",
       "<small>shape: (163_598_707, 5)</small><table border=\"1\" class=\"dataframe\"><thead><tr><th>id</th><th>subject</th><th>predicate</th><th>cat_object</th><th>num_object</th></tr><tr><td>str</td><td>str</td><td>str</td><td>str</td><td>f64</td></tr></thead><tbody><tr><td>&quot;&lt;id_Zu2bMmhVoW_uvg_tb6XVo9m3H&gt;&quot;</td><td>&quot;&lt;yagoTheme_structureFactsNeedTranslationTypeCheckingRedirecting_fr&gt;&quot;</td><td>&quot;&lt;hasGloss&gt;&quot;</td><td>&quot;This file is part of the ontology YAGO3. It is licensed under a Creative-Commons Attribution License by the YAGO team at the Max Planck Institute for…</td><td>null</td></tr><tr><td>&quot;&lt;id_PSA3W26OQ1_1EW_Zfc1Pg27iJ&gt;&quot;</td><td>&quot;&lt;fr/Antoine_Meillet&gt;&quot;</td><td>&quot;&lt;hasExternalWikipediaLinkTo&gt;&quot;</td><td>&quot;&lt;http://www.inalco.fr/ina_gabarit_rubrique.php3?ctx=langue&amp;id_rubrique=47&amp;id_departement=8&amp;ina_rubrique_departement=1193&amp;id_langue=8&amp;ina_rubrique_lan…</td><td>null</td></tr><tr><td>&quot;&lt;id_q7hGNKg2jM_OGe_p8lHgJrLRR&gt;&quot;</td><td>&quot;&lt;id_PSA3W26OQ1_1EW_Zfc1Pg27iJ&gt;&quot;</td><td>&quot;&lt;hasAnchorText&gt;&quot;</td><td>&quot;Institut National des Langues et Civilisations Orientales@fra&quot;</td><td>null</td></tr><tr><td>&quot;&lt;id_PSA3W26OQ1_gJx_MKcGWI4YTX&gt;&quot;</td><td>&quot;&lt;fr/Antoine_Meillet&gt;&quot;</td><td>&quot;&lt;hasInternalWikipediaLinkTo&gt;&quot;</td><td>&quot;&lt;fr/Moulins_(Allier)&gt;&quot;</td><td>null</td></tr><tr><td>&quot;&lt;id_UenmEF7CFY_OGe_yvmP72oA!r&gt;&quot;</td><td>&quot;&lt;id_PSA3W26OQ1_gJx_MKcGWI4YTX&gt;&quot;</td><td>&quot;&lt;hasAnchorText&gt;&quot;</td><td>&quot;Moulins@fra&quot;</td><td>null</td></tr><tr><td>&quot;&lt;id_PSA3W26OQ1_gJx_60j2q!dpk?&gt;&quot;</td><td>&quot;&lt;fr/Antoine_Meillet&gt;&quot;</td><td>&quot;&lt;hasInternalWikipediaLinkTo&gt;&quot;</td><td>&quot;&lt;fr/Allier_(département)&gt;&quot;</td><td>null</td></tr><tr><td>&quot;&lt;id_FwNKiaB0oh_OGe_BXIZL6!I4m&gt;&quot;</td><td>&quot;&lt;id_PSA3W26OQ1_gJx_60j2q!dpk?&gt;&quot;</td><td>&quot;&lt;hasAnchorText&gt;&quot;</td><td>&quot;Allier@fra&quot;</td><td>null</td></tr><tr><td>&quot;&lt;id_PSA3W26OQ1_gJx_UfZKKaxTaw&gt;&quot;</td><td>&quot;&lt;fr/Antoine_Meillet&gt;&quot;</td><td>&quot;&lt;hasInternalWikipediaLinkTo&gt;&quot;</td><td>&quot;&lt;fr/Cher_(département)&gt;&quot;</td><td>null</td></tr><tr><td>&quot;&lt;id_m9?2U8fFgz_OGe_RbsrMgBNPb&gt;&quot;</td><td>&quot;&lt;id_PSA3W26OQ1_gJx_UfZKKaxTaw&gt;&quot;</td><td>&quot;&lt;hasAnchorText&gt;&quot;</td><td>&quot;Cher@fra&quot;</td><td>null</td></tr><tr><td>&quot;&lt;id_PSA3W26OQ1_gJx_D1vKHURRId&gt;&quot;</td><td>&quot;&lt;fr/Antoine_Meillet&gt;&quot;</td><td>&quot;&lt;hasInternalWikipediaLinkTo&gt;&quot;</td><td>&quot;&lt;fr/liste_de_linguistes&gt;&quot;</td><td>null</td></tr><tr><td>&quot;&lt;id_VKAvzfp3Jr_OGe_l8B4viPt2!&gt;&quot;</td><td>&quot;&lt;id_PSA3W26OQ1_gJx_D1vKHURRId&gt;&quot;</td><td>&quot;&lt;hasAnchorText&gt;&quot;</td><td>&quot;linguiste@fra&quot;</td><td>null</td></tr><tr><td>&quot;&lt;id_PSA3W26OQ1_gJx_UfZKKaxTaw&gt;&quot;</td><td>&quot;&lt;fr/Antoine_Meillet&gt;&quot;</td><td>&quot;&lt;hasInternalWikipediaLinkTo&gt;&quot;</td><td>&quot;&lt;fr/Cher_(département)&gt;&quot;</td><td>null</td></tr><tr><td>&hellip;</td><td>&hellip;</td><td>&hellip;</td><td>&hellip;</td><td>&hellip;</td></tr><tr><td>&quot;&lt;id_zNik3SIroX_gJx_Dmszu9PCt7&gt;&quot;</td><td>&quot;&lt;fr/Krul&gt;&quot;</td><td>&quot;&lt;hasInternalWikipediaLinkTo&gt;&quot;</td><td>&quot;&lt;fr/symbole&gt;&quot;</td><td>null</td></tr><tr><td>&quot;&lt;id_zNik3SIroX_gJx_CYVDHUNGrN&gt;&quot;</td><td>&quot;&lt;fr/Krul&gt;&quot;</td><td>&quot;&lt;hasInternalWikipediaLinkTo&gt;&quot;</td><td>&quot;&lt;fr/Pays-Bas&gt;&quot;</td><td>null</td></tr><tr><td>&quot;&lt;id_zNik3SIroX_gJx_5ZKLtLJmiy&gt;&quot;</td><td>&quot;&lt;fr/Krul&gt;&quot;</td><td>&quot;&lt;hasInternalWikipediaLinkTo&gt;&quot;</td><td>&quot;&lt;fr/Caraïbes_néerlandaises&gt;&quot;</td><td>null</td></tr><tr><td>&quot;&lt;id_zNik3SIroX_gJx_TxGecVJZFM&gt;&quot;</td><td>&quot;&lt;fr/Krul&gt;&quot;</td><td>&quot;&lt;hasInternalWikipediaLinkTo&gt;&quot;</td><td>&quot;&lt;fr/Indonésie&gt;&quot;</td><td>null</td></tr><tr><td>&quot;&lt;id_zNik3SIroX_gJx_Ir8n6jD3iv&gt;&quot;</td><td>&quot;&lt;fr/Krul&gt;&quot;</td><td>&quot;&lt;hasInternalWikipediaLinkTo&gt;&quot;</td><td>&quot;&lt;fr/Afrique_du_Sud&gt;&quot;</td><td>null</td></tr><tr><td>&quot;&lt;id_zNik3SIroX_gJx_6YQgBF0Pz9&gt;&quot;</td><td>&quot;&lt;fr/Krul&gt;&quot;</td><td>&quot;&lt;hasInternalWikipediaLinkTo&gt;&quot;</td><td>&quot;&lt;fr/Suriname&gt;&quot;</td><td>null</td></tr><tr><td>&quot;&lt;id_zNik3SIroX_gJx_PW??m0Ixhn&gt;&quot;</td><td>&quot;&lt;fr/Krul&gt;&quot;</td><td>&quot;&lt;hasInternalWikipediaLinkTo&gt;&quot;</td><td>&quot;&lt;fr/Belgique&gt;&quot;</td><td>null</td></tr><tr><td>&quot;&lt;id_dzKxf9IVxO_gJx_CP3kqrcyZE&gt;&quot;</td><td>&quot;&lt;fr/Hamlet_liikemaailmassa&gt;&quot;</td><td>&quot;&lt;hasInternalWikipediaLinkTo&gt;&quot;</td><td>&quot;&lt;fr/Hamlet_Goes_Business&gt;&quot;</td><td>null</td></tr><tr><td>&quot;&lt;id_MusY!GD7dx_gJx_3wbIBWu20M&gt;&quot;</td><td>&quot;&lt;fr/Debout_les_jeunes&gt;&quot;</td><td>&quot;&lt;hasInternalWikipediaLinkTo&gt;&quot;</td><td>&quot;&lt;fr/Debout_la_France#Debout_les_jeunes&gt;&quot;</td><td>null</td></tr><tr><td>&quot;&lt;id_tir8BJgp9V_gJx_1n5!3ShiPM&gt;&quot;</td><td>&quot;&lt;fr/Constant_Ndima_Kongba&gt;&quot;</td><td>&quot;&lt;hasInternalWikipediaLinkTo&gt;&quot;</td><td>&quot;&lt;fr/Constant_Ndima_Kogba&gt;&quot;</td><td>null</td></tr><tr><td>&quot;&lt;id_B6jCJvale6_gJx_2dNS3SYixu&gt;&quot;</td><td>&quot;&lt;fr/Regi_Andrej_Tarkowski&gt;&quot;</td><td>&quot;&lt;hasInternalWikipediaLinkTo&gt;&quot;</td><td>&quot;&lt;fr/Regi_Andrej_Tarkovskij&gt;&quot;</td><td>null</td></tr><tr><td>&quot;&lt;id_pklM9nZ98h_gJx_Q1sLU7Y4mL&gt;&quot;</td><td>&quot;&lt;fr/Bikila_Tadese_Takele&gt;&quot;</td><td>&quot;&lt;hasInternalWikipediaLinkTo&gt;&quot;</td><td>&quot;&lt;fr/Tadese_Takele&gt;&quot;</td><td>null</td></tr></tbody></table></div>"
      ],
      "text/plain": [
       "shape: (163_598_707, 5)\n",
       "┌─────────────────────┬─────────────────────┬────────────────────┬────────────────────┬────────────┐\n",
       "│ id                  ┆ subject             ┆ predicate          ┆ cat_object         ┆ num_object │\n",
       "│ ---                 ┆ ---                 ┆ ---                ┆ ---                ┆ ---        │\n",
       "│ str                 ┆ str                 ┆ str                ┆ str                ┆ f64        │\n",
       "╞═════════════════════╪═════════════════════╪════════════════════╪════════════════════╪════════════╡\n",
       "│ <id_Zu2bMmhVoW_uvg_ ┆ <yagoTheme_structur ┆ <hasGloss>         ┆ This file is part  ┆ null       │\n",
       "│ tb6XVo9m3H>         ┆ eFactsNeedTranslati ┆                    ┆ of the ontology    ┆            │\n",
       "│                     ┆ onTypeCheckingRedir ┆                    ┆ YAGO3. It is       ┆            │\n",
       "│                     ┆ ecting_fr>          ┆                    ┆ licensed under a   ┆            │\n",
       "│                     ┆                     ┆                    ┆ Creative-Commons   ┆            │\n",
       "│                     ┆                     ┆                    ┆ Attribution        ┆            │\n",
       "│                     ┆                     ┆                    ┆ License by the     ┆            │\n",
       "│                     ┆                     ┆                    ┆ YAGO team at the   ┆            │\n",
       "│                     ┆                     ┆                    ┆ Max Planck         ┆            │\n",
       "│                     ┆                     ┆                    ┆ Institute for …    ┆            │\n",
       "│ <id_PSA3W26OQ1_1EW_ ┆ <fr/Antoine_Meillet ┆ <hasExternalWikipe ┆ <http://www.inalco ┆ null       │\n",
       "│ Zfc1Pg27iJ>         ┆ >                   ┆ diaLinkTo>         ┆ .fr/ina_gabarit_ru ┆            │\n",
       "│                     ┆                     ┆                    ┆ brique.php3?ctx=la ┆            │\n",
       "│                     ┆                     ┆                    ┆ ngue&id_rubrique=4 ┆            │\n",
       "│                     ┆                     ┆                    ┆ 7&id_departement=8 ┆            │\n",
       "│                     ┆                     ┆                    ┆ &ina_rubrique_depa ┆            │\n",
       "│                     ┆                     ┆                    ┆ rtement=1193&id_la ┆            │\n",
       "│                     ┆                     ┆                    ┆ ngue=8&ina_rubriqu ┆            │\n",
       "│                     ┆                     ┆                    ┆ e_lang…            ┆            │\n",
       "│ <id_q7hGNKg2jM_OGe_ ┆ <id_PSA3W26OQ1_1EW_ ┆ <hasAnchorText>    ┆ Institut National  ┆ null       │\n",
       "│ p8lHgJrLRR>         ┆ Zfc1Pg27iJ>         ┆                    ┆ des Langues et     ┆            │\n",
       "│                     ┆                     ┆                    ┆ Civilisations      ┆            │\n",
       "│                     ┆                     ┆                    ┆ Orientales@fra     ┆            │\n",
       "│ <id_PSA3W26OQ1_gJx_ ┆ <fr/Antoine_Meillet ┆ <hasInternalWikipe ┆ <fr/Moulins_(Allie ┆ null       │\n",
       "│ MKcGWI4YTX>         ┆ >                   ┆ diaLinkTo>         ┆ r)>                ┆            │\n",
       "│ <id_UenmEF7CFY_OGe_ ┆ <id_PSA3W26OQ1_gJx_ ┆ <hasAnchorText>    ┆ Moulins@fra        ┆ null       │\n",
       "│ yvmP72oA!r>         ┆ MKcGWI4YTX>         ┆                    ┆                    ┆            │\n",
       "│ …                   ┆ …                   ┆ …                  ┆ …                  ┆ …          │\n",
       "│ <id_dzKxf9IVxO_gJx_ ┆ <fr/Hamlet_liikemaa ┆ <hasInternalWikipe ┆ <fr/Hamlet_Goes_Bu ┆ null       │\n",
       "│ CP3kqrcyZE>         ┆ ilmassa>            ┆ diaLinkTo>         ┆ siness>            ┆            │\n",
       "│ <id_MusY!GD7dx_gJx_ ┆ <fr/Debout_les_jeun ┆ <hasInternalWikipe ┆ <fr/Debout_la_Fran ┆ null       │\n",
       "│ 3wbIBWu20M>         ┆ es>                 ┆ diaLinkTo>         ┆ ce#Debout_les_jeun ┆            │\n",
       "│                     ┆                     ┆                    ┆ es>                ┆            │\n",
       "│ <id_tir8BJgp9V_gJx_ ┆ <fr/Constant_Ndima_ ┆ <hasInternalWikipe ┆ <fr/Constant_Ndima ┆ null       │\n",
       "│ 1n5!3ShiPM>         ┆ Kongba>             ┆ diaLinkTo>         ┆ _Kogba>            ┆            │\n",
       "│ <id_B6jCJvale6_gJx_ ┆ <fr/Regi_Andrej_Tar ┆ <hasInternalWikipe ┆ <fr/Regi_Andrej_Ta ┆ null       │\n",
       "│ 2dNS3SYixu>         ┆ kowski>             ┆ diaLinkTo>         ┆ rkovskij>          ┆            │\n",
       "│ <id_pklM9nZ98h_gJx_ ┆ <fr/Bikila_Tadese_T ┆ <hasInternalWikipe ┆ <fr/Tadese_Takele> ┆ null       │\n",
       "│ Q1sLU7Y4mL>         ┆ akele>              ┆ diaLinkTo>         ┆                    ┆            │\n",
       "└─────────────────────┴─────────────────────┴────────────────────┴────────────────────┴────────────┘"
      ]
     },
     "metadata": {},
     "output_type": "display_data"
    },
    {
     "name": "stdout",
     "output_type": "stream",
     "text": [
      "structureFactsNeedTranslationTypeCheckingRedirecting_en.tsv\n"
     ]
    },
    {
     "data": {
      "text/html": [
       "<div><style>\n",
       ".dataframe > thead > tr,\n",
       ".dataframe > tbody > tr {\n",
       "  text-align: right;\n",
       "  white-space: pre-wrap;\n",
       "}\n",
       "</style>\n",
       "<small>shape: (375_277_252, 5)</small><table border=\"1\" class=\"dataframe\"><thead><tr><th>id</th><th>subject</th><th>predicate</th><th>cat_object</th><th>num_object</th></tr><tr><td>str</td><td>str</td><td>str</td><td>str</td><td>f64</td></tr></thead><tbody><tr><td>null</td><td>&quot;&lt;AccessibleComputing&gt;&quot;</td><td>&quot;&lt;hasInternalWikipediaLinkTo&gt;&quot;</td><td>&quot;&lt;Computer_accessibility&gt;&quot;</td><td>null</td></tr><tr><td>null</td><td>&quot;&lt;AfghanistanHistory&gt;&quot;</td><td>&quot;&lt;hasInternalWikipediaLinkTo&gt;&quot;</td><td>&quot;&lt;History_of_Afghanistan&gt;&quot;</td><td>null</td></tr><tr><td>null</td><td>&quot;&lt;AfghanistanGeography&gt;&quot;</td><td>&quot;&lt;hasInternalWikipediaLinkTo&gt;&quot;</td><td>&quot;&lt;Geography_of_Afghanistan&gt;&quot;</td><td>null</td></tr><tr><td>null</td><td>&quot;&lt;AfghanistanPeople&gt;&quot;</td><td>&quot;&lt;hasInternalWikipediaLinkTo&gt;&quot;</td><td>&quot;&lt;Demographics_of_Afghanistan&gt;&quot;</td><td>null</td></tr><tr><td>null</td><td>&quot;&lt;AfghanistanCommunications&gt;&quot;</td><td>&quot;&lt;hasInternalWikipediaLinkTo&gt;&quot;</td><td>&quot;&lt;Communications_in_Afghanistan&gt;&quot;</td><td>null</td></tr><tr><td>null</td><td>&quot;&lt;AfghanistanTransportations&gt;&quot;</td><td>&quot;&lt;hasInternalWikipediaLinkTo&gt;&quot;</td><td>&quot;&lt;Transport_in_Afghanistan&gt;&quot;</td><td>null</td></tr><tr><td>null</td><td>&quot;&lt;AfghanistanMilitary&gt;&quot;</td><td>&quot;&lt;hasInternalWikipediaLinkTo&gt;&quot;</td><td>&quot;&lt;Armed_Forces_of_the_Islamic_Emirate_of_Afghanistan&gt;&quot;</td><td>null</td></tr><tr><td>null</td><td>&quot;&lt;AfghanistanTransnationalIssues&gt;&quot;</td><td>&quot;&lt;hasInternalWikipediaLinkTo&gt;&quot;</td><td>&quot;&lt;Foreign_relations_of_Afghanistan&gt;&quot;</td><td>null</td></tr><tr><td>null</td><td>&quot;&lt;AssistiveTechnology&gt;&quot;</td><td>&quot;&lt;hasInternalWikipediaLinkTo&gt;&quot;</td><td>&quot;&lt;Assistive_technology&gt;&quot;</td><td>null</td></tr><tr><td>null</td><td>&quot;&lt;AmoeboidTaxa&gt;&quot;</td><td>&quot;&lt;hasInternalWikipediaLinkTo&gt;&quot;</td><td>&quot;&lt;Amoeba&gt;&quot;</td><td>null</td></tr><tr><td>null</td><td>&quot;&lt;AlbaniaHistory&gt;&quot;</td><td>&quot;&lt;hasInternalWikipediaLinkTo&gt;&quot;</td><td>&quot;&lt;History_of_Albania&gt;&quot;</td><td>null</td></tr><tr><td>null</td><td>&quot;&lt;AlbaniaPeople&gt;&quot;</td><td>&quot;&lt;hasInternalWikipediaLinkTo&gt;&quot;</td><td>&quot;&lt;Demographics_of_Albania&gt;&quot;</td><td>null</td></tr><tr><td>&hellip;</td><td>&hellip;</td><td>&hellip;</td><td>&hellip;</td><td>&hellip;</td></tr><tr><td>null</td><td>&quot;&lt;Harald_the_Stalwart&gt;&quot;</td><td>&quot;&lt;hasInternalWikipediaLinkTo&gt;&quot;</td><td>&quot;&lt;Nils_Hallberg&gt;&quot;</td><td>null</td></tr><tr><td>null</td><td>&quot;&lt;Harald_the_Stalwart&gt;&quot;</td><td>&quot;&lt;hasInternalWikipediaLinkTo&gt;&quot;</td><td>&quot;&lt;Olle_Hilding&gt;&quot;</td><td>null</td></tr><tr><td>null</td><td>&quot;&lt;Harald_the_Stalwart&gt;&quot;</td><td>&quot;&lt;hasInternalWikipediaLinkTo&gt;&quot;</td><td>&quot;&lt;Artur_Rolén&gt;&quot;</td><td>null</td></tr><tr><td>null</td><td>&quot;&lt;Harald_the_Stalwart&gt;&quot;</td><td>&quot;&lt;hasInternalWikipediaLinkTo&gt;&quot;</td><td>&quot;&lt;Hanny_Schedin&gt;&quot;</td><td>null</td></tr><tr><td>null</td><td>&quot;&lt;Harald_the_Stalwart&gt;&quot;</td><td>&quot;&lt;hasInternalWikipediaLinkTo&gt;&quot;</td><td>&quot;&lt;Vera_Valdor&gt;&quot;</td><td>null</td></tr><tr><td>null</td><td>&quot;&lt;Harald_the_Stalwart&gt;&quot;</td><td>&quot;&lt;hasInternalWikipediaLinkTo&gt;&quot;</td><td>&quot;&lt;Wiktor_Andersson&gt;&quot;</td><td>null</td></tr><tr><td>null</td><td>&quot;&lt;Harald_the_Stalwart&gt;&quot;</td><td>&quot;&lt;hasInternalWikipediaLinkTo&gt;&quot;</td><td>&quot;&lt;Hampe_Faustman&gt;&quot;</td><td>null</td></tr><tr><td>null</td><td>&quot;&lt;Harald_the_Stalwart&gt;&quot;</td><td>&quot;&lt;hasInternalWikipediaLinkTo&gt;&quot;</td><td>&quot;&lt;Erik_Forslund&gt;&quot;</td><td>null</td></tr><tr><td>null</td><td>&quot;&lt;Harald_the_Stalwart&gt;&quot;</td><td>&quot;&lt;hasInternalWikipediaLinkTo&gt;&quot;</td><td>&quot;&lt;Georg_Skarstedt&gt;&quot;</td><td>null</td></tr><tr><td>null</td><td>&quot;&lt;Harald_the_Stalwart&gt;&quot;</td><td>&quot;&lt;hasInternalWikipediaLinkTo&gt;&quot;</td><td>&quot;&lt;Ivar_Wahlgren&gt;&quot;</td><td>null</td></tr><tr><td>null</td><td>&quot;&lt;Harald_the_Stalwart&gt;&quot;</td><td>&quot;&lt;hasInternalWikipediaLinkTo&gt;&quot;</td><td>&quot;&lt;Gunn_Wållgren&gt;&quot;</td><td>null</td></tr><tr><td>null</td><td>&quot;&lt;Harald_Handfaste&gt;&quot;</td><td>&quot;&lt;hasInternalWikipediaLinkTo&gt;&quot;</td><td>&quot;&lt;Harald_the_Stalwart&gt;&quot;</td><td>null</td></tr></tbody></table></div>"
      ],
      "text/plain": [
       "shape: (375_277_252, 5)\n",
       "┌──────┬──────────────────────────┬─────────────────────────┬─────────────────────────┬────────────┐\n",
       "│ id   ┆ subject                  ┆ predicate               ┆ cat_object              ┆ num_object │\n",
       "│ ---  ┆ ---                      ┆ ---                     ┆ ---                     ┆ ---        │\n",
       "│ str  ┆ str                      ┆ str                     ┆ str                     ┆ f64        │\n",
       "╞══════╪══════════════════════════╪═════════════════════════╪═════════════════════════╪════════════╡\n",
       "│ null ┆ <AccessibleComputing>    ┆ <hasInternalWikipediaLi ┆ <Computer_accessibility ┆ null       │\n",
       "│      ┆                          ┆ nkTo>                   ┆ >                       ┆            │\n",
       "│ null ┆ <AfghanistanHistory>     ┆ <hasInternalWikipediaLi ┆ <History_of_Afghanistan ┆ null       │\n",
       "│      ┆                          ┆ nkTo>                   ┆ >                       ┆            │\n",
       "│ null ┆ <AfghanistanGeography>   ┆ <hasInternalWikipediaLi ┆ <Geography_of_Afghanist ┆ null       │\n",
       "│      ┆                          ┆ nkTo>                   ┆ an>                     ┆            │\n",
       "│ null ┆ <AfghanistanPeople>      ┆ <hasInternalWikipediaLi ┆ <Demographics_of_Afghan ┆ null       │\n",
       "│      ┆                          ┆ nkTo>                   ┆ istan>                  ┆            │\n",
       "│ null ┆ <AfghanistanCommunicatio ┆ <hasInternalWikipediaLi ┆ <Communications_in_Afgh ┆ null       │\n",
       "│      ┆ ns>                      ┆ nkTo>                   ┆ anistan>                ┆            │\n",
       "│ …    ┆ …                        ┆ …                       ┆ …                       ┆ …          │\n",
       "│ null ┆ <Harald_the_Stalwart>    ┆ <hasInternalWikipediaLi ┆ <Erik_Forslund>         ┆ null       │\n",
       "│      ┆                          ┆ nkTo>                   ┆                         ┆            │\n",
       "│ null ┆ <Harald_the_Stalwart>    ┆ <hasInternalWikipediaLi ┆ <Georg_Skarstedt>       ┆ null       │\n",
       "│      ┆                          ┆ nkTo>                   ┆                         ┆            │\n",
       "│ null ┆ <Harald_the_Stalwart>    ┆ <hasInternalWikipediaLi ┆ <Ivar_Wahlgren>         ┆ null       │\n",
       "│      ┆                          ┆ nkTo>                   ┆                         ┆            │\n",
       "│ null ┆ <Harald_the_Stalwart>    ┆ <hasInternalWikipediaLi ┆ <Gunn_Wållgren>         ┆ null       │\n",
       "│      ┆                          ┆ nkTo>                   ┆                         ┆            │\n",
       "│ null ┆ <Harald_Handfaste>       ┆ <hasInternalWikipediaLi ┆ <Harald_the_Stalwart>   ┆ null       │\n",
       "│      ┆                          ┆ nkTo>                   ┆                         ┆            │\n",
       "└──────┴──────────────────────────┴─────────────────────────┴─────────────────────────┴────────────┘"
      ]
     },
     "metadata": {},
     "output_type": "display_data"
    },
    {
     "name": "stdout",
     "output_type": "stream",
     "text": [
      "structureFactsNeedTranslationTypeCheckingRedirecting_fr.tsv\n"
     ]
    },
    {
     "data": {
      "text/html": [
       "<div><style>\n",
       ".dataframe > thead > tr,\n",
       ".dataframe > tbody > tr {\n",
       "  text-align: right;\n",
       "  white-space: pre-wrap;\n",
       "}\n",
       "</style>\n",
       "<small>shape: (163_598_706, 5)</small><table border=\"1\" class=\"dataframe\"><thead><tr><th>id</th><th>subject</th><th>predicate</th><th>cat_object</th><th>num_object</th></tr><tr><td>str</td><td>str</td><td>str</td><td>str</td><td>f64</td></tr></thead><tbody><tr><td>&quot;&lt;id_PSA3W26OQ1_1EW_Zfc1Pg27iJ&gt;&quot;</td><td>&quot;&lt;fr/Antoine_Meillet&gt;&quot;</td><td>&quot;&lt;hasExternalWikipediaLinkTo&gt;&quot;</td><td>&quot;&lt;http://www.inalco.fr/ina_gabarit_rubrique.php3?ctx=langue&amp;id_rubrique=47&amp;id_departement=8&amp;ina_rubrique_departement=1193&amp;id_langue=8&amp;ina_rubrique_lan…</td><td>null</td></tr><tr><td>null</td><td>&quot;&lt;id_PSA3W26OQ1_1EW_Zfc1Pg27iJ&gt;&quot;</td><td>&quot;&lt;hasAnchorText&gt;&quot;</td><td>&quot;Institut National des Langues et Civilisations Orientales@fra&quot;</td><td>null</td></tr><tr><td>&quot;&lt;id_PSA3W26OQ1_gJx_MKcGWI4YTX&gt;&quot;</td><td>&quot;&lt;fr/Antoine_Meillet&gt;&quot;</td><td>&quot;&lt;hasInternalWikipediaLinkTo&gt;&quot;</td><td>&quot;&lt;fr/Moulins_(Allier)&gt;&quot;</td><td>null</td></tr><tr><td>null</td><td>&quot;&lt;id_PSA3W26OQ1_gJx_MKcGWI4YTX&gt;&quot;</td><td>&quot;&lt;hasAnchorText&gt;&quot;</td><td>&quot;Moulins@fra&quot;</td><td>null</td></tr><tr><td>&quot;&lt;id_PSA3W26OQ1_gJx_60j2q!dpk?&gt;&quot;</td><td>&quot;&lt;fr/Antoine_Meillet&gt;&quot;</td><td>&quot;&lt;hasInternalWikipediaLinkTo&gt;&quot;</td><td>&quot;&lt;fr/Allier_(département)&gt;&quot;</td><td>null</td></tr><tr><td>null</td><td>&quot;&lt;id_PSA3W26OQ1_gJx_60j2q!dpk?&gt;&quot;</td><td>&quot;&lt;hasAnchorText&gt;&quot;</td><td>&quot;Allier@fra&quot;</td><td>null</td></tr><tr><td>&quot;&lt;id_PSA3W26OQ1_gJx_UfZKKaxTaw&gt;&quot;</td><td>&quot;&lt;fr/Antoine_Meillet&gt;&quot;</td><td>&quot;&lt;hasInternalWikipediaLinkTo&gt;&quot;</td><td>&quot;&lt;fr/Cher_(département)&gt;&quot;</td><td>null</td></tr><tr><td>null</td><td>&quot;&lt;id_PSA3W26OQ1_gJx_UfZKKaxTaw&gt;&quot;</td><td>&quot;&lt;hasAnchorText&gt;&quot;</td><td>&quot;Cher@fra&quot;</td><td>null</td></tr><tr><td>&quot;&lt;id_PSA3W26OQ1_gJx_D1vKHURRId&gt;&quot;</td><td>&quot;&lt;fr/Antoine_Meillet&gt;&quot;</td><td>&quot;&lt;hasInternalWikipediaLinkTo&gt;&quot;</td><td>&quot;&lt;fr/liste_de_linguistes&gt;&quot;</td><td>null</td></tr><tr><td>null</td><td>&quot;&lt;id_PSA3W26OQ1_gJx_D1vKHURRId&gt;&quot;</td><td>&quot;&lt;hasAnchorText&gt;&quot;</td><td>&quot;linguiste@fra&quot;</td><td>null</td></tr><tr><td>&quot;&lt;id_PSA3W26OQ1_gJx_UfZKKaxTaw&gt;&quot;</td><td>&quot;&lt;fr/Antoine_Meillet&gt;&quot;</td><td>&quot;&lt;hasInternalWikipediaLinkTo&gt;&quot;</td><td>&quot;&lt;fr/Cher_(département)&gt;&quot;</td><td>null</td></tr><tr><td>null</td><td>&quot;&lt;id_PSA3W26OQ1_gJx_UfZKKaxTaw&gt;&quot;</td><td>&quot;&lt;hasAnchorText&gt;&quot;</td><td>&quot;Cher@fra&quot;</td><td>null</td></tr><tr><td>&hellip;</td><td>&hellip;</td><td>&hellip;</td><td>&hellip;</td><td>&hellip;</td></tr><tr><td>null</td><td>&quot;&lt;fr/Krul&gt;&quot;</td><td>&quot;&lt;hasInternalWikipediaLinkTo&gt;&quot;</td><td>&quot;&lt;fr/symbole&gt;&quot;</td><td>null</td></tr><tr><td>null</td><td>&quot;&lt;fr/Krul&gt;&quot;</td><td>&quot;&lt;hasInternalWikipediaLinkTo&gt;&quot;</td><td>&quot;&lt;fr/Pays-Bas&gt;&quot;</td><td>null</td></tr><tr><td>null</td><td>&quot;&lt;fr/Krul&gt;&quot;</td><td>&quot;&lt;hasInternalWikipediaLinkTo&gt;&quot;</td><td>&quot;&lt;fr/Caraïbes_néerlandaises&gt;&quot;</td><td>null</td></tr><tr><td>null</td><td>&quot;&lt;fr/Krul&gt;&quot;</td><td>&quot;&lt;hasInternalWikipediaLinkTo&gt;&quot;</td><td>&quot;&lt;fr/Indonésie&gt;&quot;</td><td>null</td></tr><tr><td>null</td><td>&quot;&lt;fr/Krul&gt;&quot;</td><td>&quot;&lt;hasInternalWikipediaLinkTo&gt;&quot;</td><td>&quot;&lt;fr/Afrique_du_Sud&gt;&quot;</td><td>null</td></tr><tr><td>null</td><td>&quot;&lt;fr/Krul&gt;&quot;</td><td>&quot;&lt;hasInternalWikipediaLinkTo&gt;&quot;</td><td>&quot;&lt;fr/Suriname&gt;&quot;</td><td>null</td></tr><tr><td>null</td><td>&quot;&lt;fr/Krul&gt;&quot;</td><td>&quot;&lt;hasInternalWikipediaLinkTo&gt;&quot;</td><td>&quot;&lt;fr/Belgique&gt;&quot;</td><td>null</td></tr><tr><td>null</td><td>&quot;&lt;fr/Hamlet_liikemaailmassa&gt;&quot;</td><td>&quot;&lt;hasInternalWikipediaLinkTo&gt;&quot;</td><td>&quot;&lt;fr/Hamlet_Goes_Business&gt;&quot;</td><td>null</td></tr><tr><td>null</td><td>&quot;&lt;fr/Debout_les_jeunes&gt;&quot;</td><td>&quot;&lt;hasInternalWikipediaLinkTo&gt;&quot;</td><td>&quot;&lt;fr/Debout_la_France#Debout_les_jeunes&gt;&quot;</td><td>null</td></tr><tr><td>null</td><td>&quot;&lt;fr/Constant_Ndima_Kongba&gt;&quot;</td><td>&quot;&lt;hasInternalWikipediaLinkTo&gt;&quot;</td><td>&quot;&lt;fr/Constant_Ndima_Kogba&gt;&quot;</td><td>null</td></tr><tr><td>null</td><td>&quot;&lt;fr/Regi_Andrej_Tarkowski&gt;&quot;</td><td>&quot;&lt;hasInternalWikipediaLinkTo&gt;&quot;</td><td>&quot;&lt;fr/Regi_Andrej_Tarkovskij&gt;&quot;</td><td>null</td></tr><tr><td>null</td><td>&quot;&lt;fr/Bikila_Tadese_Takele&gt;&quot;</td><td>&quot;&lt;hasInternalWikipediaLinkTo&gt;&quot;</td><td>&quot;&lt;fr/Tadese_Takele&gt;&quot;</td><td>null</td></tr></tbody></table></div>"
      ],
      "text/plain": [
       "shape: (163_598_706, 5)\n",
       "┌─────────────────────┬─────────────────────┬────────────────────┬────────────────────┬────────────┐\n",
       "│ id                  ┆ subject             ┆ predicate          ┆ cat_object         ┆ num_object │\n",
       "│ ---                 ┆ ---                 ┆ ---                ┆ ---                ┆ ---        │\n",
       "│ str                 ┆ str                 ┆ str                ┆ str                ┆ f64        │\n",
       "╞═════════════════════╪═════════════════════╪════════════════════╪════════════════════╪════════════╡\n",
       "│ <id_PSA3W26OQ1_1EW_ ┆ <fr/Antoine_Meillet ┆ <hasExternalWikipe ┆ <http://www.inalco ┆ null       │\n",
       "│ Zfc1Pg27iJ>         ┆ >                   ┆ diaLinkTo>         ┆ .fr/ina_gabarit_ru ┆            │\n",
       "│                     ┆                     ┆                    ┆ brique.php3?ctx=la ┆            │\n",
       "│                     ┆                     ┆                    ┆ ngue&id_rubrique=4 ┆            │\n",
       "│                     ┆                     ┆                    ┆ 7&id_departement=8 ┆            │\n",
       "│                     ┆                     ┆                    ┆ &ina_rubrique_depa ┆            │\n",
       "│                     ┆                     ┆                    ┆ rtement=1193&id_la ┆            │\n",
       "│                     ┆                     ┆                    ┆ ngue=8&ina_rubriqu ┆            │\n",
       "│                     ┆                     ┆                    ┆ e_lang…            ┆            │\n",
       "│ null                ┆ <id_PSA3W26OQ1_1EW_ ┆ <hasAnchorText>    ┆ Institut National  ┆ null       │\n",
       "│                     ┆ Zfc1Pg27iJ>         ┆                    ┆ des Langues et     ┆            │\n",
       "│                     ┆                     ┆                    ┆ Civilisations      ┆            │\n",
       "│                     ┆                     ┆                    ┆ Orientales@fra     ┆            │\n",
       "│ <id_PSA3W26OQ1_gJx_ ┆ <fr/Antoine_Meillet ┆ <hasInternalWikipe ┆ <fr/Moulins_(Allie ┆ null       │\n",
       "│ MKcGWI4YTX>         ┆ >                   ┆ diaLinkTo>         ┆ r)>                ┆            │\n",
       "│ null                ┆ <id_PSA3W26OQ1_gJx_ ┆ <hasAnchorText>    ┆ Moulins@fra        ┆ null       │\n",
       "│                     ┆ MKcGWI4YTX>         ┆                    ┆                    ┆            │\n",
       "│ <id_PSA3W26OQ1_gJx_ ┆ <fr/Antoine_Meillet ┆ <hasInternalWikipe ┆ <fr/Allier_(départ ┆ null       │\n",
       "│ 60j2q!dpk?>         ┆ >                   ┆ diaLinkTo>         ┆ ement)>            ┆            │\n",
       "│ …                   ┆ …                   ┆ …                  ┆ …                  ┆ …          │\n",
       "│ null                ┆ <fr/Hamlet_liikemaa ┆ <hasInternalWikipe ┆ <fr/Hamlet_Goes_Bu ┆ null       │\n",
       "│                     ┆ ilmassa>            ┆ diaLinkTo>         ┆ siness>            ┆            │\n",
       "│ null                ┆ <fr/Debout_les_jeun ┆ <hasInternalWikipe ┆ <fr/Debout_la_Fran ┆ null       │\n",
       "│                     ┆ es>                 ┆ diaLinkTo>         ┆ ce#Debout_les_jeun ┆            │\n",
       "│                     ┆                     ┆                    ┆ es>                ┆            │\n",
       "│ null                ┆ <fr/Constant_Ndima_ ┆ <hasInternalWikipe ┆ <fr/Constant_Ndima ┆ null       │\n",
       "│                     ┆ Kongba>             ┆ diaLinkTo>         ┆ _Kogba>            ┆            │\n",
       "│ null                ┆ <fr/Regi_Andrej_Tar ┆ <hasInternalWikipe ┆ <fr/Regi_Andrej_Ta ┆ null       │\n",
       "│                     ┆ kowski>             ┆ diaLinkTo>         ┆ rkovskij>          ┆            │\n",
       "│ null                ┆ <fr/Bikila_Tadese_T ┆ <hasInternalWikipe ┆ <fr/Tadese_Takele> ┆ null       │\n",
       "│                     ┆ akele>              ┆ diaLinkTo>         ┆                    ┆            │\n",
       "└─────────────────────┴─────────────────────┴────────────────────┴────────────────────┴────────────┘"
      ]
     },
     "metadata": {},
     "output_type": "display_data"
    },
    {
     "name": "stdout",
     "output_type": "stream",
     "text": [
      "structureFactsNeedTypeChecking_fr.tsv\n"
     ]
    },
    {
     "data": {
      "text/html": [
       "<div><style>\n",
       ".dataframe > thead > tr,\n",
       ".dataframe > tbody > tr {\n",
       "  text-align: right;\n",
       "  white-space: pre-wrap;\n",
       "}\n",
       "</style>\n",
       "<small>shape: (110_840_716, 5)</small><table border=\"1\" class=\"dataframe\"><thead><tr><th>id</th><th>subject</th><th>predicate</th><th>cat_object</th><th>num_object</th></tr><tr><td>str</td><td>str</td><td>str</td><td>str</td><td>f64</td></tr></thead><tbody><tr><td>&quot;&lt;id_PSA3W26OQ1_1EW_Zfc1Pg27iJ&gt;&quot;</td><td>&quot;&lt;Antoine_Meillet&gt;&quot;</td><td>&quot;&lt;hasExternalWikipediaLinkTo&gt;&quot;</td><td>&quot;&lt;http://www.inalco.fr/ina_gabarit_rubrique.php3?ctx=langue&amp;id_rubrique=47&amp;id_departement=8&amp;ina_rubrique_departement=1193&amp;id_langue=8&amp;ina_rubrique_lan…</td><td>null</td></tr><tr><td>&quot;&lt;id_q7hGNKg2jM_OGe_p8lHgJrLRR&gt;&quot;</td><td>&quot;&lt;id_PSA3W26OQ1_1EW_Zfc1Pg27iJ&gt;&quot;</td><td>&quot;&lt;hasAnchorText&gt;&quot;</td><td>&quot;Institut National des Langues et Civilisations Orientales@fra&quot;</td><td>null</td></tr><tr><td>&quot;&lt;id_PSA3W26OQ1_gJx_MKcGWI4YTX&gt;&quot;</td><td>&quot;&lt;Antoine_Meillet&gt;&quot;</td><td>&quot;&lt;hasInternalWikipediaLinkTo&gt;&quot;</td><td>&quot;&lt;Moulins,_Allier&gt;&quot;</td><td>null</td></tr><tr><td>&quot;&lt;id_UenmEF7CFY_OGe_yvmP72oA!r&gt;&quot;</td><td>&quot;&lt;id_PSA3W26OQ1_gJx_MKcGWI4YTX&gt;&quot;</td><td>&quot;&lt;hasAnchorText&gt;&quot;</td><td>&quot;Moulins@fra&quot;</td><td>null</td></tr><tr><td>&quot;&lt;id_PSA3W26OQ1_gJx_60j2q!dpk?&gt;&quot;</td><td>&quot;&lt;Antoine_Meillet&gt;&quot;</td><td>&quot;&lt;hasInternalWikipediaLinkTo&gt;&quot;</td><td>&quot;&lt;Allier&gt;&quot;</td><td>null</td></tr><tr><td>&quot;&lt;id_FwNKiaB0oh_OGe_BXIZL6!I4m&gt;&quot;</td><td>&quot;&lt;id_PSA3W26OQ1_gJx_60j2q!dpk?&gt;&quot;</td><td>&quot;&lt;hasAnchorText&gt;&quot;</td><td>&quot;Allier@fra&quot;</td><td>null</td></tr><tr><td>&quot;&lt;id_PSA3W26OQ1_gJx_UfZKKaxTaw&gt;&quot;</td><td>&quot;&lt;Antoine_Meillet&gt;&quot;</td><td>&quot;&lt;hasInternalWikipediaLinkTo&gt;&quot;</td><td>&quot;&lt;Cher_(department)&gt;&quot;</td><td>null</td></tr><tr><td>&quot;&lt;id_m9?2U8fFgz_OGe_RbsrMgBNPb&gt;&quot;</td><td>&quot;&lt;id_PSA3W26OQ1_gJx_UfZKKaxTaw&gt;&quot;</td><td>&quot;&lt;hasAnchorText&gt;&quot;</td><td>&quot;Cher@fra&quot;</td><td>null</td></tr><tr><td>&quot;&lt;id_PSA3W26OQ1_gJx_UfZKKaxTaw&gt;&quot;</td><td>&quot;&lt;Antoine_Meillet&gt;&quot;</td><td>&quot;&lt;hasInternalWikipediaLinkTo&gt;&quot;</td><td>&quot;&lt;Cher_(department)&gt;&quot;</td><td>null</td></tr><tr><td>&quot;&lt;id_m9?2U8fFgz_OGe_RbsrMgBNPb&gt;&quot;</td><td>&quot;&lt;id_PSA3W26OQ1_gJx_UfZKKaxTaw&gt;&quot;</td><td>&quot;&lt;hasAnchorText&gt;&quot;</td><td>&quot;Cher@fra&quot;</td><td>null</td></tr><tr><td>&quot;&lt;id_PSA3W26OQ1_gJx_MKcGWI4YTX&gt;&quot;</td><td>&quot;&lt;Antoine_Meillet&gt;&quot;</td><td>&quot;&lt;hasInternalWikipediaLinkTo&gt;&quot;</td><td>&quot;&lt;Moulins,_Allier&gt;&quot;</td><td>null</td></tr><tr><td>&quot;&lt;id_UenmEF7CFY_OGe_yvmP72oA!r&gt;&quot;</td><td>&quot;&lt;id_PSA3W26OQ1_gJx_MKcGWI4YTX&gt;&quot;</td><td>&quot;&lt;hasAnchorText&gt;&quot;</td><td>&quot;Moulins@fra&quot;</td><td>null</td></tr><tr><td>&hellip;</td><td>&hellip;</td><td>&hellip;</td><td>&hellip;</td><td>&hellip;</td></tr><tr><td>&quot;&lt;id_WOkHvhjsOl_gJx_pzSv!DL9Cd&gt;&quot;</td><td>&quot;&lt;fr/Thierry_Frappé&gt;&quot;</td><td>&quot;&lt;hasInternalWikipediaLinkTo&gt;&quot;</td><td>&quot;&lt;Myriane_Houplain&gt;&quot;</td><td>null</td></tr><tr><td>&quot;&lt;id_WOkHvhjsOl_gJx_QVCEDEqBNC&gt;&quot;</td><td>&quot;&lt;fr/Thierry_Frappé&gt;&quot;</td><td>&quot;&lt;hasInternalWikipediaLinkTo&gt;&quot;</td><td>&quot;&lt;National_Rally&gt;&quot;</td><td>null</td></tr><tr><td>&quot;&lt;id_WOkHvhjsOl_gJx_t6pabeSmoV&gt;&quot;</td><td>&quot;&lt;fr/Thierry_Frappé&gt;&quot;</td><td>&quot;&lt;hasInternalWikipediaLinkTo&gt;&quot;</td><td>&quot;&lt;Bruay-la-Buissière&gt;&quot;</td><td>null</td></tr><tr><td>&quot;&lt;id_WOkHvhjsOl_gJx_QVCEDEqBNC&gt;&quot;</td><td>&quot;&lt;fr/Thierry_Frappé&gt;&quot;</td><td>&quot;&lt;hasInternalWikipediaLinkTo&gt;&quot;</td><td>&quot;&lt;National_Rally&gt;&quot;</td><td>null</td></tr><tr><td>&quot;&lt;id_WOkHvhjsOl_gJx_i2BqqVXKoz&gt;&quot;</td><td>&quot;&lt;fr/Thierry_Frappé&gt;&quot;</td><td>&quot;&lt;hasInternalWikipediaLinkTo&gt;&quot;</td><td>&quot;&lt;Ludovic_Pajot&gt;&quot;</td><td>null</td></tr><tr><td>&quot;&lt;id_WOkHvhjsOl_gJx_K2QttTVz4s&gt;&quot;</td><td>&quot;&lt;fr/Thierry_Frappé&gt;&quot;</td><td>&quot;&lt;hasInternalWikipediaLinkTo&gt;&quot;</td><td>&quot;&lt;La_Voix_du_Nord_(daily)&gt;&quot;</td><td>null</td></tr><tr><td>&quot;&lt;id_WOkHvhjsOl_gJx_pzSv!DL9Cd&gt;&quot;</td><td>&quot;&lt;fr/Thierry_Frappé&gt;&quot;</td><td>&quot;&lt;hasInternalWikipediaLinkTo&gt;&quot;</td><td>&quot;&lt;Myriane_Houplain&gt;&quot;</td><td>null</td></tr><tr><td>&quot;&lt;id_WOkHvhjsOl_gJx_K2QttTVz4s&gt;&quot;</td><td>&quot;&lt;fr/Thierry_Frappé&gt;&quot;</td><td>&quot;&lt;hasInternalWikipediaLinkTo&gt;&quot;</td><td>&quot;&lt;La_Voix_du_Nord_(daily)&gt;&quot;</td><td>null</td></tr><tr><td>&quot;&lt;id_WOkHvhjsOl_gJx_K2QttTVz4s&gt;&quot;</td><td>&quot;&lt;fr/Thierry_Frappé&gt;&quot;</td><td>&quot;&lt;hasInternalWikipediaLinkTo&gt;&quot;</td><td>&quot;&lt;La_Voix_du_Nord_(daily)&gt;&quot;</td><td>null</td></tr><tr><td>&quot;&lt;id_WOkHvhjsOl_gJx_SNYoKtbalm&gt;&quot;</td><td>&quot;&lt;fr/Thierry_Frappé&gt;&quot;</td><td>&quot;&lt;hasInternalWikipediaLinkTo&gt;&quot;</td><td>&quot;&lt;Marine_Le_Pen&gt;&quot;</td><td>null</td></tr><tr><td>&quot;&lt;id_WOkHvhjsOl_gJx_!9YBRg6bsv&gt;&quot;</td><td>&quot;&lt;fr/Thierry_Frappé&gt;&quot;</td><td>&quot;&lt;hasInternalWikipediaLinkTo&gt;&quot;</td><td>&quot;&lt;Michel_Dagbert&gt;&quot;</td><td>null</td></tr><tr><td>&quot;&lt;id_WOkHvhjsOl_gJx_t6pabeSmoV&gt;&quot;</td><td>&quot;&lt;fr/Thierry_Frappé&gt;&quot;</td><td>&quot;&lt;hasInternalWikipediaLinkTo&gt;&quot;</td><td>&quot;&lt;Bruay-la-Buissière&gt;&quot;</td><td>null</td></tr></tbody></table></div>"
      ],
      "text/plain": [
       "shape: (110_840_716, 5)\n",
       "┌─────────────────────┬─────────────────────┬────────────────────┬────────────────────┬────────────┐\n",
       "│ id                  ┆ subject             ┆ predicate          ┆ cat_object         ┆ num_object │\n",
       "│ ---                 ┆ ---                 ┆ ---                ┆ ---                ┆ ---        │\n",
       "│ str                 ┆ str                 ┆ str                ┆ str                ┆ f64        │\n",
       "╞═════════════════════╪═════════════════════╪════════════════════╪════════════════════╪════════════╡\n",
       "│ <id_PSA3W26OQ1_1EW_ ┆ <Antoine_Meillet>   ┆ <hasExternalWikipe ┆ <http://www.inalco ┆ null       │\n",
       "│ Zfc1Pg27iJ>         ┆                     ┆ diaLinkTo>         ┆ .fr/ina_gabarit_ru ┆            │\n",
       "│                     ┆                     ┆                    ┆ brique.php3?ctx=la ┆            │\n",
       "│                     ┆                     ┆                    ┆ ngue&id_rubrique=4 ┆            │\n",
       "│                     ┆                     ┆                    ┆ 7&id_departement=8 ┆            │\n",
       "│                     ┆                     ┆                    ┆ &ina_rubrique_depa ┆            │\n",
       "│                     ┆                     ┆                    ┆ rtement=1193&id_la ┆            │\n",
       "│                     ┆                     ┆                    ┆ ngue=8&ina_rubriqu ┆            │\n",
       "│                     ┆                     ┆                    ┆ e_lang…            ┆            │\n",
       "│ <id_q7hGNKg2jM_OGe_ ┆ <id_PSA3W26OQ1_1EW_ ┆ <hasAnchorText>    ┆ Institut National  ┆ null       │\n",
       "│ p8lHgJrLRR>         ┆ Zfc1Pg27iJ>         ┆                    ┆ des Langues et     ┆            │\n",
       "│                     ┆                     ┆                    ┆ Civilisations      ┆            │\n",
       "│                     ┆                     ┆                    ┆ Orientales@fra     ┆            │\n",
       "│ <id_PSA3W26OQ1_gJx_ ┆ <Antoine_Meillet>   ┆ <hasInternalWikipe ┆ <Moulins,_Allier>  ┆ null       │\n",
       "│ MKcGWI4YTX>         ┆                     ┆ diaLinkTo>         ┆                    ┆            │\n",
       "│ <id_UenmEF7CFY_OGe_ ┆ <id_PSA3W26OQ1_gJx_ ┆ <hasAnchorText>    ┆ Moulins@fra        ┆ null       │\n",
       "│ yvmP72oA!r>         ┆ MKcGWI4YTX>         ┆                    ┆                    ┆            │\n",
       "│ <id_PSA3W26OQ1_gJx_ ┆ <Antoine_Meillet>   ┆ <hasInternalWikipe ┆ <Allier>           ┆ null       │\n",
       "│ 60j2q!dpk?>         ┆                     ┆ diaLinkTo>         ┆                    ┆            │\n",
       "│ …                   ┆ …                   ┆ …                  ┆ …                  ┆ …          │\n",
       "│ <id_WOkHvhjsOl_gJx_ ┆ <fr/Thierry_Frappé> ┆ <hasInternalWikipe ┆ <La_Voix_du_Nord_( ┆ null       │\n",
       "│ K2QttTVz4s>         ┆                     ┆ diaLinkTo>         ┆ daily)>            ┆            │\n",
       "│ <id_WOkHvhjsOl_gJx_ ┆ <fr/Thierry_Frappé> ┆ <hasInternalWikipe ┆ <La_Voix_du_Nord_( ┆ null       │\n",
       "│ K2QttTVz4s>         ┆                     ┆ diaLinkTo>         ┆ daily)>            ┆            │\n",
       "│ <id_WOkHvhjsOl_gJx_ ┆ <fr/Thierry_Frappé> ┆ <hasInternalWikipe ┆ <Marine_Le_Pen>    ┆ null       │\n",
       "│ SNYoKtbalm>         ┆                     ┆ diaLinkTo>         ┆                    ┆            │\n",
       "│ <id_WOkHvhjsOl_gJx_ ┆ <fr/Thierry_Frappé> ┆ <hasInternalWikipe ┆ <Michel_Dagbert>   ┆ null       │\n",
       "│ !9YBRg6bsv>         ┆                     ┆ diaLinkTo>         ┆                    ┆            │\n",
       "│ <id_WOkHvhjsOl_gJx_ ┆ <fr/Thierry_Frappé> ┆ <hasInternalWikipe ┆ <Bruay-la-Buissièr ┆ null       │\n",
       "│ t6pabeSmoV>         ┆                     ┆ diaLinkTo>         ┆ e>                 ┆            │\n",
       "└─────────────────────┴─────────────────────┴────────────────────┴────────────────────┴────────────┘"
      ]
     },
     "metadata": {},
     "output_type": "display_data"
    },
    {
     "name": "stdout",
     "output_type": "stream",
     "text": [
      "transitiveTypes.tsv\n"
     ]
    },
    {
     "data": {
      "text/html": [
       "<div><style>\n",
       ".dataframe > thead > tr,\n",
       ".dataframe > tbody > tr {\n",
       "  text-align: right;\n",
       "  white-space: pre-wrap;\n",
       "}\n",
       "</style>\n",
       "<small>shape: (203_994_950, 5)</small><table border=\"1\" class=\"dataframe\"><thead><tr><th>id</th><th>subject</th><th>predicate</th><th>cat_object</th><th>num_object</th></tr><tr><td>str</td><td>str</td><td>str</td><td>str</td><td>f64</td></tr></thead><tbody><tr><td>&quot;&lt;id_j?RsaAy9FT_KCM_3IjIzxahCW&gt;&quot;</td><td>&quot;&lt;Stathmopoda_aposema&gt;&quot;</td><td>&quot;rdf:type&quot;</td><td>&quot;&lt;wikicat_Animals&gt;&quot;</td><td>null</td></tr><tr><td>&quot;&lt;id_j?RsaAy9FT_KCM_zf8Eq7IeM2&gt;&quot;</td><td>&quot;&lt;Stathmopoda_aposema&gt;&quot;</td><td>&quot;rdf:type&quot;</td><td>&quot;&lt;wikicat_Arthropods&gt;&quot;</td><td>null</td></tr><tr><td>&quot;&lt;id_j?RsaAy9FT_KCM_8AP9jYGjmW&gt;&quot;</td><td>&quot;&lt;Stathmopoda_aposema&gt;&quot;</td><td>&quot;rdf:type&quot;</td><td>&quot;&lt;wikicat_Arthropods_of_New_Zealand&gt;&quot;</td><td>null</td></tr><tr><td>&quot;&lt;id_j?RsaAy9FT_KCM_Zv3j1uONma&gt;&quot;</td><td>&quot;&lt;Stathmopoda_aposema&gt;&quot;</td><td>&quot;rdf:type&quot;</td><td>&quot;&lt;wikicat_Arthropods_of_Oceania&gt;&quot;</td><td>null</td></tr><tr><td>&quot;&lt;id_j?RsaAy9FT_KCM_DR9BKqZ0xS&gt;&quot;</td><td>&quot;&lt;Stathmopoda_aposema&gt;&quot;</td><td>&quot;rdf:type&quot;</td><td>&quot;&lt;wikicat_Insects&gt;&quot;</td><td>null</td></tr><tr><td>&quot;&lt;id_j?RsaAy9FT_KCM_FD7QHAlAgO&gt;&quot;</td><td>&quot;&lt;Stathmopoda_aposema&gt;&quot;</td><td>&quot;rdf:type&quot;</td><td>&quot;&lt;wikicat_Insects_described_in_1901&gt;&quot;</td><td>null</td></tr><tr><td>&quot;&lt;id_j?RsaAy9FT_KCM_!MgJlpx7e!&gt;&quot;</td><td>&quot;&lt;Stathmopoda_aposema&gt;&quot;</td><td>&quot;rdf:type&quot;</td><td>&quot;&lt;wikicat_Insects_of_New_Zealand&gt;&quot;</td><td>null</td></tr><tr><td>&quot;&lt;id_j?RsaAy9FT_KCM_B5X3n18WMW&gt;&quot;</td><td>&quot;&lt;Stathmopoda_aposema&gt;&quot;</td><td>&quot;rdf:type&quot;</td><td>&quot;&lt;wikicat_Insects_of_Oceania&gt;&quot;</td><td>null</td></tr><tr><td>&quot;&lt;id_j?RsaAy9FT_KCM_qwDq8FAS3z&gt;&quot;</td><td>&quot;&lt;Stathmopoda_aposema&gt;&quot;</td><td>&quot;rdf:type&quot;</td><td>&quot;&lt;wikicat_Invertebrates&gt;&quot;</td><td>null</td></tr><tr><td>&quot;&lt;id_j?RsaAy9FT_KCM_Cv6RB03YgF&gt;&quot;</td><td>&quot;&lt;Stathmopoda_aposema&gt;&quot;</td><td>&quot;rdf:type&quot;</td><td>&quot;&lt;wikicat_Invertebrates_of_New_Zealand&gt;&quot;</td><td>null</td></tr><tr><td>&quot;&lt;id_j?RsaAy9FT_KCM_sp0tlFhaKR&gt;&quot;</td><td>&quot;&lt;Stathmopoda_aposema&gt;&quot;</td><td>&quot;rdf:type&quot;</td><td>&quot;&lt;wikicat_Invertebrates_of_Oceania&gt;&quot;</td><td>null</td></tr><tr><td>&quot;&lt;id_j?RsaAy9FT_KCM_4o0psm50jM&gt;&quot;</td><td>&quot;&lt;Stathmopoda_aposema&gt;&quot;</td><td>&quot;rdf:type&quot;</td><td>&quot;&lt;wikicat_Moths&gt;&quot;</td><td>null</td></tr><tr><td>&hellip;</td><td>&hellip;</td><td>&hellip;</td><td>&hellip;</td><td>&hellip;</td></tr><tr><td>&quot;&lt;id_ufZ4VP3cOK_KCM_Ki6LVmAgyu&gt;&quot;</td><td>&quot;&lt;Cherukunnapuzha&gt;&quot;</td><td>&quot;rdf:type&quot;</td><td>&quot;&lt;wikicat_Rivers_of_India&gt;&quot;</td><td>null</td></tr><tr><td>&quot;&lt;id_ufZ4VP3cOK_KCM_u3XZNDIxHc&gt;&quot;</td><td>&quot;&lt;Cherukunnapuzha&gt;&quot;</td><td>&quot;rdf:type&quot;</td><td>&quot;&lt;wikicat_Rivers_of_Kerala&gt;&quot;</td><td>null</td></tr><tr><td>&quot;&lt;id_ufZ4VP3cOK_KCM_jaTi1lB?Of&gt;&quot;</td><td>&quot;&lt;Cherukunnapuzha&gt;&quot;</td><td>&quot;rdf:type&quot;</td><td>&quot;&lt;wikicat_Rivers_of_Palakkad_district&gt;&quot;</td><td>null</td></tr><tr><td>&quot;&lt;id_ufZ4VP3cOK_KCM_8lknXPXSTo&gt;&quot;</td><td>&quot;&lt;Cherukunnapuzha&gt;&quot;</td><td>&quot;rdf:type&quot;</td><td>&quot;&lt;wikicat_Water_streams&gt;&quot;</td><td>null</td></tr><tr><td>&quot;&lt;id_ufZ4VP3cOK_KCM_Yq5otq2acb&gt;&quot;</td><td>&quot;&lt;Cherukunnapuzha&gt;&quot;</td><td>&quot;rdf:type&quot;</td><td>&quot;&lt;wordnet_body_of_water_109225146&gt;&quot;</td><td>null</td></tr><tr><td>&quot;&lt;id_ufZ4VP3cOK_KCM_PemQsPqeJy&gt;&quot;</td><td>&quot;&lt;Cherukunnapuzha&gt;&quot;</td><td>&quot;rdf:type&quot;</td><td>&quot;&lt;wordnet_physical_entity_100001930&gt;&quot;</td><td>null</td></tr><tr><td>&quot;&lt;id_ufZ4VP3cOK_KCM_nDE3lX0VY0&gt;&quot;</td><td>&quot;&lt;Cherukunnapuzha&gt;&quot;</td><td>&quot;rdf:type&quot;</td><td>&quot;&lt;wordnet_river_109411430&gt;&quot;</td><td>null</td></tr><tr><td>&quot;&lt;id_ufZ4VP3cOK_KCM_nYf7sFpKdy&gt;&quot;</td><td>&quot;&lt;Cherukunnapuzha&gt;&quot;</td><td>&quot;rdf:type&quot;</td><td>&quot;&lt;wordnet_stream_109448361&gt;&quot;</td><td>null</td></tr><tr><td>&quot;&lt;id_ufZ4VP3cOK_KCM_g9psfcitLx&gt;&quot;</td><td>&quot;&lt;Cherukunnapuzha&gt;&quot;</td><td>&quot;rdf:type&quot;</td><td>&quot;&lt;wordnet_thing_100002452&gt;&quot;</td><td>null</td></tr><tr><td>&quot;&lt;id_ufZ4VP3cOK_KCM_FNZ17GW0Jo&gt;&quot;</td><td>&quot;&lt;Cherukunnapuzha&gt;&quot;</td><td>&quot;rdf:type&quot;</td><td>&quot;&lt;yagoGeoEntity&gt;&quot;</td><td>null</td></tr><tr><td>&quot;&lt;id_ufZ4VP3cOK_KCM_ys8!hs6ulH&gt;&quot;</td><td>&quot;&lt;Cherukunnapuzha&gt;&quot;</td><td>&quot;rdf:type&quot;</td><td>&quot;&lt;yagoPermanentlyLocatedEntity&gt;&quot;</td><td>null</td></tr><tr><td>&quot;&lt;id_ufZ4VP3cOK_KCM_KdEX!y?wiG&gt;&quot;</td><td>&quot;&lt;Cherukunnapuzha&gt;&quot;</td><td>&quot;rdf:type&quot;</td><td>&quot;owl:Thing&quot;</td><td>null</td></tr></tbody></table></div>"
      ],
      "text/plain": [
       "shape: (203_994_950, 5)\n",
       "┌────────────────────────┬───────────────────────┬───────────┬────────────────────────┬────────────┐\n",
       "│ id                     ┆ subject               ┆ predicate ┆ cat_object             ┆ num_object │\n",
       "│ ---                    ┆ ---                   ┆ ---       ┆ ---                    ┆ ---        │\n",
       "│ str                    ┆ str                   ┆ str       ┆ str                    ┆ f64        │\n",
       "╞════════════════════════╪═══════════════════════╪═══════════╪════════════════════════╪════════════╡\n",
       "│ <id_j?RsaAy9FT_KCM_3Ij ┆ <Stathmopoda_aposema> ┆ rdf:type  ┆ <wikicat_Animals>      ┆ null       │\n",
       "│ IzxahCW>               ┆                       ┆           ┆                        ┆            │\n",
       "│ <id_j?RsaAy9FT_KCM_zf8 ┆ <Stathmopoda_aposema> ┆ rdf:type  ┆ <wikicat_Arthropods>   ┆ null       │\n",
       "│ Eq7IeM2>               ┆                       ┆           ┆                        ┆            │\n",
       "│ <id_j?RsaAy9FT_KCM_8AP ┆ <Stathmopoda_aposema> ┆ rdf:type  ┆ <wikicat_Arthropods_of ┆ null       │\n",
       "│ 9jYGjmW>               ┆                       ┆           ┆ _New_Zealand>          ┆            │\n",
       "│ <id_j?RsaAy9FT_KCM_Zv3 ┆ <Stathmopoda_aposema> ┆ rdf:type  ┆ <wikicat_Arthropods_of ┆ null       │\n",
       "│ j1uONma>               ┆                       ┆           ┆ _Oceania>              ┆            │\n",
       "│ <id_j?RsaAy9FT_KCM_DR9 ┆ <Stathmopoda_aposema> ┆ rdf:type  ┆ <wikicat_Insects>      ┆ null       │\n",
       "│ BKqZ0xS>               ┆                       ┆           ┆                        ┆            │\n",
       "│ …                      ┆ …                     ┆ …         ┆ …                      ┆ …          │\n",
       "│ <id_ufZ4VP3cOK_KCM_nYf ┆ <Cherukunnapuzha>     ┆ rdf:type  ┆ <wordnet_stream_109448 ┆ null       │\n",
       "│ 7sFpKdy>               ┆                       ┆           ┆ 361>                   ┆            │\n",
       "│ <id_ufZ4VP3cOK_KCM_g9p ┆ <Cherukunnapuzha>     ┆ rdf:type  ┆ <wordnet_thing_1000024 ┆ null       │\n",
       "│ sfcitLx>               ┆                       ┆           ┆ 52>                    ┆            │\n",
       "│ <id_ufZ4VP3cOK_KCM_FNZ ┆ <Cherukunnapuzha>     ┆ rdf:type  ┆ <yagoGeoEntity>        ┆ null       │\n",
       "│ 17GW0Jo>               ┆                       ┆           ┆                        ┆            │\n",
       "│ <id_ufZ4VP3cOK_KCM_ys8 ┆ <Cherukunnapuzha>     ┆ rdf:type  ┆ <yagoPermanentlyLocate ┆ null       │\n",
       "│ !hs6ulH>               ┆                       ┆           ┆ dEntity>               ┆            │\n",
       "│ <id_ufZ4VP3cOK_KCM_KdE ┆ <Cherukunnapuzha>     ┆ rdf:type  ┆ owl:Thing              ┆ null       │\n",
       "│ X!y?wiG>               ┆                       ┆           ┆                        ┆            │\n",
       "└────────────────────────┴───────────────────────┴───────────┴────────────────────────┴────────────┘"
      ]
     },
     "metadata": {},
     "output_type": "display_data"
    },
    {
     "name": "stdout",
     "output_type": "stream",
     "text": [
      "types.tsv\n"
     ]
    },
    {
     "data": {
      "text/html": [
       "<div><style>\n",
       ".dataframe > thead > tr,\n",
       ".dataframe > tbody > tr {\n",
       "  text-align: right;\n",
       "  white-space: pre-wrap;\n",
       "}\n",
       "</style>\n",
       "<small>shape: (27_416_726, 5)</small><table border=\"1\" class=\"dataframe\"><thead><tr><th>id</th><th>subject</th><th>predicate</th><th>cat_object</th><th>num_object</th></tr><tr><td>str</td><td>str</td><td>str</td><td>str</td><td>f64</td></tr></thead><tbody><tr><td>&quot;&lt;id_j?RsaAy9FT_KCM_hXS7cnSTVk&gt;&quot;</td><td>&quot;&lt;Stathmopoda_aposema&gt;&quot;</td><td>&quot;rdf:type&quot;</td><td>&quot;&lt;wikicat_Moths_of_New_Zealand&gt;&quot;</td><td>null</td></tr><tr><td>&quot;&lt;id_j?RsaAy9FT_KCM_cNq3UQgiaU&gt;&quot;</td><td>&quot;&lt;Stathmopoda_aposema&gt;&quot;</td><td>&quot;rdf:type&quot;</td><td>&quot;&lt;wikicat_Moths_described_in_1901&gt;&quot;</td><td>null</td></tr><tr><td>&quot;&lt;id_IDwmgVA9s0_KCM_FyppX?MtG?&gt;&quot;</td><td>&quot;&lt;1908_St._Louis_Browns_season&gt;&quot;</td><td>&quot;rdf:type&quot;</td><td>&quot;&lt;wikicat_St._Louis_Browns_seasons&gt;&quot;</td><td>null</td></tr><tr><td>&quot;&lt;id_mUhCPivGvE_KCM_gJYxVsZttn&gt;&quot;</td><td>&quot;&lt;A1086_road&gt;&quot;</td><td>&quot;rdf:type&quot;</td><td>&quot;&lt;wikicat_Roads_in_England&gt;&quot;</td><td>null</td></tr><tr><td>&quot;&lt;id_mUhCPivGvE_KCM_WT2ClGnx4o&gt;&quot;</td><td>&quot;&lt;A1086_road&gt;&quot;</td><td>&quot;rdf:type&quot;</td><td>&quot;&lt;wordnet_road_104096066&gt;&quot;</td><td>null</td></tr><tr><td>&quot;&lt;id_LDRCnqcknu_KCM_l3LcpiYBWA&gt;&quot;</td><td>&quot;&lt;Pluralist_Democracy_Party_(Turkey)&gt;&quot;</td><td>&quot;rdf:type&quot;</td><td>&quot;&lt;wikicat_Political_parties_established_in_2014&gt;&quot;</td><td>null</td></tr><tr><td>&quot;&lt;id_LDRCnqcknu_KCM_a!J05Tr8je&gt;&quot;</td><td>&quot;&lt;Pluralist_Democracy_Party_(Turkey)&gt;&quot;</td><td>&quot;rdf:type&quot;</td><td>&quot;&lt;wordnet_party_108256968&gt;&quot;</td><td>null</td></tr><tr><td>&quot;&lt;id_QCt3Vm7wgc_KCM_sxpj13OhIU&gt;&quot;</td><td>&quot;&lt;Saccobolus_glaber&gt;&quot;</td><td>&quot;rdf:type&quot;</td><td>&quot;&lt;wikicat_Fungi_described_in_1794&gt;&quot;</td><td>null</td></tr><tr><td>&quot;&lt;id_ZiYPyQ4clo_KCM_4GjWSzf0lS&gt;&quot;</td><td>&quot;&lt;Kayna&gt;&quot;</td><td>&quot;rdf:type&quot;</td><td>&quot;&lt;wikicat_Former_municipalities_in_Saxony-Anhalt&gt;&quot;</td><td>null</td></tr><tr><td>&quot;&lt;id_ZiYPyQ4clo_KCM_66Yy!EOgKV&gt;&quot;</td><td>&quot;&lt;Kayna&gt;&quot;</td><td>&quot;rdf:type&quot;</td><td>&quot;&lt;wordnet_location_100027167&gt;&quot;</td><td>null</td></tr><tr><td>&quot;&lt;id_gvu19s1Rh0_KCM_W6b98rasai&gt;&quot;</td><td>&quot;&lt;Espoir_City&gt;&quot;</td><td>&quot;rdf:type&quot;</td><td>&quot;&lt;wordnet_racehorse_102382948&gt;&quot;</td><td>null</td></tr><tr><td>&quot;&lt;id_bUMskid!v1_KCM_a6FpkvbKxM&gt;&quot;</td><td>&quot;&lt;Salmonella_Dub&gt;&quot;</td><td>&quot;rdf:type&quot;</td><td>&quot;&lt;wikicat_New_Zealand_dub_musical_groups&gt;&quot;</td><td>null</td></tr><tr><td>&hellip;</td><td>&hellip;</td><td>&hellip;</td><td>&hellip;</td><td>&hellip;</td></tr><tr><td>&quot;&lt;id_yD?NL!w8Ma_KCM_9o9YmDSiad&gt;&quot;</td><td>&quot;&lt;Alan_Hewitt_(musician)&gt;&quot;</td><td>&quot;rdf:type&quot;</td><td>&quot;&lt;wordnet_person_100007846&gt;&quot;</td><td>null</td></tr><tr><td>&quot;&lt;id_yD?NL!w8Ma_KCM_BOj2Mv?JS!&gt;&quot;</td><td>&quot;&lt;Alan_Hewitt_(musician)&gt;&quot;</td><td>&quot;rdf:type&quot;</td><td>&quot;&lt;wikicat_Songwriters_from_Michigan&gt;&quot;</td><td>null</td></tr><tr><td>&quot;&lt;id_3p2FgqRrxg_KCM_UpVOxLAVwD&gt;&quot;</td><td>&quot;&lt;Brett_Evans_(Australian_footballer)&gt;&quot;</td><td>&quot;rdf:type&quot;</td><td>&quot;&lt;wikicat_Casey_Demons_players&gt;&quot;</td><td>null</td></tr><tr><td>&quot;&lt;id_3p2FgqRrxg_KCM_wfZQX?RCiF&gt;&quot;</td><td>&quot;&lt;Brett_Evans_(Australian_footballer)&gt;&quot;</td><td>&quot;rdf:type&quot;</td><td>&quot;&lt;wikicat_Australian_rules_footballers_from_Victoria_(Australia)&gt;&quot;</td><td>null</td></tr><tr><td>&quot;&lt;id_3p2FgqRrxg_KCM_NeK?6DKz1Q&gt;&quot;</td><td>&quot;&lt;Brett_Evans_(Australian_footballer)&gt;&quot;</td><td>&quot;rdf:type&quot;</td><td>&quot;&lt;wikicat_Living_people&gt;&quot;</td><td>null</td></tr><tr><td>&quot;&lt;id_3p2FgqRrxg_KCM_9o9YmDSiad&gt;&quot;</td><td>&quot;&lt;Brett_Evans_(Australian_footballer)&gt;&quot;</td><td>&quot;rdf:type&quot;</td><td>&quot;&lt;wordnet_person_100007846&gt;&quot;</td><td>null</td></tr><tr><td>&quot;&lt;id_3p2FgqRrxg_KCM_ewocQCcxoO&gt;&quot;</td><td>&quot;&lt;Brett_Evans_(Australian_footballer)&gt;&quot;</td><td>&quot;rdf:type&quot;</td><td>&quot;&lt;wikicat_Richmond_Football_Club_players&gt;&quot;</td><td>null</td></tr><tr><td>&quot;&lt;id_A7fdyk3dmR_KCM_a?W9jfc2PM&gt;&quot;</td><td>&quot;&lt;fr/Église_Saint-Jean_le_Vieux_de_Perpignan&gt;&quot;</td><td>&quot;rdf:type&quot;</td><td>&quot;&lt;wordnet_building_102913152&gt;&quot;</td><td>null</td></tr><tr><td>&quot;&lt;id_vmkKf0AXyh_KCM_tYwrZOZsUY&gt;&quot;</td><td>&quot;&lt;Monkey_Magic_(Japanese_TV_series)&gt;&quot;</td><td>&quot;rdf:type&quot;</td><td>&quot;&lt;wikicat_1998_anime_television_series_debuts&gt;&quot;</td><td>null</td></tr><tr><td>&quot;&lt;id_vmkKf0AXyh_KCM_fWaSaPQrkX&gt;&quot;</td><td>&quot;&lt;Monkey_Magic_(Japanese_TV_series)&gt;&quot;</td><td>&quot;rdf:type&quot;</td><td>&quot;&lt;wikicat_Television_shows_based_on_Journey_to_the_West&gt;&quot;</td><td>null</td></tr><tr><td>&quot;&lt;id_t06pViLE8Q_KCM_9o9YmDSiad&gt;&quot;</td><td>&quot;&lt;Seraya_Shapshal&gt;&quot;</td><td>&quot;rdf:type&quot;</td><td>&quot;&lt;wordnet_person_100007846&gt;&quot;</td><td>null</td></tr><tr><td>&quot;&lt;id_ufZ4VP3cOK_KCM_jaTi1lB?Of&gt;&quot;</td><td>&quot;&lt;Cherukunnapuzha&gt;&quot;</td><td>&quot;rdf:type&quot;</td><td>&quot;&lt;wikicat_Rivers_of_Palakkad_district&gt;&quot;</td><td>null</td></tr></tbody></table></div>"
      ],
      "text/plain": [
       "shape: (27_416_726, 5)\n",
       "┌────────────────────────┬────────────────────────┬───────────┬───────────────────────┬────────────┐\n",
       "│ id                     ┆ subject                ┆ predicate ┆ cat_object            ┆ num_object │\n",
       "│ ---                    ┆ ---                    ┆ ---       ┆ ---                   ┆ ---        │\n",
       "│ str                    ┆ str                    ┆ str       ┆ str                   ┆ f64        │\n",
       "╞════════════════════════╪════════════════════════╪═══════════╪═══════════════════════╪════════════╡\n",
       "│ <id_j?RsaAy9FT_KCM_hXS ┆ <Stathmopoda_aposema>  ┆ rdf:type  ┆ <wikicat_Moths_of_New ┆ null       │\n",
       "│ 7cnSTVk>               ┆                        ┆           ┆ _Zealand>             ┆            │\n",
       "│ <id_j?RsaAy9FT_KCM_cNq ┆ <Stathmopoda_aposema>  ┆ rdf:type  ┆ <wikicat_Moths_descri ┆ null       │\n",
       "│ 3UQgiaU>               ┆                        ┆           ┆ bed_in_1901>          ┆            │\n",
       "│ <id_IDwmgVA9s0_KCM_Fyp ┆ <1908_St._Louis_Browns ┆ rdf:type  ┆ <wikicat_St._Louis_Br ┆ null       │\n",
       "│ pX?MtG?>               ┆ _season>               ┆           ┆ owns_seasons>         ┆            │\n",
       "│ <id_mUhCPivGvE_KCM_gJY ┆ <A1086_road>           ┆ rdf:type  ┆ <wikicat_Roads_in_Eng ┆ null       │\n",
       "│ xVsZttn>               ┆                        ┆           ┆ land>                 ┆            │\n",
       "│ <id_mUhCPivGvE_KCM_WT2 ┆ <A1086_road>           ┆ rdf:type  ┆ <wordnet_road_1040960 ┆ null       │\n",
       "│ ClGnx4o>               ┆                        ┆           ┆ 66>                   ┆            │\n",
       "│ …                      ┆ …                      ┆ …         ┆ …                     ┆ …          │\n",
       "│ <id_A7fdyk3dmR_KCM_a?W ┆ <fr/Église_Saint-Jean_ ┆ rdf:type  ┆ <wordnet_building_102 ┆ null       │\n",
       "│ 9jfc2PM>               ┆ le_Vieux_de_Perpignan> ┆           ┆ 913152>               ┆            │\n",
       "│ <id_vmkKf0AXyh_KCM_tYw ┆ <Monkey_Magic_(Japanes ┆ rdf:type  ┆ <wikicat_1998_anime_t ┆ null       │\n",
       "│ rZOZsUY>               ┆ e_TV_series)>          ┆           ┆ elevision_series_debu ┆            │\n",
       "│                        ┆                        ┆           ┆ ts>                   ┆            │\n",
       "│ <id_vmkKf0AXyh_KCM_fWa ┆ <Monkey_Magic_(Japanes ┆ rdf:type  ┆ <wikicat_Television_s ┆ null       │\n",
       "│ SaPQrkX>               ┆ e_TV_series)>          ┆           ┆ hows_based_on_Journey ┆            │\n",
       "│                        ┆                        ┆           ┆ _to_the_West>         ┆            │\n",
       "│ <id_t06pViLE8Q_KCM_9o9 ┆ <Seraya_Shapshal>      ┆ rdf:type  ┆ <wordnet_person_10000 ┆ null       │\n",
       "│ YmDSiad>               ┆                        ┆           ┆ 7846>                 ┆            │\n",
       "│ <id_ufZ4VP3cOK_KCM_jaT ┆ <Cherukunnapuzha>      ┆ rdf:type  ┆ <wikicat_Rivers_of_Pa ┆ null       │\n",
       "│ i1lB?Of>               ┆                        ┆           ┆ lakkad_district>      ┆            │\n",
       "└────────────────────────┴────────────────────────┴───────────┴───────────────────────┴────────────┘"
      ]
     },
     "metadata": {},
     "output_type": "display_data"
    },
    {
     "name": "stdout",
     "output_type": "stream",
     "text": [
      "typesSources.tsv\n"
     ]
    },
    {
     "data": {
      "text/html": [
       "<div><style>\n",
       ".dataframe > thead > tr,\n",
       ".dataframe > tbody > tr {\n",
       "  text-align: right;\n",
       "  white-space: pre-wrap;\n",
       "}\n",
       "</style>\n",
       "<small>shape: (54_833_452, 5)</small><table border=\"1\" class=\"dataframe\"><thead><tr><th>id</th><th>subject</th><th>predicate</th><th>cat_object</th><th>num_object</th></tr><tr><td>str</td><td>str</td><td>str</td><td>str</td><td>f64</td></tr></thead><tbody><tr><td>&quot;&lt;id_rqclaegwTR_Tm9_UPMyX4CIMq&gt;&quot;</td><td>&quot;&lt;id_j?RsaAy9FT_KCM_hXS7cnSTVk&gt;&quot;</td><td>&quot;&lt;extractionSource&gt;&quot;</td><td>&quot;&lt;http://en.wikipedia.org/wiki/Stathmopoda_aposema&gt;&quot;</td><td>null</td></tr><tr><td>null</td><td>&quot;&lt;id_rqclaegwTR_Tm9_UPMyX4CIMq&gt;&quot;</td><td>&quot;&lt;extractionTechnique&gt;&quot;</td><td>&quot;categoryTypes_en&quot;</td><td>null</td></tr><tr><td>&quot;&lt;id_2kF8D3MZB?_Tm9_UPMyX4CIMq&gt;&quot;</td><td>&quot;&lt;id_j?RsaAy9FT_KCM_cNq3UQgiaU&gt;&quot;</td><td>&quot;&lt;extractionSource&gt;&quot;</td><td>&quot;&lt;http://en.wikipedia.org/wiki/Stathmopoda_aposema&gt;&quot;</td><td>null</td></tr><tr><td>null</td><td>&quot;&lt;id_2kF8D3MZB?_Tm9_UPMyX4CIMq&gt;&quot;</td><td>&quot;&lt;extractionTechnique&gt;&quot;</td><td>&quot;categoryTypes_en&quot;</td><td>null</td></tr><tr><td>&quot;&lt;id_sVFC3TWFjA_Tm9_ip6NAf4U!5&gt;&quot;</td><td>&quot;&lt;id_IDwmgVA9s0_KCM_FyppX?MtG?&gt;&quot;</td><td>&quot;&lt;extractionSource&gt;&quot;</td><td>&quot;&lt;http://en.wikipedia.org/wiki/1908_St._Louis_Browns_season&gt;&quot;</td><td>null</td></tr><tr><td>null</td><td>&quot;&lt;id_sVFC3TWFjA_Tm9_ip6NAf4U!5&gt;&quot;</td><td>&quot;&lt;extractionTechnique&gt;&quot;</td><td>&quot;categoryTypes_en&quot;</td><td>null</td></tr><tr><td>&quot;&lt;id_IlN!YVbBJ?_Tm9_EzW?jrlyeJ&gt;&quot;</td><td>&quot;&lt;id_mUhCPivGvE_KCM_gJYxVsZttn&gt;&quot;</td><td>&quot;&lt;extractionSource&gt;&quot;</td><td>&quot;&lt;http://en.wikipedia.org/wiki/A1086_road&gt;&quot;</td><td>null</td></tr><tr><td>null</td><td>&quot;&lt;id_IlN!YVbBJ?_Tm9_EzW?jrlyeJ&gt;&quot;</td><td>&quot;&lt;extractionTechnique&gt;&quot;</td><td>&quot;categoryTypes_en&quot;</td><td>null</td></tr><tr><td>&quot;&lt;id_7agQc8mSdw_Tm9_EzW?jrlyeJ&gt;&quot;</td><td>&quot;&lt;id_mUhCPivGvE_KCM_WT2ClGnx4o&gt;&quot;</td><td>&quot;&lt;extractionSource&gt;&quot;</td><td>&quot;&lt;http://en.wikipedia.org/wiki/A1086_road&gt;&quot;</td><td>null</td></tr><tr><td>null</td><td>&quot;&lt;id_7agQc8mSdw_Tm9_EzW?jrlyeJ&gt;&quot;</td><td>&quot;&lt;extractionTechnique&gt;&quot;</td><td>&quot;infoboxTypes_en&quot;</td><td>null</td></tr><tr><td>&quot;&lt;id_hX!EkuPKS?_Tm9_qIBCibhah?&gt;&quot;</td><td>&quot;&lt;id_LDRCnqcknu_KCM_l3LcpiYBWA&gt;&quot;</td><td>&quot;&lt;extractionSource&gt;&quot;</td><td>&quot;&lt;http://en.wikipedia.org/wiki/Pluralist_Democracy_Party_%28Turkey%29&gt;&quot;</td><td>null</td></tr><tr><td>null</td><td>&quot;&lt;id_hX!EkuPKS?_Tm9_qIBCibhah?&gt;&quot;</td><td>&quot;&lt;extractionTechnique&gt;&quot;</td><td>&quot;categoryTypes_en&quot;</td><td>null</td></tr><tr><td>&hellip;</td><td>&hellip;</td><td>&hellip;</td><td>&hellip;</td><td>&hellip;</td></tr><tr><td>&quot;&lt;id_qP9bPU6DF?_Tm9_fFmcie303d&gt;&quot;</td><td>&quot;&lt;id_3p2FgqRrxg_KCM_ewocQCcxoO&gt;&quot;</td><td>&quot;&lt;extractionSource&gt;&quot;</td><td>&quot;&lt;http://en.wikipedia.org/wiki/Brett_Evans_%28Australian_footballer%29&gt;&quot;</td><td>null</td></tr><tr><td>null</td><td>&quot;&lt;id_qP9bPU6DF?_Tm9_fFmcie303d&gt;&quot;</td><td>&quot;&lt;extractionTechnique&gt;&quot;</td><td>&quot;categoryTypes_en&quot;</td><td>null</td></tr><tr><td>&quot;&lt;id_WXhllBhVcM_Tm9_S?oFbAdR5L&gt;&quot;</td><td>&quot;&lt;id_A7fdyk3dmR_KCM_a?W9jfc2PM&gt;&quot;</td><td>&quot;&lt;extractionSource&gt;&quot;</td><td>&quot;&lt;http://en.wikipedia.org/wiki/%C3%89glise_Saint-Jean_le_Vieux_de_Perpignan&gt;&quot;</td><td>null</td></tr><tr><td>null</td><td>&quot;&lt;id_WXhllBhVcM_Tm9_S?oFbAdR5L&gt;&quot;</td><td>&quot;&lt;extractionTechnique&gt;&quot;</td><td>&quot;infoboxTypes_fr&quot;</td><td>null</td></tr><tr><td>&quot;&lt;id_jfORfN7lt9_Tm9_su5NC1lqeu&gt;&quot;</td><td>&quot;&lt;id_vmkKf0AXyh_KCM_tYwrZOZsUY&gt;&quot;</td><td>&quot;&lt;extractionSource&gt;&quot;</td><td>&quot;&lt;http://en.wikipedia.org/wiki/Monkey_Magic_%28Japanese_TV_series%29&gt;&quot;</td><td>null</td></tr><tr><td>null</td><td>&quot;&lt;id_jfORfN7lt9_Tm9_su5NC1lqeu&gt;&quot;</td><td>&quot;&lt;extractionTechnique&gt;&quot;</td><td>&quot;categoryTypes_en&quot;</td><td>null</td></tr><tr><td>&quot;&lt;id_I0V8tyR2JD_Tm9_su5NC1lqeu&gt;&quot;</td><td>&quot;&lt;id_vmkKf0AXyh_KCM_fWaSaPQrkX&gt;&quot;</td><td>&quot;&lt;extractionSource&gt;&quot;</td><td>&quot;&lt;http://en.wikipedia.org/wiki/Monkey_Magic_%28Japanese_TV_series%29&gt;&quot;</td><td>null</td></tr><tr><td>null</td><td>&quot;&lt;id_I0V8tyR2JD_Tm9_su5NC1lqeu&gt;&quot;</td><td>&quot;&lt;extractionTechnique&gt;&quot;</td><td>&quot;categoryTypes_en&quot;</td><td>null</td></tr><tr><td>&quot;&lt;id_pSlyM21xXN_Tm9_Of02A49rW3&gt;&quot;</td><td>&quot;&lt;id_t06pViLE8Q_KCM_9o9YmDSiad&gt;&quot;</td><td>&quot;&lt;extractionSource&gt;&quot;</td><td>&quot;&lt;http://en.wikipedia.org/wiki/Seraya_Shapshal&gt;&quot;</td><td>null</td></tr><tr><td>null</td><td>&quot;&lt;id_pSlyM21xXN_Tm9_Of02A49rW3&gt;&quot;</td><td>&quot;&lt;extractionTechnique&gt;&quot;</td><td>&quot;peopleByCategory&quot;</td><td>null</td></tr><tr><td>&quot;&lt;id_2CmdkHV2fg_Tm9_FKzjo9im4d&gt;&quot;</td><td>&quot;&lt;id_ufZ4VP3cOK_KCM_jaTi1lB?Of&gt;&quot;</td><td>&quot;&lt;extractionSource&gt;&quot;</td><td>&quot;&lt;http://en.wikipedia.org/wiki/Cherukunnapuzha&gt;&quot;</td><td>null</td></tr><tr><td>null</td><td>&quot;&lt;id_2CmdkHV2fg_Tm9_FKzjo9im4d&gt;&quot;</td><td>&quot;&lt;extractionTechnique&gt;&quot;</td><td>&quot;categoryTypes_en&quot;</td><td>null</td></tr></tbody></table></div>"
      ],
      "text/plain": [
       "shape: (54_833_452, 5)\n",
       "┌─────────────────────┬─────────────────────┬────────────────────┬────────────────────┬────────────┐\n",
       "│ id                  ┆ subject             ┆ predicate          ┆ cat_object         ┆ num_object │\n",
       "│ ---                 ┆ ---                 ┆ ---                ┆ ---                ┆ ---        │\n",
       "│ str                 ┆ str                 ┆ str                ┆ str                ┆ f64        │\n",
       "╞═════════════════════╪═════════════════════╪════════════════════╪════════════════════╪════════════╡\n",
       "│ <id_rqclaegwTR_Tm9_ ┆ <id_j?RsaAy9FT_KCM_ ┆ <extractionSource> ┆ <http://en.wikiped ┆ null       │\n",
       "│ UPMyX4CIMq>         ┆ hXS7cnSTVk>         ┆                    ┆ ia.org/wiki/Stathm ┆            │\n",
       "│                     ┆                     ┆                    ┆ opoda_aposema>     ┆            │\n",
       "│ null                ┆ <id_rqclaegwTR_Tm9_ ┆ <extractionTechniq ┆ categoryTypes_en   ┆ null       │\n",
       "│                     ┆ UPMyX4CIMq>         ┆ ue>                ┆                    ┆            │\n",
       "│ <id_2kF8D3MZB?_Tm9_ ┆ <id_j?RsaAy9FT_KCM_ ┆ <extractionSource> ┆ <http://en.wikiped ┆ null       │\n",
       "│ UPMyX4CIMq>         ┆ cNq3UQgiaU>         ┆                    ┆ ia.org/wiki/Stathm ┆            │\n",
       "│                     ┆                     ┆                    ┆ opoda_aposema>     ┆            │\n",
       "│ null                ┆ <id_2kF8D3MZB?_Tm9_ ┆ <extractionTechniq ┆ categoryTypes_en   ┆ null       │\n",
       "│                     ┆ UPMyX4CIMq>         ┆ ue>                ┆                    ┆            │\n",
       "│ <id_sVFC3TWFjA_Tm9_ ┆ <id_IDwmgVA9s0_KCM_ ┆ <extractionSource> ┆ <http://en.wikiped ┆ null       │\n",
       "│ ip6NAf4U!5>         ┆ FyppX?MtG?>         ┆                    ┆ ia.org/wiki/1908_S ┆            │\n",
       "│                     ┆                     ┆                    ┆ t._Louis_Browns_se ┆            │\n",
       "│                     ┆                     ┆                    ┆ ason>              ┆            │\n",
       "│ …                   ┆ …                   ┆ …                  ┆ …                  ┆ …          │\n",
       "│ null                ┆ <id_I0V8tyR2JD_Tm9_ ┆ <extractionTechniq ┆ categoryTypes_en   ┆ null       │\n",
       "│                     ┆ su5NC1lqeu>         ┆ ue>                ┆                    ┆            │\n",
       "│ <id_pSlyM21xXN_Tm9_ ┆ <id_t06pViLE8Q_KCM_ ┆ <extractionSource> ┆ <http://en.wikiped ┆ null       │\n",
       "│ Of02A49rW3>         ┆ 9o9YmDSiad>         ┆                    ┆ ia.org/wiki/Seraya ┆            │\n",
       "│                     ┆                     ┆                    ┆ _Shapshal>         ┆            │\n",
       "│ null                ┆ <id_pSlyM21xXN_Tm9_ ┆ <extractionTechniq ┆ peopleByCategory   ┆ null       │\n",
       "│                     ┆ Of02A49rW3>         ┆ ue>                ┆                    ┆            │\n",
       "│ <id_2CmdkHV2fg_Tm9_ ┆ <id_ufZ4VP3cOK_KCM_ ┆ <extractionSource> ┆ <http://en.wikiped ┆ null       │\n",
       "│ FKzjo9im4d>         ┆ jaTi1lB?Of>         ┆                    ┆ ia.org/wiki/Cheruk ┆            │\n",
       "│                     ┆                     ┆                    ┆ unnapuzha>         ┆            │\n",
       "│ null                ┆ <id_2CmdkHV2fg_Tm9_ ┆ <extractionTechniq ┆ categoryTypes_en   ┆ null       │\n",
       "│                     ┆ FKzjo9im4d>         ┆ ue>                ┆                    ┆            │\n",
       "└─────────────────────┴─────────────────────┴────────────────────┴────────────────────┴────────────┘"
      ]
     },
     "metadata": {},
     "output_type": "display_data"
    },
    {
     "name": "stdout",
     "output_type": "stream",
     "text": [
      "wikidataInstances.tsv\n"
     ]
    },
    {
     "data": {
      "text/html": [
       "<div><style>\n",
       ".dataframe > thead > tr,\n",
       ".dataframe > tbody > tr {\n",
       "  text-align: right;\n",
       "  white-space: pre-wrap;\n",
       "}\n",
       "</style>\n",
       "<small>shape: (8_685_838, 5)</small><table border=\"1\" class=\"dataframe\"><thead><tr><th>id</th><th>subject</th><th>predicate</th><th>cat_object</th><th>num_object</th></tr><tr><td>str</td><td>str</td><td>str</td><td>str</td><td>f64</td></tr></thead><tbody><tr><td>null</td><td>&quot;&lt;Belgium&gt;&quot;</td><td>&quot;owl:sameAs&quot;</td><td>&quot;&lt;http://www.wikidata.org/entity/Q31&gt;&quot;</td><td>null</td></tr><tr><td>null</td><td>&quot;&lt;fr/Belgique&gt;&quot;</td><td>&quot;owl:sameAs&quot;</td><td>&quot;&lt;http://www.wikidata.org/entity/Q31&gt;&quot;</td><td>null</td></tr><tr><td>null</td><td>&quot;&lt;Happiness&gt;&quot;</td><td>&quot;owl:sameAs&quot;</td><td>&quot;&lt;http://www.wikidata.org/entity/Q8&gt;&quot;</td><td>null</td></tr><tr><td>null</td><td>&quot;&lt;fr/Bonheur&gt;&quot;</td><td>&quot;owl:sameAs&quot;</td><td>&quot;&lt;http://www.wikidata.org/entity/Q8&gt;&quot;</td><td>null</td></tr><tr><td>null</td><td>&quot;&lt;George_Washington&gt;&quot;</td><td>&quot;owl:sameAs&quot;</td><td>&quot;&lt;http://www.wikidata.org/entity/Q23&gt;&quot;</td><td>null</td></tr><tr><td>null</td><td>&quot;&lt;fr/George_Washington&gt;&quot;</td><td>&quot;owl:sameAs&quot;</td><td>&quot;&lt;http://www.wikidata.org/entity/Q23&gt;&quot;</td><td>null</td></tr><tr><td>null</td><td>&quot;&lt;Jack_Bauer&gt;&quot;</td><td>&quot;owl:sameAs&quot;</td><td>&quot;&lt;http://www.wikidata.org/entity/Q24&gt;&quot;</td><td>null</td></tr><tr><td>null</td><td>&quot;&lt;fr/Jack_Bauer&gt;&quot;</td><td>&quot;owl:sameAs&quot;</td><td>&quot;&lt;http://www.wikidata.org/entity/Q24&gt;&quot;</td><td>null</td></tr><tr><td>null</td><td>&quot;&lt;Douglas_Adams&gt;&quot;</td><td>&quot;owl:sameAs&quot;</td><td>&quot;&lt;http://www.wikidata.org/entity/Q42&gt;&quot;</td><td>null</td></tr><tr><td>null</td><td>&quot;&lt;fr/Douglas_Adams&gt;&quot;</td><td>&quot;owl:sameAs&quot;</td><td>&quot;&lt;http://www.wikidata.org/entity/Q42&gt;&quot;</td><td>null</td></tr><tr><td>null</td><td>&quot;&lt;Paul_Otlet&gt;&quot;</td><td>&quot;owl:sameAs&quot;</td><td>&quot;&lt;http://www.wikidata.org/entity/Q1868&gt;&quot;</td><td>null</td></tr><tr><td>null</td><td>&quot;&lt;fr/Paul_Otlet&gt;&quot;</td><td>&quot;owl:sameAs&quot;</td><td>&quot;&lt;http://www.wikidata.org/entity/Q1868&gt;&quot;</td><td>null</td></tr><tr><td>&hellip;</td><td>&hellip;</td><td>&hellip;</td><td>&hellip;</td><td>&hellip;</td></tr><tr><td>null</td><td>&quot;&lt;Opinion_polling_on_the_Nayib_Bukele_presidency&gt;&quot;</td><td>&quot;owl:sameAs&quot;</td><td>&quot;&lt;http://www.wikidata.org/entity/Q112578535&gt;&quot;</td><td>null</td></tr><tr><td>null</td><td>&quot;&lt;Members_of_the_Australian_Senate,_2022–2025&gt;&quot;</td><td>&quot;owl:sameAs&quot;</td><td>&quot;&lt;http://www.wikidata.org/entity/Q112578549&gt;&quot;</td><td>null</td></tr><tr><td>null</td><td>&quot;&lt;Kyoung-Shin_Choi&gt;&quot;</td><td>&quot;owl:sameAs&quot;</td><td>&quot;&lt;http://www.wikidata.org/entity/Q112578587&gt;&quot;</td><td>null</td></tr><tr><td>null</td><td>&quot;&lt;La_Travesia_Tour&gt;&quot;</td><td>&quot;owl:sameAs&quot;</td><td>&quot;&lt;http://www.wikidata.org/entity/Q112578611&gt;&quot;</td><td>null</td></tr><tr><td>null</td><td>&quot;&lt;Miracleman_(character)&gt;&quot;</td><td>&quot;owl:sameAs&quot;</td><td>&quot;&lt;http://www.wikidata.org/entity/Q112578661&gt;&quot;</td><td>null</td></tr><tr><td>null</td><td>&quot;&lt;fr/Joseph_Couture&gt;&quot;</td><td>&quot;owl:sameAs&quot;</td><td>&quot;&lt;http://www.wikidata.org/entity/Q112579181&gt;&quot;</td><td>null</td></tr><tr><td>null</td><td>&quot;&lt;Cesur_Durak&gt;&quot;</td><td>&quot;owl:sameAs&quot;</td><td>&quot;&lt;http://www.wikidata.org/entity/Q112579434&gt;&quot;</td><td>null</td></tr><tr><td>null</td><td>&quot;&lt;Panicum_italicum&gt;&quot;</td><td>&quot;owl:sameAs&quot;</td><td>&quot;&lt;http://www.wikidata.org/entity/Q112581617&gt;&quot;</td><td>null</td></tr><tr><td>null</td><td>&quot;&lt;Caroline_Deutsch&gt;&quot;</td><td>&quot;owl:sameAs&quot;</td><td>&quot;&lt;http://www.wikidata.org/entity/Q112582709&gt;&quot;</td><td>null</td></tr><tr><td>null</td><td>&quot;&lt;Marie-Helene_Bertino&gt;&quot;</td><td>&quot;owl:sameAs&quot;</td><td>&quot;&lt;http://www.wikidata.org/entity/Q112583339&gt;&quot;</td><td>null</td></tr><tr><td>null</td><td>&quot;&lt;Myst_Milano&gt;&quot;</td><td>&quot;owl:sameAs&quot;</td><td>&quot;&lt;http://www.wikidata.org/entity/Q112584077&gt;&quot;</td><td>null</td></tr><tr><td>null</td><td>&quot;&lt;Dana_Douglas&gt;&quot;</td><td>&quot;owl:sameAs&quot;</td><td>&quot;&lt;http://www.wikidata.org/entity/Q112584133&gt;&quot;</td><td>null</td></tr></tbody></table></div>"
      ],
      "text/plain": [
       "shape: (8_685_838, 5)\n",
       "┌──────┬────────────────────────┬────────────┬────────────────────────────────────────┬────────────┐\n",
       "│ id   ┆ subject                ┆ predicate  ┆ cat_object                             ┆ num_object │\n",
       "│ ---  ┆ ---                    ┆ ---        ┆ ---                                    ┆ ---        │\n",
       "│ str  ┆ str                    ┆ str        ┆ str                                    ┆ f64        │\n",
       "╞══════╪════════════════════════╪════════════╪════════════════════════════════════════╪════════════╡\n",
       "│ null ┆ <Belgium>              ┆ owl:sameAs ┆ <http://www.wikidata.org/entity/Q31>   ┆ null       │\n",
       "│ null ┆ <fr/Belgique>          ┆ owl:sameAs ┆ <http://www.wikidata.org/entity/Q31>   ┆ null       │\n",
       "│ null ┆ <Happiness>            ┆ owl:sameAs ┆ <http://www.wikidata.org/entity/Q8>    ┆ null       │\n",
       "│ null ┆ <fr/Bonheur>           ┆ owl:sameAs ┆ <http://www.wikidata.org/entity/Q8>    ┆ null       │\n",
       "│ null ┆ <George_Washington>    ┆ owl:sameAs ┆ <http://www.wikidata.org/entity/Q23>   ┆ null       │\n",
       "│ …    ┆ …                      ┆ …          ┆ …                                      ┆ …          │\n",
       "│ null ┆ <Panicum_italicum>     ┆ owl:sameAs ┆ <http://www.wikidata.org/entity/Q11258 ┆ null       │\n",
       "│      ┆                        ┆            ┆ 1617>                                  ┆            │\n",
       "│ null ┆ <Caroline_Deutsch>     ┆ owl:sameAs ┆ <http://www.wikidata.org/entity/Q11258 ┆ null       │\n",
       "│      ┆                        ┆            ┆ 2709>                                  ┆            │\n",
       "│ null ┆ <Marie-Helene_Bertino> ┆ owl:sameAs ┆ <http://www.wikidata.org/entity/Q11258 ┆ null       │\n",
       "│      ┆                        ┆            ┆ 3339>                                  ┆            │\n",
       "│ null ┆ <Myst_Milano>          ┆ owl:sameAs ┆ <http://www.wikidata.org/entity/Q11258 ┆ null       │\n",
       "│      ┆                        ┆            ┆ 4077>                                  ┆            │\n",
       "│ null ┆ <Dana_Douglas>         ┆ owl:sameAs ┆ <http://www.wikidata.org/entity/Q11258 ┆ null       │\n",
       "│      ┆                        ┆            ┆ 4133>                                  ┆            │\n",
       "└──────┴────────────────────────┴────────────┴────────────────────────────────────────┴────────────┘"
      ]
     },
     "metadata": {},
     "output_type": "display_data"
    },
    {
     "name": "stdout",
     "output_type": "stream",
     "text": [
      "wikidataMultiLabels.tsv\n"
     ]
    },
    {
     "data": {
      "text/html": [
       "<div><style>\n",
       ".dataframe > thead > tr,\n",
       ".dataframe > tbody > tr {\n",
       "  text-align: right;\n",
       "  white-space: pre-wrap;\n",
       "}\n",
       "</style>\n",
       "<small>shape: (46_572_582, 5)</small><table border=\"1\" class=\"dataframe\"><thead><tr><th>id</th><th>subject</th><th>predicate</th><th>cat_object</th><th>num_object</th></tr><tr><td>str</td><td>str</td><td>str</td><td>str</td><td>f64</td></tr></thead><tbody><tr><td>&quot;&lt;id_pEUMhB4I5f_SBd_FDXfgL7!Nq&gt;&quot;</td><td>&quot;&lt;Belgium&gt;&quot;</td><td>&quot;rdfs:label&quot;</td><td>&quot;Beljie@ksh&quot;</td><td>null</td></tr><tr><td>&quot;&lt;id_pEUMhB4I5f_SBd_oGFMhATfEZ&gt;&quot;</td><td>&quot;&lt;Belgium&gt;&quot;</td><td>&quot;rdfs:label&quot;</td><td>&quot;Belgica@mwl&quot;</td><td>null</td></tr><tr><td>&quot;&lt;id_pEUMhB4I5f_SBd_!aaFO1KjDD&gt;&quot;</td><td>&quot;&lt;Belgium&gt;&quot;</td><td>&quot;rdfs:label&quot;</td><td>&quot;Bélgica@mwl&quot;</td><td>null</td></tr><tr><td>&quot;&lt;id_pEUMhB4I5f_SBd_Zczxz8e3DA&gt;&quot;</td><td>&quot;&lt;Belgium&gt;&quot;</td><td>&quot;rdfs:label&quot;</td><td>&quot;بېلجیم@pus&quot;</td><td>null</td></tr><tr><td>&quot;&lt;id_pEUMhB4I5f_SBd_oGFMhATfEZ&gt;&quot;</td><td>&quot;&lt;Belgium&gt;&quot;</td><td>&quot;rdfs:label&quot;</td><td>&quot;Belgica@por&quot;</td><td>null</td></tr><tr><td>&quot;&lt;id_pEUMhB4I5f_SBd_!aaFO1KjDD&gt;&quot;</td><td>&quot;&lt;Belgium&gt;&quot;</td><td>&quot;rdfs:label&quot;</td><td>&quot;Bélgica@por&quot;</td><td>null</td></tr><tr><td>&quot;&lt;id_pEUMhB4I5f_SBd_8MB9jtqRTT&gt;&quot;</td><td>&quot;&lt;Belgium&gt;&quot;</td><td>&quot;rdfs:label&quot;</td><td>&quot;Belgi@egl&quot;</td><td>null</td></tr><tr><td>&quot;&lt;id_pEUMhB4I5f_SBd_R0fWgfJ7Ed&gt;&quot;</td><td>&quot;&lt;Belgium&gt;&quot;</td><td>&quot;rdfs:label&quot;</td><td>&quot;Bélgi@egl&quot;</td><td>null</td></tr><tr><td>&quot;&lt;id_pEUMhB4I5f_SBd_pEUMhB4I5f&gt;&quot;</td><td>&quot;&lt;Belgium&gt;&quot;</td><td>&quot;rdfs:label&quot;</td><td>&quot;Belgium@tum&quot;</td><td>null</td></tr><tr><td>&quot;&lt;id_pEUMhB4I5f_SBd_fFUvgZrXBH&gt;&quot;</td><td>&quot;&lt;Belgium&gt;&quot;</td><td>&quot;rdfs:label&quot;</td><td>&quot;Belgia@ban&quot;</td><td>null</td></tr><tr><td>&quot;&lt;id_pEUMhB4I5f_SBd_yCJIqLH4v9&gt;&quot;</td><td>&quot;&lt;Belgium&gt;&quot;</td><td>&quot;rdfs:label&quot;</td><td>&quot;Bélgia@ban&quot;</td><td>null</td></tr><tr><td>&quot;&lt;id_pEUMhB4I5f_SBd_yG?cZnnIje&gt;&quot;</td><td>&quot;&lt;Belgium&gt;&quot;</td><td>&quot;rdfs:label&quot;</td><td>&quot;ბელგია@xmf&quot;</td><td>null</td></tr><tr><td>&hellip;</td><td>&hellip;</td><td>&hellip;</td><td>&hellip;</td><td>&hellip;</td></tr><tr><td>&quot;&lt;id_dtdiGgY1iG_SBd_TeHDkITZbz&gt;&quot;</td><td>&quot;&lt;Cesur_Durak&gt;&quot;</td><td>&quot;rdfs:label&quot;</td><td>&quot;Cesur Durak@eng&quot;</td><td>null</td></tr><tr><td>&quot;&lt;id_dtdiGgY1iG_SBd_IWW2nktFB6&gt;&quot;</td><td>&quot;&lt;Cesur_Durak&gt;&quot;</td><td>&quot;rdfs:label&quot;</td><td>&quot;Los Borbones: una familia real@spa&quot;</td><td>null</td></tr><tr><td>&quot;&lt;id_dtdiGgY1iG_SBd_VkmTjs8MMg&gt;&quot;</td><td>&quot;&lt;Cesur_Durak&gt;&quot;</td><td>&quot;rdfs:label&quot;</td><td>&quot;Book24@hun&quot;</td><td>null</td></tr><tr><td>&quot;&lt;id_dtdiGgY1iG_SBd_Nvy05rg9N!&gt;&quot;</td><td>&quot;&lt;Cesur_Durak&gt;&quot;</td><td>&quot;rdfs:label&quot;</td><td>&quot;Aurelio De Carolis@ita&quot;</td><td>null</td></tr><tr><td>&quot;&lt;id_dtdiGgY1iG_SBd_swhMuQcnU3&gt;&quot;</td><td>&quot;&lt;Cesur_Durak&gt;&quot;</td><td>&quot;rdfs:label&quot;</td><td>&quot;Ğ如@zho&quot;</td><td>null</td></tr><tr><td>&quot;&lt;id_gMAnctUfvR_SBd_oFEjD!rQ50&gt;&quot;</td><td>&quot;&lt;Caroline_Deutsch&gt;&quot;</td><td>&quot;rdfs:label&quot;</td><td>&quot;Caroline Deutsch@eng&quot;</td><td>null</td></tr><tr><td>&quot;&lt;id_gdaZh1uo4v_SBd_MRzOE44xw8&gt;&quot;</td><td>&quot;&lt;Marie-Helene_Bertino&gt;&quot;</td><td>&quot;rdfs:label&quot;</td><td>&quot;تصنيف:لاعبو كرة يد من باريس@ara&quot;</td><td>null</td></tr><tr><td>&quot;&lt;id_gdaZh1uo4v_SBd_S7drVOPZwt&gt;&quot;</td><td>&quot;&lt;Marie-Helene_Bertino&gt;&quot;</td><td>&quot;rdfs:label&quot;</td><td>&quot;แม่แบบ:Taxonomy/Warramaba@tha&quot;</td><td>null</td></tr><tr><td>&quot;&lt;id_gdaZh1uo4v_SBd_UF7fgeI?8I&gt;&quot;</td><td>&quot;&lt;Marie-Helene_Bertino&gt;&quot;</td><td>&quot;rdfs:label&quot;</td><td>&quot;Marie-Helene Bertino@eng&quot;</td><td>null</td></tr><tr><td>&quot;&lt;id_RpYLoGzgh8_SBd_ZOI84lUXhz&gt;&quot;</td><td>&quot;&lt;Myst_Milano&gt;&quot;</td><td>&quot;rdfs:label&quot;</td><td>&quot;Myst Milano@eng&quot;</td><td>null</td></tr><tr><td>&quot;&lt;id_RpYLoGzgh8_SBd_TxqC3YYb0m&gt;&quot;</td><td>&quot;&lt;Myst_Milano&gt;&quot;</td><td>&quot;rdfs:label&quot;</td><td>&quot;Wikipedia:2021年媒體引用維基百科內容列表@zho&quot;</td><td>null</td></tr><tr><td>&quot;&lt;id_nlFujmd01t_SBd_QHQ8OI6JY8&gt;&quot;</td><td>&quot;&lt;Dana_Douglas&gt;&quot;</td><td>&quot;rdfs:label&quot;</td><td>&quot;Dana Douglas@eng&quot;</td><td>null</td></tr></tbody></table></div>"
      ],
      "text/plain": [
       "shape: (46_572_582, 5)\n",
       "┌────────────────────────┬───────────────────────┬────────────┬───────────────────────┬────────────┐\n",
       "│ id                     ┆ subject               ┆ predicate  ┆ cat_object            ┆ num_object │\n",
       "│ ---                    ┆ ---                   ┆ ---        ┆ ---                   ┆ ---        │\n",
       "│ str                    ┆ str                   ┆ str        ┆ str                   ┆ f64        │\n",
       "╞════════════════════════╪═══════════════════════╪════════════╪═══════════════════════╪════════════╡\n",
       "│ <id_pEUMhB4I5f_SBd_FDX ┆ <Belgium>             ┆ rdfs:label ┆ Beljie@ksh            ┆ null       │\n",
       "│ fgL7!Nq>               ┆                       ┆            ┆                       ┆            │\n",
       "│ <id_pEUMhB4I5f_SBd_oGF ┆ <Belgium>             ┆ rdfs:label ┆ Belgica@mwl           ┆ null       │\n",
       "│ MhATfEZ>               ┆                       ┆            ┆                       ┆            │\n",
       "│ <id_pEUMhB4I5f_SBd_!aa ┆ <Belgium>             ┆ rdfs:label ┆ Bélgica@mwl           ┆ null       │\n",
       "│ FO1KjDD>               ┆                       ┆            ┆                       ┆            │\n",
       "│ <id_pEUMhB4I5f_SBd_Zcz ┆ <Belgium>             ┆ rdfs:label ┆ بېلجیم@pus            ┆ null       │\n",
       "│ xz8e3DA>               ┆                       ┆            ┆                       ┆            │\n",
       "│ <id_pEUMhB4I5f_SBd_oGF ┆ <Belgium>             ┆ rdfs:label ┆ Belgica@por           ┆ null       │\n",
       "│ MhATfEZ>               ┆                       ┆            ┆                       ┆            │\n",
       "│ …                      ┆ …                     ┆ …          ┆ …                     ┆ …          │\n",
       "│ <id_gdaZh1uo4v_SBd_S7d ┆ <Marie-Helene_Bertino ┆ rdfs:label ┆ แม่แบบ:Taxonomy/Warram ┆ null       │\n",
       "│ rVOPZwt>               ┆ >                     ┆            ┆ aba@tha               ┆            │\n",
       "│ <id_gdaZh1uo4v_SBd_UF7 ┆ <Marie-Helene_Bertino ┆ rdfs:label ┆ Marie-Helene          ┆ null       │\n",
       "│ fgeI?8I>               ┆ >                     ┆            ┆ Bertino@eng           ┆            │\n",
       "│ <id_RpYLoGzgh8_SBd_ZOI ┆ <Myst_Milano>         ┆ rdfs:label ┆ Myst Milano@eng       ┆ null       │\n",
       "│ 84lUXhz>               ┆                       ┆            ┆                       ┆            │\n",
       "│ <id_RpYLoGzgh8_SBd_Txq ┆ <Myst_Milano>         ┆ rdfs:label ┆ Wikipedia:2021年媒體  ┆ null       │\n",
       "│ C3YYb0m>               ┆                       ┆            ┆ 引用維基百科內容列表@ ┆            │\n",
       "│                        ┆                       ┆            ┆ zho                   ┆            │\n",
       "│ <id_nlFujmd01t_SBd_QHQ ┆ <Dana_Douglas>        ┆ rdfs:label ┆ Dana Douglas@eng      ┆ null       │\n",
       "│ 8OI6JY8>               ┆                       ┆            ┆                       ┆            │\n",
       "└────────────────────────┴───────────────────────┴────────────┴───────────────────────┴────────────┘"
      ]
     },
     "metadata": {},
     "output_type": "display_data"
    },
    {
     "name": "stdout",
     "output_type": "stream",
     "text": [
      "wikidataMultiLabelsNeedsTypeCheck.tsv\n"
     ]
    },
    {
     "data": {
      "text/html": [
       "<div><style>\n",
       ".dataframe > thead > tr,\n",
       ".dataframe > tbody > tr {\n",
       "  text-align: right;\n",
       "  white-space: pre-wrap;\n",
       "}\n",
       "</style>\n",
       "<small>shape: (52_771_162, 5)</small><table border=\"1\" class=\"dataframe\"><thead><tr><th>id</th><th>subject</th><th>predicate</th><th>cat_object</th><th>num_object</th></tr><tr><td>str</td><td>str</td><td>str</td><td>str</td><td>f64</td></tr></thead><tbody><tr><td>&quot;&lt;id_pEUMhB4I5f_SBd_FDXfgL7!Nq&gt;&quot;</td><td>&quot;&lt;Belgium&gt;&quot;</td><td>&quot;rdfs:label&quot;</td><td>&quot;Beljie@ksh&quot;</td><td>null</td></tr><tr><td>&quot;&lt;id_pEUMhB4I5f_SBd_oGFMhATfEZ&gt;&quot;</td><td>&quot;&lt;Belgium&gt;&quot;</td><td>&quot;rdfs:label&quot;</td><td>&quot;Belgica@mwl&quot;</td><td>null</td></tr><tr><td>&quot;&lt;id_pEUMhB4I5f_SBd_!aaFO1KjDD&gt;&quot;</td><td>&quot;&lt;Belgium&gt;&quot;</td><td>&quot;rdfs:label&quot;</td><td>&quot;Bélgica@mwl&quot;</td><td>null</td></tr><tr><td>&quot;&lt;id_pEUMhB4I5f_SBd_Zczxz8e3DA&gt;&quot;</td><td>&quot;&lt;Belgium&gt;&quot;</td><td>&quot;rdfs:label&quot;</td><td>&quot;بېلجیم@pus&quot;</td><td>null</td></tr><tr><td>&quot;&lt;id_pEUMhB4I5f_SBd_oGFMhATfEZ&gt;&quot;</td><td>&quot;&lt;Belgium&gt;&quot;</td><td>&quot;rdfs:label&quot;</td><td>&quot;Belgica@por&quot;</td><td>null</td></tr><tr><td>&quot;&lt;id_pEUMhB4I5f_SBd_!aaFO1KjDD&gt;&quot;</td><td>&quot;&lt;Belgium&gt;&quot;</td><td>&quot;rdfs:label&quot;</td><td>&quot;Bélgica@por&quot;</td><td>null</td></tr><tr><td>&quot;&lt;id_pEUMhB4I5f_SBd_8MB9jtqRTT&gt;&quot;</td><td>&quot;&lt;Belgium&gt;&quot;</td><td>&quot;rdfs:label&quot;</td><td>&quot;Belgi@egl&quot;</td><td>null</td></tr><tr><td>&quot;&lt;id_pEUMhB4I5f_SBd_R0fWgfJ7Ed&gt;&quot;</td><td>&quot;&lt;Belgium&gt;&quot;</td><td>&quot;rdfs:label&quot;</td><td>&quot;Bélgi@egl&quot;</td><td>null</td></tr><tr><td>&quot;&lt;id_pEUMhB4I5f_SBd_pEUMhB4I5f&gt;&quot;</td><td>&quot;&lt;Belgium&gt;&quot;</td><td>&quot;rdfs:label&quot;</td><td>&quot;Belgium@tum&quot;</td><td>null</td></tr><tr><td>&quot;&lt;id_pEUMhB4I5f_SBd_fFUvgZrXBH&gt;&quot;</td><td>&quot;&lt;Belgium&gt;&quot;</td><td>&quot;rdfs:label&quot;</td><td>&quot;Belgia@ban&quot;</td><td>null</td></tr><tr><td>&quot;&lt;id_pEUMhB4I5f_SBd_yCJIqLH4v9&gt;&quot;</td><td>&quot;&lt;Belgium&gt;&quot;</td><td>&quot;rdfs:label&quot;</td><td>&quot;Bélgia@ban&quot;</td><td>null</td></tr><tr><td>&quot;&lt;id_pEUMhB4I5f_SBd_yG?cZnnIje&gt;&quot;</td><td>&quot;&lt;Belgium&gt;&quot;</td><td>&quot;rdfs:label&quot;</td><td>&quot;ბელგია@xmf&quot;</td><td>null</td></tr><tr><td>&hellip;</td><td>&hellip;</td><td>&hellip;</td><td>&hellip;</td><td>&hellip;</td></tr><tr><td>&quot;&lt;id_dtdiGgY1iG_SBd_IWW2nktFB6&gt;&quot;</td><td>&quot;&lt;Cesur_Durak&gt;&quot;</td><td>&quot;rdfs:label&quot;</td><td>&quot;Los Borbones: una familia real@spa&quot;</td><td>null</td></tr><tr><td>&quot;&lt;id_dtdiGgY1iG_SBd_VkmTjs8MMg&gt;&quot;</td><td>&quot;&lt;Cesur_Durak&gt;&quot;</td><td>&quot;rdfs:label&quot;</td><td>&quot;Book24@hun&quot;</td><td>null</td></tr><tr><td>&quot;&lt;id_dtdiGgY1iG_SBd_Nvy05rg9N!&gt;&quot;</td><td>&quot;&lt;Cesur_Durak&gt;&quot;</td><td>&quot;rdfs:label&quot;</td><td>&quot;Aurelio De Carolis@ita&quot;</td><td>null</td></tr><tr><td>&quot;&lt;id_dtdiGgY1iG_SBd_swhMuQcnU3&gt;&quot;</td><td>&quot;&lt;Cesur_Durak&gt;&quot;</td><td>&quot;rdfs:label&quot;</td><td>&quot;Ğ如@zho&quot;</td><td>null</td></tr><tr><td>&quot;&lt;id_VyFoWVHvyd_SBd_AwgcHpPzRM&gt;&quot;</td><td>&quot;&lt;Panicum_italicum&gt;&quot;</td><td>&quot;rdfs:label&quot;</td><td>&quot;Panicum italicum@eng&quot;</td><td>null</td></tr><tr><td>&quot;&lt;id_gMAnctUfvR_SBd_oFEjD!rQ50&gt;&quot;</td><td>&quot;&lt;Caroline_Deutsch&gt;&quot;</td><td>&quot;rdfs:label&quot;</td><td>&quot;Caroline Deutsch@eng&quot;</td><td>null</td></tr><tr><td>&quot;&lt;id_gdaZh1uo4v_SBd_MRzOE44xw8&gt;&quot;</td><td>&quot;&lt;Marie-Helene_Bertino&gt;&quot;</td><td>&quot;rdfs:label&quot;</td><td>&quot;تصنيف:لاعبو كرة يد من باريس@ara&quot;</td><td>null</td></tr><tr><td>&quot;&lt;id_gdaZh1uo4v_SBd_S7drVOPZwt&gt;&quot;</td><td>&quot;&lt;Marie-Helene_Bertino&gt;&quot;</td><td>&quot;rdfs:label&quot;</td><td>&quot;แม่แบบ:Taxonomy/Warramaba@tha&quot;</td><td>null</td></tr><tr><td>&quot;&lt;id_gdaZh1uo4v_SBd_UF7fgeI?8I&gt;&quot;</td><td>&quot;&lt;Marie-Helene_Bertino&gt;&quot;</td><td>&quot;rdfs:label&quot;</td><td>&quot;Marie-Helene Bertino@eng&quot;</td><td>null</td></tr><tr><td>&quot;&lt;id_RpYLoGzgh8_SBd_ZOI84lUXhz&gt;&quot;</td><td>&quot;&lt;Myst_Milano&gt;&quot;</td><td>&quot;rdfs:label&quot;</td><td>&quot;Myst Milano@eng&quot;</td><td>null</td></tr><tr><td>&quot;&lt;id_RpYLoGzgh8_SBd_TxqC3YYb0m&gt;&quot;</td><td>&quot;&lt;Myst_Milano&gt;&quot;</td><td>&quot;rdfs:label&quot;</td><td>&quot;Wikipedia:2021年媒體引用維基百科內容列表@zho&quot;</td><td>null</td></tr><tr><td>&quot;&lt;id_nlFujmd01t_SBd_QHQ8OI6JY8&gt;&quot;</td><td>&quot;&lt;Dana_Douglas&gt;&quot;</td><td>&quot;rdfs:label&quot;</td><td>&quot;Dana Douglas@eng&quot;</td><td>null</td></tr></tbody></table></div>"
      ],
      "text/plain": [
       "shape: (52_771_162, 5)\n",
       "┌────────────────────────┬───────────────────────┬────────────┬───────────────────────┬────────────┐\n",
       "│ id                     ┆ subject               ┆ predicate  ┆ cat_object            ┆ num_object │\n",
       "│ ---                    ┆ ---                   ┆ ---        ┆ ---                   ┆ ---        │\n",
       "│ str                    ┆ str                   ┆ str        ┆ str                   ┆ f64        │\n",
       "╞════════════════════════╪═══════════════════════╪════════════╪═══════════════════════╪════════════╡\n",
       "│ <id_pEUMhB4I5f_SBd_FDX ┆ <Belgium>             ┆ rdfs:label ┆ Beljie@ksh            ┆ null       │\n",
       "│ fgL7!Nq>               ┆                       ┆            ┆                       ┆            │\n",
       "│ <id_pEUMhB4I5f_SBd_oGF ┆ <Belgium>             ┆ rdfs:label ┆ Belgica@mwl           ┆ null       │\n",
       "│ MhATfEZ>               ┆                       ┆            ┆                       ┆            │\n",
       "│ <id_pEUMhB4I5f_SBd_!aa ┆ <Belgium>             ┆ rdfs:label ┆ Bélgica@mwl           ┆ null       │\n",
       "│ FO1KjDD>               ┆                       ┆            ┆                       ┆            │\n",
       "│ <id_pEUMhB4I5f_SBd_Zcz ┆ <Belgium>             ┆ rdfs:label ┆ بېلجیم@pus            ┆ null       │\n",
       "│ xz8e3DA>               ┆                       ┆            ┆                       ┆            │\n",
       "│ <id_pEUMhB4I5f_SBd_oGF ┆ <Belgium>             ┆ rdfs:label ┆ Belgica@por           ┆ null       │\n",
       "│ MhATfEZ>               ┆                       ┆            ┆                       ┆            │\n",
       "│ …                      ┆ …                     ┆ …          ┆ …                     ┆ …          │\n",
       "│ <id_gdaZh1uo4v_SBd_S7d ┆ <Marie-Helene_Bertino ┆ rdfs:label ┆ แม่แบบ:Taxonomy/Warram ┆ null       │\n",
       "│ rVOPZwt>               ┆ >                     ┆            ┆ aba@tha               ┆            │\n",
       "│ <id_gdaZh1uo4v_SBd_UF7 ┆ <Marie-Helene_Bertino ┆ rdfs:label ┆ Marie-Helene          ┆ null       │\n",
       "│ fgeI?8I>               ┆ >                     ┆            ┆ Bertino@eng           ┆            │\n",
       "│ <id_RpYLoGzgh8_SBd_ZOI ┆ <Myst_Milano>         ┆ rdfs:label ┆ Myst Milano@eng       ┆ null       │\n",
       "│ 84lUXhz>               ┆                       ┆            ┆                       ┆            │\n",
       "│ <id_RpYLoGzgh8_SBd_Txq ┆ <Myst_Milano>         ┆ rdfs:label ┆ Wikipedia:2021年媒體  ┆ null       │\n",
       "│ C3YYb0m>               ┆                       ┆            ┆ 引用維基百科內容列表@ ┆            │\n",
       "│                        ┆                       ┆            ┆ zho                   ┆            │\n",
       "│ <id_nlFujmd01t_SBd_QHQ ┆ <Dana_Douglas>        ┆ rdfs:label ┆ Dana Douglas@eng      ┆ null       │\n",
       "│ 8OI6JY8>               ┆                       ┆            ┆                       ┆            │\n",
       "└────────────────────────┴───────────────────────┴────────────┴───────────────────────┴────────────┘"
      ]
     },
     "metadata": {},
     "output_type": "display_data"
    },
    {
     "name": "stdout",
     "output_type": "stream",
     "text": [
      "wikidataMultiLabelSources.tsv\n"
     ]
    },
    {
     "data": {
      "text/html": [
       "<div><style>\n",
       ".dataframe > thead > tr,\n",
       ".dataframe > tbody > tr {\n",
       "  text-align: right;\n",
       "  white-space: pre-wrap;\n",
       "}\n",
       "</style>\n",
       "<small>shape: (105_542_324, 5)</small><table border=\"1\" class=\"dataframe\"><thead><tr><th>id</th><th>subject</th><th>predicate</th><th>cat_object</th><th>num_object</th></tr><tr><td>str</td><td>str</td><td>str</td><td>str</td><td>f64</td></tr></thead><tbody><tr><td>&quot;&lt;id_DQHu4ep5yZ_Tm9_a!?lkyuE30&gt;&quot;</td><td>&quot;&lt;id_pEUMhB4I5f_SBd_FDXfgL7!Nq&gt;&quot;</td><td>&quot;&lt;extractionSource&gt;&quot;</td><td>&quot;&lt;http://wikidata.org&gt;&quot;</td><td>null</td></tr><tr><td>null</td><td>&quot;&lt;id_DQHu4ep5yZ_Tm9_a!?lkyuE30&gt;&quot;</td><td>&quot;&lt;extractionTechnique&gt;&quot;</td><td>&quot;WikidataLabelExtractor&quot;</td><td>null</td></tr><tr><td>&quot;&lt;id_jj9j3fC28S_Tm9_a!?lkyuE30&gt;&quot;</td><td>&quot;&lt;id_pEUMhB4I5f_SBd_oGFMhATfEZ&gt;&quot;</td><td>&quot;&lt;extractionSource&gt;&quot;</td><td>&quot;&lt;http://wikidata.org&gt;&quot;</td><td>null</td></tr><tr><td>null</td><td>&quot;&lt;id_jj9j3fC28S_Tm9_a!?lkyuE30&gt;&quot;</td><td>&quot;&lt;extractionTechnique&gt;&quot;</td><td>&quot;WikidataLabelExtractor&quot;</td><td>null</td></tr><tr><td>&quot;&lt;id_HvYUez0dKN_Tm9_a!?lkyuE30&gt;&quot;</td><td>&quot;&lt;id_pEUMhB4I5f_SBd_!aaFO1KjDD&gt;&quot;</td><td>&quot;&lt;extractionSource&gt;&quot;</td><td>&quot;&lt;http://wikidata.org&gt;&quot;</td><td>null</td></tr><tr><td>null</td><td>&quot;&lt;id_HvYUez0dKN_Tm9_a!?lkyuE30&gt;&quot;</td><td>&quot;&lt;extractionTechnique&gt;&quot;</td><td>&quot;WikidataLabelExtractor&quot;</td><td>null</td></tr><tr><td>&quot;&lt;id_EEXoYn8WpJ_Tm9_a!?lkyuE30&gt;&quot;</td><td>&quot;&lt;id_pEUMhB4I5f_SBd_Zczxz8e3DA&gt;&quot;</td><td>&quot;&lt;extractionSource&gt;&quot;</td><td>&quot;&lt;http://wikidata.org&gt;&quot;</td><td>null</td></tr><tr><td>null</td><td>&quot;&lt;id_EEXoYn8WpJ_Tm9_a!?lkyuE30&gt;&quot;</td><td>&quot;&lt;extractionTechnique&gt;&quot;</td><td>&quot;WikidataLabelExtractor&quot;</td><td>null</td></tr><tr><td>&quot;&lt;id_jj9j3fC28S_Tm9_a!?lkyuE30&gt;&quot;</td><td>&quot;&lt;id_pEUMhB4I5f_SBd_oGFMhATfEZ&gt;&quot;</td><td>&quot;&lt;extractionSource&gt;&quot;</td><td>&quot;&lt;http://wikidata.org&gt;&quot;</td><td>null</td></tr><tr><td>null</td><td>&quot;&lt;id_jj9j3fC28S_Tm9_a!?lkyuE30&gt;&quot;</td><td>&quot;&lt;extractionTechnique&gt;&quot;</td><td>&quot;WikidataLabelExtractor&quot;</td><td>null</td></tr><tr><td>&quot;&lt;id_HvYUez0dKN_Tm9_a!?lkyuE30&gt;&quot;</td><td>&quot;&lt;id_pEUMhB4I5f_SBd_!aaFO1KjDD&gt;&quot;</td><td>&quot;&lt;extractionSource&gt;&quot;</td><td>&quot;&lt;http://wikidata.org&gt;&quot;</td><td>null</td></tr><tr><td>null</td><td>&quot;&lt;id_HvYUez0dKN_Tm9_a!?lkyuE30&gt;&quot;</td><td>&quot;&lt;extractionTechnique&gt;&quot;</td><td>&quot;WikidataLabelExtractor&quot;</td><td>null</td></tr><tr><td>&hellip;</td><td>&hellip;</td><td>&hellip;</td><td>&hellip;</td><td>&hellip;</td></tr><tr><td>&quot;&lt;id_J1Yna98DYR_Tm9_a!?lkyuE30&gt;&quot;</td><td>&quot;&lt;id_gdaZh1uo4v_SBd_MRzOE44xw8&gt;&quot;</td><td>&quot;&lt;extractionSource&gt;&quot;</td><td>&quot;&lt;http://wikidata.org&gt;&quot;</td><td>null</td></tr><tr><td>null</td><td>&quot;&lt;id_J1Yna98DYR_Tm9_a!?lkyuE30&gt;&quot;</td><td>&quot;&lt;extractionTechnique&gt;&quot;</td><td>&quot;WikidataLabelExtractor&quot;</td><td>null</td></tr><tr><td>&quot;&lt;id_2QzebaENGV_Tm9_a!?lkyuE30&gt;&quot;</td><td>&quot;&lt;id_gdaZh1uo4v_SBd_S7drVOPZwt&gt;&quot;</td><td>&quot;&lt;extractionSource&gt;&quot;</td><td>&quot;&lt;http://wikidata.org&gt;&quot;</td><td>null</td></tr><tr><td>null</td><td>&quot;&lt;id_2QzebaENGV_Tm9_a!?lkyuE30&gt;&quot;</td><td>&quot;&lt;extractionTechnique&gt;&quot;</td><td>&quot;WikidataLabelExtractor&quot;</td><td>null</td></tr><tr><td>&quot;&lt;id_ofgRMAWe8I_Tm9_a!?lkyuE30&gt;&quot;</td><td>&quot;&lt;id_gdaZh1uo4v_SBd_UF7fgeI?8I&gt;&quot;</td><td>&quot;&lt;extractionSource&gt;&quot;</td><td>&quot;&lt;http://wikidata.org&gt;&quot;</td><td>null</td></tr><tr><td>null</td><td>&quot;&lt;id_ofgRMAWe8I_Tm9_a!?lkyuE30&gt;&quot;</td><td>&quot;&lt;extractionTechnique&gt;&quot;</td><td>&quot;WikidataLabelExtractor&quot;</td><td>null</td></tr><tr><td>&quot;&lt;id_HuMrtT0ayx_Tm9_a!?lkyuE30&gt;&quot;</td><td>&quot;&lt;id_RpYLoGzgh8_SBd_ZOI84lUXhz&gt;&quot;</td><td>&quot;&lt;extractionSource&gt;&quot;</td><td>&quot;&lt;http://wikidata.org&gt;&quot;</td><td>null</td></tr><tr><td>null</td><td>&quot;&lt;id_HuMrtT0ayx_Tm9_a!?lkyuE30&gt;&quot;</td><td>&quot;&lt;extractionTechnique&gt;&quot;</td><td>&quot;WikidataLabelExtractor&quot;</td><td>null</td></tr><tr><td>&quot;&lt;id_2f95JBVWPY_Tm9_a!?lkyuE30&gt;&quot;</td><td>&quot;&lt;id_RpYLoGzgh8_SBd_TxqC3YYb0m&gt;&quot;</td><td>&quot;&lt;extractionSource&gt;&quot;</td><td>&quot;&lt;http://wikidata.org&gt;&quot;</td><td>null</td></tr><tr><td>null</td><td>&quot;&lt;id_2f95JBVWPY_Tm9_a!?lkyuE30&gt;&quot;</td><td>&quot;&lt;extractionTechnique&gt;&quot;</td><td>&quot;WikidataLabelExtractor&quot;</td><td>null</td></tr><tr><td>&quot;&lt;id_ZTbP7mt4ui_Tm9_a!?lkyuE30&gt;&quot;</td><td>&quot;&lt;id_nlFujmd01t_SBd_QHQ8OI6JY8&gt;&quot;</td><td>&quot;&lt;extractionSource&gt;&quot;</td><td>&quot;&lt;http://wikidata.org&gt;&quot;</td><td>null</td></tr><tr><td>null</td><td>&quot;&lt;id_ZTbP7mt4ui_Tm9_a!?lkyuE30&gt;&quot;</td><td>&quot;&lt;extractionTechnique&gt;&quot;</td><td>&quot;WikidataLabelExtractor&quot;</td><td>null</td></tr></tbody></table></div>"
      ],
      "text/plain": [
       "shape: (105_542_324, 5)\n",
       "┌─────────────────────┬─────────────────────┬────────────────────┬────────────────────┬────────────┐\n",
       "│ id                  ┆ subject             ┆ predicate          ┆ cat_object         ┆ num_object │\n",
       "│ ---                 ┆ ---                 ┆ ---                ┆ ---                ┆ ---        │\n",
       "│ str                 ┆ str                 ┆ str                ┆ str                ┆ f64        │\n",
       "╞═════════════════════╪═════════════════════╪════════════════════╪════════════════════╪════════════╡\n",
       "│ <id_DQHu4ep5yZ_Tm9_ ┆ <id_pEUMhB4I5f_SBd_ ┆ <extractionSource> ┆ <http://wikidata.o ┆ null       │\n",
       "│ a!?lkyuE30>         ┆ FDXfgL7!Nq>         ┆                    ┆ rg>                ┆            │\n",
       "│ null                ┆ <id_DQHu4ep5yZ_Tm9_ ┆ <extractionTechniq ┆ WikidataLabelExtra ┆ null       │\n",
       "│                     ┆ a!?lkyuE30>         ┆ ue>                ┆ ctor               ┆            │\n",
       "│ <id_jj9j3fC28S_Tm9_ ┆ <id_pEUMhB4I5f_SBd_ ┆ <extractionSource> ┆ <http://wikidata.o ┆ null       │\n",
       "│ a!?lkyuE30>         ┆ oGFMhATfEZ>         ┆                    ┆ rg>                ┆            │\n",
       "│ null                ┆ <id_jj9j3fC28S_Tm9_ ┆ <extractionTechniq ┆ WikidataLabelExtra ┆ null       │\n",
       "│                     ┆ a!?lkyuE30>         ┆ ue>                ┆ ctor               ┆            │\n",
       "│ <id_HvYUez0dKN_Tm9_ ┆ <id_pEUMhB4I5f_SBd_ ┆ <extractionSource> ┆ <http://wikidata.o ┆ null       │\n",
       "│ a!?lkyuE30>         ┆ !aaFO1KjDD>         ┆                    ┆ rg>                ┆            │\n",
       "│ …                   ┆ …                   ┆ …                  ┆ …                  ┆ …          │\n",
       "│ null                ┆ <id_HuMrtT0ayx_Tm9_ ┆ <extractionTechniq ┆ WikidataLabelExtra ┆ null       │\n",
       "│                     ┆ a!?lkyuE30>         ┆ ue>                ┆ ctor               ┆            │\n",
       "│ <id_2f95JBVWPY_Tm9_ ┆ <id_RpYLoGzgh8_SBd_ ┆ <extractionSource> ┆ <http://wikidata.o ┆ null       │\n",
       "│ a!?lkyuE30>         ┆ TxqC3YYb0m>         ┆                    ┆ rg>                ┆            │\n",
       "│ null                ┆ <id_2f95JBVWPY_Tm9_ ┆ <extractionTechniq ┆ WikidataLabelExtra ┆ null       │\n",
       "│                     ┆ a!?lkyuE30>         ┆ ue>                ┆ ctor               ┆            │\n",
       "│ <id_ZTbP7mt4ui_Tm9_ ┆ <id_nlFujmd01t_SBd_ ┆ <extractionSource> ┆ <http://wikidata.o ┆ null       │\n",
       "│ a!?lkyuE30>         ┆ QHQ8OI6JY8>         ┆                    ┆ rg>                ┆            │\n",
       "│ null                ┆ <id_ZTbP7mt4ui_Tm9_ ┆ <extractionTechniq ┆ WikidataLabelExtra ┆ null       │\n",
       "│                     ┆ a!?lkyuE30>         ┆ ue>                ┆ ctor               ┆            │\n",
       "└─────────────────────┴─────────────────────┴────────────────────┴────────────────────┴────────────┘"
      ]
     },
     "metadata": {},
     "output_type": "display_data"
    },
    {
     "name": "stdout",
     "output_type": "stream",
     "text": [
      "wikidataTranslations.tsv\n"
     ]
    },
    {
     "data": {
      "text/html": [
       "<div><style>\n",
       ".dataframe > thead > tr,\n",
       ".dataframe > tbody > tr {\n",
       "  text-align: right;\n",
       "  white-space: pre-wrap;\n",
       "}\n",
       "</style>\n",
       "<small>shape: (0, 5)</small><table border=\"1\" class=\"dataframe\"><thead><tr><th>id</th><th>subject</th><th>predicate</th><th>cat_object</th><th>num_object</th></tr><tr><td>str</td><td>f64</td><td>f64</td><td>f64</td><td>f64</td></tr></thead><tbody></tbody></table></div>"
      ],
      "text/plain": [
       "shape: (0, 5)\n",
       "┌─────┬─────────┬───────────┬────────────┬────────────┐\n",
       "│ id  ┆ subject ┆ predicate ┆ cat_object ┆ num_object │\n",
       "│ --- ┆ ---     ┆ ---       ┆ ---        ┆ ---        │\n",
       "│ str ┆ f64     ┆ f64       ┆ f64        ┆ f64        │\n",
       "╞═════╪═════════╪═══════════╪════════════╪════════════╡\n",
       "└─────┴─────────┴───────────┴────────────┴────────────┘"
      ]
     },
     "metadata": {},
     "output_type": "display_data"
    },
    {
     "name": "stdout",
     "output_type": "stream",
     "text": [
      "wikidataTranslationsNeedsTypeCheck.tsv\n"
     ]
    },
    {
     "data": {
      "text/html": [
       "<div><style>\n",
       ".dataframe > thead > tr,\n",
       ".dataframe > tbody > tr {\n",
       "  text-align: right;\n",
       "  white-space: pre-wrap;\n",
       "}\n",
       "</style>\n",
       "<small>shape: (7_095_454, 5)</small><table border=\"1\" class=\"dataframe\"><thead><tr><th>id</th><th>subject</th><th>predicate</th><th>cat_object</th><th>num_object</th></tr><tr><td>str</td><td>str</td><td>str</td><td>f64</td><td>f64</td></tr></thead><tbody><tr><td>null</td><td>&quot;&lt;Belgium&gt;&quot;</td><td>&quot;&lt;numberOfTranslations&gt;&quot;</td><td>279.0</td><td>null</td></tr><tr><td>null</td><td>&quot;&lt;Happiness&gt;&quot;</td><td>&quot;&lt;numberOfTranslations&gt;&quot;</td><td>108.0</td><td>null</td></tr><tr><td>null</td><td>&quot;&lt;George_Washington&gt;&quot;</td><td>&quot;&lt;numberOfTranslations&gt;&quot;</td><td>189.0</td><td>null</td></tr><tr><td>null</td><td>&quot;&lt;Jack_Bauer&gt;&quot;</td><td>&quot;&lt;numberOfTranslations&gt;&quot;</td><td>26.0</td><td>null</td></tr><tr><td>null</td><td>&quot;&lt;Douglas_Adams&gt;&quot;</td><td>&quot;&lt;numberOfTranslations&gt;&quot;</td><td>84.0</td><td>null</td></tr><tr><td>null</td><td>&quot;&lt;Paul_Otlet&gt;&quot;</td><td>&quot;&lt;numberOfTranslations&gt;&quot;</td><td>26.0</td><td>null</td></tr><tr><td>null</td><td>&quot;&lt;Wikidata&gt;&quot;</td><td>&quot;&lt;numberOfTranslations&gt;&quot;</td><td>108.0</td><td>null</td></tr><tr><td>null</td><td>&quot;&lt;Portugal&gt;&quot;</td><td>&quot;&lt;numberOfTranslations&gt;&quot;</td><td>280.0</td><td>null</td></tr><tr><td>null</td><td>&quot;&lt;Antarctica&gt;&quot;</td><td>&quot;&lt;numberOfTranslations&gt;&quot;</td><td>245.0</td><td>null</td></tr><tr><td>null</td><td>&quot;&lt;Penis&gt;&quot;</td><td>&quot;&lt;numberOfTranslations&gt;&quot;</td><td>135.0</td><td>null</td></tr><tr><td>null</td><td>&quot;&lt;Computer&gt;&quot;</td><td>&quot;&lt;numberOfTranslations&gt;&quot;</td><td>227.0</td><td>null</td></tr><tr><td>null</td><td>&quot;&lt;Internet&gt;&quot;</td><td>&quot;&lt;numberOfTranslations&gt;&quot;</td><td>211.0</td><td>null</td></tr><tr><td>&hellip;</td><td>&hellip;</td><td>&hellip;</td><td>&hellip;</td><td>&hellip;</td></tr><tr><td>null</td><td>&quot;&lt;Opinion_polling_on_the_Nayib_Bukele_presidency&gt;&quot;</td><td>&quot;&lt;numberOfTranslations&gt;&quot;</td><td>1.0</td><td>null</td></tr><tr><td>null</td><td>&quot;&lt;Members_of_the_Australian_Senate,_2022–2025&gt;&quot;</td><td>&quot;&lt;numberOfTranslations&gt;&quot;</td><td>1.0</td><td>null</td></tr><tr><td>null</td><td>&quot;&lt;Kyoung-Shin_Choi&gt;&quot;</td><td>&quot;&lt;numberOfTranslations&gt;&quot;</td><td>1.0</td><td>null</td></tr><tr><td>null</td><td>&quot;&lt;La_Travesia_Tour&gt;&quot;</td><td>&quot;&lt;numberOfTranslations&gt;&quot;</td><td>1.0</td><td>null</td></tr><tr><td>null</td><td>&quot;&lt;Miracleman_(character)&gt;&quot;</td><td>&quot;&lt;numberOfTranslations&gt;&quot;</td><td>1.0</td><td>null</td></tr><tr><td>null</td><td>&quot;&lt;fr/Joseph_Couture&gt;&quot;</td><td>&quot;&lt;numberOfTranslations&gt;&quot;</td><td>1.0</td><td>null</td></tr><tr><td>null</td><td>&quot;&lt;Cesur_Durak&gt;&quot;</td><td>&quot;&lt;numberOfTranslations&gt;&quot;</td><td>8.0</td><td>null</td></tr><tr><td>null</td><td>&quot;&lt;Panicum_italicum&gt;&quot;</td><td>&quot;&lt;numberOfTranslations&gt;&quot;</td><td>1.0</td><td>null</td></tr><tr><td>null</td><td>&quot;&lt;Caroline_Deutsch&gt;&quot;</td><td>&quot;&lt;numberOfTranslations&gt;&quot;</td><td>1.0</td><td>null</td></tr><tr><td>null</td><td>&quot;&lt;Marie-Helene_Bertino&gt;&quot;</td><td>&quot;&lt;numberOfTranslations&gt;&quot;</td><td>3.0</td><td>null</td></tr><tr><td>null</td><td>&quot;&lt;Myst_Milano&gt;&quot;</td><td>&quot;&lt;numberOfTranslations&gt;&quot;</td><td>2.0</td><td>null</td></tr><tr><td>null</td><td>&quot;&lt;Dana_Douglas&gt;&quot;</td><td>&quot;&lt;numberOfTranslations&gt;&quot;</td><td>1.0</td><td>null</td></tr></tbody></table></div>"
      ],
      "text/plain": [
       "shape: (7_095_454, 5)\n",
       "┌──────┬────────────────────────┬────────────────────────┬────────────┬────────────┐\n",
       "│ id   ┆ subject                ┆ predicate              ┆ cat_object ┆ num_object │\n",
       "│ ---  ┆ ---                    ┆ ---                    ┆ ---        ┆ ---        │\n",
       "│ str  ┆ str                    ┆ str                    ┆ f64        ┆ f64        │\n",
       "╞══════╪════════════════════════╪════════════════════════╪════════════╪════════════╡\n",
       "│ null ┆ <Belgium>              ┆ <numberOfTranslations> ┆ 279.0      ┆ null       │\n",
       "│ null ┆ <Happiness>            ┆ <numberOfTranslations> ┆ 108.0      ┆ null       │\n",
       "│ null ┆ <George_Washington>    ┆ <numberOfTranslations> ┆ 189.0      ┆ null       │\n",
       "│ null ┆ <Jack_Bauer>           ┆ <numberOfTranslations> ┆ 26.0       ┆ null       │\n",
       "│ null ┆ <Douglas_Adams>        ┆ <numberOfTranslations> ┆ 84.0       ┆ null       │\n",
       "│ …    ┆ …                      ┆ …                      ┆ …          ┆ …          │\n",
       "│ null ┆ <Panicum_italicum>     ┆ <numberOfTranslations> ┆ 1.0        ┆ null       │\n",
       "│ null ┆ <Caroline_Deutsch>     ┆ <numberOfTranslations> ┆ 1.0        ┆ null       │\n",
       "│ null ┆ <Marie-Helene_Bertino> ┆ <numberOfTranslations> ┆ 3.0        ┆ null       │\n",
       "│ null ┆ <Myst_Milano>          ┆ <numberOfTranslations> ┆ 2.0        ┆ null       │\n",
       "│ null ┆ <Dana_Douglas>         ┆ <numberOfTranslations> ┆ 1.0        ┆ null       │\n",
       "└──────┴────────────────────────┴────────────────────────┴────────────┴────────────┘"
      ]
     },
     "metadata": {},
     "output_type": "display_data"
    },
    {
     "name": "stdout",
     "output_type": "stream",
     "text": [
      "wikipediaInfoNeedsTypeCheck_en.tsv\n"
     ]
    },
    {
     "data": {
      "text/html": [
       "<div><style>\n",
       ".dataframe > thead > tr,\n",
       ".dataframe > tbody > tr {\n",
       "  text-align: right;\n",
       "  white-space: pre-wrap;\n",
       "}\n",
       "</style>\n",
       "<small>shape: (264_140_199, 5)</small><table border=\"1\" class=\"dataframe\"><thead><tr><th>id</th><th>subject</th><th>predicate</th><th>cat_object</th><th>num_object</th></tr><tr><td>str</td><td>str</td><td>str</td><td>str</td><td>f64</td></tr></thead><tbody><tr><td>&quot;&lt;id_Pckn5Ogrhc_uvg_SL2m2k4bzQ&gt;&quot;</td><td>&quot;&lt;yagoTheme_wikipediaInfoNeedsTypeCheckAndRedirection_en&gt;&quot;</td><td>&quot;&lt;hasGloss&gt;&quot;</td><td>&quot;This file is part of the ontology YAGO3. It is licensed under a Creative-Commons Attribution License by the YAGO team at the Max Planck Institute for…</td><td>null</td></tr><tr><td>&quot;&lt;id_cXcm1UedET_MA?_ak0uf7DSN7&gt;&quot;</td><td>&quot;&lt;Computer_accessibility&gt;&quot;</td><td>&quot;&lt;hasWikipediaArticleLength&gt;&quot;</td><td>&quot;111^^xsd:integer&quot;</td><td>111.0</td></tr><tr><td>&quot;&lt;id_cXcm1UedET_g7M_lyJGiL5KQX&gt;&quot;</td><td>&quot;&lt;Computer_accessibility&gt;&quot;</td><td>&quot;&lt;hasWikipediaUrl&gt;&quot;</td><td>&quot;&lt;http://en.wikipedia.org/wiki/AccessibleComputing&gt;&quot;</td><td>null</td></tr><tr><td>&quot;&lt;id_cXcm1UedET_nXy_cXcm1UedET&gt;&quot;</td><td>&quot;&lt;Computer_accessibility&gt;&quot;</td><td>&quot;&lt;linksTo&gt;&quot;</td><td>&quot;&lt;Computer_accessibility&gt;&quot;</td><td>null</td></tr><tr><td>&quot;&lt;id_IWu8EA1FIk_MA?_ZgEMnxL6pn&gt;&quot;</td><td>&quot;&lt;Anarchism&gt;&quot;</td><td>&quot;&lt;hasWikipediaArticleLength&gt;&quot;</td><td>&quot;107710^^xsd:integer&quot;</td><td>107710.0</td></tr><tr><td>&quot;&lt;id_IWu8EA1FIk_g7M_uZ2!P0iyQR&gt;&quot;</td><td>&quot;&lt;Anarchism&gt;&quot;</td><td>&quot;&lt;hasWikipediaUrl&gt;&quot;</td><td>&quot;&lt;http://en.wikipedia.org/wiki/Anarchism&gt;&quot;</td><td>null</td></tr><tr><td>&quot;&lt;id_IWu8EA1FIk_nXy_LaYcVv7S9H&gt;&quot;</td><td>&quot;&lt;Anarchism&gt;&quot;</td><td>&quot;&lt;linksTo&gt;&quot;</td><td>&quot;&lt;Noam_Chomsky&gt;&quot;</td><td>null</td></tr><tr><td>&quot;&lt;id_IWu8EA1FIk_nXy_9pRaHdxa6V&gt;&quot;</td><td>&quot;&lt;Anarchism&gt;&quot;</td><td>&quot;&lt;linksTo&gt;&quot;</td><td>&quot;&lt;carnivalesque&gt;&quot;</td><td>null</td></tr><tr><td>&quot;&lt;id_IWu8EA1FIk_nXy_bgSqzC78Pk&gt;&quot;</td><td>&quot;&lt;Anarchism&gt;&quot;</td><td>&quot;&lt;linksTo&gt;&quot;</td><td>&quot;&lt;:Category:Anarchism_by_country&gt;&quot;</td><td>null</td></tr><tr><td>&quot;&lt;id_IWu8EA1FIk_nXy_qwZlN!oq43&gt;&quot;</td><td>&quot;&lt;Anarchism&gt;&quot;</td><td>&quot;&lt;linksTo&gt;&quot;</td><td>&quot;&lt;World_Economic_Forum&gt;&quot;</td><td>null</td></tr><tr><td>&quot;&lt;id_IWu8EA1FIk_nXy_4QPTSPnBIq&gt;&quot;</td><td>&quot;&lt;Anarchism&gt;&quot;</td><td>&quot;&lt;linksTo&gt;&quot;</td><td>&quot;&lt;Cynicism_(philosophy)&gt;&quot;</td><td>null</td></tr><tr><td>&quot;&lt;id_IWu8EA1FIk_nXy_LtMo?wGr47&gt;&quot;</td><td>&quot;&lt;Anarchism&gt;&quot;</td><td>&quot;&lt;linksTo&gt;&quot;</td><td>&quot;&lt;Karl_Marx&gt;&quot;</td><td>null</td></tr><tr><td>&hellip;</td><td>&hellip;</td><td>&hellip;</td><td>&hellip;</td><td>&hellip;</td></tr><tr><td>&quot;&lt;id_dm7MCS5sj9_nXy_OeOiM7oeB!&gt;&quot;</td><td>&quot;&lt;Harald_the_Stalwart&gt;&quot;</td><td>&quot;&lt;linksTo&gt;&quot;</td><td>&quot;&lt;highwaymen&gt;&quot;</td><td>null</td></tr><tr><td>&quot;&lt;id_dm7MCS5sj9_nXy_RMVG6PthPd&gt;&quot;</td><td>&quot;&lt;Harald_the_Stalwart&gt;&quot;</td><td>&quot;&lt;linksTo&gt;&quot;</td><td>&quot;&lt;location_shooting&gt;&quot;</td><td>null</td></tr><tr><td>&quot;&lt;id_dm7MCS5sj9_nXy_Xl?PFGoDIP&gt;&quot;</td><td>&quot;&lt;Harald_the_Stalwart&gt;&quot;</td><td>&quot;&lt;linksTo&gt;&quot;</td><td>&quot;&lt;Gunn_Wållgren&gt;&quot;</td><td>null</td></tr><tr><td>&quot;&lt;id_dm7MCS5sj9_nXy_BZqY83Syti&gt;&quot;</td><td>&quot;&lt;Harald_the_Stalwart&gt;&quot;</td><td>&quot;&lt;linksTo&gt;&quot;</td><td>&quot;&lt;sv:Harald_Handfaste&gt;&quot;</td><td>null</td></tr><tr><td>&quot;&lt;id_dm7MCS5sj9_nXy_sCQ7ZdKIgi&gt;&quot;</td><td>&quot;&lt;Harald_the_Stalwart&gt;&quot;</td><td>&quot;&lt;linksTo&gt;&quot;</td><td>&quot;&lt;Bertil_Duroj&gt;&quot;</td><td>null</td></tr><tr><td>&quot;&lt;id_dm7MCS5sj9_nXy_RH4JtsvEHU&gt;&quot;</td><td>&quot;&lt;Harald_the_Stalwart&gt;&quot;</td><td>&quot;&lt;linksTo&gt;&quot;</td><td>&quot;&lt;fifteenth_century&gt;&quot;</td><td>null</td></tr><tr><td>&quot;&lt;id_dm7MCS5sj9_nXy_7FSr6fmDlL&gt;&quot;</td><td>&quot;&lt;Harald_the_Stalwart&gt;&quot;</td><td>&quot;&lt;linksTo&gt;&quot;</td><td>&quot;&lt;Ivar_Wahlgren&gt;&quot;</td><td>null</td></tr><tr><td>&quot;&lt;id_dm7MCS5sj9_nXy_eKuFVa96rz&gt;&quot;</td><td>&quot;&lt;Harald_the_Stalwart&gt;&quot;</td><td>&quot;&lt;linksTo&gt;&quot;</td><td>&quot;&lt;Category:Swedish_adventure_films&gt;&quot;</td><td>null</td></tr><tr><td>&quot;&lt;id_dm7MCS5sj9_nXy_ANsizaj?P8&gt;&quot;</td><td>&quot;&lt;Harald_the_Stalwart&gt;&quot;</td><td>&quot;&lt;linksTo&gt;&quot;</td><td>&quot;&lt;Category:Films_shot_in_Helsinki&gt;&quot;</td><td>null</td></tr><tr><td>&quot;&lt;id_dm7MCS5sj9_MA?_HbT0uT80V5&gt;&quot;</td><td>&quot;&lt;Harald_the_Stalwart&gt;&quot;</td><td>&quot;&lt;hasWikipediaArticleLength&gt;&quot;</td><td>&quot;33^^xsd:integer&quot;</td><td>33.0</td></tr><tr><td>&quot;&lt;id_dm7MCS5sj9_g7M_MhiOkFv8It&gt;&quot;</td><td>&quot;&lt;Harald_the_Stalwart&gt;&quot;</td><td>&quot;&lt;hasWikipediaUrl&gt;&quot;</td><td>&quot;&lt;http://en.wikipedia.org/wiki/Harald_Handfaste&gt;&quot;</td><td>null</td></tr><tr><td>&quot;&lt;id_dm7MCS5sj9_nXy_dm7MCS5sj9&gt;&quot;</td><td>&quot;&lt;Harald_the_Stalwart&gt;&quot;</td><td>&quot;&lt;linksTo&gt;&quot;</td><td>&quot;&lt;Harald_the_Stalwart&gt;&quot;</td><td>null</td></tr></tbody></table></div>"
      ],
      "text/plain": [
       "shape: (264_140_199, 5)\n",
       "┌─────────────────────┬─────────────────────┬────────────────────┬────────────────────┬────────────┐\n",
       "│ id                  ┆ subject             ┆ predicate          ┆ cat_object         ┆ num_object │\n",
       "│ ---                 ┆ ---                 ┆ ---                ┆ ---                ┆ ---        │\n",
       "│ str                 ┆ str                 ┆ str                ┆ str                ┆ f64        │\n",
       "╞═════════════════════╪═════════════════════╪════════════════════╪════════════════════╪════════════╡\n",
       "│ <id_Pckn5Ogrhc_uvg_ ┆ <yagoTheme_wikipedi ┆ <hasGloss>         ┆ This file is part  ┆ null       │\n",
       "│ SL2m2k4bzQ>         ┆ aInfoNeedsTypeCheck ┆                    ┆ of the ontology    ┆            │\n",
       "│                     ┆ AndRedirection_en>  ┆                    ┆ YAGO3. It is       ┆            │\n",
       "│                     ┆                     ┆                    ┆ licensed under a   ┆            │\n",
       "│                     ┆                     ┆                    ┆ Creative-Commons   ┆            │\n",
       "│                     ┆                     ┆                    ┆ Attribution        ┆            │\n",
       "│                     ┆                     ┆                    ┆ License by the     ┆            │\n",
       "│                     ┆                     ┆                    ┆ YAGO team at the   ┆            │\n",
       "│                     ┆                     ┆                    ┆ Max Planck         ┆            │\n",
       "│                     ┆                     ┆                    ┆ Institute for …    ┆            │\n",
       "│ <id_cXcm1UedET_MA?_ ┆ <Computer_accessibi ┆ <hasWikipediaArtic ┆ 111^^xsd:integer   ┆ 111.0      │\n",
       "│ ak0uf7DSN7>         ┆ lity>               ┆ leLength>          ┆                    ┆            │\n",
       "│ <id_cXcm1UedET_g7M_ ┆ <Computer_accessibi ┆ <hasWikipediaUrl>  ┆ <http://en.wikiped ┆ null       │\n",
       "│ lyJGiL5KQX>         ┆ lity>               ┆                    ┆ ia.org/wiki/Access ┆            │\n",
       "│                     ┆                     ┆                    ┆ ibleComputing>     ┆            │\n",
       "│ <id_cXcm1UedET_nXy_ ┆ <Computer_accessibi ┆ <linksTo>          ┆ <Computer_accessib ┆ null       │\n",
       "│ cXcm1UedET>         ┆ lity>               ┆                    ┆ ility>             ┆            │\n",
       "│ <id_IWu8EA1FIk_MA?_ ┆ <Anarchism>         ┆ <hasWikipediaArtic ┆ 107710^^xsd:intege ┆ 107710.0   │\n",
       "│ ZgEMnxL6pn>         ┆                     ┆ leLength>          ┆ r                  ┆            │\n",
       "│ …                   ┆ …                   ┆ …                  ┆ …                  ┆ …          │\n",
       "│ <id_dm7MCS5sj9_nXy_ ┆ <Harald_the_Stalwar ┆ <linksTo>          ┆ <Category:Swedish_ ┆ null       │\n",
       "│ eKuFVa96rz>         ┆ t>                  ┆                    ┆ adventure_films>   ┆            │\n",
       "│ <id_dm7MCS5sj9_nXy_ ┆ <Harald_the_Stalwar ┆ <linksTo>          ┆ <Category:Films_sh ┆ null       │\n",
       "│ ANsizaj?P8>         ┆ t>                  ┆                    ┆ ot_in_Helsinki>    ┆            │\n",
       "│ <id_dm7MCS5sj9_MA?_ ┆ <Harald_the_Stalwar ┆ <hasWikipediaArtic ┆ 33^^xsd:integer    ┆ 33.0       │\n",
       "│ HbT0uT80V5>         ┆ t>                  ┆ leLength>          ┆                    ┆            │\n",
       "│ <id_dm7MCS5sj9_g7M_ ┆ <Harald_the_Stalwar ┆ <hasWikipediaUrl>  ┆ <http://en.wikiped ┆ null       │\n",
       "│ MhiOkFv8It>         ┆ t>                  ┆                    ┆ ia.org/wiki/Harald ┆            │\n",
       "│                     ┆                     ┆                    ┆ _Handfaste>        ┆            │\n",
       "│ <id_dm7MCS5sj9_nXy_ ┆ <Harald_the_Stalwar ┆ <linksTo>          ┆ <Harald_the_Stalwa ┆ null       │\n",
       "│ dm7MCS5sj9>         ┆ t>                  ┆                    ┆ rt>                ┆            │\n",
       "└─────────────────────┴─────────────────────┴────────────────────┴────────────────────┴────────────┘"
      ]
     },
     "metadata": {},
     "output_type": "display_data"
    },
    {
     "name": "stdout",
     "output_type": "stream",
     "text": [
      "wikipediaInfoNeedsTypeCheck_fr.tsv\n"
     ]
    },
    {
     "data": {
      "text/html": [
       "<div><style>\n",
       ".dataframe > thead > tr,\n",
       ".dataframe > tbody > tr {\n",
       "  text-align: right;\n",
       "  white-space: pre-wrap;\n",
       "}\n",
       "</style>\n",
       "<small>shape: (104_262_543, 5)</small><table border=\"1\" class=\"dataframe\"><thead><tr><th>id</th><th>subject</th><th>predicate</th><th>cat_object</th><th>num_object</th></tr><tr><td>str</td><td>str</td><td>str</td><td>str</td><td>f64</td></tr></thead><tbody><tr><td>null</td><td>&quot;&lt;yagoTheme_wikipediaInfoNeedsTypeCheckAndTranslation_fr&gt;&quot;</td><td>&quot;&lt;hasGloss&gt;&quot;</td><td>&quot;This file is part of the ontology YAGO3. It is licensed under a Creative-Commons Attribution License by the YAGO team at the Max Planck Institute for…</td><td>null</td></tr><tr><td>&quot;&lt;id_w!vOD5BeNZ_uvg_SL2m2k4bzQ&gt;&quot;</td><td>&quot;&lt;yagoTheme_wikipediaInfoNeedsTypeCheckAndTranslationAndRedirection_fr&gt;&quot;</td><td>&quot;&lt;hasGloss&gt;&quot;</td><td>&quot;This file is part of the ontology YAGO3. It is licensed under a Creative-Commons Attribution License by the YAGO team at the Max Planck Institute for…</td><td>null</td></tr><tr><td>&quot;&lt;id_PSA3W26OQ1_MA?_wuOiHWNP6s&gt;&quot;</td><td>&quot;&lt;Antoine_Meillet&gt;&quot;</td><td>&quot;&lt;hasWikipediaArticleLength&gt;&quot;</td><td>&quot;12896^^xsd:integer&quot;</td><td>12896.0</td></tr><tr><td>&quot;&lt;id_PSA3W26OQ1_g7M_XCuVlbN3aF&gt;&quot;</td><td>&quot;&lt;Antoine_Meillet&gt;&quot;</td><td>&quot;&lt;hasWikipediaUrl&gt;&quot;</td><td>&quot;&lt;http://fr.wikipedia.org/wiki/Antoine_Meillet&gt;&quot;</td><td>null</td></tr><tr><td>&quot;&lt;id_PSA3W26OQ1_nXy_UfZKKaxTaw&gt;&quot;</td><td>&quot;&lt;Antoine_Meillet&gt;&quot;</td><td>&quot;&lt;linksTo&gt;&quot;</td><td>&quot;&lt;Cher_(department)&gt;&quot;</td><td>null</td></tr><tr><td>&quot;&lt;id_PSA3W26OQ1_nXy_PzsrCJhrjS&gt;&quot;</td><td>&quot;&lt;Antoine_Meillet&gt;&quot;</td><td>&quot;&lt;linksTo&gt;&quot;</td><td>&quot;&lt;fr/arménien&gt;&quot;</td><td>null</td></tr><tr><td>&quot;&lt;id_PSA3W26OQ1_nXy_r?psA2fSMw&gt;&quot;</td><td>&quot;&lt;Antoine_Meillet&gt;&quot;</td><td>&quot;&lt;linksTo&gt;&quot;</td><td>&quot;&lt;Michel_Bréal&gt;&quot;</td><td>null</td></tr><tr><td>&quot;&lt;id_PSA3W26OQ1_nXy_OC3oVMt00d&gt;&quot;</td><td>&quot;&lt;Antoine_Meillet&gt;&quot;</td><td>&quot;&lt;linksTo&gt;&quot;</td><td>&quot;&lt;1924&gt;&quot;</td><td>null</td></tr><tr><td>&quot;&lt;id_PSA3W26OQ1_nXy_COY261WjKq&gt;&quot;</td><td>&quot;&lt;Antoine_Meillet&gt;&quot;</td><td>&quot;&lt;linksTo&gt;&quot;</td><td>&quot;&lt;fr/langues_persanes&gt;&quot;</td><td>null</td></tr><tr><td>&quot;&lt;id_PSA3W26OQ1_nXy_EcNXaSJyLV&gt;&quot;</td><td>&quot;&lt;Antoine_Meillet&gt;&quot;</td><td>&quot;&lt;linksTo&gt;&quot;</td><td>&quot;&lt;Marcel_Cohen&gt;&quot;</td><td>null</td></tr><tr><td>&quot;&lt;id_PSA3W26OQ1_nXy_CcP5XIDMI0&gt;&quot;</td><td>&quot;&lt;Antoine_Meillet&gt;&quot;</td><td>&quot;&lt;linksTo&gt;&quot;</td><td>&quot;&lt;fr/Catégorie:Linguiste_français&gt;&quot;</td><td>null</td></tr><tr><td>&quot;&lt;id_PSA3W26OQ1_nXy_9A?qNioaZz&gt;&quot;</td><td>&quot;&lt;Antoine_Meillet&gt;&quot;</td><td>&quot;&lt;linksTo&gt;&quot;</td><td>&quot;&lt;fr/chaire_d&#x27;arménien_de_l&#x27;École_des_langues_orientales&gt;&quot;</td><td>null</td></tr><tr><td>&hellip;</td><td>&hellip;</td><td>&hellip;</td><td>&hellip;</td><td>&hellip;</td></tr><tr><td>&quot;&lt;id_MusY!GD7dx_MA?_HtRwuTc2F6&gt;&quot;</td><td>&quot;&lt;fr/Debout_les_jeunes&gt;&quot;</td><td>&quot;&lt;hasWikipediaArticleLength&gt;&quot;</td><td>&quot;47^^xsd:integer&quot;</td><td>47.0</td></tr><tr><td>&quot;&lt;id_MusY!GD7dx_g7M_m4kUGY!dLp&gt;&quot;</td><td>&quot;&lt;fr/Debout_les_jeunes&gt;&quot;</td><td>&quot;&lt;hasWikipediaUrl&gt;&quot;</td><td>&quot;&lt;http://fr.wikipedia.org/wiki/Debout_les_jeunes&gt;&quot;</td><td>null</td></tr><tr><td>&quot;&lt;id_MusY!GD7dx_nXy_3wbIBWu20M&gt;&quot;</td><td>&quot;&lt;fr/Debout_les_jeunes&gt;&quot;</td><td>&quot;&lt;linksTo&gt;&quot;</td><td>&quot;&lt;fr/Debout_la_France#Debout_les_jeunes&gt;&quot;</td><td>null</td></tr><tr><td>&quot;&lt;id_tir8BJgp9V_MA?_HbS0uT80tV&gt;&quot;</td><td>&quot;&lt;fr/Constant_Ndima_Kongba&gt;&quot;</td><td>&quot;&lt;hasWikipediaArticleLength&gt;&quot;</td><td>&quot;37^^xsd:integer&quot;</td><td>37.0</td></tr><tr><td>&quot;&lt;id_tir8BJgp9V_g7M_cY5zViIVQx&gt;&quot;</td><td>&quot;&lt;fr/Constant_Ndima_Kongba&gt;&quot;</td><td>&quot;&lt;hasWikipediaUrl&gt;&quot;</td><td>&quot;&lt;http://fr.wikipedia.org/wiki/Constant_Ndima_Kongba&gt;&quot;</td><td>null</td></tr><tr><td>&quot;&lt;id_tir8BJgp9V_nXy_1n5!3ShiPM&gt;&quot;</td><td>&quot;&lt;fr/Constant_Ndima_Kongba&gt;&quot;</td><td>&quot;&lt;linksTo&gt;&quot;</td><td>&quot;&lt;fr/Constant_Ndima_Kogba&gt;&quot;</td><td>null</td></tr><tr><td>&quot;&lt;id_B6jCJvale6_MA?_HbUwuT81xT&gt;&quot;</td><td>&quot;&lt;fr/Regi_Andrej_Tarkowski&gt;&quot;</td><td>&quot;&lt;hasWikipediaArticleLength&gt;&quot;</td><td>&quot;39^^xsd:integer&quot;</td><td>39.0</td></tr><tr><td>&quot;&lt;id_B6jCJvale6_g7M_WQF9Pel0RO&gt;&quot;</td><td>&quot;&lt;fr/Regi_Andrej_Tarkowski&gt;&quot;</td><td>&quot;&lt;hasWikipediaUrl&gt;&quot;</td><td>&quot;&lt;http://fr.wikipedia.org/wiki/Regi_Andrej_Tarkowski&gt;&quot;</td><td>null</td></tr><tr><td>&quot;&lt;id_B6jCJvale6_nXy_2dNS3SYixu&gt;&quot;</td><td>&quot;&lt;fr/Regi_Andrej_Tarkowski&gt;&quot;</td><td>&quot;&lt;linksTo&gt;&quot;</td><td>&quot;&lt;fr/Regi_Andrej_Tarkovskij&gt;&quot;</td><td>null</td></tr><tr><td>&quot;&lt;id_pklM9nZ98h_MA?_HbSguT80AI&gt;&quot;</td><td>&quot;&lt;Tadese_Takele&gt;&quot;</td><td>&quot;&lt;hasWikipediaArticleLength&gt;&quot;</td><td>&quot;30^^xsd:integer&quot;</td><td>30.0</td></tr><tr><td>&quot;&lt;id_pklM9nZ98h_g7M_NxZEXJOTuV&gt;&quot;</td><td>&quot;&lt;Tadese_Takele&gt;&quot;</td><td>&quot;&lt;hasWikipediaUrl&gt;&quot;</td><td>&quot;&lt;http://fr.wikipedia.org/wiki/Bikila_Tadese_Takele&gt;&quot;</td><td>null</td></tr><tr><td>&quot;&lt;id_pklM9nZ98h_nXy_Q1sLU7Y4mL&gt;&quot;</td><td>&quot;&lt;Tadese_Takele&gt;&quot;</td><td>&quot;&lt;linksTo&gt;&quot;</td><td>&quot;&lt;fr/Tadese_Takele&gt;&quot;</td><td>null</td></tr></tbody></table></div>"
      ],
      "text/plain": [
       "shape: (104_262_543, 5)\n",
       "┌─────────────────────┬─────────────────────┬────────────────────┬────────────────────┬────────────┐\n",
       "│ id                  ┆ subject             ┆ predicate          ┆ cat_object         ┆ num_object │\n",
       "│ ---                 ┆ ---                 ┆ ---                ┆ ---                ┆ ---        │\n",
       "│ str                 ┆ str                 ┆ str                ┆ str                ┆ f64        │\n",
       "╞═════════════════════╪═════════════════════╪════════════════════╪════════════════════╪════════════╡\n",
       "│ null                ┆ <yagoTheme_wikipedi ┆ <hasGloss>         ┆ This file is part  ┆ null       │\n",
       "│                     ┆ aInfoNeedsTypeCheck ┆                    ┆ of the ontology    ┆            │\n",
       "│                     ┆ AndTranslation_fr>  ┆                    ┆ YAGO3. It is       ┆            │\n",
       "│                     ┆                     ┆                    ┆ licensed under a   ┆            │\n",
       "│                     ┆                     ┆                    ┆ Creative-Commons   ┆            │\n",
       "│                     ┆                     ┆                    ┆ Attribution        ┆            │\n",
       "│                     ┆                     ┆                    ┆ License by the     ┆            │\n",
       "│                     ┆                     ┆                    ┆ YAGO team at the   ┆            │\n",
       "│                     ┆                     ┆                    ┆ Max Planck         ┆            │\n",
       "│                     ┆                     ┆                    ┆ Institute for …    ┆            │\n",
       "│ <id_w!vOD5BeNZ_uvg_ ┆ <yagoTheme_wikipedi ┆ <hasGloss>         ┆ This file is part  ┆ null       │\n",
       "│ SL2m2k4bzQ>         ┆ aInfoNeedsTypeCheck ┆                    ┆ of the ontology    ┆            │\n",
       "│                     ┆ AndTranslationAndRe ┆                    ┆ YAGO3. It is       ┆            │\n",
       "│                     ┆ direction_fr>       ┆                    ┆ licensed under a   ┆            │\n",
       "│                     ┆                     ┆                    ┆ Creative-Commons   ┆            │\n",
       "│                     ┆                     ┆                    ┆ Attribution        ┆            │\n",
       "│                     ┆                     ┆                    ┆ License by the     ┆            │\n",
       "│                     ┆                     ┆                    ┆ YAGO team at the   ┆            │\n",
       "│                     ┆                     ┆                    ┆ Max Planck         ┆            │\n",
       "│                     ┆                     ┆                    ┆ Institute for …    ┆            │\n",
       "│ <id_PSA3W26OQ1_MA?_ ┆ <Antoine_Meillet>   ┆ <hasWikipediaArtic ┆ 12896^^xsd:integer ┆ 12896.0    │\n",
       "│ wuOiHWNP6s>         ┆                     ┆ leLength>          ┆                    ┆            │\n",
       "│ <id_PSA3W26OQ1_g7M_ ┆ <Antoine_Meillet>   ┆ <hasWikipediaUrl>  ┆ <http://fr.wikiped ┆ null       │\n",
       "│ XCuVlbN3aF>         ┆                     ┆                    ┆ ia.org/wiki/Antoin ┆            │\n",
       "│                     ┆                     ┆                    ┆ e_Meillet>         ┆            │\n",
       "│ <id_PSA3W26OQ1_nXy_ ┆ <Antoine_Meillet>   ┆ <linksTo>          ┆ <Cher_(department) ┆ null       │\n",
       "│ UfZKKaxTaw>         ┆                     ┆                    ┆ >                  ┆            │\n",
       "│ …                   ┆ …                   ┆ …                  ┆ …                  ┆ …          │\n",
       "│ <id_B6jCJvale6_g7M_ ┆ <fr/Regi_Andrej_Tar ┆ <hasWikipediaUrl>  ┆ <http://fr.wikiped ┆ null       │\n",
       "│ WQF9Pel0RO>         ┆ kowski>             ┆                    ┆ ia.org/wiki/Regi_A ┆            │\n",
       "│                     ┆                     ┆                    ┆ ndrej_Tarkowski>   ┆            │\n",
       "│ <id_B6jCJvale6_nXy_ ┆ <fr/Regi_Andrej_Tar ┆ <linksTo>          ┆ <fr/Regi_Andrej_Ta ┆ null       │\n",
       "│ 2dNS3SYixu>         ┆ kowski>             ┆                    ┆ rkovskij>          ┆            │\n",
       "│ <id_pklM9nZ98h_MA?_ ┆ <Tadese_Takele>     ┆ <hasWikipediaArtic ┆ 30^^xsd:integer    ┆ 30.0       │\n",
       "│ HbSguT80AI>         ┆                     ┆ leLength>          ┆                    ┆            │\n",
       "│ <id_pklM9nZ98h_g7M_ ┆ <Tadese_Takele>     ┆ <hasWikipediaUrl>  ┆ <http://fr.wikiped ┆ null       │\n",
       "│ NxZEXJOTuV>         ┆                     ┆                    ┆ ia.org/wiki/Bikila ┆            │\n",
       "│                     ┆                     ┆                    ┆ _Tadese_Takele>    ┆            │\n",
       "│ <id_pklM9nZ98h_nXy_ ┆ <Tadese_Takele>     ┆ <linksTo>          ┆ <fr/Tadese_Takele> ┆ null       │\n",
       "│ Q1sLU7Y4mL>         ┆                     ┆                    ┆                    ┆            │\n",
       "└─────────────────────┴─────────────────────┴────────────────────┴────────────────────┴────────────┘"
      ]
     },
     "metadata": {},
     "output_type": "display_data"
    },
    {
     "name": "stdout",
     "output_type": "stream",
     "text": [
      "wikipediaInfoNeedsTypeCheckAndRedirection_en.tsv\n"
     ]
    },
    {
     "data": {
      "text/html": [
       "<div><style>\n",
       ".dataframe > thead > tr,\n",
       ".dataframe > tbody > tr {\n",
       "  text-align: right;\n",
       "  white-space: pre-wrap;\n",
       "}\n",
       "</style>\n",
       "<small>shape: (264_140_198, 5)</small><table border=\"1\" class=\"dataframe\"><thead><tr><th>id</th><th>subject</th><th>predicate</th><th>cat_object</th><th>num_object</th></tr><tr><td>str</td><td>str</td><td>str</td><td>str</td><td>f64</td></tr></thead><tbody><tr><td>null</td><td>&quot;&lt;AccessibleComputing&gt;&quot;</td><td>&quot;&lt;hasWikipediaArticleLength&gt;&quot;</td><td>&quot;111^^xsd:integer&quot;</td><td>111.0</td></tr><tr><td>null</td><td>&quot;&lt;AccessibleComputing&gt;&quot;</td><td>&quot;&lt;hasWikipediaUrl&gt;&quot;</td><td>&quot;&lt;http://en.wikipedia.org/wiki/AccessibleComputing&gt;&quot;</td><td>null</td></tr><tr><td>null</td><td>&quot;&lt;AccessibleComputing&gt;&quot;</td><td>&quot;&lt;linksTo&gt;&quot;</td><td>&quot;&lt;Computer_accessibility&gt;&quot;</td><td>null</td></tr><tr><td>null</td><td>&quot;&lt;Anarchism&gt;&quot;</td><td>&quot;&lt;hasWikipediaArticleLength&gt;&quot;</td><td>&quot;107710^^xsd:integer&quot;</td><td>107710.0</td></tr><tr><td>null</td><td>&quot;&lt;Anarchism&gt;&quot;</td><td>&quot;&lt;hasWikipediaUrl&gt;&quot;</td><td>&quot;&lt;http://en.wikipedia.org/wiki/Anarchism&gt;&quot;</td><td>null</td></tr><tr><td>null</td><td>&quot;&lt;Anarchism&gt;&quot;</td><td>&quot;&lt;linksTo&gt;&quot;</td><td>&quot;&lt;Noam_Chomsky&gt;&quot;</td><td>null</td></tr><tr><td>null</td><td>&quot;&lt;Anarchism&gt;&quot;</td><td>&quot;&lt;linksTo&gt;&quot;</td><td>&quot;&lt;carnivalesque&gt;&quot;</td><td>null</td></tr><tr><td>null</td><td>&quot;&lt;Anarchism&gt;&quot;</td><td>&quot;&lt;linksTo&gt;&quot;</td><td>&quot;&lt;:Category:Anarchism_by_country&gt;&quot;</td><td>null</td></tr><tr><td>null</td><td>&quot;&lt;Anarchism&gt;&quot;</td><td>&quot;&lt;linksTo&gt;&quot;</td><td>&quot;&lt;World_Economic_Forum&gt;&quot;</td><td>null</td></tr><tr><td>null</td><td>&quot;&lt;Anarchism&gt;&quot;</td><td>&quot;&lt;linksTo&gt;&quot;</td><td>&quot;&lt;Cynicism_(philosophy)&gt;&quot;</td><td>null</td></tr><tr><td>null</td><td>&quot;&lt;Anarchism&gt;&quot;</td><td>&quot;&lt;linksTo&gt;&quot;</td><td>&quot;&lt;Karl_Marx&gt;&quot;</td><td>null</td></tr><tr><td>null</td><td>&quot;&lt;Anarchism&gt;&quot;</td><td>&quot;&lt;linksTo&gt;&quot;</td><td>&quot;&lt;Kavad_I&gt;&quot;</td><td>null</td></tr><tr><td>&hellip;</td><td>&hellip;</td><td>&hellip;</td><td>&hellip;</td><td>&hellip;</td></tr><tr><td>null</td><td>&quot;&lt;Harald_the_Stalwart&gt;&quot;</td><td>&quot;&lt;linksTo&gt;&quot;</td><td>&quot;&lt;highwaymen&gt;&quot;</td><td>null</td></tr><tr><td>null</td><td>&quot;&lt;Harald_the_Stalwart&gt;&quot;</td><td>&quot;&lt;linksTo&gt;&quot;</td><td>&quot;&lt;location_shooting&gt;&quot;</td><td>null</td></tr><tr><td>null</td><td>&quot;&lt;Harald_the_Stalwart&gt;&quot;</td><td>&quot;&lt;linksTo&gt;&quot;</td><td>&quot;&lt;Gunn_Wållgren&gt;&quot;</td><td>null</td></tr><tr><td>null</td><td>&quot;&lt;Harald_the_Stalwart&gt;&quot;</td><td>&quot;&lt;linksTo&gt;&quot;</td><td>&quot;&lt;sv:Harald_Handfaste&gt;&quot;</td><td>null</td></tr><tr><td>null</td><td>&quot;&lt;Harald_the_Stalwart&gt;&quot;</td><td>&quot;&lt;linksTo&gt;&quot;</td><td>&quot;&lt;Bertil_Duroj&gt;&quot;</td><td>null</td></tr><tr><td>null</td><td>&quot;&lt;Harald_the_Stalwart&gt;&quot;</td><td>&quot;&lt;linksTo&gt;&quot;</td><td>&quot;&lt;fifteenth_century&gt;&quot;</td><td>null</td></tr><tr><td>null</td><td>&quot;&lt;Harald_the_Stalwart&gt;&quot;</td><td>&quot;&lt;linksTo&gt;&quot;</td><td>&quot;&lt;Ivar_Wahlgren&gt;&quot;</td><td>null</td></tr><tr><td>null</td><td>&quot;&lt;Harald_the_Stalwart&gt;&quot;</td><td>&quot;&lt;linksTo&gt;&quot;</td><td>&quot;&lt;Category:Swedish_adventure_films&gt;&quot;</td><td>null</td></tr><tr><td>null</td><td>&quot;&lt;Harald_the_Stalwart&gt;&quot;</td><td>&quot;&lt;linksTo&gt;&quot;</td><td>&quot;&lt;Category:Films_shot_in_Helsinki&gt;&quot;</td><td>null</td></tr><tr><td>null</td><td>&quot;&lt;Harald_Handfaste&gt;&quot;</td><td>&quot;&lt;hasWikipediaArticleLength&gt;&quot;</td><td>&quot;33^^xsd:integer&quot;</td><td>33.0</td></tr><tr><td>null</td><td>&quot;&lt;Harald_Handfaste&gt;&quot;</td><td>&quot;&lt;hasWikipediaUrl&gt;&quot;</td><td>&quot;&lt;http://en.wikipedia.org/wiki/Harald_Handfaste&gt;&quot;</td><td>null</td></tr><tr><td>null</td><td>&quot;&lt;Harald_Handfaste&gt;&quot;</td><td>&quot;&lt;linksTo&gt;&quot;</td><td>&quot;&lt;Harald_the_Stalwart&gt;&quot;</td><td>null</td></tr></tbody></table></div>"
      ],
      "text/plain": [
       "shape: (264_140_198, 5)\n",
       "┌──────┬───────────────────────┬───────────────────────────┬──────────────────────────┬────────────┐\n",
       "│ id   ┆ subject               ┆ predicate                 ┆ cat_object               ┆ num_object │\n",
       "│ ---  ┆ ---                   ┆ ---                       ┆ ---                      ┆ ---        │\n",
       "│ str  ┆ str                   ┆ str                       ┆ str                      ┆ f64        │\n",
       "╞══════╪═══════════════════════╪═══════════════════════════╪══════════════════════════╪════════════╡\n",
       "│ null ┆ <AccessibleComputing> ┆ <hasWikipediaArticleLengt ┆ 111^^xsd:integer         ┆ 111.0      │\n",
       "│      ┆                       ┆ h>                        ┆                          ┆            │\n",
       "│ null ┆ <AccessibleComputing> ┆ <hasWikipediaUrl>         ┆ <http://en.wikipedia.org ┆ null       │\n",
       "│      ┆                       ┆                           ┆ /wiki/AccessibleComputin ┆            │\n",
       "│      ┆                       ┆                           ┆ g>                       ┆            │\n",
       "│ null ┆ <AccessibleComputing> ┆ <linksTo>                 ┆ <Computer_accessibility> ┆ null       │\n",
       "│ null ┆ <Anarchism>           ┆ <hasWikipediaArticleLengt ┆ 107710^^xsd:integer      ┆ 107710.0   │\n",
       "│      ┆                       ┆ h>                        ┆                          ┆            │\n",
       "│ null ┆ <Anarchism>           ┆ <hasWikipediaUrl>         ┆ <http://en.wikipedia.org ┆ null       │\n",
       "│      ┆                       ┆                           ┆ /wiki/Anarchism>         ┆            │\n",
       "│ …    ┆ …                     ┆ …                         ┆ …                        ┆ …          │\n",
       "│ null ┆ <Harald_the_Stalwart> ┆ <linksTo>                 ┆ <Category:Swedish_advent ┆ null       │\n",
       "│      ┆                       ┆                           ┆ ure_films>               ┆            │\n",
       "│ null ┆ <Harald_the_Stalwart> ┆ <linksTo>                 ┆ <Category:Films_shot_in_ ┆ null       │\n",
       "│      ┆                       ┆                           ┆ Helsinki>                ┆            │\n",
       "│ null ┆ <Harald_Handfaste>    ┆ <hasWikipediaArticleLengt ┆ 33^^xsd:integer          ┆ 33.0       │\n",
       "│      ┆                       ┆ h>                        ┆                          ┆            │\n",
       "│ null ┆ <Harald_Handfaste>    ┆ <hasWikipediaUrl>         ┆ <http://en.wikipedia.org ┆ null       │\n",
       "│      ┆                       ┆                           ┆ /wiki/Harald_Handfaste>  ┆            │\n",
       "│ null ┆ <Harald_Handfaste>    ┆ <linksTo>                 ┆ <Harald_the_Stalwart>    ┆ null       │\n",
       "└──────┴───────────────────────┴───────────────────────────┴──────────────────────────┴────────────┘"
      ]
     },
     "metadata": {},
     "output_type": "display_data"
    },
    {
     "name": "stdout",
     "output_type": "stream",
     "text": [
      "wikipediaInfoNeedsTypeCheckAndTranslation_fr.tsv\n"
     ]
    },
    {
     "data": {
      "text/html": [
       "<div><style>\n",
       ".dataframe > thead > tr,\n",
       ".dataframe > tbody > tr {\n",
       "  text-align: right;\n",
       "  white-space: pre-wrap;\n",
       "}\n",
       "</style>\n",
       "<small>shape: (104_262_542, 5)</small><table border=\"1\" class=\"dataframe\"><thead><tr><th>id</th><th>subject</th><th>predicate</th><th>cat_object</th><th>num_object</th></tr><tr><td>str</td><td>str</td><td>str</td><td>str</td><td>f64</td></tr></thead><tbody><tr><td>&quot;&lt;id_w!vOD5BeNZ_uvg_SL2m2k4bzQ&gt;&quot;</td><td>&quot;&lt;yagoTheme_wikipediaInfoNeedsTypeCheckAndTranslationAndRedirection_fr&gt;&quot;</td><td>&quot;&lt;hasGloss&gt;&quot;</td><td>&quot;This file is part of the ontology YAGO3. It is licensed under a Creative-Commons Attribution License by the YAGO team at the Max Planck Institute for…</td><td>null</td></tr><tr><td>&quot;&lt;id_PSA3W26OQ1_MA?_wuOiHWNP6s&gt;&quot;</td><td>&quot;&lt;fr/Antoine_Meillet&gt;&quot;</td><td>&quot;&lt;hasWikipediaArticleLength&gt;&quot;</td><td>&quot;12896^^xsd:integer&quot;</td><td>12896.0</td></tr><tr><td>&quot;&lt;id_PSA3W26OQ1_g7M_XCuVlbN3aF&gt;&quot;</td><td>&quot;&lt;fr/Antoine_Meillet&gt;&quot;</td><td>&quot;&lt;hasWikipediaUrl&gt;&quot;</td><td>&quot;&lt;http://fr.wikipedia.org/wiki/Antoine_Meillet&gt;&quot;</td><td>null</td></tr><tr><td>&quot;&lt;id_PSA3W26OQ1_nXy_UfZKKaxTaw&gt;&quot;</td><td>&quot;&lt;fr/Antoine_Meillet&gt;&quot;</td><td>&quot;&lt;linksTo&gt;&quot;</td><td>&quot;&lt;fr/Cher_(département)&gt;&quot;</td><td>null</td></tr><tr><td>&quot;&lt;id_PSA3W26OQ1_nXy_PzsrCJhrjS&gt;&quot;</td><td>&quot;&lt;fr/Antoine_Meillet&gt;&quot;</td><td>&quot;&lt;linksTo&gt;&quot;</td><td>&quot;&lt;fr/arménien&gt;&quot;</td><td>null</td></tr><tr><td>&quot;&lt;id_PSA3W26OQ1_nXy_r?psA2fSMw&gt;&quot;</td><td>&quot;&lt;fr/Antoine_Meillet&gt;&quot;</td><td>&quot;&lt;linksTo&gt;&quot;</td><td>&quot;&lt;fr/Michel_Bréal&gt;&quot;</td><td>null</td></tr><tr><td>&quot;&lt;id_PSA3W26OQ1_nXy_OC3oVMt00d&gt;&quot;</td><td>&quot;&lt;fr/Antoine_Meillet&gt;&quot;</td><td>&quot;&lt;linksTo&gt;&quot;</td><td>&quot;&lt;fr/1924&gt;&quot;</td><td>null</td></tr><tr><td>&quot;&lt;id_PSA3W26OQ1_nXy_COY261WjKq&gt;&quot;</td><td>&quot;&lt;fr/Antoine_Meillet&gt;&quot;</td><td>&quot;&lt;linksTo&gt;&quot;</td><td>&quot;&lt;fr/langues_persanes&gt;&quot;</td><td>null</td></tr><tr><td>&quot;&lt;id_PSA3W26OQ1_nXy_EcNXaSJyLV&gt;&quot;</td><td>&quot;&lt;fr/Antoine_Meillet&gt;&quot;</td><td>&quot;&lt;linksTo&gt;&quot;</td><td>&quot;&lt;fr/Marcel_Cohen&gt;&quot;</td><td>null</td></tr><tr><td>&quot;&lt;id_PSA3W26OQ1_nXy_CcP5XIDMI0&gt;&quot;</td><td>&quot;&lt;fr/Antoine_Meillet&gt;&quot;</td><td>&quot;&lt;linksTo&gt;&quot;</td><td>&quot;&lt;fr/Catégorie:Linguiste_français&gt;&quot;</td><td>null</td></tr><tr><td>&quot;&lt;id_PSA3W26OQ1_nXy_9A?qNioaZz&gt;&quot;</td><td>&quot;&lt;fr/Antoine_Meillet&gt;&quot;</td><td>&quot;&lt;linksTo&gt;&quot;</td><td>&quot;&lt;fr/chaire_d&#x27;arménien_de_l&#x27;École_des_langues_orientales&gt;&quot;</td><td>null</td></tr><tr><td>&quot;&lt;id_PSA3W26OQ1_nXy_ONFUVMvMR0&gt;&quot;</td><td>&quot;&lt;fr/Antoine_Meillet&gt;&quot;</td><td>&quot;&lt;linksTo&gt;&quot;</td><td>&quot;&lt;fr/1912&gt;&quot;</td><td>null</td></tr><tr><td>&hellip;</td><td>&hellip;</td><td>&hellip;</td><td>&hellip;</td><td>&hellip;</td></tr><tr><td>&quot;&lt;id_MusY!GD7dx_MA?_HtRwuTc2F6&gt;&quot;</td><td>&quot;&lt;fr/Debout_les_jeunes&gt;&quot;</td><td>&quot;&lt;hasWikipediaArticleLength&gt;&quot;</td><td>&quot;47^^xsd:integer&quot;</td><td>47.0</td></tr><tr><td>&quot;&lt;id_MusY!GD7dx_g7M_m4kUGY!dLp&gt;&quot;</td><td>&quot;&lt;fr/Debout_les_jeunes&gt;&quot;</td><td>&quot;&lt;hasWikipediaUrl&gt;&quot;</td><td>&quot;&lt;http://fr.wikipedia.org/wiki/Debout_les_jeunes&gt;&quot;</td><td>null</td></tr><tr><td>&quot;&lt;id_MusY!GD7dx_nXy_3wbIBWu20M&gt;&quot;</td><td>&quot;&lt;fr/Debout_les_jeunes&gt;&quot;</td><td>&quot;&lt;linksTo&gt;&quot;</td><td>&quot;&lt;fr/Debout_la_France#Debout_les_jeunes&gt;&quot;</td><td>null</td></tr><tr><td>&quot;&lt;id_tir8BJgp9V_MA?_HbS0uT80tV&gt;&quot;</td><td>&quot;&lt;fr/Constant_Ndima_Kongba&gt;&quot;</td><td>&quot;&lt;hasWikipediaArticleLength&gt;&quot;</td><td>&quot;37^^xsd:integer&quot;</td><td>37.0</td></tr><tr><td>&quot;&lt;id_tir8BJgp9V_g7M_cY5zViIVQx&gt;&quot;</td><td>&quot;&lt;fr/Constant_Ndima_Kongba&gt;&quot;</td><td>&quot;&lt;hasWikipediaUrl&gt;&quot;</td><td>&quot;&lt;http://fr.wikipedia.org/wiki/Constant_Ndima_Kongba&gt;&quot;</td><td>null</td></tr><tr><td>&quot;&lt;id_tir8BJgp9V_nXy_1n5!3ShiPM&gt;&quot;</td><td>&quot;&lt;fr/Constant_Ndima_Kongba&gt;&quot;</td><td>&quot;&lt;linksTo&gt;&quot;</td><td>&quot;&lt;fr/Constant_Ndima_Kogba&gt;&quot;</td><td>null</td></tr><tr><td>&quot;&lt;id_B6jCJvale6_MA?_HbUwuT81xT&gt;&quot;</td><td>&quot;&lt;fr/Regi_Andrej_Tarkowski&gt;&quot;</td><td>&quot;&lt;hasWikipediaArticleLength&gt;&quot;</td><td>&quot;39^^xsd:integer&quot;</td><td>39.0</td></tr><tr><td>&quot;&lt;id_B6jCJvale6_g7M_WQF9Pel0RO&gt;&quot;</td><td>&quot;&lt;fr/Regi_Andrej_Tarkowski&gt;&quot;</td><td>&quot;&lt;hasWikipediaUrl&gt;&quot;</td><td>&quot;&lt;http://fr.wikipedia.org/wiki/Regi_Andrej_Tarkowski&gt;&quot;</td><td>null</td></tr><tr><td>&quot;&lt;id_B6jCJvale6_nXy_2dNS3SYixu&gt;&quot;</td><td>&quot;&lt;fr/Regi_Andrej_Tarkowski&gt;&quot;</td><td>&quot;&lt;linksTo&gt;&quot;</td><td>&quot;&lt;fr/Regi_Andrej_Tarkovskij&gt;&quot;</td><td>null</td></tr><tr><td>&quot;&lt;id_pklM9nZ98h_MA?_HbSguT80AI&gt;&quot;</td><td>&quot;&lt;fr/Bikila_Tadese_Takele&gt;&quot;</td><td>&quot;&lt;hasWikipediaArticleLength&gt;&quot;</td><td>&quot;30^^xsd:integer&quot;</td><td>30.0</td></tr><tr><td>&quot;&lt;id_pklM9nZ98h_g7M_NxZEXJOTuV&gt;&quot;</td><td>&quot;&lt;fr/Bikila_Tadese_Takele&gt;&quot;</td><td>&quot;&lt;hasWikipediaUrl&gt;&quot;</td><td>&quot;&lt;http://fr.wikipedia.org/wiki/Bikila_Tadese_Takele&gt;&quot;</td><td>null</td></tr><tr><td>&quot;&lt;id_pklM9nZ98h_nXy_Q1sLU7Y4mL&gt;&quot;</td><td>&quot;&lt;fr/Bikila_Tadese_Takele&gt;&quot;</td><td>&quot;&lt;linksTo&gt;&quot;</td><td>&quot;&lt;fr/Tadese_Takele&gt;&quot;</td><td>null</td></tr></tbody></table></div>"
      ],
      "text/plain": [
       "shape: (104_262_542, 5)\n",
       "┌─────────────────────┬─────────────────────┬────────────────────┬────────────────────┬────────────┐\n",
       "│ id                  ┆ subject             ┆ predicate          ┆ cat_object         ┆ num_object │\n",
       "│ ---                 ┆ ---                 ┆ ---                ┆ ---                ┆ ---        │\n",
       "│ str                 ┆ str                 ┆ str                ┆ str                ┆ f64        │\n",
       "╞═════════════════════╪═════════════════════╪════════════════════╪════════════════════╪════════════╡\n",
       "│ <id_w!vOD5BeNZ_uvg_ ┆ <yagoTheme_wikipedi ┆ <hasGloss>         ┆ This file is part  ┆ null       │\n",
       "│ SL2m2k4bzQ>         ┆ aInfoNeedsTypeCheck ┆                    ┆ of the ontology    ┆            │\n",
       "│                     ┆ AndTranslationAndRe ┆                    ┆ YAGO3. It is       ┆            │\n",
       "│                     ┆ direction_fr>       ┆                    ┆ licensed under a   ┆            │\n",
       "│                     ┆                     ┆                    ┆ Creative-Commons   ┆            │\n",
       "│                     ┆                     ┆                    ┆ Attribution        ┆            │\n",
       "│                     ┆                     ┆                    ┆ License by the     ┆            │\n",
       "│                     ┆                     ┆                    ┆ YAGO team at the   ┆            │\n",
       "│                     ┆                     ┆                    ┆ Max Planck         ┆            │\n",
       "│                     ┆                     ┆                    ┆ Institute for …    ┆            │\n",
       "│ <id_PSA3W26OQ1_MA?_ ┆ <fr/Antoine_Meillet ┆ <hasWikipediaArtic ┆ 12896^^xsd:integer ┆ 12896.0    │\n",
       "│ wuOiHWNP6s>         ┆ >                   ┆ leLength>          ┆                    ┆            │\n",
       "│ <id_PSA3W26OQ1_g7M_ ┆ <fr/Antoine_Meillet ┆ <hasWikipediaUrl>  ┆ <http://fr.wikiped ┆ null       │\n",
       "│ XCuVlbN3aF>         ┆ >                   ┆                    ┆ ia.org/wiki/Antoin ┆            │\n",
       "│                     ┆                     ┆                    ┆ e_Meillet>         ┆            │\n",
       "│ <id_PSA3W26OQ1_nXy_ ┆ <fr/Antoine_Meillet ┆ <linksTo>          ┆ <fr/Cher_(départem ┆ null       │\n",
       "│ UfZKKaxTaw>         ┆ >                   ┆                    ┆ ent)>              ┆            │\n",
       "│ <id_PSA3W26OQ1_nXy_ ┆ <fr/Antoine_Meillet ┆ <linksTo>          ┆ <fr/arménien>      ┆ null       │\n",
       "│ PzsrCJhrjS>         ┆ >                   ┆                    ┆                    ┆            │\n",
       "│ …                   ┆ …                   ┆ …                  ┆ …                  ┆ …          │\n",
       "│ <id_B6jCJvale6_g7M_ ┆ <fr/Regi_Andrej_Tar ┆ <hasWikipediaUrl>  ┆ <http://fr.wikiped ┆ null       │\n",
       "│ WQF9Pel0RO>         ┆ kowski>             ┆                    ┆ ia.org/wiki/Regi_A ┆            │\n",
       "│                     ┆                     ┆                    ┆ ndrej_Tarkowski>   ┆            │\n",
       "│ <id_B6jCJvale6_nXy_ ┆ <fr/Regi_Andrej_Tar ┆ <linksTo>          ┆ <fr/Regi_Andrej_Ta ┆ null       │\n",
       "│ 2dNS3SYixu>         ┆ kowski>             ┆                    ┆ rkovskij>          ┆            │\n",
       "│ <id_pklM9nZ98h_MA?_ ┆ <fr/Bikila_Tadese_T ┆ <hasWikipediaArtic ┆ 30^^xsd:integer    ┆ 30.0       │\n",
       "│ HbSguT80AI>         ┆ akele>              ┆ leLength>          ┆                    ┆            │\n",
       "│ <id_pklM9nZ98h_g7M_ ┆ <fr/Bikila_Tadese_T ┆ <hasWikipediaUrl>  ┆ <http://fr.wikiped ┆ null       │\n",
       "│ NxZEXJOTuV>         ┆ akele>              ┆                    ┆ ia.org/wiki/Bikila ┆            │\n",
       "│                     ┆                     ┆                    ┆ _Tadese_Takele>    ┆            │\n",
       "│ <id_pklM9nZ98h_nXy_ ┆ <fr/Bikila_Tadese_T ┆ <linksTo>          ┆ <fr/Tadese_Takele> ┆ null       │\n",
       "│ Q1sLU7Y4mL>         ┆ akele>              ┆                    ┆                    ┆            │\n",
       "└─────────────────────┴─────────────────────┴────────────────────┴────────────────────┴────────────┘"
      ]
     },
     "metadata": {},
     "output_type": "display_data"
    },
    {
     "name": "stdout",
     "output_type": "stream",
     "text": [
      "wikipediaInfoNeedsTypeCheckAndTranslationAndRedirection_fr.tsv\n"
     ]
    },
    {
     "data": {
      "text/html": [
       "<div><style>\n",
       ".dataframe > thead > tr,\n",
       ".dataframe > tbody > tr {\n",
       "  text-align: right;\n",
       "  white-space: pre-wrap;\n",
       "}\n",
       "</style>\n",
       "<small>shape: (104_262_541, 5)</small><table border=\"1\" class=\"dataframe\"><thead><tr><th>id</th><th>subject</th><th>predicate</th><th>cat_object</th><th>num_object</th></tr><tr><td>str</td><td>str</td><td>str</td><td>str</td><td>f64</td></tr></thead><tbody><tr><td>null</td><td>&quot;&lt;fr/Antoine_Meillet&gt;&quot;</td><td>&quot;&lt;hasWikipediaArticleLength&gt;&quot;</td><td>&quot;12896^^xsd:integer&quot;</td><td>12896.0</td></tr><tr><td>null</td><td>&quot;&lt;fr/Antoine_Meillet&gt;&quot;</td><td>&quot;&lt;hasWikipediaUrl&gt;&quot;</td><td>&quot;&lt;http://fr.wikipedia.org/wiki/Antoine_Meillet&gt;&quot;</td><td>null</td></tr><tr><td>null</td><td>&quot;&lt;fr/Antoine_Meillet&gt;&quot;</td><td>&quot;&lt;linksTo&gt;&quot;</td><td>&quot;&lt;fr/Cher_(département)&gt;&quot;</td><td>null</td></tr><tr><td>null</td><td>&quot;&lt;fr/Antoine_Meillet&gt;&quot;</td><td>&quot;&lt;linksTo&gt;&quot;</td><td>&quot;&lt;fr/arménien&gt;&quot;</td><td>null</td></tr><tr><td>null</td><td>&quot;&lt;fr/Antoine_Meillet&gt;&quot;</td><td>&quot;&lt;linksTo&gt;&quot;</td><td>&quot;&lt;fr/Michel_Bréal&gt;&quot;</td><td>null</td></tr><tr><td>null</td><td>&quot;&lt;fr/Antoine_Meillet&gt;&quot;</td><td>&quot;&lt;linksTo&gt;&quot;</td><td>&quot;&lt;fr/1924&gt;&quot;</td><td>null</td></tr><tr><td>null</td><td>&quot;&lt;fr/Antoine_Meillet&gt;&quot;</td><td>&quot;&lt;linksTo&gt;&quot;</td><td>&quot;&lt;fr/langues_persanes&gt;&quot;</td><td>null</td></tr><tr><td>null</td><td>&quot;&lt;fr/Antoine_Meillet&gt;&quot;</td><td>&quot;&lt;linksTo&gt;&quot;</td><td>&quot;&lt;fr/Marcel_Cohen&gt;&quot;</td><td>null</td></tr><tr><td>null</td><td>&quot;&lt;fr/Antoine_Meillet&gt;&quot;</td><td>&quot;&lt;linksTo&gt;&quot;</td><td>&quot;&lt;fr/Catégorie:Linguiste_français&gt;&quot;</td><td>null</td></tr><tr><td>null</td><td>&quot;&lt;fr/Antoine_Meillet&gt;&quot;</td><td>&quot;&lt;linksTo&gt;&quot;</td><td>&quot;&lt;fr/chaire_d&#x27;arménien_de_l&#x27;École_des_langues_orientales&gt;&quot;</td><td>null</td></tr><tr><td>null</td><td>&quot;&lt;fr/Antoine_Meillet&gt;&quot;</td><td>&quot;&lt;linksTo&gt;&quot;</td><td>&quot;&lt;fr/1912&gt;&quot;</td><td>null</td></tr><tr><td>null</td><td>&quot;&lt;fr/Antoine_Meillet&gt;&quot;</td><td>&quot;&lt;linksTo&gt;&quot;</td><td>&quot;&lt;fr/Catégorie:Agrégé_de_grammaire&gt;&quot;</td><td>null</td></tr><tr><td>&hellip;</td><td>&hellip;</td><td>&hellip;</td><td>&hellip;</td><td>&hellip;</td></tr><tr><td>null</td><td>&quot;&lt;fr/Debout_les_jeunes&gt;&quot;</td><td>&quot;&lt;hasWikipediaArticleLength&gt;&quot;</td><td>&quot;47^^xsd:integer&quot;</td><td>47.0</td></tr><tr><td>null</td><td>&quot;&lt;fr/Debout_les_jeunes&gt;&quot;</td><td>&quot;&lt;hasWikipediaUrl&gt;&quot;</td><td>&quot;&lt;http://fr.wikipedia.org/wiki/Debout_les_jeunes&gt;&quot;</td><td>null</td></tr><tr><td>null</td><td>&quot;&lt;fr/Debout_les_jeunes&gt;&quot;</td><td>&quot;&lt;linksTo&gt;&quot;</td><td>&quot;&lt;fr/Debout_la_France#Debout_les_jeunes&gt;&quot;</td><td>null</td></tr><tr><td>null</td><td>&quot;&lt;fr/Constant_Ndima_Kongba&gt;&quot;</td><td>&quot;&lt;hasWikipediaArticleLength&gt;&quot;</td><td>&quot;37^^xsd:integer&quot;</td><td>37.0</td></tr><tr><td>null</td><td>&quot;&lt;fr/Constant_Ndima_Kongba&gt;&quot;</td><td>&quot;&lt;hasWikipediaUrl&gt;&quot;</td><td>&quot;&lt;http://fr.wikipedia.org/wiki/Constant_Ndima_Kongba&gt;&quot;</td><td>null</td></tr><tr><td>null</td><td>&quot;&lt;fr/Constant_Ndima_Kongba&gt;&quot;</td><td>&quot;&lt;linksTo&gt;&quot;</td><td>&quot;&lt;fr/Constant_Ndima_Kogba&gt;&quot;</td><td>null</td></tr><tr><td>null</td><td>&quot;&lt;fr/Regi_Andrej_Tarkowski&gt;&quot;</td><td>&quot;&lt;hasWikipediaArticleLength&gt;&quot;</td><td>&quot;39^^xsd:integer&quot;</td><td>39.0</td></tr><tr><td>null</td><td>&quot;&lt;fr/Regi_Andrej_Tarkowski&gt;&quot;</td><td>&quot;&lt;hasWikipediaUrl&gt;&quot;</td><td>&quot;&lt;http://fr.wikipedia.org/wiki/Regi_Andrej_Tarkowski&gt;&quot;</td><td>null</td></tr><tr><td>null</td><td>&quot;&lt;fr/Regi_Andrej_Tarkowski&gt;&quot;</td><td>&quot;&lt;linksTo&gt;&quot;</td><td>&quot;&lt;fr/Regi_Andrej_Tarkovskij&gt;&quot;</td><td>null</td></tr><tr><td>null</td><td>&quot;&lt;fr/Bikila_Tadese_Takele&gt;&quot;</td><td>&quot;&lt;hasWikipediaArticleLength&gt;&quot;</td><td>&quot;30^^xsd:integer&quot;</td><td>30.0</td></tr><tr><td>null</td><td>&quot;&lt;fr/Bikila_Tadese_Takele&gt;&quot;</td><td>&quot;&lt;hasWikipediaUrl&gt;&quot;</td><td>&quot;&lt;http://fr.wikipedia.org/wiki/Bikila_Tadese_Takele&gt;&quot;</td><td>null</td></tr><tr><td>null</td><td>&quot;&lt;fr/Bikila_Tadese_Takele&gt;&quot;</td><td>&quot;&lt;linksTo&gt;&quot;</td><td>&quot;&lt;fr/Tadese_Takele&gt;&quot;</td><td>null</td></tr></tbody></table></div>"
      ],
      "text/plain": [
       "shape: (104_262_541, 5)\n",
       "┌──────┬──────────────────────────┬─────────────────────────┬─────────────────────────┬────────────┐\n",
       "│ id   ┆ subject                  ┆ predicate               ┆ cat_object              ┆ num_object │\n",
       "│ ---  ┆ ---                      ┆ ---                     ┆ ---                     ┆ ---        │\n",
       "│ str  ┆ str                      ┆ str                     ┆ str                     ┆ f64        │\n",
       "╞══════╪══════════════════════════╪═════════════════════════╪═════════════════════════╪════════════╡\n",
       "│ null ┆ <fr/Antoine_Meillet>     ┆ <hasWikipediaArticleLen ┆ 12896^^xsd:integer      ┆ 12896.0    │\n",
       "│      ┆                          ┆ gth>                    ┆                         ┆            │\n",
       "│ null ┆ <fr/Antoine_Meillet>     ┆ <hasWikipediaUrl>       ┆ <http://fr.wikipedia.or ┆ null       │\n",
       "│      ┆                          ┆                         ┆ g/wiki/Antoine_Meillet> ┆            │\n",
       "│ null ┆ <fr/Antoine_Meillet>     ┆ <linksTo>               ┆ <fr/Cher_(département)> ┆ null       │\n",
       "│ null ┆ <fr/Antoine_Meillet>     ┆ <linksTo>               ┆ <fr/arménien>           ┆ null       │\n",
       "│ null ┆ <fr/Antoine_Meillet>     ┆ <linksTo>               ┆ <fr/Michel_Bréal>       ┆ null       │\n",
       "│ …    ┆ …                        ┆ …                       ┆ …                       ┆ …          │\n",
       "│ null ┆ <fr/Regi_Andrej_Tarkowsk ┆ <hasWikipediaUrl>       ┆ <http://fr.wikipedia.or ┆ null       │\n",
       "│      ┆ i>                       ┆                         ┆ g/wiki/Regi_Andrej_Tark ┆            │\n",
       "│      ┆                          ┆                         ┆ owski>                  ┆            │\n",
       "│ null ┆ <fr/Regi_Andrej_Tarkowsk ┆ <linksTo>               ┆ <fr/Regi_Andrej_Tarkovs ┆ null       │\n",
       "│      ┆ i>                       ┆                         ┆ kij>                    ┆            │\n",
       "│ null ┆ <fr/Bikila_Tadese_Takele ┆ <hasWikipediaArticleLen ┆ 30^^xsd:integer         ┆ 30.0       │\n",
       "│      ┆ >                        ┆ gth>                    ┆                         ┆            │\n",
       "│ null ┆ <fr/Bikila_Tadese_Takele ┆ <hasWikipediaUrl>       ┆ <http://fr.wikipedia.or ┆ null       │\n",
       "│      ┆ >                        ┆                         ┆ g/wiki/Bikila_Tadese_Ta ┆            │\n",
       "│      ┆                          ┆                         ┆ kele>                   ┆            │\n",
       "│ null ┆ <fr/Bikila_Tadese_Takele ┆ <linksTo>               ┆ <fr/Tadese_Takele>      ┆ null       │\n",
       "│      ┆ >                        ┆                         ┆                         ┆            │\n",
       "└──────┴──────────────────────────┴─────────────────────────┴─────────────────────────┴────────────┘"
      ]
     },
     "metadata": {},
     "output_type": "display_data"
    },
    {
     "name": "stdout",
     "output_type": "stream",
     "text": [
      "wikipediaLabels.tsv\n"
     ]
    },
    {
     "data": {
      "text/html": [
       "<div><style>\n",
       ".dataframe > thead > tr,\n",
       ".dataframe > tbody > tr {\n",
       "  text-align: right;\n",
       "  white-space: pre-wrap;\n",
       "}\n",
       "</style>\n",
       "<small>shape: (13_930_441, 5)</small><table border=\"1\" class=\"dataframe\"><thead><tr><th>id</th><th>subject</th><th>predicate</th><th>cat_object</th><th>num_object</th></tr><tr><td>str</td><td>str</td><td>str</td><td>str</td><td>f64</td></tr></thead><tbody><tr><td>&quot;&lt;id_mUhCPivGvE_UVh_qeYo9QonP1&gt;&quot;</td><td>&quot;&lt;A1086_road&gt;&quot;</td><td>&quot;skos:prefLabel&quot;</td><td>&quot;A1086 road@eng&quot;</td><td>null</td></tr><tr><td>&quot;&lt;id_mUhCPivGvE_SBd_qeYo9QonP1&gt;&quot;</td><td>&quot;&lt;A1086_road&gt;&quot;</td><td>&quot;rdfs:label&quot;</td><td>&quot;A1086 road@eng&quot;</td><td>null</td></tr><tr><td>&quot;&lt;id_IDwmgVA9s0_UVh_xz6Dd0cCM6&gt;&quot;</td><td>&quot;&lt;1908_St._Louis_Browns_season&gt;&quot;</td><td>&quot;skos:prefLabel&quot;</td><td>&quot;1908 St. Louis Browns season@eng&quot;</td><td>null</td></tr><tr><td>&quot;&lt;id_IDwmgVA9s0_SBd_xz6Dd0cCM6&gt;&quot;</td><td>&quot;&lt;1908_St._Louis_Browns_season&gt;&quot;</td><td>&quot;rdfs:label&quot;</td><td>&quot;1908 St. Louis Browns season@eng&quot;</td><td>null</td></tr><tr><td>&quot;&lt;id_j?RsaAy9FT_UVh_k7!5Stp4!Q&gt;&quot;</td><td>&quot;&lt;Stathmopoda_aposema&gt;&quot;</td><td>&quot;skos:prefLabel&quot;</td><td>&quot;Stathmopoda aposema@eng&quot;</td><td>null</td></tr><tr><td>&quot;&lt;id_j?RsaAy9FT_SBd_k7!5Stp4!Q&gt;&quot;</td><td>&quot;&lt;Stathmopoda_aposema&gt;&quot;</td><td>&quot;rdfs:label&quot;</td><td>&quot;Stathmopoda aposema@eng&quot;</td><td>null</td></tr><tr><td>&quot;&lt;id_LDRCnqcknu_UVh_2UvMcE807x&gt;&quot;</td><td>&quot;&lt;Pluralist_Democracy_Party_(Turkey)&gt;&quot;</td><td>&quot;skos:prefLabel&quot;</td><td>&quot;Pluralist Democracy Party (Turkey)@eng&quot;</td><td>null</td></tr><tr><td>&quot;&lt;id_LDRCnqcknu_SBd_ylIwrbnVvR&gt;&quot;</td><td>&quot;&lt;Pluralist_Democracy_Party_(Turkey)&gt;&quot;</td><td>&quot;rdfs:label&quot;</td><td>&quot;Pluralist Democracy Party@eng&quot;</td><td>null</td></tr><tr><td>&quot;&lt;id_LDRCnqcknu_SBd_2UvMcE807x&gt;&quot;</td><td>&quot;&lt;Pluralist_Democracy_Party_(Turkey)&gt;&quot;</td><td>&quot;rdfs:label&quot;</td><td>&quot;Pluralist Democracy Party (Turkey)@eng&quot;</td><td>null</td></tr><tr><td>&quot;&lt;id_ZiYPyQ4clo_UVh_ZiYPyQ4clo&gt;&quot;</td><td>&quot;&lt;Kayna&gt;&quot;</td><td>&quot;skos:prefLabel&quot;</td><td>&quot;Kayna@eng&quot;</td><td>null</td></tr><tr><td>&quot;&lt;id_ZiYPyQ4clo_SBd_ZiYPyQ4clo&gt;&quot;</td><td>&quot;&lt;Kayna&gt;&quot;</td><td>&quot;rdfs:label&quot;</td><td>&quot;Kayna@eng&quot;</td><td>null</td></tr><tr><td>&quot;&lt;id_QCt3Vm7wgc_UVh_PzCKlh0a3V&gt;&quot;</td><td>&quot;&lt;Saccobolus_glaber&gt;&quot;</td><td>&quot;skos:prefLabel&quot;</td><td>&quot;Saccobolus glaber@eng&quot;</td><td>null</td></tr><tr><td>&hellip;</td><td>&hellip;</td><td>&hellip;</td><td>&hellip;</td><td>&hellip;</td></tr><tr><td>&quot;&lt;id_3p2FgqRrxg_SBd_tX5if4s292&gt;&quot;</td><td>&quot;&lt;Brett_Evans_(Australian_footballer)&gt;&quot;</td><td>&quot;rdfs:label&quot;</td><td>&quot;Brett Evans@eng&quot;</td><td>null</td></tr><tr><td>&quot;&lt;id_3p2FgqRrxg_SBd_!GrXWB3N?5&gt;&quot;</td><td>&quot;&lt;Brett_Evans_(Australian_footballer)&gt;&quot;</td><td>&quot;rdfs:label&quot;</td><td>&quot;Brett Evans (Australian footballer)@eng&quot;</td><td>null</td></tr><tr><td>&quot;&lt;id_A7fdyk3dmR_UVh_?LRzZDVHRs&gt;&quot;</td><td>&quot;&lt;fr/Église_Saint-Jean_le_Vieux_de_Perpignan&gt;&quot;</td><td>&quot;skos:prefLabel&quot;</td><td>&quot;Église Saint-Jean le Vieux de Perpignan@eng&quot;</td><td>null</td></tr><tr><td>&quot;&lt;id_A7fdyk3dmR_SBd_Ee!1BdzHBE&gt;&quot;</td><td>&quot;&lt;fr/Église_Saint-Jean_le_Vieux_de_Perpignan&gt;&quot;</td><td>&quot;rdfs:label&quot;</td><td>&quot;Eglise Saint-Jean le Vieux de Perpignan@eng&quot;</td><td>null</td></tr><tr><td>&quot;&lt;id_A7fdyk3dmR_SBd_?LRzZDVHRs&gt;&quot;</td><td>&quot;&lt;fr/Église_Saint-Jean_le_Vieux_de_Perpignan&gt;&quot;</td><td>&quot;rdfs:label&quot;</td><td>&quot;Église Saint-Jean le Vieux de Perpignan@eng&quot;</td><td>null</td></tr><tr><td>&quot;&lt;id_vmkKf0AXyh_UVh_Rwq28dOcrl&gt;&quot;</td><td>&quot;&lt;Monkey_Magic_(Japanese_TV_series)&gt;&quot;</td><td>&quot;skos:prefLabel&quot;</td><td>&quot;Monkey Magic (Japanese TV series)@eng&quot;</td><td>null</td></tr><tr><td>&quot;&lt;id_vmkKf0AXyh_SBd_zpWWD3GAS5&gt;&quot;</td><td>&quot;&lt;Monkey_Magic_(Japanese_TV_series)&gt;&quot;</td><td>&quot;rdfs:label&quot;</td><td>&quot;Monkey Magic@eng&quot;</td><td>null</td></tr><tr><td>&quot;&lt;id_vmkKf0AXyh_SBd_Rwq28dOcrl&gt;&quot;</td><td>&quot;&lt;Monkey_Magic_(Japanese_TV_series)&gt;&quot;</td><td>&quot;rdfs:label&quot;</td><td>&quot;Monkey Magic (Japanese TV series)@eng&quot;</td><td>null</td></tr><tr><td>&quot;&lt;id_ufZ4VP3cOK_UVh_ufZ4VP3cOK&gt;&quot;</td><td>&quot;&lt;Cherukunnapuzha&gt;&quot;</td><td>&quot;skos:prefLabel&quot;</td><td>&quot;Cherukunnapuzha@eng&quot;</td><td>null</td></tr><tr><td>&quot;&lt;id_ufZ4VP3cOK_SBd_ufZ4VP3cOK&gt;&quot;</td><td>&quot;&lt;Cherukunnapuzha&gt;&quot;</td><td>&quot;rdfs:label&quot;</td><td>&quot;Cherukunnapuzha@eng&quot;</td><td>null</td></tr><tr><td>&quot;&lt;id_t06pViLE8Q_UVh_FTbUJdMpPN&gt;&quot;</td><td>&quot;&lt;Seraya_Shapshal&gt;&quot;</td><td>&quot;skos:prefLabel&quot;</td><td>&quot;Seraya Shapshal@eng&quot;</td><td>null</td></tr><tr><td>&quot;&lt;id_t06pViLE8Q_SBd_FTbUJdMpPN&gt;&quot;</td><td>&quot;&lt;Seraya_Shapshal&gt;&quot;</td><td>&quot;rdfs:label&quot;</td><td>&quot;Seraya Shapshal@eng&quot;</td><td>null</td></tr></tbody></table></div>"
      ],
      "text/plain": [
       "shape: (13_930_441, 5)\n",
       "┌──────────────────────┬──────────────────────┬────────────────┬──────────────────────┬────────────┐\n",
       "│ id                   ┆ subject              ┆ predicate      ┆ cat_object           ┆ num_object │\n",
       "│ ---                  ┆ ---                  ┆ ---            ┆ ---                  ┆ ---        │\n",
       "│ str                  ┆ str                  ┆ str            ┆ str                  ┆ f64        │\n",
       "╞══════════════════════╪══════════════════════╪════════════════╪══════════════════════╪════════════╡\n",
       "│ <id_mUhCPivGvE_UVh_q ┆ <A1086_road>         ┆ skos:prefLabel ┆ A1086 road@eng       ┆ null       │\n",
       "│ eYo9QonP1>           ┆                      ┆                ┆                      ┆            │\n",
       "│ <id_mUhCPivGvE_SBd_q ┆ <A1086_road>         ┆ rdfs:label     ┆ A1086 road@eng       ┆ null       │\n",
       "│ eYo9QonP1>           ┆                      ┆                ┆                      ┆            │\n",
       "│ <id_IDwmgVA9s0_UVh_x ┆ <1908_St._Louis_Brow ┆ skos:prefLabel ┆ 1908 St. Louis       ┆ null       │\n",
       "│ z6Dd0cCM6>           ┆ ns_season>           ┆                ┆ Browns season@eng    ┆            │\n",
       "│ <id_IDwmgVA9s0_SBd_x ┆ <1908_St._Louis_Brow ┆ rdfs:label     ┆ 1908 St. Louis       ┆ null       │\n",
       "│ z6Dd0cCM6>           ┆ ns_season>           ┆                ┆ Browns season@eng    ┆            │\n",
       "│ <id_j?RsaAy9FT_UVh_k ┆ <Stathmopoda_aposema ┆ skos:prefLabel ┆ Stathmopoda          ┆ null       │\n",
       "│ 7!5Stp4!Q>           ┆ >                    ┆                ┆ aposema@eng          ┆            │\n",
       "│ …                    ┆ …                    ┆ …              ┆ …                    ┆ …          │\n",
       "│ <id_vmkKf0AXyh_SBd_R ┆ <Monkey_Magic_(Japan ┆ rdfs:label     ┆ Monkey Magic         ┆ null       │\n",
       "│ wq28dOcrl>           ┆ ese_TV_series)>      ┆                ┆ (Japanese TV         ┆            │\n",
       "│                      ┆                      ┆                ┆ series)@eng          ┆            │\n",
       "│ <id_ufZ4VP3cOK_UVh_u ┆ <Cherukunnapuzha>    ┆ skos:prefLabel ┆ Cherukunnapuzha@eng  ┆ null       │\n",
       "│ fZ4VP3cOK>           ┆                      ┆                ┆                      ┆            │\n",
       "│ <id_ufZ4VP3cOK_SBd_u ┆ <Cherukunnapuzha>    ┆ rdfs:label     ┆ Cherukunnapuzha@eng  ┆ null       │\n",
       "│ fZ4VP3cOK>           ┆                      ┆                ┆                      ┆            │\n",
       "│ <id_t06pViLE8Q_UVh_F ┆ <Seraya_Shapshal>    ┆ skos:prefLabel ┆ Seraya Shapshal@eng  ┆ null       │\n",
       "│ TbUJdMpPN>           ┆                      ┆                ┆                      ┆            │\n",
       "│ <id_t06pViLE8Q_SBd_F ┆ <Seraya_Shapshal>    ┆ rdfs:label     ┆ Seraya Shapshal@eng  ┆ null       │\n",
       "│ TbUJdMpPN>           ┆                      ┆                ┆                      ┆            │\n",
       "└──────────────────────┴──────────────────────┴────────────────┴──────────────────────┴────────────┘"
      ]
     },
     "metadata": {},
     "output_type": "display_data"
    },
    {
     "name": "stdout",
     "output_type": "stream",
     "text": [
      "wikipediaLabelSources.tsv\n"
     ]
    },
    {
     "data": {
      "text/html": [
       "<div><style>\n",
       ".dataframe > thead > tr,\n",
       ".dataframe > tbody > tr {\n",
       "  text-align: right;\n",
       "  white-space: pre-wrap;\n",
       "}\n",
       "</style>\n",
       "<small>shape: (27_860_882, 5)</small><table border=\"1\" class=\"dataframe\"><thead><tr><th>id</th><th>subject</th><th>predicate</th><th>cat_object</th><th>num_object</th></tr><tr><td>str</td><td>str</td><td>str</td><td>str</td><td>f64</td></tr></thead><tbody><tr><td>&quot;&lt;id_12rr50e56k_Tm9_a!?lkyuE30&gt;&quot;</td><td>&quot;&lt;id_mUhCPivGvE_UVh_qeYo9QonP1&gt;&quot;</td><td>&quot;&lt;extractionSource&gt;&quot;</td><td>&quot;&lt;http://wikidata.org&gt;&quot;</td><td>null</td></tr><tr><td>null</td><td>&quot;&lt;id_12rr50e56k_Tm9_a!?lkyuE30&gt;&quot;</td><td>&quot;&lt;extractionTechnique&gt;&quot;</td><td>&quot;WikidataLabelExtractor&quot;</td><td>null</td></tr><tr><td>&quot;&lt;id_HhQxUP4PxG_Tm9_a!?lkyuE30&gt;&quot;</td><td>&quot;&lt;id_mUhCPivGvE_SBd_qeYo9QonP1&gt;&quot;</td><td>&quot;&lt;extractionSource&gt;&quot;</td><td>&quot;&lt;http://wikidata.org&gt;&quot;</td><td>null</td></tr><tr><td>null</td><td>&quot;&lt;id_HhQxUP4PxG_Tm9_a!?lkyuE30&gt;&quot;</td><td>&quot;&lt;extractionTechnique&gt;&quot;</td><td>&quot;WikidataLabelExtractor&quot;</td><td>null</td></tr><tr><td>&quot;&lt;id_fFoPanzuaO_Tm9_a!?lkyuE30&gt;&quot;</td><td>&quot;&lt;id_IDwmgVA9s0_UVh_xz6Dd0cCM6&gt;&quot;</td><td>&quot;&lt;extractionSource&gt;&quot;</td><td>&quot;&lt;http://wikidata.org&gt;&quot;</td><td>null</td></tr><tr><td>null</td><td>&quot;&lt;id_fFoPanzuaO_Tm9_a!?lkyuE30&gt;&quot;</td><td>&quot;&lt;extractionTechnique&gt;&quot;</td><td>&quot;WikidataLabelExtractor&quot;</td><td>null</td></tr><tr><td>&quot;&lt;id_d9f4MY3GQ8_Tm9_a!?lkyuE30&gt;&quot;</td><td>&quot;&lt;id_IDwmgVA9s0_SBd_xz6Dd0cCM6&gt;&quot;</td><td>&quot;&lt;extractionSource&gt;&quot;</td><td>&quot;&lt;http://wikidata.org&gt;&quot;</td><td>null</td></tr><tr><td>null</td><td>&quot;&lt;id_d9f4MY3GQ8_Tm9_a!?lkyuE30&gt;&quot;</td><td>&quot;&lt;extractionTechnique&gt;&quot;</td><td>&quot;WikidataLabelExtractor&quot;</td><td>null</td></tr><tr><td>&quot;&lt;id_trfj0ZrQ?z_Tm9_a!?lkyuE30&gt;&quot;</td><td>&quot;&lt;id_j?RsaAy9FT_UVh_k7!5Stp4!Q&gt;&quot;</td><td>&quot;&lt;extractionSource&gt;&quot;</td><td>&quot;&lt;http://wikidata.org&gt;&quot;</td><td>null</td></tr><tr><td>null</td><td>&quot;&lt;id_trfj0ZrQ?z_Tm9_a!?lkyuE30&gt;&quot;</td><td>&quot;&lt;extractionTechnique&gt;&quot;</td><td>&quot;WikidataLabelExtractor&quot;</td><td>null</td></tr><tr><td>&quot;&lt;id_gZXZv2lFwL_Tm9_a!?lkyuE30&gt;&quot;</td><td>&quot;&lt;id_j?RsaAy9FT_SBd_k7!5Stp4!Q&gt;&quot;</td><td>&quot;&lt;extractionSource&gt;&quot;</td><td>&quot;&lt;http://wikidata.org&gt;&quot;</td><td>null</td></tr><tr><td>null</td><td>&quot;&lt;id_gZXZv2lFwL_Tm9_a!?lkyuE30&gt;&quot;</td><td>&quot;&lt;extractionTechnique&gt;&quot;</td><td>&quot;WikidataLabelExtractor&quot;</td><td>null</td></tr><tr><td>&hellip;</td><td>&hellip;</td><td>&hellip;</td><td>&hellip;</td><td>&hellip;</td></tr><tr><td>&quot;&lt;id_yTNN0jmuK8_Tm9_a!?lkyuE30&gt;&quot;</td><td>&quot;&lt;id_vmkKf0AXyh_SBd_zpWWD3GAS5&gt;&quot;</td><td>&quot;&lt;extractionSource&gt;&quot;</td><td>&quot;&lt;http://wikidata.org&gt;&quot;</td><td>null</td></tr><tr><td>null</td><td>&quot;&lt;id_yTNN0jmuK8_Tm9_a!?lkyuE30&gt;&quot;</td><td>&quot;&lt;extractionTechnique&gt;&quot;</td><td>&quot;WikidataLabelExtractor&quot;</td><td>null</td></tr><tr><td>&quot;&lt;id_ZYoJHPU2Xn_Tm9_a!?lkyuE30&gt;&quot;</td><td>&quot;&lt;id_vmkKf0AXyh_SBd_Rwq28dOcrl&gt;&quot;</td><td>&quot;&lt;extractionSource&gt;&quot;</td><td>&quot;&lt;http://wikidata.org&gt;&quot;</td><td>null</td></tr><tr><td>null</td><td>&quot;&lt;id_ZYoJHPU2Xn_Tm9_a!?lkyuE30&gt;&quot;</td><td>&quot;&lt;extractionTechnique&gt;&quot;</td><td>&quot;WikidataLabelExtractor&quot;</td><td>null</td></tr><tr><td>&quot;&lt;id_xnI3PZY7jG_Tm9_a!?lkyuE30&gt;&quot;</td><td>&quot;&lt;id_ufZ4VP3cOK_UVh_ufZ4VP3cOK&gt;&quot;</td><td>&quot;&lt;extractionSource&gt;&quot;</td><td>&quot;&lt;http://wikidata.org&gt;&quot;</td><td>null</td></tr><tr><td>null</td><td>&quot;&lt;id_xnI3PZY7jG_Tm9_a!?lkyuE30&gt;&quot;</td><td>&quot;&lt;extractionTechnique&gt;&quot;</td><td>&quot;WikidataLabelExtractor&quot;</td><td>null</td></tr><tr><td>&quot;&lt;id_eN5IW41L64_Tm9_a!?lkyuE30&gt;&quot;</td><td>&quot;&lt;id_ufZ4VP3cOK_SBd_ufZ4VP3cOK&gt;&quot;</td><td>&quot;&lt;extractionSource&gt;&quot;</td><td>&quot;&lt;http://wikidata.org&gt;&quot;</td><td>null</td></tr><tr><td>null</td><td>&quot;&lt;id_eN5IW41L64_Tm9_a!?lkyuE30&gt;&quot;</td><td>&quot;&lt;extractionTechnique&gt;&quot;</td><td>&quot;WikidataLabelExtractor&quot;</td><td>null</td></tr><tr><td>&quot;&lt;id_glZFXuIVor_Tm9_a!?lkyuE30&gt;&quot;</td><td>&quot;&lt;id_t06pViLE8Q_UVh_FTbUJdMpPN&gt;&quot;</td><td>&quot;&lt;extractionSource&gt;&quot;</td><td>&quot;&lt;http://wikidata.org&gt;&quot;</td><td>null</td></tr><tr><td>null</td><td>&quot;&lt;id_glZFXuIVor_Tm9_a!?lkyuE30&gt;&quot;</td><td>&quot;&lt;extractionTechnique&gt;&quot;</td><td>&quot;WikidataLabelExtractor&quot;</td><td>null</td></tr><tr><td>&quot;&lt;id_U9nZKOmbuh_Tm9_a!?lkyuE30&gt;&quot;</td><td>&quot;&lt;id_t06pViLE8Q_SBd_FTbUJdMpPN&gt;&quot;</td><td>&quot;&lt;extractionSource&gt;&quot;</td><td>&quot;&lt;http://wikidata.org&gt;&quot;</td><td>null</td></tr><tr><td>null</td><td>&quot;&lt;id_U9nZKOmbuh_Tm9_a!?lkyuE30&gt;&quot;</td><td>&quot;&lt;extractionTechnique&gt;&quot;</td><td>&quot;WikidataLabelExtractor&quot;</td><td>null</td></tr></tbody></table></div>"
      ],
      "text/plain": [
       "shape: (27_860_882, 5)\n",
       "┌─────────────────────┬─────────────────────┬────────────────────┬────────────────────┬────────────┐\n",
       "│ id                  ┆ subject             ┆ predicate          ┆ cat_object         ┆ num_object │\n",
       "│ ---                 ┆ ---                 ┆ ---                ┆ ---                ┆ ---        │\n",
       "│ str                 ┆ str                 ┆ str                ┆ str                ┆ f64        │\n",
       "╞═════════════════════╪═════════════════════╪════════════════════╪════════════════════╪════════════╡\n",
       "│ <id_12rr50e56k_Tm9_ ┆ <id_mUhCPivGvE_UVh_ ┆ <extractionSource> ┆ <http://wikidata.o ┆ null       │\n",
       "│ a!?lkyuE30>         ┆ qeYo9QonP1>         ┆                    ┆ rg>                ┆            │\n",
       "│ null                ┆ <id_12rr50e56k_Tm9_ ┆ <extractionTechniq ┆ WikidataLabelExtra ┆ null       │\n",
       "│                     ┆ a!?lkyuE30>         ┆ ue>                ┆ ctor               ┆            │\n",
       "│ <id_HhQxUP4PxG_Tm9_ ┆ <id_mUhCPivGvE_SBd_ ┆ <extractionSource> ┆ <http://wikidata.o ┆ null       │\n",
       "│ a!?lkyuE30>         ┆ qeYo9QonP1>         ┆                    ┆ rg>                ┆            │\n",
       "│ null                ┆ <id_HhQxUP4PxG_Tm9_ ┆ <extractionTechniq ┆ WikidataLabelExtra ┆ null       │\n",
       "│                     ┆ a!?lkyuE30>         ┆ ue>                ┆ ctor               ┆            │\n",
       "│ <id_fFoPanzuaO_Tm9_ ┆ <id_IDwmgVA9s0_UVh_ ┆ <extractionSource> ┆ <http://wikidata.o ┆ null       │\n",
       "│ a!?lkyuE30>         ┆ xz6Dd0cCM6>         ┆                    ┆ rg>                ┆            │\n",
       "│ …                   ┆ …                   ┆ …                  ┆ …                  ┆ …          │\n",
       "│ null                ┆ <id_eN5IW41L64_Tm9_ ┆ <extractionTechniq ┆ WikidataLabelExtra ┆ null       │\n",
       "│                     ┆ a!?lkyuE30>         ┆ ue>                ┆ ctor               ┆            │\n",
       "│ <id_glZFXuIVor_Tm9_ ┆ <id_t06pViLE8Q_UVh_ ┆ <extractionSource> ┆ <http://wikidata.o ┆ null       │\n",
       "│ a!?lkyuE30>         ┆ FTbUJdMpPN>         ┆                    ┆ rg>                ┆            │\n",
       "│ null                ┆ <id_glZFXuIVor_Tm9_ ┆ <extractionTechniq ┆ WikidataLabelExtra ┆ null       │\n",
       "│                     ┆ a!?lkyuE30>         ┆ ue>                ┆ ctor               ┆            │\n",
       "│ <id_U9nZKOmbuh_Tm9_ ┆ <id_t06pViLE8Q_SBd_ ┆ <extractionSource> ┆ <http://wikidata.o ┆ null       │\n",
       "│ a!?lkyuE30>         ┆ FTbUJdMpPN>         ┆                    ┆ rg>                ┆            │\n",
       "│ null                ┆ <id_U9nZKOmbuh_Tm9_ ┆ <extractionTechniq ┆ WikidataLabelExtra ┆ null       │\n",
       "│                     ┆ a!?lkyuE30>         ┆ ue>                ┆ ctor               ┆            │\n",
       "└─────────────────────┴─────────────────────┴────────────────────┴────────────────────┴────────────┘"
      ]
     },
     "metadata": {},
     "output_type": "display_data"
    },
    {
     "name": "stdout",
     "output_type": "stream",
     "text": [
      "wordnetClasses.tsv\n"
     ]
    },
    {
     "data": {
      "text/html": [
       "<div><style>\n",
       ".dataframe > thead > tr,\n",
       ".dataframe > tbody > tr {\n",
       "  text-align: right;\n",
       "  white-space: pre-wrap;\n",
       "}\n",
       "</style>\n",
       "<small>shape: (69_746, 5)</small><table border=\"1\" class=\"dataframe\"><thead><tr><th>id</th><th>subject</th><th>predicate</th><th>cat_object</th><th>num_object</th></tr><tr><td>str</td><td>str</td><td>str</td><td>str</td><td>f64</td></tr></thead><tbody><tr><td>null</td><td>&quot;&lt;wordnet_physical_entity_100001930&gt;&quot;</td><td>&quot;rdfs:subClassOf&quot;</td><td>&quot;owl:Thing&quot;</td><td>null</td></tr><tr><td>null</td><td>&quot;&lt;wordnet_abstraction_100002137&gt;&quot;</td><td>&quot;rdfs:subClassOf&quot;</td><td>&quot;owl:Thing&quot;</td><td>null</td></tr><tr><td>null</td><td>&quot;&lt;wordnet_thing_100002452&gt;&quot;</td><td>&quot;rdfs:subClassOf&quot;</td><td>&quot;&lt;wordnet_physical_entity_100001930&gt;&quot;</td><td>null</td></tr><tr><td>null</td><td>&quot;&lt;wordnet_object_100002684&gt;&quot;</td><td>&quot;rdfs:subClassOf&quot;</td><td>&quot;&lt;wordnet_physical_entity_100001930&gt;&quot;</td><td>null</td></tr><tr><td>null</td><td>&quot;&lt;wordnet_whole_100003553&gt;&quot;</td><td>&quot;rdfs:subClassOf&quot;</td><td>&quot;&lt;wordnet_object_100002684&gt;&quot;</td><td>null</td></tr><tr><td>null</td><td>&quot;&lt;wordnet_congener_100003993&gt;&quot;</td><td>&quot;rdfs:subClassOf&quot;</td><td>&quot;&lt;wordnet_whole_100003553&gt;&quot;</td><td>null</td></tr><tr><td>null</td><td>&quot;&lt;wordnet_living_thing_100004258&gt;&quot;</td><td>&quot;rdfs:subClassOf&quot;</td><td>&quot;&lt;wordnet_whole_100003553&gt;&quot;</td><td>null</td></tr><tr><td>null</td><td>&quot;&lt;wordnet_organism_100004475&gt;&quot;</td><td>&quot;rdfs:subClassOf&quot;</td><td>&quot;&lt;wordnet_living_thing_100004258&gt;&quot;</td><td>null</td></tr><tr><td>null</td><td>&quot;&lt;wordnet_benthos_100005787&gt;&quot;</td><td>&quot;rdfs:subClassOf&quot;</td><td>&quot;&lt;wordnet_organism_100004475&gt;&quot;</td><td>null</td></tr><tr><td>null</td><td>&quot;&lt;wordnet_dwarf_100005930&gt;&quot;</td><td>&quot;rdfs:subClassOf&quot;</td><td>&quot;&lt;wordnet_organism_100004475&gt;&quot;</td><td>null</td></tr><tr><td>null</td><td>&quot;&lt;wordnet_heterotroph_100006024&gt;&quot;</td><td>&quot;rdfs:subClassOf&quot;</td><td>&quot;&lt;wordnet_organism_100004475&gt;&quot;</td><td>null</td></tr><tr><td>null</td><td>&quot;&lt;wordnet_parent_100006150&gt;&quot;</td><td>&quot;rdfs:subClassOf&quot;</td><td>&quot;&lt;wordnet_organism_100004475&gt;&quot;</td><td>null</td></tr><tr><td>&hellip;</td><td>&hellip;</td><td>&hellip;</td><td>&hellip;</td><td>&hellip;</td></tr><tr><td>null</td><td>&quot;&lt;wordnet_probation_115297472&gt;&quot;</td><td>&quot;rdfs:subClassOf&quot;</td><td>&quot;&lt;wordnet_trial_period_115115926&gt;&quot;</td><td>null</td></tr><tr><td>null</td><td>&quot;&lt;wordnet_processing_time_115297672&gt;&quot;</td><td>&quot;rdfs:subClassOf&quot;</td><td>&quot;&lt;wordnet_time_interval_115269513&gt;&quot;</td><td>null</td></tr><tr><td>null</td><td>&quot;&lt;wordnet_air_alert_115297859&gt;&quot;</td><td>&quot;rdfs:subClassOf&quot;</td><td>&quot;&lt;wordnet_time_period_115113229&gt;&quot;</td><td>null</td></tr><tr><td>null</td><td>&quot;&lt;wordnet_command_processing_overhead_time_115298011&gt;&quot;</td><td>&quot;rdfs:subClassOf&quot;</td><td>&quot;&lt;wordnet_processing_time_115297672&gt;&quot;</td><td>null</td></tr><tr><td>null</td><td>&quot;&lt;wordnet_question_time_115298507&gt;&quot;</td><td>&quot;rdfs:subClassOf&quot;</td><td>&quot;&lt;wordnet_time_period_115113229&gt;&quot;</td><td>null</td></tr><tr><td>null</td><td>&quot;&lt;wordnet_real_time_115298695&gt;&quot;</td><td>&quot;rdfs:subClassOf&quot;</td><td>&quot;&lt;wordnet_time_period_115113229&gt;&quot;</td><td>null</td></tr><tr><td>null</td><td>&quot;&lt;wordnet_real_time_115298852&gt;&quot;</td><td>&quot;rdfs:subClassOf&quot;</td><td>&quot;&lt;wordnet_time_period_115113229&gt;&quot;</td><td>null</td></tr><tr><td>null</td><td>&quot;&lt;wordnet_regency_115298995&gt;&quot;</td><td>&quot;rdfs:subClassOf&quot;</td><td>&quot;&lt;wordnet_rule_115295416&gt;&quot;</td><td>null</td></tr><tr><td>null</td><td>&quot;&lt;wordnet_snap_115299097&gt;&quot;</td><td>&quot;rdfs:subClassOf&quot;</td><td>&quot;&lt;wordnet_while_115246353&gt;&quot;</td><td>null</td></tr><tr><td>null</td><td>&quot;&lt;wordnet_study_hall_115299225&gt;&quot;</td><td>&quot;rdfs:subClassOf&quot;</td><td>&quot;&lt;wordnet_time_period_115113229&gt;&quot;</td><td>null</td></tr><tr><td>null</td><td>&quot;&lt;wordnet_usance_115299585&gt;&quot;</td><td>&quot;rdfs:subClassOf&quot;</td><td>&quot;&lt;wordnet_time_period_115113229&gt;&quot;</td><td>null</td></tr><tr><td>null</td><td>&quot;&lt;wordnet_window_115299783&gt;&quot;</td><td>&quot;rdfs:subClassOf&quot;</td><td>&quot;&lt;wordnet_time_period_115113229&gt;&quot;</td><td>null</td></tr></tbody></table></div>"
      ],
      "text/plain": [
       "shape: (69_746, 5)\n",
       "┌──────┬──────────────────────────────┬─────────────────┬─────────────────────────────┬────────────┐\n",
       "│ id   ┆ subject                      ┆ predicate       ┆ cat_object                  ┆ num_object │\n",
       "│ ---  ┆ ---                          ┆ ---             ┆ ---                         ┆ ---        │\n",
       "│ str  ┆ str                          ┆ str             ┆ str                         ┆ f64        │\n",
       "╞══════╪══════════════════════════════╪═════════════════╪═════════════════════════════╪════════════╡\n",
       "│ null ┆ <wordnet_physical_entity_100 ┆ rdfs:subClassOf ┆ owl:Thing                   ┆ null       │\n",
       "│      ┆ 001930>                      ┆                 ┆                             ┆            │\n",
       "│ null ┆ <wordnet_abstraction_1000021 ┆ rdfs:subClassOf ┆ owl:Thing                   ┆ null       │\n",
       "│      ┆ 37>                          ┆                 ┆                             ┆            │\n",
       "│ null ┆ <wordnet_thing_100002452>    ┆ rdfs:subClassOf ┆ <wordnet_physical_entity_10 ┆ null       │\n",
       "│      ┆                              ┆                 ┆ 0001930>                    ┆            │\n",
       "│ null ┆ <wordnet_object_100002684>   ┆ rdfs:subClassOf ┆ <wordnet_physical_entity_10 ┆ null       │\n",
       "│      ┆                              ┆                 ┆ 0001930>                    ┆            │\n",
       "│ null ┆ <wordnet_whole_100003553>    ┆ rdfs:subClassOf ┆ <wordnet_object_100002684>  ┆ null       │\n",
       "│ …    ┆ …                            ┆ …               ┆ …                           ┆ …          │\n",
       "│ null ┆ <wordnet_regency_115298995>  ┆ rdfs:subClassOf ┆ <wordnet_rule_115295416>    ┆ null       │\n",
       "│ null ┆ <wordnet_snap_115299097>     ┆ rdfs:subClassOf ┆ <wordnet_while_115246353>   ┆ null       │\n",
       "│ null ┆ <wordnet_study_hall_11529922 ┆ rdfs:subClassOf ┆ <wordnet_time_period_115113 ┆ null       │\n",
       "│      ┆ 5>                           ┆                 ┆ 229>                        ┆            │\n",
       "│ null ┆ <wordnet_usance_115299585>   ┆ rdfs:subClassOf ┆ <wordnet_time_period_115113 ┆ null       │\n",
       "│      ┆                              ┆                 ┆ 229>                        ┆            │\n",
       "│ null ┆ <wordnet_window_115299783>   ┆ rdfs:subClassOf ┆ <wordnet_time_period_115113 ┆ null       │\n",
       "│      ┆                              ┆                 ┆ 229>                        ┆            │\n",
       "└──────┴──────────────────────────────┴─────────────────┴─────────────────────────────┴────────────┘"
      ]
     },
     "metadata": {},
     "output_type": "display_data"
    },
    {
     "name": "stdout",
     "output_type": "stream",
     "text": [
      "wordnetDomainSources.tsv\n"
     ]
    },
    {
     "data": {
      "text/html": [
       "<div><style>\n",
       ".dataframe > thead > tr,\n",
       ".dataframe > tbody > tr {\n",
       "  text-align: right;\n",
       "  white-space: pre-wrap;\n",
       "}\n",
       "</style>\n",
       "<small>shape: (174_730, 5)</small><table border=\"1\" class=\"dataframe\"><thead><tr><th>id</th><th>subject</th><th>predicate</th><th>cat_object</th><th>num_object</th></tr><tr><td>str</td><td>str</td><td>str</td><td>str</td><td>f64</td></tr></thead><tbody><tr><td>&quot;&lt;id_hDRa6zyFME_Tm9_55bt!vsIpD&gt;&quot;</td><td>&quot;&lt;id_KdEX!y?wiG_wda_WURcLBQM1c&gt;&quot;</td><td>&quot;&lt;extractionSource&gt;&quot;</td><td>&quot;&lt;http://wndomains.fbk.eu&gt;&quot;</td><td>null</td></tr><tr><td>null</td><td>&quot;&lt;id_hDRa6zyFME_Tm9_55bt!vsIpD&gt;&quot;</td><td>&quot;&lt;extractionTechnique&gt;&quot;</td><td>&quot;Wordnet Domain Mapper&quot;</td><td>null</td></tr><tr><td>&quot;&lt;id_BGYHPlOgkD_Tm9_55bt!vsIpD&gt;&quot;</td><td>&quot;&lt;id_g9psfcitLx_wda_WURcLBQM1c&gt;&quot;</td><td>&quot;&lt;extractionSource&gt;&quot;</td><td>&quot;&lt;http://wndomains.fbk.eu&gt;&quot;</td><td>null</td></tr><tr><td>null</td><td>&quot;&lt;id_BGYHPlOgkD_Tm9_55bt!vsIpD&gt;&quot;</td><td>&quot;&lt;extractionTechnique&gt;&quot;</td><td>&quot;Wordnet Domain Mapper&quot;</td><td>null</td></tr><tr><td>&quot;&lt;id_Ac8GoREHLt_Tm9_55bt!vsIpD&gt;&quot;</td><td>&quot;&lt;id_Vai9oEZk!D_wda_WURcLBQM1c&gt;&quot;</td><td>&quot;&lt;extractionSource&gt;&quot;</td><td>&quot;&lt;http://wndomains.fbk.eu&gt;&quot;</td><td>null</td></tr><tr><td>null</td><td>&quot;&lt;id_Ac8GoREHLt_Tm9_55bt!vsIpD&gt;&quot;</td><td>&quot;&lt;extractionTechnique&gt;&quot;</td><td>&quot;Wordnet Domain Mapper&quot;</td><td>null</td></tr><tr><td>&quot;&lt;id_fF3Zb2k65?_Tm9_55bt!vsIpD&gt;&quot;</td><td>&quot;&lt;id_r9CiCKIlsX_wda_WURcLBQM1c&gt;&quot;</td><td>&quot;&lt;extractionSource&gt;&quot;</td><td>&quot;&lt;http://wndomains.fbk.eu&gt;&quot;</td><td>null</td></tr><tr><td>null</td><td>&quot;&lt;id_fF3Zb2k65?_Tm9_55bt!vsIpD&gt;&quot;</td><td>&quot;&lt;extractionTechnique&gt;&quot;</td><td>&quot;Wordnet Domain Mapper&quot;</td><td>null</td></tr><tr><td>&quot;&lt;id_7NMqs0m9e7_Tm9_55bt!vsIpD&gt;&quot;</td><td>&quot;&lt;id_k1DTqzDW2q_wda_WURcLBQM1c&gt;&quot;</td><td>&quot;&lt;extractionSource&gt;&quot;</td><td>&quot;&lt;http://wndomains.fbk.eu&gt;&quot;</td><td>null</td></tr><tr><td>null</td><td>&quot;&lt;id_7NMqs0m9e7_Tm9_55bt!vsIpD&gt;&quot;</td><td>&quot;&lt;extractionTechnique&gt;&quot;</td><td>&quot;Wordnet Domain Mapper&quot;</td><td>null</td></tr><tr><td>&quot;&lt;id_pabSRd4XYB_Tm9_55bt!vsIpD&gt;&quot;</td><td>&quot;&lt;id_!mzSYbE2m?_wda_WURcLBQM1c&gt;&quot;</td><td>&quot;&lt;extractionSource&gt;&quot;</td><td>&quot;&lt;http://wndomains.fbk.eu&gt;&quot;</td><td>null</td></tr><tr><td>null</td><td>&quot;&lt;id_pabSRd4XYB_Tm9_55bt!vsIpD&gt;&quot;</td><td>&quot;&lt;extractionTechnique&gt;&quot;</td><td>&quot;Wordnet Domain Mapper&quot;</td><td>null</td></tr><tr><td>&hellip;</td><td>&hellip;</td><td>&hellip;</td><td>&hellip;</td><td>&hellip;</td></tr><tr><td>&quot;&lt;id_Dv3pNhuN?B_Tm9_55bt!vsIpD&gt;&quot;</td><td>&quot;&lt;id_OX8psYQxRe_KCM_0ANAsR1IF3&gt;&quot;</td><td>&quot;&lt;extractionSource&gt;&quot;</td><td>&quot;&lt;http://wndomains.fbk.eu&gt;&quot;</td><td>null</td></tr><tr><td>null</td><td>&quot;&lt;id_Dv3pNhuN?B_Tm9_55bt!vsIpD&gt;&quot;</td><td>&quot;&lt;extractionTechnique&gt;&quot;</td><td>&quot;Wordnet Domain Mapper&quot;</td><td>null</td></tr><tr><td>&quot;&lt;id_Vc5IXnW1SC_Tm9_55bt!vsIpD&gt;&quot;</td><td>&quot;&lt;id_OX8psYQxRe_SBd_fNnLj76heY&gt;&quot;</td><td>&quot;&lt;extractionSource&gt;&quot;</td><td>&quot;&lt;http://wndomains.fbk.eu&gt;&quot;</td><td>null</td></tr><tr><td>null</td><td>&quot;&lt;id_Vc5IXnW1SC_Tm9_55bt!vsIpD&gt;&quot;</td><td>&quot;&lt;extractionTechnique&gt;&quot;</td><td>&quot;Wordnet Domain Mapper&quot;</td><td>null</td></tr><tr><td>&quot;&lt;id_r5S56YHvx!_Tm9_55bt!vsIpD&gt;&quot;</td><td>&quot;&lt;id_ACekHW2v5x_KCM_0ANAsR1IF3&gt;&quot;</td><td>&quot;&lt;extractionSource&gt;&quot;</td><td>&quot;&lt;http://wndomains.fbk.eu&gt;&quot;</td><td>null</td></tr><tr><td>null</td><td>&quot;&lt;id_r5S56YHvx!_Tm9_55bt!vsIpD&gt;&quot;</td><td>&quot;&lt;extractionTechnique&gt;&quot;</td><td>&quot;Wordnet Domain Mapper&quot;</td><td>null</td></tr><tr><td>&quot;&lt;id_E2vzUhX1cK_Tm9_55bt!vsIpD&gt;&quot;</td><td>&quot;&lt;id_ACekHW2v5x_SBd_Z?VyVxhRtF&gt;&quot;</td><td>&quot;&lt;extractionSource&gt;&quot;</td><td>&quot;&lt;http://wndomains.fbk.eu&gt;&quot;</td><td>null</td></tr><tr><td>null</td><td>&quot;&lt;id_E2vzUhX1cK_Tm9_55bt!vsIpD&gt;&quot;</td><td>&quot;&lt;extractionTechnique&gt;&quot;</td><td>&quot;Wordnet Domain Mapper&quot;</td><td>null</td></tr><tr><td>&quot;&lt;id_pwLbtbwFcA_Tm9_55bt!vsIpD&gt;&quot;</td><td>&quot;&lt;id_xFbkV7VFKE_KCM_0ANAsR1IF3&gt;&quot;</td><td>&quot;&lt;extractionSource&gt;&quot;</td><td>&quot;&lt;http://wndomains.fbk.eu&gt;&quot;</td><td>null</td></tr><tr><td>null</td><td>&quot;&lt;id_pwLbtbwFcA_Tm9_55bt!vsIpD&gt;&quot;</td><td>&quot;&lt;extractionTechnique&gt;&quot;</td><td>&quot;Wordnet Domain Mapper&quot;</td><td>null</td></tr><tr><td>&quot;&lt;id_5Holafumwh_Tm9_55bt!vsIpD&gt;&quot;</td><td>&quot;&lt;id_xFbkV7VFKE_SBd_OMHAMuge?q&gt;&quot;</td><td>&quot;&lt;extractionSource&gt;&quot;</td><td>&quot;&lt;http://wndomains.fbk.eu&gt;&quot;</td><td>null</td></tr><tr><td>null</td><td>&quot;&lt;id_5Holafumwh_Tm9_55bt!vsIpD&gt;&quot;</td><td>&quot;&lt;extractionTechnique&gt;&quot;</td><td>&quot;Wordnet Domain Mapper&quot;</td><td>null</td></tr></tbody></table></div>"
      ],
      "text/plain": [
       "shape: (174_730, 5)\n",
       "┌─────────────────────┬─────────────────────┬────────────────────┬────────────────────┬────────────┐\n",
       "│ id                  ┆ subject             ┆ predicate          ┆ cat_object         ┆ num_object │\n",
       "│ ---                 ┆ ---                 ┆ ---                ┆ ---                ┆ ---        │\n",
       "│ str                 ┆ str                 ┆ str                ┆ str                ┆ f64        │\n",
       "╞═════════════════════╪═════════════════════╪════════════════════╪════════════════════╪════════════╡\n",
       "│ <id_hDRa6zyFME_Tm9_ ┆ <id_KdEX!y?wiG_wda_ ┆ <extractionSource> ┆ <http://wndomains. ┆ null       │\n",
       "│ 55bt!vsIpD>         ┆ WURcLBQM1c>         ┆                    ┆ fbk.eu>            ┆            │\n",
       "│ null                ┆ <id_hDRa6zyFME_Tm9_ ┆ <extractionTechniq ┆ Wordnet Domain     ┆ null       │\n",
       "│                     ┆ 55bt!vsIpD>         ┆ ue>                ┆ Mapper             ┆            │\n",
       "│ <id_BGYHPlOgkD_Tm9_ ┆ <id_g9psfcitLx_wda_ ┆ <extractionSource> ┆ <http://wndomains. ┆ null       │\n",
       "│ 55bt!vsIpD>         ┆ WURcLBQM1c>         ┆                    ┆ fbk.eu>            ┆            │\n",
       "│ null                ┆ <id_BGYHPlOgkD_Tm9_ ┆ <extractionTechniq ┆ Wordnet Domain     ┆ null       │\n",
       "│                     ┆ 55bt!vsIpD>         ┆ ue>                ┆ Mapper             ┆            │\n",
       "│ <id_Ac8GoREHLt_Tm9_ ┆ <id_Vai9oEZk!D_wda_ ┆ <extractionSource> ┆ <http://wndomains. ┆ null       │\n",
       "│ 55bt!vsIpD>         ┆ WURcLBQM1c>         ┆                    ┆ fbk.eu>            ┆            │\n",
       "│ …                   ┆ …                   ┆ …                  ┆ …                  ┆ …          │\n",
       "│ null                ┆ <id_E2vzUhX1cK_Tm9_ ┆ <extractionTechniq ┆ Wordnet Domain     ┆ null       │\n",
       "│                     ┆ 55bt!vsIpD>         ┆ ue>                ┆ Mapper             ┆            │\n",
       "│ <id_pwLbtbwFcA_Tm9_ ┆ <id_xFbkV7VFKE_KCM_ ┆ <extractionSource> ┆ <http://wndomains. ┆ null       │\n",
       "│ 55bt!vsIpD>         ┆ 0ANAsR1IF3>         ┆                    ┆ fbk.eu>            ┆            │\n",
       "│ null                ┆ <id_pwLbtbwFcA_Tm9_ ┆ <extractionTechniq ┆ Wordnet Domain     ┆ null       │\n",
       "│                     ┆ 55bt!vsIpD>         ┆ ue>                ┆ Mapper             ┆            │\n",
       "│ <id_5Holafumwh_Tm9_ ┆ <id_xFbkV7VFKE_SBd_ ┆ <extractionSource> ┆ <http://wndomains. ┆ null       │\n",
       "│ 55bt!vsIpD>         ┆ OMHAMuge?q>         ┆                    ┆ fbk.eu>            ┆            │\n",
       "│ null                ┆ <id_5Holafumwh_Tm9_ ┆ <extractionTechniq ┆ Wordnet Domain     ┆ null       │\n",
       "│                     ┆ 55bt!vsIpD>         ┆ ue>                ┆ Mapper             ┆            │\n",
       "└─────────────────────┴─────────────────────┴────────────────────┴────────────────────┴────────────┘"
      ]
     },
     "metadata": {},
     "output_type": "display_data"
    },
    {
     "name": "stdout",
     "output_type": "stream",
     "text": [
      "wordnetGlosses.tsv\n"
     ]
    },
    {
     "data": {
      "text/html": [
       "<div><style>\n",
       ".dataframe > thead > tr,\n",
       ".dataframe > tbody > tr {\n",
       "  text-align: right;\n",
       "  white-space: pre-wrap;\n",
       "}\n",
       "</style>\n",
       "<small>shape: (68_862, 5)</small><table border=\"1\" class=\"dataframe\"><thead><tr><th>id</th><th>subject</th><th>predicate</th><th>cat_object</th><th>num_object</th></tr><tr><td>str</td><td>str</td><td>str</td><td>str</td><td>f64</td></tr></thead><tbody><tr><td>null</td><td>&quot;owl:Thing&quot;</td><td>&quot;&lt;hasGloss&gt;&quot;</td><td>&quot;that which is perceived or known or inferred to have its own distinct existence (living or nonliving)@eng&quot;</td><td>null</td></tr><tr><td>null</td><td>&quot;&lt;wordnet_physical_entity_100001930&gt;&quot;</td><td>&quot;&lt;hasGloss&gt;&quot;</td><td>&quot;an entity that has physical existence@eng&quot;</td><td>null</td></tr><tr><td>null</td><td>&quot;&lt;wordnet_abstraction_100002137&gt;&quot;</td><td>&quot;&lt;hasGloss&gt;&quot;</td><td>&quot;a general concept formed by extracting common features from specific examples@eng&quot;</td><td>null</td></tr><tr><td>null</td><td>&quot;&lt;wordnet_thing_100002452&gt;&quot;</td><td>&quot;&lt;hasGloss&gt;&quot;</td><td>&quot;a separate and self-contained entity@eng&quot;</td><td>null</td></tr><tr><td>null</td><td>&quot;&lt;wordnet_object_100002684&gt;&quot;</td><td>&quot;&lt;hasGloss&gt;&quot;</td><td>&quot;a tangible and visible entity; an entity that can cast a shadow; &#x27;it was full of rackets, balls and other objects&#x27;@eng&quot;</td><td>null</td></tr><tr><td>null</td><td>&quot;&lt;wordnet_whole_100003553&gt;&quot;</td><td>&quot;&lt;hasGloss&gt;&quot;</td><td>&quot;an assemblage of parts that is regarded as a single entity; &#x27;how big is that part compared to the whole?&#x27;; &#x27;the team is a unit&#x27;@eng&quot;</td><td>null</td></tr><tr><td>null</td><td>&quot;&lt;wordnet_congener_100003993&gt;&quot;</td><td>&quot;&lt;hasGloss&gt;&quot;</td><td>&quot;a whole (a thing or person) of the same kind or category as another; &#x27;lard was also used, though its congener, butter, was more frequently employed&#x27;;…</td><td>null</td></tr><tr><td>null</td><td>&quot;&lt;wordnet_living_thing_100004258&gt;&quot;</td><td>&quot;&lt;hasGloss&gt;&quot;</td><td>&quot;a living (or once living) entity@eng&quot;</td><td>null</td></tr><tr><td>null</td><td>&quot;&lt;wordnet_organism_100004475&gt;&quot;</td><td>&quot;&lt;hasGloss&gt;&quot;</td><td>&quot;a living thing that has (or can develop) the ability to act or function independently@eng&quot;</td><td>null</td></tr><tr><td>null</td><td>&quot;&lt;wordnet_benthos_100005787&gt;&quot;</td><td>&quot;&lt;hasGloss&gt;&quot;</td><td>&quot;organisms (plants and animals) that live at or near the bottom of a sea@eng&quot;</td><td>null</td></tr><tr><td>null</td><td>&quot;&lt;wordnet_dwarf_100005930&gt;&quot;</td><td>&quot;&lt;hasGloss&gt;&quot;</td><td>&quot;a plant or animal that is atypically small@eng&quot;</td><td>null</td></tr><tr><td>null</td><td>&quot;&lt;wordnet_heterotroph_100006024&gt;&quot;</td><td>&quot;&lt;hasGloss&gt;&quot;</td><td>&quot;an organism that depends on complex organic substances for nutrition@eng&quot;</td><td>null</td></tr><tr><td>&hellip;</td><td>&hellip;</td><td>&hellip;</td><td>&hellip;</td><td>&hellip;</td></tr><tr><td>null</td><td>&quot;&lt;wordnet_probation_115297472&gt;&quot;</td><td>&quot;&lt;hasGloss&gt;&quot;</td><td>&quot;a trial period during which your character and abilities are tested to see whether you are suitable for work or for membership@eng&quot;</td><td>null</td></tr><tr><td>null</td><td>&quot;&lt;wordnet_processing_time_115297672&gt;&quot;</td><td>&quot;&lt;hasGloss&gt;&quot;</td><td>&quot;the time it takes to complete a prescribed procedure; &#x27;they increased output by decreasing processing time&#x27;@eng&quot;</td><td>null</td></tr><tr><td>null</td><td>&quot;&lt;wordnet_air_alert_115297859&gt;&quot;</td><td>&quot;&lt;hasGloss&gt;&quot;</td><td>&quot;the time period during which military and civilian agencies are prepared for an enemy air attack@eng&quot;</td><td>null</td></tr><tr><td>null</td><td>&quot;&lt;wordnet_command_processing_overhead_time_115298011&gt;&quot;</td><td>&quot;&lt;hasGloss&gt;&quot;</td><td>&quot;(computer science) the processing time required by a device prior to the execution of a command@eng&quot;</td><td>null</td></tr><tr><td>null</td><td>&quot;&lt;wordnet_question_time_115298507&gt;&quot;</td><td>&quot;&lt;hasGloss&gt;&quot;</td><td>&quot;a period during a parliamentary session when members of British Parliament may ask questions of the ministers@eng&quot;</td><td>null</td></tr><tr><td>null</td><td>&quot;&lt;wordnet_real_time_115298695&gt;&quot;</td><td>&quot;&lt;hasGloss&gt;&quot;</td><td>&quot;(computer science) the time it takes for a process under computer control to occur@eng&quot;</td><td>null</td></tr><tr><td>null</td><td>&quot;&lt;wordnet_real_time_115298852&gt;&quot;</td><td>&quot;&lt;hasGloss&gt;&quot;</td><td>&quot;the actual time that it takes a process to occur; &#x27;information is updated in real time&#x27;@eng&quot;</td><td>null</td></tr><tr><td>null</td><td>&quot;&lt;wordnet_regency_115298995&gt;&quot;</td><td>&quot;&lt;hasGloss&gt;&quot;</td><td>&quot;the period of time during which a regent governs@eng&quot;</td><td>null</td></tr><tr><td>null</td><td>&quot;&lt;wordnet_snap_115299097&gt;&quot;</td><td>&quot;&lt;hasGloss&gt;&quot;</td><td>&quot;a spell of cold weather; &#x27;a cold snap in the middle of May&#x27;@eng&quot;</td><td>null</td></tr><tr><td>null</td><td>&quot;&lt;wordnet_study_hall_115299225&gt;&quot;</td><td>&quot;&lt;hasGloss&gt;&quot;</td><td>&quot;a period of time during the school day that is set aside for study@eng&quot;</td><td>null</td></tr><tr><td>null</td><td>&quot;&lt;wordnet_usance_115299585&gt;&quot;</td><td>&quot;&lt;hasGloss&gt;&quot;</td><td>&quot;the period of time permitted by commercial usage for the payment of a bill of exchange (especially a foreign bill of exchange)@eng&quot;</td><td>null</td></tr><tr><td>null</td><td>&quot;&lt;wordnet_window_115299783&gt;&quot;</td><td>&quot;&lt;hasGloss&gt;&quot;</td><td>&quot;the time period that is considered best for starting or finishing something; &#x27;the expanded window will give us time to catch the thieves&#x27;; &#x27;they had …</td><td>null</td></tr></tbody></table></div>"
      ],
      "text/plain": [
       "shape: (68_862, 5)\n",
       "┌──────┬────────────────────────────────┬────────────┬────────────────────────────────┬────────────┐\n",
       "│ id   ┆ subject                        ┆ predicate  ┆ cat_object                     ┆ num_object │\n",
       "│ ---  ┆ ---                            ┆ ---        ┆ ---                            ┆ ---        │\n",
       "│ str  ┆ str                            ┆ str        ┆ str                            ┆ f64        │\n",
       "╞══════╪════════════════════════════════╪════════════╪════════════════════════════════╪════════════╡\n",
       "│ null ┆ owl:Thing                      ┆ <hasGloss> ┆ that which is perceived or     ┆ null       │\n",
       "│      ┆                                ┆            ┆ known or inferred to have its  ┆            │\n",
       "│      ┆                                ┆            ┆ own distinct existence (living ┆            │\n",
       "│      ┆                                ┆            ┆ or nonliving)@eng              ┆            │\n",
       "│ null ┆ <wordnet_physical_entity_10000 ┆ <hasGloss> ┆ an entity that has physical    ┆ null       │\n",
       "│      ┆ 1930>                          ┆            ┆ existence@eng                  ┆            │\n",
       "│ null ┆ <wordnet_abstraction_100002137 ┆ <hasGloss> ┆ a general concept formed by    ┆ null       │\n",
       "│      ┆ >                              ┆            ┆ extracting common features     ┆            │\n",
       "│      ┆                                ┆            ┆ from specific examples@eng     ┆            │\n",
       "│ null ┆ <wordnet_thing_100002452>      ┆ <hasGloss> ┆ a separate and self-contained  ┆ null       │\n",
       "│      ┆                                ┆            ┆ entity@eng                     ┆            │\n",
       "│ null ┆ <wordnet_object_100002684>     ┆ <hasGloss> ┆ a tangible and visible entity; ┆ null       │\n",
       "│      ┆                                ┆            ┆ an entity that can cast a      ┆            │\n",
       "│      ┆                                ┆            ┆ shadow; 'it was full of        ┆            │\n",
       "│      ┆                                ┆            ┆ rackets, balls and other       ┆            │\n",
       "│      ┆                                ┆            ┆ objects'@eng                   ┆            │\n",
       "│ …    ┆ …                              ┆ …          ┆ …                              ┆ …          │\n",
       "│ null ┆ <wordnet_regency_115298995>    ┆ <hasGloss> ┆ the period of time during      ┆ null       │\n",
       "│      ┆                                ┆            ┆ which a regent governs@eng     ┆            │\n",
       "│ null ┆ <wordnet_snap_115299097>       ┆ <hasGloss> ┆ a spell of cold weather; 'a    ┆ null       │\n",
       "│      ┆                                ┆            ┆ cold snap in the middle of     ┆            │\n",
       "│      ┆                                ┆            ┆ May'@eng                       ┆            │\n",
       "│ null ┆ <wordnet_study_hall_115299225> ┆ <hasGloss> ┆ a period of time during the    ┆ null       │\n",
       "│      ┆                                ┆            ┆ school day that is set aside   ┆            │\n",
       "│      ┆                                ┆            ┆ for study@eng                  ┆            │\n",
       "│ null ┆ <wordnet_usance_115299585>     ┆ <hasGloss> ┆ the period of time permitted   ┆ null       │\n",
       "│      ┆                                ┆            ┆ by commercial usage for the    ┆            │\n",
       "│      ┆                                ┆            ┆ payment of a bill of exchange  ┆            │\n",
       "│      ┆                                ┆            ┆ (especially a foreign bill of  ┆            │\n",
       "│      ┆                                ┆            ┆ exchange)@eng                  ┆            │\n",
       "│ null ┆ <wordnet_window_115299783>     ┆ <hasGloss> ┆ the time period that is        ┆ null       │\n",
       "│      ┆                                ┆            ┆ considered best for starting   ┆            │\n",
       "│      ┆                                ┆            ┆ or finishing something; 'the   ┆            │\n",
       "│      ┆                                ┆            ┆ expanded window will give us   ┆            │\n",
       "│      ┆                                ┆            ┆ time to catch the thieves';    ┆            │\n",
       "│      ┆                                ┆            ┆ 'they had a…                   ┆            │\n",
       "└──────┴────────────────────────────────┴────────────┴────────────────────────────────┴────────────┘"
      ]
     },
     "metadata": {},
     "output_type": "display_data"
    },
    {
     "name": "stdout",
     "output_type": "stream",
     "text": [
      "wordnetWords.tsv\n"
     ]
    },
    {
     "data": {
      "text/html": [
       "<div><style>\n",
       ".dataframe > thead > tr,\n",
       ".dataframe > tbody > tr {\n",
       "  text-align: right;\n",
       "  white-space: pre-wrap;\n",
       "}\n",
       "</style>\n",
       "<small>shape: (178_177, 5)</small><table border=\"1\" class=\"dataframe\"><thead><tr><th>id</th><th>subject</th><th>predicate</th><th>cat_object</th><th>num_object</th></tr><tr><td>str</td><td>str</td><td>str</td><td>str</td><td>f64</td></tr></thead><tbody><tr><td>null</td><td>&quot;owl:Thing&quot;</td><td>&quot;skos:prefLabel&quot;</td><td>&quot;entity@eng&quot;</td><td>null</td></tr><tr><td>null</td><td>&quot;owl:Thing&quot;</td><td>&quot;rdfs:label&quot;</td><td>&quot;entity@eng&quot;</td><td>null</td></tr><tr><td>null</td><td>&quot;&lt;wordnet_physical_entity_100001930&gt;&quot;</td><td>&quot;skos:prefLabel&quot;</td><td>&quot;physical entity@eng&quot;</td><td>null</td></tr><tr><td>null</td><td>&quot;&lt;wordnet_physical_entity_100001930&gt;&quot;</td><td>&quot;rdfs:label&quot;</td><td>&quot;physical entity@eng&quot;</td><td>null</td></tr><tr><td>null</td><td>&quot;&lt;wordnet_abstraction_100002137&gt;&quot;</td><td>&quot;skos:prefLabel&quot;</td><td>&quot;abstraction@eng&quot;</td><td>null</td></tr><tr><td>null</td><td>&quot;&lt;wordnet_abstraction_100002137&gt;&quot;</td><td>&quot;rdfs:label&quot;</td><td>&quot;abstraction@eng&quot;</td><td>null</td></tr><tr><td>null</td><td>&quot;&lt;wordnet_abstraction_100002137&gt;&quot;</td><td>&quot;rdfs:label&quot;</td><td>&quot;abstract entity@eng&quot;</td><td>null</td></tr><tr><td>null</td><td>&quot;&lt;wordnet_thing_100002452&gt;&quot;</td><td>&quot;skos:prefLabel&quot;</td><td>&quot;thing@eng&quot;</td><td>null</td></tr><tr><td>null</td><td>&quot;&lt;wordnet_thing_100002452&gt;&quot;</td><td>&quot;rdfs:label&quot;</td><td>&quot;thing@eng&quot;</td><td>null</td></tr><tr><td>null</td><td>&quot;&lt;wordnet_object_100002684&gt;&quot;</td><td>&quot;skos:prefLabel&quot;</td><td>&quot;object@eng&quot;</td><td>null</td></tr><tr><td>null</td><td>&quot;&lt;wordnet_object_100002684&gt;&quot;</td><td>&quot;rdfs:label&quot;</td><td>&quot;object@eng&quot;</td><td>null</td></tr><tr><td>null</td><td>&quot;&lt;wordnet_object_100002684&gt;&quot;</td><td>&quot;rdfs:label&quot;</td><td>&quot;physical object@eng&quot;</td><td>null</td></tr><tr><td>&hellip;</td><td>&hellip;</td><td>&hellip;</td><td>&hellip;</td><td>&hellip;</td></tr><tr><td>null</td><td>&quot;&lt;wordnet_real_time_115298852&gt;&quot;</td><td>&quot;skos:prefLabel&quot;</td><td>&quot;real time@eng&quot;</td><td>null</td></tr><tr><td>null</td><td>&quot;&lt;wordnet_real_time_115298852&gt;&quot;</td><td>&quot;rdfs:label&quot;</td><td>&quot;real time@eng&quot;</td><td>null</td></tr><tr><td>null</td><td>&quot;&lt;wordnet_regency_115298995&gt;&quot;</td><td>&quot;skos:prefLabel&quot;</td><td>&quot;regency@eng&quot;</td><td>null</td></tr><tr><td>null</td><td>&quot;&lt;wordnet_regency_115298995&gt;&quot;</td><td>&quot;rdfs:label&quot;</td><td>&quot;regency@eng&quot;</td><td>null</td></tr><tr><td>null</td><td>&quot;&lt;wordnet_snap_115299097&gt;&quot;</td><td>&quot;skos:prefLabel&quot;</td><td>&quot;snap@eng&quot;</td><td>null</td></tr><tr><td>null</td><td>&quot;&lt;wordnet_snap_115299097&gt;&quot;</td><td>&quot;rdfs:label&quot;</td><td>&quot;snap@eng&quot;</td><td>null</td></tr><tr><td>null</td><td>&quot;&lt;wordnet_study_hall_115299225&gt;&quot;</td><td>&quot;skos:prefLabel&quot;</td><td>&quot;study hall@eng&quot;</td><td>null</td></tr><tr><td>null</td><td>&quot;&lt;wordnet_study_hall_115299225&gt;&quot;</td><td>&quot;rdfs:label&quot;</td><td>&quot;study hall@eng&quot;</td><td>null</td></tr><tr><td>null</td><td>&quot;&lt;wordnet_usance_115299585&gt;&quot;</td><td>&quot;skos:prefLabel&quot;</td><td>&quot;usance@eng&quot;</td><td>null</td></tr><tr><td>null</td><td>&quot;&lt;wordnet_usance_115299585&gt;&quot;</td><td>&quot;rdfs:label&quot;</td><td>&quot;usance@eng&quot;</td><td>null</td></tr><tr><td>null</td><td>&quot;&lt;wordnet_window_115299783&gt;&quot;</td><td>&quot;skos:prefLabel&quot;</td><td>&quot;window@eng&quot;</td><td>null</td></tr><tr><td>null</td><td>&quot;&lt;wordnet_window_115299783&gt;&quot;</td><td>&quot;rdfs:label&quot;</td><td>&quot;window@eng&quot;</td><td>null</td></tr></tbody></table></div>"
      ],
      "text/plain": [
       "shape: (178_177, 5)\n",
       "┌──────┬─────────────────────────────────────┬────────────────┬─────────────────────┬────────────┐\n",
       "│ id   ┆ subject                             ┆ predicate      ┆ cat_object          ┆ num_object │\n",
       "│ ---  ┆ ---                                 ┆ ---            ┆ ---                 ┆ ---        │\n",
       "│ str  ┆ str                                 ┆ str            ┆ str                 ┆ f64        │\n",
       "╞══════╪═════════════════════════════════════╪════════════════╪═════════════════════╪════════════╡\n",
       "│ null ┆ owl:Thing                           ┆ skos:prefLabel ┆ entity@eng          ┆ null       │\n",
       "│ null ┆ owl:Thing                           ┆ rdfs:label     ┆ entity@eng          ┆ null       │\n",
       "│ null ┆ <wordnet_physical_entity_100001930> ┆ skos:prefLabel ┆ physical entity@eng ┆ null       │\n",
       "│ null ┆ <wordnet_physical_entity_100001930> ┆ rdfs:label     ┆ physical entity@eng ┆ null       │\n",
       "│ null ┆ <wordnet_abstraction_100002137>     ┆ skos:prefLabel ┆ abstraction@eng     ┆ null       │\n",
       "│ …    ┆ …                                   ┆ …              ┆ …                   ┆ …          │\n",
       "│ null ┆ <wordnet_study_hall_115299225>      ┆ rdfs:label     ┆ study hall@eng      ┆ null       │\n",
       "│ null ┆ <wordnet_usance_115299585>          ┆ skos:prefLabel ┆ usance@eng          ┆ null       │\n",
       "│ null ┆ <wordnet_usance_115299585>          ┆ rdfs:label     ┆ usance@eng          ┆ null       │\n",
       "│ null ┆ <wordnet_window_115299783>          ┆ skos:prefLabel ┆ window@eng          ┆ null       │\n",
       "│ null ┆ <wordnet_window_115299783>          ┆ rdfs:label     ┆ window@eng          ┆ null       │\n",
       "└──────┴─────────────────────────────────────┴────────────────┴─────────────────────┴────────────┘"
      ]
     },
     "metadata": {},
     "output_type": "display_data"
    },
    {
     "name": "stdout",
     "output_type": "stream",
     "text": [
      "yagoConteXtFacts_en.tsv\n"
     ]
    },
    {
     "data": {
      "text/html": [
       "<div><style>\n",
       ".dataframe > thead > tr,\n",
       ".dataframe > tbody > tr {\n",
       "  text-align: right;\n",
       "  white-space: pre-wrap;\n",
       "}\n",
       "</style>\n",
       "<small>shape: (287_356_299, 5)</small><table border=\"1\" class=\"dataframe\"><thead><tr><th>id</th><th>subject</th><th>predicate</th><th>cat_object</th><th>num_object</th></tr><tr><td>str</td><td>str</td><td>str</td><td>str</td><td>f64</td></tr></thead><tbody><tr><td>&quot;&lt;id_Qc7mALbFqB_V2A_h76dfCCsok&gt;&quot;</td><td>&quot;&lt;Armed_Forces_of_the_Islamic_Emirate_of_Afghanistan&gt;&quot;</td><td>&quot;&lt;hasWikipediaAnchorText&gt;&quot;</td><td>&quot;Armed Forces of the Islamic Emirate of Afghanistan@eng&quot;</td><td>null</td></tr><tr><td>&quot;&lt;id_YhI50E8e4o_V2A_YhI50E8e4o&gt;&quot;</td><td>&quot;&lt;As_We_May_Think&gt;&quot;</td><td>&quot;&lt;hasWikipediaAnchorText&gt;&quot;</td><td>&quot;As_We_May_Think@eng&quot;</td><td>null</td></tr><tr><td>&quot;&lt;id_oGAuj5oBlI_V2A_4WhSWkvqKa&gt;&quot;</td><td>&quot;&lt;Economy_of_Albania&gt;&quot;</td><td>&quot;&lt;hasWikipediaAnchorText&gt;&quot;</td><td>&quot;Economy of Albania@eng&quot;</td><td>null</td></tr><tr><td>&quot;&lt;id_zrISWmrpeY_V2A_O8N1u8?3wd&gt;&quot;</td><td>&quot;&lt;Afroasiatic_languages&gt;&quot;</td><td>&quot;&lt;hasWikipediaAnchorText&gt;&quot;</td><td>&quot;Afroasiatic languages@eng&quot;</td><td>null</td></tr><tr><td>&quot;&lt;id_uMB7xSIJwm_V2A_KCUgL2UahT&gt;&quot;</td><td>&quot;&lt;Constructed_language&gt;&quot;</td><td>&quot;&lt;hasWikipediaAnchorText&gt;&quot;</td><td>&quot;Constructed language@eng&quot;</td><td>null</td></tr><tr><td>&quot;&lt;id_zOcgXyisvk_V2A_yPAEbHj6nl&gt;&quot;</td><td>&quot;&lt;Abbadid_dynasty&gt;&quot;</td><td>&quot;&lt;hasWikipediaAnchorText&gt;&quot;</td><td>&quot;Abbadid dynasty@eng&quot;</td><td>null</td></tr><tr><td>&quot;&lt;id_9?24g!b5qc_V2A_9?24g!b5qc&gt;&quot;</td><td>&quot;&lt;Abbeville&gt;&quot;</td><td>&quot;&lt;hasWikipediaAnchorText&gt;&quot;</td><td>&quot;Abbeville@eng&quot;</td><td>null</td></tr><tr><td>&quot;&lt;id_keCTs8y!te_V2A_tDspladhzx&gt;&quot;</td><td>&quot;&lt;Atlas_Shrugged&gt;&quot;</td><td>&quot;&lt;hasWikipediaAnchorText&gt;&quot;</td><td>&quot;Atlas Shrugged@eng&quot;</td><td>null</td></tr><tr><td>&quot;&lt;id_uMB7xSIJwm_V2A_KCUgL2UahT&gt;&quot;</td><td>&quot;&lt;Constructed_language&gt;&quot;</td><td>&quot;&lt;hasWikipediaAnchorText&gt;&quot;</td><td>&quot;Constructed language@eng&quot;</td><td>null</td></tr><tr><td>&quot;&lt;id_keCTs8y!te_V2A_tDspladhzx&gt;&quot;</td><td>&quot;&lt;Atlas_Shrugged&gt;&quot;</td><td>&quot;&lt;hasWikipediaAnchorText&gt;&quot;</td><td>&quot;Atlas Shrugged@eng&quot;</td><td>null</td></tr><tr><td>&quot;&lt;id_keCTs8y!te_V2A_tDspladhzx&gt;&quot;</td><td>&quot;&lt;Atlas_Shrugged&gt;&quot;</td><td>&quot;&lt;hasWikipediaAnchorText&gt;&quot;</td><td>&quot;Atlas Shrugged@eng&quot;</td><td>null</td></tr><tr><td>&quot;&lt;id_LYNH4Yjl9i_V2A_J4SXcMlaP3&gt;&quot;</td><td>&quot;&lt;African_Americans&gt;&quot;</td><td>&quot;&lt;hasWikipediaAnchorText&gt;&quot;</td><td>&quot;African Americans@eng&quot;</td><td>null</td></tr><tr><td>&hellip;</td><td>&hellip;</td><td>&hellip;</td><td>&hellip;</td><td>&hellip;</td></tr><tr><td>&quot;&lt;id_dm7MCS5sj9_V2A_KFlo!dGtpD&gt;&quot;</td><td>&quot;&lt;Harald_the_Stalwart&gt;&quot;</td><td>&quot;&lt;hasWikipediaAnchorText&gt;&quot;</td><td>&quot;Nils Hallberg@eng&quot;</td><td>null</td></tr><tr><td>&quot;&lt;id_dm7MCS5sj9_V2A_RbmEpHSLQE&gt;&quot;</td><td>&quot;&lt;Harald_the_Stalwart&gt;&quot;</td><td>&quot;&lt;hasWikipediaAnchorText&gt;&quot;</td><td>&quot;Olle Hilding@eng&quot;</td><td>null</td></tr><tr><td>&quot;&lt;id_dm7MCS5sj9_V2A_75ym6F?FeI&gt;&quot;</td><td>&quot;&lt;Harald_the_Stalwart&gt;&quot;</td><td>&quot;&lt;hasWikipediaAnchorText&gt;&quot;</td><td>&quot;Artur Rolén@eng&quot;</td><td>null</td></tr><tr><td>&quot;&lt;id_dm7MCS5sj9_V2A_5v8yDrPaj0&gt;&quot;</td><td>&quot;&lt;Harald_the_Stalwart&gt;&quot;</td><td>&quot;&lt;hasWikipediaAnchorText&gt;&quot;</td><td>&quot;Hanny Schedin@eng&quot;</td><td>null</td></tr><tr><td>&quot;&lt;id_dm7MCS5sj9_V2A_zCkZkSIS2k&gt;&quot;</td><td>&quot;&lt;Harald_the_Stalwart&gt;&quot;</td><td>&quot;&lt;hasWikipediaAnchorText&gt;&quot;</td><td>&quot;Vera Valdor@eng&quot;</td><td>null</td></tr><tr><td>&quot;&lt;id_dm7MCS5sj9_V2A_ZnRinUV22y&gt;&quot;</td><td>&quot;&lt;Harald_the_Stalwart&gt;&quot;</td><td>&quot;&lt;hasWikipediaAnchorText&gt;&quot;</td><td>&quot;Wiktor Andersson@eng&quot;</td><td>null</td></tr><tr><td>&quot;&lt;id_dm7MCS5sj9_V2A_l5CqnVwqN9&gt;&quot;</td><td>&quot;&lt;Harald_the_Stalwart&gt;&quot;</td><td>&quot;&lt;hasWikipediaAnchorText&gt;&quot;</td><td>&quot;Hampe Faustman@eng&quot;</td><td>null</td></tr><tr><td>&quot;&lt;id_dm7MCS5sj9_V2A_hYhZjC?Pde&gt;&quot;</td><td>&quot;&lt;Harald_the_Stalwart&gt;&quot;</td><td>&quot;&lt;hasWikipediaAnchorText&gt;&quot;</td><td>&quot;Erik Forslund@eng&quot;</td><td>null</td></tr><tr><td>&quot;&lt;id_dm7MCS5sj9_V2A_WOVUTiQBAn&gt;&quot;</td><td>&quot;&lt;Harald_the_Stalwart&gt;&quot;</td><td>&quot;&lt;hasWikipediaAnchorText&gt;&quot;</td><td>&quot;Georg Skarstedt@eng&quot;</td><td>null</td></tr><tr><td>&quot;&lt;id_dm7MCS5sj9_V2A_FYJ8QKfWbk&gt;&quot;</td><td>&quot;&lt;Harald_the_Stalwart&gt;&quot;</td><td>&quot;&lt;hasWikipediaAnchorText&gt;&quot;</td><td>&quot;Ivar Wahlgren@eng&quot;</td><td>null</td></tr><tr><td>&quot;&lt;id_dm7MCS5sj9_V2A_TGV4RObhxg&gt;&quot;</td><td>&quot;&lt;Harald_the_Stalwart&gt;&quot;</td><td>&quot;&lt;hasWikipediaAnchorText&gt;&quot;</td><td>&quot;Gunn Wållgren@eng&quot;</td><td>null</td></tr><tr><td>&quot;&lt;id_dm7MCS5sj9_V2A_b78eODZY7h&gt;&quot;</td><td>&quot;&lt;Harald_the_Stalwart&gt;&quot;</td><td>&quot;&lt;hasWikipediaAnchorText&gt;&quot;</td><td>&quot;Harald the Stalwart@eng&quot;</td><td>null</td></tr></tbody></table></div>"
      ],
      "text/plain": [
       "shape: (287_356_299, 5)\n",
       "┌─────────────────────┬─────────────────────┬────────────────────┬────────────────────┬────────────┐\n",
       "│ id                  ┆ subject             ┆ predicate          ┆ cat_object         ┆ num_object │\n",
       "│ ---                 ┆ ---                 ┆ ---                ┆ ---                ┆ ---        │\n",
       "│ str                 ┆ str                 ┆ str                ┆ str                ┆ f64        │\n",
       "╞═════════════════════╪═════════════════════╪════════════════════╪════════════════════╪════════════╡\n",
       "│ <id_Qc7mALbFqB_V2A_ ┆ <Armed_Forces_of_th ┆ <hasWikipediaAncho ┆ Armed Forces of    ┆ null       │\n",
       "│ h76dfCCsok>         ┆ e_Islamic_Emirate_o ┆ rText>             ┆ the Islamic        ┆            │\n",
       "│                     ┆ f_Afghanistan>      ┆                    ┆ Emirate of         ┆            │\n",
       "│                     ┆                     ┆                    ┆ Afghanistan@eng    ┆            │\n",
       "│ <id_YhI50E8e4o_V2A_ ┆ <As_We_May_Think>   ┆ <hasWikipediaAncho ┆ As_We_May_Think@en ┆ null       │\n",
       "│ YhI50E8e4o>         ┆                     ┆ rText>             ┆ g                  ┆            │\n",
       "│ <id_oGAuj5oBlI_V2A_ ┆ <Economy_of_Albania ┆ <hasWikipediaAncho ┆ Economy of         ┆ null       │\n",
       "│ 4WhSWkvqKa>         ┆ >                   ┆ rText>             ┆ Albania@eng        ┆            │\n",
       "│ <id_zrISWmrpeY_V2A_ ┆ <Afroasiatic_langua ┆ <hasWikipediaAncho ┆ Afroasiatic        ┆ null       │\n",
       "│ O8N1u8?3wd>         ┆ ges>                ┆ rText>             ┆ languages@eng      ┆            │\n",
       "│ <id_uMB7xSIJwm_V2A_ ┆ <Constructed_langua ┆ <hasWikipediaAncho ┆ Constructed        ┆ null       │\n",
       "│ KCUgL2UahT>         ┆ ge>                 ┆ rText>             ┆ language@eng       ┆            │\n",
       "│ …                   ┆ …                   ┆ …                  ┆ …                  ┆ …          │\n",
       "│ <id_dm7MCS5sj9_V2A_ ┆ <Harald_the_Stalwar ┆ <hasWikipediaAncho ┆ Erik Forslund@eng  ┆ null       │\n",
       "│ hYhZjC?Pde>         ┆ t>                  ┆ rText>             ┆                    ┆            │\n",
       "│ <id_dm7MCS5sj9_V2A_ ┆ <Harald_the_Stalwar ┆ <hasWikipediaAncho ┆ Georg              ┆ null       │\n",
       "│ WOVUTiQBAn>         ┆ t>                  ┆ rText>             ┆ Skarstedt@eng      ┆            │\n",
       "│ <id_dm7MCS5sj9_V2A_ ┆ <Harald_the_Stalwar ┆ <hasWikipediaAncho ┆ Ivar Wahlgren@eng  ┆ null       │\n",
       "│ FYJ8QKfWbk>         ┆ t>                  ┆ rText>             ┆                    ┆            │\n",
       "│ <id_dm7MCS5sj9_V2A_ ┆ <Harald_the_Stalwar ┆ <hasWikipediaAncho ┆ Gunn Wållgren@eng  ┆ null       │\n",
       "│ TGV4RObhxg>         ┆ t>                  ┆ rText>             ┆                    ┆            │\n",
       "│ <id_dm7MCS5sj9_V2A_ ┆ <Harald_the_Stalwar ┆ <hasWikipediaAncho ┆ Harald the         ┆ null       │\n",
       "│ b78eODZY7h>         ┆ t>                  ┆ rText>             ┆ Stalwart@eng       ┆            │\n",
       "└─────────────────────┴─────────────────────┴────────────────────┴────────────────────┴────────────┘"
      ]
     },
     "metadata": {},
     "output_type": "display_data"
    },
    {
     "name": "stdout",
     "output_type": "stream",
     "text": [
      "yagoConteXtFacts_fr.tsv\n"
     ]
    },
    {
     "data": {
      "text/html": [
       "<div><style>\n",
       ".dataframe > thead > tr,\n",
       ".dataframe > tbody > tr {\n",
       "  text-align: right;\n",
       "  white-space: pre-wrap;\n",
       "}\n",
       "</style>\n",
       "<small>shape: (96_874_171, 5)</small><table border=\"1\" class=\"dataframe\"><thead><tr><th>id</th><th>subject</th><th>predicate</th><th>cat_object</th><th>num_object</th></tr><tr><td>str</td><td>str</td><td>str</td><td>str</td><td>f64</td></tr></thead><tbody><tr><td>&quot;&lt;id_PSA3W26OQ1_V2A_p8lHgJrLRR&gt;&quot;</td><td>&quot;&lt;Antoine_Meillet&gt;&quot;</td><td>&quot;&lt;hasWikipediaAnchorText&gt;&quot;</td><td>&quot;Institut National des Langues et Civilisations Orientales@fra&quot;</td><td>null</td></tr><tr><td>&quot;&lt;id_PSA3W26OQ1_V2A_yvmP72oA!r&gt;&quot;</td><td>&quot;&lt;Antoine_Meillet&gt;&quot;</td><td>&quot;&lt;hasWikipediaAnchorText&gt;&quot;</td><td>&quot;Moulins@fra&quot;</td><td>null</td></tr><tr><td>&quot;&lt;id_PSA3W26OQ1_V2A_BXIZL6!I4m&gt;&quot;</td><td>&quot;&lt;Antoine_Meillet&gt;&quot;</td><td>&quot;&lt;hasWikipediaAnchorText&gt;&quot;</td><td>&quot;Allier@fra&quot;</td><td>null</td></tr><tr><td>&quot;&lt;id_PSA3W26OQ1_V2A_RbsrMgBNPb&gt;&quot;</td><td>&quot;&lt;Antoine_Meillet&gt;&quot;</td><td>&quot;&lt;hasWikipediaAnchorText&gt;&quot;</td><td>&quot;Cher@fra&quot;</td><td>null</td></tr><tr><td>&quot;&lt;id_PSA3W26OQ1_V2A_l8B4viPt2!&gt;&quot;</td><td>&quot;&lt;Antoine_Meillet&gt;&quot;</td><td>&quot;&lt;hasWikipediaAnchorText&gt;&quot;</td><td>&quot;linguiste@fra&quot;</td><td>null</td></tr><tr><td>&quot;&lt;id_PSA3W26OQ1_V2A_RbsrMgBNPb&gt;&quot;</td><td>&quot;&lt;Antoine_Meillet&gt;&quot;</td><td>&quot;&lt;hasWikipediaAnchorText&gt;&quot;</td><td>&quot;Cher@fra&quot;</td><td>null</td></tr><tr><td>&quot;&lt;id_PSA3W26OQ1_V2A_uDMJui2ZDE&gt;&quot;</td><td>&quot;&lt;Antoine_Meillet&gt;&quot;</td><td>&quot;&lt;hasWikipediaAnchorText&gt;&quot;</td><td>&quot;lycée@fra&quot;</td><td>null</td></tr><tr><td>&quot;&lt;id_PSA3W26OQ1_V2A_yvmP72oA!r&gt;&quot;</td><td>&quot;&lt;Antoine_Meillet&gt;&quot;</td><td>&quot;&lt;hasWikipediaAnchorText&gt;&quot;</td><td>&quot;Moulins@fra&quot;</td><td>null</td></tr><tr><td>&quot;&lt;id_PSA3W26OQ1_V2A_yxwsytqhWe&gt;&quot;</td><td>&quot;&lt;Antoine_Meillet&gt;&quot;</td><td>&quot;&lt;hasWikipediaAnchorText&gt;&quot;</td><td>&quot;École des langues orientales@fra&quot;</td><td>null</td></tr><tr><td>&quot;&lt;id_PSA3W26OQ1_V2A_hpKYPvPqrC&gt;&quot;</td><td>&quot;&lt;Antoine_Meillet&gt;&quot;</td><td>&quot;&lt;hasWikipediaAnchorText&gt;&quot;</td><td>&quot;Institut d&#x27;Études Slaves@fra&quot;</td><td>null</td></tr><tr><td>&quot;&lt;id_PSA3W26OQ1_V2A_9iXqZMqSxU&gt;&quot;</td><td>&quot;&lt;Antoine_Meillet&gt;&quot;</td><td>&quot;&lt;hasWikipediaAnchorText&gt;&quot;</td><td>&quot;japonisant@fra&quot;</td><td>null</td></tr><tr><td>&quot;&lt;id_PSA3W26OQ1_V2A_l8B4viPt2!&gt;&quot;</td><td>&quot;&lt;Antoine_Meillet&gt;&quot;</td><td>&quot;&lt;hasWikipediaAnchorText&gt;&quot;</td><td>&quot;linguiste@fra&quot;</td><td>null</td></tr><tr><td>&hellip;</td><td>&hellip;</td><td>&hellip;</td><td>&hellip;</td><td>&hellip;</td></tr><tr><td>&quot;&lt;id_vZEFqdmHIk_V2A_ZWSTHptWwJ&gt;&quot;</td><td>&quot;&lt;Magic_Island_(film)&gt;&quot;</td><td>&quot;&lt;hasWikipediaAnchorText&gt;&quot;</td><td>&quot;L&#x27;Île magique@fra&quot;</td><td>null</td></tr><tr><td>&quot;&lt;id_vDVaX1QwPA_V2A_1lNCfYcZYk&gt;&quot;</td><td>&quot;&lt;Aral_Şimşir&gt;&quot;</td><td>&quot;&lt;hasWikipediaAnchorText&gt;&quot;</td><td>&quot;Aral Şimşir@fra&quot;</td><td>null</td></tr><tr><td>&quot;&lt;id_NYYfemu?rk_V2A_iCbYYBeqLn&gt;&quot;</td><td>&quot;&lt;St_Peter&#x27;s,_Notting_Hill&gt;&quot;</td><td>&quot;&lt;hasWikipediaAnchorText&gt;&quot;</td><td>&quot;Église Saint-Pierre de Notting Hill@fra&quot;</td><td>null</td></tr><tr><td>&quot;&lt;id_sLqbfwaymI_V2A_qgLwwPcPfs&gt;&quot;</td><td>&quot;&lt;Palette_(computing)&gt;&quot;</td><td>&quot;&lt;hasWikipediaAnchorText&gt;&quot;</td><td>&quot;Palette de couleurs@fra&quot;</td><td>null</td></tr><tr><td>&quot;&lt;id_b3x5j5v!kM_V2A_G?X!h1E1E5&gt;&quot;</td><td>&quot;&lt;Eaux_profondes&gt;&quot;</td><td>&quot;&lt;hasWikipediaAnchorText&gt;&quot;</td><td>&quot;Eaux profondes (film, 1981)@fra&quot;</td><td>null</td></tr><tr><td>&quot;&lt;id_7pR5drCWh2_V2A_25O9Ukfacg&gt;&quot;</td><td>&quot;&lt;Bill_Masterton&gt;&quot;</td><td>&quot;&lt;hasWikipediaAnchorText&gt;&quot;</td><td>&quot;William Masterton@fra&quot;</td><td>null</td></tr><tr><td>&quot;&lt;id_Jc8E!3rxBa_V2A_davjBh!PeF&gt;&quot;</td><td>&quot;&lt;Ohio_State_Penitentiary&gt;&quot;</td><td>&quot;&lt;hasWikipediaAnchorText&gt;&quot;</td><td>&quot;Pénitencier d&#x27;État de l&#x27;Ohio@fra&quot;</td><td>null</td></tr><tr><td>&quot;&lt;id_epa1fQnbQ1_V2A_iFkCb6of?J&gt;&quot;</td><td>&quot;&lt;Mississippi_State_Penitentiary&gt;&quot;</td><td>&quot;&lt;hasWikipediaAnchorText&gt;&quot;</td><td>&quot;Pénitencier d’État du Mississippi@fra&quot;</td><td>null</td></tr><tr><td>&quot;&lt;id_2Q8nljvKfX_V2A_MgJ9bkkhzL&gt;&quot;</td><td>&quot;&lt;Louisiana_State_Penitentiary&gt;&quot;</td><td>&quot;&lt;hasWikipediaAnchorText&gt;&quot;</td><td>&quot;Pénitencier d’État de Louisiane@fra&quot;</td><td>null</td></tr><tr><td>&quot;&lt;id_2TjdT3XFZ7_V2A_9aB9FpbMRC&gt;&quot;</td><td>&quot;&lt;Elhadji_Pape_Diaw&gt;&quot;</td><td>&quot;&lt;hasWikipediaAnchorText&gt;&quot;</td><td>&quot;Djibril Diaw@fra&quot;</td><td>null</td></tr><tr><td>&quot;&lt;id_FhSme7Tkfh_V2A_VZNFly79VE&gt;&quot;</td><td>&quot;&lt;Agroecius_(Bishop_of_Sens)&gt;&quot;</td><td>&quot;&lt;hasWikipediaAnchorText&gt;&quot;</td><td>&quot;Agrice de Sens@fra&quot;</td><td>null</td></tr><tr><td>&quot;&lt;id_pklM9nZ98h_V2A_RN312iKC16&gt;&quot;</td><td>&quot;&lt;Tadese_Takele&gt;&quot;</td><td>&quot;&lt;hasWikipediaAnchorText&gt;&quot;</td><td>&quot;Tadese Takele@fra&quot;</td><td>null</td></tr></tbody></table></div>"
      ],
      "text/plain": [
       "shape: (96_874_171, 5)\n",
       "┌─────────────────────┬─────────────────────┬────────────────────┬────────────────────┬────────────┐\n",
       "│ id                  ┆ subject             ┆ predicate          ┆ cat_object         ┆ num_object │\n",
       "│ ---                 ┆ ---                 ┆ ---                ┆ ---                ┆ ---        │\n",
       "│ str                 ┆ str                 ┆ str                ┆ str                ┆ f64        │\n",
       "╞═════════════════════╪═════════════════════╪════════════════════╪════════════════════╪════════════╡\n",
       "│ <id_PSA3W26OQ1_V2A_ ┆ <Antoine_Meillet>   ┆ <hasWikipediaAncho ┆ Institut National  ┆ null       │\n",
       "│ p8lHgJrLRR>         ┆                     ┆ rText>             ┆ des Langues et     ┆            │\n",
       "│                     ┆                     ┆                    ┆ Civilisations      ┆            │\n",
       "│                     ┆                     ┆                    ┆ Orientales@fra     ┆            │\n",
       "│ <id_PSA3W26OQ1_V2A_ ┆ <Antoine_Meillet>   ┆ <hasWikipediaAncho ┆ Moulins@fra        ┆ null       │\n",
       "│ yvmP72oA!r>         ┆                     ┆ rText>             ┆                    ┆            │\n",
       "│ <id_PSA3W26OQ1_V2A_ ┆ <Antoine_Meillet>   ┆ <hasWikipediaAncho ┆ Allier@fra         ┆ null       │\n",
       "│ BXIZL6!I4m>         ┆                     ┆ rText>             ┆                    ┆            │\n",
       "│ <id_PSA3W26OQ1_V2A_ ┆ <Antoine_Meillet>   ┆ <hasWikipediaAncho ┆ Cher@fra           ┆ null       │\n",
       "│ RbsrMgBNPb>         ┆                     ┆ rText>             ┆                    ┆            │\n",
       "│ <id_PSA3W26OQ1_V2A_ ┆ <Antoine_Meillet>   ┆ <hasWikipediaAncho ┆ linguiste@fra      ┆ null       │\n",
       "│ l8B4viPt2!>         ┆                     ┆ rText>             ┆                    ┆            │\n",
       "│ …                   ┆ …                   ┆ …                  ┆ …                  ┆ …          │\n",
       "│ <id_epa1fQnbQ1_V2A_ ┆ <Mississippi_State_ ┆ <hasWikipediaAncho ┆ Pénitencier d’État ┆ null       │\n",
       "│ iFkCb6of?J>         ┆ Penitentiary>       ┆ rText>             ┆ du Mississippi@fra ┆            │\n",
       "│ <id_2Q8nljvKfX_V2A_ ┆ <Louisiana_State_Pe ┆ <hasWikipediaAncho ┆ Pénitencier d’État ┆ null       │\n",
       "│ MgJ9bkkhzL>         ┆ nitentiary>         ┆ rText>             ┆ de Louisiane@fra   ┆            │\n",
       "│ <id_2TjdT3XFZ7_V2A_ ┆ <Elhadji_Pape_Diaw> ┆ <hasWikipediaAncho ┆ Djibril Diaw@fra   ┆ null       │\n",
       "│ 9aB9FpbMRC>         ┆                     ┆ rText>             ┆                    ┆            │\n",
       "│ <id_FhSme7Tkfh_V2A_ ┆ <Agroecius_(Bishop_ ┆ <hasWikipediaAncho ┆ Agrice de Sens@fra ┆ null       │\n",
       "│ VZNFly79VE>         ┆ of_Sens)>           ┆ rText>             ┆                    ┆            │\n",
       "│ <id_pklM9nZ98h_V2A_ ┆ <Tadese_Takele>     ┆ <hasWikipediaAncho ┆ Tadese Takele@fra  ┆ null       │\n",
       "│ RN312iKC16>         ┆                     ┆ rText>             ┆                    ┆            │\n",
       "└─────────────────────┴─────────────────────┴────────────────────┴────────────────────┴────────────┘"
      ]
     },
     "metadata": {},
     "output_type": "display_data"
    },
    {
     "name": "stdout",
     "output_type": "stream",
     "text": [
      "yagoDateFacts.tsv\n"
     ]
    },
    {
     "data": {
      "text/html": [
       "<div><style>\n",
       ".dataframe > thead > tr,\n",
       ".dataframe > tbody > tr {\n",
       "  text-align: right;\n",
       "  white-space: pre-wrap;\n",
       "}\n",
       "</style>\n",
       "<small>shape: (4_579_206, 5)</small><table border=\"1\" class=\"dataframe\"><thead><tr><th>id</th><th>subject</th><th>predicate</th><th>cat_object</th><th>num_object</th></tr><tr><td>str</td><td>str</td><td>str</td><td>str</td><td>f64</td></tr></thead><tbody><tr><td>&quot;&lt;id_UBiMxTHiWC_8VX_9ETkr1vy8B&gt;&quot;</td><td>&quot;&lt;1st_Light_Car_Patrol_(Australia)&gt;&quot;</td><td>&quot;&lt;wasDestroyedOnDate&gt;&quot;</td><td>&quot;1919-##-##^^xsd:date&quot;</td><td>1919.0</td></tr><tr><td>&quot;&lt;id_OLGxFNrNoZ_8VX_Nhbt11fRdq&gt;&quot;</td><td>&quot;&lt;Save_Chase_Farm&gt;&quot;</td><td>&quot;&lt;wasDestroyedOnDate&gt;&quot;</td><td>&quot;2010-##-##^^xsd:date&quot;</td><td>2010.0</td></tr><tr><td>&quot;&lt;id_sNqQTRf?2F_8VX_yAVl8rEu5z&gt;&quot;</td><td>&quot;&lt;Rand_McNally_Building&gt;&quot;</td><td>&quot;&lt;wasDestroyedOnDate&gt;&quot;</td><td>&quot;1911-##-##^^xsd:date&quot;</td><td>1911.0</td></tr><tr><td>&quot;&lt;id_itUJ7LaCWm_8VX_smv5n26YUU&gt;&quot;</td><td>&quot;&lt;McGraw_Hill_Education&gt;&quot;</td><td>&quot;&lt;wasDestroyedOnDate&gt;&quot;</td><td>&quot;1967-##-##^^xsd:date&quot;</td><td>1967.0</td></tr><tr><td>&quot;&lt;id_LI5oAzHGeM_8VX_rg7to?xG1O&gt;&quot;</td><td>&quot;&lt;Southern_Railway_(U.S.)&gt;&quot;</td><td>&quot;&lt;wasDestroyedOnDate&gt;&quot;</td><td>&quot;1990-##-##^^xsd:date&quot;</td><td>1990.0</td></tr><tr><td>&quot;&lt;id_gwYtgyLAHE_8VX_INYqRdnSXx&gt;&quot;</td><td>&quot;&lt;The_Greatest_American_Hero&gt;&quot;</td><td>&quot;&lt;wasDestroyedOnDate&gt;&quot;</td><td>&quot;1983-02-03^^xsd:date&quot;</td><td>1983.0203</td></tr><tr><td>&quot;&lt;id_CEHdG?HyoA_8VX_uHVx2Xr!hp&gt;&quot;</td><td>&quot;&lt;USS_LST-930&gt;&quot;</td><td>&quot;&lt;wasDestroyedOnDate&gt;&quot;</td><td>&quot;1946-06-26^^xsd:date&quot;</td><td>1946.0626</td></tr><tr><td>&quot;&lt;id_O?WnNigPPb_8VX_jmZv3Ona!i&gt;&quot;</td><td>&quot;&lt;Jagdstaffel_44&gt;&quot;</td><td>&quot;&lt;wasDestroyedOnDate&gt;&quot;</td><td>&quot;1918-##-##^^xsd:date&quot;</td><td>1918.0</td></tr><tr><td>&quot;&lt;id_x0WRiODIBZ_8VX_rg7to?xG1O&gt;&quot;</td><td>&quot;&lt;5-4-3-2-Run&gt;&quot;</td><td>&quot;&lt;wasDestroyedOnDate&gt;&quot;</td><td>&quot;1990-##-##^^xsd:date&quot;</td><td>1990.0</td></tr><tr><td>&quot;&lt;id_Vs7KAF1u7V_8VX_8WJCNGTmeG&gt;&quot;</td><td>&quot;&lt;D_Records&gt;&quot;</td><td>&quot;&lt;wasDestroyedOnDate&gt;&quot;</td><td>&quot;1965-##-##^^xsd:date&quot;</td><td>1965.0</td></tr><tr><td>&quot;&lt;id_?i1AImGlDi_8VX_XIXflpU2!e&gt;&quot;</td><td>&quot;&lt;Pan_American_Youth_Beach_Handball_Championship&gt;&quot;</td><td>&quot;&lt;wasDestroyedOnDate&gt;&quot;</td><td>&quot;2018-##-##^^xsd:date&quot;</td><td>2018.0</td></tr><tr><td>&quot;&lt;id_YCP1ateaAB_8VX_LC!U0z!Lp?&gt;&quot;</td><td>&quot;&lt;Amma_Ke_Babu_Ki_Baby&gt;&quot;</td><td>&quot;&lt;wasDestroyedOnDate&gt;&quot;</td><td>&quot;2021-05-31^^xsd:date&quot;</td><td>2021.0531</td></tr><tr><td>&hellip;</td><td>&hellip;</td><td>&hellip;</td><td>&hellip;</td><td>&hellip;</td></tr><tr><td>&quot;&lt;id_pzIdie!DpQ_Gze_g4zWS0xlyk&gt;&quot;</td><td>&quot;&lt;fr/Pallamano_Trieste&gt;&quot;</td><td>&quot;&lt;wasCreatedOnDate&gt;&quot;</td><td>&quot;1970-##-##^^xsd:date&quot;</td><td>1970.0</td></tr><tr><td>&quot;&lt;id_HNDCeb3eaD_Gze_6LW6K6xeqL&gt;&quot;</td><td>&quot;&lt;Mormon_Battalion_Monument_(Sandoval_County,_New_Mexico)&gt;&quot;</td><td>&quot;&lt;wasCreatedOnDate&gt;&quot;</td><td>&quot;1940-##-##^^xsd:date&quot;</td><td>1940.0</td></tr><tr><td>&quot;&lt;id_iimPQ34TJf_Gze_ExCkPttsA!&gt;&quot;</td><td>&quot;&lt;fr/Best_Rock_FM&gt;&quot;</td><td>&quot;&lt;wasCreatedOnDate&gt;&quot;</td><td>&quot;2003-##-##^^xsd:date&quot;</td><td>2003.0</td></tr><tr><td>&quot;&lt;id_KVRshx1Qcg_Gze_V66S1KLE?r&gt;&quot;</td><td>&quot;&lt;Holiday_for_Pans&gt;&quot;</td><td>&quot;&lt;wasCreatedOnDate&gt;&quot;</td><td>&quot;1980-##-##^^xsd:date&quot;</td><td>1980.0</td></tr><tr><td>&quot;&lt;id_31AS1mKItX_Gze_zuYEcAeogA&gt;&quot;</td><td>&quot;&lt;Reversion_(2012_film)&gt;&quot;</td><td>&quot;&lt;wasCreatedOnDate&gt;&quot;</td><td>&quot;2012-08-08^^xsd:date&quot;</td><td>2012.0808</td></tr><tr><td>&quot;&lt;id_jOIoe2XpcE_Gze_qqjwidUYTq&gt;&quot;</td><td>&quot;&lt;Pesing_railway_station&gt;&quot;</td><td>&quot;&lt;wasCreatedOnDate&gt;&quot;</td><td>&quot;1899-##-##^^xsd:date&quot;</td><td>1899.0</td></tr><tr><td>&quot;&lt;id_megXe94lf?_Gze_7079MrvBNV&gt;&quot;</td><td>&quot;&lt;Love_Life_(musical)&gt;&quot;</td><td>&quot;&lt;wasCreatedOnDate&gt;&quot;</td><td>&quot;1948-##-##^^xsd:date&quot;</td><td>1948.0</td></tr><tr><td>&quot;&lt;id_ydFrUnbD9n_Gze_6tuOP9Fpxq&gt;&quot;</td><td>&quot;&lt;Sylvania_Southview_High_School&gt;&quot;</td><td>&quot;&lt;wasCreatedOnDate&gt;&quot;</td><td>&quot;1976-##-##^^xsd:date&quot;</td><td>1976.0</td></tr><tr><td>&quot;&lt;id_oLeh68zl0M_Gze_XIXflpU2!e&gt;&quot;</td><td>&quot;&lt;Hemidactylus_paaragowli&gt;&quot;</td><td>&quot;&lt;wasCreatedOnDate&gt;&quot;</td><td>&quot;2018-##-##^^xsd:date&quot;</td><td>2018.0</td></tr><tr><td>&quot;&lt;id_lApFPaa6VO_Gze_Jq9lZIJIFc&gt;&quot;</td><td>&quot;&lt;Melesio_Morales&gt;&quot;</td><td>&quot;&lt;wasCreatedOnDate&gt;&quot;</td><td>&quot;1978-##-##^^xsd:date&quot;</td><td>1978.0</td></tr><tr><td>&quot;&lt;id_AtNIVcoXFZ_Gze_C?cMkpaOng&gt;&quot;</td><td>&quot;&lt;Into_the_Heat&gt;&quot;</td><td>&quot;&lt;wasCreatedOnDate&gt;&quot;</td><td>&quot;1981-02-##^^xsd:date&quot;</td><td>1981.02</td></tr><tr><td>&quot;&lt;id_kVgQlCXUYe_Gze_qosOP8LZr?&gt;&quot;</td><td>&quot;&lt;Community_of_the_Glorious_Ascension&gt;&quot;</td><td>&quot;&lt;wasCreatedOnDate&gt;&quot;</td><td>&quot;1960-##-##^^xsd:date&quot;</td><td>1960.0</td></tr></tbody></table></div>"
      ],
      "text/plain": [
       "shape: (4_579_206, 5)\n",
       "┌─────────────────────┬─────────────────────┬────────────────────┬────────────────────┬────────────┐\n",
       "│ id                  ┆ subject             ┆ predicate          ┆ cat_object         ┆ num_object │\n",
       "│ ---                 ┆ ---                 ┆ ---                ┆ ---                ┆ ---        │\n",
       "│ str                 ┆ str                 ┆ str                ┆ str                ┆ f64        │\n",
       "╞═════════════════════╪═════════════════════╪════════════════════╪════════════════════╪════════════╡\n",
       "│ <id_UBiMxTHiWC_8VX_ ┆ <1st_Light_Car_Patr ┆ <wasDestroyedOnDat ┆ 1919-##-##^^xsd:da ┆ 1919.0     │\n",
       "│ 9ETkr1vy8B>         ┆ ol_(Australia)>     ┆ e>                 ┆ te                 ┆            │\n",
       "│ <id_OLGxFNrNoZ_8VX_ ┆ <Save_Chase_Farm>   ┆ <wasDestroyedOnDat ┆ 2010-##-##^^xsd:da ┆ 2010.0     │\n",
       "│ Nhbt11fRdq>         ┆                     ┆ e>                 ┆ te                 ┆            │\n",
       "│ <id_sNqQTRf?2F_8VX_ ┆ <Rand_McNally_Build ┆ <wasDestroyedOnDat ┆ 1911-##-##^^xsd:da ┆ 1911.0     │\n",
       "│ yAVl8rEu5z>         ┆ ing>                ┆ e>                 ┆ te                 ┆            │\n",
       "│ <id_itUJ7LaCWm_8VX_ ┆ <McGraw_Hill_Educat ┆ <wasDestroyedOnDat ┆ 1967-##-##^^xsd:da ┆ 1967.0     │\n",
       "│ smv5n26YUU>         ┆ ion>                ┆ e>                 ┆ te                 ┆            │\n",
       "│ <id_LI5oAzHGeM_8VX_ ┆ <Southern_Railway_( ┆ <wasDestroyedOnDat ┆ 1990-##-##^^xsd:da ┆ 1990.0     │\n",
       "│ rg7to?xG1O>         ┆ U.S.)>              ┆ e>                 ┆ te                 ┆            │\n",
       "│ …                   ┆ …                   ┆ …                  ┆ …                  ┆ …          │\n",
       "│ <id_ydFrUnbD9n_Gze_ ┆ <Sylvania_Southview ┆ <wasCreatedOnDate> ┆ 1976-##-##^^xsd:da ┆ 1976.0     │\n",
       "│ 6tuOP9Fpxq>         ┆ _High_School>       ┆                    ┆ te                 ┆            │\n",
       "│ <id_oLeh68zl0M_Gze_ ┆ <Hemidactylus_paara ┆ <wasCreatedOnDate> ┆ 2018-##-##^^xsd:da ┆ 2018.0     │\n",
       "│ XIXflpU2!e>         ┆ gowli>              ┆                    ┆ te                 ┆            │\n",
       "│ <id_lApFPaa6VO_Gze_ ┆ <Melesio_Morales>   ┆ <wasCreatedOnDate> ┆ 1978-##-##^^xsd:da ┆ 1978.0     │\n",
       "│ Jq9lZIJIFc>         ┆                     ┆                    ┆ te                 ┆            │\n",
       "│ <id_AtNIVcoXFZ_Gze_ ┆ <Into_the_Heat>     ┆ <wasCreatedOnDate> ┆ 1981-02-##^^xsd:da ┆ 1981.02    │\n",
       "│ C?cMkpaOng>         ┆                     ┆                    ┆ te                 ┆            │\n",
       "│ <id_kVgQlCXUYe_Gze_ ┆ <Community_of_the_G ┆ <wasCreatedOnDate> ┆ 1960-##-##^^xsd:da ┆ 1960.0     │\n",
       "│ qosOP8LZr?>         ┆ lorious_Ascension>  ┆                    ┆ te                 ┆            │\n",
       "└─────────────────────┴─────────────────────┴────────────────────┴────────────────────┴────────────┘"
      ]
     },
     "metadata": {},
     "output_type": "display_data"
    },
    {
     "name": "stdout",
     "output_type": "stream",
     "text": [
      "yagoDBpediaClasses.tsv\n"
     ]
    },
    {
     "data": {
      "text/html": [
       "<div><style>\n",
       ".dataframe > thead > tr,\n",
       ".dataframe > tbody > tr {\n",
       "  text-align: right;\n",
       "  white-space: pre-wrap;\n",
       "}\n",
       "</style>\n",
       "<small>shape: (1_093_490, 5)</small><table border=\"1\" class=\"dataframe\"><thead><tr><th>id</th><th>subject</th><th>predicate</th><th>cat_object</th><th>num_object</th></tr><tr><td>str</td><td>str</td><td>str</td><td>str</td><td>f64</td></tr></thead><tbody><tr><td>null</td><td>&quot;&lt;wikicat_Chinese_emigrants_to_Argentina&gt;&quot;</td><td>&quot;owl:equivalentClass&quot;</td><td>&quot;&lt;http://dbpedia.org/class/yago/WikicatChineseEmigrantsToArgentina&gt;&quot;</td><td>null</td></tr><tr><td>null</td><td>&quot;&lt;wikicat_Rural_Districts_of_South_Khorasan_Province&gt;&quot;</td><td>&quot;owl:equivalentClass&quot;</td><td>&quot;&lt;http://dbpedia.org/class/yago/WikicatRuralDistrictsOfSouthKhorasanProvince&gt;&quot;</td><td>null</td></tr><tr><td>null</td><td>&quot;&lt;wikicat_Towns_in_Cook_County,_Georgia&gt;&quot;</td><td>&quot;owl:equivalentClass&quot;</td><td>&quot;&lt;http://dbpedia.org/class/yago/WikicatTownsInCookCounty,Georgia&gt;&quot;</td><td>null</td></tr><tr><td>null</td><td>&quot;&lt;wikicat_FC_Bakhchisaray_players&gt;&quot;</td><td>&quot;owl:equivalentClass&quot;</td><td>&quot;&lt;http://dbpedia.org/class/yago/WikicatFCBakhchisarayPlayers&gt;&quot;</td><td>null</td></tr><tr><td>null</td><td>&quot;&lt;wikicat_Male_high_divers&gt;&quot;</td><td>&quot;owl:equivalentClass&quot;</td><td>&quot;&lt;http://dbpedia.org/class/yago/WikicatMaleHighDivers&gt;&quot;</td><td>null</td></tr><tr><td>null</td><td>&quot;&lt;wikicat_Pubs_in_the_West_Midlands_(county)&gt;&quot;</td><td>&quot;owl:equivalentClass&quot;</td><td>&quot;&lt;http://dbpedia.org/class/yago/WikicatPubsInTheWestMidlands(county)&gt;&quot;</td><td>null</td></tr><tr><td>null</td><td>&quot;&lt;wikicat_Native_American_people_from_South_Carolina&gt;&quot;</td><td>&quot;owl:equivalentClass&quot;</td><td>&quot;&lt;http://dbpedia.org/class/yago/WikicatNativeAmericanPeopleFromSouthCarolina&gt;&quot;</td><td>null</td></tr><tr><td>null</td><td>&quot;&lt;wikicat_Election_scandals_in_the_United_States&gt;&quot;</td><td>&quot;owl:equivalentClass&quot;</td><td>&quot;&lt;http://dbpedia.org/class/yago/WikicatElectionScandalsInTheUnitedStates&gt;&quot;</td><td>null</td></tr><tr><td>null</td><td>&quot;&lt;wikicat_Yugoslav_zoologists&gt;&quot;</td><td>&quot;owl:equivalentClass&quot;</td><td>&quot;&lt;http://dbpedia.org/class/yago/WikicatYugoslavZoologists&gt;&quot;</td><td>null</td></tr><tr><td>null</td><td>&quot;&lt;wikicat_Kenny_Rogers_compilation_albums&gt;&quot;</td><td>&quot;owl:equivalentClass&quot;</td><td>&quot;&lt;http://dbpedia.org/class/yago/WikicatKennyRogersCompilationAlbums&gt;&quot;</td><td>null</td></tr><tr><td>null</td><td>&quot;&lt;wikicat_Car_platforms&gt;&quot;</td><td>&quot;owl:equivalentClass&quot;</td><td>&quot;&lt;http://dbpedia.org/class/yago/WikicatCarPlatforms&gt;&quot;</td><td>null</td></tr><tr><td>null</td><td>&quot;&lt;wikicat_Sundown_towns_in_North_Carolina&gt;&quot;</td><td>&quot;owl:equivalentClass&quot;</td><td>&quot;&lt;http://dbpedia.org/class/yago/WikicatSundownTownsInNorthCarolina&gt;&quot;</td><td>null</td></tr><tr><td>&hellip;</td><td>&hellip;</td><td>&hellip;</td><td>&hellip;</td><td>&hellip;</td></tr><tr><td>null</td><td>&quot;&lt;wikicat_Yield_criteria&gt;&quot;</td><td>&quot;owl:equivalentClass&quot;</td><td>&quot;&lt;http://dbpedia.org/class/yago/WikicatYieldCriteria&gt;&quot;</td><td>null</td></tr><tr><td>null</td><td>&quot;&lt;wikicat_Video_games_scored_by_Norihiko_Hibino&gt;&quot;</td><td>&quot;owl:equivalentClass&quot;</td><td>&quot;&lt;http://dbpedia.org/class/yago/WikicatVideoGamesScoredByNorihikoHibino&gt;&quot;</td><td>null</td></tr><tr><td>null</td><td>&quot;&lt;wikicat_Uniontown_Cokers_players&gt;&quot;</td><td>&quot;owl:equivalentClass&quot;</td><td>&quot;&lt;http://dbpedia.org/class/yago/WikicatUniontownCokersPlayers&gt;&quot;</td><td>null</td></tr><tr><td>null</td><td>&quot;&lt;wikicat_1933_murders_in_the_United_States&gt;&quot;</td><td>&quot;owl:equivalentClass&quot;</td><td>&quot;&lt;http://dbpedia.org/class/yago/Wikicat1933MurdersInTheUnitedStates&gt;&quot;</td><td>null</td></tr><tr><td>null</td><td>&quot;&lt;wikicat_Iowa_Writers&#x27;_Workshop_alumni&gt;&quot;</td><td>&quot;owl:equivalentClass&quot;</td><td>&quot;&lt;http://dbpedia.org/class/yago/WikicatIowaWriters&#x27;WorkshopAlumni&gt;&quot;</td><td>null</td></tr><tr><td>null</td><td>&quot;&lt;wikicat_1973_Austrian_television_series_debuts&gt;&quot;</td><td>&quot;owl:equivalentClass&quot;</td><td>&quot;&lt;http://dbpedia.org/class/yago/Wikicat1973AustrianTelevisionSeriesDebuts&gt;&quot;</td><td>null</td></tr><tr><td>null</td><td>&quot;&lt;wikicat_Air_service_groups_of_the_United_States_Army_Air_Forces&gt;&quot;</td><td>&quot;owl:equivalentClass&quot;</td><td>&quot;&lt;http://dbpedia.org/class/yago/WikicatAirServiceGroupsOfTheUnitedStatesArmyAirForces&gt;&quot;</td><td>null</td></tr><tr><td>null</td><td>&quot;&lt;wikicat_People_educated_at_Kambala_School&gt;&quot;</td><td>&quot;owl:equivalentClass&quot;</td><td>&quot;&lt;http://dbpedia.org/class/yago/WikicatPeopleEducatedAtKambalaSchool&gt;&quot;</td><td>null</td></tr><tr><td>null</td><td>&quot;&lt;wordnet_capitalization_106402425&gt;&quot;</td><td>&quot;owl:equivalentClass&quot;</td><td>&quot;&lt;http://dbpedia.org/class/yago/Capitalization106402425&gt;&quot;</td><td>null</td></tr><tr><td>null</td><td>&quot;&lt;wikicat_1866_crimes&gt;&quot;</td><td>&quot;owl:equivalentClass&quot;</td><td>&quot;&lt;http://dbpedia.org/class/yago/Wikicat1866Crimes&gt;&quot;</td><td>null</td></tr><tr><td>null</td><td>&quot;&lt;wikicat_Fossil_fuels_in_North_Macedonia&gt;&quot;</td><td>&quot;owl:equivalentClass&quot;</td><td>&quot;&lt;http://dbpedia.org/class/yago/WikicatFossilFuelsInNorthMacedonia&gt;&quot;</td><td>null</td></tr><tr><td>null</td><td>&quot;&lt;wikicat_Intercontinental_ballistic_missiles_of_the_People&#x27;s_Republic_of_China&gt;&quot;</td><td>&quot;owl:equivalentClass&quot;</td><td>&quot;&lt;http://dbpedia.org/class/yago/WikicatIntercontinentalBallisticMissilesOfThePeople&#x27;sRepublicOfChina&gt;&quot;</td><td>null</td></tr></tbody></table></div>"
      ],
      "text/plain": [
       "shape: (1_093_490, 5)\n",
       "┌──────┬────────────────────────────┬─────────────────────┬───────────────────────────┬────────────┐\n",
       "│ id   ┆ subject                    ┆ predicate           ┆ cat_object                ┆ num_object │\n",
       "│ ---  ┆ ---                        ┆ ---                 ┆ ---                       ┆ ---        │\n",
       "│ str  ┆ str                        ┆ str                 ┆ str                       ┆ f64        │\n",
       "╞══════╪════════════════════════════╪═════════════════════╪═══════════════════════════╪════════════╡\n",
       "│ null ┆ <wikicat_Chinese_emigrants ┆ owl:equivalentClass ┆ <http://dbpedia.org/class ┆ null       │\n",
       "│      ┆ _to_Argentina>             ┆                     ┆ /yago/WikicatChineseEmigr ┆            │\n",
       "│      ┆                            ┆                     ┆ antsToArgentina>          ┆            │\n",
       "│ null ┆ <wikicat_Rural_Districts_o ┆ owl:equivalentClass ┆ <http://dbpedia.org/class ┆ null       │\n",
       "│      ┆ f_South_Khorasan_Province> ┆                     ┆ /yago/WikicatRuralDistric ┆            │\n",
       "│      ┆                            ┆                     ┆ tsOfSouthKhorasanProvince ┆            │\n",
       "│      ┆                            ┆                     ┆ >                         ┆            │\n",
       "│ null ┆ <wikicat_Towns_in_Cook_Cou ┆ owl:equivalentClass ┆ <http://dbpedia.org/class ┆ null       │\n",
       "│      ┆ nty,_Georgia>              ┆                     ┆ /yago/WikicatTownsInCookC ┆            │\n",
       "│      ┆                            ┆                     ┆ ounty,Georgia>            ┆            │\n",
       "│ null ┆ <wikicat_FC_Bakhchisaray_p ┆ owl:equivalentClass ┆ <http://dbpedia.org/class ┆ null       │\n",
       "│      ┆ layers>                    ┆                     ┆ /yago/WikicatFCBakhchisar ┆            │\n",
       "│      ┆                            ┆                     ┆ ayPlayers>                ┆            │\n",
       "│ null ┆ <wikicat_Male_high_divers> ┆ owl:equivalentClass ┆ <http://dbpedia.org/class ┆ null       │\n",
       "│      ┆                            ┆                     ┆ /yago/WikicatMaleHighDive ┆            │\n",
       "│      ┆                            ┆                     ┆ rs>                       ┆            │\n",
       "│ …    ┆ …                          ┆ …                   ┆ …                         ┆ …          │\n",
       "│ null ┆ <wikicat_People_educated_a ┆ owl:equivalentClass ┆ <http://dbpedia.org/class ┆ null       │\n",
       "│      ┆ t_Kambala_School>          ┆                     ┆ /yago/WikicatPeopleEducat ┆            │\n",
       "│      ┆                            ┆                     ┆ edAtKambalaSchool>        ┆            │\n",
       "│ null ┆ <wordnet_capitalization_10 ┆ owl:equivalentClass ┆ <http://dbpedia.org/class ┆ null       │\n",
       "│      ┆ 6402425>                   ┆                     ┆ /yago/Capitalization10640 ┆            │\n",
       "│      ┆                            ┆                     ┆ 2425>                     ┆            │\n",
       "│ null ┆ <wikicat_1866_crimes>      ┆ owl:equivalentClass ┆ <http://dbpedia.org/class ┆ null       │\n",
       "│      ┆                            ┆                     ┆ /yago/Wikicat1866Crimes>  ┆            │\n",
       "│ null ┆ <wikicat_Fossil_fuels_in_N ┆ owl:equivalentClass ┆ <http://dbpedia.org/class ┆ null       │\n",
       "│      ┆ orth_Macedonia>            ┆                     ┆ /yago/WikicatFossilFuelsI ┆            │\n",
       "│      ┆                            ┆                     ┆ nNorthMacedonia>          ┆            │\n",
       "│ null ┆ <wikicat_Intercontinental_ ┆ owl:equivalentClass ┆ <http://dbpedia.org/class ┆ null       │\n",
       "│      ┆ ballistic_missiles_of_the_ ┆                     ┆ /yago/WikicatIntercontine ┆            │\n",
       "│      ┆ People's_Republic_of_China ┆                     ┆ ntalBallisticMissilesOfTh ┆            │\n",
       "│      ┆ >                          ┆                     ┆ ePeople'sRepublicOfChina> ┆            │\n",
       "└──────┴────────────────────────────┴─────────────────────┴───────────────────────────┴────────────┘"
      ]
     },
     "metadata": {},
     "output_type": "display_data"
    },
    {
     "name": "stdout",
     "output_type": "stream",
     "text": [
      "yagoDBpediaInstances.tsv\n"
     ]
    },
    {
     "data": {
      "text/html": [
       "<div><style>\n",
       ".dataframe > thead > tr,\n",
       ".dataframe > tbody > tr {\n",
       "  text-align: right;\n",
       "  white-space: pre-wrap;\n",
       "}\n",
       "</style>\n",
       "<small>shape: (5_208_800, 5)</small><table border=\"1\" class=\"dataframe\"><thead><tr><th>id</th><th>subject</th><th>predicate</th><th>cat_object</th><th>num_object</th></tr><tr><td>str</td><td>str</td><td>str</td><td>str</td><td>f64</td></tr></thead><tbody><tr><td>null</td><td>&quot;&lt;Stathmopoda_aposema&gt;&quot;</td><td>&quot;owl:sameAs&quot;</td><td>&quot;&lt;http://dbpedia.org/resource/Stathmopoda_aposema&gt;&quot;</td><td>null</td></tr><tr><td>null</td><td>&quot;&lt;1908_St._Louis_Browns_season&gt;&quot;</td><td>&quot;owl:sameAs&quot;</td><td>&quot;&lt;http://dbpedia.org/resource/1908_St._Louis_Browns_season&gt;&quot;</td><td>null</td></tr><tr><td>null</td><td>&quot;&lt;A1086_road&gt;&quot;</td><td>&quot;owl:sameAs&quot;</td><td>&quot;&lt;http://dbpedia.org/resource/A1086_road&gt;&quot;</td><td>null</td></tr><tr><td>null</td><td>&quot;&lt;Pluralist_Democracy_Party_(Turkey)&gt;&quot;</td><td>&quot;owl:sameAs&quot;</td><td>&quot;&lt;http://dbpedia.org/resource/Pluralist_Democracy_Party_(Turkey)&gt;&quot;</td><td>null</td></tr><tr><td>null</td><td>&quot;&lt;Saccobolus_glaber&gt;&quot;</td><td>&quot;owl:sameAs&quot;</td><td>&quot;&lt;http://dbpedia.org/resource/Saccobolus_glaber&gt;&quot;</td><td>null</td></tr><tr><td>null</td><td>&quot;&lt;Kayna&gt;&quot;</td><td>&quot;owl:sameAs&quot;</td><td>&quot;&lt;http://dbpedia.org/resource/Kayna&gt;&quot;</td><td>null</td></tr><tr><td>null</td><td>&quot;&lt;Salmonella_Dub&gt;&quot;</td><td>&quot;owl:sameAs&quot;</td><td>&quot;&lt;http://dbpedia.org/resource/Salmonella_Dub&gt;&quot;</td><td>null</td></tr><tr><td>null</td><td>&quot;&lt;Jean-Baptiste-Joseph_Gobel&gt;&quot;</td><td>&quot;owl:sameAs&quot;</td><td>&quot;&lt;http://dbpedia.org/resource/Jean-Baptiste-Joseph_Gobel&gt;&quot;</td><td>null</td></tr><tr><td>null</td><td>&quot;&lt;OC_Post&gt;&quot;</td><td>&quot;owl:sameAs&quot;</td><td>&quot;&lt;http://dbpedia.org/resource/OC_Post&gt;&quot;</td><td>null</td></tr><tr><td>null</td><td>&quot;&lt;Sans_logique&gt;&quot;</td><td>&quot;owl:sameAs&quot;</td><td>&quot;&lt;http://dbpedia.org/resource/Sans_logique&gt;&quot;</td><td>null</td></tr><tr><td>null</td><td>&quot;&lt;Winnipeg_Route_180&gt;&quot;</td><td>&quot;owl:sameAs&quot;</td><td>&quot;&lt;http://dbpedia.org/resource/Winnipeg_Route_180&gt;&quot;</td><td>null</td></tr><tr><td>null</td><td>&quot;&lt;Kleinbrembach&gt;&quot;</td><td>&quot;owl:sameAs&quot;</td><td>&quot;&lt;http://dbpedia.org/resource/Kleinbrembach&gt;&quot;</td><td>null</td></tr><tr><td>&hellip;</td><td>&hellip;</td><td>&hellip;</td><td>&hellip;</td><td>&hellip;</td></tr><tr><td>null</td><td>&quot;&lt;Dubalgundi&gt;&quot;</td><td>&quot;owl:sameAs&quot;</td><td>&quot;&lt;http://dbpedia.org/resource/Dubalgundi&gt;&quot;</td><td>null</td></tr><tr><td>null</td><td>&quot;&lt;2013–14_Welsh_Alliance_League&gt;&quot;</td><td>&quot;owl:sameAs&quot;</td><td>&quot;&lt;http://dbpedia.org/resource/2013–14_Welsh_Alliance_League&gt;&quot;</td><td>null</td></tr><tr><td>null</td><td>&quot;&lt;Saïra_Issambet&gt;&quot;</td><td>&quot;owl:sameAs&quot;</td><td>&quot;&lt;http://dbpedia.org/resource/Saïra_Issambet&gt;&quot;</td><td>null</td></tr><tr><td>null</td><td>&quot;&lt;Elijah&#x27;s_Church&gt;&quot;</td><td>&quot;owl:sameAs&quot;</td><td>&quot;&lt;http://dbpedia.org/resource/Elijah&#x27;s_Church&gt;&quot;</td><td>null</td></tr><tr><td>null</td><td>&quot;&lt;Llanhilleth&gt;&quot;</td><td>&quot;owl:sameAs&quot;</td><td>&quot;&lt;http://dbpedia.org/resource/Llanhilleth&gt;&quot;</td><td>null</td></tr><tr><td>null</td><td>&quot;&lt;Porco_bísaro&gt;&quot;</td><td>&quot;owl:sameAs&quot;</td><td>&quot;&lt;http://dbpedia.org/resource/Porco_bísaro&gt;&quot;</td><td>null</td></tr><tr><td>null</td><td>&quot;&lt;Douglas_George_Sopwith&gt;&quot;</td><td>&quot;owl:sameAs&quot;</td><td>&quot;&lt;http://dbpedia.org/resource/Douglas_George_Sopwith&gt;&quot;</td><td>null</td></tr><tr><td>null</td><td>&quot;&lt;Andrea_Arnaboldi&gt;&quot;</td><td>&quot;owl:sameAs&quot;</td><td>&quot;&lt;http://dbpedia.org/resource/Andrea_Arnaboldi&gt;&quot;</td><td>null</td></tr><tr><td>null</td><td>&quot;&lt;Alan_Hewitt_(musician)&gt;&quot;</td><td>&quot;owl:sameAs&quot;</td><td>&quot;&lt;http://dbpedia.org/resource/Alan_Hewitt_(musician)&gt;&quot;</td><td>null</td></tr><tr><td>null</td><td>&quot;&lt;Brett_Evans_(Australian_footballer)&gt;&quot;</td><td>&quot;owl:sameAs&quot;</td><td>&quot;&lt;http://dbpedia.org/resource/Brett_Evans_(Australian_footballer)&gt;&quot;</td><td>null</td></tr><tr><td>null</td><td>&quot;&lt;Monkey_Magic_(Japanese_TV_series)&gt;&quot;</td><td>&quot;owl:sameAs&quot;</td><td>&quot;&lt;http://dbpedia.org/resource/Monkey_Magic_(Japanese_TV_series)&gt;&quot;</td><td>null</td></tr><tr><td>null</td><td>&quot;&lt;Cherukunnapuzha&gt;&quot;</td><td>&quot;owl:sameAs&quot;</td><td>&quot;&lt;http://dbpedia.org/resource/Cherukunnapuzha&gt;&quot;</td><td>null</td></tr></tbody></table></div>"
      ],
      "text/plain": [
       "shape: (5_208_800, 5)\n",
       "┌──────┬────────────────────────────────┬────────────┬────────────────────────────────┬────────────┐\n",
       "│ id   ┆ subject                        ┆ predicate  ┆ cat_object                     ┆ num_object │\n",
       "│ ---  ┆ ---                            ┆ ---        ┆ ---                            ┆ ---        │\n",
       "│ str  ┆ str                            ┆ str        ┆ str                            ┆ f64        │\n",
       "╞══════╪════════════════════════════════╪════════════╪════════════════════════════════╪════════════╡\n",
       "│ null ┆ <Stathmopoda_aposema>          ┆ owl:sameAs ┆ <http://dbpedia.org/resource/S ┆ null       │\n",
       "│      ┆                                ┆            ┆ tathmopoda_aposema>            ┆            │\n",
       "│ null ┆ <1908_St._Louis_Browns_season> ┆ owl:sameAs ┆ <http://dbpedia.org/resource/1 ┆ null       │\n",
       "│      ┆                                ┆            ┆ 908_St._Louis_Browns_season>   ┆            │\n",
       "│ null ┆ <A1086_road>                   ┆ owl:sameAs ┆ <http://dbpedia.org/resource/A ┆ null       │\n",
       "│      ┆                                ┆            ┆ 1086_road>                     ┆            │\n",
       "│ null ┆ <Pluralist_Democracy_Party_(Tu ┆ owl:sameAs ┆ <http://dbpedia.org/resource/P ┆ null       │\n",
       "│      ┆ rkey)>                         ┆            ┆ luralist_Democracy_Party_(Turk ┆            │\n",
       "│      ┆                                ┆            ┆ ey)>                           ┆            │\n",
       "│ null ┆ <Saccobolus_glaber>            ┆ owl:sameAs ┆ <http://dbpedia.org/resource/S ┆ null       │\n",
       "│      ┆                                ┆            ┆ accobolus_glaber>              ┆            │\n",
       "│ …    ┆ …                              ┆ …          ┆ …                              ┆ …          │\n",
       "│ null ┆ <Andrea_Arnaboldi>             ┆ owl:sameAs ┆ <http://dbpedia.org/resource/A ┆ null       │\n",
       "│      ┆                                ┆            ┆ ndrea_Arnaboldi>               ┆            │\n",
       "│ null ┆ <Alan_Hewitt_(musician)>       ┆ owl:sameAs ┆ <http://dbpedia.org/resource/A ┆ null       │\n",
       "│      ┆                                ┆            ┆ lan_Hewitt_(musician)>         ┆            │\n",
       "│ null ┆ <Brett_Evans_(Australian_footb ┆ owl:sameAs ┆ <http://dbpedia.org/resource/B ┆ null       │\n",
       "│      ┆ aller)>                        ┆            ┆ rett_Evans_(Australian_footbal ┆            │\n",
       "│      ┆                                ┆            ┆ ler)>                          ┆            │\n",
       "│ null ┆ <Monkey_Magic_(Japanese_TV_ser ┆ owl:sameAs ┆ <http://dbpedia.org/resource/M ┆ null       │\n",
       "│      ┆ ies)>                          ┆            ┆ onkey_Magic_(Japanese_TV_serie ┆            │\n",
       "│      ┆                                ┆            ┆ s)>                            ┆            │\n",
       "│ null ┆ <Cherukunnapuzha>              ┆ owl:sameAs ┆ <http://dbpedia.org/resource/C ┆ null       │\n",
       "│      ┆                                ┆            ┆ herukunnapuzha>                ┆            │\n",
       "└──────┴────────────────────────────────┴────────────┴────────────────────────────────┴────────────┘"
      ]
     },
     "metadata": {},
     "output_type": "display_data"
    },
    {
     "name": "stdout",
     "output_type": "stream",
     "text": [
      "yagoFacts.tsv\n"
     ]
    },
    {
     "data": {
      "text/html": [
       "<div><style>\n",
       ".dataframe > thead > tr,\n",
       ".dataframe > tbody > tr {\n",
       "  text-align: right;\n",
       "  white-space: pre-wrap;\n",
       "}\n",
       "</style>\n",
       "<small>shape: (14_826_655, 5)</small><table border=\"1\" class=\"dataframe\"><thead><tr><th>id</th><th>subject</th><th>predicate</th><th>cat_object</th><th>num_object</th></tr><tr><td>str</td><td>str</td><td>str</td><td>str</td><td>f64</td></tr></thead><tbody><tr><td>&quot;&lt;id_BOK!FvTDPu_H?S_1NVSTKkFbS&gt;&quot;</td><td>&quot;&lt;Elizabeth_II&gt;&quot;</td><td>&quot;&lt;isLeaderOf&gt;&quot;</td><td>&quot;&lt;Royal_Numismatic_Society&gt;&quot;</td><td>null</td></tr><tr><td>&quot;&lt;id_gem0cCEu9e_H?S_M9vQAWOiJO&gt;&quot;</td><td>&quot;&lt;Andrew_Harvey_(politician)&gt;&quot;</td><td>&quot;&lt;isLeaderOf&gt;&quot;</td><td>&quot;&lt;New_Denmark,_New_Brunswick&gt;&quot;</td><td>null</td></tr><tr><td>&quot;&lt;id_GqUh9jFAN?_H?S_A39fu5FWu4&gt;&quot;</td><td>&quot;&lt;Andranik&gt;&quot;</td><td>&quot;&lt;isLeaderOf&gt;&quot;</td><td>&quot;&lt;Armenian_fedayi&gt;&quot;</td><td>null</td></tr><tr><td>&quot;&lt;id_C7iesZfYGJ_H?S_lwtNBXhxIj&gt;&quot;</td><td>&quot;&lt;Yakubu_Oseni&gt;&quot;</td><td>&quot;&lt;isLeaderOf&gt;&quot;</td><td>&quot;&lt;Kogi_State&gt;&quot;</td><td>null</td></tr><tr><td>&quot;&lt;id_PZCS82KM2v_H?S_4pFvKIs!v!&gt;&quot;</td><td>&quot;&lt;Wan_Saiful_Wan_Jan&gt;&quot;</td><td>&quot;&lt;isLeaderOf&gt;&quot;</td><td>&quot;&lt;Perbadanan_Tabung_Pendidikan_Tinggi_Nasional&gt;&quot;</td><td>null</td></tr><tr><td>&quot;&lt;id_YhGHLhezjV_H?S_dsNbTHbaLr&gt;&quot;</td><td>&quot;&lt;Kurt_Diebner&gt;&quot;</td><td>&quot;&lt;isLeaderOf&gt;&quot;</td><td>&quot;&lt;German_nuclear_weapons_program&gt;&quot;</td><td>null</td></tr><tr><td>&quot;&lt;id_S4Z5v1GyXt_H?S_j?QPdceMon&gt;&quot;</td><td>&quot;&lt;Achyuta_Samanta&gt;&quot;</td><td>&quot;&lt;isLeaderOf&gt;&quot;</td><td>&quot;&lt;Kandhamal_district&gt;&quot;</td><td>null</td></tr><tr><td>&quot;&lt;id_DSKzGNrx33_H?S_J2Cqqj5BMh&gt;&quot;</td><td>&quot;&lt;Elisabetta_Belloni&gt;&quot;</td><td>&quot;&lt;isLeaderOf&gt;&quot;</td><td>&quot;&lt;Dipartimento_delle_Informazioni_per_la_Sicurezza&gt;&quot;</td><td>null</td></tr><tr><td>&quot;&lt;id_UJkk5fVx7n_H?S_JpOQnQcbKG&gt;&quot;</td><td>&quot;&lt;Mike_Harris_Jr.&gt;&quot;</td><td>&quot;&lt;isLeaderOf&gt;&quot;</td><td>&quot;&lt;Wellesley,_Ontario&gt;&quot;</td><td>null</td></tr><tr><td>&quot;&lt;id_vPzqS!6FGQ_H?S_inh7aM3B3n&gt;&quot;</td><td>&quot;&lt;Jenny_Manson&gt;&quot;</td><td>&quot;&lt;isLeaderOf&gt;&quot;</td><td>&quot;&lt;Jewish_Voice_for_Labour&gt;&quot;</td><td>null</td></tr><tr><td>&quot;&lt;id_FmIQN7UWQV_H?S_38P2xyJVKN&gt;&quot;</td><td>&quot;&lt;Seyni_Oumarou&gt;&quot;</td><td>&quot;&lt;isLeaderOf&gt;&quot;</td><td>&quot;&lt;Niger&gt;&quot;</td><td>null</td></tr><tr><td>&quot;&lt;id_lk2Q3jFS?J_H?S_6oWcYuIG53&gt;&quot;</td><td>&quot;&lt;Bertrand_Goulet&gt;&quot;</td><td>&quot;&lt;isLeaderOf&gt;&quot;</td><td>&quot;&lt;Conservative_Party_of_Quebec&gt;&quot;</td><td>null</td></tr><tr><td>&hellip;</td><td>&hellip;</td><td>&hellip;</td><td>&hellip;</td><td>&hellip;</td></tr><tr><td>&quot;&lt;id_tnnrlUKUa9_5BD_acxzlvnB!N&gt;&quot;</td><td>&quot;&lt;Thomas_Sowell&gt;&quot;</td><td>&quot;&lt;isKnownFor&gt;&quot;</td><td>&quot;&lt;Greenhouse_effect_(United_States_Supreme_Court)&gt;&quot;</td><td>null</td></tr><tr><td>&quot;&lt;id_e032Iz8ihX_5BD_MxNMAlP8Xs&gt;&quot;</td><td>&quot;&lt;Kenneth_French&gt;&quot;</td><td>&quot;&lt;isKnownFor&gt;&quot;</td><td>&quot;&lt;Fama–French_three-factor_model&gt;&quot;</td><td>null</td></tr><tr><td>&quot;&lt;id_RHkN4BopiO_5BD_Zrh!GM?!x5&gt;&quot;</td><td>&quot;&lt;Richard_Rorty&gt;&quot;</td><td>&quot;&lt;isKnownFor&gt;&quot;</td><td>&quot;&lt;Grounding_(metaphysics)&gt;&quot;</td><td>null</td></tr><tr><td>&quot;&lt;id_!4G3FVecTl_5BD_sNSqTuqm4G&gt;&quot;</td><td>&quot;&lt;Kenneth_Arrow&gt;&quot;</td><td>&quot;&lt;isKnownFor&gt;&quot;</td><td>&quot;&lt;Endogenous_growth_theory&gt;&quot;</td><td>null</td></tr><tr><td>&quot;&lt;id_t61Ff?FwZz_5BD_CX6PdFi7EY&gt;&quot;</td><td>&quot;&lt;Harry_Markowitz&gt;&quot;</td><td>&quot;&lt;isKnownFor&gt;&quot;</td><td>&quot;&lt;Modern_portfolio_theory&gt;&quot;</td><td>null</td></tr><tr><td>&quot;&lt;id_ENk0T4eQC0_5BD_aJonSuQuim&gt;&quot;</td><td>&quot;&lt;Ljubodrag_Simonović&gt;&quot;</td><td>&quot;&lt;isKnownFor&gt;&quot;</td><td>&quot;&lt;Cocacolonization&gt;&quot;</td><td>null</td></tr><tr><td>&quot;&lt;id_ihwURMqAfB_5BD_3k?0KLUaC9&gt;&quot;</td><td>&quot;&lt;G._L._S._Shackle&gt;&quot;</td><td>&quot;&lt;isKnownFor&gt;&quot;</td><td>&quot;&lt;Kaleidics&gt;&quot;</td><td>null</td></tr><tr><td>&quot;&lt;id_vHzWDAWOAm_5BD_Pr5!hyV1PN&gt;&quot;</td><td>&quot;&lt;Charles_Taylor_(philosopher)&gt;&quot;</td><td>&quot;&lt;isKnownFor&gt;&quot;</td><td>&quot;&lt;Metaphysical_naturalism&gt;&quot;</td><td>null</td></tr><tr><td>&quot;&lt;id_KHTjRUyM7r_5BD_B3xqy09akt&gt;&quot;</td><td>&quot;&lt;Melissus_of_Samos&gt;&quot;</td><td>&quot;&lt;isKnownFor&gt;&quot;</td><td>&quot;&lt;Nothing_comes_from_nothing&gt;&quot;</td><td>null</td></tr><tr><td>&quot;&lt;id_Y2ciByCP?b_5BD_LttifNwgeL&gt;&quot;</td><td>&quot;&lt;Bruno_Latour&gt;&quot;</td><td>&quot;&lt;isKnownFor&gt;&quot;</td><td>&quot;&lt;Actor–network_theory&gt;&quot;</td><td>null</td></tr><tr><td>&quot;&lt;id_C?SIdn?W30_5BD_FasUk9x9AX&gt;&quot;</td><td>&quot;&lt;Bertrand_Russell&gt;&quot;</td><td>&quot;&lt;isKnownFor&gt;&quot;</td><td>&quot;&lt;Set-theoretic_definition_of_natural_numbers&gt;&quot;</td><td>null</td></tr><tr><td>&quot;&lt;id_eiuPsYzv?g_5BD_xRU4SluzHQ&gt;&quot;</td><td>&quot;&lt;Plato&gt;&quot;</td><td>&quot;&lt;isKnownFor&gt;&quot;</td><td>&quot;&lt;Analogy_of_the_divided_line&gt;&quot;</td><td>null</td></tr></tbody></table></div>"
      ],
      "text/plain": [
       "shape: (14_826_655, 5)\n",
       "┌───────────────────────┬───────────────────────┬──────────────┬──────────────────────┬────────────┐\n",
       "│ id                    ┆ subject               ┆ predicate    ┆ cat_object           ┆ num_object │\n",
       "│ ---                   ┆ ---                   ┆ ---          ┆ ---                  ┆ ---        │\n",
       "│ str                   ┆ str                   ┆ str          ┆ str                  ┆ f64        │\n",
       "╞═══════════════════════╪═══════════════════════╪══════════════╪══════════════════════╪════════════╡\n",
       "│ <id_BOK!FvTDPu_H?S_1N ┆ <Elizabeth_II>        ┆ <isLeaderOf> ┆ <Royal_Numismatic_So ┆ null       │\n",
       "│ VSTKkFbS>             ┆                       ┆              ┆ ciety>               ┆            │\n",
       "│ <id_gem0cCEu9e_H?S_M9 ┆ <Andrew_Harvey_(polit ┆ <isLeaderOf> ┆ <New_Denmark,_New_Br ┆ null       │\n",
       "│ vQAWOiJO>             ┆ ician)>               ┆              ┆ unswick>             ┆            │\n",
       "│ <id_GqUh9jFAN?_H?S_A3 ┆ <Andranik>            ┆ <isLeaderOf> ┆ <Armenian_fedayi>    ┆ null       │\n",
       "│ 9fu5FWu4>             ┆                       ┆              ┆                      ┆            │\n",
       "│ <id_C7iesZfYGJ_H?S_lw ┆ <Yakubu_Oseni>        ┆ <isLeaderOf> ┆ <Kogi_State>         ┆ null       │\n",
       "│ tNBXhxIj>             ┆                       ┆              ┆                      ┆            │\n",
       "│ <id_PZCS82KM2v_H?S_4p ┆ <Wan_Saiful_Wan_Jan>  ┆ <isLeaderOf> ┆ <Perbadanan_Tabung_P ┆ null       │\n",
       "│ FvKIs!v!>             ┆                       ┆              ┆ endidikan_Tinggi_Nas ┆            │\n",
       "│                       ┆                       ┆              ┆ ional>               ┆            │\n",
       "│ …                     ┆ …                     ┆ …            ┆ …                    ┆ …          │\n",
       "│ <id_vHzWDAWOAm_5BD_Pr ┆ <Charles_Taylor_(phil ┆ <isKnownFor> ┆ <Metaphysical_natura ┆ null       │\n",
       "│ 5!hyV1PN>             ┆ osopher)>             ┆              ┆ lism>                ┆            │\n",
       "│ <id_KHTjRUyM7r_5BD_B3 ┆ <Melissus_of_Samos>   ┆ <isKnownFor> ┆ <Nothing_comes_from_ ┆ null       │\n",
       "│ xqy09akt>             ┆                       ┆              ┆ nothing>             ┆            │\n",
       "│ <id_Y2ciByCP?b_5BD_Lt ┆ <Bruno_Latour>        ┆ <isKnownFor> ┆ <Actor–network_theor ┆ null       │\n",
       "│ tifNwgeL>             ┆                       ┆              ┆ y>                   ┆            │\n",
       "│ <id_C?SIdn?W30_5BD_Fa ┆ <Bertrand_Russell>    ┆ <isKnownFor> ┆ <Set-theoretic_defin ┆ null       │\n",
       "│ sUk9x9AX>             ┆                       ┆              ┆ ition_of_natural_num ┆            │\n",
       "│                       ┆                       ┆              ┆ bers>                ┆            │\n",
       "│ <id_eiuPsYzv?g_5BD_xR ┆ <Plato>               ┆ <isKnownFor> ┆ <Analogy_of_the_divi ┆ null       │\n",
       "│ U4SluzHQ>             ┆                       ┆              ┆ ded_line>            ┆            │\n",
       "└───────────────────────┴───────────────────────┴──────────────┴──────────────────────┴────────────┘"
      ]
     },
     "metadata": {},
     "output_type": "display_data"
    },
    {
     "name": "stdout",
     "output_type": "stream",
     "text": [
      "yagoGeonamesClasses.tsv\n"
     ]
    },
    {
     "data": {
      "text/html": [
       "<div><style>\n",
       ".dataframe > thead > tr,\n",
       ".dataframe > tbody > tr {\n",
       "  text-align: right;\n",
       "  white-space: pre-wrap;\n",
       "}\n",
       "</style>\n",
       "<small>shape: (681, 5)</small><table border=\"1\" class=\"dataframe\"><thead><tr><th>id</th><th>subject</th><th>predicate</th><th>cat_object</th><th>num_object</th></tr><tr><td>str</td><td>str</td><td>str</td><td>str</td><td>f64</td></tr></thead><tbody><tr><td>&quot;&lt;id_1sDq9Yewh7_owS_JjkhUeJ196&gt;&quot;</td><td>&quot;&lt;geoclass_first-order_administrative_division&gt;&quot;</td><td>&quot;rdfs:subClassOf&quot;</td><td>&quot;&lt;wordnet_division_108219330&gt;&quot;</td><td>null</td></tr><tr><td>&quot;&lt;id_M8BA24rF1Z_owS_Tlk!MDs3JE&gt;&quot;</td><td>&quot;&lt;geoclass_historical_first-order_administrative_division&gt;&quot;</td><td>&quot;rdfs:subClassOf&quot;</td><td>&quot;&lt;wordnet_division_108220714&gt;&quot;</td><td>null</td></tr><tr><td>&quot;&lt;id_eDipsiy!50_owS_Tlk!MDs3JE&gt;&quot;</td><td>&quot;&lt;geoclass_second-order_administrative_division&gt;&quot;</td><td>&quot;rdfs:subClassOf&quot;</td><td>&quot;&lt;wordnet_division_108220714&gt;&quot;</td><td>null</td></tr><tr><td>&quot;&lt;id_jeQtqn9hY6_owS_Tlk!MDs3JE&gt;&quot;</td><td>&quot;&lt;geoclass_historical_second-order_administrative_division&gt;&quot;</td><td>&quot;rdfs:subClassOf&quot;</td><td>&quot;&lt;wordnet_division_108220714&gt;&quot;</td><td>null</td></tr><tr><td>&quot;&lt;id_3cOVxABOY6_owS_Tlk!MDs3JE&gt;&quot;</td><td>&quot;&lt;geoclass_third-order_administrative_division&gt;&quot;</td><td>&quot;rdfs:subClassOf&quot;</td><td>&quot;&lt;wordnet_division_108220714&gt;&quot;</td><td>null</td></tr><tr><td>&quot;&lt;id_x9IwARMm8E_owS_Tlk!MDs3JE&gt;&quot;</td><td>&quot;&lt;geoclass_historical_third-order_administrative_division&gt;&quot;</td><td>&quot;rdfs:subClassOf&quot;</td><td>&quot;&lt;wordnet_division_108220714&gt;&quot;</td><td>null</td></tr><tr><td>&quot;&lt;id_r24sYBVK?M_owS_Tlk!MDs3JE&gt;&quot;</td><td>&quot;&lt;geoclass_fourth-order_administrative_division&gt;&quot;</td><td>&quot;rdfs:subClassOf&quot;</td><td>&quot;&lt;wordnet_division_108220714&gt;&quot;</td><td>null</td></tr><tr><td>&quot;&lt;id_iBXUW3M!hO_owS_Tlk!MDs3JE&gt;&quot;</td><td>&quot;&lt;geoclass_historical_fourth-order_administrative_division&gt;&quot;</td><td>&quot;rdfs:subClassOf&quot;</td><td>&quot;&lt;wordnet_division_108220714&gt;&quot;</td><td>null</td></tr><tr><td>&quot;&lt;id_ng9bRKQ4Q2_owS_Tlk!MDs3JE&gt;&quot;</td><td>&quot;&lt;geoclass_fifth-order_administrative_division&gt;&quot;</td><td>&quot;rdfs:subClassOf&quot;</td><td>&quot;&lt;wordnet_division_108220714&gt;&quot;</td><td>null</td></tr><tr><td>&quot;&lt;id_w?wakcFJWk_owS_Tlk!MDs3JE&gt;&quot;</td><td>&quot;&lt;geoclass_historical_fifth-order_administrative_division&gt;&quot;</td><td>&quot;rdfs:subClassOf&quot;</td><td>&quot;&lt;wordnet_division_108220714&gt;&quot;</td><td>null</td></tr><tr><td>&quot;&lt;id_qmtOGmrWbV_owS_UdQgZfQPBH&gt;&quot;</td><td>&quot;&lt;geoclass_administrative_division&gt;&quot;</td><td>&quot;rdfs:subClassOf&quot;</td><td>&quot;&lt;wordnet_administrative_district_108491826&gt;&quot;</td><td>null</td></tr><tr><td>&quot;&lt;id_QEd88dwa79_owS_Tlk!MDs3JE&gt;&quot;</td><td>&quot;&lt;geoclass_historical_administrative_division&gt;&quot;</td><td>&quot;rdfs:subClassOf&quot;</td><td>&quot;&lt;wordnet_division_108220714&gt;&quot;</td><td>null</td></tr><tr><td>&hellip;</td><td>&hellip;</td><td>&hellip;</td><td>&hellip;</td><td>&hellip;</td></tr><tr><td>&quot;&lt;id_6W0LoU60aq_owS_zZwWTMA?2i&gt;&quot;</td><td>&quot;&lt;geoclass_olive_grove&gt;&quot;</td><td>&quot;rdfs:subClassOf&quot;</td><td>&quot;&lt;wordnet_grove_103463832&gt;&quot;</td><td>null</td></tr><tr><td>&quot;&lt;id_l1ieg2ipAE_owS_zZwWTMA?2i&gt;&quot;</td><td>&quot;&lt;geoclass_palm_grove&gt;&quot;</td><td>&quot;rdfs:subClassOf&quot;</td><td>&quot;&lt;wordnet_grove_103463832&gt;&quot;</td><td>null</td></tr><tr><td>&quot;&lt;id_dPhsvoj!eS_owS_zZwWTMA?2i&gt;&quot;</td><td>&quot;&lt;geoclass_pine_grove&gt;&quot;</td><td>&quot;rdfs:subClassOf&quot;</td><td>&quot;&lt;wordnet_grove_103463832&gt;&quot;</td><td>null</td></tr><tr><td>&quot;&lt;id_ahEShWMKXx_owS_Ips0ZBEUA1&gt;&quot;</td><td>&quot;&lt;geoclass_heath&gt;&quot;</td><td>&quot;rdfs:subClassOf&quot;</td><td>&quot;&lt;wordnet_heath_108504851&gt;&quot;</td><td>null</td></tr><tr><td>&quot;&lt;id_16Ufm14QQj_owS_g?!w7NJrXQ&gt;&quot;</td><td>&quot;&lt;geoclass_meadow&gt;&quot;</td><td>&quot;rdfs:subClassOf&quot;</td><td>&quot;&lt;wordnet_hayfield_108570634&gt;&quot;</td><td>null</td></tr><tr><td>&quot;&lt;id_pLFP?XFtG2_owS_zZwWTMA?2i&gt;&quot;</td><td>&quot;&lt;geoclass_orchard&gt;&quot;</td><td>&quot;rdfs:subClassOf&quot;</td><td>&quot;&lt;wordnet_grove_103463832&gt;&quot;</td><td>null</td></tr><tr><td>&quot;&lt;id_y6pOBS58v?_owS_ovvxZa!?gq&gt;&quot;</td><td>&quot;&lt;geoclass_scrubland&gt;&quot;</td><td>&quot;rdfs:subClassOf&quot;</td><td>&quot;&lt;wordnet_scrubland_108645104&gt;&quot;</td><td>null</td></tr><tr><td>&quot;&lt;id_UWwbxY3lw2_owS_RhJ8vr2f!X&gt;&quot;</td><td>&quot;&lt;geoclass_tree&gt;&quot;</td><td>&quot;rdfs:subClassOf&quot;</td><td>&quot;&lt;wordnet_tree_113912260&gt;&quot;</td><td>null</td></tr><tr><td>&quot;&lt;id_mS?!mKzsks_owS_gtMVInAnr1&gt;&quot;</td><td>&quot;&lt;geoclass_tundra&gt;&quot;</td><td>&quot;rdfs:subClassOf&quot;</td><td>&quot;&lt;wordnet_tundra_109463226&gt;&quot;</td><td>null</td></tr><tr><td>&quot;&lt;id_5ZXzalJEyO_owS_vQBtl5sXDy&gt;&quot;</td><td>&quot;&lt;geoclass_vineyard&gt;&quot;</td><td>&quot;rdfs:subClassOf&quot;</td><td>&quot;&lt;wordnet_vineyard_104536038&gt;&quot;</td><td>null</td></tr><tr><td>&quot;&lt;id_!3?vhBao5q_owS_vQBtl5sXDy&gt;&quot;</td><td>&quot;&lt;geoclass_vineyards&gt;&quot;</td><td>&quot;rdfs:subClassOf&quot;</td><td>&quot;&lt;wordnet_vineyard_104536038&gt;&quot;</td><td>null</td></tr><tr><td>&quot;&lt;id_RomdlcgjuC_owS_FNZ17GW0Jo&gt;&quot;</td><td>&quot;&lt;geoclass_not_available&gt;&quot;</td><td>&quot;rdfs:subClassOf&quot;</td><td>&quot;&lt;yagoGeoEntity&gt;&quot;</td><td>null</td></tr></tbody></table></div>"
      ],
      "text/plain": [
       "shape: (681, 5)\n",
       "┌──────────────────────┬──────────────────────┬─────────────────┬─────────────────────┬────────────┐\n",
       "│ id                   ┆ subject              ┆ predicate       ┆ cat_object          ┆ num_object │\n",
       "│ ---                  ┆ ---                  ┆ ---             ┆ ---                 ┆ ---        │\n",
       "│ str                  ┆ str                  ┆ str             ┆ str                 ┆ f64        │\n",
       "╞══════════════════════╪══════════════════════╪═════════════════╪═════════════════════╪════════════╡\n",
       "│ <id_1sDq9Yewh7_owS_J ┆ <geoclass_first-orde ┆ rdfs:subClassOf ┆ <wordnet_division_1 ┆ null       │\n",
       "│ jkhUeJ196>           ┆ r_administrative_div ┆                 ┆ 08219330>           ┆            │\n",
       "│                      ┆ ision>               ┆                 ┆                     ┆            │\n",
       "│ <id_M8BA24rF1Z_owS_T ┆ <geoclass_historical ┆ rdfs:subClassOf ┆ <wordnet_division_1 ┆ null       │\n",
       "│ lk!MDs3JE>           ┆ _first-order_adminis ┆                 ┆ 08220714>           ┆            │\n",
       "│                      ┆ trative_division>    ┆                 ┆                     ┆            │\n",
       "│ <id_eDipsiy!50_owS_T ┆ <geoclass_second-ord ┆ rdfs:subClassOf ┆ <wordnet_division_1 ┆ null       │\n",
       "│ lk!MDs3JE>           ┆ er_administrative_di ┆                 ┆ 08220714>           ┆            │\n",
       "│                      ┆ vision>              ┆                 ┆                     ┆            │\n",
       "│ <id_jeQtqn9hY6_owS_T ┆ <geoclass_historical ┆ rdfs:subClassOf ┆ <wordnet_division_1 ┆ null       │\n",
       "│ lk!MDs3JE>           ┆ _second-order_admini ┆                 ┆ 08220714>           ┆            │\n",
       "│                      ┆ strative_division>   ┆                 ┆                     ┆            │\n",
       "│ <id_3cOVxABOY6_owS_T ┆ <geoclass_third-orde ┆ rdfs:subClassOf ┆ <wordnet_division_1 ┆ null       │\n",
       "│ lk!MDs3JE>           ┆ r_administrative_div ┆                 ┆ 08220714>           ┆            │\n",
       "│                      ┆ ision>               ┆                 ┆                     ┆            │\n",
       "│ …                    ┆ …                    ┆ …               ┆ …                   ┆ …          │\n",
       "│ <id_UWwbxY3lw2_owS_R ┆ <geoclass_tree>      ┆ rdfs:subClassOf ┆ <wordnet_tree_11391 ┆ null       │\n",
       "│ hJ8vr2f!X>           ┆                      ┆                 ┆ 2260>               ┆            │\n",
       "│ <id_mS?!mKzsks_owS_g ┆ <geoclass_tundra>    ┆ rdfs:subClassOf ┆ <wordnet_tundra_109 ┆ null       │\n",
       "│ tMVInAnr1>           ┆                      ┆                 ┆ 463226>             ┆            │\n",
       "│ <id_5ZXzalJEyO_owS_v ┆ <geoclass_vineyard>  ┆ rdfs:subClassOf ┆ <wordnet_vineyard_1 ┆ null       │\n",
       "│ QBtl5sXDy>           ┆                      ┆                 ┆ 04536038>           ┆            │\n",
       "│ <id_!3?vhBao5q_owS_v ┆ <geoclass_vineyards> ┆ rdfs:subClassOf ┆ <wordnet_vineyard_1 ┆ null       │\n",
       "│ QBtl5sXDy>           ┆                      ┆                 ┆ 04536038>           ┆            │\n",
       "│ <id_RomdlcgjuC_owS_F ┆ <geoclass_not_availa ┆ rdfs:subClassOf ┆ <yagoGeoEntity>     ┆ null       │\n",
       "│ NZ17GW0Jo>           ┆ ble>                 ┆                 ┆                     ┆            │\n",
       "└──────────────────────┴──────────────────────┴─────────────────┴─────────────────────┴────────────┘"
      ]
     },
     "metadata": {},
     "output_type": "display_data"
    },
    {
     "name": "stdout",
     "output_type": "stream",
     "text": [
      "yagoGeonamesClassIds.tsv\n"
     ]
    },
    {
     "data": {
      "text/html": [
       "<div><style>\n",
       ".dataframe > thead > tr,\n",
       ".dataframe > tbody > tr {\n",
       "  text-align: right;\n",
       "  white-space: pre-wrap;\n",
       "}\n",
       "</style>\n",
       "<small>shape: (681, 5)</small><table border=\"1\" class=\"dataframe\"><thead><tr><th>id</th><th>subject</th><th>predicate</th><th>cat_object</th><th>num_object</th></tr><tr><td>str</td><td>str</td><td>str</td><td>str</td><td>f64</td></tr></thead><tbody><tr><td>null</td><td>&quot;&lt;geoclass_first-order_administrative_division&gt;&quot;</td><td>&quot;&lt;hasGeonamesClassId&gt;&quot;</td><td>&quot;A.ADM1&quot;</td><td>null</td></tr><tr><td>null</td><td>&quot;&lt;geoclass_historical_first-order_administrative_division&gt;&quot;</td><td>&quot;&lt;hasGeonamesClassId&gt;&quot;</td><td>&quot;A.ADM1H&quot;</td><td>null</td></tr><tr><td>null</td><td>&quot;&lt;geoclass_second-order_administrative_division&gt;&quot;</td><td>&quot;&lt;hasGeonamesClassId&gt;&quot;</td><td>&quot;A.ADM2&quot;</td><td>null</td></tr><tr><td>null</td><td>&quot;&lt;geoclass_historical_second-order_administrative_division&gt;&quot;</td><td>&quot;&lt;hasGeonamesClassId&gt;&quot;</td><td>&quot;A.ADM2H&quot;</td><td>null</td></tr><tr><td>null</td><td>&quot;&lt;geoclass_third-order_administrative_division&gt;&quot;</td><td>&quot;&lt;hasGeonamesClassId&gt;&quot;</td><td>&quot;A.ADM3&quot;</td><td>null</td></tr><tr><td>null</td><td>&quot;&lt;geoclass_historical_third-order_administrative_division&gt;&quot;</td><td>&quot;&lt;hasGeonamesClassId&gt;&quot;</td><td>&quot;A.ADM3H&quot;</td><td>null</td></tr><tr><td>null</td><td>&quot;&lt;geoclass_fourth-order_administrative_division&gt;&quot;</td><td>&quot;&lt;hasGeonamesClassId&gt;&quot;</td><td>&quot;A.ADM4&quot;</td><td>null</td></tr><tr><td>null</td><td>&quot;&lt;geoclass_historical_fourth-order_administrative_division&gt;&quot;</td><td>&quot;&lt;hasGeonamesClassId&gt;&quot;</td><td>&quot;A.ADM4H&quot;</td><td>null</td></tr><tr><td>null</td><td>&quot;&lt;geoclass_fifth-order_administrative_division&gt;&quot;</td><td>&quot;&lt;hasGeonamesClassId&gt;&quot;</td><td>&quot;A.ADM5&quot;</td><td>null</td></tr><tr><td>null</td><td>&quot;&lt;geoclass_historical_fifth-order_administrative_division&gt;&quot;</td><td>&quot;&lt;hasGeonamesClassId&gt;&quot;</td><td>&quot;A.ADM5H&quot;</td><td>null</td></tr><tr><td>null</td><td>&quot;&lt;geoclass_administrative_division&gt;&quot;</td><td>&quot;&lt;hasGeonamesClassId&gt;&quot;</td><td>&quot;A.ADMD&quot;</td><td>null</td></tr><tr><td>null</td><td>&quot;&lt;geoclass_historical_administrative_division&gt;&quot;</td><td>&quot;&lt;hasGeonamesClassId&gt;&quot;</td><td>&quot;A.ADMDH&quot;</td><td>null</td></tr><tr><td>&hellip;</td><td>&hellip;</td><td>&hellip;</td><td>&hellip;</td><td>&hellip;</td></tr><tr><td>null</td><td>&quot;&lt;geoclass_olive_grove&gt;&quot;</td><td>&quot;&lt;hasGeonamesClassId&gt;&quot;</td><td>&quot;V.GRVO&quot;</td><td>null</td></tr><tr><td>null</td><td>&quot;&lt;geoclass_palm_grove&gt;&quot;</td><td>&quot;&lt;hasGeonamesClassId&gt;&quot;</td><td>&quot;V.GRVP&quot;</td><td>null</td></tr><tr><td>null</td><td>&quot;&lt;geoclass_pine_grove&gt;&quot;</td><td>&quot;&lt;hasGeonamesClassId&gt;&quot;</td><td>&quot;V.GRVPN&quot;</td><td>null</td></tr><tr><td>null</td><td>&quot;&lt;geoclass_heath&gt;&quot;</td><td>&quot;&lt;hasGeonamesClassId&gt;&quot;</td><td>&quot;V.HTH&quot;</td><td>null</td></tr><tr><td>null</td><td>&quot;&lt;geoclass_meadow&gt;&quot;</td><td>&quot;&lt;hasGeonamesClassId&gt;&quot;</td><td>&quot;V.MDW&quot;</td><td>null</td></tr><tr><td>null</td><td>&quot;&lt;geoclass_orchard&gt;&quot;</td><td>&quot;&lt;hasGeonamesClassId&gt;&quot;</td><td>&quot;V.OCH&quot;</td><td>null</td></tr><tr><td>null</td><td>&quot;&lt;geoclass_scrubland&gt;&quot;</td><td>&quot;&lt;hasGeonamesClassId&gt;&quot;</td><td>&quot;V.SCRB&quot;</td><td>null</td></tr><tr><td>null</td><td>&quot;&lt;geoclass_tree&gt;&quot;</td><td>&quot;&lt;hasGeonamesClassId&gt;&quot;</td><td>&quot;V.TREE&quot;</td><td>null</td></tr><tr><td>null</td><td>&quot;&lt;geoclass_tundra&gt;&quot;</td><td>&quot;&lt;hasGeonamesClassId&gt;&quot;</td><td>&quot;V.TUND&quot;</td><td>null</td></tr><tr><td>null</td><td>&quot;&lt;geoclass_vineyard&gt;&quot;</td><td>&quot;&lt;hasGeonamesClassId&gt;&quot;</td><td>&quot;V.VIN&quot;</td><td>null</td></tr><tr><td>null</td><td>&quot;&lt;geoclass_vineyards&gt;&quot;</td><td>&quot;&lt;hasGeonamesClassId&gt;&quot;</td><td>&quot;V.VINS&quot;</td><td>null</td></tr><tr><td>null</td><td>&quot;&lt;geoclass_not_available&gt;&quot;</td><td>&quot;&lt;hasGeonamesClassId&gt;&quot;</td><td>null</td><td>null</td></tr></tbody></table></div>"
      ],
      "text/plain": [
       "shape: (681, 5)\n",
       "┌──────┬──────────────────────────────────────────┬──────────────────────┬────────────┬────────────┐\n",
       "│ id   ┆ subject                                  ┆ predicate            ┆ cat_object ┆ num_object │\n",
       "│ ---  ┆ ---                                      ┆ ---                  ┆ ---        ┆ ---        │\n",
       "│ str  ┆ str                                      ┆ str                  ┆ str        ┆ f64        │\n",
       "╞══════╪══════════════════════════════════════════╪══════════════════════╪════════════╪════════════╡\n",
       "│ null ┆ <geoclass_first-order_administrative_div ┆ <hasGeonamesClassId> ┆ A.ADM1     ┆ null       │\n",
       "│      ┆ ision>                                   ┆                      ┆            ┆            │\n",
       "│ null ┆ <geoclass_historical_first-order_adminis ┆ <hasGeonamesClassId> ┆ A.ADM1H    ┆ null       │\n",
       "│      ┆ trative_division>                        ┆                      ┆            ┆            │\n",
       "│ null ┆ <geoclass_second-order_administrative_di ┆ <hasGeonamesClassId> ┆ A.ADM2     ┆ null       │\n",
       "│      ┆ vision>                                  ┆                      ┆            ┆            │\n",
       "│ null ┆ <geoclass_historical_second-order_admini ┆ <hasGeonamesClassId> ┆ A.ADM2H    ┆ null       │\n",
       "│      ┆ strative_division>                       ┆                      ┆            ┆            │\n",
       "│ null ┆ <geoclass_third-order_administrative_div ┆ <hasGeonamesClassId> ┆ A.ADM3     ┆ null       │\n",
       "│      ┆ ision>                                   ┆                      ┆            ┆            │\n",
       "│ …    ┆ …                                        ┆ …                    ┆ …          ┆ …          │\n",
       "│ null ┆ <geoclass_tree>                          ┆ <hasGeonamesClassId> ┆ V.TREE     ┆ null       │\n",
       "│ null ┆ <geoclass_tundra>                        ┆ <hasGeonamesClassId> ┆ V.TUND     ┆ null       │\n",
       "│ null ┆ <geoclass_vineyard>                      ┆ <hasGeonamesClassId> ┆ V.VIN      ┆ null       │\n",
       "│ null ┆ <geoclass_vineyards>                     ┆ <hasGeonamesClassId> ┆ V.VINS     ┆ null       │\n",
       "│ null ┆ <geoclass_not_available>                 ┆ <hasGeonamesClassId> ┆ null       ┆ null       │\n",
       "└──────┴──────────────────────────────────────────┴──────────────────────┴────────────┴────────────┘"
      ]
     },
     "metadata": {},
     "output_type": "display_data"
    },
    {
     "name": "stdout",
     "output_type": "stream",
     "text": [
      "yagoGeonamesEntityIds.tsv\n"
     ]
    },
    {
     "data": {
      "text/html": [
       "<div><style>\n",
       ".dataframe > thead > tr,\n",
       ".dataframe > tbody > tr {\n",
       "  text-align: right;\n",
       "  white-space: pre-wrap;\n",
       "}\n",
       "</style>\n",
       "<small>shape: (0, 5)</small><table border=\"1\" class=\"dataframe\"><thead><tr><th>id</th><th>subject</th><th>predicate</th><th>cat_object</th><th>num_object</th></tr><tr><td>str</td><td>f64</td><td>f64</td><td>f64</td><td>f64</td></tr></thead><tbody></tbody></table></div>"
      ],
      "text/plain": [
       "shape: (0, 5)\n",
       "┌─────┬─────────┬───────────┬────────────┬────────────┐\n",
       "│ id  ┆ subject ┆ predicate ┆ cat_object ┆ num_object │\n",
       "│ --- ┆ ---     ┆ ---       ┆ ---        ┆ ---        │\n",
       "│ str ┆ f64     ┆ f64       ┆ f64        ┆ f64        │\n",
       "╞═════╪═════════╪═══════════╪════════════╪════════════╡\n",
       "└─────┴─────────┴───────────┴────────────┴────────────┘"
      ]
     },
     "metadata": {},
     "output_type": "display_data"
    },
    {
     "name": "stdout",
     "output_type": "stream",
     "text": [
      "yagoGeonamesGlosses.tsv\n"
     ]
    },
    {
     "data": {
      "text/html": [
       "<div><style>\n",
       ".dataframe > thead > tr,\n",
       ".dataframe > tbody > tr {\n",
       "  text-align: right;\n",
       "  white-space: pre-wrap;\n",
       "}\n",
       "</style>\n",
       "<small>shape: (621, 5)</small><table border=\"1\" class=\"dataframe\"><thead><tr><th>id</th><th>subject</th><th>predicate</th><th>cat_object</th><th>num_object</th></tr><tr><td>str</td><td>str</td><td>str</td><td>str</td><td>f64</td></tr></thead><tbody><tr><td>null</td><td>&quot;&lt;geoclass_first-order_administrative_division&gt;&quot;</td><td>&quot;&lt;hasGloss&gt;&quot;</td><td>&quot;a primary administrative division of a country, such as a state in the United States&quot;</td><td>null</td></tr><tr><td>null</td><td>&quot;&lt;geoclass_historical_first-order_administrative_division&gt;&quot;</td><td>&quot;&lt;hasGloss&gt;&quot;</td><td>&quot;a former first-order administrative division&quot;</td><td>null</td></tr><tr><td>null</td><td>&quot;&lt;geoclass_second-order_administrative_division&gt;&quot;</td><td>&quot;&lt;hasGloss&gt;&quot;</td><td>&quot;a subdivision of a first-order administrative division&quot;</td><td>null</td></tr><tr><td>null</td><td>&quot;&lt;geoclass_historical_second-order_administrative_division&gt;&quot;</td><td>&quot;&lt;hasGloss&gt;&quot;</td><td>&quot;a former second-order administrative division&quot;</td><td>null</td></tr><tr><td>null</td><td>&quot;&lt;geoclass_third-order_administrative_division&gt;&quot;</td><td>&quot;&lt;hasGloss&gt;&quot;</td><td>&quot;a subdivision of a second-order administrative division&quot;</td><td>null</td></tr><tr><td>null</td><td>&quot;&lt;geoclass_historical_third-order_administrative_division&gt;&quot;</td><td>&quot;&lt;hasGloss&gt;&quot;</td><td>&quot;a former third-order administrative division&quot;</td><td>null</td></tr><tr><td>null</td><td>&quot;&lt;geoclass_fourth-order_administrative_division&gt;&quot;</td><td>&quot;&lt;hasGloss&gt;&quot;</td><td>&quot;a subdivision of a third-order administrative division&quot;</td><td>null</td></tr><tr><td>null</td><td>&quot;&lt;geoclass_historical_fourth-order_administrative_division&gt;&quot;</td><td>&quot;&lt;hasGloss&gt;&quot;</td><td>&quot;a former fourth-order administrative division&quot;</td><td>null</td></tr><tr><td>null</td><td>&quot;&lt;geoclass_fifth-order_administrative_division&gt;&quot;</td><td>&quot;&lt;hasGloss&gt;&quot;</td><td>&quot;a subdivision of a fourth-order administrative division&quot;</td><td>null</td></tr><tr><td>null</td><td>&quot;&lt;geoclass_historical_fifth-order_administrative_division&gt;&quot;</td><td>&quot;&lt;hasGloss&gt;&quot;</td><td>&quot;a former fifth-order administrative division&quot;</td><td>null</td></tr><tr><td>null</td><td>&quot;&lt;geoclass_administrative_division&gt;&quot;</td><td>&quot;&lt;hasGloss&gt;&quot;</td><td>&quot;an administrative division of a country, undifferentiated as to administrative level&quot;</td><td>null</td></tr><tr><td>null</td><td>&quot;&lt;geoclass_historical_administrative_division&gt;&quot;</td><td>&quot;&lt;hasGloss&gt;&quot;</td><td>&quot;a former administrative division of a political entity, undifferentiated as to administrative level&quot;</td><td>null</td></tr><tr><td>&hellip;</td><td>&hellip;</td><td>&hellip;</td><td>&hellip;</td><td>&hellip;</td></tr><tr><td>null</td><td>&quot;&lt;geoclass_coconut_grove&gt;&quot;</td><td>&quot;&lt;hasGloss&gt;&quot;</td><td>&quot;a planting of coconut trees&quot;</td><td>null</td></tr><tr><td>null</td><td>&quot;&lt;geoclass_olive_grove&gt;&quot;</td><td>&quot;&lt;hasGloss&gt;&quot;</td><td>&quot;a planting of olive trees&quot;</td><td>null</td></tr><tr><td>null</td><td>&quot;&lt;geoclass_palm_grove&gt;&quot;</td><td>&quot;&lt;hasGloss&gt;&quot;</td><td>&quot;a planting of palm trees&quot;</td><td>null</td></tr><tr><td>null</td><td>&quot;&lt;geoclass_pine_grove&gt;&quot;</td><td>&quot;&lt;hasGloss&gt;&quot;</td><td>&quot;a planting of pine trees&quot;</td><td>null</td></tr><tr><td>null</td><td>&quot;&lt;geoclass_heath&gt;&quot;</td><td>&quot;&lt;hasGloss&gt;&quot;</td><td>&quot;an upland moor or sandy area dominated by low shrubby vegetation including heather&quot;</td><td>null</td></tr><tr><td>null</td><td>&quot;&lt;geoclass_meadow&gt;&quot;</td><td>&quot;&lt;hasGloss&gt;&quot;</td><td>&quot;a small, poorly drained area dominated by grassy vegetation&quot;</td><td>null</td></tr><tr><td>null</td><td>&quot;&lt;geoclass_orchard&gt;&quot;</td><td>&quot;&lt;hasGloss&gt;&quot;</td><td>&quot;a planting of fruit or nut trees&quot;</td><td>null</td></tr><tr><td>null</td><td>&quot;&lt;geoclass_scrubland&gt;&quot;</td><td>&quot;&lt;hasGloss&gt;&quot;</td><td>&quot;an area of low trees, bushes, and shrubs stunted by some environmental limitation&quot;</td><td>null</td></tr><tr><td>null</td><td>&quot;&lt;geoclass_tree&gt;&quot;</td><td>&quot;&lt;hasGloss&gt;&quot;</td><td>&quot;a conspicuous tree used as a landmark&quot;</td><td>null</td></tr><tr><td>null</td><td>&quot;&lt;geoclass_tundra&gt;&quot;</td><td>&quot;&lt;hasGloss&gt;&quot;</td><td>&quot;a marshy, treeless, high latitude plain, dominated by mosses, lichens, and low shrub vegetation under permafrost conditions&quot;</td><td>null</td></tr><tr><td>null</td><td>&quot;&lt;geoclass_vineyard&gt;&quot;</td><td>&quot;&lt;hasGloss&gt;&quot;</td><td>&quot;a planting of grapevines&quot;</td><td>null</td></tr><tr><td>null</td><td>&quot;&lt;geoclass_vineyards&gt;&quot;</td><td>&quot;&lt;hasGloss&gt;&quot;</td><td>&quot;plantings of grapevines&quot;</td><td>null</td></tr></tbody></table></div>"
      ],
      "text/plain": [
       "shape: (621, 5)\n",
       "┌──────┬────────────────────────────────┬────────────┬────────────────────────────────┬────────────┐\n",
       "│ id   ┆ subject                        ┆ predicate  ┆ cat_object                     ┆ num_object │\n",
       "│ ---  ┆ ---                            ┆ ---        ┆ ---                            ┆ ---        │\n",
       "│ str  ┆ str                            ┆ str        ┆ str                            ┆ f64        │\n",
       "╞══════╪════════════════════════════════╪════════════╪════════════════════════════════╪════════════╡\n",
       "│ null ┆ <geoclass_first-order_administ ┆ <hasGloss> ┆ a primary administrative       ┆ null       │\n",
       "│      ┆ rative_division>               ┆            ┆ division of a country, such as ┆            │\n",
       "│      ┆                                ┆            ┆ a state in the United States   ┆            │\n",
       "│ null ┆ <geoclass_historical_first-ord ┆ <hasGloss> ┆ a former first-order           ┆ null       │\n",
       "│      ┆ er_administrative_division>    ┆            ┆ administrative division        ┆            │\n",
       "│ null ┆ <geoclass_second-order_adminis ┆ <hasGloss> ┆ a subdivision of a first-order ┆ null       │\n",
       "│      ┆ trative_division>              ┆            ┆ administrative division        ┆            │\n",
       "│ null ┆ <geoclass_historical_second-or ┆ <hasGloss> ┆ a former second-order          ┆ null       │\n",
       "│      ┆ der_administrative_division>   ┆            ┆ administrative division        ┆            │\n",
       "│ null ┆ <geoclass_third-order_administ ┆ <hasGloss> ┆ a subdivision of a             ┆ null       │\n",
       "│      ┆ rative_division>               ┆            ┆ second-order administrative    ┆            │\n",
       "│      ┆                                ┆            ┆ division                       ┆            │\n",
       "│ …    ┆ …                              ┆ …          ┆ …                              ┆ …          │\n",
       "│ null ┆ <geoclass_scrubland>           ┆ <hasGloss> ┆ an area of low trees, bushes,  ┆ null       │\n",
       "│      ┆                                ┆            ┆ and shrubs stunted by some     ┆            │\n",
       "│      ┆                                ┆            ┆ environmental limitation       ┆            │\n",
       "│ null ┆ <geoclass_tree>                ┆ <hasGloss> ┆ a conspicuous tree used as a   ┆ null       │\n",
       "│      ┆                                ┆            ┆ landmark                       ┆            │\n",
       "│ null ┆ <geoclass_tundra>              ┆ <hasGloss> ┆ a marshy, treeless, high       ┆ null       │\n",
       "│      ┆                                ┆            ┆ latitude plain, dominated by   ┆            │\n",
       "│      ┆                                ┆            ┆ mosses, lichens, and low shrub ┆            │\n",
       "│      ┆                                ┆            ┆ vegetation under permafrost    ┆            │\n",
       "│      ┆                                ┆            ┆ conditions                     ┆            │\n",
       "│ null ┆ <geoclass_vineyard>            ┆ <hasGloss> ┆ a planting of grapevines       ┆ null       │\n",
       "│ null ┆ <geoclass_vineyards>           ┆ <hasGloss> ┆ plantings of grapevines        ┆ null       │\n",
       "└──────┴────────────────────────────────┴────────────┴────────────────────────────────┴────────────┘"
      ]
     },
     "metadata": {},
     "output_type": "display_data"
    },
    {
     "name": "stdout",
     "output_type": "stream",
     "text": [
      "yagoGeonamesOnlyData.tsv\n"
     ]
    },
    {
     "data": {
      "text/html": [
       "<div><style>\n",
       ".dataframe > thead > tr,\n",
       ".dataframe > tbody > tr {\n",
       "  text-align: right;\n",
       "  white-space: pre-wrap;\n",
       "}\n",
       "</style>\n",
       "<small>shape: (55_479_179, 5)</small><table border=\"1\" class=\"dataframe\"><thead><tr><th>id</th><th>subject</th><th>predicate</th><th>cat_object</th><th>num_object</th></tr><tr><td>str</td><td>str</td><td>str</td><td>str</td><td>f64</td></tr></thead><tbody><tr><td>null</td><td>&quot;&lt;geoentity_Pic_de_Font_Blanca_2986043&gt;&quot;</td><td>&quot;rdfs:label&quot;</td><td>&quot;Pic de Font Blanca@eng&quot;</td><td>null</td></tr><tr><td>null</td><td>&quot;&lt;geoentity_Pic_de_Font_Blanca_2986043&gt;&quot;</td><td>&quot;&lt;hasLatitude&gt;&quot;</td><td>&quot;42.64991^^&lt;degrees&gt;&quot;</td><td>42.64991</td></tr><tr><td>null</td><td>&quot;&lt;geoentity_Pic_de_Font_Blanca_2986043&gt;&quot;</td><td>&quot;&lt;hasLongitude&gt;&quot;</td><td>&quot;1.53335^^&lt;degrees&gt;&quot;</td><td>1.53335</td></tr><tr><td>null</td><td>&quot;&lt;geoentity_Pic_de_Font_Blanca_2986043&gt;&quot;</td><td>&quot;rdfs:label&quot;</td><td>&quot;Pic de Font Blanca&quot;</td><td>null</td></tr><tr><td>null</td><td>&quot;&lt;geoentity_Pic_de_Font_Blanca_2986043&gt;&quot;</td><td>&quot;rdfs:label&quot;</td><td>&quot;Pic du Port&quot;</td><td>null</td></tr><tr><td>null</td><td>&quot;&lt;geoentity_Roc_Mélé_2994701&gt;&quot;</td><td>&quot;rdfs:label&quot;</td><td>&quot;Roc Mélé@eng&quot;</td><td>null</td></tr><tr><td>null</td><td>&quot;&lt;geoentity_Roc_Mélé_2994701&gt;&quot;</td><td>&quot;&lt;hasLatitude&gt;&quot;</td><td>&quot;42.58765^^&lt;degrees&gt;&quot;</td><td>42.58765</td></tr><tr><td>null</td><td>&quot;&lt;geoentity_Roc_Mélé_2994701&gt;&quot;</td><td>&quot;&lt;hasLongitude&gt;&quot;</td><td>&quot;1.74028^^&lt;degrees&gt;&quot;</td><td>1.74028</td></tr><tr><td>null</td><td>&quot;&lt;geoentity_Roc_Mélé_2994701&gt;&quot;</td><td>&quot;rdfs:label&quot;</td><td>&quot;Roc Mele&quot;</td><td>null</td></tr><tr><td>null</td><td>&quot;&lt;geoentity_Roc_Mélé_2994701&gt;&quot;</td><td>&quot;rdfs:label&quot;</td><td>&quot;Roc Meler&quot;</td><td>null</td></tr><tr><td>null</td><td>&quot;&lt;geoentity_Roc_Mélé_2994701&gt;&quot;</td><td>&quot;rdfs:label&quot;</td><td>&quot;Roc Mélé&quot;</td><td>null</td></tr><tr><td>null</td><td>&quot;&lt;geoentity_Pic_des_Langounelles_3007683&gt;&quot;</td><td>&quot;rdfs:label&quot;</td><td>&quot;Pic des Langounelles@eng&quot;</td><td>null</td></tr><tr><td>&hellip;</td><td>&hellip;</td><td>&hellip;</td><td>&hellip;</td><td>&hellip;</td></tr><tr><td>null</td><td>&quot;&lt;geoentity_Partido_de_San_Miguel_7289234&gt;&quot;</td><td>&quot;&lt;isLocatedIn&gt;&quot;</td><td>&quot;&lt;geoentity_Greater_Buenos_Aires_12035668&gt;&quot;</td><td>null</td></tr><tr><td>null</td><td>&quot;&lt;geoentity_Kabūtarān_10&gt;&quot;</td><td>&quot;&lt;isLocatedIn&gt;&quot;</td><td>&quot;&lt;geoentity_Provincia_de_Guantánamo_3557685&gt;&quot;</td><td>null</td></tr><tr><td>null</td><td>&quot;&lt;geoentity_Terre-de-Bas_3578353&gt;&quot;</td><td>&quot;&lt;isLocatedIn&gt;&quot;</td><td>&quot;&lt;geoentity_Les_Saintes_3578934&gt;&quot;</td><td>null</td></tr><tr><td>null</td><td>&quot;&lt;geoentity_Terre-de-Haut_3578349&gt;&quot;</td><td>&quot;&lt;isLocatedIn&gt;&quot;</td><td>&quot;&lt;geoentity_Les_Saintes_3578934&gt;&quot;</td><td>null</td></tr><tr><td>null</td><td>&quot;&lt;geoentity_Grand_Îlet_3579194&gt;&quot;</td><td>&quot;&lt;isLocatedIn&gt;&quot;</td><td>&quot;&lt;geoentity_Les_Saintes_3578934&gt;&quot;</td><td>null</td></tr><tr><td>null</td><td>&quot;&lt;geoentity_La_Coche_3579056&gt;&quot;</td><td>&quot;&lt;isLocatedIn&gt;&quot;</td><td>&quot;&lt;geoentity_Les_Saintes_3578934&gt;&quot;</td><td>null</td></tr><tr><td>null</td><td>&quot;&lt;geoentity_Îlet_à_Cabrit_3579616&gt;&quot;</td><td>&quot;&lt;isLocatedIn&gt;&quot;</td><td>&quot;&lt;geoentity_Les_Saintes_3578934&gt;&quot;</td><td>null</td></tr><tr><td>null</td><td>&quot;&lt;geoentity_Le_Pâté_3578964&gt;&quot;</td><td>&quot;&lt;isLocatedIn&gt;&quot;</td><td>&quot;&lt;geoentity_Les_Saintes_3578934&gt;&quot;</td><td>null</td></tr><tr><td>null</td><td>&quot;&lt;geoentity_La_Vierge_3578988&gt;&quot;</td><td>&quot;&lt;isLocatedIn&gt;&quot;</td><td>&quot;&lt;geoentity_Les_Saintes_3578934&gt;&quot;</td><td>null</td></tr><tr><td>null</td><td>&quot;&lt;geoentity_La_Redonde_3579008&gt;&quot;</td><td>&quot;&lt;isLocatedIn&gt;&quot;</td><td>&quot;&lt;geoentity_Les_Saintes_3578934&gt;&quot;</td><td>null</td></tr><tr><td>null</td><td>&quot;&lt;geoentity_Haeundae_Beach_8521056&gt;&quot;</td><td>&quot;&lt;isLocatedIn&gt;&quot;</td><td>&quot;&lt;geoentity_Haeundae-gu_8462808&gt;&quot;</td><td>null</td></tr><tr><td>null</td><td>&quot;&lt;geoentity_John_F._Kennedy_International_Airport_5122732&gt;&quot;</td><td>&quot;&lt;isLocatedIn&gt;&quot;</td><td>&quot;&lt;geoentity_New_York_City_5128581&gt;&quot;</td><td>null</td></tr></tbody></table></div>"
      ],
      "text/plain": [
       "shape: (55_479_179, 5)\n",
       "┌──────┬──────────────────────────────┬────────────────┬──────────────────────────────┬────────────┐\n",
       "│ id   ┆ subject                      ┆ predicate      ┆ cat_object                   ┆ num_object │\n",
       "│ ---  ┆ ---                          ┆ ---            ┆ ---                          ┆ ---        │\n",
       "│ str  ┆ str                          ┆ str            ┆ str                          ┆ f64        │\n",
       "╞══════╪══════════════════════════════╪════════════════╪══════════════════════════════╪════════════╡\n",
       "│ null ┆ <geoentity_Pic_de_Font_Blanc ┆ rdfs:label     ┆ Pic de Font Blanca@eng       ┆ null       │\n",
       "│      ┆ a_2986043>                   ┆                ┆                              ┆            │\n",
       "│ null ┆ <geoentity_Pic_de_Font_Blanc ┆ <hasLatitude>  ┆ 42.64991^^<degrees>          ┆ 42.64991   │\n",
       "│      ┆ a_2986043>                   ┆                ┆                              ┆            │\n",
       "│ null ┆ <geoentity_Pic_de_Font_Blanc ┆ <hasLongitude> ┆ 1.53335^^<degrees>           ┆ 1.53335    │\n",
       "│      ┆ a_2986043>                   ┆                ┆                              ┆            │\n",
       "│ null ┆ <geoentity_Pic_de_Font_Blanc ┆ rdfs:label     ┆ Pic de Font Blanca           ┆ null       │\n",
       "│      ┆ a_2986043>                   ┆                ┆                              ┆            │\n",
       "│ null ┆ <geoentity_Pic_de_Font_Blanc ┆ rdfs:label     ┆ Pic du Port                  ┆ null       │\n",
       "│      ┆ a_2986043>                   ┆                ┆                              ┆            │\n",
       "│ …    ┆ …                            ┆ …              ┆ …                            ┆ …          │\n",
       "│ null ┆ <geoentity_Le_Pâté_3578964>  ┆ <isLocatedIn>  ┆ <geoentity_Les_Saintes_35789 ┆ null       │\n",
       "│      ┆                              ┆                ┆ 34>                          ┆            │\n",
       "│ null ┆ <geoentity_La_Vierge_3578988 ┆ <isLocatedIn>  ┆ <geoentity_Les_Saintes_35789 ┆ null       │\n",
       "│      ┆ >                            ┆                ┆ 34>                          ┆            │\n",
       "│ null ┆ <geoentity_La_Redonde_357900 ┆ <isLocatedIn>  ┆ <geoentity_Les_Saintes_35789 ┆ null       │\n",
       "│      ┆ 8>                           ┆                ┆ 34>                          ┆            │\n",
       "│ null ┆ <geoentity_Haeundae_Beach_85 ┆ <isLocatedIn>  ┆ <geoentity_Haeundae-gu_84628 ┆ null       │\n",
       "│      ┆ 21056>                       ┆                ┆ 08>                          ┆            │\n",
       "│ null ┆ <geoentity_John_F._Kennedy_I ┆ <isLocatedIn>  ┆ <geoentity_New_York_City_512 ┆ null       │\n",
       "│      ┆ nternational_Airport_5122732 ┆                ┆ 8581>                        ┆            │\n",
       "│      ┆ >                            ┆                ┆                              ┆            │\n",
       "└──────┴──────────────────────────────┴────────────────┴──────────────────────────────┴────────────┘"
      ]
     },
     "metadata": {},
     "output_type": "display_data"
    },
    {
     "name": "stdout",
     "output_type": "stream",
     "text": [
      "yagoGeonamesTypes.tsv\n"
     ]
    },
    {
     "data": {
      "text/html": [
       "<div><style>\n",
       ".dataframe > thead > tr,\n",
       ".dataframe > tbody > tr {\n",
       "  text-align: right;\n",
       "  white-space: pre-wrap;\n",
       "}\n",
       "</style>\n",
       "<small>shape: (12_251_524, 5)</small><table border=\"1\" class=\"dataframe\"><thead><tr><th>id</th><th>subject</th><th>predicate</th><th>cat_object</th><th>num_object</th></tr><tr><td>str</td><td>str</td><td>str</td><td>str</td><td>f64</td></tr></thead><tbody><tr><td>null</td><td>&quot;&lt;geoentity_Pic_de_Font_Blanca_2986043&gt;&quot;</td><td>&quot;rdf:type&quot;</td><td>&quot;&lt;geoclass_peak&gt;&quot;</td><td>null</td></tr><tr><td>null</td><td>&quot;&lt;geoentity_Roc_Mélé_2994701&gt;&quot;</td><td>&quot;rdf:type&quot;</td><td>&quot;&lt;geoclass_mountain&gt;&quot;</td><td>null</td></tr><tr><td>null</td><td>&quot;&lt;geoentity_Pic_des_Langounelles_3007683&gt;&quot;</td><td>&quot;rdf:type&quot;</td><td>&quot;&lt;geoclass_peak&gt;&quot;</td><td>null</td></tr><tr><td>null</td><td>&quot;&lt;geoentity_Pic_de_les_Abelletes_3017832&gt;&quot;</td><td>&quot;rdf:type&quot;</td><td>&quot;&lt;geoclass_peak&gt;&quot;</td><td>null</td></tr><tr><td>null</td><td>&quot;&lt;geoentity_Estany_de_les_Abelletes_3017833&gt;&quot;</td><td>&quot;rdf:type&quot;</td><td>&quot;&lt;geoclass_lake&gt;&quot;</td><td>null</td></tr><tr><td>null</td><td>&quot;&lt;geoentity_Port_Vieux_de_la_Coume_d’Ose_3023203&gt;&quot;</td><td>&quot;rdf:type&quot;</td><td>&quot;&lt;geoclass_pass&gt;&quot;</td><td>null</td></tr><tr><td>null</td><td>&quot;&lt;geoentity_Port_de_la_Cabanette_3029315&gt;&quot;</td><td>&quot;rdf:type&quot;</td><td>&quot;&lt;geoclass_pass&gt;&quot;</td><td>null</td></tr><tr><td>null</td><td>&quot;&lt;geoentity_Port_Dret_3034945&gt;&quot;</td><td>&quot;rdf:type&quot;</td><td>&quot;&lt;geoclass_pass&gt;&quot;</td><td>null</td></tr><tr><td>null</td><td>&quot;&lt;geoentity_Costa_de_Xurius_3038814&gt;&quot;</td><td>&quot;rdf:type&quot;</td><td>&quot;&lt;geoclass_slope&gt;&quot;</td><td>null</td></tr><tr><td>null</td><td>&quot;&lt;geoentity_Font_de_la_Xona_3038815&gt;&quot;</td><td>&quot;rdf:type&quot;</td><td>&quot;&lt;geoclass_spring&gt;&quot;</td><td>null</td></tr><tr><td>null</td><td>&quot;&lt;geoentity_Xixerella_3038816&gt;&quot;</td><td>&quot;rdf:type&quot;</td><td>&quot;&lt;geoclass_populated_place&gt;&quot;</td><td>null</td></tr><tr><td>null</td><td>&quot;&lt;geoentity_Riu_Xic_3038818&gt;&quot;</td><td>&quot;rdf:type&quot;</td><td>&quot;&lt;geoclass_stream&gt;&quot;</td><td>null</td></tr><tr><td>&hellip;</td><td>&hellip;</td><td>&hellip;</td><td>&hellip;</td><td>&hellip;</td></tr><tr><td>null</td><td>&quot;&lt;geoentity_Waitaki_Canyon_12429065&gt;&quot;</td><td>&quot;rdf:type&quot;</td><td>&quot;&lt;geoclass_canyon&gt;&quot;</td><td>null</td></tr><tr><td>null</td><td>&quot;&lt;geoentity_Waitaki_Sea_Channel_12429066&gt;&quot;</td><td>&quot;rdf:type&quot;</td><td>&quot;&lt;geoclass_seachannel&gt;&quot;</td><td>null</td></tr><tr><td>null</td><td>&quot;&lt;geoentity_Wangbo_Knoll_12429067&gt;&quot;</td><td>&quot;rdf:type&quot;</td><td>&quot;&lt;geoclass_knoll&gt;&quot;</td><td>null</td></tr><tr><td>null</td><td>&quot;&lt;geoentity_Wanwu_Ridge_12429068&gt;&quot;</td><td>&quot;rdf:type&quot;</td><td>&quot;&lt;geoclass_ridge&gt;&quot;</td><td>null</td></tr><tr><td>null</td><td>&quot;&lt;geoentity_Weipi_Knoll_12429119&gt;&quot;</td><td>&quot;rdf:type&quot;</td><td>&quot;&lt;geoclass_knoll&gt;&quot;</td><td>null</td></tr><tr><td>null</td><td>&quot;&lt;geoentity_Woolfall_Bank_12429120&gt;&quot;</td><td>&quot;rdf:type&quot;</td><td>&quot;&lt;geoclass_bank&gt;&quot;</td><td>null</td></tr><tr><td>null</td><td>&quot;&lt;geoentity_Yangjiong_Hill_12429121&gt;&quot;</td><td>&quot;rdf:type&quot;</td><td>&quot;&lt;geoclass_hill&gt;&quot;</td><td>null</td></tr><tr><td>null</td><td>&quot;&lt;geoentity_Yipu_Hill_12429122&gt;&quot;</td><td>&quot;rdf:type&quot;</td><td>&quot;&lt;geoclass_hill&gt;&quot;</td><td>null</td></tr><tr><td>null</td><td>&quot;&lt;geoentity_Yuqing_Seamount_12429123&gt;&quot;</td><td>&quot;rdf:type&quot;</td><td>&quot;&lt;geoclass_seamount&gt;&quot;</td><td>null</td></tr><tr><td>null</td><td>&quot;&lt;geoentity_Zélia_Gattai_Seamount_12429124&gt;&quot;</td><td>&quot;rdf:type&quot;</td><td>&quot;&lt;geoclass_seamount&gt;&quot;</td><td>null</td></tr><tr><td>null</td><td>&quot;&lt;geoentity_Zhenghe_Ridge_12429125&gt;&quot;</td><td>&quot;rdf:type&quot;</td><td>&quot;&lt;geoclass_ridge&gt;&quot;</td><td>null</td></tr><tr><td>null</td><td>&quot;&lt;geoentity_Akkadian_Empire_12489745&gt;&quot;</td><td>&quot;rdf:type&quot;</td><td>&quot;&lt;geoclass_historical_first-order_administrative_division&gt;&quot;</td><td>null</td></tr></tbody></table></div>"
      ],
      "text/plain": [
       "shape: (12_251_524, 5)\n",
       "┌──────┬─────────────────────────────────┬───────────┬────────────────────────────────┬────────────┐\n",
       "│ id   ┆ subject                         ┆ predicate ┆ cat_object                     ┆ num_object │\n",
       "│ ---  ┆ ---                             ┆ ---       ┆ ---                            ┆ ---        │\n",
       "│ str  ┆ str                             ┆ str       ┆ str                            ┆ f64        │\n",
       "╞══════╪═════════════════════════════════╪═══════════╪════════════════════════════════╪════════════╡\n",
       "│ null ┆ <geoentity_Pic_de_Font_Blanca_2 ┆ rdf:type  ┆ <geoclass_peak>                ┆ null       │\n",
       "│      ┆ 986043>                         ┆           ┆                                ┆            │\n",
       "│ null ┆ <geoentity_Roc_Mélé_2994701>    ┆ rdf:type  ┆ <geoclass_mountain>            ┆ null       │\n",
       "│ null ┆ <geoentity_Pic_des_Langounelles ┆ rdf:type  ┆ <geoclass_peak>                ┆ null       │\n",
       "│      ┆ _3007683>                       ┆           ┆                                ┆            │\n",
       "│ null ┆ <geoentity_Pic_de_les_Abelletes ┆ rdf:type  ┆ <geoclass_peak>                ┆ null       │\n",
       "│      ┆ _3017832>                       ┆           ┆                                ┆            │\n",
       "│ null ┆ <geoentity_Estany_de_les_Abelle ┆ rdf:type  ┆ <geoclass_lake>                ┆ null       │\n",
       "│      ┆ tes_3017833>                    ┆           ┆                                ┆            │\n",
       "│ …    ┆ …                               ┆ …         ┆ …                              ┆ …          │\n",
       "│ null ┆ <geoentity_Yipu_Hill_12429122>  ┆ rdf:type  ┆ <geoclass_hill>                ┆ null       │\n",
       "│ null ┆ <geoentity_Yuqing_Seamount_1242 ┆ rdf:type  ┆ <geoclass_seamount>            ┆ null       │\n",
       "│      ┆ 9123>                           ┆           ┆                                ┆            │\n",
       "│ null ┆ <geoentity_Zélia_Gattai_Seamoun ┆ rdf:type  ┆ <geoclass_seamount>            ┆ null       │\n",
       "│      ┆ t_12429124>                     ┆           ┆                                ┆            │\n",
       "│ null ┆ <geoentity_Zhenghe_Ridge_124291 ┆ rdf:type  ┆ <geoclass_ridge>               ┆ null       │\n",
       "│      ┆ 25>                             ┆           ┆                                ┆            │\n",
       "│ null ┆ <geoentity_Akkadian_Empire_1248 ┆ rdf:type  ┆ <geoclass_historical_first-ord ┆ null       │\n",
       "│      ┆ 9745>                           ┆           ┆ er_administrative_division>    ┆            │\n",
       "└──────┴─────────────────────────────────┴───────────┴────────────────────────────────┴────────────┘"
      ]
     },
     "metadata": {},
     "output_type": "display_data"
    },
    {
     "name": "stdout",
     "output_type": "stream",
     "text": [
      "yagoGeonamesTypesSources.tsv\n"
     ]
    },
    {
     "data": {
      "text/html": [
       "<div><style>\n",
       ".dataframe > thead > tr,\n",
       ".dataframe > tbody > tr {\n",
       "  text-align: right;\n",
       "  white-space: pre-wrap;\n",
       "}\n",
       "</style>\n",
       "<small>shape: (0, 5)</small><table border=\"1\" class=\"dataframe\"><thead><tr><th>id</th><th>subject</th><th>predicate</th><th>cat_object</th><th>num_object</th></tr><tr><td>str</td><td>f64</td><td>f64</td><td>f64</td><td>f64</td></tr></thead><tbody></tbody></table></div>"
      ],
      "text/plain": [
       "shape: (0, 5)\n",
       "┌─────┬─────────┬───────────┬────────────┬────────────┐\n",
       "│ id  ┆ subject ┆ predicate ┆ cat_object ┆ num_object │\n",
       "│ --- ┆ ---     ┆ ---       ┆ ---        ┆ ---        │\n",
       "│ str ┆ f64     ┆ f64       ┆ f64        ┆ f64        │\n",
       "╞═════╪═════════╪═══════════╪════════════╪════════════╡\n",
       "└─────┴─────────┴───────────┴────────────┴────────────┘"
      ]
     },
     "metadata": {},
     "output_type": "display_data"
    },
    {
     "name": "stdout",
     "output_type": "stream",
     "text": [
      "yagoInfoboxAttributes_en.tsv\n"
     ]
    },
    {
     "data": {
      "text/html": [
       "<div><style>\n",
       ".dataframe > thead > tr,\n",
       ".dataframe > tbody > tr {\n",
       "  text-align: right;\n",
       "  white-space: pre-wrap;\n",
       "}\n",
       "</style>\n",
       "<small>shape: (61_397_437, 5)</small><table border=\"1\" class=\"dataframe\"><thead><tr><th>id</th><th>subject</th><th>predicate</th><th>cat_object</th><th>num_object</th></tr><tr><td>str</td><td>str</td><td>str</td><td>str</td><td>f64</td></tr></thead><tbody><tr><td>&quot;&lt;id_2rPbdV?n!v_nYP_2rvbdV?fuL&gt;&quot;</td><td>&quot;&lt;A&gt;&quot;</td><td>&quot;&lt;infobox/en/alphanumber&gt;&quot;</td><td>&quot;1@en&quot;</td><td>null</td></tr><tr><td>&quot;&lt;id_2rPbdV?n!v_jCM_cpCduQJPlD&gt;&quot;</td><td>&quot;&lt;A&gt;&quot;</td><td>&quot;&lt;infobox/en/associates&gt;&quot;</td><td>&quot;[[List of Latin-script digraphs#A|a(x)]], [[Ae (digraph)|ae]], [[Eau (trigraph)|eau]]@en&quot;</td><td>null</td></tr><tr><td>&quot;&lt;id_2rPbdV?n!v_h13_i9hRlqHrFJ&gt;&quot;</td><td>&quot;&lt;A&gt;&quot;</td><td>&quot;&lt;infobox/en/children&gt;&quot;</td><td>&quot;{{grid list|\\n* [[Æ]]\\n* [[Ä]]\\n* [[Â]]\\n* [[Ɑ]]\\n* [[Turned V|Ʌ]]\\n* [[Ɐ]]\\n* [[ª]]\\n* [[Å]]\\n* [[₳]]\\n* [[@]]\\n* [[Ⓐ]]\\n* [[ⓐ]]\\n* [[⒜]]\\n* {{not a…</td><td>null</td></tr><tr><td>&quot;&lt;id_2rPbdV?n!v_rgX_MhWhF1fyKM&gt;&quot;</td><td>&quot;&lt;A&gt;&quot;</td><td>&quot;&lt;infobox/en/direction&gt;&quot;</td><td>&quot;Left-to-Right@en&quot;</td><td>null</td></tr><tr><td>&quot;&lt;id_2rPbdV?n!v_jqN_WKa0LBF51G&gt;&quot;</td><td>&quot;&lt;A&gt;&quot;</td><td>&quot;&lt;infobox/en/fam&gt;&quot;</td><td>&quot;&lt;hiero&gt;F1&lt;/hiero&gt;@en&quot;</td><td>null</td></tr><tr><td>&quot;&lt;id_2rPbdV?n!v_jqN_yt5GtZoHQq&gt;&quot;</td><td>&quot;&lt;A&gt;&quot;</td><td>&quot;&lt;infobox/en/fam&gt;&quot;</td><td>&quot;[[Alpha|Α α]]@en&quot;</td><td>null</td></tr><tr><td>&quot;&lt;id_2rPbdV?n!v_jqN_mBNcpZFYDJ&gt;&quot;</td><td>&quot;&lt;A&gt;&quot;</td><td>&quot;&lt;infobox/en/fam&gt;&quot;</td><td>&quot;[[𐌀]]@en&quot;</td><td>null</td></tr><tr><td>&quot;&lt;id_2rPbdV?n!v_YWo_!r?JmYO6?v&gt;&quot;</td><td>&quot;&lt;A&gt;&quot;</td><td>&quot;&lt;infobox/en/image&gt;&quot;</td><td>&quot;File:A cursiva.gif@en&quot;</td><td>null</td></tr><tr><td>&quot;&lt;id_2rPbdV?n!v_7!A_2WOIn7htZN&gt;&quot;</td><td>&quot;&lt;A&gt;&quot;</td><td>&quot;&lt;infobox/en/imagealt&gt;&quot;</td><td>&quot;Writing cursive forms of A@en&quot;</td><td>null</td></tr><tr><td>&quot;&lt;id_2rPbdV?n!v_c7e_efkF8RqJHA&gt;&quot;</td><td>&quot;&lt;A&gt;&quot;</td><td>&quot;&lt;infobox/en/imagesize&gt;&quot;</td><td>&quot;200px@en&quot;</td><td>null</td></tr><tr><td>&quot;&lt;id_2rPbdV?n!v_qv4_2kOprgE1wJ&gt;&quot;</td><td>&quot;&lt;A&gt;&quot;</td><td>&quot;&lt;infobox/en/language&gt;&quot;</td><td>&quot;[[Latin language]]@en&quot;</td><td>null</td></tr><tr><td>&quot;&lt;id_2rPbdV?n!v_TOX_yzFoODgKoX&gt;&quot;</td><td>&quot;&lt;A&gt;&quot;</td><td>&quot;&lt;infobox/en/letter&gt;&quot;</td><td>&quot;A a ɑ@en&quot;</td><td>null</td></tr><tr><td>&hellip;</td><td>&hellip;</td><td>&hellip;</td><td>&hellip;</td><td>&hellip;</td></tr><tr><td>&quot;&lt;id_dm7MCS5sj9_uIR_OazU0!HawD&gt;&quot;</td><td>&quot;&lt;Harald_the_Stalwart&gt;&quot;</td><td>&quot;&lt;infobox/en/director&gt;&quot;</td><td>&quot;[[Hampe Faustman]]@en&quot;</td><td>null</td></tr><tr><td>&quot;&lt;id_dm7MCS5sj9_Qgl_RYz7ik?dt8&gt;&quot;</td><td>&quot;&lt;Harald_the_Stalwart&gt;&quot;</td><td>&quot;&lt;infobox/en/distributor&gt;&quot;</td><td>&quot;Film AB Lux@en&quot;</td><td>null</td></tr><tr><td>&quot;&lt;id_dm7MCS5sj9_Qb6_iRE17I7oq9&gt;&quot;</td><td>&quot;&lt;Harald_the_Stalwart&gt;&quot;</td><td>&quot;&lt;infobox/en/editing&gt;&quot;</td><td>&quot;[[Hans Gullander]]@en&quot;</td><td>null</td></tr><tr><td>&quot;&lt;id_dm7MCS5sj9_YWo_h8QjBXTsqd&gt;&quot;</td><td>&quot;&lt;Harald_the_Stalwart&gt;&quot;</td><td>&quot;&lt;infobox/en/image&gt;&quot;</td><td>&quot;File:Harald the Stalwart.jpg@en&quot;</td><td>null</td></tr><tr><td>&quot;&lt;id_dm7MCS5sj9_qv4_O3Gtqqvtyl&gt;&quot;</td><td>&quot;&lt;Harald_the_Stalwart&gt;&quot;</td><td>&quot;&lt;infobox/en/language&gt;&quot;</td><td>&quot;[[Swedish language|Swedish]]@en&quot;</td><td>null</td></tr><tr><td>&quot;&lt;id_dm7MCS5sj9_Kig_Q2o4JFbOgZ&gt;&quot;</td><td>&quot;&lt;Harald_the_Stalwart&gt;&quot;</td><td>&quot;&lt;infobox/en/music&gt;&quot;</td><td>&quot;[[Jules Sylvain]]@en&quot;</td><td>null</td></tr><tr><td>&quot;&lt;id_dm7MCS5sj9_ONn_b78eODZY7h&gt;&quot;</td><td>&quot;&lt;Harald_the_Stalwart&gt;&quot;</td><td>&quot;&lt;infobox/en/name&gt;&quot;</td><td>&quot;Harald the Stalwart@en&quot;</td><td>null</td></tr><tr><td>&quot;&lt;id_dm7MCS5sj9_mzi_gOopd6?l8c&gt;&quot;</td><td>&quot;&lt;Harald_the_Stalwart&gt;&quot;</td><td>&quot;&lt;infobox/en/released&gt;&quot;</td><td>&quot;26 December 1946@en&quot;</td><td>null</td></tr><tr><td>&quot;&lt;id_dm7MCS5sj9_XAU_hcMOj9nHX5&gt;&quot;</td><td>&quot;&lt;Harald_the_Stalwart&gt;&quot;</td><td>&quot;&lt;infobox/en/runtime&gt;&quot;</td><td>&quot;74 minutes@en&quot;</td><td>null</td></tr><tr><td>&quot;&lt;id_dm7MCS5sj9_n91_C6ABb8OFVB&gt;&quot;</td><td>&quot;&lt;Harald_the_Stalwart&gt;&quot;</td><td>&quot;&lt;infobox/en/starring&gt;&quot;</td><td>&quot;[[George Fant]] \\n [[Georg Rydeberg]] \\n [[Elsie Albiin]]@en&quot;</td><td>null</td></tr><tr><td>&quot;&lt;id_dm7MCS5sj9_Sl9_RYz7ik?dt8&gt;&quot;</td><td>&quot;&lt;Harald_the_Stalwart&gt;&quot;</td><td>&quot;&lt;infobox/en/studio&gt;&quot;</td><td>&quot;Film AB Lux@en&quot;</td><td>null</td></tr><tr><td>&quot;&lt;id_dm7MCS5sj9_ip5_3TWSmfFr95&gt;&quot;</td><td>&quot;&lt;Harald_the_Stalwart&gt;&quot;</td><td>&quot;&lt;infobox/en/writer&gt;&quot;</td><td>&quot;[[Paul Baudisch]] \\n [[Arne Bornebusch]] \\n [[Adolf Schütz (writer)|Adolf Schütz]]@en&quot;</td><td>null</td></tr></tbody></table></div>"
      ],
      "text/plain": [
       "shape: (61_397_437, 5)\n",
       "┌─────────────────────┬─────────────────────┬────────────────────┬────────────────────┬────────────┐\n",
       "│ id                  ┆ subject             ┆ predicate          ┆ cat_object         ┆ num_object │\n",
       "│ ---                 ┆ ---                 ┆ ---                ┆ ---                ┆ ---        │\n",
       "│ str                 ┆ str                 ┆ str                ┆ str                ┆ f64        │\n",
       "╞═════════════════════╪═════════════════════╪════════════════════╪════════════════════╪════════════╡\n",
       "│ <id_2rPbdV?n!v_nYP_ ┆ <A>                 ┆ <infobox/en/alphan ┆ 1@en               ┆ null       │\n",
       "│ 2rvbdV?fuL>         ┆                     ┆ umber>             ┆                    ┆            │\n",
       "│ <id_2rPbdV?n!v_jCM_ ┆ <A>                 ┆ <infobox/en/associ ┆ [[List of          ┆ null       │\n",
       "│ cpCduQJPlD>         ┆                     ┆ ates>              ┆ Latin-script       ┆            │\n",
       "│                     ┆                     ┆                    ┆ digraphs#A|a(x)]], ┆            │\n",
       "│                     ┆                     ┆                    ┆ [[Ae               ┆            │\n",
       "│                     ┆                     ┆                    ┆ (digraph)|ae]],    ┆            │\n",
       "│                     ┆                     ┆                    ┆ [[Eau (trigraph)|e ┆            │\n",
       "│                     ┆                     ┆                    ┆ au]]@en            ┆            │\n",
       "│ <id_2rPbdV?n!v_h13_ ┆ <A>                 ┆ <infobox/en/childr ┆ {{grid list|\\n*    ┆ null       │\n",
       "│ i9hRlqHrFJ>         ┆                     ┆ en>                ┆ [[Æ]]\\n* [[Ä]]\\n*  ┆            │\n",
       "│                     ┆                     ┆                    ┆ [[Â]]\\n* [[Ɑ]]\\n*  ┆            │\n",
       "│                     ┆                     ┆                    ┆ [[Turned V|Ʌ]]\\n*  ┆            │\n",
       "│                     ┆                     ┆                    ┆ [[Ɐ]]\\n* [[ª]]\\n*  ┆            │\n",
       "│                     ┆                     ┆                    ┆ [[Å]]\\n* [[₳]]\\n*  ┆            │\n",
       "│                     ┆                     ┆                    ┆ [[@]]\\n* [[Ⓐ]]\\n*  ┆            │\n",
       "│                     ┆                     ┆                    ┆ [[ⓐ]]\\n* [[⒜]]\\n*  ┆            │\n",
       "│                     ┆                     ┆                    ┆ {{not a …          ┆            │\n",
       "│ <id_2rPbdV?n!v_rgX_ ┆ <A>                 ┆ <infobox/en/direct ┆ Left-to-Right@en   ┆ null       │\n",
       "│ MhWhF1fyKM>         ┆                     ┆ ion>               ┆                    ┆            │\n",
       "│ <id_2rPbdV?n!v_jqN_ ┆ <A>                 ┆ <infobox/en/fam>   ┆ <hiero>F1</hiero>@ ┆ null       │\n",
       "│ WKa0LBF51G>         ┆                     ┆                    ┆ en                 ┆            │\n",
       "│ …                   ┆ …                   ┆ …                  ┆ …                  ┆ …          │\n",
       "│ <id_dm7MCS5sj9_mzi_ ┆ <Harald_the_Stalwar ┆ <infobox/en/releas ┆ 26 December        ┆ null       │\n",
       "│ gOopd6?l8c>         ┆ t>                  ┆ ed>                ┆ 1946@en            ┆            │\n",
       "│ <id_dm7MCS5sj9_XAU_ ┆ <Harald_the_Stalwar ┆ <infobox/en/runtim ┆ 74 minutes@en      ┆ null       │\n",
       "│ hcMOj9nHX5>         ┆ t>                  ┆ e>                 ┆                    ┆            │\n",
       "│ <id_dm7MCS5sj9_n91_ ┆ <Harald_the_Stalwar ┆ <infobox/en/starri ┆ [[George Fant]] \\n ┆ null       │\n",
       "│ C6ABb8OFVB>         ┆ t>                  ┆ ng>                ┆ [[Georg Rydeberg]] ┆            │\n",
       "│                     ┆                     ┆                    ┆ \\n [[Elsie         ┆            │\n",
       "│                     ┆                     ┆                    ┆ Albiin]]@en        ┆            │\n",
       "│ <id_dm7MCS5sj9_Sl9_ ┆ <Harald_the_Stalwar ┆ <infobox/en/studio ┆ Film AB Lux@en     ┆ null       │\n",
       "│ RYz7ik?dt8>         ┆ t>                  ┆ >                  ┆                    ┆            │\n",
       "│ <id_dm7MCS5sj9_ip5_ ┆ <Harald_the_Stalwar ┆ <infobox/en/writer ┆ [[Paul Baudisch]]  ┆ null       │\n",
       "│ 3TWSmfFr95>         ┆ t>                  ┆ >                  ┆ \\n [[Arne          ┆            │\n",
       "│                     ┆                     ┆                    ┆ Bornebusch]] \\n    ┆            │\n",
       "│                     ┆                     ┆                    ┆ [[Adolf Schütz     ┆            │\n",
       "│                     ┆                     ┆                    ┆ (writer)|Adolf     ┆            │\n",
       "│                     ┆                     ┆                    ┆ Schütz]]@en        ┆            │\n",
       "└─────────────────────┴─────────────────────┴────────────────────┴────────────────────┴────────────┘"
      ]
     },
     "metadata": {},
     "output_type": "display_data"
    },
    {
     "name": "stdout",
     "output_type": "stream",
     "text": [
      "yagoInfoboxAttributes_fr.tsv\n"
     ]
    },
    {
     "data": {
      "text/html": [
       "<div><style>\n",
       ".dataframe > thead > tr,\n",
       ".dataframe > tbody > tr {\n",
       "  text-align: right;\n",
       "  white-space: pre-wrap;\n",
       "}\n",
       "</style>\n",
       "<small>shape: (19_605_638, 5)</small><table border=\"1\" class=\"dataframe\"><thead><tr><th>id</th><th>subject</th><th>predicate</th><th>cat_object</th><th>num_object</th></tr><tr><td>str</td><td>str</td><td>str</td><td>str</td><td>f64</td></tr></thead><tbody><tr><td>&quot;&lt;id_PSA3W26OQ1_Ugk_l8B4viPt2!&gt;&quot;</td><td>&quot;&lt;fr/Antoine_Meillet&gt;&quot;</td><td>&quot;&lt;infobox/fr/charte&gt;&quot;</td><td>&quot;linguiste@fr&quot;</td><td>null</td></tr><tr><td>&quot;&lt;id_PSA3W26OQ1_J5S_9ztdxlN?YB&gt;&quot;</td><td>&quot;&lt;fr/Antoine_Meillet&gt;&quot;</td><td>&quot;&lt;infobox/fr/idéesremarquables&gt;&quot;</td><td>&quot;[[épithète homérique]]@fr&quot;</td><td>null</td></tr><tr><td>&quot;&lt;id_PSA3W26OQ1_11U_95FLSHcg6N&gt;&quot;</td><td>&quot;&lt;fr/Antoine_Meillet&gt;&quot;</td><td>&quot;&lt;infobox/fr/région&gt;&quot;</td><td>&quot;Linguiste occidental@fr&quot;</td><td>null</td></tr><tr><td>&quot;&lt;id_PSA3W26OQ1_rWL_zGUC2gsMCD&gt;&quot;</td><td>&quot;&lt;fr/Antoine_Meillet&gt;&quot;</td><td>&quot;&lt;infobox/fr/œuvresprincipales&gt;&quot;</td><td>&quot;* \\u0022Introduction à l&#x27;étude comparative des langues indo-européennes\\u0022 ([[1903]])\\n* \\u0022Aperçu d&#x27;une histoire de la langue grecque\\u0022 ([…</td><td>null</td></tr><tr><td>&quot;&lt;id_JAKeq47Qz6_!UC_Cdfhy5DC6y&gt;&quot;</td><td>&quot;&lt;fr/Autriche&gt;&quot;</td><td>&quot;&lt;infobox/fr/audiohymne&gt;&quot;</td><td>&quot;Land der Berge Land am Strome instrumental.ogg@fr&quot;</td><td>null</td></tr><tr><td>&quot;&lt;id_JAKeq47Qz6_Hxq_KjGc1PWpaF&gt;&quot;</td><td>&quot;&lt;fr/Autriche&gt;&quot;</td><td>&quot;&lt;infobox/fr/capitale&gt;&quot;</td><td>&quot;[[Vienne (Autriche)|Vienne]]@fr&quot;</td><td>null</td></tr><tr><td>&quot;&lt;id_JAKeq47Qz6_6QR_zuws7kXTIA&gt;&quot;</td><td>&quot;&lt;fr/Autriche&gt;&quot;</td><td>&quot;&lt;infobox/fr/chômage&gt;&quot;</td><td>&quot;{{augmentation négative}} 5,8 % de la pop. active\\n+ 28,88 %@fr&quot;</td><td>null</td></tr><tr><td>&quot;&lt;id_JAKeq47Qz6_PZV_56OiceTr2X&gt;&quot;</td><td>&quot;&lt;fr/Autriche&gt;&quot;</td><td>&quot;&lt;infobox/fr/chômageannée&gt;&quot;</td><td>&quot;2020@fr&quot;</td><td>null</td></tr><tr><td>&quot;&lt;id_JAKeq47Qz6_wBG_iY4ekYneUE&gt;&quot;</td><td>&quot;&lt;fr/Autriche&gt;&quot;</td><td>&quot;&lt;infobox/fr/codemonnaie&gt;&quot;</td><td>&quot;EUR@fr&quot;</td><td>null</td></tr><tr><td>&quot;&lt;id_JAKeq47Qz6_2oX_9s9c5TvD7Z&gt;&quot;</td><td>&quot;&lt;fr/Autriche&gt;&quot;</td><td>&quot;&lt;infobox/fr/coordonnéescapitale&gt;&quot;</td><td>&quot;{{coord|48|12|N|16|21|E}}@fr&quot;</td><td>null</td></tr><tr><td>&quot;&lt;id_JAKeq47Qz6_h3!_twL7HseuY7&gt;&quot;</td><td>&quot;&lt;fr/Autriche&gt;&quot;</td><td>&quot;&lt;infobox/fr/dateformation&gt;&quot;</td><td>&quot;{{date-|1156}}@fr&quot;</td><td>null</td></tr><tr><td>&quot;&lt;id_JAKeq47Qz6_h3!_NxIzsiOJZd&gt;&quot;</td><td>&quot;&lt;fr/Autriche&gt;&quot;</td><td>&quot;&lt;infobox/fr/dateformation&gt;&quot;</td><td>&quot;{{date-|1453}}@fr&quot;</td><td>null</td></tr><tr><td>&hellip;</td><td>&hellip;</td><td>&hellip;</td><td>&hellip;</td><td>&hellip;</td></tr><tr><td>&quot;&lt;id_EEfgcrID4C_P3i_nGM?RGdLmo&gt;&quot;</td><td>&quot;&lt;fr/Julie_Laernoes&gt;&quot;</td><td>&quot;&lt;infobox/fr/fonction&gt;&quot;</td><td>&quot;[[Député français|Députée française]]@fr&quot;</td><td>null</td></tr><tr><td>&quot;&lt;id_EEfgcrID4C_y9T_kPRzCRZRqM&gt;&quot;</td><td>&quot;&lt;fr/Julie_Laernoes&gt;&quot;</td><td>&quot;&lt;infobox/fr/image&gt;&quot;</td><td>&quot;Defaut.svg@fr&quot;</td><td>null</td></tr><tr><td>&quot;&lt;id_EEfgcrID4C_mhZ_7l3wfXVldq&gt;&quot;</td><td>&quot;&lt;fr/Julie_Laernoes&gt;&quot;</td><td>&quot;&lt;infobox/fr/jusquaufonction&gt;&quot;</td><td>&quot;{{date|22|juin|2022}}@fr&quot;</td><td>null</td></tr><tr><td>&quot;&lt;id_EEfgcrID4C_lj4_b2I3ewKDe0&gt;&quot;</td><td>&quot;&lt;fr/Julie_Laernoes&gt;&quot;</td><td>&quot;&lt;infobox/fr/lieudenaissance&gt;&quot;</td><td>&quot;[[La Haye]] ([[Pays-Bas]])@fr&quot;</td><td>null</td></tr><tr><td>&quot;&lt;id_EEfgcrID4C_bwG_SgyQ2FX?YK&gt;&quot;</td><td>&quot;&lt;fr/Julie_Laernoes&gt;&quot;</td><td>&quot;&lt;infobox/fr/législature&gt;&quot;</td><td>&quot;{{Législature de la Cinquième République|XVI}}@fr&quot;</td><td>null</td></tr><tr><td>&quot;&lt;id_EEfgcrID4C_Ez?_UQALUXOe2I&gt;&quot;</td><td>&quot;&lt;fr/Julie_Laernoes&gt;&quot;</td><td>&quot;&lt;infobox/fr/nationalité&gt;&quot;</td><td>&quot;[[Française]]@fr&quot;</td><td>null</td></tr><tr><td>&quot;&lt;id_EEfgcrID4C_Q3f_JoGXKaA8b3&gt;&quot;</td><td>&quot;&lt;fr/Julie_Laernoes&gt;&quot;</td><td>&quot;&lt;infobox/fr/nom&gt;&quot;</td><td>&quot;Julie Laernoes@fr&quot;</td><td>null</td></tr><tr><td>&quot;&lt;id_EEfgcrID4C_ZdE_MYPnZ1YY?M&gt;&quot;</td><td>&quot;&lt;fr/Julie_Laernoes&gt;&quot;</td><td>&quot;&lt;infobox/fr/parti&gt;&quot;</td><td>&quot;[[Europe Écologie Les Verts|EÉLV]]@fr&quot;</td><td>null</td></tr><tr><td>&quot;&lt;id_EEfgcrID4C_MH2_R4IJOwkZrQ&gt;&quot;</td><td>&quot;&lt;fr/Julie_Laernoes&gt;&quot;</td><td>&quot;&lt;infobox/fr/prédécesseur&gt;&quot;</td><td>&quot;[[Aude Amadou]]@fr&quot;</td><td>null</td></tr><tr><td>&quot;&lt;id_EEfgcrID4C_JbG_n8U3UHD5KQ&gt;&quot;</td><td>&quot;&lt;fr/Julie_Laernoes&gt;&quot;</td><td>&quot;&lt;infobox/fr/université&gt;&quot;</td><td>&quot;[[Sciences Po]]@fr&quot;</td><td>null</td></tr><tr><td>&quot;&lt;id_EEfgcrID4C_fjs_ZTGXWtOHuY&gt;&quot;</td><td>&quot;&lt;fr/Julie_Laernoes&gt;&quot;</td><td>&quot;&lt;infobox/fr/àpartirdufonction&gt;&quot;</td><td>&quot;En attente d&#x27;investiture@fr&quot;</td><td>null</td></tr><tr><td>&quot;&lt;id_EEfgcrID4C_3mQ_l4k?fZrquR&gt;&quot;</td><td>&quot;&lt;fr/Julie_Laernoes&gt;&quot;</td><td>&quot;&lt;infobox/fr/élection&gt;&quot;</td><td>&quot;[[Élections législatives de 2022 dans la Loire-Atlantique|19 juin 2022]]@fr&quot;</td><td>null</td></tr></tbody></table></div>"
      ],
      "text/plain": [
       "shape: (19_605_638, 5)\n",
       "┌─────────────────────┬─────────────────────┬────────────────────┬────────────────────┬────────────┐\n",
       "│ id                  ┆ subject             ┆ predicate          ┆ cat_object         ┆ num_object │\n",
       "│ ---                 ┆ ---                 ┆ ---                ┆ ---                ┆ ---        │\n",
       "│ str                 ┆ str                 ┆ str                ┆ str                ┆ f64        │\n",
       "╞═════════════════════╪═════════════════════╪════════════════════╪════════════════════╪════════════╡\n",
       "│ <id_PSA3W26OQ1_Ugk_ ┆ <fr/Antoine_Meillet ┆ <infobox/fr/charte ┆ linguiste@fr       ┆ null       │\n",
       "│ l8B4viPt2!>         ┆ >                   ┆ >                  ┆                    ┆            │\n",
       "│ <id_PSA3W26OQ1_J5S_ ┆ <fr/Antoine_Meillet ┆ <infobox/fr/idéesr ┆ [[épithète         ┆ null       │\n",
       "│ 9ztdxlN?YB>         ┆ >                   ┆ emarquables>       ┆ homérique]]@fr     ┆            │\n",
       "│ <id_PSA3W26OQ1_11U_ ┆ <fr/Antoine_Meillet ┆ <infobox/fr/région ┆ Linguiste          ┆ null       │\n",
       "│ 95FLSHcg6N>         ┆ >                   ┆ >                  ┆ occidental@fr      ┆            │\n",
       "│ <id_PSA3W26OQ1_rWL_ ┆ <fr/Antoine_Meillet ┆ <infobox/fr/œuvres ┆ *                  ┆ null       │\n",
       "│ zGUC2gsMCD>         ┆ >                   ┆ principales>       ┆ \\u0022Introduction ┆            │\n",
       "│                     ┆                     ┆                    ┆ à l'étude          ┆            │\n",
       "│                     ┆                     ┆                    ┆ comparative des    ┆            │\n",
       "│                     ┆                     ┆                    ┆ langues indo-europ ┆            │\n",
       "│                     ┆                     ┆                    ┆ éennes\\u0022       ┆            │\n",
       "│                     ┆                     ┆                    ┆ ([[1903]])\\n*      ┆            │\n",
       "│                     ┆                     ┆                    ┆ \\u0022Aperçu d'une ┆            │\n",
       "│                     ┆                     ┆                    ┆ histoire de la     ┆            │\n",
       "│                     ┆                     ┆                    ┆ langue             ┆            │\n",
       "│                     ┆                     ┆                    ┆ grecque\\u0022 ([[… ┆            │\n",
       "│ <id_JAKeq47Qz6_!UC_ ┆ <fr/Autriche>       ┆ <infobox/fr/audioh ┆ Land der Berge     ┆ null       │\n",
       "│ Cdfhy5DC6y>         ┆                     ┆ ymne>              ┆ Land am Strome ins ┆            │\n",
       "│                     ┆                     ┆                    ┆ trumental.ogg@fr   ┆            │\n",
       "│ …                   ┆ …                   ┆ …                  ┆ …                  ┆ …          │\n",
       "│ <id_EEfgcrID4C_ZdE_ ┆ <fr/Julie_Laernoes> ┆ <infobox/fr/parti> ┆ [[Europe Écologie  ┆ null       │\n",
       "│ MYPnZ1YY?M>         ┆                     ┆                    ┆ Les                ┆            │\n",
       "│                     ┆                     ┆                    ┆ Verts|EÉLV]]@fr    ┆            │\n",
       "│ <id_EEfgcrID4C_MH2_ ┆ <fr/Julie_Laernoes> ┆ <infobox/fr/prédéc ┆ [[Aude Amadou]]@fr ┆ null       │\n",
       "│ R4IJOwkZrQ>         ┆                     ┆ esseur>            ┆                    ┆            │\n",
       "│ <id_EEfgcrID4C_JbG_ ┆ <fr/Julie_Laernoes> ┆ <infobox/fr/univer ┆ [[Sciences Po]]@fr ┆ null       │\n",
       "│ n8U3UHD5KQ>         ┆                     ┆ sité>              ┆                    ┆            │\n",
       "│ <id_EEfgcrID4C_fjs_ ┆ <fr/Julie_Laernoes> ┆ <infobox/fr/àparti ┆ En attente         ┆ null       │\n",
       "│ ZTGXWtOHuY>         ┆                     ┆ rdufonction>       ┆ d'investiture@fr   ┆            │\n",
       "│ <id_EEfgcrID4C_3mQ_ ┆ <fr/Julie_Laernoes> ┆ <infobox/fr/électi ┆ [[Élections        ┆ null       │\n",
       "│ l4k?fZrquR>         ┆                     ┆ on>                ┆ législatives de    ┆            │\n",
       "│                     ┆                     ┆                    ┆ 2022 dans la Loire ┆            │\n",
       "│                     ┆                     ┆                    ┆ -Atlantique|19     ┆            │\n",
       "│                     ┆                     ┆                    ┆ juin 2022]]@fr     ┆            │\n",
       "└─────────────────────┴─────────────────────┴────────────────────┴────────────────────┴────────────┘"
      ]
     },
     "metadata": {},
     "output_type": "display_data"
    },
    {
     "name": "stdout",
     "output_type": "stream",
     "text": [
      "yagoInfoboxAttributeSources_en.tsv\n"
     ]
    },
    {
     "data": {
      "text/html": [
       "<div><style>\n",
       ".dataframe > thead > tr,\n",
       ".dataframe > tbody > tr {\n",
       "  text-align: right;\n",
       "  white-space: pre-wrap;\n",
       "}\n",
       "</style>\n",
       "<small>shape: (123_006_656, 5)</small><table border=\"1\" class=\"dataframe\"><thead><tr><th>id</th><th>subject</th><th>predicate</th><th>cat_object</th><th>num_object</th></tr><tr><td>str</td><td>str</td><td>str</td><td>str</td><td>f64</td></tr></thead><tbody><tr><td>&quot;&lt;id_38HEim2SSO_Tm9_IxTlrK!V5c&gt;&quot;</td><td>&quot;&lt;id_2rPbdV?n!v_nYP_2rvbdV?fuL&gt;&quot;</td><td>&quot;&lt;extractionSource&gt;&quot;</td><td>&quot;&lt;http://en.wikipedia.org/wiki/A&gt;&quot;</td><td>null</td></tr><tr><td>null</td><td>&quot;&lt;id_38HEim2SSO_Tm9_IxTlrK!V5c&gt;&quot;</td><td>&quot;&lt;extractionTechnique&gt;&quot;</td><td>&quot;Infobox Extractor&quot;</td><td>null</td></tr><tr><td>&quot;&lt;id_vTSRpbiD?H_Tm9_IxTlrK!V5c&gt;&quot;</td><td>&quot;&lt;id_2rPbdV?n!v_jCM_cpCduQJPlD&gt;&quot;</td><td>&quot;&lt;extractionSource&gt;&quot;</td><td>&quot;&lt;http://en.wikipedia.org/wiki/A&gt;&quot;</td><td>null</td></tr><tr><td>null</td><td>&quot;&lt;id_vTSRpbiD?H_Tm9_IxTlrK!V5c&gt;&quot;</td><td>&quot;&lt;extractionTechnique&gt;&quot;</td><td>&quot;Infobox Extractor&quot;</td><td>null</td></tr><tr><td>&quot;&lt;id_FNrphOYooE_Tm9_IxTlrK!V5c&gt;&quot;</td><td>&quot;&lt;id_2rPbdV?n!v_h13_i9hRlqHrFJ&gt;&quot;</td><td>&quot;&lt;extractionSource&gt;&quot;</td><td>&quot;&lt;http://en.wikipedia.org/wiki/A&gt;&quot;</td><td>null</td></tr><tr><td>null</td><td>&quot;&lt;id_FNrphOYooE_Tm9_IxTlrK!V5c&gt;&quot;</td><td>&quot;&lt;extractionTechnique&gt;&quot;</td><td>&quot;Infobox Extractor&quot;</td><td>null</td></tr><tr><td>&quot;&lt;id_AoxMvmVpH8_Tm9_IxTlrK!V5c&gt;&quot;</td><td>&quot;&lt;id_2rPbdV?n!v_rgX_MhWhF1fyKM&gt;&quot;</td><td>&quot;&lt;extractionSource&gt;&quot;</td><td>&quot;&lt;http://en.wikipedia.org/wiki/A&gt;&quot;</td><td>null</td></tr><tr><td>null</td><td>&quot;&lt;id_AoxMvmVpH8_Tm9_IxTlrK!V5c&gt;&quot;</td><td>&quot;&lt;extractionTechnique&gt;&quot;</td><td>&quot;Infobox Extractor&quot;</td><td>null</td></tr><tr><td>&quot;&lt;id_7yjL3Kf2kO_Tm9_IxTlrK!V5c&gt;&quot;</td><td>&quot;&lt;id_2rPbdV?n!v_jqN_WKa0LBF51G&gt;&quot;</td><td>&quot;&lt;extractionSource&gt;&quot;</td><td>&quot;&lt;http://en.wikipedia.org/wiki/A&gt;&quot;</td><td>null</td></tr><tr><td>null</td><td>&quot;&lt;id_7yjL3Kf2kO_Tm9_IxTlrK!V5c&gt;&quot;</td><td>&quot;&lt;extractionTechnique&gt;&quot;</td><td>&quot;Infobox Extractor&quot;</td><td>null</td></tr><tr><td>&quot;&lt;id_3Lw7lxwGoY_Tm9_IxTlrK!V5c&gt;&quot;</td><td>&quot;&lt;id_2rPbdV?n!v_jqN_yt5GtZoHQq&gt;&quot;</td><td>&quot;&lt;extractionSource&gt;&quot;</td><td>&quot;&lt;http://en.wikipedia.org/wiki/A&gt;&quot;</td><td>null</td></tr><tr><td>null</td><td>&quot;&lt;id_3Lw7lxwGoY_Tm9_IxTlrK!V5c&gt;&quot;</td><td>&quot;&lt;extractionTechnique&gt;&quot;</td><td>&quot;Infobox Extractor&quot;</td><td>null</td></tr><tr><td>&hellip;</td><td>&hellip;</td><td>&hellip;</td><td>&hellip;</td><td>&hellip;</td></tr><tr><td>&quot;&lt;id_Cr7Rgn3QlW_Tm9_qIQUybRbWm&gt;&quot;</td><td>&quot;&lt;id_ONnemkcK9z_mTj_tH?B17lB9I&gt;&quot;</td><td>&quot;&lt;extractionSource&gt;&quot;</td><td>&quot;&lt;http://en.wikipedia.org&gt;&quot;</td><td>null</td></tr><tr><td>null</td><td>&quot;&lt;id_Cr7Rgn3QlW_Tm9_qIQUybRbWm&gt;&quot;</td><td>&quot;&lt;extractionTechnique&gt;&quot;</td><td>&quot;InfoboxExtractor&quot;</td><td>null</td></tr><tr><td>&quot;&lt;id_mPf40RcHkQ_Tm9_qIQUybRbWm&gt;&quot;</td><td>&quot;&lt;id_CAGC1xjh2x_mTj_tH?B17lB9I&gt;&quot;</td><td>&quot;&lt;extractionSource&gt;&quot;</td><td>&quot;&lt;http://en.wikipedia.org&gt;&quot;</td><td>null</td></tr><tr><td>null</td><td>&quot;&lt;id_mPf40RcHkQ_Tm9_qIQUybRbWm&gt;&quot;</td><td>&quot;&lt;extractionTechnique&gt;&quot;</td><td>&quot;InfoboxExtractor&quot;</td><td>null</td></tr><tr><td>&quot;&lt;id_7qeUCKvBzu_Tm9_qIQUybRbWm&gt;&quot;</td><td>&quot;&lt;id_dZJY!m6l2L_mTj_tH?B17lB9I&gt;&quot;</td><td>&quot;&lt;extractionSource&gt;&quot;</td><td>&quot;&lt;http://en.wikipedia.org&gt;&quot;</td><td>null</td></tr><tr><td>null</td><td>&quot;&lt;id_7qeUCKvBzu_Tm9_qIQUybRbWm&gt;&quot;</td><td>&quot;&lt;extractionTechnique&gt;&quot;</td><td>&quot;InfoboxExtractor&quot;</td><td>null</td></tr><tr><td>&quot;&lt;id_p1ZWDVyVSX_Tm9_qIQUybRbWm&gt;&quot;</td><td>&quot;&lt;id_PlsGHt7rMv_mTj_tH?B17lB9I&gt;&quot;</td><td>&quot;&lt;extractionSource&gt;&quot;</td><td>&quot;&lt;http://en.wikipedia.org&gt;&quot;</td><td>null</td></tr><tr><td>null</td><td>&quot;&lt;id_p1ZWDVyVSX_Tm9_qIQUybRbWm&gt;&quot;</td><td>&quot;&lt;extractionTechnique&gt;&quot;</td><td>&quot;InfoboxExtractor&quot;</td><td>null</td></tr><tr><td>&quot;&lt;id_9r5BOldYx6_Tm9_qIQUybRbWm&gt;&quot;</td><td>&quot;&lt;id_I1eYDK64LR_mTj_tH?B17lB9I&gt;&quot;</td><td>&quot;&lt;extractionSource&gt;&quot;</td><td>&quot;&lt;http://en.wikipedia.org&gt;&quot;</td><td>null</td></tr><tr><td>null</td><td>&quot;&lt;id_9r5BOldYx6_Tm9_qIQUybRbWm&gt;&quot;</td><td>&quot;&lt;extractionTechnique&gt;&quot;</td><td>&quot;InfoboxExtractor&quot;</td><td>null</td></tr><tr><td>&quot;&lt;id_CKTZKegysW_Tm9_qIQUybRbWm&gt;&quot;</td><td>&quot;&lt;id_BFOe2J76ek_mTj_tH?B17lB9I&gt;&quot;</td><td>&quot;&lt;extractionSource&gt;&quot;</td><td>&quot;&lt;http://en.wikipedia.org&gt;&quot;</td><td>null</td></tr><tr><td>null</td><td>&quot;&lt;id_CKTZKegysW_Tm9_qIQUybRbWm&gt;&quot;</td><td>&quot;&lt;extractionTechnique&gt;&quot;</td><td>&quot;InfoboxExtractor&quot;</td><td>null</td></tr></tbody></table></div>"
      ],
      "text/plain": [
       "shape: (123_006_656, 5)\n",
       "┌─────────────────────┬─────────────────────┬────────────────────┬────────────────────┬────────────┐\n",
       "│ id                  ┆ subject             ┆ predicate          ┆ cat_object         ┆ num_object │\n",
       "│ ---                 ┆ ---                 ┆ ---                ┆ ---                ┆ ---        │\n",
       "│ str                 ┆ str                 ┆ str                ┆ str                ┆ f64        │\n",
       "╞═════════════════════╪═════════════════════╪════════════════════╪════════════════════╪════════════╡\n",
       "│ <id_38HEim2SSO_Tm9_ ┆ <id_2rPbdV?n!v_nYP_ ┆ <extractionSource> ┆ <http://en.wikiped ┆ null       │\n",
       "│ IxTlrK!V5c>         ┆ 2rvbdV?fuL>         ┆                    ┆ ia.org/wiki/A>     ┆            │\n",
       "│ null                ┆ <id_38HEim2SSO_Tm9_ ┆ <extractionTechniq ┆ Infobox Extractor  ┆ null       │\n",
       "│                     ┆ IxTlrK!V5c>         ┆ ue>                ┆                    ┆            │\n",
       "│ <id_vTSRpbiD?H_Tm9_ ┆ <id_2rPbdV?n!v_jCM_ ┆ <extractionSource> ┆ <http://en.wikiped ┆ null       │\n",
       "│ IxTlrK!V5c>         ┆ cpCduQJPlD>         ┆                    ┆ ia.org/wiki/A>     ┆            │\n",
       "│ null                ┆ <id_vTSRpbiD?H_Tm9_ ┆ <extractionTechniq ┆ Infobox Extractor  ┆ null       │\n",
       "│                     ┆ IxTlrK!V5c>         ┆ ue>                ┆                    ┆            │\n",
       "│ <id_FNrphOYooE_Tm9_ ┆ <id_2rPbdV?n!v_h13_ ┆ <extractionSource> ┆ <http://en.wikiped ┆ null       │\n",
       "│ IxTlrK!V5c>         ┆ i9hRlqHrFJ>         ┆                    ┆ ia.org/wiki/A>     ┆            │\n",
       "│ …                   ┆ …                   ┆ …                  ┆ …                  ┆ …          │\n",
       "│ null                ┆ <id_p1ZWDVyVSX_Tm9_ ┆ <extractionTechniq ┆ InfoboxExtractor   ┆ null       │\n",
       "│                     ┆ qIQUybRbWm>         ┆ ue>                ┆                    ┆            │\n",
       "│ <id_9r5BOldYx6_Tm9_ ┆ <id_I1eYDK64LR_mTj_ ┆ <extractionSource> ┆ <http://en.wikiped ┆ null       │\n",
       "│ qIQUybRbWm>         ┆ tH?B17lB9I>         ┆                    ┆ ia.org>            ┆            │\n",
       "│ null                ┆ <id_9r5BOldYx6_Tm9_ ┆ <extractionTechniq ┆ InfoboxExtractor   ┆ null       │\n",
       "│                     ┆ qIQUybRbWm>         ┆ ue>                ┆                    ┆            │\n",
       "│ <id_CKTZKegysW_Tm9_ ┆ <id_BFOe2J76ek_mTj_ ┆ <extractionSource> ┆ <http://en.wikiped ┆ null       │\n",
       "│ qIQUybRbWm>         ┆ tH?B17lB9I>         ┆                    ┆ ia.org>            ┆            │\n",
       "│ null                ┆ <id_CKTZKegysW_Tm9_ ┆ <extractionTechniq ┆ InfoboxExtractor   ┆ null       │\n",
       "│                     ┆ qIQUybRbWm>         ┆ ue>                ┆                    ┆            │\n",
       "└─────────────────────┴─────────────────────┴────────────────────┴────────────────────┴────────────┘"
      ]
     },
     "metadata": {},
     "output_type": "display_data"
    },
    {
     "name": "stdout",
     "output_type": "stream",
     "text": [
      "yagoInfoboxAttributeSources_fr.tsv\n"
     ]
    },
    {
     "data": {
      "text/html": [
       "<div><style>\n",
       ".dataframe > thead > tr,\n",
       ".dataframe > tbody > tr {\n",
       "  text-align: right;\n",
       "  white-space: pre-wrap;\n",
       "}\n",
       "</style>\n",
       "<small>shape: (39_318_840, 5)</small><table border=\"1\" class=\"dataframe\"><thead><tr><th>id</th><th>subject</th><th>predicate</th><th>cat_object</th><th>num_object</th></tr><tr><td>str</td><td>str</td><td>str</td><td>str</td><td>f64</td></tr></thead><tbody><tr><td>&quot;&lt;id_4fMj!5RoBN_Tm9_XCuVlbN3aF&gt;&quot;</td><td>&quot;&lt;id_PSA3W26OQ1_Ugk_l8B4viPt2!&gt;&quot;</td><td>&quot;&lt;extractionSource&gt;&quot;</td><td>&quot;&lt;http://fr.wikipedia.org/wiki/Antoine_Meillet&gt;&quot;</td><td>null</td></tr><tr><td>null</td><td>&quot;&lt;id_4fMj!5RoBN_Tm9_XCuVlbN3aF&gt;&quot;</td><td>&quot;&lt;extractionTechnique&gt;&quot;</td><td>&quot;Infobox Extractor&quot;</td><td>null</td></tr><tr><td>&quot;&lt;id_ZeiBwICfph_Tm9_XCuVlbN3aF&gt;&quot;</td><td>&quot;&lt;id_PSA3W26OQ1_J5S_9ztdxlN?YB&gt;&quot;</td><td>&quot;&lt;extractionSource&gt;&quot;</td><td>&quot;&lt;http://fr.wikipedia.org/wiki/Antoine_Meillet&gt;&quot;</td><td>null</td></tr><tr><td>null</td><td>&quot;&lt;id_ZeiBwICfph_Tm9_XCuVlbN3aF&gt;&quot;</td><td>&quot;&lt;extractionTechnique&gt;&quot;</td><td>&quot;Infobox Extractor&quot;</td><td>null</td></tr><tr><td>&quot;&lt;id_6m18y2hPNK_Tm9_XCuVlbN3aF&gt;&quot;</td><td>&quot;&lt;id_PSA3W26OQ1_11U_95FLSHcg6N&gt;&quot;</td><td>&quot;&lt;extractionSource&gt;&quot;</td><td>&quot;&lt;http://fr.wikipedia.org/wiki/Antoine_Meillet&gt;&quot;</td><td>null</td></tr><tr><td>null</td><td>&quot;&lt;id_6m18y2hPNK_Tm9_XCuVlbN3aF&gt;&quot;</td><td>&quot;&lt;extractionTechnique&gt;&quot;</td><td>&quot;Infobox Extractor&quot;</td><td>null</td></tr><tr><td>&quot;&lt;id_zHI3dKTkZs_Tm9_XCuVlbN3aF&gt;&quot;</td><td>&quot;&lt;id_PSA3W26OQ1_rWL_zGUC2gsMCD&gt;&quot;</td><td>&quot;&lt;extractionSource&gt;&quot;</td><td>&quot;&lt;http://fr.wikipedia.org/wiki/Antoine_Meillet&gt;&quot;</td><td>null</td></tr><tr><td>null</td><td>&quot;&lt;id_zHI3dKTkZs_Tm9_XCuVlbN3aF&gt;&quot;</td><td>&quot;&lt;extractionTechnique&gt;&quot;</td><td>&quot;Infobox Extractor&quot;</td><td>null</td></tr><tr><td>&quot;&lt;id_KtJeU0jH53_Tm9_dqGeXKHIXe&gt;&quot;</td><td>&quot;&lt;id_JAKeq47Qz6_!UC_Cdfhy5DC6y&gt;&quot;</td><td>&quot;&lt;extractionSource&gt;&quot;</td><td>&quot;&lt;http://fr.wikipedia.org/wiki/Autriche&gt;&quot;</td><td>null</td></tr><tr><td>null</td><td>&quot;&lt;id_KtJeU0jH53_Tm9_dqGeXKHIXe&gt;&quot;</td><td>&quot;&lt;extractionTechnique&gt;&quot;</td><td>&quot;Infobox Extractor&quot;</td><td>null</td></tr><tr><td>&quot;&lt;id_2cc4eSaAto_Tm9_dqGeXKHIXe&gt;&quot;</td><td>&quot;&lt;id_JAKeq47Qz6_Hxq_KjGc1PWpaF&gt;&quot;</td><td>&quot;&lt;extractionSource&gt;&quot;</td><td>&quot;&lt;http://fr.wikipedia.org/wiki/Autriche&gt;&quot;</td><td>null</td></tr><tr><td>null</td><td>&quot;&lt;id_2cc4eSaAto_Tm9_dqGeXKHIXe&gt;&quot;</td><td>&quot;&lt;extractionTechnique&gt;&quot;</td><td>&quot;Infobox Extractor&quot;</td><td>null</td></tr><tr><td>&hellip;</td><td>&hellip;</td><td>&hellip;</td><td>&hellip;</td><td>&hellip;</td></tr><tr><td>&quot;&lt;id_z7OEAVRVrZ_Tm9_p2i9Lzz5eb&gt;&quot;</td><td>&quot;&lt;id_zjf0E2rVlX_mTj_GGNb498o1c&gt;&quot;</td><td>&quot;&lt;extractionSource&gt;&quot;</td><td>&quot;&lt;http://fr.wikipedia.org&gt;&quot;</td><td>null</td></tr><tr><td>null</td><td>&quot;&lt;id_z7OEAVRVrZ_Tm9_p2i9Lzz5eb&gt;&quot;</td><td>&quot;&lt;extractionTechnique&gt;&quot;</td><td>&quot;InfoboxExtractor&quot;</td><td>null</td></tr><tr><td>&quot;&lt;id_Xtxzj6jACc_Tm9_p2i9Lzz5eb&gt;&quot;</td><td>&quot;&lt;id_J?ziQJwBVZ_mTj_GGNb498o1c&gt;&quot;</td><td>&quot;&lt;extractionSource&gt;&quot;</td><td>&quot;&lt;http://fr.wikipedia.org&gt;&quot;</td><td>null</td></tr><tr><td>null</td><td>&quot;&lt;id_Xtxzj6jACc_Tm9_p2i9Lzz5eb&gt;&quot;</td><td>&quot;&lt;extractionTechnique&gt;&quot;</td><td>&quot;InfoboxExtractor&quot;</td><td>null</td></tr><tr><td>&quot;&lt;id_7TI46Z?Fk!_Tm9_p2i9Lzz5eb&gt;&quot;</td><td>&quot;&lt;id_UKEMRAQWc2_mTj_GGNb498o1c&gt;&quot;</td><td>&quot;&lt;extractionSource&gt;&quot;</td><td>&quot;&lt;http://fr.wikipedia.org&gt;&quot;</td><td>null</td></tr><tr><td>null</td><td>&quot;&lt;id_7TI46Z?Fk!_Tm9_p2i9Lzz5eb&gt;&quot;</td><td>&quot;&lt;extractionTechnique&gt;&quot;</td><td>&quot;InfoboxExtractor&quot;</td><td>null</td></tr><tr><td>&quot;&lt;id_GTrgczF4Ve_Tm9_p2i9Lzz5eb&gt;&quot;</td><td>&quot;&lt;id_UgkAqdrXjW_mTj_n1YBQa5ebV&gt;&quot;</td><td>&quot;&lt;extractionSource&gt;&quot;</td><td>&quot;&lt;http://fr.wikipedia.org&gt;&quot;</td><td>null</td></tr><tr><td>null</td><td>&quot;&lt;id_GTrgczF4Ve_Tm9_p2i9Lzz5eb&gt;&quot;</td><td>&quot;&lt;extractionTechnique&gt;&quot;</td><td>&quot;InfoboxExtractor&quot;</td><td>null</td></tr><tr><td>&quot;&lt;id_hDcAmyH5PP_Tm9_p2i9Lzz5eb&gt;&quot;</td><td>&quot;&lt;id_y9TmdVAwPD_mTj_n1YBQa5ebV&gt;&quot;</td><td>&quot;&lt;extractionSource&gt;&quot;</td><td>&quot;&lt;http://fr.wikipedia.org&gt;&quot;</td><td>null</td></tr><tr><td>null</td><td>&quot;&lt;id_hDcAmyH5PP_Tm9_p2i9Lzz5eb&gt;&quot;</td><td>&quot;&lt;extractionTechnique&gt;&quot;</td><td>&quot;InfoboxExtractor&quot;</td><td>null</td></tr><tr><td>&quot;&lt;id_Z3s21oxbTG_Tm9_p2i9Lzz5eb&gt;&quot;</td><td>&quot;&lt;id_rqckaGVYUm_mTj_n1YBQa5ebV&gt;&quot;</td><td>&quot;&lt;extractionSource&gt;&quot;</td><td>&quot;&lt;http://fr.wikipedia.org&gt;&quot;</td><td>null</td></tr><tr><td>null</td><td>&quot;&lt;id_Z3s21oxbTG_Tm9_p2i9Lzz5eb&gt;&quot;</td><td>&quot;&lt;extractionTechnique&gt;&quot;</td><td>&quot;InfoboxExtractor&quot;</td><td>null</td></tr></tbody></table></div>"
      ],
      "text/plain": [
       "shape: (39_318_840, 5)\n",
       "┌─────────────────────┬─────────────────────┬────────────────────┬────────────────────┬────────────┐\n",
       "│ id                  ┆ subject             ┆ predicate          ┆ cat_object         ┆ num_object │\n",
       "│ ---                 ┆ ---                 ┆ ---                ┆ ---                ┆ ---        │\n",
       "│ str                 ┆ str                 ┆ str                ┆ str                ┆ f64        │\n",
       "╞═════════════════════╪═════════════════════╪════════════════════╪════════════════════╪════════════╡\n",
       "│ <id_4fMj!5RoBN_Tm9_ ┆ <id_PSA3W26OQ1_Ugk_ ┆ <extractionSource> ┆ <http://fr.wikiped ┆ null       │\n",
       "│ XCuVlbN3aF>         ┆ l8B4viPt2!>         ┆                    ┆ ia.org/wiki/Antoin ┆            │\n",
       "│                     ┆                     ┆                    ┆ e_Meillet>         ┆            │\n",
       "│ null                ┆ <id_4fMj!5RoBN_Tm9_ ┆ <extractionTechniq ┆ Infobox Extractor  ┆ null       │\n",
       "│                     ┆ XCuVlbN3aF>         ┆ ue>                ┆                    ┆            │\n",
       "│ <id_ZeiBwICfph_Tm9_ ┆ <id_PSA3W26OQ1_J5S_ ┆ <extractionSource> ┆ <http://fr.wikiped ┆ null       │\n",
       "│ XCuVlbN3aF>         ┆ 9ztdxlN?YB>         ┆                    ┆ ia.org/wiki/Antoin ┆            │\n",
       "│                     ┆                     ┆                    ┆ e_Meillet>         ┆            │\n",
       "│ null                ┆ <id_ZeiBwICfph_Tm9_ ┆ <extractionTechniq ┆ Infobox Extractor  ┆ null       │\n",
       "│                     ┆ XCuVlbN3aF>         ┆ ue>                ┆                    ┆            │\n",
       "│ <id_6m18y2hPNK_Tm9_ ┆ <id_PSA3W26OQ1_11U_ ┆ <extractionSource> ┆ <http://fr.wikiped ┆ null       │\n",
       "│ XCuVlbN3aF>         ┆ 95FLSHcg6N>         ┆                    ┆ ia.org/wiki/Antoin ┆            │\n",
       "│                     ┆                     ┆                    ┆ e_Meillet>         ┆            │\n",
       "│ …                   ┆ …                   ┆ …                  ┆ …                  ┆ …          │\n",
       "│ null                ┆ <id_GTrgczF4Ve_Tm9_ ┆ <extractionTechniq ┆ InfoboxExtractor   ┆ null       │\n",
       "│                     ┆ p2i9Lzz5eb>         ┆ ue>                ┆                    ┆            │\n",
       "│ <id_hDcAmyH5PP_Tm9_ ┆ <id_y9TmdVAwPD_mTj_ ┆ <extractionSource> ┆ <http://fr.wikiped ┆ null       │\n",
       "│ p2i9Lzz5eb>         ┆ n1YBQa5ebV>         ┆                    ┆ ia.org>            ┆            │\n",
       "│ null                ┆ <id_hDcAmyH5PP_Tm9_ ┆ <extractionTechniq ┆ InfoboxExtractor   ┆ null       │\n",
       "│                     ┆ p2i9Lzz5eb>         ┆ ue>                ┆                    ┆            │\n",
       "│ <id_Z3s21oxbTG_Tm9_ ┆ <id_rqckaGVYUm_mTj_ ┆ <extractionSource> ┆ <http://fr.wikiped ┆ null       │\n",
       "│ p2i9Lzz5eb>         ┆ n1YBQa5ebV>         ┆                    ┆ ia.org>            ┆            │\n",
       "│ null                ┆ <id_Z3s21oxbTG_Tm9_ ┆ <extractionTechniq ┆ InfoboxExtractor   ┆ null       │\n",
       "│                     ┆ p2i9Lzz5eb>         ┆ ue>                ┆                    ┆            │\n",
       "└─────────────────────┴─────────────────────┴────────────────────┴────────────────────┴────────────┘"
      ]
     },
     "metadata": {},
     "output_type": "display_data"
    },
    {
     "name": "stdout",
     "output_type": "stream",
     "text": [
      "yagoInfoboxTemplateAttributes_en.tsv\n"
     ]
    },
    {
     "data": {
      "text/html": [
       "<div><style>\n",
       ".dataframe > thead > tr,\n",
       ".dataframe > tbody > tr {\n",
       "  text-align: right;\n",
       "  white-space: pre-wrap;\n",
       "}\n",
       "</style>\n",
       "<small>shape: (105_891, 5)</small><table border=\"1\" class=\"dataframe\"><thead><tr><th>id</th><th>subject</th><th>predicate</th><th>cat_object</th><th>num_object</th></tr><tr><td>str</td><td>str</td><td>str</td><td>str</td><td>f64</td></tr></thead><tbody><tr><td>&quot;&lt;id_KYrySNfhnF_mTj_Wuk8beCq5v&gt;&quot;</td><td>&quot;&lt;infobox/en/country&gt;&quot;</td><td>&quot;&lt;template/appearsIn&gt;&quot;</td><td>&quot;book\\n &lt;!--@en&quot;</td><td>null</td></tr><tr><td>&quot;&lt;id_YWoIjSPvfe_mTj_Wuk8beCq5v&gt;&quot;</td><td>&quot;&lt;infobox/en/image&gt;&quot;</td><td>&quot;&lt;template/appearsIn&gt;&quot;</td><td>&quot;book\\n &lt;!--@en&quot;</td><td>null</td></tr><tr><td>&quot;&lt;id_6SATTu1tmX_mTj_Wuk8beCq5v&gt;&quot;</td><td>&quot;&lt;infobox/en/author&gt;&quot;</td><td>&quot;&lt;template/appearsIn&gt;&quot;</td><td>&quot;book\\n &lt;!--@en&quot;</td><td>null</td></tr><tr><td>&quot;&lt;id_LZlZQzjHRu_mTj_Wuk8beCq5v&gt;&quot;</td><td>&quot;&lt;infobox/en/isbn&gt;&quot;</td><td>&quot;&lt;template/appearsIn&gt;&quot;</td><td>&quot;book\\n &lt;!--@en&quot;</td><td>null</td></tr><tr><td>&quot;&lt;id_KMdilJm9A3_mTj_Wuk8beCq5v&gt;&quot;</td><td>&quot;&lt;infobox/en/caption&gt;&quot;</td><td>&quot;&lt;template/appearsIn&gt;&quot;</td><td>&quot;book\\n &lt;!--@en&quot;</td><td>null</td></tr><tr><td>&quot;&lt;id_fLqbe6qEZT_mTj_Wuk8beCq5v&gt;&quot;</td><td>&quot;&lt;infobox/en/coverartist&gt;&quot;</td><td>&quot;&lt;template/appearsIn&gt;&quot;</td><td>&quot;book\\n &lt;!--@en&quot;</td><td>null</td></tr><tr><td>&quot;&lt;id_qv4F8kkUM0_mTj_Wuk8beCq5v&gt;&quot;</td><td>&quot;&lt;infobox/en/language&gt;&quot;</td><td>&quot;&lt;template/appearsIn&gt;&quot;</td><td>&quot;book\\n &lt;!--@en&quot;</td><td>null</td></tr><tr><td>&quot;&lt;id_7ldSFTjTSl_mTj_Wuk8beCq5v&gt;&quot;</td><td>&quot;&lt;infobox/en/followedby&gt;&quot;</td><td>&quot;&lt;template/appearsIn&gt;&quot;</td><td>&quot;book\\n &lt;!--@en&quot;</td><td>null</td></tr><tr><td>&quot;&lt;id_aG6srYeRoc_mTj_Wuk8beCq5v&gt;&quot;</td><td>&quot;&lt;infobox/en/genre&gt;&quot;</td><td>&quot;&lt;template/appearsIn&gt;&quot;</td><td>&quot;book\\n &lt;!--@en&quot;</td><td>null</td></tr><tr><td>&quot;&lt;id_ONnemkcK9z_mTj_Wuk8beCq5v&gt;&quot;</td><td>&quot;&lt;infobox/en/name&gt;&quot;</td><td>&quot;&lt;template/appearsIn&gt;&quot;</td><td>&quot;book\\n &lt;!--@en&quot;</td><td>null</td></tr><tr><td>&quot;&lt;id_aijBvnP2S3_mTj_Wuk8beCq5v&gt;&quot;</td><td>&quot;&lt;infobox/en/publisher&gt;&quot;</td><td>&quot;&lt;template/appearsIn&gt;&quot;</td><td>&quot;book\\n &lt;!--@en&quot;</td><td>null</td></tr><tr><td>&quot;&lt;id_keQC?v?3ll_mTj_Wuk8beCq5v&gt;&quot;</td><td>&quot;&lt;infobox/en/mediatype&gt;&quot;</td><td>&quot;&lt;template/appearsIn&gt;&quot;</td><td>&quot;book\\n &lt;!--@en&quot;</td><td>null</td></tr><tr><td>&hellip;</td><td>&hellip;</td><td>&hellip;</td><td>&hellip;</td><td>&hellip;</td></tr><tr><td>&quot;&lt;id_Udqy5mKkr!_mTj_tH?B17lB9I&gt;&quot;</td><td>&quot;&lt;infobox/en/baptised&gt;&quot;</td><td>&quot;&lt;template/appearsIn&gt;&quot;</td><td>&quot;author@en&quot;</td><td>null</td></tr><tr><td>&quot;&lt;id_VwiFXSdDhU_mTj_tH?B17lB9I&gt;&quot;</td><td>&quot;&lt;infobox/en/nativename&gt;&quot;</td><td>&quot;&lt;template/appearsIn&gt;&quot;</td><td>&quot;author@en&quot;</td><td>null</td></tr><tr><td>&quot;&lt;id_HroMFLm!U8_mTj_tH?B17lB9I&gt;&quot;</td><td>&quot;&lt;infobox/en/birthplace&gt;&quot;</td><td>&quot;&lt;template/appearsIn&gt;&quot;</td><td>&quot;author@en&quot;</td><td>null</td></tr><tr><td>&quot;&lt;id_pwvEWqDfzf_mTj_tH?B17lB9I&gt;&quot;</td><td>&quot;&lt;infobox/en/nationality&gt;&quot;</td><td>&quot;&lt;template/appearsIn&gt;&quot;</td><td>&quot;author@en&quot;</td><td>null</td></tr><tr><td>&quot;&lt;id_3pAG5hFq!t_mTj_tH?B17lB9I&gt;&quot;</td><td>&quot;&lt;infobox/en/partner&gt;&quot;</td><td>&quot;&lt;template/appearsIn&gt;&quot;</td><td>&quot;author@en&quot;</td><td>null</td></tr><tr><td>&quot;&lt;id_RN1iHbMjf2_mTj_tH?B17lB9I&gt;&quot;</td><td>&quot;&lt;infobox/en/awards&gt;&quot;</td><td>&quot;&lt;template/appearsIn&gt;&quot;</td><td>&quot;author@en&quot;</td><td>null</td></tr><tr><td>&quot;&lt;id_ONnemkcK9z_mTj_tH?B17lB9I&gt;&quot;</td><td>&quot;&lt;infobox/en/name&gt;&quot;</td><td>&quot;&lt;template/appearsIn&gt;&quot;</td><td>&quot;author@en&quot;</td><td>null</td></tr><tr><td>&quot;&lt;id_CAGC1xjh2x_mTj_tH?B17lB9I&gt;&quot;</td><td>&quot;&lt;infobox/en/birthname&gt;&quot;</td><td>&quot;&lt;template/appearsIn&gt;&quot;</td><td>&quot;author@en&quot;</td><td>null</td></tr><tr><td>&quot;&lt;id_dZJY!m6l2L_mTj_tH?B17lB9I&gt;&quot;</td><td>&quot;&lt;infobox/en/deathplace&gt;&quot;</td><td>&quot;&lt;template/appearsIn&gt;&quot;</td><td>&quot;author@en&quot;</td><td>null</td></tr><tr><td>&quot;&lt;id_PlsGHt7rMv_mTj_tH?B17lB9I&gt;&quot;</td><td>&quot;&lt;infobox/en/movement&gt;&quot;</td><td>&quot;&lt;template/appearsIn&gt;&quot;</td><td>&quot;author@en&quot;</td><td>null</td></tr><tr><td>&quot;&lt;id_I1eYDK64LR_mTj_tH?B17lB9I&gt;&quot;</td><td>&quot;&lt;infobox/en/yearsactive&gt;&quot;</td><td>&quot;&lt;template/appearsIn&gt;&quot;</td><td>&quot;author@en&quot;</td><td>null</td></tr><tr><td>&quot;&lt;id_BFOe2J76ek_mTj_tH?B17lB9I&gt;&quot;</td><td>&quot;&lt;infobox/en/parents&gt;&quot;</td><td>&quot;&lt;template/appearsIn&gt;&quot;</td><td>&quot;author@en&quot;</td><td>null</td></tr></tbody></table></div>"
      ],
      "text/plain": [
       "shape: (105_891, 5)\n",
       "┌──────────────────────┬──────────────────────┬──────────────────────┬────────────────┬────────────┐\n",
       "│ id                   ┆ subject              ┆ predicate            ┆ cat_object     ┆ num_object │\n",
       "│ ---                  ┆ ---                  ┆ ---                  ┆ ---            ┆ ---        │\n",
       "│ str                  ┆ str                  ┆ str                  ┆ str            ┆ f64        │\n",
       "╞══════════════════════╪══════════════════════╪══════════════════════╪════════════════╪════════════╡\n",
       "│ <id_KYrySNfhnF_mTj_W ┆ <infobox/en/country> ┆ <template/appearsIn> ┆ book\\n <!--@en ┆ null       │\n",
       "│ uk8beCq5v>           ┆                      ┆                      ┆                ┆            │\n",
       "│ <id_YWoIjSPvfe_mTj_W ┆ <infobox/en/image>   ┆ <template/appearsIn> ┆ book\\n <!--@en ┆ null       │\n",
       "│ uk8beCq5v>           ┆                      ┆                      ┆                ┆            │\n",
       "│ <id_6SATTu1tmX_mTj_W ┆ <infobox/en/author>  ┆ <template/appearsIn> ┆ book\\n <!--@en ┆ null       │\n",
       "│ uk8beCq5v>           ┆                      ┆                      ┆                ┆            │\n",
       "│ <id_LZlZQzjHRu_mTj_W ┆ <infobox/en/isbn>    ┆ <template/appearsIn> ┆ book\\n <!--@en ┆ null       │\n",
       "│ uk8beCq5v>           ┆                      ┆                      ┆                ┆            │\n",
       "│ <id_KMdilJm9A3_mTj_W ┆ <infobox/en/caption> ┆ <template/appearsIn> ┆ book\\n <!--@en ┆ null       │\n",
       "│ uk8beCq5v>           ┆                      ┆                      ┆                ┆            │\n",
       "│ …                    ┆ …                    ┆ …                    ┆ …              ┆ …          │\n",
       "│ <id_CAGC1xjh2x_mTj_t ┆ <infobox/en/birthnam ┆ <template/appearsIn> ┆ author@en      ┆ null       │\n",
       "│ H?B17lB9I>           ┆ e>                   ┆                      ┆                ┆            │\n",
       "│ <id_dZJY!m6l2L_mTj_t ┆ <infobox/en/deathpla ┆ <template/appearsIn> ┆ author@en      ┆ null       │\n",
       "│ H?B17lB9I>           ┆ ce>                  ┆                      ┆                ┆            │\n",
       "│ <id_PlsGHt7rMv_mTj_t ┆ <infobox/en/movement ┆ <template/appearsIn> ┆ author@en      ┆ null       │\n",
       "│ H?B17lB9I>           ┆ >                    ┆                      ┆                ┆            │\n",
       "│ <id_I1eYDK64LR_mTj_t ┆ <infobox/en/yearsact ┆ <template/appearsIn> ┆ author@en      ┆ null       │\n",
       "│ H?B17lB9I>           ┆ ive>                 ┆                      ┆                ┆            │\n",
       "│ <id_BFOe2J76ek_mTj_t ┆ <infobox/en/parents> ┆ <template/appearsIn> ┆ author@en      ┆ null       │\n",
       "│ H?B17lB9I>           ┆                      ┆                      ┆                ┆            │\n",
       "└──────────────────────┴──────────────────────┴──────────────────────┴────────────────┴────────────┘"
      ]
     },
     "metadata": {},
     "output_type": "display_data"
    },
    {
     "name": "stdout",
     "output_type": "stream",
     "text": [
      "yagoInfoboxTemplateAttributes_fr.tsv\n"
     ]
    },
    {
     "data": {
      "text/html": [
       "<div><style>\n",
       ".dataframe > thead > tr,\n",
       ".dataframe > tbody > tr {\n",
       "  text-align: right;\n",
       "  white-space: pre-wrap;\n",
       "}\n",
       "</style>\n",
       "<small>shape: (53_782, 5)</small><table border=\"1\" class=\"dataframe\"><thead><tr><th>id</th><th>subject</th><th>predicate</th><th>cat_object</th><th>num_object</th></tr><tr><td>str</td><td>str</td><td>str</td><td>str</td><td>f64</td></tr></thead><tbody><tr><td>&quot;&lt;id_c5cnMfpMpw_mTj_mtLIZCFheM&gt;&quot;</td><td>&quot;&lt;infobox/fr/prix&gt;&quot;</td><td>&quot;&lt;template/appearsIn&gt;&quot;</td><td>&quot;synthétiseur@fr&quot;</td><td>null</td></tr><tr><td>&quot;&lt;id_yIVWsUfsA!_mTj_mtLIZCFheM&gt;&quot;</td><td>&quot;&lt;infobox/fr/attenuator&gt;&quot;</td><td>&quot;&lt;template/appearsIn&gt;&quot;</td><td>&quot;synthétiseur@fr&quot;</td><td>null</td></tr><tr><td>&quot;&lt;id_RJRyUqrr!9_mTj_mtLIZCFheM&gt;&quot;</td><td>&quot;&lt;infobox/fr/poids&gt;&quot;</td><td>&quot;&lt;template/appearsIn&gt;&quot;</td><td>&quot;synthétiseur@fr&quot;</td><td>null</td></tr><tr><td>&quot;&lt;id_lBxtuUOfI3_mTj_mtLIZCFheM&gt;&quot;</td><td>&quot;&lt;infobox/fr/multitimbral&gt;&quot;</td><td>&quot;&lt;template/appearsIn&gt;&quot;</td><td>&quot;synthétiseur@fr&quot;</td><td>null</td></tr><tr><td>&quot;&lt;id_i98al4O8Ph_mTj_mtLIZCFheM&gt;&quot;</td><td>&quot;&lt;infobox/fr/type&gt;&quot;</td><td>&quot;&lt;template/appearsIn&gt;&quot;</td><td>&quot;synthétiseur@fr&quot;</td><td>null</td></tr><tr><td>&quot;&lt;id_Q3fT75lLrw_mTj_mtLIZCFheM&gt;&quot;</td><td>&quot;&lt;infobox/fr/nom&gt;&quot;</td><td>&quot;&lt;template/appearsIn&gt;&quot;</td><td>&quot;synthétiseur@fr&quot;</td><td>null</td></tr><tr><td>&quot;&lt;id_sZXVa5Llh1_mTj_mtLIZCFheM&gt;&quot;</td><td>&quot;&lt;infobox/fr/altimage&gt;&quot;</td><td>&quot;&lt;template/appearsIn&gt;&quot;</td><td>&quot;synthétiseur@fr&quot;</td><td>null</td></tr><tr><td>&quot;&lt;id_gsS51tdqWc_mTj_mtLIZCFheM&gt;&quot;</td><td>&quot;&lt;infobox/fr/leftcontrol&gt;&quot;</td><td>&quot;&lt;template/appearsIn&gt;&quot;</td><td>&quot;synthétiseur@fr&quot;</td><td>null</td></tr><tr><td>&quot;&lt;id_myFoM4aZUR_mTj_mtLIZCFheM&gt;&quot;</td><td>&quot;&lt;infobox/fr/extcontrol&gt;&quot;</td><td>&quot;&lt;template/appearsIn&gt;&quot;</td><td>&quot;synthétiseur@fr&quot;</td><td>null</td></tr><tr><td>&quot;&lt;id_PkAWHC5bcu_mTj_mtLIZCFheM&gt;&quot;</td><td>&quot;&lt;infobox/fr/midi&gt;&quot;</td><td>&quot;&lt;template/appearsIn&gt;&quot;</td><td>&quot;synthétiseur@fr&quot;</td><td>null</td></tr><tr><td>&quot;&lt;id_BNzgoSn!7H_mTj_mtLIZCFheM&gt;&quot;</td><td>&quot;&lt;infobox/fr/fx&gt;&quot;</td><td>&quot;&lt;template/appearsIn&gt;&quot;</td><td>&quot;synthétiseur@fr&quot;</td><td>null</td></tr><tr><td>&quot;&lt;id_t5tqnCEzwC_mTj_mtLIZCFheM&gt;&quot;</td><td>&quot;&lt;infobox/fr/fabricant&gt;&quot;</td><td>&quot;&lt;template/appearsIn&gt;&quot;</td><td>&quot;synthétiseur@fr&quot;</td><td>null</td></tr><tr><td>&hellip;</td><td>&hellip;</td><td>&hellip;</td><td>&hellip;</td><td>&hellip;</td></tr><tr><td>&quot;&lt;id_?sa9Uaa57P_mTj_GGNb498o1c&gt;&quot;</td><td>&quot;&lt;infobox/fr/entraîneur&gt;&quot;</td><td>&quot;&lt;template/appearsIn&gt;&quot;</td><td>&quot;saison de foot\\n&lt;!-- \\ncouleurs et motifs des trois maillots. documentation sur [[modèle:football kit]] --&gt;@fr&quot;</td><td>null</td></tr><tr><td>&quot;&lt;id_vu7eD3Eid5_mTj_GGNb498o1c&gt;&quot;</td><td>&quot;&lt;infobox/fr/stade&gt;&quot;</td><td>&quot;&lt;template/appearsIn&gt;&quot;</td><td>&quot;saison de foot\\n&lt;!-- \\ncouleurs et motifs des trois maillots. documentation sur [[modèle:football kit]] --&gt;@fr&quot;</td><td>null</td></tr><tr><td>&quot;&lt;id_AvEMB0XBaU_mTj_GGNb498o1c&gt;&quot;</td><td>&quot;&lt;infobox/fr/président&gt;&quot;</td><td>&quot;&lt;template/appearsIn&gt;&quot;</td><td>&quot;saison de foot\\n&lt;!-- \\ncouleurs et motifs des trois maillots. documentation sur [[modèle:football kit]] --&gt;@fr&quot;</td><td>null</td></tr><tr><td>&quot;&lt;id_6!HOxl4ATx_mTj_GGNb498o1c&gt;&quot;</td><td>&quot;&lt;infobox/fr/patternra&gt;&quot;</td><td>&quot;&lt;template/appearsIn&gt;&quot;</td><td>&quot;saison de foot\\n&lt;!-- \\ncouleurs et motifs des trois maillots. documentation sur [[modèle:football kit]] --&gt;@fr&quot;</td><td>null</td></tr><tr><td>&quot;&lt;id_BgmCMljrYi_mTj_GGNb498o1c&gt;&quot;</td><td>&quot;&lt;infobox/fr/liencoupe&gt;&quot;</td><td>&quot;&lt;template/appearsIn&gt;&quot;</td><td>&quot;saison de foot\\n&lt;!-- \\ncouleurs et motifs des trois maillots. documentation sur [[modèle:football kit]] --&gt;@fr&quot;</td><td>null</td></tr><tr><td>&quot;&lt;id_A8OmVf3Cmk_mTj_GGNb498o1c&gt;&quot;</td><td>&quot;&lt;infobox/fr/fleches&gt;&quot;</td><td>&quot;&lt;template/appearsIn&gt;&quot;</td><td>&quot;saison de foot\\n&lt;!-- \\ncouleurs et motifs des trois maillots. documentation sur [[modèle:football kit]] --&gt;@fr&quot;</td><td>null</td></tr><tr><td>&quot;&lt;id_zjf0E2rVlX_mTj_GGNb498o1c&gt;&quot;</td><td>&quot;&lt;infobox/fr/couperés&gt;&quot;</td><td>&quot;&lt;template/appearsIn&gt;&quot;</td><td>&quot;saison de foot\\n&lt;!-- \\ncouleurs et motifs des trois maillots. documentation sur [[modèle:football kit]] --&gt;@fr&quot;</td><td>null</td></tr><tr><td>&quot;&lt;id_J?ziQJwBVZ_mTj_GGNb498o1c&gt;&quot;</td><td>&quot;&lt;infobox/fr/leftarm&gt;&quot;</td><td>&quot;&lt;template/appearsIn&gt;&quot;</td><td>&quot;saison de foot\\n&lt;!-- \\ncouleurs et motifs des trois maillots. documentation sur [[modèle:football kit]] --&gt;@fr&quot;</td><td>null</td></tr><tr><td>&quot;&lt;id_UKEMRAQWc2_mTj_GGNb498o1c&gt;&quot;</td><td>&quot;&lt;infobox/fr/arrièreplan&gt;&quot;</td><td>&quot;&lt;template/appearsIn&gt;&quot;</td><td>&quot;saison de foot\\n&lt;!-- \\ncouleurs et motifs des trois maillots. documentation sur [[modèle:football kit]] --&gt;@fr&quot;</td><td>null</td></tr><tr><td>&quot;&lt;id_UgkAqdrXjW_mTj_n1YBQa5ebV&gt;&quot;</td><td>&quot;&lt;infobox/fr/charte&gt;&quot;</td><td>&quot;&lt;template/appearsIn&gt;&quot;</td><td>&quot;espace public    ---&gt;\\n{{ localité @fr&quot;</td><td>null</td></tr><tr><td>&quot;&lt;id_y9TmdVAwPD_mTj_n1YBQa5ebV&gt;&quot;</td><td>&quot;&lt;infobox/fr/image&gt;&quot;</td><td>&quot;&lt;template/appearsIn&gt;&quot;</td><td>&quot;espace public    ---&gt;\\n{{ localité @fr&quot;</td><td>null</td></tr><tr><td>&quot;&lt;id_rqckaGVYUm_mTj_n1YBQa5ebV&gt;&quot;</td><td>&quot;&lt;infobox/fr/légende&gt;&quot;</td><td>&quot;&lt;template/appearsIn&gt;&quot;</td><td>&quot;espace public    ---&gt;\\n{{ localité @fr&quot;</td><td>null</td></tr></tbody></table></div>"
      ],
      "text/plain": [
       "shape: (53_782, 5)\n",
       "┌─────────────────────┬─────────────────────┬────────────────────┬────────────────────┬────────────┐\n",
       "│ id                  ┆ subject             ┆ predicate          ┆ cat_object         ┆ num_object │\n",
       "│ ---                 ┆ ---                 ┆ ---                ┆ ---                ┆ ---        │\n",
       "│ str                 ┆ str                 ┆ str                ┆ str                ┆ f64        │\n",
       "╞═════════════════════╪═════════════════════╪════════════════════╪════════════════════╪════════════╡\n",
       "│ <id_c5cnMfpMpw_mTj_ ┆ <infobox/fr/prix>   ┆ <template/appearsI ┆ synthétiseur@fr    ┆ null       │\n",
       "│ mtLIZCFheM>         ┆                     ┆ n>                 ┆                    ┆            │\n",
       "│ <id_yIVWsUfsA!_mTj_ ┆ <infobox/fr/attenua ┆ <template/appearsI ┆ synthétiseur@fr    ┆ null       │\n",
       "│ mtLIZCFheM>         ┆ tor>                ┆ n>                 ┆                    ┆            │\n",
       "│ <id_RJRyUqrr!9_mTj_ ┆ <infobox/fr/poids>  ┆ <template/appearsI ┆ synthétiseur@fr    ┆ null       │\n",
       "│ mtLIZCFheM>         ┆                     ┆ n>                 ┆                    ┆            │\n",
       "│ <id_lBxtuUOfI3_mTj_ ┆ <infobox/fr/multiti ┆ <template/appearsI ┆ synthétiseur@fr    ┆ null       │\n",
       "│ mtLIZCFheM>         ┆ mbral>              ┆ n>                 ┆                    ┆            │\n",
       "│ <id_i98al4O8Ph_mTj_ ┆ <infobox/fr/type>   ┆ <template/appearsI ┆ synthétiseur@fr    ┆ null       │\n",
       "│ mtLIZCFheM>         ┆                     ┆ n>                 ┆                    ┆            │\n",
       "│ …                   ┆ …                   ┆ …                  ┆ …                  ┆ …          │\n",
       "│ <id_J?ziQJwBVZ_mTj_ ┆ <infobox/fr/leftarm ┆ <template/appearsI ┆ saison de          ┆ null       │\n",
       "│ GGNb498o1c>         ┆ >                   ┆ n>                 ┆ foot\\n<!--         ┆            │\n",
       "│                     ┆                     ┆                    ┆ \\ncouleurs et      ┆            │\n",
       "│                     ┆                     ┆                    ┆ motifs des trois   ┆            │\n",
       "│                     ┆                     ┆                    ┆ maillots.          ┆            │\n",
       "│                     ┆                     ┆                    ┆ documentation sur  ┆            │\n",
       "│                     ┆                     ┆                    ┆ [[modèle:football  ┆            │\n",
       "│                     ┆                     ┆                    ┆ kit]] -->@fr       ┆            │\n",
       "│ <id_UKEMRAQWc2_mTj_ ┆ <infobox/fr/arrière ┆ <template/appearsI ┆ saison de          ┆ null       │\n",
       "│ GGNb498o1c>         ┆ plan>               ┆ n>                 ┆ foot\\n<!--         ┆            │\n",
       "│                     ┆                     ┆                    ┆ \\ncouleurs et      ┆            │\n",
       "│                     ┆                     ┆                    ┆ motifs des trois   ┆            │\n",
       "│                     ┆                     ┆                    ┆ maillots.          ┆            │\n",
       "│                     ┆                     ┆                    ┆ documentation sur  ┆            │\n",
       "│                     ┆                     ┆                    ┆ [[modèle:football  ┆            │\n",
       "│                     ┆                     ┆                    ┆ kit]] -->@fr       ┆            │\n",
       "│ <id_UgkAqdrXjW_mTj_ ┆ <infobox/fr/charte> ┆ <template/appearsI ┆ espace public      ┆ null       │\n",
       "│ n1YBQa5ebV>         ┆                     ┆ n>                 ┆ --->\\n{{           ┆            │\n",
       "│                     ┆                     ┆                    ┆ localité @fr       ┆            │\n",
       "│ <id_y9TmdVAwPD_mTj_ ┆ <infobox/fr/image>  ┆ <template/appearsI ┆ espace public      ┆ null       │\n",
       "│ n1YBQa5ebV>         ┆                     ┆ n>                 ┆ --->\\n{{           ┆            │\n",
       "│                     ┆                     ┆                    ┆ localité @fr       ┆            │\n",
       "│ <id_rqckaGVYUm_mTj_ ┆ <infobox/fr/légende ┆ <template/appearsI ┆ espace public      ┆ null       │\n",
       "│ n1YBQa5ebV>         ┆ >                   ┆ n>                 ┆ --->\\n{{           ┆            │\n",
       "│                     ┆                     ┆                    ┆ localité @fr       ┆            │\n",
       "└─────────────────────┴─────────────────────┴────────────────────┴────────────────────┴────────────┘"
      ]
     },
     "metadata": {},
     "output_type": "display_data"
    },
    {
     "name": "stdout",
     "output_type": "stream",
     "text": [
      "yagoInfoboxTemplates_en.tsv\n"
     ]
    },
    {
     "data": {
      "text/html": [
       "<div><style>\n",
       ".dataframe > thead > tr,\n",
       ".dataframe > tbody > tr {\n",
       "  text-align: right;\n",
       "  white-space: pre-wrap;\n",
       "}\n",
       "</style>\n",
       "<small>shape: (4_130_813, 5)</small><table border=\"1\" class=\"dataframe\"><thead><tr><th>id</th><th>subject</th><th>predicate</th><th>cat_object</th><th>num_object</th></tr><tr><td>str</td><td>str</td><td>str</td><td>str</td><td>f64</td></tr></thead><tbody><tr><td>&quot;&lt;id_2rPbdV?n!v_bYc_YM4X8qo4Mw&gt;&quot;</td><td>&quot;&lt;A&gt;&quot;</td><td>&quot;&lt;infobox/en/type&gt;&quot;</td><td>&quot;grapheme@en&quot;</td><td>null</td></tr><tr><td>&quot;&lt;id_aNCiCopI4n_bYc_5jhkKqS1Qo&gt;&quot;</td><td>&quot;&lt;Alabama&gt;&quot;</td><td>&quot;&lt;infobox/en/type&gt;&quot;</td><td>&quot;u.s. state@en&quot;</td><td>null</td></tr><tr><td>&quot;&lt;id_aNCiCopI4n_bYc_ozMQtR7nYt&gt;&quot;</td><td>&quot;&lt;Alabama&gt;&quot;</td><td>&quot;&lt;infobox/en/type&gt;&quot;</td><td>&quot;u.s. state symbols@en&quot;</td><td>null</td></tr><tr><td>&quot;&lt;id_xVeGFyJeq0_bYc_zc6XJewmzV&gt;&quot;</td><td>&quot;&lt;Abraham_Lincoln&gt;&quot;</td><td>&quot;&lt;infobox/en/type&gt;&quot;</td><td>&quot;officeholder@en&quot;</td><td>null</td></tr><tr><td>&quot;&lt;id_xVeGFyJeq0_bYc_IaoHxPACFV&gt;&quot;</td><td>&quot;&lt;Abraham_Lincoln&gt;&quot;</td><td>&quot;&lt;infobox/en/type&gt;&quot;</td><td>&quot;u.s. cabinet@en&quot;</td><td>null</td></tr><tr><td>&quot;&lt;id_?DuJpJDQ9r_bYc_Bo5u?NHxAr&gt;&quot;</td><td>&quot;&lt;Aristotle&gt;&quot;</td><td>&quot;&lt;infobox/en/type&gt;&quot;</td><td>&quot;philosopher@en&quot;</td><td>null</td></tr><tr><td>&quot;&lt;id_K8KFBUmdMV_bYc_yHWZp?ao8s&gt;&quot;</td><td>&quot;&lt;An_American_in_Paris&gt;&quot;</td><td>&quot;&lt;infobox/en/type&gt;&quot;</td><td>&quot;musical composition@en&quot;</td><td>null</td></tr><tr><td>&quot;&lt;id_zCqlR1CZrp_bYc_aovtzeU2!7&gt;&quot;</td><td>&quot;&lt;Academy_Award_for_Best_Production_Design&gt;&quot;</td><td>&quot;&lt;infobox/en/type&gt;&quot;</td><td>&quot;award@en&quot;</td><td>null</td></tr><tr><td>&quot;&lt;id_SMpq4lrube_bYc_aovtzeU2!7&gt;&quot;</td><td>&quot;&lt;Academy_Awards&gt;&quot;</td><td>&quot;&lt;infobox/en/type&gt;&quot;</td><td>&quot;award@en&quot;</td><td>null</td></tr><tr><td>&quot;&lt;id_SMpq4lrube_bYc_80STg3EWtm&gt;&quot;</td><td>&quot;&lt;Academy_Awards&gt;&quot;</td><td>&quot;&lt;infobox/en/type&gt;&quot;</td><td>&quot;election@en&quot;</td><td>null</td></tr><tr><td>&quot;&lt;id_YUF8BEyDiv_bYc_iWkmOkPp0D&gt;&quot;</td><td>&quot;&lt;Actrius&gt;&quot;</td><td>&quot;&lt;infobox/en/type&gt;&quot;</td><td>&quot;film@en&quot;</td><td>null</td></tr><tr><td>&quot;&lt;id_x2ZXtSr151_bYc_7poQrWOf?Q&gt;&quot;</td><td>&quot;&lt;Animalia_(book)&gt;&quot;</td><td>&quot;&lt;infobox/en/type&gt;&quot;</td><td>&quot;book@en&quot;</td><td>null</td></tr><tr><td>&hellip;</td><td>&hellip;</td><td>&hellip;</td><td>&hellip;</td><td>&hellip;</td></tr><tr><td>&quot;&lt;id_ftpZ9w6qSn_bYc_cTcnVzmx7m&gt;&quot;</td><td>&quot;&lt;1908–09_Irish_Cup&gt;&quot;</td><td>&quot;&lt;infobox/en/type&gt;&quot;</td><td>&quot;football tournament season@en&quot;</td><td>null</td></tr><tr><td>&quot;&lt;id_UJsNDcv!XA_bYc_zkbBtvNqMy&gt;&quot;</td><td>&quot;&lt;John_Boyd_(playwright)&gt;&quot;</td><td>&quot;&lt;infobox/en/type&gt;&quot;</td><td>&quot;person@en&quot;</td><td>null</td></tr><tr><td>&quot;&lt;id_kgine9X!ws_bYc_cTcnVzmx7m&gt;&quot;</td><td>&quot;&lt;1909–10_Irish_Cup&gt;&quot;</td><td>&quot;&lt;infobox/en/type&gt;&quot;</td><td>&quot;football tournament season@en&quot;</td><td>null</td></tr><tr><td>&quot;&lt;id_hN8EPXhOMf_bYc_7poQrWOf?Q&gt;&quot;</td><td>&quot;&lt;Dead_Astronauts_(novel)&gt;&quot;</td><td>&quot;&lt;infobox/en/type&gt;&quot;</td><td>&quot;book@en&quot;</td><td>null</td></tr><tr><td>&quot;&lt;id_WQesHmgXms_bYc_iWkmOkPp0D&gt;&quot;</td><td>&quot;&lt;Soldier&#x27;s_Reminder&gt;&quot;</td><td>&quot;&lt;infobox/en/type&gt;&quot;</td><td>&quot;film@en&quot;</td><td>null</td></tr><tr><td>&quot;&lt;id_kFDvQaw3qz_bYc_CEG9rpnh2B&gt;&quot;</td><td>&quot;&lt;Muhammet_Taha_Tepe&gt;&quot;</td><td>&quot;&lt;infobox/en/type&gt;&quot;</td><td>&quot;football biography@en&quot;</td><td>null</td></tr><tr><td>&quot;&lt;id_tWaFdexHae_bYc_gCjkkPt86T&gt;&quot;</td><td>&quot;&lt;Lakeside_Murders&gt;&quot;</td><td>&quot;&lt;infobox/en/type&gt;&quot;</td><td>&quot;television@en&quot;</td><td>null</td></tr><tr><td>&quot;&lt;id_yhD1p!cy1x_bYc_gMydbJkaTL&gt;&quot;</td><td>&quot;&lt;Tracy_Ridge_Hiking_Trail_System&gt;&quot;</td><td>&quot;&lt;infobox/en/type&gt;&quot;</td><td>&quot;hiking trail@en&quot;</td><td>null</td></tr><tr><td>&quot;&lt;id_Xv9J5SVIfW_bYc_22208Qyarf&gt;&quot;</td><td>&quot;&lt;1952_Modena_Grand_Prix&gt;&quot;</td><td>&quot;&lt;infobox/en/type&gt;&quot;</td><td>&quot;grand prix race report@en&quot;</td><td>null</td></tr><tr><td>&quot;&lt;id_QZp5HsMokO_bYc_CEG9rpnh2B&gt;&quot;</td><td>&quot;&lt;Omid_Hamedifar&gt;&quot;</td><td>&quot;&lt;infobox/en/type&gt;&quot;</td><td>&quot;football biography@en&quot;</td><td>null</td></tr><tr><td>&quot;&lt;id_qAuY?YRrZ7_bYc_UeuJ3r1aRi&gt;&quot;</td><td>&quot;&lt;Muzaffarabad_Tigers_in_2021&gt;&quot;</td><td>&quot;&lt;infobox/en/type&gt;&quot;</td><td>&quot;cricket club season@en&quot;</td><td>null</td></tr><tr><td>&quot;&lt;id_dm7MCS5sj9_bYc_iWkmOkPp0D&gt;&quot;</td><td>&quot;&lt;Harald_the_Stalwart&gt;&quot;</td><td>&quot;&lt;infobox/en/type&gt;&quot;</td><td>&quot;film@en&quot;</td><td>null</td></tr></tbody></table></div>"
      ],
      "text/plain": [
       "shape: (4_130_813, 5)\n",
       "┌───────────────────────┬───────────────────────┬───────────────────┬─────────────────┬────────────┐\n",
       "│ id                    ┆ subject               ┆ predicate         ┆ cat_object      ┆ num_object │\n",
       "│ ---                   ┆ ---                   ┆ ---               ┆ ---             ┆ ---        │\n",
       "│ str                   ┆ str                   ┆ str               ┆ str             ┆ f64        │\n",
       "╞═══════════════════════╪═══════════════════════╪═══════════════════╪═════════════════╪════════════╡\n",
       "│ <id_2rPbdV?n!v_bYc_YM ┆ <A>                   ┆ <infobox/en/type> ┆ grapheme@en     ┆ null       │\n",
       "│ 4X8qo4Mw>             ┆                       ┆                   ┆                 ┆            │\n",
       "│ <id_aNCiCopI4n_bYc_5j ┆ <Alabama>             ┆ <infobox/en/type> ┆ u.s. state@en   ┆ null       │\n",
       "│ hkKqS1Qo>             ┆                       ┆                   ┆                 ┆            │\n",
       "│ <id_aNCiCopI4n_bYc_oz ┆ <Alabama>             ┆ <infobox/en/type> ┆ u.s. state      ┆ null       │\n",
       "│ MQtR7nYt>             ┆                       ┆                   ┆ symbols@en      ┆            │\n",
       "│ <id_xVeGFyJeq0_bYc_zc ┆ <Abraham_Lincoln>     ┆ <infobox/en/type> ┆ officeholder@en ┆ null       │\n",
       "│ 6XJewmzV>             ┆                       ┆                   ┆                 ┆            │\n",
       "│ <id_xVeGFyJeq0_bYc_Ia ┆ <Abraham_Lincoln>     ┆ <infobox/en/type> ┆ u.s. cabinet@en ┆ null       │\n",
       "│ oHxPACFV>             ┆                       ┆                   ┆                 ┆            │\n",
       "│ …                     ┆ …                     ┆ …                 ┆ …               ┆ …          │\n",
       "│ <id_yhD1p!cy1x_bYc_gM ┆ <Tracy_Ridge_Hiking_T ┆ <infobox/en/type> ┆ hiking trail@en ┆ null       │\n",
       "│ ydbJkaTL>             ┆ rail_System>          ┆                   ┆                 ┆            │\n",
       "│ <id_Xv9J5SVIfW_bYc_22 ┆ <1952_Modena_Grand_Pr ┆ <infobox/en/type> ┆ grand prix race ┆ null       │\n",
       "│ 208Qyarf>             ┆ ix>                   ┆                   ┆ report@en       ┆            │\n",
       "│ <id_QZp5HsMokO_bYc_CE ┆ <Omid_Hamedifar>      ┆ <infobox/en/type> ┆ football        ┆ null       │\n",
       "│ G9rpnh2B>             ┆                       ┆                   ┆ biography@en    ┆            │\n",
       "│ <id_qAuY?YRrZ7_bYc_Ue ┆ <Muzaffarabad_Tigers_ ┆ <infobox/en/type> ┆ cricket club    ┆ null       │\n",
       "│ uJ3r1aRi>             ┆ in_2021>              ┆                   ┆ season@en       ┆            │\n",
       "│ <id_dm7MCS5sj9_bYc_iW ┆ <Harald_the_Stalwart> ┆ <infobox/en/type> ┆ film@en         ┆ null       │\n",
       "│ kmOkPp0D>             ┆                       ┆                   ┆                 ┆            │\n",
       "└───────────────────────┴───────────────────────┴───────────────────┴─────────────────┴────────────┘"
      ]
     },
     "metadata": {},
     "output_type": "display_data"
    },
    {
     "name": "stdout",
     "output_type": "stream",
     "text": [
      "yagoInfoboxTemplates_fr.tsv\n"
     ]
    },
    {
     "data": {
      "text/html": [
       "<div><style>\n",
       ".dataframe > thead > tr,\n",
       ".dataframe > tbody > tr {\n",
       "  text-align: right;\n",
       "  white-space: pre-wrap;\n",
       "}\n",
       "</style>\n",
       "<small>shape: (2_506_822, 5)</small><table border=\"1\" class=\"dataframe\"><thead><tr><th>id</th><th>subject</th><th>predicate</th><th>cat_object</th><th>num_object</th></tr><tr><td>str</td><td>str</td><td>str</td><td>str</td><td>f64</td></tr></thead><tbody><tr><td>&quot;&lt;id_PSA3W26OQ1_i98_?20VnT3Le3&gt;&quot;</td><td>&quot;&lt;fr/Antoine_Meillet&gt;&quot;</td><td>&quot;&lt;infobox/fr/type&gt;&quot;</td><td>&quot;biographie@fr&quot;</td><td>null</td></tr><tr><td>&quot;&lt;id_JAKeq47Qz6_i98_0DTd5vadsq&gt;&quot;</td><td>&quot;&lt;fr/Autriche&gt;&quot;</td><td>&quot;&lt;infobox/fr/type&gt;&quot;</td><td>&quot;pays@fr&quot;</td><td>null</td></tr><tr><td>&quot;&lt;id_7MM7ET72db_i98_ctdIq!L1mQ&gt;&quot;</td><td>&quot;&lt;fr/Arc_de_triomphe_de_l&#x27;Étoile&gt;&quot;</td><td>&quot;&lt;infobox/fr/type&gt;&quot;</td><td>&quot;monument@fr&quot;</td><td>null</td></tr><tr><td>&quot;&lt;id_uDE5nzaWO3_i98_aIBat!OY96&gt;&quot;</td><td>&quot;&lt;fr/Arsène_Lupin&gt;&quot;</td><td>&quot;&lt;infobox/fr/type&gt;&quot;</td><td>&quot;personnage (fiction)@fr&quot;</td><td>null</td></tr><tr><td>&quot;&lt;id_5CLUR0rEjq_i98_0DTd5vadsq&gt;&quot;</td><td>&quot;&lt;fr/Afghanistan&gt;&quot;</td><td>&quot;&lt;infobox/fr/type&gt;&quot;</td><td>&quot;pays@fr&quot;</td><td>null</td></tr><tr><td>&quot;&lt;id_quSxpfHVRJ_i98_tQvC30BjBV&gt;&quot;</td><td>&quot;&lt;fr/Ada_(langage)&gt;&quot;</td><td>&quot;&lt;infobox/fr/type&gt;&quot;</td><td>&quot;langage de programmation@fr&quot;</td><td>null</td></tr><tr><td>&quot;&lt;id_3ekGPF208o_i98_DdQIZIhCS!&gt;&quot;</td><td>&quot;&lt;fr/Auvergne&gt;&quot;</td><td>&quot;&lt;infobox/fr/type&gt;&quot;</td><td>&quot;subdivision administrative@fr&quot;</td><td>null</td></tr><tr><td>&quot;&lt;id_AVOYhjxUmR_i98_u3LAIYyiUr&gt;&quot;</td><td>&quot;&lt;fr/Aisne_(département)&gt;&quot;</td><td>&quot;&lt;infobox/fr/type&gt;&quot;</td><td>&quot;département de france@fr&quot;</td><td>null</td></tr><tr><td>&quot;&lt;id_60j2q!dpk?_i98_u3LAIYyiUr&gt;&quot;</td><td>&quot;&lt;fr/Allier_(département)&gt;&quot;</td><td>&quot;&lt;infobox/fr/type&gt;&quot;</td><td>&quot;département de france@fr&quot;</td><td>null</td></tr><tr><td>&quot;&lt;id_1JPPL4WT10_i98_u3LAIYyiUr&gt;&quot;</td><td>&quot;&lt;fr/Alpes-de-Haute-Provence&gt;&quot;</td><td>&quot;&lt;infobox/fr/type&gt;&quot;</td><td>&quot;département de france@fr&quot;</td><td>null</td></tr><tr><td>&quot;&lt;id_1JPPL4WT10_i98_290rPOXkRq&gt;&quot;</td><td>&quot;&lt;fr/Alpes-de-Haute-Provence&gt;&quot;</td><td>&quot;&lt;infobox/fr/type&gt;&quot;</td><td>&quot;parti politique français/couleurs@fr&quot;</td><td>null</td></tr><tr><td>&quot;&lt;id_1JPPL4WT10_i98_290rPOXkRq&gt;&quot;</td><td>&quot;&lt;fr/Alpes-de-Haute-Provence&gt;&quot;</td><td>&quot;&lt;infobox/fr/type&gt;&quot;</td><td>&quot;parti politique français/couleurs@fr&quot;</td><td>null</td></tr><tr><td>&hellip;</td><td>&hellip;</td><td>&hellip;</td><td>&hellip;</td><td>&hellip;</td></tr><tr><td>&quot;&lt;id_38d5wmXBKr_i98_7wNS3pKWI5&gt;&quot;</td><td>&quot;&lt;fr/Mickaël_Cosson&gt;&quot;</td><td>&quot;&lt;infobox/fr/type&gt;&quot;</td><td>&quot;politicien@fr&quot;</td><td>null</td></tr><tr><td>&quot;&lt;id_8PU8xoJrQS_i98_N!h3eTk0sL&gt;&quot;</td><td>&quot;&lt;fr/Saison_2021-2022_du_Soyaux_Angoulême_XV_Charente&gt;&quot;</td><td>&quot;&lt;infobox/fr/type&gt;&quot;</td><td>&quot;saison de rugby@fr&quot;</td><td>null</td></tr><tr><td>&quot;&lt;id_WEPB1x1yoy_i98_vgL3hwd!m6&gt;&quot;</td><td>&quot;&lt;fr/Pléthore_de_nords&gt;&quot;</td><td>&quot;&lt;infobox/fr/type&gt;&quot;</td><td>&quot;cinéma (film)@fr&quot;</td><td>null</td></tr><tr><td>&quot;&lt;id_aVZ5r18gs9_i98_PX8gBk1rkH&gt;&quot;</td><td>&quot;&lt;fr/Ségolène_Amiot&gt;&quot;</td><td>&quot;&lt;infobox/fr/type&gt;&quot;</td><td>&quot;personnalité politique@fr&quot;</td><td>null</td></tr><tr><td>&quot;&lt;id_p6guPAAX8X_i98_?20VnT3Le3&gt;&quot;</td><td>&quot;&lt;fr/Grégoire_De_Fournas&gt;&quot;</td><td>&quot;&lt;infobox/fr/type&gt;&quot;</td><td>&quot;biographie@fr&quot;</td><td>null</td></tr><tr><td>&quot;&lt;id_AiCgGSii5B_i98_PX8gBk1rkH&gt;&quot;</td><td>&quot;&lt;fr/Romain_Daubié&gt;&quot;</td><td>&quot;&lt;infobox/fr/type&gt;&quot;</td><td>&quot;personnalité politique@fr&quot;</td><td>null</td></tr><tr><td>&quot;&lt;id_IZv2x2sr7?_i98_?20VnT3Le3&gt;&quot;</td><td>&quot;&lt;fr/Stéphanie_Galzy&gt;&quot;</td><td>&quot;&lt;infobox/fr/type&gt;&quot;</td><td>&quot;biographie@fr&quot;</td><td>null</td></tr><tr><td>&quot;&lt;id_j2g8veTcaT_i98_?20VnT3Le3&gt;&quot;</td><td>&quot;&lt;fr/Marisa_Manchado&gt;&quot;</td><td>&quot;&lt;infobox/fr/type&gt;&quot;</td><td>&quot;biographie@fr&quot;</td><td>null</td></tr><tr><td>&quot;&lt;id_2dNS3SYixu_i98_vgL3hwd!m6&gt;&quot;</td><td>&quot;&lt;fr/Regi_Andrej_Tarkovskij&gt;&quot;</td><td>&quot;&lt;infobox/fr/type&gt;&quot;</td><td>&quot;cinéma (film)@fr&quot;</td><td>null</td></tr><tr><td>&quot;&lt;id_Sftdk5yWPE_i98_7wNS3pKWI5&gt;&quot;</td><td>&quot;&lt;fr/Béatrice_Roullaud&gt;&quot;</td><td>&quot;&lt;infobox/fr/type&gt;&quot;</td><td>&quot;politicien@fr&quot;</td><td>null</td></tr><tr><td>&quot;&lt;id_LIerrTWTjE_i98_rZEGSpTvoQ&gt;&quot;</td><td>&quot;&lt;fr/Mon_maître_et_mon_vainqueur&gt;&quot;</td><td>&quot;&lt;infobox/fr/type&gt;&quot;</td><td>&quot;livre@fr&quot;</td><td>null</td></tr><tr><td>&quot;&lt;id_EEfgcrID4C_i98_PX8gBk1rkH&gt;&quot;</td><td>&quot;&lt;fr/Julie_Laernoes&gt;&quot;</td><td>&quot;&lt;infobox/fr/type&gt;&quot;</td><td>&quot;personnalité politique@fr&quot;</td><td>null</td></tr></tbody></table></div>"
      ],
      "text/plain": [
       "shape: (2_506_822, 5)\n",
       "┌───────────────────────┬──────────────────────┬───────────────────┬──────────────────┬────────────┐\n",
       "│ id                    ┆ subject              ┆ predicate         ┆ cat_object       ┆ num_object │\n",
       "│ ---                   ┆ ---                  ┆ ---               ┆ ---              ┆ ---        │\n",
       "│ str                   ┆ str                  ┆ str               ┆ str              ┆ f64        │\n",
       "╞═══════════════════════╪══════════════════════╪═══════════════════╪══════════════════╪════════════╡\n",
       "│ <id_PSA3W26OQ1_i98_?2 ┆ <fr/Antoine_Meillet> ┆ <infobox/fr/type> ┆ biographie@fr    ┆ null       │\n",
       "│ 0VnT3Le3>             ┆                      ┆                   ┆                  ┆            │\n",
       "│ <id_JAKeq47Qz6_i98_0D ┆ <fr/Autriche>        ┆ <infobox/fr/type> ┆ pays@fr          ┆ null       │\n",
       "│ Td5vadsq>             ┆                      ┆                   ┆                  ┆            │\n",
       "│ <id_7MM7ET72db_i98_ct ┆ <fr/Arc_de_triomphe_ ┆ <infobox/fr/type> ┆ monument@fr      ┆ null       │\n",
       "│ dIq!L1mQ>             ┆ de_l'Étoile>         ┆                   ┆                  ┆            │\n",
       "│ <id_uDE5nzaWO3_i98_aI ┆ <fr/Arsène_Lupin>    ┆ <infobox/fr/type> ┆ personnage       ┆ null       │\n",
       "│ Bat!OY96>             ┆                      ┆                   ┆ (fiction)@fr     ┆            │\n",
       "│ <id_5CLUR0rEjq_i98_0D ┆ <fr/Afghanistan>     ┆ <infobox/fr/type> ┆ pays@fr          ┆ null       │\n",
       "│ Td5vadsq>             ┆                      ┆                   ┆                  ┆            │\n",
       "│ …                     ┆ …                    ┆ …                 ┆ …                ┆ …          │\n",
       "│ <id_j2g8veTcaT_i98_?2 ┆ <fr/Marisa_Manchado> ┆ <infobox/fr/type> ┆ biographie@fr    ┆ null       │\n",
       "│ 0VnT3Le3>             ┆                      ┆                   ┆                  ┆            │\n",
       "│ <id_2dNS3SYixu_i98_vg ┆ <fr/Regi_Andrej_Tark ┆ <infobox/fr/type> ┆ cinéma (film)@fr ┆ null       │\n",
       "│ L3hwd!m6>             ┆ ovskij>              ┆                   ┆                  ┆            │\n",
       "│ <id_Sftdk5yWPE_i98_7w ┆ <fr/Béatrice_Roullau ┆ <infobox/fr/type> ┆ politicien@fr    ┆ null       │\n",
       "│ NS3pKWI5>             ┆ d>                   ┆                   ┆                  ┆            │\n",
       "│ <id_LIerrTWTjE_i98_rZ ┆ <fr/Mon_maître_et_mo ┆ <infobox/fr/type> ┆ livre@fr         ┆ null       │\n",
       "│ EGSpTvoQ>             ┆ n_vainqueur>         ┆                   ┆                  ┆            │\n",
       "│ <id_EEfgcrID4C_i98_PX ┆ <fr/Julie_Laernoes>  ┆ <infobox/fr/type> ┆ personnalité     ┆ null       │\n",
       "│ 8gBk1rkH>             ┆                      ┆                   ┆ politique@fr     ┆            │\n",
       "└───────────────────────┴──────────────────────┴───────────────────┴──────────────────┴────────────┘"
      ]
     },
     "metadata": {},
     "output_type": "display_data"
    },
    {
     "name": "stdout",
     "output_type": "stream",
     "text": [
      "yagoInfoboxTemplateSources_en.tsv\n"
     ]
    },
    {
     "data": {
      "text/html": [
       "<div><style>\n",
       ".dataframe > thead > tr,\n",
       ".dataframe > tbody > tr {\n",
       "  text-align: right;\n",
       "  white-space: pre-wrap;\n",
       "}\n",
       "</style>\n",
       "<small>shape: (8_261_626, 5)</small><table border=\"1\" class=\"dataframe\"><thead><tr><th>id</th><th>subject</th><th>predicate</th><th>cat_object</th><th>num_object</th></tr><tr><td>str</td><td>str</td><td>str</td><td>str</td><td>f64</td></tr></thead><tbody><tr><td>&quot;&lt;id_DS2d7gyd13_Tm9_IxTlrK!V5c&gt;&quot;</td><td>&quot;&lt;id_2rPbdV?n!v_bYc_YM4X8qo4Mw&gt;&quot;</td><td>&quot;&lt;extractionSource&gt;&quot;</td><td>&quot;&lt;http://en.wikipedia.org/wiki/A&gt;&quot;</td><td>null</td></tr><tr><td>null</td><td>&quot;&lt;id_DS2d7gyd13_Tm9_IxTlrK!V5c&gt;&quot;</td><td>&quot;&lt;extractionTechnique&gt;&quot;</td><td>&quot;InfoboxExtractor&quot;</td><td>null</td></tr><tr><td>&quot;&lt;id_kuWa7uHdrV_Tm9_6AhDEqLvAO&gt;&quot;</td><td>&quot;&lt;id_aNCiCopI4n_bYc_5jhkKqS1Qo&gt;&quot;</td><td>&quot;&lt;extractionSource&gt;&quot;</td><td>&quot;&lt;http://en.wikipedia.org/wiki/Alabama&gt;&quot;</td><td>null</td></tr><tr><td>null</td><td>&quot;&lt;id_kuWa7uHdrV_Tm9_6AhDEqLvAO&gt;&quot;</td><td>&quot;&lt;extractionTechnique&gt;&quot;</td><td>&quot;InfoboxExtractor&quot;</td><td>null</td></tr><tr><td>&quot;&lt;id_6zKeQmZxZc_Tm9_6AhDEqLvAO&gt;&quot;</td><td>&quot;&lt;id_aNCiCopI4n_bYc_ozMQtR7nYt&gt;&quot;</td><td>&quot;&lt;extractionSource&gt;&quot;</td><td>&quot;&lt;http://en.wikipedia.org/wiki/Alabama&gt;&quot;</td><td>null</td></tr><tr><td>null</td><td>&quot;&lt;id_6zKeQmZxZc_Tm9_6AhDEqLvAO&gt;&quot;</td><td>&quot;&lt;extractionTechnique&gt;&quot;</td><td>&quot;InfoboxExtractor&quot;</td><td>null</td></tr><tr><td>&quot;&lt;id_8fsHekjAH0_Tm9_sB3?vVC!cl&gt;&quot;</td><td>&quot;&lt;id_xVeGFyJeq0_bYc_zc6XJewmzV&gt;&quot;</td><td>&quot;&lt;extractionSource&gt;&quot;</td><td>&quot;&lt;http://en.wikipedia.org/wiki/Abraham_Lincoln&gt;&quot;</td><td>null</td></tr><tr><td>null</td><td>&quot;&lt;id_8fsHekjAH0_Tm9_sB3?vVC!cl&gt;&quot;</td><td>&quot;&lt;extractionTechnique&gt;&quot;</td><td>&quot;InfoboxExtractor&quot;</td><td>null</td></tr><tr><td>&quot;&lt;id_HRj!y5xBB7_Tm9_sB3?vVC!cl&gt;&quot;</td><td>&quot;&lt;id_xVeGFyJeq0_bYc_IaoHxPACFV&gt;&quot;</td><td>&quot;&lt;extractionSource&gt;&quot;</td><td>&quot;&lt;http://en.wikipedia.org/wiki/Abraham_Lincoln&gt;&quot;</td><td>null</td></tr><tr><td>null</td><td>&quot;&lt;id_HRj!y5xBB7_Tm9_sB3?vVC!cl&gt;&quot;</td><td>&quot;&lt;extractionTechnique&gt;&quot;</td><td>&quot;InfoboxExtractor&quot;</td><td>null</td></tr><tr><td>&quot;&lt;id_0SNDECpa60_Tm9_SFpqKSJ2Ve&gt;&quot;</td><td>&quot;&lt;id_?DuJpJDQ9r_bYc_Bo5u?NHxAr&gt;&quot;</td><td>&quot;&lt;extractionSource&gt;&quot;</td><td>&quot;&lt;http://en.wikipedia.org/wiki/Aristotle&gt;&quot;</td><td>null</td></tr><tr><td>null</td><td>&quot;&lt;id_0SNDECpa60_Tm9_SFpqKSJ2Ve&gt;&quot;</td><td>&quot;&lt;extractionTechnique&gt;&quot;</td><td>&quot;InfoboxExtractor&quot;</td><td>null</td></tr><tr><td>&hellip;</td><td>&hellip;</td><td>&hellip;</td><td>&hellip;</td><td>&hellip;</td></tr><tr><td>&quot;&lt;id_AQuqslJHRE_Tm9_TpzMawGBB3&gt;&quot;</td><td>&quot;&lt;id_tWaFdexHae_bYc_gCjkkPt86T&gt;&quot;</td><td>&quot;&lt;extractionSource&gt;&quot;</td><td>&quot;&lt;http://en.wikipedia.org/wiki/Lakeside_Murders&gt;&quot;</td><td>null</td></tr><tr><td>null</td><td>&quot;&lt;id_AQuqslJHRE_Tm9_TpzMawGBB3&gt;&quot;</td><td>&quot;&lt;extractionTechnique&gt;&quot;</td><td>&quot;InfoboxExtractor&quot;</td><td>null</td></tr><tr><td>&quot;&lt;id_ohf9FgbgKU_Tm9_?yLdW23oRq&gt;&quot;</td><td>&quot;&lt;id_yhD1p!cy1x_bYc_gMydbJkaTL&gt;&quot;</td><td>&quot;&lt;extractionSource&gt;&quot;</td><td>&quot;&lt;http://en.wikipedia.org/wiki/Tracy_Ridge_Hiking_Trail_System&gt;&quot;</td><td>null</td></tr><tr><td>null</td><td>&quot;&lt;id_ohf9FgbgKU_Tm9_?yLdW23oRq&gt;&quot;</td><td>&quot;&lt;extractionTechnique&gt;&quot;</td><td>&quot;InfoboxExtractor&quot;</td><td>null</td></tr><tr><td>&quot;&lt;id_sWgl52RJqb_Tm9_BrHVw3!LZT&gt;&quot;</td><td>&quot;&lt;id_Xv9J5SVIfW_bYc_22208Qyarf&gt;&quot;</td><td>&quot;&lt;extractionSource&gt;&quot;</td><td>&quot;&lt;http://en.wikipedia.org/wiki/1952_Modena_Grand_Prix&gt;&quot;</td><td>null</td></tr><tr><td>null</td><td>&quot;&lt;id_sWgl52RJqb_Tm9_BrHVw3!LZT&gt;&quot;</td><td>&quot;&lt;extractionTechnique&gt;&quot;</td><td>&quot;InfoboxExtractor&quot;</td><td>null</td></tr><tr><td>&quot;&lt;id_LXX0nZp3So_Tm9_C4r7rhkpzt&gt;&quot;</td><td>&quot;&lt;id_QZp5HsMokO_bYc_CEG9rpnh2B&gt;&quot;</td><td>&quot;&lt;extractionSource&gt;&quot;</td><td>&quot;&lt;http://en.wikipedia.org/wiki/Omid_Hamedifar&gt;&quot;</td><td>null</td></tr><tr><td>null</td><td>&quot;&lt;id_LXX0nZp3So_Tm9_C4r7rhkpzt&gt;&quot;</td><td>&quot;&lt;extractionTechnique&gt;&quot;</td><td>&quot;InfoboxExtractor&quot;</td><td>null</td></tr><tr><td>&quot;&lt;id_5TFFMiVGiX_Tm9_EdrnubUD12&gt;&quot;</td><td>&quot;&lt;id_qAuY?YRrZ7_bYc_UeuJ3r1aRi&gt;&quot;</td><td>&quot;&lt;extractionSource&gt;&quot;</td><td>&quot;&lt;http://en.wikipedia.org/wiki/Muzaffarabad_Tigers_in_2021&gt;&quot;</td><td>null</td></tr><tr><td>null</td><td>&quot;&lt;id_5TFFMiVGiX_Tm9_EdrnubUD12&gt;&quot;</td><td>&quot;&lt;extractionTechnique&gt;&quot;</td><td>&quot;InfoboxExtractor&quot;</td><td>null</td></tr><tr><td>&quot;&lt;id_ZEujWQFq6t_Tm9_75hl4vellW&gt;&quot;</td><td>&quot;&lt;id_dm7MCS5sj9_bYc_iWkmOkPp0D&gt;&quot;</td><td>&quot;&lt;extractionSource&gt;&quot;</td><td>&quot;&lt;http://en.wikipedia.org/wiki/Harald_the_Stalwart&gt;&quot;</td><td>null</td></tr><tr><td>null</td><td>&quot;&lt;id_ZEujWQFq6t_Tm9_75hl4vellW&gt;&quot;</td><td>&quot;&lt;extractionTechnique&gt;&quot;</td><td>&quot;InfoboxExtractor&quot;</td><td>null</td></tr></tbody></table></div>"
      ],
      "text/plain": [
       "shape: (8_261_626, 5)\n",
       "┌─────────────────────┬─────────────────────┬────────────────────┬────────────────────┬────────────┐\n",
       "│ id                  ┆ subject             ┆ predicate          ┆ cat_object         ┆ num_object │\n",
       "│ ---                 ┆ ---                 ┆ ---                ┆ ---                ┆ ---        │\n",
       "│ str                 ┆ str                 ┆ str                ┆ str                ┆ f64        │\n",
       "╞═════════════════════╪═════════════════════╪════════════════════╪════════════════════╪════════════╡\n",
       "│ <id_DS2d7gyd13_Tm9_ ┆ <id_2rPbdV?n!v_bYc_ ┆ <extractionSource> ┆ <http://en.wikiped ┆ null       │\n",
       "│ IxTlrK!V5c>         ┆ YM4X8qo4Mw>         ┆                    ┆ ia.org/wiki/A>     ┆            │\n",
       "│ null                ┆ <id_DS2d7gyd13_Tm9_ ┆ <extractionTechniq ┆ InfoboxExtractor   ┆ null       │\n",
       "│                     ┆ IxTlrK!V5c>         ┆ ue>                ┆                    ┆            │\n",
       "│ <id_kuWa7uHdrV_Tm9_ ┆ <id_aNCiCopI4n_bYc_ ┆ <extractionSource> ┆ <http://en.wikiped ┆ null       │\n",
       "│ 6AhDEqLvAO>         ┆ 5jhkKqS1Qo>         ┆                    ┆ ia.org/wiki/Alabam ┆            │\n",
       "│                     ┆                     ┆                    ┆ a>                 ┆            │\n",
       "│ null                ┆ <id_kuWa7uHdrV_Tm9_ ┆ <extractionTechniq ┆ InfoboxExtractor   ┆ null       │\n",
       "│                     ┆ 6AhDEqLvAO>         ┆ ue>                ┆                    ┆            │\n",
       "│ <id_6zKeQmZxZc_Tm9_ ┆ <id_aNCiCopI4n_bYc_ ┆ <extractionSource> ┆ <http://en.wikiped ┆ null       │\n",
       "│ 6AhDEqLvAO>         ┆ ozMQtR7nYt>         ┆                    ┆ ia.org/wiki/Alabam ┆            │\n",
       "│                     ┆                     ┆                    ┆ a>                 ┆            │\n",
       "│ …                   ┆ …                   ┆ …                  ┆ …                  ┆ …          │\n",
       "│ null                ┆ <id_LXX0nZp3So_Tm9_ ┆ <extractionTechniq ┆ InfoboxExtractor   ┆ null       │\n",
       "│                     ┆ C4r7rhkpzt>         ┆ ue>                ┆                    ┆            │\n",
       "│ <id_5TFFMiVGiX_Tm9_ ┆ <id_qAuY?YRrZ7_bYc_ ┆ <extractionSource> ┆ <http://en.wikiped ┆ null       │\n",
       "│ EdrnubUD12>         ┆ UeuJ3r1aRi>         ┆                    ┆ ia.org/wiki/Muzaff ┆            │\n",
       "│                     ┆                     ┆                    ┆ arabad_Tigers_in_2 ┆            │\n",
       "│                     ┆                     ┆                    ┆ 021>               ┆            │\n",
       "│ null                ┆ <id_5TFFMiVGiX_Tm9_ ┆ <extractionTechniq ┆ InfoboxExtractor   ┆ null       │\n",
       "│                     ┆ EdrnubUD12>         ┆ ue>                ┆                    ┆            │\n",
       "│ <id_ZEujWQFq6t_Tm9_ ┆ <id_dm7MCS5sj9_bYc_ ┆ <extractionSource> ┆ <http://en.wikiped ┆ null       │\n",
       "│ 75hl4vellW>         ┆ iWkmOkPp0D>         ┆                    ┆ ia.org/wiki/Harald ┆            │\n",
       "│                     ┆                     ┆                    ┆ _the_Stalwart>     ┆            │\n",
       "│ null                ┆ <id_ZEujWQFq6t_Tm9_ ┆ <extractionTechniq ┆ InfoboxExtractor   ┆ null       │\n",
       "│                     ┆ 75hl4vellW>         ┆ ue>                ┆                    ┆            │\n",
       "└─────────────────────┴─────────────────────┴────────────────────┴────────────────────┴────────────┘"
      ]
     },
     "metadata": {},
     "output_type": "display_data"
    },
    {
     "name": "stdout",
     "output_type": "stream",
     "text": [
      "yagoLiteralFacts.tsv\n"
     ]
    },
    {
     "data": {
      "text/html": [
       "<div><style>\n",
       ".dataframe > thead > tr,\n",
       ".dataframe > tbody > tr {\n",
       "  text-align: right;\n",
       "  white-space: pre-wrap;\n",
       "}\n",
       "</style>\n",
       "<small>shape: (3_282_146, 5)</small><table border=\"1\" class=\"dataframe\"><thead><tr><th>id</th><th>subject</th><th>predicate</th><th>cat_object</th><th>num_object</th></tr><tr><td>str</td><td>str</td><td>str</td><td>str</td><td>f64</td></tr></thead><tbody><tr><td>&quot;&lt;id_KJA?6CuKUl_0XL_tVxKetV8Tt&gt;&quot;</td><td>&quot;&lt;Papua_New_Guinea&gt;&quot;</td><td>&quot;&lt;hasTLD&gt;&quot;</td><td>&quot;.pg&quot;</td><td>null</td></tr><tr><td>&quot;&lt;id_EhZ0Glk5iH_0XL_u7beetY39b&gt;&quot;</td><td>&quot;&lt;Luxembourg&gt;&quot;</td><td>&quot;&lt;hasTLD&gt;&quot;</td><td>&quot;.lu&quot;</td><td>null</td></tr><tr><td>&quot;&lt;id_7jlxYpeJ5i_0XL_udXeetZugV&gt;&quot;</td><td>&quot;&lt;Niue&gt;&quot;</td><td>&quot;&lt;hasTLD&gt;&quot;</td><td>&quot;.nu&quot;</td><td>null</td></tr><tr><td>&quot;&lt;id_72mQ4n6Dox_0XL_uPe!eu5oqP&gt;&quot;</td><td>&quot;&lt;Islamic_Emirate_of_Afghanistan_(1996–2001)&gt;&quot;</td><td>&quot;&lt;hasTLD&gt;&quot;</td><td>&quot;.af&quot;</td><td>null</td></tr><tr><td>&quot;&lt;id_vXx?GfZCIt_0XL_uW4!eu6S5F&gt;&quot;</td><td>&quot;&lt;Costa_Rica&gt;&quot;</td><td>&quot;&lt;hasTLD&gt;&quot;</td><td>&quot;.cr&quot;</td><td>null</td></tr><tr><td>&quot;&lt;id_kQJTYdItoL_0XL_uTHKeu6zbP&gt;&quot;</td><td>&quot;&lt;The_Bahamas&gt;&quot;</td><td>&quot;&lt;hasTLD&gt;&quot;</td><td>&quot;.bs&quot;</td><td>null</td></tr><tr><td>&quot;&lt;id_Z4uC8qFfG6_0XL_urAueu0orQ&gt;&quot;</td><td>&quot;&lt;Japan&gt;&quot;</td><td>&quot;&lt;hasTLD&gt;&quot;</td><td>&quot;.jp&quot;</td><td>null</td></tr><tr><td>&quot;&lt;id_FWEGlS6yls_0XL_tLmKetS!Wk&gt;&quot;</td><td>&quot;&lt;Uruguay&gt;&quot;</td><td>&quot;&lt;hasTLD&gt;&quot;</td><td>&quot;.uy&quot;</td><td>null</td></tr><tr><td>&quot;&lt;id_y7csUC6yAq_0XL_ue0eetZwoR&gt;&quot;</td><td>&quot;&lt;Tswanaland&gt;&quot;</td><td>&quot;&lt;hasTLD&gt;&quot;</td><td>&quot;.na&quot;</td><td>null</td></tr><tr><td>&quot;&lt;id_UC!IbvSU9B_0XL_tH!!etShtg&gt;&quot;</td><td>&quot;&lt;Tanzania&gt;&quot;</td><td>&quot;&lt;hasTLD&gt;&quot;</td><td>&quot;.tz&quot;</td><td>null</td></tr><tr><td>&quot;&lt;id_8HQiePXdN2_0XL_uv?Keu1yA2&gt;&quot;</td><td>&quot;&lt;Comoros&gt;&quot;</td><td>&quot;&lt;hasTLD&gt;&quot;</td><td>&quot;.km&quot;</td><td>null</td></tr><tr><td>&quot;&lt;id_cSGikewY4g_0XL_uvY!eu1xph&gt;&quot;</td><td>&quot;&lt;South_Korea&gt;&quot;</td><td>&quot;&lt;hasTLD&gt;&quot;</td><td>&quot;.kr&quot;</td><td>null</td></tr><tr><td>&hellip;</td><td>&hellip;</td><td>&hellip;</td><td>&hellip;</td><td>&hellip;</td></tr><tr><td>&quot;&lt;id_!q5IFmyt0m_hig_HVcwN2GZZB&gt;&quot;</td><td>&quot;&lt;Russia&gt;&quot;</td><td>&quot;&lt;hasPoverty&gt;&quot;</td><td>&quot;12.9^^&lt;percent&gt;&quot;</td><td>12.9</td></tr><tr><td>&quot;&lt;id_3V!j1viMUu_hig_mYfMOiKunH&gt;&quot;</td><td>&quot;&lt;East_Timor&gt;&quot;</td><td>&quot;&lt;hasPoverty&gt;&quot;</td><td>&quot;49.9^^&lt;percent&gt;&quot;</td><td>49.9</td></tr><tr><td>&quot;&lt;id_DWPiqmeG2D_hig_0DcZPd9qXE&gt;&quot;</td><td>&quot;&lt;Lebanon&gt;&quot;</td><td>&quot;&lt;hasPoverty&gt;&quot;</td><td>&quot;27.4^^&lt;percent&gt;&quot;</td><td>27.4</td></tr><tr><td>&quot;&lt;id_?A!4ayq0rY_hig_ta0uF2XuQZ&gt;&quot;</td><td>&quot;&lt;Rajasthan&gt;&quot;</td><td>&quot;&lt;hasPoverty&gt;&quot;</td><td>&quot;14.71^^&lt;percent&gt;&quot;</td><td>14.71</td></tr><tr><td>&quot;&lt;id_TAS3L3FNyl_hig_PSVfe9Er!t&gt;&quot;</td><td>&quot;&lt;Burkina_Faso&gt;&quot;</td><td>&quot;&lt;hasPoverty&gt;&quot;</td><td>&quot;43.7^^&lt;percent&gt;&quot;</td><td>43.7</td></tr><tr><td>&quot;&lt;id_Mqa8J7!Ear_hig_paBLexUP4C&gt;&quot;</td><td>&quot;&lt;Arkansas&gt;&quot;</td><td>&quot;&lt;hasPoverty&gt;&quot;</td><td>&quot;19.1^^&lt;percent&gt;&quot;</td><td>19.1</td></tr><tr><td>&quot;&lt;id_A?xVyL?zJJ_hig_HnCwuTaRyA&gt;&quot;</td><td>&quot;&lt;Guinea-Bissau&gt;&quot;</td><td>&quot;&lt;hasPoverty&gt;&quot;</td><td>&quot;67^^&lt;percent&gt;&quot;</td><td>67.0</td></tr><tr><td>&quot;&lt;id_O4aalmWQkq_hig_o2PxMfkZxg&gt;&quot;</td><td>&quot;&lt;The_Gambia&gt;&quot;</td><td>&quot;&lt;hasPoverty&gt;&quot;</td><td>&quot;9.7^^&lt;percent&gt;&quot;</td><td>9.7</td></tr><tr><td>&quot;&lt;id_LXGhrLXpt0_hig_qEwdWzecWy&gt;&quot;</td><td>&quot;&lt;Uttar_Pradesh&gt;&quot;</td><td>&quot;&lt;hasPoverty&gt;&quot;</td><td>&quot;37.79^^&lt;percent&gt;&quot;</td><td>37.79</td></tr><tr><td>&quot;&lt;id_XSEpWF4voD_hig_WBm!eOWf0m&gt;&quot;</td><td>&quot;&lt;Algeria&gt;&quot;</td><td>&quot;&lt;hasPoverty&gt;&quot;</td><td>&quot;5.5^^&lt;percent&gt;&quot;</td><td>5.5</td></tr><tr><td>&quot;&lt;id_4dqkouf4Iz_hig_KOx?eB4rem&gt;&quot;</td><td>&quot;&lt;Cameroon&gt;&quot;</td><td>&quot;&lt;hasPoverty&gt;&quot;</td><td>&quot;44.7^^&lt;percent&gt;&quot;</td><td>44.7</td></tr><tr><td>&quot;&lt;id_KTlyZ7NERc_hig_tq9?eg0h9e&gt;&quot;</td><td>&quot;&lt;Georgia_(country)&gt;&quot;</td><td>&quot;&lt;hasPoverty&gt;&quot;</td><td>&quot;40.3^^&lt;percent&gt;&quot;</td><td>40.3</td></tr></tbody></table></div>"
      ],
      "text/plain": [
       "shape: (3_282_146, 5)\n",
       "┌─────────────────────────┬─────────────────────────┬──────────────┬──────────────────┬────────────┐\n",
       "│ id                      ┆ subject                 ┆ predicate    ┆ cat_object       ┆ num_object │\n",
       "│ ---                     ┆ ---                     ┆ ---          ┆ ---              ┆ ---        │\n",
       "│ str                     ┆ str                     ┆ str          ┆ str              ┆ f64        │\n",
       "╞═════════════════════════╪═════════════════════════╪══════════════╪══════════════════╪════════════╡\n",
       "│ <id_KJA?6CuKUl_0XL_tVxK ┆ <Papua_New_Guinea>      ┆ <hasTLD>     ┆ .pg              ┆ null       │\n",
       "│ etV8Tt>                 ┆                         ┆              ┆                  ┆            │\n",
       "│ <id_EhZ0Glk5iH_0XL_u7be ┆ <Luxembourg>            ┆ <hasTLD>     ┆ .lu              ┆ null       │\n",
       "│ etY39b>                 ┆                         ┆              ┆                  ┆            │\n",
       "│ <id_7jlxYpeJ5i_0XL_udXe ┆ <Niue>                  ┆ <hasTLD>     ┆ .nu              ┆ null       │\n",
       "│ etZugV>                 ┆                         ┆              ┆                  ┆            │\n",
       "│ <id_72mQ4n6Dox_0XL_uPe! ┆ <Islamic_Emirate_of_Afg ┆ <hasTLD>     ┆ .af              ┆ null       │\n",
       "│ eu5oqP>                 ┆ hanistan_(1996–2001)>   ┆              ┆                  ┆            │\n",
       "│ <id_vXx?GfZCIt_0XL_uW4! ┆ <Costa_Rica>            ┆ <hasTLD>     ┆ .cr              ┆ null       │\n",
       "│ eu6S5F>                 ┆                         ┆              ┆                  ┆            │\n",
       "│ …                       ┆ …                       ┆ …            ┆ …                ┆ …          │\n",
       "│ <id_O4aalmWQkq_hig_o2Px ┆ <The_Gambia>            ┆ <hasPoverty> ┆ 9.7^^<percent>   ┆ 9.7        │\n",
       "│ MfkZxg>                 ┆                         ┆              ┆                  ┆            │\n",
       "│ <id_LXGhrLXpt0_hig_qEwd ┆ <Uttar_Pradesh>         ┆ <hasPoverty> ┆ 37.79^^<percent> ┆ 37.79      │\n",
       "│ WzecWy>                 ┆                         ┆              ┆                  ┆            │\n",
       "│ <id_XSEpWF4voD_hig_WBm! ┆ <Algeria>               ┆ <hasPoverty> ┆ 5.5^^<percent>   ┆ 5.5        │\n",
       "│ eOWf0m>                 ┆                         ┆              ┆                  ┆            │\n",
       "│ <id_4dqkouf4Iz_hig_KOx? ┆ <Cameroon>              ┆ <hasPoverty> ┆ 44.7^^<percent>  ┆ 44.7       │\n",
       "│ eB4rem>                 ┆                         ┆              ┆                  ┆            │\n",
       "│ <id_KTlyZ7NERc_hig_tq9? ┆ <Georgia_(country)>     ┆ <hasPoverty> ┆ 40.3^^<percent>  ┆ 40.3       │\n",
       "│ eg0h9e>                 ┆                         ┆              ┆                  ┆            │\n",
       "└─────────────────────────┴─────────────────────────┴──────────────┴──────────────────┴────────────┘"
      ]
     },
     "metadata": {},
     "output_type": "display_data"
    },
    {
     "name": "stdout",
     "output_type": "stream",
     "text": [
      "yagoInfoboxTemplateSources_fr.tsv\n"
     ]
    },
    {
     "data": {
      "text/html": [
       "<div><style>\n",
       ".dataframe > thead > tr,\n",
       ".dataframe > tbody > tr {\n",
       "  text-align: right;\n",
       "  white-space: pre-wrap;\n",
       "}\n",
       "</style>\n",
       "<small>shape: (5_013_644, 5)</small><table border=\"1\" class=\"dataframe\"><thead><tr><th>id</th><th>subject</th><th>predicate</th><th>cat_object</th><th>num_object</th></tr><tr><td>str</td><td>str</td><td>str</td><td>str</td><td>f64</td></tr></thead><tbody><tr><td>&quot;&lt;id_DeyQR6jlkM_Tm9_XCuVlbN3aF&gt;&quot;</td><td>&quot;&lt;id_PSA3W26OQ1_i98_?20VnT3Le3&gt;&quot;</td><td>&quot;&lt;extractionSource&gt;&quot;</td><td>&quot;&lt;http://fr.wikipedia.org/wiki/Antoine_Meillet&gt;&quot;</td><td>null</td></tr><tr><td>null</td><td>&quot;&lt;id_DeyQR6jlkM_Tm9_XCuVlbN3aF&gt;&quot;</td><td>&quot;&lt;extractionTechnique&gt;&quot;</td><td>&quot;InfoboxExtractor&quot;</td><td>null</td></tr><tr><td>&quot;&lt;id_WAIjiQ770p_Tm9_dqGeXKHIXe&gt;&quot;</td><td>&quot;&lt;id_JAKeq47Qz6_i98_0DTd5vadsq&gt;&quot;</td><td>&quot;&lt;extractionSource&gt;&quot;</td><td>&quot;&lt;http://fr.wikipedia.org/wiki/Autriche&gt;&quot;</td><td>null</td></tr><tr><td>null</td><td>&quot;&lt;id_WAIjiQ770p_Tm9_dqGeXKHIXe&gt;&quot;</td><td>&quot;&lt;extractionTechnique&gt;&quot;</td><td>&quot;InfoboxExtractor&quot;</td><td>null</td></tr><tr><td>&quot;&lt;id_R0G8h?NzRE_Tm9_WHwfx5tbTV&gt;&quot;</td><td>&quot;&lt;id_7MM7ET72db_i98_ctdIq!L1mQ&gt;&quot;</td><td>&quot;&lt;extractionSource&gt;&quot;</td><td>&quot;&lt;http://fr.wikipedia.org/wiki/Arc_de_triomphe_de_l%27%C3%89toile&gt;&quot;</td><td>null</td></tr><tr><td>null</td><td>&quot;&lt;id_R0G8h?NzRE_Tm9_WHwfx5tbTV&gt;&quot;</td><td>&quot;&lt;extractionTechnique&gt;&quot;</td><td>&quot;InfoboxExtractor&quot;</td><td>null</td></tr><tr><td>&quot;&lt;id_D8p?lcXCLX_Tm9_EFQA?u910T&gt;&quot;</td><td>&quot;&lt;id_uDE5nzaWO3_i98_aIBat!OY96&gt;&quot;</td><td>&quot;&lt;extractionSource&gt;&quot;</td><td>&quot;&lt;http://fr.wikipedia.org/wiki/Ars%C3%A8ne_Lupin&gt;&quot;</td><td>null</td></tr><tr><td>null</td><td>&quot;&lt;id_D8p?lcXCLX_Tm9_EFQA?u910T&gt;&quot;</td><td>&quot;&lt;extractionTechnique&gt;&quot;</td><td>&quot;InfoboxExtractor&quot;</td><td>null</td></tr><tr><td>&quot;&lt;id_XclDVhCwQU_Tm9_Xcd??H0OQK&gt;&quot;</td><td>&quot;&lt;id_5CLUR0rEjq_i98_0DTd5vadsq&gt;&quot;</td><td>&quot;&lt;extractionSource&gt;&quot;</td><td>&quot;&lt;http://fr.wikipedia.org/wiki/Afghanistan&gt;&quot;</td><td>null</td></tr><tr><td>null</td><td>&quot;&lt;id_XclDVhCwQU_Tm9_Xcd??H0OQK&gt;&quot;</td><td>&quot;&lt;extractionTechnique&gt;&quot;</td><td>&quot;InfoboxExtractor&quot;</td><td>null</td></tr><tr><td>&quot;&lt;id_cpoY9jOwVP_Tm9_H3CvHDta8b&gt;&quot;</td><td>&quot;&lt;id_quSxpfHVRJ_i98_tQvC30BjBV&gt;&quot;</td><td>&quot;&lt;extractionSource&gt;&quot;</td><td>&quot;&lt;http://fr.wikipedia.org/wiki/Ada_%28langage%29&gt;&quot;</td><td>null</td></tr><tr><td>null</td><td>&quot;&lt;id_cpoY9jOwVP_Tm9_H3CvHDta8b&gt;&quot;</td><td>&quot;&lt;extractionTechnique&gt;&quot;</td><td>&quot;InfoboxExtractor&quot;</td><td>null</td></tr><tr><td>&hellip;</td><td>&hellip;</td><td>&hellip;</td><td>&hellip;</td><td>&hellip;</td></tr><tr><td>&quot;&lt;id_pVSkRuDOQ3_Tm9_QUcOrB77Q1&gt;&quot;</td><td>&quot;&lt;id_IZv2x2sr7?_i98_?20VnT3Le3&gt;&quot;</td><td>&quot;&lt;extractionSource&gt;&quot;</td><td>&quot;&lt;http://fr.wikipedia.org/wiki/St%C3%A9phanie_Galzy&gt;&quot;</td><td>null</td></tr><tr><td>null</td><td>&quot;&lt;id_pVSkRuDOQ3_Tm9_QUcOrB77Q1&gt;&quot;</td><td>&quot;&lt;extractionTechnique&gt;&quot;</td><td>&quot;InfoboxExtractor&quot;</td><td>null</td></tr><tr><td>&quot;&lt;id_r637nCXFEv_Tm9_IE2oVvWqiL&gt;&quot;</td><td>&quot;&lt;id_j2g8veTcaT_i98_?20VnT3Le3&gt;&quot;</td><td>&quot;&lt;extractionSource&gt;&quot;</td><td>&quot;&lt;http://fr.wikipedia.org/wiki/Marisa_Manchado&gt;&quot;</td><td>null</td></tr><tr><td>null</td><td>&quot;&lt;id_r637nCXFEv_Tm9_IE2oVvWqiL&gt;&quot;</td><td>&quot;&lt;extractionTechnique&gt;&quot;</td><td>&quot;InfoboxExtractor&quot;</td><td>null</td></tr><tr><td>&quot;&lt;id_ax8rzHfIpQ_Tm9_AbRAL5tBR6&gt;&quot;</td><td>&quot;&lt;id_2dNS3SYixu_i98_vgL3hwd!m6&gt;&quot;</td><td>&quot;&lt;extractionSource&gt;&quot;</td><td>&quot;&lt;http://fr.wikipedia.org/wiki/Regi_Andrej_Tarkovskij&gt;&quot;</td><td>null</td></tr><tr><td>null</td><td>&quot;&lt;id_ax8rzHfIpQ_Tm9_AbRAL5tBR6&gt;&quot;</td><td>&quot;&lt;extractionTechnique&gt;&quot;</td><td>&quot;InfoboxExtractor&quot;</td><td>null</td></tr><tr><td>&quot;&lt;id_Fsy3EzecEZ_Tm9_gWixqTDu!a&gt;&quot;</td><td>&quot;&lt;id_Sftdk5yWPE_i98_7wNS3pKWI5&gt;&quot;</td><td>&quot;&lt;extractionSource&gt;&quot;</td><td>&quot;&lt;http://fr.wikipedia.org/wiki/B%C3%A9atrice_Roullaud&gt;&quot;</td><td>null</td></tr><tr><td>null</td><td>&quot;&lt;id_Fsy3EzecEZ_Tm9_gWixqTDu!a&gt;&quot;</td><td>&quot;&lt;extractionTechnique&gt;&quot;</td><td>&quot;InfoboxExtractor&quot;</td><td>null</td></tr><tr><td>&quot;&lt;id_7sKAj09scs_Tm9_h26QR4yexJ&gt;&quot;</td><td>&quot;&lt;id_LIerrTWTjE_i98_rZEGSpTvoQ&gt;&quot;</td><td>&quot;&lt;extractionSource&gt;&quot;</td><td>&quot;&lt;http://fr.wikipedia.org/wiki/Mon_ma%C3%AEtre_et_mon_vainqueur&gt;&quot;</td><td>null</td></tr><tr><td>null</td><td>&quot;&lt;id_7sKAj09scs_Tm9_h26QR4yexJ&gt;&quot;</td><td>&quot;&lt;extractionTechnique&gt;&quot;</td><td>&quot;InfoboxExtractor&quot;</td><td>null</td></tr><tr><td>&quot;&lt;id_MkcsB8RhxV_Tm9_c?NJNLI3Yi&gt;&quot;</td><td>&quot;&lt;id_EEfgcrID4C_i98_PX8gBk1rkH&gt;&quot;</td><td>&quot;&lt;extractionSource&gt;&quot;</td><td>&quot;&lt;http://fr.wikipedia.org/wiki/Julie_Laernoes&gt;&quot;</td><td>null</td></tr><tr><td>null</td><td>&quot;&lt;id_MkcsB8RhxV_Tm9_c?NJNLI3Yi&gt;&quot;</td><td>&quot;&lt;extractionTechnique&gt;&quot;</td><td>&quot;InfoboxExtractor&quot;</td><td>null</td></tr></tbody></table></div>"
      ],
      "text/plain": [
       "shape: (5_013_644, 5)\n",
       "┌─────────────────────┬─────────────────────┬────────────────────┬────────────────────┬────────────┐\n",
       "│ id                  ┆ subject             ┆ predicate          ┆ cat_object         ┆ num_object │\n",
       "│ ---                 ┆ ---                 ┆ ---                ┆ ---                ┆ ---        │\n",
       "│ str                 ┆ str                 ┆ str                ┆ str                ┆ f64        │\n",
       "╞═════════════════════╪═════════════════════╪════════════════════╪════════════════════╪════════════╡\n",
       "│ <id_DeyQR6jlkM_Tm9_ ┆ <id_PSA3W26OQ1_i98_ ┆ <extractionSource> ┆ <http://fr.wikiped ┆ null       │\n",
       "│ XCuVlbN3aF>         ┆ ?20VnT3Le3>         ┆                    ┆ ia.org/wiki/Antoin ┆            │\n",
       "│                     ┆                     ┆                    ┆ e_Meillet>         ┆            │\n",
       "│ null                ┆ <id_DeyQR6jlkM_Tm9_ ┆ <extractionTechniq ┆ InfoboxExtractor   ┆ null       │\n",
       "│                     ┆ XCuVlbN3aF>         ┆ ue>                ┆                    ┆            │\n",
       "│ <id_WAIjiQ770p_Tm9_ ┆ <id_JAKeq47Qz6_i98_ ┆ <extractionSource> ┆ <http://fr.wikiped ┆ null       │\n",
       "│ dqGeXKHIXe>         ┆ 0DTd5vadsq>         ┆                    ┆ ia.org/wiki/Autric ┆            │\n",
       "│                     ┆                     ┆                    ┆ he>                ┆            │\n",
       "│ null                ┆ <id_WAIjiQ770p_Tm9_ ┆ <extractionTechniq ┆ InfoboxExtractor   ┆ null       │\n",
       "│                     ┆ dqGeXKHIXe>         ┆ ue>                ┆                    ┆            │\n",
       "│ <id_R0G8h?NzRE_Tm9_ ┆ <id_7MM7ET72db_i98_ ┆ <extractionSource> ┆ <http://fr.wikiped ┆ null       │\n",
       "│ WHwfx5tbTV>         ┆ ctdIq!L1mQ>         ┆                    ┆ ia.org/wiki/Arc_de ┆            │\n",
       "│                     ┆                     ┆                    ┆ _triomphe_de_l%27% ┆            │\n",
       "│                     ┆                     ┆                    ┆ C3%89toile>        ┆            │\n",
       "│ …                   ┆ …                   ┆ …                  ┆ …                  ┆ …          │\n",
       "│ null                ┆ <id_Fsy3EzecEZ_Tm9_ ┆ <extractionTechniq ┆ InfoboxExtractor   ┆ null       │\n",
       "│                     ┆ gWixqTDu!a>         ┆ ue>                ┆                    ┆            │\n",
       "│ <id_7sKAj09scs_Tm9_ ┆ <id_LIerrTWTjE_i98_ ┆ <extractionSource> ┆ <http://fr.wikiped ┆ null       │\n",
       "│ h26QR4yexJ>         ┆ rZEGSpTvoQ>         ┆                    ┆ ia.org/wiki/Mon_ma ┆            │\n",
       "│                     ┆                     ┆                    ┆ %C3%AEtre_et_mon_v ┆            │\n",
       "│                     ┆                     ┆                    ┆ ainqueur>          ┆            │\n",
       "│ null                ┆ <id_7sKAj09scs_Tm9_ ┆ <extractionTechniq ┆ InfoboxExtractor   ┆ null       │\n",
       "│                     ┆ h26QR4yexJ>         ┆ ue>                ┆                    ┆            │\n",
       "│ <id_MkcsB8RhxV_Tm9_ ┆ <id_EEfgcrID4C_i98_ ┆ <extractionSource> ┆ <http://fr.wikiped ┆ null       │\n",
       "│ c?NJNLI3Yi>         ┆ PX8gBk1rkH>         ┆                    ┆ ia.org/wiki/Julie_ ┆            │\n",
       "│                     ┆                     ┆                    ┆ Laernoes>          ┆            │\n",
       "│ null                ┆ <id_MkcsB8RhxV_Tm9_ ┆ <extractionTechniq ┆ InfoboxExtractor   ┆ null       │\n",
       "│                     ┆ c?NJNLI3Yi>         ┆ ue>                ┆                    ┆            │\n",
       "└─────────────────────┴─────────────────────┴────────────────────┴────────────────────┴────────────┘"
      ]
     },
     "metadata": {},
     "output_type": "display_data"
    },
    {
     "name": "stdout",
     "output_type": "stream",
     "text": [
      "yagoMetaFacts.tsv\n"
     ]
    },
    {
     "data": {
      "text/html": [
       "<div><style>\n",
       ".dataframe > thead > tr,\n",
       ".dataframe > tbody > tr {\n",
       "  text-align: right;\n",
       "  white-space: pre-wrap;\n",
       "}\n",
       "</style>\n",
       "<small>shape: (5_668_604, 5)</small><table border=\"1\" class=\"dataframe\"><thead><tr><th>id</th><th>subject</th><th>predicate</th><th>cat_object</th><th>num_object</th></tr><tr><td>str</td><td>str</td><td>str</td><td>str</td><td>f64</td></tr></thead><tbody><tr><td>&quot;&lt;id_c2EUbOc5sI_hfk_2BsUitGLNE&gt;&quot;</td><td>&quot;&lt;id_3PmF13TBMT_1m6_rNOWrBOXB?&gt;&quot;</td><td>&quot;&lt;byTransport&gt;&quot;</td><td>&quot;&lt;British_Airways&gt;&quot;</td><td>null</td></tr><tr><td>&quot;&lt;id_UhNjyj72fM_hfk_XVF27rJo9d&gt;&quot;</td><td>&quot;&lt;id_MiZ2HNo5TW_1m6_diMkove0Fs&gt;&quot;</td><td>&quot;&lt;byTransport&gt;&quot;</td><td>&quot;&lt;US-Bangla_Airlines&gt;&quot;</td><td>null</td></tr><tr><td>&quot;&lt;id_lPo1XowEnM_hfk_?sKw9mPBPm&gt;&quot;</td><td>&quot;&lt;id_UTOSKxWdS0_1m6_wDXJIYoUuc&gt;&quot;</td><td>&quot;&lt;byTransport&gt;&quot;</td><td>&quot;&lt;Iran_Air&gt;&quot;</td><td>null</td></tr><tr><td>&quot;&lt;id_KThPe5xR28_hfk_?pW8C22gaK&gt;&quot;</td><td>&quot;&lt;id_xtazbJUldA_1m6_lQjG5VK5KD&gt;&quot;</td><td>&quot;&lt;byTransport&gt;&quot;</td><td>&quot;&lt;Ryanair&gt;&quot;</td><td>null</td></tr><tr><td>&quot;&lt;id_8ybrL2ukHp_hfk_?pW8C22gaK&gt;&quot;</td><td>&quot;&lt;id_gBfISAiOoE_1m6_TtvYoi!hnr&gt;&quot;</td><td>&quot;&lt;byTransport&gt;&quot;</td><td>&quot;&lt;Ryanair&gt;&quot;</td><td>null</td></tr><tr><td>&quot;&lt;id_edZiXzOVFe_hfk_LPBAhfWenb&gt;&quot;</td><td>&quot;&lt;id_apeFJlOt7z_1m6_BHSwomTFaH&gt;&quot;</td><td>&quot;&lt;byTransport&gt;&quot;</td><td>&quot;&lt;Pan_Am&gt;&quot;</td><td>null</td></tr><tr><td>&quot;&lt;id_SoRsEVskbw_hfk_bdTzNtUcPi&gt;&quot;</td><td>&quot;&lt;id_FGWhOpGcpD_1m6_wzO?8d1QDK&gt;&quot;</td><td>&quot;&lt;byTransport&gt;&quot;</td><td>&quot;&lt;Fiji_Airways&gt;&quot;</td><td>null</td></tr><tr><td>&quot;&lt;id_ce!7BW5wyr_hfk_fz!DtbA2Wu&gt;&quot;</td><td>&quot;&lt;id_NH2UbUY8X2_1m6_N?w4fy3l2W&gt;&quot;</td><td>&quot;&lt;byTransport&gt;&quot;</td><td>&quot;&lt;Azur_Air&gt;&quot;</td><td>null</td></tr><tr><td>&quot;&lt;id_onLID2HqzE_hfk_bIaICIVLWp&gt;&quot;</td><td>&quot;&lt;id_VhdGrZ!6Vm_1m6_xyvdbWc?B2&gt;&quot;</td><td>&quot;&lt;byTransport&gt;&quot;</td><td>&quot;&lt;TAAG_Angola_Airlines&gt;&quot;</td><td>null</td></tr><tr><td>&quot;&lt;id_vaV5C9?3O3_hfk_uH6JvUvvqA&gt;&quot;</td><td>&quot;&lt;id_3EQT3wVBrq_1m6_UcaR!zzf3c&gt;&quot;</td><td>&quot;&lt;byTransport&gt;&quot;</td><td>&quot;&lt;Mandarin_Airlines&gt;&quot;</td><td>null</td></tr><tr><td>&quot;&lt;id_CYMHSno26t_hfk_svmBF!1M4v&gt;&quot;</td><td>&quot;&lt;id_HVe4EyqZKE_1m6_UtnlagVEi1&gt;&quot;</td><td>&quot;&lt;byTransport&gt;&quot;</td><td>&quot;&lt;Air_France&gt;&quot;</td><td>null</td></tr><tr><td>&quot;&lt;id_!NBe2lwzP0_hfk_Ey9PpiGwPG&gt;&quot;</td><td>&quot;&lt;id_Tfe4u4xWKr_1m6_5!jgyz74G1&gt;&quot;</td><td>&quot;&lt;byTransport&gt;&quot;</td><td>&quot;&lt;Air_China&gt;&quot;</td><td>null</td></tr><tr><td>&hellip;</td><td>&hellip;</td><td>&hellip;</td><td>&hellip;</td><td>&hellip;</td></tr><tr><td>&quot;&lt;id_xUL7lpGe67_U6A_Hn7z0Hngfx&gt;&quot;</td><td>&quot;&lt;id_tGwp!0UTGz_itr_RMoJBrMFbm&gt;&quot;</td><td>&quot;&lt;hasPredecessor&gt;&quot;</td><td>&quot;&lt;Ralph_Recto&gt;&quot;</td><td>null</td></tr><tr><td>&quot;&lt;id_IadP6!chOo_U6A_Cedq9Jz13a&gt;&quot;</td><td>&quot;&lt;id_aYGxaFP1Fs_itr_a!J05Tr8je&gt;&quot;</td><td>&quot;&lt;hasPredecessor&gt;&quot;</td><td>&quot;&lt;Tim_Hudak&gt;&quot;</td><td>null</td></tr><tr><td>&quot;&lt;id_?I1qNeS3qE_U6A_seux!mYYu6&gt;&quot;</td><td>&quot;&lt;id_hoCVf10eyd_itr_AA7BHQ!iyB&gt;&quot;</td><td>&quot;&lt;hasPredecessor&gt;&quot;</td><td>&quot;&lt;Edmund_Barton&gt;&quot;</td><td>null</td></tr><tr><td>&quot;&lt;id_JLRf54gV2j_U6A_ftnuSZA7of&gt;&quot;</td><td>&quot;&lt;id_DO!JVPB2SL_itr_PonXCppOUV&gt;&quot;</td><td>&quot;&lt;hasPredecessor&gt;&quot;</td><td>&quot;&lt;Daisy_Danjuma&gt;&quot;</td><td>null</td></tr><tr><td>&quot;&lt;id_bgA5qGmAMJ_U6A_HfaG8JMndm&gt;&quot;</td><td>&quot;&lt;id_Npk7rk1Eyl_itr_PVwq3p4zD8&gt;&quot;</td><td>&quot;&lt;hasPredecessor&gt;&quot;</td><td>&quot;&lt;Lee_Yuan-tsu&gt;&quot;</td><td>null</td></tr><tr><td>&quot;&lt;id_yGbaubVQAH_U6A_i35OPBLHp3&gt;&quot;</td><td>&quot;&lt;id_lhoPREG?eb_itr_rOXcATNMku&gt;&quot;</td><td>&quot;&lt;hasPredecessor&gt;&quot;</td><td>&quot;&lt;Ernest_Monis&gt;&quot;</td><td>null</td></tr><tr><td>&quot;&lt;id_asOrepzpG7_U6A_wOKtTqbvk3&gt;&quot;</td><td>&quot;&lt;id_AfOWI?F3!H_itr_7J!SeXwu0r&gt;&quot;</td><td>&quot;&lt;hasPredecessor&gt;&quot;</td><td>&quot;&lt;Regine_Biscoe_Lee&gt;&quot;</td><td>null</td></tr><tr><td>&quot;&lt;id_7MycZYZoo6_U6A_85jXDpver5&gt;&quot;</td><td>&quot;&lt;id_5Ag4rKObiu_itr_?7!h4UnGnp&gt;&quot;</td><td>&quot;&lt;hasPredecessor&gt;&quot;</td><td>&quot;&lt;Kostas_Karamanlis&gt;&quot;</td><td>null</td></tr><tr><td>&quot;&lt;id_jPp1JS3AWf_U6A_V9yLKfRQ8p&gt;&quot;</td><td>&quot;&lt;id_1awcGGKknj_itr_nUihDgvdJZ&gt;&quot;</td><td>&quot;&lt;hasPredecessor&gt;&quot;</td><td>&quot;&lt;Diana_Wallis&gt;&quot;</td><td>null</td></tr><tr><td>&quot;&lt;id_WZsKM62kWZ_U6A_qsWx4E2M1q&gt;&quot;</td><td>&quot;&lt;id_Hcm2KohPqx_itr_EtmEO!qJnh&gt;&quot;</td><td>&quot;&lt;hasPredecessor&gt;&quot;</td><td>&quot;&lt;John_Turner&gt;&quot;</td><td>null</td></tr><tr><td>&quot;&lt;id_e!WhiSn6ei_U6A_KGFRLgS7!2&gt;&quot;</td><td>&quot;&lt;id_AoUdf8zmJG_itr_11e6ns20fe&gt;&quot;</td><td>&quot;&lt;hasPredecessor&gt;&quot;</td><td>&quot;&lt;Hussain_Muhammad_Ershad&gt;&quot;</td><td>null</td></tr><tr><td>&quot;&lt;id_nkGlT7KutA_U6A_vauZjHRLp?&gt;&quot;</td><td>&quot;&lt;id_4lVZk8nrox_itr_jvmqfI4uOM&gt;&quot;</td><td>&quot;&lt;hasPredecessor&gt;&quot;</td><td>&quot;&lt;Gus_Douglass&gt;&quot;</td><td>null</td></tr></tbody></table></div>"
      ],
      "text/plain": [
       "shape: (5_668_604, 5)\n",
       "┌──────────────────────┬─────────────────────┬──────────────────┬─────────────────────┬────────────┐\n",
       "│ id                   ┆ subject             ┆ predicate        ┆ cat_object          ┆ num_object │\n",
       "│ ---                  ┆ ---                 ┆ ---              ┆ ---                 ┆ ---        │\n",
       "│ str                  ┆ str                 ┆ str              ┆ str                 ┆ f64        │\n",
       "╞══════════════════════╪═════════════════════╪══════════════════╪═════════════════════╪════════════╡\n",
       "│ <id_c2EUbOc5sI_hfk_2 ┆ <id_3PmF13TBMT_1m6_ ┆ <byTransport>    ┆ <British_Airways>   ┆ null       │\n",
       "│ BsUitGLNE>           ┆ rNOWrBOXB?>         ┆                  ┆                     ┆            │\n",
       "│ <id_UhNjyj72fM_hfk_X ┆ <id_MiZ2HNo5TW_1m6_ ┆ <byTransport>    ┆ <US-Bangla_Airlines ┆ null       │\n",
       "│ VF27rJo9d>           ┆ diMkove0Fs>         ┆                  ┆ >                   ┆            │\n",
       "│ <id_lPo1XowEnM_hfk_? ┆ <id_UTOSKxWdS0_1m6_ ┆ <byTransport>    ┆ <Iran_Air>          ┆ null       │\n",
       "│ sKw9mPBPm>           ┆ wDXJIYoUuc>         ┆                  ┆                     ┆            │\n",
       "│ <id_KThPe5xR28_hfk_? ┆ <id_xtazbJUldA_1m6_ ┆ <byTransport>    ┆ <Ryanair>           ┆ null       │\n",
       "│ pW8C22gaK>           ┆ lQjG5VK5KD>         ┆                  ┆                     ┆            │\n",
       "│ <id_8ybrL2ukHp_hfk_? ┆ <id_gBfISAiOoE_1m6_ ┆ <byTransport>    ┆ <Ryanair>           ┆ null       │\n",
       "│ pW8C22gaK>           ┆ TtvYoi!hnr>         ┆                  ┆                     ┆            │\n",
       "│ …                    ┆ …                   ┆ …                ┆ …                   ┆ …          │\n",
       "│ <id_7MycZYZoo6_U6A_8 ┆ <id_5Ag4rKObiu_itr_ ┆ <hasPredecessor> ┆ <Kostas_Karamanlis> ┆ null       │\n",
       "│ 5jXDpver5>           ┆ ?7!h4UnGnp>         ┆                  ┆                     ┆            │\n",
       "│ <id_jPp1JS3AWf_U6A_V ┆ <id_1awcGGKknj_itr_ ┆ <hasPredecessor> ┆ <Diana_Wallis>      ┆ null       │\n",
       "│ 9yLKfRQ8p>           ┆ nUihDgvdJZ>         ┆                  ┆                     ┆            │\n",
       "│ <id_WZsKM62kWZ_U6A_q ┆ <id_Hcm2KohPqx_itr_ ┆ <hasPredecessor> ┆ <John_Turner>       ┆ null       │\n",
       "│ sWx4E2M1q>           ┆ EtmEO!qJnh>         ┆                  ┆                     ┆            │\n",
       "│ <id_e!WhiSn6ei_U6A_K ┆ <id_AoUdf8zmJG_itr_ ┆ <hasPredecessor> ┆ <Hussain_Muhammad_E ┆ null       │\n",
       "│ GFRLgS7!2>           ┆ 11e6ns20fe>         ┆                  ┆ rshad>              ┆            │\n",
       "│ <id_nkGlT7KutA_U6A_v ┆ <id_4lVZk8nrox_itr_ ┆ <hasPredecessor> ┆ <Gus_Douglass>      ┆ null       │\n",
       "│ auZjHRLp?>           ┆ jvmqfI4uOM>         ┆                  ┆                     ┆            │\n",
       "└──────────────────────┴─────────────────────┴──────────────────┴─────────────────────┴────────────┘"
      ]
     },
     "metadata": {},
     "output_type": "display_data"
    },
    {
     "name": "stdout",
     "output_type": "stream",
     "text": [
      "yagoMultilingualClassLabels.tsv\n"
     ]
    },
    {
     "data": {
      "text/html": [
       "<div><style>\n",
       ".dataframe > thead > tr,\n",
       ".dataframe > tbody > tr {\n",
       "  text-align: right;\n",
       "  white-space: pre-wrap;\n",
       "}\n",
       "</style>\n",
       "<small>shape: (787_650, 5)</small><table border=\"1\" class=\"dataframe\"><thead><tr><th>id</th><th>subject</th><th>predicate</th><th>cat_object</th><th>num_object</th></tr><tr><td>str</td><td>str</td><td>str</td><td>str</td><td>f64</td></tr></thead><tbody><tr><td>null</td><td>&quot;&lt;wordnet_pear_112651611&gt;&quot;</td><td>&quot;rdfs:label&quot;</td><td>&quot;dardhë@aae&quot;</td><td>null</td></tr><tr><td>null</td><td>&quot;&lt;wordnet_dictionary_106418901&gt;&quot;</td><td>&quot;rdfs:label&quot;</td><td>&quot;ажәар@abk&quot;</td><td>null</td></tr><tr><td>null</td><td>&quot;&lt;wordnet_thesaurus_106421016&gt;&quot;</td><td>&quot;rdfs:label&quot;</td><td>&quot;ажәар@abk&quot;</td><td>null</td></tr><tr><td>null</td><td>&quot;&lt;wordnet_one_113742573&gt;&quot;</td><td>&quot;rdfs:label&quot;</td><td>&quot;&#x27;n@afr&quot;</td><td>null</td></tr><tr><td>null</td><td>&quot;&lt;wordnet_amplitude_modulation_106281594&gt;&quot;</td><td>&quot;rdfs:label&quot;</td><td>&quot;AM@afr&quot;</td><td>null</td></tr><tr><td>null</td><td>&quot;&lt;wordnet_earth_108562067&gt;&quot;</td><td>&quot;rdfs:label&quot;</td><td>&quot;Aarde@afr&quot;</td><td>null</td></tr><tr><td>null</td><td>&quot;&lt;wordnet_alp_109193705&gt;&quot;</td><td>&quot;rdfs:label&quot;</td><td>&quot;Alpe@afr&quot;</td><td>null</td></tr><tr><td>null</td><td>&quot;&lt;wordnet_dromedary_102437312&gt;&quot;</td><td>&quot;rdfs:label&quot;</td><td>&quot;Arabiese kameel@afr&quot;</td><td>null</td></tr><tr><td>null</td><td>&quot;&lt;wordnet_gross_domestic_product_113257511&gt;&quot;</td><td>&quot;rdfs:label&quot;</td><td>&quot;BBP@afr&quot;</td><td>null</td></tr><tr><td>null</td><td>&quot;&lt;wordnet_leech_101937909&gt;&quot;</td><td>&quot;rdfs:label&quot;</td><td>&quot;Bloedsuier@afr&quot;</td><td>null</td></tr><tr><td>null</td><td>&quot;&lt;wordnet_bible_106422643&gt;&quot;</td><td>&quot;rdfs:label&quot;</td><td>&quot;Bybel@afr&quot;</td><td>null</td></tr><tr><td>null</td><td>&quot;&lt;wordnet_litchi_107766173&gt;&quot;</td><td>&quot;rdfs:label&quot;</td><td>&quot;Chinese pruim@afr&quot;</td><td>null</td></tr><tr><td>&hellip;</td><td>&hellip;</td><td>&hellip;</td><td>&hellip;</td><td>&hellip;</td></tr><tr><td>null</td><td>&quot;&lt;wordnet_celery_107730406&gt;&quot;</td><td>&quot;rdfs:label&quot;</td><td>&quot;useleri@zul&quot;</td><td>null</td></tr><tr><td>null</td><td>&quot;&lt;wordnet_celery_112933403&gt;&quot;</td><td>&quot;rdfs:label&quot;</td><td>&quot;useleri@zul&quot;</td><td>null</td></tr><tr><td>null</td><td>&quot;&lt;wordnet_sugar_107859284&gt;&quot;</td><td>&quot;rdfs:label&quot;</td><td>&quot;ushukela@zul&quot;</td><td>null</td></tr><tr><td>null</td><td>&quot;&lt;wordnet_carbohydrate_114792703&gt;&quot;</td><td>&quot;rdfs:label&quot;</td><td>&quot;ushukela@zul&quot;</td><td>null</td></tr><tr><td>null</td><td>&quot;&lt;wordnet_seller_110577284&gt;&quot;</td><td>&quot;rdfs:label&quot;</td><td>&quot;usomabhizinizi@zul&quot;</td><td>null</td></tr><tr><td>null</td><td>&quot;&lt;wordnet_calendar_day_115157041&gt;&quot;</td><td>&quot;rdfs:label&quot;</td><td>&quot;usuku@zul&quot;</td><td>null</td></tr><tr><td>null</td><td>&quot;&lt;wordnet_tenderness_104627241&gt;&quot;</td><td>&quot;rdfs:label&quot;</td><td>&quot;uthando@zul&quot;</td><td>null</td></tr><tr><td>null</td><td>&quot;&lt;wordnet_master_110298482&gt;&quot;</td><td>&quot;rdfs:label&quot;</td><td>&quot;uthisha@zul&quot;</td><td>null</td></tr><tr><td>null</td><td>&quot;&lt;wordnet_beer_107886849&gt;&quot;</td><td>&quot;rdfs:label&quot;</td><td>&quot;utshwala@zul&quot;</td><td>null</td></tr><tr><td>null</td><td>&quot;&lt;wordnet_butterfly_102274259&gt;&quot;</td><td>&quot;rdfs:label&quot;</td><td>&quot;uvemvane@zul&quot;</td><td>null</td></tr><tr><td>null</td><td>&quot;&lt;wordnet_art_100933420&gt;&quot;</td><td>&quot;rdfs:label&quot;</td><td>&quot;wena uyinkosi@zul&quot;</td><td>null</td></tr><tr><td>null</td><td>&quot;&lt;wordnet_contemporary_109960417&gt;&quot;</td><td>&quot;rdfs:label&quot;</td><td>&quot;yintanga@zul&quot;</td><td>null</td></tr></tbody></table></div>"
      ],
      "text/plain": [
       "shape: (787_650, 5)\n",
       "┌──────┬──────────────────────────────────────────┬────────────┬───────────────────┬────────────┐\n",
       "│ id   ┆ subject                                  ┆ predicate  ┆ cat_object        ┆ num_object │\n",
       "│ ---  ┆ ---                                      ┆ ---        ┆ ---               ┆ ---        │\n",
       "│ str  ┆ str                                      ┆ str        ┆ str               ┆ f64        │\n",
       "╞══════╪══════════════════════════════════════════╪════════════╪═══════════════════╪════════════╡\n",
       "│ null ┆ <wordnet_pear_112651611>                 ┆ rdfs:label ┆ dardhë@aae        ┆ null       │\n",
       "│ null ┆ <wordnet_dictionary_106418901>           ┆ rdfs:label ┆ ажәар@abk         ┆ null       │\n",
       "│ null ┆ <wordnet_thesaurus_106421016>            ┆ rdfs:label ┆ ажәар@abk         ┆ null       │\n",
       "│ null ┆ <wordnet_one_113742573>                  ┆ rdfs:label ┆ 'n@afr            ┆ null       │\n",
       "│ null ┆ <wordnet_amplitude_modulation_106281594> ┆ rdfs:label ┆ AM@afr            ┆ null       │\n",
       "│ …    ┆ …                                        ┆ …          ┆ …                 ┆ …          │\n",
       "│ null ┆ <wordnet_master_110298482>               ┆ rdfs:label ┆ uthisha@zul       ┆ null       │\n",
       "│ null ┆ <wordnet_beer_107886849>                 ┆ rdfs:label ┆ utshwala@zul      ┆ null       │\n",
       "│ null ┆ <wordnet_butterfly_102274259>            ┆ rdfs:label ┆ uvemvane@zul      ┆ null       │\n",
       "│ null ┆ <wordnet_art_100933420>                  ┆ rdfs:label ┆ wena uyinkosi@zul ┆ null       │\n",
       "│ null ┆ <wordnet_contemporary_109960417>         ┆ rdfs:label ┆ yintanga@zul      ┆ null       │\n",
       "└──────┴──────────────────────────────────────────┴────────────┴───────────────────┴────────────┘"
      ]
     },
     "metadata": {},
     "output_type": "display_data"
    },
    {
     "name": "stdout",
     "output_type": "stream",
     "text": [
      "yagoPreferredMeanings.tsv\n"
     ]
    },
    {
     "data": {
      "text/html": [
       "<div><style>\n",
       ".dataframe > thead > tr,\n",
       ".dataframe > tbody > tr {\n",
       "  text-align: right;\n",
       "  white-space: pre-wrap;\n",
       "}\n",
       "</style>\n",
       "<small>shape: (84_019, 5)</small><table border=\"1\" class=\"dataframe\"><thead><tr><th>id</th><th>subject</th><th>predicate</th><th>cat_object</th><th>num_object</th></tr><tr><td>str</td><td>str</td><td>str</td><td>str</td><td>f64</td></tr></thead><tbody><tr><td>null</td><td>&quot;&lt;Turkey&gt;&quot;</td><td>&quot;&lt;isPreferredMeaningOf&gt;&quot;</td><td>&quot;Turkey@eng&quot;</td><td>null</td></tr><tr><td>null</td><td>&quot;&lt;Brazil&gt;&quot;</td><td>&quot;&lt;isPreferredMeaningOf&gt;&quot;</td><td>&quot;Brazil@eng&quot;</td><td>null</td></tr><tr><td>null</td><td>&quot;&lt;China&gt;&quot;</td><td>&quot;&lt;isPreferredMeaningOf&gt;&quot;</td><td>&quot;China@eng&quot;</td><td>null</td></tr><tr><td>null</td><td>&quot;&lt;Twitter&gt;&quot;</td><td>&quot;&lt;isPreferredMeaningOf&gt;&quot;</td><td>&quot;Twitter@eng&quot;</td><td>null</td></tr><tr><td>null</td><td>&quot;&lt;wordnet_minister_110320863&gt;&quot;</td><td>&quot;&lt;isPreferredMeaningOf&gt;&quot;</td><td>&quot;minister@eng&quot;</td><td>null</td></tr><tr><td>null</td><td>&quot;&lt;wordnet_company_108058098&gt;&quot;</td><td>&quot;&lt;isPreferredMeaningOf&gt;&quot;</td><td>&quot;medium@eng&quot;</td><td>null</td></tr><tr><td>null</td><td>&quot;&lt;wordnet_company_108058098&gt;&quot;</td><td>&quot;&lt;isPreferredMeaningOf&gt;&quot;</td><td>&quot;chain@eng&quot;</td><td>null</td></tr><tr><td>null</td><td>&quot;&lt;wordnet_company_108058098&gt;&quot;</td><td>&quot;&lt;isPreferredMeaningOf&gt;&quot;</td><td>&quot;record label@eng&quot;</td><td>null</td></tr><tr><td>null</td><td>&quot;&lt;wordnet_calamity_107314838&gt;&quot;</td><td>&quot;&lt;isPreferredMeaningOf&gt;&quot;</td><td>&quot;disaster@eng&quot;</td><td>null</td></tr><tr><td>null</td><td>&quot;&lt;wordnet_fellow_110083526&gt;&quot;</td><td>&quot;&lt;isPreferredMeaningOf&gt;&quot;</td><td>&quot;fellow@eng&quot;</td><td>null</td></tr><tr><td>null</td><td>&quot;&lt;wordnet_regent_110516117&gt;&quot;</td><td>&quot;&lt;isPreferredMeaningOf&gt;&quot;</td><td>&quot;regent@eng&quot;</td><td>null</td></tr><tr><td>null</td><td>&quot;&lt;wordnet_pirate_110435367&gt;&quot;</td><td>&quot;&lt;isPreferredMeaningOf&gt;&quot;</td><td>&quot;pirate@eng&quot;</td><td>null</td></tr><tr><td>&hellip;</td><td>&hellip;</td><td>&hellip;</td><td>&hellip;</td><td>&hellip;</td></tr><tr><td>null</td><td>&quot;&lt;wordnet_rotational_latency_115297069&gt;&quot;</td><td>&quot;&lt;isPreferredMeaningOf&gt;&quot;</td><td>&quot;latency@eng&quot;</td><td>null</td></tr><tr><td>null</td><td>&quot;&lt;wordnet_probation_115297472&gt;&quot;</td><td>&quot;&lt;isPreferredMeaningOf&gt;&quot;</td><td>&quot;probation@eng&quot;</td><td>null</td></tr><tr><td>null</td><td>&quot;&lt;wordnet_processing_time_115297672&gt;&quot;</td><td>&quot;&lt;isPreferredMeaningOf&gt;&quot;</td><td>&quot;processing time@eng&quot;</td><td>null</td></tr><tr><td>null</td><td>&quot;&lt;wordnet_air_alert_115297859&gt;&quot;</td><td>&quot;&lt;isPreferredMeaningOf&gt;&quot;</td><td>&quot;air alert@eng&quot;</td><td>null</td></tr><tr><td>null</td><td>&quot;&lt;wordnet_command_processing_overhead_time_115298011&gt;&quot;</td><td>&quot;&lt;isPreferredMeaningOf&gt;&quot;</td><td>&quot;command processing overhead time@eng&quot;</td><td>null</td></tr><tr><td>null</td><td>&quot;&lt;wordnet_command_processing_overhead_time_115298011&gt;&quot;</td><td>&quot;&lt;isPreferredMeaningOf&gt;&quot;</td><td>&quot;command processing overhead@eng&quot;</td><td>null</td></tr><tr><td>null</td><td>&quot;&lt;wordnet_command_processing_overhead_time_115298011&gt;&quot;</td><td>&quot;&lt;isPreferredMeaningOf&gt;&quot;</td><td>&quot;command overhead@eng&quot;</td><td>null</td></tr><tr><td>null</td><td>&quot;&lt;wordnet_question_time_115298507&gt;&quot;</td><td>&quot;&lt;isPreferredMeaningOf&gt;&quot;</td><td>&quot;question time@eng&quot;</td><td>null</td></tr><tr><td>null</td><td>&quot;&lt;wordnet_real_time_115298852&gt;&quot;</td><td>&quot;&lt;isPreferredMeaningOf&gt;&quot;</td><td>&quot;real time@eng&quot;</td><td>null</td></tr><tr><td>null</td><td>&quot;&lt;wordnet_regency_115298995&gt;&quot;</td><td>&quot;&lt;isPreferredMeaningOf&gt;&quot;</td><td>&quot;regency@eng&quot;</td><td>null</td></tr><tr><td>null</td><td>&quot;&lt;wordnet_study_hall_115299225&gt;&quot;</td><td>&quot;&lt;isPreferredMeaningOf&gt;&quot;</td><td>&quot;study hall@eng&quot;</td><td>null</td></tr><tr><td>null</td><td>&quot;&lt;wordnet_usance_115299585&gt;&quot;</td><td>&quot;&lt;isPreferredMeaningOf&gt;&quot;</td><td>&quot;usance@eng&quot;</td><td>null</td></tr></tbody></table></div>"
      ],
      "text/plain": [
       "shape: (84_019, 5)\n",
       "┌──────┬─────────────────────────────────┬────────────────────────┬───────────────────┬────────────┐\n",
       "│ id   ┆ subject                         ┆ predicate              ┆ cat_object        ┆ num_object │\n",
       "│ ---  ┆ ---                             ┆ ---                    ┆ ---               ┆ ---        │\n",
       "│ str  ┆ str                             ┆ str                    ┆ str               ┆ f64        │\n",
       "╞══════╪═════════════════════════════════╪════════════════════════╪═══════════════════╪════════════╡\n",
       "│ null ┆ <Turkey>                        ┆ <isPreferredMeaningOf> ┆ Turkey@eng        ┆ null       │\n",
       "│ null ┆ <Brazil>                        ┆ <isPreferredMeaningOf> ┆ Brazil@eng        ┆ null       │\n",
       "│ null ┆ <China>                         ┆ <isPreferredMeaningOf> ┆ China@eng         ┆ null       │\n",
       "│ null ┆ <Twitter>                       ┆ <isPreferredMeaningOf> ┆ Twitter@eng       ┆ null       │\n",
       "│ null ┆ <wordnet_minister_110320863>    ┆ <isPreferredMeaningOf> ┆ minister@eng      ┆ null       │\n",
       "│ …    ┆ …                               ┆ …                      ┆ …                 ┆ …          │\n",
       "│ null ┆ <wordnet_question_time_11529850 ┆ <isPreferredMeaningOf> ┆ question time@eng ┆ null       │\n",
       "│      ┆ 7>                              ┆                        ┆                   ┆            │\n",
       "│ null ┆ <wordnet_real_time_115298852>   ┆ <isPreferredMeaningOf> ┆ real time@eng     ┆ null       │\n",
       "│ null ┆ <wordnet_regency_115298995>     ┆ <isPreferredMeaningOf> ┆ regency@eng       ┆ null       │\n",
       "│ null ┆ <wordnet_study_hall_115299225>  ┆ <isPreferredMeaningOf> ┆ study hall@eng    ┆ null       │\n",
       "│ null ┆ <wordnet_usance_115299585>      ┆ <isPreferredMeaningOf> ┆ usance@eng        ┆ null       │\n",
       "└──────┴─────────────────────────────────┴────────────────────────┴───────────────────┴────────────┘"
      ]
     },
     "metadata": {},
     "output_type": "display_data"
    },
    {
     "name": "stdout",
     "output_type": "stream",
     "text": [
      "yagoRedirectLabels_en.tsv\n"
     ]
    },
    {
     "data": {
      "text/html": [
       "<div><style>\n",
       ".dataframe > thead > tr,\n",
       ".dataframe > tbody > tr {\n",
       "  text-align: right;\n",
       "  white-space: pre-wrap;\n",
       "}\n",
       "</style>\n",
       "<small>shape: (7_465_524, 5)</small><table border=\"1\" class=\"dataframe\"><thead><tr><th>id</th><th>subject</th><th>predicate</th><th>cat_object</th><th>num_object</th></tr><tr><td>str</td><td>str</td><td>str</td><td>str</td><td>f64</td></tr></thead><tbody><tr><td>null</td><td>&quot;&lt;USS_Menominee_(AT-73)&gt;&quot;</td><td>&quot;&lt;redirectedFrom&gt;&quot;</td><td>&quot;KRI Rakata (928)@eng&quot;</td><td>null</td></tr><tr><td>null</td><td>&quot;&lt;Congenital_melanocytic_nevus&gt;&quot;</td><td>&quot;&lt;redirectedFrom&gt;&quot;</td><td>&quot;Small congenital melanocytic nevus@eng&quot;</td><td>null</td></tr><tr><td>null</td><td>&quot;&lt;Frank_E._Wetherell&gt;&quot;</td><td>&quot;&lt;redirectedFrom&gt;&quot;</td><td>&quot;F.E. Wetherell@eng&quot;</td><td>null</td></tr><tr><td>null</td><td>&quot;&lt;Rock_pratincole&gt;&quot;</td><td>&quot;&lt;redirectedFrom&gt;&quot;</td><td>&quot;Galactochrysea liberiae@eng&quot;</td><td>null</td></tr><tr><td>null</td><td>&quot;&lt;Robert_Chambers_(criminal)&gt;&quot;</td><td>&quot;&lt;redirectedFrom&gt;&quot;</td><td>&quot;Preppie Murder case@eng&quot;</td><td>null</td></tr><tr><td>null</td><td>&quot;&lt;National_Organization_for_Rare_Disorders&gt;&quot;</td><td>&quot;&lt;redirectedFrom&gt;&quot;</td><td>&quot;National Organization of Rare Diseases@eng&quot;</td><td>null</td></tr><tr><td>null</td><td>&quot;&lt;Kemin&gt;&quot;</td><td>&quot;&lt;redirectedFrom&gt;&quot;</td><td>&quot;Bystrorechenskoye@eng&quot;</td><td>null</td></tr><tr><td>null</td><td>&quot;&lt;Qinyang&gt;&quot;</td><td>&quot;&lt;redirectedFrom&gt;&quot;</td><td>&quot;Hwai-king@eng&quot;</td><td>null</td></tr><tr><td>null</td><td>&quot;&lt;Tomas_N&#x27;evergreen&gt;&quot;</td><td>&quot;&lt;redirectedFrom&gt;&quot;</td><td>&quot;Tomas n&#x27;evergreen@eng&quot;</td><td>null</td></tr><tr><td>null</td><td>&quot;&lt;Carles_Puigdemont&gt;&quot;</td><td>&quot;&lt;redirectedFrom&gt;&quot;</td><td>&quot;Carlos puigdemont@eng&quot;</td><td>null</td></tr><tr><td>null</td><td>&quot;&lt;Goryeo_coinage&gt;&quot;</td><td>&quot;&lt;redirectedFrom&gt;&quot;</td><td>&quot;Koryo Dynasty coinages@eng&quot;</td><td>null</td></tr><tr><td>null</td><td>&quot;&lt;Cadre_(politics)&gt;&quot;</td><td>&quot;&lt;redirectedFrom&gt;&quot;</td><td>&quot;Cadre employment@eng&quot;</td><td>null</td></tr><tr><td>&hellip;</td><td>&hellip;</td><td>&hellip;</td><td>&hellip;</td><td>&hellip;</td></tr><tr><td>null</td><td>&quot;&lt;Can&#x27;t_Pay?_Won&#x27;t_Pay!&gt;&quot;</td><td>&quot;&lt;redirectedFrom&gt;&quot;</td><td>&quot;We Wont Pay We Wont Pay@eng&quot;</td><td>null</td></tr><tr><td>null</td><td>&quot;&lt;Boris_Pašanski&gt;&quot;</td><td>&quot;&lt;redirectedFrom&gt;&quot;</td><td>&quot;Boris Pashanski@eng&quot;</td><td>null</td></tr><tr><td>null</td><td>&quot;&lt;Mobile_Suit_Gundam_SEED&gt;&quot;</td><td>&quot;&lt;redirectedFrom&gt;&quot;</td><td>&quot;Battle of PLANT@eng&quot;</td><td>null</td></tr><tr><td>null</td><td>&quot;&lt;Journal_of_Basic_Microbiology&gt;&quot;</td><td>&quot;&lt;redirectedFrom&gt;&quot;</td><td>&quot;Zeitschrift für Allgemeine Mikrobiologie@eng&quot;</td><td>null</td></tr><tr><td>null</td><td>&quot;&lt;An_t-Iasgair&gt;&quot;</td><td>&quot;&lt;redirectedFrom&gt;&quot;</td><td>&quot;An T-Iasgair Light@eng&quot;</td><td>null</td></tr><tr><td>null</td><td>&quot;&lt;Shaanxi_Wuzhou_F.C.&gt;&quot;</td><td>&quot;&lt;redirectedFrom&gt;&quot;</td><td>&quot;Shaanxi Wuzhou@eng&quot;</td><td>null</td></tr><tr><td>null</td><td>&quot;&lt;Acer_pensylvanicum&gt;&quot;</td><td>&quot;&lt;redirectedFrom&gt;&quot;</td><td>&quot;Striped Maples@eng&quot;</td><td>null</td></tr><tr><td>null</td><td>&quot;&lt;Material_Design&gt;&quot;</td><td>&quot;&lt;redirectedFrom&gt;&quot;</td><td>&quot;Quantum Paper@eng&quot;</td><td>null</td></tr><tr><td>null</td><td>&quot;&lt;C._I._Defontenay&gt;&quot;</td><td>&quot;&lt;redirectedFrom&gt;&quot;</td><td>&quot;C I Defontenay@eng&quot;</td><td>null</td></tr><tr><td>null</td><td>&quot;&lt;Napoleon_III&gt;&quot;</td><td>&quot;&lt;redirectedFrom&gt;&quot;</td><td>&quot;Napoleone III@eng&quot;</td><td>null</td></tr><tr><td>null</td><td>&quot;&lt;Calephelis_nemesis&gt;&quot;</td><td>&quot;&lt;redirectedFrom&gt;&quot;</td><td>&quot;Dusky metalmark@eng&quot;</td><td>null</td></tr><tr><td>null</td><td>&quot;&lt;Washington_Nationals&gt;&quot;</td><td>&quot;&lt;redirectedFrom&gt;&quot;</td><td>&quot;Washington Nats@eng&quot;</td><td>null</td></tr></tbody></table></div>"
      ],
      "text/plain": [
       "shape: (7_465_524, 5)\n",
       "┌──────┬─────────────────────────────┬──────────────────┬─────────────────────────────┬────────────┐\n",
       "│ id   ┆ subject                     ┆ predicate        ┆ cat_object                  ┆ num_object │\n",
       "│ ---  ┆ ---                         ┆ ---              ┆ ---                         ┆ ---        │\n",
       "│ str  ┆ str                         ┆ str              ┆ str                         ┆ f64        │\n",
       "╞══════╪═════════════════════════════╪══════════════════╪═════════════════════════════╪════════════╡\n",
       "│ null ┆ <USS_Menominee_(AT-73)>     ┆ <redirectedFrom> ┆ KRI Rakata (928)@eng        ┆ null       │\n",
       "│ null ┆ <Congenital_melanocytic_nev ┆ <redirectedFrom> ┆ Small congenital            ┆ null       │\n",
       "│      ┆ us>                         ┆                  ┆ melanocytic nevus@eng       ┆            │\n",
       "│ null ┆ <Frank_E._Wetherell>        ┆ <redirectedFrom> ┆ F.E. Wetherell@eng          ┆ null       │\n",
       "│ null ┆ <Rock_pratincole>           ┆ <redirectedFrom> ┆ Galactochrysea liberiae@eng ┆ null       │\n",
       "│ null ┆ <Robert_Chambers_(criminal) ┆ <redirectedFrom> ┆ Preppie Murder case@eng     ┆ null       │\n",
       "│      ┆ >                           ┆                  ┆                             ┆            │\n",
       "│ …    ┆ …                           ┆ …                ┆ …                           ┆ …          │\n",
       "│ null ┆ <Material_Design>           ┆ <redirectedFrom> ┆ Quantum Paper@eng           ┆ null       │\n",
       "│ null ┆ <C._I._Defontenay>          ┆ <redirectedFrom> ┆ C I Defontenay@eng          ┆ null       │\n",
       "│ null ┆ <Napoleon_III>              ┆ <redirectedFrom> ┆ Napoleone III@eng           ┆ null       │\n",
       "│ null ┆ <Calephelis_nemesis>        ┆ <redirectedFrom> ┆ Dusky metalmark@eng         ┆ null       │\n",
       "│ null ┆ <Washington_Nationals>      ┆ <redirectedFrom> ┆ Washington Nats@eng         ┆ null       │\n",
       "└──────┴─────────────────────────────┴──────────────────┴─────────────────────────────┴────────────┘"
      ]
     },
     "metadata": {},
     "output_type": "display_data"
    },
    {
     "name": "stdout",
     "output_type": "stream",
     "text": [
      "yagoRedirectLabels_fr.tsv\n"
     ]
    },
    {
     "data": {
      "text/html": [
       "<div><style>\n",
       ".dataframe > thead > tr,\n",
       ".dataframe > tbody > tr {\n",
       "  text-align: right;\n",
       "  white-space: pre-wrap;\n",
       "}\n",
       "</style>\n",
       "<small>shape: (1_271_074, 5)</small><table border=\"1\" class=\"dataframe\"><thead><tr><th>id</th><th>subject</th><th>predicate</th><th>cat_object</th><th>num_object</th></tr><tr><td>str</td><td>str</td><td>str</td><td>str</td><td>f64</td></tr></thead><tbody><tr><td>null</td><td>&quot;&lt;fr/Sans_Atout&gt;&quot;</td><td>&quot;&lt;redirectedFrom&gt;&quot;</td><td>&quot;Sans-Atout@fra&quot;</td><td>null</td></tr><tr><td>null</td><td>&quot;&lt;St._Cecilia_Mass&gt;&quot;</td><td>&quot;&lt;redirectedFrom&gt;&quot;</td><td>&quot;Messe solennelle en l&#x27;honneur de sainte Cécile@fra&quot;</td><td>null</td></tr><tr><td>null</td><td>&quot;&lt;Saint-Jacques-de-Néhou&gt;&quot;</td><td>&quot;&lt;redirectedFrom&gt;&quot;</td><td>&quot;Saint-jacques-de-néhou@fra&quot;</td><td>null</td></tr><tr><td>null</td><td>&quot;&lt;Bockstael_metro_station&gt;&quot;</td><td>&quot;&lt;redirectedFrom&gt;&quot;</td><td>&quot;Bockstael (métro de bruxelles)@fra&quot;</td><td>null</td></tr><tr><td>null</td><td>&quot;&lt;fr/Championnat_de_Tunisie_masculin_de_handball_1981-1982&gt;&quot;</td><td>&quot;&lt;redirectedFrom&gt;&quot;</td><td>&quot;Championnat de Tunisie de handball masculin 1981-1982@fra&quot;</td><td>null</td></tr><tr><td>null</td><td>&quot;&lt;Music_Canada&gt;&quot;</td><td>&quot;&lt;redirectedFrom&gt;&quot;</td><td>&quot;Canadian Recording Industry Association@fra&quot;</td><td>null</td></tr><tr><td>null</td><td>&quot;&lt;James_Guthrie_(Kentucky_politician)&gt;&quot;</td><td>&quot;&lt;redirectedFrom&gt;&quot;</td><td>&quot;James Guthrie (politique)@fra&quot;</td><td>null</td></tr><tr><td>null</td><td>&quot;&lt;Nathalie_Sergueiew&gt;&quot;</td><td>&quot;&lt;redirectedFrom&gt;&quot;</td><td>&quot;Lily Sergueïev@fra&quot;</td><td>null</td></tr><tr><td>null</td><td>&quot;&lt;Don&#x27;t_Know_What_You_Got_(Till_It&#x27;s_Gone)&gt;&quot;</td><td>&quot;&lt;redirectedFrom&gt;&quot;</td><td>&quot;Don&#x27;t Know What You Got@fra&quot;</td><td>null</td></tr><tr><td>null</td><td>&quot;&lt;Glâne_District&gt;&quot;</td><td>&quot;&lt;redirectedFrom&gt;&quot;</td><td>&quot;District De La Glâne@fra&quot;</td><td>null</td></tr><tr><td>null</td><td>&quot;&lt;Zarafshon&gt;&quot;</td><td>&quot;&lt;redirectedFrom&gt;&quot;</td><td>&quot;Zarafshon@fra&quot;</td><td>null</td></tr><tr><td>null</td><td>&quot;&lt;Round_bracket&gt;&quot;</td><td>&quot;&lt;redirectedFrom&gt;&quot;</td><td>&quot;(@fra&quot;</td><td>null</td></tr><tr><td>&hellip;</td><td>&hellip;</td><td>&hellip;</td><td>&hellip;</td><td>&hellip;</td></tr><tr><td>null</td><td>&quot;&lt;Azure_jay&gt;&quot;</td><td>&quot;&lt;redirectedFrom&gt;&quot;</td><td>&quot;Cyanocorax caeruleus@fra&quot;</td><td>null</td></tr><tr><td>null</td><td>&quot;&lt;Toricella_Hospital&gt;&quot;</td><td>&quot;&lt;redirectedFrom&gt;&quot;</td><td>&quot;Toricella Hospital@fra&quot;</td><td>null</td></tr><tr><td>null</td><td>&quot;&lt;Charles,_Duke_of_Brittany&gt;&quot;</td><td>&quot;&lt;redirectedFrom&gt;&quot;</td><td>&quot;Charles De Blois@fra&quot;</td><td>null</td></tr><tr><td>null</td><td>&quot;&lt;Tarzan_the_Fearless&gt;&quot;</td><td>&quot;&lt;redirectedFrom&gt;&quot;</td><td>&quot;Tarzan l’Intrépide@fra&quot;</td><td>null</td></tr><tr><td>null</td><td>&quot;&lt;Polymetal_International&gt;&quot;</td><td>&quot;&lt;redirectedFrom&gt;&quot;</td><td>&quot;Polymetal JSC@fra&quot;</td><td>null</td></tr><tr><td>null</td><td>&quot;&lt;Wise_County,_Texas&gt;&quot;</td><td>&quot;&lt;redirectedFrom&gt;&quot;</td><td>&quot;Comté de wise (texas)@fra&quot;</td><td>null</td></tr><tr><td>null</td><td>&quot;&lt;Robert_L._Usinger&gt;&quot;</td><td>&quot;&lt;redirectedFrom&gt;&quot;</td><td>&quot;Robert L. Usinger@fra&quot;</td><td>null</td></tr><tr><td>null</td><td>&quot;&lt;Ovidie&gt;&quot;</td><td>&quot;&lt;redirectedFrom&gt;&quot;</td><td>&quot;Éloïse Delsart@fra&quot;</td><td>null</td></tr><tr><td>null</td><td>&quot;&lt;Boris_Pašanski&gt;&quot;</td><td>&quot;&lt;redirectedFrom&gt;&quot;</td><td>&quot;Boris Pashanski@fra&quot;</td><td>null</td></tr><tr><td>null</td><td>&quot;&lt;Zlydzens&gt;&quot;</td><td>&quot;&lt;redirectedFrom&gt;&quot;</td><td>&quot;Zlydzens@fra&quot;</td><td>null</td></tr><tr><td>null</td><td>&quot;&lt;fr/Douze_Apôtres&gt;&quot;</td><td>&quot;&lt;redirectedFrom&gt;&quot;</td><td>&quot;Douze apôtres@fra&quot;</td><td>null</td></tr><tr><td>null</td><td>&quot;&lt;Hero_(2002_film)&gt;&quot;</td><td>&quot;&lt;redirectedFrom&gt;&quot;</td><td>&quot;Hero (film)@fra&quot;</td><td>null</td></tr></tbody></table></div>"
      ],
      "text/plain": [
       "shape: (1_271_074, 5)\n",
       "┌──────┬─────────────────────────────┬──────────────────┬─────────────────────────────┬────────────┐\n",
       "│ id   ┆ subject                     ┆ predicate        ┆ cat_object                  ┆ num_object │\n",
       "│ ---  ┆ ---                         ┆ ---              ┆ ---                         ┆ ---        │\n",
       "│ str  ┆ str                         ┆ str              ┆ str                         ┆ f64        │\n",
       "╞══════╪═════════════════════════════╪══════════════════╪═════════════════════════════╪════════════╡\n",
       "│ null ┆ <fr/Sans_Atout>             ┆ <redirectedFrom> ┆ Sans-Atout@fra              ┆ null       │\n",
       "│ null ┆ <St._Cecilia_Mass>          ┆ <redirectedFrom> ┆ Messe solennelle en         ┆ null       │\n",
       "│      ┆                             ┆                  ┆ l'honneur de sainte         ┆            │\n",
       "│      ┆                             ┆                  ┆ Cécile@fra                  ┆            │\n",
       "│ null ┆ <Saint-Jacques-de-Néhou>    ┆ <redirectedFrom> ┆ Saint-jacques-de-néhou@fra  ┆ null       │\n",
       "│ null ┆ <Bockstael_metro_station>   ┆ <redirectedFrom> ┆ Bockstael (métro de         ┆ null       │\n",
       "│      ┆                             ┆                  ┆ bruxelles)@fra              ┆            │\n",
       "│ null ┆ <fr/Championnat_de_Tunisie_ ┆ <redirectedFrom> ┆ Championnat de Tunisie de   ┆ null       │\n",
       "│      ┆ masculin_de_handball_1981-1 ┆                  ┆ handball masculin           ┆            │\n",
       "│      ┆ 982>                        ┆                  ┆ 1981-1982@fra               ┆            │\n",
       "│ …    ┆ …                           ┆ …                ┆ …                           ┆ …          │\n",
       "│ null ┆ <Ovidie>                    ┆ <redirectedFrom> ┆ Éloïse Delsart@fra          ┆ null       │\n",
       "│ null ┆ <Boris_Pašanski>            ┆ <redirectedFrom> ┆ Boris Pashanski@fra         ┆ null       │\n",
       "│ null ┆ <Zlydzens>                  ┆ <redirectedFrom> ┆ Zlydzens@fra                ┆ null       │\n",
       "│ null ┆ <fr/Douze_Apôtres>          ┆ <redirectedFrom> ┆ Douze apôtres@fra           ┆ null       │\n",
       "│ null ┆ <Hero_(2002_film)>          ┆ <redirectedFrom> ┆ Hero (film)@fra             ┆ null       │\n",
       "└──────┴─────────────────────────────┴──────────────────┴─────────────────────────────┴────────────┘"
      ]
     },
     "metadata": {},
     "output_type": "display_data"
    },
    {
     "name": "stdout",
     "output_type": "stream",
     "text": [
      "yagoSchema.tsv\n"
     ]
    },
    {
     "data": {
      "text/html": [
       "<div><style>\n",
       ".dataframe > thead > tr,\n",
       ".dataframe > tbody > tr {\n",
       "  text-align: right;\n",
       "  white-space: pre-wrap;\n",
       "}\n",
       "</style>\n",
       "<small>shape: (504, 5)</small><table border=\"1\" class=\"dataframe\"><thead><tr><th>id</th><th>subject</th><th>predicate</th><th>cat_object</th><th>num_object</th></tr><tr><td>str</td><td>str</td><td>str</td><td>str</td><td>f64</td></tr></thead><tbody><tr><td>&quot;&lt;id_E6n!IJn!Jr_O1n_0EsGYjWbi9&gt;&quot;</td><td>&quot;&lt;graduatedFrom&gt;&quot;</td><td>&quot;rdfs:range&quot;</td><td>&quot;&lt;wordnet_university_108286569&gt;&quot;</td><td>null</td></tr><tr><td>&quot;&lt;id_?RGufJFBdR_O1n_uRZHKm6aLD&gt;&quot;</td><td>&quot;&lt;hasGivenName&gt;&quot;</td><td>&quot;rdfs:range&quot;</td><td>&quot;xsd:string&quot;</td><td>null</td></tr><tr><td>&quot;&lt;id_EGcgvQQgMO_O1n_KukFM4VlQ7&gt;&quot;</td><td>&quot;&lt;_yagoMetadata&gt;&quot;</td><td>&quot;rdfs:range&quot;</td><td>&quot;xsd:String&quot;</td><td>null</td></tr><tr><td>&quot;&lt;id_AypJzCSjLb_O1n_KdEX!y?wiG&gt;&quot;</td><td>&quot;&lt;hasCurrency&gt;&quot;</td><td>&quot;rdfs:range&quot;</td><td>&quot;owl:Thing&quot;</td><td>null</td></tr><tr><td>&quot;&lt;id_?!VtKe8N6Z_O1n_uRZHKm6aLD&gt;&quot;</td><td>&quot;&lt;hasGeonamesClassId&gt;&quot;</td><td>&quot;rdfs:range&quot;</td><td>&quot;xsd:string&quot;</td><td>null</td></tr><tr><td>&quot;&lt;id_e!1Dxw5lnJ_O1n_hrUs8UA4yf&gt;&quot;</td><td>&quot;&lt;dealsWith&gt;&quot;</td><td>&quot;rdfs:range&quot;</td><td>&quot;&lt;wordnet_country_108544813&gt;&quot;</td><td>null</td></tr><tr><td>&quot;&lt;id_iqvUKl!ECA_O1n_uRZHKm6aLD&gt;&quot;</td><td>&quot;&lt;hasMotto&gt;&quot;</td><td>&quot;rdfs:range&quot;</td><td>&quot;xsd:string&quot;</td><td>null</td></tr><tr><td>&quot;&lt;id_w!UqetLWZe_O1n_FNZ17GW0Jo&gt;&quot;</td><td>&quot;&lt;hasNeighbor&gt;&quot;</td><td>&quot;rdfs:range&quot;</td><td>&quot;&lt;yagoGeoEntity&gt;&quot;</td><td>null</td></tr><tr><td>&quot;&lt;id_yqifFULyde_O1n_CkqeGfgJ0O&gt;&quot;</td><td>&quot;&lt;hasGDP&gt;&quot;</td><td>&quot;rdfs:range&quot;</td><td>&quot;&lt;yagoMonetaryValue&gt;&quot;</td><td>null</td></tr><tr><td>&quot;&lt;id_OGeTdRMinU_O1n_uRZHKm6aLD&gt;&quot;</td><td>&quot;&lt;hasAnchorText&gt;&quot;</td><td>&quot;rdfs:range&quot;</td><td>&quot;xsd:string&quot;</td><td>null</td></tr><tr><td>&quot;&lt;id_jWVaQR2bY9_O1n_2SNVASZbru&gt;&quot;</td><td>&quot;&lt;numberOfTranslations&gt;&quot;</td><td>&quot;rdfs:range&quot;</td><td>&quot;xsd:nonNegativeInteger&quot;</td><td>null</td></tr><tr><td>&quot;&lt;id_PqLKJQ?cf5_O1n_uRZHKm6aLD&gt;&quot;</td><td>&quot;&lt;hasLanguageCode&gt;&quot;</td><td>&quot;rdfs:range&quot;</td><td>&quot;xsd:string&quot;</td><td>null</td></tr><tr><td>&hellip;</td><td>&hellip;</td><td>&hellip;</td><td>&hellip;</td><td>&hellip;</td></tr><tr><td>&quot;&lt;id_tRIrEJL!nT_daA_KdEX!y?wiG&gt;&quot;</td><td>&quot;&lt;hasGeonamesEntityId&gt;&quot;</td><td>&quot;rdfs:domain&quot;</td><td>&quot;owl:Thing&quot;</td><td>null</td></tr><tr><td>&quot;&lt;id_kGbSYjGZCB_daA_mi61FY7bTp&gt;&quot;</td><td>&quot;&lt;endedOnDate&gt;&quot;</td><td>&quot;rdfs:domain&quot;</td><td>&quot;&lt;wordnet_event_100029378&gt;&quot;</td><td>null</td></tr><tr><td>&quot;&lt;id_Tm9RdHdkiF_daA_Kp8P64YJ0f&gt;&quot;</td><td>&quot;&lt;extractionSource&gt;&quot;</td><td>&quot;rdfs:domain&quot;</td><td>&quot;rdf:Statement&quot;</td><td>null</td></tr><tr><td>&quot;&lt;id_sVq5ALqqX_daA_Kp8P64YJ0f&gt;&quot;</td><td>&quot;&lt;occursIn&gt;&quot;</td><td>&quot;rdfs:domain&quot;</td><td>&quot;rdf:Statement&quot;</td><td>null</td></tr><tr><td>&quot;&lt;id_W2WBXlHDuy_daA_KdEX!y?wiG&gt;&quot;</td><td>&quot;&lt;hasWebsite&gt;&quot;</td><td>&quot;rdfs:domain&quot;</td><td>&quot;owl:Thing&quot;</td><td>null</td></tr><tr><td>&quot;&lt;id_Vl!Ut3itCq_daA_KdEX!y?wiG&gt;&quot;</td><td>&quot;&lt;hasWikipediaCategory&gt;&quot;</td><td>&quot;rdfs:domain&quot;</td><td>&quot;owl:Thing&quot;</td><td>null</td></tr><tr><td>&quot;&lt;id_dkbE?83Aw1_daA_KdEX!y?wiG&gt;&quot;</td><td>&quot;&lt;hasWikipediaId&gt;&quot;</td><td>&quot;rdfs:domain&quot;</td><td>&quot;owl:Thing&quot;</td><td>null</td></tr><tr><td>&quot;&lt;id_hM9FlOGtXs_daA_66Yy!EOgKV&gt;&quot;</td><td>&quot;&lt;hasExport&gt;&quot;</td><td>&quot;rdfs:domain&quot;</td><td>&quot;&lt;wordnet_location_100027167&gt;&quot;</td><td>null</td></tr><tr><td>&quot;&lt;id_Z2!3sO2eXU_daA_KdEX!y?wiG&gt;&quot;</td><td>&quot;&lt;hasWikipediaAbstract&gt;&quot;</td><td>&quot;rdfs:domain&quot;</td><td>&quot;owl:Thing&quot;</td><td>null</td></tr><tr><td>&quot;&lt;id_ncNt6rsDFq_daA_KdEX!y?wiG&gt;&quot;</td><td>&quot;&lt;permanentRelationToObject&gt;&quot;</td><td>&quot;rdfs:domain&quot;</td><td>&quot;owl:Thing&quot;</td><td>null</td></tr><tr><td>&quot;&lt;id_NBwSS2BkQ1_daA_8Giy5xWJit&gt;&quot;</td><td>&quot;&lt;hasRevenue&gt;&quot;</td><td>&quot;rdfs:domain&quot;</td><td>&quot;&lt;yagoLegalActorGeo&gt;&quot;</td><td>null</td></tr><tr><td>&quot;&lt;id_itrojroAcp_daA_9o9YmDSiad&gt;&quot;</td><td>&quot;&lt;holdsPoliticalPosition&gt;&quot;</td><td>&quot;rdfs:domain&quot;</td><td>&quot;&lt;wordnet_person_100007846&gt;&quot;</td><td>null</td></tr></tbody></table></div>"
      ],
      "text/plain": [
       "shape: (504, 5)\n",
       "┌───────────────────────┬───────────────────────┬─────────────┬───────────────────────┬────────────┐\n",
       "│ id                    ┆ subject               ┆ predicate   ┆ cat_object            ┆ num_object │\n",
       "│ ---                   ┆ ---                   ┆ ---         ┆ ---                   ┆ ---        │\n",
       "│ str                   ┆ str                   ┆ str         ┆ str                   ┆ f64        │\n",
       "╞═══════════════════════╪═══════════════════════╪═════════════╪═══════════════════════╪════════════╡\n",
       "│ <id_E6n!IJn!Jr_O1n_0E ┆ <graduatedFrom>       ┆ rdfs:range  ┆ <wordnet_university_1 ┆ null       │\n",
       "│ sGYjWbi9>             ┆                       ┆             ┆ 08286569>             ┆            │\n",
       "│ <id_?RGufJFBdR_O1n_uR ┆ <hasGivenName>        ┆ rdfs:range  ┆ xsd:string            ┆ null       │\n",
       "│ ZHKm6aLD>             ┆                       ┆             ┆                       ┆            │\n",
       "│ <id_EGcgvQQgMO_O1n_Ku ┆ <_yagoMetadata>       ┆ rdfs:range  ┆ xsd:String            ┆ null       │\n",
       "│ kFM4VlQ7>             ┆                       ┆             ┆                       ┆            │\n",
       "│ <id_AypJzCSjLb_O1n_Kd ┆ <hasCurrency>         ┆ rdfs:range  ┆ owl:Thing             ┆ null       │\n",
       "│ EX!y?wiG>             ┆                       ┆             ┆                       ┆            │\n",
       "│ <id_?!VtKe8N6Z_O1n_uR ┆ <hasGeonamesClassId>  ┆ rdfs:range  ┆ xsd:string            ┆ null       │\n",
       "│ ZHKm6aLD>             ┆                       ┆             ┆                       ┆            │\n",
       "│ …                     ┆ …                     ┆ …           ┆ …                     ┆ …          │\n",
       "│ <id_hM9FlOGtXs_daA_66 ┆ <hasExport>           ┆ rdfs:domain ┆ <wordnet_location_100 ┆ null       │\n",
       "│ Yy!EOgKV>             ┆                       ┆             ┆ 027167>               ┆            │\n",
       "│ <id_Z2!3sO2eXU_daA_Kd ┆ <hasWikipediaAbstract ┆ rdfs:domain ┆ owl:Thing             ┆ null       │\n",
       "│ EX!y?wiG>             ┆ >                     ┆             ┆                       ┆            │\n",
       "│ <id_ncNt6rsDFq_daA_Kd ┆ <permanentRelationToO ┆ rdfs:domain ┆ owl:Thing             ┆ null       │\n",
       "│ EX!y?wiG>             ┆ bject>                ┆             ┆                       ┆            │\n",
       "│ <id_NBwSS2BkQ1_daA_8G ┆ <hasRevenue>          ┆ rdfs:domain ┆ <yagoLegalActorGeo>   ┆ null       │\n",
       "│ iy5xWJit>             ┆                       ┆             ┆                       ┆            │\n",
       "│ <id_itrojroAcp_daA_9o ┆ <holdsPoliticalPositi ┆ rdfs:domain ┆ <wordnet_person_10000 ┆ null       │\n",
       "│ 9YmDSiad>             ┆ on>                   ┆             ┆ 7846>                 ┆            │\n",
       "└───────────────────────┴───────────────────────┴─────────────┴───────────────────────┴────────────┘"
      ]
     },
     "metadata": {},
     "output_type": "display_data"
    },
    {
     "name": "stdout",
     "output_type": "stream",
     "text": [
      "yagoSimpleTaxonomy.tsv\n"
     ]
    },
    {
     "data": {
      "text/html": [
       "<div><style>\n",
       ".dataframe > thead > tr,\n",
       ".dataframe > tbody > tr {\n",
       "  text-align: right;\n",
       "  white-space: pre-wrap;\n",
       "}\n",
       "</style>\n",
       "<small>shape: (854_977, 5)</small><table border=\"1\" class=\"dataframe\"><thead><tr><th>id</th><th>subject</th><th>predicate</th><th>cat_object</th><th>num_object</th></tr><tr><td>str</td><td>str</td><td>str</td><td>str</td><td>f64</td></tr></thead><tbody><tr><td>null</td><td>&quot;&lt;wordnet_person_100007846&gt;&quot;</td><td>&quot;rdfs:subClassOf&quot;</td><td>&quot;owl:Thing&quot;</td><td>null</td></tr><tr><td>null</td><td>&quot;&lt;wordnet_person_100007846&gt;&quot;</td><td>&quot;owl:disjointWith&quot;</td><td>&quot;&lt;wordnet_organization_108008335&gt;&quot;</td><td>null</td></tr><tr><td>null</td><td>&quot;&lt;wordnet_person_100007846&gt;&quot;</td><td>&quot;owl:disjointWith&quot;</td><td>&quot;&lt;wordnet_building_102913152&gt;&quot;</td><td>null</td></tr><tr><td>null</td><td>&quot;&lt;wordnet_person_100007846&gt;&quot;</td><td>&quot;owl:disjointWith&quot;</td><td>&quot;&lt;yagoGeoEntity&gt;&quot;</td><td>null</td></tr><tr><td>null</td><td>&quot;&lt;wordnet_person_100007846&gt;&quot;</td><td>&quot;owl:disjointWith&quot;</td><td>&quot;&lt;wordnet_artifact_100021939&gt;&quot;</td><td>null</td></tr><tr><td>null</td><td>&quot;&lt;wordnet_person_100007846&gt;&quot;</td><td>&quot;owl:disjointWith&quot;</td><td>&quot;&lt;wordnet_abstraction_100002137&gt;&quot;</td><td>null</td></tr><tr><td>null</td><td>&quot;&lt;wordnet_person_100007846&gt;&quot;</td><td>&quot;owl:disjointWith&quot;</td><td>&quot;&lt;wordnet_physical_entity_100001930&gt;&quot;</td><td>null</td></tr><tr><td>null</td><td>&quot;&lt;wordnet_organization_108008335&gt;&quot;</td><td>&quot;rdfs:subClassOf&quot;</td><td>&quot;owl:Thing&quot;</td><td>null</td></tr><tr><td>null</td><td>&quot;&lt;wordnet_organization_108008335&gt;&quot;</td><td>&quot;owl:disjointWith&quot;</td><td>&quot;&lt;wordnet_person_100007846&gt;&quot;</td><td>null</td></tr><tr><td>null</td><td>&quot;&lt;wordnet_organization_108008335&gt;&quot;</td><td>&quot;owl:disjointWith&quot;</td><td>&quot;&lt;wordnet_building_102913152&gt;&quot;</td><td>null</td></tr><tr><td>null</td><td>&quot;&lt;wordnet_organization_108008335&gt;&quot;</td><td>&quot;owl:disjointWith&quot;</td><td>&quot;&lt;yagoGeoEntity&gt;&quot;</td><td>null</td></tr><tr><td>null</td><td>&quot;&lt;wordnet_organization_108008335&gt;&quot;</td><td>&quot;owl:disjointWith&quot;</td><td>&quot;&lt;wordnet_artifact_100021939&gt;&quot;</td><td>null</td></tr><tr><td>&hellip;</td><td>&hellip;</td><td>&hellip;</td><td>&hellip;</td><td>&hellip;</td></tr><tr><td>null</td><td>&quot;&lt;wikicat_Looney_Tunes_characters&gt;&quot;</td><td>&quot;rdfs:subClassOf&quot;</td><td>&quot;&lt;wordnet_abstraction_100002137&gt;&quot;</td><td>null</td></tr><tr><td>null</td><td>&quot;&lt;wikicat_Suffolk_Wildcats_players&gt;&quot;</td><td>&quot;rdfs:subClassOf&quot;</td><td>&quot;&lt;wordnet_person_100007846&gt;&quot;</td><td>null</td></tr><tr><td>null</td><td>&quot;&lt;wikicat_11th-century_Christian_saints&gt;&quot;</td><td>&quot;rdfs:subClassOf&quot;</td><td>&quot;&lt;wordnet_person_100007846&gt;&quot;</td><td>null</td></tr><tr><td>null</td><td>&quot;&lt;wikicat_Deputies_of_the_6th_National_Assembly_of_the_French_Fifth_Republic&gt;&quot;</td><td>&quot;rdfs:subClassOf&quot;</td><td>&quot;&lt;wordnet_person_100007846&gt;&quot;</td><td>null</td></tr><tr><td>null</td><td>&quot;&lt;wikicat_Russian_Empire_prisoners_and_detainees&gt;&quot;</td><td>&quot;rdfs:subClassOf&quot;</td><td>&quot;&lt;wordnet_person_100007846&gt;&quot;</td><td>null</td></tr><tr><td>null</td><td>&quot;&lt;wikicat_Portuguese_female_long_jumpers&gt;&quot;</td><td>&quot;rdfs:subClassOf&quot;</td><td>&quot;&lt;wordnet_person_100007846&gt;&quot;</td><td>null</td></tr><tr><td>null</td><td>&quot;&lt;wikicat_After_Forever_albums&gt;&quot;</td><td>&quot;rdfs:subClassOf&quot;</td><td>&quot;&lt;wordnet_artifact_100021939&gt;&quot;</td><td>null</td></tr><tr><td>null</td><td>&quot;&lt;wikicat_Vietnamese_female_tennis_players&gt;&quot;</td><td>&quot;rdfs:subClassOf&quot;</td><td>&quot;&lt;wordnet_person_100007846&gt;&quot;</td><td>null</td></tr><tr><td>null</td><td>&quot;&lt;wikicat_People_from_Warren_County,_Indiana&gt;&quot;</td><td>&quot;rdfs:subClassOf&quot;</td><td>&quot;&lt;wordnet_person_100007846&gt;&quot;</td><td>null</td></tr><tr><td>null</td><td>&quot;&lt;wikicat_Romani-language_singers&gt;&quot;</td><td>&quot;rdfs:subClassOf&quot;</td><td>&quot;&lt;wordnet_person_100007846&gt;&quot;</td><td>null</td></tr><tr><td>null</td><td>&quot;&lt;wikicat_Municipalities_in_Paraná&gt;&quot;</td><td>&quot;rdfs:subClassOf&quot;</td><td>&quot;&lt;yagoGeoEntity&gt;&quot;</td><td>null</td></tr><tr><td>null</td><td>&quot;&lt;wikicat_May_2022_sports_events_in_Australia&gt;&quot;</td><td>&quot;rdfs:subClassOf&quot;</td><td>&quot;&lt;wordnet_abstraction_100002137&gt;&quot;</td><td>null</td></tr></tbody></table></div>"
      ],
      "text/plain": [
       "shape: (854_977, 5)\n",
       "┌──────┬─────────────────────────────┬──────────────────┬─────────────────────────────┬────────────┐\n",
       "│ id   ┆ subject                     ┆ predicate        ┆ cat_object                  ┆ num_object │\n",
       "│ ---  ┆ ---                         ┆ ---              ┆ ---                         ┆ ---        │\n",
       "│ str  ┆ str                         ┆ str              ┆ str                         ┆ f64        │\n",
       "╞══════╪═════════════════════════════╪══════════════════╪═════════════════════════════╪════════════╡\n",
       "│ null ┆ <wordnet_person_100007846>  ┆ rdfs:subClassOf  ┆ owl:Thing                   ┆ null       │\n",
       "│ null ┆ <wordnet_person_100007846>  ┆ owl:disjointWith ┆ <wordnet_organization_10800 ┆ null       │\n",
       "│      ┆                             ┆                  ┆ 8335>                       ┆            │\n",
       "│ null ┆ <wordnet_person_100007846>  ┆ owl:disjointWith ┆ <wordnet_building_102913152 ┆ null       │\n",
       "│      ┆                             ┆                  ┆ >                           ┆            │\n",
       "│ null ┆ <wordnet_person_100007846>  ┆ owl:disjointWith ┆ <yagoGeoEntity>             ┆ null       │\n",
       "│ null ┆ <wordnet_person_100007846>  ┆ owl:disjointWith ┆ <wordnet_artifact_100021939 ┆ null       │\n",
       "│      ┆                             ┆                  ┆ >                           ┆            │\n",
       "│ …    ┆ …                           ┆ …                ┆ …                           ┆ …          │\n",
       "│ null ┆ <wikicat_Vietnamese_female_ ┆ rdfs:subClassOf  ┆ <wordnet_person_100007846>  ┆ null       │\n",
       "│      ┆ tennis_players>             ┆                  ┆                             ┆            │\n",
       "│ null ┆ <wikicat_People_from_Warren ┆ rdfs:subClassOf  ┆ <wordnet_person_100007846>  ┆ null       │\n",
       "│      ┆ _County,_Indiana>           ┆                  ┆                             ┆            │\n",
       "│ null ┆ <wikicat_Romani-language_si ┆ rdfs:subClassOf  ┆ <wordnet_person_100007846>  ┆ null       │\n",
       "│      ┆ ngers>                      ┆                  ┆                             ┆            │\n",
       "│ null ┆ <wikicat_Municipalities_in_ ┆ rdfs:subClassOf  ┆ <yagoGeoEntity>             ┆ null       │\n",
       "│      ┆ Paraná>                     ┆                  ┆                             ┆            │\n",
       "│ null ┆ <wikicat_May_2022_sports_ev ┆ rdfs:subClassOf  ┆ <wordnet_abstraction_100002 ┆ null       │\n",
       "│      ┆ ents_in_Australia>          ┆                  ┆ 137>                        ┆            │\n",
       "└──────┴─────────────────────────────┴──────────────────┴─────────────────────────────┴────────────┘"
      ]
     },
     "metadata": {},
     "output_type": "display_data"
    },
    {
     "name": "stdout",
     "output_type": "stream",
     "text": [
      "yagoSimpleTypes.tsv\n"
     ]
    },
    {
     "data": {
      "text/html": [
       "<div><style>\n",
       ".dataframe > thead > tr,\n",
       ".dataframe > tbody > tr {\n",
       "  text-align: right;\n",
       "  white-space: pre-wrap;\n",
       "}\n",
       "</style>\n",
       "<small>shape: (27_416_726, 5)</small><table border=\"1\" class=\"dataframe\"><thead><tr><th>id</th><th>subject</th><th>predicate</th><th>cat_object</th><th>num_object</th></tr><tr><td>str</td><td>str</td><td>str</td><td>str</td><td>f64</td></tr></thead><tbody><tr><td>null</td><td>&quot;&lt;Mark_Wagh&gt;&quot;</td><td>&quot;rdf:type&quot;</td><td>&quot;&lt;wikicat_Warwickshire_cricketers&gt;&quot;</td><td>null</td></tr><tr><td>null</td><td>&quot;&lt;Juan_Almonte&gt;&quot;</td><td>&quot;rdf:type&quot;</td><td>&quot;&lt;wikicat_Mexican_diplomats&gt;&quot;</td><td>null</td></tr><tr><td>null</td><td>&quot;&lt;Koçlu,_Bayramören&gt;&quot;</td><td>&quot;rdf:type&quot;</td><td>&quot;&lt;wikicat_Villages_in_Bayramören_District&gt;&quot;</td><td>null</td></tr><tr><td>null</td><td>&quot;&lt;Birthday_(1977_film)&gt;&quot;</td><td>&quot;rdf:type&quot;</td><td>&quot;&lt;wikicat_Azerbaijani_musical_films&gt;&quot;</td><td>null</td></tr><tr><td>null</td><td>&quot;&lt;Barbara_Bailey_(artist)&gt;&quot;</td><td>&quot;rdf:type&quot;</td><td>&quot;&lt;wikicat_Schoolteachers_from_Sussex&gt;&quot;</td><td>null</td></tr><tr><td>null</td><td>&quot;&lt;Aarti_Chabria&gt;&quot;</td><td>&quot;rdf:type&quot;</td><td>&quot;&lt;wikicat_Actresses_from_Mumbai&gt;&quot;</td><td>null</td></tr><tr><td>null</td><td>&quot;&lt;Josh_Richman&gt;&quot;</td><td>&quot;rdf:type&quot;</td><td>&quot;&lt;wordnet_person_100007846&gt;&quot;</td><td>null</td></tr><tr><td>null</td><td>&quot;&lt;Benny_Steck&gt;&quot;</td><td>&quot;rdf:type&quot;</td><td>&quot;&lt;wikicat_Ottawa_Rough_Riders_players&gt;&quot;</td><td>null</td></tr><tr><td>null</td><td>&quot;&lt;Økonomisk_Rapport&gt;&quot;</td><td>&quot;rdf:type&quot;</td><td>&quot;&lt;wikicat_Norwegian-language_magazines&gt;&quot;</td><td>null</td></tr><tr><td>null</td><td>&quot;&lt;Anders_Nordstad&gt;&quot;</td><td>&quot;rdf:type&quot;</td><td>&quot;&lt;wikicat_Frigg_Oslo_FK_players&gt;&quot;</td><td>null</td></tr><tr><td>null</td><td>&quot;&lt;John_W._Skinner&gt;&quot;</td><td>&quot;rdf:type&quot;</td><td>&quot;&lt;wikicat_Heads_of_schools_in_England&gt;&quot;</td><td>null</td></tr><tr><td>null</td><td>&quot;&lt;Without_You_(The_Kid_Laroi_song)&gt;&quot;</td><td>&quot;rdf:type&quot;</td><td>&quot;&lt;wikicat_Pop_ballads&gt;&quot;</td><td>null</td></tr><tr><td>&hellip;</td><td>&hellip;</td><td>&hellip;</td><td>&hellip;</td><td>&hellip;</td></tr><tr><td>null</td><td>&quot;&lt;Sergels_torg_(song)&gt;&quot;</td><td>&quot;rdf:type&quot;</td><td>&quot;&lt;wordnet_song_107048000&gt;&quot;</td><td>null</td></tr><tr><td>null</td><td>&quot;&lt;Chris_Campbell_(golfer)&gt;&quot;</td><td>&quot;rdf:type&quot;</td><td>&quot;&lt;wikicat_Australian_male_golfers&gt;&quot;</td><td>null</td></tr><tr><td>null</td><td>&quot;&lt;Terje_Nilsen&gt;&quot;</td><td>&quot;rdf:type&quot;</td><td>&quot;&lt;wikicat_Spellemannprisen_winners&gt;&quot;</td><td>null</td></tr><tr><td>null</td><td>&quot;&lt;Richard_Bellingham&gt;&quot;</td><td>&quot;rdf:type&quot;</td><td>&quot;&lt;wikicat_Lieutenant_Governors_of_colonial_Massachusetts&gt;&quot;</td><td>null</td></tr><tr><td>null</td><td>&quot;&lt;Toshio_Ōtsu&gt;&quot;</td><td>&quot;rdf:type&quot;</td><td>&quot;&lt;wikicat_Governors_of_Saitama_Prefecture&gt;&quot;</td><td>null</td></tr><tr><td>null</td><td>&quot;&lt;Burhan_Doğançay&gt;&quot;</td><td>&quot;rdf:type&quot;</td><td>&quot;&lt;wikicat_20th-century_American_painters&gt;&quot;</td><td>null</td></tr><tr><td>null</td><td>&quot;&lt;Steve_Spooner&gt;&quot;</td><td>&quot;rdf:type&quot;</td><td>&quot;&lt;wikicat_Derby_County_F.C._players&gt;&quot;</td><td>null</td></tr><tr><td>null</td><td>&quot;&lt;Denis_Heagney&gt;&quot;</td><td>&quot;rdf:type&quot;</td><td>&quot;&lt;wikicat_Geelong_Football_Club_players&gt;&quot;</td><td>null</td></tr><tr><td>null</td><td>&quot;&lt;For_all_tid&gt;&quot;</td><td>&quot;rdf:type&quot;</td><td>&quot;&lt;wikicat_Dimmu_Borgir_albums&gt;&quot;</td><td>null</td></tr><tr><td>null</td><td>&quot;&lt;Ōpūrehu_River&gt;&quot;</td><td>&quot;rdf:type&quot;</td><td>&quot;&lt;wordnet_river_109411430&gt;&quot;</td><td>null</td></tr><tr><td>null</td><td>&quot;&lt;Utixo&gt;&quot;</td><td>&quot;rdf:type&quot;</td><td>&quot;&lt;wikicat_Rain_deities&gt;&quot;</td><td>null</td></tr><tr><td>null</td><td>&quot;&lt;fr/Sœurs_de_la_Foi&gt;&quot;</td><td>&quot;rdf:type&quot;</td><td>&quot;&lt;wikicat_Catholic_female_orders_and_societies&gt;&quot;</td><td>null</td></tr></tbody></table></div>"
      ],
      "text/plain": [
       "shape: (27_416_726, 5)\n",
       "┌──────┬───────────────────────────┬───────────┬──────────────────────────────────────┬────────────┐\n",
       "│ id   ┆ subject                   ┆ predicate ┆ cat_object                           ┆ num_object │\n",
       "│ ---  ┆ ---                       ┆ ---       ┆ ---                                  ┆ ---        │\n",
       "│ str  ┆ str                       ┆ str       ┆ str                                  ┆ f64        │\n",
       "╞══════╪═══════════════════════════╪═══════════╪══════════════════════════════════════╪════════════╡\n",
       "│ null ┆ <Mark_Wagh>               ┆ rdf:type  ┆ <wikicat_Warwickshire_cricketers>    ┆ null       │\n",
       "│ null ┆ <Juan_Almonte>            ┆ rdf:type  ┆ <wikicat_Mexican_diplomats>          ┆ null       │\n",
       "│ null ┆ <Koçlu,_Bayramören>       ┆ rdf:type  ┆ <wikicat_Villages_in_Bayramören_Dist ┆ null       │\n",
       "│      ┆                           ┆           ┆ rict>                                ┆            │\n",
       "│ null ┆ <Birthday_(1977_film)>    ┆ rdf:type  ┆ <wikicat_Azerbaijani_musical_films>  ┆ null       │\n",
       "│ null ┆ <Barbara_Bailey_(artist)> ┆ rdf:type  ┆ <wikicat_Schoolteachers_from_Sussex> ┆ null       │\n",
       "│ …    ┆ …                         ┆ …         ┆ …                                    ┆ …          │\n",
       "│ null ┆ <Denis_Heagney>           ┆ rdf:type  ┆ <wikicat_Geelong_Football_Club_playe ┆ null       │\n",
       "│      ┆                           ┆           ┆ rs>                                  ┆            │\n",
       "│ null ┆ <For_all_tid>             ┆ rdf:type  ┆ <wikicat_Dimmu_Borgir_albums>        ┆ null       │\n",
       "│ null ┆ <Ōpūrehu_River>           ┆ rdf:type  ┆ <wordnet_river_109411430>            ┆ null       │\n",
       "│ null ┆ <Utixo>                   ┆ rdf:type  ┆ <wikicat_Rain_deities>               ┆ null       │\n",
       "│ null ┆ <fr/Sœurs_de_la_Foi>      ┆ rdf:type  ┆ <wikicat_Catholic_female_orders_and_ ┆ null       │\n",
       "│      ┆                           ┆           ┆ societies>                           ┆            │\n",
       "└──────┴───────────────────────────┴───────────┴──────────────────────────────────────┴────────────┘"
      ]
     },
     "metadata": {},
     "output_type": "display_data"
    },
    {
     "name": "stdout",
     "output_type": "stream",
     "text": [
      "yagoStatistics.tsv\n"
     ]
    },
    {
     "data": {
      "text/html": [
       "<div><style>\n",
       ".dataframe > thead > tr,\n",
       ".dataframe > tbody > tr {\n",
       "  text-align: right;\n",
       "  white-space: pre-wrap;\n",
       "}\n",
       "</style>\n",
       "<small>shape: (104, 5)</small><table border=\"1\" class=\"dataframe\"><thead><tr><th>id</th><th>subject</th><th>predicate</th><th>cat_object</th><th>num_object</th></tr><tr><td>str</td><td>str</td><td>str</td><td>str</td><td>f64</td></tr></thead><tbody><tr><td>null</td><td>&quot;&lt;yagoTheme_yagoDateFacts&gt;&quot;</td><td>&quot;&lt;hasNumber&gt;&quot;</td><td>&quot;4579207^^xsd:integer&quot;</td><td>4.579207e6</td></tr><tr><td>null</td><td>&quot;&lt;yagoTheme_yagoFacts&gt;&quot;</td><td>&quot;&lt;hasNumber&gt;&quot;</td><td>&quot;14826656^^xsd:integer&quot;</td><td>1.4826656e7</td></tr><tr><td>null</td><td>&quot;&lt;yagoTheme_yagoLabels&gt;&quot;</td><td>&quot;&lt;hasNumber&gt;&quot;</td><td>&quot;69211022^^xsd:integer&quot;</td><td>6.9211022e7</td></tr><tr><td>null</td><td>&quot;&lt;yagoTheme_yagoLiteralFacts&gt;&quot;</td><td>&quot;&lt;hasNumber&gt;&quot;</td><td>&quot;3282147^^xsd:integer&quot;</td><td>3.282147e6</td></tr><tr><td>null</td><td>&quot;&lt;yagoTheme_yagoMetaFacts&gt;&quot;</td><td>&quot;&lt;hasNumber&gt;&quot;</td><td>&quot;5668605^^xsd:integer&quot;</td><td>5.668605e6</td></tr><tr><td>null</td><td>&quot;&lt;yagoTheme_yagoSchema&gt;&quot;</td><td>&quot;&lt;hasNumber&gt;&quot;</td><td>&quot;505^^xsd:integer&quot;</td><td>505.0</td></tr><tr><td>null</td><td>&quot;&lt;yagoTheme_yagoTaxonomy&gt;&quot;</td><td>&quot;&lt;hasNumber&gt;&quot;</td><td>&quot;2469886^^xsd:integer&quot;</td><td>2.469886e6</td></tr><tr><td>null</td><td>&quot;&lt;yagoTheme_yagoTypes&gt;&quot;</td><td>&quot;&lt;hasNumber&gt;&quot;</td><td>&quot;27416728^^xsd:integer&quot;</td><td>2.7416728e7</td></tr><tr><td>null</td><td>&quot;&lt;yagoTheme_yagoWikipediaInfo_en&gt;&quot;</td><td>&quot;&lt;hasNumber&gt;&quot;</td><td>&quot;162187467^^xsd:integer&quot;</td><td>1.62187467e8</td></tr><tr><td>null</td><td>&quot;&lt;isConnectedTo&gt;&quot;</td><td>&quot;&lt;hasNumber&gt;&quot;</td><td>&quot;28008^^xsd:integer&quot;</td><td>28008.0</td></tr><tr><td>null</td><td>&quot;&lt;hasPopulationDensity&gt;&quot;</td><td>&quot;&lt;hasNumber&gt;&quot;</td><td>&quot;53300^^xsd:integer&quot;</td><td>53300.0</td></tr><tr><td>null</td><td>&quot;&lt;happenedIn&gt;&quot;</td><td>&quot;&lt;hasNumber&gt;&quot;</td><td>&quot;45590^^xsd:integer&quot;</td><td>45590.0</td></tr><tr><td>&hellip;</td><td>&hellip;</td><td>&hellip;</td><td>&hellip;</td><td>&hellip;</td></tr><tr><td>null</td><td>&quot;&lt;hasPredecessor&gt;&quot;</td><td>&quot;&lt;hasNumber&gt;&quot;</td><td>&quot;80529^^xsd:integer&quot;</td><td>80529.0</td></tr><tr><td>null</td><td>&quot;&lt;hasCapital&gt;&quot;</td><td>&quot;&lt;hasNumber&gt;&quot;</td><td>&quot;6810^^xsd:integer&quot;</td><td>6810.0</td></tr><tr><td>null</td><td>&quot;&lt;isMarriedTo&gt;&quot;</td><td>&quot;&lt;hasNumber&gt;&quot;</td><td>&quot;81185^^xsd:integer&quot;</td><td>81185.0</td></tr><tr><td>null</td><td>&quot;&lt;hasWikipediaUrl&gt;&quot;</td><td>&quot;&lt;hasNumber&gt;&quot;</td><td>&quot;12716342^^xsd:integer&quot;</td><td>1.2716342e7</td></tr><tr><td>null</td><td>&quot;&lt;occursSince&gt;&quot;</td><td>&quot;&lt;hasNumber&gt;&quot;</td><td>&quot;4325485^^xsd:integer&quot;</td><td>4.325485e6</td></tr><tr><td>null</td><td>&quot;&lt;hasLength&gt;&quot;</td><td>&quot;&lt;hasNumber&gt;&quot;</td><td>&quot;19796^^xsd:integer&quot;</td><td>19796.0</td></tr><tr><td>null</td><td>&quot;&lt;hasExpenses&gt;&quot;</td><td>&quot;&lt;hasNumber&gt;&quot;</td><td>&quot;684^^xsd:integer&quot;</td><td>684.0</td></tr><tr><td>null</td><td>&quot;&lt;occursUntil&gt;&quot;</td><td>&quot;&lt;hasNumber&gt;&quot;</td><td>&quot;1145969^^xsd:integer&quot;</td><td>1.145969e6</td></tr><tr><td>null</td><td>&quot;rdfs:domain&quot;</td><td>&quot;&lt;hasNumber&gt;&quot;</td><td>&quot;134^^xsd:integer&quot;</td><td>134.0</td></tr><tr><td>null</td><td>&quot;fr&quot;</td><td>&quot;&lt;hasNumberOfThings&gt;&quot;</td><td>&quot;553946^^xsd:integer&quot;</td><td>553946.0</td></tr><tr><td>null</td><td>&quot;&lt;YAGO_(database)&gt;&quot;</td><td>&quot;&lt;hasNumberOfThings&gt;&quot;</td><td>&quot;6089983^^xsd:integer&quot;</td><td>6.089983e6</td></tr><tr><td>null</td><td>&quot;&lt;YAGO_(database)&gt;&quot;</td><td>&quot;&lt;wasCreatedOnDate&gt;&quot;</td><td>&quot;2022-06-24^^xsd:date&quot;</td><td>2022.0624</td></tr></tbody></table></div>"
      ],
      "text/plain": [
       "shape: (104, 5)\n",
       "┌──────┬──────────────────────────────┬─────────────────────┬───────────────────────┬─────────────┐\n",
       "│ id   ┆ subject                      ┆ predicate           ┆ cat_object            ┆ num_object  │\n",
       "│ ---  ┆ ---                          ┆ ---                 ┆ ---                   ┆ ---         │\n",
       "│ str  ┆ str                          ┆ str                 ┆ str                   ┆ f64         │\n",
       "╞══════╪══════════════════════════════╪═════════════════════╪═══════════════════════╪═════════════╡\n",
       "│ null ┆ <yagoTheme_yagoDateFacts>    ┆ <hasNumber>         ┆ 4579207^^xsd:integer  ┆ 4.579207e6  │\n",
       "│ null ┆ <yagoTheme_yagoFacts>        ┆ <hasNumber>         ┆ 14826656^^xsd:integer ┆ 1.4826656e7 │\n",
       "│ null ┆ <yagoTheme_yagoLabels>       ┆ <hasNumber>         ┆ 69211022^^xsd:integer ┆ 6.9211022e7 │\n",
       "│ null ┆ <yagoTheme_yagoLiteralFacts> ┆ <hasNumber>         ┆ 3282147^^xsd:integer  ┆ 3.282147e6  │\n",
       "│ null ┆ <yagoTheme_yagoMetaFacts>    ┆ <hasNumber>         ┆ 5668605^^xsd:integer  ┆ 5.668605e6  │\n",
       "│ …    ┆ …                            ┆ …                   ┆ …                     ┆ …           │\n",
       "│ null ┆ <occursUntil>                ┆ <hasNumber>         ┆ 1145969^^xsd:integer  ┆ 1.145969e6  │\n",
       "│ null ┆ rdfs:domain                  ┆ <hasNumber>         ┆ 134^^xsd:integer      ┆ 134.0       │\n",
       "│ null ┆ fr                           ┆ <hasNumberOfThings> ┆ 553946^^xsd:integer   ┆ 553946.0    │\n",
       "│ null ┆ <YAGO_(database)>            ┆ <hasNumberOfThings> ┆ 6089983^^xsd:integer  ┆ 6.089983e6  │\n",
       "│ null ┆ <YAGO_(database)>            ┆ <wasCreatedOnDate>  ┆ 2022-06-24^^xsd:date  ┆ 2022.0624   │\n",
       "└──────┴──────────────────────────────┴─────────────────────┴───────────────────────┴─────────────┘"
      ]
     },
     "metadata": {},
     "output_type": "display_data"
    },
    {
     "name": "stdout",
     "output_type": "stream",
     "text": [
      "yagoWikidataInstances.tsv\n"
     ]
    },
    {
     "data": {
      "text/html": [
       "<div><style>\n",
       ".dataframe > thead > tr,\n",
       ".dataframe > tbody > tr {\n",
       "  text-align: right;\n",
       "  white-space: pre-wrap;\n",
       "}\n",
       "</style>\n",
       "<small>shape: (6_038_287, 5)</small><table border=\"1\" class=\"dataframe\"><thead><tr><th>id</th><th>subject</th><th>predicate</th><th>cat_object</th><th>num_object</th></tr><tr><td>str</td><td>str</td><td>str</td><td>str</td><td>f64</td></tr></thead><tbody><tr><td>null</td><td>&quot;&lt;Belgium&gt;&quot;</td><td>&quot;owl:sameAs&quot;</td><td>&quot;&lt;http://www.wikidata.org/entity/Q31&gt;&quot;</td><td>null</td></tr><tr><td>null</td><td>&quot;&lt;George_Washington&gt;&quot;</td><td>&quot;owl:sameAs&quot;</td><td>&quot;&lt;http://www.wikidata.org/entity/Q23&gt;&quot;</td><td>null</td></tr><tr><td>null</td><td>&quot;&lt;Jack_Bauer&gt;&quot;</td><td>&quot;owl:sameAs&quot;</td><td>&quot;&lt;http://www.wikidata.org/entity/Q24&gt;&quot;</td><td>null</td></tr><tr><td>null</td><td>&quot;&lt;Douglas_Adams&gt;&quot;</td><td>&quot;owl:sameAs&quot;</td><td>&quot;&lt;http://www.wikidata.org/entity/Q42&gt;&quot;</td><td>null</td></tr><tr><td>null</td><td>&quot;&lt;Paul_Otlet&gt;&quot;</td><td>&quot;owl:sameAs&quot;</td><td>&quot;&lt;http://www.wikidata.org/entity/Q1868&gt;&quot;</td><td>null</td></tr><tr><td>null</td><td>&quot;&lt;Wikidata&gt;&quot;</td><td>&quot;owl:sameAs&quot;</td><td>&quot;&lt;http://www.wikidata.org/entity/Q2013&gt;&quot;</td><td>null</td></tr><tr><td>null</td><td>&quot;&lt;Portugal&gt;&quot;</td><td>&quot;owl:sameAs&quot;</td><td>&quot;&lt;http://www.wikidata.org/entity/Q45&gt;&quot;</td><td>null</td></tr><tr><td>null</td><td>&quot;&lt;Antarctica&gt;&quot;</td><td>&quot;owl:sameAs&quot;</td><td>&quot;&lt;http://www.wikidata.org/entity/Q51&gt;&quot;</td><td>null</td></tr><tr><td>null</td><td>&quot;&lt;Supercalifragilisticexpialidocious&gt;&quot;</td><td>&quot;owl:sameAs&quot;</td><td>&quot;&lt;http://www.wikidata.org/entity/Q103&gt;&quot;</td><td>null</td></tr><tr><td>null</td><td>&quot;&lt;November&gt;&quot;</td><td>&quot;owl:sameAs&quot;</td><td>&quot;&lt;http://www.wikidata.org/entity/Q125&gt;&quot;</td><td>null</td></tr><tr><td>null</td><td>&quot;&lt;China&gt;&quot;</td><td>&quot;owl:sameAs&quot;</td><td>&quot;&lt;http://www.wikidata.org/entity/Q148&gt;&quot;</td><td>null</td></tr><tr><td>null</td><td>&quot;&lt;Brazil&gt;&quot;</td><td>&quot;owl:sameAs&quot;</td><td>&quot;&lt;http://www.wikidata.org/entity/Q155&gt;&quot;</td><td>null</td></tr><tr><td>&hellip;</td><td>&hellip;</td><td>&hellip;</td><td>&hellip;</td><td>&hellip;</td></tr><tr><td>null</td><td>&quot;&lt;Collector_of_Internal_Revenue_for_the_First_District_of_Illinois&gt;&quot;</td><td>&quot;owl:sameAs&quot;</td><td>&quot;&lt;http://www.wikidata.org/entity/Q112578509&gt;&quot;</td><td>null</td></tr><tr><td>null</td><td>&quot;&lt;Inauguration_of_Bongbong_Marcos&gt;&quot;</td><td>&quot;owl:sameAs&quot;</td><td>&quot;&lt;http://www.wikidata.org/entity/Q112578513&gt;&quot;</td><td>null</td></tr><tr><td>null</td><td>&quot;&lt;Members_of_the_Australian_Senate,_2022–2025&gt;&quot;</td><td>&quot;owl:sameAs&quot;</td><td>&quot;&lt;http://www.wikidata.org/entity/Q112578549&gt;&quot;</td><td>null</td></tr><tr><td>null</td><td>&quot;&lt;Kyoung-Shin_Choi&gt;&quot;</td><td>&quot;owl:sameAs&quot;</td><td>&quot;&lt;http://www.wikidata.org/entity/Q112578587&gt;&quot;</td><td>null</td></tr><tr><td>null</td><td>&quot;&lt;La_Travesia_Tour&gt;&quot;</td><td>&quot;owl:sameAs&quot;</td><td>&quot;&lt;http://www.wikidata.org/entity/Q112578611&gt;&quot;</td><td>null</td></tr><tr><td>null</td><td>&quot;&lt;Miracleman_(character)&gt;&quot;</td><td>&quot;owl:sameAs&quot;</td><td>&quot;&lt;http://www.wikidata.org/entity/Q112578661&gt;&quot;</td><td>null</td></tr><tr><td>null</td><td>&quot;&lt;fr/Joseph_Couture&gt;&quot;</td><td>&quot;owl:sameAs&quot;</td><td>&quot;&lt;http://www.wikidata.org/entity/Q112579181&gt;&quot;</td><td>null</td></tr><tr><td>null</td><td>&quot;&lt;Cesur_Durak&gt;&quot;</td><td>&quot;owl:sameAs&quot;</td><td>&quot;&lt;http://www.wikidata.org/entity/Q112579434&gt;&quot;</td><td>null</td></tr><tr><td>null</td><td>&quot;&lt;Caroline_Deutsch&gt;&quot;</td><td>&quot;owl:sameAs&quot;</td><td>&quot;&lt;http://www.wikidata.org/entity/Q112582709&gt;&quot;</td><td>null</td></tr><tr><td>null</td><td>&quot;&lt;Marie-Helene_Bertino&gt;&quot;</td><td>&quot;owl:sameAs&quot;</td><td>&quot;&lt;http://www.wikidata.org/entity/Q112583339&gt;&quot;</td><td>null</td></tr><tr><td>null</td><td>&quot;&lt;Myst_Milano&gt;&quot;</td><td>&quot;owl:sameAs&quot;</td><td>&quot;&lt;http://www.wikidata.org/entity/Q112584077&gt;&quot;</td><td>null</td></tr><tr><td>null</td><td>&quot;&lt;Dana_Douglas&gt;&quot;</td><td>&quot;owl:sameAs&quot;</td><td>&quot;&lt;http://www.wikidata.org/entity/Q112584133&gt;&quot;</td><td>null</td></tr></tbody></table></div>"
      ],
      "text/plain": [
       "shape: (6_038_287, 5)\n",
       "┌──────┬────────────────────────┬────────────┬────────────────────────────────────────┬────────────┐\n",
       "│ id   ┆ subject                ┆ predicate  ┆ cat_object                             ┆ num_object │\n",
       "│ ---  ┆ ---                    ┆ ---        ┆ ---                                    ┆ ---        │\n",
       "│ str  ┆ str                    ┆ str        ┆ str                                    ┆ f64        │\n",
       "╞══════╪════════════════════════╪════════════╪════════════════════════════════════════╪════════════╡\n",
       "│ null ┆ <Belgium>              ┆ owl:sameAs ┆ <http://www.wikidata.org/entity/Q31>   ┆ null       │\n",
       "│ null ┆ <George_Washington>    ┆ owl:sameAs ┆ <http://www.wikidata.org/entity/Q23>   ┆ null       │\n",
       "│ null ┆ <Jack_Bauer>           ┆ owl:sameAs ┆ <http://www.wikidata.org/entity/Q24>   ┆ null       │\n",
       "│ null ┆ <Douglas_Adams>        ┆ owl:sameAs ┆ <http://www.wikidata.org/entity/Q42>   ┆ null       │\n",
       "│ null ┆ <Paul_Otlet>           ┆ owl:sameAs ┆ <http://www.wikidata.org/entity/Q1868> ┆ null       │\n",
       "│ …    ┆ …                      ┆ …          ┆ …                                      ┆ …          │\n",
       "│ null ┆ <Cesur_Durak>          ┆ owl:sameAs ┆ <http://www.wikidata.org/entity/Q11257 ┆ null       │\n",
       "│      ┆                        ┆            ┆ 9434>                                  ┆            │\n",
       "│ null ┆ <Caroline_Deutsch>     ┆ owl:sameAs ┆ <http://www.wikidata.org/entity/Q11258 ┆ null       │\n",
       "│      ┆                        ┆            ┆ 2709>                                  ┆            │\n",
       "│ null ┆ <Marie-Helene_Bertino> ┆ owl:sameAs ┆ <http://www.wikidata.org/entity/Q11258 ┆ null       │\n",
       "│      ┆                        ┆            ┆ 3339>                                  ┆            │\n",
       "│ null ┆ <Myst_Milano>          ┆ owl:sameAs ┆ <http://www.wikidata.org/entity/Q11258 ┆ null       │\n",
       "│      ┆                        ┆            ┆ 4077>                                  ┆            │\n",
       "│ null ┆ <Dana_Douglas>         ┆ owl:sameAs ┆ <http://www.wikidata.org/entity/Q11258 ┆ null       │\n",
       "│      ┆                        ┆            ┆ 4133>                                  ┆            │\n",
       "└──────┴────────────────────────┴────────────┴────────────────────────────────────────┴────────────┘"
      ]
     },
     "metadata": {},
     "output_type": "display_data"
    },
    {
     "name": "stdout",
     "output_type": "stream",
     "text": [
      "yagoWikipediaInfo_fr.tsv\n"
     ]
    },
    {
     "data": {
      "text/html": [
       "<div><style>\n",
       ".dataframe > thead > tr,\n",
       ".dataframe > tbody > tr {\n",
       "  text-align: right;\n",
       "  white-space: pre-wrap;\n",
       "}\n",
       "</style>\n",
       "<small>shape: (43_131_886, 5)</small><table border=\"1\" class=\"dataframe\"><thead><tr><th>id</th><th>subject</th><th>predicate</th><th>cat_object</th><th>num_object</th></tr><tr><td>str</td><td>str</td><td>str</td><td>str</td><td>f64</td></tr></thead><tbody><tr><td>&quot;&lt;id_PSA3W26OQ1_MA?_wuOiHWNP6s&gt;&quot;</td><td>&quot;&lt;Antoine_Meillet&gt;&quot;</td><td>&quot;&lt;hasWikipediaArticleLength&gt;&quot;</td><td>&quot;12896^^xsd:integer&quot;</td><td>12896.0</td></tr><tr><td>&quot;&lt;id_PSA3W26OQ1_g7M_XCuVlbN3aF&gt;&quot;</td><td>&quot;&lt;Antoine_Meillet&gt;&quot;</td><td>&quot;&lt;hasWikipediaUrl&gt;&quot;</td><td>&quot;&lt;http://fr.wikipedia.org/wiki/Antoine_Meillet&gt;&quot;</td><td>null</td></tr><tr><td>&quot;&lt;id_PSA3W26OQ1_nXy_UfZKKaxTaw&gt;&quot;</td><td>&quot;&lt;Antoine_Meillet&gt;&quot;</td><td>&quot;&lt;linksTo&gt;&quot;</td><td>&quot;&lt;Cher_(department)&gt;&quot;</td><td>null</td></tr><tr><td>&quot;&lt;id_PSA3W26OQ1_nXy_r?psA2fSMw&gt;&quot;</td><td>&quot;&lt;Antoine_Meillet&gt;&quot;</td><td>&quot;&lt;linksTo&gt;&quot;</td><td>&quot;&lt;Michel_Bréal&gt;&quot;</td><td>null</td></tr><tr><td>&quot;&lt;id_PSA3W26OQ1_nXy_OC3oVMt00d&gt;&quot;</td><td>&quot;&lt;Antoine_Meillet&gt;&quot;</td><td>&quot;&lt;linksTo&gt;&quot;</td><td>&quot;&lt;1924&gt;&quot;</td><td>null</td></tr><tr><td>&quot;&lt;id_PSA3W26OQ1_nXy_EcNXaSJyLV&gt;&quot;</td><td>&quot;&lt;Antoine_Meillet&gt;&quot;</td><td>&quot;&lt;linksTo&gt;&quot;</td><td>&quot;&lt;Marcel_Cohen&gt;&quot;</td><td>null</td></tr><tr><td>&quot;&lt;id_PSA3W26OQ1_nXy_ONFUVMvMR0&gt;&quot;</td><td>&quot;&lt;Antoine_Meillet&gt;&quot;</td><td>&quot;&lt;linksTo&gt;&quot;</td><td>&quot;&lt;1912&gt;&quot;</td><td>null</td></tr><tr><td>&quot;&lt;id_PSA3W26OQ1_nXy_0gQ3ZfHF0c&gt;&quot;</td><td>&quot;&lt;Antoine_Meillet&gt;&quot;</td><td>&quot;&lt;linksTo&gt;&quot;</td><td>&quot;&lt;Auguste_Carrière&gt;&quot;</td><td>null</td></tr><tr><td>&quot;&lt;id_PSA3W26OQ1_nXy_CIlrUbz9QN&gt;&quot;</td><td>&quot;&lt;Antoine_Meillet&gt;&quot;</td><td>&quot;&lt;linksTo&gt;&quot;</td><td>&quot;&lt;Ferdinand_de_Saussure&gt;&quot;</td><td>null</td></tr><tr><td>&quot;&lt;id_PSA3W26OQ1_nXy_OJQoVMuSL7&gt;&quot;</td><td>&quot;&lt;Antoine_Meillet&gt;&quot;</td><td>&quot;&lt;linksTo&gt;&quot;</td><td>&quot;&lt;1908&gt;&quot;</td><td>null</td></tr><tr><td>&quot;&lt;id_PSA3W26OQ1_nXy_gFeW70JW?p&gt;&quot;</td><td>&quot;&lt;Antoine_Meillet&gt;&quot;</td><td>&quot;&lt;linksTo&gt;&quot;</td><td>&quot;&lt;Maurice_Grammont&gt;&quot;</td><td>null</td></tr><tr><td>&quot;&lt;id_PSA3W26OQ1_nXy_TtBGMnU9go&gt;&quot;</td><td>&quot;&lt;Antoine_Meillet&gt;&quot;</td><td>&quot;&lt;linksTo&gt;&quot;</td><td>&quot;&lt;André_Martinet&gt;&quot;</td><td>null</td></tr><tr><td>&hellip;</td><td>&hellip;</td><td>&hellip;</td><td>&hellip;</td><td>&hellip;</td></tr><tr><td>&quot;&lt;id_EEfgcrID4C_nXy_rGZLUg8sSe&gt;&quot;</td><td>&quot;&lt;fr/Julie_Laernoes&gt;&quot;</td><td>&quot;&lt;linksTo&gt;&quot;</td><td>&quot;&lt;Sciences_Po&gt;&quot;</td><td>null</td></tr><tr><td>&quot;&lt;id_EEfgcrID4C_nXy_9JdYGghnZb&gt;&quot;</td><td>&quot;&lt;fr/Julie_Laernoes&gt;&quot;</td><td>&quot;&lt;linksTo&gt;&quot;</td><td>&quot;&lt;The_Hague&gt;&quot;</td><td>null</td></tr><tr><td>&quot;&lt;id_EEfgcrID4C_nXy_kBDMuzGNoQ&gt;&quot;</td><td>&quot;&lt;fr/Julie_Laernoes&gt;&quot;</td><td>&quot;&lt;linksTo&gt;&quot;</td><td>&quot;&lt;Johanna_Rolland&gt;&quot;</td><td>null</td></tr><tr><td>&quot;&lt;id_EEfgcrID4C_nXy_Z7rUm84ZKF&gt;&quot;</td><td>&quot;&lt;fr/Julie_Laernoes&gt;&quot;</td><td>&quot;&lt;linksTo&gt;&quot;</td><td>&quot;&lt;Deputy_(France)&gt;&quot;</td><td>null</td></tr><tr><td>&quot;&lt;id_EEfgcrID4C_nXy_qiB8lMVrIU&gt;&quot;</td><td>&quot;&lt;fr/Julie_Laernoes&gt;&quot;</td><td>&quot;&lt;linksTo&gt;&quot;</td><td>&quot;&lt;fr/Élections_municipales_de_2020_à_Nantes&gt;&quot;</td><td>null</td></tr><tr><td>&quot;&lt;id_EEfgcrID4C_nXy_LiNaqDA5u3&gt;&quot;</td><td>&quot;&lt;fr/Julie_Laernoes&gt;&quot;</td><td>&quot;&lt;linksTo&gt;&quot;</td><td>&quot;&lt;La_République_En_Marche!&gt;&quot;</td><td>null</td></tr><tr><td>&quot;&lt;id_EEfgcrID4C_nXy_6fUou!yPJk&gt;&quot;</td><td>&quot;&lt;fr/Julie_Laernoes&gt;&quot;</td><td>&quot;&lt;linksTo&gt;&quot;</td><td>&quot;&lt;Deputy_(legislator)&gt;&quot;</td><td>null</td></tr><tr><td>&quot;&lt;id_EEfgcrID4C_nXy_K!9lsPCMD4&gt;&quot;</td><td>&quot;&lt;fr/Julie_Laernoes&gt;&quot;</td><td>&quot;&lt;linksTo&gt;&quot;</td><td>&quot;&lt;Municipal_council&gt;&quot;</td><td>null</td></tr><tr><td>&quot;&lt;id_EEfgcrID4C_nXy_dU3Tx73ZpC&gt;&quot;</td><td>&quot;&lt;fr/Julie_Laernoes&gt;&quot;</td><td>&quot;&lt;linksTo&gt;&quot;</td><td>&quot;&lt;Nantes_Metropolis&gt;&quot;</td><td>null</td></tr><tr><td>&quot;&lt;id_pklM9nZ98h_MA?_HbSguT80AI&gt;&quot;</td><td>&quot;&lt;Tadese_Takele&gt;&quot;</td><td>&quot;&lt;hasWikipediaArticleLength&gt;&quot;</td><td>&quot;30^^xsd:integer&quot;</td><td>30.0</td></tr><tr><td>&quot;&lt;id_pklM9nZ98h_g7M_NxZEXJOTuV&gt;&quot;</td><td>&quot;&lt;Tadese_Takele&gt;&quot;</td><td>&quot;&lt;hasWikipediaUrl&gt;&quot;</td><td>&quot;&lt;http://fr.wikipedia.org/wiki/Bikila_Tadese_Takele&gt;&quot;</td><td>null</td></tr><tr><td>&quot;&lt;id_pklM9nZ98h_nXy_Q1sLU7Y4mL&gt;&quot;</td><td>&quot;&lt;Tadese_Takele&gt;&quot;</td><td>&quot;&lt;linksTo&gt;&quot;</td><td>&quot;&lt;fr/Tadese_Takele&gt;&quot;</td><td>null</td></tr></tbody></table></div>"
      ],
      "text/plain": [
       "shape: (43_131_886, 5)\n",
       "┌─────────────────────┬─────────────────────┬────────────────────┬────────────────────┬────────────┐\n",
       "│ id                  ┆ subject             ┆ predicate          ┆ cat_object         ┆ num_object │\n",
       "│ ---                 ┆ ---                 ┆ ---                ┆ ---                ┆ ---        │\n",
       "│ str                 ┆ str                 ┆ str                ┆ str                ┆ f64        │\n",
       "╞═════════════════════╪═════════════════════╪════════════════════╪════════════════════╪════════════╡\n",
       "│ <id_PSA3W26OQ1_MA?_ ┆ <Antoine_Meillet>   ┆ <hasWikipediaArtic ┆ 12896^^xsd:integer ┆ 12896.0    │\n",
       "│ wuOiHWNP6s>         ┆                     ┆ leLength>          ┆                    ┆            │\n",
       "│ <id_PSA3W26OQ1_g7M_ ┆ <Antoine_Meillet>   ┆ <hasWikipediaUrl>  ┆ <http://fr.wikiped ┆ null       │\n",
       "│ XCuVlbN3aF>         ┆                     ┆                    ┆ ia.org/wiki/Antoin ┆            │\n",
       "│                     ┆                     ┆                    ┆ e_Meillet>         ┆            │\n",
       "│ <id_PSA3W26OQ1_nXy_ ┆ <Antoine_Meillet>   ┆ <linksTo>          ┆ <Cher_(department) ┆ null       │\n",
       "│ UfZKKaxTaw>         ┆                     ┆                    ┆ >                  ┆            │\n",
       "│ <id_PSA3W26OQ1_nXy_ ┆ <Antoine_Meillet>   ┆ <linksTo>          ┆ <Michel_Bréal>     ┆ null       │\n",
       "│ r?psA2fSMw>         ┆                     ┆                    ┆                    ┆            │\n",
       "│ <id_PSA3W26OQ1_nXy_ ┆ <Antoine_Meillet>   ┆ <linksTo>          ┆ <1924>             ┆ null       │\n",
       "│ OC3oVMt00d>         ┆                     ┆                    ┆                    ┆            │\n",
       "│ …                   ┆ …                   ┆ …                  ┆ …                  ┆ …          │\n",
       "│ <id_EEfgcrID4C_nXy_ ┆ <fr/Julie_Laernoes> ┆ <linksTo>          ┆ <Municipal_council ┆ null       │\n",
       "│ K!9lsPCMD4>         ┆                     ┆                    ┆ >                  ┆            │\n",
       "│ <id_EEfgcrID4C_nXy_ ┆ <fr/Julie_Laernoes> ┆ <linksTo>          ┆ <Nantes_Metropolis ┆ null       │\n",
       "│ dU3Tx73ZpC>         ┆                     ┆                    ┆ >                  ┆            │\n",
       "│ <id_pklM9nZ98h_MA?_ ┆ <Tadese_Takele>     ┆ <hasWikipediaArtic ┆ 30^^xsd:integer    ┆ 30.0       │\n",
       "│ HbSguT80AI>         ┆                     ┆ leLength>          ┆                    ┆            │\n",
       "│ <id_pklM9nZ98h_g7M_ ┆ <Tadese_Takele>     ┆ <hasWikipediaUrl>  ┆ <http://fr.wikiped ┆ null       │\n",
       "│ NxZEXJOTuV>         ┆                     ┆                    ┆ ia.org/wiki/Bikila ┆            │\n",
       "│                     ┆                     ┆                    ┆ _Tadese_Takele>    ┆            │\n",
       "│ <id_pklM9nZ98h_nXy_ ┆ <Tadese_Takele>     ┆ <linksTo>          ┆ <fr/Tadese_Takele> ┆ null       │\n",
       "│ Q1sLU7Y4mL>         ┆                     ┆                    ┆                    ┆            │\n",
       "└─────────────────────┴─────────────────────┴────────────────────┴────────────────────┴────────────┘"
      ]
     },
     "metadata": {},
     "output_type": "display_data"
    },
    {
     "name": "stdout",
     "output_type": "stream",
     "text": [
      "yagoWordnetDomainHierarchy.tsv\n"
     ]
    },
    {
     "data": {
      "text/html": [
       "<div><style>\n",
       ".dataframe > thead > tr,\n",
       ".dataframe > tbody > tr {\n",
       "  text-align: right;\n",
       "  white-space: pre-wrap;\n",
       "}\n",
       "</style>\n",
       "<small>shape: (159, 5)</small><table border=\"1\" class=\"dataframe\"><thead><tr><th>id</th><th>subject</th><th>predicate</th><th>cat_object</th><th>num_object</th></tr><tr><td>str</td><td>str</td><td>str</td><td>str</td><td>f64</td></tr></thead><tbody><tr><td>null</td><td>&quot;&lt;wordnetDomain_top&gt;&quot;</td><td>&quot;skos:narrower&quot;</td><td>&quot;&lt;wordnetDomain_doctrines&gt;&quot;</td><td>null</td></tr><tr><td>null</td><td>&quot;&lt;wordnetDomain_top&gt;&quot;</td><td>&quot;skos:narrower&quot;</td><td>&quot;&lt;wordnetDomain_free_time&gt;&quot;</td><td>null</td></tr><tr><td>null</td><td>&quot;&lt;wordnetDomain_top&gt;&quot;</td><td>&quot;skos:narrower&quot;</td><td>&quot;&lt;wordnetDomain_applied_science&gt;&quot;</td><td>null</td></tr><tr><td>null</td><td>&quot;&lt;wordnetDomain_top&gt;&quot;</td><td>&quot;skos:narrower&quot;</td><td>&quot;&lt;wordnetDomain_pure_science&gt;&quot;</td><td>null</td></tr><tr><td>null</td><td>&quot;&lt;wordnetDomain_top&gt;&quot;</td><td>&quot;skos:narrower&quot;</td><td>&quot;&lt;wordnetDomain_social_science&gt;&quot;</td><td>null</td></tr><tr><td>null</td><td>&quot;&lt;wordnetDomain_top&gt;&quot;</td><td>&quot;skos:narrower&quot;</td><td>&quot;&lt;wordnetDomain_factotum&gt;&quot;</td><td>null</td></tr><tr><td>null</td><td>&quot;&lt;wordnetDomain_factotum&gt;&quot;</td><td>&quot;skos:narrower&quot;</td><td>&quot;&lt;wordnetDomain_number&gt;&quot;</td><td>null</td></tr><tr><td>null</td><td>&quot;&lt;wordnetDomain_factotum&gt;&quot;</td><td>&quot;skos:narrower&quot;</td><td>&quot;&lt;wordnetDomain_color&gt;&quot;</td><td>null</td></tr><tr><td>null</td><td>&quot;&lt;wordnetDomain_factotum&gt;&quot;</td><td>&quot;skos:narrower&quot;</td><td>&quot;&lt;wordnetDomain_time_period&gt;&quot;</td><td>null</td></tr><tr><td>null</td><td>&quot;&lt;wordnetDomain_factotum&gt;&quot;</td><td>&quot;skos:narrower&quot;</td><td>&quot;&lt;wordnetDomain_person&gt;&quot;</td><td>null</td></tr><tr><td>null</td><td>&quot;&lt;wordnetDomain_factotum&gt;&quot;</td><td>&quot;skos:narrower&quot;</td><td>&quot;&lt;wordnetDomain_quality&gt;&quot;</td><td>null</td></tr><tr><td>null</td><td>&quot;&lt;wordnetDomain_doctrines&gt;&quot;</td><td>&quot;skos:narrower&quot;</td><td>&quot;&lt;wordnetDomain_archeology&gt;&quot;</td><td>null</td></tr><tr><td>&hellip;</td><td>&hellip;</td><td>&hellip;</td><td>&hellip;</td><td>&hellip;</td></tr><tr><td>null</td><td>&quot;&lt;wordnetDomain_pedagogy&gt;&quot;</td><td>&quot;skos:narrower&quot;</td><td>&quot;&lt;wordnetDomain_university&gt;&quot;</td><td>null</td></tr><tr><td>null</td><td>&quot;&lt;wordnetDomain_politics&gt;&quot;</td><td>&quot;skos:narrower&quot;</td><td>&quot;&lt;wordnetDomain_diplomacy&gt;&quot;</td><td>null</td></tr><tr><td>null</td><td>&quot;&lt;wordnetDomain_telecommunication&gt;&quot;</td><td>&quot;skos:narrower&quot;</td><td>&quot;&lt;wordnetDomain_cinema&gt;&quot;</td><td>null</td></tr><tr><td>null</td><td>&quot;&lt;wordnetDomain_telecommunication&gt;&quot;</td><td>&quot;skos:narrower&quot;</td><td>&quot;&lt;wordnetDomain_post&gt;&quot;</td><td>null</td></tr><tr><td>null</td><td>&quot;&lt;wordnetDomain_telecommunication&gt;&quot;</td><td>&quot;skos:narrower&quot;</td><td>&quot;&lt;wordnetDomain_radio&gt;&quot;</td><td>null</td></tr><tr><td>null</td><td>&quot;&lt;wordnetDomain_telecommunication&gt;&quot;</td><td>&quot;skos:narrower&quot;</td><td>&quot;&lt;wordnetDomain_telegraphy&gt;&quot;</td><td>null</td></tr><tr><td>null</td><td>&quot;&lt;wordnetDomain_telecommunication&gt;&quot;</td><td>&quot;skos:narrower&quot;</td><td>&quot;&lt;wordnetDomain_telephony&gt;&quot;</td><td>null</td></tr><tr><td>null</td><td>&quot;&lt;wordnetDomain_telecommunication&gt;&quot;</td><td>&quot;skos:narrower&quot;</td><td>&quot;&lt;wordnetDomain_tv&gt;&quot;</td><td>null</td></tr><tr><td>null</td><td>&quot;&lt;wordnetDomain_transport&gt;&quot;</td><td>&quot;skos:narrower&quot;</td><td>&quot;&lt;wordnetDomain_aeronautic&gt;&quot;</td><td>null</td></tr><tr><td>null</td><td>&quot;&lt;wordnetDomain_transport&gt;&quot;</td><td>&quot;skos:narrower&quot;</td><td>&quot;&lt;wordnetDomain_auto&gt;&quot;</td><td>null</td></tr><tr><td>null</td><td>&quot;&lt;wordnetDomain_transport&gt;&quot;</td><td>&quot;skos:narrower&quot;</td><td>&quot;&lt;wordnetDomain_merchant_navy&gt;&quot;</td><td>null</td></tr><tr><td>null</td><td>&quot;&lt;wordnetDomain_transport&gt;&quot;</td><td>&quot;skos:narrower&quot;</td><td>&quot;&lt;wordnetDomain_railway&gt;&quot;</td><td>null</td></tr></tbody></table></div>"
      ],
      "text/plain": [
       "shape: (159, 5)\n",
       "┌──────┬───────────────────────────────┬───────────────┬──────────────────────────────┬────────────┐\n",
       "│ id   ┆ subject                       ┆ predicate     ┆ cat_object                   ┆ num_object │\n",
       "│ ---  ┆ ---                           ┆ ---           ┆ ---                          ┆ ---        │\n",
       "│ str  ┆ str                           ┆ str           ┆ str                          ┆ f64        │\n",
       "╞══════╪═══════════════════════════════╪═══════════════╪══════════════════════════════╪════════════╡\n",
       "│ null ┆ <wordnetDomain_top>           ┆ skos:narrower ┆ <wordnetDomain_doctrines>    ┆ null       │\n",
       "│ null ┆ <wordnetDomain_top>           ┆ skos:narrower ┆ <wordnetDomain_free_time>    ┆ null       │\n",
       "│ null ┆ <wordnetDomain_top>           ┆ skos:narrower ┆ <wordnetDomain_applied_scien ┆ null       │\n",
       "│      ┆                               ┆               ┆ ce>                          ┆            │\n",
       "│ null ┆ <wordnetDomain_top>           ┆ skos:narrower ┆ <wordnetDomain_pure_science> ┆ null       │\n",
       "│ null ┆ <wordnetDomain_top>           ┆ skos:narrower ┆ <wordnetDomain_social_scienc ┆ null       │\n",
       "│      ┆                               ┆               ┆ e>                           ┆            │\n",
       "│ …    ┆ …                             ┆ …             ┆ …                            ┆ …          │\n",
       "│ null ┆ <wordnetDomain_telecommunicat ┆ skos:narrower ┆ <wordnetDomain_tv>           ┆ null       │\n",
       "│      ┆ ion>                          ┆               ┆                              ┆            │\n",
       "│ null ┆ <wordnetDomain_transport>     ┆ skos:narrower ┆ <wordnetDomain_aeronautic>   ┆ null       │\n",
       "│ null ┆ <wordnetDomain_transport>     ┆ skos:narrower ┆ <wordnetDomain_auto>         ┆ null       │\n",
       "│ null ┆ <wordnetDomain_transport>     ┆ skos:narrower ┆ <wordnetDomain_merchant_navy ┆ null       │\n",
       "│      ┆                               ┆               ┆ >                            ┆            │\n",
       "│ null ┆ <wordnetDomain_transport>     ┆ skos:narrower ┆ <wordnetDomain_railway>      ┆ null       │\n",
       "└──────┴───────────────────────────────┴───────────────┴──────────────────────────────┴────────────┘"
      ]
     },
     "metadata": {},
     "output_type": "display_data"
    },
    {
     "name": "stdout",
     "output_type": "stream",
     "text": [
      "yagoWordnetDomains.tsv\n"
     ]
    },
    {
     "data": {
      "text/html": [
       "<div><style>\n",
       ".dataframe > thead > tr,\n",
       ".dataframe > tbody > tr {\n",
       "  text-align: right;\n",
       "  white-space: pre-wrap;\n",
       "}\n",
       "</style>\n",
       "<small>shape: (87_365, 5)</small><table border=\"1\" class=\"dataframe\"><thead><tr><th>id</th><th>subject</th><th>predicate</th><th>cat_object</th><th>num_object</th></tr><tr><td>str</td><td>str</td><td>str</td><td>str</td><td>f64</td></tr></thead><tbody><tr><td>&quot;&lt;id_KdEX!y?wiG_wda_WURcLBQM1c&gt;&quot;</td><td>&quot;owl:Thing&quot;</td><td>&quot;&lt;hasWordnetDomain&gt;&quot;</td><td>&quot;&lt;wordnetDomain_factotum&gt;&quot;</td><td>null</td></tr><tr><td>&quot;&lt;id_g9psfcitLx_wda_WURcLBQM1c&gt;&quot;</td><td>&quot;&lt;wordnet_thing_100002452&gt;&quot;</td><td>&quot;&lt;hasWordnetDomain&gt;&quot;</td><td>&quot;&lt;wordnetDomain_factotum&gt;&quot;</td><td>null</td></tr><tr><td>&quot;&lt;id_Vai9oEZk!D_wda_WURcLBQM1c&gt;&quot;</td><td>&quot;&lt;wordnet_nothing_113740168&gt;&quot;</td><td>&quot;&lt;hasWordnetDomain&gt;&quot;</td><td>&quot;&lt;wordnetDomain_factotum&gt;&quot;</td><td>null</td></tr><tr><td>&quot;&lt;id_r9CiCKIlsX_wda_WURcLBQM1c&gt;&quot;</td><td>&quot;&lt;wordnet_whole_100003553&gt;&quot;</td><td>&quot;&lt;hasWordnetDomain&gt;&quot;</td><td>&quot;&lt;wordnetDomain_factotum&gt;&quot;</td><td>null</td></tr><tr><td>&quot;&lt;id_k1DTqzDW2q_wda_WURcLBQM1c&gt;&quot;</td><td>&quot;&lt;wordnet_living_thing_100004258&gt;&quot;</td><td>&quot;&lt;hasWordnetDomain&gt;&quot;</td><td>&quot;&lt;wordnetDomain_factotum&gt;&quot;</td><td>null</td></tr><tr><td>&quot;&lt;id_!mzSYbE2m?_wda_WURcLBQM1c&gt;&quot;</td><td>&quot;&lt;wordnet_organism_100004475&gt;&quot;</td><td>&quot;&lt;hasWordnetDomain&gt;&quot;</td><td>&quot;&lt;wordnetDomain_factotum&gt;&quot;</td><td>null</td></tr><tr><td>&quot;&lt;id_jx0Z!32iCA_wda_WURcLBQM1c&gt;&quot;</td><td>&quot;&lt;wordnet_benthos_100005787&gt;&quot;</td><td>&quot;&lt;hasWordnetDomain&gt;&quot;</td><td>&quot;&lt;wordnetDomain_factotum&gt;&quot;</td><td>null</td></tr><tr><td>&quot;&lt;id_FcbnkDHJs4_wda_WURcLBQM1c&gt;&quot;</td><td>&quot;&lt;wordnet_heterotroph_100006024&gt;&quot;</td><td>&quot;&lt;hasWordnetDomain&gt;&quot;</td><td>&quot;&lt;wordnetDomain_factotum&gt;&quot;</td><td>null</td></tr><tr><td>&quot;&lt;id_NGRL!wmn5g_wda_WURcLBQM1c&gt;&quot;</td><td>&quot;&lt;wordnet_life_100006269&gt;&quot;</td><td>&quot;&lt;hasWordnetDomain&gt;&quot;</td><td>&quot;&lt;wordnetDomain_factotum&gt;&quot;</td><td>null</td></tr><tr><td>&quot;&lt;id_zxRlwbQixm_wda_WURcLBQM1c&gt;&quot;</td><td>&quot;&lt;wordnet_biont_100006400&gt;&quot;</td><td>&quot;&lt;hasWordnetDomain&gt;&quot;</td><td>&quot;&lt;wordnetDomain_factotum&gt;&quot;</td><td>null</td></tr><tr><td>&quot;&lt;id_MigyuMeaVh_wda_03Jz7YDUur&gt;&quot;</td><td>&quot;&lt;wordnet_cell_100006484&gt;&quot;</td><td>&quot;&lt;hasWordnetDomain&gt;&quot;</td><td>&quot;&lt;wordnetDomain_biology&gt;&quot;</td><td>null</td></tr><tr><td>&quot;&lt;id_YsueER7cNj_wda_WURcLBQM1c&gt;&quot;</td><td>&quot;&lt;wordnet_causal_agent_100007347&gt;&quot;</td><td>&quot;&lt;hasWordnetDomain&gt;&quot;</td><td>&quot;&lt;wordnetDomain_factotum&gt;&quot;</td><td>null</td></tr><tr><td>&hellip;</td><td>&hellip;</td><td>&hellip;</td><td>&hellip;</td><td>&hellip;</td></tr><tr><td>&quot;&lt;id_CVssGxHx70_KCM_0ANAsR1IF3&gt;&quot;</td><td>&quot;&lt;wordnetDomain_drawing&gt;&quot;</td><td>&quot;rdf:type&quot;</td><td>&quot;&lt;wordnetDomain&gt;&quot;</td><td>null</td></tr><tr><td>&quot;&lt;id_CVssGxHx70_SBd_GIXIuTbq8y&gt;&quot;</td><td>&quot;&lt;wordnetDomain_drawing&gt;&quot;</td><td>&quot;rdfs:label&quot;</td><td>&quot;drawing@eng&quot;</td><td>null</td></tr><tr><td>&quot;&lt;id_HspDWK13hO_KCM_0ANAsR1IF3&gt;&quot;</td><td>&quot;&lt;wordnetDomain_soccer&gt;&quot;</td><td>&quot;rdf:type&quot;</td><td>&quot;&lt;wordnetDomain&gt;&quot;</td><td>null</td></tr><tr><td>&quot;&lt;id_HspDWK13hO_SBd_THfKi1Qf1A&gt;&quot;</td><td>&quot;&lt;wordnetDomain_soccer&gt;&quot;</td><td>&quot;rdfs:label&quot;</td><td>&quot;soccer@eng&quot;</td><td>null</td></tr><tr><td>&quot;&lt;id_LRDzMsq84D_KCM_0ANAsR1IF3&gt;&quot;</td><td>&quot;&lt;wordnetDomain_surgery&gt;&quot;</td><td>&quot;rdf:type&quot;</td><td>&quot;&lt;wordnetDomain&gt;&quot;</td><td>null</td></tr><tr><td>&quot;&lt;id_LRDzMsq84D_SBd_QJq7?FsYUp&gt;&quot;</td><td>&quot;&lt;wordnetDomain_surgery&gt;&quot;</td><td>&quot;rdfs:label&quot;</td><td>&quot;surgery@eng&quot;</td><td>null</td></tr><tr><td>&quot;&lt;id_OX8psYQxRe_KCM_0ANAsR1IF3&gt;&quot;</td><td>&quot;&lt;wordnetDomain_fashion&gt;&quot;</td><td>&quot;rdf:type&quot;</td><td>&quot;&lt;wordnetDomain&gt;&quot;</td><td>null</td></tr><tr><td>&quot;&lt;id_OX8psYQxRe_SBd_fNnLj76heY&gt;&quot;</td><td>&quot;&lt;wordnetDomain_fashion&gt;&quot;</td><td>&quot;rdfs:label&quot;</td><td>&quot;fashion@eng&quot;</td><td>null</td></tr><tr><td>&quot;&lt;id_ACekHW2v5x_KCM_0ANAsR1IF3&gt;&quot;</td><td>&quot;&lt;wordnetDomain_play&gt;&quot;</td><td>&quot;rdf:type&quot;</td><td>&quot;&lt;wordnetDomain&gt;&quot;</td><td>null</td></tr><tr><td>&quot;&lt;id_ACekHW2v5x_SBd_Z?VyVxhRtF&gt;&quot;</td><td>&quot;&lt;wordnetDomain_play&gt;&quot;</td><td>&quot;rdfs:label&quot;</td><td>&quot;play@eng&quot;</td><td>null</td></tr><tr><td>&quot;&lt;id_xFbkV7VFKE_KCM_0ANAsR1IF3&gt;&quot;</td><td>&quot;&lt;wordnetDomain_diving&gt;&quot;</td><td>&quot;rdf:type&quot;</td><td>&quot;&lt;wordnetDomain&gt;&quot;</td><td>null</td></tr><tr><td>&quot;&lt;id_xFbkV7VFKE_SBd_OMHAMuge?q&gt;&quot;</td><td>&quot;&lt;wordnetDomain_diving&gt;&quot;</td><td>&quot;rdfs:label&quot;</td><td>&quot;diving@eng&quot;</td><td>null</td></tr></tbody></table></div>"
      ],
      "text/plain": [
       "shape: (87_365, 5)\n",
       "┌─────────────────────┬─────────────────────┬────────────────────┬────────────────────┬────────────┐\n",
       "│ id                  ┆ subject             ┆ predicate          ┆ cat_object         ┆ num_object │\n",
       "│ ---                 ┆ ---                 ┆ ---                ┆ ---                ┆ ---        │\n",
       "│ str                 ┆ str                 ┆ str                ┆ str                ┆ f64        │\n",
       "╞═════════════════════╪═════════════════════╪════════════════════╪════════════════════╪════════════╡\n",
       "│ <id_KdEX!y?wiG_wda_ ┆ owl:Thing           ┆ <hasWordnetDomain> ┆ <wordnetDomain_fac ┆ null       │\n",
       "│ WURcLBQM1c>         ┆                     ┆                    ┆ totum>             ┆            │\n",
       "│ <id_g9psfcitLx_wda_ ┆ <wordnet_thing_1000 ┆ <hasWordnetDomain> ┆ <wordnetDomain_fac ┆ null       │\n",
       "│ WURcLBQM1c>         ┆ 02452>              ┆                    ┆ totum>             ┆            │\n",
       "│ <id_Vai9oEZk!D_wda_ ┆ <wordnet_nothing_11 ┆ <hasWordnetDomain> ┆ <wordnetDomain_fac ┆ null       │\n",
       "│ WURcLBQM1c>         ┆ 3740168>            ┆                    ┆ totum>             ┆            │\n",
       "│ <id_r9CiCKIlsX_wda_ ┆ <wordnet_whole_1000 ┆ <hasWordnetDomain> ┆ <wordnetDomain_fac ┆ null       │\n",
       "│ WURcLBQM1c>         ┆ 03553>              ┆                    ┆ totum>             ┆            │\n",
       "│ <id_k1DTqzDW2q_wda_ ┆ <wordnet_living_thi ┆ <hasWordnetDomain> ┆ <wordnetDomain_fac ┆ null       │\n",
       "│ WURcLBQM1c>         ┆ ng_100004258>       ┆                    ┆ totum>             ┆            │\n",
       "│ …                   ┆ …                   ┆ …                  ┆ …                  ┆ …          │\n",
       "│ <id_OX8psYQxRe_SBd_ ┆ <wordnetDomain_fash ┆ rdfs:label         ┆ fashion@eng        ┆ null       │\n",
       "│ fNnLj76heY>         ┆ ion>                ┆                    ┆                    ┆            │\n",
       "│ <id_ACekHW2v5x_KCM_ ┆ <wordnetDomain_play ┆ rdf:type           ┆ <wordnetDomain>    ┆ null       │\n",
       "│ 0ANAsR1IF3>         ┆ >                   ┆                    ┆                    ┆            │\n",
       "│ <id_ACekHW2v5x_SBd_ ┆ <wordnetDomain_play ┆ rdfs:label         ┆ play@eng           ┆ null       │\n",
       "│ Z?VyVxhRtF>         ┆ >                   ┆                    ┆                    ┆            │\n",
       "│ <id_xFbkV7VFKE_KCM_ ┆ <wordnetDomain_divi ┆ rdf:type           ┆ <wordnetDomain>    ┆ null       │\n",
       "│ 0ANAsR1IF3>         ┆ ng>                 ┆                    ┆                    ┆            │\n",
       "│ <id_xFbkV7VFKE_SBd_ ┆ <wordnetDomain_divi ┆ rdfs:label         ┆ diving@eng         ┆ null       │\n",
       "│ OMHAMuge?q>         ┆ ng>                 ┆                    ┆                    ┆            │\n",
       "└─────────────────────┴─────────────────────┴────────────────────┴────────────────────┴────────────┘"
      ]
     },
     "metadata": {},
     "output_type": "display_data"
    },
    {
     "name": "stdout",
     "output_type": "stream",
     "text": [
      "yagoWordnetIds.tsv\n"
     ]
    },
    {
     "data": {
      "text/html": [
       "<div><style>\n",
       ".dataframe > thead > tr,\n",
       ".dataframe > tbody > tr {\n",
       "  text-align: right;\n",
       "  white-space: pre-wrap;\n",
       "}\n",
       "</style>\n",
       "<small>shape: (68_862, 5)</small><table border=\"1\" class=\"dataframe\"><thead><tr><th>id</th><th>subject</th><th>predicate</th><th>cat_object</th><th>num_object</th></tr><tr><td>str</td><td>str</td><td>str</td><td>f64</td><td>f64</td></tr></thead><tbody><tr><td>null</td><td>&quot;owl:Thing&quot;</td><td>&quot;&lt;hasSynsetId&gt;&quot;</td><td>1.0000174e8</td><td>null</td></tr><tr><td>null</td><td>&quot;&lt;wordnet_physical_entity_100001930&gt;&quot;</td><td>&quot;&lt;hasSynsetId&gt;&quot;</td><td>1.0000193e8</td><td>null</td></tr><tr><td>null</td><td>&quot;&lt;wordnet_abstraction_100002137&gt;&quot;</td><td>&quot;&lt;hasSynsetId&gt;&quot;</td><td>1.00002137e8</td><td>null</td></tr><tr><td>null</td><td>&quot;&lt;wordnet_thing_100002452&gt;&quot;</td><td>&quot;&lt;hasSynsetId&gt;&quot;</td><td>1.00002452e8</td><td>null</td></tr><tr><td>null</td><td>&quot;&lt;wordnet_object_100002684&gt;&quot;</td><td>&quot;&lt;hasSynsetId&gt;&quot;</td><td>1.00002684e8</td><td>null</td></tr><tr><td>null</td><td>&quot;&lt;wordnet_whole_100003553&gt;&quot;</td><td>&quot;&lt;hasSynsetId&gt;&quot;</td><td>1.00003553e8</td><td>null</td></tr><tr><td>null</td><td>&quot;&lt;wordnet_congener_100003993&gt;&quot;</td><td>&quot;&lt;hasSynsetId&gt;&quot;</td><td>1.00003993e8</td><td>null</td></tr><tr><td>null</td><td>&quot;&lt;wordnet_living_thing_100004258&gt;&quot;</td><td>&quot;&lt;hasSynsetId&gt;&quot;</td><td>1.00004258e8</td><td>null</td></tr><tr><td>null</td><td>&quot;&lt;wordnet_organism_100004475&gt;&quot;</td><td>&quot;&lt;hasSynsetId&gt;&quot;</td><td>1.00004475e8</td><td>null</td></tr><tr><td>null</td><td>&quot;&lt;wordnet_benthos_100005787&gt;&quot;</td><td>&quot;&lt;hasSynsetId&gt;&quot;</td><td>1.00005787e8</td><td>null</td></tr><tr><td>null</td><td>&quot;&lt;wordnet_dwarf_100005930&gt;&quot;</td><td>&quot;&lt;hasSynsetId&gt;&quot;</td><td>1.0000593e8</td><td>null</td></tr><tr><td>null</td><td>&quot;&lt;wordnet_heterotroph_100006024&gt;&quot;</td><td>&quot;&lt;hasSynsetId&gt;&quot;</td><td>1.00006024e8</td><td>null</td></tr><tr><td>&hellip;</td><td>&hellip;</td><td>&hellip;</td><td>&hellip;</td><td>&hellip;</td></tr><tr><td>null</td><td>&quot;&lt;wordnet_probation_115297472&gt;&quot;</td><td>&quot;&lt;hasSynsetId&gt;&quot;</td><td>1.15297472e8</td><td>null</td></tr><tr><td>null</td><td>&quot;&lt;wordnet_processing_time_115297672&gt;&quot;</td><td>&quot;&lt;hasSynsetId&gt;&quot;</td><td>1.15297672e8</td><td>null</td></tr><tr><td>null</td><td>&quot;&lt;wordnet_air_alert_115297859&gt;&quot;</td><td>&quot;&lt;hasSynsetId&gt;&quot;</td><td>1.15297859e8</td><td>null</td></tr><tr><td>null</td><td>&quot;&lt;wordnet_command_processing_overhead_time_115298011&gt;&quot;</td><td>&quot;&lt;hasSynsetId&gt;&quot;</td><td>1.15298011e8</td><td>null</td></tr><tr><td>null</td><td>&quot;&lt;wordnet_question_time_115298507&gt;&quot;</td><td>&quot;&lt;hasSynsetId&gt;&quot;</td><td>1.15298507e8</td><td>null</td></tr><tr><td>null</td><td>&quot;&lt;wordnet_real_time_115298695&gt;&quot;</td><td>&quot;&lt;hasSynsetId&gt;&quot;</td><td>1.15298695e8</td><td>null</td></tr><tr><td>null</td><td>&quot;&lt;wordnet_real_time_115298852&gt;&quot;</td><td>&quot;&lt;hasSynsetId&gt;&quot;</td><td>1.15298852e8</td><td>null</td></tr><tr><td>null</td><td>&quot;&lt;wordnet_regency_115298995&gt;&quot;</td><td>&quot;&lt;hasSynsetId&gt;&quot;</td><td>1.15298995e8</td><td>null</td></tr><tr><td>null</td><td>&quot;&lt;wordnet_snap_115299097&gt;&quot;</td><td>&quot;&lt;hasSynsetId&gt;&quot;</td><td>1.15299097e8</td><td>null</td></tr><tr><td>null</td><td>&quot;&lt;wordnet_study_hall_115299225&gt;&quot;</td><td>&quot;&lt;hasSynsetId&gt;&quot;</td><td>1.15299225e8</td><td>null</td></tr><tr><td>null</td><td>&quot;&lt;wordnet_usance_115299585&gt;&quot;</td><td>&quot;&lt;hasSynsetId&gt;&quot;</td><td>1.15299585e8</td><td>null</td></tr><tr><td>null</td><td>&quot;&lt;wordnet_window_115299783&gt;&quot;</td><td>&quot;&lt;hasSynsetId&gt;&quot;</td><td>1.15299783e8</td><td>null</td></tr></tbody></table></div>"
      ],
      "text/plain": [
       "shape: (68_862, 5)\n",
       "┌──────┬─────────────────────────────────────┬───────────────┬──────────────┬────────────┐\n",
       "│ id   ┆ subject                             ┆ predicate     ┆ cat_object   ┆ num_object │\n",
       "│ ---  ┆ ---                                 ┆ ---           ┆ ---          ┆ ---        │\n",
       "│ str  ┆ str                                 ┆ str           ┆ f64          ┆ f64        │\n",
       "╞══════╪═════════════════════════════════════╪═══════════════╪══════════════╪════════════╡\n",
       "│ null ┆ owl:Thing                           ┆ <hasSynsetId> ┆ 1.0000174e8  ┆ null       │\n",
       "│ null ┆ <wordnet_physical_entity_100001930> ┆ <hasSynsetId> ┆ 1.0000193e8  ┆ null       │\n",
       "│ null ┆ <wordnet_abstraction_100002137>     ┆ <hasSynsetId> ┆ 1.00002137e8 ┆ null       │\n",
       "│ null ┆ <wordnet_thing_100002452>           ┆ <hasSynsetId> ┆ 1.00002452e8 ┆ null       │\n",
       "│ null ┆ <wordnet_object_100002684>          ┆ <hasSynsetId> ┆ 1.00002684e8 ┆ null       │\n",
       "│ …    ┆ …                                   ┆ …             ┆ …            ┆ …          │\n",
       "│ null ┆ <wordnet_regency_115298995>         ┆ <hasSynsetId> ┆ 1.15298995e8 ┆ null       │\n",
       "│ null ┆ <wordnet_snap_115299097>            ┆ <hasSynsetId> ┆ 1.15299097e8 ┆ null       │\n",
       "│ null ┆ <wordnet_study_hall_115299225>      ┆ <hasSynsetId> ┆ 1.15299225e8 ┆ null       │\n",
       "│ null ┆ <wordnet_usance_115299585>          ┆ <hasSynsetId> ┆ 1.15299585e8 ┆ null       │\n",
       "│ null ┆ <wordnet_window_115299783>          ┆ <hasSynsetId> ┆ 1.15299783e8 ┆ null       │\n",
       "└──────┴─────────────────────────────────────┴───────────────┴──────────────┴────────────┘"
      ]
     },
     "metadata": {},
     "output_type": "display_data"
    },
    {
     "name": "stdout",
     "output_type": "stream",
     "text": [
      "peopleByCategorySource.tsv\n"
     ]
    },
    {
     "data": {
      "text/html": [
       "<div><style>\n",
       ".dataframe > thead > tr,\n",
       ".dataframe > tbody > tr {\n",
       "  text-align: right;\n",
       "  white-space: pre-wrap;\n",
       "}\n",
       "</style>\n",
       "<small>shape: (4_093_420, 5)</small><table border=\"1\" class=\"dataframe\"><thead><tr><th>id</th><th>subject</th><th>predicate</th><th>cat_object</th><th>num_object</th></tr><tr><td>str</td><td>str</td><td>str</td><td>str</td><td>f64</td></tr></thead><tbody><tr><td>&quot;&lt;id_6LLYDjxmjv_Tm9_NeK?6DKz1Q&gt;&quot;</td><td>&quot;&lt;id_TkIEqw6ZnR_KCM_9o9YmDSiad&gt;&quot;</td><td>&quot;&lt;extractionSource&gt;&quot;</td><td>&quot;&lt;wikicat_Living_people&gt;&quot;</td><td>null</td></tr><tr><td>null</td><td>&quot;&lt;id_6LLYDjxmjv_Tm9_NeK?6DKz1Q&gt;&quot;</td><td>&quot;&lt;extractionTechnique&gt;&quot;</td><td>&quot;PeopleExtractor&quot;</td><td>null</td></tr><tr><td>&quot;&lt;id_1G0BhY0VMg_Tm9_vEHHcUz6jq&gt;&quot;</td><td>&quot;&lt;id_wGHfubCwBs_KCM_9o9YmDSiad&gt;&quot;</td><td>&quot;&lt;extractionSource&gt;&quot;</td><td>&quot;&lt;wikicat_1794_deaths&gt;&quot;</td><td>null</td></tr><tr><td>null</td><td>&quot;&lt;id_1G0BhY0VMg_Tm9_vEHHcUz6jq&gt;&quot;</td><td>&quot;&lt;extractionTechnique&gt;&quot;</td><td>&quot;PeopleExtractor&quot;</td><td>null</td></tr><tr><td>&quot;&lt;id_o3xqsaGJqJ_Tm9_hrio6MjfwR&gt;&quot;</td><td>&quot;&lt;id_EcFSy3pfWg_KCM_9o9YmDSiad&gt;&quot;</td><td>&quot;&lt;extractionSource&gt;&quot;</td><td>&quot;&lt;wikicat_1941_births&gt;&quot;</td><td>null</td></tr><tr><td>null</td><td>&quot;&lt;id_o3xqsaGJqJ_Tm9_hrio6MjfwR&gt;&quot;</td><td>&quot;&lt;extractionTechnique&gt;&quot;</td><td>&quot;PeopleExtractor&quot;</td><td>null</td></tr><tr><td>&quot;&lt;id_vSGxVP26zi_Tm9_xkmK570HXL&gt;&quot;</td><td>&quot;&lt;id_TL?FW9ny9s_KCM_9o9YmDSiad&gt;&quot;</td><td>&quot;&lt;extractionSource&gt;&quot;</td><td>&quot;&lt;wikicat_1885_deaths&gt;&quot;</td><td>null</td></tr><tr><td>null</td><td>&quot;&lt;id_vSGxVP26zi_Tm9_xkmK570HXL&gt;&quot;</td><td>&quot;&lt;extractionTechnique&gt;&quot;</td><td>&quot;PeopleExtractor&quot;</td><td>null</td></tr><tr><td>&quot;&lt;id_tRjQu8h?JJ_Tm9_EurvlOlvy0&gt;&quot;</td><td>&quot;&lt;id_WuVXfXU4S!_KCM_9o9YmDSiad&gt;&quot;</td><td>&quot;&lt;extractionSource&gt;&quot;</td><td>&quot;&lt;wikicat_1991_births&gt;&quot;</td><td>null</td></tr><tr><td>null</td><td>&quot;&lt;id_tRjQu8h?JJ_Tm9_EurvlOlvy0&gt;&quot;</td><td>&quot;&lt;extractionTechnique&gt;&quot;</td><td>&quot;PeopleExtractor&quot;</td><td>null</td></tr><tr><td>&quot;&lt;id_cctu!JBLYT_Tm9_NeK?6DKz1Q&gt;&quot;</td><td>&quot;&lt;id_W7WiE1Ekd?_KCM_9o9YmDSiad&gt;&quot;</td><td>&quot;&lt;extractionSource&gt;&quot;</td><td>&quot;&lt;wikicat_Living_people&gt;&quot;</td><td>null</td></tr><tr><td>null</td><td>&quot;&lt;id_cctu!JBLYT_Tm9_NeK?6DKz1Q&gt;&quot;</td><td>&quot;&lt;extractionTechnique&gt;&quot;</td><td>&quot;PeopleExtractor&quot;</td><td>null</td></tr><tr><td>&hellip;</td><td>&hellip;</td><td>&hellip;</td><td>&hellip;</td><td>&hellip;</td></tr><tr><td>&quot;&lt;id_a0Yri9uNL8_Tm9_QpRIsMfC36&gt;&quot;</td><td>&quot;&lt;id_jD91lQqQIn_KCM_9o9YmDSiad&gt;&quot;</td><td>&quot;&lt;extractionSource&gt;&quot;</td><td>&quot;&lt;wikicat_1970_deaths&gt;&quot;</td><td>null</td></tr><tr><td>null</td><td>&quot;&lt;id_a0Yri9uNL8_Tm9_QpRIsMfC36&gt;&quot;</td><td>&quot;&lt;extractionTechnique&gt;&quot;</td><td>&quot;PeopleExtractor&quot;</td><td>null</td></tr><tr><td>&quot;&lt;id_HdusLl?xXY_Tm9_NeK?6DKz1Q&gt;&quot;</td><td>&quot;&lt;id_yD?NL!w8Ma_KCM_9o9YmDSiad&gt;&quot;</td><td>&quot;&lt;extractionSource&gt;&quot;</td><td>&quot;&lt;wikicat_Living_people&gt;&quot;</td><td>null</td></tr><tr><td>null</td><td>&quot;&lt;id_HdusLl?xXY_Tm9_NeK?6DKz1Q&gt;&quot;</td><td>&quot;&lt;extractionTechnique&gt;&quot;</td><td>&quot;PeopleExtractor&quot;</td><td>null</td></tr><tr><td>&quot;&lt;id_QGngh6gn1g_Tm9_NeK?6DKz1Q&gt;&quot;</td><td>&quot;&lt;id_!!bRGJUCYh_KCM_9o9YmDSiad&gt;&quot;</td><td>&quot;&lt;extractionSource&gt;&quot;</td><td>&quot;&lt;wikicat_Living_people&gt;&quot;</td><td>null</td></tr><tr><td>null</td><td>&quot;&lt;id_QGngh6gn1g_Tm9_NeK?6DKz1Q&gt;&quot;</td><td>&quot;&lt;extractionTechnique&gt;&quot;</td><td>&quot;PeopleExtractor&quot;</td><td>null</td></tr><tr><td>&quot;&lt;id_1iiFlzB8?U_Tm9_NeK?6DKz1Q&gt;&quot;</td><td>&quot;&lt;id_3p2FgqRrxg_KCM_9o9YmDSiad&gt;&quot;</td><td>&quot;&lt;extractionSource&gt;&quot;</td><td>&quot;&lt;wikicat_Living_people&gt;&quot;</td><td>null</td></tr><tr><td>null</td><td>&quot;&lt;id_1iiFlzB8?U_Tm9_NeK?6DKz1Q&gt;&quot;</td><td>&quot;&lt;extractionTechnique&gt;&quot;</td><td>&quot;PeopleExtractor&quot;</td><td>null</td></tr><tr><td>&quot;&lt;id_pSlyM21xXN_Tm9_3B9MFq9l4Y&gt;&quot;</td><td>&quot;&lt;id_t06pViLE8Q_KCM_9o9YmDSiad&gt;&quot;</td><td>&quot;&lt;extractionSource&gt;&quot;</td><td>&quot;&lt;wikicat_1961_deaths&gt;&quot;</td><td>null</td></tr><tr><td>null</td><td>&quot;&lt;id_pSlyM21xXN_Tm9_3B9MFq9l4Y&gt;&quot;</td><td>&quot;&lt;extractionTechnique&gt;&quot;</td><td>&quot;PeopleExtractor&quot;</td><td>null</td></tr><tr><td>&quot;&lt;id_p?ogdHyQca_Tm9_NeK?6DKz1Q&gt;&quot;</td><td>&quot;&lt;id_XoHRQUyTvR_KCM_9o9YmDSiad&gt;&quot;</td><td>&quot;&lt;extractionSource&gt;&quot;</td><td>&quot;&lt;wikicat_Living_people&gt;&quot;</td><td>null</td></tr><tr><td>null</td><td>&quot;&lt;id_p?ogdHyQca_Tm9_NeK?6DKz1Q&gt;&quot;</td><td>&quot;&lt;extractionTechnique&gt;&quot;</td><td>&quot;PeopleExtractor&quot;</td><td>null</td></tr></tbody></table></div>"
      ],
      "text/plain": [
       "shape: (4_093_420, 5)\n",
       "┌─────────────────────┬─────────────────────┬────────────────────┬────────────────────┬────────────┐\n",
       "│ id                  ┆ subject             ┆ predicate          ┆ cat_object         ┆ num_object │\n",
       "│ ---                 ┆ ---                 ┆ ---                ┆ ---                ┆ ---        │\n",
       "│ str                 ┆ str                 ┆ str                ┆ str                ┆ f64        │\n",
       "╞═════════════════════╪═════════════════════╪════════════════════╪════════════════════╪════════════╡\n",
       "│ <id_6LLYDjxmjv_Tm9_ ┆ <id_TkIEqw6ZnR_KCM_ ┆ <extractionSource> ┆ <wikicat_Living_pe ┆ null       │\n",
       "│ NeK?6DKz1Q>         ┆ 9o9YmDSiad>         ┆                    ┆ ople>              ┆            │\n",
       "│ null                ┆ <id_6LLYDjxmjv_Tm9_ ┆ <extractionTechniq ┆ PeopleExtractor    ┆ null       │\n",
       "│                     ┆ NeK?6DKz1Q>         ┆ ue>                ┆                    ┆            │\n",
       "│ <id_1G0BhY0VMg_Tm9_ ┆ <id_wGHfubCwBs_KCM_ ┆ <extractionSource> ┆ <wikicat_1794_deat ┆ null       │\n",
       "│ vEHHcUz6jq>         ┆ 9o9YmDSiad>         ┆                    ┆ hs>                ┆            │\n",
       "│ null                ┆ <id_1G0BhY0VMg_Tm9_ ┆ <extractionTechniq ┆ PeopleExtractor    ┆ null       │\n",
       "│                     ┆ vEHHcUz6jq>         ┆ ue>                ┆                    ┆            │\n",
       "│ <id_o3xqsaGJqJ_Tm9_ ┆ <id_EcFSy3pfWg_KCM_ ┆ <extractionSource> ┆ <wikicat_1941_birt ┆ null       │\n",
       "│ hrio6MjfwR>         ┆ 9o9YmDSiad>         ┆                    ┆ hs>                ┆            │\n",
       "│ …                   ┆ …                   ┆ …                  ┆ …                  ┆ …          │\n",
       "│ null                ┆ <id_1iiFlzB8?U_Tm9_ ┆ <extractionTechniq ┆ PeopleExtractor    ┆ null       │\n",
       "│                     ┆ NeK?6DKz1Q>         ┆ ue>                ┆                    ┆            │\n",
       "│ <id_pSlyM21xXN_Tm9_ ┆ <id_t06pViLE8Q_KCM_ ┆ <extractionSource> ┆ <wikicat_1961_deat ┆ null       │\n",
       "│ 3B9MFq9l4Y>         ┆ 9o9YmDSiad>         ┆                    ┆ hs>                ┆            │\n",
       "│ null                ┆ <id_pSlyM21xXN_Tm9_ ┆ <extractionTechniq ┆ PeopleExtractor    ┆ null       │\n",
       "│                     ┆ 3B9MFq9l4Y>         ┆ ue>                ┆                    ┆            │\n",
       "│ <id_p?ogdHyQca_Tm9_ ┆ <id_XoHRQUyTvR_KCM_ ┆ <extractionSource> ┆ <wikicat_Living_pe ┆ null       │\n",
       "│ NeK?6DKz1Q>         ┆ 9o9YmDSiad>         ┆                    ┆ ople>              ┆            │\n",
       "│ null                ┆ <id_p?ogdHyQca_Tm9_ ┆ <extractionTechniq ┆ PeopleExtractor    ┆ null       │\n",
       "│                     ┆ NeK?6DKz1Q>         ┆ ue>                ┆                    ┆            │\n",
       "└─────────────────────┴─────────────────────┴────────────────────┴────────────────────┴────────────┘"
      ]
     },
     "metadata": {},
     "output_type": "display_data"
    }
   ],
   "source": [
    "for p in Path(yago_path, \"facts_parquet/yago_updated_2022_part2/\").iterdir():\n",
    "    if p.stem.startswith(\"_\"):\n",
    "        continue\n",
    "    print(p.stem)\n",
    "    display(utils.import_from_yago(p, debug=False, limit=5))"
   ]
  },
  {
   "cell_type": "code",
   "execution_count": 11,
   "metadata": {},
   "outputs": [
    {
     "data": {
      "text/html": [
       "<div><style>\n",
       ".dataframe > thead > tr,\n",
       ".dataframe > tbody > tr {\n",
       "  text-align: right;\n",
       "  white-space: pre-wrap;\n",
       "}\n",
       "</style>\n",
       "<small>shape: (504, 5)</small><table border=\"1\" class=\"dataframe\"><thead><tr><th>id</th><th>subject</th><th>predicate</th><th>cat_object</th><th>num_object</th></tr><tr><td>str</td><td>str</td><td>str</td><td>str</td><td>f64</td></tr></thead><tbody><tr><td>&quot;&lt;id_E6n!IJn!Jr_O1n_0EsGYjWbi9&gt;&quot;</td><td>&quot;&lt;graduatedFrom&gt;&quot;</td><td>&quot;rdfs:range&quot;</td><td>&quot;&lt;wordnet_university_108286569&gt;&quot;</td><td>null</td></tr><tr><td>&quot;&lt;id_?RGufJFBdR_O1n_uRZHKm6aLD&gt;&quot;</td><td>&quot;&lt;hasGivenName&gt;&quot;</td><td>&quot;rdfs:range&quot;</td><td>&quot;xsd:string&quot;</td><td>null</td></tr><tr><td>&quot;&lt;id_EGcgvQQgMO_O1n_KukFM4VlQ7&gt;&quot;</td><td>&quot;&lt;_yagoMetadata&gt;&quot;</td><td>&quot;rdfs:range&quot;</td><td>&quot;xsd:String&quot;</td><td>null</td></tr><tr><td>&quot;&lt;id_AypJzCSjLb_O1n_KdEX!y?wiG&gt;&quot;</td><td>&quot;&lt;hasCurrency&gt;&quot;</td><td>&quot;rdfs:range&quot;</td><td>&quot;owl:Thing&quot;</td><td>null</td></tr><tr><td>&quot;&lt;id_?!VtKe8N6Z_O1n_uRZHKm6aLD&gt;&quot;</td><td>&quot;&lt;hasGeonamesClassId&gt;&quot;</td><td>&quot;rdfs:range&quot;</td><td>&quot;xsd:string&quot;</td><td>null</td></tr><tr><td>&quot;&lt;id_e!1Dxw5lnJ_O1n_hrUs8UA4yf&gt;&quot;</td><td>&quot;&lt;dealsWith&gt;&quot;</td><td>&quot;rdfs:range&quot;</td><td>&quot;&lt;wordnet_country_108544813&gt;&quot;</td><td>null</td></tr><tr><td>&quot;&lt;id_iqvUKl!ECA_O1n_uRZHKm6aLD&gt;&quot;</td><td>&quot;&lt;hasMotto&gt;&quot;</td><td>&quot;rdfs:range&quot;</td><td>&quot;xsd:string&quot;</td><td>null</td></tr><tr><td>&quot;&lt;id_w!UqetLWZe_O1n_FNZ17GW0Jo&gt;&quot;</td><td>&quot;&lt;hasNeighbor&gt;&quot;</td><td>&quot;rdfs:range&quot;</td><td>&quot;&lt;yagoGeoEntity&gt;&quot;</td><td>null</td></tr><tr><td>&quot;&lt;id_yqifFULyde_O1n_CkqeGfgJ0O&gt;&quot;</td><td>&quot;&lt;hasGDP&gt;&quot;</td><td>&quot;rdfs:range&quot;</td><td>&quot;&lt;yagoMonetaryValue&gt;&quot;</td><td>null</td></tr><tr><td>&quot;&lt;id_OGeTdRMinU_O1n_uRZHKm6aLD&gt;&quot;</td><td>&quot;&lt;hasAnchorText&gt;&quot;</td><td>&quot;rdfs:range&quot;</td><td>&quot;xsd:string&quot;</td><td>null</td></tr><tr><td>&quot;&lt;id_jWVaQR2bY9_O1n_2SNVASZbru&gt;&quot;</td><td>&quot;&lt;numberOfTranslations&gt;&quot;</td><td>&quot;rdfs:range&quot;</td><td>&quot;xsd:nonNegativeInteger&quot;</td><td>null</td></tr><tr><td>&quot;&lt;id_PqLKJQ?cf5_O1n_uRZHKm6aLD&gt;&quot;</td><td>&quot;&lt;hasLanguageCode&gt;&quot;</td><td>&quot;rdfs:range&quot;</td><td>&quot;xsd:string&quot;</td><td>null</td></tr><tr><td>&hellip;</td><td>&hellip;</td><td>&hellip;</td><td>&hellip;</td><td>&hellip;</td></tr><tr><td>&quot;&lt;id_tRIrEJL!nT_daA_KdEX!y?wiG&gt;&quot;</td><td>&quot;&lt;hasGeonamesEntityId&gt;&quot;</td><td>&quot;rdfs:domain&quot;</td><td>&quot;owl:Thing&quot;</td><td>null</td></tr><tr><td>&quot;&lt;id_kGbSYjGZCB_daA_mi61FY7bTp&gt;&quot;</td><td>&quot;&lt;endedOnDate&gt;&quot;</td><td>&quot;rdfs:domain&quot;</td><td>&quot;&lt;wordnet_event_100029378&gt;&quot;</td><td>null</td></tr><tr><td>&quot;&lt;id_Tm9RdHdkiF_daA_Kp8P64YJ0f&gt;&quot;</td><td>&quot;&lt;extractionSource&gt;&quot;</td><td>&quot;rdfs:domain&quot;</td><td>&quot;rdf:Statement&quot;</td><td>null</td></tr><tr><td>&quot;&lt;id_sVq5ALqqX_daA_Kp8P64YJ0f&gt;&quot;</td><td>&quot;&lt;occursIn&gt;&quot;</td><td>&quot;rdfs:domain&quot;</td><td>&quot;rdf:Statement&quot;</td><td>null</td></tr><tr><td>&quot;&lt;id_W2WBXlHDuy_daA_KdEX!y?wiG&gt;&quot;</td><td>&quot;&lt;hasWebsite&gt;&quot;</td><td>&quot;rdfs:domain&quot;</td><td>&quot;owl:Thing&quot;</td><td>null</td></tr><tr><td>&quot;&lt;id_Vl!Ut3itCq_daA_KdEX!y?wiG&gt;&quot;</td><td>&quot;&lt;hasWikipediaCategory&gt;&quot;</td><td>&quot;rdfs:domain&quot;</td><td>&quot;owl:Thing&quot;</td><td>null</td></tr><tr><td>&quot;&lt;id_dkbE?83Aw1_daA_KdEX!y?wiG&gt;&quot;</td><td>&quot;&lt;hasWikipediaId&gt;&quot;</td><td>&quot;rdfs:domain&quot;</td><td>&quot;owl:Thing&quot;</td><td>null</td></tr><tr><td>&quot;&lt;id_hM9FlOGtXs_daA_66Yy!EOgKV&gt;&quot;</td><td>&quot;&lt;hasExport&gt;&quot;</td><td>&quot;rdfs:domain&quot;</td><td>&quot;&lt;wordnet_location_100027167&gt;&quot;</td><td>null</td></tr><tr><td>&quot;&lt;id_Z2!3sO2eXU_daA_KdEX!y?wiG&gt;&quot;</td><td>&quot;&lt;hasWikipediaAbstract&gt;&quot;</td><td>&quot;rdfs:domain&quot;</td><td>&quot;owl:Thing&quot;</td><td>null</td></tr><tr><td>&quot;&lt;id_ncNt6rsDFq_daA_KdEX!y?wiG&gt;&quot;</td><td>&quot;&lt;permanentRelationToObject&gt;&quot;</td><td>&quot;rdfs:domain&quot;</td><td>&quot;owl:Thing&quot;</td><td>null</td></tr><tr><td>&quot;&lt;id_NBwSS2BkQ1_daA_8Giy5xWJit&gt;&quot;</td><td>&quot;&lt;hasRevenue&gt;&quot;</td><td>&quot;rdfs:domain&quot;</td><td>&quot;&lt;yagoLegalActorGeo&gt;&quot;</td><td>null</td></tr><tr><td>&quot;&lt;id_itrojroAcp_daA_9o9YmDSiad&gt;&quot;</td><td>&quot;&lt;holdsPoliticalPosition&gt;&quot;</td><td>&quot;rdfs:domain&quot;</td><td>&quot;&lt;wordnet_person_100007846&gt;&quot;</td><td>null</td></tr></tbody></table></div>"
      ],
      "text/plain": [
       "shape: (504, 5)\n",
       "┌───────────────────────┬───────────────────────┬─────────────┬───────────────────────┬────────────┐\n",
       "│ id                    ┆ subject               ┆ predicate   ┆ cat_object            ┆ num_object │\n",
       "│ ---                   ┆ ---                   ┆ ---         ┆ ---                   ┆ ---        │\n",
       "│ str                   ┆ str                   ┆ str         ┆ str                   ┆ f64        │\n",
       "╞═══════════════════════╪═══════════════════════╪═════════════╪═══════════════════════╪════════════╡\n",
       "│ <id_E6n!IJn!Jr_O1n_0E ┆ <graduatedFrom>       ┆ rdfs:range  ┆ <wordnet_university_1 ┆ null       │\n",
       "│ sGYjWbi9>             ┆                       ┆             ┆ 08286569>             ┆            │\n",
       "│ <id_?RGufJFBdR_O1n_uR ┆ <hasGivenName>        ┆ rdfs:range  ┆ xsd:string            ┆ null       │\n",
       "│ ZHKm6aLD>             ┆                       ┆             ┆                       ┆            │\n",
       "│ <id_EGcgvQQgMO_O1n_Ku ┆ <_yagoMetadata>       ┆ rdfs:range  ┆ xsd:String            ┆ null       │\n",
       "│ kFM4VlQ7>             ┆                       ┆             ┆                       ┆            │\n",
       "│ <id_AypJzCSjLb_O1n_Kd ┆ <hasCurrency>         ┆ rdfs:range  ┆ owl:Thing             ┆ null       │\n",
       "│ EX!y?wiG>             ┆                       ┆             ┆                       ┆            │\n",
       "│ <id_?!VtKe8N6Z_O1n_uR ┆ <hasGeonamesClassId>  ┆ rdfs:range  ┆ xsd:string            ┆ null       │\n",
       "│ ZHKm6aLD>             ┆                       ┆             ┆                       ┆            │\n",
       "│ …                     ┆ …                     ┆ …           ┆ …                     ┆ …          │\n",
       "│ <id_hM9FlOGtXs_daA_66 ┆ <hasExport>           ┆ rdfs:domain ┆ <wordnet_location_100 ┆ null       │\n",
       "│ Yy!EOgKV>             ┆                       ┆             ┆ 027167>               ┆            │\n",
       "│ <id_Z2!3sO2eXU_daA_Kd ┆ <hasWikipediaAbstract ┆ rdfs:domain ┆ owl:Thing             ┆ null       │\n",
       "│ EX!y?wiG>             ┆ >                     ┆             ┆                       ┆            │\n",
       "│ <id_ncNt6rsDFq_daA_Kd ┆ <permanentRelationToO ┆ rdfs:domain ┆ owl:Thing             ┆ null       │\n",
       "│ EX!y?wiG>             ┆ bject>                ┆             ┆                       ┆            │\n",
       "│ <id_NBwSS2BkQ1_daA_8G ┆ <hasRevenue>          ┆ rdfs:domain ┆ <yagoLegalActorGeo>   ┆ null       │\n",
       "│ iy5xWJit>             ┆                       ┆             ┆                       ┆            │\n",
       "│ <id_itrojroAcp_daA_9o ┆ <holdsPoliticalPositi ┆ rdfs:domain ┆ <wordnet_person_10000 ┆ null       │\n",
       "│ 9YmDSiad>             ┆ on>                   ┆             ┆ 7846>                 ┆            │\n",
       "└───────────────────────┴───────────────────────┴─────────────┴───────────────────────┴────────────┘"
      ]
     },
     "execution_count": 11,
     "metadata": {},
     "output_type": "execute_result"
    }
   ],
   "source": [
    "p = Path(\n",
    "    yago_path, \"facts_parquet/yago_updated_2022_part2/yagoSchema.tsv.parquet\"\n",
    ")\n",
    "\n",
    "utils.import_from_yago(p, debug=False, limit=1000)"
   ]
  },
  {
   "cell_type": "markdown",
   "metadata": {},
   "source": [
    "# Full tables"
   ]
  },
  {
   "cell_type": "code",
   "execution_count": 23,
   "metadata": {},
   "outputs": [],
   "source": [
    "subjects_with_wordnet = (\n",
    "    df_types.filter(pl.col(\"cat_object\").str.starts_with(\"<wordnet_\"))\n",
    "    .select(pl.col(\"subject\"), pl.col(\"cat_object\"))\n",
    "    .rename({\"cat_object\": \"type\"})\n",
    ")\n",
    "n_groups = len(subjects_with_wordnet.unique(\"type\"))"
   ]
  },
  {
   "cell_type": "code",
   "execution_count": 25,
   "metadata": {},
   "outputs": [],
   "source": [
    "def clean_string(string_to_clean):\n",
    "    pattern = re.compile(r\"<{1}([a-zA-Z0-9_]+)>{1}\")\n",
    "    m = re.sub(pattern, \"\\\\1\", string_to_clean)\n",
    "    return m"
   ]
  },
  {
   "cell_type": "code",
   "execution_count": 6,
   "metadata": {},
   "outputs": [],
   "source": [
    "max_fields = 2\n",
    "dest_path = Path(\"data/yago3-dl/wordnet_vldb\")"
   ]
  },
  {
   "cell_type": "code",
   "execution_count": 10,
   "metadata": {},
   "outputs": [
    {
     "name": "stderr",
     "output_type": "stream",
     "text": [
      "100%|██████████| 1015/1015 [01:59<00:00,  8.50it/s]\n"
     ]
    }
   ],
   "source": [
    "for this_type, this_df in tqdm(subjects_with_wordnet.group_by(\"type\"), total=n_groups):\n",
    "    clean_type = clean_string(this_type)\n",
    "    joined_df = df_facts.join(this_df.select(pl.col(\"subject\", \"type\")), on=\"subject\")\n",
    "    if len(joined_df) == 0:\n",
    "        continue\n",
    "    base_df = joined_df.select(pl.col(\"subject\").unique()).lazy()\n",
    "    for idx, grp in joined_df.group_by(by=[\"predicate\"]):\n",
    "        this_predicate = clean_string(idx[0])\n",
    "        grp = (\n",
    "            grp.group_by(\"subject\")\n",
    "            .head(max_fields)\n",
    "            .select(pl.col(\"subject\", \"cat_object\"))\n",
    "            .rename({\"cat_object\": this_predicate})\n",
    "        )\n",
    "        try:\n",
    "            # Try to convert column to numerical\n",
    "            grp = grp.with_columns(pl.col(this_predicate).cast(pl.Float64))\n",
    "        except pl.ComputeError:\n",
    "            # Column is not numerical, do nothing\n",
    "            pass\n",
    "        grp = grp.lazy()\n",
    "        base_df = base_df.join(grp, on=\"subject\", how=\"left\")\n",
    "    base_df = base_df.rename({\"subject\": clean_type})\n",
    "    df_name = f\"wordnet_vldb-{clean_type}.parquet\"\n",
    "    base_df = base_df.collect()\n",
    "    if len(base_df) > 0:\n",
    "        base_df.write_parquet(Path(dest_path, df_name))"
   ]
  },
  {
   "cell_type": "markdown",
   "metadata": {},
   "source": [
    "## Profile base tables"
   ]
  },
  {
   "cell_type": "code",
   "execution_count": 5,
   "metadata": {},
   "outputs": [],
   "source": [
    "max_fields = 2\n",
    "dest_path = Path(\"data/yago3-dl/wordnet_vldb\")"
   ]
  },
  {
   "cell_type": "code",
   "execution_count": 10,
   "metadata": {},
   "outputs": [],
   "source": [
    "list_stats = []\n",
    "for path in Path(dest_path).glob(\"*.parquet\"):\n",
    "    this_df = pl.read_parquet(path)\n",
    "    rows, cols = this_df.shape\n",
    "    n_num = this_df.select(cs.numeric()).shape[1]\n",
    "    c_num = this_df.select(~cs.numeric()).shape[1]\n",
    "\n",
    "    list_stats.append(\n",
    "        {\n",
    "            \"rows\": rows,\n",
    "            \"cols\": cols,\n",
    "            \"n_num\": n_num,\n",
    "            \"c_num\": c_num,\n",
    "            \"size\": path.stat().st_size\n",
    "        }\n",
    "    )\n",
    "df_stats = pl.from_dicts(list_stats)"
   ]
  },
  {
   "cell_type": "code",
   "execution_count": 17,
   "metadata": {},
   "outputs": [
    {
     "data": {
      "text/html": [
       "<div><style>\n",
       ".dataframe > thead > tr,\n",
       ".dataframe > tbody > tr {\n",
       "  text-align: right;\n",
       "  white-space: pre-wrap;\n",
       "}\n",
       "</style>\n",
       "<small>shape: (1, 1)</small><table border=\"1\" class=\"dataframe\"><thead><tr><th>avg_size</th></tr><tr><td>f64</td></tr></thead><tbody><tr><td>2.08772</td></tr></tbody></table></div>"
      ],
      "text/plain": [
       "shape: (1, 1)\n",
       "┌──────────┐\n",
       "│ avg_size │\n",
       "│ ---      │\n",
       "│ f64      │\n",
       "╞══════════╡\n",
       "│ 2.08772  │\n",
       "└──────────┘"
      ]
     },
     "execution_count": 17,
     "metadata": {},
     "output_type": "execute_result"
    }
   ],
   "source": [
    "df_stats.filter((pl.col(\"rows\") > 100) & (pl.col(\"cols\") > 8)).with_columns(\n",
    "    (pl.col(\"rows\")*pl.col(\"cols\")).alias(\"cells\"),\n",
    ").with_columns(\n",
    "    (pl.col(\"size\")/pl.col(\"cells\")).alias(\"avg_size\")\n",
    ").select(pl.col(\"avg_size\").mean())"
   ]
  },
  {
   "cell_type": "code",
   "execution_count": 20,
   "metadata": {},
   "outputs": [
    {
     "data": {
      "text/plain": [
       "4760000.0"
      ]
     },
     "execution_count": 20,
     "metadata": {},
     "output_type": "execute_result"
    }
   ],
   "source": [
    "220*9"
   ]
  },
  {
   "cell_type": "code",
   "execution_count": 28,
   "metadata": {},
   "outputs": [
    {
     "data": {
      "text/html": [
       "<div><style>\n",
       ".dataframe > thead > tr,\n",
       ".dataframe > tbody > tr {\n",
       "  text-align: right;\n",
       "  white-space: pre-wrap;\n",
       "}\n",
       "</style>\n",
       "<small>shape: (1, 3)</small><table border=\"1\" class=\"dataframe\"><thead><tr><th>rows</th><th>cols</th><th>len</th></tr><tr><td>f64</td><td>f64</td><td>u32</td></tr></thead><tbody><tr><td>1602.0</td><td>14.0</td><td>277</td></tr></tbody></table></div>"
      ],
      "text/plain": [
       "shape: (1, 3)\n",
       "┌────────┬──────┬─────┐\n",
       "│ rows   ┆ cols ┆ len │\n",
       "│ ---    ┆ ---  ┆ --- │\n",
       "│ f64    ┆ f64  ┆ u32 │\n",
       "╞════════╪══════╪═════╡\n",
       "│ 1602.0 ┆ 14.0 ┆ 277 │\n",
       "└────────┴──────┴─────┘"
      ]
     },
     "execution_count": 28,
     "metadata": {},
     "output_type": "execute_result"
    }
   ],
   "source": [
    "df_stats.filter(pl.col(\"cols\") > 8).select(\n",
    "    pl.col(\"rows\").median(),\n",
    "    pl.col(\"cols\").median(),\n",
    "    pl.len()\n",
    ")"
   ]
  },
  {
   "cell_type": "code",
   "execution_count": 30,
   "metadata": {},
   "outputs": [],
   "source": [
    "gen_byes=(277 * 1600 * 14 + 500 * 300 * 8)*2"
   ]
  },
  {
   "cell_type": "code",
   "execution_count": 35,
   "metadata": {},
   "outputs": [
    {
     "data": {
      "text/plain": [
       "104895"
      ]
     },
     "execution_count": 35,
     "metadata": {},
     "output_type": "execute_result"
    }
   ],
   "source": [
    "(277+500) * 135"
   ]
  },
  {
   "cell_type": "code",
   "execution_count": 34,
   "metadata": {},
   "outputs": [
    {
     "data": {
      "text/plain": [
       "135.0"
      ]
     },
     "execution_count": 34,
     "metadata": {},
     "output_type": "execute_result"
    }
   ],
   "source": [
    "2e9//gen_byes"
   ]
  },
  {
   "cell_type": "code",
   "execution_count": 14,
   "metadata": {},
   "outputs": [
    {
     "data": {
      "text/html": [
       "<div><style>\n",
       ".dataframe > thead > tr,\n",
       ".dataframe > tbody > tr {\n",
       "  text-align: right;\n",
       "  white-space: pre-wrap;\n",
       "}\n",
       "</style>\n",
       "<small>shape: (1, 2)</small><table border=\"1\" class=\"dataframe\"><thead><tr><th>mean</th><th>median</th></tr><tr><td>f64</td><td>f64</td></tr></thead><tbody><tr><td>8.195627</td><td>6.0</td></tr></tbody></table></div>"
      ],
      "text/plain": [
       "shape: (1, 2)\n",
       "┌──────────┬────────┐\n",
       "│ mean     ┆ median │\n",
       "│ ---      ┆ ---    │\n",
       "│ f64      ┆ f64    │\n",
       "╞══════════╪════════╡\n",
       "│ 8.195627 ┆ 6.0    │\n",
       "└──────────┴────────┘"
      ]
     },
     "execution_count": 14,
     "metadata": {},
     "output_type": "execute_result"
    }
   ],
   "source": [
    "df_stats.select(pl.col(\"cols\").mean().alias(\"mean\"),pl.col(\"cols\").median().alias(\"median\"),)"
   ]
  },
  {
   "cell_type": "markdown",
   "metadata": {},
   "source": [
    "## Build subtables"
   ]
  },
  {
   "cell_type": "code",
   "execution_count": 19,
   "metadata": {},
   "outputs": [],
   "source": [
    "def generate_table(table, col_comb, subject):\n",
    "    selected_ = subject + list(col_comb)\n",
    "    new_df = table.select(selected_).filter(\n",
    "        pl.any_horizontal(pl.col(col_comb).is_not_null())\n",
    "    )\n",
    "    return new_df"
   ]
  },
  {
   "cell_type": "code",
   "execution_count": 22,
   "metadata": {},
   "outputs": [],
   "source": [
    "def generate_batch(\n",
    "    target_columns,\n",
    "    base_table,\n",
    "    table_name,\n",
    "    dest_path,\n",
    "    subject,\n",
    "    case,\n",
    "    resample=False,\n",
    "    sample_fraction=0.7,\n",
    "    n_resample=2, \n",
    "    min_occurrences=100,\n",
    "    limit_break=50,\n",
    "    gen_break=10,\n",
    "):\n",
    "    dest_path = Path(base_path, table_name)\n",
    "    break_counter = 0\n",
    "    gen_counter = 0\n",
    "    good_comb = set()\n",
    "    bad_comb = set()\n",
    "    while break_counter < limit_break and gen_counter < gen_break:\n",
    "        comb = random.sample(target_columns, k=random.randint(1, len(target_columns)))\n",
    "        comb = tuple(comb)\n",
    "        if (comb not in good_comb) and (comb not in bad_comb):\n",
    "            table = generate_table(base_table, comb, subject)\n",
    "            if len(table) > min_occurrences:\n",
    "                good_comb.add(comb)\n",
    "                gen_counter += 1\n",
    "                fname = (\n",
    "                    table_name\n",
    "                    + \"-\"\n",
    "                    + str(murmurhash3_32(\"-\".join(comb[:])))\n",
    "                    + case\n",
    "                    + \".parquet\"\n",
    "                )\n",
    "                destination_path = Path(dest_path, fname)\n",
    "                table.write_parquet(destination_path)\n",
    "                if resample:\n",
    "                    for sample_counter in range(n_resample):\n",
    "                        resampled_table = table.sample(fraction=sample_fraction)\n",
    "                        fname = (\n",
    "                            table_name\n",
    "                            + \"-\"\n",
    "                            + str(murmurhash3_32(\"-\".join(comb[:])))\n",
    "                            + \"-\"\n",
    "                            + str(sample_counter)\n",
    "                            + \"-\"\n",
    "                            + case\n",
    "                            + \".parquet\"\n",
    "                        )\n",
    "                        destination_path = Path(dest_path, fname)\n",
    "                        resampled_table.write_parquet(destination_path)\n",
    "            else:\n",
    "                bad_comb.add(comb)\n",
    "                break_counter += 1\n",
    "        else:\n",
    "            break_counter += 1"
   ]
  },
  {
   "cell_type": "code",
   "execution_count": 50,
   "metadata": {},
   "outputs": [],
   "source": [
    "base_path = Path(\"data/yadl/wordnet_vldb\")\n",
    "comb_size = 2\n",
    "min_occurrences = 50\n",
    "total_ = sum(1 for _ in base_path.glob(\"*.parquet\"))\n",
    "limit_break = 100\n",
    "gen_break = 50\n",
    "n_resample = 2\n",
    "sample_fraction = 0.7\n",
    "resample = False\n",
    "\n",
    "bc = 0\n"
   ]
  },
  {
   "cell_type": "code",
   "execution_count": null,
   "metadata": {},
   "outputs": [],
   "source": [
    "for pth in tqdm(base_path.glob(\"*.parquet\"), total=total_):\n",
    "    table_name = pth.stem\n",
    "\n",
    "    tgt_table = pl.read_parquet(pth)\n",
    "    n_rows, n_cols = tgt_table.shape\n",
    "    n_cols -= 1  # Not counting column `subject`\n",
    "\n",
    "    subject = [tgt_table.columns[0]]\n",
    "    target_columns = tgt_table.columns[1:]\n",
    "\n",
    "    num_columns = tgt_table.select(cs.numeric()).columns\n",
    "    cat_columns = [_ for _ in tgt_table.select(~cs.numeric()).columns if _ != \"subject\"]\n",
    "\n",
    "    if n_rows == 0:\n",
    "        continue\n",
    "\n",
    "    dest_path = Path(base_path, table_name)\n",
    "    os.makedirs(dest_path, exist_ok=True)\n",
    "\n",
    "    # # All columns\n",
    "    generate_batch(\n",
    "        target_columns,\n",
    "        tgt_table,\n",
    "        table_name,\n",
    "        subject,\n",
    "        \"\",\n",
    "        min_occurrences,\n",
    "        limit_break=limit_break,\n",
    "        gen_break=gen_break,\n",
    "    )\n",
    "\n",
    "    # Numerical columns\n",
    "    if len(num_columns) >= 2:\n",
    "        # print(table_name)\n",
    "        generate_batch(\n",
    "            num_columns,\n",
    "            tgt_table,\n",
    "            subject,\n",
    "            \"num\",\n",
    "            min_occurrences,\n",
    "            limit_break=limit_break,\n",
    "            gen_break=gen_break,\n",
    "        )"
   ]
  },
  {
   "cell_type": "code",
   "execution_count": null,
   "metadata": {},
   "outputs": [],
   "source": []
  }
 ],
 "metadata": {
  "kernelspec": {
   "display_name": "Python 3",
   "language": "python",
   "name": "python3"
  },
  "language_info": {
   "codemirror_mode": {
    "name": "ipython",
    "version": 3
   },
   "file_extension": ".py",
   "mimetype": "text/x-python",
   "name": "python",
   "nbconvert_exporter": "python",
   "pygments_lexer": "ipython3",
   "version": "3.10.0"
  }
 },
 "nbformat": 4,
 "nbformat_minor": 2
}
